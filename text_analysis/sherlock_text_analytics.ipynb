{
 "cells": [
  {
   "cell_type": "markdown",
   "metadata": {},
   "source": [
    "# Elementary, My Dear Watson!\n",
    "# Text Analytics Tutorial using Sherlock Holmes Stories"
   ]
  },
  {
   "cell_type": "markdown",
   "metadata": {},
   "source": [
    "In this notebook, I will demonstrate several text analytics techniques that can be used to analyze various text corpora in order to extract various interesting insights from the text. \n",
    "Namely, throughout this notebook, I will use [The Sherlock Holmes Books Collection](https://sherlock-holm.es/) to show how to (a) calculate various textual statistics; (b) create the social network among entities that appear in the books; (c) use a topic model to discover abstract topics in the text; and (d) utilize Word2Vec to find connections among various section of the text, and do some predictions.\n",
    "\n",
    "To perform the text analytics presented in this notebook, we will use [NLTK](http://www.nltk.org/) Python package, [GraphLab Create's](https://turi.com/products/create/) [SFrame](https://turi.com/products/create/docs/generated/graphlab.SFrame.html) and [SGraph](https://turi.com/products/create/docs/generated/graphlab.SGraph.html) objects, as well as GraphLab's [text analytics toolkit](https://turi.com/products/create/docs/graphlab.toolkits.text_analytics.html), and\n",
    "[Word2Vec](https://code.google.com/p/word2vec/) deep learning inspired model implemented in the [Gensim](http://radimrehurek.com/gensim/models/word2vec.html) Python package.\n",
    "\n",
    "\n",
    "The notebook is divided to the following sections:\n",
    "- <a href=\"#setup\">Setup</a>\n",
    "- <a href=\"#prepare\">Preparing and validating the dataset</a>\n",
    "- <a href=\"#stat\">Calculating Various Statistics</a>\n",
    "- <a href=\"#sn\">Constructing Social Networks</a>\n",
    "- <a href=\"#topic\">Topic Models</a>\n",
    "\n",
    "Each section can be executed independently. So feel free to skip ahead, just remember  to import all the required packages, and define all the needed functions.\n",
    "\n",
    "Required Python Packages:\n",
    "- [GraphLab Create](https://turi.com/products/create/quick-start-guide.html) - for classification, data.\n",
    "- [NLTK](http://www.nltk.org/) (including downloading [punkt](http://www.nltk.org/data.html)).\n",
    "- [Stanford Named Entity Recognizer](http://nlp.stanford.edu/software/CRF-NER.shtml) - for named entity recognition. \n",
    "- [Gensim](https://radimrehurek.com/gensim/) - for Word2Vec deep learning.\n",
    " engineering, and evaluation.\n",
    "- [pyLDAvis](https://github.com/bmabey/pyLDAvis) - for topic model visualziation. \n",
    "\n",
    "Let's do some text analytics!"
   ]
  },
  {
   "cell_type": "markdown",
   "metadata": {},
   "source": [
    "## <a id=\"setup\"></a>0. Setup"
   ]
  },
  {
   "cell_type": "markdown",
   "metadata": {},
   "source": [
    "Before we begin, make sure you have installed all the required Python packages. (The instructions below use pip. You can use easy_install, too.) Also, consider using [virtualenv](https://virtualenv.pypa.io/en/latest/) for a cleaner installation experience instead of sudo. I also recommend to run the code via [IPython Notebook](http://ipython.org/notebook.html)."
   ]
  },
  {
   "cell_type": "markdown",
   "metadata": {},
   "source": [
    "<pre>\n",
    "$ sudo pip install --upgrade gensim\n",
    "$ sudo pip install --upgrade nltk\n",
    "$ sudo pip install --upgrade graphlab-create\n",
    "$ sudo pip install --upgrade pyldavis\n",
    "</pre>"
   ]
  },
  {
   "cell_type": "markdown",
   "metadata": {},
   "source": [
    "You will need [a product key for GraphLab Create](https://turi.com/products/create/quick-start-guide.html), and to make [Stanford Named Entity Recognizer work with Pyhton NLTK](http://textminingonline.com/how-to-use-stanford-named-entity-recognizer-ner-in-python-nltk-and-other-programming-languages).\n",
    "\n",
    "After installing NLTK and from an interactive shell download the punkt model by importing nltk and running nltk.download(). From the resulting interactive window navigate to the model tab and select punkt and download to your system. \n",
    "\n",
    "To prepare the Stanford Named Entity Recognizer to work in your system make sure you read the following links : \n",
    "[1 - How to] (http://textminingonline.com/how-to-use-stanford-named-entity-recognizer-ner-in-python-nltk-and-other-programming-languages)\n",
    "[2 - API] (http://www.nltk.org/api/nltk.tag.html#module-nltk.tag.stanford)\n",
    "[3 - Stanford Parser FAQ] (http://nlp.stanford.edu/software/parser-faq.shtml)\n",
    "[4 - download] (http://nlp.stanford.edu/software/CRF-NER.html)\n",
    "5 - In the extracted directory it seems to help to run the stanford-ner.jar file in some computer configurations. \n",
    "\n",
    "Take note of what directory you downloaded and extracted the files to as you will need the location to pass the classifier and Stanford NER as arguments later in this notebook.\n",
    "\n",
    "Also in case you haven’t already, make sure you are running the latest [Java JDK] (http://www.oracle.com/technetwork/java/javase/downloads/index.html)\n",
    "\n",
    "For a quick test you can open an ipython shell and try the following:\n",
    "\n",
    "from nltk.tag import StanfordNERTagger\n",
    "st = StanfordNERTagger(‘[path_to_your_downloaded_package_classifiers_directory]/english.all.3class.distsim.crf.ser.gz', '[path_to_your_downloaded_package_root_directory]/stanford-ner.jar')\n",
    " st.tag('When we turned him over, the Boots recognized him at once as being the same gentleman who had engaged the room under the name of Joseph Stangerson.'.split())\n",
    "\n"
   ]
  },
  {
   "cell_type": "markdown",
   "metadata": {},
   "source": [
    "## <a id=\"prepare\"></a>1. Preparing the Dataset"
   ]
  },
  {
   "cell_type": "markdown",
   "metadata": {},
   "source": [
    "### 1.1 Constructing the Dataset"
   ]
  },
  {
   "cell_type": "markdown",
   "metadata": {},
   "source": [
    "<pre>\n",
    "<i>\"Data! Data! Data!\" he cried impatiently. \"I can't make bricks without clay.\"</i>\n",
    "                                                -The Adventure of the Copper Beeches\n",
    "</pre>"
   ]
  },
  {
   "cell_type": "markdown",
   "metadata": {},
   "source": [
    "Throughout this notebook, we will be analyzing Sherlock Holmes's stories collection. \n",
    "So first, we will download the stories in ASCII format from the [sherlock-holm.es website](https://sherlock-holm.es/). \n",
    "sherlock-holm.es website contains over sixty downloadable stories, we will use the following code to download the stories and insert them into a SFrame object.\n",
    "\n",
    "<b> <u>Important Note:</u></b> in some countries, such as the U.S., few of Sherlock Holmes's books & stories are still under copyright restrictions. For more information, please advise the following [website](http://www.sherlockian.net/acd/copyright.html), and read the guidelines that appear in the end of [sherlock-holm.es ASCII](https://sherlock-holm.es/ascii/) download page. "
   ]
  },
  {
   "cell_type": "code",
   "execution_count": 1,
   "metadata": {
    "collapsed": false
   },
   "outputs": [
    {
     "name": "stdout",
     "output_type": "stream",
     "text": [
      "[{'link': '/stories/plain-text/cano.txt', 'title': 'The Complete Canon'}, {'link': '/stories/plain-text/cnus.txt', 'title': 'The Canon \\xe2\\x80\\x94 U.S. edition'}, {'link': '/stories/plain-text/advs.txt', 'title': 'The Adventures of Sherlock Holmes'}, {'link': '/stories/plain-text/mems.txt', 'title': 'The Memoirs of Sherlock Holmes'}, {'link': '/stories/plain-text/retn.txt', 'title': 'The Return of Sherlock Holmes'}, {'link': '/stories/plain-text/lstb.txt', 'title': 'His Last Bow'}, {'link': '/stories/plain-text/case.txt', 'title': 'The Case-Book of Sherlock Holmes'}, {'link': '/stories/plain-text/stud.txt', 'title': 'A Study In Scarlet'}, {'link': '/stories/plain-text/sign.txt', 'title': 'The Sign of the Four'}, {'link': '/stories/plain-text/houn.txt', 'title': 'The Hound of the Baskervilles'}, {'link': '/stories/plain-text/vall.txt', 'title': 'The Valley of Fear'}, {'link': '/stories/plain-text/scan.txt', 'title': 'A Scandal in Bohemia'}, {'link': '/stories/plain-text/redh.txt', 'title': 'The Red-Headed League'}, {'link': '/stories/plain-text/iden.txt', 'title': 'A Case of Identity'}, {'link': '/stories/plain-text/bosc.txt', 'title': 'The Boscombe Valley Mystery'}, {'link': '/stories/plain-text/five.txt', 'title': 'The Five Orange Pips'}, {'link': '/stories/plain-text/twis.txt', 'title': 'The Man with the Twisted Lip'}, {'link': '/stories/plain-text/blue.txt', 'title': 'The Adventure of the Blue Carbuncle'}, {'link': '/stories/plain-text/spec.txt', 'title': 'The Adventure of the Speckled Band'}, {'link': '/stories/plain-text/engr.txt', 'title': \"The Adventure of the Engineer's Thumb\"}, {'link': '/stories/plain-text/nobl.txt', 'title': 'The Adventure of the Noble Bachelor'}, {'link': '/stories/plain-text/bery.txt', 'title': 'The Adventure of the Beryl Coronet'}, {'link': '/stories/plain-text/copp.txt', 'title': 'The Adventure of the Copper Beeches'}, {'link': '/stories/plain-text/silv.txt', 'title': 'Silver Blaze'}, {'link': '/stories/plain-text/yell.txt', 'title': 'Yellow Face'}, {'link': '/stories/plain-text/stoc.txt', 'title': \"The Stockbroker's Clerk\"}, {'link': '/stories/plain-text/glor.txt', 'title': 'The \\xe2\\x80\\x9cGloria Scott\\xe2\\x80\\x9d'}, {'link': '/stories/plain-text/musg.txt', 'title': 'The Musgrave Ritual'}, {'link': '/stories/plain-text/reig.txt', 'title': 'The Reigate Puzzle'}, {'link': '/stories/plain-text/croo.txt', 'title': 'The Crooked Man'}, {'link': '/stories/plain-text/resi.txt', 'title': 'The Resident Patient'}, {'link': '/stories/plain-text/gree.txt', 'title': 'The Greek Interpreter'}, {'link': '/stories/plain-text/nava.txt', 'title': 'The Naval Treaty'}, {'link': '/stories/plain-text/fina.txt', 'title': 'The Final Problem'}, {'link': '/stories/plain-text/empt.txt', 'title': 'The Empty House'}, {'link': '/stories/plain-text/norw.txt', 'title': 'The Norwood Builder'}, {'link': '/stories/plain-text/danc.txt', 'title': 'The Dancing Men'}, {'link': '/stories/plain-text/soli.txt', 'title': 'The Solitary Cyclist'}, {'link': '/stories/plain-text/prio.txt', 'title': 'The Priory School'}, {'link': '/stories/plain-text/blac.txt', 'title': 'Black Peter'}, {'link': '/stories/plain-text/chas.txt', 'title': 'Charles Augustus Milverton'}, {'link': '/stories/plain-text/sixn.txt', 'title': 'The Six Napoleons'}, {'link': '/stories/plain-text/3stu.txt', 'title': 'The Three Students'}, {'link': '/stories/plain-text/gold.txt', 'title': 'The Golden Pince-Nez'}, {'link': '/stories/plain-text/miss.txt', 'title': 'The Missing Three-Quarter'}, {'link': '/stories/plain-text/abbe.txt', 'title': 'The Abbey Grange'}, {'link': '/stories/plain-text/seco.txt', 'title': 'The Second Stain'}, {'link': '/stories/plain-text/wist.txt', 'title': 'Wisteria Lodge'}, {'link': '/stories/plain-text/card.txt', 'title': 'The Cardboard Box'}, {'link': '/stories/plain-text/redc.txt', 'title': 'The Red Circle'}, {'link': '/stories/plain-text/bruc.txt', 'title': 'The Bruce-Partington Plans'}, {'link': '/stories/plain-text/dyin.txt', 'title': 'The Dying Detective'}, {'link': '/stories/plain-text/lady.txt', 'title': 'Lady Frances Carfax'}, {'link': '/stories/plain-text/devi.txt', 'title': \"The Devil's Foot\"}, {'link': '/stories/plain-text/last.txt', 'title': 'His Last Bow'}, {'link': '/stories/plain-text/illu.txt', 'title': 'The Illustrious Client'}, {'link': '/stories/plain-text/blan.txt', 'title': 'The Blanched Soldier'}, {'link': '/stories/plain-text/maza.txt', 'title': 'The Mazarin Stone'}, {'link': '/stories/plain-text/3gab.txt', 'title': 'The Three Gables'}, {'link': '/stories/plain-text/suss.txt', 'title': 'The Sussex Vampire'}, {'link': '/stories/plain-text/3gar.txt', 'title': 'The Three Garridebs'}, {'link': '/stories/plain-text/thor.txt', 'title': 'Thor Bridge'}, {'link': '/stories/plain-text/cree.txt', 'title': 'The Creeping Man'}, {'link': '/stories/plain-text/lion.txt', 'title': \"The Lion's Mane\"}, {'link': '/stories/plain-text/veil.txt', 'title': 'The Veiled Lodger'}, {'link': '/stories/plain-text/shos.txt', 'title': 'Shoscombe Old Place'}, {'link': '/stories/plain-text/reti.txt', 'title': 'The Retired Colourman'}]\n"
     ]
    }
   ],
   "source": [
    "import re\n",
    "import urllib2\n",
    "import graphlab as gl\n",
    "\n",
    "# NOTE: Update BASE_DIR to your own directory path\n",
    "BASE_DIR = \"~/repos/statistics-indonesia-python/text_analysis/data\" \n",
    "\n",
    "books_url = \"http://sherlock-holm.es/ascii/\"\n",
    "re_books_links = re.compile(\"\\\"piwik_download\\\"\\s+href=\\\"(?P<link>.*?)\\\">(?P<title>.*?)</a>\", re.MULTILINE)\n",
    "html = urllib2.urlopen(books_url).read()\n",
    "books_list = [m.groupdict() for m in re_books_links.finditer(html)]\n",
    "print books_list"
   ]
  },
  {
   "cell_type": "markdown",
   "metadata": {},
   "source": [
    "We got the books' titles and links, now let's download the books' texts. "
   ]
  },
  {
   "cell_type": "code",
   "execution_count": 2,
   "metadata": {
    "collapsed": false
   },
   "outputs": [],
   "source": [
    "# Filter books due to copyright issues. In this code, we filtered \"The Complete Canon\", “Case-Book of Sherlock Holmes” books, and\n",
    "# \"The Canon — U.S. edition\" book (For more information please read the note above).\n",
    "filtered_books = set([\"The Complete Canon\", \"The Case-Book of Sherlock Holmes\", \"The Canon — U.S. edition\" ])\n",
    "books_list = filter(lambda d: d['title'] not in filtered_books, books_list )\n",
    "\n",
    "#Download books' texts (to not overload the website we download the text in batch and not in parallel)\n",
    "for d in books_list:\n",
    "    d['text'] = urllib2.urlopen(\"http://sherlock-holm.es\" + d['link']).read().strip()"
   ]
  },
  {
   "cell_type": "markdown",
   "metadata": {},
   "source": [
    "Let's load the dict list into a SFrame object."
   ]
  },
  {
   "cell_type": "code",
   "execution_count": 3,
   "metadata": {
    "collapsed": false
   },
   "outputs": [
    {
     "name": "stderr",
     "output_type": "stream",
     "text": [
      "[INFO] graphlab.cython.cy_server: GraphLab Create v2.1 started. Logging: /tmp/graphlab_server_1469826864.log\n"
     ]
    },
    {
     "name": "stdout",
     "output_type": "stream",
     "text": [
      "This non-commercial license of GraphLab Create for academic use is assigned to kpolimis@u.washington.edu and will expire on July 29, 2017.\n"
     ]
    },
    {
     "data": {
      "text/html": [
       "<div style=\"max-height:1000px;max-width:1500px;overflow:auto;\"><table frame=\"box\" rules=\"cols\">\n",
       "    <tr>\n",
       "        <th style=\"padding-left: 1em; padding-right: 1em; text-align: center\">link</th>\n",
       "        <th style=\"padding-left: 1em; padding-right: 1em; text-align: center\">text</th>\n",
       "        <th style=\"padding-left: 1em; padding-right: 1em; text-align: center\">title</th>\n",
       "    </tr>\n",
       "    <tr>\n",
       "        <td style=\"padding-left: 1em; padding-right: 1em; text-align: center; vertical-align: top\">/stories/plain-<br>text/advs.txt ...</td>\n",
       "        <td style=\"padding-left: 1em; padding-right: 1em; text-align: center; vertical-align: top\">THE ADVENTURES OF<br>SHERLOCK HOLMES\\n\\n ...</td>\n",
       "        <td style=\"padding-left: 1em; padding-right: 1em; text-align: center; vertical-align: top\">The Adventures of<br>Sherlock Holmes ...</td>\n",
       "    </tr>\n",
       "    <tr>\n",
       "        <td style=\"padding-left: 1em; padding-right: 1em; text-align: center; vertical-align: top\">/stories/plain-<br>text/mems.txt ...</td>\n",
       "        <td style=\"padding-left: 1em; padding-right: 1em; text-align: center; vertical-align: top\">THE MEMOIRS OF SHERLOCK<br>HOLMES\\n\\n ...</td>\n",
       "        <td style=\"padding-left: 1em; padding-right: 1em; text-align: center; vertical-align: top\">The Memoirs of Sherlock<br>Holmes ...</td>\n",
       "    </tr>\n",
       "    <tr>\n",
       "        <td style=\"padding-left: 1em; padding-right: 1em; text-align: center; vertical-align: top\">/stories/plain-<br>text/retn.txt ...</td>\n",
       "        <td style=\"padding-left: 1em; padding-right: 1em; text-align: center; vertical-align: top\">THE RETURN OF SHERLOCK<br>HOLMES\\n\\n ...</td>\n",
       "        <td style=\"padding-left: 1em; padding-right: 1em; text-align: center; vertical-align: top\">The Return of Sherlock<br>Holmes ...</td>\n",
       "    </tr>\n",
       "</table>\n",
       "[3 rows x 3 columns]<br/>\n",
       "</div>"
      ],
      "text/plain": [
       "Columns:\n",
       "\tlink\tstr\n",
       "\ttext\tstr\n",
       "\ttitle\tstr\n",
       "\n",
       "Rows: 3\n",
       "\n",
       "Data:\n",
       "+------------------------------+-------------------------------+\n",
       "|             link             |              text             |\n",
       "+------------------------------+-------------------------------+\n",
       "| /stories/plain-text/advs.txt | THE ADVENTURES OF SHERLOCK... |\n",
       "| /stories/plain-text/mems.txt | THE MEMOIRS OF SHERLOCK HO... |\n",
       "| /stories/plain-text/retn.txt | THE RETURN OF SHERLOCK HOL... |\n",
       "+------------------------------+-------------------------------+\n",
       "+--------------------------------+\n",
       "|             title              |\n",
       "+--------------------------------+\n",
       "| The Adventures of Sherlock...  |\n",
       "| The Memoirs of Sherlock Holmes |\n",
       "| The Return of Sherlock Holmes  |\n",
       "+--------------------------------+\n",
       "[3 rows x 3 columns]"
      ]
     },
     "execution_count": 3,
     "metadata": {},
     "output_type": "execute_result"
    }
   ],
   "source": [
    "sf = gl.SFrame(books_list).unpack(\"X1\", column_name_prefix=\"\")\n",
    "sf.save(\"%s/books.sframe\" % BASE_DIR)\n",
    "sf.head(3)"
   ]
  },
  {
   "cell_type": "markdown",
   "metadata": {},
   "source": [
    "## <a id=\"stat\"></a>2. Calculating Various Statistics"
   ]
  },
  {
   "cell_type": "markdown",
   "metadata": {},
   "source": [
    "In this section, I will demonstrate  how it is very straight-forward to utilize GraphLab Create SFrame object to calculate & visualize various statistics.\n",
    "\n",
    "In previous section, we created a SFrame object which consists of 64 texts. Let us first load the SFrame object."
   ]
  },
  {
   "cell_type": "code",
   "execution_count": 4,
   "metadata": {
    "collapsed": false
   },
   "outputs": [],
   "source": [
    "import graphlab as gl\n",
    "import re\n",
    "\n",
    "# NOTE: Update BASE_DIR to your own directory path\n",
    "BASE_DIR = \"~/repos/statistics-indonesia-python/text_analysis/data\" \n",
    "gl.canvas.set_target('ipynb')\n",
    "sf = gl.load_sframe(\"%s\\\\books.sframe\" % BASE_DIR)"
   ]
  },
  {
   "cell_type": "markdown",
   "metadata": {},
   "source": [
    "Using Python, it is very easy to calculate the number of characters  in a text, we just need to use the built-in [len function](https://docs.python.org/2/library/functions.html#len). Let's calculate the number of characters  in each downloaded text using the the <i>len</i> function and SArray's [<i>apply</i> function](https://turi.com/products/create/docs/generated/graphlab.SArray.apply.html#graphlab.SArray.apply) (notice that each column in a [SFrame object](https://turi.com/products/create/docs/generated/graphlab.SFrame.html) is a [SArray object](https://turi.com/products/create/docs/generated/graphlab.SArray.html?highlight=sarray))."
   ]
  },
  {
   "cell_type": "code",
   "execution_count": 5,
   "metadata": {
    "collapsed": false
   },
   "outputs": [
    {
     "data": {
      "text/html": [
       "<div style=\"max-height:1000px;max-width:1500px;overflow:auto;\"><table frame=\"box\" rules=\"cols\">\n",
       "    <tr>\n",
       "        <th style=\"padding-left: 1em; padding-right: 1em; text-align: center\">link</th>\n",
       "        <th style=\"padding-left: 1em; padding-right: 1em; text-align: center\">text</th>\n",
       "        <th style=\"padding-left: 1em; padding-right: 1em; text-align: center\">title</th>\n",
       "        <th style=\"padding-left: 1em; padding-right: 1em; text-align: center\">chars_num</th>\n",
       "    </tr>\n",
       "    <tr>\n",
       "        <td style=\"padding-left: 1em; padding-right: 1em; text-align: center; vertical-align: top\">/stories/plain-<br>text/advs.txt ...</td>\n",
       "        <td style=\"padding-left: 1em; padding-right: 1em; text-align: center; vertical-align: top\">THE ADVENTURES OF<br>SHERLOCK HOLMES\\n\\n ...</td>\n",
       "        <td style=\"padding-left: 1em; padding-right: 1em; text-align: center; vertical-align: top\">The Adventures of<br>Sherlock Holmes ...</td>\n",
       "        <td style=\"padding-left: 1em; padding-right: 1em; text-align: center; vertical-align: top\">610886</td>\n",
       "    </tr>\n",
       "    <tr>\n",
       "        <td style=\"padding-left: 1em; padding-right: 1em; text-align: center; vertical-align: top\">/stories/plain-<br>text/mems.txt ...</td>\n",
       "        <td style=\"padding-left: 1em; padding-right: 1em; text-align: center; vertical-align: top\">THE MEMOIRS OF SHERLOCK<br>HOLMES\\n\\n ...</td>\n",
       "        <td style=\"padding-left: 1em; padding-right: 1em; text-align: center; vertical-align: top\">The Memoirs of Sherlock<br>Holmes ...</td>\n",
       "        <td style=\"padding-left: 1em; padding-right: 1em; text-align: center; vertical-align: top\">511747</td>\n",
       "    </tr>\n",
       "    <tr>\n",
       "        <td style=\"padding-left: 1em; padding-right: 1em; text-align: center; vertical-align: top\">/stories/plain-<br>text/retn.txt ...</td>\n",
       "        <td style=\"padding-left: 1em; padding-right: 1em; text-align: center; vertical-align: top\">THE RETURN OF SHERLOCK<br>HOLMES\\n\\n ...</td>\n",
       "        <td style=\"padding-left: 1em; padding-right: 1em; text-align: center; vertical-align: top\">The Return of Sherlock<br>Holmes ...</td>\n",
       "        <td style=\"padding-left: 1em; padding-right: 1em; text-align: center; vertical-align: top\">662242</td>\n",
       "    </tr>\n",
       "</table>\n",
       "[3 rows x 4 columns]<br/>\n",
       "</div>"
      ],
      "text/plain": [
       "Columns:\n",
       "\tlink\tstr\n",
       "\ttext\tstr\n",
       "\ttitle\tstr\n",
       "\tchars_num\tint\n",
       "\n",
       "Rows: 3\n",
       "\n",
       "Data:\n",
       "+------------------------------+-------------------------------+\n",
       "|             link             |              text             |\n",
       "+------------------------------+-------------------------------+\n",
       "| /stories/plain-text/advs.txt | THE ADVENTURES OF SHERLOCK... |\n",
       "| /stories/plain-text/mems.txt | THE MEMOIRS OF SHERLOCK HO... |\n",
       "| /stories/plain-text/retn.txt | THE RETURN OF SHERLOCK HOL... |\n",
       "+------------------------------+-------------------------------+\n",
       "+--------------------------------+-----------+\n",
       "|             title              | chars_num |\n",
       "+--------------------------------+-----------+\n",
       "| The Adventures of Sherlock...  |   610886  |\n",
       "| The Memoirs of Sherlock Holmes |   511747  |\n",
       "| The Return of Sherlock Holmes  |   662242  |\n",
       "+--------------------------------+-----------+\n",
       "[3 rows x 4 columns]"
      ]
     },
     "execution_count": 5,
     "metadata": {},
     "output_type": "execute_result"
    }
   ],
   "source": [
    "sf['chars_num'] = sf['text'].apply(lambda t: len(t))\n",
    "sf.head(3)"
   ]
  },
  {
   "cell_type": "markdown",
   "metadata": {},
   "source": [
    "Let's use the [show function](https://turi.com/products/create/docs/generated/graphlab.SArray.show.html) to visualize  the distribution  of text length in each one of our downloaded text."
   ]
  },
  {
   "cell_type": "code",
   "execution_count": 6,
   "metadata": {
    "collapsed": false
   },
   "outputs": [
    {
     "data": {
      "application/javascript": [
       "$(\"head\").append($(\"<link/>\").attr({\n",
       "  rel:  \"stylesheet\",\n",
       "  type: \"text/css\",\n",
       "  href: \"//cdnjs.cloudflare.com/ajax/libs/font-awesome/4.1.0/css/font-awesome.min.css\"\n",
       "}));\n",
       "$(\"head\").append($(\"<link/>\").attr({\n",
       "  rel:  \"stylesheet\",\n",
       "  type: \"text/css\",\n",
       "  href: \"https://static.turi.com/products/graphlab-create/2.1/canvas/css/canvas.css\"\n",
       "}));\n",
       "\n",
       "            (function(){\n",
       "\n",
       "                var e = null;\n",
       "                if (typeof element == 'undefined') {\n",
       "                    var scripts = document.getElementsByTagName('script');\n",
       "                    var thisScriptTag = scripts[scripts.length-1];\n",
       "                    var parentDiv = thisScriptTag.parentNode;\n",
       "                    e = document.createElement('div');\n",
       "                    parentDiv.appendChild(e);\n",
       "                } else {\n",
       "                    e = element[0];\n",
       "                }\n",
       "\n",
       "                if (typeof requirejs !== 'undefined') {\n",
       "                    // disable load timeout; ipython_app.js is large and can take a while to load.\n",
       "                    requirejs.config({waitSeconds: 0});\n",
       "                }\n",
       "\n",
       "                require(['https://static.turi.com/products/graphlab-create/2.1/canvas/js/ipython_app.js'], function(IPythonApp){\n",
       "                    var app = new IPythonApp();\n",
       "                    app.attachView('sarray','Numeric', {\"ipython\": true, \"sketch\": {\"std\": 134594.53590457857, \"complete\": true, \"min\": 26234.0, \"max\": 662242.0, \"quantile\": [26234.0, 26234.0, 33400.0, 33400.0, 34513.0, 34709.0, 34709.0, 35907.0, 35973.0, 35973.0, 36435.0, 36798.0, 36798.0, 36830.0, 36830.0, 38779.0, 40212.0, 40212.0, 40305.0, 40445.0, 40445.0, 41651.0, 42184.0, 42184.0, 42457.0, 42624.0, 42624.0, 42936.0, 42936.0, 42947.0, 43391.0, 43391.0, 43688.0, 43821.0, 43821.0, 44698.0, 45342.0, 45342.0, 45461.0, 45461.0, 46241.0, 46317.0, 46317.0, 46409.0, 46441.0, 46441.0, 48044.0, 48477.0, 48477.0, 48521.0, 48931.0, 48931.0, 49254.0, 49254.0, 50194.0, 51396.0, 51396.0, 51745.0, 53030.0, 53030.0, 53342.0, 53938.0, 53938.0, 54142.0, 54142.0, 55229.0, 55886.0, 55886.0, 56223.0, 56690.0, 56690.0, 57280.0, 57470.0, 57470.0, 57536.0, 58039.0, 58039.0, 58042.0, 58042.0, 58358.0, 60289.0, 60289.0, 64945.0, 68260.0, 68260.0, 68476.0, 74759.0, 74759.0, 251814.0, 251814.0, 260051.0, 340223.0, 340223.0, 346404.0, 402296.0, 402296.0, 511747.0, 610886.0, 610886.0, 662242.0, 662242.0], \"median\": 48931.0, \"numeric\": true, \"num_unique\": 64, \"num_undefined\": 0, \"var\": 18115689095.368893, \"progress\": 1.0, \"size\": 64, \"frequent_items\": {\"42624\": {\"frequency\": 1, \"value\": 42624}, \"60289\": {\"frequency\": 1, \"value\": 60289}, \"511747\": {\"frequency\": 1, \"value\": 511747}, \"57280\": {\"frequency\": 1, \"value\": 57280}, \"35973\": {\"frequency\": 1, \"value\": 35973}, \"74759\": {\"frequency\": 1, \"value\": 74759}, \"48521\": {\"frequency\": 1, \"value\": 48521}, \"34709\": {\"frequency\": 1, \"value\": 34709}, \"50194\": {\"frequency\": 1, \"value\": 50194}, \"42947\": {\"frequency\": 1, \"value\": 42947}, \"40212\": {\"frequency\": 1, \"value\": 40212}, \"45461\": {\"frequency\": 1, \"value\": 45461}, \"44698\": {\"frequency\": 1, \"value\": 44698}, \"45342\": {\"frequency\": 1, \"value\": 45342}, \"56223\": {\"frequency\": 1, \"value\": 56223}, \"51745\": {\"frequency\": 1, \"value\": 51745}, \"48931\": {\"frequency\": 1, \"value\": 48931}, \"68260\": {\"frequency\": 1, \"value\": 68260}, \"251814\": {\"frequency\": 1, \"value\": 251814}, \"43688\": {\"frequency\": 1, \"value\": 43688}, \"33400\": {\"frequency\": 1, \"value\": 33400}, \"48044\": {\"frequency\": 1, \"value\": 48044}, \"43821\": {\"frequency\": 1, \"value\": 43821}, \"64945\": {\"frequency\": 1, \"value\": 64945}, \"53938\": {\"frequency\": 1, \"value\": 53938}, \"41651\": {\"frequency\": 1, \"value\": 41651}, \"36830\": {\"frequency\": 1, \"value\": 36830}, \"58039\": {\"frequency\": 1, \"value\": 58039}, \"42936\": {\"frequency\": 1, \"value\": 42936}, \"58042\": {\"frequency\": 1, \"value\": 58042}, \"55229\": {\"frequency\": 1, \"value\": 55229}, \"36798\": {\"frequency\": 1, \"value\": 36798}, \"57536\": {\"frequency\": 1, \"value\": 57536}, \"35907\": {\"frequency\": 1, \"value\": 35907}, \"51396\": {\"frequency\": 1, \"value\": 51396}, \"58358\": {\"frequency\": 1, \"value\": 58358}, \"610886\": {\"frequency\": 1, \"value\": 610886}, \"46241\": {\"frequency\": 1, \"value\": 46241}, \"42184\": {\"frequency\": 1, \"value\": 42184}, \"46409\": {\"frequency\": 1, \"value\": 46409}, \"55886\": {\"frequency\": 1, \"value\": 55886}, \"34513\": {\"frequency\": 1, \"value\": 34513}, \"260051\": {\"frequency\": 1, \"value\": 260051}, \"42457\": {\"frequency\": 1, \"value\": 42457}, \"48477\": {\"frequency\": 1, \"value\": 48477}, \"53342\": {\"frequency\": 1, \"value\": 53342}, \"662242\": {\"frequency\": 1, \"value\": 662242}, \"38779\": {\"frequency\": 1, \"value\": 38779}, \"53030\": {\"frequency\": 1, \"value\": 53030}, \"49254\": {\"frequency\": 1, \"value\": 49254}, \"46441\": {\"frequency\": 1, \"value\": 46441}, \"46317\": {\"frequency\": 1, \"value\": 46317}, \"40305\": {\"frequency\": 1, \"value\": 40305}, \"56690\": {\"frequency\": 1, \"value\": 56690}, \"36435\": {\"frequency\": 1, \"value\": 36435}, \"57470\": {\"frequency\": 1, \"value\": 57470}, \"346404\": {\"frequency\": 1, \"value\": 346404}, \"402296\": {\"frequency\": 1, \"value\": 402296}, \"26234\": {\"frequency\": 1, \"value\": 26234}, \"340223\": {\"frequency\": 1, \"value\": 340223}, \"68476\": {\"frequency\": 1, \"value\": 68476}, \"40445\": {\"frequency\": 1, \"value\": 40445}, \"54142\": {\"frequency\": 1, \"value\": 54142}, \"43391\": {\"frequency\": 1, \"value\": 43391}}, \"mean\": 95020.42187499999}, \"selected_variable\": {\"name\": [\"<SArray>\"], \"dtype\": \"int\", \"view_component\": \"Numeric\", \"view_file\": \"sarray\", \"descriptives\": {\"rows\": 64}, \"type\": \"SArray\", \"view_components\": [\"Numeric\", \"Categorical\"]}, \"histogram\": {\"progress\": 1.0, \"histogram\": {\"max\": 667593.5079999999, \"bins\": [55, 1, 0, 0, 2, 1, 1, 1, 0, 1, 1, 1], \"min\": 20414.11600000001}, \"min\": 26234, \"complete\": 1, \"max\": 662242}}, e);\n",
       "                });\n",
       "            })();\n",
       "        "
      ]
     },
     "metadata": {},
     "output_type": "display_data"
    }
   ],
   "source": [
    "sf['chars_num'].show()"
   ]
  },
  {
   "cell_type": "markdown",
   "metadata": {},
   "source": [
    "We can see that the mean characters  number in the download stories is 95020.42, and the maximal number of characters  in a story is 662,242 characters.\n",
    "Let's also calculate  the number of words in each text. Calculating the number of words in a text is little trickier and there are several methods to perform this task. Using one of the following methods:"
   ]
  },
  {
   "cell_type": "code",
   "execution_count": 7,
   "metadata": {
    "collapsed": false
   },
   "outputs": [
    {
     "name": "stdout",
     "output_type": "stream",
     "text": [
      "['I', 'think', 'that', 'you', 'know', 'me', 'well', 'enough,', 'Watson,', 'to', 'understand', 'that', 'I', 'am', 'by', 'no', 'means', 'a', 'nervous', 'man.', 'At', 'the', 'same', 'time,', 'it', 'is', 'stupidity', 'rather', 'than', 'courage', 'to', 'refuse', 'to', 'recognize', 'danger', 'when', 'it', 'is', 'close', 'upon', 'you.']\n"
     ]
    }
   ],
   "source": [
    "text = \"\"\"I think that you know me well enough, Watson, to understand that I am by no means a nervous man. At the same time,\n",
    "it is stupidity rather than courage to refuse to recognize danger when it is close upon you.\"\"\"\n",
    "\n",
    "#using the split function\n",
    "print text.split()"
   ]
  },
  {
   "cell_type": "code",
   "execution_count": 8,
   "metadata": {
    "collapsed": false
   },
   "outputs": [
    {
     "name": "stdout",
     "output_type": "stream",
     "text": [
      "['I', 'think', 'that', 'you', 'know', 'me', 'well', 'enough', ',', 'Watson', ',', 'to', 'understand', 'that', 'I', 'am', 'by', 'no', 'means', 'a', 'nervous', 'man', '.', 'At', 'the', 'same', 'time', ',', 'it', 'is', 'stupidity', 'rather', 'than', 'courage', 'to', 'refuse', 'to', 'recognize', 'danger', 'when', 'it', 'is', 'close', 'upon', 'you', '.']\n"
     ]
    }
   ],
   "source": [
    "#Using NLTK \n",
    "#Note: Remember to download the NLTK's punkt package by running nltk.download() from the Interactive Python Shell\n",
    "import nltk\n",
    "print nltk.word_tokenize(text)"
   ]
  },
  {
   "cell_type": "markdown",
   "metadata": {},
   "source": [
    "You can see that both using the split function, or using the regular expression work pretty-well. \n",
    "However, it is important to notice, that the first regular expression can mistakenly split words, \n",
    "such as \"S.H.\" into two words, while the split function doesn't remove punctuation. \n",
    "Therefore, if we want to be precise, we can use the NLTK's tokenize package and remove punctuation from the results.\n",
    "Nevertheless, for our case, it is good enough to use the regular expression method to count words."
   ]
  },
  {
   "cell_type": "code",
   "execution_count": 9,
   "metadata": {
    "collapsed": true
   },
   "outputs": [],
   "source": [
    "re_words_split = re.compile(\"(\\w+)\")"
   ]
  },
  {
   "cell_type": "code",
   "execution_count": 10,
   "metadata": {
    "collapsed": false
   },
   "outputs": [],
   "source": [
    "sf['words_num'] = sf['text'].apply(lambda t: len(re_words_split.findall(t)))"
   ]
  },
  {
   "cell_type": "markdown",
   "metadata": {},
   "source": [
    "We can also use NLTK to count the number of sentences in each story."
   ]
  },
  {
   "cell_type": "code",
   "execution_count": 11,
   "metadata": {
    "collapsed": false
   },
   "outputs": [],
   "source": [
    "tokenizer = nltk.data.load('tokenizers/punkt/english.pickle')\n",
    "def txt2sentences(txt, remove_none_english_chars=True):\n",
    "    \"\"\"\n",
    "    Split the English text into sentences using NLTK\n",
    "    :param txt: input text.    \n",
    "    :param remove_none_english_chars: if True then remove none English chars from text\n",
    "    :return: string in which each line consists of single sentence from the original input text.\n",
    "    :rtype: str\n",
    "    \"\"\"        \n",
    "    # decode to utf8 to avoid encoding problems - if someone has better idea how to solve encoding \n",
    "    # problem I will love to learn about it.     \n",
    "    txt = txt.decode(\"utf8\") \n",
    "    # split text into sentences using NLTK package\n",
    "    for s in tokenizer.tokenize(txt):\n",
    "        if remove_none_english_chars:\n",
    "            #remove none English chars\n",
    "            s = re.sub(\"[^a-zA-Z]\", \" \", s)\n",
    "        yield s\n",
    "\n",
    "sf['sentences_num'] = sf['text'].apply(lambda t: len(list(txt2sentences(t))))"
   ]
  },
  {
   "cell_type": "code",
   "execution_count": 12,
   "metadata": {
    "collapsed": false
   },
   "outputs": [
    {
     "data": {
      "application/javascript": [
       "$(\"head\").append($(\"<link/>\").attr({\n",
       "  rel:  \"stylesheet\",\n",
       "  type: \"text/css\",\n",
       "  href: \"//cdnjs.cloudflare.com/ajax/libs/font-awesome/4.1.0/css/font-awesome.min.css\"\n",
       "}));\n",
       "$(\"head\").append($(\"<link/>\").attr({\n",
       "  rel:  \"stylesheet\",\n",
       "  type: \"text/css\",\n",
       "  href: \"https://static.turi.com/products/graphlab-create/2.1/canvas/css/canvas.css\"\n",
       "}));\n",
       "\n",
       "            (function(){\n",
       "\n",
       "                var e = null;\n",
       "                if (typeof element == 'undefined') {\n",
       "                    var scripts = document.getElementsByTagName('script');\n",
       "                    var thisScriptTag = scripts[scripts.length-1];\n",
       "                    var parentDiv = thisScriptTag.parentNode;\n",
       "                    e = document.createElement('div');\n",
       "                    parentDiv.appendChild(e);\n",
       "                } else {\n",
       "                    e = element[0];\n",
       "                }\n",
       "\n",
       "                if (typeof requirejs !== 'undefined') {\n",
       "                    // disable load timeout; ipython_app.js is large and can take a while to load.\n",
       "                    requirejs.config({waitSeconds: 0});\n",
       "                }\n",
       "\n",
       "                require(['https://static.turi.com/products/graphlab-create/2.1/canvas/js/ipython_app.js'], function(IPythonApp){\n",
       "                    var app = new IPythonApp();\n",
       "                    app.attachView('sframe','Summary', {\"ipython\": true, \"sketch\": {\"sentences_num\": {\"std\": 1546.2633518490586, \"complete\": true, \"min\": 334.0, \"max\": 7807.0, \"quantile\": [334.0, 334.0, 401.0, 401.0, 407.0, 409.0, 409.0, 417.0, 435.0, 435.0, 438.0, 448.0, 448.0, 449.0, 449.0, 462.0, 472.0, 472.0, 472.0, 474.0, 474.0, 479.0, 499.0, 499.0, 506.0, 511.0, 511.0, 515.0, 515.0, 518.0, 523.0, 523.0, 525.0, 532.0, 532.0, 535.0, 540.0, 540.0, 541.0, 541.0, 543.0, 552.0, 552.0, 558.0, 561.0, 561.0, 564.0, 566.0, 566.0, 566.0, 572.0, 572.0, 578.0, 578.0, 592.0, 595.0, 595.0, 599.0, 611.0, 611.0, 612.0, 617.0, 617.0, 623.0, 623.0, 627.0, 629.0, 629.0, 633.0, 634.0, 634.0, 643.0, 662.0, 662.0, 668.0, 673.0, 673.0, 693.0, 693.0, 718.0, 760.0, 760.0, 798.0, 885.0, 885.0, 892.0, 923.0, 923.0, 2699.0, 2699.0, 2930.0, 3875.0, 3875.0, 4268.0, 5086.0, 5086.0, 5502.0, 6815.0, 6815.0, 7807.0, 7807.0], \"median\": 572.0, \"numeric\": true, \"num_unique\": 62, \"num_undefined\": 0, \"var\": 2390930.3532714853, \"progress\": 1.0, \"size\": 64, \"frequent_items\": {\"643\": {\"frequency\": 1, \"value\": 643}, \"518\": {\"frequency\": 1, \"value\": 518}, \"2699\": {\"frequency\": 1, \"value\": 2699}, \"525\": {\"frequency\": 1, \"value\": 525}, \"401\": {\"frequency\": 1, \"value\": 401}, \"515\": {\"frequency\": 1, \"value\": 515}, \"532\": {\"frequency\": 1, \"value\": 532}, \"662\": {\"frequency\": 1, \"value\": 662}, \"407\": {\"frequency\": 1, \"value\": 407}, \"409\": {\"frequency\": 1, \"value\": 409}, \"923\": {\"frequency\": 1, \"value\": 923}, \"540\": {\"frequency\": 1, \"value\": 540}, \"541\": {\"frequency\": 1, \"value\": 541}, \"798\": {\"frequency\": 1, \"value\": 798}, \"6815\": {\"frequency\": 1, \"value\": 6815}, \"673\": {\"frequency\": 1, \"value\": 673}, \"3875\": {\"frequency\": 1, \"value\": 3875}, \"552\": {\"frequency\": 1, \"value\": 552}, \"668\": {\"frequency\": 1, \"value\": 668}, \"4268\": {\"frequency\": 1, \"value\": 4268}, \"558\": {\"frequency\": 1, \"value\": 558}, \"561\": {\"frequency\": 1, \"value\": 561}, \"435\": {\"frequency\": 1, \"value\": 435}, \"564\": {\"frequency\": 1, \"value\": 564}, \"693\": {\"frequency\": 1, \"value\": 693}, \"438\": {\"frequency\": 1, \"value\": 438}, \"462\": {\"frequency\": 1, \"value\": 462}, \"543\": {\"frequency\": 1, \"value\": 543}, \"572\": {\"frequency\": 1, \"value\": 572}, \"885\": {\"frequency\": 1, \"value\": 885}, \"448\": {\"frequency\": 1, \"value\": 448}, \"449\": {\"frequency\": 1, \"value\": 449}, \"578\": {\"frequency\": 1, \"value\": 578}, \"523\": {\"frequency\": 1, \"value\": 523}, \"566\": {\"frequency\": 2, \"value\": 566}, \"417\": {\"frequency\": 1, \"value\": 417}, \"535\": {\"frequency\": 1, \"value\": 535}, \"718\": {\"frequency\": 1, \"value\": 718}, \"592\": {\"frequency\": 1, \"value\": 592}, \"595\": {\"frequency\": 1, \"value\": 595}, \"334\": {\"frequency\": 1, \"value\": 334}, \"599\": {\"frequency\": 1, \"value\": 599}, \"472\": {\"frequency\": 2, \"value\": 472}, \"474\": {\"frequency\": 1, \"value\": 474}, \"506\": {\"frequency\": 1, \"value\": 506}, \"5086\": {\"frequency\": 1, \"value\": 5086}, \"479\": {\"frequency\": 1, \"value\": 479}, \"627\": {\"frequency\": 1, \"value\": 627}, \"611\": {\"frequency\": 1, \"value\": 611}, \"612\": {\"frequency\": 1, \"value\": 612}, \"617\": {\"frequency\": 1, \"value\": 617}, \"623\": {\"frequency\": 1, \"value\": 623}, \"2930\": {\"frequency\": 1, \"value\": 2930}, \"499\": {\"frequency\": 1, \"value\": 499}, \"629\": {\"frequency\": 1, \"value\": 629}, \"760\": {\"frequency\": 1, \"value\": 760}, \"633\": {\"frequency\": 1, \"value\": 633}, \"634\": {\"frequency\": 1, \"value\": 634}, \"511\": {\"frequency\": 1, \"value\": 511}, \"892\": {\"frequency\": 1, \"value\": 892}, \"5502\": {\"frequency\": 1, \"value\": 5502}, \"7807\": {\"frequency\": 1, \"value\": 7807}}, \"mean\": 1108.9218750000002}, \"chars_num\": {\"std\": 134594.53590457857, \"complete\": true, \"min\": 26234.0, \"max\": 662242.0, \"quantile\": [26234.0, 26234.0, 33400.0, 33400.0, 34513.0, 34709.0, 34709.0, 35907.0, 35973.0, 35973.0, 36435.0, 36798.0, 36798.0, 36830.0, 36830.0, 38779.0, 40212.0, 40212.0, 40305.0, 40445.0, 40445.0, 41651.0, 42184.0, 42184.0, 42457.0, 42624.0, 42624.0, 42936.0, 42936.0, 42947.0, 43391.0, 43391.0, 43688.0, 43821.0, 43821.0, 44698.0, 45342.0, 45342.0, 45461.0, 45461.0, 46241.0, 46317.0, 46317.0, 46409.0, 46441.0, 46441.0, 48044.0, 48477.0, 48477.0, 48521.0, 48931.0, 48931.0, 49254.0, 49254.0, 50194.0, 51396.0, 51396.0, 51745.0, 53030.0, 53030.0, 53342.0, 53938.0, 53938.0, 54142.0, 54142.0, 55229.0, 55886.0, 55886.0, 56223.0, 56690.0, 56690.0, 57280.0, 57470.0, 57470.0, 57536.0, 58039.0, 58039.0, 58042.0, 58042.0, 58358.0, 60289.0, 60289.0, 64945.0, 68260.0, 68260.0, 68476.0, 74759.0, 74759.0, 251814.0, 251814.0, 260051.0, 340223.0, 340223.0, 346404.0, 402296.0, 402296.0, 511747.0, 610886.0, 610886.0, 662242.0, 662242.0], \"median\": 48931.0, \"numeric\": true, \"num_unique\": 64, \"num_undefined\": 0, \"var\": 18115689095.368893, \"progress\": 1.0, \"size\": 64, \"frequent_items\": {\"42624\": {\"frequency\": 1, \"value\": 42624}, \"60289\": {\"frequency\": 1, \"value\": 60289}, \"511747\": {\"frequency\": 1, \"value\": 511747}, \"57280\": {\"frequency\": 1, \"value\": 57280}, \"35973\": {\"frequency\": 1, \"value\": 35973}, \"74759\": {\"frequency\": 1, \"value\": 74759}, \"48521\": {\"frequency\": 1, \"value\": 48521}, \"34709\": {\"frequency\": 1, \"value\": 34709}, \"50194\": {\"frequency\": 1, \"value\": 50194}, \"42947\": {\"frequency\": 1, \"value\": 42947}, \"40212\": {\"frequency\": 1, \"value\": 40212}, \"45461\": {\"frequency\": 1, \"value\": 45461}, \"44698\": {\"frequency\": 1, \"value\": 44698}, \"45342\": {\"frequency\": 1, \"value\": 45342}, \"56223\": {\"frequency\": 1, \"value\": 56223}, \"51745\": {\"frequency\": 1, \"value\": 51745}, \"48931\": {\"frequency\": 1, \"value\": 48931}, \"68260\": {\"frequency\": 1, \"value\": 68260}, \"251814\": {\"frequency\": 1, \"value\": 251814}, \"43688\": {\"frequency\": 1, \"value\": 43688}, \"33400\": {\"frequency\": 1, \"value\": 33400}, \"48044\": {\"frequency\": 1, \"value\": 48044}, \"43821\": {\"frequency\": 1, \"value\": 43821}, \"64945\": {\"frequency\": 1, \"value\": 64945}, \"53938\": {\"frequency\": 1, \"value\": 53938}, \"41651\": {\"frequency\": 1, \"value\": 41651}, \"36830\": {\"frequency\": 1, \"value\": 36830}, \"58039\": {\"frequency\": 1, \"value\": 58039}, \"42936\": {\"frequency\": 1, \"value\": 42936}, \"58042\": {\"frequency\": 1, \"value\": 58042}, \"55229\": {\"frequency\": 1, \"value\": 55229}, \"36798\": {\"frequency\": 1, \"value\": 36798}, \"57536\": {\"frequency\": 1, \"value\": 57536}, \"35907\": {\"frequency\": 1, \"value\": 35907}, \"51396\": {\"frequency\": 1, \"value\": 51396}, \"58358\": {\"frequency\": 1, \"value\": 58358}, \"610886\": {\"frequency\": 1, \"value\": 610886}, \"46241\": {\"frequency\": 1, \"value\": 46241}, \"42184\": {\"frequency\": 1, \"value\": 42184}, \"46409\": {\"frequency\": 1, \"value\": 46409}, \"55886\": {\"frequency\": 1, \"value\": 55886}, \"34513\": {\"frequency\": 1, \"value\": 34513}, \"260051\": {\"frequency\": 1, \"value\": 260051}, \"42457\": {\"frequency\": 1, \"value\": 42457}, \"48477\": {\"frequency\": 1, \"value\": 48477}, \"53342\": {\"frequency\": 1, \"value\": 53342}, \"662242\": {\"frequency\": 1, \"value\": 662242}, \"38779\": {\"frequency\": 1, \"value\": 38779}, \"53030\": {\"frequency\": 1, \"value\": 53030}, \"49254\": {\"frequency\": 1, \"value\": 49254}, \"46441\": {\"frequency\": 1, \"value\": 46441}, \"46317\": {\"frequency\": 1, \"value\": 46317}, \"40305\": {\"frequency\": 1, \"value\": 40305}, \"56690\": {\"frequency\": 1, \"value\": 56690}, \"36435\": {\"frequency\": 1, \"value\": 36435}, \"57470\": {\"frequency\": 1, \"value\": 57470}, \"346404\": {\"frequency\": 1, \"value\": 346404}, \"402296\": {\"frequency\": 1, \"value\": 402296}, \"26234\": {\"frequency\": 1, \"value\": 26234}, \"340223\": {\"frequency\": 1, \"value\": 340223}, \"68476\": {\"frequency\": 1, \"value\": 68476}, \"40445\": {\"frequency\": 1, \"value\": 40445}, \"54142\": {\"frequency\": 1, \"value\": 54142}, \"43391\": {\"frequency\": 1, \"value\": 43391}}, \"mean\": 95020.42187499999}, \"words_num\": {\"std\": 23280.89778114439, \"complete\": true, \"min\": 4622.0, \"max\": 114461.0, \"quantile\": [4622.0, 4622.0, 5698.0, 5698.0, 5910.0, 5986.0, 5986.0, 6137.0, 6285.0, 6285.0, 6303.0, 6394.0, 6394.0, 6470.0, 6470.0, 6649.0, 6825.0, 6825.0, 6940.0, 6991.0, 6991.0, 7163.0, 7190.0, 7190.0, 7317.0, 7339.0, 7339.0, 7378.0, 7378.0, 7447.0, 7498.0, 7498.0, 7555.0, 7677.0, 7677.0, 7759.0, 7850.0, 7850.0, 7891.0, 7891.0, 7899.0, 8051.0, 8051.0, 8067.0, 8068.0, 8068.0, 8310.0, 8317.0, 8317.0, 8358.0, 8483.0, 8483.0, 8581.0, 8581.0, 8752.0, 8839.0, 8839.0, 8917.0, 9217.0, 9217.0, 9371.0, 9412.0, 9412.0, 9445.0, 9445.0, 9482.0, 9821.0, 9821.0, 9828.0, 9829.0, 9829.0, 9864.0, 9897.0, 9897.0, 9960.0, 10025.0, 10025.0, 10035.0, 10035.0, 10148.0, 10181.0, 10181.0, 10916.0, 11671.0, 11671.0, 11732.0, 12901.0, 12901.0, 43956.0, 43956.0, 44210.0, 59099.0, 59099.0, 60104.0, 68922.0, 68922.0, 88497.0, 106040.0, 106040.0, 114461.0, 114461.0], \"median\": 8483.0, \"numeric\": true, \"num_unique\": 64, \"num_undefined\": 0, \"var\": 542000201.4960938, \"progress\": 1.0, \"size\": 64, \"frequent_items\": {\"9217\": {\"frequency\": 1, \"value\": 9217}, \"8067\": {\"frequency\": 1, \"value\": 8067}, \"8068\": {\"frequency\": 1, \"value\": 8068}, \"8581\": {\"frequency\": 1, \"value\": 8581}, \"8839\": {\"frequency\": 1, \"value\": 8839}, \"9864\": {\"frequency\": 1, \"value\": 9864}, \"9482\": {\"frequency\": 1, \"value\": 9482}, \"11671\": {\"frequency\": 1, \"value\": 11671}, \"6285\": {\"frequency\": 1, \"value\": 6285}, \"4622\": {\"frequency\": 1, \"value\": 4622}, \"9829\": {\"frequency\": 1, \"value\": 9829}, \"7555\": {\"frequency\": 1, \"value\": 7555}, \"7317\": {\"frequency\": 1, \"value\": 7317}, \"7190\": {\"frequency\": 1, \"value\": 7190}, \"7447\": {\"frequency\": 1, \"value\": 7447}, \"9371\": {\"frequency\": 1, \"value\": 9371}, \"6940\": {\"frequency\": 1, \"value\": 6940}, \"114461\": {\"frequency\": 1, \"value\": 114461}, \"6303\": {\"frequency\": 1, \"value\": 6303}, \"8483\": {\"frequency\": 1, \"value\": 8483}, \"10148\": {\"frequency\": 1, \"value\": 10148}, \"6825\": {\"frequency\": 1, \"value\": 6825}, \"8358\": {\"frequency\": 1, \"value\": 8358}, \"9897\": {\"frequency\": 1, \"value\": 9897}, \"7850\": {\"frequency\": 1, \"value\": 7850}, \"7339\": {\"frequency\": 1, \"value\": 7339}, \"8317\": {\"frequency\": 1, \"value\": 8317}, \"8752\": {\"frequency\": 1, \"value\": 8752}, \"88497\": {\"frequency\": 1, \"value\": 88497}, \"44210\": {\"frequency\": 1, \"value\": 44210}, \"10035\": {\"frequency\": 1, \"value\": 10035}, \"43956\": {\"frequency\": 1, \"value\": 43956}, \"106040\": {\"frequency\": 1, \"value\": 106040}, \"68922\": {\"frequency\": 1, \"value\": 68922}, \"5698\": {\"frequency\": 1, \"value\": 5698}, \"9412\": {\"frequency\": 1, \"value\": 9412}, \"10181\": {\"frequency\": 1, \"value\": 10181}, \"6470\": {\"frequency\": 1, \"value\": 6470}, \"60104\": {\"frequency\": 1, \"value\": 60104}, \"7498\": {\"frequency\": 1, \"value\": 7498}, \"6991\": {\"frequency\": 1, \"value\": 6991}, \"5910\": {\"frequency\": 1, \"value\": 5910}, \"7891\": {\"frequency\": 1, \"value\": 7891}, \"11732\": {\"frequency\": 1, \"value\": 11732}, \"8917\": {\"frequency\": 1, \"value\": 8917}, \"6137\": {\"frequency\": 1, \"value\": 6137}, \"10916\": {\"frequency\": 1, \"value\": 10916}, \"7759\": {\"frequency\": 1, \"value\": 7759}, \"9821\": {\"frequency\": 1, \"value\": 9821}, \"7899\": {\"frequency\": 1, \"value\": 7899}, \"5986\": {\"frequency\": 1, \"value\": 5986}, \"9828\": {\"frequency\": 1, \"value\": 9828}, \"9445\": {\"frequency\": 1, \"value\": 9445}, \"59099\": {\"frequency\": 1, \"value\": 59099}, \"9960\": {\"frequency\": 1, \"value\": 9960}, \"7378\": {\"frequency\": 1, \"value\": 7378}, \"12901\": {\"frequency\": 1, \"value\": 12901}, \"8051\": {\"frequency\": 1, \"value\": 8051}, \"8310\": {\"frequency\": 1, \"value\": 8310}, \"10025\": {\"frequency\": 1, \"value\": 10025}, \"6649\": {\"frequency\": 1, \"value\": 6649}, \"6394\": {\"frequency\": 1, \"value\": 6394}, \"7163\": {\"frequency\": 1, \"value\": 7163}, \"7677\": {\"frequency\": 1, \"value\": 7677}}, \"mean\": 16420.9375}}, \"selected_variable\": {\"name\": [\"<SFrame>\"], \"descriptives\": {\"rows\": 64, \"columns\": 3}, \"view_component\": \"Summary\", \"view_file\": \"sframe\", \"view_params\": {\"y\": null, \"x\": null, \"columns\": [\"chars_num\", \"words_num\", \"sentences_num\"], \"view\": null}, \"view_components\": [\"Summary\", \"Table\", \"Bar Chart\", \"BoxWhisker Plot\", \"Line Chart\", \"Scatter Plot\", \"Heat Map\", \"Plots\"], \"type\": \"SFrame\", \"columns\": [{\"dtype\": \"int\", \"name\": \"chars_num\"}, {\"dtype\": \"int\", \"name\": \"words_num\"}, {\"dtype\": \"int\", \"name\": \"sentences_num\"}], \"column_identifiers\": [\"sentences_num\", \"chars_num\", \"words_num\"]}, \"columns\": [{\"dtype\": \"int\", \"name\": \"chars_num\"}, {\"dtype\": \"int\", \"name\": \"words_num\"}, {\"dtype\": \"int\", \"name\": \"sentences_num\"}]}, e);\n",
       "                });\n",
       "            })();\n",
       "        "
      ]
     },
     "metadata": {},
     "output_type": "display_data"
    }
   ],
   "source": [
    "sf[['chars_num','words_num','sentences_num']].show()"
   ]
  },
  {
   "cell_type": "markdown",
   "metadata": {},
   "source": [
    "Until now I calculated very basic text statistics. Let's try to do something more complicated like count the number of time the words 'Sherlock',\n",
    "'Watson', and 'Elementary' appeared in each story. We will do it using GraphLab's [text_analytics.count_words](https://turi.com/products/create/docs/generated/graphlab.text_analytics.count_words.html#graphlab.text_analytics.count_words) toolkit.\n",
    "\n",
    "<u>Note</u>: To count the frequency a word appears in a text, one can also consider using the [collection.Counter](https://docs.python.org/2/library/collections.html) function."
   ]
  },
  {
   "cell_type": "code",
   "execution_count": 13,
   "metadata": {
    "collapsed": false
   },
   "outputs": [
    {
     "data": {
      "application/javascript": [
       "$(\"head\").append($(\"<link/>\").attr({\n",
       "  rel:  \"stylesheet\",\n",
       "  type: \"text/css\",\n",
       "  href: \"//cdnjs.cloudflare.com/ajax/libs/font-awesome/4.1.0/css/font-awesome.min.css\"\n",
       "}));\n",
       "$(\"head\").append($(\"<link/>\").attr({\n",
       "  rel:  \"stylesheet\",\n",
       "  type: \"text/css\",\n",
       "  href: \"https://static.turi.com/products/graphlab-create/2.1/canvas/css/canvas.css\"\n",
       "}));\n",
       "\n",
       "            (function(){\n",
       "\n",
       "                var e = null;\n",
       "                if (typeof element == 'undefined') {\n",
       "                    var scripts = document.getElementsByTagName('script');\n",
       "                    var thisScriptTag = scripts[scripts.length-1];\n",
       "                    var parentDiv = thisScriptTag.parentNode;\n",
       "                    e = document.createElement('div');\n",
       "                    parentDiv.appendChild(e);\n",
       "                } else {\n",
       "                    e = element[0];\n",
       "                }\n",
       "\n",
       "                if (typeof requirejs !== 'undefined') {\n",
       "                    // disable load timeout; ipython_app.js is large and can take a while to load.\n",
       "                    requirejs.config({waitSeconds: 0});\n",
       "                }\n",
       "\n",
       "                require(['https://static.turi.com/products/graphlab-create/2.1/canvas/js/ipython_app.js'], function(IPythonApp){\n",
       "                    var app = new IPythonApp();\n",
       "                    app.attachView('sframe','Summary', {\"ipython\": true, \"sketch\": {\"sherlock_count\": {\"std\": 16.146417160143457, \"complete\": true, \"min\": 0.0, \"max\": 96.0, \"quantile\": [0.0, 0.0, 0.0, 0.0, 0.0, 1.0, 1.0, 1.0, 1.0, 1.0, 1.0, 1.0, 1.0, 1.0, 1.0, 2.0, 2.0, 2.0, 2.0, 2.0, 2.0, 2.0, 2.0, 2.0, 2.0, 2.0, 2.0, 3.0, 3.0, 3.0, 3.0, 3.0, 3.0, 3.0, 3.0, 3.0, 3.0, 3.0, 3.0, 3.0, 3.0, 3.0, 3.0, 3.0, 3.0, 3.0, 4.0, 4.0, 4.0, 4.0, 5.0, 5.0, 5.0, 5.0, 5.0, 5.0, 5.0, 5.0, 6.0, 6.0, 6.0, 7.0, 7.0, 7.0, 7.0, 7.0, 7.0, 7.0, 7.0, 7.0, 7.0, 8.0, 8.0, 8.0, 9.0, 9.0, 9.0, 10.0, 10.0, 10.0, 10.0, 10.0, 10.0, 10.0, 10.0, 10.0, 10.0, 10.0, 12.0, 12.0, 27.0, 34.0, 34.0, 35.0, 45.0, 45.0, 52.0, 61.0, 61.0, 96.0, 96.0], \"median\": 5.0, \"numeric\": true, \"num_unique\": 19, \"num_undefined\": 0, \"var\": 260.7067871093751, \"progress\": 1.0, \"size\": 64, \"frequent_items\": {\"96\": {\"frequency\": 1, \"value\": 96}, \"1\": {\"frequency\": 6, \"value\": 1}, \"34\": {\"frequency\": 1, \"value\": 34}, \"35\": {\"frequency\": 1, \"value\": 35}, \"4\": {\"frequency\": 3, \"value\": 4}, \"5\": {\"frequency\": 5, \"value\": 5}, \"6\": {\"frequency\": 2, \"value\": 6}, \"7\": {\"frequency\": 6, \"value\": 7}, \"8\": {\"frequency\": 2, \"value\": 8}, \"9\": {\"frequency\": 2, \"value\": 9}, \"10\": {\"frequency\": 7, \"value\": 10}, \"12\": {\"frequency\": 1, \"value\": 12}, \"2\": {\"frequency\": 8, \"value\": 2}, \"45\": {\"frequency\": 1, \"value\": 45}, \"3\": {\"frequency\": 12, \"value\": 3}, \"52\": {\"frequency\": 1, \"value\": 52}, \"27\": {\"frequency\": 1, \"value\": 27}, \"61\": {\"frequency\": 1, \"value\": 61}, \"0\": {\"frequency\": 3, \"value\": 0}}, \"mean\": 9.609375000000002}, \"watson_count\": {\"std\": 3.0783629349664086, \"complete\": true, \"min\": 0.0, \"max\": 17.0, \"quantile\": [0.0, 0.0, 0.0, 0.0, 0.0, 0.0, 0.0, 0.0, 0.0, 0.0, 0.0, 0.0, 0.0, 0.0, 0.0, 0.0, 0.0, 0.0, 0.0, 0.0, 0.0, 0.0, 0.0, 0.0, 0.0, 0.0, 0.0, 0.0, 0.0, 0.0, 0.0, 0.0, 0.0, 0.0, 0.0, 0.0, 0.0, 0.0, 0.0, 0.0, 0.0, 0.0, 0.0, 0.0, 1.0, 1.0, 1.0, 1.0, 1.0, 1.0, 1.0, 1.0, 1.0, 1.0, 1.0, 1.0, 1.0, 1.0, 1.0, 1.0, 1.0, 1.0, 1.0, 1.0, 1.0, 1.0, 1.0, 1.0, 1.0, 2.0, 2.0, 2.0, 2.0, 2.0, 2.0, 2.0, 2.0, 2.0, 2.0, 2.0, 2.0, 2.0, 3.0, 3.0, 3.0, 3.0, 3.0, 3.0, 4.0, 4.0, 4.0, 4.0, 4.0, 7.0, 8.0, 8.0, 11.0, 12.0, 12.0, 17.0, 17.0], \"median\": 1.0, \"numeric\": true, \"num_unique\": 10, \"num_undefined\": 0, \"var\": 9.476318359375, \"progress\": 1.0, \"size\": 64, \"frequent_items\": {\"0\": {\"frequency\": 28, \"value\": 0}, \"1\": {\"frequency\": 16, \"value\": 1}, \"2\": {\"frequency\": 8, \"value\": 2}, \"3\": {\"frequency\": 4, \"value\": 3}, \"4\": {\"frequency\": 3, \"value\": 4}, \"7\": {\"frequency\": 1, \"value\": 7}, \"8\": {\"frequency\": 1, \"value\": 8}, \"11\": {\"frequency\": 1, \"value\": 11}, \"12\": {\"frequency\": 1, \"value\": 12}, \"17\": {\"frequency\": 1, \"value\": 17}}, \"mean\": 1.7343749999999998}, \"elementary_count\": {\"std\": 0.35869500885153116, \"complete\": true, \"min\": 0.0, \"max\": 2.0, \"quantile\": [0.0, 0.0, 0.0, 0.0, 0.0, 0.0, 0.0, 0.0, 0.0, 0.0, 0.0, 0.0, 0.0, 0.0, 0.0, 0.0, 0.0, 0.0, 0.0, 0.0, 0.0, 0.0, 0.0, 0.0, 0.0, 0.0, 0.0, 0.0, 0.0, 0.0, 0.0, 0.0, 0.0, 0.0, 0.0, 0.0, 0.0, 0.0, 0.0, 0.0, 0.0, 0.0, 0.0, 0.0, 0.0, 0.0, 0.0, 0.0, 0.0, 0.0, 0.0, 0.0, 0.0, 0.0, 0.0, 0.0, 0.0, 0.0, 0.0, 0.0, 0.0, 0.0, 0.0, 0.0, 0.0, 0.0, 0.0, 0.0, 0.0, 0.0, 0.0, 0.0, 0.0, 0.0, 0.0, 0.0, 0.0, 0.0, 0.0, 0.0, 0.0, 0.0, 0.0, 0.0, 0.0, 0.0, 0.0, 0.0, 0.0, 0.0, 0.0, 1.0, 1.0, 1.0, 1.0, 1.0, 1.0, 1.0, 1.0, 2.0, 2.0], \"median\": 0.0, \"numeric\": true, \"num_unique\": 3, \"num_undefined\": 0, \"var\": 0.128662109375, \"progress\": 1.0, \"size\": 64, \"frequent_items\": {\"0\": {\"frequency\": 58, \"value\": 0}, \"1\": {\"frequency\": 5, \"value\": 1}, \"2\": {\"frequency\": 1, \"value\": 2}}, \"mean\": 0.10937500000000003}}, \"selected_variable\": {\"name\": [\"<SFrame>\"], \"descriptives\": {\"rows\": 64, \"columns\": 3}, \"view_component\": \"Summary\", \"view_file\": \"sframe\", \"view_params\": {\"y\": null, \"x\": null, \"columns\": [\"sherlock_count\", \"watson_count\", \"elementary_count\"], \"view\": null}, \"view_components\": [\"Summary\", \"Table\", \"Bar Chart\", \"BoxWhisker Plot\", \"Line Chart\", \"Scatter Plot\", \"Heat Map\", \"Plots\"], \"type\": \"SFrame\", \"columns\": [{\"dtype\": \"int\", \"name\": \"sherlock_count\"}, {\"dtype\": \"int\", \"name\": \"watson_count\"}, {\"dtype\": \"int\", \"name\": \"elementary_count\"}], \"column_identifiers\": [\"sherlock_count\", \"watson_count\", \"elementary_count\"]}, \"columns\": [{\"dtype\": \"int\", \"name\": \"sherlock_count\"}, {\"dtype\": \"int\", \"name\": \"watson_count\"}, {\"dtype\": \"int\", \"name\": \"elementary_count\"}]}, e);\n",
       "                });\n",
       "            })();\n",
       "        "
      ]
     },
     "metadata": {},
     "output_type": "display_data"
    }
   ],
   "source": [
    "sf['words_count'] = gl.text_analytics.count_words(sf['text'], to_lower=True)\n",
    "sf['sherlock_count'] = sf['words_count'].apply(lambda d: d.get('sherlock',0))\n",
    "sf['watson_count'] = sf['words_count'].apply(lambda d: d.get('watson',0))\n",
    "sf['elementary_count'] = sf['words_count'].apply(lambda d: d.get('elementary',0))\n",
    "sf[['sherlock_count', 'watson_count', 'elementary_count']].show()"
   ]
  },
  {
   "cell_type": "markdown",
   "metadata": {},
   "source": [
    "It is nice to see that the mean number of times the word 'Sherlock' appear in the stories is 9.609 times while the mean the word 'Watson' appear is only 1.734.\n",
    "Moreover, there are stories, such as [The Adventure of the Lion's Mane](https://sherlock-holm.es/stories/pdf/a4/1-sided/lion.pdf) that the word 'Sherlock' doesn't appear even once. \n",
    "\n",
    "Let's try to use simple linear regression to predict the number of times the word 'Sherlock' appear in a text based on the number of time the word 'Watson' appear in the text."
   ]
  },
  {
   "cell_type": "code",
   "execution_count": 14,
   "metadata": {
    "collapsed": false
   },
   "outputs": [
    {
     "data": {
      "text/html": [
       "<pre>Linear regression:</pre>"
      ],
      "text/plain": [
       "Linear regression:"
      ]
     },
     "metadata": {},
     "output_type": "display_data"
    },
    {
     "data": {
      "text/html": [
       "<pre>--------------------------------------------------------</pre>"
      ],
      "text/plain": [
       "--------------------------------------------------------"
      ]
     },
     "metadata": {},
     "output_type": "display_data"
    },
    {
     "data": {
      "text/html": [
       "<pre>Number of examples          : 64</pre>"
      ],
      "text/plain": [
       "Number of examples          : 64"
      ]
     },
     "metadata": {},
     "output_type": "display_data"
    },
    {
     "data": {
      "text/html": [
       "<pre>Number of features          : 1</pre>"
      ],
      "text/plain": [
       "Number of features          : 1"
      ]
     },
     "metadata": {},
     "output_type": "display_data"
    },
    {
     "data": {
      "text/html": [
       "<pre>Number of unpacked features : 1</pre>"
      ],
      "text/plain": [
       "Number of unpacked features : 1"
      ]
     },
     "metadata": {},
     "output_type": "display_data"
    },
    {
     "data": {
      "text/html": [
       "<pre>Number of coefficients    : 2</pre>"
      ],
      "text/plain": [
       "Number of coefficients    : 2"
      ]
     },
     "metadata": {},
     "output_type": "display_data"
    },
    {
     "data": {
      "text/html": [
       "<pre>Starting Newton Method</pre>"
      ],
      "text/plain": [
       "Starting Newton Method"
      ]
     },
     "metadata": {},
     "output_type": "display_data"
    },
    {
     "data": {
      "text/html": [
       "<pre>--------------------------------------------------------</pre>"
      ],
      "text/plain": [
       "--------------------------------------------------------"
      ]
     },
     "metadata": {},
     "output_type": "display_data"
    },
    {
     "data": {
      "text/html": [
       "<pre>+-----------+----------+--------------+--------------------+---------------+</pre>"
      ],
      "text/plain": [
       "+-----------+----------+--------------+--------------------+---------------+"
      ]
     },
     "metadata": {},
     "output_type": "display_data"
    },
    {
     "data": {
      "text/html": [
       "<pre>| Iteration | Passes   | Elapsed Time | Training-max_error | Training-rmse |</pre>"
      ],
      "text/plain": [
       "| Iteration | Passes   | Elapsed Time | Training-max_error | Training-rmse |"
      ]
     },
     "metadata": {},
     "output_type": "display_data"
    },
    {
     "data": {
      "text/html": [
       "<pre>+-----------+----------+--------------+--------------------+---------------+</pre>"
      ],
      "text/plain": [
       "+-----------+----------+--------------+--------------------+---------------+"
      ]
     },
     "metadata": {},
     "output_type": "display_data"
    },
    {
     "data": {
      "text/html": [
       "<pre>| 1         | 2        | 1.004881     | 81.541394          | 14.740310     |</pre>"
      ],
      "text/plain": [
       "| 1         | 2        | 1.004881     | 81.541394          | 14.740310     |"
      ]
     },
     "metadata": {},
     "output_type": "display_data"
    },
    {
     "data": {
      "text/html": [
       "<pre>+-----------+----------+--------------+--------------------+---------------+</pre>"
      ],
      "text/plain": [
       "+-----------+----------+--------------+--------------------+---------------+"
      ]
     },
     "metadata": {},
     "output_type": "display_data"
    },
    {
     "data": {
      "text/html": [
       "<pre>SUCCESS: Optimal solution found.</pre>"
      ],
      "text/plain": [
       "SUCCESS: Optimal solution found."
      ]
     },
     "metadata": {},
     "output_type": "display_data"
    },
    {
     "data": {
      "text/html": [
       "<pre></pre>"
      ],
      "text/plain": []
     },
     "metadata": {},
     "output_type": "display_data"
    },
    {
     "data": {
      "application/javascript": [
       "$(\"head\").append($(\"<link/>\").attr({\n",
       "  rel:  \"stylesheet\",\n",
       "  type: \"text/css\",\n",
       "  href: \"//cdnjs.cloudflare.com/ajax/libs/font-awesome/4.1.0/css/font-awesome.min.css\"\n",
       "}));\n",
       "$(\"head\").append($(\"<link/>\").attr({\n",
       "  rel:  \"stylesheet\",\n",
       "  type: \"text/css\",\n",
       "  href: \"https://static.turi.com/products/graphlab-create/2.1/canvas/css/canvas.css\"\n",
       "}));\n",
       "\n",
       "            (function(){\n",
       "\n",
       "                var e = null;\n",
       "                if (typeof element == 'undefined') {\n",
       "                    var scripts = document.getElementsByTagName('script');\n",
       "                    var thisScriptTag = scripts[scripts.length-1];\n",
       "                    var parentDiv = thisScriptTag.parentNode;\n",
       "                    e = document.createElement('div');\n",
       "                    parentDiv.appendChild(e);\n",
       "                } else {\n",
       "                    e = element[0];\n",
       "                }\n",
       "\n",
       "                if (typeof requirejs !== 'undefined') {\n",
       "                    // disable load timeout; ipython_app.js is large and can take a while to load.\n",
       "                    requirejs.config({waitSeconds: 0});\n",
       "                }\n",
       "\n",
       "                require(['https://static.turi.com/products/graphlab-create/2.1/canvas/js/ipython_app.js'], function(IPythonApp){\n",
       "                    var app = new IPythonApp();\n",
       "                    app.attachView('model','Summary', {\"comparison\": null, \"selected_variable\": {\"comparison\": null, \"name\": [\"linear_reg\"], \"view_file\": \"model\", \"view_component\": \"Summary\", \"view_params\": {\"model_type\": \"regression\", \"view\": \"Summary\"}, \"view_components\": [\"Summary\", \"Evaluation\", \"Comparison\"], \"model_type\": \"regression\", \"attributes\": {\"section_titles\": [\"Schema\", \"Hyperparameters\", \"Training Summary\", \"Settings\", \"Highest Positive Coefficients\", \"Lowest Negative Coefficients\"], \"sections\": [[[\"Number of coefficients\", 2], [\"Number of examples\", 64], [\"Number of feature columns\", 1], [\"Number of unpacked features\", 1]], [[\"L1 penalty\", 0.0], [\"L2 penalty\", 0.01]], [[\"Solver\", \"newton\"], [\"Solver iterations\", 1], [\"Solver status\", \"SUCCESS: Optimal solution found.\"], [\"Training time (sec)\", 1.0053]], [[\"Residual sum of squares\", 13905.7118], [\"Training RMSE\", 14.7403]], [[\"(intercept)\", 5.8972], [\"watson_count\", 2.1404]], [[\"No Negative Coefficients\", \"\"]]]}, \"evaluations\": [], \"type\": \"Model\"}, \"ipython\": true, \"view_params\": {\"model_type\": \"regression\", \"view\": \"Summary\"}, \"model_type\": \"regression\", \"attributes\": {\"section_titles\": [\"Schema\", \"Hyperparameters\", \"Training Summary\", \"Settings\", \"Highest Positive Coefficients\", \"Lowest Negative Coefficients\"], \"sections\": [[[\"Number of coefficients\", 2], [\"Number of examples\", 64], [\"Number of feature columns\", 1], [\"Number of unpacked features\", 1]], [[\"L1 penalty\", 0.0], [\"L2 penalty\", 0.01]], [[\"Solver\", \"newton\"], [\"Solver iterations\", 1], [\"Solver status\", \"SUCCESS: Optimal solution found.\"], [\"Training time (sec)\", 1.0053]], [[\"Residual sum of squares\", 13905.7118], [\"Training RMSE\", 14.7403]], [[\"(intercept)\", 5.8972], [\"watson_count\", 2.1404]], [[\"No Negative Coefficients\", \"\"]]]}, \"evaluations\": []}, e);\n",
       "                });\n",
       "            })();\n",
       "        "
      ]
     },
     "metadata": {},
     "output_type": "display_data"
    }
   ],
   "source": [
    "linear_reg = gl.linear_regression.create(sf, target='sherlock_count', features=['watson_count'])\n",
    "linear_reg.show()"
   ]
  },
  {
   "cell_type": "markdown",
   "metadata": {},
   "source": [
    "According to the simple linear regression, we have the following equation:"
   ]
  },
  {
   "cell_type": "markdown",
   "metadata": {},
   "source": [
    "$$sherlock_{count} = 2.1404*watson_{count} + 5.8972$$"
   ]
  },
  {
   "cell_type": "markdown",
   "metadata": {},
   "source": [
    "There are a lot of other really interesting insights that one can discover using similar methodology. I leave the reader to discover these insights by themselves. Let's move to the next section\n",
    "and create some nice graphs using various entity extraction tools."
   ]
  },
  {
   "cell_type": "markdown",
   "metadata": {},
   "source": [
    "## <a id=\"sn\"></a>3. Constructing Social Networks"
   ]
  },
  {
   "cell_type": "markdown",
   "metadata": {},
   "source": [
    "<pre>\n",
    "<i>\"Listen, what I said before John, I meant it. I don’t have friends; I’ve just got one.\"\n",
    "                                               -Sherlock, The Hounds of Baskerville, 2012 </i>\n",
    "</pre>"
   ]
  },
  {
   "cell_type": "markdown",
   "metadata": {},
   "source": [
    "One of my main fields of interest are social networks. I love to study and visualize graphs of [various types of networks](http://proj.ise.bgu.ac.il/sns/gallery.html). One of the nice [studies](http://www.technologyreview.com/view/516081/the-remarkable-properties-of-mythological-social-networks/) that I read not long ago showes that it is possible to create the social network of book characters. For example, [Miranda et al.](http://arxiv.org/abs/1306.2537) built and analyzed a social network utilizing the Odyssey of Homer. \n",
    "\n",
    "To manually create a precise social network between Sherlock Holmes characters, we can read the stories and whenever two characters have a conversation, or appear in the same scene, we add to the network nodes with the two characters names (if there are not in the network already), and create a link between the two characters. In case, we want to create a weighted social network, we can also add a weight to each link with the number of times each two characters talked to each other. \n",
    "\n",
    "When processing a large text corpus, manually using this process to construct a social network can very time-consuming. Therefore, we would like to perform this process automatically. One of the ways to consturct the social network is by using various NLP algorithms that analyze the text and \"understand\" the relationships between two entities. However, I am not familiar with open source tools that can analyze a text corpus and infer the connections between two entities with high precision. \n",
    "\n",
    "In this section, I will demonstrate some very simple techniques that can be utilized to study the social connections among characters in Sherlock Holmes stories. These techniques won't create the most precise social network. However, the created network is sufficient to observe some interesting insights about the relationships among the stories' characters."
   ]
  },
  {
   "cell_type": "markdown",
   "metadata": {},
   "source": [
    "### 3.1 Constructing Social Network using Names List"
   ]
  },
  {
   "cell_type": "markdown",
   "metadata": {},
   "source": [
    "Using this techniques, we will split the downloaded Sherlock Holmes stories into sentences, and using a predefined list of names of book characters we will create a social network with links among the stories characters by adding a link between each two characters that appear in the same sentence. Let start constructing the social network by splitting the stories into sentences."
   ]
  },
  {
   "cell_type": "code",
   "execution_count": 15,
   "metadata": {
    "collapsed": false
   },
   "outputs": [],
   "source": [
    "import graphlab as gl\n",
    "import re,nltk\n",
    "gl.canvas.set_target('ipynb')\n",
    "\n",
    "tokenizer = nltk.data.load('tokenizers/punkt/english.pickle')\n",
    "def txt2sentences(txt, remove_none_english_chars=True):\n",
    "    \"\"\"\n",
    "    Split the English text into sentences using NLTK\n",
    "    :param txt: input text.    \n",
    "    :param remove_none_english_chars: if True then remove none English chars from text\n",
    "    :return: string in which each line consists of single sentence from the original input text.\n",
    "    :rtype: str\n",
    "    \"\"\"        \n",
    "    txt = txt.decode(\"utf8\") \n",
    "    # split text into sentences using nltk packages\n",
    "    for s in tokenizer.tokenize(txt):\n",
    "        if remove_none_english_chars:\n",
    "            #remove none English chars\n",
    "            s = re.sub(\"[^a-zA-Z]\", \" \", s)\n",
    "        yield s\n",
    "        \n",
    "sf = gl.load_sframe(\"%s/books.sframe\" % BASE_DIR)\n",
    "sf['sentences'] = sf['text'].apply(lambda t: list(txt2sentences(t)))"
   ]
  },
  {
   "cell_type": "code",
   "execution_count": 16,
   "metadata": {
    "collapsed": false,
    "scrolled": true
   },
   "outputs": [
    {
     "data": {
      "text/html": [
       "<div style=\"max-height:1000px;max-width:1500px;overflow:auto;\"><table frame=\"box\" rules=\"cols\">\n",
       "    <tr>\n",
       "        <th style=\"padding-left: 1em; padding-right: 1em; text-align: center\">title</th>\n",
       "        <th style=\"padding-left: 1em; padding-right: 1em; text-align: center\">sentence</th>\n",
       "        <th style=\"padding-left: 1em; padding-right: 1em; text-align: center\">words</th>\n",
       "    </tr>\n",
       "    <tr>\n",
       "        <td style=\"padding-left: 1em; padding-right: 1em; text-align: center; vertical-align: top\">The Adventures of<br>Sherlock Holmes ...</td>\n",
       "        <td style=\"padding-left: 1em; padding-right: 1em; text-align: center; vertical-align: top\">THE ADVENTURES OF<br>SHERLOCK HOLMES ...</td>\n",
       "        <td style=\"padding-left: 1em; padding-right: 1em; text-align: center; vertical-align: top\">[THE, ADVENTURES, OF,<br>SHERLOCK, HOLMES, Art ...</td>\n",
       "    </tr>\n",
       "    <tr>\n",
       "        <td style=\"padding-left: 1em; padding-right: 1em; text-align: center; vertical-align: top\">The Adventures of<br>Sherlock Holmes ...</td>\n",
       "        <td style=\"padding-left: 1em; padding-right: 1em; text-align: center; vertical-align: top\">I have seldom heard him<br>mention her under any ...</td>\n",
       "        <td style=\"padding-left: 1em; padding-right: 1em; text-align: center; vertical-align: top\">[I, have, seldom, heard,<br>him, mention, her, un ...</td>\n",
       "    </tr>\n",
       "    <tr>\n",
       "        <td style=\"padding-left: 1em; padding-right: 1em; text-align: center; vertical-align: top\">The Adventures of<br>Sherlock Holmes ...</td>\n",
       "        <td style=\"padding-left: 1em; padding-right: 1em; text-align: center; vertical-align: top\">In his eyes she eclipses<br>and      predominates ...</td>\n",
       "        <td style=\"padding-left: 1em; padding-right: 1em; text-align: center; vertical-align: top\">[In, his, eyes, she,<br>eclipses, and, ...</td>\n",
       "    </tr>\n",
       "</table>\n",
       "[3 rows x 3 columns]<br/>\n",
       "</div>"
      ],
      "text/plain": [
       "Columns:\n",
       "\ttitle\tstr\n",
       "\tsentence\tstr\n",
       "\twords\tlist\n",
       "\n",
       "Rows: 3\n",
       "\n",
       "Data:\n",
       "+-------------------------------+-------------------------------+\n",
       "|             title             |            sentence           |\n",
       "+-------------------------------+-------------------------------+\n",
       "| The Adventures of Sherlock... | THE ADVENTURES OF SHERLOCK... |\n",
       "| The Adventures of Sherlock... | I have seldom heard him   ... |\n",
       "| The Adventures of Sherlock... | In his eyes she eclipses a... |\n",
       "+-------------------------------+-------------------------------+\n",
       "+-------------------------------+\n",
       "|             words             |\n",
       "+-------------------------------+\n",
       "| [THE, ADVENTURES, OF, SHER... |\n",
       "| [I, have, seldom, heard, h... |\n",
       "| [In, his, eyes, she, eclip... |\n",
       "+-------------------------------+\n",
       "[3 rows x 3 columns]"
      ]
     },
     "execution_count": 16,
     "metadata": {},
     "output_type": "execute_result"
    }
   ],
   "source": [
    "sf_sentences = sf.flat_map(['title', 'text'], lambda t: [[t['title'],s.strip()] for s in txt2sentences(t['text'])])\n",
    "sf_sentences = sf_sentences.rename({'text': 'sentence'})\n",
    "\n",
    "#split each sentence into words\n",
    "sf_sentences['words'] = sf_sentences['sentence'].apply(lambda s:re_words_split.findall(s))\n",
    "sf_sentences.save(\"%s/sentences.sframe\" % BASE_DIR)\n",
    "sf_sentences.head(3)"
   ]
  },
  {
   "cell_type": "markdown",
   "metadata": {
    "collapsed": false
   },
   "source": [
    "We created a SFrame named <i>sf_sentences</i> in which each row contains a single sentence. Now let's find out which two or more characters from the following [link](http://www.wikiwand.com/en/Category:Sherlock_Holmes_characters) appear in the same sentences. Notice that we only use the characters unique names so we don't mix up between characters with similar names. For example, the name Holmes can represent both Sherlock Holmes and Mycroft Holmes."
   ]
  },
  {
   "cell_type": "code",
   "execution_count": 17,
   "metadata": {
    "collapsed": false
   },
   "outputs": [],
   "source": [
    "main_characters_set = set([\"Irene\",\"Mycroft\",\"Lestrade\",\"Sherlock\",\"Moran\",\"Moriarty\",\"Watson\" ])\n",
    "sf_sentences['characters'] = sf_sentences['words'].apply(lambda w: list(set(w) & main_characters_set))"
   ]
  },
  {
   "cell_type": "markdown",
   "metadata": {},
   "source": [
    "Now, the <i>'characters'</i> column contain the names of the main characters that appear in the same sentences together. Let's use this information to create the characters social network by constructing a SGraph object."
   ]
  },
  {
   "cell_type": "code",
   "execution_count": 18,
   "metadata": {
    "collapsed": false
   },
   "outputs": [
    {
     "data": {
      "application/javascript": [
       "$(\"head\").append($(\"<link/>\").attr({\n",
       "  rel:  \"stylesheet\",\n",
       "  type: \"text/css\",\n",
       "  href: \"//cdnjs.cloudflare.com/ajax/libs/font-awesome/4.1.0/css/font-awesome.min.css\"\n",
       "}));\n",
       "$(\"head\").append($(\"<link/>\").attr({\n",
       "  rel:  \"stylesheet\",\n",
       "  type: \"text/css\",\n",
       "  href: \"https://static.turi.com/products/graphlab-create/2.1/canvas/css/canvas.css\"\n",
       "}));\n",
       "\n",
       "            (function(){\n",
       "\n",
       "                var e = null;\n",
       "                if (typeof element == 'undefined') {\n",
       "                    var scripts = document.getElementsByTagName('script');\n",
       "                    var thisScriptTag = scripts[scripts.length-1];\n",
       "                    var parentDiv = thisScriptTag.parentNode;\n",
       "                    e = document.createElement('div');\n",
       "                    parentDiv.appendChild(e);\n",
       "                } else {\n",
       "                    e = element[0];\n",
       "                }\n",
       "\n",
       "                if (typeof requirejs !== 'undefined') {\n",
       "                    // disable load timeout; ipython_app.js is large and can take a while to load.\n",
       "                    requirejs.config({waitSeconds: 0});\n",
       "                }\n",
       "\n",
       "                require(['https://static.turi.com/products/graphlab-create/2.1/canvas/js/ipython_app.js'], function(IPythonApp){\n",
       "                    var app = new IPythonApp();\n",
       "                    app.attachView('sgraph','View', {\"edges_labels\": [6, 6, 11, 1, 4, 2, 4, 6, 14], \"selected_variable\": {\"name\": [\"g\"], \"view_file\": \"sgraph\", \"view_component\": \"View\", \"view_params\": {\"elabel_hover\": false, \"vertex_positions\": null, \"h_offset\": 0.0, \"node_size\": 200, \"ecolor\": [0.37, 0.33, 0.33], \"elabel\": \"strength\", \"arrows\": false, \"ewidth\": 1, \"vlabel\": \"__id\", \"highlight_color\": [0.69, 0.0, 0.498], \"vcolor\": [0.522, 0.741, 0.0], \"vlabel_hover\": false, \"highlight\": {}, \"v_offset\": 0.03}, \"view_components\": [\"View\"], \"type\": \"SGraph\", \"descriptives_links\": {\"edges\": \"edges\", \"vertices\": \"vertices\"}, \"descriptives\": {\"edges\": 9, \"vertices\": 7}}, \"positions\": null, \"error_type\": 0, \"vertices\": [\"Mycroft\", \"Lestrade\", \"Moran\", \"Moriarty\", \"Irene\", \"Sherlock\", \"Watson\"], \"vertices_labels\": [\"Mycroft\", \"Lestrade\", \"Moran\", \"Moriarty\", \"Irene\", \"Sherlock\", \"Watson\"], \"edges\": [[\"Mycroft\", \"Sherlock\"], [\"Lestrade\", \"Mycroft\"], [\"Lestrade\", \"Sherlock\"], [\"Moriarty\", \"Moran\"], [\"Moriarty\", \"Sherlock\"], [\"Sherlock\", \"Moran\"], [\"Irene\", \"Sherlock\"], [\"Watson\", \"Moriarty\"], [\"Watson\", \"Sherlock\"]], \"ipython\": true, \"error_msg\": \"\"}, e);\n",
       "                });\n",
       "            })();\n",
       "        "
      ]
     },
     "metadata": {},
     "output_type": "display_data"
    }
   ],
   "source": [
    "import itertools\n",
    "from collections import Counter\n",
    "from graphlab import SGraph, Vertex, Edge\n",
    "\n",
    "def get_characters_graph(sf, min_edge_strength=1):\n",
    "    \"\"\"\n",
    "    Constructs a social network from the an input SFrame. In the social network the verticies are the characters\n",
    "    and the edges are only between characters that appear in the same sentence at least min_edge_strength times\n",
    "    :param sf: input SFrame object that contains 'characters' column   \n",
    "    :param min_edge_strength: minimal connetion strength between two characters.  \n",
    "    :return: SGraph object constructed from the input SFrame. The graph only contains edges with \n",
    "        the at least the input minimal strength between between the characters.\n",
    "    :rtype: gl.SGraph\n",
    "    \"\"\"\n",
    "    #filter sentences with less than two characters\n",
    "    sf['characters_num'] = sf['characters'].apply(lambda l: len(l))\n",
    "    sf = sf_sentences[sf['characters_num'] > 1]\n",
    "    characters_links = []\n",
    "    for l in sf['characters']:    \n",
    "        # if there are more than two characters in the same sentences. Create all link combinations between\n",
    "        # all the characters (order doesn't matter)\n",
    "        characters_links += itertools.combinations(l,2)\n",
    "\n",
    "    #calculating the connections strength between each two characters\n",
    "    c = Counter(characters_links)\n",
    "    g = SGraph()\n",
    "\n",
    "    edges_list = []\n",
    "    for l,s in c.iteritems():    \n",
    "        if s < min_edge_strength:\n",
    "            # filter out connections that appear less than min_edge_strength\n",
    "            continue\n",
    "        edges_list.append(Edge(l[0], l[1], attr={'strength':s}))\n",
    "\n",
    "    g = g.add_edges(edges_list)\n",
    "    return g\n",
    "\n",
    "g = get_characters_graph(sf_sentences)\n",
    "g.show(vlabel=\"__id\", elabel=\"strength\", node_size=200)"
   ]
  },
  {
   "cell_type": "markdown",
   "metadata": {},
   "source": [
    "According to Sherlock's social network, it can be noticed that Sherlock has two main social circles. The first one is circle of friends that include Mycroft and Lestrade. Additionally, he has a circle of enemies that include Moriaty and Moran. Additionally, we can notice Watson is strongly connected to Sherlock and Sherlock's nemesis Moriaty. <br>Let's repeat the experiments only this time we also add minor characters from the following [link](http://www.wikiwand.com/en/Minor_Sherlock_Holmes_characters)."
   ]
  },
  {
   "cell_type": "code",
   "execution_count": 19,
   "metadata": {
    "collapsed": false
   },
   "outputs": [
    {
     "data": {
      "application/javascript": [
       "$(\"head\").append($(\"<link/>\").attr({\n",
       "  rel:  \"stylesheet\",\n",
       "  type: \"text/css\",\n",
       "  href: \"//cdnjs.cloudflare.com/ajax/libs/font-awesome/4.1.0/css/font-awesome.min.css\"\n",
       "}));\n",
       "$(\"head\").append($(\"<link/>\").attr({\n",
       "  rel:  \"stylesheet\",\n",
       "  type: \"text/css\",\n",
       "  href: \"https://static.turi.com/products/graphlab-create/2.1/canvas/css/canvas.css\"\n",
       "}));\n",
       "\n",
       "            (function(){\n",
       "\n",
       "                var e = null;\n",
       "                if (typeof element == 'undefined') {\n",
       "                    var scripts = document.getElementsByTagName('script');\n",
       "                    var thisScriptTag = scripts[scripts.length-1];\n",
       "                    var parentDiv = thisScriptTag.parentNode;\n",
       "                    e = document.createElement('div');\n",
       "                    parentDiv.appendChild(e);\n",
       "                } else {\n",
       "                    e = element[0];\n",
       "                }\n",
       "\n",
       "                if (typeof requirejs !== 'undefined') {\n",
       "                    // disable load timeout; ipython_app.js is large and can take a while to load.\n",
       "                    requirejs.config({waitSeconds: 0});\n",
       "                }\n",
       "\n",
       "                require(['https://static.turi.com/products/graphlab-create/2.1/canvas/js/ipython_app.js'], function(IPythonApp){\n",
       "                    var app = new IPythonApp();\n",
       "                    app.attachView('sgraph','View', {\"edges_labels\": [6, 1, 6, 11, 15, 1, 4, 1, 3, 4, 2, 2, 2, 1, 2, 4, 3, 4, 1, 4, 6, 14, 2, 1], \"selected_variable\": {\"name\": [\"g\"], \"view_file\": \"sgraph\", \"view_component\": \"View\", \"view_params\": {\"elabel_hover\": false, \"vertex_positions\": null, \"h_offset\": 0.0, \"node_size\": 200, \"ecolor\": [0.37, 0.33, 0.33], \"elabel\": \"strength\", \"arrows\": false, \"ewidth\": 1, \"vlabel\": \"__id\", \"highlight_color\": [0.69, 0.0, 0.498], \"vcolor\": [0.522, 0.741, 0.0], \"vlabel_hover\": false, \"highlight\": {}, \"v_offset\": 0.03}, \"view_components\": [\"View\"], \"type\": \"SGraph\", \"descriptives_links\": {\"edges\": \"edges\", \"vertices\": \"vertices\"}, \"descriptives\": {\"edges\": 24, \"vertices\": 15}}, \"positions\": null, \"error_type\": 0, \"vertices\": [\"Langdale\", \"Mycroft\", \"Lestrade\", \"Moran\", \"Hudson\", \"Mary\", \"Moriarty\", \"Billy\", \"Irene\", \"Sherlock\", \"Gregson\", \"Bradstreet\", \"Watson\", \"Athelney\", \"Hopkins\"], \"vertices_labels\": [\"Langdale\", \"Mycroft\", \"Lestrade\", \"Moran\", \"Hudson\", \"Mary\", \"Moriarty\", \"Billy\", \"Irene\", \"Sherlock\", \"Gregson\", \"Bradstreet\", \"Watson\", \"Athelney\", \"Hopkins\"], \"edges\": [[\"Mycroft\", \"Sherlock\"], [\"Langdale\", \"Watson\"], [\"Lestrade\", \"Mycroft\"], [\"Lestrade\", \"Sherlock\"], [\"Lestrade\", \"Gregson\"], [\"Lestrade\", \"Athelney\"], [\"Hudson\", \"Mycroft\"], [\"Moriarty\", \"Moran\"], [\"Hudson\", \"Sherlock\"], [\"Moriarty\", \"Sherlock\"], [\"Hudson\", \"Gregson\"], [\"Hudson\", \"Hopkins\"], [\"Sherlock\", \"Moran\"], [\"Billy\", \"Hudson\"], [\"Irene\", \"Mary\"], [\"Irene\", \"Sherlock\"], [\"Sherlock\", \"Gregson\"], [\"Sherlock\", \"Hopkins\"], [\"Gregson\", \"Athelney\"], [\"Watson\", \"Hudson\"], [\"Watson\", \"Moriarty\"], [\"Watson\", \"Sherlock\"], [\"Bradstreet\", \"Sherlock\"], [\"Watson\", \"Gregson\"]], \"ipython\": true, \"error_msg\": \"\"}, e);\n",
       "                });\n",
       "            })();\n",
       "        "
      ]
     },
     "metadata": {},
     "output_type": "display_data"
    }
   ],
   "source": [
    "minor_characters_set = set([\"Irene\",\"Mycroft\",\"Lestrade\",\"Sherlock\",\"Moran\",\"Moriarty\",\"Watson\",\"Baynes\",\"Billy\",\"Bradstreet\",\"Gregson\"\n",
    "                            ,\"Hopkins\",\"Hudson\",\"Shinwell\",\"Athelney\",\"Mary\",\"Langdale\",\"Toby\",\"Wiggins\"])\n",
    "\n",
    "sf_sentences['characters'] = sf_sentences['words'].apply(lambda w: list(set(w) & minor_characters_set))\n",
    "sf_sentences['characters_num'] = sf_sentences['characters'].apply(lambda l: len(l))\n",
    "sf_sentences = sf_sentences[sf_sentences['characters_num'] > 1]\n",
    "\n",
    "g = get_characters_graph(sf_sentences)\n",
    "g.show(vlabel=\"__id\", elabel=\"strength\", node_size=200)"
   ]
  },
  {
   "cell_type": "markdown",
   "metadata": {},
   "source": [
    "We got a more complex social network with the additional minor characters.\n",
    "I believe this social network graph can be improved by increasing the scope of characters search from single sentence to multiple sentences, or by using characters additional names and nick names. I leave the reader to try to improve the graph by themselves."
   ]
  },
  {
   "cell_type": "markdown",
   "metadata": {},
   "source": [
    "### 3.2 Constructing Social Network using Named Entity Recognition "
   ]
  },
  {
   "cell_type": "markdown",
   "metadata": {},
   "source": [
    "One of the disadvantages of the above method is that you need a predefined list of names to create the social network. However, in many cases this list is unavailable. Therefore, we need another method to find entities in the text. One common method to achieve this is using [Named Entity Recognition](http://www.wikiwand.com/en/Named-entity_recognition) (NER). By using NER algorithms, we can classify elements in the text into pre-defined categories, such as the names of persons, organizations, and locations. There are many tools that can perform NER, such as [OpenNLP](http://www.wikiwand.com/en/OpenNLP), [Stanford Named Entity Recognizer]( http://nlp.stanford.edu/software/CRF-NER.shtml), [Rosette Entity Extractor](http://www.basistech.com/text-analytics/rosette/entity-extractor/). In this notebook, we will use the Stanford Named Entity Recognizer via NLTK. We will use NER algorithms to automatically  construct an entity list of the most common characters of the book.\n",
    "\n",
    "Please note that making NLTK run Stanford Named Entity Recognizer can be non-trivial. For more details, on how to make NLTK work with Stanford Named Entity Recognizer please read the information provided in the following links [1](http://textminingonline.com/how-to-use-stanford-named-entity-recognizer-ner-in-python-nltk-and-other-programming-languages),[2](http://www.nltk.org/api/nltk.tag.html#module-nltk.tag.stanford), & [3](http://nlp.stanford.edu/software/parser-faq.shtml#). \n",
    "\n",
    "NOTE: running the next code section can take several minutes."
   ]
  },
  {
   "cell_type": "code",
   "execution_count": 20,
   "metadata": {
    "collapsed": false
   },
   "outputs": [
    {
     "name": "stdout",
     "output_type": "stream",
     "text": [
      "1349\n"
     ]
    }
   ],
   "source": [
    "from nltk.tag import StanfordNERTagger\n",
    "\n",
    "sf_books =  gl.load_sframe(\"%s/books.sframe\" % BASE_DIR)\n",
    "\n",
    "#IMPORTANT: The directory that include the Stanford Named Entity Recognizer files it need to be updated according \n",
    "# to the local installation directory\n",
    "STANFORD_DIR = BASE_DIR + \"/stanford-ner-2015-12-09/\"\n",
    "\n",
    "#need to insert as parameters the stanford-ner.jar and the type of classifier we want to use\n",
    "\n",
    "st = StanfordNERTagger('/Users/kivan/Documents/stanford-ner-2015-12-09/classifiers/english.all.3class.distsim.crf.ser.gz',\n",
    "                       '/Users/kivan/Documents/stanford-ner-2015-12-09/stanford-ner.jar')\n",
    "\n",
    "st.java_options = \"-Xmx4096m\"\n",
    "\n",
    "sf_books['sentences'] = sf_books['text'].apply(lambda t: list(txt2sentences(t)))\n",
    "sf_books['words'] = sf_books['sentences'].apply(lambda l: [re_words_split.findall(s) for s in l])\n",
    "sf_books['NER'] = sf_books['words'].apply(lambda w: st.tag_sents(w))\n",
    "sf_books['person'] = sf_books['NER'].apply(lambda n: [e[0] for s in n for e in s if e[1] == 'PERSON'])\n",
    "\n",
    "person_list = []\n",
    "for p in sf_books['person']:\n",
    "    person_list += p\n",
    "    \n",
    "print len(set(person_list))"
   ]
  },
  {
   "cell_type": "code",
   "execution_count": 21,
   "metadata": {
    "collapsed": false
   },
   "outputs": [
    {
     "name": "stdout",
     "output_type": "stream",
     "text": [
      "{'num_edges': 146, 'num_vertices': 134}\n"
     ]
    },
    {
     "data": {
      "application/javascript": [
       "$(\"head\").append($(\"<link/>\").attr({\n",
       "  rel:  \"stylesheet\",\n",
       "  type: \"text/css\",\n",
       "  href: \"//cdnjs.cloudflare.com/ajax/libs/font-awesome/4.1.0/css/font-awesome.min.css\"\n",
       "}));\n",
       "$(\"head\").append($(\"<link/>\").attr({\n",
       "  rel:  \"stylesheet\",\n",
       "  type: \"text/css\",\n",
       "  href: \"https://static.turi.com/products/graphlab-create/2.1/canvas/css/canvas.css\"\n",
       "}));\n",
       "\n",
       "            (function(){\n",
       "\n",
       "                var e = null;\n",
       "                if (typeof element == 'undefined') {\n",
       "                    var scripts = document.getElementsByTagName('script');\n",
       "                    var thisScriptTag = scripts[scripts.length-1];\n",
       "                    var parentDiv = thisScriptTag.parentNode;\n",
       "                    e = document.createElement('div');\n",
       "                    parentDiv.appendChild(e);\n",
       "                } else {\n",
       "                    e = element[0];\n",
       "                }\n",
       "\n",
       "                if (typeof requirejs !== 'undefined') {\n",
       "                    // disable load timeout; ipython_app.js is large and can take a while to load.\n",
       "                    requirejs.config({waitSeconds: 0});\n",
       "                }\n",
       "\n",
       "                require(['https://static.turi.com/products/graphlab-create/2.1/canvas/js/ipython_app.js'], function(IPythonApp){\n",
       "                    var app = new IPythonApp();\n",
       "                    app.attachView('sgraph','View', {\"edges_labels\": [16, 5, 4, 8, 12, 6, 8, 17, 4, 4, 3, 3, 27, 5, 19, 4, 13, 5, 5, 6, 21, 9, 6, 48, 11, 4, 3, 4, 6, 15, 4, 4, 4, 6, 6, 4, 4, 4, 4, 12, 4, 3, 4, 3, 18, 5, 42, 4, 70, 4, 36, 4, 32, 8, 23, 11, 3, 4, 6, 3, 14, 10, 18, 6, 6, 26, 3, 4, 6, 4, 4, 4, 6, 4, 10, 38, 3, 3, 18, 17, 4, 6, 18, 18, 36, 20, 26, 4, 4, 34, 6, 19, 3, 3, 13, 9, 4, 8, 4, 7, 6, 6, 7, 3, 3, 6, 4, 3, 7, 8, 4, 4, 4, 32, 3, 21, 14, 28, 6, 4, 4, 4, 4, 4, 6, 6, 8, 5, 42, 4, 5, 5, 6, 4, 5, 8, 8, 3, 8, 4, 37, 4, 8, 4, 56, 5], \"selected_variable\": {\"name\": [\"g\"], \"view_file\": \"sgraph\", \"view_component\": \"View\", \"view_params\": {\"elabel_hover\": false, \"vertex_positions\": null, \"h_offset\": 0.0, \"node_size\": 200, \"ecolor\": [0.37, 0.33, 0.33], \"elabel\": \"strength\", \"arrows\": false, \"ewidth\": 1, \"vlabel\": \"__id\", \"highlight_color\": [0.69, 0.0, 0.498], \"vcolor\": [0.522, 0.741, 0.0], \"vlabel_hover\": false, \"highlight\": {}, \"v_offset\": 0.03}, \"view_components\": [\"View\"], \"type\": \"SGraph\", \"descriptives_links\": {\"edges\": \"edges\", \"vertices\": \"vertices\"}, \"descriptives\": {\"edges\": 146, \"vertices\": 134}}, \"positions\": null, \"error_type\": 0, \"vertices\": [\"Adair\", \"Angel\", \"Barker\", \"Godfrey\", \"Harrison\", \"Jack\", \"Jones\", \"Joseph\", \"MacDonald\", \"McCarthy\", \"McGinty\", \"Mycroft\", \"Robert\", \"Slaney\", \"Straker\", \"Sutherland\", \"White\", \"Adler\", \"Baron\", \"Baskerville\", \"Charles\", \"Clair\", \"Fitzroy\", \"Jim\", \"Lee\", \"Lestrade\", \"Milverton\", \"Moran\", \"Ross\", \"Sholto\", \"Tregennis\", \"Wilder\", \"Bannister\", \"Carruthers\", \"Ferrier\", \"Hudson\", \"Lucy\", \"Mary\", \"Moriarty\", \"Morris\", \"Napoleon\", \"Peter\", \"Stapleton\", \"Von\", \"West\", \"Wilson\", \"Alice\", \"Blessington\", \"Brackenstall\", \"Cecil\", \"Cushing\", \"Cyril\", \"Don\", \"Drebber\", \"Henry\", \"Hope\", \"Hosmer\", \"Huxtable\", \"Irene\", \"Jabez\", \"Jonas\", \"Mortimer\", \"Overton\", \"Percy\", \"Phelps\", \"Sherlock\", \"Simon\", \"Soames\", \"Trevor\", \"Willoughby\", \"Acton\", \"Bartholomew\", \"Culverton\", \"Cunningham\", \"Gregson\", \"Musgrave\", \"Neligan\", \"Pycroft\", \"Ralph\", \"Scott\", \"Stangerson\", \"Staunton\", \"Woodley\", \"Alec\", \"Armstrong\", \"Baker\", \"Cadogan\", \"Eccles\", \"Eustace\", \"Garcia\", \"Mason\", \"Morrison\", \"Scanlan\", \"Smith\", \"Stoner\", \"Watson\", \"Baldwin\", \"Barclay\", \"Barnicot\", \"Barrymore\", \"Bork\", \"Browner\", \"Carey\", \"Doran\", \"Frank\", \"Gloria\", \"Hall\", \"Hilton\", \"McFarlane\", \"Neville\", \"Oldacre\", \"Roylott\", \"Rucastle\", \"Simpson\", \"Thaddeus\", \"William\", \"Ames\", \"Athelney\", \"Cubitt\", \"Douglas\", \"Emsworth\", \"Ferguson\", \"Gilchrist\", \"Gregory\", \"Hilda\", \"Hopkins\", \"Jefferson\", \"McMurdo\", \"Sarah\", \"Stanley\", \"Trevelyan\", \"Turner\", \"Victor\", \"Williamson\"], \"vertices_labels\": [\"Adair\", \"Angel\", \"Barker\", \"Godfrey\", \"Harrison\", \"Jack\", \"Jones\", \"Joseph\", \"MacDonald\", \"McCarthy\", \"McGinty\", \"Mycroft\", \"Robert\", \"Slaney\", \"Straker\", \"Sutherland\", \"White\", \"Adler\", \"Baron\", \"Baskerville\", \"Charles\", \"Clair\", \"Fitzroy\", \"Jim\", \"Lee\", \"Lestrade\", \"Milverton\", \"Moran\", \"Ross\", \"Sholto\", \"Tregennis\", \"Wilder\", \"Bannister\", \"Carruthers\", \"Ferrier\", \"Hudson\", \"Lucy\", \"Mary\", \"Moriarty\", \"Morris\", \"Napoleon\", \"Peter\", \"Stapleton\", \"Von\", \"West\", \"Wilson\", \"Alice\", \"Blessington\", \"Brackenstall\", \"Cecil\", \"Cushing\", \"Cyril\", \"Don\", \"Drebber\", \"Henry\", \"Hope\", \"Hosmer\", \"Huxtable\", \"Irene\", \"Jabez\", \"Jonas\", \"Mortimer\", \"Overton\", \"Percy\", \"Phelps\", \"Sherlock\", \"Simon\", \"Soames\", \"Trevor\", \"Willoughby\", \"Acton\", \"Bartholomew\", \"Culverton\", \"Cunningham\", \"Gregson\", \"Musgrave\", \"Neligan\", \"Pycroft\", \"Ralph\", \"Scott\", \"Stangerson\", \"Staunton\", \"Woodley\", \"Alec\", \"Armstrong\", \"Baker\", \"Cadogan\", \"Eccles\", \"Eustace\", \"Garcia\", \"Mason\", \"Morrison\", \"Scanlan\", \"Smith\", \"Stoner\", \"Watson\", \"Baldwin\", \"Barclay\", \"Barnicot\", \"Barrymore\", \"Bork\", \"Browner\", \"Carey\", \"Doran\", \"Frank\", \"Gloria\", \"Hall\", \"Hilton\", \"McFarlane\", \"Neville\", \"Oldacre\", \"Roylott\", \"Rucastle\", \"Simpson\", \"Thaddeus\", \"William\", \"Ames\", \"Athelney\", \"Cubitt\", \"Douglas\", \"Emsworth\", \"Ferguson\", \"Gilchrist\", \"Gregory\", \"Hilda\", \"Hopkins\", \"Jefferson\", \"McMurdo\", \"Sarah\", \"Stanley\", \"Trevelyan\", \"Turner\", \"Victor\", \"Williamson\"], \"edges\": [[\"Joseph\", \"Harrison\"], [\"McGinty\", \"Jack\"], [\"MacDonald\", \"White\"], [\"Adair\", \"Moran\"], [\"Sutherland\", \"Mary\"], [\"Mycroft\", \"Sherlock\"], [\"Robert\", \"Simon\"], [\"Barker\", \"Cecil\"], [\"Joseph\", \"Drebber\"], [\"MacDonald\", \"Mason\"], [\"Joseph\", \"Smith\"], [\"Jones\", \"Watson\"], [\"White\", \"Mason\"], [\"Barker\", \"Ames\"], [\"Jones\", \"Athelney\"], [\"Slaney\", \"Cubitt\"], [\"Barker\", \"Douglas\"], [\"McGinty\", \"McMurdo\"], [\"Robert\", \"Ferguson\"], [\"Lestrade\", \"Mycroft\"], [\"Charles\", \"Baskerville\"], [\"Milverton\", \"Charles\"], [\"Lee\", \"Clair\"], [\"Tregennis\", \"Mortimer\"], [\"Lestrade\", \"Sherlock\"], [\"Baskerville\", \"Henry\"], [\"Charles\", \"Mortimer\"], [\"Adler\", \"Sherlock\"], [\"Sholto\", \"Bartholomew\"], [\"Lestrade\", \"Gregson\"], [\"Milverton\", \"Watson\"], [\"Charles\", \"Barrymore\"], [\"Moran\", \"Roylott\"], [\"Charles\", \"Hall\"], [\"Jim\", \"Browner\"], [\"Hudson\", \"Mycroft\"], [\"Von\", \"Baron\"], [\"Peter\", \"Lee\"], [\"Hudson\", \"Napoleon\"], [\"Lucy\", \"Ferrier\"], [\"Bannister\", \"Soames\"], [\"Lucy\", \"Hope\"], [\"Moriarty\", \"Sherlock\"], [\"Hudson\", \"Sherlock\"], [\"Wilson\", \"Jabez\"], [\"Ferrier\", \"Hope\"], [\"Peter\", \"Carey\"], [\"Hudson\", \"Barnicot\"], [\"Von\", \"Bork\"], [\"Morris\", \"McMurdo\"], [\"Hosmer\", \"Angel\"], [\"Huxtable\", \"Wilder\"], [\"Irene\", \"Adler\"], [\"Mortimer\", \"Baskerville\"], [\"Henry\", \"Baskerville\"], [\"Henry\", \"Stapleton\"], [\"Mortimer\", \"Henry\"], [\"Irene\", \"Sherlock\"], [\"Henry\", \"Mortimer\"], [\"Drebber\", \"Hope\"], [\"Percy\", \"Phelps\"], [\"Cyril\", \"Overton\"], [\"Willoughby\", \"Smith\"], [\"Brackenstall\", \"Eustace\"], [\"Jonas\", \"McFarlane\"], [\"Jonas\", \"Oldacre\"], [\"Henry\", \"Hall\"], [\"Alice\", \"Rucastle\"], [\"Simon\", \"Doran\"], [\"Hope\", \"Hilda\"], [\"Sherlock\", \"Hopkins\"], [\"Trevor\", \"Victor\"], [\"Percy\", \"Trevelyan\"], [\"Woodley\", \"Jack\"], [\"Stangerson\", \"Joseph\"], [\"Staunton\", \"Godfrey\"], [\"Bartholomew\", \"Sholto\"], [\"Stangerson\", \"Lestrade\"], [\"Woodley\", \"Carruthers\"], [\"Stangerson\", \"Drebber\"], [\"Acton\", \"Cunningham\"], [\"Ralph\", \"Smith\"], [\"Culverton\", \"Smith\"], [\"Cunningham\", \"Alec\"], [\"Scott\", \"Eccles\"], [\"Scott\", \"Gloria\"], [\"Pycroft\", \"Hall\"], [\"Armstrong\", \"Godfrey\"], [\"Watson\", \"Hudson\"], [\"Cadogan\", \"West\"], [\"Watson\", \"Moriarty\"], [\"Baker\", \"Henry\"], [\"Baker\", \"Hope\"], [\"Watson\", \"Trevor\"], [\"Watson\", \"Sherlock\"], [\"Baker\", \"Sherlock\"], [\"Watson\", \"Huxtable\"], [\"Smith\", \"Sherlock\"], [\"Watson\", \"Don\"], [\"Watson\", \"Musgrave\"], [\"Garcia\", \"Scott\"], [\"Armstrong\", \"Staunton\"], [\"Watson\", \"Baker\"], [\"Watson\", \"Smith\"], [\"Baker\", \"Watson\"], [\"Garcia\", \"Eccles\"], [\"Stoner\", \"Roylott\"], [\"Baker\", \"Jefferson\"], [\"Scanlan\", \"McMurdo\"], [\"Simpson\", \"Straker\"], [\"Hilton\", \"Slaney\"], [\"Roylott\", \"Moran\"], [\"Carey\", \"Lee\"], [\"Hall\", \"Baskerville\"], [\"Barrymore\", \"Baskerville\"], [\"Thaddeus\", \"Sholto\"], [\"Simpson\", \"Fitzroy\"], [\"Neville\", \"Clair\"], [\"Neville\", \"Lee\"], [\"William\", \"Morris\"], [\"Barrymore\", \"Henry\"], [\"Frank\", \"Simon\"], [\"William\", \"Cunningham\"], [\"Carey\", \"Neligan\"], [\"Barclay\", \"Morrison\"], [\"William\", \"Alec\"], [\"McFarlane\", \"Oldacre\"], [\"Hall\", \"Barrymore\"], [\"Hilton\", \"Cubitt\"], [\"Baldwin\", \"McMurdo\"], [\"McMurdo\", \"Jack\"], [\"Emsworth\", \"Godfrey\"], [\"Turner\", \"McCarthy\"], [\"Gregory\", \"Ross\"], [\"Jefferson\", \"Ferrier\"], [\"Sarah\", \"Mary\"], [\"Williamson\", \"Carruthers\"], [\"Jefferson\", \"Lucy\"], [\"Sarah\", \"Cushing\"], [\"Trevelyan\", \"Blessington\"], [\"Jefferson\", \"Hope\"], [\"Gilchrist\", \"Jabez\"], [\"Williamson\", \"Woodley\"], [\"Williamson\", \"Hall\"], [\"Stanley\", \"Hopkins\"], [\"Ames\", \"Douglas\"]], \"ipython\": true, \"error_msg\": \"\"}, e);\n",
       "                });\n",
       "            })();\n",
       "        "
      ]
     },
     "metadata": {},
     "output_type": "display_data"
    }
   ],
   "source": [
    "from collections import Counter\n",
    "c = Counter(person_list)\n",
    "# We are removing some mistken classified words, too common names, and etc. to make the constructed social network\n",
    "# more readable.\n",
    "characters_set = set(i[0] for i in c.most_common(200)) - set(['the', 'You', 'Mrs', 'He', 'Dr', 'me','did', 'Mr', \n",
    "                                      'Now', 'My', 'Miss', 'of', 'Sir', 'Here', 'All', 'Our', 'sir',\n",
    "                                      'man', 'father', 'What', 'There', 'When', 'no', 'Lord', 'you', 'St',\n",
    "                                      'John', 'James',  'Holmes', 'Arthur', 'Conan', 'Doyle', 'Lady'])\n",
    "\n",
    "sf_sentences = gl.load_sframe(\"%s/sentences.sframe\" % BASE_DIR)\n",
    "sf_sentences['characters'] = sf_sentences['words'].apply(lambda w: list(set(w) & characters_set))\n",
    "sf_sentences['characters_num'] = sf_sentences['characters'].apply(lambda l: len(l))\n",
    "sf_sentences = sf_sentences[sf_sentences['characters_num'] > 1]\n",
    "g = get_characters_graph(sf_sentences, min_edge_strength=3)\n",
    "print g.summary()\n",
    "g.show(vlabel=\"__id\", elabel=\"strength\", node_size=200)\n"
   ]
  },
  {
   "cell_type": "code",
   "execution_count": 22,
   "metadata": {
    "collapsed": false
   },
   "outputs": [],
   "source": [
    "# adding a function to clean the graph as in some cases the Stanford NER maps 'I' as a person.\n",
    "def clean_graph(g, remove_entities_set):\n",
    "    vertices = g.vertices[g.vertices[\"__id\"].apply(lambda v: v not in remove_entities_set)] \n",
    "    edges = g.edges[g.edges.apply(lambda e: e[\"__src_id\"] not in remove_entities_set and e[\"__dst_id\"] not in remove_entities_set)]\n",
    "    return gl.SGraph(vertices, edges)"
   ]
  },
  {
   "cell_type": "code",
   "execution_count": 23,
   "metadata": {
    "collapsed": false
   },
   "outputs": [
    {
     "data": {
      "application/javascript": [
       "$(\"head\").append($(\"<link/>\").attr({\n",
       "  rel:  \"stylesheet\",\n",
       "  type: \"text/css\",\n",
       "  href: \"//cdnjs.cloudflare.com/ajax/libs/font-awesome/4.1.0/css/font-awesome.min.css\"\n",
       "}));\n",
       "$(\"head\").append($(\"<link/>\").attr({\n",
       "  rel:  \"stylesheet\",\n",
       "  type: \"text/css\",\n",
       "  href: \"https://static.turi.com/products/graphlab-create/2.1/canvas/css/canvas.css\"\n",
       "}));\n",
       "\n",
       "            (function(){\n",
       "\n",
       "                var e = null;\n",
       "                if (typeof element == 'undefined') {\n",
       "                    var scripts = document.getElementsByTagName('script');\n",
       "                    var thisScriptTag = scripts[scripts.length-1];\n",
       "                    var parentDiv = thisScriptTag.parentNode;\n",
       "                    e = document.createElement('div');\n",
       "                    parentDiv.appendChild(e);\n",
       "                } else {\n",
       "                    e = element[0];\n",
       "                }\n",
       "\n",
       "                if (typeof requirejs !== 'undefined') {\n",
       "                    // disable load timeout; ipython_app.js is large and can take a while to load.\n",
       "                    requirejs.config({waitSeconds: 0});\n",
       "                }\n",
       "\n",
       "                require(['https://static.turi.com/products/graphlab-create/2.1/canvas/js/ipython_app.js'], function(IPythonApp){\n",
       "                    var app = new IPythonApp();\n",
       "                    app.attachView('sgraph','View', {\"edges_labels\": [16, 5, 4, 8, 12, 6, 8, 17, 4, 4, 3, 3, 27, 5, 19, 4, 13, 5, 5, 6, 21, 9, 6, 48, 11, 4, 3, 4, 6, 15, 4, 4, 4, 6, 6, 4, 4, 4, 4, 12, 4, 3, 4, 3, 18, 5, 42, 4, 70, 4, 36, 4, 32, 8, 23, 11, 3, 4, 6, 3, 14, 10, 18, 6, 6, 26, 3, 4, 6, 4, 4, 4, 6, 4, 10, 38, 3, 3, 18, 17, 4, 6, 18, 18, 36, 20, 26, 4, 6, 4, 34, 19, 3, 3, 13, 9, 4, 8, 4, 7, 6, 6, 7, 3, 3, 6, 4, 3, 7, 8, 4, 4, 4, 32, 3, 21, 14, 28, 6, 4, 4, 4, 4, 4, 6, 6, 8, 5, 42, 4, 5, 5, 6, 4, 5, 8, 8, 3, 8, 4, 37, 4, 8, 4, 56, 5], \"selected_variable\": {\"name\": [\"g\"], \"view_file\": \"sgraph\", \"view_component\": \"View\", \"view_params\": {\"elabel_hover\": false, \"vertex_positions\": null, \"h_offset\": 0.0, \"node_size\": 200, \"ecolor\": [0.37, 0.33, 0.33], \"elabel\": \"strength\", \"arrows\": false, \"ewidth\": 1, \"vlabel\": \"__id\", \"highlight_color\": [0.69, 0.0, 0.498], \"vcolor\": [0.522, 0.741, 0.0], \"vlabel_hover\": false, \"highlight\": {}, \"v_offset\": 0.03}, \"view_components\": [\"View\"], \"type\": \"SGraph\", \"descriptives_links\": {\"edges\": \"edges\", \"vertices\": \"vertices\"}, \"descriptives\": {\"edges\": 146, \"vertices\": 134}}, \"positions\": null, \"error_type\": 0, \"vertices\": [\"Straker\", \"Slaney\", \"Robert\", \"Sutherland\", \"Mycroft\", \"McGinty\", \"McCarthy\", \"MacDonald\", \"Joseph\", \"Angel\", \"Godfrey\", \"White\", \"Jack\", \"Barker\", \"Harrison\", \"Adair\", \"Jones\", \"Tregennis\", \"Wilder\", \"Sholto\", \"Ross\", \"Baron\", \"Lee\", \"Jim\", \"Fitzroy\", \"Clair\", \"Moran\", \"Milverton\", \"Charles\", \"Lestrade\", \"Adler\", \"Baskerville\", \"Wilson\", \"Von\", \"West\", \"Bannister\", \"Stapleton\", \"Moriarty\", \"Peter\", \"Morris\", \"Mary\", \"Lucy\", \"Hudson\", \"Carruthers\", \"Ferrier\", \"Napoleon\", \"Willoughby\", \"Simon\", \"Trevor\", \"Percy\", \"Soames\", \"Overton\", \"Mortimer\", \"Jabez\", \"Brackenstall\", \"Phelps\", \"Henry\", \"Hope\", \"Blessington\", \"Drebber\", \"Don\", \"Hosmer\", \"Irene\", \"Alice\", \"Cyril\", \"Cecil\", \"Jonas\", \"Huxtable\", \"Cushing\", \"Sherlock\", \"Woodley\", \"Staunton\", \"Scott\", \"Ralph\", \"Acton\", \"Pycroft\", \"Stangerson\", \"Neligan\", \"Musgrave\", \"Gregson\", \"Cunningham\", \"Culverton\", \"Bartholomew\", \"Stoner\", \"Morrison\", \"Scanlan\", \"Mason\", \"Garcia\", \"Watson\", \"Eustace\", \"Baker\", \"Cadogan\", \"Smith\", \"Eccles\", \"Armstrong\", \"Alec\", \"Roylott\", \"Frank\", \"McFarlane\", \"Hall\", \"Doran\", \"Browner\", \"Carey\", \"Bork\", \"Hilton\", \"Barnicot\", \"Neville\", \"Barclay\", \"Barrymore\", \"Baldwin\", \"William\", \"Thaddeus\", \"Simpson\", \"Oldacre\", \"Gloria\", \"Rucastle\", \"Williamson\", \"Stanley\", \"Sarah\", \"McMurdo\", \"Ames\", \"Cubitt\", \"Hopkins\", \"Hilda\", \"Gilchrist\", \"Turner\", \"Ferguson\", \"Gregory\", \"Victor\", \"Emsworth\", \"Douglas\", \"Athelney\", \"Trevelyan\", \"Jefferson\"], \"vertices_labels\": [\"Straker\", \"Slaney\", \"Robert\", \"Sutherland\", \"Mycroft\", \"McGinty\", \"McCarthy\", \"MacDonald\", \"Joseph\", \"Angel\", \"Godfrey\", \"White\", \"Jack\", \"Barker\", \"Harrison\", \"Adair\", \"Jones\", \"Tregennis\", \"Wilder\", \"Sholto\", \"Ross\", \"Baron\", \"Lee\", \"Jim\", \"Fitzroy\", \"Clair\", \"Moran\", \"Milverton\", \"Charles\", \"Lestrade\", \"Adler\", \"Baskerville\", \"Wilson\", \"Von\", \"West\", \"Bannister\", \"Stapleton\", \"Moriarty\", \"Peter\", \"Morris\", \"Mary\", \"Lucy\", \"Hudson\", \"Carruthers\", \"Ferrier\", \"Napoleon\", \"Willoughby\", \"Simon\", \"Trevor\", \"Percy\", \"Soames\", \"Overton\", \"Mortimer\", \"Jabez\", \"Brackenstall\", \"Phelps\", \"Henry\", \"Hope\", \"Blessington\", \"Drebber\", \"Don\", \"Hosmer\", \"Irene\", \"Alice\", \"Cyril\", \"Cecil\", \"Jonas\", \"Huxtable\", \"Cushing\", \"Sherlock\", \"Woodley\", \"Staunton\", \"Scott\", \"Ralph\", \"Acton\", \"Pycroft\", \"Stangerson\", \"Neligan\", \"Musgrave\", \"Gregson\", \"Cunningham\", \"Culverton\", \"Bartholomew\", \"Stoner\", \"Morrison\", \"Scanlan\", \"Mason\", \"Garcia\", \"Watson\", \"Eustace\", \"Baker\", \"Cadogan\", \"Smith\", \"Eccles\", \"Armstrong\", \"Alec\", \"Roylott\", \"Frank\", \"McFarlane\", \"Hall\", \"Doran\", \"Browner\", \"Carey\", \"Bork\", \"Hilton\", \"Barnicot\", \"Neville\", \"Barclay\", \"Barrymore\", \"Baldwin\", \"William\", \"Thaddeus\", \"Simpson\", \"Oldacre\", \"Gloria\", \"Rucastle\", \"Williamson\", \"Stanley\", \"Sarah\", \"McMurdo\", \"Ames\", \"Cubitt\", \"Hopkins\", \"Hilda\", \"Gilchrist\", \"Turner\", \"Ferguson\", \"Gregory\", \"Victor\", \"Emsworth\", \"Douglas\", \"Athelney\", \"Trevelyan\", \"Jefferson\"], \"edges\": [[\"Joseph\", \"Harrison\"], [\"McGinty\", \"Jack\"], [\"MacDonald\", \"White\"], [\"Adair\", \"Moran\"], [\"Sutherland\", \"Mary\"], [\"Mycroft\", \"Sherlock\"], [\"Robert\", \"Simon\"], [\"Barker\", \"Cecil\"], [\"Joseph\", \"Drebber\"], [\"MacDonald\", \"Mason\"], [\"Joseph\", \"Smith\"], [\"Jones\", \"Watson\"], [\"White\", \"Mason\"], [\"Barker\", \"Ames\"], [\"Jones\", \"Athelney\"], [\"Slaney\", \"Cubitt\"], [\"Barker\", \"Douglas\"], [\"McGinty\", \"McMurdo\"], [\"Robert\", \"Ferguson\"], [\"Lestrade\", \"Mycroft\"], [\"Charles\", \"Baskerville\"], [\"Milverton\", \"Charles\"], [\"Lee\", \"Clair\"], [\"Tregennis\", \"Mortimer\"], [\"Lestrade\", \"Sherlock\"], [\"Baskerville\", \"Henry\"], [\"Charles\", \"Mortimer\"], [\"Adler\", \"Sherlock\"], [\"Sholto\", \"Bartholomew\"], [\"Lestrade\", \"Gregson\"], [\"Milverton\", \"Watson\"], [\"Charles\", \"Barrymore\"], [\"Moran\", \"Roylott\"], [\"Charles\", \"Hall\"], [\"Jim\", \"Browner\"], [\"Hudson\", \"Mycroft\"], [\"Von\", \"Baron\"], [\"Peter\", \"Lee\"], [\"Hudson\", \"Napoleon\"], [\"Lucy\", \"Ferrier\"], [\"Bannister\", \"Soames\"], [\"Lucy\", \"Hope\"], [\"Moriarty\", \"Sherlock\"], [\"Hudson\", \"Sherlock\"], [\"Wilson\", \"Jabez\"], [\"Ferrier\", \"Hope\"], [\"Peter\", \"Carey\"], [\"Hudson\", \"Barnicot\"], [\"Von\", \"Bork\"], [\"Morris\", \"McMurdo\"], [\"Hosmer\", \"Angel\"], [\"Huxtable\", \"Wilder\"], [\"Irene\", \"Adler\"], [\"Mortimer\", \"Baskerville\"], [\"Henry\", \"Baskerville\"], [\"Henry\", \"Stapleton\"], [\"Mortimer\", \"Henry\"], [\"Irene\", \"Sherlock\"], [\"Henry\", \"Mortimer\"], [\"Drebber\", \"Hope\"], [\"Percy\", \"Phelps\"], [\"Cyril\", \"Overton\"], [\"Willoughby\", \"Smith\"], [\"Brackenstall\", \"Eustace\"], [\"Jonas\", \"McFarlane\"], [\"Jonas\", \"Oldacre\"], [\"Henry\", \"Hall\"], [\"Alice\", \"Rucastle\"], [\"Simon\", \"Doran\"], [\"Hope\", \"Hilda\"], [\"Sherlock\", \"Hopkins\"], [\"Trevor\", \"Victor\"], [\"Percy\", \"Trevelyan\"], [\"Woodley\", \"Jack\"], [\"Stangerson\", \"Joseph\"], [\"Staunton\", \"Godfrey\"], [\"Bartholomew\", \"Sholto\"], [\"Stangerson\", \"Lestrade\"], [\"Woodley\", \"Carruthers\"], [\"Stangerson\", \"Drebber\"], [\"Acton\", \"Cunningham\"], [\"Ralph\", \"Smith\"], [\"Culverton\", \"Smith\"], [\"Cunningham\", \"Alec\"], [\"Scott\", \"Eccles\"], [\"Scott\", \"Gloria\"], [\"Pycroft\", \"Hall\"], [\"Armstrong\", \"Godfrey\"], [\"Watson\", \"Moriarty\"], [\"Watson\", \"Hudson\"], [\"Cadogan\", \"West\"], [\"Baker\", \"Henry\"], [\"Baker\", \"Hope\"], [\"Watson\", \"Trevor\"], [\"Watson\", \"Sherlock\"], [\"Baker\", \"Sherlock\"], [\"Watson\", \"Huxtable\"], [\"Smith\", \"Sherlock\"], [\"Watson\", \"Don\"], [\"Watson\", \"Musgrave\"], [\"Garcia\", \"Scott\"], [\"Armstrong\", \"Staunton\"], [\"Watson\", \"Baker\"], [\"Watson\", \"Smith\"], [\"Baker\", \"Watson\"], [\"Garcia\", \"Eccles\"], [\"Stoner\", \"Roylott\"], [\"Baker\", \"Jefferson\"], [\"Scanlan\", \"McMurdo\"], [\"Simpson\", \"Straker\"], [\"Hilton\", \"Slaney\"], [\"Roylott\", \"Moran\"], [\"Carey\", \"Lee\"], [\"Hall\", \"Baskerville\"], [\"Barrymore\", \"Baskerville\"], [\"Thaddeus\", \"Sholto\"], [\"Simpson\", \"Fitzroy\"], [\"Neville\", \"Clair\"], [\"Neville\", \"Lee\"], [\"William\", \"Morris\"], [\"Barrymore\", \"Henry\"], [\"Frank\", \"Simon\"], [\"William\", \"Cunningham\"], [\"Carey\", \"Neligan\"], [\"Barclay\", \"Morrison\"], [\"William\", \"Alec\"], [\"McFarlane\", \"Oldacre\"], [\"Hall\", \"Barrymore\"], [\"Hilton\", \"Cubitt\"], [\"Baldwin\", \"McMurdo\"], [\"McMurdo\", \"Jack\"], [\"Emsworth\", \"Godfrey\"], [\"Turner\", \"McCarthy\"], [\"Gregory\", \"Ross\"], [\"Jefferson\", \"Ferrier\"], [\"Sarah\", \"Mary\"], [\"Williamson\", \"Carruthers\"], [\"Jefferson\", \"Lucy\"], [\"Sarah\", \"Cushing\"], [\"Trevelyan\", \"Blessington\"], [\"Jefferson\", \"Hope\"], [\"Gilchrist\", \"Jabez\"], [\"Williamson\", \"Woodley\"], [\"Williamson\", \"Hall\"], [\"Stanley\", \"Hopkins\"], [\"Ames\", \"Douglas\"]], \"ipython\": true, \"error_msg\": \"\"}, e);\n",
       "                });\n",
       "            })();\n",
       "        "
      ]
     },
     "metadata": {},
     "output_type": "display_data"
    }
   ],
   "source": [
    "#cleaning the graph and displaying it again\n",
    "g = clean_graph(g, {\"I\"})\n",
    "g.show(vlabel=\"__id\", elabel=\"strength\", node_size=200)"
   ]
  },
  {
   "cell_type": "markdown",
   "metadata": {},
   "source": [
    "The NER algorithm did pretty good job, and most of the names of the identified entities looks logical (at least to me).\n",
    "Additionally, we can understand the link between the various book characters. We can also notice that in many of the graph's components that have only two vertices  the connection is between each characfter first and it's last names. Let use GraphLab [graph_analytics toolkit](https://turi.com/products/create/docs/graphlab.toolkits.graph_analytics.html) and focus on the social network's largest component."
   ]
  },
  {
   "cell_type": "code",
   "execution_count": 24,
   "metadata": {
    "collapsed": false
   },
   "outputs": [
    {
     "data": {
      "text/html": [
       "<pre>+-----------------------------+</pre>"
      ],
      "text/plain": [
       "+-----------------------------+"
      ]
     },
     "metadata": {},
     "output_type": "display_data"
    },
    {
     "data": {
      "text/html": [
       "<pre>| Number of components merged |</pre>"
      ],
      "text/plain": [
       "| Number of components merged |"
      ]
     },
     "metadata": {},
     "output_type": "display_data"
    },
    {
     "data": {
      "text/html": [
       "<pre>+-----------------------------+</pre>"
      ],
      "text/plain": [
       "+-----------------------------+"
      ]
     },
     "metadata": {},
     "output_type": "display_data"
    },
    {
     "data": {
      "text/html": [
       "<pre>| 144                         |</pre>"
      ],
      "text/plain": [
       "| 144                         |"
      ]
     },
     "metadata": {},
     "output_type": "display_data"
    },
    {
     "data": {
      "text/html": [
       "<pre>| 0                           |</pre>"
      ],
      "text/plain": [
       "| 0                           |"
      ]
     },
     "metadata": {},
     "output_type": "display_data"
    },
    {
     "data": {
      "text/html": [
       "<pre>+-----------------------------+</pre>"
      ],
      "text/plain": [
       "+-----------------------------+"
      ]
     },
     "metadata": {},
     "output_type": "display_data"
    },
    {
     "data": {
      "application/javascript": [
       "$(\"head\").append($(\"<link/>\").attr({\n",
       "  rel:  \"stylesheet\",\n",
       "  type: \"text/css\",\n",
       "  href: \"//cdnjs.cloudflare.com/ajax/libs/font-awesome/4.1.0/css/font-awesome.min.css\"\n",
       "}));\n",
       "$(\"head\").append($(\"<link/>\").attr({\n",
       "  rel:  \"stylesheet\",\n",
       "  type: \"text/css\",\n",
       "  href: \"https://static.turi.com/products/graphlab-create/2.1/canvas/css/canvas.css\"\n",
       "}));\n",
       "\n",
       "            (function(){\n",
       "\n",
       "                var e = null;\n",
       "                if (typeof element == 'undefined') {\n",
       "                    var scripts = document.getElementsByTagName('script');\n",
       "                    var thisScriptTag = scripts[scripts.length-1];\n",
       "                    var parentDiv = thisScriptTag.parentNode;\n",
       "                    e = document.createElement('div');\n",
       "                    parentDiv.appendChild(e);\n",
       "                } else {\n",
       "                    e = element[0];\n",
       "                }\n",
       "\n",
       "                if (typeof requirejs !== 'undefined') {\n",
       "                    // disable load timeout; ipython_app.js is large and can take a while to load.\n",
       "                    requirejs.config({waitSeconds: 0});\n",
       "                }\n",
       "\n",
       "                require(['https://static.turi.com/products/graphlab-create/2.1/canvas/js/ipython_app.js'], function(IPythonApp){\n",
       "                    var app = new IPythonApp();\n",
       "                    app.attachView('sgraph','View', {\"edges_labels\": [5, 16, 6, 4, 3, 3, 19, 5, 6, 21, 9, 4, 4, 11, 3, 48, 15, 4, 6, 4, 4, 12, 4, 3, 3, 4, 5, 4, 4, 32, 4, 8, 23, 11, 6, 3, 3, 4, 18, 3, 4, 4, 4, 4, 10, 3, 18, 17, 4, 18, 6, 18, 26, 4, 6, 3, 8, 9, 13, 4, 4, 3, 19, 7, 3, 3, 7, 3, 7, 3, 32, 4, 4, 4, 6, 5, 4, 5, 3, 8, 5, 37, 8, 4, 56], \"selected_variable\": {\"name\": [\"h\"], \"view_file\": \"sgraph\", \"view_component\": \"View\", \"view_params\": {\"elabel_hover\": false, \"vertex_positions\": null, \"h_offset\": 0.0, \"node_size\": 300, \"ecolor\": [0.37, 0.33, 0.33], \"elabel\": \"strength\", \"arrows\": false, \"ewidth\": 1, \"vlabel\": \"__id\", \"highlight_color\": [0.69, 0.0, 0.498], \"vcolor\": [0.522, 0.741, 0.0], \"vlabel_hover\": false, \"highlight\": {}, \"v_offset\": 0.03}, \"view_components\": [\"View\"], \"type\": \"SGraph\", \"descriptives_links\": {\"edges\": \"edges\", \"vertices\": \"vertices\"}, \"descriptives\": {\"edges\": 85, \"vertices\": 58}}, \"positions\": null, \"error_type\": 0, \"vertices\": [\"Harrison\", \"Jack\", \"Joseph\", \"McGinty\", \"Jones\", \"Mycroft\", \"Baskerville\", \"Adler\", \"Lestrade\", \"Milverton\", \"Charles\", \"Wilder\", \"Tregennis\", \"Stapleton\", \"Napoleon\", \"Ferrier\", \"Hudson\", \"Carruthers\", \"Morris\", \"Lucy\", \"Moriarty\", \"Don\", \"Drebber\", \"Hope\", \"Henry\", \"Mortimer\", \"Irene\", \"Willoughby\", \"Trevor\", \"Sherlock\", \"Huxtable\", \"Culverton\", \"Cunningham\", \"Musgrave\", \"Gregson\", \"Stangerson\", \"Acton\", \"Ralph\", \"Pycroft\", \"Woodley\", \"Alec\", \"Smith\", \"Baker\", \"Watson\", \"Scanlan\", \"Barrymore\", \"Barnicot\", \"Baldwin\", \"Hall\", \"William\", \"Jefferson\", \"Athelney\", \"Victor\", \"Hilda\", \"Hopkins\", \"Williamson\", \"McMurdo\", \"Stanley\"], \"vertices_labels\": [\"Harrison\", \"Jack\", \"Joseph\", \"McGinty\", \"Jones\", \"Mycroft\", \"Baskerville\", \"Adler\", \"Lestrade\", \"Milverton\", \"Charles\", \"Wilder\", \"Tregennis\", \"Stapleton\", \"Napoleon\", \"Ferrier\", \"Hudson\", \"Carruthers\", \"Morris\", \"Lucy\", \"Moriarty\", \"Don\", \"Drebber\", \"Hope\", \"Henry\", \"Mortimer\", \"Irene\", \"Willoughby\", \"Trevor\", \"Sherlock\", \"Huxtable\", \"Culverton\", \"Cunningham\", \"Musgrave\", \"Gregson\", \"Stangerson\", \"Acton\", \"Ralph\", \"Pycroft\", \"Woodley\", \"Alec\", \"Smith\", \"Baker\", \"Watson\", \"Scanlan\", \"Barrymore\", \"Barnicot\", \"Baldwin\", \"Hall\", \"William\", \"Jefferson\", \"Athelney\", \"Victor\", \"Hilda\", \"Hopkins\", \"Williamson\", \"McMurdo\", \"Stanley\"], \"edges\": [[\"McGinty\", \"Jack\"], [\"Joseph\", \"Harrison\"], [\"Mycroft\", \"Sherlock\"], [\"Joseph\", \"Drebber\"], [\"Jones\", \"Watson\"], [\"Joseph\", \"Smith\"], [\"Jones\", \"Athelney\"], [\"McGinty\", \"McMurdo\"], [\"Lestrade\", \"Mycroft\"], [\"Charles\", \"Baskerville\"], [\"Milverton\", \"Charles\"], [\"Adler\", \"Sherlock\"], [\"Baskerville\", \"Henry\"], [\"Lestrade\", \"Sherlock\"], [\"Charles\", \"Mortimer\"], [\"Tregennis\", \"Mortimer\"], [\"Lestrade\", \"Gregson\"], [\"Milverton\", \"Watson\"], [\"Charles\", \"Hall\"], [\"Charles\", \"Barrymore\"], [\"Hudson\", \"Mycroft\"], [\"Lucy\", \"Ferrier\"], [\"Hudson\", \"Napoleon\"], [\"Lucy\", \"Hope\"], [\"Hudson\", \"Sherlock\"], [\"Moriarty\", \"Sherlock\"], [\"Ferrier\", \"Hope\"], [\"Hudson\", \"Barnicot\"], [\"Morris\", \"McMurdo\"], [\"Irene\", \"Adler\"], [\"Huxtable\", \"Wilder\"], [\"Mortimer\", \"Baskerville\"], [\"Henry\", \"Baskerville\"], [\"Henry\", \"Stapleton\"], [\"Henry\", \"Mortimer\"], [\"Mortimer\", \"Henry\"], [\"Drebber\", \"Hope\"], [\"Irene\", \"Sherlock\"], [\"Willoughby\", \"Smith\"], [\"Henry\", \"Hall\"], [\"Sherlock\", \"Hopkins\"], [\"Hope\", \"Hilda\"], [\"Trevor\", \"Victor\"], [\"Woodley\", \"Jack\"], [\"Stangerson\", \"Joseph\"], [\"Stangerson\", \"Lestrade\"], [\"Woodley\", \"Carruthers\"], [\"Stangerson\", \"Drebber\"], [\"Acton\", \"Cunningham\"], [\"Culverton\", \"Smith\"], [\"Ralph\", \"Smith\"], [\"Cunningham\", \"Alec\"], [\"Pycroft\", \"Hall\"], [\"Watson\", \"Hudson\"], [\"Watson\", \"Moriarty\"], [\"Watson\", \"Trevor\"], [\"Smith\", \"Sherlock\"], [\"Baker\", \"Sherlock\"], [\"Watson\", \"Sherlock\"], [\"Watson\", \"Huxtable\"], [\"Watson\", \"Don\"], [\"Baker\", \"Hope\"], [\"Baker\", \"Henry\"], [\"Watson\", \"Musgrave\"], [\"Watson\", \"Smith\"], [\"Baker\", \"Watson\"], [\"Watson\", \"Baker\"], [\"Baker\", \"Jefferson\"], [\"Scanlan\", \"McMurdo\"], [\"Barrymore\", \"Baskerville\"], [\"Hall\", \"Baskerville\"], [\"William\", \"Morris\"], [\"Barrymore\", \"Henry\"], [\"William\", \"Cunningham\"], [\"William\", \"Alec\"], [\"Hall\", \"Barrymore\"], [\"Baldwin\", \"McMurdo\"], [\"McMurdo\", \"Jack\"], [\"Jefferson\", \"Lucy\"], [\"Williamson\", \"Carruthers\"], [\"Jefferson\", \"Ferrier\"], [\"Jefferson\", \"Hope\"], [\"Williamson\", \"Woodley\"], [\"Williamson\", \"Hall\"], [\"Stanley\", \"Hopkins\"]], \"ipython\": true, \"error_msg\": \"\"}, e);\n",
       "                });\n",
       "            })();\n",
       "        "
      ]
     },
     "metadata": {},
     "output_type": "display_data"
    }
   ],
   "source": [
    "def get_graph_largest_compnent(g):\n",
    "    \"\"\"\n",
    "    Returns a graph with the largest component of the input graph\n",
    "    :param g: input graph (SGraph object)\n",
    "    :return: a graph of the largest component in the input object\n",
    "    :rtype: gl.SGraph\n",
    "    \"\"\"\n",
    "    \n",
    "    cc = gl.connected_components.create(g)    \n",
    "    #add each vertices its component id\n",
    "    g.vertices['component_id'] = cc['graph'].vertices['component_id']\n",
    "    # calculate the component id of the largest component\n",
    "    largest_component_id = cc['component_size'].sort('Count', ascending=False)[0]['component_id']\n",
    "    largest_component_verticies = g.vertices.filter_by(largest_component_id, 'component_id')['__id']\n",
    "    h = g.get_neighborhood(largest_component_verticies, 1)\n",
    "    return h\n",
    "\n",
    "h = get_graph_largest_compnent(g)  \n",
    "h.show(vlabel=\"__id\", elabel=\"strength\", node_size=300)"
   ]
  },
  {
   "cell_type": "code",
   "execution_count": 25,
   "metadata": {
    "collapsed": false
   },
   "outputs": [
    {
     "data": {
      "application/javascript": [
       "$(\"head\").append($(\"<link/>\").attr({\n",
       "  rel:  \"stylesheet\",\n",
       "  type: \"text/css\",\n",
       "  href: \"//cdnjs.cloudflare.com/ajax/libs/font-awesome/4.1.0/css/font-awesome.min.css\"\n",
       "}));\n",
       "$(\"head\").append($(\"<link/>\").attr({\n",
       "  rel:  \"stylesheet\",\n",
       "  type: \"text/css\",\n",
       "  href: \"https://static.turi.com/products/graphlab-create/2.1/canvas/css/canvas.css\"\n",
       "}));\n",
       "\n",
       "            (function(){\n",
       "\n",
       "                var e = null;\n",
       "                if (typeof element == 'undefined') {\n",
       "                    var scripts = document.getElementsByTagName('script');\n",
       "                    var thisScriptTag = scripts[scripts.length-1];\n",
       "                    var parentDiv = thisScriptTag.parentNode;\n",
       "                    e = document.createElement('div');\n",
       "                    parentDiv.appendChild(e);\n",
       "                } else {\n",
       "                    e = element[0];\n",
       "                }\n",
       "\n",
       "                if (typeof requirejs !== 'undefined') {\n",
       "                    // disable load timeout; ipython_app.js is large and can take a while to load.\n",
       "                    requirejs.config({waitSeconds: 0});\n",
       "                }\n",
       "\n",
       "                require(['https://static.turi.com/products/graphlab-create/2.1/canvas/js/ipython_app.js'], function(IPythonApp){\n",
       "                    var app = new IPythonApp();\n",
       "                    app.attachView('sgraph','View', {\"edges_labels\": [16, 5, 4, 8, 12, 6, 8, 17, 4, 4, 3, 3, 27, 5, 5, 19, 4, 13, 5, 6, 21, 9, 6, 48, 11, 4, 3, 4, 6, 15, 4, 4, 4, 6, 6, 4, 4, 4, 4, 12, 4, 3, 4, 3, 18, 5, 42, 4, 70, 4, 36, 23, 4, 32, 8, 11, 3, 4, 6, 3, 14, 10, 18, 6, 6, 26, 3, 4, 6, 4, 4, 4, 6, 4, 10, 38, 3, 3, 18, 17, 4, 6, 18, 18, 36, 20, 26, 4, 6, 4, 34, 19, 3, 3, 13, 9, 4, 8, 4, 7, 6, 6, 7, 3, 3, 6, 4, 3, 7, 8, 4, 4, 4, 32, 3, 21, 14, 28, 6, 4, 4, 4, 4, 4, 6, 6, 8, 5, 42, 4, 5, 5, 6, 4, 5, 8, 8, 3, 8, 4, 37, 4, 8, 4, 56, 5], \"selected_variable\": {\"name\": [\"h\"], \"view_file\": \"sgraph\", \"view_component\": \"View\", \"view_params\": {\"elabel_hover\": false, \"vertex_positions\": null, \"h_offset\": 0.0, \"node_size\": 300, \"ecolor\": [0.37, 0.33, 0.33], \"elabel\": \"strength\", \"arrows\": false, \"ewidth\": 1, \"vlabel\": \"__id\", \"highlight_color\": [0.69, 0.0, 0.498], \"vcolor\": [0.522, 0.741, 0.0], \"vlabel_hover\": false, \"highlight\": {}, \"v_offset\": 0.03}, \"view_components\": [\"View\"], \"type\": \"SGraph\", \"descriptives_links\": {\"edges\": \"edges\", \"vertices\": \"vertices\"}, \"descriptives\": {\"edges\": 146, \"vertices\": 134}}, \"positions\": null, \"error_type\": 0, \"vertices\": [\"Harrison\", \"Barker\", \"Jack\", \"White\", \"Godfrey\", \"Joseph\", \"McGinty\", \"Angel\", \"Mycroft\", \"Sutherland\", \"MacDonald\", \"McCarthy\", \"Adair\", \"Jones\", \"Robert\", \"Slaney\", \"Straker\", \"Baskerville\", \"Adler\", \"Lestrade\", \"Charles\", \"Milverton\", \"Moran\", \"Fitzroy\", \"Jim\", \"Lee\", \"Baron\", \"Ross\", \"Sholto\", \"Wilder\", \"Clair\", \"Tregennis\", \"Napoleon\", \"Ferrier\", \"Carruthers\", \"Lucy\", \"Moriarty\", \"Von\", \"West\", \"Stapleton\", \"Bannister\", \"Mary\", \"Morris\", \"Peter\", \"Hudson\", \"Wilson\", \"Sherlock\", \"Cushing\", \"Huxtable\", \"Jonas\", \"Cyril\", \"Alice\", \"Irene\", \"Hosmer\", \"Don\", \"Drebber\", \"Blessington\", \"Hope\", \"Phelps\", \"Henry\", \"Brackenstall\", \"Mortimer\", \"Overton\", \"Trevor\", \"Simon\", \"Soames\", \"Cecil\", \"Jabez\", \"Percy\", \"Willoughby\", \"Bartholomew\", \"Culverton\", \"Stangerson\", \"Neligan\", \"Gregson\", \"Scott\", \"Ralph\", \"Pycroft\", \"Acton\", \"Musgrave\", \"Cunningham\", \"Staunton\", \"Woodley\", \"Alec\", \"Armstrong\", \"Smith\", \"Cadogan\", \"Baker\", \"Eustace\", \"Watson\", \"Scanlan\", \"Garcia\", \"Mason\", \"Morrison\", \"Eccles\", \"Stoner\", \"Rucastle\", \"Gloria\", \"Oldacre\", \"Simpson\", \"Thaddeus\", \"William\", \"Baldwin\", \"Barrymore\", \"Barnicot\", \"Hilton\", \"Bork\", \"Carey\", \"Doran\", \"Hall\", \"McFarlane\", \"Roylott\", \"Frank\", \"Barclay\", \"Neville\", \"Browner\", \"Jefferson\", \"Trevelyan\", \"Athelney\", \"Douglas\", \"Emsworth\", \"Victor\", \"Gregory\", \"Ferguson\", \"Turner\", \"Gilchrist\", \"Hilda\", \"Ames\", \"Hopkins\", \"Cubitt\", \"Williamson\", \"McMurdo\", \"Sarah\", \"Stanley\"], \"vertices_labels\": [\"Harrison\", \"Barker\", \"Jack\", \"White\", \"Godfrey\", \"Joseph\", \"McGinty\", \"Angel\", \"Mycroft\", \"Sutherland\", \"MacDonald\", \"McCarthy\", \"Adair\", \"Jones\", \"Robert\", \"Slaney\", \"Straker\", \"Baskerville\", \"Adler\", \"Lestrade\", \"Charles\", \"Milverton\", \"Moran\", \"Fitzroy\", \"Jim\", \"Lee\", \"Baron\", \"Ross\", \"Sholto\", \"Wilder\", \"Clair\", \"Tregennis\", \"Napoleon\", \"Ferrier\", \"Carruthers\", \"Lucy\", \"Moriarty\", \"Von\", \"West\", \"Stapleton\", \"Bannister\", \"Mary\", \"Morris\", \"Peter\", \"Hudson\", \"Wilson\", \"Sherlock\", \"Cushing\", \"Huxtable\", \"Jonas\", \"Cyril\", \"Alice\", \"Irene\", \"Hosmer\", \"Don\", \"Drebber\", \"Blessington\", \"Hope\", \"Phelps\", \"Henry\", \"Brackenstall\", \"Mortimer\", \"Overton\", \"Trevor\", \"Simon\", \"Soames\", \"Cecil\", \"Jabez\", \"Percy\", \"Willoughby\", \"Bartholomew\", \"Culverton\", \"Stangerson\", \"Neligan\", \"Gregson\", \"Scott\", \"Ralph\", \"Pycroft\", \"Acton\", \"Musgrave\", \"Cunningham\", \"Staunton\", \"Woodley\", \"Alec\", \"Armstrong\", \"Smith\", \"Cadogan\", \"Baker\", \"Eustace\", \"Watson\", \"Scanlan\", \"Garcia\", \"Mason\", \"Morrison\", \"Eccles\", \"Stoner\", \"Rucastle\", \"Gloria\", \"Oldacre\", \"Simpson\", \"Thaddeus\", \"William\", \"Baldwin\", \"Barrymore\", \"Barnicot\", \"Hilton\", \"Bork\", \"Carey\", \"Doran\", \"Hall\", \"McFarlane\", \"Roylott\", \"Frank\", \"Barclay\", \"Neville\", \"Browner\", \"Jefferson\", \"Trevelyan\", \"Athelney\", \"Douglas\", \"Emsworth\", \"Victor\", \"Gregory\", \"Ferguson\", \"Turner\", \"Gilchrist\", \"Hilda\", \"Ames\", \"Hopkins\", \"Cubitt\", \"Williamson\", \"McMurdo\", \"Sarah\", \"Stanley\"], \"edges\": [[\"Joseph\", \"Harrison\"], [\"McGinty\", \"Jack\"], [\"MacDonald\", \"White\"], [\"Adair\", \"Moran\"], [\"Sutherland\", \"Mary\"], [\"Mycroft\", \"Sherlock\"], [\"Robert\", \"Simon\"], [\"Barker\", \"Cecil\"], [\"Joseph\", \"Drebber\"], [\"MacDonald\", \"Mason\"], [\"Joseph\", \"Smith\"], [\"Jones\", \"Watson\"], [\"White\", \"Mason\"], [\"Robert\", \"Ferguson\"], [\"Barker\", \"Ames\"], [\"Jones\", \"Athelney\"], [\"Slaney\", \"Cubitt\"], [\"Barker\", \"Douglas\"], [\"McGinty\", \"McMurdo\"], [\"Lestrade\", \"Mycroft\"], [\"Charles\", \"Baskerville\"], [\"Milverton\", \"Charles\"], [\"Lee\", \"Clair\"], [\"Tregennis\", \"Mortimer\"], [\"Lestrade\", \"Sherlock\"], [\"Baskerville\", \"Henry\"], [\"Charles\", \"Mortimer\"], [\"Adler\", \"Sherlock\"], [\"Sholto\", \"Bartholomew\"], [\"Lestrade\", \"Gregson\"], [\"Milverton\", \"Watson\"], [\"Charles\", \"Barrymore\"], [\"Moran\", \"Roylott\"], [\"Charles\", \"Hall\"], [\"Jim\", \"Browner\"], [\"Hudson\", \"Mycroft\"], [\"Von\", \"Baron\"], [\"Peter\", \"Lee\"], [\"Hudson\", \"Napoleon\"], [\"Lucy\", \"Ferrier\"], [\"Bannister\", \"Soames\"], [\"Lucy\", \"Hope\"], [\"Moriarty\", \"Sherlock\"], [\"Hudson\", \"Sherlock\"], [\"Wilson\", \"Jabez\"], [\"Ferrier\", \"Hope\"], [\"Peter\", \"Carey\"], [\"Hudson\", \"Barnicot\"], [\"Von\", \"Bork\"], [\"Morris\", \"McMurdo\"], [\"Hosmer\", \"Angel\"], [\"Henry\", \"Baskerville\"], [\"Huxtable\", \"Wilder\"], [\"Irene\", \"Adler\"], [\"Mortimer\", \"Baskerville\"], [\"Henry\", \"Stapleton\"], [\"Mortimer\", \"Henry\"], [\"Irene\", \"Sherlock\"], [\"Henry\", \"Mortimer\"], [\"Drebber\", \"Hope\"], [\"Percy\", \"Phelps\"], [\"Cyril\", \"Overton\"], [\"Willoughby\", \"Smith\"], [\"Brackenstall\", \"Eustace\"], [\"Jonas\", \"McFarlane\"], [\"Jonas\", \"Oldacre\"], [\"Henry\", \"Hall\"], [\"Alice\", \"Rucastle\"], [\"Simon\", \"Doran\"], [\"Hope\", \"Hilda\"], [\"Sherlock\", \"Hopkins\"], [\"Trevor\", \"Victor\"], [\"Percy\", \"Trevelyan\"], [\"Woodley\", \"Jack\"], [\"Stangerson\", \"Joseph\"], [\"Staunton\", \"Godfrey\"], [\"Bartholomew\", \"Sholto\"], [\"Stangerson\", \"Lestrade\"], [\"Woodley\", \"Carruthers\"], [\"Stangerson\", \"Drebber\"], [\"Acton\", \"Cunningham\"], [\"Ralph\", \"Smith\"], [\"Culverton\", \"Smith\"], [\"Cunningham\", \"Alec\"], [\"Scott\", \"Eccles\"], [\"Scott\", \"Gloria\"], [\"Pycroft\", \"Hall\"], [\"Armstrong\", \"Godfrey\"], [\"Watson\", \"Moriarty\"], [\"Watson\", \"Hudson\"], [\"Cadogan\", \"West\"], [\"Baker\", \"Henry\"], [\"Baker\", \"Hope\"], [\"Watson\", \"Trevor\"], [\"Watson\", \"Sherlock\"], [\"Baker\", \"Sherlock\"], [\"Watson\", \"Huxtable\"], [\"Smith\", \"Sherlock\"], [\"Watson\", \"Don\"], [\"Watson\", \"Musgrave\"], [\"Garcia\", \"Scott\"], [\"Armstrong\", \"Staunton\"], [\"Watson\", \"Baker\"], [\"Watson\", \"Smith\"], [\"Baker\", \"Watson\"], [\"Garcia\", \"Eccles\"], [\"Stoner\", \"Roylott\"], [\"Baker\", \"Jefferson\"], [\"Scanlan\", \"McMurdo\"], [\"Simpson\", \"Straker\"], [\"Hilton\", \"Slaney\"], [\"Roylott\", \"Moran\"], [\"Carey\", \"Lee\"], [\"Hall\", \"Baskerville\"], [\"Barrymore\", \"Baskerville\"], [\"Thaddeus\", \"Sholto\"], [\"Simpson\", \"Fitzroy\"], [\"Neville\", \"Clair\"], [\"Neville\", \"Lee\"], [\"William\", \"Morris\"], [\"Barrymore\", \"Henry\"], [\"Frank\", \"Simon\"], [\"William\", \"Cunningham\"], [\"Carey\", \"Neligan\"], [\"Barclay\", \"Morrison\"], [\"William\", \"Alec\"], [\"McFarlane\", \"Oldacre\"], [\"Hall\", \"Barrymore\"], [\"Hilton\", \"Cubitt\"], [\"Baldwin\", \"McMurdo\"], [\"McMurdo\", \"Jack\"], [\"Emsworth\", \"Godfrey\"], [\"Turner\", \"McCarthy\"], [\"Gregory\", \"Ross\"], [\"Jefferson\", \"Ferrier\"], [\"Sarah\", \"Mary\"], [\"Williamson\", \"Carruthers\"], [\"Jefferson\", \"Lucy\"], [\"Sarah\", \"Cushing\"], [\"Trevelyan\", \"Blessington\"], [\"Jefferson\", \"Hope\"], [\"Gilchrist\", \"Jabez\"], [\"Williamson\", \"Woodley\"], [\"Williamson\", \"Hall\"], [\"Stanley\", \"Hopkins\"], [\"Ames\", \"Douglas\"]], \"ipython\": true, \"error_msg\": \"\"}, e);\n",
       "                });\n",
       "            })();\n",
       "        "
      ]
     },
     "metadata": {},
     "output_type": "display_data"
    }
   ],
   "source": [
    "h = clean_graph(g, {\"I\"})\n",
    "h.show(vlabel=\"__id\", elabel=\"strength\", node_size=300)"
   ]
  },
  {
   "cell_type": "markdown",
   "metadata": {
    "collapsed": false
   },
   "source": [
    "According the above graph that can be created almost automatically. We can easily identify the main characters in the stories. Additionally, we can observe that the strongest connection is between Sherlock and Watson.\n",
    "Moreover, we can see various connections among the main and minor characters of the book. However, from only looking at the graph, it is non-trivial to understand the various communities and their relationships.\n",
    "\n",
    "Using similar methods, we can learn more on each character by finding connections among person and location and person and organization. I leave the reader to find additional insights on the various characters on their own."
   ]
  },
  {
   "cell_type": "markdown",
   "metadata": {
    "collapsed": false
   },
   "source": [
    "## <a id=\"topic\"></a> 4. Topic Model"
   ]
  },
  {
   "cell_type": "markdown",
   "metadata": {},
   "source": [
    "<pre>\n",
    "<i>\"I have known him for some time,\" said I, \"but I never knew him do anything yet without a very good reason, and with that our conversation drifted off on to other topics.</i>\n",
    "                                                                 -Memoirs of Sherlock Holmes\n",
    "</pre>"
   ]
  },
  {
   "cell_type": "markdown",
   "metadata": {},
   "source": [
    "According to Wikipedia [article](https://en.wikipedia.org/wiki/Topic_model), topic model is a type of statistical model for discovering the abstract \"topics\" that occur in a collection of documents. I personally find topic models an interesting tool to explore a large text corpus. In this section, we are going to demonstrate how it is possible to utilze GraphLab's [topic model toolkit](https://turi.com/products/create/docs/graphlab.toolkits.topic_model.html) with the [pyLDAvis](https://github.com/bmabey/pyLDAvis) package to uncover topics in a set of documents. Namely, we will use GraphLab's topic model toolkit to analyze paragraphs in Sherlock Holmes stories. \n",
    "\n",
    "We will start by separating each story into paragraphs."
   ]
  },
  {
   "cell_type": "code",
   "execution_count": 26,
   "metadata": {
    "collapsed": false
   },
   "outputs": [],
   "source": [
    "import graphlab as gl\n",
    "import re\n",
    "\n",
    "sf =  gl.load_sframe(\"%s/books.sframe\" % BASE_DIR)\n",
    "sf_paragraphs = sf.flat_map(['title', 'text'], lambda t: [[t['title'],p.strip()] for p in t['text'].split(\"\\n\\n\")])\n",
    "sf_paragraphs = sf_paragraphs.rename({'text': 'paragraph'})"
   ]
  },
  {
   "cell_type": "markdown",
   "metadata": {},
   "source": [
    "Let's calculate the number of words in each paragraph, and filter the paragraph that have less than 25 words."
   ]
  },
  {
   "cell_type": "code",
   "execution_count": 27,
   "metadata": {
    "collapsed": false
   },
   "outputs": [],
   "source": [
    "re_words_split = re.compile(\"(\\w+)\")\n",
    "sf_paragraphs['paragraph_words_number'] = sf_paragraphs['paragraph'].apply(lambda p: len(re_words_split.findall(p)) )\n",
    "sf_paragraphs = sf_paragraphs[sf_paragraphs['paragraph_words_number'] >=25]"
   ]
  },
  {
   "cell_type": "markdown",
   "metadata": {},
   "source": [
    "Using the stories' paragraphs as documents, we can utilize GraphLab's topic model toolkit to discover topics that appear in these paragraph.\n",
    "We create a topic model with 10 topics to learn.\n",
    "\n",
    "Note: the topic model results may be different in each run."
   ]
  },
  {
   "cell_type": "code",
   "execution_count": 28,
   "metadata": {
    "collapsed": false
   },
   "outputs": [
    {
     "data": {
      "text/html": [
       "<pre>Learning a topic model</pre>"
      ],
      "text/plain": [
       "Learning a topic model"
      ]
     },
     "metadata": {},
     "output_type": "display_data"
    },
    {
     "data": {
      "text/html": [
       "<pre>       Number of documents     11657</pre>"
      ],
      "text/plain": [
       "       Number of documents     11657"
      ]
     },
     "metadata": {},
     "output_type": "display_data"
    },
    {
     "data": {
      "text/html": [
       "<pre>           Vocabulary size     18734</pre>"
      ],
      "text/plain": [
       "           Vocabulary size     18734"
      ]
     },
     "metadata": {},
     "output_type": "display_data"
    },
    {
     "data": {
      "text/html": [
       "<pre>   Running collapsed Gibbs sampling</pre>"
      ],
      "text/plain": [
       "   Running collapsed Gibbs sampling"
      ]
     },
     "metadata": {},
     "output_type": "display_data"
    },
    {
     "data": {
      "text/html": [
       "<pre>+-----------+---------------+----------------+-----------------+</pre>"
      ],
      "text/plain": [
       "+-----------+---------------+----------------+-----------------+"
      ]
     },
     "metadata": {},
     "output_type": "display_data"
    },
    {
     "data": {
      "text/html": [
       "<pre>| Iteration | Elapsed Time  | Tokens/Second  | Est. Perplexity |</pre>"
      ],
      "text/plain": [
       "| Iteration | Elapsed Time  | Tokens/Second  | Est. Perplexity |"
      ]
     },
     "metadata": {},
     "output_type": "display_data"
    },
    {
     "data": {
      "text/html": [
       "<pre>+-----------+---------------+----------------+-----------------+</pre>"
      ],
      "text/plain": [
       "+-----------+---------------+----------------+-----------------+"
      ]
     },
     "metadata": {},
     "output_type": "display_data"
    },
    {
     "data": {
      "text/html": [
       "<pre>| 10        | 558.351ms     | 5.24838e+06    | 0               |</pre>"
      ],
      "text/plain": [
       "| 10        | 558.351ms     | 5.24838e+06    | 0               |"
      ]
     },
     "metadata": {},
     "output_type": "display_data"
    },
    {
     "data": {
      "text/html": [
       "<pre>+-----------+---------------+----------------+-----------------+</pre>"
      ],
      "text/plain": [
       "+-----------+---------------+----------------+-----------------+"
      ]
     },
     "metadata": {},
     "output_type": "display_data"
    }
   ],
   "source": [
    "docs =  gl.text_analytics.count_ngrams(sf_paragraphs['paragraph'], n=1)\n",
    "stopwords = gl.text_analytics.stopwords()\n",
    "# adding some additional stopwords to make the topic model more clear\n",
    "stopwords |= set(['man', 'mr', 'sir', 'make', 'made', 'll', 'door', 'long', 'day', 'small']) \n",
    "docs = docs.dict_trim_by_keys(stopwords, exclude=True)\t\n",
    "docs = docs.dropna()\n",
    "topic_model = gl.topic_model.create(docs, num_topics=10)"
   ]
  },
  {
   "cell_type": "markdown",
   "metadata": {},
   "source": [
    "Let's view the most common word in each topic"
   ]
  },
  {
   "cell_type": "code",
   "execution_count": 29,
   "metadata": {
    "collapsed": false
   },
   "outputs": [
    {
     "name": "stdout",
     "output_type": "stream",
     "text": [
      "+-------+----------+------------------+\n",
      "| topic |   word   |      score       |\n",
      "+-------+----------+------------------+\n",
      "|   0   |  holmes  | 0.0359803594359  |\n",
      "|   0   |   time   | 0.0215554059634  |\n",
      "|   0   |   room   |  0.018613846824  |\n",
      "|   0   |   open   |  0.012617591655  |\n",
      "|   0   |  looked  | 0.0106659803029  |\n",
      "|   1   |  great   | 0.0121031273733  |\n",
      "|   1   |  london  | 0.00958105213044 |\n",
      "|   1   |  clear   | 0.00813581800251 |\n",
      "|   1   |  friend  | 0.00807914215436 |\n",
      "|   1   |   mrs    | 0.00748404574874 |\n",
      "|   2   |    \"     |  0.160232899594  |\n",
      "|   2   |   time   | 0.0181629583836  |\n",
      "|   2   |   \"you   | 0.0152799491164  |\n",
      "|   2   |   back   |  0.010881130853  |\n",
      "|   2   |  paper   | 0.0100192002473  |\n",
      "|   3   |   case   | 0.0263733592611  |\n",
      "|   3   |  matter  | 0.0165091406541  |\n",
      "|   3   |  house   | 0.0127499971736  |\n",
      "|   3   | evening  | 0.00955613842692 |\n",
      "|   3   |  found   | 0.00848209743248 |\n",
      "|   4   |  holmes  | 0.0279898146678  |\n",
      "|   4   |    \"     | 0.0199651793208  |\n",
      "|   4   |   head   | 0.0142657033323  |\n",
      "|   4   |  house   | 0.0137836580995  |\n",
      "|   4   |  woman   | 0.0135001020802  |\n",
      "|   5   |  watson  | 0.0237267422847  |\n",
      "|   5   |   back   | 0.0136864088309  |\n",
      "|   5   | sherlock |  0.011190668801  |\n",
      "|   5   | instant  | 0.0104161287917  |\n",
      "|   5   |  point   | 0.0101866354556  |\n",
      "|   6   |   face   | 0.0267581971013  |\n",
      "|   6   |  night   | 0.0202670637713  |\n",
      "|   6   |   room   | 0.0192579380015  |\n",
      "|   6   |  heard   |  0.018085170215  |\n",
      "|   6   |  window  | 0.00990306937876 |\n",
      "|   7   |    \"i    |  0.052719400834  |\n",
      "|   7   |    \"     | 0.0381596200872  |\n",
      "|   7   |   hand   | 0.0198491453143  |\n",
      "|   7   | thought  | 0.0136767433344  |\n",
      "|   7   |   knew   | 0.0105757758325  |\n",
      "|   8   |    \"     |  0.114722489611  |\n",
      "|   8   |  holmes  | 0.0190788392459  |\n",
      "|   8   |   good   |  0.01505822553   |\n",
      "|   8   |   \"the   | 0.0143245368957  |\n",
      "|   8   |   hand   | 0.00921806400113 |\n",
      "|   9   |   left   | 0.0169566634455  |\n",
      "|   9   |   \"it    | 0.00989496074608 |\n",
      "|   9   |  letter  | 0.00886572472511 |\n",
      "|   9   |  \"well   | 0.00852264605145 |\n",
      "|   9   |   find   | 0.00732187069365 |\n",
      "+-------+----------+------------------+\n",
      "[50 rows x 3 columns]\n",
      "\n"
     ]
    }
   ],
   "source": [
    "topic_model.get_topics().print_rows(100)\n",
    "topic_model.save(\"%s/topic_model\" % BASE_DIR)"
   ]
  },
  {
   "cell_type": "markdown",
   "metadata": {},
   "source": [
    "Reading the above table, we can understand some of the topics. However, it still hard to get good overall overview.\n",
    "Therefore, we will use the excellent [pyLDAvis package](https://github.com/bmabey/pyLDAvis/blob/master/README.rst), developed by Ben Mabey,\n",
    "to better the various topics in the books."
   ]
  },
  {
   "cell_type": "code",
   "execution_count": 30,
   "metadata": {
    "collapsed": false
   },
   "outputs": [
    {
     "data": {
      "text/html": [
       "\n",
       "<link rel=\"stylesheet\" type=\"text/css\" href=\"https://cdn.rawgit.com/bmabey/pyLDAvis/files/ldavis.v1.0.0.css\">\n",
       "\n",
       "\n",
       "<div id=\"ldavis_el1754848927568165041878166\"></div>\n",
       "<script type=\"text/javascript\">\n",
       "\n",
       "var ldavis_el1754848927568165041878166_data = {\"plot.opts\": {\"xlab\": \"PC1\", \"ylab\": \"PC2\"}, \"topic.order\": [7, 1, 2, 4, 10, 6, 5, 8, 9, 3], \"token.table\": {\"Topic\": [3, 4, 7, 8, 9, 10, 10, 2, 3, 7, 9, 4, 7, 9, 10, 6, 7, 3, 6, 9, 9, 1, 4, 7, 8, 9, 4, 10, 2, 9, 2, 3, 5, 6, 6, 1, 4, 5, 8, 10, 1, 4, 9, 10, 3, 9, 10, 2, 3, 4, 7, 8, 1, 2, 4, 5, 7, 1, 4, 8, 9, 10, 9, 2, 4, 6, 7, 3, 4, 5, 6, 8, 5, 1, 3, 7, 8, 9, 1, 2, 8, 9, 10, 1, 3, 7, 3, 2, 3, 4, 5, 6, 7, 9, 2, 6, 8, 2, 8, 9, 3, 6, 8, 9, 10, 2, 5, 6, 10, 3, 5, 3, 3, 7, 4, 7, 8, 6, 1, 8, 9, 3, 6, 7, 9, 10, 7, 3, 9, 10, 1, 3, 7, 10, 3, 6, 8, 9, 8, 10, 5, 2, 6, 10, 5, 6, 3, 9, 6, 5, 4, 3, 4, 5, 7, 8, 10, 2, 1, 2, 4, 6, 7, 10, 2, 5, 7, 8, 10, 2, 9, 1, 3, 7, 8, 9, 10, 6, 8, 2, 8, 2, 3, 6, 1, 5, 3, 5, 8, 1, 4, 5, 8, 1, 4, 5, 6, 7, 1, 2, 5, 6, 10, 1, 9, 2, 2, 3, 4, 5, 7, 8, 4, 3, 4, 5, 7, 3, 5, 9, 1, 5, 6, 7, 6, 4, 5, 10, 10, 4, 6, 7, 8, 1, 3, 6, 7, 2, 3, 6, 10, 2, 1, 5, 7, 8, 9, 10, 1, 4, 9, 5, 1, 3, 4, 5, 6, 8, 10, 3, 9, 4, 3, 3, 2, 8, 4, 6, 7, 10, 5, 1, 3, 4, 5, 6, 7, 8, 4, 5, 10, 4, 7, 8, 9, 10, 1, 2, 3, 6, 4, 2, 3, 5, 6, 9, 1, 2, 3, 4, 6, 10, 2, 4, 5, 6, 8, 3, 5, 7, 9, 3, 6, 9, 3, 5, 8, 1, 10, 2, 7, 4, 1, 2, 3, 6, 7, 8, 10, 3, 6, 8, 3, 6, 7, 8, 9, 10, 2, 4, 5, 6, 7, 8, 1, 3, 5, 6, 7, 9, 10, 2, 9, 5, 1, 3, 5, 7, 8, 10, 5, 10, 2, 3, 4, 5, 10, 3, 4, 6, 7, 2, 8, 4, 3, 4, 8, 1, 3, 4, 6, 7, 8, 2, 10, 1, 3, 4, 9, 2, 3, 7, 9, 6, 3, 1, 3, 4, 5, 6, 8, 9, 10, 1, 2, 3, 4, 3, 4, 6, 7, 8, 9, 10, 2, 6, 10, 2, 6, 9, 10, 3, 7, 8, 9, 1, 3, 4, 5, 6, 2, 4, 5, 7, 9, 2, 3, 4, 6, 8, 9, 1, 5, 9, 1, 3, 7, 8, 3, 4, 6, 7, 6, 9, 8, 2, 5, 7, 10, 1, 4, 1, 2, 3, 4, 9, 5, 7, 8, 9, 10, 1, 2, 4, 5, 7, 8, 1, 5, 6, 8, 1, 3, 4, 5, 7, 10, 7, 9, 10, 1, 4, 5, 8, 10, 1, 4, 8, 5, 2, 6, 2, 3, 6, 9, 3, 4, 5, 8, 9, 10, 6, 8, 8, 4, 10, 1, 2, 8, 9, 4, 9, 4, 6, 8, 1, 6, 8, 10, 5, 8, 7, 9, 6, 1, 3, 1, 3, 4, 5, 10, 6, 7, 9, 3, 5, 1, 2, 3, 5, 10, 8, 5, 2, 4, 6, 7, 10, 2, 3, 9, 8, 1, 4, 4, 7, 10, 2, 3, 1, 2, 6, 7, 9, 1, 1, 3, 4, 5, 6, 7, 9, 1, 4, 8, 10, 1, 5, 8, 9, 3, 4, 5, 6, 7, 3, 5, 3, 5, 7, 8, 9, 1, 6, 1, 1, 1, 2, 5, 8, 2, 3, 6, 2, 4, 5, 8, 9, 10, 2, 5, 6, 10, 2, 5, 7, 6, 2, 4, 7, 1, 7, 1, 2, 4, 5, 10, 7, 1, 5, 9, 3, 5, 10, 2, 6, 8, 9, 1, 3, 4, 5, 6, 10, 3, 7, 9, 6, 8, 4, 1, 3, 5, 8, 9, 2, 3, 4, 8, 1, 1, 2, 3, 5, 9, 1, 6, 7, 5, 9, 10, 10, 3, 6, 9, 2, 4, 5, 7, 8, 1, 2, 4, 9, 2, 6, 7, 8, 3, 7, 2, 4, 9, 3, 7, 3, 4, 7, 8, 9, 10, 7, 1, 9, 1, 7, 5, 7, 1, 3, 7, 8, 3, 4, 8, 10, 1, 5, 4, 1, 3, 5, 9, 3, 7, 8, 9, 3, 5, 10, 3, 4, 5, 7, 10, 1, 3, 4, 6, 7, 8, 9, 10, 2, 2, 7, 8, 9, 3, 6, 8, 6, 1, 4, 5, 6, 7, 8, 9, 3, 1, 8, 9, 10, 2, 5, 8, 9, 9, 3, 4, 5, 7, 9, 4, 8, 1, 3, 6, 7, 9, 10, 6, 1, 3, 4, 5, 6, 1, 2, 3, 6, 8, 9, 10, 2, 5, 7, 8, 2, 8, 8, 9, 6, 8, 1, 5, 10, 8, 10, 5, 6, 7, 2, 4, 6, 7, 8, 9, 1, 3, 5, 6, 9, 10, 10, 1, 2, 4, 5, 8, 9, 1, 2, 3, 7, 4, 4, 10, 1, 2, 2, 3, 5, 6, 3, 4, 5, 6, 8, 9, 1, 5, 6, 8, 9, 4, 6, 7, 8, 10, 1, 5, 4, 6, 8, 10, 3, 1, 2, 3, 5, 8, 3, 4, 5, 6, 9, 8, 5, 6, 7, 7, 1, 4, 7, 8, 9, 2, 8, 5, 7, 8, 1, 5, 7, 6, 10, 8, 6, 4, 5, 6, 9, 3, 4, 7, 9, 4, 8, 9, 2, 8, 10, 2, 3, 4, 9, 10, 2, 4, 6, 1, 2, 4, 6, 8, 10, 2, 4, 6, 4, 8, 1, 6, 10, 3, 8, 5, 7, 1, 2, 3, 5, 7, 9, 1, 2, 5, 6, 8, 10, 1, 3, 7, 8, 9, 10, 10, 3, 4, 5, 9, 2, 3, 6, 10, 3, 4, 6, 8, 2, 4, 5, 7, 8, 3, 4, 10, 1, 2, 3, 6, 7, 9, 4, 1, 2, 3, 4, 5, 9, 2, 5, 6, 7, 8, 10, 4, 8, 10, 4, 5, 8, 2, 9, 2, 4, 5, 8, 9, 1, 2, 5, 7, 8, 10, 1, 2, 8, 3, 5, 6, 7, 9, 10, 1, 3, 6, 7, 3, 5, 1, 10, 1, 7, 9, 1, 5, 8, 9, 1, 3, 4, 5, 6, 7, 2, 3, 4, 5, 8, 2, 6, 3, 4, 7, 8, 9, 5, 8, 9, 1, 2, 7, 9, 1, 4, 5, 6, 7, 8, 1, 5, 6, 8, 1, 3, 7, 10, 5, 7, 9, 3, 5, 7, 6, 6, 3, 4, 5, 7, 10, 1, 7, 10, 10, 2, 3, 10, 3, 1, 2, 3, 4, 6, 8, 3, 5, 8, 9, 7, 1, 6, 1, 2, 3, 8, 9, 10, 2, 3, 4, 7, 3, 8, 10, 2, 3, 5, 7, 8, 9, 10, 1, 2, 3, 6, 7, 8, 9, 1, 2, 3, 5, 8, 2, 1, 10, 1, 2, 5, 6, 7, 8, 10, 3, 6, 2, 3, 4, 8, 2, 7, 5, 7, 8, 8, 7, 3, 5, 9, 2, 8, 4, 7, 1, 6, 10, 1, 7, 10, 7, 9, 2, 3, 4, 1, 2, 5, 6, 7, 9, 4, 2, 2, 6, 8, 10, 4, 6, 9, 1, 3, 4, 5, 8, 4, 6, 2, 4, 5, 8, 8, 4, 9, 3, 4, 2, 10, 6, 2, 4, 5, 9, 10, 1, 6, 7, 9, 10, 1, 2, 5, 9, 10, 2, 4, 7, 8, 10, 7, 6, 6, 7, 10, 1, 3, 4, 5, 10, 4, 5, 7, 8, 10, 1, 4, 4, 7, 1, 2, 5, 6, 7, 8, 1, 4, 6, 7, 10, 4, 2, 3, 7, 2, 9, 2, 7, 8, 9, 1, 3, 5, 8, 9, 8, 3, 7, 8, 3, 10, 2, 4, 5, 8, 9, 1, 2, 4, 8, 2, 4, 6, 8, 9, 10, 5, 1, 1, 2, 3, 4, 6, 1, 2, 3, 6, 7, 8, 9, 10, 1, 2, 3, 4, 9, 1, 2, 3, 4, 7, 9, 1, 3, 5, 6, 3, 6, 7, 10, 2, 5, 9, 10, 2, 3, 5, 6, 9, 10, 1, 3, 6, 7, 8, 9, 10, 2, 5, 6, 7, 7, 9, 1, 9, 4, 1, 10, 3, 8, 8, 10, 3, 5, 6, 7, 2, 6, 7, 8, 6, 8, 9, 10, 3, 5, 2, 6, 8, 9, 6, 8, 9, 1, 4, 6, 1, 5, 6, 8, 2, 3, 10, 4, 10, 1, 2, 5, 6, 9, 10, 1, 2, 5, 9, 9, 5, 8, 1, 4, 6, 7, 8, 6, 8, 9, 5, 4, 3, 1, 5, 7, 9, 4, 7, 1, 2, 8, 9, 3, 1, 4, 6, 1, 2, 4, 5, 6, 10, 2, 6, 7, 8, 9, 5, 1, 10, 4, 5, 7, 4, 1, 2, 3, 5, 4, 7, 2, 5, 7, 10, 2, 3, 4, 5, 3, 5, 7, 9, 10, 8, 6, 2, 4, 6, 7, 10, 1, 4, 6, 2, 3, 8, 9, 10, 4, 1, 3, 4, 6, 9, 10, 3, 10, 2, 4, 5, 6, 7, 8, 10, 1, 4, 6, 9, 10, 1, 2, 4, 5, 1, 2, 3, 5, 7, 1, 2, 6, 7, 1, 2, 6, 8, 2, 5, 3, 4, 5, 7, 9, 4, 6, 8, 2, 4, 1, 3, 7, 2, 3, 2, 5, 6, 8, 6, 5, 6, 9, 1, 2, 4, 3, 5, 6, 10, 5, 1, 3, 1, 8, 9, 4, 5, 5, 7, 6, 9, 10, 1, 4, 6, 9, 2, 3, 4, 9, 2, 3, 4, 6, 9, 1, 2, 4, 6, 7, 8, 10, 9, 1, 2, 5, 1, 3, 6, 10, 6, 1, 4, 6, 7, 9, 10, 1, 1, 3, 4, 5, 9, 10, 1, 2, 3, 4, 5, 9, 10, 3, 4, 7, 5, 1, 1, 2, 5, 1, 9, 7, 7, 2, 6, 8, 1, 10, 3, 2, 1, 3, 4, 8, 9, 7, 1, 2, 7, 9, 9, 1, 2, 3, 4, 7, 9, 10, 5, 1, 5, 6, 7, 8, 6, 8, 2, 5, 6, 7, 8, 9, 10, 3, 4, 5, 7, 8, 1, 3, 6, 8, 10, 3, 4, 6, 7, 5, 9, 5, 1, 2, 6, 10, 1, 4, 5, 10, 3, 4, 6, 8, 10, 1, 4, 7, 8, 10, 1, 3, 5, 10, 1, 3, 6, 2, 4, 5, 6, 8, 9, 10, 1, 2, 4, 6, 10, 3, 5, 6, 8, 9, 9, 2, 3, 6, 7, 8, 9, 10, 10, 3, 4, 5, 3, 8, 1, 4, 7, 9, 10, 1, 9, 9, 4, 6, 9, 7, 1, 3, 7, 8, 9, 10, 1, 1, 3, 4, 6, 8, 9, 1, 7, 10, 5, 10, 9, 10, 8, 4, 8, 1, 10, 2, 4, 5, 6, 7, 10, 4, 6, 3, 3, 5, 3, 4, 6, 1, 4, 4, 1, 4, 5, 6, 7, 8, 10, 4, 7, 8, 1, 2, 4, 8, 9, 10, 2, 4, 6, 7, 8, 9, 4, 6, 10, 2, 5, 7, 8, 3, 3, 5, 8, 5, 6, 7, 7, 1, 2, 3, 4, 1, 2, 3, 4, 6, 7, 10, 3, 4, 5, 6, 1, 8, 9, 10, 8, 2, 6, 8, 1, 4, 10, 6, 9, 10, 1, 2, 6, 10, 1, 2, 6, 7], \"Freq\": [0.0080091026243146908, 0.00084802263080979072, 0.062376775732897939, 0.11514262831661826, 0.34288381705742538, 0.47074678483619053, 0.99783157378234622, 0.96241987817463537, 0.0084422796331108368, 0.016884559266221674, 0.0084422796331108368, 0.0086188076696163581, 0.017237615339232716, 0.24563601858406622, 0.72828924808258233, 0.11960761825064981, 0.86715523231721103, 0.92432599591096309, 0.04545865553660474, 0.015152885178868248, 0.97306448510482457, 0.0010335038218538695, 0.10800114938372936, 0.0041340152874154781, 0.87227722564466581, 0.014469053505954173, 0.0067003551786033776, 0.98495221125469656, 0.021046461283724425, 0.96813721905132344, 0.14253092723961333, 0.022804948358338132, 0.47035205989072393, 0.36202855518861782, 0.90741018456449729, 0.013424678909809694, 0.16780848637262116, 0.020137018364714539, 0.013424678909809694, 0.78534371622386701, 0.30910391933967873, 0.59928310892386694, 0.082007162273792317, 0.0063082432518301781, 0.014974432587373864, 0.97119891352396204, 0.01283522793203474, 0.084535838427812232, 0.06916568598639182, 0.015370152441420405, 0.79156285073315091, 0.046110457324261216, 0.083224896453706801, 0.0036184737588568173, 0.014473895035427269, 0.40526906099196358, 0.49211243120452719, 0.025438949081260605, 0.05087789816252121, 0.0050877898162521211, 0.74790510298906177, 0.16789706393632001, 0.91972690619560105, 0.13288417596120189, 0.17978447335927314, 0.050808655514577195, 0.63706237299046786, 0.0082826631166406754, 0.29486280695240802, 0.47045526502519031, 0.11264421838631318, 0.11264421838631318, 0.93903267006267155, 0.043381602172087155, 0.0078875640312885738, 0.39832198358007298, 0.0039437820156442869, 0.54818570017455592, 0.16154064745552152, 0.0083268374977072939, 0.0016653674995414588, 0.034972717490370633, 0.79271492978173441, 0.93524141894411927, 0.9062636772423589, 0.93810650878208812, 0.92938459424407904, 0.15446902020254977, 0.013240201731647123, 0.67083688773678751, 0.083854610967098439, 0.013240201731647123, 0.026480403463294246, 0.035307204617725664, 0.014151581244699788, 0.90570119966078644, 0.070757906223498937, 0.94880173414957825, 0.032717301177571663, 0.94972178097469817, 0.022830730650981429, 0.19976889319608751, 0.74199874615689643, 0.0057076826627453572, 0.034246095976472143, 0.010816012265960092, 0.98425711620236833, 0.1105523192905303, 0.88441855432424243, 0.028356665510648121, 0.93576996185138794, 0.92258492678127602, 0.99010336739811655, 0.9782501250007718, 0.065300716835106756, 0.052240573468085409, 0.87502960559043064, 0.95952205625356879, 0.23691078386369377, 0.020162619903293086, 0.7409762814460209, 0.033710917733042196, 0.067421835466084393, 0.1498263010357431, 0.43824193052954857, 0.31088957464916694, 0.98456990790710741, 0.9492430501840331, 0.026490503726066039, 0.022075419771721699, 0.012359124270464145, 0.03707737281139243, 0.92693432028481082, 0.012359124270464145, 0.019396395465832959, 0.91163058689414922, 0.038792790931665919, 0.019396395465832959, 0.031698073257052282, 0.95094219771156852, 0.99443075349927512, 0.018224367682765769, 0.091121838413828857, 0.87476964877275698, 0.96847234991659459, 0.016141205831943242, 0.94094287735672477, 0.98812043920770398, 0.90741018456449729, 0.99510086678653753, 0.96842031416955432, 0.70860375728139147, 0.023309334121098403, 0.13053227107815105, 0.088575469660173933, 0.0046618668242196801, 0.04195680141797712, 0.95159058325139967, 0.1456496625498879, 0.011475427958476017, 0.011475427958476017, 0.40252270377423566, 0.12887788322596141, 0.29924385214795152, 0.038641716373338894, 0.023185029824003337, 0.0077283432746677793, 0.12365349239468447, 0.80374770056544897, 0.029805289687866506, 0.95376927001172818, 0.17136138858804359, 0.0053550433933763622, 0.010710086786752724, 0.096390781080774521, 0.17671643198141995, 0.53550433933763619, 0.02937013794925256, 0.9398444143760819, 0.92241046207811139, 0.049860024977195209, 0.015148057404182002, 0.87858732944255602, 0.090888344425091999, 0.95630713893359875, 0.031876904631119959, 0.039148640606152356, 0.019574320303076178, 0.91999305424458044, 0.91759563494322061, 0.048938433863638435, 0.012234608465909609, 0.012234608465909609, 0.55941316386084705, 0.033397800827513258, 0.10019340248253977, 0.19203735475820122, 0.11271757779285724, 0.15050266365408121, 0.74047310517807952, 0.054180958915469236, 0.048160852369305986, 0.0060201065461632482, 0.016775719366528698, 0.97299172325866456, 0.95948419654394945, 0.0097253003767254244, 0.19450600753450847, 0.0024313250941813561, 0.18478070715778305, 0.2868963611134, 0.320934912431939, 0.93217511429379796, 0.92938459424407904, 0.0077266427744405843, 0.343835603462606, 0.64517467166578879, 0.92258492678127602, 0.95166428230481648, 0.032816009734648842, 0.034984541046054224, 0.90959806719740977, 0.023323027364036148, 0.023323027364036148, 0.98764606520965448, 0.0042163268242354042, 0.96975516957414298, 0.025297960945412427, 0.95091956537693501, 0.027661215501639417, 0.16596729300983651, 0.78373443921311681, 0.018440810334426277, 0.8541829458263468, 0.032853190224090265, 0.098559570672270794, 0.010951063408030088, 0.39031522584155109, 0.59270089850013319, 0.0096374129837420025, 0.0048187064918710013, 0.98998632997540392, 0.17367785988500656, 0.086838929942503279, 0.57211530315060988, 0.13536656726331395, 0.0025540861747795083, 0.028094947922574592, 0.85810152319668476, 0.0089385575332988007, 0.1251398054661832, 0.93291514657568808, 0.09382448502251961, 0.46912242511259805, 0.22061432964754613, 0.038036953387507948, 0.068466516097514307, 0.10650346948502226, 0.00253579689250053, 0.031555063047365689, 0.94665189142097073, 0.95081555940619777, 0.99020140045187099, 0.96494390979542255, 0.079757177041794039, 0.89726824172018282, 0.17787268434325651, 0.75739336559064063, 0.0057378285272018234, 0.051640456744816404, 0.99201138672260547, 0.059082783344015705, 0.0010365400586669423, 0.91526487180290994, 0.0010365400586669423, 0.0031096201760008263, 0.014511560821337191, 0.0051827002933347108, 0.050427818360402388, 0.81805127562430546, 0.12887109136547278, 0.01346938844910751, 0.040408165347322528, 0.01346938844910751, 0.01346938844910751, 0.91591841453931067, 0.045779635630626932, 0.0076299392717711556, 0.94611246969962326, 0.97688691996445487, 0.89393792866915089, 0.17105693939341882, 0.022977797828966706, 0.0051061772953259347, 0.51061772953259343, 0.29105210583357827, 0.11912504589377002, 0.041077602032334487, 0.028754321422634139, 0.73939683658202071, 0.036969841829101034, 0.036969841829101034, 0.15323856414298043, 0.80224895345442693, 0.0090140331848812018, 0.018028066369762404, 0.0090140331848812018, 0.90006356885370076, 0.018368644262320422, 0.018368644262320422, 0.05510593278696127, 0.021454990530253376, 0.021454990530253376, 0.94401958333114855, 0.91520447608274114, 0.0076907939166616906, 0.076907939166616909, 0.91770719694521175, 0.067978310884830501, 0.98316145249862996, 0.93026708668044356, 0.98901765315716716, 0.94690726537527725, 0.0041087183577610768, 0.56494877419214806, 0.0041087183577610768, 0.0061630775366416151, 0.3533497787674526, 0.067793852903057769, 0.011773127773522997, 0.85943832746717874, 0.11773127773522997, 0.097252418197705817, 0.0081043681831421514, 0.69697566375022502, 0.12966989093027442, 0.032417472732568606, 0.032417472732568606, 0.6909884307662747, 0.18361930328054854, 0.067649216998096826, 0.0386566954274839, 0.0048320869284354875, 0.0096641738568709751, 0.0063152974956027282, 0.056837677460424549, 0.68205212952509464, 0.012630594991205456, 0.037891784973616366, 0.19577422236368455, 0.012630594991205456, 0.96458912969339528, 0.027559689419811292, 0.94453821755858236, 0.068147091877441446, 0.0056789243231201202, 0.81776510252929735, 0.0283946216156006, 0.068147091877441446, 0.01135784864624024, 0.98626301629447344, 0.012644397644800942, 0.92372599583985326, 0.21773200549219027, 0.75770737911282204, 0.01741856043937522, 0.88116823899301433, 0.033336260305570097, 0.91119111501891603, 0.044448347074093467, 0.95131057913607853, 0.03020896984345783, 0.93647806514719278, 0.95081555940619777, 0.93575657150407476, 0.027522252103061022, 0.027522252103061022, 0.57017804935354355, 0.058827893980921163, 0.045252226139170126, 0.06335311659483818, 0.25793768899326974, 0.0090504452278340249, 0.98395702814905339, 0.86142243207817726, 0.98617866617381855, 0.02189660162435703, 0.02189660162435703, 0.94155386984735223, 0.021953428948427389, 0.0062724082709792539, 0.081541307522730297, 0.88754577034356441, 0.93666916403068012, 0.91493470102277663, 0.054798341097626733, 0.21136502994798881, 0.15395724403618938, 0.38619783249755979, 0.010437779256690805, 0.0026094448141727013, 0.13830057515115318, 0.041751117026763221, 0.34322397641977587, 0.037105294748083877, 0.0092763236870209691, 0.60914525544771037, 0.01198129093840563, 0.059906454692028148, 0.0059906454692028148, 0.065897100161230959, 0.16773807313767883, 0.01198129093840563, 0.67095229255071531, 0.96913113489318581, 0.91609729709308185, 0.99053143932219112, 0.28038760602763996, 0.62362070995802676, 0.053176959763862754, 0.038674152555536544, 0.71873742786357786, 0.0058433937224681119, 0.075964118392085458, 0.19867538656391581, 0.021216913644036033, 0.0070723045480120114, 0.014144609096024023, 0.028289218192048046, 0.92647189578957345, 0.11565109522480903, 0.24135880742568841, 0.098052015516685909, 0.54054316246378131, 0.0025141542440175876, 0.033720224008748863, 0.94416627224496807, 0.16885139159888249, 0.22301127192305234, 0.24849827442854402, 0.36000391039007018, 0.090892150858490978, 0.090892150858490978, 0.81103765381422721, 0.050793215676747418, 0.25858364344525958, 0.1754674723378547, 0.51254972182899661, 0.45370224810858201, 0.23515055542213092, 0.2849471436291704, 0.024898294103519746, 0.90741018456449729, 0.93001914454075807, 0.97782829849059438, 0.59047589420362934, 0.11897648614550742, 0.18948107052803032, 0.096943803525969, 0.96618313539934475, 0.021470736342207662, 0.928378872366865, 0.011758731961124038, 0.035276195883372115, 0.81135250531755865, 0.12934605157236442, 0.013636889051089169, 0.040910667153267508, 0.013636889051089169, 0.040910667153267508, 0.88639778832079597, 0.7523644175050298, 0.0083596046389447752, 0.050157627833668651, 0.058517232472613423, 0.10867486030628208, 0.01671920927788955, 0.88985982469980107, 0.053930898466654609, 0.040448173849990957, 0.013482724616663652, 0.68410022558236494, 0.030861664311986389, 0.18002637515325393, 0.015430832155993194, 0.02571805359332199, 0.061723328623972777, 0.97224509110692481, 0.067377165302933098, 0.90959173158959694, 0.034824221701576695, 0.83578132083784062, 0.06964844340315339, 0.034824221701576695, 0.023216147801051131, 0.94945957565972527, 0.025661069612425008, 0.95186238205894502, 0.96646531803130409, 0.98676894338527588, 0.92376179816422288, 0.0040697456673003752, 0.24214986720437232, 0.17296419086026596, 0.57993875759030344, 0.050069449293052855, 0.070552405822029027, 0.047793565234277725, 0.0068276521763253892, 0.455176811755026, 0.36641733346279592, 0.94636675326170527, 0.05027573376702809, 0.93319187498938161, 0.94593919092056555, 0.037095654545904529, 0.13100488328127258, 0.81878052050795358, 0.0081878052050795361, 0.032751220820318144, 0.97820068728276433, 0.99236358793930857, 0.033779734715650794, 0.92894270468039675, 0.033779734715650794, 0.039528248330296098, 0.88938558743166218, 0.06588041388382683, 0.006588041388382683, 0.95960260809311781, 0.029987581502909932, 0.91123002445321621, 0.91972690619560105, 0.9820790738818781, 0.061502417495355011, 0.92253626243032516, 0.0088828410723227752, 0.19719907180556562, 0.36064334753630467, 0.051520478219472102, 0.38196216610987938, 0.040884050800287966, 0.91989114300647923, 0.020442025400143983, 0.95024128238562988, 0.023756032059640747, 0.0074122642603860782, 0.10006556751521205, 0.88947171124632929, 0.96892565228278316, 0.01614876087137972, 0.98471083925450631, 0.94453821755858236, 0.0023747292431076637, 0.75991335779445235, 0.13061010837092149, 0.049869314105260937, 0.056993501834583925, 0.054092965863535188, 0.21637186345414075, 0.72639125588175824, 0.93319187498938161, 0.031067978835950409, 0.96310734391446273, 0.96487184570119433, 0.011486569591680885, 0.011486569591680885, 0.95122401367145148, 0.035670900512679432, 0.74610700613754277, 0.11991005455781938, 0.033308348488283158, 0.059955027278909688, 0.039970018185939794, 0.97682056692568886, 0.0024274683263141024, 0.27794512336296473, 0.048549366526282049, 0.25973911091560897, 0.18448759279987179, 0.22575455434721151, 0.0012137341631570512, 0.77678082343311239, 0.034135062980447592, 0.18566144011316618, 0.003330250046872936, 0.10339324590534786, 0.67603276168881288, 0.067603276168881288, 0.15111320555396995, 0.077815969775449828, 0.73217753379627792, 0.11672395466317474, 0.063667611634458957, 0.0035370895352477196, 0.9062636772423589, 0.93291514657568808, 0.14362202040654998, 0.20107082856917, 0.64629909182947498, 0.0047874006802183329, 0.0047874006802183329, 0.9478523778120781, 0.038952837444331978, 0.99621541156095406, 0.97113438879873049, 0.0074227532824396314, 0.92784416030495387, 0.05195927297707742, 0.0074227532824396314, 0.25464632013028121, 0.071965264384644692, 0.66983053773400059, 0.42958345655119917, 0.018779604657975919, 0.0023474505822469898, 0.15023683726380735, 0.044601561062692807, 0.35446503791929546, 0.020766962381560148, 0.79433631109467562, 0.18171092083865129, 0.005191740595390037, 0.255470414681084, 0.35619874961248282, 0.38685519937421287, 0.97181072951669412, 0.065358146388635505, 0.049018609791476625, 0.88233497624657931, 0.093195635909007313, 0.89467810472647025, 0.018079701611235618, 0.61018992937920213, 0.15819738909831166, 0.21243649393201852, 0.92350605507276728, 0.92138285382895313, 0.031643609427648198, 0.91133595151626823, 0.050629775084237119, 0.016147761498336043, 0.95271792840182656, 0.016147761498336043, 0.0054530294064005606, 0.94337408730729688, 0.043624235251204485, 0.0054530294064005606, 0.16314328917019749, 0.13778994017753166, 0.31305874408335194, 0.21605462619836965, 0.14440385730605318, 0.024251029471245574, 0.97321867816042396, 0.96177758082368103, 0.029144775176475183, 0.94629118328529715, 0.053690279902711892, 0.96459320266407389, 0.23760266197822136, 0.38156192188267313, 0.043327544243087428, 0.0013976627175189492, 0.33543905220454778, 0.44165294720090853, 0.45599232860353545, 0.037282391646829942, 0.063093278171558353, 0.928378872366865, 0.028764372903117053, 0.78622619268519944, 0.0047940621505195092, 0.062322807956753615, 0.11505749161246821, 0.93524141894411927, 0.93666916403068012, 0.989236482645658, 0.96867542503317994, 0.98250710434559352, 0.89762883249284608, 0.94875869951964631, 0.96764353133230474, 0.0052023845770554017, 0.026011922885277008, 0.029546983157016957, 0.4284312557767459, 0.27515628064972042, 0.0018466864473135598, 0.26407616196583905, 0.017165383012912878, 0.92693068269729539, 0.0429134575322822, 0.0085826915064564392, 0.93330561088532649, 0.016231401928440459, 0.0081157009642202297, 0.040578504821101147, 0.94589598340083969, 0.96661660540990235, 0.038528770515790248, 0.044950232268421951, 0.91826903062633425, 0.042510369906802133, 0.94585573042634741, 0.081787477933518676, 0.15789526989943189, 0.20333275764027559, 0.013631246322253113, 0.54297797850308227, 0.88116823899301433, 0.95131057913607853, 0.1190514939289056, 0.8673751700534551, 0.95372749968106174, 0.032887155161415924, 0.059032422389544884, 0.9150025470379457, 0.94690726537527725, 0.91923010723357523, 0.031697589904606041, 0.031697589904606041, 0.64320744906161209, 0.12895601668227918, 0.022016880896974497, 0.20444246547190603, 0.027615208317785682, 0.9389170828047132, 0.89393792866915089, 0.76296877018408937, 0.018022884335057231, 0.20425935579731527, 0.0060076281116857432, 0.94780882368444952, 0.032683062885670675, 0.016341531442835337, 0.98173604777307699, 0.8940951674489358, 0.013970236991389622, 0.083821421948337721, 0.090573404751347883, 0.005781281154341354, 0.030833499489820556, 0.3449497755423675, 0.52609658504506329, 0.02620073165168826, 0.058951646216298587, 0.01310036582584413, 0.64846810837928448, 0.01310036582584413, 0.14737911554074648, 0.036026006021071359, 0.058951646216298587, 0.9884223350035215, 0.0010279591964095084, 0.044202245445608856, 0.65275408972003779, 0.30016408535157646, 0.024721485961900307, 0.95589745719347852, 0.01648099064126687, 0.96620119073226129, 0.21837911659908635, 0.041062739873332477, 0.009332440880302835, 0.024264346288787372, 0.69620008967059144, 0.009332440880302835, 0.0018664881760605671, 0.97982616785679422, 0.75601629067556098, 0.093721027769697637, 0.099969096287677486, 0.049984548143838743, 0.016980125443424442, 0.0084900627217122208, 0.22923169348622996, 0.74712551951067541, 0.95433224510223014, 0.0071162193155251468, 0.05870880935308246, 0.0053371644866438599, 0.84149293406084857, 0.085394631786301758, 0.014488199553460682, 0.97070937008186575, 0.8715544917389344, 0.0013834198281570387, 0.030435236219454855, 0.0041502594844711168, 0.01106735862525631, 0.080238350033108252, 0.97677895170801243, 0.15014624936404744, 0.53074953263570257, 0.087294331025608976, 0.083802557784584619, 0.14665447612302307, 0.067178311141970842, 0.20825276454010963, 0.0067178311141970846, 0.047024817799379594, 0.65162961807711717, 0.013435662228394169, 0.0067178311141970846, 0.022855997441309631, 0.015237331627539753, 0.93328656218680983, 0.030474663255079505, 0.94940496114483475, 0.024343716952431659, 0.037003039087970889, 0.92507597719927215, 0.89342391996925807, 0.092423164134750838, 0.928378872366865, 0.95659490945144665, 0.023331583157352356, 0.96355949666134799, 0.018893323463948002, 0.032209993452285021, 0.93408981011626557, 0.016104996726142511, 0.38007013433150766, 0.066887342719525192, 0.064699438985708943, 0.29005352356878217, 0.0090641726115244427, 0.18909739413697543, 0.011040182834541125, 0.06992115795209379, 0.49680822755435061, 0.37904627731924528, 0.025760426613929292, 0.014720243779388166, 0.94292245962022392, 0.928378872366865, 0.95570906472036987, 0.67918147453006883, 0.029854130748574452, 0.097025924932866978, 0.19405184986573396, 0.12419157231492955, 0.057319187222275178, 0.038212791481516788, 0.7738090275007149, 0.97194125229187667, 0.95744911079198247, 0.041117446475729312, 0.025528422166967768, 0.94455162017780736, 0.95159058325139967, 0.17197372992381255, 0.74521949633652107, 0.08189225234467265, 0.64170977911688043, 0.056245478647694698, 0.020452901326434434, 0.061358703979303306, 0.086924830637346351, 0.13294385862182384, 0.92306485191289556, 0.016782997307507191, 0.050348991922521576, 0.0055943324358357308, 0.0055943324358357308, 0.35958581114782856, 0.16758214617896458, 0.38484945127531062, 0.082527891083108193, 0.0050527280254964195, 0.08958572359665791, 0.90865519648038728, 0.016120202825280972, 0.90273135821573436, 0.064480811301123889, 0.016120202825280972, 0.98191056358312589, 0.91368800864999566, 0.063012966113792798, 0.0039383103821120499, 0.0078766207642240998, 0.0078766207642240998, 0.020577587243337876, 0.041155174486675751, 0.92599142595020434, 0.94049820634436831, 0.053742754648249617, 0.94629395783315351, 0.86034533817078973, 0.0048883257850613057, 0.12709647041159394, 0.91123002445321621, 0.022590209108049025, 0.20895943424945349, 0.73982934828860558, 0.022590209108049025, 0.0056475522770122561, 0.016022419403492718, 0.97736758361305587, 0.044259466910139073, 0.83355329347428586, 0.11802524509370418, 0.020882883436755428, 0.84227629861580233, 0.13225826176611771, 0.025659511922246143, 0.94940194112310727, 0.98317228553019831, 0.9868084066149907, 0.023319416262010052, 0.93277665048040204, 0.023319416262010052, 0.93902617961466173, 0.8973819513037733, 0.033236368566806417, 0.033236368566806417, 0.033236368566806417, 0.01688700294276298, 0.94004316381380604, 0.03940300686644696, 0.95159058325139967, 0.98210808933242988, 0.97529931287113003, 0.10335939276840009, 0.017226565461400015, 0.76830481957844066, 0.0068906261845600057, 0.10680470586068008, 0.12564051976351165, 0.065146936173672718, 0.80735667329515826, 0.030950314411264619, 0.73592969822340315, 0.0034389238234738464, 0.027511390587790771, 0.19945758176148309, 0.0034389238234738464, 0.025914425599555323, 0.73424205865406744, 0.2332298303959979, 0.96041816616800202, 0.99256754598301788, 0.95645159668460289, 0.035330003063178232, 0.95391008270581235, 0.045960311223350321, 0.94218638007868161, 0.020846397216893752, 0.95893427197711267, 0.73898188552474475, 0.025264337966657942, 0.031580422458322426, 0.050528675933315885, 0.0063160844916644856, 0.14526994330828316, 0.004934737183735249, 0.12830316677711648, 0.059216846204822995, 0.019738948734940996, 0.75501478911149311, 0.029608423102411498, 0.001910869276021566, 0.0057326078280646973, 0.12802824149344491, 0.64778468457131089, 0.11083041800925082, 0.1070086794572077, 0.98322397679451135, 0.035259651151073705, 0.43610621160538532, 0.0092788555660720286, 0.51776014058681918, 0.82348640143604046, 0.059989075601300956, 0.087256837238255947, 0.02726776163695498, 0.08352123466347465, 0.54134133578178012, 0.37120548739322068, 0.0030933790616101725, 0.078304717450403613, 0.0046061598500237418, 0.10594167655054607, 0.60340694035311015, 0.20727719325106839, 0.013770526525959373, 0.80557580176862342, 0.17901684483747185, 0.42828279511810641, 0.30424460855384611, 0.098294411994319514, 0.074890980567100585, 0.035105147140828394, 0.05850857856804733, 0.90554569905186444, 0.032670140789439285, 0.0027225117324532738, 0.13612558662266369, 0.04356018771925238, 0.59895258113972016, 0.18513079780682259, 0.0674203930013276, 0.66828986045175609, 0.002365627824607986, 0.004731255649215972, 0.017742208684559897, 0.23774559637310261, 0.34052121107701522, 0.075671380239336714, 0.58473339275851099, 0.0099300658381834689, 0.97976649603410226, 0.0099300658381834689, 0.98472678228930166, 0.012386500406154738, 0.1582610587754664, 0.47654163253501547, 0.052753686258488801, 0.086164354222198369, 0.22684085091150183, 0.065527699700597838, 0.39489061135360276, 0.11726009420106982, 0.35005586945319372, 0.0034488263000314653, 0.068976526000629299, 0.9710760065262195, 0.038445113567500355, 0.95151656079563385, 0.019084746127009628, 0.20516102086535348, 0.095423730635048137, 0.62979662219131771, 0.033398305722266847, 0.019084746127009628, 0.83716762840048564, 0.14249661760008267, 0.011874718133340222, 0.005937359066670111, 0.7930939501370412, 0.20045231706760383, 0.97869174928316127, 0.0147171691621528, 0.01510768869009281, 0.10575382083064967, 0.87624594402538292, 0.98450398726279176, 0.085357810497954018, 0.67066851105535297, 0.23778247210144332, 0.034075032239526903, 0.61335058031148426, 0.030288917546246137, 0.26502802852965368, 0.047326433666009589, 0.0094652867332019174, 0.75958147739219617, 0.18567547225142575, 0.03797907386960981, 0.006329845644934968, 0.008439794193246624, 0.94211745868212959, 0.90741018456449729, 0.85492491786002756, 0.0064280069012032145, 0.070708075913235358, 0.025712027604812858, 0.03856804140721929, 0.04124271608724759, 0.051553395109059486, 0.90733975391944688, 0.97859278226922797, 0.92372599583985326, 0.92645663520711063, 0.034313208711374464, 0.025788081640850259, 0.025788081640850259, 0.01289404082042513, 0.01289404082042513, 0.01289404082042513, 0.90258285742975908, 0.84491608949858044, 0.029646178578897557, 0.0074115446447243893, 0.11117316967086584, 0.31294303272170798, 0.59699901626910445, 0.043330573761467255, 0.048145081957185837, 0.009093976012027832, 0.081845784108250497, 0.90939760120278323, 0.86707837435684487, 0.011260758108530453, 0.11260758108530454, 0.98846189633917403, 0.9557467048608812, 0.0026116428154350363, 0.72211923846778747, 0.24549442465089341, 0.011752392669457663, 0.018281499708045254, 0.030196991768722679, 0.070459647460352923, 0.89584408913877278, 0.98210267625003167, 0.014180963389810761, 0.02127144508471614, 0.95721502881222631, 0.94589598340083969, 0.055235566395052914, 0.0055235566395052914, 0.093900462871589943, 0.83958060920480426, 0.0055235566395052914, 0.9787249006942218, 0.28226241195167995, 0.043056978094324058, 0.45688237866754977, 0.2152848904716203, 0.93026708668044356, 0.83187346813195406, 0.16340371695449096, 0.077030027409191237, 0.0098756445396399016, 0.24886624239892555, 0.62216560599731385, 0.015801031263423845, 0.025676675803063747, 0.14770233177175873, 0.093992392945664652, 0.71837043179900839, 0.033568711766308802, 0.92258492678127602, 0.91784050444529963, 0.070603115726561513, 0.086329163489168081, 0.18456579780442831, 0.02083807394566126, 0.014884338532615185, 0.014884338532615185, 0.011907470826092148, 0.66681836626116031, 0.0023952603382476232, 0.0071857810147428697, 0.083834111838666819, 0.49581889001725804, 0.10060093420640018, 0.30659332329569577, 0.0023952603382476232, 0.41686962729212534, 0.052108703411515668, 0.0040083618008858206, 0.52108703411515667, 0.0080167236017716411, 0.95159058325139967, 0.97545586935177231, 0.88116823899301433, 0.2995927747605418, 0.47155634054237749, 0.069860198598870743, 0.0053738614306823645, 0.0040303960730117732, 0.057769010379835416, 0.09404257503694137, 0.10823386359914636, 0.89292937469295752, 0.27469042364919322, 0.70914976717597844, 0.0056059270132488414, 0.011211854026497683, 0.98316145249862996, 0.93810650878208812, 0.010515393702002366, 0.75710834654417036, 0.23133866144405205, 0.94010684710054249, 0.93810650878208812, 0.83492452874316825, 0.011596174010321781, 0.15075026213418316, 0.95963829308657822, 0.029079948275350855, 0.87403461979548247, 0.12687599319611842, 0.064405358448406072, 0.11449841501938858, 0.81580120701314363, 0.67148752217540797, 0.32528149091216646, 0.0019022309410068215, 0.058011794616321798, 0.92818871386114876, 0.027786202514007145, 0.027786202514007145, 0.91694468296223586, 0.085861511918389782, 0.013737841906942364, 0.065254749057976236, 0.19232978669719311, 0.020606762860413547, 0.62163734628914202, 0.98755188434896124, 0.97825159310949095, 0.76244600403676133, 0.020606648757750309, 0.10990212670800165, 0.10303324378875153, 0.72379289990756579, 0.038094363153029782, 0.23491523944368364, 0.0064372933843599156, 0.10299669414975865, 0.064372933843599156, 0.81109896642934942, 0.012874586768719831, 0.034899971585974181, 0.94229923282130279, 0.016168743162005825, 0.34493318745612422, 0.080843715810029124, 0.54973726750819796, 0.94010684710054249, 0.023855193420604645, 0.95420773682418591, 0.034067053207408403, 0.95387748980743525, 0.95805243360547898, 0.022280289153615788, 0.90741018456449729, 0.89442631652420446, 0.07558532252317221, 0.0083983691692413563, 0.0062987768769310172, 0.014697146046172374, 0.73833056089863025, 0.1317353282931166, 0.042890572002410053, 0.021445286001205027, 0.06433585800361509, 0.036971381328442014, 0.85034177055416627, 0.086266556433031369, 0.012323793776147339, 0.012323793776147339, 0.15668216066207538, 0.18606006578621451, 0.014688952562069566, 0.097926350413797103, 0.54349124479657396, 0.95131057913607853, 0.90741018456449729, 0.015873163931292733, 0.96032641784321049, 0.015873163931292733, 0.0098517041779240238, 0.20688578773640451, 0.0098517041779240238, 0.0024629260444810059, 0.76843292587807388, 0.56512966828787659, 0.064029469806015579, 0.022271119932527159, 0.027838899915658948, 0.32293123902164378, 0.95650904254739022, 0.031883634751579674, 0.954424159187368, 0.034086577113834574, 0.24686613724835552, 0.0077957727552112272, 0.012992954592018711, 0.0077957727552112272, 0.71980968439783666, 0.0025985909184037424, 0.039423552742949265, 0.49100242961673174, 0.36914781204761582, 0.06809522746509418, 0.028671674722144918, 0.89393792866915089, 0.023709956679086444, 0.74686363539122291, 0.2252445884513212, 0.97782643408375725, 0.94697459188643807, 0.054479958925410681, 0.89891932226927629, 0.02723997946270534, 0.91972690619560105, 0.029042065927357551, 0.029042065927357551, 0.42733325578826115, 0.4937151207650784, 0.020744332805255394, 0.93319187498938161, 0.11221094061139113, 0.065456382023311485, 0.82288023115020159, 0.027629689099542075, 0.93940942938443051, 0.013283093370347339, 0.013283093370347339, 0.95638272266500834, 0.013283093370347339, 0.98407993541217753, 0.0051181347093652947, 0.26784904979011709, 0.20813747818085532, 0.51863765054901656, 0.025587743208017748, 0.034116990944023665, 0.017058495472011832, 0.89557101228062119, 0.0085292477360059162, 0.017058495472011832, 0.96646531803130409, 0.96894951971840326, 0.0041081342932106253, 0.17254164031484628, 0.0041081342932106253, 0.52584118953096004, 0.29167753481795444, 0.019595204217191714, 0.019595204217191714, 0.024494005271489643, 0.83034677870349882, 0.0024494005271489643, 0.068583214760170999, 0.0024494005271489643, 0.031842206852936532, 0.0090207443081718533, 0.22326342162725338, 0.42623016856112006, 0.12178004816032002, 0.2210082355502104, 0.019807248664723612, 0.77743451009040176, 0.034662685163266316, 0.019807248664723612, 0.089132618991256254, 0.059421745994170834, 0.025901414034794398, 0.012950707017397199, 0.88064807718300953, 0.077704242104383189, 0.99406816815425414, 0.93057421723694944, 0.019256371433714909, 0.96281857168574536, 0.057121048810106427, 0.006346783201122936, 0.90758999776057991, 0.025387132804491744, 0.079985251668352006, 0.0049990782292720004, 0.069987095209808003, 0.014997234687816, 0.77985620376643205, 0.044991704063448004, 0.13434404189293894, 0.85404426631939767, 0.047780415478335413, 0.77643175152295041, 0.10153338289146274, 0.035835311608751558, 0.041807863543543482, 0.090456398399929236, 0.0064611713142806596, 0.8787192987421697, 0.01938351394284198, 0.85980335107717232, 0.13678689676227743, 0.039022797617944881, 0.93654714283067708, 0.94525614095182808, 0.17899205095098158, 0.81540823211002722, 0.012441235302165959, 0.98285758887111085, 0.94010684710054249, 0.97529931287113003, 0.0092750311117924533, 0.0092750311117924533, 0.88112795562028301, 0.092750311117924533, 0.022363773999609576, 0.15841006583056783, 0.80882315965254636, 0.0093182391665039901, 0.049430587609515027, 0.14829176282854506, 0.68378979526495787, 0.1194572533896613, 0.013713704035459153, 0.98052983853532949, 0.051225423003674352, 0.0073179175719534787, 0.69520216933558043, 0.24880919744641827, 0.91609729709308185, 0.96827484670234298, 0.017931015679673017, 0.055954699943786886, 0.047961171380388759, 0.89527519910059017, 0.41699663028233552, 0.047288277660883407, 0.52017105426971744, 0.012896802998422748, 0.0034332370133824358, 0.62828237344898574, 0.3673563604319206, 0.023441164163033993, 0.97280831276591062, 0.0033699815918196039, 0.52234714673203864, 0.16512909799916059, 0.060659668652752873, 0.016849907959098021, 0.23252872983555267, 0.0085130799457214489, 0.80874259484353772, 0.17026159891442899, 0.0085130799457214489, 0.93902617961466173, 0.077343314605245517, 0.91522922282873864, 0.092623244977766972, 0.58100035486053825, 0.004210147498989408, 0.063152212484841111, 0.25681899743835385, 0.52834523595569993, 0.37941570635744892, 0.088648529522768443, 0.93903267006267155, 0.96041816616800202, 0.92258492678127602, 0.091302822045039117, 0.02148301695177391, 0.76801785602591732, 0.11815659323475651, 0.031269879684983772, 0.9380963905495131, 0.67188438234813008, 0.28906653659163739, 0.019531522742678203, 0.019531522742678203, 0.9354680818970077, 0.39456011756221382, 0.055054900124960067, 0.54749039568710289, 0.46737474878358526, 0.43812029356911347, 0.0013930692959272287, 0.00069653464796361436, 0.08985296958730625, 0.0020896039438908433, 0.11836591493965876, 0.27808859534016217, 0.29662783502950629, 0.28236688142231847, 0.024243621132219263, 0.94951924464313042, 0.9389144990934426, 0.028451954517983109, 0.95514091275528379, 0.014471832011443694, 0.014471832011443694, 0.93907899683052753, 0.61321140936763052, 0.29434147649646264, 0.044151221474469399, 0.049056912749410445, 0.95421733128622832, 0.98889420820764562, 0.46088972918405918, 0.33427167171591105, 0.19499180850094813, 0.01012944459745185, 0.046928860072442395, 0.78438237549653722, 0.020112368602475311, 0.14749070308481896, 0.06454472755045608, 0.021514909183485361, 0.010757454591742681, 0.043029818366970722, 0.86059636733941447, 0.98209137681796144, 0.96808445991378789, 0.97188723910723285, 0.20188226882896754, 0.0091764667649530691, 0.027529400294859209, 0.76164674149110478, 0.03521007804735881, 0.95067210727868778, 0.97192582412929129, 0.035319104218511317, 0.40028318114312827, 0.14421967555892121, 0.32670171402122966, 0.094184277916030179, 0.91560572911764926, 0.022216442854868297, 0.21846168807287158, 0.020365072616962604, 0.69056109873882288, 0.0018513702379056912, 0.044432885709736594, 0.95827758355789183, 0.86142243207817726, 0.034140532192518655, 0.034140532192518655, 0.58465661379688205, 0.25605399144388991, 0.055478364812842816, 0.025605399144388991, 0.0085351330481296638, 0.051628225553843464, 0.010325645110768692, 0.18069878943845213, 0.56791048109227815, 0.18586161199383647, 0.0037525262333641188, 0.84807092874029077, 0.03002020986691295, 0.1200808394676518, 0.1812051395292216, 0.014561127283598164, 0.32358060630218144, 0.019414836378130886, 0.45948446094909762, 0.72533668868240608, 0.081346170693353953, 0.17625003650226692, 0.020336542673338488, 0.006856948162416894, 0.7268365052161907, 0.020570844487250682, 0.2399931856845913, 0.074929308662821714, 0.9141375656864249, 0.0080633429540523504, 0.0080633429540523504, 0.016126685908104701, 0.08869677249457586, 0.87084103903765386, 0.031753422482310383, 0.85734240702238029, 0.10584474160770127, 0.98938464067305187, 0.90554569905186444, 0.94920493411648832, 0.025654187408553738, 0.91123002445321621, 0.89243826285912353, 0.092321199606116233, 0.30107203374885622, 0.58803131591573476, 0.014112751581977634, 0.094085010546517564, 0.93057421723694944, 0.97940176569977277, 0.93541395094491497, 0.037416558037796602, 0.017309326900787431, 0.051927980702362292, 0.91739432574173385, 0.09342102031363099, 0.11040666037065482, 0.20382768068428581, 0.5902509919815776, 0.97442177898441973, 0.95621329747974071, 0.019124265949594814, 0.96184088042270643, 0.97188923159318186, 0.91972690619560105, 0.90507772768392725, 0.075423143973660609, 0.027257352338141399, 0.9540073318349489, 0.77438710351472995, 0.14944312523968473, 0.067928693290765785, 0.055596635891700691, 0.88954617426721105, 0.01853221196390023, 0.01853221196390023, 0.93053802683429032, 0.012823637838810582, 0.051294551355242329, 0.93185101628690226, 0.61391327731455203, 0.043165777311179439, 0.0095923949580398755, 0.18705170168177757, 0.14388592437059813, 0.083442574322261445, 0.0064186595632508801, 0.064186595632508808, 0.0064186595632508801, 0.038511957379505281, 0.10911721257526497, 0.6932152328310951, 0.96036357126718763, 0.011693151151442946, 0.93545209211543556, 0.052619180181493252, 0.22959774411079592, 0.60805556407364636, 0.14886007585205449, 0.010092208532342677, 0.96916955822181006, 0.015055751389507316, 0.003763937847376829, 0.052695129863275611, 0.49307585800636461, 0.033875440626391466, 0.39897741182194391, 0.97501775135948421, 0.0028864067690639122, 0.23668535506324079, 0.4127561679761394, 0.025977660921575208, 0.29729989721358296, 0.023091254152511297, 0.43394620864273731, 0.018430147857413554, 0.021781083831488746, 0.0033509359740751918, 0.17424867065190996, 0.0083773399351879784, 0.34012000136863196, 0.091783482424824162, 0.89488895364203558, 0.01147293530310302, 0.98760371884488407, 0.94690726537527725, 0.2585834450908604, 0.0051716689018172085, 0.72920531515622633, 0.067886711852377019, 0.92325928119232759, 0.95131057913607853, 0.93810650878208812, 0.83029431815231047, 0.0058886121854773788, 0.16488114119336661, 0.033670747938317598, 0.94278094227289277, 0.9887225491029682, 0.96995409194719928, 0.020202132701315358, 0.39506392838127807, 0.0067340442337717856, 0.022446814112572617, 0.55668098999180093, 0.91123002445321621, 0.10419799360924063, 0.10419799360924063, 0.76727613475895373, 0.02841763462070199, 0.93902617961466173, 0.25713397918452391, 0.17570821910942466, 0.0042855663197420646, 0.025713397918452389, 0.029998964238194453, 0.47569786149136922, 0.034284530557936517, 0.97442177898441973, 0.6882358751031995, 0.20703030389283239, 0.0055954136187252, 0.0167862408561756, 0.078335790662152793, 0.047690815590984661, 0.94984207718711122, 0.041746314350483316, 0.13015027415150682, 0.073669966500852904, 0.093315290901080358, 0.29713553155344008, 0.046657645450540179, 0.31678085595366751, 0.84725037893416033, 0.020919762442818773, 0.10808543928789699, 0.013946508295212516, 0.010459881221409386, 0.002930602066512094, 0.027840719631864894, 0.01465301033256047, 0.64180185256614863, 0.31210912008353803, 0.14504903769474906, 0.11157618284211467, 0.0055788091421057331, 0.73640280675795677, 0.90101189657363523, 0.083427027460521788, 0.94453821755858236, 0.00076738388957487086, 0.55865547161050599, 0.0053716872270240966, 0.43433928149937695, 0.0022972712152445978, 0.4043197338830492, 0.35837430957815725, 0.23202439273970435, 0.79722566728280941, 0.0078159379145373471, 0.023447813743612041, 0.15631875829074696, 0.0078159379145373471, 0.040786255866276759, 0.032629004693021407, 0.024471753519766055, 0.76678161028600311, 0.13867326994534099, 0.055661980141302643, 0.29222539574183887, 0.018553993380434213, 0.62619727658965474, 0.84072508579093208, 0.14380823835897522, 0.011062172181459632, 0.012589869887501206, 0.062949349437506033, 0.15107843865001447, 0.025179739775002413, 0.64837829920631218, 0.10071895910000965, 0.92350605507276728, 0.077850458894950764, 0.60448591612550007, 0.050373826343791672, 0.077850458894950764, 0.18317755034106062, 0.091676224026952732, 0.4076666132262366, 0.1814018900958852, 0.2945342516610609, 0.02340669549624325, 0.96980119236194717, 0.057511448273772151, 0.0031950804596540083, 0.0031950804596540083, 0.19489990803889451, 0.0063901609193080166, 0.70930786204318985, 0.025560643677232067, 0.92350605507276728, 0.96824709736620118, 0.022005615849231847, 0.97928244597468561, 0.92938459424407904, 0.95528753439147618, 0.01969968657657991, 0.01969968657657991, 0.88648589594609595, 0.03939937315315982, 0.01969968657657991, 0.92065825602033202, 0.99009680918348486, 0.93902617961466173, 0.22379308593950695, 0.75530166504583596, 0.013987067871219184, 0.94507519340162371, 0.004288079818122412, 0.017152319272489648, 0.75470204798954454, 0.14150663399803959, 0.034304638544979296, 0.047168877999346534, 0.97948796138887928, 0.045499672095777863, 0.051999625252317556, 0.10399925050463511, 0.0064999531565396946, 0.61749554987127098, 0.17549873522657175, 0.82025512389886102, 0.17225357601876082, 0.0041012756194943054, 0.88135311808930716, 0.11123874305981546, 0.057770387421291439, 0.92432619874066302, 0.99206901360480015, 0.016271308996725527, 0.97627853980353163, 0.078765004987383203, 0.89267005652367637, 0.020652495047855712, 0.01147360835991984, 0.0061192577919572475, 0.60427670695577818, 0.31437686906180362, 0.042834804543700734, 0.93881713756539542, 0.029338035548918607, 0.95827758355789183, 0.8960824945802488, 0.089608249458024883, 0.045123498857501207, 0.054148198629001443, 0.89344527737852386, 0.1340782320209272, 0.85474872913341082, 0.93907899683052753, 0.43971832210789391, 0.010387046978926628, 0.41201953016408954, 0.0034623489929755426, 0.10040812079629073, 0.01384939597190217, 0.020774093957853255, 0.64050132246575675, 0.34091199421564472, 0.018078666359920552, 0.49432664445239655, 0.26650653874824859, 0.0014328308534852074, 0.012895477681366866, 0.12322345339972784, 0.10173099059744972, 0.027089805494447068, 0.054179610988894136, 0.81269416483341206, 0.006772451373611767, 0.006772451373611767, 0.094814319230564742, 0.096370736942546165, 0.016061789490424361, 0.88339842197333984, 0.0016784918483326386, 0.15106426634993747, 0.75196434805302204, 0.095674035354960399, 0.99527866516291896, 0.04497515002265888, 0.02248757501132944, 0.92199057546450702, 0.94548036989866813, 0.031169682524131916, 0.020779788349421277, 0.95702461713973075, 0.17452679684268216, 0.57669724174103676, 0.010117495469140996, 0.24029051739209864, 0.48227942061753037, 0.22877357131857209, 0.012366138990193086, 0.17621748061025147, 0.083471438183803329, 0.015457673737741357, 0.0030915347475482715, 0.20718364003383871, 0.30627146787610943, 0.099087827842270687, 0.38509133093246112, 0.0040575193889713888, 0.5396500787331947, 0.032460155111771111, 0.41792449706405305, 0.94010684710054249, 0.010906362069528327, 0.92704077590990774, 0.054531810347641631, 0.093654635491946248, 0.59470693537385877, 0.30906029712342264, 0.74643953095133209, 0.19343707356970494, 0.059168987209556809, 0.09150148314019789, 0.85678661485821661, 0.0083183166491088995, 0.041591583245544496, 0.0031356445441532653, 0.070552002243448472, 0.50640659388075238, 0.41860854664446095], \"Term\": [\"\\\"\", \"\\\"\", \"\\\"\", \"\\\"\", \"\\\"\", \"\\\"\", \"\\\"and\", \"\\\"as\", \"\\\"as\", \"\\\"as\", \"\\\"as\", \"\\\"but\", \"\\\"but\", \"\\\"but\", \"\\\"but\", \"\\\"for\", \"\\\"for\", \"\\\"here\", \"\\\"here\", \"\\\"here\", \"\\\"hum\", \"\\\"i\", \"\\\"i\", \"\\\"i\", \"\\\"i\", \"\\\"i\", \"\\\"if\", \"\\\"if\", \"\\\"is\", \"\\\"is\", \"\\\"it\", \"\\\"it\", \"\\\"it\", \"\\\"it\", \"\\\"may\", \"\\\"oh\", \"\\\"oh\", \"\\\"oh\", \"\\\"oh\", \"\\\"oh\", \"\\\"that\", \"\\\"that\", \"\\\"that\", \"\\\"that\", \"\\\"the\", \"\\\"the\", \"\\\"the\", \"\\\"then\", \"\\\"then\", \"\\\"then\", \"\\\"then\", \"\\\"then\", \"\\\"there\", \"\\\"there\", \"\\\"there\", \"\\\"there\", \"\\\"there\", \"\\\"this\", \"\\\"this\", \"\\\"this\", \"\\\"this\", \"\\\"this\", \"\\\"two\", \"\\\"we\", \"\\\"we\", \"\\\"we\", \"\\\"we\", \"\\\"well\", \"\\\"well\", \"\\\"well\", \"\\\"well\", \"\\\"well\", \"\\\"witness\", \"\\\"yes\", \"\\\"yes\", \"\\\"yes\", \"\\\"yes\", \"\\\"yes\", \"\\\"you\", \"\\\"you\", \"\\\"you\", \"\\\"you\", \"\\\"you\", \"3\", \"abe\", \"aboard\", \"accepted\", \"account\", \"account\", \"account\", \"account\", \"account\", \"account\", \"account\", \"additional\", \"additional\", \"additional\", \"admiration\", \"admiration\", \"admitted\", \"affair\", \"affair\", \"affair\", \"affair\", \"affair\", \"afraid\", \"afraid\", \"afternoon\", \"afternoon\", \"agreed\", \"agreed\", \"alarmed\", \"alert\", \"amateur\", \"america\", \"america\", \"america\", \"amusement\", \"answer\", \"answer\", \"answer\", \"answered\", \"answered\", \"answered\", \"answered\", \"answered\", \"apology\", \"appeared\", \"appeared\", \"appeared\", \"approached\", \"approached\", \"approached\", \"approached\", \"armchair\", \"armchair\", \"armchair\", \"armchair\", \"arrive\", \"arrive\", \"arrived\", \"arthur\", \"arthur\", \"arthur\", \"ascii\", \"ascii\", \"ash\", \"assistance\", \"associates\", \"attempt\", \"attempted\", \"attention\", \"attention\", \"attention\", \"attention\", \"attention\", \"attention\", \"awakened\", \"back\", \"back\", \"back\", \"back\", \"back\", \"back\", \"bad\", \"bad\", \"bad\", \"bad\", \"bad\", \"badly\", \"badly\", \"baker\", \"baker\", \"baker\", \"baker\", \"baker\", \"baker\", \"baldwin\", \"baldwin\", \"band\", \"band\", \"barker\", \"barker\", \"barker\", \"barrel\", \"barrel\", \"barrymore\", \"barrymore\", \"barrymore\", \"beard\", \"beard\", \"beard\", \"beard\", \"bed\", \"bed\", \"bed\", \"bed\", \"bed\", \"bedroom\", \"bedroom\", \"bedroom\", \"bedroom\", \"bedroom\", \"beginning\", \"beginning\", \"bitterly\", \"black\", \"black\", \"black\", \"black\", \"black\", \"black\", \"blooded\", \"blunt\", \"body\", \"body\", \"body\", \"bone\", \"boss\", \"boss\", \"bottom\", \"bottom\", \"bottom\", \"bottom\", \"bound\", \"box\", \"box\", \"box\", \"brave\", \"break\", \"break\", \"break\", \"break\", \"bright\", \"bright\", \"bright\", \"bright\", \"bring\", \"bring\", \"bring\", \"bring\", \"brothers\", \"brought\", \"brought\", \"brought\", \"brought\", \"brought\", \"brought\", \"brown\", \"brown\", \"brown\", \"bully\", \"business\", \"business\", \"business\", \"business\", \"business\", \"business\", \"business\", \"buy\", \"buy\", \"camp\", \"capital\", \"car\", \"cards\", \"cards\", \"carriage\", \"carriage\", \"carriage\", \"carriage\", \"carruthers\", \"case\", \"case\", \"case\", \"case\", \"case\", \"case\", \"case\", \"cases\", \"cases\", \"cases\", \"catch\", \"catch\", \"catch\", \"catch\", \"catch\", \"centre\", \"centre\", \"centre\", \"century\", \"certificate\", \"chair\", \"chair\", \"chair\", \"chair\", \"chair\", \"chance\", \"chance\", \"chance\", \"chance\", \"chance\", \"chance\", \"charles\", \"charles\", \"charles\", \"charles\", \"charles\", \"cheeks\", \"cheeks\", \"cheeks\", \"cheeks\", \"chief\", \"chief\", \"chief\", \"child\", \"child\", \"child\", \"chin\", \"chin\", \"chosen\", \"chuckled\", \"clair\", \"clatter\", \"clear\", \"clear\", \"clear\", \"clear\", \"clear\", \"clear\", \"cleared\", \"cleared\", \"cleared\", \"clock\", \"clock\", \"clock\", \"clock\", \"clock\", \"clock\", \"close\", \"close\", \"close\", \"close\", \"close\", \"close\", \"closed\", \"closed\", \"closed\", \"closed\", \"closed\", \"closed\", \"closed\", \"coachman\", \"coachman\", \"cock\", \"cold\", \"cold\", \"cold\", \"cold\", \"cold\", \"cold\", \"colonel\", \"colonel\", \"commanded\", \"common\", \"common\", \"common\", \"confusion\", \"connection\", \"connection\", \"connection\", \"consequences\", \"consult\", \"consult\", \"content\", \"continually\", \"continually\", \"continually\", \"corner\", \"corner\", \"corner\", \"corner\", \"corner\", \"corner\", \"corridor\", \"corroborate\", \"cottage\", \"couldn\", \"couldn\", \"couldn\", \"country\", \"country\", \"country\", \"country\", \"coward\", \"crazy\", \"cried\", \"cried\", \"cried\", \"cried\", \"cried\", \"cried\", \"cried\", \"cried\", \"crime\", \"crime\", \"crime\", \"crime\", \"criminal\", \"criminal\", \"criminal\", \"criminal\", \"criminal\", \"criminal\", \"criminal\", \"cupboard\", \"curving\", \"cushing\", \"cut\", \"cut\", \"cut\", \"cut\", \"danger\", \"danger\", \"danger\", \"danger\", \"dangerous\", \"dangerous\", \"dangerous\", \"dangerous\", \"dangerous\", \"dark\", \"dark\", \"dark\", \"dark\", \"dark\", \"dazed\", \"dazed\", \"dead\", \"dead\", \"dead\", \"dead\", \"deal\", \"deal\", \"deal\", \"dear\", \"dear\", \"dear\", \"dear\", \"death\", \"death\", \"death\", \"death\", \"deceive\", \"deception\", \"deed\", \"deep\", \"deep\", \"deep\", \"deep\", \"deserted\", \"deserted\", \"detected\", \"devil\", \"devil\", \"devil\", \"devil\", \"didn\", \"didn\", \"didn\", \"didn\", \"didn\", \"died\", \"died\", \"died\", \"died\", \"died\", \"died\", \"dinner\", \"dinner\", \"dinner\", \"dinner\", \"direction\", \"direction\", \"direction\", \"direction\", \"direction\", \"direction\", \"disappointment\", \"discover\", \"discover\", \"discovered\", \"discovered\", \"discovered\", \"discovered\", \"discovered\", \"discovery\", \"discovery\", \"dispatched\", \"disturbed\", \"documents\", \"dogs\", \"don\", \"don\", \"don\", \"don\", \"doubt\", \"doubt\", \"doubt\", \"doubt\", \"doubt\", \"doubt\", \"dr\", \"dr\", \"dread\", \"drebber\", \"drebber\", \"dressed\", \"dressed\", \"dressed\", \"dressed\", \"drunk\", \"duty\", \"ear\", \"ear\", \"ear\", \"easy\", \"easy\", \"easy\", \"easy\", \"eccles\", \"eccles\", \"edges\", \"edition\", \"electronic\", \"emotion\", \"emotion\", \"end\", \"end\", \"end\", \"end\", \"end\", \"ends\", \"ends\", \"ends\", \"enemies\", \"enemies\", \"entered\", \"entered\", \"entered\", \"es\", \"es\", \"escaped\", \"evans\", \"evening\", \"evening\", \"evening\", \"evening\", \"evening\", \"events\", \"events\", \"events\", \"expensive\", \"explain\", \"explain\", \"explained\", \"explained\", \"explained\", \"expressed\", \"expressed\", \"extraordinary\", \"extraordinary\", \"extraordinary\", \"extraordinary\", \"extraordinary\", \"extremely\", \"eyes\", \"eyes\", \"eyes\", \"eyes\", \"eyes\", \"eyes\", \"eyes\", \"face\", \"face\", \"face\", \"face\", \"fact\", \"fact\", \"fact\", \"fact\", \"facts\", \"facts\", \"facts\", \"facts\", \"facts\", \"fairbairn\", \"faith\", \"family\", \"family\", \"family\", \"family\", \"family\", \"famous\", \"famous\", \"father\", \"favorite\", \"feel\", \"feel\", \"feel\", \"feel\", \"fell\", \"fell\", \"fell\", \"fellow\", \"fellow\", \"fellow\", \"fellow\", \"fellow\", \"fellow\", \"felt\", \"felt\", \"felt\", \"felt\", \"find\", \"find\", \"find\", \"fired\", \"fitness\", \"fitness\", \"fitness\", \"flight\", \"flight\", \"floor\", \"floor\", \"floor\", \"floor\", \"fore\", \"foresee\", \"form\", \"form\", \"form\", \"formatted\", \"formatted\", \"formatted\", \"forward\", \"forward\", \"forward\", \"forward\", \"found\", \"found\", \"found\", \"found\", \"found\", \"found\", \"france\", \"frank\", \"frank\", \"free\", \"free\", \"freely\", \"friend\", \"friend\", \"friend\", \"friend\", \"friend\", \"front\", \"front\", \"front\", \"front\", \"fugitives\", \"full\", \"full\", \"full\", \"full\", \"full\", \"furtive\", \"gardener\", \"gas\", \"genius\", \"gennaro\", \"ghost\", \"gilchrist\", \"girl\", \"girl\", \"girl\", \"give\", \"give\", \"give\", \"give\", \"give\", \"glance\", \"glance\", \"glance\", \"glance\", \"glass\", \"glass\", \"glass\", \"glass\", \"gleamed\", \"glimmer\", \"god\", \"god\", \"god\", \"godfrey\", \"godfrey\", \"good\", \"good\", \"good\", \"good\", \"good\", \"goods\", \"gorgiano\", \"grace\", \"grace\", \"gradually\", \"gradually\", \"grasp\", \"grasp\", \"grate\", \"grave\", \"grave\", \"grave\", \"great\", \"great\", \"great\", \"great\", \"grim\", \"grim\", \"grinning\", \"ground\", \"ground\", \"ground\", \"ground\", \"guilty\", \"guilty\", \"guilty\", \"ha\", \"habits\", \"habits\", \"habits\", \"half\", \"half\", \"half\", \"half\", \"half\", \"hall\", \"hall\", \"hall\", \"hall\", \"hall\", \"hall\", \"hall\", \"hall\", \"halloa\", \"hand\", \"hand\", \"hand\", \"hand\", \"handed\", \"handed\", \"handed\", \"handled\", \"hands\", \"hands\", \"hands\", \"hands\", \"hands\", \"hands\", \"hands\", \"hansom\", \"happened\", \"happened\", \"happened\", \"happened\", \"happy\", \"happy\", \"happy\", \"happy\", \"hated\", \"head\", \"head\", \"head\", \"head\", \"head\", \"headed\", \"headed\", \"heard\", \"heard\", \"heard\", \"heard\", \"heard\", \"heard\", \"height\", \"held\", \"held\", \"held\", \"held\", \"held\", \"henry\", \"henry\", \"henry\", \"henry\", \"henry\", \"henry\", \"henry\", \"high\", \"high\", \"high\", \"high\", \"highest\", \"highest\", \"highly\", \"highly\", \"hill\", \"hill\", \"hoarse\", \"holding\", \"holding\", \"hole\", \"hole\", \"holm\", \"holm\", \"holm\", \"holmes\", \"holmes\", \"holmes\", \"holmes\", \"holmes\", \"holmes\", \"home\", \"home\", \"home\", \"home\", \"home\", \"home\", \"honoured\", \"hoofs\", \"hook\", \"hope\", \"hope\", \"hope\", \"hope\", \"hopkins\", \"hopkins\", \"hopkins\", \"hopkins\", \"horner\", \"horse\", \"horse\", \"hosmer\", \"hosmer\", \"hospital\", \"hotel\", \"hotel\", \"hotel\", \"hour\", \"hour\", \"hour\", \"hour\", \"hour\", \"hour\", \"hours\", \"hours\", \"hours\", \"hours\", \"hours\", \"house\", \"house\", \"house\", \"house\", \"house\", \"household\", \"household\", \"html\", \"html\", \"html\", \"html\", \"hunt\", \"husband\", \"husband\", \"husband\", \"husband\", \"husband\", \"hut\", \"hut\", \"hut\", \"huxtable\", \"huxtable\", \"ice\", \"idea\", \"idea\", \"idea\", \"illustrious\", \"imagine\", \"imagine\", \"imagine\", \"imagine\", \"imagine\", \"implied\", \"implied\", \"important\", \"important\", \"important\", \"impression\", \"impression\", \"impression\", \"inclined\", \"inclined\", \"including\", \"increased\", \"india\", \"india\", \"india\", \"indignation\", \"influence\", \"influence\", \"influence\", \"influence\", \"information\", \"information\", \"information\", \"ingenious\", \"innocent\", \"inscription\", \"inspector\", \"inspector\", \"inspector\", \"inspector\", \"inspector\", \"instant\", \"instant\", \"instant\", \"interest\", \"interest\", \"interest\", \"interest\", \"interest\", \"interest\", \"interesting\", \"interesting\", \"interesting\", \"invalid\", \"is\\\"\", \"jewels\", \"jones\", \"jones\", \"joy\", \"joy\", \"keeping\", \"keeping\", \"key\", \"key\", \"key\", \"key\", \"key\", \"key\", \"kind\", \"kind\", \"kind\", \"kind\", \"kind\", \"kind\", \"knew\", \"knew\", \"knew\", \"knew\", \"knew\", \"knew\", \"knock\", \"lady\", \"lady\", \"lady\", \"lady\", \"lamp\", \"lamp\", \"lamp\", \"lamp\", \"large\", \"large\", \"large\", \"large\", \"late\", \"late\", \"late\", \"late\", \"late\", \"law\", \"law\", \"law\", \"lay\", \"lay\", \"lay\", \"lay\", \"lay\", \"lay\", \"leaf\", \"leave\", \"leave\", \"leave\", \"leave\", \"leave\", \"leave\", \"left\", \"left\", \"left\", \"left\", \"left\", \"left\", \"lestrade\", \"lestrade\", \"lestrade\", \"letter\", \"letter\", \"letter\", \"letters\", \"letters\", \"life\", \"life\", \"life\", \"life\", \"life\", \"light\", \"light\", \"light\", \"light\", \"light\", \"light\", \"limbs\", \"limited\", \"limited\", \"line\", \"line\", \"line\", \"line\", \"line\", \"line\", \"lips\", \"lips\", \"lips\", \"lips\", \"live\", \"live\", \"lived\", \"lived\", \"local\", \"local\", \"local\", \"lock\", \"lodge\", \"lodge\", \"lodge\", \"london\", \"london\", \"london\", \"london\", \"london\", \"london\", \"looked\", \"looked\", \"looked\", \"looked\", \"looked\", \"louder\", \"lounging\", \"love\", \"love\", \"love\", \"love\", \"love\", \"loved\", \"loved\", \"loved\", \"lucas\", \"lysander\", \"macdonald\", \"macdonald\", \"mad\", \"mad\", \"mad\", \"mad\", \"mad\", \"mad\", \"making\", \"making\", \"making\", \"making\", \"manner\", \"manner\", \"manner\", \"manner\", \"marriage\", \"marriage\", \"marriage\", \"mary\", \"mary\", \"mary\", \"massive\", \"mate\", \"matter\", \"matter\", \"matter\", \"matter\", \"matter\", \"matters\", \"matters\", \"matters\", \"mccarthy\", \"mcmurdo\", \"mcmurdo\", \"mcmurdo\", \"mcpherson\", \"means\", \"means\", \"means\", \"means\", \"means\", \"medium\", \"men\", \"men\", \"men\", \"men\", \"merripit\", \"met\", \"met\", \"mind\", \"mind\", \"mind\", \"mind\", \"mind\", \"mind\", \"mine\", \"mine\", \"mine\", \"mine\", \"misery\", \"misfortune\", \"misfortune\", \"miss\", \"miss\", \"miss\", \"miss\", \"miss\", \"miss\", \"miss\", \"moment\", \"moment\", \"moment\", \"moment\", \"moment\", \"moment\", \"moment\", \"money\", \"money\", \"money\", \"money\", \"money\", \"moonlight\", \"moran\", \"mormon\", \"morning\", \"morning\", \"morning\", \"morning\", \"morning\", \"morning\", \"morning\", \"mortimer\", \"mortimer\", \"mrs\", \"mrs\", \"mrs\", \"mrs\", \"mud\", \"muffled\", \"murder\", \"murder\", \"murder\", \"murders\", \"murmured\", \"nature\", \"nature\", \"nature\", \"nerve\", \"nerve\", \"nerves\", \"nerves\", \"news\", \"news\", \"news\", \"night\", \"night\", \"night\", \"norfolk\", \"norfolk\", \"norwood\", \"norwood\", \"norwood\", \"note\", \"note\", \"note\", \"note\", \"note\", \"note\", \"nurse\", \"oak\", \"object\", \"object\", \"object\", \"object\", \"observed\", \"observed\", \"observed\", \"obvious\", \"obvious\", \"obvious\", \"obvious\", \"obvious\", \"occupied\", \"occupied\", \"occurred\", \"occurred\", \"occurred\", \"occurred\", \"occurrence\", \"offer\", \"offer\", \"officers\", \"officers\", \"oldacre\", \"oldacre\", \"oldest\", \"open\", \"open\", \"open\", \"open\", \"open\", \"opened\", \"opened\", \"opened\", \"opened\", \"opened\", \"opposite\", \"opposite\", \"opposite\", \"opposite\", \"opposite\", \"order\", \"order\", \"order\", \"order\", \"order\", \"pa\", \"packed\", \"pale\", \"pale\", \"pale\", \"paper\", \"paper\", \"paper\", \"paper\", \"paper\", \"papers\", \"papers\", \"papers\", \"papers\", \"papers\", \"parted\", \"parted\", \"particulars\", \"particulars\", \"passed\", \"passed\", \"passed\", \"passed\", \"passed\", \"passed\", \"past\", \"past\", \"past\", \"past\", \"past\", \"patent\", \"path\", \"path\", \"path\", \"patient\", \"pedro\", \"peering\", \"peering\", \"peering\", \"penny\", \"people\", \"people\", \"people\", \"people\", \"people\", \"percy\", \"perfectly\", \"perfectly\", \"perfectly\", \"permission\", \"permission\", \"piece\", \"piece\", \"piece\", \"piece\", \"pips\", \"place\", \"place\", \"place\", \"place\", \"play\", \"play\", \"play\", \"play\", \"play\", \"play\", \"playing\", \"plot\", \"pocket\", \"pocket\", \"pocket\", \"pocket\", \"pocket\", \"point\", \"point\", \"point\", \"point\", \"point\", \"point\", \"point\", \"point\", \"police\", \"police\", \"police\", \"police\", \"police\", \"position\", \"position\", \"position\", \"position\", \"position\", \"position\", \"possession\", \"possession\", \"possession\", \"possession\", \"practice\", \"practitioner\", \"pray\", \"pray\", \"presence\", \"presence\", \"presence\", \"presence\", \"present\", \"present\", \"present\", \"present\", \"present\", \"present\", \"prisoner\", \"prisoner\", \"problem\", \"problem\", \"problem\", \"problem\", \"problem\", \"professor\", \"professor\", \"professor\", \"professor\", \"promise\", \"promise\", \"proof\", \"proof\", \"proper\", \"prove\", \"prove\", \"provided\", \"provided\", \"punishment\", \"purposes\", \"pushed\", \"pushed\", \"pushed\", \"pushed\", \"put\", \"put\", \"put\", \"put\", \"question\", \"question\", \"question\", \"question\", \"quick\", \"quick\", \"quiet\", \"quiet\", \"quiet\", \"quiet\", \"rack\", \"rain\", \"rain\", \"raised\", \"raised\", \"raised\", \"reached\", \"reached\", \"reached\", \"reached\", \"read\", \"read\", \"read\", \"real\", \"real\", \"reason\", \"reason\", \"reason\", \"reason\", \"reason\", \"reason\", \"received\", \"received\", \"received\", \"received\", \"rely\", \"remain\", \"remain\", \"remarkable\", \"remarkable\", \"remarkable\", \"remarkable\", \"remarkable\", \"remember\", \"remember\", \"remember\", \"rent\", \"reports\", \"represent\", \"rest\", \"rest\", \"rest\", \"rest\", \"rested\", \"rested\", \"returned\", \"returned\", \"returned\", \"returned\", \"revealed\", \"road\", \"road\", \"road\", \"room\", \"room\", \"room\", \"room\", \"room\", \"room\", \"round\", \"round\", \"round\", \"round\", \"round\", \"routine\", \"roylott\", \"roylott\", \"rucastle\", \"rucastle\", \"rucastle\", \"rumours\", \"rushed\", \"rushed\", \"rushed\", \"rushed\", \"safely\", \"sake\", \"sat\", \"sat\", \"sat\", \"sat\", \"save\", \"save\", \"save\", \"save\", \"scotland\", \"scotland\", \"scotland\", \"scotland\", \"scotland\", \"seaman\", \"secured\", \"securities\", \"send\", \"send\", \"send\", \"send\", \"sensational\", \"sensational\", \"sensitive\", \"set\", \"set\", \"set\", \"set\", \"set\", \"shadowed\", \"sherlock\", \"sherlock\", \"sherlock\", \"sherlock\", \"sherlock\", \"sherlock\", \"shield\", \"shoots\", \"short\", \"short\", \"short\", \"short\", \"short\", \"short\", \"short\", \"show\", \"show\", \"show\", \"show\", \"show\", \"showed\", \"showed\", \"showed\", \"showed\", \"side\", \"side\", \"side\", \"side\", \"side\", \"silence\", \"silence\", \"silence\", \"silence\", \"silent\", \"silent\", \"silent\", \"silent\", \"simply\", \"simply\", \"single\", \"single\", \"single\", \"single\", \"single\", \"sit\", \"sit\", \"sit\", \"slept\", \"slowed\", \"soames\", \"soames\", \"sobbing\", \"sofa\", \"sofa\", \"son\", \"son\", \"son\", \"son\", \"sought\", \"space\", \"specimen\", \"specimen\", \"spite\", \"spite\", \"spite\", \"spoke\", \"spoke\", \"spoke\", \"spoke\", \"sprung\", \"stables\", \"stables\", \"staggered\", \"stake\", \"stamped\", \"stangerson\", \"stangerson\", \"stanley\", \"stanley\", \"started\", \"started\", \"started\", \"starting\", \"starting\", \"starting\", \"starting\", \"startling\", \"station\", \"station\", \"station\", \"step\", \"step\", \"step\", \"step\", \"step\", \"steps\", \"steps\", \"steps\", \"steps\", \"steps\", \"steps\", \"steps\", \"sternly\", \"stone\", \"stone\", \"stone\", \"stood\", \"stood\", \"stood\", \"stood\", \"stooped\", \"story\", \"story\", \"story\", \"story\", \"story\", \"story\", \"stout\", \"strange\", \"strange\", \"strange\", \"strange\", \"strange\", \"strange\", \"street\", \"street\", \"street\", \"street\", \"street\", \"street\", \"street\", \"strength\", \"strength\", \"strength\", \"string\", \"struggled\", \"study\", \"study\", \"study\", \"suggest\", \"suggest\", \"superficial\", \"surgery\", \"surprise\", \"surprise\", \"surprise\", \"surrey\", \"surrey\", \"swept\", \"swung\", \"table\", \"table\", \"table\", \"table\", \"table\", \"team\", \"telegram\", \"telegram\", \"telegram\", \"telegram\", \"tells\", \"ten\", \"ten\", \"ten\", \"ten\", \"ten\", \"ten\", \"ten\", \"terrace\", \"terrible\", \"terrible\", \"terrible\", \"terrible\", \"terrible\", \"text\", \"text\", \"thing\", \"thing\", \"thing\", \"thing\", \"thing\", \"thing\", \"thing\", \"things\", \"things\", \"things\", \"things\", \"things\", \"thought\", \"thought\", \"thought\", \"thought\", \"thought\", \"threw\", \"threw\", \"threw\", \"threw\", \"thumb\", \"thumb\", \"ticket\", \"time\", \"time\", \"time\", \"time\", \"told\", \"told\", \"told\", \"told\", \"top\", \"top\", \"top\", \"top\", \"top\", \"track\", \"track\", \"track\", \"track\", \"track\", \"train\", \"train\", \"train\", \"train\", \"treasure\", \"treasure\", \"treasure\", \"truth\", \"truth\", \"truth\", \"truth\", \"truth\", \"truth\", \"tube\", \"turn\", \"turn\", \"turn\", \"turn\", \"turn\", \"turned\", \"turned\", \"turned\", \"turned\", \"turned\", \"tut\", \"understand\", \"understand\", \"understand\", \"understand\", \"understand\", \"understand\", \"understand\", \"undid\", \"unfortunate\", \"unfortunate\", \"unknown\", \"upwards\", \"useless\", \"utterly\", \"utterly\", \"utterly\", \"utterly\", \"utterly\", \"valise\", \"valley\", \"victor\", \"view\", \"view\", \"view\", \"vision\", \"voice\", \"voice\", \"voice\", \"voice\", \"voice\", \"voice\", \"voyage\", \"walk\", \"walk\", \"walk\", \"walk\", \"walk\", \"walk\", \"walked\", \"walked\", \"walked\", \"wanted\", \"wanted\", \"war\", \"war\", \"warranties\", \"warranty\", \"warranty\", \"warren\", \"warren\", \"watson\", \"watson\", \"watson\", \"watson\", \"watson\", \"watson\", \"wealth\", \"wealth\", \"wealthy\", \"wedding\", \"wedding\", \"weeks\", \"weeks\", \"weeks\", \"weight\", \"weight\", \"whereabouts\", \"white\", \"white\", \"white\", \"white\", \"white\", \"white\", \"white\", \"wife\", \"wife\", \"wife\", \"window\", \"window\", \"window\", \"window\", \"window\", \"window\", \"windows\", \"windows\", \"windows\", \"windows\", \"windows\", \"windows\", \"wire\", \"wire\", \"wire\", \"woman\", \"woman\", \"woman\", \"woman\", \"women\", \"wonderful\", \"wonderful\", \"wonderful\", \"wooden\", \"wooden\", \"wooden\", \"woolwich\", \"word\", \"word\", \"word\", \"word\", \"words\", \"words\", \"words\", \"words\", \"words\", \"words\", \"words\", \"work\", \"work\", \"work\", \"work\", \"world\", \"world\", \"world\", \"world\", \"writhing\", \"yards\", \"yards\", \"yards\", \"year\", \"year\", \"year\", \"years\", \"years\", \"years\", \"yellow\", \"yellow\", \"yellow\", \"yellow\", \"young\", \"young\", \"young\", \"young\"]}, \"mdsDat\": {\"y\": [-0.0053912207575938847, 0.15716285257907228, -0.22547109292985468, 0.011282385957532677, -0.16746768417924321, 0.14800643831290153, 0.12213309307187815, -0.036193173071761134, -0.0088362148018072927, 0.004774615818875165], \"cluster\": [1, 1, 1, 1, 1, 1, 1, 1, 1, 1], \"Freq\": [10.542393755076645, 10.220120643765791, 10.214150200523592, 10.128912094318146, 10.083589522151035, 10.076328122696705, 10.028451168574808, 9.6825356977110282, 9.593044642501706, 9.4304741526805422], \"topics\": [1, 2, 3, 4, 5, 6, 7, 8, 9, 10], \"x\": [-0.13566719569162566, -0.098971169164601719, -0.035370021821290731, -0.091426000059199333, -0.14997951703395956, -0.092325203226972047, 0.021749787095765038, 0.14373137817885298, 0.22915720574243115, 0.20910073598059972]}, \"R\": 30, \"lambda.step\": 0.01, \"tinfo\": {\"Category\": [\"Default\", \"Default\", \"Default\", \"Default\", \"Default\", \"Default\", \"Default\", \"Default\", \"Default\", \"Default\", \"Default\", \"Default\", \"Default\", \"Default\", \"Default\", \"Default\", \"Default\", \"Default\", \"Default\", \"Default\", \"Default\", \"Default\", \"Default\", \"Default\", \"Default\", \"Default\", \"Default\", \"Default\", \"Default\", \"Default\", \"Topic1\", \"Topic1\", \"Topic1\", \"Topic1\", \"Topic1\", \"Topic1\", \"Topic1\", \"Topic1\", \"Topic1\", \"Topic1\", \"Topic1\", \"Topic1\", \"Topic1\", \"Topic1\", \"Topic1\", \"Topic1\", \"Topic1\", \"Topic1\", \"Topic1\", \"Topic1\", \"Topic1\", \"Topic1\", \"Topic1\", \"Topic1\", \"Topic1\", \"Topic1\", \"Topic1\", \"Topic1\", \"Topic1\", \"Topic1\", \"Topic1\", \"Topic1\", \"Topic1\", \"Topic1\", \"Topic1\", \"Topic1\", \"Topic1\", \"Topic1\", \"Topic1\", \"Topic1\", \"Topic1\", \"Topic1\", \"Topic1\", \"Topic1\", \"Topic1\", \"Topic1\", \"Topic1\", \"Topic1\", \"Topic1\", \"Topic1\", \"Topic1\", \"Topic1\", \"Topic1\", \"Topic1\", \"Topic1\", \"Topic1\", \"Topic1\", \"Topic1\", \"Topic1\", \"Topic1\", \"Topic1\", \"Topic1\", \"Topic1\", \"Topic1\", \"Topic1\", \"Topic1\", \"Topic1\", \"Topic1\", \"Topic1\", \"Topic1\", \"Topic1\", \"Topic1\", \"Topic2\", \"Topic2\", \"Topic2\", \"Topic2\", \"Topic2\", \"Topic2\", \"Topic2\", \"Topic2\", \"Topic2\", \"Topic2\", \"Topic2\", \"Topic2\", \"Topic2\", \"Topic2\", \"Topic2\", \"Topic2\", \"Topic2\", \"Topic2\", \"Topic2\", \"Topic2\", \"Topic2\", \"Topic2\", \"Topic2\", \"Topic2\", \"Topic2\", \"Topic2\", \"Topic2\", \"Topic2\", \"Topic2\", \"Topic2\", \"Topic2\", \"Topic2\", \"Topic2\", \"Topic2\", \"Topic2\", \"Topic2\", \"Topic2\", \"Topic2\", \"Topic2\", \"Topic2\", \"Topic2\", \"Topic2\", \"Topic2\", \"Topic2\", \"Topic2\", \"Topic2\", \"Topic2\", \"Topic2\", \"Topic2\", \"Topic2\", \"Topic2\", \"Topic2\", \"Topic2\", \"Topic2\", \"Topic2\", \"Topic2\", \"Topic2\", \"Topic2\", \"Topic2\", \"Topic2\", \"Topic2\", \"Topic2\", \"Topic2\", \"Topic2\", \"Topic2\", \"Topic2\", \"Topic2\", \"Topic2\", \"Topic2\", \"Topic2\", \"Topic2\", \"Topic3\", \"Topic3\", \"Topic3\", \"Topic3\", \"Topic3\", \"Topic3\", \"Topic3\", \"Topic3\", \"Topic3\", \"Topic3\", \"Topic3\", \"Topic3\", \"Topic3\", \"Topic3\", \"Topic3\", \"Topic3\", \"Topic3\", \"Topic3\", \"Topic3\", \"Topic3\", \"Topic3\", \"Topic3\", \"Topic3\", \"Topic3\", \"Topic3\", \"Topic3\", \"Topic3\", \"Topic3\", \"Topic3\", \"Topic3\", \"Topic3\", \"Topic3\", \"Topic3\", \"Topic3\", \"Topic3\", \"Topic3\", \"Topic3\", \"Topic3\", \"Topic3\", \"Topic3\", \"Topic3\", \"Topic3\", \"Topic3\", \"Topic3\", \"Topic3\", \"Topic3\", \"Topic3\", \"Topic3\", \"Topic3\", \"Topic3\", \"Topic3\", \"Topic3\", \"Topic3\", \"Topic3\", \"Topic3\", \"Topic3\", \"Topic3\", \"Topic3\", \"Topic3\", \"Topic3\", \"Topic3\", \"Topic3\", \"Topic3\", \"Topic3\", \"Topic3\", \"Topic3\", \"Topic3\", \"Topic3\", \"Topic3\", \"Topic3\", \"Topic3\", \"Topic3\", \"Topic3\", \"Topic3\", \"Topic3\", \"Topic4\", \"Topic4\", \"Topic4\", \"Topic4\", \"Topic4\", \"Topic4\", \"Topic4\", \"Topic4\", \"Topic4\", \"Topic4\", \"Topic4\", \"Topic4\", \"Topic4\", \"Topic4\", \"Topic4\", \"Topic4\", \"Topic4\", \"Topic4\", \"Topic4\", \"Topic4\", \"Topic4\", \"Topic4\", \"Topic4\", \"Topic4\", \"Topic4\", \"Topic4\", \"Topic4\", \"Topic4\", \"Topic4\", \"Topic4\", \"Topic4\", \"Topic4\", \"Topic4\", \"Topic4\", \"Topic4\", \"Topic4\", \"Topic4\", \"Topic4\", \"Topic4\", \"Topic4\", \"Topic4\", \"Topic4\", \"Topic4\", \"Topic4\", \"Topic4\", \"Topic4\", \"Topic4\", \"Topic4\", \"Topic4\", \"Topic4\", \"Topic4\", \"Topic4\", \"Topic4\", \"Topic4\", \"Topic4\", \"Topic4\", \"Topic4\", \"Topic4\", \"Topic4\", \"Topic4\", \"Topic4\", \"Topic4\", \"Topic4\", \"Topic4\", \"Topic4\", \"Topic4\", \"Topic4\", \"Topic4\", \"Topic4\", \"Topic4\", \"Topic4\", \"Topic4\", \"Topic4\", \"Topic4\", \"Topic4\", \"Topic4\", \"Topic4\", \"Topic5\", \"Topic5\", \"Topic5\", \"Topic5\", \"Topic5\", \"Topic5\", \"Topic5\", \"Topic5\", \"Topic5\", \"Topic5\", \"Topic5\", \"Topic5\", \"Topic5\", \"Topic5\", \"Topic5\", \"Topic5\", \"Topic5\", \"Topic5\", \"Topic5\", \"Topic5\", \"Topic5\", \"Topic5\", \"Topic5\", \"Topic5\", \"Topic5\", \"Topic5\", \"Topic5\", \"Topic5\", \"Topic5\", \"Topic5\", \"Topic5\", \"Topic5\", \"Topic5\", \"Topic5\", \"Topic5\", \"Topic5\", \"Topic5\", \"Topic5\", \"Topic5\", \"Topic5\", \"Topic5\", \"Topic5\", \"Topic5\", \"Topic5\", \"Topic5\", \"Topic5\", \"Topic5\", \"Topic5\", \"Topic5\", \"Topic5\", \"Topic5\", \"Topic5\", \"Topic5\", \"Topic5\", \"Topic5\", \"Topic5\", \"Topic5\", \"Topic5\", \"Topic5\", \"Topic5\", \"Topic5\", \"Topic5\", \"Topic5\", \"Topic5\", \"Topic5\", \"Topic5\", \"Topic5\", \"Topic5\", \"Topic5\", \"Topic5\", \"Topic5\", \"Topic6\", \"Topic6\", \"Topic6\", \"Topic6\", \"Topic6\", \"Topic6\", \"Topic6\", \"Topic6\", \"Topic6\", \"Topic6\", \"Topic6\", \"Topic6\", \"Topic6\", \"Topic6\", \"Topic6\", \"Topic6\", \"Topic6\", \"Topic6\", \"Topic6\", \"Topic6\", \"Topic6\", \"Topic6\", \"Topic6\", \"Topic6\", \"Topic6\", \"Topic6\", \"Topic6\", \"Topic6\", \"Topic6\", \"Topic6\", \"Topic6\", \"Topic6\", \"Topic6\", \"Topic6\", \"Topic6\", \"Topic6\", \"Topic6\", \"Topic6\", \"Topic6\", \"Topic6\", \"Topic6\", \"Topic6\", \"Topic6\", \"Topic6\", \"Topic6\", \"Topic6\", \"Topic6\", \"Topic6\", \"Topic6\", \"Topic6\", \"Topic6\", \"Topic6\", \"Topic6\", \"Topic6\", \"Topic6\", \"Topic6\", \"Topic6\", \"Topic6\", \"Topic6\", \"Topic6\", \"Topic6\", \"Topic6\", \"Topic6\", \"Topic6\", \"Topic6\", \"Topic6\", \"Topic6\", \"Topic6\", \"Topic6\", \"Topic6\", \"Topic6\", \"Topic6\", \"Topic6\", \"Topic6\", \"Topic6\", \"Topic6\", \"Topic7\", \"Topic7\", \"Topic7\", \"Topic7\", \"Topic7\", \"Topic7\", \"Topic7\", \"Topic7\", \"Topic7\", \"Topic7\", \"Topic7\", \"Topic7\", \"Topic7\", \"Topic7\", \"Topic7\", \"Topic7\", \"Topic7\", \"Topic7\", \"Topic7\", \"Topic7\", \"Topic7\", \"Topic7\", \"Topic7\", \"Topic7\", \"Topic7\", \"Topic7\", \"Topic7\", \"Topic7\", \"Topic7\", \"Topic7\", \"Topic7\", \"Topic7\", \"Topic7\", \"Topic7\", \"Topic7\", \"Topic7\", \"Topic7\", \"Topic7\", \"Topic7\", \"Topic7\", \"Topic7\", \"Topic7\", \"Topic7\", \"Topic7\", \"Topic7\", \"Topic7\", \"Topic7\", \"Topic7\", \"Topic7\", \"Topic7\", \"Topic7\", \"Topic7\", \"Topic7\", \"Topic7\", \"Topic7\", \"Topic7\", \"Topic7\", \"Topic7\", \"Topic7\", \"Topic7\", \"Topic7\", \"Topic7\", \"Topic7\", \"Topic7\", \"Topic7\", \"Topic7\", \"Topic7\", \"Topic7\", \"Topic7\", \"Topic7\", \"Topic7\", \"Topic7\", \"Topic7\", \"Topic7\", \"Topic7\", \"Topic7\", \"Topic7\", \"Topic7\", \"Topic7\", \"Topic8\", \"Topic8\", \"Topic8\", \"Topic8\", \"Topic8\", \"Topic8\", \"Topic8\", \"Topic8\", \"Topic8\", \"Topic8\", \"Topic8\", \"Topic8\", \"Topic8\", \"Topic8\", \"Topic8\", \"Topic8\", \"Topic8\", \"Topic8\", \"Topic8\", \"Topic8\", \"Topic8\", \"Topic8\", \"Topic8\", \"Topic8\", \"Topic8\", \"Topic8\", \"Topic8\", \"Topic8\", \"Topic8\", \"Topic8\", \"Topic8\", \"Topic8\", \"Topic8\", \"Topic8\", \"Topic8\", \"Topic8\", \"Topic8\", \"Topic8\", \"Topic8\", \"Topic8\", \"Topic8\", \"Topic8\", \"Topic8\", \"Topic8\", \"Topic8\", \"Topic8\", \"Topic8\", \"Topic8\", \"Topic8\", \"Topic8\", \"Topic8\", \"Topic8\", \"Topic8\", \"Topic8\", \"Topic8\", \"Topic8\", \"Topic8\", \"Topic8\", \"Topic8\", \"Topic8\", \"Topic8\", \"Topic8\", \"Topic8\", \"Topic8\", \"Topic8\", \"Topic8\", \"Topic8\", \"Topic8\", \"Topic8\", \"Topic9\", \"Topic9\", \"Topic9\", \"Topic9\", \"Topic9\", \"Topic9\", \"Topic9\", \"Topic9\", \"Topic9\", \"Topic9\", \"Topic9\", \"Topic9\", \"Topic9\", \"Topic9\", \"Topic9\", \"Topic9\", \"Topic9\", \"Topic9\", \"Topic9\", \"Topic9\", \"Topic9\", \"Topic9\", \"Topic9\", \"Topic9\", \"Topic9\", \"Topic9\", \"Topic9\", \"Topic9\", \"Topic9\", \"Topic9\", \"Topic9\", \"Topic9\", \"Topic9\", \"Topic9\", \"Topic9\", \"Topic9\", \"Topic9\", \"Topic9\", \"Topic9\", \"Topic9\", \"Topic9\", \"Topic9\", \"Topic9\", \"Topic9\", \"Topic9\", \"Topic9\", \"Topic9\", \"Topic9\", \"Topic9\", \"Topic9\", \"Topic9\", \"Topic9\", \"Topic9\", \"Topic9\", \"Topic9\", \"Topic9\", \"Topic9\", \"Topic9\", \"Topic9\", \"Topic9\", \"Topic9\", \"Topic9\", \"Topic9\", \"Topic9\", \"Topic9\", \"Topic9\", \"Topic9\", \"Topic9\", \"Topic10\", \"Topic10\", \"Topic10\", \"Topic10\", \"Topic10\", \"Topic10\", \"Topic10\", \"Topic10\", \"Topic10\", \"Topic10\", \"Topic10\", \"Topic10\", \"Topic10\", \"Topic10\", \"Topic10\", \"Topic10\", \"Topic10\", \"Topic10\", \"Topic10\", \"Topic10\", \"Topic10\", \"Topic10\", \"Topic10\", \"Topic10\", \"Topic10\", \"Topic10\", \"Topic10\", \"Topic10\", \"Topic10\", \"Topic10\", \"Topic10\", \"Topic10\", \"Topic10\", \"Topic10\", \"Topic10\", \"Topic10\", \"Topic10\", \"Topic10\", \"Topic10\", \"Topic10\", \"Topic10\", \"Topic10\", \"Topic10\", \"Topic10\", \"Topic10\", \"Topic10\", \"Topic10\", \"Topic10\", \"Topic10\", \"Topic10\", \"Topic10\", \"Topic10\", \"Topic10\", \"Topic10\", \"Topic10\", \"Topic10\", \"Topic10\", \"Topic10\", \"Topic10\", \"Topic10\", \"Topic10\", \"Topic10\", \"Topic10\", \"Topic10\", \"Topic10\", \"Topic10\", \"Topic10\", \"Topic10\"], \"Term\": [\"\\\"\", \"\\\"i\", \"holmes\", \"time\", \"face\", \"room\", \"case\", \"watson\", \"night\", \"hand\", \"heard\", \"house\", \"matter\", \"left\", \"back\", \"thought\", \"\\\"you\", \"\\\"the\", \"good\", \"head\", \"woman\", \"put\", \"young\", \"open\", \"\\\"it\", \"great\", \"find\", \"lady\", \"friend\", \"father\", \"father\", \"cottage\", \"lock\", \"extremely\", \"moran\", \"lived\", \"lucas\", \"stout\", \"limbs\", \"plot\", \"staggered\", \"voyage\", \"favorite\", \"stables\", \"deserted\", \"jewels\", \"struggled\", \"grate\", \"clatter\", \"discovery\", \"soames\", \"famous\", \"furtive\", \"3\", \"roylott\", \"hoarse\", \"fugitives\", \"hoofs\", \"detected\", \"valise\", \"parted\", \"barrel\", \"hours\", \"husband\", \"gradually\", \"heard\", \"beard\", \"chin\", \"face\", \"met\", \"walked\", \"dinner\", \"lips\", \"brown\", \"making\", \"night\", \"opened\", \"bright\", \"treasure\", \"ground\", \"happened\", \"returned\", \"extraordinary\", \"room\", \"key\", \"direction\", \"window\", \"terrible\", \"silence\", \"died\", \"street\", \"rushed\", \"bed\", \"lay\", \"words\", \"corner\", \"morning\", \"friend\", \"white\", \"back\", \"road\", \"found\", \"corridor\", \"patient\", \"slept\", \"letters\", \"oak\", \"swung\", \"brothers\", \"halloa\", \"documents\", \"chosen\", \"mud\", \"securities\", \"cupboard\", \"bitterly\", \"hook\", \"\\\"as\", \"oldacre\", \"hospital\", \"ingenious\", \"awakened\", \"moonlight\", \"highest\", \"expressed\", \"louder\", \"hosmer\", \"coachman\", \"startling\", \"nerve\", \"commanded\", \"lysander\", \"stone\", \"glass\", \"feel\", \"glance\", \"open\", \"band\", \"showed\", \"admiration\", \"sofa\", \"yellow\", \"lamp\", \"looked\", \"surprise\", \"full\", \"position\", \"dressed\", \"interest\", \"received\", \"time\", \"opposite\", \"object\", \"bedroom\", \"close\", \"holmes\", \"room\", \"word\", \"morning\", \"silent\", \"floor\", \"turn\", \"step\", \"light\", \"sat\", \"reason\", \"deep\", \"fellow\", \"front\", \"window\", \"find\", \"place\", \"lay\", \"women\", \"practice\", \"alert\", \"hansom\", \"capital\", \"swept\", \"hunt\", \"unfortunate\", \"france\", \"girl\", \"car\", \"shield\", \"wealthy\", \"gleamed\", \"mcpherson\", \"enemies\", \"ash\", \"revealed\", \"appeared\", \"blunt\", \"accepted\", \"upwards\", \"alarmed\", \"represent\", \"bone\", \"misery\", \"crazy\", \"centre\", \"fairbairn\", \"abe\", \"guilty\", \"dazed\", \"\\\"here\", \"grave\", \"child\", \"entered\", \"emotion\", \"continually\", \"wedding\", \"things\", \"habits\", \"love\", \"nature\", \"influence\", \"prisoner\", \"barker\", \"save\", \"mary\", \"cheeks\", \"mrs\", \"great\", \"top\", \"path\", \"london\", \"hour\", \"attention\", \"live\", \"stood\", \"clear\", \"read\", \"danger\", \"friend\", \"held\", \"business\", \"manner\", \"police\", \"death\", \"front\", \"table\", \"eyes\", \"side\", \"bring\", \"set\", \"mind\", \"found\", \"clair\", \"nurse\", \"safely\", \"explained\", \"drunk\", \"horner\", \"attempted\", \"explain\", \"freely\", \"rucastle\", \"reports\", \"invalid\", \"horse\", \"camp\", \"content\", \"proper\", \"whereabouts\", \"rumours\", \"drebber\", \"blooded\", \"wealth\", \"shadowed\", \"particulars\", \"officers\", \"sensational\", \"leaf\", \"slowed\", \"certificate\", \"grinning\", \"patent\", \"case\", \"connection\", \"spite\", \"norwood\", \"strength\", \"starting\", \"stangerson\", \"means\", \"nerves\", \"evening\", \"matter\", \"inspector\", \"law\", \"discovered\", \"facts\", \"chance\", \"charles\", \"weight\", \"devil\", \"hope\", \"wife\", \"observed\", \"common\", \"account\", \"mine\", \"crime\", \"\\\"that\", \"papers\", \"life\", \"large\", \"house\", \"remarkable\", \"interesting\", \"lady\", \"give\", \"year\", \"found\", \"end\", \"told\", \"past\", \"pocket\", \"\\\"well\", \"strange\", \"\\\"i\", \"holmes\", \"work\", \"good\", \"arrived\", \"attempt\", \"unknown\", \"colonel\", \"carruthers\", \"quick\", \"afraid\", \"letter\", \"playing\", \"disturbed\", \"string\", \"es\", \"ascii\", \"space\", \"box\", \"sprung\", \"terrace\", \"genius\", \"holding\", \"routine\", \"formatted\", \"ticket\", \"evans\", \"cock\", \"\\\"witness\", \"rent\", \"piece\", \"faith\", \"bully\", \"grim\", \"wooden\", \"agreed\", \"eccles\", \"form\", \"india\", \"bottom\", \"simply\", \"boss\", \"idea\", \"household\", \"wanted\", \"hut\", \"thumb\", \"impression\", \"cases\", \"cold\", \"possession\", \"left\", \"felt\", \"obvious\", \"study\", \"fact\", \"leave\", \"\\\"it\", \"\\\"well\", \"closed\", \"short\", \"hotel\", \"son\", \"turned\", \"find\", \"home\", \"money\", \"eyes\", \"told\", \"cried\", \"matter\", \"found\", \"give\", \"london\", \"sat\", \"bound\", \"electronic\", \"height\", \"fired\", \"secured\", \"massive\", \"increased\", \"century\", \"sensitive\", \"stooped\", \"handled\", \"amusement\", \"mate\", \"handed\", \"coward\", \"gardener\", \"practitioner\", \"sought\", \"dogs\", \"dr\", \"rack\", \"curving\", \"forward\", \"free\", \"deceive\", \"oldest\", \"packed\", \"\\\"may\", \"lounging\", \"associates\", \"holm\", \"dangerous\", \"yards\", \"occupied\", \"ear\", \"specimen\", \"weeks\", \"raised\", \"huxtable\", \"easy\", \"additional\", \"professor\", \"mortimer\", \"point\", \"pushed\", \"instant\", \"hill\", \"armchair\", \"html\", \"sit\", \"years\", \"windows\", \"sherlock\", \"watson\", \"cleared\", \"carriage\", \"started\", \"hall\", \"view\", \"young\", \"back\", \"fell\", \"road\", \"chair\", \"moment\", \"cut\", \"\\\"it\", \"remember\", \"work\", \"round\", \"house\", \"reached\", \"holmes\", \"eyes\", \"found\", \"room\", \"sake\", \"gas\", \"disappointment\", \"woolwich\", \"apology\", \"amateur\", \"pale\", \"keeping\", \"frank\", \"glimmer\", \"gorgiano\", \"superficial\", \"consequences\", \"pa\", \"stanley\", \"godfrey\", \"vision\", \"murmured\", \"aboard\", \"surgery\", \"muffled\", \"rested\", \"chuckled\", \"merripit\", \"foresee\", \"macdonald\", \"team\", \"edges\", \"sobbing\", \"illustrious\", \"high\", \"approached\", \"ends\", \"grasp\", \"head\", \"put\", \"flight\", \"promise\", \"utterly\", \"\\\"for\", \"fitness\", \"woman\", \"important\", \"peering\", \"passed\", \"hands\", \"voice\", \"rest\", \"problem\", \"murder\", \"\\\"then\", \"imagine\", \"threw\", \"clock\", \"break\", \"body\", \"hopkins\", \"\\\"we\", \"brought\", \"telegram\", \"family\", \"dark\", \"holmes\", \"house\", \"side\", \"line\", \"young\", \"watson\", \"night\", \"find\", \"late\", \"light\", \"\\\"\", \"round\", \"half\", \"eyes\", \"good\", \"\\\"there\", \"back\", \"warranties\", \"including\", \"innocent\", \"medium\", \"is\\\"\", \"escaped\", \"deed\", \"provided\", \"stake\", \"headed\", \"implied\", \"useless\", \"warranty\", \"rain\", \"seaman\", \"hole\", \"limited\", \"dispatched\", \"ice\", \"text\", \"occurrence\", \"writhing\", \"murders\", \"punishment\", \"percy\", \"expensive\", \"dread\", \"baldwin\", \"consult\", \"information\", \"\\\"i\", \"joy\", \"barrymore\", \"remain\", \"play\", \"mad\", \"wonderful\", \"misfortune\", \"cards\", \"america\", \"hand\", \"perfectly\", \"kind\", \"thought\", \"knew\", \"mind\", \"affair\", \"track\", \"place\", \"dear\", \"lodge\", \"men\", \"quiet\", \"\\\"\", \"world\", \"truth\", \"henry\", \"clear\", \"round\", \"people\", \"walk\", \"occurred\", \"face\", \"turned\", \"black\", \"give\", \"moment\", \"thing\", \"remember\", \"duty\", \"assistance\", \"valley\", \"gennaro\", \"ha\", \"\\\"the\", \"\\\"hum\", \"tut\", \"beginning\", \"hated\", \"admitted\", \"\\\"is\", \"pips\", \"offer\", \"sternly\", \"proof\", \"pedro\", \"badly\", \"buy\", \"indignation\", \"rely\", \"victor\", \"tells\", \"chief\", \"couldn\", \"deception\", \"\\\"two\", \"penny\", \"stamped\", \"edition\", \"station\", \"highly\", \"suggest\", \"god\", \"presence\", \"country\", \"marriage\", \"loved\", \"norfolk\", \"single\", \"local\", \"deal\", \"present\", \"grace\", \"understand\", \"\\\"this\", \"answer\", \"question\", \"good\", \"\\\"\", \"don\", \"note\", \"table\", \"lady\", \"events\", \"happy\", \"doubt\", \"\\\"yes\", \"holmes\", \"hand\", \"friend\", \"show\", \"answered\", \"ten\", \"life\", \"dead\", \"chair\", \"set\", \"\\\"and\", \"\\\"if\", \"mccarthy\", \"cushing\", \"knock\", \"real\", \"pray\", \"gilchrist\", \"mcmurdo\", \"purposes\", \"inscription\", \"inclined\", \"jones\", \"permission\", \"brave\", \"arrive\", \"honoured\", \"surrey\", \"tube\", \"fore\", \"undid\", \"war\", \"ghost\", \"confusion\", \"mormon\", \"goods\", \"catch\", \"discover\", \"corroborate\", \"shoots\", \"matters\", \"warren\", \"afternoon\", \"didn\", \"wire\", \"arthur\", \"\\\"you\", \"scotland\", \"paper\", \"news\", \"bad\", \"\\\"oh\", \"prove\", \"\\\"\", \"\\\"but\", \"miss\", \"send\", \"steps\", \"time\", \"half\", \"criminal\", \"lestrade\", \"train\", \"spoke\", \"back\", \"end\", \"street\", \"thought\", \"order\", \"doubt\", \"fellow\", \"left\", \"thing\", \"baker\", \"papers\", \"great\", \"story\", \"read\"], \"loglift\": [30.0, 29.0, 28.0, 27.0, 26.0, 25.0, 24.0, 23.0, 22.0, 21.0, 20.0, 19.0, 18.0, 17.0, 16.0, 15.0, 14.0, 13.0, 12.0, 11.0, 10.0, 9.0, 8.0, 7.0, 6.0, 5.0, 4.0, 3.0, 2.0, 1.0, 2.2473000000000001, 2.2404000000000002, 2.2382, 2.2336, 2.2334000000000001, 2.2296999999999998, 2.2286999999999999, 2.2277, 2.2265000000000001, 2.2259000000000002, 2.2238000000000002, 2.2183999999999999, 2.2147000000000001, 2.2145999999999999, 2.2103999999999999, 2.2082000000000002, 2.2040000000000002, 2.2040000000000002, 2.2040000000000002, 2.2025000000000001, 2.2023000000000001, 2.2002999999999999, 2.1987000000000001, 2.1987000000000001, 2.1979000000000002, 2.1956000000000002, 2.1956000000000002, 2.1956000000000002, 2.1956000000000002, 2.1922000000000001, 2.1907000000000001, 2.1905000000000001, 2.1671, 2.1598000000000002, 2.1890000000000001, 2.1128999999999998, 2.1663999999999999, 2.1690999999999998, 1.9968999999999999, 2.0676999999999999, 2.0503, 2.1284000000000001, 2.0706000000000002, 2.0979000000000001, 2.0828000000000002, 1.8521000000000001, 1.9448000000000001, 2.0928, 2.0781999999999998, 1.9831000000000001, 1.9686999999999999, 1.8531, 1.9593, 1.4896, 1.9475, 1.8715999999999999, 1.5458000000000001, 1.8740000000000001, 1.9246000000000001, 1.9698, 1.4137, 1.7578, 1.6699999999999999, 1.3997999999999999, 1.5206, 1.6847000000000001, 1.0424, 0.81420000000000003, 1.4245000000000001, 0.3206, 1.3228, 0.43940000000000001, 2.2673999999999999, 2.2660999999999998, 2.2645, 2.2639, 2.2612999999999999, 2.2589000000000001, 2.2565, 2.2557999999999998, 2.2549999999999999, 2.2534999999999998, 2.2534999999999998, 2.2484999999999999, 2.2473000000000001, 2.2429999999999999, 2.2412999999999998, 2.2410000000000001, 2.2404000000000002, 2.2395, 2.2395, 2.2395, 2.2395, 2.2361, 2.2355999999999998, 2.2353000000000001, 2.2336999999999998, 2.2305000000000001, 2.2301000000000002, 2.2271999999999998, 2.2269999999999999, 2.2269999999999999, 2.2122999999999999, 2.2099000000000002, 2.2082999999999999, 2.2058, 2.1701000000000001, 2.21, 2.1145, 2.2202000000000002, 2.1738, 2.1293000000000002, 2.0872999999999999, 2.0070000000000001, 2.0920000000000001, 2.0373999999999999, 2.0280999999999998, 2.0853999999999999, 1.9751000000000001, 2.0655999999999999, 1.6991000000000001, 2.1173999999999999, 2.0093000000000001, 1.9835, 1.9144000000000001, 1.3132999999999999, 1.4555, 1.7284999999999999, 1.5286999999999999, 1.9635, 1.7858000000000001, 1.7774000000000001, 1.7942, 1.3495999999999999, 1.5044999999999999, 1.6309, 1.7533000000000001, 1.4339, 1.4634, 0.95579999999999998, 0.91620000000000001, 0.96250000000000002, 1.0914999999999999, 2.2707999999999999, 2.2705000000000002, 2.2656999999999998, 2.2627000000000002, 2.2576999999999998, 2.2570999999999999, 2.2541000000000002, 2.2507000000000001, 2.2503000000000002, 2.2471999999999999, 2.2465999999999999, 2.2435999999999998, 2.2435999999999998, 2.2381000000000002, 2.2381000000000002, 2.2376, 2.2359, 2.2334999999999998, 2.2313000000000001, 2.2307000000000001, 2.2307000000000001, 2.2307000000000001, 2.2277, 2.2277, 2.2277, 2.2277, 2.2242000000000002, 2.2223999999999999, 2.2202999999999999, 2.2202999999999999, 2.2193999999999998, 2.2185999999999999, 2.2084000000000001, 2.2052999999999998, 2.1907999999999999, 2.1656, 2.2025000000000001, 2.2029000000000001, 2.1781000000000001, 2.1164000000000001, 2.1728000000000001, 2.1255999999999999, 2.0985, 2.1674000000000002, 2.1246999999999998, 2.1600999999999999, 2.0369000000000002, 2.1343000000000001, 2.1741000000000001, 1.9367000000000001, 1.8394999999999999, 2.0596000000000001, 1.9928999999999999, 1.7912999999999999, 1.8371, 1.9387000000000001, 2.0497000000000001, 1.7849999999999999, 1.7095, 1.8160000000000001, 1.9478, 1.3173999999999999, 1.6496999999999999, 1.5234000000000001, 1.7619, 1.4267000000000001, 1.4895, 1.4959, 1.3537999999999999, 1.0003, 1.1536999999999999, 1.7549999999999999, 1.3657999999999999, 0.89390000000000003, 0.30309999999999998, 2.2704, 2.27, 2.2603, 2.2581000000000002, 2.2559, 2.2530999999999999, 2.2515999999999998, 2.2507000000000001, 2.2498999999999998, 2.2492000000000001, 2.2480000000000002, 2.2480000000000002, 2.2456999999999998, 2.2437999999999998, 2.2437999999999998, 2.2412999999999998, 2.2385000000000002, 2.2385000000000002, 2.2383000000000002, 2.2353999999999998, 2.2353000000000001, 2.2279, 2.2267999999999999, 2.2262, 2.2242000000000002, 2.2233999999999998, 2.2233999999999998, 2.2181000000000002, 2.2181000000000002, 2.2181000000000002, 2.2014999999999998, 2.2021999999999999, 2.2054999999999998, 2.2099000000000002, 2.1749999999999998, 2.1804000000000001, 2.1918000000000002, 2.1118999999999999, 2.149, 2.0152999999999999, 1.964, 2.0240999999999998, 2.0695000000000001, 2.1109, 1.9799, 1.9875, 2.0703, 2.1368999999999998, 2.0834999999999999, 1.9019999999999999, 1.8447, 1.9637, 2.0144000000000002, 1.8875999999999999, 1.9595, 1.794, 1.7796000000000001, 1.7174, 1.5479000000000001, 1.6773, 1.2669999999999999, 1.7488999999999999, 1.9842, 1.4592000000000001, 1.4421999999999999, 1.7696000000000001, 1.1286, 1.2682, 1.3851, 1.581, 1.6460999999999999, 1.0688, 1.4051, 0.065500000000000003, -0.41489999999999999, 1.1093999999999999, 0.44569999999999999, 2.2865000000000002, 2.2850000000000001, 2.2793000000000001, 2.2787999999999999, 2.2778999999999998, 2.2751000000000001, 2.2745000000000002, 2.2724000000000002, 2.2705000000000002, 2.2705000000000002, 2.2675999999999998, 2.2650999999999999, 2.2646999999999999, 2.2639999999999998, 2.2627000000000002, 2.2618999999999998, 2.2618999999999998, 2.2593000000000001, 2.2519, 2.2507999999999999, 2.2490999999999999, 2.2486000000000002, 2.2486000000000002, 2.2486000000000002, 2.2461000000000002, 2.2461000000000002, 2.2439, 2.2433999999999998, 2.2433999999999998, 2.2431999999999999, 2.2343000000000002, 2.2416, 2.2389000000000001, 2.2016, 2.2279, 2.2027999999999999, 2.2061000000000002, 2.234, 2.1463000000000001, 2.1932999999999998, 2.1684000000000001, 2.2149999999999999, 2.1979000000000002, 2.1238999999999999, 2.093, 2.0933000000000002, 2.1638000000000002, 1.8917999999999999, 2.0613999999999999, 2.0842000000000001, 1.9797, 1.9014, 1.7829999999999999, 1.5397000000000001, 1.5407, 1.9097999999999999, 1.7601, 1.9963, 1.7629999999999999, 1.3962000000000001, 1.2625, 1.5980000000000001, 1.6403000000000001, 0.94440000000000002, 1.2707999999999999, 1.3418000000000001, 0.8891, 0.75949999999999995, 1.0024999999999999, 0.96789999999999998, 1.1957, 2.2848999999999999, 2.2812000000000001, 2.2749999999999999, 2.2736000000000001, 2.2725, 2.2698999999999998, 2.2692000000000001, 2.2648999999999999, 2.2627000000000002, 2.2614000000000001, 2.2601, 2.2572000000000001, 2.2555000000000001, 2.2475999999999998, 2.2469999999999999, 2.2469999999999999, 2.2442000000000002, 2.2442000000000002, 2.2412000000000001, 2.2406999999999999, 2.2376999999999998, 2.2376999999999998, 2.2372000000000001, 2.2368999999999999, 2.2338, 2.2338, 2.2338, 2.2338, 2.2338, 2.2338, 2.2336, 2.2187999999999999, 2.2210999999999999, 2.2302, 2.2134999999999998, 2.226, 2.1873, 2.1836000000000002, 2.2193000000000001, 2.1766999999999999, 2.198, 2.1642999999999999, 2.177, 2.1101999999999999, 2.1654, 2.0811000000000002, 2.1890999999999998, 2.2008999999999999, 2.1842000000000001, 2.1452, 2.0023, 2.0838999999999999, 1.9242999999999999, 1.7919, 2.1398000000000001, 2.0169999999999999, 2.0377999999999998, 1.8614999999999999, 2.0152000000000001, 1.615, 1.3849, 1.8982000000000001, 1.6916, 1.6221000000000001, 1.5958000000000001, 1.8237000000000001, 1.2802, 1.6581999999999999, 1.3416999999999999, 1.0155000000000001, 0.5081, 1.6453, -0.44529999999999997, 0.60519999999999996, 0.36009999999999998, -0.1137, 2.2917999999999998, 2.2784, 2.2734999999999999, 2.2690999999999999, 2.2656000000000001, 2.2627999999999999, 2.2624, 2.2614000000000001, 2.2593999999999999, 2.2576999999999998, 2.2509000000000001, 2.2509000000000001, 2.2509000000000001, 2.2509000000000001, 2.2492999999999999, 2.2486999999999999, 2.2481, 2.2450000000000001, 2.2450000000000001, 2.2450000000000001, 2.2450000000000001, 2.2418999999999998, 2.2414999999999998, 2.2414999999999998, 2.2374000000000001, 2.2366000000000001, 2.2328000000000001, 2.2328000000000001, 2.2328000000000001, 2.2328000000000001, 2.2288999999999999, 2.2280000000000002, 2.2212000000000001, 2.2147999999999999, 2.1272000000000002, 2.0886999999999998, 2.1894, 2.1434000000000002, 2.1842000000000001, 2.1638999999999999, 2.1686999999999999, 2.0139, 2.117, 2.1932, 1.9725999999999999, 1.9386000000000001, 2.0177999999999998, 2.0358000000000001, 2.0455000000000001, 2.0211000000000001, 2.0619000000000001, 1.9967999999999999, 1.9917, 1.9396, 2.0527000000000002, 1.8642000000000001, 2.0427, 1.8472999999999999, 1.7406999999999999, 2.0341999999999998, 1.8599000000000001, 1.6863999999999999, 1.0621, 1.3449, 1.5222, 1.8352999999999999, 1.4294, 1.1425000000000001, 1.1776, 1.3509, 1.7928999999999999, 1.2509999999999999, -0.4748, 1.0839000000000001, 1.2339, 0.81279999999999997, 0.70530000000000004, 1.5938000000000001, 0.24970000000000001, 2.3277999999999999, 2.3220999999999998, 2.3218999999999999, 2.3212999999999999, 2.3209, 2.3191999999999999, 2.3176999999999999, 2.3121, 2.3102, 2.3083999999999998, 2.3054999999999999, 2.3054000000000001, 2.3050999999999999, 2.3024, 2.3020999999999998, 2.3007, 2.2888999999999999, 2.2888000000000002, 2.2863000000000002, 2.2846000000000002, 2.2835000000000001, 2.2835000000000001, 2.2835000000000001, 2.2835000000000001, 2.2804000000000002, 2.2804000000000002, 2.2804000000000002, 2.2803, 2.2787000000000002, 2.2757000000000001, 2.1981000000000002, 2.2692000000000001, 2.2593000000000001, 2.2463000000000002, 2.2250000000000001, 2.2332000000000001, 2.2475000000000001, 2.2454999999999998, 2.2370000000000001, 2.2046999999999999, 1.909, 2.1402000000000001, 2.0554999999999999, 1.891, 1.8994, 1.8601000000000001, 2.0335000000000001, 2.0661, 1.677, 1.6677999999999999, 1.9333, 1.5519000000000001, 1.9675, 0.17299999999999999, 1.7211000000000001, 1.903, 1.9115, 1.2955000000000001, 1.0688, 1.6309, 1.849, 1.7385999999999999, 0.65200000000000002, 1.1149, 1.2018, 1.0024, 1.1505000000000001, 1.1222000000000001, 1.3651, 2.3340999999999998, 2.3317999999999999, 2.3296999999999999, 2.3243999999999998, 2.3176000000000001, 2.3157000000000001, 2.3151000000000002, 2.3140999999999998, 2.3134000000000001, 2.3096000000000001, 2.3083, 2.3052999999999999, 2.3052000000000001, 2.3003, 2.2947000000000002, 2.2888999999999999, 2.2888000000000002, 2.2887, 2.2852999999999999, 2.2852000000000001, 2.2852000000000001, 2.2852000000000001, 2.2852000000000001, 2.2829999999999999, 2.2818999999999998, 2.2812000000000001, 2.2765, 2.2765, 2.2765, 2.2765, 2.2732000000000001, 2.2753000000000001, 2.2650000000000001, 2.2555000000000001, 2.2503000000000002, 2.2250999999999999, 2.2461000000000002, 2.2423000000000002, 2.2614999999999998, 2.2065000000000001, 2.2086999999999999, 2.1305000000000001, 2.0926, 2.2075, 1.9990000000000001, 2.0548000000000002, 2.0455000000000001, 1.9626999999999999, 1.7326999999999999, 1.2737000000000001, 1.7990999999999999, 1.867, 1.7572000000000001, 1.6871, 2.0255999999999998, 2.048, 1.5582, 1.7415, 0.67889999999999995, 1.1419999999999999, 1.2528999999999999, 1.7777000000000001, 1.5224, 1.5999000000000001, 0.85709999999999997, 1.3201000000000001, 1.1069, 1.2242, 2.3578000000000001, 2.3491, 2.3473999999999999, 2.3422999999999998, 2.3338000000000001, 2.3285, 2.3260999999999998, 2.3237000000000001, 2.3203999999999998, 2.3163999999999998, 2.3163999999999998, 2.3136999999999999, 2.3111000000000002, 2.3098999999999998, 2.3056000000000001, 2.3025000000000002, 2.302, 2.2986, 2.2932999999999999, 2.2932999999999999, 2.2932999999999999, 2.2884000000000002, 2.2814999999999999, 2.274, 2.274, 2.274, 2.2696000000000001, 2.2652999999999999, 2.2648000000000001, 2.2648000000000001, 2.2519, 2.2589000000000001, 2.2399, 2.2401, 2.2330999999999999, 2.2332999999999998, 2.1299000000000001, 2.2084999999999999, 2.0991, 2.1583999999999999, 2.1417000000000002, 2.1183999999999998, 2.1528, 1.6077999999999999, 2.0428000000000002, 1.9576, 2.0838000000000001, 1.9911000000000001, 1.5279, 1.7206999999999999, 1.9641999999999999, 1.8228, 1.8960999999999999, 1.8348, 1.1556, 1.3992, 1.2829999999999999, 1.198, 1.7542, 1.3593999999999999, 1.3250999999999999, 0.92559999999999998, 1.2110000000000001, 1.7384999999999999, 1.2303999999999999, 0.77249999999999996, 1.4399, 1.3567], \"Freq\": [10612.0, 1935.0, 3199.0, 1303.0, 1201.0, 1435.0, 964.0, 1307.0, 1051.0, 972.0, 722.0, 1187.0, 765.0, 845.0, 1132.0, 682.0, 600.0, 467.0, 880.0, 562.0, 595.0, 536.0, 637.0, 476.0, 701.0, 635.0, 685.0, 538.0, 715.0, 341.0, 340.44048884168956, 90.41019404871453, 73.297854481134507, 52.382772787425566, 51.432087255893343, 133.19104296766463, 40.02386087750665, 38.122489814442197, 36.221118751377752, 35.270433219845529, 32.418376625248854, 26.714263436055507, 23.862206841458832, 50.481401724361113, 44.777288535167763, 20.059464715329938, 18.158093652265485, 18.158093652265485, 18.158093652265485, 37.171804282909974, 37.171804282909974, 73.297854481134507, 16.256722589201036, 16.256722589201036, 33.369062156781077, 15.306037057668814, 15.306037057668814, 15.306037057668814, 15.306037057668814, 14.355351526136587, 29.566320030652179, 29.566320030652179, 164.56366550822801, 232.06233824701596, 28.615634499119956, 630.39957595901797, 75.199225544198939, 54.284143850490011, 932.71757498626528, 224.45685399475815, 199.73903017492034, 65.692370228876698, 140.79652721992241, 96.114307237907866, 114.17733233702015, 706.45441848159589, 240.61850803080597, 78.051282138795614, 76.149911075731168, 127.48692977847129, 120.83213105774571, 172.16914976048582, 112.27596127395569, 671.2790538149037, 117.02938893161682, 133.19104296766463, 345.19391649935068, 122.73350212081016, 106.57184808476234, 90.41019404871453, 258.68153312991825, 124.6348731838746, 134.14172849919686, 182.62669060734029, 156.00749572443803, 125.58555871540683, 222.55548293169372, 170.26777869742139, 126.53624424693906, 164.56366550822801, 129.38830084153574, 148.40201147218022, 63.176535419246186, 57.441902854715522, 51.707270290184859, 158.75374482809065, 43.105321443388853, 38.326460972946627, 34.503372596592854, 33.547600502504409, 32.591828408415964, 30.680284220239074, 30.680284220239074, 25.901423749796848, 24.945651655708403, 22.078335373443071, 21.122563279354626, 113.83245640593375, 43.105321443388853, 20.166791185266181, 20.166791185266181, 20.166791185266181, 20.166791185266181, 39.282233067035072, 80.38043311283819, 18.255246997089291, 37.370688878858182, 34.503372596592854, 16.343702808912404, 32.591828408415964, 15.387930714823959, 15.387930714823959, 159.70951692217909, 114.78822850002219, 125.30172153499508, 108.09782384140308, 426.36993117285516, 37.370688878858182, 225.65779141428177, 28.768740032062183, 58.397674948803967, 103.31896337096084, 151.10756807538309, 360.42165668075245, 140.59407504041019, 163.53260529853287, 156.84220063991376, 100.45164708869552, 214.18852628522043, 94.717014524164853, 728.39391290480364, 68.911167983776849, 110.96514012366841, 123.39017734681819, 143.46139132267555, 1215.8376808899102, 628.99361511960535, 227.56933560245864, 350.86393573986805, 106.18627965322619, 134.85944247587952, 131.99212619361418, 128.16903781726043, 228.52510769654711, 181.6922750862133, 154.93065645173687, 133.90367038179107, 182.64804718030177, 153.97488435764842, 185.51536346256708, 175.00187042759421, 156.84220063991376, 130.08058200543732, 79.528973123544574, 77.614918415396687, 53.689234563548155, 45.07598837688267, 35.505714836143255, 34.548687482069312, 30.720578065773545, 88.142219310210052, 26.892468649477774, 185.75900942575217, 24.021386587255947, 22.10733187910806, 22.10733187910806, 19.236249816886236, 19.236249816886236, 40.290851606512966, 18.279222462812296, 17.322195108738352, 215.42685740204433, 16.365167754664409, 16.365167754664409, 16.365167754664409, 15.408140400590469, 15.408140400590469, 15.408140400590469, 15.408140400590469, 14.451113046516525, 123.55223141094592, 13.494085692442583, 13.494085692442583, 57.517343979843922, 27.849496003551714, 61.345453396139675, 58.474371333917858, 118.7670946405762, 240.30956860796684, 45.07598837688267, 33.591660127995361, 60.388426042065745, 243.1806506701887, 64.216535458361506, 133.12250495168536, 143.64980584649871, 53.689234563548155, 89.09924666428401, 58.474371333917858, 233.61037712944926, 76.657891061322758, 48.904097793178437, 252.7509242109281, 408.74638292498065, 102.49762962131919, 126.42331347316774, 323.57094841239984, 250.83686950278025, 152.26305203316417, 91.013301372431883, 241.26659596204078, 274.76255335462878, 182.88792736353031, 122.59520405687196, 272.84849864648095, 152.26305203316417, 184.8019820716782, 123.55223141094592, 188.63009148797397, 163.74738028205147, 158.96224351168178, 176.18873588501273, 228.82524035907954, 200.11441973686127, 122.59520405687196, 135.99358701390716, 126.42331347316774, 125.46628611909379, 43.637018284252633, 42.69044521951831, 28.491849248503346, 84.339660067828845, 24.705556989566027, 22.812410860097366, 21.865837795363031, 92.858817650437814, 20.919264730628704, 66.354771837876555, 19.972691665894374, 19.972691665894374, 162.90522444077826, 18.079545536425716, 18.079545536425716, 17.132972471691382, 16.186399406957051, 16.186399406957051, 51.209602802127279, 15.239826342222722, 32.278141507440665, 13.346680212754059, 27.545276183769019, 27.545276183769019, 26.598703119034688, 12.400107148019728, 12.400107148019728, 11.453534083285398, 11.453534083285398, 11.453534083285398, 883.24732670360368, 82.44651393836017, 53.102748931595933, 33.224714572175003, 77.713648614688523, 48.369883607924287, 36.064433766377988, 151.54634766396629, 61.621906514204909, 320.03635318667716, 552.89332711132238, 222.53932751904108, 116.52314426879607, 72.034210226282539, 207.39415848329179, 179.94353960599622, 89.072525391500491, 51.209602802127279, 69.194491032079554, 181.83668573546487, 248.09680026686803, 113.68342507459309, 87.17937926203183, 151.54634766396629, 107.05741362145277, 196.98185477121416, 190.35584331807385, 202.66129315962013, 270.81455382049199, 175.21067428232456, 426.99910950165651, 138.29432475768567, 85.286233132563169, 234.84477736058739, 232.0050581663844, 126.9354479808737, 284.06657672677255, 202.66129315962013, 176.1572473470589, 137.34775169295133, 127.88202104560804, 178.05039347652755, 143.02719008135733, 209.28730461276047, 214.0201699364321, 136.401178628217, 139.24089782242001, 108.75953895406276, 91.602030617751367, 56.333819037555742, 233.62807184610676, 51.567844499691461, 143.07455562668554, 90.648835710178503, 295.58574083834242, 35.363531070952924, 35.363531070952924, 31.550751440661504, 60.146598667847151, 60.146598667847151, 27.737971810370084, 229.81529221581533, 25.831581995224372, 25.831581995224372, 23.925192180078664, 41.082700516390055, 19.159217642214387, 59.1934037602743, 18.206022734641536, 18.206022734641536, 18.206022734641536, 17.252827827068678, 17.252827827068678, 71.584937558721407, 16.299632919495824, 16.299632919495824, 34.410336163380066, 90.648835710178503, 33.457141255807208, 31.550751440661504, 144.02775053425842, 40.129505608817198, 78.257301911731389, 61.099793575420001, 28.691166717942938, 176.43637739173545, 70.631742651148556, 103.04036950862562, 44.895480146681471, 54.427429222410026, 121.15107275250988, 145.93414034940412, 144.02775053425842, 67.772157928429991, 565.33989968146034, 152.6065047024141, 125.91704729037414, 141.16816581153984, 169.76401303872549, 220.2833431400868, 329.90075751096515, 284.1474019474681, 107.80634404648991, 137.35538618124841, 90.648835710178503, 124.96385238280129, 208.84500424921254, 244.1132158294082, 135.44899636610268, 129.72982692066557, 213.61097878707682, 156.4192843327055, 147.84053016454979, 187.87471628260971, 195.50027554319257, 148.79372507212267, 140.21497090396699, 131.6362167358113, 84.200056074249332, 61.262469856519665, 42.14781467507828, 39.280616397862062, 37.369150879717928, 33.546219843429654, 32.590487084357576, 27.811823288997228, 25.900357770853095, 24.944625011781024, 23.988892252708954, 22.077426734564813, 21.121693975492743, 115.73923712362765, 17.298762939204465, 17.298762939204465, 16.343030180132395, 16.343030180132395, 15.387297421060325, 320.2660475650506, 14.431564661988252, 14.431564661988252, 173.08320266795184, 140.58828885950143, 13.475831902916182, 13.475831902916182, 13.475831902916182, 13.475831902916182, 13.475831902916182, 13.475831902916182, 58.395271579303461, 131.03096126878077, 85.155788833321409, 26.856090529925158, 54.572340543015187, 24.944625011781024, 99.491780219402457, 111.91630608733936, 34.501952602501717, 134.85389230506902, 64.129668133735876, 135.80962506414113, 98.53604746033038, 339.38070274649198, 94.713116424042099, 347.0265648190686, 58.395271579303461, 46.926478470438624, 55.52807330208725, 81.332857797033128, 327.91190963762716, 119.56216815991593, 372.8313493140144, 790.48656502850895, 72.731262965384502, 131.98669402785282, 113.82777160548349, 197.93225440382565, 108.09337505105108, 323.13324584226683, 455.98009935328452, 121.47363367806005, 178.81759922238425, 199.84371992196978, 207.48958199454634, 129.11949575063662, 254.32048718907777, 149.1898836911501, 171.17173714980768, 195.06505612660942, 198.8879871628977, 121.47363367806005, 206.53384923547426, 152.0570819683663, 131.03096126878077, 129.11949575063662, 106.33822793259525, 39.583018531938642, 32.061304796653388, 27.360233712100104, 24.539591061368135, 22.659162627546824, 121.38165540316574, 46.164518050313234, 65.909016605437003, 19.838519976814851, 17.017877326082882, 17.017877326082882, 17.017877326082882, 17.017877326082882, 34.881947447385357, 89.414372028203431, 16.077663109172224, 15.13744889226157, 15.13744889226157, 15.13744889226157, 15.13744889226157, 30.180876362832073, 14.197234675350913, 14.197234675350913, 13.257020458440255, 27.360233712100104, 12.3168062415296, 12.3168062415296, 12.3168062415296, 12.3168062415296, 244.54971781846174, 75.311158774543571, 45.22430383340258, 31.121090579742731, 473.0217725277513, 434.47298963441438, 48.044946484134549, 87.533943594382109, 45.22430383340258, 58.387302870151771, 53.686231785598487, 447.63598867116355, 112.91972745096984, 33.001519013564042, 277.45721541033475, 373.3590655352217, 175.91407998398381, 143.00658239211086, 129.84358335536163, 143.9467966090215, 102.57737106495262, 130.78379757227231, 131.72401178918295, 172.1532231163412, 84.713300943650154, 167.45215203178793, 80.952444076007509, 162.75108094723464, 223.86500504642731, 80.952444076007509, 134.54465443991495, 215.40307709423138, 928.08545351250905, 457.03813084027013, 284.03871492870934, 131.72401178918295, 267.11485902431752, 410.96763421164798, 342.33199637717001, 265.23443059049623, 130.78379757227231, 203.18029227439285, 662.00483012679319, 207.88136335894615, 178.73472263471578, 186.25643637000104, 178.73472263471578, 136.42508287373624, 145.82722504284283, 121.11564075530055, 66.277957977724952, 65.332480688456414, 62.496048820650785, 60.605094242113701, 53.986753217233897, 49.25936677089117, 78.56916273821605, 34.131730142594456, 67.223435266993519, 60.605094242113701, 28.458866406983191, 59.659616952845163, 53.986753217233897, 25.622434539177554, 51.150321349428253, 99.369663102124022, 18.058616225029201, 17.113138935760656, 239.30030191386859, 16.167661646492114, 16.167661646492114, 16.167661646492114, 16.167661646492114, 15.222184357223568, 15.222184357223568, 15.222184357223568, 32.240775564057365, 31.295298274788824, 167.44402792945922, 1687.7715090732786, 40.750071167474267, 47.368412192354079, 71.005344424067687, 105.04252683773528, 70.059867134799148, 40.750071167474267, 38.859116588937177, 45.477457613816988, 67.223435266993519, 635.45528611738882, 88.023935630901491, 153.26186859043105, 437.85053266026301, 338.57541728706582, 314.9384850553522, 129.62493635871743, 93.696799366512749, 303.59275758412969, 222.28171070703482, 109.76991328407802, 191.08096016117284, 94.642276655781302, 1221.6512054638863, 133.40684551579162, 103.1515722591982, 97.478708523586931, 172.17141437580196, 197.69930118605265, 119.22468617676346, 94.642276655781302, 102.20609496992965, 223.22718799630334, 151.37091401189397, 132.46136822652309, 142.86161840847706, 127.73398178018034, 121.11564075530055, 106.93348141627237, 84.800947349313276, 68.976401740769631, 58.736989876417873, 42.912444267874228, 31.742176779490478, 454.35063009000896, 28.949609907394546, 28.018754283362568, 57.806134252385888, 24.295331787234648, 23.364476163202671, 45.705011139970168, 21.502764915138716, 40.119877395778289, 16.848486794978818, 48.4975780120661, 14.986775546914862, 31.742176779490478, 29.880465531426527, 14.055919922882882, 14.055919922882882, 14.055919922882882, 14.055919922882882, 43.843299891906213, 42.912444267874228, 13.125064298850901, 12.194208674818922, 12.194208674818922, 12.194208674818922, 12.194208674818922, 217.91330158588627, 25.226187411266629, 68.045546116737654, 142.51399603929596, 143.44485166332794, 283.07319526812483, 99.694637333824929, 87.593514221409222, 31.742176779490478, 108.07233795011274, 57.806134252385888, 115.51918294236857, 155.54597477574367, 51.290144884162039, 221.63672408201415, 147.16827415945588, 147.16827415945588, 165.78538664009545, 477.62202069080837, 3638.8077199034087, 284.93490651618879, 180.67907662460712, 247.70068155490961, 279.34977277199687, 94.109503589633064, 87.593514221409222, 200.22704472927867, 138.79057354316805, 605.14924118318959, 292.38175150844461, 240.25383656265376, 109.93404919817671, 117.38089419043253, 110.86490482220869, 128.5511616788163, 112.72661607027264, 113.65747169430462, 110.86490482220869, 245.68103878888118, 147.44569321505466, 61.258078702169158, 44.576604925481647, 30.67537677824205, 82.573295194603205, 50.137096184377484, 22.334639889898288, 135.39796215411366, 18.627645717301061, 18.627645717301061, 37.162616580287192, 53.844090356974711, 34.382370950839274, 14.920651544703837, 29.748628235092738, 13.993903001554528, 27.895131148794128, 12.140405915255915, 12.140405915255915, 12.140405915255915, 48.283599098078874, 10.286908828957303, 9.3601602858079946, 9.3601602858079946, 9.3601602858079946, 67.745318504214296, 26.968382605644823, 8.4334117426586896, 8.4334117426586896, 89.060534996648357, 34.382370950839274, 88.133786453499042, 64.965072874766378, 54.770838900124012, 48.283599098078874, 476.44142603305846, 79.793049565155286, 312.4069338956312, 114.08274566167962, 103.88851168703725, 116.86299129112754, 81.646546651453903, 4996.1940709722267, 168.76090970748871, 224.36582229644711, 82.573295194603205, 107.59550585963449, 566.33603471854121, 273.48349508336037, 112.22924857538102, 169.68765825063801, 135.39796215411366, 139.10495632671089, 339.28264164696111, 215.09833686495404, 203.05060580401306, 213.24483977865543, 111.30250003223171, 161.34692136229427, 151.15268738765189, 201.19710871771443, 128.91072235206855, 100.18151751444002, 115.93624274797824, 129.83747089521782, 105.74200877333587, 106.66875731648518], \"Total\": [10612.0, 1935.0, 3199.0, 1303.0, 1201.0, 1435.0, 964.0, 1307.0, 1051.0, 972.0, 722.0, 1187.0, 765.0, 845.0, 1132.0, 682.0, 600.0, 467.0, 880.0, 562.0, 595.0, 536.0, 637.0, 476.0, 701.0, 635.0, 685.0, 538.0, 715.0, 341.0, 341.29164842697969, 91.261353634004777, 74.149014066424755, 53.23393237271577, 52.283246841183548, 135.89569963925342, 40.875020462796854, 38.973649399732402, 37.072278336667956, 36.121592805135734, 33.269536210539059, 27.565423021345719, 24.713366426749044, 52.289588663725262, 46.575021185192298, 20.91062430062015, 19.009253237555697, 19.009253237555697, 19.009253237555697, 38.969536932934517, 38.979991222274123, 77.016212343640959, 17.107882174491248, 17.107882174491248, 35.14697028522059, 16.157196642959029, 16.157196642959029, 16.157196642959029, 16.157196642959029, 15.206511111426801, 31.364052680676721, 31.370674523515245, 178.75233756118593, 253.91599517956649, 30.407008301320825, 722.84636929931662, 81.735349585267898, 58.842297608377443, 1201.1110107951056, 269.27172049736356, 243.82657806433937, 74.168985010943103, 168.42505039211596, 111.87487424841211, 134.92464093997057, 1051.397050108664, 326.41206088865704, 91.315332834866965, 90.398159023054717, 166.45504372263807, 160.04946122507073, 255.99642515708891, 150.11251613867449, 1435.6787604516094, 158.32593774192352, 194.41595694078154, 697.91908623938912, 178.71779785027394, 147.51769994479173, 119.62288208479546, 596.84816883198437, 203.84486995913085, 239.53673001755146, 427.28776893672455, 323.46393673661464, 220.98360353025913, 744.34371849668003, 715.48019952563573, 288.8212603723116, 1132.8553538082124, 326.94637460325526, 907.17798294234819, 64.027186348280779, 58.292553783750108, 52.557921219219445, 161.46610700518917, 43.955972372423439, 39.177111901981213, 35.35402352562744, 34.398251431538995, 33.44247933745055, 31.530935149273663, 31.530935149273663, 26.752074678831438, 25.796302584742993, 22.928986302477661, 21.973214208389216, 118.45141874689561, 44.882720915572747, 21.017442114300771, 21.017442114300771, 21.017442114300771, 21.017442114300771, 41.078361285338204, 84.102166104094636, 19.10589792612388, 39.172025339424991, 36.284879149659417, 17.194353737946994, 34.387956626719095, 16.238581643858549, 16.238581643858549, 171.04029308243383, 123.21794561045432, 134.7208996378404, 116.51356678120578, 476.28294486622679, 40.112294386429859, 266.48714434262746, 30.564868250365318, 64.990490002282243, 120.21663062166853, 183.36671951920272, 473.94520629433475, 169.81930011730461, 208.5913717016862, 201.94627066625034, 122.13285183917441, 290.7886453238865, 117.46629966779362, 1303.1287385431012, 81.143844027599414, 145.58407993787338, 166.11001687957216, 206.94991932270054, 3199.409504087399, 1435.6787604516094, 395.35476069154214, 744.34371849668003, 145.83747409394536, 221.24258939728313, 218.36737048575816, 208.49850415340728, 579.90743111120241, 394.88838321957303, 296.73752593409722, 226.93559773633916, 425.99405821902144, 348.69007662241455, 697.91908623938912, 685.01082686408495, 586.1510433694765, 427.28776893672455, 80.379498526580647, 78.46544381843276, 54.539759966584192, 45.926513779918707, 36.356240239179293, 35.399212885105349, 31.571103468809586, 90.885890842714787, 27.742994052513815, 192.21954570802018, 24.871911990291988, 22.957857282144101, 22.957857282144101, 20.086775219922277, 20.086775219922277, 42.094571917121861, 19.129747865848337, 18.172720511774394, 226.49625926501878, 17.21569315770045, 17.21569315770045, 17.21569315770045, 16.25866580362651, 16.25866580362651, 16.25866580362651, 16.25866580362651, 15.301638449552566, 131.06264209726373, 14.344611095478625, 14.344611095478625, 61.193775105969813, 29.6557935006762, 65.994032700423915, 63.096279749312295, 130.02558784387057, 269.82308370854378, 48.778570374515375, 36.334235885034282, 66.958120890538936, 286.81014023941026, 71.580747027866266, 155.56921692364966, 172.47067853757588, 60.175045777938124, 104.21005504030344, 66.01506538547477, 298.32388808056925, 88.803967757948897, 54.440599192793925, 356.76525849752835, 635.87572033983452, 127.94369798409453, 168.70549592898379, 528.24601524866853, 391.14255099154894, 214.50634213845942, 114.74050455721648, 396.3453576272359, 486.76979677181868, 291.27030732282503, 171.13342819172956, 715.48019952563573, 286.38744012673527, 394.35335020617822, 207.70553488501147, 443.42238992146326, 361.47054744315659, 348.69007662241455, 445.49751915123358, 823.90364410514246, 618.08401401296123, 207.52457151871917, 339.75946631485078, 506.2960680622387, 907.17798294234819, 44.488589116222634, 43.542016051488311, 29.343420080473347, 87.05819365985883, 25.557127821536028, 23.663981692067367, 22.717408627333032, 96.562445077004512, 21.770835562598705, 69.099751794330089, 20.824262497864375, 20.824262497864375, 170.24403507479337, 18.931116368395717, 18.931116368395717, 17.984543303661383, 17.037970238927052, 17.037970238927052, 53.914670720395897, 16.091397174192725, 34.085445098482737, 14.198251044724062, 29.337061232649678, 29.353874369812964, 28.400959482536916, 13.251677979989731, 13.251677979989731, 12.3051049152554, 12.3051049152554, 12.3051049152554, 964.74804966637271, 89.99209786884029, 57.772321577363492, 35.989084852307386, 87.161652496160741, 53.960099417595004, 39.775589321066555, 181.04277103774996, 70.935405298370824, 421.10063827375996, 765.80150554272814, 290.24938321011359, 145.23772901709455, 86.146936052390586, 282.71831686329227, 243.44166906647663, 110.93813163204804, 59.666657886355068, 85.043183508743596, 267.96961758405922, 387.19670249120975, 157.50361742227469, 114.82005111507006, 226.5826503858556, 148.94822401311939, 323.40397998373754, 317.04547845705702, 359.2095962949727, 568.68063878991177, 323.27108320164223, 1187.4773329820207, 237.52136955772625, 115.76563750081647, 538.85955702149431, 541.51044507568429, 213.55056153862114, 907.17798294234819, 562.88297395965333, 435.29905975578373, 279.02102257811617, 243.41950107440891, 603.67057425703024, 346.45151567611833, 1935.1645903083913, 3199.409504087399, 444.05050507353718, 880.33036131185668, 109.61044760174893, 92.452939265437536, 57.184727685241889, 237.25922612324081, 52.418753147377608, 145.83951898251954, 92.455516451953116, 302.11280054803717, 36.214439718639071, 36.214439718639071, 32.401660088347654, 61.924255858682606, 61.953240074605368, 28.588880458056231, 237.17326518713162, 26.682490642910519, 26.682490642910519, 24.776100827764811, 42.860357707225511, 20.010126289900533, 61.928088305183699, 19.056931382327683, 19.056931382327683, 19.056931382327683, 18.103736474754825, 18.103736474754825, 75.283668654498896, 17.150541567181971, 17.150541567181971, 36.211930342598436, 96.247371068902183, 35.265077257567299, 33.3471373776162, 158.0097874558935, 42.882720080309745, 85.752161105979667, 66.729562693548388, 30.472930989661066, 204.56901687199206, 78.137450019560291, 116.86575776040206, 48.596562277910223, 59.932615990256068, 143.65832233300583, 178.47292015843186, 176.08968584574816, 77.215861547686956, 845.44152685193615, 192.6136295961978, 155.34479171472992, 193.36117972452229, 251.46710282992663, 367.30787532691119, 701.60211497036562, 603.67057425703024, 158.34566791133577, 234.32557977971621, 122.11167373821209, 212.57371268626886, 512.67382027189558, 685.01082686408495, 271.73463021046899, 249.478477661125, 823.90364410514246, 435.29905975578373, 383.22327974467629, 765.80150554272814, 907.17798294234819, 541.51044507568429, 528.24601524866853, 394.88838321957303, 85.050710936785578, 62.113124719055889, 42.998469537614504, 40.131271260398286, 38.219805742254152, 34.396874705965878, 33.441141946893801, 28.662478151533456, 26.751012633389323, 25.795279874317252, 24.839547115245182, 22.928081597101041, 21.972348838028971, 121.3519286269228, 18.149417801740693, 18.149417801740693, 17.193685042668623, 17.193685042668623, 16.237952283596552, 338.13529363442063, 15.282219524524482, 15.282219524524482, 183.38430356275683, 149.002762036186, 14.326486765452412, 14.326486765452412, 14.326486765452412, 14.326486765452412, 14.326486765452412, 14.326486765452412, 62.092530473896055, 141.39662583974766, 91.68960223628882, 28.653318457195716, 59.207096113557164, 26.726135498349233, 110.80701024071439, 125.10119805900716, 37.214318713101903, 151.79018179263335, 70.663481536703287, 154.77069889630883, 110.87103057175392, 408.26316027782229, 107.81634993424235, 429.79764889258763, 64.918790177450958, 51.555970889617861, 62.033958929581289, 94.478004746457799, 439.41938549525406, 147.65702178333947, 540.14047516029041, 1307.3480922007693, 84.939195363948684, 174.28195967502566, 147.21319541942961, 305.33498477644667, 142.98922536261847, 637.8273977926508, 1132.8553538082124, 180.64270465980286, 326.94637460325526, 391.68244350440972, 417.49115285380702, 206.85650418614614, 701.60211497036562, 282.01257408989522, 444.05050507353718, 701.21537980179687, 1187.4773329820207, 232.6157886079902, 3199.409504087399, 823.90364410514246, 907.17798294234819, 1435.6787604516094, 107.19043464934762, 40.435225248691012, 32.913511513405759, 28.212440428852474, 25.391797778120505, 23.511369344299194, 125.99882472436086, 47.969919674638454, 68.622934570253335, 20.690726693567221, 17.870084042835252, 17.870084042835252, 17.870084042835252, 17.870084042835252, 36.687349071710578, 94.094688161251582, 16.929869825924595, 15.989655609013941, 15.989655609013941, 15.989655609013941, 15.989655609013941, 31.979656144318774, 15.049441392103283, 15.049441392103283, 14.109227175192625, 29.143296052884455, 13.16901295828197, 13.16901295828197, 13.16901295828197, 13.16901295828197, 262.51315504418454, 80.911881628199311, 48.918831692331061, 33.879687111640806, 562.09622309888255, 536.58206348398505, 53.650580858548039, 102.34898467161416, 50.762228937634774, 66.885371659480711, 61.201246072907622, 595.77292614996543, 135.56421753072459, 36.710747207761841, 384.82394166692393, 535.76551559550319, 233.20461428301076, 186.19358765947021, 167.43261689776136, 190.19734844727262, 130.12232686842327, 177.06786072089861, 179.24972418442476, 246.78049599969904, 108.45510385551195, 258.84463128228441, 104.67699021503748, 255.86191699700166, 391.52946751545255, 105.56825154668317, 208.88161797946569, 397.7480706999155, 3199.409504087399, 1187.4773329820207, 618.08401401296123, 209.59147024434412, 637.8273977926508, 1307.3480922007693, 1051.397050108664, 685.01082686408495, 217.10058542472112, 579.90743111120241, 10612.924317132612, 701.21537980179687, 518.91612255307825, 823.90364410514246, 880.33036131185668, 276.35961088631177, 1132.8553538082124, 121.96732116481714, 67.129638387241542, 66.184161097973004, 63.34772923016736, 61.456774651630276, 54.838433626750472, 50.111047180407745, 80.377870501806584, 34.983410552111032, 69.021688741244446, 62.412546745718721, 29.310546816499773, 61.457870427096069, 55.76928925078245, 26.474114948694137, 52.928750302094137, 104.04443188799439, 18.910296634545784, 17.964819345277238, 251.62077543225001, 17.019342056008696, 17.019342056008696, 17.019342056008696, 17.019342056008696, 16.073864766740151, 16.073864766740151, 16.073864766740151, 34.048188732646011, 33.102750778393847, 177.65141690140265, 1935.1645903083913, 43.51580628513873, 51.087342217591392, 77.576194279021408, 117.24363401692925, 77.555206620404434, 44.46900119271158, 42.49104262790167, 50.152226399687343, 76.568837867824385, 972.80125854492553, 106.94144380767999, 202.6450371654991, 682.45362372938405, 523.32203596993418, 506.2960680622387, 175.2024523940521, 122.59031612004726, 586.1510433694765, 433.12871033820687, 164.01545351653056, 418.05070389677047, 136.65089694814031, 10612.924317132612, 246.45600036270125, 158.85787683838828, 148.85756771804765, 486.76979677181868, 701.21537980179687, 241.02968492355146, 153.84726257509809, 185.54317858481173, 1201.1110107951056, 512.67382027189558, 411.29835018492537, 541.51044507568429, 417.49115285380702, 407.22157786854262, 282.01257408989522, 85.654089925353517, 69.829544316809873, 59.590132452458107, 43.765586843914463, 32.595319355530712, 467.46345540346266, 29.802752483434784, 28.871896859402806, 59.609962359958345, 25.148474363274886, 24.217618739242909, 47.513925810098847, 22.355907491178954, 41.919593036552854, 17.701629371019056, 51.252091651170787, 15.839918122955099, 33.551091449619157, 31.690635461540708, 14.90906249892312, 14.90906249892312, 14.90906249892312, 14.90906249892312, 46.609202581092461, 45.669187262722737, 13.978206874891139, 13.04735125085916, 13.04735125085916, 13.04735125085916, 13.04735125085916, 233.94297606569464, 27.024807276575412, 73.652116350439016, 155.72778263300719, 157.56013216633428, 318.8567952844304, 109.96290276963394, 96.9868228740836, 34.475747789352027, 124.01804136303484, 66.191461878332944, 143.02665166587994, 200.03687762766353, 58.798086180927847, 312.98116358180505, 196.54899988314412, 198.38691693764929, 242.76466415483372, 880.33036131185668, 10612.924317132612, 491.43120074298889, 291.16654763501214, 445.49751915123358, 538.85955702149431, 129.40684409243673, 117.78475999271846, 439.38969392764028, 253.56371017291943, 3199.409504087399, 972.80125854492553, 715.48019952563573, 193.6924984874974, 266.97582282604344, 233.34138953663117, 568.68063878991177, 313.88547940371711, 391.68244350440972, 339.75946631485078, 246.53459207300969, 149.24581956391751, 62.11163198629766, 45.430158209610148, 31.528930062370556, 85.319994608200375, 51.930863685416647, 23.188193174026793, 141.03414168864089, 19.481199001429566, 19.481199001429566, 38.971902623487765, 56.609109159247353, 36.192951589041719, 15.774204828832342, 31.547658808489786, 14.847456285683034, 29.699369964454856, 12.99395919938442, 12.99395919938442, 12.99395919938442, 51.929719254303315, 11.140462113085809, 10.2137135699365, 10.2137135699365, 10.2137135699365, 74.242420417109628, 29.683647137837287, 9.286965026787195, 9.286965026787195, 99.347644393748126, 38.087980829564451, 99.500400087420317, 73.330507878564191, 62.259563331730568, 54.871588271656172, 600.46806502188815, 92.958793501911728, 406.02112363090566, 139.73992563382333, 129.39383829880245, 148.97935462266872, 100.56312503469466, 10612.924317132612, 232.05065905467922, 335.9235607980691, 108.97440437742534, 155.7957685940157, 1303.1287385431012, 518.91612255307825, 166.92692050312095, 290.73078792031345, 215.58701234733269, 235.49303921261065, 1132.8553538082124, 562.88297395965333, 596.84816883198437, 682.45362372938405, 204.23512073602353, 439.38969392764028, 425.99405821902144, 845.44152685193615, 407.22157786854262, 186.73984999578101, 359.2095962949727, 635.87572033983452, 265.67920102530968, 291.27030732282503], \"logprob\": [30.0, 29.0, 28.0, 27.0, 26.0, 25.0, 24.0, 23.0, 22.0, 21.0, 20.0, 19.0, 18.0, 17.0, 16.0, 15.0, 14.0, 13.0, 12.0, 11.0, 10.0, 9.0, 8.0, 7.0, 6.0, 5.0, 4.0, 3.0, 2.0, 1.0, -4.6288, -5.9546999999999999, -6.1645000000000003, -6.5004, -6.5187999999999997, -5.5671999999999997, -6.7694999999999999, -6.8182, -6.8693999999999997, -6.8959999999999999, -6.9802999999999997, -7.1738, -7.2866999999999997, -6.5373999999999999, -6.6573000000000002, -7.4603000000000002, -7.5598999999999998, -7.5598999999999998, -7.5598999999999998, -6.8434999999999997, -6.8434999999999997, -6.1645000000000003, -7.6704999999999997, -7.6704999999999997, -6.9513999999999996, -7.7308000000000003, -7.7308000000000003, -7.7308000000000003, -7.7308000000000003, -7.7949000000000002, -7.0724, -7.0724, -5.3556999999999997, -5.0119999999999996, -7.1051000000000002, -4.0126999999999997, -6.1388999999999996, -6.4648000000000003, -3.6208999999999998, -5.0453000000000001, -5.1619999999999999, -6.274, -5.5117000000000003, -5.8935000000000004, -5.7213000000000003, -3.8988, -4.9757999999999996, -6.1017000000000001, -6.1262999999999996, -5.6109999999999998, -5.6646000000000001, -5.3105000000000002, -5.7381000000000002, -3.9498000000000002, -5.6966000000000001, -5.5671999999999997, -4.6148999999999996, -5.649, -5.7901999999999996, -5.9546999999999999, -4.9034000000000004, -5.6336000000000004, -5.5601000000000003, -5.2515999999999998, -5.4090999999999996, -5.6260000000000003, -5.0537999999999998, -5.3216000000000001, -5.6185, -5.3556999999999997, -5.5961999999999996, -5.4591000000000003, -6.282, -6.3772000000000002, -6.4824000000000002, -5.3605999999999998, -6.6642999999999999, -6.7817999999999996, -6.8868999999999998, -6.915, -6.9439000000000002, -7.0044000000000004, -7.0044000000000004, -7.1737000000000002, -7.2112999999999996, -7.3334000000000001, -7.3776000000000002, -5.6932, -6.6642999999999999, -7.4238999999999997, -7.4238999999999997, -7.4238999999999997, -7.4238999999999997, -6.7572000000000001, -6.0411999999999999, -7.5235000000000003, -6.8071000000000002, -6.8868999999999998, -7.6341000000000001, -6.9439000000000002, -7.6943999999999999, -7.6943999999999999, -5.3545999999999996, -5.6848999999999998, -5.5972, -5.7449000000000003, -4.3727, -6.8071000000000002, -5.0090000000000003, -7.0686999999999998, -6.3606999999999996, -5.7900999999999998, -5.4100000000000001, -4.5407000000000002, -5.4821, -5.3310000000000004, -5.3727, -5.8182999999999998, -5.0610999999999997, -5.8771000000000004, -3.8371, -6.1951999999999998, -5.7187999999999999, -5.6125999999999996, -5.4619, -3.3248000000000002, -3.9838, -5.0004999999999997, -4.5675999999999997, -5.7628000000000004, -5.5236999999999998, -5.5452000000000004, -5.5746000000000002, -4.9962999999999997, -5.2256999999999998, -5.3849999999999998, -5.5308000000000002, -5.2203999999999997, -5.3912000000000004, -5.2047999999999996, -5.2632000000000003, -5.3727, -5.5598000000000001, -6.0513000000000003, -6.0755999999999997, -6.4442000000000004, -6.6189999999999998, -6.8577000000000004, -6.8849999999999998, -7.0025000000000004, -5.9484000000000004, -7.1355000000000004, -5.2028999999999996, -7.2484000000000002, -7.3315000000000001, -7.3315000000000001, -7.4706000000000001, -7.4706000000000001, -6.7313000000000001, -7.5216000000000003, -7.5754000000000001, -5.0548000000000002, -7.6322000000000001, -7.6322000000000001, -7.6322000000000001, -7.6924999999999999, -7.6924999999999999, -7.6924999999999999, -7.6924999999999999, -7.7565999999999997, -5.6106999999999996, -7.8250999999999999, -7.8250999999999999, -6.3753000000000002, -7.1006, -6.3109000000000002, -6.3587999999999996, -5.6501999999999999, -4.9455, -6.6189999999999998, -6.9131, -6.3266, -4.9336000000000002, -6.2651000000000003, -5.5361000000000002, -5.46, -6.4442000000000004, -5.9375999999999998, -6.3587999999999996, -4.9737, -6.0880000000000001, -6.5374999999999996, -4.8949999999999996, -4.4142999999999999, -5.7975000000000003, -5.5877999999999997, -4.6479999999999997, -4.9025999999999996, -5.4017999999999997, -5.9164000000000003, -4.9414999999999996, -4.8114999999999997, -5.2184999999999997, -5.6185, -4.8185000000000002, -5.4017999999999997, -5.2081, -5.6106999999999996, -5.1875999999999998, -5.3291000000000004, -5.3586999999999998, -5.2557999999999998, -4.9943999999999997, -5.1284999999999998, -5.6185, -5.5148000000000001, -5.5877999999999997, -5.5952999999999999, -6.6430999999999996, -6.665, -7.0693999999999999, -5.9842000000000004, -7.2119999999999997, -7.2916999999999996, -7.3341000000000003, -5.8879000000000001, -7.3783000000000003, -6.2240000000000002, -7.4245999999999999, -7.4245999999999999, -5.3258000000000001, -7.5242000000000004, -7.5242000000000004, -7.5780000000000003, -7.6348000000000003, -7.6348000000000003, -6.4831000000000003, -7.6951000000000001, -6.9446000000000003, -7.8277000000000001, -7.1032000000000002, -7.1032000000000002, -7.1380999999999997, -7.9013, -7.9013, -7.9806999999999997, -7.9806999999999997, -7.9806999999999997, -3.6354000000000002, -6.0068999999999999, -6.4467999999999996, -6.9157000000000002, -6.0659999999999998, -6.5400999999999998, -6.8337000000000003, -5.3981000000000003, -6.298, -4.6505999999999998, -4.1037999999999997, -5.0138999999999996, -5.6608999999999998, -6.1418999999999997, -5.0843999999999996, -5.2263999999999999, -5.9295999999999998, -6.4831000000000003, -6.1821000000000002, -5.2159000000000004, -4.9051999999999998, -5.6856, -5.9509999999999996, -5.3981000000000003, -5.7455999999999996, -5.1359000000000004, -5.1700999999999997, -5.1074999999999999, -4.8175999999999997, -5.2530000000000001, -4.3621999999999996, -5.4896000000000003, -5.9729999999999999, -4.9600999999999997, -4.9722, -5.5753000000000004, -4.7698, -5.1074999999999999, -5.2476000000000003, -5.4965000000000002, -5.5678999999999998, -5.2369000000000003, -5.4560000000000004, -5.0753000000000004, -5.0529000000000002, -5.5034000000000001, -5.4828000000000001, -5.7253999999999996, -5.8971, -6.3832000000000004, -4.9607999999999999, -6.4715999999999996, -5.4512, -5.9074999999999998, -4.7256, -6.8487999999999998, -6.8487999999999998, -6.9629000000000003, -6.3177000000000003, -6.3177000000000003, -7.0917000000000003, -4.9771999999999998, -7.1628999999999996, -7.1628999999999996, -7.2396000000000003, -6.6989000000000001, -7.4617000000000004, -6.3337000000000003, -7.5128000000000004, -7.5128000000000004, -7.5128000000000004, -7.5664999999999996, -7.5664999999999996, -6.1436000000000002, -7.6234000000000002, -7.6234000000000002, -6.8761999999999999, -5.9074999999999998, -6.9043000000000001, -6.9629000000000003, -5.4444999999999997, -6.7224000000000004, -6.0545, -6.3019999999999996, -7.0579000000000001, -5.2416, -6.157, -5.7793999999999999, -6.6101999999999999, -6.4177, -5.6174999999999997, -5.4314, -5.4444999999999997, -6.1984000000000004, -4.0770999999999997, -5.3867000000000003, -5.5789, -5.4645999999999999, -5.2801, -5.0195999999999996, -4.6157000000000004, -4.7649999999999997, -5.7342000000000004, -5.4919000000000002, -5.9074999999999998, -5.5865, -5.0728999999999997, -4.9169, -5.5058999999999996, -5.5491000000000001, -5.0503999999999998, -5.3620000000000001, -5.4184000000000001, -5.1787000000000001, -5.1390000000000002, -5.4119999999999999, -5.4713000000000003, -5.5345000000000004, -5.9805999999999999, -6.2986000000000004, -6.6726000000000001, -6.7431000000000001, -6.7930000000000001, -6.9009, -6.9298000000000002, -7.0883000000000003, -7.1595000000000004, -7.1970999999999998, -7.2362000000000002, -7.3192000000000004, -7.3635000000000002, -5.6624999999999996, -7.5632000000000001, -7.5632000000000001, -7.6200000000000001, -7.6200000000000001, -7.6802999999999999, -4.6445999999999996, -7.7443999999999997, -7.7443999999999997, -5.2599999999999998, -5.468, -7.8129, -7.8129, -7.8129, -7.8129, -7.8129, -7.8129, -6.3465999999999996, -5.5384000000000002, -5.9692999999999996, -7.1233000000000004, -6.4142999999999999, -7.1970999999999998, -5.8136999999999999, -5.6959999999999997, -6.8727999999999998, -5.5095999999999998, -6.2529000000000003, -5.5025000000000004, -5.8234000000000004, -4.5867000000000004, -5.8628999999999998, -4.5644, -6.3465999999999996, -6.5651999999999999, -6.3968999999999996, -6.0152999999999999, -4.6211000000000002, -5.6299999999999999, -4.4927000000000001, -3.7412000000000001, -6.1269999999999998, -5.5311000000000003, -5.6791, -5.1258999999999997, -5.7308000000000003, -4.6356999999999999, -4.2914000000000003, -5.6140999999999996, -5.2274000000000003, -5.1162999999999998, -5.0787000000000004, -5.5530999999999997, -4.8752000000000004, -5.4085999999999999, -5.2710999999999997, -5.1405000000000003, -5.1211000000000002, -5.6140999999999996, -5.0833000000000004, -5.3895, -5.5384000000000002, -5.5530999999999997, -5.7423999999999999, -6.7305999999999999, -6.9413999999999998, -7.0998999999999999, -7.2088000000000001, -7.2885, -5.6101000000000001, -6.5768000000000004, -6.2207999999999997, -7.4214000000000002, -7.5747999999999998, -7.5747999999999998, -7.5747999999999998, -7.5747999999999998, -6.8571, -5.9157999999999999, -7.6315999999999997, -7.6919000000000004, -7.6919000000000004, -7.6919000000000004, -7.6919000000000004, -7.0018000000000002, -7.7560000000000002, -7.7560000000000002, -7.8244999999999996, -7.0998999999999999, -7.8981000000000003, -7.8981000000000003, -7.8981000000000003, -7.8981000000000003, -4.9096000000000002, -6.0873999999999997, -6.5974000000000004, -6.9711999999999996, -4.2499000000000002, -4.3349000000000002, -6.5369000000000002, -5.9370000000000003, -6.5974000000000004, -6.3418999999999999, -6.4259000000000004, -4.3051000000000004, -5.6824000000000003, -6.9124999999999996, -4.7834000000000003, -4.4865000000000004, -5.2389999999999999, -5.4461000000000004, -5.5427, -5.4396000000000004, -5.7784000000000004, -5.5354999999999999, -5.5282999999999998, -5.2606999999999999, -5.9698000000000002, -5.2882999999999996, -6.0152000000000001, -5.3167999999999997, -4.9980000000000002, -6.0152000000000001, -5.5071000000000003, -5.0365000000000002, -3.5758999999999999, -4.2843, -4.7599, -5.5282999999999998, -4.8213999999999997, -4.3905000000000003, -4.5732999999999997, -4.8284000000000002, -5.5354999999999999, -5.0949, -3.9138000000000002, -5.0720999999999998, -5.2230999999999996, -5.1818999999999997, -5.2230999999999996, -5.4932999999999996, -5.4265999999999996, -5.5772000000000004, -6.1801000000000004, -6.1943999999999999, -6.2388000000000003, -6.2695999999999996, -6.3852000000000002, -6.4767999999999999, -6.0099999999999998, -6.8437000000000001, -6.1658999999999997, -6.2695999999999996, -7.0255000000000001, -6.2853000000000003, -6.3852000000000002, -7.1304999999999996, -6.4391999999999996, -5.7751000000000001, -7.4802999999999997, -7.5340999999999996, -4.8962000000000003, -7.5909000000000004, -7.5909000000000004, -7.5909000000000004, -7.5909000000000004, -7.6512000000000002, -7.6512000000000002, -7.6512000000000002, -6.9006999999999996, -6.9305000000000003, -5.2533000000000003, -2.9428000000000001, -6.6665000000000001, -6.516, -6.1112000000000002, -5.7195999999999998, -6.1246, -6.6665000000000001, -6.7140000000000004, -6.5567000000000002, -6.1658999999999997, -3.9196, -5.8963000000000001, -5.3418000000000001, -4.2920999999999996, -4.5491999999999999, -4.6215999999999999, -5.5092999999999996, -5.8338999999999999, -4.6581999999999999, -4.9699999999999998, -5.6755000000000004, -5.1212, -5.8238000000000003, -3.266, -5.4805000000000001, -5.7377000000000002, -5.7942999999999998, -5.2253999999999996, -5.0872000000000002, -5.5929000000000002, -5.8238000000000003, -5.7469000000000001, -4.9657, -5.3541999999999996, -5.4875999999999996, -5.4120999999999997, -5.524, -5.5772000000000004, -5.7016999999999998, -5.9242999999999997, -6.1308999999999996, -6.2915999999999999, -6.6055000000000001, -6.907, -4.2458, -6.9991000000000003, -7.0317999999999996, -6.3075999999999999, -7.1744000000000003, -7.2134, -6.5423999999999998, -7.2965, -6.6727999999999996, -7.5404, -6.4831000000000003, -7.6574999999999998, -6.907, -6.9673999999999996, -7.7215999999999996, -7.7215999999999996, -7.7215999999999996, -7.7215999999999996, -6.5839999999999996, -6.6055000000000001, -7.7900999999999998, -7.8636999999999997, -7.8636999999999997, -7.8636999999999997, -7.8636999999999997, -4.9805999999999999, -7.1368, -6.1444999999999999, -5.4051999999999998, -5.3986999999999998, -4.7188999999999997, -5.7625000000000002, -5.8918999999999997, -6.907, -5.6818, -6.3075999999999999, -5.6151999999999997, -5.3177000000000003, -6.4272, -4.9635999999999996, -5.3731, -5.3731, -5.2539999999999996, -4.1958000000000002, -2.1652, -4.7123999999999997, -5.1679000000000004, -4.8524000000000003, -4.7321999999999997, -5.8201999999999998, -5.8918999999999997, -5.0651999999999999, -5.4317000000000002, -3.9592000000000001, -4.6866000000000003, -4.883, -5.6647999999999996, -5.5991999999999997, -5.6562999999999999, -5.5083000000000002, -5.6397000000000004, -5.6315, -5.6562999999999999, -4.8434999999999997, -5.3540999999999999, -6.2324999999999999, -6.5503, -6.9241000000000001, -5.9339000000000004, -6.4328000000000003, -7.2413999999999996, -5.4393000000000002, -7.4229000000000003, -7.4229000000000003, -6.7323000000000004, -6.3615000000000004, -6.8099999999999996, -7.6448, -6.9547999999999996, -7.7088999999999999, -7.0190999999999999, -7.851, -7.851, -7.851, -6.4705000000000004, -8.0167000000000002, -8.1111000000000004, -8.1111000000000004, -8.1111000000000004, -6.1318000000000001, -7.0529000000000002, -8.2154000000000007, -8.2154000000000007, -5.8582000000000001, -6.8099999999999996, -5.8686999999999996, -6.1737000000000002, -6.3444000000000003, -6.4705000000000004, -4.1811999999999996, -5.9680999999999997, -4.6032999999999999, -5.6105999999999998, -5.7042000000000002, -5.5865999999999998, -5.9451999999999998, -1.8310999999999999, -5.2191000000000001, -4.9343000000000004, -5.9339000000000004, -5.6692, -4.0084, -4.7363, -5.6269999999999998, -5.2135999999999996, -5.4393000000000002, -5.4123000000000001, -4.5206999999999997, -4.9764999999999997, -5.0340999999999996, -4.9851000000000001, -5.6353, -5.2640000000000002, -5.3292999999999999, -5.0433000000000003, -5.4884000000000004, -5.7405999999999997, -5.5945, -5.4813000000000001, -5.6866000000000003, -5.6778000000000004]}};\n",
       "\n",
       "function LDAvis_load_lib(url, callback){\n",
       "  var s = document.createElement('script');\n",
       "  s.src = url;\n",
       "  s.async = true;\n",
       "  s.onreadystatechange = s.onload = callback;\n",
       "  s.onerror = function(){console.warn(\"failed to load library \" + url);};\n",
       "  document.getElementsByTagName(\"head\")[0].appendChild(s);\n",
       "}\n",
       "\n",
       "if(typeof(LDAvis) !== \"undefined\"){\n",
       "   // already loaded: just create the visualization\n",
       "   !function(LDAvis){\n",
       "       new LDAvis(\"#\" + \"ldavis_el1754848927568165041878166\", ldavis_el1754848927568165041878166_data);\n",
       "   }(LDAvis);\n",
       "}else if(typeof define === \"function\" && define.amd){\n",
       "   // require.js is available: use it to load d3/LDAvis\n",
       "   require.config({paths: {d3: \"https://cdnjs.cloudflare.com/ajax/libs/d3/3.5.5/d3.min\"}});\n",
       "   require([\"d3\"], function(d3){\n",
       "      window.d3 = d3;\n",
       "      LDAvis_load_lib(\"https://cdn.rawgit.com/bmabey/pyLDAvis/files/ldavis.v1.0.0.js\", function(){\n",
       "        new LDAvis(\"#\" + \"ldavis_el1754848927568165041878166\", ldavis_el1754848927568165041878166_data);\n",
       "      });\n",
       "    });\n",
       "}else{\n",
       "    // require.js not available: dynamically load d3 & LDAvis\n",
       "    LDAvis_load_lib(\"https://cdnjs.cloudflare.com/ajax/libs/d3/3.5.5/d3.min.js\", function(){\n",
       "         LDAvis_load_lib(\"https://cdn.rawgit.com/bmabey/pyLDAvis/files/ldavis.v1.0.0.js\", function(){\n",
       "                 new LDAvis(\"#\" + \"ldavis_el1754848927568165041878166\", ldavis_el1754848927568165041878166_data);\n",
       "            })\n",
       "         });\n",
       "}\n",
       "</script>"
      ],
      "text/plain": [
       "PreparedData(topic_coordinates=            Freq  cluster  topics         x         y\n",
       "topic                                                \n",
       "6      10.542394        1       1 -0.135667 -0.005391\n",
       "0      10.220121        1       2 -0.098971  0.157163\n",
       "1      10.214150        1       3 -0.035370 -0.225471\n",
       "3      10.128912        1       4 -0.091426  0.011282\n",
       "9      10.083590        1       5 -0.149980 -0.167468\n",
       "5      10.076328        1       6 -0.092325  0.148006\n",
       "4      10.028451        1       7  0.021750  0.122133\n",
       "7       9.682536        1       8  0.143731 -0.036193\n",
       "8       9.593045        1       9  0.229157 -0.008836\n",
       "2       9.430474        1      10  0.209101  0.004775, topic_info=      Category          Freq      Term         Total  loglift  logprob\n",
       "term                                                                  \n",
       "7193   Default  10612.000000         \"  10612.000000  30.0000  30.0000\n",
       "14816  Default   1935.000000        \"i   1935.000000  29.0000  29.0000\n",
       "3650   Default   3199.000000    holmes   3199.000000  28.0000  28.0000\n",
       "6944   Default   1303.000000      time   1303.000000  27.0000  27.0000\n",
       "4093   Default   1201.000000      face   1201.000000  26.0000  26.0000\n",
       "1230   Default   1435.000000      room   1435.000000  25.0000  25.0000\n",
       "16002  Default    964.000000      case    964.000000  24.0000  24.0000\n",
       "18371  Default   1307.000000    watson   1307.000000  23.0000  23.0000\n",
       "5611   Default   1051.000000     night   1051.000000  22.0000  22.0000\n",
       "5516   Default    972.000000      hand    972.000000  21.0000  21.0000\n",
       "6049   Default    722.000000     heard    722.000000  20.0000  20.0000\n",
       "12029  Default   1187.000000     house   1187.000000  19.0000  19.0000\n",
       "9780   Default    765.000000    matter    765.000000  18.0000  18.0000\n",
       "10170  Default    845.000000      left    845.000000  17.0000  17.0000\n",
       "12617  Default   1132.000000      back   1132.000000  16.0000  16.0000\n",
       "2623   Default    682.000000   thought    682.000000  15.0000  15.0000\n",
       "14762  Default    600.000000      \"you    600.000000  14.0000  14.0000\n",
       "18718  Default    467.000000      \"the    467.000000  13.0000  13.0000\n",
       "11985  Default    880.000000      good    880.000000  12.0000  12.0000\n",
       "15087  Default    562.000000      head    562.000000  11.0000  11.0000\n",
       "11542  Default    595.000000     woman    595.000000  10.0000  10.0000\n",
       "7113   Default    536.000000       put    536.000000   9.0000   9.0000\n",
       "3528   Default    637.000000     young    637.000000   8.0000   8.0000\n",
       "1634   Default    476.000000      open    476.000000   7.0000   7.0000\n",
       "16698  Default    701.000000       \"it    701.000000   6.0000   6.0000\n",
       "3634   Default    635.000000     great    635.000000   5.0000   5.0000\n",
       "12261  Default    685.000000      find    685.000000   4.0000   4.0000\n",
       "6740   Default    538.000000      lady    538.000000   3.0000   3.0000\n",
       "6297   Default    715.000000    friend    715.000000   2.0000   2.0000\n",
       "10492  Default    341.000000    father    341.000000   1.0000   1.0000\n",
       "...        ...           ...       ...           ...      ...      ...\n",
       "15857  Topic10    312.406934     paper    406.021124   2.0991  -4.6033\n",
       "14750  Topic10    114.082746      news    139.739926   2.1584  -5.6106\n",
       "9920   Topic10    103.888512       bad    129.393838   2.1417  -5.7042\n",
       "14681  Topic10    116.862991       \"oh    148.979355   2.1184  -5.5866\n",
       "5988   Topic10     81.646547     prove    100.563125   2.1528  -5.9452\n",
       "7193   Topic10   4996.194071         \"  10612.924317   1.6078  -1.8311\n",
       "18493  Topic10    168.760910      \"but    232.050659   2.0428  -5.2191\n",
       "7410   Topic10    224.365822      miss    335.923561   1.9576  -4.9343\n",
       "3529   Topic10     82.573295      send    108.974404   2.0838  -5.9339\n",
       "971    Topic10    107.595506     steps    155.795769   1.9911  -5.6692\n",
       "6944   Topic10    566.336035      time   1303.128739   1.5279  -4.0084\n",
       "18451  Topic10    273.483495      half    518.916123   1.7207  -4.7363\n",
       "13168  Topic10    112.229249  criminal    166.926921   1.9642  -5.6270\n",
       "16612  Topic10    169.687658  lestrade    290.730788   1.8228  -5.2136\n",
       "5027   Topic10    135.397962     train    215.587012   1.8961  -5.4393\n",
       "165    Topic10    139.104956     spoke    235.493039   1.8348  -5.4123\n",
       "12617  Topic10    339.282642      back   1132.855354   1.1556  -4.5207\n",
       "14235  Topic10    215.098337       end    562.882974   1.3992  -4.9765\n",
       "3543   Topic10    203.050606    street    596.848169   1.2830  -5.0341\n",
       "2623   Topic10    213.244840   thought    682.453624   1.1980  -4.9851\n",
       "4949   Topic10    111.302500     order    204.235121   1.7542  -5.6353\n",
       "3676   Topic10    161.346921     doubt    439.389694   1.3594  -5.2640\n",
       "11570  Topic10    151.152687    fellow    425.994058   1.3251  -5.3293\n",
       "10170  Topic10    201.197109      left    845.441527   0.9256  -5.0433\n",
       "10899  Topic10    128.910722     thing    407.221578   1.2110  -5.4884\n",
       "13987  Topic10    100.181518     baker    186.739850   1.7385  -5.7406\n",
       "15162  Topic10    115.936243    papers    359.209596   1.2304  -5.5945\n",
       "3634   Topic10    129.837471     great    635.875720   0.7725  -5.4813\n",
       "14228  Topic10    105.742009     story    265.679201   1.4399  -5.6866\n",
       "6724   Topic10    106.668757      read    291.270307   1.3567  -5.6778\n",
       "\n",
       "[756 rows x 6 columns], token_table=       Topic      Freq      Term\n",
       "term                            \n",
       "7193       3  0.008009         \"\n",
       "7193       4  0.000848         \"\n",
       "7193       7  0.062377         \"\n",
       "7193       8  0.115143         \"\n",
       "7193       9  0.342884         \"\n",
       "7193      10  0.470747         \"\n",
       "14745     10  0.997832      \"and\n",
       "14018      2  0.962420       \"as\n",
       "14018      3  0.008442       \"as\n",
       "14018      7  0.016885       \"as\n",
       "14018      9  0.008442       \"as\n",
       "18493      4  0.008619      \"but\n",
       "18493      7  0.017238      \"but\n",
       "18493      9  0.245636      \"but\n",
       "18493     10  0.728289      \"but\n",
       "1917       6  0.119608      \"for\n",
       "1917       7  0.867155      \"for\n",
       "17198      3  0.924326     \"here\n",
       "17198      6  0.045459     \"here\n",
       "17198      9  0.015153     \"here\n",
       "5647       9  0.973064      \"hum\n",
       "14816      1  0.001034        \"i\n",
       "14816      4  0.108001        \"i\n",
       "14816      7  0.004134        \"i\n",
       "14816      8  0.872277        \"i\n",
       "14816      9  0.014469        \"i\n",
       "16688      4  0.006700       \"if\n",
       "16688     10  0.984952       \"if\n",
       "16701      2  0.021046       \"is\n",
       "16701      9  0.968137       \"is\n",
       "...      ...       ...       ...\n",
       "18209      4  0.176217     words\n",
       "18209      6  0.083471     words\n",
       "18209      7  0.015458     words\n",
       "18209     10  0.003092     words\n",
       "3438       3  0.207184      work\n",
       "3438       4  0.306271      work\n",
       "3438       5  0.099088      work\n",
       "3438       6  0.385091      work\n",
       "4518       1  0.004058     world\n",
       "4518       8  0.539650     world\n",
       "4518       9  0.032460     world\n",
       "4518      10  0.417924     world\n",
       "5082       8  0.940107  writhing\n",
       "7682       2  0.010906     yards\n",
       "7682       6  0.927041     yards\n",
       "7682       8  0.054532     yards\n",
       "6199       1  0.093655      year\n",
       "6199       4  0.594707      year\n",
       "6199      10  0.309060      year\n",
       "4398       6  0.746440     years\n",
       "4398       9  0.193437     years\n",
       "4398      10  0.059169     years\n",
       "858        1  0.091501    yellow\n",
       "858        2  0.856787    yellow\n",
       "858        6  0.008318    yellow\n",
       "858       10  0.041592    yellow\n",
       "3528       1  0.003136     young\n",
       "3528       2  0.070552     young\n",
       "3528       6  0.506407     young\n",
       "3528       7  0.418609     young\n",
       "\n",
       "[1891 rows x 3 columns], R=30, lambda_step=0.01, plot_opts={'xlab': 'PC1', 'ylab': 'PC2'}, topic_order=[7, 1, 2, 4, 10, 6, 5, 8, 9, 3])"
      ]
     },
     "execution_count": 30,
     "metadata": {},
     "output_type": "execute_result"
    }
   ],
   "source": [
    "import pyLDAvis\n",
    "import pyLDAvis.graphlab\n",
    "pyLDAvis.enable_notebook()\n",
    "pyLDAvis.graphlab.prepare(topic_model, docs)"
   ]
  },
  {
   "cell_type": "markdown",
   "metadata": {
    "collapsed": true
   },
   "source": [
    "From the above visualization, we can observe that the algorithm returned pretty interesting results. For example, one identified topic is related to Watson, locations (room, street, house, etc.), and time (days, hours, etc.). While, another topic is related to Holmes, men, and murder. For me these are pretty interesting results. I recommend the reader to try investigate the results by themselves. Moreover, I think that running the topic model algorithm on other text corpus can help to better understand this algorithms advantages."
   ]
  },
  {
   "cell_type": "markdown",
   "metadata": {},
   "source": [
    "## <a id=\"word2vec\"></a> 5. Finding Similar Paragraphs using Word2Vec "
   ]
  },
  {
   "cell_type": "markdown",
   "metadata": {},
   "source": [
    "<pre>\n",
    "\"I have notes of several similar cases, though none, as I remarked before, which were quite as prompt. My whole examination served to \n",
    "turn my conjecture into a certainty. Circumstantial evidence is occasionally very convincing, as when you find a trout in the milk, to \n",
    "quote Thoreau's example.\"\n",
    "                                                                                                 -The Adventure of the Noble Bachelor\n",
    "</pre>"
   ]
  },
  {
   "cell_type": "markdown",
   "metadata": {},
   "source": [
    "These days, no NLP related post can be complete without including the words \"deep learning.\" Therefore, in this section I will demonstrate how to use Word2Vec deep learning inspired algorithm to search for paragraphs that have similar text or writing style. \n",
    "\n",
    "First, let's build a Word2Vec model using Sherlock's stories. We will construct the Word2Vec model using the Gensim package and a similar method to the one presented in [Word2vec Tutorial](http://rare-technologies.com/word2vec-tutorial/) and in my previous [post](https://turi.com/learn/gallery/notebooks/deep_text_learning.html)."
   ]
  },
  {
   "cell_type": "code",
   "execution_count": 31,
   "metadata": {
    "collapsed": false
   },
   "outputs": [
    {
     "name": "stderr",
     "output_type": "stream",
     "text": [
      "//anaconda/envs/gl-env/lib/python2.7/site-packages/numpy/lib/utils.py:99: DeprecationWarning: `scipy.sparse.sparsetools` is deprecated!\n",
      "scipy.sparse.sparsetools is a private module for scipy.sparse, and should not be used.\n",
      "  warnings.warn(depdoc, DeprecationWarning)\n"
     ]
    }
   ],
   "source": [
    "import graphlab as gl\n",
    "import urllib2\n",
    "import gensim\n",
    "import nltk\n",
    "import re\n",
    "\n",
    "txt = urllib2.urlopen(\"https://sherlock-holm.es/stories/plain-text/cnus.txt\").read()\n",
    "\n",
    "re_words_split = re.compile(\"(\\w+)\")\n",
    "tokenizer = nltk.data.load('tokenizers/punkt/english.pickle')\n",
    "def txt2words(s):\n",
    "    s = re.sub(\"[^a-zA-Z]\", \" \", s).lower()\n",
    "    return re_words_split.findall(s)\n",
    "\n",
    "class MySentences(object):\n",
    "        def __init__(self, txt):\n",
    "            self._txt = txt.decode(\"utf8\") \n",
    "            \n",
    "        def __iter__(self):\n",
    "            \"\"\"\n",
    "            Split the English text into sentences and then to words using NLTK\n",
    "            :param txt: input text.    \n",
    "            :param remove_none_english_chars: if True then remove none English chars from text\n",
    "            :return: list of words in which each list consists of single sentence's words from the original input text.\n",
    "            :rtype: str\n",
    "            \"\"\"                \n",
    "            # split text into sentences using NLTK package\n",
    "            for s in tokenizer.tokenize(self._txt):                                    \n",
    "                yield txt2words(s)\n",
    "\n",
    "sentences = MySentences(txt)\n",
    "model = gensim.models.Word2Vec(sentences, size=100, window=5, min_count=3, workers=4)"
   ]
  },
  {
   "cell_type": "markdown",
   "metadata": {},
   "source": [
    "We now have a trained Word2Vec model, let's see if it gives reasonable results:"
   ]
  },
  {
   "cell_type": "code",
   "execution_count": 32,
   "metadata": {
    "collapsed": false
   },
   "outputs": [
    {
     "name": "stdout",
     "output_type": "stream",
     "text": [
      "[(u'god', 0.8799511194229126), (u'sir', 0.871623158454895), (u'dear', 0.8662859201431274), (u'oh', 0.8648872375488281), (u'thank', 0.863714337348938), (u'now', 0.8549549579620361), (u'ah', 0.8529579043388367), (u'dr', 0.828350841999054), (u'gentlemen', 0.8258355855941772), (u'good', 0.8250454664230347)]\n",
      "[(u'lestrade', 0.8154245018959045), (u'mcmurdo', 0.8083682060241699), (u'melas', 0.7996528148651123), (u'inspector', 0.799075186252594), (u'douglas', 0.7689141035079956), (u'rucastle', 0.7609803676605225), (u'gregson', 0.7460958361625671), (u'mac', 0.7400334477424622), (u'soames', 0.7368911504745483), (u'barker', 0.7348174452781677)]\n"
     ]
    }
   ],
   "source": [
    "print model.most_similar(\"watson\")\n",
    "print model.most_similar(\"holmes\")"
   ]
  },
  {
   "cell_type": "markdown",
   "metadata": {},
   "source": [
    "We got that the most similar word to Watson is Mortimer and the most similar word to Holmes is Lestrade. These results sound logical enough. Let us calculate the average vector of each paragraph."
   ]
  },
  {
   "cell_type": "code",
   "execution_count": 33,
   "metadata": {
    "collapsed": false
   },
   "outputs": [],
   "source": [
    "import graphlab as gl\n",
    "import re\n",
    "import numpy as np\n",
    "\n",
    "# NOTE: Update BASE_DIR to your own directory path\n",
    "BASE_DIR = r\"~/repos/statistics-indonesia-python/text_analysis/data\" \n",
    "sf =  gl.load_sframe(\"%s/books.sframe\" % BASE_DIR)\n",
    "sf_paragraphs = sf.flat_map(['title', 'text'], lambda t: [[t['title'],p.strip()] for p in t['text'].split(\"\\n\\n\")])\n",
    "sf_paragraphs = sf_paragraphs.rename({'text': 'paragraph'})\n",
    "sf_paragraphs['paragraph_words_number'] = sf_paragraphs['paragraph'].apply(lambda p: len(re_words_split.findall(p)) )\n",
    "sf_paragraphs = sf_paragraphs[sf_paragraphs['paragraph_words_number'] >=25]\n",
    "\n",
    "def txt2avg_vector(txt, w2v_model):\n",
    "    words = [w for w in txt2words(txt.lower()) if w in w2v_model]\n",
    "    v = np.mean([w2v_model[w] for w in words],axis=0)    \n",
    "    return v\n",
    "\n",
    "sf_paragraphs['mean_vector'] = sf_paragraphs['paragraph'].apply(lambda p: txt2avg_vector(p, model))"
   ]
  },
  {
   "cell_type": "markdown",
   "metadata": {},
   "source": [
    "Now we have the mean vector value of each paragraph. Let's utilize [GraphLab Create nearest neighbors toolkit](https://turi.com/products/create/docs/graphlab.toolkits.nearest_neighbors.html) to identify paragraphs that have similar text or  writing style. We will acheive that by calaculating the nearest neighbor to each the mean vector of each paragraph. "
   ]
  },
  {
   "cell_type": "code",
   "execution_count": 34,
   "metadata": {
    "collapsed": false,
    "scrolled": true
   },
   "outputs": [
    {
     "data": {
      "text/html": [
       "<pre>Starting ball tree nearest neighbors model training.</pre>"
      ],
      "text/plain": [
       "Starting ball tree nearest neighbors model training."
      ]
     },
     "metadata": {},
     "output_type": "display_data"
    },
    {
     "data": {
      "text/html": [
       "<pre>+------------+--------------+</pre>"
      ],
      "text/plain": [
       "+------------+--------------+"
      ]
     },
     "metadata": {},
     "output_type": "display_data"
    },
    {
     "data": {
      "text/html": [
       "<pre>| Tree level | Elapsed Time |</pre>"
      ],
      "text/plain": [
       "| Tree level | Elapsed Time |"
      ]
     },
     "metadata": {},
     "output_type": "display_data"
    },
    {
     "data": {
      "text/html": [
       "<pre>+------------+--------------+</pre>"
      ],
      "text/plain": [
       "+------------+--------------+"
      ]
     },
     "metadata": {},
     "output_type": "display_data"
    },
    {
     "data": {
      "text/html": [
       "<pre>| 0          | 128.135ms    |</pre>"
      ],
      "text/plain": [
       "| 0          | 128.135ms    |"
      ]
     },
     "metadata": {},
     "output_type": "display_data"
    },
    {
     "data": {
      "text/html": [
       "<pre>| 1          | 252.931ms    |</pre>"
      ],
      "text/plain": [
       "| 1          | 252.931ms    |"
      ]
     },
     "metadata": {},
     "output_type": "display_data"
    },
    {
     "data": {
      "text/html": [
       "<pre>| 2          | 378.703ms    |</pre>"
      ],
      "text/plain": [
       "| 2          | 378.703ms    |"
      ]
     },
     "metadata": {},
     "output_type": "display_data"
    },
    {
     "data": {
      "text/html": [
       "<pre>| 3          | 498.327ms    |</pre>"
      ],
      "text/plain": [
       "| 3          | 498.327ms    |"
      ]
     },
     "metadata": {},
     "output_type": "display_data"
    },
    {
     "data": {
      "text/html": [
       "<pre>| 4          | 558.049ms    |</pre>"
      ],
      "text/plain": [
       "| 4          | 558.049ms    |"
      ]
     },
     "metadata": {},
     "output_type": "display_data"
    },
    {
     "data": {
      "text/html": [
       "<pre>+------------+--------------+</pre>"
      ],
      "text/plain": [
       "+------------+--------------+"
      ]
     },
     "metadata": {},
     "output_type": "display_data"
    },
    {
     "data": {
      "text/html": [
       "<pre>+--------------+-------------+--------------+</pre>"
      ],
      "text/plain": [
       "+--------------+-------------+--------------+"
      ]
     },
     "metadata": {},
     "output_type": "display_data"
    },
    {
     "data": {
      "text/html": [
       "<pre>| Query points | % Complete. | Elapsed Time |</pre>"
      ],
      "text/plain": [
       "| Query points | % Complete. | Elapsed Time |"
      ]
     },
     "metadata": {},
     "output_type": "display_data"
    },
    {
     "data": {
      "text/html": [
       "<pre>+--------------+-------------+--------------+</pre>"
      ],
      "text/plain": [
       "+--------------+-------------+--------------+"
      ]
     },
     "metadata": {},
     "output_type": "display_data"
    },
    {
     "data": {
      "text/html": [
       "<pre>| 1            | 0           | 80.089ms     |</pre>"
      ],
      "text/plain": [
       "| 1            | 0           | 80.089ms     |"
      ]
     },
     "metadata": {},
     "output_type": "display_data"
    },
    {
     "data": {
      "text/html": [
       "<pre>| 50           | 0.25        | 1.10s        |</pre>"
      ],
      "text/plain": [
       "| 50           | 0.25        | 1.10s        |"
      ]
     },
     "metadata": {},
     "output_type": "display_data"
    },
    {
     "data": {
      "text/html": [
       "<pre>| 105          | 0.75        | 2.11s        |</pre>"
      ],
      "text/plain": [
       "| 105          | 0.75        | 2.11s        |"
      ]
     },
     "metadata": {},
     "output_type": "display_data"
    },
    {
     "data": {
      "text/html": [
       "<pre>| 156          | 1.25        | 3.12s        |</pre>"
      ],
      "text/plain": [
       "| 156          | 1.25        | 3.12s        |"
      ]
     },
     "metadata": {},
     "output_type": "display_data"
    },
    {
     "data": {
      "text/html": [
       "<pre>| 210          | 1.75        | 4.15s        |</pre>"
      ],
      "text/plain": [
       "| 210          | 1.75        | 4.15s        |"
      ]
     },
     "metadata": {},
     "output_type": "display_data"
    },
    {
     "data": {
      "text/html": [
       "<pre>| 254          | 2           | 5.11s        |</pre>"
      ],
      "text/plain": [
       "| 254          | 2           | 5.11s        |"
      ]
     },
     "metadata": {},
     "output_type": "display_data"
    },
    {
     "data": {
      "text/html": [
       "<pre>| 307          | 2.5         | 6.11s        |</pre>"
      ],
      "text/plain": [
       "| 307          | 2.5         | 6.11s        |"
      ]
     },
     "metadata": {},
     "output_type": "display_data"
    },
    {
     "data": {
      "text/html": [
       "<pre>| 354          | 3           | 7.13s        |</pre>"
      ],
      "text/plain": [
       "| 354          | 3           | 7.13s        |"
      ]
     },
     "metadata": {},
     "output_type": "display_data"
    },
    {
     "data": {
      "text/html": [
       "<pre>| 397          | 3.25        | 8.15s        |</pre>"
      ],
      "text/plain": [
       "| 397          | 3.25        | 8.15s        |"
      ]
     },
     "metadata": {},
     "output_type": "display_data"
    },
    {
     "data": {
      "text/html": [
       "<pre>| 455          | 3.75        | 9.12s        |</pre>"
      ],
      "text/plain": [
       "| 455          | 3.75        | 9.12s        |"
      ]
     },
     "metadata": {},
     "output_type": "display_data"
    },
    {
     "data": {
      "text/html": [
       "<pre>| 512          | 4.25        | 10.12s       |</pre>"
      ],
      "text/plain": [
       "| 512          | 4.25        | 10.12s       |"
      ]
     },
     "metadata": {},
     "output_type": "display_data"
    },
    {
     "data": {
      "text/html": [
       "<pre>| 563          | 4.75        | 11.12s       |</pre>"
      ],
      "text/plain": [
       "| 563          | 4.75        | 11.12s       |"
      ]
     },
     "metadata": {},
     "output_type": "display_data"
    },
    {
     "data": {
      "text/html": [
       "<pre>| 614          | 5.25        | 12.13s       |</pre>"
      ],
      "text/plain": [
       "| 614          | 5.25        | 12.13s       |"
      ]
     },
     "metadata": {},
     "output_type": "display_data"
    },
    {
     "data": {
      "text/html": [
       "<pre>| 668          | 5.5         | 13.14s       |</pre>"
      ],
      "text/plain": [
       "| 668          | 5.5         | 13.14s       |"
      ]
     },
     "metadata": {},
     "output_type": "display_data"
    },
    {
     "data": {
      "text/html": [
       "<pre>| 705          | 6           | 14.14s       |</pre>"
      ],
      "text/plain": [
       "| 705          | 6           | 14.14s       |"
      ]
     },
     "metadata": {},
     "output_type": "display_data"
    },
    {
     "data": {
      "text/html": [
       "<pre>| 745          | 6.25        | 15.19s       |</pre>"
      ],
      "text/plain": [
       "| 745          | 6.25        | 15.19s       |"
      ]
     },
     "metadata": {},
     "output_type": "display_data"
    },
    {
     "data": {
      "text/html": [
       "<pre>| 790          | 6.75        | 16.18s       |</pre>"
      ],
      "text/plain": [
       "| 790          | 6.75        | 16.18s       |"
      ]
     },
     "metadata": {},
     "output_type": "display_data"
    },
    {
     "data": {
      "text/html": [
       "<pre>| 844          | 7           | 17.15s       |</pre>"
      ],
      "text/plain": [
       "| 844          | 7           | 17.15s       |"
      ]
     },
     "metadata": {},
     "output_type": "display_data"
    },
    {
     "data": {
      "text/html": [
       "<pre>| 908          | 7.75        | 18.18s       |</pre>"
      ],
      "text/plain": [
       "| 908          | 7.75        | 18.18s       |"
      ]
     },
     "metadata": {},
     "output_type": "display_data"
    },
    {
     "data": {
      "text/html": [
       "<pre>| 970          | 8.25        | 19.18s       |</pre>"
      ],
      "text/plain": [
       "| 970          | 8.25        | 19.18s       |"
      ]
     },
     "metadata": {},
     "output_type": "display_data"
    },
    {
     "data": {
      "text/html": [
       "<pre>| 1019         | 8.5         | 20.18s       |</pre>"
      ],
      "text/plain": [
       "| 1019         | 8.5         | 20.18s       |"
      ]
     },
     "metadata": {},
     "output_type": "display_data"
    },
    {
     "data": {
      "text/html": [
       "<pre>| 1079         | 9.25        | 21.17s       |</pre>"
      ],
      "text/plain": [
       "| 1079         | 9.25        | 21.17s       |"
      ]
     },
     "metadata": {},
     "output_type": "display_data"
    },
    {
     "data": {
      "text/html": [
       "<pre>| 1136         | 9.5         | 22.18s       |</pre>"
      ],
      "text/plain": [
       "| 1136         | 9.5         | 22.18s       |"
      ]
     },
     "metadata": {},
     "output_type": "display_data"
    },
    {
     "data": {
      "text/html": [
       "<pre>| 1188         | 10          | 23.19s       |</pre>"
      ],
      "text/plain": [
       "| 1188         | 10          | 23.19s       |"
      ]
     },
     "metadata": {},
     "output_type": "display_data"
    },
    {
     "data": {
      "text/html": [
       "<pre>| 1233         | 10.5        | 24.18s       |</pre>"
      ],
      "text/plain": [
       "| 1233         | 10.5        | 24.18s       |"
      ]
     },
     "metadata": {},
     "output_type": "display_data"
    },
    {
     "data": {
      "text/html": [
       "<pre>| 1284         | 11          | 25.21s       |</pre>"
      ],
      "text/plain": [
       "| 1284         | 11          | 25.21s       |"
      ]
     },
     "metadata": {},
     "output_type": "display_data"
    },
    {
     "data": {
      "text/html": [
       "<pre>| 1342         | 11.5        | 26.19s       |</pre>"
      ],
      "text/plain": [
       "| 1342         | 11.5        | 26.19s       |"
      ]
     },
     "metadata": {},
     "output_type": "display_data"
    },
    {
     "data": {
      "text/html": [
       "<pre>| 1389         | 11.75       | 27.20s       |</pre>"
      ],
      "text/plain": [
       "| 1389         | 11.75       | 27.20s       |"
      ]
     },
     "metadata": {},
     "output_type": "display_data"
    },
    {
     "data": {
      "text/html": [
       "<pre>| 1440         | 12.25       | 28.20s       |</pre>"
      ],
      "text/plain": [
       "| 1440         | 12.25       | 28.20s       |"
      ]
     },
     "metadata": {},
     "output_type": "display_data"
    },
    {
     "data": {
      "text/html": [
       "<pre>| 1500         | 12.75       | 29.21s       |</pre>"
      ],
      "text/plain": [
       "| 1500         | 12.75       | 29.21s       |"
      ]
     },
     "metadata": {},
     "output_type": "display_data"
    },
    {
     "data": {
      "text/html": [
       "<pre>| 1546         | 13.25       | 30.23s       |</pre>"
      ],
      "text/plain": [
       "| 1546         | 13.25       | 30.23s       |"
      ]
     },
     "metadata": {},
     "output_type": "display_data"
    },
    {
     "data": {
      "text/html": [
       "<pre>| 1598         | 13.5        | 31.21s       |</pre>"
      ],
      "text/plain": [
       "| 1598         | 13.5        | 31.21s       |"
      ]
     },
     "metadata": {},
     "output_type": "display_data"
    },
    {
     "data": {
      "text/html": [
       "<pre>| 1651         | 14          | 32.21s       |</pre>"
      ],
      "text/plain": [
       "| 1651         | 14          | 32.21s       |"
      ]
     },
     "metadata": {},
     "output_type": "display_data"
    },
    {
     "data": {
      "text/html": [
       "<pre>| 1709         | 14.5        | 33.23s       |</pre>"
      ],
      "text/plain": [
       "| 1709         | 14.5        | 33.23s       |"
      ]
     },
     "metadata": {},
     "output_type": "display_data"
    },
    {
     "data": {
      "text/html": [
       "<pre>| 1763         | 15          | 34.23s       |</pre>"
      ],
      "text/plain": [
       "| 1763         | 15          | 34.23s       |"
      ]
     },
     "metadata": {},
     "output_type": "display_data"
    },
    {
     "data": {
      "text/html": [
       "<pre>| 1819         | 15.5        | 35.23s       |</pre>"
      ],
      "text/plain": [
       "| 1819         | 15.5        | 35.23s       |"
      ]
     },
     "metadata": {},
     "output_type": "display_data"
    },
    {
     "data": {
      "text/html": [
       "<pre>| 1875         | 16          | 36.23s       |</pre>"
      ],
      "text/plain": [
       "| 1875         | 16          | 36.23s       |"
      ]
     },
     "metadata": {},
     "output_type": "display_data"
    },
    {
     "data": {
      "text/html": [
       "<pre>| 1933         | 16.5        | 37.23s       |</pre>"
      ],
      "text/plain": [
       "| 1933         | 16.5        | 37.23s       |"
      ]
     },
     "metadata": {},
     "output_type": "display_data"
    },
    {
     "data": {
      "text/html": [
       "<pre>| 1992         | 17          | 38.27s       |</pre>"
      ],
      "text/plain": [
       "| 1992         | 17          | 38.27s       |"
      ]
     },
     "metadata": {},
     "output_type": "display_data"
    },
    {
     "data": {
      "text/html": [
       "<pre>| 2052         | 17.5        | 39.25s       |</pre>"
      ],
      "text/plain": [
       "| 2052         | 17.5        | 39.25s       |"
      ]
     },
     "metadata": {},
     "output_type": "display_data"
    },
    {
     "data": {
      "text/html": [
       "<pre>| 2091         | 17.75       | 40.26s       |</pre>"
      ],
      "text/plain": [
       "| 2091         | 17.75       | 40.26s       |"
      ]
     },
     "metadata": {},
     "output_type": "display_data"
    },
    {
     "data": {
      "text/html": [
       "<pre>| 2137         | 18.25       | 41.30s       |</pre>"
      ],
      "text/plain": [
       "| 2137         | 18.25       | 41.30s       |"
      ]
     },
     "metadata": {},
     "output_type": "display_data"
    },
    {
     "data": {
      "text/html": [
       "<pre>| 2172         | 18.5        | 42.25s       |</pre>"
      ],
      "text/plain": [
       "| 2172         | 18.5        | 42.25s       |"
      ]
     },
     "metadata": {},
     "output_type": "display_data"
    },
    {
     "data": {
      "text/html": [
       "<pre>| 2228         | 19          | 43.27s       |</pre>"
      ],
      "text/plain": [
       "| 2228         | 19          | 43.27s       |"
      ]
     },
     "metadata": {},
     "output_type": "display_data"
    },
    {
     "data": {
      "text/html": [
       "<pre>| 2282         | 19.5        | 44.29s       |</pre>"
      ],
      "text/plain": [
       "| 2282         | 19.5        | 44.29s       |"
      ]
     },
     "metadata": {},
     "output_type": "display_data"
    },
    {
     "data": {
      "text/html": [
       "<pre>| 2335         | 20          | 45.27s       |</pre>"
      ],
      "text/plain": [
       "| 2335         | 20          | 45.27s       |"
      ]
     },
     "metadata": {},
     "output_type": "display_data"
    },
    {
     "data": {
      "text/html": [
       "<pre>| 2390         | 20.5        | 46.27s       |</pre>"
      ],
      "text/plain": [
       "| 2390         | 20.5        | 46.27s       |"
      ]
     },
     "metadata": {},
     "output_type": "display_data"
    },
    {
     "data": {
      "text/html": [
       "<pre>| 2437         | 20.75       | 47.30s       |</pre>"
      ],
      "text/plain": [
       "| 2437         | 20.75       | 47.30s       |"
      ]
     },
     "metadata": {},
     "output_type": "display_data"
    },
    {
     "data": {
      "text/html": [
       "<pre>| 2485         | 21.25       | 48.29s       |</pre>"
      ],
      "text/plain": [
       "| 2485         | 21.25       | 48.29s       |"
      ]
     },
     "metadata": {},
     "output_type": "display_data"
    },
    {
     "data": {
      "text/html": [
       "<pre>| 2539         | 21.75       | 49.29s       |</pre>"
      ],
      "text/plain": [
       "| 2539         | 21.75       | 49.29s       |"
      ]
     },
     "metadata": {},
     "output_type": "display_data"
    },
    {
     "data": {
      "text/html": [
       "<pre>| 2593         | 22          | 50.36s       |</pre>"
      ],
      "text/plain": [
       "| 2593         | 22          | 50.36s       |"
      ]
     },
     "metadata": {},
     "output_type": "display_data"
    },
    {
     "data": {
      "text/html": [
       "<pre>| 2647         | 22.5        | 51.33s       |</pre>"
      ],
      "text/plain": [
       "| 2647         | 22.5        | 51.33s       |"
      ]
     },
     "metadata": {},
     "output_type": "display_data"
    },
    {
     "data": {
      "text/html": [
       "<pre>| 2704         | 23          | 52.31s       |</pre>"
      ],
      "text/plain": [
       "| 2704         | 23          | 52.31s       |"
      ]
     },
     "metadata": {},
     "output_type": "display_data"
    },
    {
     "data": {
      "text/html": [
       "<pre>| 2762         | 23.5        | 53.30s       |</pre>"
      ],
      "text/plain": [
       "| 2762         | 23.5        | 53.30s       |"
      ]
     },
     "metadata": {},
     "output_type": "display_data"
    },
    {
     "data": {
      "text/html": [
       "<pre>| 2810         | 24          | 54.31s       |</pre>"
      ],
      "text/plain": [
       "| 2810         | 24          | 54.31s       |"
      ]
     },
     "metadata": {},
     "output_type": "display_data"
    },
    {
     "data": {
      "text/html": [
       "<pre>| 2859         | 24.5        | 55.32s       |</pre>"
      ],
      "text/plain": [
       "| 2859         | 24.5        | 55.32s       |"
      ]
     },
     "metadata": {},
     "output_type": "display_data"
    },
    {
     "data": {
      "text/html": [
       "<pre>| 2909         | 24.75       | 56.34s       |</pre>"
      ],
      "text/plain": [
       "| 2909         | 24.75       | 56.34s       |"
      ]
     },
     "metadata": {},
     "output_type": "display_data"
    },
    {
     "data": {
      "text/html": [
       "<pre>| 2967         | 25.25       | 57.32s       |</pre>"
      ],
      "text/plain": [
       "| 2967         | 25.25       | 57.32s       |"
      ]
     },
     "metadata": {},
     "output_type": "display_data"
    },
    {
     "data": {
      "text/html": [
       "<pre>| 3027         | 25.75       | 58.34s       |</pre>"
      ],
      "text/plain": [
       "| 3027         | 25.75       | 58.34s       |"
      ]
     },
     "metadata": {},
     "output_type": "display_data"
    },
    {
     "data": {
      "text/html": [
       "<pre>| 3080         | 26.25       | 59.37s       |</pre>"
      ],
      "text/plain": [
       "| 3080         | 26.25       | 59.37s       |"
      ]
     },
     "metadata": {},
     "output_type": "display_data"
    },
    {
     "data": {
      "text/html": [
       "<pre>| 3138         | 26.75       | 1m 0s        |</pre>"
      ],
      "text/plain": [
       "| 3138         | 26.75       | 1m 0s        |"
      ]
     },
     "metadata": {},
     "output_type": "display_data"
    },
    {
     "data": {
      "text/html": [
       "<pre>| 3184         | 27.25       | 1m 1s        |</pre>"
      ],
      "text/plain": [
       "| 3184         | 27.25       | 1m 1s        |"
      ]
     },
     "metadata": {},
     "output_type": "display_data"
    },
    {
     "data": {
      "text/html": [
       "<pre>| 3230         | 27.5        | 1m 2s        |</pre>"
      ],
      "text/plain": [
       "| 3230         | 27.5        | 1m 2s        |"
      ]
     },
     "metadata": {},
     "output_type": "display_data"
    },
    {
     "data": {
      "text/html": [
       "<pre>| 3273         | 28          | 1m 3s        |</pre>"
      ],
      "text/plain": [
       "| 3273         | 28          | 1m 3s        |"
      ]
     },
     "metadata": {},
     "output_type": "display_data"
    },
    {
     "data": {
      "text/html": [
       "<pre>| 3327         | 28.5        | 1m 4s        |</pre>"
      ],
      "text/plain": [
       "| 3327         | 28.5        | 1m 4s        |"
      ]
     },
     "metadata": {},
     "output_type": "display_data"
    },
    {
     "data": {
      "text/html": [
       "<pre>| 3384         | 29          | 1m 5s        |</pre>"
      ],
      "text/plain": [
       "| 3384         | 29          | 1m 5s        |"
      ]
     },
     "metadata": {},
     "output_type": "display_data"
    },
    {
     "data": {
      "text/html": [
       "<pre>| 3437         | 29.25       | 1m 6s        |</pre>"
      ],
      "text/plain": [
       "| 3437         | 29.25       | 1m 6s        |"
      ]
     },
     "metadata": {},
     "output_type": "display_data"
    },
    {
     "data": {
      "text/html": [
       "<pre>| 3492         | 29.75       | 1m 7s        |</pre>"
      ],
      "text/plain": [
       "| 3492         | 29.75       | 1m 7s        |"
      ]
     },
     "metadata": {},
     "output_type": "display_data"
    },
    {
     "data": {
      "text/html": [
       "<pre>| 3549         | 30.25       | 1m 8s        |</pre>"
      ],
      "text/plain": [
       "| 3549         | 30.25       | 1m 8s        |"
      ]
     },
     "metadata": {},
     "output_type": "display_data"
    },
    {
     "data": {
      "text/html": [
       "<pre>| 3614         | 31          | 1m 9s        |</pre>"
      ],
      "text/plain": [
       "| 3614         | 31          | 1m 9s        |"
      ]
     },
     "metadata": {},
     "output_type": "display_data"
    },
    {
     "data": {
      "text/html": [
       "<pre>| 3667         | 31.25       | 1m 10s       |</pre>"
      ],
      "text/plain": [
       "| 3667         | 31.25       | 1m 10s       |"
      ]
     },
     "metadata": {},
     "output_type": "display_data"
    },
    {
     "data": {
      "text/html": [
       "<pre>| 3731         | 32          | 1m 11s       |</pre>"
      ],
      "text/plain": [
       "| 3731         | 32          | 1m 11s       |"
      ]
     },
     "metadata": {},
     "output_type": "display_data"
    },
    {
     "data": {
      "text/html": [
       "<pre>| 3784         | 32.25       | 1m 12s       |</pre>"
      ],
      "text/plain": [
       "| 3784         | 32.25       | 1m 12s       |"
      ]
     },
     "metadata": {},
     "output_type": "display_data"
    },
    {
     "data": {
      "text/html": [
       "<pre>| 3834         | 32.75       | 1m 13s       |</pre>"
      ],
      "text/plain": [
       "| 3834         | 32.75       | 1m 13s       |"
      ]
     },
     "metadata": {},
     "output_type": "display_data"
    },
    {
     "data": {
      "text/html": [
       "<pre>| 3879         | 33.25       | 1m 14s       |</pre>"
      ],
      "text/plain": [
       "| 3879         | 33.25       | 1m 14s       |"
      ]
     },
     "metadata": {},
     "output_type": "display_data"
    },
    {
     "data": {
      "text/html": [
       "<pre>| 3936         | 33.75       | 1m 15s       |</pre>"
      ],
      "text/plain": [
       "| 3936         | 33.75       | 1m 15s       |"
      ]
     },
     "metadata": {},
     "output_type": "display_data"
    },
    {
     "data": {
      "text/html": [
       "<pre>| 3988         | 34          | 1m 16s       |</pre>"
      ],
      "text/plain": [
       "| 3988         | 34          | 1m 16s       |"
      ]
     },
     "metadata": {},
     "output_type": "display_data"
    },
    {
     "data": {
      "text/html": [
       "<pre>| 4050         | 34.5        | 1m 17s       |</pre>"
      ],
      "text/plain": [
       "| 4050         | 34.5        | 1m 17s       |"
      ]
     },
     "metadata": {},
     "output_type": "display_data"
    },
    {
     "data": {
      "text/html": [
       "<pre>| 4112         | 35.25       | 1m 18s       |</pre>"
      ],
      "text/plain": [
       "| 4112         | 35.25       | 1m 18s       |"
      ]
     },
     "metadata": {},
     "output_type": "display_data"
    },
    {
     "data": {
      "text/html": [
       "<pre>| 4165         | 35.5        | 1m 19s       |</pre>"
      ],
      "text/plain": [
       "| 4165         | 35.5        | 1m 19s       |"
      ]
     },
     "metadata": {},
     "output_type": "display_data"
    },
    {
     "data": {
      "text/html": [
       "<pre>| 4214         | 36          | 1m 20s       |</pre>"
      ],
      "text/plain": [
       "| 4214         | 36          | 1m 20s       |"
      ]
     },
     "metadata": {},
     "output_type": "display_data"
    },
    {
     "data": {
      "text/html": [
       "<pre>| 4265         | 36.5        | 1m 21s       |</pre>"
      ],
      "text/plain": [
       "| 4265         | 36.5        | 1m 21s       |"
      ]
     },
     "metadata": {},
     "output_type": "display_data"
    },
    {
     "data": {
      "text/html": [
       "<pre>| 4317         | 37          | 1m 22s       |</pre>"
      ],
      "text/plain": [
       "| 4317         | 37          | 1m 22s       |"
      ]
     },
     "metadata": {},
     "output_type": "display_data"
    },
    {
     "data": {
      "text/html": [
       "<pre>| 4360         | 37.25       | 1m 23s       |</pre>"
      ],
      "text/plain": [
       "| 4360         | 37.25       | 1m 23s       |"
      ]
     },
     "metadata": {},
     "output_type": "display_data"
    },
    {
     "data": {
      "text/html": [
       "<pre>| 4408         | 37.75       | 1m 24s       |</pre>"
      ],
      "text/plain": [
       "| 4408         | 37.75       | 1m 24s       |"
      ]
     },
     "metadata": {},
     "output_type": "display_data"
    },
    {
     "data": {
      "text/html": [
       "<pre>| 4469         | 38.25       | 1m 25s       |</pre>"
      ],
      "text/plain": [
       "| 4469         | 38.25       | 1m 25s       |"
      ]
     },
     "metadata": {},
     "output_type": "display_data"
    },
    {
     "data": {
      "text/html": [
       "<pre>| 4517         | 38.5        | 1m 26s       |</pre>"
      ],
      "text/plain": [
       "| 4517         | 38.5        | 1m 26s       |"
      ]
     },
     "metadata": {},
     "output_type": "display_data"
    },
    {
     "data": {
      "text/html": [
       "<pre>| 4572         | 39          | 1m 27s       |</pre>"
      ],
      "text/plain": [
       "| 4572         | 39          | 1m 27s       |"
      ]
     },
     "metadata": {},
     "output_type": "display_data"
    },
    {
     "data": {
      "text/html": [
       "<pre>| 4618         | 39.5        | 1m 28s       |</pre>"
      ],
      "text/plain": [
       "| 4618         | 39.5        | 1m 28s       |"
      ]
     },
     "metadata": {},
     "output_type": "display_data"
    },
    {
     "data": {
      "text/html": [
       "<pre>| 4681         | 40          | 1m 29s       |</pre>"
      ],
      "text/plain": [
       "| 4681         | 40          | 1m 29s       |"
      ]
     },
     "metadata": {},
     "output_type": "display_data"
    },
    {
     "data": {
      "text/html": [
       "<pre>| 4732         | 40.5        | 1m 30s       |</pre>"
      ],
      "text/plain": [
       "| 4732         | 40.5        | 1m 30s       |"
      ]
     },
     "metadata": {},
     "output_type": "display_data"
    },
    {
     "data": {
      "text/html": [
       "<pre>| 4787         | 41          | 1m 31s       |</pre>"
      ],
      "text/plain": [
       "| 4787         | 41          | 1m 31s       |"
      ]
     },
     "metadata": {},
     "output_type": "display_data"
    },
    {
     "data": {
      "text/html": [
       "<pre>| 4840         | 41.5        | 1m 32s       |</pre>"
      ],
      "text/plain": [
       "| 4840         | 41.5        | 1m 32s       |"
      ]
     },
     "metadata": {},
     "output_type": "display_data"
    },
    {
     "data": {
      "text/html": [
       "<pre>| 4901         | 42          | 1m 33s       |</pre>"
      ],
      "text/plain": [
       "| 4901         | 42          | 1m 33s       |"
      ]
     },
     "metadata": {},
     "output_type": "display_data"
    },
    {
     "data": {
      "text/html": [
       "<pre>| 4956         | 42.5        | 1m 34s       |</pre>"
      ],
      "text/plain": [
       "| 4956         | 42.5        | 1m 34s       |"
      ]
     },
     "metadata": {},
     "output_type": "display_data"
    },
    {
     "data": {
      "text/html": [
       "<pre>| 5012         | 42.75       | 1m 35s       |</pre>"
      ],
      "text/plain": [
       "| 5012         | 42.75       | 1m 35s       |"
      ]
     },
     "metadata": {},
     "output_type": "display_data"
    },
    {
     "data": {
      "text/html": [
       "<pre>| 5068         | 43.25       | 1m 36s       |</pre>"
      ],
      "text/plain": [
       "| 5068         | 43.25       | 1m 36s       |"
      ]
     },
     "metadata": {},
     "output_type": "display_data"
    },
    {
     "data": {
      "text/html": [
       "<pre>| 5128         | 43.75       | 1m 37s       |</pre>"
      ],
      "text/plain": [
       "| 5128         | 43.75       | 1m 37s       |"
      ]
     },
     "metadata": {},
     "output_type": "display_data"
    },
    {
     "data": {
      "text/html": [
       "<pre>| 5178         | 44.25       | 1m 38s       |</pre>"
      ],
      "text/plain": [
       "| 5178         | 44.25       | 1m 38s       |"
      ]
     },
     "metadata": {},
     "output_type": "display_data"
    },
    {
     "data": {
      "text/html": [
       "<pre>| 5220         | 44.75       | 1m 39s       |</pre>"
      ],
      "text/plain": [
       "| 5220         | 44.75       | 1m 39s       |"
      ]
     },
     "metadata": {},
     "output_type": "display_data"
    },
    {
     "data": {
      "text/html": [
       "<pre>| 5264         | 45          | 1m 40s       |</pre>"
      ],
      "text/plain": [
       "| 5264         | 45          | 1m 40s       |"
      ]
     },
     "metadata": {},
     "output_type": "display_data"
    },
    {
     "data": {
      "text/html": [
       "<pre>| 5324         | 45.5        | 1m 41s       |</pre>"
      ],
      "text/plain": [
       "| 5324         | 45.5        | 1m 41s       |"
      ]
     },
     "metadata": {},
     "output_type": "display_data"
    },
    {
     "data": {
      "text/html": [
       "<pre>| 5373         | 46          | 1m 42s       |</pre>"
      ],
      "text/plain": [
       "| 5373         | 46          | 1m 42s       |"
      ]
     },
     "metadata": {},
     "output_type": "display_data"
    },
    {
     "data": {
      "text/html": [
       "<pre>| 5427         | 46.5        | 1m 43s       |</pre>"
      ],
      "text/plain": [
       "| 5427         | 46.5        | 1m 43s       |"
      ]
     },
     "metadata": {},
     "output_type": "display_data"
    },
    {
     "data": {
      "text/html": [
       "<pre>| 5478         | 46.75       | 1m 44s       |</pre>"
      ],
      "text/plain": [
       "| 5478         | 46.75       | 1m 44s       |"
      ]
     },
     "metadata": {},
     "output_type": "display_data"
    },
    {
     "data": {
      "text/html": [
       "<pre>| 5526         | 47.25       | 1m 45s       |</pre>"
      ],
      "text/plain": [
       "| 5526         | 47.25       | 1m 45s       |"
      ]
     },
     "metadata": {},
     "output_type": "display_data"
    },
    {
     "data": {
      "text/html": [
       "<pre>| 5566         | 47.5        | 1m 46s       |</pre>"
      ],
      "text/plain": [
       "| 5566         | 47.5        | 1m 46s       |"
      ]
     },
     "metadata": {},
     "output_type": "display_data"
    },
    {
     "data": {
      "text/html": [
       "<pre>| 5609         | 48          | 1m 47s       |</pre>"
      ],
      "text/plain": [
       "| 5609         | 48          | 1m 47s       |"
      ]
     },
     "metadata": {},
     "output_type": "display_data"
    },
    {
     "data": {
      "text/html": [
       "<pre>| 5650         | 48.25       | 1m 48s       |</pre>"
      ],
      "text/plain": [
       "| 5650         | 48.25       | 1m 48s       |"
      ]
     },
     "metadata": {},
     "output_type": "display_data"
    },
    {
     "data": {
      "text/html": [
       "<pre>| 5695         | 48.75       | 1m 49s       |</pre>"
      ],
      "text/plain": [
       "| 5695         | 48.75       | 1m 49s       |"
      ]
     },
     "metadata": {},
     "output_type": "display_data"
    },
    {
     "data": {
      "text/html": [
       "<pre>| 5748         | 49.25       | 1m 50s       |</pre>"
      ],
      "text/plain": [
       "| 5748         | 49.25       | 1m 50s       |"
      ]
     },
     "metadata": {},
     "output_type": "display_data"
    },
    {
     "data": {
      "text/html": [
       "<pre>| 5798         | 49.5        | 1m 51s       |</pre>"
      ],
      "text/plain": [
       "| 5798         | 49.5        | 1m 51s       |"
      ]
     },
     "metadata": {},
     "output_type": "display_data"
    },
    {
     "data": {
      "text/html": [
       "<pre>| 5852         | 50          | 1m 52s       |</pre>"
      ],
      "text/plain": [
       "| 5852         | 50          | 1m 52s       |"
      ]
     },
     "metadata": {},
     "output_type": "display_data"
    },
    {
     "data": {
      "text/html": [
       "<pre>| 5897         | 50.5        | 1m 53s       |</pre>"
      ],
      "text/plain": [
       "| 5897         | 50.5        | 1m 53s       |"
      ]
     },
     "metadata": {},
     "output_type": "display_data"
    },
    {
     "data": {
      "text/html": [
       "<pre>| 5945         | 50.75       | 1m 54s       |</pre>"
      ],
      "text/plain": [
       "| 5945         | 50.75       | 1m 54s       |"
      ]
     },
     "metadata": {},
     "output_type": "display_data"
    },
    {
     "data": {
      "text/html": [
       "<pre>| 5996         | 51.25       | 1m 55s       |</pre>"
      ],
      "text/plain": [
       "| 5996         | 51.25       | 1m 55s       |"
      ]
     },
     "metadata": {},
     "output_type": "display_data"
    },
    {
     "data": {
      "text/html": [
       "<pre>| 6045         | 51.75       | 1m 56s       |</pre>"
      ],
      "text/plain": [
       "| 6045         | 51.75       | 1m 56s       |"
      ]
     },
     "metadata": {},
     "output_type": "display_data"
    },
    {
     "data": {
      "text/html": [
       "<pre>| 6091         | 52.25       | 1m 57s       |</pre>"
      ],
      "text/plain": [
       "| 6091         | 52.25       | 1m 57s       |"
      ]
     },
     "metadata": {},
     "output_type": "display_data"
    },
    {
     "data": {
      "text/html": [
       "<pre>| 6145         | 52.5        | 1m 58s       |</pre>"
      ],
      "text/plain": [
       "| 6145         | 52.5        | 1m 58s       |"
      ]
     },
     "metadata": {},
     "output_type": "display_data"
    },
    {
     "data": {
      "text/html": [
       "<pre>| 6187         | 53          | 1m 59s       |</pre>"
      ],
      "text/plain": [
       "| 6187         | 53          | 1m 59s       |"
      ]
     },
     "metadata": {},
     "output_type": "display_data"
    },
    {
     "data": {
      "text/html": [
       "<pre>| 6229         | 53.25       | 2m 0s        |</pre>"
      ],
      "text/plain": [
       "| 6229         | 53.25       | 2m 0s        |"
      ]
     },
     "metadata": {},
     "output_type": "display_data"
    },
    {
     "data": {
      "text/html": [
       "<pre>| 6277         | 53.75       | 2m 1s        |</pre>"
      ],
      "text/plain": [
       "| 6277         | 53.75       | 2m 1s        |"
      ]
     },
     "metadata": {},
     "output_type": "display_data"
    },
    {
     "data": {
      "text/html": [
       "<pre>| 6317         | 54          | 2m 2s        |</pre>"
      ],
      "text/plain": [
       "| 6317         | 54          | 2m 2s        |"
      ]
     },
     "metadata": {},
     "output_type": "display_data"
    },
    {
     "data": {
      "text/html": [
       "<pre>| 6370         | 54.5        | 2m 3s        |</pre>"
      ],
      "text/plain": [
       "| 6370         | 54.5        | 2m 3s        |"
      ]
     },
     "metadata": {},
     "output_type": "display_data"
    },
    {
     "data": {
      "text/html": [
       "<pre>| 6418         | 55          | 2m 4s        |</pre>"
      ],
      "text/plain": [
       "| 6418         | 55          | 2m 4s        |"
      ]
     },
     "metadata": {},
     "output_type": "display_data"
    },
    {
     "data": {
      "text/html": [
       "<pre>| 6464         | 55.25       | 2m 5s        |</pre>"
      ],
      "text/plain": [
       "| 6464         | 55.25       | 2m 5s        |"
      ]
     },
     "metadata": {},
     "output_type": "display_data"
    },
    {
     "data": {
      "text/html": [
       "<pre>| 6522         | 55.75       | 2m 6s        |</pre>"
      ],
      "text/plain": [
       "| 6522         | 55.75       | 2m 6s        |"
      ]
     },
     "metadata": {},
     "output_type": "display_data"
    },
    {
     "data": {
      "text/html": [
       "<pre>| 6577         | 56.25       | 2m 7s        |</pre>"
      ],
      "text/plain": [
       "| 6577         | 56.25       | 2m 7s        |"
      ]
     },
     "metadata": {},
     "output_type": "display_data"
    },
    {
     "data": {
      "text/html": [
       "<pre>| 6633         | 56.75       | 2m 8s        |</pre>"
      ],
      "text/plain": [
       "| 6633         | 56.75       | 2m 8s        |"
      ]
     },
     "metadata": {},
     "output_type": "display_data"
    },
    {
     "data": {
      "text/html": [
       "<pre>| 6691         | 57.25       | 2m 9s        |</pre>"
      ],
      "text/plain": [
       "| 6691         | 57.25       | 2m 9s        |"
      ]
     },
     "metadata": {},
     "output_type": "display_data"
    },
    {
     "data": {
      "text/html": [
       "<pre>| 6754         | 57.75       | 2m 10s       |</pre>"
      ],
      "text/plain": [
       "| 6754         | 57.75       | 2m 10s       |"
      ]
     },
     "metadata": {},
     "output_type": "display_data"
    },
    {
     "data": {
      "text/html": [
       "<pre>| 6807         | 58.25       | 2m 11s       |</pre>"
      ],
      "text/plain": [
       "| 6807         | 58.25       | 2m 11s       |"
      ]
     },
     "metadata": {},
     "output_type": "display_data"
    },
    {
     "data": {
      "text/html": [
       "<pre>| 6861         | 58.75       | 2m 12s       |</pre>"
      ],
      "text/plain": [
       "| 6861         | 58.75       | 2m 12s       |"
      ]
     },
     "metadata": {},
     "output_type": "display_data"
    },
    {
     "data": {
      "text/html": [
       "<pre>| 6917         | 59.25       | 2m 13s       |</pre>"
      ],
      "text/plain": [
       "| 6917         | 59.25       | 2m 13s       |"
      ]
     },
     "metadata": {},
     "output_type": "display_data"
    },
    {
     "data": {
      "text/html": [
       "<pre>| 6971         | 59.75       | 2m 14s       |</pre>"
      ],
      "text/plain": [
       "| 6971         | 59.75       | 2m 14s       |"
      ]
     },
     "metadata": {},
     "output_type": "display_data"
    },
    {
     "data": {
      "text/html": [
       "<pre>| 7023         | 60          | 2m 15s       |</pre>"
      ],
      "text/plain": [
       "| 7023         | 60          | 2m 15s       |"
      ]
     },
     "metadata": {},
     "output_type": "display_data"
    },
    {
     "data": {
      "text/html": [
       "<pre>| 7075         | 60.5        | 2m 16s       |</pre>"
      ],
      "text/plain": [
       "| 7075         | 60.5        | 2m 16s       |"
      ]
     },
     "metadata": {},
     "output_type": "display_data"
    },
    {
     "data": {
      "text/html": [
       "<pre>| 7130         | 61          | 2m 17s       |</pre>"
      ],
      "text/plain": [
       "| 7130         | 61          | 2m 17s       |"
      ]
     },
     "metadata": {},
     "output_type": "display_data"
    },
    {
     "data": {
      "text/html": [
       "<pre>| 7187         | 61.5        | 2m 18s       |</pre>"
      ],
      "text/plain": [
       "| 7187         | 61.5        | 2m 18s       |"
      ]
     },
     "metadata": {},
     "output_type": "display_data"
    },
    {
     "data": {
      "text/html": [
       "<pre>| 7245         | 62          | 2m 19s       |</pre>"
      ],
      "text/plain": [
       "| 7245         | 62          | 2m 19s       |"
      ]
     },
     "metadata": {},
     "output_type": "display_data"
    },
    {
     "data": {
      "text/html": [
       "<pre>| 7300         | 62.5        | 2m 20s       |</pre>"
      ],
      "text/plain": [
       "| 7300         | 62.5        | 2m 20s       |"
      ]
     },
     "metadata": {},
     "output_type": "display_data"
    },
    {
     "data": {
      "text/html": [
       "<pre>| 7352         | 63          | 2m 21s       |</pre>"
      ],
      "text/plain": [
       "| 7352         | 63          | 2m 21s       |"
      ]
     },
     "metadata": {},
     "output_type": "display_data"
    },
    {
     "data": {
      "text/html": [
       "<pre>| 7401         | 63.25       | 2m 22s       |</pre>"
      ],
      "text/plain": [
       "| 7401         | 63.25       | 2m 22s       |"
      ]
     },
     "metadata": {},
     "output_type": "display_data"
    },
    {
     "data": {
      "text/html": [
       "<pre>| 7449         | 63.75       | 2m 23s       |</pre>"
      ],
      "text/plain": [
       "| 7449         | 63.75       | 2m 23s       |"
      ]
     },
     "metadata": {},
     "output_type": "display_data"
    },
    {
     "data": {
      "text/html": [
       "<pre>| 7504         | 64.25       | 2m 24s       |</pre>"
      ],
      "text/plain": [
       "| 7504         | 64.25       | 2m 24s       |"
      ]
     },
     "metadata": {},
     "output_type": "display_data"
    },
    {
     "data": {
      "text/html": [
       "<pre>| 7561         | 64.75       | 2m 25s       |</pre>"
      ],
      "text/plain": [
       "| 7561         | 64.75       | 2m 25s       |"
      ]
     },
     "metadata": {},
     "output_type": "display_data"
    },
    {
     "data": {
      "text/html": [
       "<pre>| 7618         | 65.25       | 2m 26s       |</pre>"
      ],
      "text/plain": [
       "| 7618         | 65.25       | 2m 26s       |"
      ]
     },
     "metadata": {},
     "output_type": "display_data"
    },
    {
     "data": {
      "text/html": [
       "<pre>| 7675         | 65.75       | 2m 27s       |</pre>"
      ],
      "text/plain": [
       "| 7675         | 65.75       | 2m 27s       |"
      ]
     },
     "metadata": {},
     "output_type": "display_data"
    },
    {
     "data": {
      "text/html": [
       "<pre>| 7730         | 66.25       | 2m 28s       |</pre>"
      ],
      "text/plain": [
       "| 7730         | 66.25       | 2m 28s       |"
      ]
     },
     "metadata": {},
     "output_type": "display_data"
    },
    {
     "data": {
      "text/html": [
       "<pre>| 7786         | 66.75       | 2m 29s       |</pre>"
      ],
      "text/plain": [
       "| 7786         | 66.75       | 2m 29s       |"
      ]
     },
     "metadata": {},
     "output_type": "display_data"
    },
    {
     "data": {
      "text/html": [
       "<pre>| 7844         | 67.25       | 2m 30s       |</pre>"
      ],
      "text/plain": [
       "| 7844         | 67.25       | 2m 30s       |"
      ]
     },
     "metadata": {},
     "output_type": "display_data"
    },
    {
     "data": {
      "text/html": [
       "<pre>| 7898         | 67.75       | 2m 31s       |</pre>"
      ],
      "text/plain": [
       "| 7898         | 67.75       | 2m 31s       |"
      ]
     },
     "metadata": {},
     "output_type": "display_data"
    },
    {
     "data": {
      "text/html": [
       "<pre>| 7948         | 68          | 2m 32s       |</pre>"
      ],
      "text/plain": [
       "| 7948         | 68          | 2m 32s       |"
      ]
     },
     "metadata": {},
     "output_type": "display_data"
    },
    {
     "data": {
      "text/html": [
       "<pre>| 8003         | 68.5        | 2m 33s       |</pre>"
      ],
      "text/plain": [
       "| 8003         | 68.5        | 2m 33s       |"
      ]
     },
     "metadata": {},
     "output_type": "display_data"
    },
    {
     "data": {
      "text/html": [
       "<pre>| 8058         | 69          | 2m 34s       |</pre>"
      ],
      "text/plain": [
       "| 8058         | 69          | 2m 34s       |"
      ]
     },
     "metadata": {},
     "output_type": "display_data"
    },
    {
     "data": {
      "text/html": [
       "<pre>| 8114         | 69.5        | 2m 35s       |</pre>"
      ],
      "text/plain": [
       "| 8114         | 69.5        | 2m 35s       |"
      ]
     },
     "metadata": {},
     "output_type": "display_data"
    },
    {
     "data": {
      "text/html": [
       "<pre>| 8163         | 70          | 2m 36s       |</pre>"
      ],
      "text/plain": [
       "| 8163         | 70          | 2m 36s       |"
      ]
     },
     "metadata": {},
     "output_type": "display_data"
    },
    {
     "data": {
      "text/html": [
       "<pre>| 8209         | 70.25       | 2m 37s       |</pre>"
      ],
      "text/plain": [
       "| 8209         | 70.25       | 2m 37s       |"
      ]
     },
     "metadata": {},
     "output_type": "display_data"
    },
    {
     "data": {
      "text/html": [
       "<pre>| 8273         | 70.75       | 2m 38s       |</pre>"
      ],
      "text/plain": [
       "| 8273         | 70.75       | 2m 38s       |"
      ]
     },
     "metadata": {},
     "output_type": "display_data"
    },
    {
     "data": {
      "text/html": [
       "<pre>| 8336         | 71.5        | 2m 39s       |</pre>"
      ],
      "text/plain": [
       "| 8336         | 71.5        | 2m 39s       |"
      ]
     },
     "metadata": {},
     "output_type": "display_data"
    },
    {
     "data": {
      "text/html": [
       "<pre>| 8397         | 72          | 2m 40s       |</pre>"
      ],
      "text/plain": [
       "| 8397         | 72          | 2m 40s       |"
      ]
     },
     "metadata": {},
     "output_type": "display_data"
    },
    {
     "data": {
      "text/html": [
       "<pre>| 8445         | 72.25       | 2m 41s       |</pre>"
      ],
      "text/plain": [
       "| 8445         | 72.25       | 2m 41s       |"
      ]
     },
     "metadata": {},
     "output_type": "display_data"
    },
    {
     "data": {
      "text/html": [
       "<pre>| 8489         | 72.75       | 2m 42s       |</pre>"
      ],
      "text/plain": [
       "| 8489         | 72.75       | 2m 42s       |"
      ]
     },
     "metadata": {},
     "output_type": "display_data"
    },
    {
     "data": {
      "text/html": [
       "<pre>| 8545         | 73.25       | 2m 43s       |</pre>"
      ],
      "text/plain": [
       "| 8545         | 73.25       | 2m 43s       |"
      ]
     },
     "metadata": {},
     "output_type": "display_data"
    },
    {
     "data": {
      "text/html": [
       "<pre>| 8597         | 73.5        | 2m 44s       |</pre>"
      ],
      "text/plain": [
       "| 8597         | 73.5        | 2m 44s       |"
      ]
     },
     "metadata": {},
     "output_type": "display_data"
    },
    {
     "data": {
      "text/html": [
       "<pre>| 8656         | 74.25       | 2m 45s       |</pre>"
      ],
      "text/plain": [
       "| 8656         | 74.25       | 2m 45s       |"
      ]
     },
     "metadata": {},
     "output_type": "display_data"
    },
    {
     "data": {
      "text/html": [
       "<pre>| 8702         | 74.5        | 2m 46s       |</pre>"
      ],
      "text/plain": [
       "| 8702         | 74.5        | 2m 46s       |"
      ]
     },
     "metadata": {},
     "output_type": "display_data"
    },
    {
     "data": {
      "text/html": [
       "<pre>| 8755         | 75          | 2m 47s       |</pre>"
      ],
      "text/plain": [
       "| 8755         | 75          | 2m 47s       |"
      ]
     },
     "metadata": {},
     "output_type": "display_data"
    },
    {
     "data": {
      "text/html": [
       "<pre>| 8815         | 75.5        | 2m 48s       |</pre>"
      ],
      "text/plain": [
       "| 8815         | 75.5        | 2m 48s       |"
      ]
     },
     "metadata": {},
     "output_type": "display_data"
    },
    {
     "data": {
      "text/html": [
       "<pre>| 8865         | 76          | 2m 49s       |</pre>"
      ],
      "text/plain": [
       "| 8865         | 76          | 2m 49s       |"
      ]
     },
     "metadata": {},
     "output_type": "display_data"
    },
    {
     "data": {
      "text/html": [
       "<pre>| 8918         | 76.5        | 2m 50s       |</pre>"
      ],
      "text/plain": [
       "| 8918         | 76.5        | 2m 50s       |"
      ]
     },
     "metadata": {},
     "output_type": "display_data"
    },
    {
     "data": {
      "text/html": [
       "<pre>| 8967         | 76.75       | 2m 51s       |</pre>"
      ],
      "text/plain": [
       "| 8967         | 76.75       | 2m 51s       |"
      ]
     },
     "metadata": {},
     "output_type": "display_data"
    },
    {
     "data": {
      "text/html": [
       "<pre>| 9026         | 77.25       | 2m 52s       |</pre>"
      ],
      "text/plain": [
       "| 9026         | 77.25       | 2m 52s       |"
      ]
     },
     "metadata": {},
     "output_type": "display_data"
    },
    {
     "data": {
      "text/html": [
       "<pre>| 9085         | 77.75       | 2m 53s       |</pre>"
      ],
      "text/plain": [
       "| 9085         | 77.75       | 2m 53s       |"
      ]
     },
     "metadata": {},
     "output_type": "display_data"
    },
    {
     "data": {
      "text/html": [
       "<pre>| 9141         | 78.25       | 2m 54s       |</pre>"
      ],
      "text/plain": [
       "| 9141         | 78.25       | 2m 54s       |"
      ]
     },
     "metadata": {},
     "output_type": "display_data"
    },
    {
     "data": {
      "text/html": [
       "<pre>| 9195         | 78.75       | 2m 55s       |</pre>"
      ],
      "text/plain": [
       "| 9195         | 78.75       | 2m 55s       |"
      ]
     },
     "metadata": {},
     "output_type": "display_data"
    },
    {
     "data": {
      "text/html": [
       "<pre>| 9252         | 79.25       | 2m 56s       |</pre>"
      ],
      "text/plain": [
       "| 9252         | 79.25       | 2m 56s       |"
      ]
     },
     "metadata": {},
     "output_type": "display_data"
    },
    {
     "data": {
      "text/html": [
       "<pre>| 9310         | 79.75       | 2m 57s       |</pre>"
      ],
      "text/plain": [
       "| 9310         | 79.75       | 2m 57s       |"
      ]
     },
     "metadata": {},
     "output_type": "display_data"
    },
    {
     "data": {
      "text/html": [
       "<pre>| 9370         | 80.25       | 2m 58s       |</pre>"
      ],
      "text/plain": [
       "| 9370         | 80.25       | 2m 58s       |"
      ]
     },
     "metadata": {},
     "output_type": "display_data"
    },
    {
     "data": {
      "text/html": [
       "<pre>| 9420         | 80.75       | 2m 59s       |</pre>"
      ],
      "text/plain": [
       "| 9420         | 80.75       | 2m 59s       |"
      ]
     },
     "metadata": {},
     "output_type": "display_data"
    },
    {
     "data": {
      "text/html": [
       "<pre>| 9473         | 81.25       | 3m 0s        |</pre>"
      ],
      "text/plain": [
       "| 9473         | 81.25       | 3m 0s        |"
      ]
     },
     "metadata": {},
     "output_type": "display_data"
    },
    {
     "data": {
      "text/html": [
       "<pre>| 9533         | 81.75       | 3m 1s        |</pre>"
      ],
      "text/plain": [
       "| 9533         | 81.75       | 3m 1s        |"
      ]
     },
     "metadata": {},
     "output_type": "display_data"
    },
    {
     "data": {
      "text/html": [
       "<pre>| 9590         | 82.25       | 3m 2s        |</pre>"
      ],
      "text/plain": [
       "| 9590         | 82.25       | 3m 2s        |"
      ]
     },
     "metadata": {},
     "output_type": "display_data"
    },
    {
     "data": {
      "text/html": [
       "<pre>| 9641         | 82.5        | 3m 3s        |</pre>"
      ],
      "text/plain": [
       "| 9641         | 82.5        | 3m 3s        |"
      ]
     },
     "metadata": {},
     "output_type": "display_data"
    },
    {
     "data": {
      "text/html": [
       "<pre>| 9700         | 83          | 3m 4s        |</pre>"
      ],
      "text/plain": [
       "| 9700         | 83          | 3m 4s        |"
      ]
     },
     "metadata": {},
     "output_type": "display_data"
    },
    {
     "data": {
      "text/html": [
       "<pre>| 9756         | 83.5        | 3m 5s        |</pre>"
      ],
      "text/plain": [
       "| 9756         | 83.5        | 3m 5s        |"
      ]
     },
     "metadata": {},
     "output_type": "display_data"
    },
    {
     "data": {
      "text/html": [
       "<pre>| 9810         | 84          | 3m 6s        |</pre>"
      ],
      "text/plain": [
       "| 9810         | 84          | 3m 6s        |"
      ]
     },
     "metadata": {},
     "output_type": "display_data"
    },
    {
     "data": {
      "text/html": [
       "<pre>| 9861         | 84.5        | 3m 7s        |</pre>"
      ],
      "text/plain": [
       "| 9861         | 84.5        | 3m 7s        |"
      ]
     },
     "metadata": {},
     "output_type": "display_data"
    },
    {
     "data": {
      "text/html": [
       "<pre>| 9904         | 84.75       | 3m 8s        |</pre>"
      ],
      "text/plain": [
       "| 9904         | 84.75       | 3m 8s        |"
      ]
     },
     "metadata": {},
     "output_type": "display_data"
    },
    {
     "data": {
      "text/html": [
       "<pre>| 9957         | 85.25       | 3m 9s        |</pre>"
      ],
      "text/plain": [
       "| 9957         | 85.25       | 3m 9s        |"
      ]
     },
     "metadata": {},
     "output_type": "display_data"
    },
    {
     "data": {
      "text/html": [
       "<pre>| 10010        | 85.75       | 3m 10s       |</pre>"
      ],
      "text/plain": [
       "| 10010        | 85.75       | 3m 10s       |"
      ]
     },
     "metadata": {},
     "output_type": "display_data"
    },
    {
     "data": {
      "text/html": [
       "<pre>| 10056        | 86.25       | 3m 11s       |</pre>"
      ],
      "text/plain": [
       "| 10056        | 86.25       | 3m 11s       |"
      ]
     },
     "metadata": {},
     "output_type": "display_data"
    },
    {
     "data": {
      "text/html": [
       "<pre>| 10107        | 86.5        | 3m 12s       |</pre>"
      ],
      "text/plain": [
       "| 10107        | 86.5        | 3m 12s       |"
      ]
     },
     "metadata": {},
     "output_type": "display_data"
    },
    {
     "data": {
      "text/html": [
       "<pre>| 10159        | 87          | 3m 13s       |</pre>"
      ],
      "text/plain": [
       "| 10159        | 87          | 3m 13s       |"
      ]
     },
     "metadata": {},
     "output_type": "display_data"
    },
    {
     "data": {
      "text/html": [
       "<pre>| 10213        | 87.5        | 3m 14s       |</pre>"
      ],
      "text/plain": [
       "| 10213        | 87.5        | 3m 14s       |"
      ]
     },
     "metadata": {},
     "output_type": "display_data"
    },
    {
     "data": {
      "text/html": [
       "<pre>| 10266        | 88          | 3m 15s       |</pre>"
      ],
      "text/plain": [
       "| 10266        | 88          | 3m 15s       |"
      ]
     },
     "metadata": {},
     "output_type": "display_data"
    },
    {
     "data": {
      "text/html": [
       "<pre>| 10315        | 88.25       | 3m 16s       |</pre>"
      ],
      "text/plain": [
       "| 10315        | 88.25       | 3m 16s       |"
      ]
     },
     "metadata": {},
     "output_type": "display_data"
    },
    {
     "data": {
      "text/html": [
       "<pre>| 10369        | 88.75       | 3m 17s       |</pre>"
      ],
      "text/plain": [
       "| 10369        | 88.75       | 3m 17s       |"
      ]
     },
     "metadata": {},
     "output_type": "display_data"
    },
    {
     "data": {
      "text/html": [
       "<pre>| 10422        | 89.25       | 3m 18s       |</pre>"
      ],
      "text/plain": [
       "| 10422        | 89.25       | 3m 18s       |"
      ]
     },
     "metadata": {},
     "output_type": "display_data"
    },
    {
     "data": {
      "text/html": [
       "<pre>| 10465        | 89.75       | 3m 19s       |</pre>"
      ],
      "text/plain": [
       "| 10465        | 89.75       | 3m 19s       |"
      ]
     },
     "metadata": {},
     "output_type": "display_data"
    },
    {
     "data": {
      "text/html": [
       "<pre>| 10510        | 90          | 3m 20s       |</pre>"
      ],
      "text/plain": [
       "| 10510        | 90          | 3m 20s       |"
      ]
     },
     "metadata": {},
     "output_type": "display_data"
    },
    {
     "data": {
      "text/html": [
       "<pre>| 10553        | 90.5        | 3m 21s       |</pre>"
      ],
      "text/plain": [
       "| 10553        | 90.5        | 3m 21s       |"
      ]
     },
     "metadata": {},
     "output_type": "display_data"
    },
    {
     "data": {
      "text/html": [
       "<pre>| 10598        | 90.75       | 3m 22s       |</pre>"
      ],
      "text/plain": [
       "| 10598        | 90.75       | 3m 22s       |"
      ]
     },
     "metadata": {},
     "output_type": "display_data"
    },
    {
     "data": {
      "text/html": [
       "<pre>| 10646        | 91.25       | 3m 23s       |</pre>"
      ],
      "text/plain": [
       "| 10646        | 91.25       | 3m 23s       |"
      ]
     },
     "metadata": {},
     "output_type": "display_data"
    },
    {
     "data": {
      "text/html": [
       "<pre>| 10690        | 91.5        | 3m 24s       |</pre>"
      ],
      "text/plain": [
       "| 10690        | 91.5        | 3m 24s       |"
      ]
     },
     "metadata": {},
     "output_type": "display_data"
    },
    {
     "data": {
      "text/html": [
       "<pre>| 10732        | 92          | 3m 25s       |</pre>"
      ],
      "text/plain": [
       "| 10732        | 92          | 3m 25s       |"
      ]
     },
     "metadata": {},
     "output_type": "display_data"
    },
    {
     "data": {
      "text/html": [
       "<pre>| 10781        | 92.25       | 3m 26s       |</pre>"
      ],
      "text/plain": [
       "| 10781        | 92.25       | 3m 26s       |"
      ]
     },
     "metadata": {},
     "output_type": "display_data"
    },
    {
     "data": {
      "text/html": [
       "<pre>| 10829        | 92.75       | 3m 27s       |</pre>"
      ],
      "text/plain": [
       "| 10829        | 92.75       | 3m 27s       |"
      ]
     },
     "metadata": {},
     "output_type": "display_data"
    },
    {
     "data": {
      "text/html": [
       "<pre>| 10873        | 93.25       | 3m 28s       |</pre>"
      ],
      "text/plain": [
       "| 10873        | 93.25       | 3m 28s       |"
      ]
     },
     "metadata": {},
     "output_type": "display_data"
    },
    {
     "data": {
      "text/html": [
       "<pre>| 10917        | 93.5        | 3m 29s       |</pre>"
      ],
      "text/plain": [
       "| 10917        | 93.5        | 3m 29s       |"
      ]
     },
     "metadata": {},
     "output_type": "display_data"
    },
    {
     "data": {
      "text/html": [
       "<pre>| 10960        | 94          | 3m 30s       |</pre>"
      ],
      "text/plain": [
       "| 10960        | 94          | 3m 30s       |"
      ]
     },
     "metadata": {},
     "output_type": "display_data"
    },
    {
     "data": {
      "text/html": [
       "<pre>| 11005        | 94.25       | 3m 31s       |</pre>"
      ],
      "text/plain": [
       "| 11005        | 94.25       | 3m 31s       |"
      ]
     },
     "metadata": {},
     "output_type": "display_data"
    },
    {
     "data": {
      "text/html": [
       "<pre>| 11046        | 94.75       | 3m 32s       |</pre>"
      ],
      "text/plain": [
       "| 11046        | 94.75       | 3m 32s       |"
      ]
     },
     "metadata": {},
     "output_type": "display_data"
    },
    {
     "data": {
      "text/html": [
       "<pre>| 11084        | 95          | 3m 33s       |</pre>"
      ],
      "text/plain": [
       "| 11084        | 95          | 3m 33s       |"
      ]
     },
     "metadata": {},
     "output_type": "display_data"
    },
    {
     "data": {
      "text/html": [
       "<pre>| 11127        | 95.25       | 3m 34s       |</pre>"
      ],
      "text/plain": [
       "| 11127        | 95.25       | 3m 34s       |"
      ]
     },
     "metadata": {},
     "output_type": "display_data"
    },
    {
     "data": {
      "text/html": [
       "<pre>| 11163        | 95.75       | 3m 35s       |</pre>"
      ],
      "text/plain": [
       "| 11163        | 95.75       | 3m 35s       |"
      ]
     },
     "metadata": {},
     "output_type": "display_data"
    },
    {
     "data": {
      "text/html": [
       "<pre>| 11190        | 95.75       | 3m 37s       |</pre>"
      ],
      "text/plain": [
       "| 11190        | 95.75       | 3m 37s       |"
      ]
     },
     "metadata": {},
     "output_type": "display_data"
    },
    {
     "data": {
      "text/html": [
       "<pre>| 11219        | 96          | 3m 38s       |</pre>"
      ],
      "text/plain": [
       "| 11219        | 96          | 3m 38s       |"
      ]
     },
     "metadata": {},
     "output_type": "display_data"
    },
    {
     "data": {
      "text/html": [
       "<pre>| 11245        | 96.25       | 3m 39s       |</pre>"
      ],
      "text/plain": [
       "| 11245        | 96.25       | 3m 39s       |"
      ]
     },
     "metadata": {},
     "output_type": "display_data"
    },
    {
     "data": {
      "text/html": [
       "<pre>| 11272        | 96.5        | 3m 39s       |</pre>"
      ],
      "text/plain": [
       "| 11272        | 96.5        | 3m 39s       |"
      ]
     },
     "metadata": {},
     "output_type": "display_data"
    },
    {
     "data": {
      "text/html": [
       "<pre>| 11299        | 96.75       | 3m 41s       |</pre>"
      ],
      "text/plain": [
       "| 11299        | 96.75       | 3m 41s       |"
      ]
     },
     "metadata": {},
     "output_type": "display_data"
    },
    {
     "data": {
      "text/html": [
       "<pre>| 11327        | 97          | 3m 42s       |</pre>"
      ],
      "text/plain": [
       "| 11327        | 97          | 3m 42s       |"
      ]
     },
     "metadata": {},
     "output_type": "display_data"
    },
    {
     "data": {
      "text/html": [
       "<pre>| 11355        | 97.25       | 3m 43s       |</pre>"
      ],
      "text/plain": [
       "| 11355        | 97.25       | 3m 43s       |"
      ]
     },
     "metadata": {},
     "output_type": "display_data"
    },
    {
     "data": {
      "text/html": [
       "<pre>| 11381        | 97.5        | 3m 44s       |</pre>"
      ],
      "text/plain": [
       "| 11381        | 97.5        | 3m 44s       |"
      ]
     },
     "metadata": {},
     "output_type": "display_data"
    },
    {
     "data": {
      "text/html": [
       "<pre>| 11412        | 97.75       | 3m 45s       |</pre>"
      ],
      "text/plain": [
       "| 11412        | 97.75       | 3m 45s       |"
      ]
     },
     "metadata": {},
     "output_type": "display_data"
    },
    {
     "data": {
      "text/html": [
       "<pre>| 11442        | 98          | 3m 46s       |</pre>"
      ],
      "text/plain": [
       "| 11442        | 98          | 3m 46s       |"
      ]
     },
     "metadata": {},
     "output_type": "display_data"
    },
    {
     "data": {
      "text/html": [
       "<pre>| 11472        | 98.25       | 3m 47s       |</pre>"
      ],
      "text/plain": [
       "| 11472        | 98.25       | 3m 47s       |"
      ]
     },
     "metadata": {},
     "output_type": "display_data"
    },
    {
     "data": {
      "text/html": [
       "<pre>| 11500        | 98.5        | 3m 48s       |</pre>"
      ],
      "text/plain": [
       "| 11500        | 98.5        | 3m 48s       |"
      ]
     },
     "metadata": {},
     "output_type": "display_data"
    },
    {
     "data": {
      "text/html": [
       "<pre>| 11524        | 98.75       | 3m 49s       |</pre>"
      ],
      "text/plain": [
       "| 11524        | 98.75       | 3m 49s       |"
      ]
     },
     "metadata": {},
     "output_type": "display_data"
    },
    {
     "data": {
      "text/html": [
       "<pre>| 11540        | 98.75       | 3m 50s       |</pre>"
      ],
      "text/plain": [
       "| 11540        | 98.75       | 3m 50s       |"
      ]
     },
     "metadata": {},
     "output_type": "display_data"
    },
    {
     "data": {
      "text/html": [
       "<pre>| 11555        | 99          | 3m 51s       |</pre>"
      ],
      "text/plain": [
       "| 11555        | 99          | 3m 51s       |"
      ]
     },
     "metadata": {},
     "output_type": "display_data"
    },
    {
     "data": {
      "text/html": [
       "<pre>| 11570        | 99.25       | 3m 52s       |</pre>"
      ],
      "text/plain": [
       "| 11570        | 99.25       | 3m 52s       |"
      ]
     },
     "metadata": {},
     "output_type": "display_data"
    },
    {
     "data": {
      "text/html": [
       "<pre>| 11585        | 99.25       | 3m 53s       |</pre>"
      ],
      "text/plain": [
       "| 11585        | 99.25       | 3m 53s       |"
      ]
     },
     "metadata": {},
     "output_type": "display_data"
    },
    {
     "data": {
      "text/html": [
       "<pre>| 11600        | 99.5        | 3m 54s       |</pre>"
      ],
      "text/plain": [
       "| 11600        | 99.5        | 3m 54s       |"
      ]
     },
     "metadata": {},
     "output_type": "display_data"
    },
    {
     "data": {
      "text/html": [
       "<pre>| 11619        | 99.5        | 3m 55s       |</pre>"
      ],
      "text/plain": [
       "| 11619        | 99.5        | 3m 55s       |"
      ]
     },
     "metadata": {},
     "output_type": "display_data"
    },
    {
     "data": {
      "text/html": [
       "<pre>| 11633        | 99.75       | 3m 56s       |</pre>"
      ],
      "text/plain": [
       "| 11633        | 99.75       | 3m 56s       |"
      ]
     },
     "metadata": {},
     "output_type": "display_data"
    },
    {
     "data": {
      "text/html": [
       "<pre>| 11647        | 99.75       | 3m 57s       |</pre>"
      ],
      "text/plain": [
       "| 11647        | 99.75       | 3m 57s       |"
      ]
     },
     "metadata": {},
     "output_type": "display_data"
    },
    {
     "data": {
      "text/html": [
       "<pre>| Done         |             | 3m 57s       |</pre>"
      ],
      "text/plain": [
       "| Done         |             | 3m 57s       |"
      ]
     },
     "metadata": {},
     "output_type": "display_data"
    },
    {
     "data": {
      "text/html": [
       "<pre>+--------------+-------------+--------------+</pre>"
      ],
      "text/plain": [
       "+--------------+-------------+--------------+"
      ]
     },
     "metadata": {},
     "output_type": "display_data"
    },
    {
     "data": {
      "text/html": [
       "<div style=\"max-height:1000px;max-width:1500px;overflow:auto;\"><table frame=\"box\" rules=\"cols\">\n",
       "    <tr>\n",
       "        <th style=\"padding-left: 1em; padding-right: 1em; text-align: center\">query_label</th>\n",
       "        <th style=\"padding-left: 1em; padding-right: 1em; text-align: center\">reference_label</th>\n",
       "        <th style=\"padding-left: 1em; padding-right: 1em; text-align: center\">distance</th>\n",
       "        <th style=\"padding-left: 1em; padding-right: 1em; text-align: center\">rank</th>\n",
       "    </tr>\n",
       "    <tr>\n",
       "        <td style=\"padding-left: 1em; padding-right: 1em; text-align: center; vertical-align: top\">0</td>\n",
       "        <td style=\"padding-left: 1em; padding-right: 1em; text-align: center; vertical-align: top\">0</td>\n",
       "        <td style=\"padding-left: 1em; padding-right: 1em; text-align: center; vertical-align: top\">0.0</td>\n",
       "        <td style=\"padding-left: 1em; padding-right: 1em; text-align: center; vertical-align: top\">1</td>\n",
       "    </tr>\n",
       "    <tr>\n",
       "        <td style=\"padding-left: 1em; padding-right: 1em; text-align: center; vertical-align: top\">0</td>\n",
       "        <td style=\"padding-left: 1em; padding-right: 1em; text-align: center; vertical-align: top\">3326</td>\n",
       "        <td style=\"padding-left: 1em; padding-right: 1em; text-align: center; vertical-align: top\">0.33598936863</td>\n",
       "        <td style=\"padding-left: 1em; padding-right: 1em; text-align: center; vertical-align: top\">2</td>\n",
       "    </tr>\n",
       "    <tr>\n",
       "        <td style=\"padding-left: 1em; padding-right: 1em; text-align: center; vertical-align: top\">1</td>\n",
       "        <td style=\"padding-left: 1em; padding-right: 1em; text-align: center; vertical-align: top\">6453</td>\n",
       "        <td style=\"padding-left: 1em; padding-right: 1em; text-align: center; vertical-align: top\">0.0</td>\n",
       "        <td style=\"padding-left: 1em; padding-right: 1em; text-align: center; vertical-align: top\">1</td>\n",
       "    </tr>\n",
       "    <tr>\n",
       "        <td style=\"padding-left: 1em; padding-right: 1em; text-align: center; vertical-align: top\">1</td>\n",
       "        <td style=\"padding-left: 1em; padding-right: 1em; text-align: center; vertical-align: top\">1</td>\n",
       "        <td style=\"padding-left: 1em; padding-right: 1em; text-align: center; vertical-align: top\">0.0</td>\n",
       "        <td style=\"padding-left: 1em; padding-right: 1em; text-align: center; vertical-align: top\">2</td>\n",
       "    </tr>\n",
       "    <tr>\n",
       "        <td style=\"padding-left: 1em; padding-right: 1em; text-align: center; vertical-align: top\">2</td>\n",
       "        <td style=\"padding-left: 1em; padding-right: 1em; text-align: center; vertical-align: top\">6454</td>\n",
       "        <td style=\"padding-left: 1em; padding-right: 1em; text-align: center; vertical-align: top\">0.0</td>\n",
       "        <td style=\"padding-left: 1em; padding-right: 1em; text-align: center; vertical-align: top\">1</td>\n",
       "    </tr>\n",
       "    <tr>\n",
       "        <td style=\"padding-left: 1em; padding-right: 1em; text-align: center; vertical-align: top\">2</td>\n",
       "        <td style=\"padding-left: 1em; padding-right: 1em; text-align: center; vertical-align: top\">2</td>\n",
       "        <td style=\"padding-left: 1em; padding-right: 1em; text-align: center; vertical-align: top\">0.0</td>\n",
       "        <td style=\"padding-left: 1em; padding-right: 1em; text-align: center; vertical-align: top\">2</td>\n",
       "    </tr>\n",
       "    <tr>\n",
       "        <td style=\"padding-left: 1em; padding-right: 1em; text-align: center; vertical-align: top\">3</td>\n",
       "        <td style=\"padding-left: 1em; padding-right: 1em; text-align: center; vertical-align: top\">6455</td>\n",
       "        <td style=\"padding-left: 1em; padding-right: 1em; text-align: center; vertical-align: top\">0.0</td>\n",
       "        <td style=\"padding-left: 1em; padding-right: 1em; text-align: center; vertical-align: top\">1</td>\n",
       "    </tr>\n",
       "    <tr>\n",
       "        <td style=\"padding-left: 1em; padding-right: 1em; text-align: center; vertical-align: top\">3</td>\n",
       "        <td style=\"padding-left: 1em; padding-right: 1em; text-align: center; vertical-align: top\">3</td>\n",
       "        <td style=\"padding-left: 1em; padding-right: 1em; text-align: center; vertical-align: top\">0.0</td>\n",
       "        <td style=\"padding-left: 1em; padding-right: 1em; text-align: center; vertical-align: top\">2</td>\n",
       "    </tr>\n",
       "    <tr>\n",
       "        <td style=\"padding-left: 1em; padding-right: 1em; text-align: center; vertical-align: top\">4</td>\n",
       "        <td style=\"padding-left: 1em; padding-right: 1em; text-align: center; vertical-align: top\">6456</td>\n",
       "        <td style=\"padding-left: 1em; padding-right: 1em; text-align: center; vertical-align: top\">0.0</td>\n",
       "        <td style=\"padding-left: 1em; padding-right: 1em; text-align: center; vertical-align: top\">1</td>\n",
       "    </tr>\n",
       "    <tr>\n",
       "        <td style=\"padding-left: 1em; padding-right: 1em; text-align: center; vertical-align: top\">4</td>\n",
       "        <td style=\"padding-left: 1em; padding-right: 1em; text-align: center; vertical-align: top\">4</td>\n",
       "        <td style=\"padding-left: 1em; padding-right: 1em; text-align: center; vertical-align: top\">0.0</td>\n",
       "        <td style=\"padding-left: 1em; padding-right: 1em; text-align: center; vertical-align: top\">2</td>\n",
       "    </tr>\n",
       "</table>\n",
       "[10 rows x 4 columns]<br/>\n",
       "</div>"
      ],
      "text/plain": [
       "Columns:\n",
       "\tquery_label\tint\n",
       "\treference_label\tint\n",
       "\tdistance\tfloat\n",
       "\trank\tint\n",
       "\n",
       "Rows: 10\n",
       "\n",
       "Data:\n",
       "+-------------+-----------------+---------------+------+\n",
       "| query_label | reference_label |    distance   | rank |\n",
       "+-------------+-----------------+---------------+------+\n",
       "|      0      |        0        |      0.0      |  1   |\n",
       "|      0      |       3326      | 0.33598936863 |  2   |\n",
       "|      1      |       6453      |      0.0      |  1   |\n",
       "|      1      |        1        |      0.0      |  2   |\n",
       "|      2      |       6454      |      0.0      |  1   |\n",
       "|      2      |        2        |      0.0      |  2   |\n",
       "|      3      |       6455      |      0.0      |  1   |\n",
       "|      3      |        3        |      0.0      |  2   |\n",
       "|      4      |       6456      |      0.0      |  1   |\n",
       "|      4      |        4        |      0.0      |  2   |\n",
       "+-------------+-----------------+---------------+------+\n",
       "[10 rows x 4 columns]"
      ]
     },
     "execution_count": 34,
     "metadata": {},
     "output_type": "execute_result"
    }
   ],
   "source": [
    "#construncting nearest neighbors model\n",
    "nn_model = gl.nearest_neighbors.create(sf_paragraphs, features=['mean_vector'])\n",
    "\n",
    "#calaculating the two nearest neighbors of each paragraph from all the paragraphs \n",
    "r = nn_model.query(sf_paragraphs, k=2)\n",
    "r.head(10)"
   ]
  },
  {
   "cell_type": "markdown",
   "metadata": {},
   "source": [
    "Of course the nearest neighbors to each paragraph is the paragraph itself. Therefore, let us filter out paragraph that are with a distance of zero from each other. Additionally, let's look only on two near paragraphs that have small distance from each other (distance < 0.08)"
   ]
  },
  {
   "cell_type": "code",
   "execution_count": 35,
   "metadata": {
    "collapsed": false
   },
   "outputs": [
    {
     "data": {
      "text/html": [
       "<div style=\"max-height:1000px;max-width:1500px;overflow:auto;\"><table frame=\"box\" rules=\"cols\">\n",
       "    <tr>\n",
       "        <th style=\"padding-left: 1em; padding-right: 1em; text-align: center\">query_label</th>\n",
       "        <th style=\"padding-left: 1em; padding-right: 1em; text-align: center\">reference_label</th>\n",
       "        <th style=\"padding-left: 1em; padding-right: 1em; text-align: center\">distance</th>\n",
       "        <th style=\"padding-left: 1em; padding-right: 1em; text-align: center\">rank</th>\n",
       "    </tr>\n",
       "    <tr>\n",
       "        <td style=\"padding-left: 1em; padding-right: 1em; text-align: center; vertical-align: top\">9146</td>\n",
       "        <td style=\"padding-left: 1em; padding-right: 1em; text-align: center; vertical-align: top\">9562</td>\n",
       "        <td style=\"padding-left: 1em; padding-right: 1em; text-align: center; vertical-align: top\">0.0757984104208</td>\n",
       "        <td style=\"padding-left: 1em; padding-right: 1em; text-align: center; vertical-align: top\">2</td>\n",
       "    </tr>\n",
       "    <tr>\n",
       "        <td style=\"padding-left: 1em; padding-right: 1em; text-align: center; vertical-align: top\">9562</td>\n",
       "        <td style=\"padding-left: 1em; padding-right: 1em; text-align: center; vertical-align: top\">9146</td>\n",
       "        <td style=\"padding-left: 1em; padding-right: 1em; text-align: center; vertical-align: top\">0.0757984104208</td>\n",
       "        <td style=\"padding-left: 1em; padding-right: 1em; text-align: center; vertical-align: top\">2</td>\n",
       "    </tr>\n",
       "</table>\n",
       "[? rows x 4 columns]<br/>Note: Only the head of the SFrame is printed. This SFrame is lazily evaluated.<br/>You can use sf.materialize() to force materialization.\n",
       "</div>"
      ],
      "text/plain": [
       "Columns:\n",
       "\tquery_label\tint\n",
       "\treference_label\tint\n",
       "\tdistance\tfloat\n",
       "\trank\tint\n",
       "\n",
       "Rows: Unknown\n",
       "\n",
       "Data:\n",
       "+-------------+-----------------+-----------------+------+\n",
       "| query_label | reference_label |     distance    | rank |\n",
       "+-------------+-----------------+-----------------+------+\n",
       "|     9146    |       9562      | 0.0757984104208 |  2   |\n",
       "|     9562    |       9146      | 0.0757984104208 |  2   |\n",
       "+-------------+-----------------+-----------------+------+\n",
       "[? rows x 4 columns]\n",
       "Note: Only the head of the SFrame is printed. This SFrame is lazily evaluated.\n",
       "You can use sf.materialize() to force materialization."
      ]
     },
     "execution_count": 35,
     "metadata": {},
     "output_type": "execute_result"
    }
   ],
   "source": [
    "#filter out paragraphs that are exactly exactly the same\n",
    "r = r[r['distance'] != 0]\n",
    "\n",
    "#filter out paragraphs that are with distance >= 0.1\n",
    "r = r[r['distance'] < 0.08]\n",
    "r"
   ]
  },
  {
   "cell_type": "markdown",
   "metadata": {},
   "source": [
    "Now, let's use join to match between each query_label and reference_label values and their actual paragraphs."
   ]
  },
  {
   "cell_type": "code",
   "execution_count": 36,
   "metadata": {
    "collapsed": false
   },
   "outputs": [],
   "source": [
    "sf_paragraphs = sf_paragraphs.add_row_number('query_label')\n",
    "sf_paragraphs = sf_paragraphs.add_row_number('reference_label')\n",
    "sf_similar = r.join(sf_paragraphs, on=\"query_label\").join(sf_paragraphs, on=\"reference_label\")"
   ]
  },
  {
   "cell_type": "code",
   "execution_count": 37,
   "metadata": {
    "collapsed": false
   },
   "outputs": [
    {
     "data": {
      "text/html": [
       "<div style=\"max-height:1000px;max-width:1500px;overflow:auto;\"><table frame=\"box\" rules=\"cols\">\n",
       "    <tr>\n",
       "        <th style=\"padding-left: 1em; padding-right: 1em; text-align: center\">paragraph</th>\n",
       "        <th style=\"padding-left: 1em; padding-right: 1em; text-align: center\">title</th>\n",
       "        <th style=\"padding-left: 1em; padding-right: 1em; text-align: center\">title.1</th>\n",
       "        <th style=\"padding-left: 1em; padding-right: 1em; text-align: center\">paragraph.1</th>\n",
       "    </tr>\n",
       "    <tr>\n",
       "        <td style=\"padding-left: 1em; padding-right: 1em; text-align: center; vertical-align: top\">Pictures for \"The<br>Adventure of the Golden ...</td>\n",
       "        <td style=\"padding-left: 1em; padding-right: 1em; text-align: center; vertical-align: top\">The Golden Pince-Nez</td>\n",
       "        <td style=\"padding-left: 1em; padding-right: 1em; text-align: center; vertical-align: top\">The Priory School</td>\n",
       "        <td style=\"padding-left: 1em; padding-right: 1em; text-align: center; vertical-align: top\">Pictures for \"The<br>Adventure of the Priory ...</td>\n",
       "    </tr>\n",
       "    <tr>\n",
       "        <td style=\"padding-left: 1em; padding-right: 1em; text-align: center; vertical-align: top\">Pictures for \"The<br>Adventure of the Priory ...</td>\n",
       "        <td style=\"padding-left: 1em; padding-right: 1em; text-align: center; vertical-align: top\">The Priory School</td>\n",
       "        <td style=\"padding-left: 1em; padding-right: 1em; text-align: center; vertical-align: top\">The Golden Pince-Nez</td>\n",
       "        <td style=\"padding-left: 1em; padding-right: 1em; text-align: center; vertical-align: top\">Pictures for \"The<br>Adventure of the Golden ...</td>\n",
       "    </tr>\n",
       "</table>\n",
       "<table frame=\"box\" rules=\"cols\">\n",
       "    <tr>\n",
       "        <th style=\"padding-left: 1em; padding-right: 1em; text-align: center\">distance</th>\n",
       "    </tr>\n",
       "    <tr>\n",
       "        <td style=\"padding-left: 1em; padding-right: 1em; text-align: center; vertical-align: top\">0.0757984104208</td>\n",
       "    </tr>\n",
       "    <tr>\n",
       "        <td style=\"padding-left: 1em; padding-right: 1em; text-align: center; vertical-align: top\">0.0757984104208</td>\n",
       "    </tr>\n",
       "</table>\n",
       "[2 rows x 5 columns]<br/>\n",
       "</div>"
      ],
      "text/plain": [
       "Columns:\n",
       "\tparagraph\tstr\n",
       "\ttitle\tstr\n",
       "\ttitle.1\tstr\n",
       "\tparagraph.1\tstr\n",
       "\tdistance\tfloat\n",
       "\n",
       "Rows: 2\n",
       "\n",
       "Data:\n",
       "+-------------------------------+----------------------+----------------------+\n",
       "|           paragraph           |        title         |       title.1        |\n",
       "+-------------------------------+----------------------+----------------------+\n",
       "| Pictures for \"The Adventur... | The Golden Pince-Nez |  The Priory School   |\n",
       "| Pictures for \"The Adventur... |  The Priory School   | The Golden Pince-Nez |\n",
       "+-------------------------------+----------------------+----------------------+\n",
       "+-------------------------------+-----------------+\n",
       "|          paragraph.1          |     distance    |\n",
       "+-------------------------------+-----------------+\n",
       "| Pictures for \"The Adventur... | 0.0757984104208 |\n",
       "| Pictures for \"The Adventur... | 0.0757984104208 |\n",
       "+-------------------------------+-----------------+\n",
       "[2 rows x 5 columns]"
      ]
     },
     "execution_count": 37,
     "metadata": {},
     "output_type": "execute_result"
    }
   ],
   "source": [
    "sf_similar[['paragraph','title', 'title.1', 'paragraph.1', 'distance']]"
   ]
  },
  {
   "cell_type": "markdown",
   "metadata": {},
   "source": [
    "Let's look at some of the similar paragraphs."
   ]
  },
  {
   "cell_type": "code",
   "execution_count": 38,
   "metadata": {
    "collapsed": false
   },
   "outputs": [
    {
     "name": "stdout",
     "output_type": "stream",
     "text": [
      "Pictures for \"The Adventure of the Priory School\" were taken from a\n",
      "     1915 edition of \"The Return of Sherlock Holmes\" by Smith, Elder & Co.\n",
      "     of London.\n",
      "----------------------------------------------------------------------------------------------------\n",
      "Pictures for \"The Adventure of the Golden Pince-Nez\" were taken from\n",
      "     a 1915 edition of \"The Return of Sherlock Holmes\" by Smith, Elder &\n",
      "     Co. of London.\n"
     ]
    }
   ],
   "source": [
    "print sf_similar[1]['paragraph']\n",
    "print \"-\"*100\n",
    "print sf_similar[1]['paragraph.1']"
   ]
  },
  {
   "cell_type": "markdown",
   "metadata": {},
   "source": [
    "Although that in the paragraphs match the text is completely different, it still has the several similar motifs. In the first paragraph dog is leading his master. \n",
    "While in the second paragraph the boots are replacing the dog part. In both paragraphs the author use somewhat similar motifs \"dreadful sight to see that huge black creature\" \n",
    "and \"saw something that made me feel sickish.\" I personally find these results quite interesting."
   ]
  },
  {
   "cell_type": "markdown",
   "metadata": {},
   "source": [
    "## <a id=\"go\"></a> 6. Where to Go From Here"
   ]
  },
  {
   "cell_type": "markdown",
   "metadata": {},
   "source": [
    "<pre>\n",
    "\"Thank you,\" said Holmes, \"I only wished to ask you how you would go from here to the Strand.\"\n",
    "                                                                              -The Red-Headed League\n",
    "</pre>"
   ]
  },
  {
   "cell_type": "markdown",
   "metadata": {},
   "source": [
    "In this notebook, we presented a short and practical tutorial for NLP, which covered several common NLP topics, such as NER, Topic Model, and Word2Vec. If you want to continue to explore this dataset yourself, there are a lot more that can be done. You can rerun this code using different texts (Harry Potter, Lord of the Rings, and etc.). In addition, you can try to modify the above code to create social networks between persons and locations, or to use [GloVe]( http://nlp.stanford.edu/projects/glove/) instead of Word2Vec. Furthermore, you can also try to run other graph theory algorithms, such as community detection algorithms, on the constructed social networks to uncover additional interesting insights. We hope that the methods and code presented in this notebook can assist you to solve other text analysis tasks."
   ]
  },
  {
   "cell_type": "markdown",
   "metadata": {},
   "source": [
    "## <a id=\"reading\"></a> 7. Further Reading"
   ]
  },
  {
   "cell_type": "markdown",
   "metadata": {},
   "source": [
    "Further reading material:\n",
    "- [Analysis of communities in a mythological social network, Miranda et al.](http://arxiv.org/abs/1306.2537)\n",
    "- [A survey of named entity recognition and classification, David Nadeau and Satoshi Sekine](http://nlp.cs.nyu.edu/sekine/papers/li07.pdf)\n",
    "- [Probabilistic topic models, David M. Blei](https://www.cs.princeton.edu/~blei/papers/Blei2012.pdf)\n",
    "- [LDAvis: A method for visualizing and interpreting topic models](http://stat-graphics.org/movies/ldavis.html)\n",
    "- [Practical deep text learning blog post](https://turi.com/learn/gallery/notebooks/deep_text_learning.html)\n",
    "- [Deep learning with word2vec and gensim](http://rare-technologies.com/deep-learning-with-word2vec-and-gensim/)"
   ]
  }
 ],
 "metadata": {
  "anaconda-cloud": {},
  "kernelspec": {
   "display_name": "Python [gl-env]",
   "language": "python",
   "name": "Python [gl-env]"
  },
  "language_info": {
   "codemirror_mode": {
    "name": "ipython",
    "version": 2
   },
   "file_extension": ".py",
   "mimetype": "text/x-python",
   "name": "python",
   "nbconvert_exporter": "python",
   "pygments_lexer": "ipython2",
   "version": "2.7.12"
  }
 },
 "nbformat": 4,
 "nbformat_minor": 0
}
