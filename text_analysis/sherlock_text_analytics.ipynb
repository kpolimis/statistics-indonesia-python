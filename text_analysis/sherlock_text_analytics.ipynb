{
 "cells": [
  {
   "cell_type": "markdown",
   "metadata": {},
   "source": [
    "# Elementary, My Dear Watson!\n",
    "# Text Analytics Tutorial using Sherlock Holmes Stories"
   ]
  },
  {
   "cell_type": "markdown",
   "metadata": {},
   "source": [
    "In this notebook, I will demonstrate several text analytics techniques that can be used to analyze various text corpora in order to extract various interesting insights from the text. \n",
    "Namely, throughout this notebook, I will use [The Sherlock Holmes Books Collection](https://sherlock-holm.es/) to show how to (a) calculate various textual statistics; (b) create the social network among entities that appear in the books; (c) use a topic model to discover abstract topics in the text; and (d) utilize Word2Vec to find connections among various section of the text, and do some predictions.\n",
    "\n",
    "To perform the text analytics presented in this notebook, we will use [NLTK](http://www.nltk.org/) Python package, [GraphLab Create's](https://turi.com/products/create/) [SFrame](https://turi.com/products/create/docs/generated/graphlab.SFrame.html) and [SGraph](https://turi.com/products/create/docs/generated/graphlab.SGraph.html) objects, as well as GraphLab's [text analytics toolkit](https://turi.com/products/create/docs/graphlab.toolkits.text_analytics.html), and\n",
    "[Word2Vec](https://code.google.com/p/word2vec/) deep learning inspired model implemented in the [Gensim](http://radimrehurek.com/gensim/models/word2vec.html) Python package.\n",
    "\n",
    "\n",
    "The notebook is divided to the following sections:\n",
    "- <a href=\"#setup\">Setup</a>\n",
    "- <a href=\"#prepare\">Preparing and validating the dataset</a>\n",
    "- <a href=\"#stat\">Calculating Various Statistics</a>\n",
    "- <a href=\"#sn\">Constructing Social Networks</a>\n",
    "- <a href=\"#topic\">Topic Models</a>\n",
    "\n",
    "Each section can be executed independently. So feel free to skip ahead, just remember  to import all the required packages, and define all the needed functions.\n",
    "\n",
    "Required Python Packages:\n",
    "- [GraphLab Create](https://turi.com/products/create/quick-start-guide.html) - for classification, data.\n",
    "- [NLTK](http://www.nltk.org/) (including downloading [punkt](http://www.nltk.org/data.html)).\n",
    "- [Stanford Named Entity Recognizer](http://nlp.stanford.edu/software/CRF-NER.shtml) - for named entity recognition. \n",
    "- [Gensim](https://radimrehurek.com/gensim/) - for Word2Vec deep learning.\n",
    " engineering, and evaluation.\n",
    "- [pyLDAvis](https://github.com/bmabey/pyLDAvis) - for topic model visualziation. \n",
    "\n",
    "Let's do some text analytics!"
   ]
  },
  {
   "cell_type": "markdown",
   "metadata": {},
   "source": [
    "## <a id=\"setup\"></a>0. Setup"
   ]
  },
  {
   "cell_type": "markdown",
   "metadata": {},
   "source": [
    "Before we begin, make sure you have installed all the required Python packages. (The instructions below use pip. You can use easy_install, too.) Also, consider using [virtualenv](https://virtualenv.pypa.io/en/latest/) for a cleaner installation experience instead of sudo. I also recommend to run the code via [IPython Notebook](http://ipython.org/notebook.html)."
   ]
  },
  {
   "cell_type": "markdown",
   "metadata": {},
   "source": [
    "<pre>\n",
    "$ sudo pip install --upgrade gensim\n",
    "$ sudo pip install --upgrade nltk\n",
    "$ sudo pip install --upgrade graphlab-create\n",
    "$ sudo pip install --upgrade pyldavis\n",
    "</pre>"
   ]
  },
  {
   "cell_type": "markdown",
   "metadata": {},
   "source": [
    "You will need [a product key for GraphLab Create](https://turi.com/products/create/quick-start-guide.html), and to make [Stanford Named Entity Recognizer work with Pyhton NLTK](http://textminingonline.com/how-to-use-stanford-named-entity-recognizer-ner-in-python-nltk-and-other-programming-languages).\n",
    "\n",
    "After installing NLTK and from an interactive shell download the punkt model by importing nltk and running nltk.download(). From the resulting interactive window navigate to the model tab and select punkt and download to your system. \n",
    "\n",
    "To prepare the Stanford Named Entity Recognizer to work in your system make sure you read the following links : \n",
    "[1 - How to] (http://textminingonline.com/how-to-use-stanford-named-entity-recognizer-ner-in-python-nltk-and-other-programming-languages)\n",
    "[2 - API] (http://www.nltk.org/api/nltk.tag.html#module-nltk.tag.stanford)\n",
    "[3 - Stanford Parser FAQ] (http://nlp.stanford.edu/software/parser-faq.shtml)\n",
    "[4 - download] (http://nlp.stanford.edu/software/CRF-NER.html)\n",
    "5 - In the extracted directory it seems to help to run the stanford-ner.jar file in some computer configurations. \n",
    "\n",
    "Take note of what directory you downloaded and extracted the files to as you will need the location to pass the classifier and Stanford NER as arguments later in this notebook.\n",
    "\n",
    "Also in case you haven’t already, make sure you are running the latest [Java JDK] (http://www.oracle.com/technetwork/java/javase/downloads/index.html)\n",
    "\n",
    "For a quick test you can open an ipython shell and try the following:\n",
    "\n",
    "from nltk.tag import StanfordNERTagger\n",
    "st = StanfordNERTagger(‘[path_to_your_downloaded_package_classifiers_directory]/english.all.3class.distsim.crf.ser.gz', '[path_to_your_downloaded_package_root_directory]/stanford-ner.jar')\n",
    " st.tag('When we turned him over, the Boots recognized him at once as being the same gentleman who had engaged the room under the name of Joseph Stangerson.'.split())\n",
    "\n"
   ]
  },
  {
   "cell_type": "markdown",
   "metadata": {},
   "source": [
    "## <a id=\"prepare\"></a>1. Preparing the Dataset"
   ]
  },
  {
   "cell_type": "markdown",
   "metadata": {},
   "source": [
    "### 1.1 Constructing the Dataset"
   ]
  },
  {
   "cell_type": "markdown",
   "metadata": {},
   "source": [
    "<pre>\n",
    "<i>\"Data! Data! Data!\" he cried impatiently. \"I can't make bricks without clay.\"</i>\n",
    "                                                -The Adventure of the Copper Beeches\n",
    "</pre>"
   ]
  },
  {
   "cell_type": "markdown",
   "metadata": {},
   "source": [
    "Throughout this notebook, we will be analyzing Sherlock Holmes's stories collection. \n",
    "So first, we will download the stories in ASCII format from the [sherlock-holm.es website](https://sherlock-holm.es/). \n",
    "sherlock-holm.es website contains over sixty downloadable stories, we will use the following code to download the stories and insert them into a SFrame object.\n",
    "\n",
    "<b> <u>Important Note:</u></b> in some countries, such as the U.S., few of Sherlock Holmes's books & stories are still under copyright restrictions. For more information, please advise the following [website](http://www.sherlockian.net/acd/copyright.html), and read the guidelines that appear in the end of [sherlock-holm.es ASCII](https://sherlock-holm.es/ascii/) download page. "
   ]
  },
  {
   "cell_type": "code",
   "execution_count": 1,
   "metadata": {
    "collapsed": false
   },
   "outputs": [
    {
     "name": "stdout",
     "output_type": "stream",
     "text": [
      "[{'link': '/stories/plain-text/cano.txt', 'title': 'The Complete Canon'}, {'link': '/stories/plain-text/cnus.txt', 'title': 'The Canon \\xe2\\x80\\x94 U.S. edition'}, {'link': '/stories/plain-text/advs.txt', 'title': 'The Adventures of Sherlock Holmes'}, {'link': '/stories/plain-text/mems.txt', 'title': 'The Memoirs of Sherlock Holmes'}, {'link': '/stories/plain-text/retn.txt', 'title': 'The Return of Sherlock Holmes'}, {'link': '/stories/plain-text/lstb.txt', 'title': 'His Last Bow'}, {'link': '/stories/plain-text/case.txt', 'title': 'The Case-Book of Sherlock Holmes'}, {'link': '/stories/plain-text/stud.txt', 'title': 'A Study In Scarlet'}, {'link': '/stories/plain-text/sign.txt', 'title': 'The Sign of the Four'}, {'link': '/stories/plain-text/houn.txt', 'title': 'The Hound of the Baskervilles'}, {'link': '/stories/plain-text/vall.txt', 'title': 'The Valley of Fear'}, {'link': '/stories/plain-text/scan.txt', 'title': 'A Scandal in Bohemia'}, {'link': '/stories/plain-text/redh.txt', 'title': 'The Red-Headed League'}, {'link': '/stories/plain-text/iden.txt', 'title': 'A Case of Identity'}, {'link': '/stories/plain-text/bosc.txt', 'title': 'The Boscombe Valley Mystery'}, {'link': '/stories/plain-text/five.txt', 'title': 'The Five Orange Pips'}, {'link': '/stories/plain-text/twis.txt', 'title': 'The Man with the Twisted Lip'}, {'link': '/stories/plain-text/blue.txt', 'title': 'The Adventure of the Blue Carbuncle'}, {'link': '/stories/plain-text/spec.txt', 'title': 'The Adventure of the Speckled Band'}, {'link': '/stories/plain-text/engr.txt', 'title': \"The Adventure of the Engineer's Thumb\"}, {'link': '/stories/plain-text/nobl.txt', 'title': 'The Adventure of the Noble Bachelor'}, {'link': '/stories/plain-text/bery.txt', 'title': 'The Adventure of the Beryl Coronet'}, {'link': '/stories/plain-text/copp.txt', 'title': 'The Adventure of the Copper Beeches'}, {'link': '/stories/plain-text/silv.txt', 'title': 'Silver Blaze'}, {'link': '/stories/plain-text/yell.txt', 'title': 'Yellow Face'}, {'link': '/stories/plain-text/stoc.txt', 'title': \"The Stockbroker's Clerk\"}, {'link': '/stories/plain-text/glor.txt', 'title': 'The \\xe2\\x80\\x9cGloria Scott\\xe2\\x80\\x9d'}, {'link': '/stories/plain-text/musg.txt', 'title': 'The Musgrave Ritual'}, {'link': '/stories/plain-text/reig.txt', 'title': 'The Reigate Puzzle'}, {'link': '/stories/plain-text/croo.txt', 'title': 'The Crooked Man'}, {'link': '/stories/plain-text/resi.txt', 'title': 'The Resident Patient'}, {'link': '/stories/plain-text/gree.txt', 'title': 'The Greek Interpreter'}, {'link': '/stories/plain-text/nava.txt', 'title': 'The Naval Treaty'}, {'link': '/stories/plain-text/fina.txt', 'title': 'The Final Problem'}, {'link': '/stories/plain-text/empt.txt', 'title': 'The Empty House'}, {'link': '/stories/plain-text/norw.txt', 'title': 'The Norwood Builder'}, {'link': '/stories/plain-text/danc.txt', 'title': 'The Dancing Men'}, {'link': '/stories/plain-text/soli.txt', 'title': 'The Solitary Cyclist'}, {'link': '/stories/plain-text/prio.txt', 'title': 'The Priory School'}, {'link': '/stories/plain-text/blac.txt', 'title': 'Black Peter'}, {'link': '/stories/plain-text/chas.txt', 'title': 'Charles Augustus Milverton'}, {'link': '/stories/plain-text/sixn.txt', 'title': 'The Six Napoleons'}, {'link': '/stories/plain-text/3stu.txt', 'title': 'The Three Students'}, {'link': '/stories/plain-text/gold.txt', 'title': 'The Golden Pince-Nez'}, {'link': '/stories/plain-text/miss.txt', 'title': 'The Missing Three-Quarter'}, {'link': '/stories/plain-text/abbe.txt', 'title': 'The Abbey Grange'}, {'link': '/stories/plain-text/seco.txt', 'title': 'The Second Stain'}, {'link': '/stories/plain-text/wist.txt', 'title': 'Wisteria Lodge'}, {'link': '/stories/plain-text/card.txt', 'title': 'The Cardboard Box'}, {'link': '/stories/plain-text/redc.txt', 'title': 'The Red Circle'}, {'link': '/stories/plain-text/bruc.txt', 'title': 'The Bruce-Partington Plans'}, {'link': '/stories/plain-text/dyin.txt', 'title': 'The Dying Detective'}, {'link': '/stories/plain-text/lady.txt', 'title': 'Lady Frances Carfax'}, {'link': '/stories/plain-text/devi.txt', 'title': \"The Devil's Foot\"}, {'link': '/stories/plain-text/last.txt', 'title': 'His Last Bow'}, {'link': '/stories/plain-text/illu.txt', 'title': 'The Illustrious Client'}, {'link': '/stories/plain-text/blan.txt', 'title': 'The Blanched Soldier'}, {'link': '/stories/plain-text/maza.txt', 'title': 'The Mazarin Stone'}, {'link': '/stories/plain-text/3gab.txt', 'title': 'The Three Gables'}, {'link': '/stories/plain-text/suss.txt', 'title': 'The Sussex Vampire'}, {'link': '/stories/plain-text/3gar.txt', 'title': 'The Three Garridebs'}, {'link': '/stories/plain-text/thor.txt', 'title': 'Thor Bridge'}, {'link': '/stories/plain-text/cree.txt', 'title': 'The Creeping Man'}, {'link': '/stories/plain-text/lion.txt', 'title': \"The Lion's Mane\"}, {'link': '/stories/plain-text/veil.txt', 'title': 'The Veiled Lodger'}, {'link': '/stories/plain-text/shos.txt', 'title': 'Shoscombe Old Place'}, {'link': '/stories/plain-text/reti.txt', 'title': 'The Retired Colourman'}]\n"
     ]
    }
   ],
   "source": [
    "import re\n",
    "import urllib2\n",
    "import graphlab as gl\n",
    "\n",
    "# NOTE: Update BASE_DIR to your own directory path\n",
    "BASE_DIR = \"~/repos/statistics-indonesia-python/text_analysis/data\" \n",
    "\n",
    "books_url = \"http://sherlock-holm.es/ascii/\"\n",
    "re_books_links = re.compile(\"\\\"piwik_download\\\"\\s+href=\\\"(?P<link>.*?)\\\">(?P<title>.*?)</a>\", re.MULTILINE)\n",
    "html = urllib2.urlopen(books_url).read()\n",
    "books_list = [m.groupdict() for m in re_books_links.finditer(html)]\n",
    "print books_list"
   ]
  },
  {
   "cell_type": "markdown",
   "metadata": {},
   "source": [
    "We got the books' titles and links, now let's download the books' texts. "
   ]
  },
  {
   "cell_type": "code",
   "execution_count": 2,
   "metadata": {
    "collapsed": false
   },
   "outputs": [],
   "source": [
    "# Filter books due to copyright issues. In this code, we filtered \"The Complete Canon\", “Case-Book of Sherlock Holmes” books, and\n",
    "# \"The Canon — U.S. edition\" book (For more information please read the note above).\n",
    "filtered_books = set([\"The Complete Canon\", \"The Case-Book of Sherlock Holmes\", \"The Canon — U.S. edition\" ])\n",
    "books_list = filter(lambda d: d['title'] not in filtered_books, books_list )\n",
    "\n",
    "#Download books' texts (to not overload the website we download the text in batch and not in parallel)\n",
    "for d in books_list:\n",
    "    d['text'] = urllib2.urlopen(\"http://sherlock-holm.es\" + d['link']).read().strip()"
   ]
  },
  {
   "cell_type": "markdown",
   "metadata": {},
   "source": [
    "Let's load the dict list into a SFrame object."
   ]
  },
  {
   "cell_type": "code",
   "execution_count": 3,
   "metadata": {
    "collapsed": false
   },
   "outputs": [
    {
     "name": "stderr",
     "output_type": "stream",
     "text": [
      "[INFO] graphlab.cython.cy_server: GraphLab Create v2.1 started. Logging: /tmp/graphlab_server_1474597246.log\n"
     ]
    },
    {
     "name": "stdout",
     "output_type": "stream",
     "text": [
      "This non-commercial license of GraphLab Create for academic use is assigned to kpolimis@u.washington.edu and will expire on July 29, 2017.\n"
     ]
    },
    {
     "data": {
      "text/html": [
       "<div style=\"max-height:1000px;max-width:1500px;overflow:auto;\"><table frame=\"box\" rules=\"cols\">\n",
       "    <tr>\n",
       "        <th style=\"padding-left: 1em; padding-right: 1em; text-align: center\">link</th>\n",
       "        <th style=\"padding-left: 1em; padding-right: 1em; text-align: center\">text</th>\n",
       "        <th style=\"padding-left: 1em; padding-right: 1em; text-align: center\">title</th>\n",
       "    </tr>\n",
       "    <tr>\n",
       "        <td style=\"padding-left: 1em; padding-right: 1em; text-align: center; vertical-align: top\">/stories/plain-<br>text/advs.txt ...</td>\n",
       "        <td style=\"padding-left: 1em; padding-right: 1em; text-align: center; vertical-align: top\">THE ADVENTURES OF<br>SHERLOCK HOLMES\\n\\n ...</td>\n",
       "        <td style=\"padding-left: 1em; padding-right: 1em; text-align: center; vertical-align: top\">The Adventures of<br>Sherlock Holmes ...</td>\n",
       "    </tr>\n",
       "    <tr>\n",
       "        <td style=\"padding-left: 1em; padding-right: 1em; text-align: center; vertical-align: top\">/stories/plain-<br>text/mems.txt ...</td>\n",
       "        <td style=\"padding-left: 1em; padding-right: 1em; text-align: center; vertical-align: top\">THE MEMOIRS OF SHERLOCK<br>HOLMES\\n\\n ...</td>\n",
       "        <td style=\"padding-left: 1em; padding-right: 1em; text-align: center; vertical-align: top\">The Memoirs of Sherlock<br>Holmes ...</td>\n",
       "    </tr>\n",
       "    <tr>\n",
       "        <td style=\"padding-left: 1em; padding-right: 1em; text-align: center; vertical-align: top\">/stories/plain-<br>text/retn.txt ...</td>\n",
       "        <td style=\"padding-left: 1em; padding-right: 1em; text-align: center; vertical-align: top\">THE RETURN OF SHERLOCK<br>HOLMES\\n\\n ...</td>\n",
       "        <td style=\"padding-left: 1em; padding-right: 1em; text-align: center; vertical-align: top\">The Return of Sherlock<br>Holmes ...</td>\n",
       "    </tr>\n",
       "</table>\n",
       "[3 rows x 3 columns]<br/>\n",
       "</div>"
      ],
      "text/plain": [
       "Columns:\n",
       "\tlink\tstr\n",
       "\ttext\tstr\n",
       "\ttitle\tstr\n",
       "\n",
       "Rows: 3\n",
       "\n",
       "Data:\n",
       "+------------------------------+-------------------------------+\n",
       "|             link             |              text             |\n",
       "+------------------------------+-------------------------------+\n",
       "| /stories/plain-text/advs.txt | THE ADVENTURES OF SHERLOCK... |\n",
       "| /stories/plain-text/mems.txt | THE MEMOIRS OF SHERLOCK HO... |\n",
       "| /stories/plain-text/retn.txt | THE RETURN OF SHERLOCK HOL... |\n",
       "+------------------------------+-------------------------------+\n",
       "+--------------------------------+\n",
       "|             title              |\n",
       "+--------------------------------+\n",
       "| The Adventures of Sherlock...  |\n",
       "| The Memoirs of Sherlock Holmes |\n",
       "| The Return of Sherlock Holmes  |\n",
       "+--------------------------------+\n",
       "[3 rows x 3 columns]"
      ]
     },
     "execution_count": 3,
     "metadata": {},
     "output_type": "execute_result"
    }
   ],
   "source": [
    "sf = gl.SFrame(books_list).unpack(\"X1\", column_name_prefix=\"\")\n",
    "sf.save(\"%s/books.sframe\" % BASE_DIR)\n",
    "sf.head(3)"
   ]
  },
  {
   "cell_type": "markdown",
   "metadata": {},
   "source": [
    "## <a id=\"stat\"></a>2. Calculating Various Statistics"
   ]
  },
  {
   "cell_type": "markdown",
   "metadata": {},
   "source": [
    "In this section, I will demonstrate  how it is very straight-forward to utilize GraphLab Create SFrame object to calculate & visualize various statistics.\n",
    "\n",
    "In previous section, we created a SFrame object which consists of 64 texts. Let us first load the SFrame object."
   ]
  },
  {
   "cell_type": "code",
   "execution_count": 4,
   "metadata": {
    "collapsed": false
   },
   "outputs": [],
   "source": [
    "import graphlab as gl\n",
    "import re\n",
    "\n",
    "# NOTE: Update BASE_DIR to your own directory path\n",
    "BASE_DIR = \"~/repos/statistics-indonesia-python/text_analysis/data\" \n",
    "gl.canvas.set_target('ipynb')\n",
    "sf = gl.load_sframe(\"%s\\\\books.sframe\" % BASE_DIR)"
   ]
  },
  {
   "cell_type": "markdown",
   "metadata": {},
   "source": [
    "Using Python, it is very easy to calculate the number of characters  in a text, we just need to use the built-in [len function](https://docs.python.org/2/library/functions.html#len). Let's calculate the number of characters  in each downloaded text using the the <i>len</i> function and SArray's [<i>apply</i> function](https://turi.com/products/create/docs/generated/graphlab.SArray.apply.html#graphlab.SArray.apply) (notice that each column in a [SFrame object](https://turi.com/products/create/docs/generated/graphlab.SFrame.html) is a [SArray object](https://turi.com/products/create/docs/generated/graphlab.SArray.html?highlight=sarray))."
   ]
  },
  {
   "cell_type": "code",
   "execution_count": 5,
   "metadata": {
    "collapsed": false
   },
   "outputs": [
    {
     "data": {
      "text/html": [
       "<div style=\"max-height:1000px;max-width:1500px;overflow:auto;\"><table frame=\"box\" rules=\"cols\">\n",
       "    <tr>\n",
       "        <th style=\"padding-left: 1em; padding-right: 1em; text-align: center\">link</th>\n",
       "        <th style=\"padding-left: 1em; padding-right: 1em; text-align: center\">text</th>\n",
       "        <th style=\"padding-left: 1em; padding-right: 1em; text-align: center\">title</th>\n",
       "        <th style=\"padding-left: 1em; padding-right: 1em; text-align: center\">chars_num</th>\n",
       "    </tr>\n",
       "    <tr>\n",
       "        <td style=\"padding-left: 1em; padding-right: 1em; text-align: center; vertical-align: top\">/stories/plain-<br>text/advs.txt ...</td>\n",
       "        <td style=\"padding-left: 1em; padding-right: 1em; text-align: center; vertical-align: top\">THE ADVENTURES OF<br>SHERLOCK HOLMES\\n\\n ...</td>\n",
       "        <td style=\"padding-left: 1em; padding-right: 1em; text-align: center; vertical-align: top\">The Adventures of<br>Sherlock Holmes ...</td>\n",
       "        <td style=\"padding-left: 1em; padding-right: 1em; text-align: center; vertical-align: top\">610886</td>\n",
       "    </tr>\n",
       "    <tr>\n",
       "        <td style=\"padding-left: 1em; padding-right: 1em; text-align: center; vertical-align: top\">/stories/plain-<br>text/mems.txt ...</td>\n",
       "        <td style=\"padding-left: 1em; padding-right: 1em; text-align: center; vertical-align: top\">THE MEMOIRS OF SHERLOCK<br>HOLMES\\n\\n ...</td>\n",
       "        <td style=\"padding-left: 1em; padding-right: 1em; text-align: center; vertical-align: top\">The Memoirs of Sherlock<br>Holmes ...</td>\n",
       "        <td style=\"padding-left: 1em; padding-right: 1em; text-align: center; vertical-align: top\">511747</td>\n",
       "    </tr>\n",
       "    <tr>\n",
       "        <td style=\"padding-left: 1em; padding-right: 1em; text-align: center; vertical-align: top\">/stories/plain-<br>text/retn.txt ...</td>\n",
       "        <td style=\"padding-left: 1em; padding-right: 1em; text-align: center; vertical-align: top\">THE RETURN OF SHERLOCK<br>HOLMES\\n\\n ...</td>\n",
       "        <td style=\"padding-left: 1em; padding-right: 1em; text-align: center; vertical-align: top\">The Return of Sherlock<br>Holmes ...</td>\n",
       "        <td style=\"padding-left: 1em; padding-right: 1em; text-align: center; vertical-align: top\">662242</td>\n",
       "    </tr>\n",
       "</table>\n",
       "[3 rows x 4 columns]<br/>\n",
       "</div>"
      ],
      "text/plain": [
       "Columns:\n",
       "\tlink\tstr\n",
       "\ttext\tstr\n",
       "\ttitle\tstr\n",
       "\tchars_num\tint\n",
       "\n",
       "Rows: 3\n",
       "\n",
       "Data:\n",
       "+------------------------------+-------------------------------+\n",
       "|             link             |              text             |\n",
       "+------------------------------+-------------------------------+\n",
       "| /stories/plain-text/advs.txt | THE ADVENTURES OF SHERLOCK... |\n",
       "| /stories/plain-text/mems.txt | THE MEMOIRS OF SHERLOCK HO... |\n",
       "| /stories/plain-text/retn.txt | THE RETURN OF SHERLOCK HOL... |\n",
       "+------------------------------+-------------------------------+\n",
       "+--------------------------------+-----------+\n",
       "|             title              | chars_num |\n",
       "+--------------------------------+-----------+\n",
       "| The Adventures of Sherlock...  |   610886  |\n",
       "| The Memoirs of Sherlock Holmes |   511747  |\n",
       "| The Return of Sherlock Holmes  |   662242  |\n",
       "+--------------------------------+-----------+\n",
       "[3 rows x 4 columns]"
      ]
     },
     "execution_count": 5,
     "metadata": {},
     "output_type": "execute_result"
    }
   ],
   "source": [
    "sf['chars_num'] = sf['text'].apply(lambda t: len(t))\n",
    "sf.head(3)"
   ]
  },
  {
   "cell_type": "markdown",
   "metadata": {},
   "source": [
    "Let's use the [show function](https://turi.com/products/create/docs/generated/graphlab.SArray.show.html) to visualize  the distribution  of text length in each one of our downloaded text."
   ]
  },
  {
   "cell_type": "code",
   "execution_count": 6,
   "metadata": {
    "collapsed": false
   },
   "outputs": [
    {
     "data": {
      "application/javascript": [
       "$(\"head\").append($(\"<link/>\").attr({\n",
       "  rel:  \"stylesheet\",\n",
       "  type: \"text/css\",\n",
       "  href: \"//cdnjs.cloudflare.com/ajax/libs/font-awesome/4.1.0/css/font-awesome.min.css\"\n",
       "}));\n",
       "$(\"head\").append($(\"<link/>\").attr({\n",
       "  rel:  \"stylesheet\",\n",
       "  type: \"text/css\",\n",
       "  href: \"https://static.turi.com/products/graphlab-create/2.1/canvas/css/canvas.css\"\n",
       "}));\n",
       "\n",
       "            (function(){\n",
       "\n",
       "                var e = null;\n",
       "                if (typeof element == 'undefined') {\n",
       "                    var scripts = document.getElementsByTagName('script');\n",
       "                    var thisScriptTag = scripts[scripts.length-1];\n",
       "                    var parentDiv = thisScriptTag.parentNode;\n",
       "                    e = document.createElement('div');\n",
       "                    parentDiv.appendChild(e);\n",
       "                } else {\n",
       "                    e = element[0];\n",
       "                }\n",
       "\n",
       "                if (typeof requirejs !== 'undefined') {\n",
       "                    // disable load timeout; ipython_app.js is large and can take a while to load.\n",
       "                    requirejs.config({waitSeconds: 0});\n",
       "                }\n",
       "\n",
       "                require(['https://static.turi.com/products/graphlab-create/2.1/canvas/js/ipython_app.js'], function(IPythonApp){\n",
       "                    var app = new IPythonApp();\n",
       "                    app.attachView('sarray','Numeric', {\"ipython\": true, \"sketch\": {\"std\": 134594.53590457857, \"complete\": true, \"min\": 26234.0, \"max\": 662242.0, \"quantile\": [26234.0, 26234.0, 33400.0, 33400.0, 34513.0, 34709.0, 34709.0, 35907.0, 35973.0, 35973.0, 36435.0, 36798.0, 36798.0, 36830.0, 36830.0, 38779.0, 40212.0, 40212.0, 40305.0, 40445.0, 40445.0, 41651.0, 42184.0, 42184.0, 42457.0, 42624.0, 42624.0, 42936.0, 42936.0, 42947.0, 43391.0, 43391.0, 43688.0, 43821.0, 43821.0, 44698.0, 45342.0, 45342.0, 45461.0, 45461.0, 46241.0, 46317.0, 46317.0, 46409.0, 46441.0, 46441.0, 48044.0, 48477.0, 48477.0, 48521.0, 48931.0, 48931.0, 49254.0, 49254.0, 50194.0, 51396.0, 51396.0, 51745.0, 53030.0, 53030.0, 53342.0, 53938.0, 53938.0, 54142.0, 54142.0, 55229.0, 55886.0, 55886.0, 56223.0, 56690.0, 56690.0, 57280.0, 57470.0, 57470.0, 57536.0, 58039.0, 58039.0, 58042.0, 58042.0, 58358.0, 60289.0, 60289.0, 64945.0, 68260.0, 68260.0, 68476.0, 74759.0, 74759.0, 251814.0, 251814.0, 260051.0, 340223.0, 340223.0, 346404.0, 402296.0, 402296.0, 511747.0, 610886.0, 610886.0, 662242.0, 662242.0], \"median\": 48931.0, \"numeric\": true, \"num_unique\": 64, \"num_undefined\": 0, \"var\": 18115689095.368893, \"progress\": 1.0, \"size\": 64, \"frequent_items\": {\"42624\": {\"frequency\": 1, \"value\": 42624}, \"60289\": {\"frequency\": 1, \"value\": 60289}, \"511747\": {\"frequency\": 1, \"value\": 511747}, \"57280\": {\"frequency\": 1, \"value\": 57280}, \"35973\": {\"frequency\": 1, \"value\": 35973}, \"74759\": {\"frequency\": 1, \"value\": 74759}, \"48521\": {\"frequency\": 1, \"value\": 48521}, \"34709\": {\"frequency\": 1, \"value\": 34709}, \"50194\": {\"frequency\": 1, \"value\": 50194}, \"42947\": {\"frequency\": 1, \"value\": 42947}, \"40212\": {\"frequency\": 1, \"value\": 40212}, \"45461\": {\"frequency\": 1, \"value\": 45461}, \"44698\": {\"frequency\": 1, \"value\": 44698}, \"45342\": {\"frequency\": 1, \"value\": 45342}, \"56223\": {\"frequency\": 1, \"value\": 56223}, \"51745\": {\"frequency\": 1, \"value\": 51745}, \"48931\": {\"frequency\": 1, \"value\": 48931}, \"68260\": {\"frequency\": 1, \"value\": 68260}, \"251814\": {\"frequency\": 1, \"value\": 251814}, \"43688\": {\"frequency\": 1, \"value\": 43688}, \"33400\": {\"frequency\": 1, \"value\": 33400}, \"48044\": {\"frequency\": 1, \"value\": 48044}, \"43821\": {\"frequency\": 1, \"value\": 43821}, \"64945\": {\"frequency\": 1, \"value\": 64945}, \"53938\": {\"frequency\": 1, \"value\": 53938}, \"41651\": {\"frequency\": 1, \"value\": 41651}, \"36830\": {\"frequency\": 1, \"value\": 36830}, \"58039\": {\"frequency\": 1, \"value\": 58039}, \"42936\": {\"frequency\": 1, \"value\": 42936}, \"58042\": {\"frequency\": 1, \"value\": 58042}, \"55229\": {\"frequency\": 1, \"value\": 55229}, \"36798\": {\"frequency\": 1, \"value\": 36798}, \"57536\": {\"frequency\": 1, \"value\": 57536}, \"35907\": {\"frequency\": 1, \"value\": 35907}, \"51396\": {\"frequency\": 1, \"value\": 51396}, \"58358\": {\"frequency\": 1, \"value\": 58358}, \"610886\": {\"frequency\": 1, \"value\": 610886}, \"46241\": {\"frequency\": 1, \"value\": 46241}, \"42184\": {\"frequency\": 1, \"value\": 42184}, \"46409\": {\"frequency\": 1, \"value\": 46409}, \"55886\": {\"frequency\": 1, \"value\": 55886}, \"34513\": {\"frequency\": 1, \"value\": 34513}, \"260051\": {\"frequency\": 1, \"value\": 260051}, \"42457\": {\"frequency\": 1, \"value\": 42457}, \"48477\": {\"frequency\": 1, \"value\": 48477}, \"53342\": {\"frequency\": 1, \"value\": 53342}, \"662242\": {\"frequency\": 1, \"value\": 662242}, \"38779\": {\"frequency\": 1, \"value\": 38779}, \"53030\": {\"frequency\": 1, \"value\": 53030}, \"49254\": {\"frequency\": 1, \"value\": 49254}, \"46441\": {\"frequency\": 1, \"value\": 46441}, \"46317\": {\"frequency\": 1, \"value\": 46317}, \"40305\": {\"frequency\": 1, \"value\": 40305}, \"56690\": {\"frequency\": 1, \"value\": 56690}, \"36435\": {\"frequency\": 1, \"value\": 36435}, \"57470\": {\"frequency\": 1, \"value\": 57470}, \"346404\": {\"frequency\": 1, \"value\": 346404}, \"402296\": {\"frequency\": 1, \"value\": 402296}, \"26234\": {\"frequency\": 1, \"value\": 26234}, \"340223\": {\"frequency\": 1, \"value\": 340223}, \"68476\": {\"frequency\": 1, \"value\": 68476}, \"40445\": {\"frequency\": 1, \"value\": 40445}, \"54142\": {\"frequency\": 1, \"value\": 54142}, \"43391\": {\"frequency\": 1, \"value\": 43391}}, \"mean\": 95020.42187499999}, \"selected_variable\": {\"name\": [\"<SArray>\"], \"dtype\": \"int\", \"view_component\": \"Numeric\", \"view_file\": \"sarray\", \"descriptives\": {\"rows\": 64}, \"type\": \"SArray\", \"view_components\": [\"Numeric\", \"Categorical\"]}, \"histogram\": {\"progress\": 1.0, \"histogram\": {\"max\": 667593.5079999999, \"bins\": [55, 1, 0, 0, 2, 1, 1, 1, 0, 1, 1, 1], \"min\": 20414.11600000001}, \"min\": 26234, \"complete\": 1, \"max\": 662242}}, e);\n",
       "                });\n",
       "            })();\n",
       "        "
      ]
     },
     "metadata": {},
     "output_type": "display_data"
    }
   ],
   "source": [
    "sf['chars_num'].show()"
   ]
  },
  {
   "cell_type": "markdown",
   "metadata": {},
   "source": [
    "We can see that the mean characters  number in the download stories is 95020.42, and the maximal number of characters  in a story is 662,242 characters.\n",
    "Let's also calculate  the number of words in each text. Calculating the number of words in a text is little trickier and there are several methods to perform this task. Using one of the following methods:"
   ]
  },
  {
   "cell_type": "code",
   "execution_count": 7,
   "metadata": {
    "collapsed": false
   },
   "outputs": [
    {
     "name": "stdout",
     "output_type": "stream",
     "text": [
      "['I', 'think', 'that', 'you', 'know', 'me', 'well', 'enough,', 'Watson,', 'to', 'understand', 'that', 'I', 'am', 'by', 'no', 'means', 'a', 'nervous', 'man.', 'At', 'the', 'same', 'time,', 'it', 'is', 'stupidity', 'rather', 'than', 'courage', 'to', 'refuse', 'to', 'recognize', 'danger', 'when', 'it', 'is', 'close', 'upon', 'you.']\n"
     ]
    }
   ],
   "source": [
    "text = \"\"\"I think that you know me well enough, Watson, to understand that I am by no means a nervous man. At the same time,\n",
    "it is stupidity rather than courage to refuse to recognize danger when it is close upon you.\"\"\"\n",
    "\n",
    "#using the split function\n",
    "print text.split()"
   ]
  },
  {
   "cell_type": "code",
   "execution_count": 8,
   "metadata": {
    "collapsed": false
   },
   "outputs": [
    {
     "name": "stdout",
     "output_type": "stream",
     "text": [
      "['I', 'think', 'that', 'you', 'know', 'me', 'well', 'enough', ',', 'Watson', ',', 'to', 'understand', 'that', 'I', 'am', 'by', 'no', 'means', 'a', 'nervous', 'man', '.', 'At', 'the', 'same', 'time', ',', 'it', 'is', 'stupidity', 'rather', 'than', 'courage', 'to', 'refuse', 'to', 'recognize', 'danger', 'when', 'it', 'is', 'close', 'upon', 'you', '.']\n"
     ]
    }
   ],
   "source": [
    "#Using NLTK \n",
    "#Note: Remember to download the NLTK's punkt package by running nltk.download() from the Interactive Python Shell\n",
    "import nltk\n",
    "print nltk.word_tokenize(text)"
   ]
  },
  {
   "cell_type": "markdown",
   "metadata": {},
   "source": [
    "You can see that both using the split function, or using the regular expression work pretty-well. \n",
    "However, it is important to notice, that the first regular expression can mistakenly split words, \n",
    "such as \"S.H.\" into two words, while the split function doesn't remove punctuation. \n",
    "Therefore, if we want to be precise, we can use the NLTK's tokenize package and remove punctuation from the results.\n",
    "Nevertheless, for our case, it is good enough to use the regular expression method to count words."
   ]
  },
  {
   "cell_type": "code",
   "execution_count": 9,
   "metadata": {
    "collapsed": true
   },
   "outputs": [],
   "source": [
    "re_words_split = re.compile(\"(\\w+)\")"
   ]
  },
  {
   "cell_type": "code",
   "execution_count": 10,
   "metadata": {
    "collapsed": false
   },
   "outputs": [],
   "source": [
    "sf['words_num'] = sf['text'].apply(lambda t: len(re_words_split.findall(t)))"
   ]
  },
  {
   "cell_type": "markdown",
   "metadata": {},
   "source": [
    "We can also use NLTK to count the number of sentences in each story."
   ]
  },
  {
   "cell_type": "code",
   "execution_count": 11,
   "metadata": {
    "collapsed": false
   },
   "outputs": [],
   "source": [
    "tokenizer = nltk.data.load('tokenizers/punkt/english.pickle')\n",
    "def txt2sentences(txt, remove_none_english_chars=True):\n",
    "    \"\"\"\n",
    "    Split the English text into sentences using NLTK\n",
    "    :param txt: input text.    \n",
    "    :param remove_none_english_chars: if True then remove none English chars from text\n",
    "    :return: string in which each line consists of single sentence from the original input text.\n",
    "    :rtype: str\n",
    "    \"\"\"        \n",
    "    # decode to utf8 to avoid encoding problems - if someone has better idea how to solve encoding \n",
    "    # problem I will love to learn about it.     \n",
    "    txt = txt.decode(\"utf8\") \n",
    "    # split text into sentences using NLTK package\n",
    "    for s in tokenizer.tokenize(txt):\n",
    "        if remove_none_english_chars:\n",
    "            #remove none English chars\n",
    "            s = re.sub(\"[^a-zA-Z]\", \" \", s)\n",
    "        yield s\n",
    "\n",
    "sf['sentences_num'] = sf['text'].apply(lambda t: len(list(txt2sentences(t))))"
   ]
  },
  {
   "cell_type": "code",
   "execution_count": 12,
   "metadata": {
    "collapsed": false
   },
   "outputs": [
    {
     "data": {
      "application/javascript": [
       "$(\"head\").append($(\"<link/>\").attr({\n",
       "  rel:  \"stylesheet\",\n",
       "  type: \"text/css\",\n",
       "  href: \"//cdnjs.cloudflare.com/ajax/libs/font-awesome/4.1.0/css/font-awesome.min.css\"\n",
       "}));\n",
       "$(\"head\").append($(\"<link/>\").attr({\n",
       "  rel:  \"stylesheet\",\n",
       "  type: \"text/css\",\n",
       "  href: \"https://static.turi.com/products/graphlab-create/2.1/canvas/css/canvas.css\"\n",
       "}));\n",
       "\n",
       "            (function(){\n",
       "\n",
       "                var e = null;\n",
       "                if (typeof element == 'undefined') {\n",
       "                    var scripts = document.getElementsByTagName('script');\n",
       "                    var thisScriptTag = scripts[scripts.length-1];\n",
       "                    var parentDiv = thisScriptTag.parentNode;\n",
       "                    e = document.createElement('div');\n",
       "                    parentDiv.appendChild(e);\n",
       "                } else {\n",
       "                    e = element[0];\n",
       "                }\n",
       "\n",
       "                if (typeof requirejs !== 'undefined') {\n",
       "                    // disable load timeout; ipython_app.js is large and can take a while to load.\n",
       "                    requirejs.config({waitSeconds: 0});\n",
       "                }\n",
       "\n",
       "                require(['https://static.turi.com/products/graphlab-create/2.1/canvas/js/ipython_app.js'], function(IPythonApp){\n",
       "                    var app = new IPythonApp();\n",
       "                    app.attachView('sframe','Summary', {\"ipython\": true, \"sketch\": {\"sentences_num\": {\"std\": 1546.2633518490586, \"complete\": true, \"min\": 334.0, \"max\": 7807.0, \"quantile\": [334.0, 334.0, 401.0, 401.0, 407.0, 409.0, 409.0, 417.0, 435.0, 435.0, 438.0, 448.0, 448.0, 449.0, 449.0, 462.0, 472.0, 472.0, 472.0, 474.0, 474.0, 479.0, 499.0, 499.0, 506.0, 511.0, 511.0, 515.0, 515.0, 518.0, 523.0, 523.0, 525.0, 532.0, 532.0, 535.0, 540.0, 540.0, 541.0, 541.0, 543.0, 552.0, 552.0, 558.0, 561.0, 561.0, 564.0, 566.0, 566.0, 566.0, 572.0, 572.0, 578.0, 578.0, 592.0, 595.0, 595.0, 599.0, 611.0, 611.0, 612.0, 617.0, 617.0, 623.0, 623.0, 627.0, 629.0, 629.0, 633.0, 634.0, 634.0, 643.0, 662.0, 662.0, 668.0, 673.0, 673.0, 693.0, 693.0, 718.0, 760.0, 760.0, 798.0, 885.0, 885.0, 892.0, 923.0, 923.0, 2699.0, 2699.0, 2930.0, 3875.0, 3875.0, 4268.0, 5086.0, 5086.0, 5502.0, 6815.0, 6815.0, 7807.0, 7807.0], \"median\": 572.0, \"numeric\": true, \"num_unique\": 62, \"num_undefined\": 0, \"var\": 2390930.3532714853, \"progress\": 1.0, \"size\": 64, \"frequent_items\": {\"643\": {\"frequency\": 1, \"value\": 643}, \"518\": {\"frequency\": 1, \"value\": 518}, \"2699\": {\"frequency\": 1, \"value\": 2699}, \"525\": {\"frequency\": 1, \"value\": 525}, \"401\": {\"frequency\": 1, \"value\": 401}, \"515\": {\"frequency\": 1, \"value\": 515}, \"532\": {\"frequency\": 1, \"value\": 532}, \"662\": {\"frequency\": 1, \"value\": 662}, \"407\": {\"frequency\": 1, \"value\": 407}, \"409\": {\"frequency\": 1, \"value\": 409}, \"923\": {\"frequency\": 1, \"value\": 923}, \"540\": {\"frequency\": 1, \"value\": 540}, \"541\": {\"frequency\": 1, \"value\": 541}, \"798\": {\"frequency\": 1, \"value\": 798}, \"6815\": {\"frequency\": 1, \"value\": 6815}, \"673\": {\"frequency\": 1, \"value\": 673}, \"3875\": {\"frequency\": 1, \"value\": 3875}, \"552\": {\"frequency\": 1, \"value\": 552}, \"668\": {\"frequency\": 1, \"value\": 668}, \"4268\": {\"frequency\": 1, \"value\": 4268}, \"558\": {\"frequency\": 1, \"value\": 558}, \"561\": {\"frequency\": 1, \"value\": 561}, \"435\": {\"frequency\": 1, \"value\": 435}, \"564\": {\"frequency\": 1, \"value\": 564}, \"693\": {\"frequency\": 1, \"value\": 693}, \"438\": {\"frequency\": 1, \"value\": 438}, \"462\": {\"frequency\": 1, \"value\": 462}, \"543\": {\"frequency\": 1, \"value\": 543}, \"572\": {\"frequency\": 1, \"value\": 572}, \"885\": {\"frequency\": 1, \"value\": 885}, \"448\": {\"frequency\": 1, \"value\": 448}, \"449\": {\"frequency\": 1, \"value\": 449}, \"578\": {\"frequency\": 1, \"value\": 578}, \"523\": {\"frequency\": 1, \"value\": 523}, \"566\": {\"frequency\": 2, \"value\": 566}, \"417\": {\"frequency\": 1, \"value\": 417}, \"535\": {\"frequency\": 1, \"value\": 535}, \"718\": {\"frequency\": 1, \"value\": 718}, \"592\": {\"frequency\": 1, \"value\": 592}, \"595\": {\"frequency\": 1, \"value\": 595}, \"334\": {\"frequency\": 1, \"value\": 334}, \"599\": {\"frequency\": 1, \"value\": 599}, \"472\": {\"frequency\": 2, \"value\": 472}, \"474\": {\"frequency\": 1, \"value\": 474}, \"506\": {\"frequency\": 1, \"value\": 506}, \"5086\": {\"frequency\": 1, \"value\": 5086}, \"479\": {\"frequency\": 1, \"value\": 479}, \"627\": {\"frequency\": 1, \"value\": 627}, \"611\": {\"frequency\": 1, \"value\": 611}, \"612\": {\"frequency\": 1, \"value\": 612}, \"617\": {\"frequency\": 1, \"value\": 617}, \"623\": {\"frequency\": 1, \"value\": 623}, \"2930\": {\"frequency\": 1, \"value\": 2930}, \"499\": {\"frequency\": 1, \"value\": 499}, \"629\": {\"frequency\": 1, \"value\": 629}, \"760\": {\"frequency\": 1, \"value\": 760}, \"633\": {\"frequency\": 1, \"value\": 633}, \"634\": {\"frequency\": 1, \"value\": 634}, \"511\": {\"frequency\": 1, \"value\": 511}, \"892\": {\"frequency\": 1, \"value\": 892}, \"5502\": {\"frequency\": 1, \"value\": 5502}, \"7807\": {\"frequency\": 1, \"value\": 7807}}, \"mean\": 1108.9218750000002}, \"chars_num\": {\"std\": 134594.53590457857, \"complete\": true, \"min\": 26234.0, \"max\": 662242.0, \"quantile\": [26234.0, 26234.0, 33400.0, 33400.0, 34513.0, 34709.0, 34709.0, 35907.0, 35973.0, 35973.0, 36435.0, 36798.0, 36798.0, 36830.0, 36830.0, 38779.0, 40212.0, 40212.0, 40305.0, 40445.0, 40445.0, 41651.0, 42184.0, 42184.0, 42457.0, 42624.0, 42624.0, 42936.0, 42936.0, 42947.0, 43391.0, 43391.0, 43688.0, 43821.0, 43821.0, 44698.0, 45342.0, 45342.0, 45461.0, 45461.0, 46241.0, 46317.0, 46317.0, 46409.0, 46441.0, 46441.0, 48044.0, 48477.0, 48477.0, 48521.0, 48931.0, 48931.0, 49254.0, 49254.0, 50194.0, 51396.0, 51396.0, 51745.0, 53030.0, 53030.0, 53342.0, 53938.0, 53938.0, 54142.0, 54142.0, 55229.0, 55886.0, 55886.0, 56223.0, 56690.0, 56690.0, 57280.0, 57470.0, 57470.0, 57536.0, 58039.0, 58039.0, 58042.0, 58042.0, 58358.0, 60289.0, 60289.0, 64945.0, 68260.0, 68260.0, 68476.0, 74759.0, 74759.0, 251814.0, 251814.0, 260051.0, 340223.0, 340223.0, 346404.0, 402296.0, 402296.0, 511747.0, 610886.0, 610886.0, 662242.0, 662242.0], \"median\": 48931.0, \"numeric\": true, \"num_unique\": 64, \"num_undefined\": 0, \"var\": 18115689095.368893, \"progress\": 1.0, \"size\": 64, \"frequent_items\": {\"42624\": {\"frequency\": 1, \"value\": 42624}, \"60289\": {\"frequency\": 1, \"value\": 60289}, \"511747\": {\"frequency\": 1, \"value\": 511747}, \"57280\": {\"frequency\": 1, \"value\": 57280}, \"35973\": {\"frequency\": 1, \"value\": 35973}, \"74759\": {\"frequency\": 1, \"value\": 74759}, \"48521\": {\"frequency\": 1, \"value\": 48521}, \"34709\": {\"frequency\": 1, \"value\": 34709}, \"50194\": {\"frequency\": 1, \"value\": 50194}, \"42947\": {\"frequency\": 1, \"value\": 42947}, \"40212\": {\"frequency\": 1, \"value\": 40212}, \"45461\": {\"frequency\": 1, \"value\": 45461}, \"44698\": {\"frequency\": 1, \"value\": 44698}, \"45342\": {\"frequency\": 1, \"value\": 45342}, \"56223\": {\"frequency\": 1, \"value\": 56223}, \"51745\": {\"frequency\": 1, \"value\": 51745}, \"48931\": {\"frequency\": 1, \"value\": 48931}, \"68260\": {\"frequency\": 1, \"value\": 68260}, \"251814\": {\"frequency\": 1, \"value\": 251814}, \"43688\": {\"frequency\": 1, \"value\": 43688}, \"33400\": {\"frequency\": 1, \"value\": 33400}, \"48044\": {\"frequency\": 1, \"value\": 48044}, \"43821\": {\"frequency\": 1, \"value\": 43821}, \"64945\": {\"frequency\": 1, \"value\": 64945}, \"53938\": {\"frequency\": 1, \"value\": 53938}, \"41651\": {\"frequency\": 1, \"value\": 41651}, \"36830\": {\"frequency\": 1, \"value\": 36830}, \"58039\": {\"frequency\": 1, \"value\": 58039}, \"42936\": {\"frequency\": 1, \"value\": 42936}, \"58042\": {\"frequency\": 1, \"value\": 58042}, \"55229\": {\"frequency\": 1, \"value\": 55229}, \"36798\": {\"frequency\": 1, \"value\": 36798}, \"57536\": {\"frequency\": 1, \"value\": 57536}, \"35907\": {\"frequency\": 1, \"value\": 35907}, \"51396\": {\"frequency\": 1, \"value\": 51396}, \"58358\": {\"frequency\": 1, \"value\": 58358}, \"610886\": {\"frequency\": 1, \"value\": 610886}, \"46241\": {\"frequency\": 1, \"value\": 46241}, \"42184\": {\"frequency\": 1, \"value\": 42184}, \"46409\": {\"frequency\": 1, \"value\": 46409}, \"55886\": {\"frequency\": 1, \"value\": 55886}, \"34513\": {\"frequency\": 1, \"value\": 34513}, \"260051\": {\"frequency\": 1, \"value\": 260051}, \"42457\": {\"frequency\": 1, \"value\": 42457}, \"48477\": {\"frequency\": 1, \"value\": 48477}, \"53342\": {\"frequency\": 1, \"value\": 53342}, \"662242\": {\"frequency\": 1, \"value\": 662242}, \"38779\": {\"frequency\": 1, \"value\": 38779}, \"53030\": {\"frequency\": 1, \"value\": 53030}, \"49254\": {\"frequency\": 1, \"value\": 49254}, \"46441\": {\"frequency\": 1, \"value\": 46441}, \"46317\": {\"frequency\": 1, \"value\": 46317}, \"40305\": {\"frequency\": 1, \"value\": 40305}, \"56690\": {\"frequency\": 1, \"value\": 56690}, \"36435\": {\"frequency\": 1, \"value\": 36435}, \"57470\": {\"frequency\": 1, \"value\": 57470}, \"346404\": {\"frequency\": 1, \"value\": 346404}, \"402296\": {\"frequency\": 1, \"value\": 402296}, \"26234\": {\"frequency\": 1, \"value\": 26234}, \"340223\": {\"frequency\": 1, \"value\": 340223}, \"68476\": {\"frequency\": 1, \"value\": 68476}, \"40445\": {\"frequency\": 1, \"value\": 40445}, \"54142\": {\"frequency\": 1, \"value\": 54142}, \"43391\": {\"frequency\": 1, \"value\": 43391}}, \"mean\": 95020.42187499999}, \"words_num\": {\"std\": 23280.89778114439, \"complete\": true, \"min\": 4622.0, \"max\": 114461.0, \"quantile\": [4622.0, 4622.0, 5698.0, 5698.0, 5910.0, 5986.0, 5986.0, 6137.0, 6285.0, 6285.0, 6303.0, 6394.0, 6394.0, 6470.0, 6470.0, 6649.0, 6825.0, 6825.0, 6940.0, 6991.0, 6991.0, 7163.0, 7190.0, 7190.0, 7317.0, 7339.0, 7339.0, 7378.0, 7378.0, 7447.0, 7498.0, 7498.0, 7555.0, 7677.0, 7677.0, 7759.0, 7850.0, 7850.0, 7891.0, 7891.0, 7899.0, 8051.0, 8051.0, 8067.0, 8068.0, 8068.0, 8310.0, 8317.0, 8317.0, 8358.0, 8483.0, 8483.0, 8581.0, 8581.0, 8752.0, 8839.0, 8839.0, 8917.0, 9217.0, 9217.0, 9371.0, 9412.0, 9412.0, 9445.0, 9445.0, 9482.0, 9821.0, 9821.0, 9828.0, 9829.0, 9829.0, 9864.0, 9897.0, 9897.0, 9960.0, 10025.0, 10025.0, 10035.0, 10035.0, 10148.0, 10181.0, 10181.0, 10916.0, 11671.0, 11671.0, 11732.0, 12901.0, 12901.0, 43956.0, 43956.0, 44210.0, 59099.0, 59099.0, 60104.0, 68922.0, 68922.0, 88497.0, 106040.0, 106040.0, 114461.0, 114461.0], \"median\": 8483.0, \"numeric\": true, \"num_unique\": 64, \"num_undefined\": 0, \"var\": 542000201.4960938, \"progress\": 1.0, \"size\": 64, \"frequent_items\": {\"9217\": {\"frequency\": 1, \"value\": 9217}, \"8067\": {\"frequency\": 1, \"value\": 8067}, \"8068\": {\"frequency\": 1, \"value\": 8068}, \"8581\": {\"frequency\": 1, \"value\": 8581}, \"8839\": {\"frequency\": 1, \"value\": 8839}, \"9864\": {\"frequency\": 1, \"value\": 9864}, \"9482\": {\"frequency\": 1, \"value\": 9482}, \"11671\": {\"frequency\": 1, \"value\": 11671}, \"6285\": {\"frequency\": 1, \"value\": 6285}, \"4622\": {\"frequency\": 1, \"value\": 4622}, \"9829\": {\"frequency\": 1, \"value\": 9829}, \"7555\": {\"frequency\": 1, \"value\": 7555}, \"7317\": {\"frequency\": 1, \"value\": 7317}, \"7190\": {\"frequency\": 1, \"value\": 7190}, \"7447\": {\"frequency\": 1, \"value\": 7447}, \"9371\": {\"frequency\": 1, \"value\": 9371}, \"6940\": {\"frequency\": 1, \"value\": 6940}, \"114461\": {\"frequency\": 1, \"value\": 114461}, \"6303\": {\"frequency\": 1, \"value\": 6303}, \"8483\": {\"frequency\": 1, \"value\": 8483}, \"10148\": {\"frequency\": 1, \"value\": 10148}, \"6825\": {\"frequency\": 1, \"value\": 6825}, \"8358\": {\"frequency\": 1, \"value\": 8358}, \"9897\": {\"frequency\": 1, \"value\": 9897}, \"7850\": {\"frequency\": 1, \"value\": 7850}, \"7339\": {\"frequency\": 1, \"value\": 7339}, \"8317\": {\"frequency\": 1, \"value\": 8317}, \"8752\": {\"frequency\": 1, \"value\": 8752}, \"88497\": {\"frequency\": 1, \"value\": 88497}, \"44210\": {\"frequency\": 1, \"value\": 44210}, \"10035\": {\"frequency\": 1, \"value\": 10035}, \"43956\": {\"frequency\": 1, \"value\": 43956}, \"106040\": {\"frequency\": 1, \"value\": 106040}, \"68922\": {\"frequency\": 1, \"value\": 68922}, \"5698\": {\"frequency\": 1, \"value\": 5698}, \"9412\": {\"frequency\": 1, \"value\": 9412}, \"10181\": {\"frequency\": 1, \"value\": 10181}, \"6470\": {\"frequency\": 1, \"value\": 6470}, \"60104\": {\"frequency\": 1, \"value\": 60104}, \"7498\": {\"frequency\": 1, \"value\": 7498}, \"6991\": {\"frequency\": 1, \"value\": 6991}, \"5910\": {\"frequency\": 1, \"value\": 5910}, \"7891\": {\"frequency\": 1, \"value\": 7891}, \"11732\": {\"frequency\": 1, \"value\": 11732}, \"8917\": {\"frequency\": 1, \"value\": 8917}, \"6137\": {\"frequency\": 1, \"value\": 6137}, \"10916\": {\"frequency\": 1, \"value\": 10916}, \"7759\": {\"frequency\": 1, \"value\": 7759}, \"9821\": {\"frequency\": 1, \"value\": 9821}, \"7899\": {\"frequency\": 1, \"value\": 7899}, \"5986\": {\"frequency\": 1, \"value\": 5986}, \"9828\": {\"frequency\": 1, \"value\": 9828}, \"9445\": {\"frequency\": 1, \"value\": 9445}, \"59099\": {\"frequency\": 1, \"value\": 59099}, \"9960\": {\"frequency\": 1, \"value\": 9960}, \"7378\": {\"frequency\": 1, \"value\": 7378}, \"12901\": {\"frequency\": 1, \"value\": 12901}, \"8051\": {\"frequency\": 1, \"value\": 8051}, \"8310\": {\"frequency\": 1, \"value\": 8310}, \"10025\": {\"frequency\": 1, \"value\": 10025}, \"6649\": {\"frequency\": 1, \"value\": 6649}, \"6394\": {\"frequency\": 1, \"value\": 6394}, \"7163\": {\"frequency\": 1, \"value\": 7163}, \"7677\": {\"frequency\": 1, \"value\": 7677}}, \"mean\": 16420.9375}}, \"selected_variable\": {\"name\": [\"<SFrame>\"], \"descriptives\": {\"rows\": 64, \"columns\": 3}, \"view_component\": \"Summary\", \"view_file\": \"sframe\", \"view_params\": {\"y\": null, \"x\": null, \"columns\": [\"chars_num\", \"words_num\", \"sentences_num\"], \"view\": null}, \"view_components\": [\"Summary\", \"Table\", \"Bar Chart\", \"BoxWhisker Plot\", \"Line Chart\", \"Scatter Plot\", \"Heat Map\", \"Plots\"], \"type\": \"SFrame\", \"columns\": [{\"dtype\": \"int\", \"name\": \"chars_num\"}, {\"dtype\": \"int\", \"name\": \"words_num\"}, {\"dtype\": \"int\", \"name\": \"sentences_num\"}], \"column_identifiers\": [\"sentences_num\", \"chars_num\", \"words_num\"]}, \"columns\": [{\"dtype\": \"int\", \"name\": \"chars_num\"}, {\"dtype\": \"int\", \"name\": \"words_num\"}, {\"dtype\": \"int\", \"name\": \"sentences_num\"}]}, e);\n",
       "                });\n",
       "            })();\n",
       "        "
      ]
     },
     "metadata": {},
     "output_type": "display_data"
    }
   ],
   "source": [
    "sf[['chars_num','words_num','sentences_num']].show()"
   ]
  },
  {
   "cell_type": "markdown",
   "metadata": {},
   "source": [
    "Until now I calculated very basic text statistics. Let's try to do something more complicated like count the number of time the words 'Sherlock',\n",
    "'Watson', and 'Elementary' appeared in each story. We will do it using GraphLab's [text_analytics.count_words](https://turi.com/products/create/docs/generated/graphlab.text_analytics.count_words.html#graphlab.text_analytics.count_words) toolkit.\n",
    "\n",
    "<u>Note</u>: To count the frequency a word appears in a text, one can also consider using the [collection.Counter](https://docs.python.org/2/library/collections.html) function."
   ]
  },
  {
   "cell_type": "code",
   "execution_count": 13,
   "metadata": {
    "collapsed": false
   },
   "outputs": [
    {
     "data": {
      "application/javascript": [
       "$(\"head\").append($(\"<link/>\").attr({\n",
       "  rel:  \"stylesheet\",\n",
       "  type: \"text/css\",\n",
       "  href: \"//cdnjs.cloudflare.com/ajax/libs/font-awesome/4.1.0/css/font-awesome.min.css\"\n",
       "}));\n",
       "$(\"head\").append($(\"<link/>\").attr({\n",
       "  rel:  \"stylesheet\",\n",
       "  type: \"text/css\",\n",
       "  href: \"https://static.turi.com/products/graphlab-create/2.1/canvas/css/canvas.css\"\n",
       "}));\n",
       "\n",
       "            (function(){\n",
       "\n",
       "                var e = null;\n",
       "                if (typeof element == 'undefined') {\n",
       "                    var scripts = document.getElementsByTagName('script');\n",
       "                    var thisScriptTag = scripts[scripts.length-1];\n",
       "                    var parentDiv = thisScriptTag.parentNode;\n",
       "                    e = document.createElement('div');\n",
       "                    parentDiv.appendChild(e);\n",
       "                } else {\n",
       "                    e = element[0];\n",
       "                }\n",
       "\n",
       "                if (typeof requirejs !== 'undefined') {\n",
       "                    // disable load timeout; ipython_app.js is large and can take a while to load.\n",
       "                    requirejs.config({waitSeconds: 0});\n",
       "                }\n",
       "\n",
       "                require(['https://static.turi.com/products/graphlab-create/2.1/canvas/js/ipython_app.js'], function(IPythonApp){\n",
       "                    var app = new IPythonApp();\n",
       "                    app.attachView('sframe','Summary', {\"ipython\": true, \"sketch\": {\"sherlock_count\": {\"std\": 16.146417160143457, \"complete\": true, \"min\": 0.0, \"max\": 96.0, \"quantile\": [0.0, 0.0, 0.0, 0.0, 0.0, 1.0, 1.0, 1.0, 1.0, 1.0, 1.0, 1.0, 1.0, 1.0, 1.0, 2.0, 2.0, 2.0, 2.0, 2.0, 2.0, 2.0, 2.0, 2.0, 2.0, 2.0, 2.0, 3.0, 3.0, 3.0, 3.0, 3.0, 3.0, 3.0, 3.0, 3.0, 3.0, 3.0, 3.0, 3.0, 3.0, 3.0, 3.0, 3.0, 3.0, 3.0, 4.0, 4.0, 4.0, 4.0, 5.0, 5.0, 5.0, 5.0, 5.0, 5.0, 5.0, 5.0, 6.0, 6.0, 6.0, 7.0, 7.0, 7.0, 7.0, 7.0, 7.0, 7.0, 7.0, 7.0, 7.0, 8.0, 8.0, 8.0, 9.0, 9.0, 9.0, 10.0, 10.0, 10.0, 10.0, 10.0, 10.0, 10.0, 10.0, 10.0, 10.0, 10.0, 12.0, 12.0, 27.0, 34.0, 34.0, 35.0, 45.0, 45.0, 52.0, 61.0, 61.0, 96.0, 96.0], \"median\": 5.0, \"numeric\": true, \"num_unique\": 19, \"num_undefined\": 0, \"var\": 260.7067871093751, \"progress\": 1.0, \"size\": 64, \"frequent_items\": {\"96\": {\"frequency\": 1, \"value\": 96}, \"1\": {\"frequency\": 6, \"value\": 1}, \"34\": {\"frequency\": 1, \"value\": 34}, \"35\": {\"frequency\": 1, \"value\": 35}, \"4\": {\"frequency\": 3, \"value\": 4}, \"5\": {\"frequency\": 5, \"value\": 5}, \"6\": {\"frequency\": 2, \"value\": 6}, \"7\": {\"frequency\": 6, \"value\": 7}, \"8\": {\"frequency\": 2, \"value\": 8}, \"9\": {\"frequency\": 2, \"value\": 9}, \"10\": {\"frequency\": 7, \"value\": 10}, \"12\": {\"frequency\": 1, \"value\": 12}, \"2\": {\"frequency\": 8, \"value\": 2}, \"45\": {\"frequency\": 1, \"value\": 45}, \"3\": {\"frequency\": 12, \"value\": 3}, \"52\": {\"frequency\": 1, \"value\": 52}, \"27\": {\"frequency\": 1, \"value\": 27}, \"61\": {\"frequency\": 1, \"value\": 61}, \"0\": {\"frequency\": 3, \"value\": 0}}, \"mean\": 9.609375000000002}, \"watson_count\": {\"std\": 3.0783629349664086, \"complete\": true, \"min\": 0.0, \"max\": 17.0, \"quantile\": [0.0, 0.0, 0.0, 0.0, 0.0, 0.0, 0.0, 0.0, 0.0, 0.0, 0.0, 0.0, 0.0, 0.0, 0.0, 0.0, 0.0, 0.0, 0.0, 0.0, 0.0, 0.0, 0.0, 0.0, 0.0, 0.0, 0.0, 0.0, 0.0, 0.0, 0.0, 0.0, 0.0, 0.0, 0.0, 0.0, 0.0, 0.0, 0.0, 0.0, 0.0, 0.0, 0.0, 0.0, 1.0, 1.0, 1.0, 1.0, 1.0, 1.0, 1.0, 1.0, 1.0, 1.0, 1.0, 1.0, 1.0, 1.0, 1.0, 1.0, 1.0, 1.0, 1.0, 1.0, 1.0, 1.0, 1.0, 1.0, 1.0, 2.0, 2.0, 2.0, 2.0, 2.0, 2.0, 2.0, 2.0, 2.0, 2.0, 2.0, 2.0, 2.0, 3.0, 3.0, 3.0, 3.0, 3.0, 3.0, 4.0, 4.0, 4.0, 4.0, 4.0, 7.0, 8.0, 8.0, 11.0, 12.0, 12.0, 17.0, 17.0], \"median\": 1.0, \"numeric\": true, \"num_unique\": 10, \"num_undefined\": 0, \"var\": 9.476318359375, \"progress\": 1.0, \"size\": 64, \"frequent_items\": {\"0\": {\"frequency\": 28, \"value\": 0}, \"1\": {\"frequency\": 16, \"value\": 1}, \"2\": {\"frequency\": 8, \"value\": 2}, \"3\": {\"frequency\": 4, \"value\": 3}, \"4\": {\"frequency\": 3, \"value\": 4}, \"7\": {\"frequency\": 1, \"value\": 7}, \"8\": {\"frequency\": 1, \"value\": 8}, \"11\": {\"frequency\": 1, \"value\": 11}, \"12\": {\"frequency\": 1, \"value\": 12}, \"17\": {\"frequency\": 1, \"value\": 17}}, \"mean\": 1.7343749999999998}, \"elementary_count\": {\"std\": 0.35869500885153116, \"complete\": true, \"min\": 0.0, \"max\": 2.0, \"quantile\": [0.0, 0.0, 0.0, 0.0, 0.0, 0.0, 0.0, 0.0, 0.0, 0.0, 0.0, 0.0, 0.0, 0.0, 0.0, 0.0, 0.0, 0.0, 0.0, 0.0, 0.0, 0.0, 0.0, 0.0, 0.0, 0.0, 0.0, 0.0, 0.0, 0.0, 0.0, 0.0, 0.0, 0.0, 0.0, 0.0, 0.0, 0.0, 0.0, 0.0, 0.0, 0.0, 0.0, 0.0, 0.0, 0.0, 0.0, 0.0, 0.0, 0.0, 0.0, 0.0, 0.0, 0.0, 0.0, 0.0, 0.0, 0.0, 0.0, 0.0, 0.0, 0.0, 0.0, 0.0, 0.0, 0.0, 0.0, 0.0, 0.0, 0.0, 0.0, 0.0, 0.0, 0.0, 0.0, 0.0, 0.0, 0.0, 0.0, 0.0, 0.0, 0.0, 0.0, 0.0, 0.0, 0.0, 0.0, 0.0, 0.0, 0.0, 0.0, 1.0, 1.0, 1.0, 1.0, 1.0, 1.0, 1.0, 1.0, 2.0, 2.0], \"median\": 0.0, \"numeric\": true, \"num_unique\": 3, \"num_undefined\": 0, \"var\": 0.128662109375, \"progress\": 1.0, \"size\": 64, \"frequent_items\": {\"0\": {\"frequency\": 58, \"value\": 0}, \"1\": {\"frequency\": 5, \"value\": 1}, \"2\": {\"frequency\": 1, \"value\": 2}}, \"mean\": 0.10937500000000003}}, \"selected_variable\": {\"name\": [\"<SFrame>\"], \"descriptives\": {\"rows\": 64, \"columns\": 3}, \"view_component\": \"Summary\", \"view_file\": \"sframe\", \"view_params\": {\"y\": null, \"x\": null, \"columns\": [\"sherlock_count\", \"watson_count\", \"elementary_count\"], \"view\": null}, \"view_components\": [\"Summary\", \"Table\", \"Bar Chart\", \"BoxWhisker Plot\", \"Line Chart\", \"Scatter Plot\", \"Heat Map\", \"Plots\"], \"type\": \"SFrame\", \"columns\": [{\"dtype\": \"int\", \"name\": \"sherlock_count\"}, {\"dtype\": \"int\", \"name\": \"watson_count\"}, {\"dtype\": \"int\", \"name\": \"elementary_count\"}], \"column_identifiers\": [\"sherlock_count\", \"watson_count\", \"elementary_count\"]}, \"columns\": [{\"dtype\": \"int\", \"name\": \"sherlock_count\"}, {\"dtype\": \"int\", \"name\": \"watson_count\"}, {\"dtype\": \"int\", \"name\": \"elementary_count\"}]}, e);\n",
       "                });\n",
       "            })();\n",
       "        "
      ]
     },
     "metadata": {},
     "output_type": "display_data"
    }
   ],
   "source": [
    "sf['words_count'] = gl.text_analytics.count_words(sf['text'], to_lower=True)\n",
    "sf['sherlock_count'] = sf['words_count'].apply(lambda d: d.get('sherlock',0))\n",
    "sf['watson_count'] = sf['words_count'].apply(lambda d: d.get('watson',0))\n",
    "sf['elementary_count'] = sf['words_count'].apply(lambda d: d.get('elementary',0))\n",
    "sf[['sherlock_count', 'watson_count', 'elementary_count']].show()"
   ]
  },
  {
   "cell_type": "markdown",
   "metadata": {},
   "source": [
    "It is nice to see that the mean number of times the word 'Sherlock' appear in the stories is 9.609 times while the mean the word 'Watson' appear is only 1.734.\n",
    "Moreover, there are stories, such as [The Adventure of the Lion's Mane](https://sherlock-holm.es/stories/pdf/a4/1-sided/lion.pdf) that the word 'Sherlock' doesn't appear even once. \n",
    "\n",
    "Let's try to use simple linear regression to predict the number of times the word 'Sherlock' appear in a text based on the number of time the word 'Watson' appear in the text."
   ]
  },
  {
   "cell_type": "code",
   "execution_count": 14,
   "metadata": {
    "collapsed": false
   },
   "outputs": [
    {
     "data": {
      "text/html": [
       "<pre>Linear regression:</pre>"
      ],
      "text/plain": [
       "Linear regression:"
      ]
     },
     "metadata": {},
     "output_type": "display_data"
    },
    {
     "data": {
      "text/html": [
       "<pre>--------------------------------------------------------</pre>"
      ],
      "text/plain": [
       "--------------------------------------------------------"
      ]
     },
     "metadata": {},
     "output_type": "display_data"
    },
    {
     "data": {
      "text/html": [
       "<pre>Number of examples          : 64</pre>"
      ],
      "text/plain": [
       "Number of examples          : 64"
      ]
     },
     "metadata": {},
     "output_type": "display_data"
    },
    {
     "data": {
      "text/html": [
       "<pre>Number of features          : 1</pre>"
      ],
      "text/plain": [
       "Number of features          : 1"
      ]
     },
     "metadata": {},
     "output_type": "display_data"
    },
    {
     "data": {
      "text/html": [
       "<pre>Number of unpacked features : 1</pre>"
      ],
      "text/plain": [
       "Number of unpacked features : 1"
      ]
     },
     "metadata": {},
     "output_type": "display_data"
    },
    {
     "data": {
      "text/html": [
       "<pre>Number of coefficients    : 2</pre>"
      ],
      "text/plain": [
       "Number of coefficients    : 2"
      ]
     },
     "metadata": {},
     "output_type": "display_data"
    },
    {
     "data": {
      "text/html": [
       "<pre>Starting Newton Method</pre>"
      ],
      "text/plain": [
       "Starting Newton Method"
      ]
     },
     "metadata": {},
     "output_type": "display_data"
    },
    {
     "data": {
      "text/html": [
       "<pre>--------------------------------------------------------</pre>"
      ],
      "text/plain": [
       "--------------------------------------------------------"
      ]
     },
     "metadata": {},
     "output_type": "display_data"
    },
    {
     "data": {
      "text/html": [
       "<pre>+-----------+----------+--------------+--------------------+---------------+</pre>"
      ],
      "text/plain": [
       "+-----------+----------+--------------+--------------------+---------------+"
      ]
     },
     "metadata": {},
     "output_type": "display_data"
    },
    {
     "data": {
      "text/html": [
       "<pre>| Iteration | Passes   | Elapsed Time | Training-max_error | Training-rmse |</pre>"
      ],
      "text/plain": [
       "| Iteration | Passes   | Elapsed Time | Training-max_error | Training-rmse |"
      ]
     },
     "metadata": {},
     "output_type": "display_data"
    },
    {
     "data": {
      "text/html": [
       "<pre>+-----------+----------+--------------+--------------------+---------------+</pre>"
      ],
      "text/plain": [
       "+-----------+----------+--------------+--------------------+---------------+"
      ]
     },
     "metadata": {},
     "output_type": "display_data"
    },
    {
     "data": {
      "text/html": [
       "<pre>| 1         | 2        | 1.007790     | 81.541394          | 14.740310     |</pre>"
      ],
      "text/plain": [
       "| 1         | 2        | 1.007790     | 81.541394          | 14.740310     |"
      ]
     },
     "metadata": {},
     "output_type": "display_data"
    },
    {
     "data": {
      "text/html": [
       "<pre>+-----------+----------+--------------+--------------------+---------------+</pre>"
      ],
      "text/plain": [
       "+-----------+----------+--------------+--------------------+---------------+"
      ]
     },
     "metadata": {},
     "output_type": "display_data"
    },
    {
     "data": {
      "text/html": [
       "<pre>SUCCESS: Optimal solution found.</pre>"
      ],
      "text/plain": [
       "SUCCESS: Optimal solution found."
      ]
     },
     "metadata": {},
     "output_type": "display_data"
    },
    {
     "data": {
      "text/html": [
       "<pre></pre>"
      ],
      "text/plain": []
     },
     "metadata": {},
     "output_type": "display_data"
    },
    {
     "data": {
      "application/javascript": [
       "$(\"head\").append($(\"<link/>\").attr({\n",
       "  rel:  \"stylesheet\",\n",
       "  type: \"text/css\",\n",
       "  href: \"//cdnjs.cloudflare.com/ajax/libs/font-awesome/4.1.0/css/font-awesome.min.css\"\n",
       "}));\n",
       "$(\"head\").append($(\"<link/>\").attr({\n",
       "  rel:  \"stylesheet\",\n",
       "  type: \"text/css\",\n",
       "  href: \"https://static.turi.com/products/graphlab-create/2.1/canvas/css/canvas.css\"\n",
       "}));\n",
       "\n",
       "            (function(){\n",
       "\n",
       "                var e = null;\n",
       "                if (typeof element == 'undefined') {\n",
       "                    var scripts = document.getElementsByTagName('script');\n",
       "                    var thisScriptTag = scripts[scripts.length-1];\n",
       "                    var parentDiv = thisScriptTag.parentNode;\n",
       "                    e = document.createElement('div');\n",
       "                    parentDiv.appendChild(e);\n",
       "                } else {\n",
       "                    e = element[0];\n",
       "                }\n",
       "\n",
       "                if (typeof requirejs !== 'undefined') {\n",
       "                    // disable load timeout; ipython_app.js is large and can take a while to load.\n",
       "                    requirejs.config({waitSeconds: 0});\n",
       "                }\n",
       "\n",
       "                require(['https://static.turi.com/products/graphlab-create/2.1/canvas/js/ipython_app.js'], function(IPythonApp){\n",
       "                    var app = new IPythonApp();\n",
       "                    app.attachView('model','Summary', {\"comparison\": null, \"selected_variable\": {\"comparison\": null, \"name\": [\"linear_reg\"], \"view_file\": \"model\", \"view_component\": \"Summary\", \"view_params\": {\"model_type\": \"regression\", \"view\": \"Summary\"}, \"view_components\": [\"Summary\", \"Evaluation\", \"Comparison\"], \"model_type\": \"regression\", \"attributes\": {\"section_titles\": [\"Schema\", \"Hyperparameters\", \"Training Summary\", \"Settings\", \"Highest Positive Coefficients\", \"Lowest Negative Coefficients\"], \"sections\": [[[\"Number of coefficients\", 2], [\"Number of examples\", 64], [\"Number of feature columns\", 1], [\"Number of unpacked features\", 1]], [[\"L1 penalty\", 0.0], [\"L2 penalty\", 0.01]], [[\"Solver\", \"newton\"], [\"Solver iterations\", 1], [\"Solver status\", \"SUCCESS: Optimal solution found.\"], [\"Training time (sec)\", 1.0082]], [[\"Residual sum of squares\", 13905.7118], [\"Training RMSE\", 14.7403]], [[\"(intercept)\", 5.8972], [\"watson_count\", 2.1404]], [[\"No Negative Coefficients\", \"\"]]]}, \"evaluations\": [], \"type\": \"Model\"}, \"ipython\": true, \"view_params\": {\"model_type\": \"regression\", \"view\": \"Summary\"}, \"model_type\": \"regression\", \"attributes\": {\"section_titles\": [\"Schema\", \"Hyperparameters\", \"Training Summary\", \"Settings\", \"Highest Positive Coefficients\", \"Lowest Negative Coefficients\"], \"sections\": [[[\"Number of coefficients\", 2], [\"Number of examples\", 64], [\"Number of feature columns\", 1], [\"Number of unpacked features\", 1]], [[\"L1 penalty\", 0.0], [\"L2 penalty\", 0.01]], [[\"Solver\", \"newton\"], [\"Solver iterations\", 1], [\"Solver status\", \"SUCCESS: Optimal solution found.\"], [\"Training time (sec)\", 1.0082]], [[\"Residual sum of squares\", 13905.7118], [\"Training RMSE\", 14.7403]], [[\"(intercept)\", 5.8972], [\"watson_count\", 2.1404]], [[\"No Negative Coefficients\", \"\"]]]}, \"evaluations\": []}, e);\n",
       "                });\n",
       "            })();\n",
       "        "
      ]
     },
     "metadata": {},
     "output_type": "display_data"
    }
   ],
   "source": [
    "linear_reg = gl.linear_regression.create(sf, target='sherlock_count', features=['watson_count'])\n",
    "linear_reg.show()"
   ]
  },
  {
   "cell_type": "markdown",
   "metadata": {},
   "source": [
    "According to the simple linear regression, we have the following equation:"
   ]
  },
  {
   "cell_type": "markdown",
   "metadata": {},
   "source": [
    "$$sherlock_{count} = 2.1404*watson_{count} + 5.8972$$"
   ]
  },
  {
   "cell_type": "markdown",
   "metadata": {},
   "source": [
    "There are a lot of other really interesting insights that one can discover using similar methodology. I leave the reader to discover these insights by themselves. Let's move to the next section\n",
    "and create some nice graphs using various entity extraction tools."
   ]
  },
  {
   "cell_type": "markdown",
   "metadata": {},
   "source": [
    "## <a id=\"sn\"></a>3. Constructing Social Networks"
   ]
  },
  {
   "cell_type": "markdown",
   "metadata": {},
   "source": [
    "<pre>\n",
    "<i>\"Listen, what I said before John, I meant it. I don’t have friends; I’ve just got one.\"\n",
    "                                               -Sherlock, The Hounds of Baskerville, 2012 </i>\n",
    "</pre>"
   ]
  },
  {
   "cell_type": "markdown",
   "metadata": {},
   "source": [
    "One of my main fields of interest are social networks. I love to study and visualize graphs of [various types of networks](http://proj.ise.bgu.ac.il/sns/gallery.html). One of the nice [studies](http://www.technologyreview.com/view/516081/the-remarkable-properties-of-mythological-social-networks/) that I read not long ago showes that it is possible to create the social network of book characters. For example, [Miranda et al.](http://arxiv.org/abs/1306.2537) built and analyzed a social network utilizing the Odyssey of Homer. \n",
    "\n",
    "To manually create a precise social network between Sherlock Holmes characters, we can read the stories and whenever two characters have a conversation, or appear in the same scene, we add to the network nodes with the two characters names (if there are not in the network already), and create a link between the two characters. In case, we want to create a weighted social network, we can also add a weight to each link with the number of times each two characters talked to each other. \n",
    "\n",
    "When processing a large text corpus, manually using this process to construct a social network can very time-consuming. Therefore, we would like to perform this process automatically. One of the ways to consturct the social network is by using various NLP algorithms that analyze the text and \"understand\" the relationships between two entities. However, I am not familiar with open source tools that can analyze a text corpus and infer the connections between two entities with high precision. \n",
    "\n",
    "In this section, I will demonstrate some very simple techniques that can be utilized to study the social connections among characters in Sherlock Holmes stories. These techniques won't create the most precise social network. However, the created network is sufficient to observe some interesting insights about the relationships among the stories' characters."
   ]
  },
  {
   "cell_type": "markdown",
   "metadata": {},
   "source": [
    "### 3.1 Constructing Social Network using Names List"
   ]
  },
  {
   "cell_type": "markdown",
   "metadata": {},
   "source": [
    "Using this techniques, we will split the downloaded Sherlock Holmes stories into sentences, and using a predefined list of names of book characters we will create a social network with links among the stories characters by adding a link between each two characters that appear in the same sentence. Let start constructing the social network by splitting the stories into sentences."
   ]
  },
  {
   "cell_type": "code",
   "execution_count": 15,
   "metadata": {
    "collapsed": false
   },
   "outputs": [],
   "source": [
    "import graphlab as gl\n",
    "import re,nltk\n",
    "gl.canvas.set_target('ipynb')\n",
    "\n",
    "tokenizer = nltk.data.load('tokenizers/punkt/english.pickle')\n",
    "def txt2sentences(txt, remove_none_english_chars=True):\n",
    "    \"\"\"\n",
    "    Split the English text into sentences using NLTK\n",
    "    :param txt: input text.    \n",
    "    :param remove_none_english_chars: if True then remove none English chars from text\n",
    "    :return: string in which each line consists of single sentence from the original input text.\n",
    "    :rtype: str\n",
    "    \"\"\"        \n",
    "    txt = txt.decode(\"utf8\") \n",
    "    # split text into sentences using nltk packages\n",
    "    for s in tokenizer.tokenize(txt):\n",
    "        if remove_none_english_chars:\n",
    "            #remove none English chars\n",
    "            s = re.sub(\"[^a-zA-Z]\", \" \", s)\n",
    "        yield s\n",
    "        \n",
    "sf = gl.load_sframe(\"%s/books.sframe\" % BASE_DIR)\n",
    "sf['sentences'] = sf['text'].apply(lambda t: list(txt2sentences(t)))"
   ]
  },
  {
   "cell_type": "code",
   "execution_count": 16,
   "metadata": {
    "collapsed": false,
    "scrolled": true
   },
   "outputs": [
    {
     "data": {
      "text/html": [
       "<div style=\"max-height:1000px;max-width:1500px;overflow:auto;\"><table frame=\"box\" rules=\"cols\">\n",
       "    <tr>\n",
       "        <th style=\"padding-left: 1em; padding-right: 1em; text-align: center\">title</th>\n",
       "        <th style=\"padding-left: 1em; padding-right: 1em; text-align: center\">sentence</th>\n",
       "        <th style=\"padding-left: 1em; padding-right: 1em; text-align: center\">words</th>\n",
       "    </tr>\n",
       "    <tr>\n",
       "        <td style=\"padding-left: 1em; padding-right: 1em; text-align: center; vertical-align: top\">The Adventures of<br>Sherlock Holmes ...</td>\n",
       "        <td style=\"padding-left: 1em; padding-right: 1em; text-align: center; vertical-align: top\">THE ADVENTURES OF<br>SHERLOCK HOLMES ...</td>\n",
       "        <td style=\"padding-left: 1em; padding-right: 1em; text-align: center; vertical-align: top\">[THE, ADVENTURES, OF,<br>SHERLOCK, HOLMES, Art ...</td>\n",
       "    </tr>\n",
       "    <tr>\n",
       "        <td style=\"padding-left: 1em; padding-right: 1em; text-align: center; vertical-align: top\">The Adventures of<br>Sherlock Holmes ...</td>\n",
       "        <td style=\"padding-left: 1em; padding-right: 1em; text-align: center; vertical-align: top\">I have seldom heard him<br>mention her under any ...</td>\n",
       "        <td style=\"padding-left: 1em; padding-right: 1em; text-align: center; vertical-align: top\">[I, have, seldom, heard,<br>him, mention, her, un ...</td>\n",
       "    </tr>\n",
       "    <tr>\n",
       "        <td style=\"padding-left: 1em; padding-right: 1em; text-align: center; vertical-align: top\">The Adventures of<br>Sherlock Holmes ...</td>\n",
       "        <td style=\"padding-left: 1em; padding-right: 1em; text-align: center; vertical-align: top\">In his eyes she eclipses<br>and      predominates ...</td>\n",
       "        <td style=\"padding-left: 1em; padding-right: 1em; text-align: center; vertical-align: top\">[In, his, eyes, she,<br>eclipses, and, ...</td>\n",
       "    </tr>\n",
       "</table>\n",
       "[3 rows x 3 columns]<br/>\n",
       "</div>"
      ],
      "text/plain": [
       "Columns:\n",
       "\ttitle\tstr\n",
       "\tsentence\tstr\n",
       "\twords\tlist\n",
       "\n",
       "Rows: 3\n",
       "\n",
       "Data:\n",
       "+-------------------------------+-------------------------------+\n",
       "|             title             |            sentence           |\n",
       "+-------------------------------+-------------------------------+\n",
       "| The Adventures of Sherlock... | THE ADVENTURES OF SHERLOCK... |\n",
       "| The Adventures of Sherlock... | I have seldom heard him   ... |\n",
       "| The Adventures of Sherlock... | In his eyes she eclipses a... |\n",
       "+-------------------------------+-------------------------------+\n",
       "+-------------------------------+\n",
       "|             words             |\n",
       "+-------------------------------+\n",
       "| [THE, ADVENTURES, OF, SHER... |\n",
       "| [I, have, seldom, heard, h... |\n",
       "| [In, his, eyes, she, eclip... |\n",
       "+-------------------------------+\n",
       "[3 rows x 3 columns]"
      ]
     },
     "execution_count": 16,
     "metadata": {},
     "output_type": "execute_result"
    }
   ],
   "source": [
    "sf_sentences = sf.flat_map(['title', 'text'], lambda t: [[t['title'],s.strip()] for s in txt2sentences(t['text'])])\n",
    "sf_sentences = sf_sentences.rename({'text': 'sentence'})\n",
    "\n",
    "#split each sentence into words\n",
    "sf_sentences['words'] = sf_sentences['sentence'].apply(lambda s:re_words_split.findall(s))\n",
    "sf_sentences.save(\"%s/sentences.sframe\" % BASE_DIR)\n",
    "sf_sentences.head(3)"
   ]
  },
  {
   "cell_type": "markdown",
   "metadata": {
    "collapsed": false
   },
   "source": [
    "We created a SFrame named <i>sf_sentences</i> in which each row contains a single sentence. Now let's find out which two or more characters from the following [link](http://www.wikiwand.com/en/Category:Sherlock_Holmes_characters) appear in the same sentences. Notice that we only use the characters unique names so we don't mix up between characters with similar names. For example, the name Holmes can represent both Sherlock Holmes and Mycroft Holmes."
   ]
  },
  {
   "cell_type": "code",
   "execution_count": 17,
   "metadata": {
    "collapsed": false
   },
   "outputs": [],
   "source": [
    "main_characters_set = set([\"Irene\",\"Mycroft\",\"Lestrade\",\"Sherlock\",\"Moran\",\"Moriarty\",\"Watson\" ])\n",
    "sf_sentences['characters'] = sf_sentences['words'].apply(lambda w: list(set(w) & main_characters_set))"
   ]
  },
  {
   "cell_type": "markdown",
   "metadata": {},
   "source": [
    "Now, the <i>'characters'</i> column contain the names of the main characters that appear in the same sentences together. Let's use this information to create the characters social network by constructing a SGraph object."
   ]
  },
  {
   "cell_type": "code",
   "execution_count": 18,
   "metadata": {
    "collapsed": false
   },
   "outputs": [
    {
     "data": {
      "application/javascript": [
       "$(\"head\").append($(\"<link/>\").attr({\n",
       "  rel:  \"stylesheet\",\n",
       "  type: \"text/css\",\n",
       "  href: \"//cdnjs.cloudflare.com/ajax/libs/font-awesome/4.1.0/css/font-awesome.min.css\"\n",
       "}));\n",
       "$(\"head\").append($(\"<link/>\").attr({\n",
       "  rel:  \"stylesheet\",\n",
       "  type: \"text/css\",\n",
       "  href: \"https://static.turi.com/products/graphlab-create/2.1/canvas/css/canvas.css\"\n",
       "}));\n",
       "\n",
       "            (function(){\n",
       "\n",
       "                var e = null;\n",
       "                if (typeof element == 'undefined') {\n",
       "                    var scripts = document.getElementsByTagName('script');\n",
       "                    var thisScriptTag = scripts[scripts.length-1];\n",
       "                    var parentDiv = thisScriptTag.parentNode;\n",
       "                    e = document.createElement('div');\n",
       "                    parentDiv.appendChild(e);\n",
       "                } else {\n",
       "                    e = element[0];\n",
       "                }\n",
       "\n",
       "                if (typeof requirejs !== 'undefined') {\n",
       "                    // disable load timeout; ipython_app.js is large and can take a while to load.\n",
       "                    requirejs.config({waitSeconds: 0});\n",
       "                }\n",
       "\n",
       "                require(['https://static.turi.com/products/graphlab-create/2.1/canvas/js/ipython_app.js'], function(IPythonApp){\n",
       "                    var app = new IPythonApp();\n",
       "                    app.attachView('sgraph','View', {\"edges_labels\": [6, 6, 11, 1, 4, 2, 4, 6, 14], \"selected_variable\": {\"name\": [\"g\"], \"view_file\": \"sgraph\", \"view_component\": \"View\", \"view_params\": {\"elabel_hover\": false, \"vertex_positions\": null, \"h_offset\": 0.0, \"node_size\": 200, \"ecolor\": [0.37, 0.33, 0.33], \"elabel\": \"strength\", \"arrows\": false, \"ewidth\": 1, \"vlabel\": \"__id\", \"highlight_color\": [0.69, 0.0, 0.498], \"vcolor\": [0.522, 0.741, 0.0], \"vlabel_hover\": false, \"highlight\": {}, \"v_offset\": 0.03}, \"view_components\": [\"View\"], \"type\": \"SGraph\", \"descriptives_links\": {\"edges\": \"edges\", \"vertices\": \"vertices\"}, \"descriptives\": {\"edges\": 9, \"vertices\": 7}}, \"positions\": null, \"error_type\": 0, \"vertices\": [\"Mycroft\", \"Lestrade\", \"Moran\", \"Moriarty\", \"Irene\", \"Sherlock\", \"Watson\"], \"vertices_labels\": [\"Mycroft\", \"Lestrade\", \"Moran\", \"Moriarty\", \"Irene\", \"Sherlock\", \"Watson\"], \"edges\": [[\"Mycroft\", \"Sherlock\"], [\"Lestrade\", \"Mycroft\"], [\"Lestrade\", \"Sherlock\"], [\"Moriarty\", \"Moran\"], [\"Moriarty\", \"Sherlock\"], [\"Sherlock\", \"Moran\"], [\"Irene\", \"Sherlock\"], [\"Watson\", \"Moriarty\"], [\"Watson\", \"Sherlock\"]], \"ipython\": true, \"error_msg\": \"\"}, e);\n",
       "                });\n",
       "            })();\n",
       "        "
      ]
     },
     "metadata": {},
     "output_type": "display_data"
    }
   ],
   "source": [
    "import itertools\n",
    "from collections import Counter\n",
    "from graphlab import SGraph, Vertex, Edge\n",
    "\n",
    "def get_characters_graph(sf, min_edge_strength=1):\n",
    "    \"\"\"\n",
    "    Constructs a social network from the an input SFrame. In the social network the verticies are the characters\n",
    "    and the edges are only between characters that appear in the same sentence at least min_edge_strength times\n",
    "    :param sf: input SFrame object that contains 'characters' column   \n",
    "    :param min_edge_strength: minimal connetion strength between two characters.  \n",
    "    :return: SGraph object constructed from the input SFrame. The graph only contains edges with \n",
    "        the at least the input minimal strength between between the characters.\n",
    "    :rtype: gl.SGraph\n",
    "    \"\"\"\n",
    "    #filter sentences with less than two characters\n",
    "    sf['characters_num'] = sf['characters'].apply(lambda l: len(l))\n",
    "    sf = sf_sentences[sf['characters_num'] > 1]\n",
    "    characters_links = []\n",
    "    for l in sf['characters']:    \n",
    "        # if there are more than two characters in the same sentences. Create all link combinations between\n",
    "        # all the characters (order doesn't matter)\n",
    "        characters_links += itertools.combinations(l,2)\n",
    "\n",
    "    #calculating the connections strength between each two characters\n",
    "    c = Counter(characters_links)\n",
    "    g = SGraph()\n",
    "\n",
    "    edges_list = []\n",
    "    for l,s in c.iteritems():    \n",
    "        if s < min_edge_strength:\n",
    "            # filter out connections that appear less than min_edge_strength\n",
    "            continue\n",
    "        edges_list.append(Edge(l[0], l[1], attr={'strength':s}))\n",
    "\n",
    "    g = g.add_edges(edges_list)\n",
    "    return g\n",
    "\n",
    "g = get_characters_graph(sf_sentences)\n",
    "g.show(vlabel=\"__id\", elabel=\"strength\", node_size=200)"
   ]
  },
  {
   "cell_type": "markdown",
   "metadata": {},
   "source": [
    "According to Sherlock's social network, it can be noticed that Sherlock has two main social circles. The first one is circle of friends that include Mycroft and Lestrade. Additionally, he has a circle of enemies that include Moriaty and Moran. Additionally, we can notice Watson is strongly connected to Sherlock and Sherlock's nemesis Moriaty. <br>Let's repeat the experiments only this time we also add minor characters from the following [link](http://www.wikiwand.com/en/Minor_Sherlock_Holmes_characters)."
   ]
  },
  {
   "cell_type": "code",
   "execution_count": 19,
   "metadata": {
    "collapsed": false
   },
   "outputs": [
    {
     "data": {
      "application/javascript": [
       "$(\"head\").append($(\"<link/>\").attr({\n",
       "  rel:  \"stylesheet\",\n",
       "  type: \"text/css\",\n",
       "  href: \"//cdnjs.cloudflare.com/ajax/libs/font-awesome/4.1.0/css/font-awesome.min.css\"\n",
       "}));\n",
       "$(\"head\").append($(\"<link/>\").attr({\n",
       "  rel:  \"stylesheet\",\n",
       "  type: \"text/css\",\n",
       "  href: \"https://static.turi.com/products/graphlab-create/2.1/canvas/css/canvas.css\"\n",
       "}));\n",
       "\n",
       "            (function(){\n",
       "\n",
       "                var e = null;\n",
       "                if (typeof element == 'undefined') {\n",
       "                    var scripts = document.getElementsByTagName('script');\n",
       "                    var thisScriptTag = scripts[scripts.length-1];\n",
       "                    var parentDiv = thisScriptTag.parentNode;\n",
       "                    e = document.createElement('div');\n",
       "                    parentDiv.appendChild(e);\n",
       "                } else {\n",
       "                    e = element[0];\n",
       "                }\n",
       "\n",
       "                if (typeof requirejs !== 'undefined') {\n",
       "                    // disable load timeout; ipython_app.js is large and can take a while to load.\n",
       "                    requirejs.config({waitSeconds: 0});\n",
       "                }\n",
       "\n",
       "                require(['https://static.turi.com/products/graphlab-create/2.1/canvas/js/ipython_app.js'], function(IPythonApp){\n",
       "                    var app = new IPythonApp();\n",
       "                    app.attachView('sgraph','View', {\"edges_labels\": [6, 1, 6, 11, 15, 1, 4, 1, 4, 3, 2, 2, 2, 1, 2, 4, 3, 4, 1, 4, 6, 14, 2, 1], \"selected_variable\": {\"name\": [\"g\"], \"view_file\": \"sgraph\", \"view_component\": \"View\", \"view_params\": {\"elabel_hover\": false, \"vertex_positions\": null, \"h_offset\": 0.0, \"node_size\": 200, \"ecolor\": [0.37, 0.33, 0.33], \"elabel\": \"strength\", \"arrows\": false, \"ewidth\": 1, \"vlabel\": \"__id\", \"highlight_color\": [0.69, 0.0, 0.498], \"vcolor\": [0.522, 0.741, 0.0], \"vlabel_hover\": false, \"highlight\": {}, \"v_offset\": 0.03}, \"view_components\": [\"View\"], \"type\": \"SGraph\", \"descriptives_links\": {\"edges\": \"edges\", \"vertices\": \"vertices\"}, \"descriptives\": {\"edges\": 24, \"vertices\": 15}}, \"positions\": null, \"error_type\": 0, \"vertices\": [\"Langdale\", \"Mycroft\", \"Lestrade\", \"Moran\", \"Hudson\", \"Mary\", \"Moriarty\", \"Billy\", \"Irene\", \"Sherlock\", \"Gregson\", \"Bradstreet\", \"Watson\", \"Athelney\", \"Hopkins\"], \"vertices_labels\": [\"Langdale\", \"Mycroft\", \"Lestrade\", \"Moran\", \"Hudson\", \"Mary\", \"Moriarty\", \"Billy\", \"Irene\", \"Sherlock\", \"Gregson\", \"Bradstreet\", \"Watson\", \"Athelney\", \"Hopkins\"], \"edges\": [[\"Mycroft\", \"Sherlock\"], [\"Langdale\", \"Watson\"], [\"Lestrade\", \"Mycroft\"], [\"Lestrade\", \"Sherlock\"], [\"Lestrade\", \"Gregson\"], [\"Lestrade\", \"Athelney\"], [\"Hudson\", \"Mycroft\"], [\"Moriarty\", \"Moran\"], [\"Moriarty\", \"Sherlock\"], [\"Hudson\", \"Sherlock\"], [\"Hudson\", \"Gregson\"], [\"Hudson\", \"Hopkins\"], [\"Sherlock\", \"Moran\"], [\"Billy\", \"Hudson\"], [\"Irene\", \"Mary\"], [\"Irene\", \"Sherlock\"], [\"Sherlock\", \"Gregson\"], [\"Sherlock\", \"Hopkins\"], [\"Gregson\", \"Athelney\"], [\"Watson\", \"Hudson\"], [\"Watson\", \"Moriarty\"], [\"Watson\", \"Sherlock\"], [\"Bradstreet\", \"Sherlock\"], [\"Watson\", \"Gregson\"]], \"ipython\": true, \"error_msg\": \"\"}, e);\n",
       "                });\n",
       "            })();\n",
       "        "
      ]
     },
     "metadata": {},
     "output_type": "display_data"
    }
   ],
   "source": [
    "minor_characters_set = set([\"Irene\",\"Mycroft\",\"Lestrade\",\"Sherlock\",\"Moran\",\"Moriarty\",\"Watson\",\"Baynes\",\"Billy\",\"Bradstreet\",\"Gregson\"\n",
    "                            ,\"Hopkins\",\"Hudson\",\"Shinwell\",\"Athelney\",\"Mary\",\"Langdale\",\"Toby\",\"Wiggins\"])\n",
    "\n",
    "sf_sentences['characters'] = sf_sentences['words'].apply(lambda w: list(set(w) & minor_characters_set))\n",
    "sf_sentences['characters_num'] = sf_sentences['characters'].apply(lambda l: len(l))\n",
    "sf_sentences = sf_sentences[sf_sentences['characters_num'] > 1]\n",
    "\n",
    "g = get_characters_graph(sf_sentences)\n",
    "g.show(vlabel=\"__id\", elabel=\"strength\", node_size=200)"
   ]
  },
  {
   "cell_type": "markdown",
   "metadata": {},
   "source": [
    "We got a more complex social network with the additional minor characters.\n",
    "I believe this social network graph can be improved by increasing the scope of characters search from single sentence to multiple sentences, or by using characters additional names and nick names. I leave the reader to try to improve the graph by themselves."
   ]
  },
  {
   "cell_type": "markdown",
   "metadata": {},
   "source": [
    "### 3.2 Constructing Social Network using Named Entity Recognition "
   ]
  },
  {
   "cell_type": "markdown",
   "metadata": {},
   "source": [
    "One of the disadvantages of the above method is that you need a predefined list of names to create the social network. However, in many cases this list is unavailable. Therefore, we need another method to find entities in the text. One common method to achieve this is using [Named Entity Recognition](http://www.wikiwand.com/en/Named-entity_recognition) (NER). By using NER algorithms, we can classify elements in the text into pre-defined categories, such as the names of persons, organizations, and locations. There are many tools that can perform NER, such as [OpenNLP](http://www.wikiwand.com/en/OpenNLP), [Stanford Named Entity Recognizer]( http://nlp.stanford.edu/software/CRF-NER.shtml), [Rosette Entity Extractor](http://www.basistech.com/text-analytics/rosette/entity-extractor/). In this notebook, we will use the Stanford Named Entity Recognizer via NLTK. We will use NER algorithms to automatically  construct an entity list of the most common characters of the book.\n",
    "\n",
    "Please note that making NLTK run Stanford Named Entity Recognizer can be non-trivial. For more details, on how to make NLTK work with Stanford Named Entity Recognizer please read the information provided in the following links [1](http://textminingonline.com/how-to-use-stanford-named-entity-recognizer-ner-in-python-nltk-and-other-programming-languages),[2](http://www.nltk.org/api/nltk.tag.html#module-nltk.tag.stanford), & [3](http://nlp.stanford.edu/software/parser-faq.shtml#). \n",
    "\n",
    "NOTE: running the next code section can take several minutes."
   ]
  },
  {
   "cell_type": "code",
   "execution_count": 20,
   "metadata": {
    "collapsed": false
   },
   "outputs": [
    {
     "name": "stdout",
     "output_type": "stream",
     "text": [
      "1349\n"
     ]
    }
   ],
   "source": [
    "from nltk.tag import StanfordNERTagger\n",
    "\n",
    "sf_books =  gl.load_sframe(\"%s/books.sframe\" % BASE_DIR)\n",
    "\n",
    "#IMPORTANT: The directory that include the Stanford Named Entity Recognizer files it need to be updated according \n",
    "# to the local installation directory\n",
    "STANFORD_DIR = BASE_DIR + \"/stanford-ner-2015-12-09/\"\n",
    "\n",
    "#need to insert as parameters the stanford-ner.jar and the type of classifier we want to use\n",
    "\n",
    "st = StanfordNERTagger('/Users/kivan/Documents/stanford-ner-2015-12-09/classifiers/english.all.3class.distsim.crf.ser.gz',\n",
    "                       '/Users/kivan/Documents/stanford-ner-2015-12-09/stanford-ner.jar')\n",
    "\n",
    "st.java_options = \"-Xmx4096m\"\n",
    "\n",
    "sf_books['sentences'] = sf_books['text'].apply(lambda t: list(txt2sentences(t)))\n",
    "sf_books['words'] = sf_books['sentences'].apply(lambda l: [re_words_split.findall(s) for s in l])\n",
    "sf_books['NER'] = sf_books['words'].apply(lambda w: st.tag_sents(w))\n",
    "sf_books['person'] = sf_books['NER'].apply(lambda n: [e[0] for s in n for e in s if e[1] == 'PERSON'])\n",
    "\n",
    "person_list = []\n",
    "for p in sf_books['person']:\n",
    "    person_list += p\n",
    "    \n",
    "print len(set(person_list))"
   ]
  },
  {
   "cell_type": "code",
   "execution_count": 21,
   "metadata": {
    "collapsed": false
   },
   "outputs": [
    {
     "name": "stdout",
     "output_type": "stream",
     "text": [
      "{'num_edges': 146, 'num_vertices': 134}\n"
     ]
    },
    {
     "data": {
      "application/javascript": [
       "$(\"head\").append($(\"<link/>\").attr({\n",
       "  rel:  \"stylesheet\",\n",
       "  type: \"text/css\",\n",
       "  href: \"//cdnjs.cloudflare.com/ajax/libs/font-awesome/4.1.0/css/font-awesome.min.css\"\n",
       "}));\n",
       "$(\"head\").append($(\"<link/>\").attr({\n",
       "  rel:  \"stylesheet\",\n",
       "  type: \"text/css\",\n",
       "  href: \"https://static.turi.com/products/graphlab-create/2.1/canvas/css/canvas.css\"\n",
       "}));\n",
       "\n",
       "            (function(){\n",
       "\n",
       "                var e = null;\n",
       "                if (typeof element == 'undefined') {\n",
       "                    var scripts = document.getElementsByTagName('script');\n",
       "                    var thisScriptTag = scripts[scripts.length-1];\n",
       "                    var parentDiv = thisScriptTag.parentNode;\n",
       "                    e = document.createElement('div');\n",
       "                    parentDiv.appendChild(e);\n",
       "                } else {\n",
       "                    e = element[0];\n",
       "                }\n",
       "\n",
       "                if (typeof requirejs !== 'undefined') {\n",
       "                    // disable load timeout; ipython_app.js is large and can take a while to load.\n",
       "                    requirejs.config({waitSeconds: 0});\n",
       "                }\n",
       "\n",
       "                require(['https://static.turi.com/products/graphlab-create/2.1/canvas/js/ipython_app.js'], function(IPythonApp){\n",
       "                    var app = new IPythonApp();\n",
       "                    app.attachView('sgraph','View', {\"edges_labels\": [5, 16, 4, 8, 12, 8, 6, 17, 4, 3, 3, 4, 27, 19, 4, 5, 13, 5, 5, 6, 21, 9, 6, 4, 11, 48, 3, 4, 6, 15, 4, 4, 4, 6, 6, 4, 4, 4, 12, 4, 3, 3, 4, 4, 18, 5, 70, 42, 4, 4, 36, 32, 4, 8, 23, 11, 6, 3, 4, 3, 14, 10, 18, 6, 3, 26, 6, 4, 6, 4, 4, 4, 6, 4, 10, 38, 3, 3, 18, 17, 4, 18, 6, 18, 36, 26, 20, 4, 4, 34, 6, 3, 3, 19, 13, 9, 4, 8, 4, 6, 7, 6, 3, 7, 3, 6, 4, 3, 7, 8, 4, 21, 4, 32, 3, 4, 14, 28, 6, 4, 4, 4, 4, 4, 6, 6, 8, 5, 42, 4, 5, 5, 6, 4, 8, 8, 5, 3, 37, 4, 8, 4, 8, 4, 56, 5], \"selected_variable\": {\"name\": [\"g\"], \"view_file\": \"sgraph\", \"view_component\": \"View\", \"view_params\": {\"elabel_hover\": false, \"vertex_positions\": null, \"h_offset\": 0.0, \"node_size\": 200, \"ecolor\": [0.37, 0.33, 0.33], \"elabel\": \"strength\", \"arrows\": false, \"ewidth\": 1, \"vlabel\": \"__id\", \"highlight_color\": [0.69, 0.0, 0.498], \"vcolor\": [0.522, 0.741, 0.0], \"vlabel_hover\": false, \"highlight\": {}, \"v_offset\": 0.03}, \"view_components\": [\"View\"], \"type\": \"SGraph\", \"descriptives_links\": {\"edges\": \"edges\", \"vertices\": \"vertices\"}, \"descriptives\": {\"edges\": 146, \"vertices\": 134}}, \"positions\": null, \"error_type\": 0, \"vertices\": [\"Adair\", \"Angel\", \"Barker\", \"Godfrey\", \"Harrison\", \"Jack\", \"Jones\", \"Joseph\", \"MacDonald\", \"McCarthy\", \"McGinty\", \"Mycroft\", \"Robert\", \"Slaney\", \"Straker\", \"Sutherland\", \"White\", \"Adler\", \"Baron\", \"Baskerville\", \"Charles\", \"Clair\", \"Fitzroy\", \"Jim\", \"Lee\", \"Lestrade\", \"Milverton\", \"Moran\", \"Ross\", \"Sholto\", \"Tregennis\", \"Wilder\", \"Bannister\", \"Carruthers\", \"Ferrier\", \"Hudson\", \"Lucy\", \"Mary\", \"Moriarty\", \"Morris\", \"Napoleon\", \"Peter\", \"Stapleton\", \"Von\", \"West\", \"Wilson\", \"Alice\", \"Blessington\", \"Brackenstall\", \"Cecil\", \"Cushing\", \"Cyril\", \"Don\", \"Drebber\", \"Henry\", \"Hope\", \"Hosmer\", \"Huxtable\", \"Irene\", \"Jabez\", \"Jonas\", \"Mortimer\", \"Overton\", \"Percy\", \"Phelps\", \"Sherlock\", \"Simon\", \"Soames\", \"Trevor\", \"Willoughby\", \"Acton\", \"Bartholomew\", \"Culverton\", \"Cunningham\", \"Gregson\", \"Musgrave\", \"Neligan\", \"Pycroft\", \"Ralph\", \"Scott\", \"Stangerson\", \"Staunton\", \"Woodley\", \"Alec\", \"Armstrong\", \"Baker\", \"Cadogan\", \"Eccles\", \"Eustace\", \"Garcia\", \"Mason\", \"Morrison\", \"Scanlan\", \"Smith\", \"Stoner\", \"Watson\", \"Baldwin\", \"Barclay\", \"Barnicot\", \"Barrymore\", \"Bork\", \"Browner\", \"Carey\", \"Doran\", \"Frank\", \"Gloria\", \"Hall\", \"Hilton\", \"McFarlane\", \"Neville\", \"Oldacre\", \"Roylott\", \"Rucastle\", \"Simpson\", \"Thaddeus\", \"William\", \"Ames\", \"Athelney\", \"Cubitt\", \"Douglas\", \"Emsworth\", \"Ferguson\", \"Gilchrist\", \"Gregory\", \"Hilda\", \"Hopkins\", \"Jefferson\", \"McMurdo\", \"Sarah\", \"Stanley\", \"Trevelyan\", \"Turner\", \"Victor\", \"Williamson\"], \"vertices_labels\": [\"Adair\", \"Angel\", \"Barker\", \"Godfrey\", \"Harrison\", \"Jack\", \"Jones\", \"Joseph\", \"MacDonald\", \"McCarthy\", \"McGinty\", \"Mycroft\", \"Robert\", \"Slaney\", \"Straker\", \"Sutherland\", \"White\", \"Adler\", \"Baron\", \"Baskerville\", \"Charles\", \"Clair\", \"Fitzroy\", \"Jim\", \"Lee\", \"Lestrade\", \"Milverton\", \"Moran\", \"Ross\", \"Sholto\", \"Tregennis\", \"Wilder\", \"Bannister\", \"Carruthers\", \"Ferrier\", \"Hudson\", \"Lucy\", \"Mary\", \"Moriarty\", \"Morris\", \"Napoleon\", \"Peter\", \"Stapleton\", \"Von\", \"West\", \"Wilson\", \"Alice\", \"Blessington\", \"Brackenstall\", \"Cecil\", \"Cushing\", \"Cyril\", \"Don\", \"Drebber\", \"Henry\", \"Hope\", \"Hosmer\", \"Huxtable\", \"Irene\", \"Jabez\", \"Jonas\", \"Mortimer\", \"Overton\", \"Percy\", \"Phelps\", \"Sherlock\", \"Simon\", \"Soames\", \"Trevor\", \"Willoughby\", \"Acton\", \"Bartholomew\", \"Culverton\", \"Cunningham\", \"Gregson\", \"Musgrave\", \"Neligan\", \"Pycroft\", \"Ralph\", \"Scott\", \"Stangerson\", \"Staunton\", \"Woodley\", \"Alec\", \"Armstrong\", \"Baker\", \"Cadogan\", \"Eccles\", \"Eustace\", \"Garcia\", \"Mason\", \"Morrison\", \"Scanlan\", \"Smith\", \"Stoner\", \"Watson\", \"Baldwin\", \"Barclay\", \"Barnicot\", \"Barrymore\", \"Bork\", \"Browner\", \"Carey\", \"Doran\", \"Frank\", \"Gloria\", \"Hall\", \"Hilton\", \"McFarlane\", \"Neville\", \"Oldacre\", \"Roylott\", \"Rucastle\", \"Simpson\", \"Thaddeus\", \"William\", \"Ames\", \"Athelney\", \"Cubitt\", \"Douglas\", \"Emsworth\", \"Ferguson\", \"Gilchrist\", \"Gregory\", \"Hilda\", \"Hopkins\", \"Jefferson\", \"McMurdo\", \"Sarah\", \"Stanley\", \"Trevelyan\", \"Turner\", \"Victor\", \"Williamson\"], \"edges\": [[\"McGinty\", \"Jack\"], [\"Joseph\", \"Harrison\"], [\"MacDonald\", \"White\"], [\"Adair\", \"Moran\"], [\"Sutherland\", \"Mary\"], [\"Robert\", \"Simon\"], [\"Mycroft\", \"Sherlock\"], [\"Barker\", \"Cecil\"], [\"Joseph\", \"Drebber\"], [\"Joseph\", \"Smith\"], [\"Jones\", \"Watson\"], [\"MacDonald\", \"Mason\"], [\"White\", \"Mason\"], [\"Jones\", \"Athelney\"], [\"Slaney\", \"Cubitt\"], [\"Barker\", \"Ames\"], [\"Barker\", \"Douglas\"], [\"McGinty\", \"McMurdo\"], [\"Robert\", \"Ferguson\"], [\"Lestrade\", \"Mycroft\"], [\"Charles\", \"Baskerville\"], [\"Milverton\", \"Charles\"], [\"Lee\", \"Clair\"], [\"Baskerville\", \"Henry\"], [\"Lestrade\", \"Sherlock\"], [\"Tregennis\", \"Mortimer\"], [\"Charles\", \"Mortimer\"], [\"Adler\", \"Sherlock\"], [\"Sholto\", \"Bartholomew\"], [\"Lestrade\", \"Gregson\"], [\"Milverton\", \"Watson\"], [\"Moran\", \"Roylott\"], [\"Charles\", \"Barrymore\"], [\"Charles\", \"Hall\"], [\"Jim\", \"Browner\"], [\"Hudson\", \"Mycroft\"], [\"Von\", \"Baron\"], [\"Peter\", \"Lee\"], [\"Lucy\", \"Ferrier\"], [\"Hudson\", \"Napoleon\"], [\"Hudson\", \"Sherlock\"], [\"Lucy\", \"Hope\"], [\"Moriarty\", \"Sherlock\"], [\"Bannister\", \"Soames\"], [\"Wilson\", \"Jabez\"], [\"Ferrier\", \"Hope\"], [\"Von\", \"Bork\"], [\"Peter\", \"Carey\"], [\"Hudson\", \"Barnicot\"], [\"Morris\", \"McMurdo\"], [\"Hosmer\", \"Angel\"], [\"Irene\", \"Adler\"], [\"Huxtable\", \"Wilder\"], [\"Mortimer\", \"Baskerville\"], [\"Henry\", \"Baskerville\"], [\"Henry\", \"Stapleton\"], [\"Henry\", \"Mortimer\"], [\"Drebber\", \"Hope\"], [\"Irene\", \"Sherlock\"], [\"Mortimer\", \"Henry\"], [\"Percy\", \"Phelps\"], [\"Cyril\", \"Overton\"], [\"Willoughby\", \"Smith\"], [\"Brackenstall\", \"Eustace\"], [\"Henry\", \"Hall\"], [\"Jonas\", \"Oldacre\"], [\"Jonas\", \"McFarlane\"], [\"Alice\", \"Rucastle\"], [\"Simon\", \"Doran\"], [\"Sherlock\", \"Hopkins\"], [\"Hope\", \"Hilda\"], [\"Trevor\", \"Victor\"], [\"Percy\", \"Trevelyan\"], [\"Woodley\", \"Jack\"], [\"Stangerson\", \"Joseph\"], [\"Staunton\", \"Godfrey\"], [\"Bartholomew\", \"Sholto\"], [\"Stangerson\", \"Lestrade\"], [\"Woodley\", \"Carruthers\"], [\"Stangerson\", \"Drebber\"], [\"Acton\", \"Cunningham\"], [\"Culverton\", \"Smith\"], [\"Ralph\", \"Smith\"], [\"Cunningham\", \"Alec\"], [\"Scott\", \"Eccles\"], [\"Pycroft\", \"Hall\"], [\"Scott\", \"Gloria\"], [\"Armstrong\", \"Godfrey\"], [\"Watson\", \"Hudson\"], [\"Cadogan\", \"West\"], [\"Watson\", \"Moriarty\"], [\"Watson\", \"Trevor\"], [\"Baker\", \"Hope\"], [\"Baker\", \"Henry\"], [\"Watson\", \"Sherlock\"], [\"Baker\", \"Sherlock\"], [\"Watson\", \"Huxtable\"], [\"Smith\", \"Sherlock\"], [\"Watson\", \"Don\"], [\"Garcia\", \"Scott\"], [\"Watson\", \"Musgrave\"], [\"Armstrong\", \"Staunton\"], [\"Baker\", \"Watson\"], [\"Watson\", \"Baker\"], [\"Watson\", \"Smith\"], [\"Garcia\", \"Eccles\"], [\"Stoner\", \"Roylott\"], [\"Baker\", \"Jefferson\"], [\"Scanlan\", \"McMurdo\"], [\"Simpson\", \"Straker\"], [\"Hilton\", \"Slaney\"], [\"Thaddeus\", \"Sholto\"], [\"Carey\", \"Lee\"], [\"Hall\", \"Baskerville\"], [\"Barrymore\", \"Baskerville\"], [\"Roylott\", \"Moran\"], [\"Simpson\", \"Fitzroy\"], [\"Neville\", \"Clair\"], [\"Neville\", \"Lee\"], [\"William\", \"Morris\"], [\"Frank\", \"Simon\"], [\"Barrymore\", \"Henry\"], [\"William\", \"Cunningham\"], [\"Carey\", \"Neligan\"], [\"Barclay\", \"Morrison\"], [\"William\", \"Alec\"], [\"McFarlane\", \"Oldacre\"], [\"Hall\", \"Barrymore\"], [\"Hilton\", \"Cubitt\"], [\"Baldwin\", \"McMurdo\"], [\"McMurdo\", \"Jack\"], [\"Emsworth\", \"Godfrey\"], [\"Turner\", \"McCarthy\"], [\"Gregory\", \"Ross\"], [\"Williamson\", \"Carruthers\"], [\"Sarah\", \"Mary\"], [\"Jefferson\", \"Ferrier\"], [\"Jefferson\", \"Lucy\"], [\"Jefferson\", \"Hope\"], [\"Trevelyan\", \"Blessington\"], [\"Sarah\", \"Cushing\"], [\"Gilchrist\", \"Jabez\"], [\"Williamson\", \"Woodley\"], [\"Williamson\", \"Hall\"], [\"Stanley\", \"Hopkins\"], [\"Ames\", \"Douglas\"]], \"ipython\": true, \"error_msg\": \"\"}, e);\n",
       "                });\n",
       "            })();\n",
       "        "
      ]
     },
     "metadata": {},
     "output_type": "display_data"
    }
   ],
   "source": [
    "from collections import Counter\n",
    "c = Counter(person_list)\n",
    "# We are removing some mistken classified words, too common names, and etc. to make the constructed social network\n",
    "# more readable.\n",
    "characters_set = set(i[0] for i in c.most_common(200)) - set(['the', 'You', 'Mrs', 'He', 'Dr', 'me','did', 'Mr', \n",
    "                                      'Now', 'My', 'Miss', 'of', 'Sir', 'Here', 'All', 'Our', 'sir',\n",
    "                                      'man', 'father', 'What', 'There', 'When', 'no', 'Lord', 'you', 'St',\n",
    "                                      'John', 'James',  'Holmes', 'Arthur', 'Conan', 'Doyle', 'Lady'])\n",
    "\n",
    "sf_sentences = gl.load_sframe(\"%s/sentences.sframe\" % BASE_DIR)\n",
    "sf_sentences['characters'] = sf_sentences['words'].apply(lambda w: list(set(w) & characters_set))\n",
    "sf_sentences['characters_num'] = sf_sentences['characters'].apply(lambda l: len(l))\n",
    "sf_sentences = sf_sentences[sf_sentences['characters_num'] > 1]\n",
    "g = get_characters_graph(sf_sentences, min_edge_strength=3)\n",
    "print g.summary()\n",
    "g.show(vlabel=\"__id\", elabel=\"strength\", node_size=200)\n"
   ]
  },
  {
   "cell_type": "code",
   "execution_count": 22,
   "metadata": {
    "collapsed": false
   },
   "outputs": [],
   "source": [
    "# adding a function to clean the graph as in some cases the Stanford NER maps 'I' as a person.\n",
    "def clean_graph(g, remove_entities_set):\n",
    "    vertices = g.vertices[g.vertices[\"__id\"].apply(lambda v: v not in remove_entities_set)] \n",
    "    edges = g.edges[g.edges.apply(lambda e: e[\"__src_id\"] not in remove_entities_set and e[\"__dst_id\"] not in remove_entities_set)]\n",
    "    return gl.SGraph(vertices, edges)"
   ]
  },
  {
   "cell_type": "code",
   "execution_count": 23,
   "metadata": {
    "collapsed": false
   },
   "outputs": [
    {
     "data": {
      "application/javascript": [
       "$(\"head\").append($(\"<link/>\").attr({\n",
       "  rel:  \"stylesheet\",\n",
       "  type: \"text/css\",\n",
       "  href: \"//cdnjs.cloudflare.com/ajax/libs/font-awesome/4.1.0/css/font-awesome.min.css\"\n",
       "}));\n",
       "$(\"head\").append($(\"<link/>\").attr({\n",
       "  rel:  \"stylesheet\",\n",
       "  type: \"text/css\",\n",
       "  href: \"https://static.turi.com/products/graphlab-create/2.1/canvas/css/canvas.css\"\n",
       "}));\n",
       "\n",
       "            (function(){\n",
       "\n",
       "                var e = null;\n",
       "                if (typeof element == 'undefined') {\n",
       "                    var scripts = document.getElementsByTagName('script');\n",
       "                    var thisScriptTag = scripts[scripts.length-1];\n",
       "                    var parentDiv = thisScriptTag.parentNode;\n",
       "                    e = document.createElement('div');\n",
       "                    parentDiv.appendChild(e);\n",
       "                } else {\n",
       "                    e = element[0];\n",
       "                }\n",
       "\n",
       "                if (typeof requirejs !== 'undefined') {\n",
       "                    // disable load timeout; ipython_app.js is large and can take a while to load.\n",
       "                    requirejs.config({waitSeconds: 0});\n",
       "                }\n",
       "\n",
       "                require(['https://static.turi.com/products/graphlab-create/2.1/canvas/js/ipython_app.js'], function(IPythonApp){\n",
       "                    var app = new IPythonApp();\n",
       "                    app.attachView('sgraph','View', {\"edges_labels\": [5, 16, 4, 8, 12, 8, 6, 17, 4, 3, 3, 4, 27, 19, 4, 5, 13, 5, 5, 6, 21, 9, 6, 4, 11, 48, 3, 4, 6, 15, 4, 4, 4, 6, 6, 4, 4, 4, 12, 4, 3, 3, 4, 4, 18, 5, 70, 42, 4, 4, 36, 32, 4, 8, 23, 11, 6, 3, 4, 3, 14, 10, 18, 6, 3, 26, 6, 4, 6, 4, 4, 4, 6, 4, 10, 38, 3, 3, 18, 17, 4, 18, 6, 18, 36, 26, 20, 4, 6, 4, 34, 3, 3, 19, 13, 9, 4, 8, 4, 6, 7, 6, 3, 7, 3, 6, 4, 3, 7, 8, 4, 21, 4, 32, 3, 4, 14, 28, 6, 4, 4, 4, 4, 4, 6, 6, 8, 5, 42, 4, 5, 5, 6, 4, 8, 8, 5, 3, 37, 4, 8, 4, 8, 4, 56, 5], \"selected_variable\": {\"name\": [\"g\"], \"view_file\": \"sgraph\", \"view_component\": \"View\", \"view_params\": {\"elabel_hover\": false, \"vertex_positions\": null, \"h_offset\": 0.0, \"node_size\": 200, \"ecolor\": [0.37, 0.33, 0.33], \"elabel\": \"strength\", \"arrows\": false, \"ewidth\": 1, \"vlabel\": \"__id\", \"highlight_color\": [0.69, 0.0, 0.498], \"vcolor\": [0.522, 0.741, 0.0], \"vlabel_hover\": false, \"highlight\": {}, \"v_offset\": 0.03}, \"view_components\": [\"View\"], \"type\": \"SGraph\", \"descriptives_links\": {\"edges\": \"edges\", \"vertices\": \"vertices\"}, \"descriptives\": {\"edges\": 146, \"vertices\": 134}}, \"positions\": null, \"error_type\": 0, \"vertices\": [\"Straker\", \"Slaney\", \"Robert\", \"Sutherland\", \"Mycroft\", \"McGinty\", \"McCarthy\", \"MacDonald\", \"Joseph\", \"Angel\", \"Godfrey\", \"White\", \"Jack\", \"Barker\", \"Harrison\", \"Adair\", \"Jones\", \"Tregennis\", \"Wilder\", \"Sholto\", \"Ross\", \"Baron\", \"Lee\", \"Jim\", \"Fitzroy\", \"Clair\", \"Moran\", \"Milverton\", \"Charles\", \"Lestrade\", \"Adler\", \"Baskerville\", \"Wilson\", \"Von\", \"West\", \"Bannister\", \"Stapleton\", \"Moriarty\", \"Peter\", \"Morris\", \"Mary\", \"Lucy\", \"Hudson\", \"Carruthers\", \"Ferrier\", \"Napoleon\", \"Willoughby\", \"Simon\", \"Trevor\", \"Sherlock\", \"Drebber\", \"Blessington\", \"Percy\", \"Soames\", \"Overton\", \"Mortimer\", \"Jabez\", \"Alice\", \"Hosmer\", \"Irene\", \"Brackenstall\", \"Phelps\", \"Henry\", \"Jonas\", \"Huxtable\", \"Cushing\", \"Hope\", \"Don\", \"Cecil\", \"Cyril\", \"Woodley\", \"Staunton\", \"Scott\", \"Ralph\", \"Acton\", \"Pycroft\", \"Stangerson\", \"Neligan\", \"Musgrave\", \"Gregson\", \"Cunningham\", \"Culverton\", \"Bartholomew\", \"Stoner\", \"Morrison\", \"Scanlan\", \"Mason\", \"Garcia\", \"Watson\", \"Eustace\", \"Baker\", \"Cadogan\", \"Smith\", \"Eccles\", \"Armstrong\", \"Alec\", \"William\", \"Thaddeus\", \"Simpson\", \"Rucastle\", \"Oldacre\", \"Gloria\", \"Roylott\", \"Frank\", \"Bork\", \"Carey\", \"McFarlane\", \"Hall\", \"Doran\", \"Browner\", \"Baldwin\", \"Barrymore\", \"Hilton\", \"Barnicot\", \"Neville\", \"Barclay\", \"Williamson\", \"Stanley\", \"Sarah\", \"McMurdo\", \"Ames\", \"Cubitt\", \"Hopkins\", \"Hilda\", \"Gilchrist\", \"Turner\", \"Ferguson\", \"Gregory\", \"Victor\", \"Emsworth\", \"Douglas\", \"Athelney\", \"Trevelyan\", \"Jefferson\"], \"vertices_labels\": [\"Straker\", \"Slaney\", \"Robert\", \"Sutherland\", \"Mycroft\", \"McGinty\", \"McCarthy\", \"MacDonald\", \"Joseph\", \"Angel\", \"Godfrey\", \"White\", \"Jack\", \"Barker\", \"Harrison\", \"Adair\", \"Jones\", \"Tregennis\", \"Wilder\", \"Sholto\", \"Ross\", \"Baron\", \"Lee\", \"Jim\", \"Fitzroy\", \"Clair\", \"Moran\", \"Milverton\", \"Charles\", \"Lestrade\", \"Adler\", \"Baskerville\", \"Wilson\", \"Von\", \"West\", \"Bannister\", \"Stapleton\", \"Moriarty\", \"Peter\", \"Morris\", \"Mary\", \"Lucy\", \"Hudson\", \"Carruthers\", \"Ferrier\", \"Napoleon\", \"Willoughby\", \"Simon\", \"Trevor\", \"Sherlock\", \"Drebber\", \"Blessington\", \"Percy\", \"Soames\", \"Overton\", \"Mortimer\", \"Jabez\", \"Alice\", \"Hosmer\", \"Irene\", \"Brackenstall\", \"Phelps\", \"Henry\", \"Jonas\", \"Huxtable\", \"Cushing\", \"Hope\", \"Don\", \"Cecil\", \"Cyril\", \"Woodley\", \"Staunton\", \"Scott\", \"Ralph\", \"Acton\", \"Pycroft\", \"Stangerson\", \"Neligan\", \"Musgrave\", \"Gregson\", \"Cunningham\", \"Culverton\", \"Bartholomew\", \"Stoner\", \"Morrison\", \"Scanlan\", \"Mason\", \"Garcia\", \"Watson\", \"Eustace\", \"Baker\", \"Cadogan\", \"Smith\", \"Eccles\", \"Armstrong\", \"Alec\", \"William\", \"Thaddeus\", \"Simpson\", \"Rucastle\", \"Oldacre\", \"Gloria\", \"Roylott\", \"Frank\", \"Bork\", \"Carey\", \"McFarlane\", \"Hall\", \"Doran\", \"Browner\", \"Baldwin\", \"Barrymore\", \"Hilton\", \"Barnicot\", \"Neville\", \"Barclay\", \"Williamson\", \"Stanley\", \"Sarah\", \"McMurdo\", \"Ames\", \"Cubitt\", \"Hopkins\", \"Hilda\", \"Gilchrist\", \"Turner\", \"Ferguson\", \"Gregory\", \"Victor\", \"Emsworth\", \"Douglas\", \"Athelney\", \"Trevelyan\", \"Jefferson\"], \"edges\": [[\"McGinty\", \"Jack\"], [\"Joseph\", \"Harrison\"], [\"MacDonald\", \"White\"], [\"Adair\", \"Moran\"], [\"Sutherland\", \"Mary\"], [\"Robert\", \"Simon\"], [\"Mycroft\", \"Sherlock\"], [\"Barker\", \"Cecil\"], [\"Joseph\", \"Drebber\"], [\"Joseph\", \"Smith\"], [\"Jones\", \"Watson\"], [\"MacDonald\", \"Mason\"], [\"White\", \"Mason\"], [\"Jones\", \"Athelney\"], [\"Slaney\", \"Cubitt\"], [\"Barker\", \"Ames\"], [\"Barker\", \"Douglas\"], [\"McGinty\", \"McMurdo\"], [\"Robert\", \"Ferguson\"], [\"Lestrade\", \"Mycroft\"], [\"Charles\", \"Baskerville\"], [\"Milverton\", \"Charles\"], [\"Lee\", \"Clair\"], [\"Baskerville\", \"Henry\"], [\"Lestrade\", \"Sherlock\"], [\"Tregennis\", \"Mortimer\"], [\"Charles\", \"Mortimer\"], [\"Adler\", \"Sherlock\"], [\"Sholto\", \"Bartholomew\"], [\"Lestrade\", \"Gregson\"], [\"Milverton\", \"Watson\"], [\"Moran\", \"Roylott\"], [\"Charles\", \"Barrymore\"], [\"Charles\", \"Hall\"], [\"Jim\", \"Browner\"], [\"Hudson\", \"Mycroft\"], [\"Von\", \"Baron\"], [\"Peter\", \"Lee\"], [\"Lucy\", \"Ferrier\"], [\"Hudson\", \"Napoleon\"], [\"Hudson\", \"Sherlock\"], [\"Lucy\", \"Hope\"], [\"Moriarty\", \"Sherlock\"], [\"Bannister\", \"Soames\"], [\"Wilson\", \"Jabez\"], [\"Ferrier\", \"Hope\"], [\"Von\", \"Bork\"], [\"Peter\", \"Carey\"], [\"Hudson\", \"Barnicot\"], [\"Morris\", \"McMurdo\"], [\"Hosmer\", \"Angel\"], [\"Irene\", \"Adler\"], [\"Huxtable\", \"Wilder\"], [\"Mortimer\", \"Baskerville\"], [\"Henry\", \"Baskerville\"], [\"Henry\", \"Stapleton\"], [\"Henry\", \"Mortimer\"], [\"Drebber\", \"Hope\"], [\"Irene\", \"Sherlock\"], [\"Mortimer\", \"Henry\"], [\"Percy\", \"Phelps\"], [\"Cyril\", \"Overton\"], [\"Willoughby\", \"Smith\"], [\"Brackenstall\", \"Eustace\"], [\"Henry\", \"Hall\"], [\"Jonas\", \"Oldacre\"], [\"Jonas\", \"McFarlane\"], [\"Alice\", \"Rucastle\"], [\"Simon\", \"Doran\"], [\"Sherlock\", \"Hopkins\"], [\"Hope\", \"Hilda\"], [\"Trevor\", \"Victor\"], [\"Percy\", \"Trevelyan\"], [\"Woodley\", \"Jack\"], [\"Stangerson\", \"Joseph\"], [\"Staunton\", \"Godfrey\"], [\"Bartholomew\", \"Sholto\"], [\"Stangerson\", \"Lestrade\"], [\"Woodley\", \"Carruthers\"], [\"Stangerson\", \"Drebber\"], [\"Acton\", \"Cunningham\"], [\"Culverton\", \"Smith\"], [\"Ralph\", \"Smith\"], [\"Cunningham\", \"Alec\"], [\"Scott\", \"Eccles\"], [\"Pycroft\", \"Hall\"], [\"Scott\", \"Gloria\"], [\"Armstrong\", \"Godfrey\"], [\"Watson\", \"Moriarty\"], [\"Watson\", \"Hudson\"], [\"Cadogan\", \"West\"], [\"Watson\", \"Trevor\"], [\"Baker\", \"Hope\"], [\"Baker\", \"Henry\"], [\"Watson\", \"Sherlock\"], [\"Baker\", \"Sherlock\"], [\"Watson\", \"Huxtable\"], [\"Smith\", \"Sherlock\"], [\"Watson\", \"Don\"], [\"Garcia\", \"Scott\"], [\"Watson\", \"Musgrave\"], [\"Armstrong\", \"Staunton\"], [\"Baker\", \"Watson\"], [\"Watson\", \"Baker\"], [\"Watson\", \"Smith\"], [\"Garcia\", \"Eccles\"], [\"Stoner\", \"Roylott\"], [\"Baker\", \"Jefferson\"], [\"Scanlan\", \"McMurdo\"], [\"Simpson\", \"Straker\"], [\"Hilton\", \"Slaney\"], [\"Thaddeus\", \"Sholto\"], [\"Carey\", \"Lee\"], [\"Hall\", \"Baskerville\"], [\"Barrymore\", \"Baskerville\"], [\"Roylott\", \"Moran\"], [\"Simpson\", \"Fitzroy\"], [\"Neville\", \"Clair\"], [\"Neville\", \"Lee\"], [\"William\", \"Morris\"], [\"Frank\", \"Simon\"], [\"Barrymore\", \"Henry\"], [\"William\", \"Cunningham\"], [\"Carey\", \"Neligan\"], [\"Barclay\", \"Morrison\"], [\"William\", \"Alec\"], [\"McFarlane\", \"Oldacre\"], [\"Hall\", \"Barrymore\"], [\"Hilton\", \"Cubitt\"], [\"Baldwin\", \"McMurdo\"], [\"McMurdo\", \"Jack\"], [\"Emsworth\", \"Godfrey\"], [\"Turner\", \"McCarthy\"], [\"Gregory\", \"Ross\"], [\"Williamson\", \"Carruthers\"], [\"Sarah\", \"Mary\"], [\"Jefferson\", \"Ferrier\"], [\"Jefferson\", \"Lucy\"], [\"Jefferson\", \"Hope\"], [\"Trevelyan\", \"Blessington\"], [\"Sarah\", \"Cushing\"], [\"Gilchrist\", \"Jabez\"], [\"Williamson\", \"Woodley\"], [\"Williamson\", \"Hall\"], [\"Stanley\", \"Hopkins\"], [\"Ames\", \"Douglas\"]], \"ipython\": true, \"error_msg\": \"\"}, e);\n",
       "                });\n",
       "            })();\n",
       "        "
      ]
     },
     "metadata": {},
     "output_type": "display_data"
    }
   ],
   "source": [
    "#cleaning the graph and displaying it again\n",
    "g = clean_graph(g, {\"I\"})\n",
    "g.show(vlabel=\"__id\", elabel=\"strength\", node_size=200)"
   ]
  },
  {
   "cell_type": "markdown",
   "metadata": {},
   "source": [
    "The NER algorithm did pretty good job, and most of the names of the identified entities looks logical (at least to me).\n",
    "Additionally, we can understand the link between the various book characters. We can also notice that in many of the graph's components that have only two vertices  the connection is between each characfter first and it's last names. Let use GraphLab [graph_analytics toolkit](https://turi.com/products/create/docs/graphlab.toolkits.graph_analytics.html) and focus on the social network's largest component."
   ]
  },
  {
   "cell_type": "code",
   "execution_count": 24,
   "metadata": {
    "collapsed": false
   },
   "outputs": [
    {
     "data": {
      "text/html": [
       "<pre>+-----------------------------+</pre>"
      ],
      "text/plain": [
       "+-----------------------------+"
      ]
     },
     "metadata": {},
     "output_type": "display_data"
    },
    {
     "data": {
      "text/html": [
       "<pre>| Number of components merged |</pre>"
      ],
      "text/plain": [
       "| Number of components merged |"
      ]
     },
     "metadata": {},
     "output_type": "display_data"
    },
    {
     "data": {
      "text/html": [
       "<pre>+-----------------------------+</pre>"
      ],
      "text/plain": [
       "+-----------------------------+"
      ]
     },
     "metadata": {},
     "output_type": "display_data"
    },
    {
     "data": {
      "text/html": [
       "<pre>| 144                         |</pre>"
      ],
      "text/plain": [
       "| 144                         |"
      ]
     },
     "metadata": {},
     "output_type": "display_data"
    },
    {
     "data": {
      "text/html": [
       "<pre>| 0                           |</pre>"
      ],
      "text/plain": [
       "| 0                           |"
      ]
     },
     "metadata": {},
     "output_type": "display_data"
    },
    {
     "data": {
      "text/html": [
       "<pre>+-----------------------------+</pre>"
      ],
      "text/plain": [
       "+-----------------------------+"
      ]
     },
     "metadata": {},
     "output_type": "display_data"
    },
    {
     "data": {
      "application/javascript": [
       "$(\"head\").append($(\"<link/>\").attr({\n",
       "  rel:  \"stylesheet\",\n",
       "  type: \"text/css\",\n",
       "  href: \"//cdnjs.cloudflare.com/ajax/libs/font-awesome/4.1.0/css/font-awesome.min.css\"\n",
       "}));\n",
       "$(\"head\").append($(\"<link/>\").attr({\n",
       "  rel:  \"stylesheet\",\n",
       "  type: \"text/css\",\n",
       "  href: \"https://static.turi.com/products/graphlab-create/2.1/canvas/css/canvas.css\"\n",
       "}));\n",
       "\n",
       "            (function(){\n",
       "\n",
       "                var e = null;\n",
       "                if (typeof element == 'undefined') {\n",
       "                    var scripts = document.getElementsByTagName('script');\n",
       "                    var thisScriptTag = scripts[scripts.length-1];\n",
       "                    var parentDiv = thisScriptTag.parentNode;\n",
       "                    e = document.createElement('div');\n",
       "                    parentDiv.appendChild(e);\n",
       "                } else {\n",
       "                    e = element[0];\n",
       "                }\n",
       "\n",
       "                if (typeof requirejs !== 'undefined') {\n",
       "                    // disable load timeout; ipython_app.js is large and can take a while to load.\n",
       "                    requirejs.config({waitSeconds: 0});\n",
       "                }\n",
       "\n",
       "                require(['https://static.turi.com/products/graphlab-create/2.1/canvas/js/ipython_app.js'], function(IPythonApp){\n",
       "                    var app = new IPythonApp();\n",
       "                    app.attachView('sgraph','View', {\"edges_labels\": [5, 16, 6, 4, 3, 3, 19, 5, 6, 21, 9, 4, 4, 11, 3, 48, 15, 4, 6, 4, 4, 12, 4, 3, 3, 4, 5, 4, 4, 4, 32, 8, 23, 11, 6, 3, 3, 4, 18, 3, 4, 4, 4, 4, 10, 3, 18, 17, 4, 18, 6, 18, 26, 4, 6, 3, 8, 9, 13, 4, 4, 3, 19, 7, 3, 3, 7, 3, 7, 3, 32, 4, 4, 4, 6, 5, 4, 5, 8, 3, 5, 37, 8, 4, 56], \"selected_variable\": {\"name\": [\"h\"], \"view_file\": \"sgraph\", \"view_component\": \"View\", \"view_params\": {\"elabel_hover\": false, \"vertex_positions\": null, \"h_offset\": 0.0, \"node_size\": 300, \"ecolor\": [0.37, 0.33, 0.33], \"elabel\": \"strength\", \"arrows\": false, \"ewidth\": 1, \"vlabel\": \"__id\", \"highlight_color\": [0.69, 0.0, 0.498], \"vcolor\": [0.522, 0.741, 0.0], \"vlabel_hover\": false, \"highlight\": {}, \"v_offset\": 0.03}, \"view_components\": [\"View\"], \"type\": \"SGraph\", \"descriptives_links\": {\"edges\": \"edges\", \"vertices\": \"vertices\"}, \"descriptives\": {\"edges\": 85, \"vertices\": 58}}, \"positions\": null, \"error_type\": 0, \"vertices\": [\"Harrison\", \"Jack\", \"Joseph\", \"McGinty\", \"Jones\", \"Mycroft\", \"Baskerville\", \"Adler\", \"Lestrade\", \"Milverton\", \"Charles\", \"Wilder\", \"Tregennis\", \"Stapleton\", \"Napoleon\", \"Ferrier\", \"Hudson\", \"Carruthers\", \"Morris\", \"Lucy\", \"Moriarty\", \"Henry\", \"Mortimer\", \"Sherlock\", \"Irene\", \"Willoughby\", \"Trevor\", \"Drebber\", \"Don\", \"Hope\", \"Huxtable\", \"Culverton\", \"Cunningham\", \"Musgrave\", \"Gregson\", \"Stangerson\", \"Acton\", \"Ralph\", \"Pycroft\", \"Woodley\", \"Alec\", \"Smith\", \"Baker\", \"Watson\", \"Scanlan\", \"Barnicot\", \"Barrymore\", \"Baldwin\", \"Hall\", \"William\", \"Jefferson\", \"Athelney\", \"Victor\", \"Hilda\", \"Hopkins\", \"Williamson\", \"McMurdo\", \"Stanley\"], \"vertices_labels\": [\"Harrison\", \"Jack\", \"Joseph\", \"McGinty\", \"Jones\", \"Mycroft\", \"Baskerville\", \"Adler\", \"Lestrade\", \"Milverton\", \"Charles\", \"Wilder\", \"Tregennis\", \"Stapleton\", \"Napoleon\", \"Ferrier\", \"Hudson\", \"Carruthers\", \"Morris\", \"Lucy\", \"Moriarty\", \"Henry\", \"Mortimer\", \"Sherlock\", \"Irene\", \"Willoughby\", \"Trevor\", \"Drebber\", \"Don\", \"Hope\", \"Huxtable\", \"Culverton\", \"Cunningham\", \"Musgrave\", \"Gregson\", \"Stangerson\", \"Acton\", \"Ralph\", \"Pycroft\", \"Woodley\", \"Alec\", \"Smith\", \"Baker\", \"Watson\", \"Scanlan\", \"Barnicot\", \"Barrymore\", \"Baldwin\", \"Hall\", \"William\", \"Jefferson\", \"Athelney\", \"Victor\", \"Hilda\", \"Hopkins\", \"Williamson\", \"McMurdo\", \"Stanley\"], \"edges\": [[\"McGinty\", \"Jack\"], [\"Joseph\", \"Harrison\"], [\"Mycroft\", \"Sherlock\"], [\"Joseph\", \"Drebber\"], [\"Jones\", \"Watson\"], [\"Joseph\", \"Smith\"], [\"Jones\", \"Athelney\"], [\"McGinty\", \"McMurdo\"], [\"Lestrade\", \"Mycroft\"], [\"Charles\", \"Baskerville\"], [\"Milverton\", \"Charles\"], [\"Adler\", \"Sherlock\"], [\"Baskerville\", \"Henry\"], [\"Lestrade\", \"Sherlock\"], [\"Charles\", \"Mortimer\"], [\"Tregennis\", \"Mortimer\"], [\"Lestrade\", \"Gregson\"], [\"Milverton\", \"Watson\"], [\"Charles\", \"Hall\"], [\"Charles\", \"Barrymore\"], [\"Hudson\", \"Mycroft\"], [\"Lucy\", \"Ferrier\"], [\"Hudson\", \"Napoleon\"], [\"Lucy\", \"Hope\"], [\"Hudson\", \"Sherlock\"], [\"Moriarty\", \"Sherlock\"], [\"Ferrier\", \"Hope\"], [\"Hudson\", \"Barnicot\"], [\"Morris\", \"McMurdo\"], [\"Huxtable\", \"Wilder\"], [\"Irene\", \"Adler\"], [\"Mortimer\", \"Baskerville\"], [\"Henry\", \"Baskerville\"], [\"Henry\", \"Stapleton\"], [\"Henry\", \"Mortimer\"], [\"Mortimer\", \"Henry\"], [\"Drebber\", \"Hope\"], [\"Irene\", \"Sherlock\"], [\"Willoughby\", \"Smith\"], [\"Henry\", \"Hall\"], [\"Sherlock\", \"Hopkins\"], [\"Hope\", \"Hilda\"], [\"Trevor\", \"Victor\"], [\"Woodley\", \"Jack\"], [\"Stangerson\", \"Joseph\"], [\"Stangerson\", \"Lestrade\"], [\"Woodley\", \"Carruthers\"], [\"Stangerson\", \"Drebber\"], [\"Acton\", \"Cunningham\"], [\"Culverton\", \"Smith\"], [\"Ralph\", \"Smith\"], [\"Cunningham\", \"Alec\"], [\"Pycroft\", \"Hall\"], [\"Watson\", \"Hudson\"], [\"Watson\", \"Moriarty\"], [\"Watson\", \"Trevor\"], [\"Smith\", \"Sherlock\"], [\"Baker\", \"Sherlock\"], [\"Watson\", \"Sherlock\"], [\"Watson\", \"Huxtable\"], [\"Watson\", \"Don\"], [\"Baker\", \"Hope\"], [\"Baker\", \"Henry\"], [\"Watson\", \"Musgrave\"], [\"Watson\", \"Smith\"], [\"Baker\", \"Watson\"], [\"Watson\", \"Baker\"], [\"Baker\", \"Jefferson\"], [\"Scanlan\", \"McMurdo\"], [\"Barrymore\", \"Baskerville\"], [\"Hall\", \"Baskerville\"], [\"William\", \"Morris\"], [\"Barrymore\", \"Henry\"], [\"William\", \"Cunningham\"], [\"William\", \"Alec\"], [\"Hall\", \"Barrymore\"], [\"Baldwin\", \"McMurdo\"], [\"McMurdo\", \"Jack\"], [\"Williamson\", \"Carruthers\"], [\"Jefferson\", \"Lucy\"], [\"Jefferson\", \"Ferrier\"], [\"Jefferson\", \"Hope\"], [\"Williamson\", \"Woodley\"], [\"Williamson\", \"Hall\"], [\"Stanley\", \"Hopkins\"]], \"ipython\": true, \"error_msg\": \"\"}, e);\n",
       "                });\n",
       "            })();\n",
       "        "
      ]
     },
     "metadata": {},
     "output_type": "display_data"
    }
   ],
   "source": [
    "def get_graph_largest_compnent(g):\n",
    "    \"\"\"\n",
    "    Returns a graph with the largest component of the input graph\n",
    "    :param g: input graph (SGraph object)\n",
    "    :return: a graph of the largest component in the input object\n",
    "    :rtype: gl.SGraph\n",
    "    \"\"\"\n",
    "    \n",
    "    cc = gl.connected_components.create(g)    \n",
    "    #add each vertices its component id\n",
    "    g.vertices['component_id'] = cc['graph'].vertices['component_id']\n",
    "    # calculate the component id of the largest component\n",
    "    largest_component_id = cc['component_size'].sort('Count', ascending=False)[0]['component_id']\n",
    "    largest_component_verticies = g.vertices.filter_by(largest_component_id, 'component_id')['__id']\n",
    "    h = g.get_neighborhood(largest_component_verticies, 1)\n",
    "    return h\n",
    "\n",
    "h = get_graph_largest_compnent(g)  \n",
    "h.show(vlabel=\"__id\", elabel=\"strength\", node_size=300)"
   ]
  },
  {
   "cell_type": "code",
   "execution_count": 25,
   "metadata": {
    "collapsed": false
   },
   "outputs": [
    {
     "data": {
      "application/javascript": [
       "$(\"head\").append($(\"<link/>\").attr({\n",
       "  rel:  \"stylesheet\",\n",
       "  type: \"text/css\",\n",
       "  href: \"//cdnjs.cloudflare.com/ajax/libs/font-awesome/4.1.0/css/font-awesome.min.css\"\n",
       "}));\n",
       "$(\"head\").append($(\"<link/>\").attr({\n",
       "  rel:  \"stylesheet\",\n",
       "  type: \"text/css\",\n",
       "  href: \"https://static.turi.com/products/graphlab-create/2.1/canvas/css/canvas.css\"\n",
       "}));\n",
       "\n",
       "            (function(){\n",
       "\n",
       "                var e = null;\n",
       "                if (typeof element == 'undefined') {\n",
       "                    var scripts = document.getElementsByTagName('script');\n",
       "                    var thisScriptTag = scripts[scripts.length-1];\n",
       "                    var parentDiv = thisScriptTag.parentNode;\n",
       "                    e = document.createElement('div');\n",
       "                    parentDiv.appendChild(e);\n",
       "                } else {\n",
       "                    e = element[0];\n",
       "                }\n",
       "\n",
       "                if (typeof requirejs !== 'undefined') {\n",
       "                    // disable load timeout; ipython_app.js is large and can take a while to load.\n",
       "                    requirejs.config({waitSeconds: 0});\n",
       "                }\n",
       "\n",
       "                require(['https://static.turi.com/products/graphlab-create/2.1/canvas/js/ipython_app.js'], function(IPythonApp){\n",
       "                    var app = new IPythonApp();\n",
       "                    app.attachView('sgraph','View', {\"edges_labels\": [5, 16, 4, 8, 12, 8, 6, 17, 4, 3, 3, 4, 27, 19, 4, 5, 13, 5, 5, 6, 21, 9, 6, 4, 11, 48, 3, 4, 6, 15, 4, 4, 4, 6, 6, 4, 4, 4, 12, 4, 3, 3, 4, 4, 18, 5, 70, 42, 4, 4, 36, 32, 4, 8, 23, 11, 6, 3, 4, 3, 14, 10, 18, 6, 3, 26, 6, 4, 6, 4, 4, 4, 6, 4, 10, 38, 3, 3, 18, 17, 4, 18, 6, 18, 36, 26, 20, 4, 6, 4, 34, 3, 3, 19, 13, 9, 4, 8, 4, 6, 7, 6, 3, 7, 3, 6, 4, 7, 3, 8, 4, 21, 4, 32, 3, 4, 14, 28, 6, 4, 4, 4, 4, 4, 6, 6, 8, 5, 42, 4, 5, 5, 6, 4, 8, 8, 5, 3, 37, 4, 8, 4, 8, 4, 56, 5], \"selected_variable\": {\"name\": [\"h\"], \"view_file\": \"sgraph\", \"view_component\": \"View\", \"view_params\": {\"elabel_hover\": false, \"vertex_positions\": null, \"h_offset\": 0.0, \"node_size\": 300, \"ecolor\": [0.37, 0.33, 0.33], \"elabel\": \"strength\", \"arrows\": false, \"ewidth\": 1, \"vlabel\": \"__id\", \"highlight_color\": [0.69, 0.0, 0.498], \"vcolor\": [0.522, 0.741, 0.0], \"vlabel_hover\": false, \"highlight\": {}, \"v_offset\": 0.03}, \"view_components\": [\"View\"], \"type\": \"SGraph\", \"descriptives_links\": {\"edges\": \"edges\", \"vertices\": \"vertices\"}, \"descriptives\": {\"edges\": 146, \"vertices\": 134}}, \"positions\": null, \"error_type\": 0, \"vertices\": [\"Harrison\", \"Barker\", \"Jack\", \"White\", \"Godfrey\", \"Joseph\", \"McGinty\", \"Angel\", \"Mycroft\", \"Sutherland\", \"MacDonald\", \"McCarthy\", \"Adair\", \"Jones\", \"Robert\", \"Slaney\", \"Straker\", \"Baskerville\", \"Adler\", \"Lestrade\", \"Charles\", \"Milverton\", \"Moran\", \"Fitzroy\", \"Jim\", \"Lee\", \"Baron\", \"Ross\", \"Sholto\", \"Wilder\", \"Clair\", \"Tregennis\", \"Napoleon\", \"Ferrier\", \"Carruthers\", \"Lucy\", \"Moriarty\", \"Von\", \"West\", \"Stapleton\", \"Bannister\", \"Mary\", \"Morris\", \"Peter\", \"Hudson\", \"Wilson\", \"Cyril\", \"Don\", \"Hope\", \"Cushing\", \"Huxtable\", \"Jonas\", \"Cecil\", \"Phelps\", \"Henry\", \"Brackenstall\", \"Irene\", \"Hosmer\", \"Alice\", \"Mortimer\", \"Overton\", \"Trevor\", \"Simon\", \"Soames\", \"Percy\", \"Drebber\", \"Blessington\", \"Sherlock\", \"Jabez\", \"Willoughby\", \"Gregson\", \"Musgrave\", \"Neligan\", \"Stangerson\", \"Pycroft\", \"Acton\", \"Ralph\", \"Scott\", \"Cunningham\", \"Staunton\", \"Woodley\", \"Bartholomew\", \"Culverton\", \"Alec\", \"Armstrong\", \"Smith\", \"Cadogan\", \"Baker\", \"Eustace\", \"Watson\", \"Scanlan\", \"Garcia\", \"Mason\", \"Morrison\", \"Eccles\", \"Stoner\", \"Barclay\", \"Neville\", \"Barnicot\", \"Hilton\", \"Barrymore\", \"Baldwin\", \"Browner\", \"Doran\", \"Hall\", \"McFarlane\", \"Carey\", \"Bork\", \"Frank\", \"Roylott\", \"Rucastle\", \"Gloria\", \"Oldacre\", \"Simpson\", \"Thaddeus\", \"William\", \"Jefferson\", \"Trevelyan\", \"Athelney\", \"Douglas\", \"Emsworth\", \"Victor\", \"Gregory\", \"Ferguson\", \"Turner\", \"Gilchrist\", \"Hilda\", \"Ames\", \"Hopkins\", \"Cubitt\", \"Williamson\", \"McMurdo\", \"Sarah\", \"Stanley\"], \"vertices_labels\": [\"Harrison\", \"Barker\", \"Jack\", \"White\", \"Godfrey\", \"Joseph\", \"McGinty\", \"Angel\", \"Mycroft\", \"Sutherland\", \"MacDonald\", \"McCarthy\", \"Adair\", \"Jones\", \"Robert\", \"Slaney\", \"Straker\", \"Baskerville\", \"Adler\", \"Lestrade\", \"Charles\", \"Milverton\", \"Moran\", \"Fitzroy\", \"Jim\", \"Lee\", \"Baron\", \"Ross\", \"Sholto\", \"Wilder\", \"Clair\", \"Tregennis\", \"Napoleon\", \"Ferrier\", \"Carruthers\", \"Lucy\", \"Moriarty\", \"Von\", \"West\", \"Stapleton\", \"Bannister\", \"Mary\", \"Morris\", \"Peter\", \"Hudson\", \"Wilson\", \"Cyril\", \"Don\", \"Hope\", \"Cushing\", \"Huxtable\", \"Jonas\", \"Cecil\", \"Phelps\", \"Henry\", \"Brackenstall\", \"Irene\", \"Hosmer\", \"Alice\", \"Mortimer\", \"Overton\", \"Trevor\", \"Simon\", \"Soames\", \"Percy\", \"Drebber\", \"Blessington\", \"Sherlock\", \"Jabez\", \"Willoughby\", \"Gregson\", \"Musgrave\", \"Neligan\", \"Stangerson\", \"Pycroft\", \"Acton\", \"Ralph\", \"Scott\", \"Cunningham\", \"Staunton\", \"Woodley\", \"Bartholomew\", \"Culverton\", \"Alec\", \"Armstrong\", \"Smith\", \"Cadogan\", \"Baker\", \"Eustace\", \"Watson\", \"Scanlan\", \"Garcia\", \"Mason\", \"Morrison\", \"Eccles\", \"Stoner\", \"Barclay\", \"Neville\", \"Barnicot\", \"Hilton\", \"Barrymore\", \"Baldwin\", \"Browner\", \"Doran\", \"Hall\", \"McFarlane\", \"Carey\", \"Bork\", \"Frank\", \"Roylott\", \"Rucastle\", \"Gloria\", \"Oldacre\", \"Simpson\", \"Thaddeus\", \"William\", \"Jefferson\", \"Trevelyan\", \"Athelney\", \"Douglas\", \"Emsworth\", \"Victor\", \"Gregory\", \"Ferguson\", \"Turner\", \"Gilchrist\", \"Hilda\", \"Ames\", \"Hopkins\", \"Cubitt\", \"Williamson\", \"McMurdo\", \"Sarah\", \"Stanley\"], \"edges\": [[\"McGinty\", \"Jack\"], [\"Joseph\", \"Harrison\"], [\"MacDonald\", \"White\"], [\"Adair\", \"Moran\"], [\"Sutherland\", \"Mary\"], [\"Robert\", \"Simon\"], [\"Mycroft\", \"Sherlock\"], [\"Barker\", \"Cecil\"], [\"Joseph\", \"Drebber\"], [\"Joseph\", \"Smith\"], [\"Jones\", \"Watson\"], [\"MacDonald\", \"Mason\"], [\"White\", \"Mason\"], [\"Jones\", \"Athelney\"], [\"Slaney\", \"Cubitt\"], [\"Barker\", \"Ames\"], [\"Barker\", \"Douglas\"], [\"McGinty\", \"McMurdo\"], [\"Robert\", \"Ferguson\"], [\"Lestrade\", \"Mycroft\"], [\"Charles\", \"Baskerville\"], [\"Milverton\", \"Charles\"], [\"Lee\", \"Clair\"], [\"Baskerville\", \"Henry\"], [\"Lestrade\", \"Sherlock\"], [\"Tregennis\", \"Mortimer\"], [\"Charles\", \"Mortimer\"], [\"Adler\", \"Sherlock\"], [\"Sholto\", \"Bartholomew\"], [\"Lestrade\", \"Gregson\"], [\"Milverton\", \"Watson\"], [\"Moran\", \"Roylott\"], [\"Charles\", \"Barrymore\"], [\"Charles\", \"Hall\"], [\"Jim\", \"Browner\"], [\"Hudson\", \"Mycroft\"], [\"Von\", \"Baron\"], [\"Peter\", \"Lee\"], [\"Lucy\", \"Ferrier\"], [\"Hudson\", \"Napoleon\"], [\"Hudson\", \"Sherlock\"], [\"Lucy\", \"Hope\"], [\"Moriarty\", \"Sherlock\"], [\"Bannister\", \"Soames\"], [\"Wilson\", \"Jabez\"], [\"Ferrier\", \"Hope\"], [\"Von\", \"Bork\"], [\"Peter\", \"Carey\"], [\"Hudson\", \"Barnicot\"], [\"Morris\", \"McMurdo\"], [\"Hosmer\", \"Angel\"], [\"Irene\", \"Adler\"], [\"Huxtable\", \"Wilder\"], [\"Mortimer\", \"Baskerville\"], [\"Henry\", \"Baskerville\"], [\"Henry\", \"Stapleton\"], [\"Henry\", \"Mortimer\"], [\"Drebber\", \"Hope\"], [\"Irene\", \"Sherlock\"], [\"Mortimer\", \"Henry\"], [\"Percy\", \"Phelps\"], [\"Cyril\", \"Overton\"], [\"Willoughby\", \"Smith\"], [\"Brackenstall\", \"Eustace\"], [\"Henry\", \"Hall\"], [\"Jonas\", \"Oldacre\"], [\"Jonas\", \"McFarlane\"], [\"Alice\", \"Rucastle\"], [\"Simon\", \"Doran\"], [\"Sherlock\", \"Hopkins\"], [\"Hope\", \"Hilda\"], [\"Trevor\", \"Victor\"], [\"Percy\", \"Trevelyan\"], [\"Woodley\", \"Jack\"], [\"Stangerson\", \"Joseph\"], [\"Staunton\", \"Godfrey\"], [\"Bartholomew\", \"Sholto\"], [\"Stangerson\", \"Lestrade\"], [\"Woodley\", \"Carruthers\"], [\"Stangerson\", \"Drebber\"], [\"Acton\", \"Cunningham\"], [\"Culverton\", \"Smith\"], [\"Ralph\", \"Smith\"], [\"Cunningham\", \"Alec\"], [\"Scott\", \"Eccles\"], [\"Pycroft\", \"Hall\"], [\"Scott\", \"Gloria\"], [\"Armstrong\", \"Godfrey\"], [\"Watson\", \"Moriarty\"], [\"Watson\", \"Hudson\"], [\"Cadogan\", \"West\"], [\"Watson\", \"Trevor\"], [\"Baker\", \"Hope\"], [\"Baker\", \"Henry\"], [\"Watson\", \"Sherlock\"], [\"Baker\", \"Sherlock\"], [\"Watson\", \"Huxtable\"], [\"Smith\", \"Sherlock\"], [\"Watson\", \"Don\"], [\"Garcia\", \"Scott\"], [\"Watson\", \"Musgrave\"], [\"Armstrong\", \"Staunton\"], [\"Baker\", \"Watson\"], [\"Watson\", \"Baker\"], [\"Watson\", \"Smith\"], [\"Garcia\", \"Eccles\"], [\"Stoner\", \"Roylott\"], [\"Scanlan\", \"McMurdo\"], [\"Baker\", \"Jefferson\"], [\"Simpson\", \"Straker\"], [\"Hilton\", \"Slaney\"], [\"Thaddeus\", \"Sholto\"], [\"Carey\", \"Lee\"], [\"Hall\", \"Baskerville\"], [\"Barrymore\", \"Baskerville\"], [\"Roylott\", \"Moran\"], [\"Simpson\", \"Fitzroy\"], [\"Neville\", \"Clair\"], [\"Neville\", \"Lee\"], [\"William\", \"Morris\"], [\"Frank\", \"Simon\"], [\"Barrymore\", \"Henry\"], [\"William\", \"Cunningham\"], [\"Carey\", \"Neligan\"], [\"Barclay\", \"Morrison\"], [\"William\", \"Alec\"], [\"McFarlane\", \"Oldacre\"], [\"Hall\", \"Barrymore\"], [\"Hilton\", \"Cubitt\"], [\"Baldwin\", \"McMurdo\"], [\"McMurdo\", \"Jack\"], [\"Emsworth\", \"Godfrey\"], [\"Turner\", \"McCarthy\"], [\"Gregory\", \"Ross\"], [\"Williamson\", \"Carruthers\"], [\"Sarah\", \"Mary\"], [\"Jefferson\", \"Ferrier\"], [\"Jefferson\", \"Lucy\"], [\"Jefferson\", \"Hope\"], [\"Trevelyan\", \"Blessington\"], [\"Sarah\", \"Cushing\"], [\"Gilchrist\", \"Jabez\"], [\"Williamson\", \"Woodley\"], [\"Williamson\", \"Hall\"], [\"Stanley\", \"Hopkins\"], [\"Ames\", \"Douglas\"]], \"ipython\": true, \"error_msg\": \"\"}, e);\n",
       "                });\n",
       "            })();\n",
       "        "
      ]
     },
     "metadata": {},
     "output_type": "display_data"
    }
   ],
   "source": [
    "h = clean_graph(g, {\"I\"})\n",
    "h.show(vlabel=\"__id\", elabel=\"strength\", node_size=300)"
   ]
  },
  {
   "cell_type": "markdown",
   "metadata": {
    "collapsed": false
   },
   "source": [
    "According the above graph that can be created almost automatically. We can easily identify the main characters in the stories. Additionally, we can observe that the strongest connection is between Sherlock and Watson.\n",
    "Moreover, we can see various connections among the main and minor characters of the book. However, from only looking at the graph, it is non-trivial to understand the various communities and their relationships.\n",
    "\n",
    "Using similar methods, we can learn more on each character by finding connections among person and location and person and organization. I leave the reader to find additional insights on the various characters on their own."
   ]
  },
  {
   "cell_type": "markdown",
   "metadata": {
    "collapsed": false
   },
   "source": [
    "## <a id=\"topic\"></a> 4. Topic Model"
   ]
  },
  {
   "cell_type": "markdown",
   "metadata": {},
   "source": [
    "<pre>\n",
    "<i>\"I have known him for some time,\" said I, \"but I never knew him do anything yet without a very good reason, and with that our conversation drifted off on to other topics.</i>\n",
    "                                                                 -Memoirs of Sherlock Holmes\n",
    "</pre>"
   ]
  },
  {
   "cell_type": "markdown",
   "metadata": {},
   "source": [
    "According to Wikipedia [article](https://en.wikipedia.org/wiki/Topic_model), topic model is a type of statistical model for discovering the abstract \"topics\" that occur in a collection of documents. I personally find topic models an interesting tool to explore a large text corpus. In this section, we are going to demonstrate how it is possible to utilze GraphLab's [topic model toolkit](https://turi.com/products/create/docs/graphlab.toolkits.topic_model.html) with the [pyLDAvis](https://github.com/bmabey/pyLDAvis) package to uncover topics in a set of documents. Namely, we will use GraphLab's topic model toolkit to analyze paragraphs in Sherlock Holmes stories. \n",
    "\n",
    "We will start by separating each story into paragraphs."
   ]
  },
  {
   "cell_type": "code",
   "execution_count": 26,
   "metadata": {
    "collapsed": false
   },
   "outputs": [],
   "source": [
    "import graphlab as gl\n",
    "import re\n",
    "\n",
    "sf =  gl.load_sframe(\"%s/books.sframe\" % BASE_DIR)\n",
    "sf_paragraphs = sf.flat_map(['title', 'text'], lambda t: [[t['title'],p.strip()] for p in t['text'].split(\"\\n\\n\")])\n",
    "sf_paragraphs = sf_paragraphs.rename({'text': 'paragraph'})"
   ]
  },
  {
   "cell_type": "markdown",
   "metadata": {},
   "source": [
    "Let's calculate the number of words in each paragraph, and filter the paragraph that have less than 25 words."
   ]
  },
  {
   "cell_type": "code",
   "execution_count": 27,
   "metadata": {
    "collapsed": false
   },
   "outputs": [],
   "source": [
    "re_words_split = re.compile(\"(\\w+)\")\n",
    "sf_paragraphs['paragraph_words_number'] = sf_paragraphs['paragraph'].apply(lambda p: len(re_words_split.findall(p)) )\n",
    "sf_paragraphs = sf_paragraphs[sf_paragraphs['paragraph_words_number'] >=25]"
   ]
  },
  {
   "cell_type": "markdown",
   "metadata": {},
   "source": [
    "Using the stories' paragraphs as documents, we can utilize GraphLab's topic model toolkit to discover topics that appear in these paragraph.\n",
    "We create a topic model with 10 topics to learn.\n",
    "\n",
    "Note: the topic model results may be different in each run."
   ]
  },
  {
   "cell_type": "code",
   "execution_count": 28,
   "metadata": {
    "collapsed": false
   },
   "outputs": [
    {
     "data": {
      "text/html": [
       "<pre>Learning a topic model</pre>"
      ],
      "text/plain": [
       "Learning a topic model"
      ]
     },
     "metadata": {},
     "output_type": "display_data"
    },
    {
     "data": {
      "text/html": [
       "<pre>       Number of documents     11657</pre>"
      ],
      "text/plain": [
       "       Number of documents     11657"
      ]
     },
     "metadata": {},
     "output_type": "display_data"
    },
    {
     "data": {
      "text/html": [
       "<pre>           Vocabulary size     18734</pre>"
      ],
      "text/plain": [
       "           Vocabulary size     18734"
      ]
     },
     "metadata": {},
     "output_type": "display_data"
    },
    {
     "data": {
      "text/html": [
       "<pre>   Running collapsed Gibbs sampling</pre>"
      ],
      "text/plain": [
       "   Running collapsed Gibbs sampling"
      ]
     },
     "metadata": {},
     "output_type": "display_data"
    },
    {
     "data": {
      "text/html": [
       "<pre>+-----------+---------------+----------------+-----------------+</pre>"
      ],
      "text/plain": [
       "+-----------+---------------+----------------+-----------------+"
      ]
     },
     "metadata": {},
     "output_type": "display_data"
    },
    {
     "data": {
      "text/html": [
       "<pre>| Iteration | Elapsed Time  | Tokens/Second  | Est. Perplexity |</pre>"
      ],
      "text/plain": [
       "| Iteration | Elapsed Time  | Tokens/Second  | Est. Perplexity |"
      ]
     },
     "metadata": {},
     "output_type": "display_data"
    },
    {
     "data": {
      "text/html": [
       "<pre>+-----------+---------------+----------------+-----------------+</pre>"
      ],
      "text/plain": [
       "+-----------+---------------+----------------+-----------------+"
      ]
     },
     "metadata": {},
     "output_type": "display_data"
    },
    {
     "data": {
      "text/html": [
       "<pre>| 10        | 496.465ms     | 6.7396e+06     | 0               |</pre>"
      ],
      "text/plain": [
       "| 10        | 496.465ms     | 6.7396e+06     | 0               |"
      ]
     },
     "metadata": {},
     "output_type": "display_data"
    },
    {
     "data": {
      "text/html": [
       "<pre>+-----------+---------------+----------------+-----------------+</pre>"
      ],
      "text/plain": [
       "+-----------+---------------+----------------+-----------------+"
      ]
     },
     "metadata": {},
     "output_type": "display_data"
    }
   ],
   "source": [
    "docs =  gl.text_analytics.count_ngrams(sf_paragraphs['paragraph'], n=1)\n",
    "stopwords = gl.text_analytics.stopwords()\n",
    "# adding some additional stopwords to make the topic model more clear\n",
    "stopwords |= set(['man', 'mr', 'sir', 'make', 'made', 'll', 'door', 'long', 'day', 'small']) \n",
    "docs = docs.dict_trim_by_keys(stopwords, exclude=True)\t\n",
    "docs = docs.dropna()\n",
    "topic_model = gl.topic_model.create(docs, num_topics=10)"
   ]
  },
  {
   "cell_type": "markdown",
   "metadata": {},
   "source": [
    "Let's view the most common word in each topic"
   ]
  },
  {
   "cell_type": "code",
   "execution_count": 29,
   "metadata": {
    "collapsed": false
   },
   "outputs": [
    {
     "name": "stdout",
     "output_type": "stream",
     "text": [
      "+-------+----------+------------------+\n",
      "| topic |   word   |      score       |\n",
      "+-------+----------+------------------+\n",
      "|   0   |    \"     | 0.0803284234015  |\n",
      "|   0   |  night   | 0.0171837722994  |\n",
      "|   0   |   left   | 0.0117832429289  |\n",
      "|   0   |   lady   | 0.00958742329468 |\n",
      "|   0   |   end    | 0.00819278109459 |\n",
      "|   1   |  holmes  | 0.0341148035563  |\n",
      "|   1   |   back   | 0.0119734646767  |\n",
      "|   1   |  friend  | 0.0118020478596  |\n",
      "|   1   | thought  |  0.011716339451  |\n",
      "|   1   |   eyes   | 0.0114592142253  |\n",
      "|   2   |    \"     |  0.163251007687  |\n",
      "|   2   |    \"i    | 0.0495078337187  |\n",
      "|   2   |   \"it    | 0.0182248568479  |\n",
      "|   2   |  matter  |  0.017878870007  |\n",
      "|   2   |  heard   | 0.00989234042798 |\n",
      "|   3   |    \"     | 0.0742599258898  |\n",
      "|   3   |  holmes  | 0.0386729462613  |\n",
      "|   3   | morning  | 0.0179725992002  |\n",
      "|   3   |  watson  |  0.014331687093  |\n",
      "|   3   | sherlock | 0.0140967895377  |\n",
      "|   4   |   face   | 0.0127275936279  |\n",
      "|   4   |  street  | 0.0121013197299  |\n",
      "|   4   |   hand   | 0.0104502339987  |\n",
      "|   4   |   days   | 0.0100232290682  |\n",
      "|   4   |  father  | 0.00965315812846 |\n",
      "|   5   |  london  |  0.014440753172  |\n",
      "|   5   |   \"you   | 0.0139833149405  |\n",
      "|   5   |   hour   | 0.00983778096714 |\n",
      "|   5   |  large   | 0.00926598317771 |\n",
      "|   5   |   room   | 0.00843687638303 |\n",
      "|   6   |  house   | 0.0183308821053  |\n",
      "|   6   |   time   | 0.0169555747662  |\n",
      "|   6   |   good   | 0.0149066475059  |\n",
      "|   6   |  great   | 0.0128296527489  |\n",
      "|   6   |   half   | 0.0122683028146  |\n",
      "|   7   |   room   | 0.0294174832789  |\n",
      "|   7   |  holmes  | 0.0212235850943  |\n",
      "|   7   |   left   |  0.013724085061  |\n",
      "|   7   |   open   | 0.0133629980224  |\n",
      "|   7   |    \"     | 0.0123630646846  |\n",
      "|   8   |   back   | 0.0208117751503  |\n",
      "|   8   | instant  | 0.0108879426849  |\n",
      "|   8   | evening  | 0.0100114788489  |\n",
      "|   8   |  night   | 0.00958738344444 |\n",
      "|   8   |  heard   | 0.00834337025791 |\n",
      "|   9   |   time   | 0.0142461678067  |\n",
      "|   9   |  turned  | 0.0105417621484  |\n",
      "|   9   |  crime   | 0.00942182555408 |\n",
      "|   9   |  house   | 0.00933567658528 |\n",
      "|   9   |  watson  | 0.00933567658528 |\n",
      "+-------+----------+------------------+\n",
      "[50 rows x 3 columns]\n",
      "\n"
     ]
    }
   ],
   "source": [
    "topic_model.get_topics().print_rows(100)\n",
    "topic_model.save(\"%s/topic_model\" % BASE_DIR)"
   ]
  },
  {
   "cell_type": "markdown",
   "metadata": {},
   "source": [
    "Reading the above table, we can understand some of the topics. However, it still hard to get good overall overview.\n",
    "Therefore, we will use the excellent [pyLDAvis package](https://github.com/bmabey/pyLDAvis/blob/master/README.rst), developed by Ben Mabey,\n",
    "to better the various topics in the books."
   ]
  },
  {
   "cell_type": "code",
   "execution_count": 30,
   "metadata": {
    "collapsed": false
   },
   "outputs": [
    {
     "data": {
      "text/html": [
       "\n",
       "<link rel=\"stylesheet\" type=\"text/css\" href=\"https://cdn.rawgit.com/bmabey/pyLDAvis/files/ldavis.v1.0.0.css\">\n",
       "\n",
       "\n",
       "<div id=\"ldavis_el867646681453608957464981\"></div>\n",
       "<script type=\"text/javascript\">\n",
       "\n",
       "var ldavis_el867646681453608957464981_data = {\"plot.opts\": {\"xlab\": \"PC1\", \"ylab\": \"PC2\"}, \"topic.order\": [8, 9, 7, 5, 2, 6, 10, 4, 1, 3], \"token.table\": {\"Topic\": [1, 4, 5, 6, 8, 9, 10, 1, 3, 4, 5, 7, 10, 2, 9, 5, 8, 8, 10, 1, 7, 6, 9, 10, 5, 6, 7, 8, 10, 1, 6, 7, 10, 1, 10, 4, 7, 8, 9, 10, 8, 10, 1, 6, 9, 10, 6, 7, 8, 9, 10, 4, 5, 6, 8, 10, 1, 2, 4, 6, 9, 10, 1, 7, 9, 2, 3, 4, 5, 6, 7, 8, 10, 2, 7, 8, 10, 1, 2, 6, 8, 3, 7, 1, 2, 4, 10, 6, 5, 8, 2, 3, 4, 8, 9, 10, 1, 9, 8, 8, 8, 3, 3, 5, 6, 8, 2, 4, 9, 1, 6, 7, 10, 2, 5, 8, 1, 7, 9, 10, 1, 3, 9, 5, 6, 9, 1, 2, 1, 2, 3, 8, 9, 3, 6, 8, 8, 9, 4, 1, 2, 3, 8, 9, 10, 2, 3, 4, 5, 7, 10, 2, 3, 5, 8, 9, 10, 2, 10, 3, 6, 9, 1, 1, 3, 4, 5, 7, 9, 1, 2, 4, 8, 10, 2, 10, 1, 4, 7, 2, 4, 5, 9, 2, 1, 3, 7, 8, 2, 3, 4, 8, 10, 5, 4, 5, 7, 2, 3, 4, 5, 9, 10, 5, 9, 9, 3, 2, 5, 6, 7, 8, 3, 5, 6, 9, 4, 2, 4, 8, 10, 3, 5, 6, 10, 10, 5, 6, 8, 9, 10, 1, 4, 6, 8, 9, 2, 7, 9, 4, 1, 3, 7, 9, 10, 1, 3, 2, 3, 4, 5, 6, 1, 2, 4, 6, 7, 8, 9, 10, 9, 5, 2, 6, 7, 1, 2, 3, 7, 8, 9, 10, 2, 5, 7, 9, 10, 1, 2, 5, 7, 9, 10, 1, 2, 3, 6, 7, 8, 5, 6, 8, 2, 3, 2, 8, 1, 5, 3, 2, 6, 9, 10, 6, 1, 3, 4, 8, 10, 4, 5, 5, 3, 5, 7, 10, 3, 1, 2, 3, 5, 7, 9, 2, 4, 6, 8, 9, 2, 5, 6, 10, 3, 5, 7, 1, 4, 6, 9, 1, 4, 2, 3, 1, 3, 7, 8, 9, 2, 9, 3, 5, 6, 7, 9, 2, 5, 9, 3, 5, 7, 9, 10, 6, 8, 2, 4, 6, 7, 9, 4, 1, 5, 6, 9, 9, 8, 4, 1, 2, 3, 5, 8, 9, 1, 2, 3, 7, 3, 5, 8, 1, 3, 8, 2, 7, 5, 6, 4, 2, 4, 7, 10, 1, 4, 5, 7, 8, 10, 6, 7, 8, 9, 6, 10, 7, 1, 6, 3, 1, 6, 7, 8, 5, 1, 2, 3, 5, 6, 7, 9, 10, 1, 2, 3, 4, 7, 10, 3, 4, 9, 10, 4, 5, 6, 7, 8, 1, 2, 4, 6, 7, 8, 3, 2, 4, 5, 3, 6, 8, 5, 1, 5, 5, 7, 8, 10, 10, 6, 3, 5, 9, 3, 4, 7, 8, 10, 1, 2, 3, 6, 7, 6, 6, 8, 5, 1, 3, 7, 8, 6, 2, 6, 7, 9, 10, 4, 6, 1, 2, 4, 6, 8, 10, 1, 6, 1, 2, 3, 4, 7, 8, 10, 4, 9, 4, 6, 7, 8, 9, 10, 2, 5, 2, 3, 5, 7, 10, 1, 2, 4, 6, 1, 2, 3, 4, 10, 1, 3, 4, 10, 2, 5, 7, 8, 6, 4, 8, 7, 3, 6, 2, 5, 6, 9, 10, 3, 8, 6, 8, 1, 3, 5, 7, 8, 4, 9, 10, 2, 7, 8, 9, 10, 1, 3, 7, 9, 10, 2, 4, 5, 3, 7, 8, 4, 2, 4, 6, 9, 3, 6, 7, 8, 5, 1, 7, 8, 2, 3, 4, 5, 7, 8, 10, 4, 5, 6, 7, 9, 2, 4, 10, 1, 5, 8, 10, 2, 6, 8, 10, 1, 9, 1, 4, 5, 8, 9, 6, 2, 5, 6, 6, 8, 3, 4, 6, 8, 1, 2, 4, 5, 7, 3, 6, 7, 8, 9, 10, 1, 3, 4, 3, 5, 10, 2, 3, 4, 5, 8, 9, 2, 7, 8, 3, 9, 1, 2, 7, 8, 3, 8, 5, 6, 5, 7, 9, 1, 4, 5, 1, 3, 6, 8, 10, 3, 10, 8, 1, 3, 4, 5, 7, 8, 10, 1, 2, 3, 4, 7, 3, 4, 5, 9, 6, 10, 1, 2, 3, 6, 8, 9, 1, 2, 3, 5, 7, 10, 1, 1, 3, 5, 6, 9, 10, 2, 3, 4, 5, 8, 9, 10, 3, 6, 8, 1, 4, 5, 10, 1, 3, 10, 3, 1, 2, 3, 4, 5, 2, 3, 5, 7, 10, 3, 4, 5, 3, 10, 6, 9, 1, 2, 3, 4, 5, 6, 7, 9, 5, 2, 4, 8, 1, 2, 1, 7, 4, 1, 2, 4, 2, 7, 2, 4, 7, 10, 1, 3, 4, 5, 6, 10, 2, 6, 7, 8, 1, 3, 4, 6, 7, 8, 10, 8, 1, 3, 5, 7, 8, 9, 3, 4, 8, 10, 5, 3, 5, 2, 8, 2, 1, 2, 3, 6, 7, 8, 4, 4, 5, 7, 9, 10, 1, 2, 3, 4, 10, 1, 2, 4, 10, 4, 5, 6, 4, 4, 5, 9, 8, 1, 2, 5, 6, 7, 8, 10, 1, 2, 3, 4, 5, 6, 7, 9, 10, 10, 3, 6, 8, 9, 1, 3, 6, 1, 4, 6, 10, 3, 5, 6, 7, 9, 2, 4, 5, 6, 9, 10, 3, 4, 7, 1, 3, 4, 5, 7, 9, 7, 8, 2, 3, 4, 5, 9, 10, 1, 3, 4, 7, 9, 10, 4, 9, 2, 5, 7, 9, 10, 2, 4, 5, 6, 7, 2, 10, 9, 2, 5, 1, 3, 7, 8, 10, 4, 8, 9, 5, 10, 1, 2, 3, 5, 9, 6, 1, 2, 6, 7, 9, 1, 2, 5, 6, 7, 10, 1, 10, 4, 7, 8, 2, 4, 1, 5, 6, 7, 8, 7, 1, 6, 7, 9, 2, 10, 2, 8, 9, 10, 3, 2, 3, 1, 4, 9, 10, 2, 4, 6, 7, 10, 2, 6, 2, 4, 5, 7, 1, 4, 9, 9, 2, 7, 8, 3, 5, 8, 4, 6, 7, 8, 7, 3, 4, 8, 9, 2, 5, 6, 7, 1, 2, 9, 2, 3, 4, 10, 1, 2, 3, 4, 6, 7, 10, 1, 2, 5, 7, 8, 1, 9, 1, 7, 9, 4, 4, 6, 3, 9, 1, 6, 9, 10, 1, 2, 3, 6, 7, 7, 2, 6, 8, 8, 9, 10, 1, 3, 4, 8, 1, 2, 6, 5, 3, 4, 7, 10, 6, 2, 1, 6, 9, 10, 5, 1, 3, 4, 7, 8, 1, 2, 3, 4, 5, 8, 10, 1, 4, 10, 4, 5, 9, 4, 4, 5, 7, 8, 10, 9, 1, 3, 5, 7, 10, 9, 3, 6, 9, 1, 3, 5, 7, 2, 5, 6, 7, 8, 6, 10, 2, 3, 4, 6, 6, 9, 10, 3, 1, 2, 4, 5, 6, 10, 1, 2, 8, 9, 1, 8, 10, 1, 2, 4, 5, 7, 8, 10, 9, 4, 6, 8, 10, 1, 3, 7, 8, 5, 10, 1, 5, 8, 1, 3, 4, 5, 8, 10, 2, 7, 1, 4, 5, 6, 8, 1, 2, 8, 1, 2, 3, 4, 6, 8, 2, 4, 8, 9, 2, 10, 4, 1, 3, 10, 3, 6, 8, 8, 5, 7, 7, 6, 8, 10, 3, 7, 6, 1, 5, 10, 6, 4, 8, 9, 4, 7, 3, 3, 9, 10, 1, 5, 7, 10, 1, 2, 3, 4, 8, 1, 2, 4, 6, 2, 4, 6, 8, 1, 3, 4, 5, 6, 3, 2, 7, 4, 7, 3, 7, 8, 5, 2, 3, 6, 10, 3, 1, 2, 5, 6, 7, 9, 7, 3, 2, 1, 2, 3, 4, 5, 2, 5, 7, 4, 9, 1, 2, 3, 4, 5, 6, 9, 1, 4, 5, 6, 8, 9, 10, 5, 8, 1, 4, 5, 6, 7, 9, 10, 2, 3, 6, 7, 9, 10, 10, 2, 7, 8, 10, 7, 2, 6, 10, 1, 7, 4, 5, 1, 5, 10, 1, 6, 8, 2, 3, 10, 3, 7, 1, 5, 6, 7, 8, 7, 3, 8, 7, 8, 1, 4, 5, 6, 7, 6, 9, 10, 2, 3, 2, 3, 8, 9, 2, 3, 5, 7, 9, 10, 1, 5, 6, 7, 8, 9, 10, 3, 4, 6, 7, 10, 1, 2, 4, 1, 3, 6, 10, 2, 4, 7, 8, 5, 4, 4, 5, 7, 10, 3, 4, 5, 6, 7, 1, 5, 4, 10, 1, 3, 5, 7, 10, 5, 7, 6, 1, 4, 5, 8, 2, 5, 2, 5, 6, 10, 1, 2, 3, 9, 5, 8, 9, 10, 2, 6, 7, 6, 8, 7, 1, 5, 8, 10, 1, 6, 7, 9, 2, 4, 5, 2, 10, 2, 1, 2, 3, 4, 8, 1, 4, 5, 6, 9, 1, 8, 1, 2, 3, 4, 5, 7, 8, 9, 1, 2, 3, 6, 1, 2, 4, 7, 8, 3, 5, 7, 9, 7, 1, 3, 6, 7, 2, 3, 5, 6, 7, 4, 6, 1, 2, 4, 5, 7, 1, 2, 4, 8, 8, 8, 6, 7, 10, 2, 3, 5, 6, 7, 8, 5, 6, 9, 7, 1, 2, 7, 8, 9, 10, 1, 1, 4, 9, 10, 3, 6, 10, 2, 3, 8, 9, 8, 10, 1, 3, 6, 7, 10, 4, 5, 6, 7, 9, 10, 1, 2, 3, 1, 3, 4, 9, 6, 2, 3, 4, 7, 9, 4, 7, 8, 2, 1, 2, 5, 7, 9, 10, 3, 6, 9, 10, 7, 10, 1, 2, 10, 2, 4, 6, 7, 10, 2, 6, 9, 2, 7, 2, 7, 8, 2, 6, 8, 1, 2, 4, 5, 9, 1, 2, 10, 1, 6, 3, 4, 6, 1, 2, 5, 7, 2, 5, 9, 10, 9, 1, 4, 5, 6, 7, 8, 1, 4, 5, 10, 1, 5, 8, 9, 4, 9, 1, 5, 8, 9, 5, 2, 4, 6, 8, 10, 5, 3, 2, 4, 10, 1, 10, 10, 1, 2, 3, 4, 10, 1, 3, 5, 6, 8, 4, 7, 10, 1, 3, 4, 5, 7, 8, 10, 2, 3, 7, 8, 9, 10, 8, 1, 5, 9, 10, 4, 8, 4, 7, 8, 2, 4, 5, 7, 8, 1, 2, 4, 6, 8, 10, 1, 4, 5, 8, 3, 5, 7, 8, 1, 2, 6, 1, 3, 4, 5, 7, 4, 5, 6, 8, 9, 10, 2, 10, 4, 1, 5, 6, 7, 9, 10, 5, 3, 4, 5, 7, 8, 3, 9, 2, 3, 4, 8, 9, 10, 6, 1, 4, 5, 1, 2, 3, 4, 8, 2, 2, 4, 6, 7, 1, 4, 9, 10, 9, 2, 10, 6, 8, 2, 3, 6, 1, 1, 7, 8, 4, 7, 9, 10, 5, 7, 8, 10, 3, 4, 6, 5, 7, 4, 10, 3, 9, 3, 8, 2, 6, 8, 1, 2, 3, 4, 6, 8, 10, 2, 5, 6, 7, 8, 9, 10, 1, 2, 4, 6, 7, 10, 2, 3, 8, 8, 6, 9, 9, 1, 2, 4, 7, 8, 9, 4, 9, 3, 6, 9, 10, 9, 2, 3, 5, 7, 9, 2, 1, 3, 4, 3, 4, 5, 6, 8, 10, 1, 3, 5, 3, 4, 6, 7, 10, 3, 5, 10, 1, 4, 9, 10, 2, 10, 4, 5, 7, 1, 6, 7, 1, 3, 4, 5, 6, 7, 8, 4, 6, 10, 1, 2, 4, 5, 8, 9, 3, 4, 6, 7, 8, 1, 4, 1, 7, 1, 3, 10, 7, 10, 1, 4, 5, 6, 7, 10, 2, 4, 6, 7, 8, 5, 7, 9, 4, 3, 5], \"Freq\": [0.039950816393203407, 0.0011387406097825199, 0.0025621663720106699, 0.00104384555896731, 0.22604001104183022, 0.2439751756459049, 0.48538818491979913, 0.17373700930492414, 0.036363560087077147, 0.33535283191415588, 0.020201977826153971, 0.004040395565230794, 0.43232232547969496, 0.0084903822850730566, 0.98488434506847455, 0.022113310568823017, 0.95087235445938978, 0.094416831060548281, 0.88122375656511731, 0.014778955710992954, 0.97541107692553486, 0.0043953613157248191, 0.87467690182923896, 0.11867475552457012, 0.0064335861260106861, 0.036993120224561443, 0.10669030325634388, 0.018228494023696945, 0.83154100678688125, 0.11218940384834764, 0.031413033077537338, 0.0014958587179779684, 0.85413532796542002, 0.044113987048211643, 0.92639372801244457, 0.0094874517903604308, 0.10436196969396475, 0.028462355371081292, 0.84912693523725857, 0.0094874517903604308, 0.95550283906728661, 0.97053994463555049, 0.056990759377701573, 0.36727378265629906, 0.40210146894267224, 0.16780612483434351, 0.06541958320463051, 0.46426800983931327, 0.37141440787145064, 0.0021103091356332424, 0.094963911103495904, 0.0079961850805748864, 0.031984740322299546, 0.0079961850805748864, 0.0079961850805748864, 0.94354983950783655, 0.018277316582499196, 0.010966389949499519, 0.54466403415847608, 0.073109266329996786, 0.014621853265999357, 0.3363026251179852, 0.81549087910779605, 0.16509938043286668, 0.02001204611307475, 0.33094646984469622, 0.24490038768507522, 0.0016547323492234812, 0.34914852568615451, 0.0066189293968939248, 0.01323785879378785, 0.01489259114301133, 0.039713576381363545, 0.018082063788360591, 0.11753341462434384, 0.099451350835983249, 0.75040564721696457, 0.94572217209049925, 0.0048916479823114577, 0.75983598658571316, 0.23316855382351281, 0.9623718726998457, 0.023472484699996236, 0.022670811180055352, 0.022670811180055352, 0.079347839130193734, 0.87282623043213103, 0.97118965322954842, 0.014346109511617335, 0.97553544678997872, 0.060302233466038954, 0.806542372608271, 0.090453350199058424, 0.0075377791832548693, 0.030151116733019477, 0.0075377791832548693, 0.025683467874541392, 0.95028831135803149, 0.9830905379723629, 0.99011375449601413, 0.94368062063117997, 0.97719464732229455, 0.59988603666786333, 0.12818077706578276, 0.005127231082631311, 0.26148878521419683, 0.98151970671021205, 0.047846772885947124, 0.93301207127596886, 0.91376997015058925, 0.028555311567205914, 0.028555311567205914, 0.97407032753900302, 0.078837972802827394, 0.8869271940318082, 0.029564239801060273, 0.12119695694188386, 0.84470606353434197, 0.029381080470759723, 0.0036726350588449654, 0.93617690023561917, 0.030199254846310294, 0.98034195951213121, 0.84238183972469216, 0.097951376712173507, 0.052240734246492539, 0.90598134154124432, 0.99358393540960521, 0.0085452804902775344, 0.39735554279790536, 0.051271682941665203, 0.52126210990692956, 0.021363201225693837, 0.081461033531192217, 0.85986646505147346, 0.054307355687461478, 0.96048488458229297, 0.025275918015323497, 0.97712504334225569, 0.0074565643757517367, 0.0074565643757517367, 0.052195950630262153, 0.074565643757517369, 0.76056956632667716, 0.096935336884772572, 0.61302953986760578, 0.0061041348208723195, 0.0026160577803738512, 0.35055174257009608, 0.016568365942367724, 0.011336250381620021, 0.079567471977955134, 0.053044981318636754, 0.0053044981318636757, 0.83811070483446071, 0.0053044981318636757, 0.015913494395591025, 0.013649399542719487, 0.96910736753308357, 0.94523109775418779, 0.91795403430183997, 0.95727489154816559, 0.99093383898447995, 0.66490230884710544, 0.050181306328083423, 0.15472569451159057, 0.10872616371084742, 0.012545326582020856, 0.0041817755273402856, 0.7819901416831716, 0.20610592881571962, 0.006061939082815283, 0.95550283906728661, 0.92991250784713442, 0.013994493849588396, 0.97961456947118775, 0.91549518760664983, 0.020120773353992302, 0.060362320061976914, 0.16923831210144016, 0.012088450864388582, 0.27078129936230427, 0.54639797907036391, 0.97383681429153512, 0.2121400537325086, 0.083011325373590322, 0.69637278507845213, 0.0046117402985327962, 0.92402613427418556, 0.18259009022808556, 0.016599099111644144, 0.75525900957980852, 0.041497747779110354, 0.96582086624915131, 0.015354667033927431, 0.95198935610350077, 0.015354667033927431, 0.0076449948165961982, 0.030579979266384793, 0.92122187539984191, 0.019112487041490496, 0.015289989633192396, 0.0076449948165961982, 0.95763630949976852, 0.037872622409595366, 0.95722153956945311, 0.98599744171922243, 0.016836782033393016, 0.22729655745080571, 0.0042091955083482539, 0.73660921396094448, 0.016836782033393016, 0.0074060420693507888, 0.09627854690156025, 0.088872504832209473, 0.79985254348988521, 0.90762044862144731, 0.022124354278166863, 0.033186531417250295, 0.9181607025439249, 0.022124354278166863, 0.13537760150040518, 0.10153320112530388, 0.75908155127012911, 0.93330621081025766, 0.94567362832443669, 0.66732903647661945, 0.070245161734381001, 0.079025806951178626, 0.057074193909184563, 0.11853871042676793, 0.007569267730061011, 0.81243473635988184, 0.17409315779140325, 0.0025230892433536702, 0.0025230892433536702, 0.0088954990482837618, 0.83617691053867371, 0.14232798477254019, 0.95185578578240748, 0.94136406849237719, 0.012895398198525716, 0.012895398198525716, 0.012895398198525716, 0.012895398198525716, 0.067076871851490791, 0.92230698795799837, 0.014524422688045656, 0.9053556808881793, 0.014524422688045656, 0.043573268064136972, 0.024207371146742762, 0.0089370915426553819, 0.0089370915426553819, 0.0044685457713276909, 0.20108455970974609, 0.15193055622514148, 0.11618219005451996, 0.053622549255932288, 0.45132312290409676, 0.99096684350354658, 0.98919231573509936, 0.9488573575657796, 0.032719219226406193, 0.98500374879212671, 0.0020944401449844345, 0.028274941957289867, 0.014661081014891041, 0.29007996008034415, 0.3822353264596593, 0.059691544132056379, 0.22096343529585782, 0.018144538811151273, 0.0090722694055756364, 0.081650424650180728, 0.8890824017464124, 0.96065347092522069, 0.38901912270468847, 0.26535741482505237, 0.0025762855808257514, 0.0025762855808257514, 0.13139056462211332, 0.20610284646606011, 0.92859156495360662, 0.032020398791503674, 0.13128734519254051, 0.49643027400929379, 0.012308188611800672, 0.35693746974221946, 0.014773896411483996, 0.95291631854071779, 0.029547792822967992, 0.91490960138907806, 0.079557356642528526, 0.93914407244326026, 0.03612092586320232, 0.94572217209049925, 0.92846260607061415, 0.92438294635062102, 0.9223332114870807, 0.018084964931119229, 0.018084964931119229, 0.036169929862238458, 0.91795403430183997, 0.72058233201732813, 0.045423528092782862, 0.13007646681115093, 0.08052352707356962, 0.022711764046391431, 0.94208985904795151, 0.026169162751331985, 0.97462114127214017, 0.02727859008264176, 0.034098237603302196, 0.91383276776849887, 0.02045894256198132, 0.93905387962762077, 0.22923052233965913, 0.1166260552254406, 0.47454739712420657, 0.092496526558108069, 0.080431762224441802, 0.0040215881112220901, 0.033859309883830346, 0.60463053363982755, 0.024185221345593103, 0.09674088538237241, 0.2370151691868124, 0.93693960367542595, 0.079420073991402496, 0.90538884350198834, 0.94567362832443669, 0.043529443785279204, 0.91411831949086331, 0.021764721892639602, 0.012653904081964229, 0.0042179680273214098, 0.61160536396160448, 0.36696321837696266, 0.020939844313098421, 0.96323283840252749, 0.047998982485269834, 0.93598015846276172, 0.57030715315626901, 0.012397981590353673, 0.39260275036119968, 0.0041326605301178912, 0.016530642120471565, 0.93927496968563295, 0.046193850968145884, 0.21034984903313153, 0.16827987922650522, 0.026771798967853106, 0.05736814064539951, 0.53543597935706211, 0.94213889565518316, 0.026170524879310642, 0.95272402558421654, 0.0098441547196646394, 0.02953246415899392, 0.078753237757317116, 0.85644146061082371, 0.019688309439329279, 0.93699708241740753, 0.056219824945044454, 0.15950039157625762, 0.098738337642445204, 0.73673990394747568, 0.9260594703305185, 0.94771798931850371, 0.90762044862144731, 0.056798915254116691, 0.88606307796422035, 0.011359783050823339, 0.045439132203293355, 0.94218489984106835, 0.96056970266935993, 0.93689095665077438, 0.13171059263033355, 0.024504296303317869, 0.012252148151658935, 0.73206585206162134, 0.094954148175356745, 0.0061260740758294673, 0.034983875106368807, 0.034983875106368807, 0.017491937553184404, 0.90958075276558903, 0.85709549881715752, 0.13186084597187039, 0.0109884038309892, 0.012338432949439005, 0.13572276244382905, 0.85135187351129127, 0.018089256311224308, 0.95873058449488835, 0.9700999493172151, 0.95772490610612815, 0.91631095305783306, 0.024692925601240302, 0.79840459444010303, 0.065847801603307471, 0.11523365280578807, 0.19405970125899746, 0.0053167041440821223, 0.0026583520720410612, 0.19937640540307958, 0.24722674269981867, 0.34824412143737898, 0.030766692423997499, 0.9629974728711217, 0.0030766692423997498, 0.0030766692423997498, 0.95501067358126612, 0.031833689119375536, 0.97440481064325679, 0.95713202579429246, 0.019940250537381094, 0.97817609158335272, 0.021277871687392969, 0.21277871687392969, 0.72344763737136086, 0.042555743374785938, 0.9700999493172151, 0.05276974733156805, 0.045231211998486898, 0.34928547043275993, 0.13820648110648776, 0.12061656532929839, 0.0100513804441082, 0.17841200288292053, 0.1055394946631361, 0.79486918575243026, 0.056776370410887872, 0.018925456803629292, 0.037850913607258584, 0.0094627284018146459, 0.075701827214517167, 0.0056240270860864056, 0.94483655046251602, 0.011248054172172811, 0.036556176059561636, 0.0023151944630044031, 0.032412722482061639, 0.074086222816140898, 0.17595477918833463, 0.71307989460535615, 0.011094462992520066, 0.033283388977560197, 0.3550228157606421, 0.15254886614715091, 0.20802118110975124, 0.23853095433918142, 0.94523109775418779, 0.79262426647938911, 0.18392386293996874, 0.021895697969043899, 0.93214991807907099, 0.94221869076041742, 0.042828122307291702, 0.92846260607061415, 0.97218786097096721, 0.021134518716760156, 0.014246799266447799, 0.085480795598686793, 0.87617815488653972, 0.021370198899671698, 0.92991250784713442, 0.96821198753854887, 0.05647733717711869, 0.93187606342245832, 0.94771798931850371, 0.013428670838752758, 0.067143354193763785, 0.040286012516258275, 0.85943493368017654, 0.013428670838752758, 0.022291414267050249, 0.82478232788085915, 0.059443771378800664, 0.022291414267050249, 0.074304714223500823, 0.94409048998585121, 0.95149144100131477, 0.024397216435931148, 0.93453752940012003, 0.022476905536357533, 0.94403003252701645, 0.011238452768178767, 0.011238452768178767, 0.98036391934494449, 0.0041528774530540571, 0.60216723069283828, 0.13704495595078386, 0.15780934321605417, 0.095516181420243304, 0.20437255857907327, 0.7911195815964126, 0.006089001192490332, 0.36939940567774682, 0.026385671834124772, 0.0020296670641634438, 0.51553543429751481, 0.081186682566537757, 0.92449671414972134, 0.052828383665698357, 0.10196251158171331, 0.18353252084708396, 0.022658335907047401, 0.086101676446780129, 0.0090633343628189599, 0.37159670887557739, 0.22431752547976927, 0.93881996576361582, 0.036108460221677532, 0.047592595041599704, 0.098159727273299399, 0.50269678512689686, 0.28555557024959827, 0.059490743801999632, 0.0029745371900999815, 0.031644966790912547, 0.94934900372737641, 0.77796129855896501, 0.036696287667875707, 0.12476737807077741, 0.0073392575335751416, 0.044035545201450851, 0.04761146496195983, 0.7974920381128271, 0.0059514331202449788, 0.14878582800612447, 0.95128592060513517, 0.85767983079895405, 0.12252569011413629, 0.0068069827841186828, 0.0068069827841186828, 0.074716250880311669, 0.012452708480051946, 0.11207437632046752, 0.79697334272332454, 0.018024166172806277, 0.88318414246750765, 0.018024166172806277, 0.07209666469122511, 0.98888414877819963, 0.8463029492092099, 0.14303711817620449, 0.97698075550748298, 0.97066934369854929, 0.014274549172037489, 0.0052849643277191917, 0.30476627623180674, 0.15326396550385657, 0.4615535512874761, 0.075751155363975087, 0.025894365460468527, 0.95809152203733539, 0.80043852377332447, 0.19744150253075338, 0.46831134778778472, 0.51326923717541206, 0.014985963129209112, 0.048980848505583846, 0.94696307110795441, 0.92805145532749134, 0.020175031637554162, 0.040350063275108324, 0.79669497446374027, 0.12021137188654069, 0.044784628742044572, 0.018856685786124028, 0.018856685786124028, 0.010408236273904902, 0.13010295342381126, 0.64531064898210388, 0.015612354410857352, 0.19775648920419311, 0.79963604684155254, 0.088848449649061398, 0.10859254957107503, 0.037815250947182084, 0.22689150568309249, 0.73361586837533244, 0.92397846847434673, 0.032756639886334635, 0.18835067934642413, 0.77797019730044747, 0.99304816513181982, 0.8824824157650023, 0.075425847501282242, 0.0075425847501282249, 0.0301703390005129, 0.93453752940012003, 0.036196861200471345, 0.94111839121225505, 0.018098430600235672, 0.0024333203872932726, 0.12774932033289682, 0.042583106777632274, 0.46719751436030837, 0.0012166601936466363, 0.32241495131635861, 0.035283145615752451, 0.35362263841252073, 0.22774291701040564, 0.027329150041248675, 0.22443029276298154, 0.16645936843306011, 0.88367229951321102, 0.0094007691437575629, 0.1034084605813332, 0.26997316877223076, 0.024543015342930068, 0.17180110740051049, 0.52767482987299652, 0.13371177084235686, 0.85505158722875574, 0.00351873081164097, 0.00351873081164097, 0.36258205159753315, 0.63451859029568303, 0.020415456003391435, 0.94494396358554644, 0.0087494811443106155, 0.0087494811443106155, 0.017498962288621231, 0.96821198753854887, 0.98871100111426968, 0.0072433040374671768, 0.9871278129089861, 0.69065298711647838, 0.30633801847908315, 0.0037409162448839455, 0.80429699265004828, 0.1571184822851257, 0.033668246203955511, 0.022156389893632014, 0.6536135018621444, 0.2935721660906242, 0.016617292420224011, 0.016617292420224011, 0.21400937609099335, 0.0023261888705542757, 0.6676162058490771, 0.037219021928868411, 0.076764232728291096, 0.96578444551676124, 0.027210830084281622, 0.068027075210704058, 0.8979573927812935, 0.13066820482892319, 0.78923595716669614, 0.078400922897353925, 0.12655151272824311, 0.12218766746175198, 0.37674530800706862, 0.10764151657344817, 0.11636920710643045, 0.14982535414952922, 0.55615462408838856, 0.35613410138993301, 0.087813888013956093, 0.98600048566368792, 0.98809293619775951, 0.70424273350984112, 0.24989258285833071, 0.04543501506515104, 0.98596376982895539, 0.98228940758257399, 0.98017044528618358, 0.056672206570690518, 0.93509140841639349, 0.9325472092635958, 0.018650944185271915, 0.03730188837054383, 0.9686089371197073, 0.0055034598699983369, 0.022013839479993347, 0.40252017556597336, 0.050037038399085083, 0.10340987935810918, 0.38806503113957103, 0.055596709332316765, 0.97020172597208865, 0.014480622775702815, 0.99382797102268405, 0.013867772804848117, 0.0083206636829088708, 0.013867772804848117, 0.54916380307198553, 0.36888275660895992, 0.013867772804848117, 0.033282654731635483, 0.0028795227823654353, 0.020156659476558047, 0.38873557561933375, 0.35706082501331399, 0.23036182258923482, 0.6880566120457543, 0.062550601095068575, 0.13472437158937847, 0.11547803279089583, 0.94551278931811444, 0.035018992196967198, 0.84608043113466225, 0.064185412017112309, 0.0058350374561011191, 0.017505112368303356, 0.023340149824404476, 0.046680299648808952, 0.011009243832775484, 0.39908508893811129, 0.49541597247489677, 0.088073950662203873, 0.0055046219163877421, 0.96674079075449426, 0.9895249551059363, 0.033535698606464215, 0.041919623258080269, 0.50303547909696322, 0.041919623258080269, 0.0041919623258080269, 0.37727660932272244, 0.027561053116777534, 0.04777249206908106, 0.27009832054441985, 0.38769214717600398, 0.086357966432569613, 0.1653663187006652, 0.012861824787829516, 0.18908992824567503, 0.024663903684218481, 0.78102361666691866, 0.051993386371257888, 0.83189418194012621, 0.012998346592814472, 0.090988426149701304, 0.90265015743858701, 0.039245659019069006, 0.058868488528603505, 0.9558205911913048, 0.67540640414374176, 0.22092732845823329, 0.050497675076167613, 0.044185465691646657, 0.0063122093845209516, 0.082154576292072221, 0.5739409982626712, 0.0011410357818343363, 0.026243822982189736, 0.31606691156811118, 0.022275465891236756, 0.93556956743194386, 0.022275465891236756, 0.92438294635062102, 0.93874779617066284, 0.95444047952190636, 0.041953427671292585, 0.0015722842425788773, 0.020439695153525405, 0.68079907703665388, 0.0031445684851577546, 0.099053907282469281, 0.18867410910946528, 0.0015722842425788773, 0.0031445684851577546, 0.98276416429677782, 0.83632189058122786, 0.066905751246498224, 0.10035862686974734, 0.91366564785853299, 0.057104102991158312, 0.026234489831564026, 0.9575588788520869, 0.95185578578240748, 0.86260094699389767, 0.11587176899918029, 0.012874640999908921, 0.93693960367542595, 0.98041189256404992, 0.10312622547208349, 0.87385906847397055, 0.0054276960774780779, 0.016283088232434236, 0.015284017822306315, 0.79094792230435185, 0.005731506683364869, 0.068778080200378428, 0.022926026733459476, 0.099346115844991062, 0.039224016324473525, 0.1078660448923022, 0.83024167886802303, 0.022880676189276226, 0.0010190305486236278, 0.21807253740545635, 0.35767972256689334, 0.11311239089722268, 0.020380610972472554, 0.28532855361461579, 0.0050951527431181386, 0.98005874997422726, 0.45910987151004268, 0.0092562474094766665, 0.36469614793338068, 0.011107496891372, 0.0074049979275813338, 0.14809995855162666, 0.95134543941274297, 0.015100721260519728, 0.015100721260519728, 0.015100721260519728, 0.92846260607061415, 0.15225822336721742, 0.84543381922323357, 0.92402613427418556, 0.97678446684345843, 0.92402613427418556, 0.2339394214165797, 0.014071544145358177, 0.14423332748992132, 0.33419917345225669, 0.27087722479814491, 0.0035178860363395442, 0.93689095665077438, 0.10739141343665069, 0.076708152454750489, 0.0076708152454750492, 0.32217424030995206, 0.48709676808766567, 0.0042288023277409882, 0.39750741880765295, 0.10712965896943838, 0.05356482948471919, 0.43697624053323547, 0.11567257540749425, 0.57496074246666262, 0.30619211137277891, 0.94674353245489584, 0.01047156074447211, 0.30018474134153383, 0.68763248888700201, 0.94734280026263706, 0.018647298402727535, 0.95101221853910434, 0.018647298402727535, 0.98017044528618358, 0.22537873382131393, 0.00093518146813823205, 0.35661586651671251, 0.0037407258725529282, 0.016209812114396021, 0.38654167349713592, 0.01059872330556663, 0.047794886672717828, 0.051471416416773046, 0.018382648720276087, 0.65074576469777345, 0.055147946160828264, 0.095589773345435655, 0.047794886672717828, 0.025735708208386523, 0.0036765297440552176, 0.96065347092522069, 0.85160802327188645, 0.011156436986094581, 0.033469310958283746, 0.10412674520354943, 0.009458163779231709, 0.14187245668847562, 0.84177657635162206, 0.20546384921184802, 0.13294719654884282, 0.01208610877716753, 0.64660681957846289, 0.02459041793465722, 0.057377641847533509, 0.02459041793465722, 0.84427101575656449, 0.049180835869314439, 0.0051306220790778428, 0.0025653110395389214, 0.01795717727677245, 0.84142202096876617, 0.033349043514005978, 0.097481819502479014, 0.25674144226621226, 0.69208562697848519, 0.044650685611515174, 0.005866620507688926, 0.51793878196453658, 0.063694736940622623, 0.078780332531822719, 0.25980747962622386, 0.073751800668089354, 0.016333098068060103, 0.96365278601554605, 0.94739224788754073, 0.049447597971943869, 0.016482532657314624, 0.87357423083767505, 0.024723798985971934, 0.032965065314629248, 0.040715619185661828, 0.20357809592830914, 0.016286247674264731, 0.0081431238371323655, 0.1140037337198531, 0.61887741162205978, 0.94734280026263706, 0.9890737999886059, 0.0057047606656372742, 0.06845712798764729, 0.79866649318921845, 0.011409521331274548, 0.1140952133127455, 0.042219670412138165, 0.0070366117353563608, 0.021109835206069082, 0.9217961373316832, 0.0070366117353563608, 0.98456221449591452, 0.0089505655863264949, 0.9935636479831006, 0.01740119144959348, 0.97446672117723498, 0.0056494324787818408, 0.011298864957563682, 0.084741487181727623, 0.86436316925362167, 0.033896594872691047, 0.8980227246441348, 0.049890151369118604, 0.024945075684559302, 0.97685398326714601, 0.96578444551676124, 0.063479742514745349, 0.92045626646380752, 0.052280130909381446, 0.82341206182275772, 0.11763029454610825, 0.93247490811762124, 0.10604247058132613, 0.11630464515371253, 0.51995017833424417, 0.051310872861931998, 0.20182276659026585, 0.074581102521088696, 0.85768267899252004, 0.0046613189075680435, 0.0023306594537840218, 0.037290551260544348, 0.020975935084056197, 0.96089605032593373, 0.94567362832443669, 0.046308057207054318, 0.89528910600305012, 0.046308057207054318, 0.032715642871178161, 0.94875364326416656, 0.013741691349649764, 0.28170467266782018, 0.66647203045801362, 0.0034354228374124411, 0.034354228374124413, 0.94452050358817485, 0.066428480696202177, 0.12621411332278415, 0.80378461642404631, 0.98809293619775951, 0.91059500402725246, 0.070045769540557884, 0.037586411889142898, 0.81437225759809617, 0.056379617833714347, 0.093966029722857253, 0.96587674884613017, 0.020710423622922931, 0.95267948665445479, 0.014762961154839143, 0.049209870516130474, 0.92514556570325301, 0.0098419741032260959, 0.20149465410195669, 0.12926072149936846, 0.49043038451230969, 0.024711608521938086, 0.15207143705808052, 0.94126211507539426, 0.052781053181797807, 0.020434488748342253, 0.0068114962494474178, 0.020434488748342253, 0.94679797867319104, 0.42254229171436047, 0.012859982791306622, 0.56400210241873328, 0.96003374964238308, 0.029157072871585758, 0.91844779545495137, 0.043735609307378638, 0.089620595380918683, 0.88126918791236708, 0.029873531793639562, 0.003084299573424377, 0.95304856818813244, 0.03701159488109252, 0.003084299573424377, 0.97606017223101471, 0.81110056786005058, 0.0446693066357709, 0.016457112971073488, 0.12695487149113835, 0.06760035121704451, 0.47049844447062983, 0.0054080280973635613, 0.45427436017853912, 0.55178570834381946, 0.0011815539793229538, 0.44544585020475364, 0.75933456185910264, 0.0033450861755907604, 0.0066901723511815208, 0.22746585994017171, 0.019546663735030771, 0.024877572026402801, 0.0017769694304573427, 0.2541066285554, 0.25055268969448535, 0.079963624370580424, 0.36783267210466997, 0.36057948029613551, 0.1150420246659099, 0.21119655274487936, 0.29189767452544302, 0.020604541731207744, 0.93940706196941848, 0.039141960915392439, 0.9756842937902731, 0.019141697123415596, 0.9762265532941955, 0.94734280026263706, 0.81040097581719694, 0.18929073887700951, 0.95079058548649575, 0.96003374964238308, 0.88774486717697187, 0.063410347655497995, 0.031705173827748998, 0.010568391275916331, 0.83581795843701112, 0.087980837730211689, 0.032992814148829389, 0.010997604716276461, 0.032992814148829389, 0.95402981519906949, 0.083421972910915493, 0.9138497941604834, 0.001895953929793534, 0.012046054663427765, 0.84322382643994354, 0.13250660129770542, 0.4004874987135143, 0.0021189814746746787, 0.58060092406086194, 0.014832870322722751, 0.95789692936577264, 0.98349369661504771, 0.92564174903134366, 0.96442446289633266, 0.018273814465034, 0.74922639306639405, 0.21928577358040799, 0.0060912714883446665, 0.97652875242554082, 0.97549184882953865, 0.037873535399012233, 0.037873535399012233, 0.075747070798024466, 0.83321777877826908, 0.91403292357096588, 0.12029625006098651, 0.038494800019515683, 0.65441160033176671, 0.16360290008294168, 0.024059250012197303, 0.050989246944393302, 0.72113363535641961, 0.029136712539653317, 0.014568356269826659, 0.014568356269826659, 0.029136712539653317, 0.13839938456335327, 0.039221873332182272, 0.20151928022397098, 0.75738789882834723, 0.055384623075739152, 0.027692311537869576, 0.91384628074969598, 0.94734280026263706, 0.11357890216709574, 0.068147341300257444, 0.068147341300257444, 0.15333151792557922, 0.59061029126889786, 0.99002538265591389, 0.40006971089350396, 0.0023813673267470475, 0.042864611881446857, 0.54295175049832678, 0.00952546930698819, 0.98809293619775951, 0.088800799550731613, 0.87993519554815869, 0.02421839987747226, 0.011088613837053713, 0.048050659960566094, 0.66901303483557406, 0.26982293670164037, 0.48841049834574807, 0.14515010794210986, 0.32560699889716538, 0.0058844638354909407, 0.035306783012945646, 0.031536546598467899, 0.94609639795403688, 0.02237146627060458, 0.00745715542353486, 0.44742932541209157, 0.51827230193567275, 0.91795403430183997, 0.9603653793071284, 0.023423545836759232, 0.97516670495684066, 0.0071647697751698299, 0.0023882565917232768, 0.56362855564669334, 0.28420253441506993, 0.1026950334441009, 0.038212105467572428, 0.0075370115179211042, 0.037685057589605525, 0.27886942616308086, 0.67079402509497832, 0.97128895547716476, 0.060192367823827087, 0.92294963996534862, 0.0013528913378649803, 0.0067644566893249013, 0.017587587392244745, 0.047351196825274312, 0.13934780780009298, 0.77926541061022869, 0.0081173480271898822, 0.98034195951213121, 0.006553615138102797, 0.045875305966719578, 0.065536151381027974, 0.88473804364387754, 0.92485818568084122, 0.95079058548649575, 0.029484039523914578, 0.94348926476526651, 0.93415964234513893, 0.056615735899705387, 0.88343111589915768, 0.031551111282112777, 0.07887777820528194, 0.67538396032342529, 0.073472732085393538, 0.0028258743109766749, 0.23172169350008734, 0.014129371554883374, 0.0028258743109766749, 0.024981202028668735, 0.94928567708941192, 0.0060815028827143798, 0.0060815028827143798, 0.042570520179000662, 0.2128526008950033, 0.7297803459257256, 0.95133466590719951, 0.010570385176746662, 0.031711155530239982, 0.18363072560877255, 0.014125440431444043, 0.014125440431444043, 0.077689922372942241, 0.014125440431444043, 0.69920930135648018, 0.30649312426198055, 0.16176026002715641, 0.010405630761980821, 0.5202815380990411, 0.9135637375713197, 0.068517280317848983, 0.97472907270092646, 0.0064226156391658813, 0.66795202647325169, 0.32113078195829409, 0.85540234228263845, 0.0712835285235532, 0.0712835285235532, 0.94368062063117997, 0.93997090115884629, 0.034813737079957267, 0.93289716423558733, 0.097723576336726764, 0.024430894084181691, 0.85508129294635926, 0.96332683679271747, 0.034819042293712681, 0.98181569182760775, 0.9634928336138604, 0.031763500009248144, 0.0021175666672832096, 0.95772490610612815, 0.10190053503908587, 0.61625561666494788, 0.27658716653466164, 0.94882279417016757, 0.032718027385178192, 0.94523109775418779, 0.90587677585468318, 0.075489731321223594, 0.015097946264244719, 0.53021211087755482, 0.17347953858205711, 0.11483856779375612, 0.18080965993059472, 0.052479485877858681, 0.096672737143423892, 0.74852319331051065, 0.060765720490152157, 0.038669094857369558, 0.6013961618327831, 0.0067954368568676057, 0.18347679513542536, 0.20726082413446198, 0.18404663826075779, 0.023005829782594724, 0.038343049637657868, 0.75152377289809424, 0.015494346589023862, 0.72306950748778021, 0.16010824808657992, 0.095548470632313809, 0.0025823910981706438, 0.93214991807907099, 0.39216727501926724, 0.60607669775704942, 0.96643492039027079, 0.93289716423558733, 0.82456070028270756, 0.12066741955356697, 0.050278091480652903, 0.97501808780767829, 0.1120399995147926, 0.68883851553539155, 0.1950325917479723, 0.0041496296116589849, 0.93214991807907099, 0.0074661217888708671, 0.27251344529378668, 0.17918692293290081, 0.11945794862193387, 0.026131426261048037, 0.39570445481015598, 0.98656271016823671, 0.9558205911913048, 0.91635804031048762, 0.018620940239520919, 0.0016928127490473564, 0.066019697212846895, 0.45536662949373885, 0.45875225499183359, 0.94739224788754073, 0.06051509151198757, 0.92789806985047607, 0.96113737110929598, 0.034326334682474854, 0.91604898040620208, 0.13994282734751232, 0.5391914818389445, 0.024695793061325706, 0.0082319310204419013, 0.0041159655102209506, 0.28400162020524561, 0.34490915523924515, 0.0025175850747390159, 0.032728605971607205, 0.0025175850747390159, 0.06797479701795342, 0.12336166866221177, 0.42295429255615463, 0.89948998901869037, 0.072931620731245164, 0.40113432856335257, 0.34254167382937972, 0.018028509148914722, 0.045071272872286808, 0.16225658234023249, 0.013521381861686043, 0.018028509148914722, 0.0041694215099340242, 0.15843801737749294, 0.091727273218548538, 0.0041694215099340242, 0.012508264529802074, 0.72547934272852022, 0.93330621081025766, 0.1963659590100339, 0.040280196720006954, 0.55888772949009646, 0.20140098360003478, 0.97698075550748298, 0.060053408128410861, 0.76568095363723854, 0.17265354836918123, 0.032455965988871689, 0.9628603243365268, 0.93079358387141342, 0.91403292357096588, 0.0050873036033638672, 0.28488900178837656, 0.70713520086757753, 0.020176064874523211, 0.94827504910259097, 0.020176064874523211, 0.022989915253952237, 0.022989915253952237, 0.9425865254120418, 0.0096259162738799309, 0.98184345993575284, 0.046273294044602294, 0.046273294044602294, 0.89461701819564432, 0.96544016556764023, 0.94368062063117997, 0.98163395919556284, 0.039319619242014194, 0.94367086180834059, 0.9513106071760653, 0.032803814040553977, 0.047925400381576944, 0.076680640610523113, 0.86265720686838498, 0.0095850800763153891, 0.96195376493592055, 0.012393279003074558, 0.96667576223981555, 0.012393279003074558, 0.88804702765446708, 0.10861006813040244, 0.012763017617734703, 0.019144526426602054, 0.012763017617734703, 0.95084481252123543, 0.015127405078248609, 0.18531071220854547, 0.060509620312994436, 0.022691107617372915, 0.29120254775628573, 0.42734919346052325, 0.019334757681693703, 0.0064449192272312342, 0.86361917644898545, 0.051559353817849873, 0.025779676908924937, 0.012889838454462468, 0.025779676908924937, 0.048394257072792511, 0.34279265426561362, 0.58073108487351011, 0.020164273780330214, 0.0040328547560660429, 0.034215352063971208, 0.034215352063971208, 0.93065757614001687, 0.072627874290461344, 0.90381354672574121, 0.0080697638100512611, 0.016139527620102522, 0.02430784234475648, 0.76974834091728861, 0.036461763517134718, 0.17015489641329537, 0.95731462710934545, 0.97216190269958036, 0.73703651210532906, 0.021550775207758159, 0.15947573653741037, 0.07758279074792937, 0.63262319393559407, 0.023937093824590049, 0.085489620802107313, 0.0034195848320842923, 0.25304927757423767, 0.010235927923494001, 0.982649080655424, 0.019052261631649182, 0.97166534321410825, 0.091446626023518371, 0.13208957092285986, 0.047416769049231748, 0.5622274044408907, 0.16595869167231111, 0.068778032894448657, 0.91130893585144479, 0.9788057849749362, 0.57847767536781247, 0.13963254233016165, 0.20346456168109267, 0.075800522979230608, 0.038681067901080717, 0.92834562962593725, 0.91635804031048762, 0.014031121284101387, 0.91202288346659022, 0.070155606420506944, 0.04178854355166383, 0.70622638602311882, 0.071040524037828512, 0.17969073727215448, 0.015680309228349648, 0.12021570408401397, 0.34496680302369226, 0.51745020453553836, 0.034968768999075993, 0.058281281665126659, 0.89753173764295047, 0.026536579755390175, 0.9553168711940464, 0.9390148274617881, 0.90598134154124432, 0.012368279326817255, 0.92762094951129415, 0.04947311730726902, 0.22663209740824281, 0.59002494325249422, 0.046889399463774371, 0.13285329848069405, 0.10952566037956411, 0.8396967295766582, 0.048678071279806272, 0.95334465247751554, 0.031778155082583852, 0.92402613427418556, 0.07978486562100541, 0.54928811331384497, 0.0030686486777309775, 0.039892432810502705, 0.32834540851721461, 0.70146475871524883, 0.047604394803030858, 0.036403360731729478, 0.19671816087723046, 0.017501615736408405, 0.050552991710990119, 0.94365584527181556, 0.29645325451466814, 0.0427576809396156, 0.014252560313205201, 0.16390444360185979, 0.11544573853696212, 0.035631400783013002, 0.33208465529768116, 0.0014252560313205199, 0.91366564785853299, 0.057104102991158312, 0.94202869349822993, 0.028546324045400907, 0.62044504280873969, 0.098483340128371372, 0.0049241670064185689, 0.27082918535302131, 0.96809148837338954, 0.099034583715264815, 0.74894903934669022, 0.11141390667967292, 0.037137968893224307, 0.98500374879212671, 0.90598134154124432, 0.36487306149228166, 0.46876053038938958, 0.16469964581248825, 0.016842292498068259, 0.29305588946638766, 0.043789960494977472, 0.087579920989954943, 0.55916411093586615, 0.022313085240519216, 0.95946266534232627, 0.97568598498933246, 0.014707299045604276, 0.014707299045604276, 0.92655983987306945, 0.029414598091208551, 0.055143903604922058, 0.19300366261722721, 0.1148831325102543, 0.63415489145660375, 0.96056970266935993, 0.97678446684345843, 0.86220570129742113, 0.085273091337107587, 0.056848727558071722, 0.36641277783825849, 0.10759740301599655, 0.40421727078982483, 0.090149175499889003, 0.02617234127416132, 0.0058160758387025158, 0.060665961838122402, 0.86665659768746284, 0.069332527814997033, 0.94452050358817485, 0.022542783831458083, 0.0018785653192881738, 0.061992655536509733, 0.84911152431825454, 0.0093928265964408689, 0.052599828940068864, 0.94572217209049925, 0.21925761168925828, 0.12897506569956368, 0.56319112022142814, 0.085983377133042466, 0.01696014196150113, 0.91584766592106115, 0.050880425884503394, 0.05608849975499574, 0.68325990610631171, 0.05608849975499574, 0.20395818092725723, 0.018734763128005729, 0.97420768265629798, 0.28921913193795401, 0.6515554601523571, 0.0016248265839210899, 0.0016248265839210899, 0.055244103853317059, 0.87159280373513059, 0.055633583217135997, 0.009272263869522665, 0.01854452773904533, 0.027816791608567999, 0.01854452773904533, 0.041073083442860495, 0.93098989137150456, 0.027382055628573664, 0.075543276176954097, 0.0088874442561122473, 0.0044437221280561236, 0.9065193141234491, 0.93858849603714078, 0.59215942342960226, 0.065795491492178032, 0.22088486429516913, 0.004699677963727002, 0.11279227112944806, 0.85156690301539339, 0.054587621988166246, 0.087340195181065991, 0.94242736646169067, 0.11769609925648149, 0.10357256734570371, 0.64497462392551852, 0.065909815583629627, 0.004707843970259259, 0.061201971613370369, 0.01006977546282656, 0.81565181248895136, 0.020139550925653119, 0.1510466319423984, 0.98509466702875526, 0.010766061934740495, 0.98652317840757675, 0.94242736646169067, 0.96578444551676124, 0.1801448274128975, 0.0042891625574499404, 0.3088197041363957, 0.021445812787249701, 0.48467536899184327, 0.72073761670701753, 0.013104320303763956, 0.26208640607527911, 0.86858479217135454, 0.1308826399162315, 0.016847562296387179, 0.016847562296387179, 0.9603110508940691, 0.22847247339695903, 0.76605476374274495, 0.0067197786293223243, 0.95128592060513517, 0.079485249684126374, 0.24682261744018191, 0.083668683878027769, 0.58568078714619443, 0.77379986070580931, 0.14588030160847223, 0.076111461708768119, 0.032784347612225331, 0.95074608075453471, 0.1287942811187342, 0.85472568378796332, 0.011708571010794018, 0.71340285136679571, 0.1015520073119994, 0.17009961224759898, 0.012694000913999925, 0.068739528611047457, 0.16802995882700489, 0.13747905722209491, 0.62247462020004085, 0.99002538265591389, 0.045659577939001175, 0.57074472423751466, 0.13127128657462839, 0.14268618105937866, 0.10558777398394022, 0.0028537236211875735, 0.14736480400962479, 0.67224843177424343, 0.17220156873034809, 0.0082789215735744274, 0.011367838112007631, 0.84122002028856457, 0.056839190560038153, 0.090942704896061044, 0.93881996576361582, 0.036108460221677532, 0.0051845338138237235, 0.082952541021179577, 0.041476270510589788, 0.86581714690856182, 0.91403292357096588, 0.70471061825605308, 0.0032032300829820592, 0.23063256597470827, 0.0032032300829820592, 0.057658141493677068, 0.95355187519723783, 0.95079058548649575, 0.86036066645222764, 0.12905409996783415, 0.92991250784713442, 0.029843376099828556, 0.95498803519451381, 0.92991250784713442, 0.032436338419144228, 0.2270543689340096, 0.0064872676838288457, 0.66170130375054226, 0.064872676838288457, 0.054721201780107011, 0.0078173145400152865, 0.77391413946151344, 0.0078173145400152865, 0.15634629080030574, 0.98146760553873025, 0.95052340888934861, 0.025013773918140754, 0.23950992150587574, 0.63123175574445756, 0.0022384104813633248, 0.040291388664539844, 0.022384104813633249, 0.0067152314440899743, 0.055960262034083122, 0.013214411604554067, 0.052857646418216268, 0.092500881231878468, 0.0066072058022770335, 0.13875132184781772, 0.69375660923908855, 0.94368062063117997, 0.96507437496422577, 0.022421556948569957, 0.94170539183993818, 0.022421556948569957, 0.032160653511864472, 0.93265895184406977, 0.073041563781855626, 0.35397065525053112, 0.57309534659609795, 0.023661297277926392, 0.01577419818528426, 0.0078870990926421299, 0.95039544066337667, 0.99102776269954573, 0.055124932559741213, 0.1194373538794393, 0.79931152211624756, 0.0091874887599568689, 0.0091874887599568689, 0.97407032753900302, 0.22043089588506262, 0.047660734245418945, 0.63746232053247831, 0.089363876710160522, 0.31087662484196849, 0.063146814421024849, 0.57803622431553514, 0.046145748999979697, 0.16424945776705976, 0.82474195814949158, 0.0069893386283855228, 0.038043697393858329, 0.89402688875567082, 0.0095109243484645823, 0.047554621742322917, 0.0095109243484645823, 0.12327070928187332, 0.56994574997383785, 0.007251218193051372, 0.22043703306876172, 0.0058009745544410976, 0.073962425569123996, 0.96909932900255025, 0.022537193697733729, 0.90762044862144731, 0.060714411809202555, 0.77272887757166886, 0.02207796793061911, 0.016558475947964332, 0.071753395774512105, 0.049675427843892998, 0.98450899632334976, 0.43647532804129124, 0.01983978763824051, 0.0015261375106338853, 0.3609315212649139, 0.18084729501011543, 0.98097051988923312, 0.95727489154816559, 0.49096420944831776, 0.0022729824511496192, 0.45005052532762463, 0.020456842060346574, 0.025002806962645813, 0.013637894706897717, 0.95772490610612815, 0.98409301250042924, 0.93079358387141342, 0.9216724722507077, 0.0095518311077477814, 0.019103662215495563, 0.13372563550846894, 0.038207324430991126, 0.79280198194306584, 0.92402613427418556, 0.1734038050226081, 0.0082573240486956238, 0.04954394429217375, 0.76793113652869305, 0.059460912449795199, 0.32017414396043564, 0.59918304084024387, 0.018295665369167751, 0.94218489984106835, 0.97146454387384329, 0.025564856417732717, 0.97395457007888653, 0.96056970266935993, 0.094010114366181854, 0.014463094517874132, 0.8894803128492591, 0.91604898040620208, 0.0063165199794789637, 0.056848679815310679, 0.93484495696288672, 0.0039020289029139746, 0.68285505800994561, 0.28679912436417715, 0.025363187868940835, 0.24326375968598601, 0.52759802425402158, 0.06002612251991863, 0.16744128913450987, 0.022801889236098379, 0.022801889236098379, 0.93487745868003358, 0.97501808780767829, 0.96856868846373045, 0.18725213907949645, 0.79222058841325427, 0.94072704201021751, 0.049511949579485133, 0.016334862804753138, 0.96375690548043524, 0.96207564104233412, 0.028296342383598062, 0.96809148837338954, 0.034798767945995485, 0.22619199164897064, 0.013049537979748305, 0.013049537979748305, 0.16094430175022911, 0.043498459932494349, 0.5089319812101839, 0.49067340978257457, 0.089956791793472005, 0.085867846711950552, 0.2167140893206371, 0.0040889450815214546, 0.053156286059778915, 0.057245231141300368, 0.036461240392029005, 0.72922480784058008, 0.060768733986715007, 0.0060768733986715003, 0.10330684777741551, 0.066845607385386502, 0.016770293466817975, 0.92236614067498857, 0.050310880400453922, 0.96517604569421744, 0.98316757636374141, 0.99572461696573999, 0.98809293619775951, 0.21226524777307387, 0.11417877948804335, 0.021456414937350426, 0.2375531653778083, 0.35249824539932845, 0.062070343211620881, 0.97200863954670058, 0.0124616492249577, 0.92224640647605349, 0.022493814792098867, 0.022493814792098867, 0.022493814792098867, 0.9927169936289455, 0.029852627374455574, 0.05472981685316855, 0.8756770696506968, 0.029852627374455574, 0.0099508757914851913, 0.97941832345528257, 0.77373850116416376, 0.010409038132253324, 0.21165044202248423, 0.0026478612288027875, 0.20653317584661743, 0.047661502118450175, 0.092675143008097566, 0.0026478612288027875, 0.64343027859907731, 0.91602649969899108, 0.0704635768999224, 0.9449506740316157, 0.49300327172643876, 0.0014331490457163917, 0.0014331490457163917, 0.44284305512636502, 0.061625408965804845, 0.14405888602093517, 0.033244358312523502, 0.80894605227140515, 0.40171162750060269, 0.015190775829854723, 0.3561393000110385, 0.22786163744782084, 0.95042324208182616, 0.032773215244200904, 0.89989931505660814, 0.018365292144012411, 0.082643814648055841, 0.83620961858642595, 0.041810480929321298, 0.12543144278796389, 0.78382098303392689, 0.11451929946924257, 0.0076346199646161713, 0.002544873321538724, 0.0076346199646161713, 0.083980819610777885, 0.002544873321538724, 0.37189437085606342, 0.37501953363636648, 0.25001302242424434, 0.029441506360814364, 0.081530325306870544, 0.036235700136386911, 0.045294625170483639, 0.38953377646615928, 0.41218108905140111, 0.0079718912143844807, 0.36272105025449386, 0.023915673643153442, 0.60187778668602832, 0.0039859456071922404, 0.08380357720881508, 0.90787208642882999, 0.93935055800578293, 0.029354704937680717, 0.93954023858309099, 0.0083176269006320549, 0.98147997427458233, 0.022328766379059974, 0.97130133748910885, 0.043727357820334503, 0.054659197275418125, 0.010931839455083626, 0.84175163804143915, 0.032795518365250874, 0.010931839455083626, 0.66444553349594904, 0.041527845843496815, 0.27223810052959024, 0.0046142050937218685, 0.013842615281165606, 0.4229303843768239, 0.50208847770938447, 0.072373113904055431, 0.96420326464825723, 0.58504567300722954, 0.41453770948373214], \"Term\": [\"\\\"\", \"\\\"\", \"\\\"\", \"\\\"\", \"\\\"\", \"\\\"\", \"\\\"\", \"\\\"and\", \"\\\"and\", \"\\\"and\", \"\\\"and\", \"\\\"and\", \"\\\"and\", \"\\\"as\", \"\\\"as\", \"\\\"come\", \"\\\"come\", \"\\\"do\", \"\\\"do\", \"\\\"for\", \"\\\"for\", \"\\\"he\", \"\\\"he\", \"\\\"he\", \"\\\"i\", \"\\\"i\", \"\\\"i\", \"\\\"i\", \"\\\"i\", \"\\\"it\", \"\\\"it\", \"\\\"it\", \"\\\"it\", \"\\\"just\", \"\\\"just\", \"\\\"no\", \"\\\"no\", \"\\\"no\", \"\\\"no\", \"\\\"no\", \"\\\"some\", \"\\\"thank\", \"\\\"that\", \"\\\"that\", \"\\\"that\", \"\\\"that\", \"\\\"the\", \"\\\"the\", \"\\\"the\", \"\\\"the\", \"\\\"the\", \"\\\"then\", \"\\\"then\", \"\\\"then\", \"\\\"then\", \"\\\"then\", \"\\\"there\", \"\\\"there\", \"\\\"there\", \"\\\"there\", \"\\\"there\", \"\\\"there\", \"\\\"this\", \"\\\"this\", \"\\\"this\", \"\\\"well\", \"\\\"well\", \"\\\"well\", \"\\\"well\", \"\\\"well\", \"\\\"well\", \"\\\"well\", \"\\\"well\", \"\\\"what\", \"\\\"what\", \"\\\"what\", \"\\\"what\", \"\\\"witness\", \"\\\"you\", \"\\\"you\", \"\\\"you\", \"absorbed\", \"absorbed\", \"act\", \"act\", \"act\", \"act\", \"adair\", \"additional\", \"additional\", \"address\", \"address\", \"address\", \"address\", \"address\", \"address\", \"addressed\", \"addressed\", \"adler\", \"advertisement\", \"affected\", \"aged\", \"ago\", \"ago\", \"ago\", \"ago\", \"analysis\", \"angel\", \"angel\", \"angle\", \"angle\", \"angle\", \"annoyance\", \"answer\", \"answer\", \"answer\", \"answered\", \"answered\", \"answered\", \"answered\", \"apartment\", \"apartment\", \"appeal\", \"appearance\", \"appearance\", \"appearance\", \"area\", \"arthur\", \"asked\", \"asked\", \"asked\", \"asked\", \"asked\", \"assure\", \"assure\", \"assure\", \"atmosphere\", \"atmosphere\", \"attacked\", \"aware\", \"aware\", \"aware\", \"aware\", \"aware\", \"aware\", \"back\", \"back\", \"back\", \"back\", \"back\", \"back\", \"baker\", \"baker\", \"baker\", \"baker\", \"baker\", \"baker\", \"bank\", \"bank\", \"barnicot\", \"beach\", \"beaten\", \"beautiful\", \"bed\", \"bed\", \"bed\", \"bed\", \"bed\", \"bed\", \"bedroom\", \"bedroom\", \"bedroom\", \"bedrooms\", \"betrayed\", \"bicycle\", \"bicycle\", \"bit\", \"bit\", \"bit\", \"black\", \"black\", \"black\", \"black\", \"blessington\", \"blood\", \"blood\", \"blood\", \"blood\", \"blooded\", \"blow\", \"blow\", \"blow\", \"blow\", \"board\", \"boat\", \"boat\", \"boat\", \"body\", \"body\", \"body\", \"body\", \"body\", \"body\", \"book\", \"book\", \"boot\", \"bottle\", \"box\", \"box\", \"box\", \"box\", \"box\", \"breakfast\", \"breakfast\", \"breakfast\", \"breakfast\", \"brenda\", \"bright\", \"bright\", \"bright\", \"bright\", \"bring\", \"bring\", \"bring\", \"bristol\", \"brook\", \"brother\", \"brother\", \"brother\", \"brother\", \"brother\", \"brought\", \"brought\", \"brought\", \"brought\", \"brought\", \"brown\", \"brown\", \"brown\", \"brutal\", \"burst\", \"burst\", \"burst\", \"burst\", \"burst\", \"bust\", \"bust\", \"cab\", \"cab\", \"cab\", \"cab\", \"cab\", \"call\", \"call\", \"call\", \"call\", \"call\", \"call\", \"call\", \"call\", \"cap\", \"capital\", \"cared\", \"cared\", \"carey\", \"case\", \"case\", \"case\", \"case\", \"case\", \"case\", \"case\", \"caused\", \"caused\", \"caused\", \"caused\", \"cecil\", \"chair\", \"chair\", \"chair\", \"chair\", \"chair\", \"chair\", \"chairs\", \"chairs\", \"chance\", \"chance\", \"chance\", \"chance\", \"character\", \"character\", \"character\", \"charge\", \"charge\", \"charlington\", \"charlington\", \"cheek\", \"cheery\", \"chuckled\", \"cigarette\", \"cigarette\", \"cigarette\", \"cigarette\", \"civil\", \"clear\", \"clear\", \"clear\", \"clear\", \"clear\", \"clearing\", \"clearing\", \"clergyman\", \"client\", \"client\", \"client\", \"client\", \"climbed\", \"clock\", \"clock\", \"clock\", \"clock\", \"clock\", \"clock\", \"close\", \"close\", \"close\", \"close\", \"close\", \"closer\", \"club\", \"club\", \"coldly\", \"collar\", \"collar\", \"collar\", \"colonel\", \"colonel\", \"colonel\", \"colonel\", \"coloured\", \"coloured\", \"column\", \"column\", \"coming\", \"coming\", \"coming\", \"coming\", \"coming\", \"committed\", \"committed\", \"companion\", \"companion\", \"companion\", \"companion\", \"companion\", \"companions\", \"companions\", \"conditions\", \"confess\", \"confess\", \"confess\", \"confess\", \"confess\", \"conscious\", \"conscious\", \"considerable\", \"considerable\", \"considerable\", \"constant\", \"content\", \"contraction\", \"conversation\", \"conversation\", \"conversation\", \"conversation\", \"convey\", \"cornish\", \"correspondence\", \"country\", \"country\", \"country\", \"country\", \"country\", \"country\", \"county\", \"county\", \"county\", \"county\", \"couple\", \"couple\", \"couple\", \"court\", \"court\", \"court\", \"cover\", \"cover\", \"craft\", \"cravat\", \"crawling\", \"creature\", \"creature\", \"creature\", \"creature\", \"cried\", \"cried\", \"cried\", \"cried\", \"cried\", \"cried\", \"crime\", \"crime\", \"crime\", \"crime\", \"crimes\", \"crimes\", \"crowded\", \"cunningham\", \"cunningham\", \"cyclist\", \"dangerous\", \"dangerous\", \"dangerous\", \"dangerous\", \"dangling\", \"dark\", \"dark\", \"dark\", \"dark\", \"dark\", \"dark\", \"dark\", \"dark\", \"darkness\", \"darkness\", \"darkness\", \"darkness\", \"darkness\", \"darkness\", \"days\", \"days\", \"days\", \"days\", \"dear\", \"dear\", \"dear\", \"dear\", \"dear\", \"death\", \"death\", \"death\", \"death\", \"death\", \"death\", \"debt\", \"deep\", \"deep\", \"deep\", \"depression\", \"deserted\", \"deserted\", \"deserved\", \"despair\", \"despair\", \"details\", \"details\", \"details\", \"details\", \"detection\", \"detectives\", \"development\", \"development\", \"diary\", \"didn\", \"didn\", \"didn\", \"didn\", \"didn\", \"difficulty\", \"difficulty\", \"difficulty\", \"difficulty\", \"difficulty\", \"disappointed\", \"disease\", \"disease\", \"dislike\", \"distance\", \"distance\", \"distance\", \"distance\", \"district\", \"doctor\", \"doctor\", \"doctor\", \"doctor\", \"doctor\", \"dog\", \"dog\", \"don\", \"don\", \"don\", \"don\", \"don\", \"don\", \"doorway\", \"doorway\", \"doubt\", \"doubt\", \"doubt\", \"doubt\", \"doubt\", \"doubt\", \"doubt\", \"doubts\", \"doubts\", \"dr\", \"dr\", \"dr\", \"dr\", \"dr\", \"dr\", \"dramatic\", \"dramatic\", \"dreadful\", \"dreadful\", \"dreadful\", \"dreadful\", \"dreadful\", \"drive\", \"drive\", \"drive\", \"drive\", \"drooping\", \"drove\", \"drove\", \"drove\", \"drove\", \"easily\", \"easily\", \"easily\", \"easily\", \"east\", \"east\", \"east\", \"east\", \"eccles\", \"edge\", \"edge\", \"effects\", \"elderly\", \"elderly\", \"end\", \"end\", \"end\", \"end\", \"end\", \"endeavoured\", \"endeavoured\", \"england\", \"england\", \"entered\", \"entered\", \"entered\", \"es\", \"es\", \"estate\", \"estate\", \"estate\", \"evening\", \"evening\", \"evening\", \"evening\", \"evening\", \"evidence\", \"evidence\", \"evidence\", \"evidence\", \"evidence\", \"evident\", \"evident\", \"evident\", \"excellent\", \"excellent\", \"excellent\", \"expanse\", \"experience\", \"experience\", \"experience\", \"expressed\", \"expression\", \"expression\", \"expression\", \"expression\", \"extended\", \"extreme\", \"extreme\", \"extreme\", \"eyes\", \"eyes\", \"eyes\", \"eyes\", \"eyes\", \"eyes\", \"eyes\", \"face\", \"face\", \"face\", \"face\", \"face\", \"faced\", \"faced\", \"faced\", \"fact\", \"fact\", \"fact\", \"fact\", \"facts\", \"facts\", \"facts\", \"facts\", \"family\", \"family\", \"father\", \"father\", \"father\", \"father\", \"father\", \"favorite\", \"fear\", \"fear\", \"fears\", \"features\", \"features\", \"feet\", \"feet\", \"feet\", \"feet\", \"fell\", \"fell\", \"fell\", \"fell\", \"fell\", \"fellow\", \"fellow\", \"fellow\", \"fellow\", \"fellow\", \"felony\", \"filled\", \"filled\", \"filled\", \"finally\", \"finally\", \"finally\", \"find\", \"find\", \"find\", \"find\", \"find\", \"find\", \"fire\", \"fire\", \"fire\", \"fireplace\", \"fitness\", \"floor\", \"floor\", \"floor\", \"fool\", \"foreign\", \"formatted\", \"fortune\", \"fortune\", \"forty\", \"forty\", \"forty\", \"forward\", \"forward\", \"forward\", \"found\", \"found\", \"found\", \"found\", \"found\", \"frank\", \"frank\", \"free\", \"friend\", \"friend\", \"friend\", \"friend\", \"friend\", \"friend\", \"friend\", \"front\", \"front\", \"front\", \"front\", \"front\", \"full\", \"full\", \"full\", \"full\", \"garcia\", \"garcia\", \"garden\", \"garden\", \"garden\", \"garden\", \"garden\", \"garden\", \"gave\", \"gave\", \"gave\", \"gave\", \"gave\", \"gems\", \"gennaro\", \"gentleman\", \"gentleman\", \"gentleman\", \"gentleman\", \"gentleman\", \"gentleman\", \"give\", \"give\", \"give\", \"give\", \"give\", \"give\", \"give\", \"glass\", \"glass\", \"glass\", \"glasses\", \"glasses\", \"glasses\", \"glasses\", \"gleam\", \"gleam\", \"gleam\", \"gleamed\", \"god\", \"god\", \"god\", \"god\", \"god\", \"good\", \"good\", \"good\", \"good\", \"good\", \"goose\", \"goose\", \"goose\", \"grant\", \"gravely\", \"gray\", \"gray\", \"great\", \"great\", \"great\", \"great\", \"great\", \"great\", \"great\", \"great\", \"greek\", \"green\", \"green\", \"green\", \"grizzled\", \"grizzled\", \"grounds\", \"grounds\", \"grow\", \"guard\", \"guard\", \"guard\", \"guarded\", \"gun\", \"hair\", \"hair\", \"hair\", \"hair\", \"half\", \"half\", \"half\", \"half\", \"half\", \"half\", \"hall\", \"hall\", \"hall\", \"hall\", \"hand\", \"hand\", \"hand\", \"hand\", \"hand\", \"hand\", \"hand\", \"handled\", \"hands\", \"hands\", \"hands\", \"hands\", \"hands\", \"hands\", \"handsome\", \"handsome\", \"handsome\", \"handsome\", \"happiness\", \"hard\", \"hard\", \"harpoon\", \"hayes\", \"haze\", \"head\", \"head\", \"head\", \"head\", \"head\", \"head\", \"heading\", \"hear\", \"hear\", \"hear\", \"hear\", \"hear\", \"heard\", \"heard\", \"heard\", \"heard\", \"heard\", \"heart\", \"heart\", \"heart\", \"hearty\", \"held\", \"held\", \"held\", \"hills\", \"hole\", \"hole\", \"hole\", \"holm\", \"holmes\", \"holmes\", \"holmes\", \"holmes\", \"holmes\", \"holmes\", \"holmes\", \"home\", \"home\", \"home\", \"home\", \"home\", \"home\", \"home\", \"home\", \"home\", \"honourable\", \"hope\", \"hope\", \"hope\", \"hope\", \"hopkins\", \"hopkins\", \"hopkins\", \"horse\", \"horse\", \"horse\", \"horse\", \"hotel\", \"hotel\", \"hotel\", \"hotel\", \"hotel\", \"hour\", \"hour\", \"hour\", \"hour\", \"hour\", \"hour\", \"hours\", \"hours\", \"hours\", \"house\", \"house\", \"house\", \"house\", \"house\", \"house\", \"html\", \"html\", \"hugo\", \"human\", \"human\", \"human\", \"human\", \"human\", \"husband\", \"husband\", \"husband\", \"husband\", \"husband\", \"husband\", \"hydraulic\", \"implied\", \"importance\", \"importance\", \"importance\", \"importance\", \"importance\", \"impossible\", \"impossible\", \"impossible\", \"impossible\", \"impossible\", \"incident\", \"incident\", \"including\", \"indian\", \"indian\", \"information\", \"information\", \"information\", \"information\", \"information\", \"initials\", \"initials\", \"initials\", \"injured\", \"injustice\", \"inn\", \"inn\", \"inquiries\", \"inquiries\", \"inquiries\", \"insist\", \"inspector\", \"inspector\", \"inspector\", \"inspector\", \"inspector\", \"instant\", \"instant\", \"instant\", \"instant\", \"instant\", \"instant\", \"intelligent\", \"intend\", \"intention\", \"intention\", \"intention\", \"intently\", \"intently\", \"interest\", \"interest\", \"interest\", \"interest\", \"interest\", \"interpreter\", \"investigation\", \"investigation\", \"investigation\", \"is\\\"\", \"italian\", \"italian\", \"james\", \"james\", \"james\", \"james\", \"jefferson\", \"keeping\", \"keeping\", \"kind\", \"kind\", \"kind\", \"kind\", \"knew\", \"knew\", \"knew\", \"knew\", \"knew\", \"knife\", \"knife\", \"knowledge\", \"knowledge\", \"knowledge\", \"knowledge\", \"lady\", \"lady\", \"lady\", \"lake\", \"land\", \"land\", \"land\", \"lantern\", \"lantern\", \"lantern\", \"large\", \"large\", \"large\", \"large\", \"larger\", \"lay\", \"lay\", \"lay\", \"lay\", \"leave\", \"leave\", \"leave\", \"leave\", \"left\", \"left\", \"left\", \"letter\", \"letter\", \"letter\", \"letter\", \"life\", \"life\", \"life\", \"life\", \"life\", \"life\", \"life\", \"light\", \"light\", \"light\", \"light\", \"light\", \"lighted\", \"lighted\", \"limbs\", \"limited\", \"limited\", \"linen\", \"lips\", \"lips\", \"litter\", \"liverpool\", \"living\", \"living\", \"living\", \"living\", \"locked\", \"locked\", \"locked\", \"locked\", \"locked\", \"logical\", \"london\", \"london\", \"london\", \"lonely\", \"lonely\", \"lonely\", \"looked\", \"looked\", \"looked\", \"looked\", \"lovely\", \"lucy\", \"lysander\", \"machinery\", \"maid\", \"maid\", \"maid\", \"maid\", \"majesty\", \"major\", \"makes\", \"makes\", \"makes\", \"makes\", \"male\", \"manner\", \"manner\", \"manner\", \"manner\", \"manner\", \"married\", \"married\", \"married\", \"married\", \"married\", \"married\", \"married\", \"matter\", \"matter\", \"matter\", \"mcginty\", \"mcginty\", \"mcginty\", \"mcpherson\", \"means\", \"means\", \"means\", \"means\", \"means\", \"medium\", \"men\", \"men\", \"men\", \"men\", \"men\", \"merchantablity\", \"message\", \"message\", \"message\", \"met\", \"met\", \"met\", \"met\", \"mind\", \"mind\", \"mind\", \"mind\", \"mind\", \"minister\", \"minister\", \"minutes\", \"minutes\", \"minutes\", \"minutes\", \"mirror\", \"misfortune\", \"misfortune\", \"mixture\", \"moment\", \"moment\", \"moment\", \"moment\", \"moment\", \"moment\", \"months\", \"months\", \"months\", \"months\", \"moon\", \"moran\", \"moran\", \"morning\", \"morning\", \"morning\", \"morning\", \"morning\", \"morning\", \"morning\", \"morris\", \"morrow\", \"morrow\", \"morrow\", \"morrow\", \"moss\", \"mottled\", \"mountains\", \"mountains\", \"moustache\", \"moustache\", \"move\", \"move\", \"move\", \"mrs\", \"mrs\", \"mrs\", \"mrs\", \"mrs\", \"mrs\", \"musgrave\", \"musgrave\", \"mystery\", \"mystery\", \"mystery\", \"mystery\", \"mystery\", \"nervous\", \"nervous\", \"nervous\", \"news\", \"news\", \"news\", \"news\", \"news\", \"news\", \"night\", \"night\", \"night\", \"night\", \"oak\", \"oak\", \"oberstein\", \"observed\", \"observed\", \"observed\", \"obvious\", \"obvious\", \"obvious\", \"occupation\", \"occupied\", \"occupied\", \"occurrence\", \"offer\", \"offer\", \"offer\", \"office\", \"office\", \"older\", \"open\", \"open\", \"open\", \"operation\", \"order\", \"order\", \"order\", \"orders\", \"orders\", \"pa\", \"page\", \"page\", \"page\", \"paper\", \"paper\", \"paper\", \"paper\", \"papers\", \"papers\", \"papers\", \"papers\", \"papers\", \"part\", \"part\", \"part\", \"part\", \"pass\", \"pass\", \"pass\", \"pass\", \"passed\", \"passed\", \"passed\", \"passed\", \"passed\", \"passenger\", \"past\", \"past\", \"patch\", \"pathway\", \"pay\", \"pay\", \"pay\", \"peg\", \"people\", \"people\", \"people\", \"people\", \"percy\", \"person\", \"person\", \"person\", \"person\", \"person\", \"person\", \"peter\", \"peters\", \"piled\", \"place\", \"place\", \"place\", \"place\", \"place\", \"planned\", \"plaster\", \"plaster\", \"pleasant\", \"pleasant\", \"pleasing\", \"pocket\", \"pocket\", \"pocket\", \"pocket\", \"pocket\", \"pocket\", \"point\", \"point\", \"point\", \"point\", \"point\", \"point\", \"point\", \"poison\", \"poison\", \"police\", \"police\", \"police\", \"police\", \"police\", \"police\", \"police\", \"poor\", \"poor\", \"poor\", \"poor\", \"poor\", \"poor\", \"porlock\", \"position\", \"position\", \"position\", \"position\", \"possessed\", \"possibly\", \"possibly\", \"possibly\", \"powers\", \"powers\", \"practitioner\", \"preposterous\", \"present\", \"present\", \"present\", \"press\", \"press\", \"press\", \"presume\", \"presume\", \"presume\", \"prisoner\", \"prisoner\", \"probable\", \"probable\", \"probable\", \"proceed\", \"proceeding\", \"proceedings\", \"produced\", \"produced\", \"progress\", \"progress\", \"promise\", \"promise\", \"promise\", \"promise\", \"prompt\", \"provided\", \"provided\", \"provided\", \"public\", \"public\", \"purpose\", \"purpose\", \"purpose\", \"purpose\", \"put\", \"put\", \"put\", \"put\", \"put\", \"put\", \"quarter\", \"quarter\", \"quarter\", \"quarter\", \"quarter\", \"quarter\", \"quarter\", \"question\", \"question\", \"question\", \"question\", \"question\", \"quick\", \"quick\", \"quick\", \"raised\", \"raised\", \"raised\", \"raised\", \"ran\", \"ran\", \"ran\", \"ran\", \"rapid\", \"rattled\", \"reached\", \"reached\", \"reached\", \"reached\", \"read\", \"read\", \"read\", \"read\", \"read\", \"reading\", \"reading\", \"realize\", \"realize\", \"reason\", \"reason\", \"reason\", \"reason\", \"reason\", \"reasoning\", \"reasoning\", \"reasons\", \"red\", \"red\", \"red\", \"red\", \"regular\", \"regular\", \"rely\", \"remark\", \"remark\", \"remark\", \"remarkable\", \"remarkable\", \"remarkable\", \"remarkable\", \"remarked\", \"remarked\", \"remarked\", \"remarked\", \"report\", \"report\", \"report\", \"request\", \"request\", \"resident\", \"resting\", \"result\", \"result\", \"result\", \"returned\", \"returned\", \"returned\", \"returned\", \"rich\", \"rich\", \"rich\", \"rigid\", \"rigid\", \"rival\", \"road\", \"road\", \"road\", \"road\", \"road\", \"room\", \"room\", \"room\", \"room\", \"room\", \"rope\", \"rope\", \"round\", \"round\", \"round\", \"round\", \"round\", \"round\", \"round\", \"round\", \"roylott\", \"roylott\", \"runs\", \"runs\", \"rushed\", \"rushed\", \"rushed\", \"rushed\", \"sad\", \"safe\", \"safe\", \"safe\", \"safe\", \"safety\", \"sahib\", \"sat\", \"sat\", \"sat\", \"save\", \"save\", \"save\", \"save\", \"save\", \"scott\", \"scott\", \"scream\", \"sea\", \"sea\", \"sea\", \"sea\", \"secret\", \"secret\", \"secret\", \"secret\", \"sees\", \"sequence\", \"servants\", \"servants\", \"servants\", \"set\", \"set\", \"set\", \"set\", \"set\", \"set\", \"shadow\", \"shadow\", \"shadow\", \"sheep\", \"sherlock\", \"sherlock\", \"sherlock\", \"sherlock\", \"sherlock\", \"sherlock\", \"shlessinger\", \"short\", \"short\", \"short\", \"short\", \"shortly\", \"shortly\", \"shortly\", \"show\", \"show\", \"show\", \"show\", \"shows\", \"shows\", \"side\", \"side\", \"side\", \"side\", \"side\", \"signs\", \"signs\", \"signs\", \"signs\", \"signs\", \"signs\", \"silent\", \"silent\", \"silent\", \"singular\", \"singular\", \"singular\", \"singular\", \"sinking\", \"sitting\", \"sitting\", \"sitting\", \"sitting\", \"sitting\", \"smoke\", \"smoke\", \"smoke\", \"snap\", \"son\", \"son\", \"son\", \"son\", \"son\", \"son\", \"soul\", \"soul\", \"soul\", \"soul\", \"sound\", \"sound\", \"space\", \"spectacles\", \"speedily\", \"spoke\", \"spoke\", \"spoke\", \"spoke\", \"spoke\", \"st\", \"st\", \"st\", \"stapleton\", \"stapleton\", \"stared\", \"stared\", \"stared\", \"state\", \"state\", \"state\", \"stately\", \"station\", \"station\", \"station\", \"station\", \"steps\", \"steps\", \"steps\", \"stern\", \"stern\", \"stone\", \"stone\", \"stone\", \"stood\", \"stood\", \"stood\", \"stood\", \"story\", \"story\", \"story\", \"story\", \"straker\", \"strange\", \"strange\", \"strange\", \"strange\", \"strange\", \"strange\", \"street\", \"street\", \"street\", \"street\", \"strength\", \"strength\", \"strength\", \"strength\", \"stronger\", \"stronger\", \"study\", \"study\", \"study\", \"study\", \"suburban\", \"suddenly\", \"suddenly\", \"suddenly\", \"suddenly\", \"suddenly\", \"suffered\", \"sufficiently\", \"suggested\", \"suggested\", \"superficial\", \"supper\", \"supper\", \"support\", \"surely\", \"surely\", \"surely\", \"surely\", \"surely\", \"surprised\", \"surprised\", \"surprised\", \"surprised\", \"surprised\", \"surrey\", \"sympathy\", \"sympathy\", \"table\", \"table\", \"table\", \"table\", \"table\", \"table\", \"table\", \"taking\", \"taking\", \"taking\", \"taking\", \"taking\", \"taking\", \"talents\", \"tapped\", \"teeth\", \"teeth\", \"teeth\", \"telegraph\", \"telegraph\", \"terrible\", \"terrible\", \"terrible\", \"text\", \"text\", \"text\", \"text\", \"theories\", \"thick\", \"thick\", \"thick\", \"thick\", \"thick\", \"thieves\", \"thin\", \"thin\", \"thin\", \"thin\", \"thing\", \"thing\", \"thing\", \"thing\", \"things\", \"things\", \"things\", \"thirty\", \"thirty\", \"thirty\", \"thirty\", \"thirty\", \"thought\", \"thought\", \"thought\", \"thought\", \"thought\", \"thought\", \"thoughts\", \"thoughts\", \"threatening\", \"threw\", \"threw\", \"threw\", \"threw\", \"threw\", \"threw\", \"till\", \"time\", \"time\", \"time\", \"time\", \"time\", \"title\", \"toby\", \"told\", \"told\", \"told\", \"told\", \"told\", \"told\", \"toller\", \"tone\", \"tones\", \"towers\", \"trace\", \"trace\", \"trace\", \"trace\", \"trace\", \"tracey\", \"tragedy\", \"tragedy\", \"tragedy\", \"tragedy\", \"train\", \"train\", \"train\", \"train\", \"trains\", \"trap\", \"trap\", \"trifling\", \"triumphant\", \"trouble\", \"trouble\", \"trouble\", \"trunk\", \"truth\", \"truth\", \"truth\", \"turned\", \"turned\", \"turned\", \"turned\", \"understand\", \"understand\", \"understand\", \"understand\", \"unexpected\", \"unexpected\", \"unexpected\", \"unicorn\", \"unique\", \"unusual\", \"unusual\", \"valley\", \"valley\", \"variants\", \"variants\", \"vicar\", \"vicar\", \"vital\", \"voice\", \"voice\", \"voice\", \"voice\", \"voice\", \"voice\", \"voice\", \"walked\", \"walked\", \"walked\", \"walked\", \"walked\", \"walked\", \"walked\", \"wall\", \"wall\", \"wall\", \"wall\", \"wall\", \"wall\", \"walls\", \"walls\", \"walls\", \"wanting\", \"warning\", \"warranties\", \"warranty\", \"watson\", \"watson\", \"watson\", \"watson\", \"watson\", \"watson\", \"weapon\", \"weapon\", \"weather\", \"weather\", \"weather\", \"weather\", \"wedding\", \"week\", \"week\", \"week\", \"week\", \"week\", \"whistle\", \"white\", \"white\", \"white\", \"wife\", \"wife\", \"wife\", \"wife\", \"wife\", \"wife\", \"william\", \"william\", \"williamson\", \"window\", \"window\", \"window\", \"window\", \"window\", \"wished\", \"wished\", \"wished\", \"woman\", \"woman\", \"woman\", \"woman\", \"wondering\", \"wondering\", \"wood\", \"wood\", \"wood\", \"wooden\", \"wooden\", \"wooden\", \"word\", \"word\", \"word\", \"word\", \"word\", \"word\", \"word\", \"words\", \"words\", \"words\", \"work\", \"work\", \"work\", \"work\", \"work\", \"work\", \"world\", \"world\", \"world\", \"world\", \"world\", \"worn\", \"worn\", \"wrist\", \"wrist\", \"wrists\", \"wrong\", \"wrong\", \"wrote\", \"wrote\", \"yards\", \"yards\", \"yards\", \"yards\", \"yards\", \"yards\", \"year\", \"year\", \"year\", \"year\", \"year\", \"years\", \"years\", \"years\", \"yonder\", \"young\", \"young\"]}, \"mdsDat\": {\"y\": [-0.059355420202159302, -0.20379296882451658, 0.16956890032233757, -0.14284319909684282, 0.045141777094368583, -0.016079528112024018, 0.20515765165515246, 0.026786378108009535, -0.033097995584171737, 0.0085144046398465192], \"cluster\": [1, 1, 1, 1, 1, 1, 1, 1, 1, 1], \"Freq\": [10.301558726225998, 10.220572481639739, 10.200134787531299, 10.151487628795232, 10.141950027813424, 10.088564259716659, 10.039334254838614, 9.6997536292292139, 9.6810895117498035, 9.4755546924600171], \"topics\": [1, 2, 3, 4, 5, 6, 7, 8, 9, 10], \"x\": [-0.053099862464316937, 0.10222225087888392, 0.12597462893655778, 0.12526027225354361, 0.098557672899314108, 0.11754675502802439, 0.058921040840540721, -0.16581541837432701, -0.18007497860942864, -0.22949236138879187]}, \"R\": 30, \"lambda.step\": 0.01, \"tinfo\": {\"Category\": [\"Default\", \"Default\", \"Default\", \"Default\", \"Default\", \"Default\", \"Default\", \"Default\", \"Default\", \"Default\", \"Default\", \"Default\", \"Default\", \"Default\", \"Default\", \"Default\", \"Default\", \"Default\", \"Default\", \"Default\", \"Default\", \"Default\", \"Default\", \"Default\", \"Default\", \"Default\", \"Default\", \"Default\", \"Default\", \"Default\", \"Topic1\", \"Topic1\", \"Topic1\", \"Topic1\", \"Topic1\", \"Topic1\", \"Topic1\", \"Topic1\", \"Topic1\", \"Topic1\", \"Topic1\", \"Topic1\", \"Topic1\", \"Topic1\", \"Topic1\", \"Topic1\", \"Topic1\", \"Topic1\", \"Topic1\", \"Topic1\", \"Topic1\", \"Topic1\", \"Topic1\", \"Topic1\", \"Topic1\", \"Topic1\", \"Topic1\", \"Topic1\", \"Topic1\", \"Topic1\", \"Topic1\", \"Topic1\", \"Topic1\", \"Topic1\", \"Topic1\", \"Topic1\", \"Topic1\", \"Topic1\", \"Topic1\", \"Topic1\", \"Topic1\", \"Topic1\", \"Topic1\", \"Topic1\", \"Topic1\", \"Topic1\", \"Topic1\", \"Topic1\", \"Topic1\", \"Topic1\", \"Topic1\", \"Topic1\", \"Topic1\", \"Topic1\", \"Topic1\", \"Topic1\", \"Topic1\", \"Topic1\", \"Topic1\", \"Topic1\", \"Topic1\", \"Topic1\", \"Topic1\", \"Topic1\", \"Topic1\", \"Topic1\", \"Topic1\", \"Topic1\", \"Topic1\", \"Topic1\", \"Topic1\", \"Topic1\", \"Topic1\", \"Topic1\", \"Topic1\", \"Topic1\", \"Topic1\", \"Topic1\", \"Topic2\", \"Topic2\", \"Topic2\", \"Topic2\", \"Topic2\", \"Topic2\", \"Topic2\", \"Topic2\", \"Topic2\", \"Topic2\", \"Topic2\", \"Topic2\", \"Topic2\", \"Topic2\", \"Topic2\", \"Topic2\", \"Topic2\", \"Topic2\", \"Topic2\", \"Topic2\", \"Topic2\", \"Topic2\", \"Topic2\", \"Topic2\", \"Topic2\", \"Topic2\", \"Topic2\", \"Topic2\", \"Topic2\", \"Topic2\", \"Topic2\", \"Topic2\", \"Topic2\", \"Topic2\", \"Topic2\", \"Topic2\", \"Topic2\", \"Topic2\", \"Topic2\", \"Topic2\", \"Topic2\", \"Topic2\", \"Topic2\", \"Topic2\", \"Topic2\", \"Topic2\", \"Topic2\", \"Topic2\", \"Topic2\", \"Topic2\", \"Topic2\", \"Topic2\", \"Topic2\", \"Topic2\", \"Topic2\", \"Topic2\", \"Topic2\", \"Topic2\", \"Topic2\", \"Topic2\", \"Topic2\", \"Topic2\", \"Topic2\", \"Topic2\", \"Topic2\", \"Topic2\", \"Topic2\", \"Topic2\", \"Topic2\", \"Topic2\", \"Topic2\", \"Topic2\", \"Topic2\", \"Topic2\", \"Topic3\", \"Topic3\", \"Topic3\", \"Topic3\", \"Topic3\", \"Topic3\", \"Topic3\", \"Topic3\", \"Topic3\", \"Topic3\", \"Topic3\", \"Topic3\", \"Topic3\", \"Topic3\", \"Topic3\", \"Topic3\", \"Topic3\", \"Topic3\", \"Topic3\", \"Topic3\", \"Topic3\", \"Topic3\", \"Topic3\", \"Topic3\", \"Topic3\", \"Topic3\", \"Topic3\", \"Topic3\", \"Topic3\", \"Topic3\", \"Topic3\", \"Topic3\", \"Topic3\", \"Topic3\", \"Topic3\", \"Topic3\", \"Topic3\", \"Topic3\", \"Topic3\", \"Topic3\", \"Topic3\", \"Topic3\", \"Topic3\", \"Topic3\", \"Topic3\", \"Topic3\", \"Topic3\", \"Topic3\", \"Topic3\", \"Topic3\", \"Topic3\", \"Topic3\", \"Topic3\", \"Topic3\", \"Topic3\", \"Topic3\", \"Topic3\", \"Topic3\", \"Topic3\", \"Topic3\", \"Topic3\", \"Topic3\", \"Topic3\", \"Topic3\", \"Topic3\", \"Topic3\", \"Topic3\", \"Topic3\", \"Topic3\", \"Topic3\", \"Topic3\", \"Topic3\", \"Topic3\", \"Topic4\", \"Topic4\", \"Topic4\", \"Topic4\", \"Topic4\", \"Topic4\", \"Topic4\", \"Topic4\", \"Topic4\", \"Topic4\", \"Topic4\", \"Topic4\", \"Topic4\", \"Topic4\", \"Topic4\", \"Topic4\", \"Topic4\", \"Topic4\", \"Topic4\", \"Topic4\", \"Topic4\", \"Topic4\", \"Topic4\", \"Topic4\", \"Topic4\", \"Topic4\", \"Topic4\", \"Topic4\", \"Topic4\", \"Topic4\", \"Topic4\", \"Topic4\", \"Topic4\", \"Topic4\", \"Topic4\", \"Topic4\", \"Topic4\", \"Topic4\", \"Topic4\", \"Topic4\", \"Topic4\", \"Topic4\", \"Topic4\", \"Topic4\", \"Topic4\", \"Topic4\", \"Topic4\", \"Topic4\", \"Topic4\", \"Topic4\", \"Topic4\", \"Topic4\", \"Topic4\", \"Topic4\", \"Topic4\", \"Topic4\", \"Topic4\", \"Topic4\", \"Topic4\", \"Topic4\", \"Topic4\", \"Topic4\", \"Topic4\", \"Topic4\", \"Topic4\", \"Topic4\", \"Topic4\", \"Topic4\", \"Topic4\", \"Topic4\", \"Topic4\", \"Topic4\", \"Topic4\", \"Topic4\", \"Topic4\", \"Topic4\", \"Topic5\", \"Topic5\", \"Topic5\", \"Topic5\", \"Topic5\", \"Topic5\", \"Topic5\", \"Topic5\", \"Topic5\", \"Topic5\", \"Topic5\", \"Topic5\", \"Topic5\", \"Topic5\", \"Topic5\", \"Topic5\", \"Topic5\", \"Topic5\", \"Topic5\", \"Topic5\", \"Topic5\", \"Topic5\", \"Topic5\", \"Topic5\", \"Topic5\", \"Topic5\", \"Topic5\", \"Topic5\", \"Topic5\", \"Topic5\", \"Topic5\", \"Topic5\", \"Topic5\", \"Topic5\", \"Topic5\", \"Topic5\", \"Topic5\", \"Topic5\", \"Topic5\", \"Topic5\", \"Topic5\", \"Topic5\", \"Topic5\", \"Topic5\", \"Topic5\", \"Topic5\", \"Topic5\", \"Topic5\", \"Topic5\", \"Topic5\", \"Topic5\", \"Topic5\", \"Topic5\", \"Topic5\", \"Topic5\", \"Topic5\", \"Topic5\", \"Topic5\", \"Topic5\", \"Topic5\", \"Topic5\", \"Topic5\", \"Topic5\", \"Topic5\", \"Topic5\", \"Topic5\", \"Topic5\", \"Topic5\", \"Topic5\", \"Topic5\", \"Topic5\", \"Topic5\", \"Topic5\", \"Topic5\", \"Topic5\", \"Topic6\", \"Topic6\", \"Topic6\", \"Topic6\", \"Topic6\", \"Topic6\", \"Topic6\", \"Topic6\", \"Topic6\", \"Topic6\", \"Topic6\", \"Topic6\", \"Topic6\", \"Topic6\", \"Topic6\", \"Topic6\", \"Topic6\", \"Topic6\", \"Topic6\", \"Topic6\", \"Topic6\", \"Topic6\", \"Topic6\", \"Topic6\", \"Topic6\", \"Topic6\", \"Topic6\", \"Topic6\", \"Topic6\", \"Topic6\", \"Topic6\", \"Topic6\", \"Topic6\", \"Topic6\", \"Topic6\", \"Topic6\", \"Topic6\", \"Topic6\", \"Topic6\", \"Topic6\", \"Topic6\", \"Topic6\", \"Topic6\", \"Topic6\", \"Topic6\", \"Topic6\", \"Topic6\", \"Topic6\", \"Topic6\", \"Topic6\", \"Topic6\", \"Topic6\", \"Topic6\", \"Topic6\", \"Topic6\", \"Topic6\", \"Topic6\", \"Topic6\", \"Topic6\", \"Topic6\", \"Topic6\", \"Topic6\", \"Topic6\", \"Topic6\", \"Topic6\", \"Topic6\", \"Topic6\", \"Topic6\", \"Topic6\", \"Topic6\", \"Topic6\", \"Topic6\", \"Topic6\", \"Topic6\", \"Topic6\", \"Topic6\", \"Topic6\", \"Topic7\", \"Topic7\", \"Topic7\", \"Topic7\", \"Topic7\", \"Topic7\", \"Topic7\", \"Topic7\", \"Topic7\", \"Topic7\", \"Topic7\", \"Topic7\", \"Topic7\", \"Topic7\", \"Topic7\", \"Topic7\", \"Topic7\", \"Topic7\", \"Topic7\", \"Topic7\", \"Topic7\", \"Topic7\", \"Topic7\", \"Topic7\", \"Topic7\", \"Topic7\", \"Topic7\", \"Topic7\", \"Topic7\", \"Topic7\", \"Topic7\", \"Topic7\", \"Topic7\", \"Topic7\", \"Topic7\", \"Topic7\", \"Topic7\", \"Topic7\", \"Topic7\", \"Topic7\", \"Topic7\", \"Topic7\", \"Topic7\", \"Topic7\", \"Topic7\", \"Topic7\", \"Topic7\", \"Topic7\", \"Topic7\", \"Topic7\", \"Topic7\", \"Topic7\", \"Topic7\", \"Topic7\", \"Topic7\", \"Topic7\", \"Topic7\", \"Topic7\", \"Topic7\", \"Topic7\", \"Topic7\", \"Topic7\", \"Topic7\", \"Topic7\", \"Topic7\", \"Topic7\", \"Topic7\", \"Topic7\", \"Topic7\", \"Topic7\", \"Topic7\", \"Topic7\", \"Topic7\", \"Topic8\", \"Topic8\", \"Topic8\", \"Topic8\", \"Topic8\", \"Topic8\", \"Topic8\", \"Topic8\", \"Topic8\", \"Topic8\", \"Topic8\", \"Topic8\", \"Topic8\", \"Topic8\", \"Topic8\", \"Topic8\", \"Topic8\", \"Topic8\", \"Topic8\", \"Topic8\", \"Topic8\", \"Topic8\", \"Topic8\", \"Topic8\", \"Topic8\", \"Topic8\", \"Topic8\", \"Topic8\", \"Topic8\", \"Topic8\", \"Topic8\", \"Topic8\", \"Topic8\", \"Topic8\", \"Topic8\", \"Topic8\", \"Topic8\", \"Topic8\", \"Topic8\", \"Topic8\", \"Topic8\", \"Topic8\", \"Topic8\", \"Topic8\", \"Topic8\", \"Topic8\", \"Topic8\", \"Topic8\", \"Topic8\", \"Topic8\", \"Topic8\", \"Topic8\", \"Topic8\", \"Topic8\", \"Topic8\", \"Topic8\", \"Topic8\", \"Topic8\", \"Topic8\", \"Topic8\", \"Topic8\", \"Topic8\", \"Topic8\", \"Topic8\", \"Topic8\", \"Topic8\", \"Topic8\", \"Topic8\", \"Topic8\", \"Topic8\", \"Topic8\", \"Topic8\", \"Topic8\", \"Topic8\", \"Topic8\", \"Topic9\", \"Topic9\", \"Topic9\", \"Topic9\", \"Topic9\", \"Topic9\", \"Topic9\", \"Topic9\", \"Topic9\", \"Topic9\", \"Topic9\", \"Topic9\", \"Topic9\", \"Topic9\", \"Topic9\", \"Topic9\", \"Topic9\", \"Topic9\", \"Topic9\", \"Topic9\", \"Topic9\", \"Topic9\", \"Topic9\", \"Topic9\", \"Topic9\", \"Topic9\", \"Topic9\", \"Topic9\", \"Topic9\", \"Topic9\", \"Topic9\", \"Topic9\", \"Topic9\", \"Topic9\", \"Topic9\", \"Topic9\", \"Topic9\", \"Topic9\", \"Topic9\", \"Topic9\", \"Topic9\", \"Topic9\", \"Topic9\", \"Topic9\", \"Topic9\", \"Topic9\", \"Topic9\", \"Topic9\", \"Topic9\", \"Topic9\", \"Topic9\", \"Topic9\", \"Topic9\", \"Topic9\", \"Topic9\", \"Topic9\", \"Topic9\", \"Topic9\", \"Topic9\", \"Topic9\", \"Topic9\", \"Topic9\", \"Topic9\", \"Topic10\", \"Topic10\", \"Topic10\", \"Topic10\", \"Topic10\", \"Topic10\", \"Topic10\", \"Topic10\", \"Topic10\", \"Topic10\", \"Topic10\", \"Topic10\", \"Topic10\", \"Topic10\", \"Topic10\", \"Topic10\", \"Topic10\", \"Topic10\", \"Topic10\", \"Topic10\", \"Topic10\", \"Topic10\", \"Topic10\", \"Topic10\", \"Topic10\", \"Topic10\", \"Topic10\", \"Topic10\", \"Topic10\", \"Topic10\", \"Topic10\", \"Topic10\", \"Topic10\", \"Topic10\", \"Topic10\", \"Topic10\", \"Topic10\", \"Topic10\", \"Topic10\", \"Topic10\", \"Topic10\", \"Topic10\", \"Topic10\", \"Topic10\", \"Topic10\", \"Topic10\", \"Topic10\", \"Topic10\", \"Topic10\", \"Topic10\", \"Topic10\", \"Topic10\", \"Topic10\", \"Topic10\", \"Topic10\", \"Topic10\", \"Topic10\", \"Topic10\", \"Topic10\", \"Topic10\", \"Topic10\", \"Topic10\", \"Topic10\", \"Topic10\", \"Topic10\", \"Topic10\", \"Topic10\", \"Topic10\", \"Topic10\"], \"Term\": [\"\\\"\", \"holmes\", \"\\\"i\", \"room\", \"back\", \"time\", \"left\", \"night\", \"matter\", \"\\\"it\", \"house\", \"morning\", \"good\", \"\\\"you\", \"london\", \"face\", \"young\", \"watson\", \"open\", \"window\", \"found\", \"sherlock\", \"friend\", \"side\", \"case\", \"hand\", \"eyes\", \"lady\", \"great\", \"street\", \"beautiful\", \"scream\", \"gennaro\", \"limbs\", \"moon\", \"lovely\", \"space\", \"forward\", \"tone\", \"cunningham\", \"open\", \"despair\", \"tapped\", \"intelligent\", \"drooping\", \"stately\", \"cheek\", \"shlessinger\", \"\\\"witness\", \"nervous\", \"wrists\", \"wrist\", \"apartment\", \"moss\", \"chairs\", \"burst\", \"trunk\", \"pleasing\", \"sahib\", \"resting\", \"doorway\", \"area\", \"bit\", \"lighted\", \"angle\", \"grizzled\", \"roylott\", \"living\", \"william\", \"garden\", \"word\", \"\\\"this\", \"move\", \"room\", \"guard\", \"white\", \"gleam\", \"clear\", \"stood\", \"bedroom\", \"wooden\", \"locked\", \"steps\", \"mrs\", \"darkness\", \"floor\", \"left\", \"bed\", \"part\", \"paper\", \"found\", \"god\", \"hands\", \"rushed\", \"red\", \"holmes\", \"lady\", \"woman\", \"coming\", \"looked\", \"light\", \"police\", \"watson\", \"round\", \"men\", \"\\\"\", \"side\", \"chair\", \"fear\", \"arthur\", \"incident\", \"major\", \"blessington\", \"lucy\", \"analysis\", \"whistle\", \"thoughts\", \"trap\", \"planned\", \"hugo\", \"snap\", \"spectacles\", \"guarded\", \"closer\", \"companions\", \"vicar\", \"rival\", \"harpoon\", \"haze\", \"blooded\", \"tracey\", \"piled\", \"rely\", \"rigid\", \"committed\", \"wondering\", \"knife\", \"cared\", \"silent\", \"inn\", \"charge\", \"cigarette\", \"charlington\", \"public\", \"instant\", \"oak\", \"faced\", \"italian\", \"drove\", \"things\", \"evening\", \"stapleton\", \"deep\", \"difficulty\", \"letter\", \"drive\", \"back\", \"suddenly\", \"suggested\", \"green\", \"dreadful\", \"remarkable\", \"evident\", \"wall\", \"year\", \"st\", \"mind\", \"heart\", \"road\", \"told\", \"married\", \"heard\", \"fell\", \"night\", \"sitting\", \"\\\"well\", \"don\", \"gave\", \"walked\", \"set\", \"watson\", \"fire\", \"foreign\", \"bottle\", \"aged\", \"frank\", \"jefferson\", \"elderly\", \"fireplace\", \"title\", \"cyclist\", \"mixture\", \"keeping\", \"office\", \"absorbed\", \"gleamed\", \"peters\", \"sufficiently\", \"litter\", \"mottled\", \"debt\", \"barnicot\", \"pa\", \"climbed\", \"runs\", \"distance\", \"percy\", \"depression\", \"passenger\", \"handsome\", \"grant\", \"chuckled\", \"valley\", \"column\", \"cab\", \"walls\", \"bust\", \"raised\", \"expression\", \"thirty\", \"hope\", \"page\", \"weather\", \"lay\", \"obvious\", \"half\", \"papers\", \"couple\", \"passed\", \"great\", \"address\", \"pay\", \"side\", \"good\", \"table\", \"young\", \"house\", \"people\", \"full\", \"read\", \"time\", \"window\", \"show\", \"gave\", \"observed\", \"ago\", \"entered\", \"pocket\", \"hand\", \"sat\", \"front\", \"dark\", \"\\\"well\", \"thing\", \"clock\", \"weapon\", \"yonder\", \"surrey\", \"attacked\", \"oberstein\", \"rattled\", \"patch\", \"coloured\", \"brutal\", \"grow\", \"hydraulic\", \"mcpherson\", \"hills\", \"linen\", \"correspondence\", \"heading\", \"pleasant\", \"clearing\", \"tones\", \"practitioner\", \"expanse\", \"days\", \"father\", \"crawling\", \"orders\", \"intently\", \"threatening\", \"contraction\", \"brenda\", \"goose\", \"quick\", \"body\", \"stronger\", \"estate\", \"worn\", \"doubts\", \"wood\", \"hair\", \"filled\", \"stone\", \"brought\", \"signs\", \"feet\", \"smoke\", \"initials\", \"lips\", \"ran\", \"edge\", \"street\", \"rich\", \"reached\", \"creature\", \"thick\", \"maid\", \"glasses\", \"home\", \"looked\", \"hours\", \"moment\", \"manner\", \"strange\", \"place\", \"face\", \"hand\", \"\\\"there\", \"close\", \"find\", \"told\", \"surely\", \"police\", \"give\", \"minutes\", \"night\", \"life\", \"matter\", \"death\", \"reading\", \"board\", \"capital\", \"till\", \"greek\", \"injured\", \"clergyman\", \"indian\", \"rapid\", \"suffered\", \"book\", \"williamson\", \"boat\", \"extended\", \"dislike\", \"deserved\", \"happiness\", \"cheery\", \"hole\", \"towers\", \"preposterous\", \"suburban\", \"male\", \"dramatic\", \"peg\", \"unicorn\", \"occupied\", \"dangling\", \"craft\", \"machinery\", \"sea\", \"forty\", \"moustache\", \"collar\", \"regular\", \"answer\", \"week\", \"development\", \"human\", \"hard\", \"conversation\", \"poison\", \"appearance\", \"promise\", \"lantern\", \"east\", \"finally\", \"strength\", \"country\", \"threw\", \"safe\", \"surprised\", \"inquiries\", \"met\", \"thought\", \"friend\", \"brother\", \"holmes\", \"eyes\", \"son\", \"place\", \"back\", \"young\", \"thin\", \"leave\", \"years\", \"give\", \"\\\"well\", \"hands\", \"face\", \"end\", \"set\", \"gentleman\", \"moment\", \"light\", \"warning\", \"reasons\", \"older\", \"district\", \"eccles\", \"fears\", \"majesty\", \"trifling\", \"adair\", \"favorite\", \"detectives\", \"toller\", \"cravat\", \"operation\", \"scott\", \"disease\", \"disappointed\", \"garcia\", \"large\", \"sinking\", \"character\", \"gray\", \"insist\", \"lysander\", \"press\", \"beach\", \"civil\", \"mirror\", \"crimes\", \"deserted\", \"fortune\", \"stern\", \"unexpected\", \"london\", \"impossible\", \"conscious\", \"shortly\", \"trouble\", \"facts\", \"hour\", \"remark\", \"message\", \"quarter\", \"club\", \"\\\"you\", \"shadow\", \"assure\", \"servants\", \"england\", \"probable\", \"hopkins\", \"bring\", \"dog\", \"yards\", \"held\", \"state\", \"interest\", \"possibly\", \"soul\", \"experience\", \"features\", \"knew\", \"colonel\", \"doctor\", \"returned\", \"considerable\", \"question\", \"sat\", \"inspector\", \"minutes\", \"head\", \"room\", \"mind\", \"chance\", \"life\", \"words\", \"great\", \"peter\", \"sound\", \"gun\", \"prisoner\", \"safety\", \"carey\", \"larger\", \"unique\", \"\\\"for\", \"proceedings\", \"possessed\", \"effects\", \"crowded\", \"cover\", \"proceed\", \"grounds\", \"prompt\", \"crime\", \"powers\", \"logical\", \"sympathy\", \"sheep\", \"interpreter\", \"musgrave\", \"resident\", \"text\", \"pathway\", \"occurrence\", \"knowledge\", \"constant\", \"client\", \"extreme\", \"progress\", \"land\", \"reasoning\", \"plaster\", \"report\", \"answered\", \"hall\", \"intention\", \"hotel\", \"county\", \"brown\", \"importance\", \"investigation\", \"turned\", \"box\", \"fellow\", \"blood\", \"thing\", \"tragedy\", \"past\", \"men\", \"dangerous\", \"window\", \"time\", \"years\", \"world\", \"reason\", \"save\", \"\\\"the\", \"evidence\", \"understand\", \"friend\", \"dr\", \"case\", \"house\", \"watson\", \"face\", \"leave\", \"light\", \"\\\"i\", \"head\", \"free\", \"advertisement\", \"holm\", \"formatted\", \"theories\", \"fool\", \"additional\", \"sad\", \"vital\", \"variants\", \"html\", \"adler\", \"handled\", \"hayes\", \"sequence\", \"\\\"come\", \"wanting\", \"triumphant\", \"cornish\", \"sees\", \"bedrooms\", \"\\\"some\", \"atmosphere\", \"stared\", \"endeavoured\", \"request\", \"affected\", \"proceeding\", \"occupation\", \"talents\", \"produced\", \"truth\", \"mountains\", \"es\", \"result\", \"rope\", \"bright\", \"sherlock\", \"telegraph\", \"details\", \"information\", \"morning\", \"baker\", \"james\", \"dear\", \"didn\", \"court\", \"glass\", \"trace\", \"mystery\", \"holmes\", \"pass\", \"blow\", \"excellent\", \"\\\"\", \"don\", \"secret\", \"watson\", \"case\", \"found\", \"order\", \"news\", \"eyes\", \"round\", \"hand\", \"work\", \"\\\"the\", \"doubt\", \"asked\", \"time\", \"position\", \"thought\", \"\\\"you\", \"terrible\", \"road\", \"warranties\", \"expressed\", \"including\", \"wedding\", \"straker\", \"medium\", \"implied\", \"merchantablity\", \"is\\\"\", \"fitness\", \"warranty\", \"\\\"as\", \"cap\", \"lake\", \"liverpool\", \"limited\", \"boot\", \"morris\", \"appeal\", \"provided\", \"toby\", \"beaten\", \"misfortune\", \"conditions\", \"diary\", \"content\", \"addressed\", \"trains\", \"convey\", \"purpose\", \"kind\", \"teeth\", \"singular\", \"angel\", \"\\\"he\", \"study\", \"mcginty\", \"caused\", \"\\\"no\", \"confess\", \"breakfast\", \"lonely\", \"aware\", \"night\", \"lady\", \"\\\"\", \"black\", \"left\", \"end\", \"family\", \"station\", \"train\", \"short\", \"companion\", \"work\", \"woman\", \"months\", \"\\\"that\", \"put\", \"face\", \"turned\", \"person\", \"find\", \"wrong\", \"\\\"thank\", \"bank\", \"bicycle\", \"wrote\", \"shows\", \"realize\", \"gems\", \"cecil\", \"honourable\", \"hearty\", \"gravely\", \"superficial\", \"detection\", \"support\", \"betrayed\", \"supper\", \"annoyance\", \"thieves\", \"minister\", \"speedily\", \"felony\", \"injustice\", \"\\\"then\", \"presume\", \"intend\", \"brook\", \"coldly\", \"porlock\", \"bristol\", \"moran\", \"\\\"just\", \"\\\"i\", \"\\\"it\", \"morrow\", \"act\", \"matter\", \"\\\"do\", \"wished\", \"poor\", \"offer\", \"\\\"\", \"makes\", \"easily\", \"present\", \"wife\", \"\\\"what\", \"unusual\", \"taking\", \"story\", \"husband\", \"horse\", \"heard\", \"means\", \"put\", \"fact\", \"good\", \"point\", \"life\", \"hear\", \"voice\", \"spoke\", \"case\", \"cried\", \"remarked\", \"\\\"and\", \"woman\", \"call\", \"doubt\"], \"loglift\": [30.0, 29.0, 28.0, 27.0, 26.0, 25.0, 24.0, 23.0, 22.0, 21.0, 20.0, 19.0, 18.0, 17.0, 16.0, 15.0, 14.0, 13.0, 12.0, 11.0, 10.0, 9.0, 8.0, 7.0, 6.0, 5.0, 4.0, 3.0, 2.0, 1.0, 2.2648000000000001, 2.2553999999999998, 2.2534999999999998, 2.2494999999999998, 2.2482000000000002, 2.2443, 2.2423999999999999, 2.2412999999999998, 2.2412999999999998, 2.2362000000000002, 2.2360000000000002, 2.2339000000000002, 2.2328999999999999, 2.2311000000000001, 2.2267999999999999, 2.2267999999999999, 2.2242999999999999, 2.2242999999999999, 2.2242999999999999, 2.2227000000000001, 2.2216, 2.2183999999999999, 2.2170000000000001, 2.2149999999999999, 2.2132999999999998, 2.2117, 2.2109999999999999, 2.2109999999999999, 2.2063999999999999, 2.2063999999999999, 2.1972, 2.2063999999999999, 2.1837, 2.1997, 2.1907999999999999, 2.1907000000000001, 2.1907000000000001, 2.1573000000000002, 2.1821999999999999, 2.1046999999999998, 2.0278999999999998, 2.0678000000000001, 2.1474000000000002, 1.9182999999999999, 2.129, 2.0179999999999998, 2.1597, 1.9457, 1.9354, 2.0251000000000001, 2.0884999999999998, 2.0905999999999998, 2.0175999999999998, 1.8783000000000001, 2.0468000000000002, 1.9238999999999999, 1.6793, 1.865, 1.7644, 1.6372, 1.3641000000000001, 1.8804000000000001, 1.4943, 1.7948999999999999, 1.7243999999999999, 0.78280000000000005, 1.4114, 1.359, 1.7129000000000001, 1.3593999999999999, 1.2534000000000001, 1.3592, 0.72399999999999998, 1.0581, 1.3596999999999999, -0.94699999999999995, 1.0321, 1.3255999999999999, 2.2707000000000002, 2.2656000000000001, 2.2648999999999999, 2.2603, 2.2597999999999998, 2.2534000000000001, 2.2524999999999999, 2.2515999999999998, 2.2504, 2.2462, 2.2374000000000001, 2.2374000000000001, 2.2351999999999999, 2.2351999999999999, 2.2326999999999999, 2.2326999999999999, 2.2323, 2.2284000000000002, 2.2269000000000001, 2.2269000000000001, 2.2269000000000001, 2.2269000000000001, 2.2269000000000001, 2.2235, 2.2235, 2.2233999999999998, 2.2221000000000002, 2.2216, 2.2212000000000001, 2.2199, 2.2075, 2.2044000000000001, 2.1901999999999999, 2.1947000000000001, 2.2138, 2.1594000000000002, 2.1271, 2.1959, 2.1541999999999999, 2.194, 2.1288999999999998, 2.0884999999999998, 2.0543999999999998, 2.1358999999999999, 2.0466000000000002, 2.0874999999999999, 2.0076000000000001, 2.0533999999999999, 1.7918000000000001, 1.9300999999999999, 2.1352000000000002, 2.0969000000000002, 2.0310999999999999, 1.9341999999999999, 2.0609999999999999, 1.9610000000000001, 1.8745000000000001, 1.9530000000000001, 1.5622, 1.7284999999999999, 1.6802999999999999, 1.5694999999999999, 1.9584999999999999, 1.3580000000000001, 1.8523000000000001, 1.0982000000000001, 1.7585, 1.1738999999999999, 1.2827999999999999, 1.3644000000000001, 1.5728, 1.2785, 0.11169999999999999, 1.6921999999999999, 2.2669000000000001, 2.2625999999999999, 2.2599999999999998, 2.2570000000000001, 2.2566999999999999, 2.2566999999999999, 2.2523, 2.2501000000000002, 2.2488999999999999, 2.2475999999999998, 2.2446000000000002, 2.2439, 2.2395, 2.2389999999999999, 2.2389999999999999, 2.2366999999999999, 2.2366999999999999, 2.2366999999999999, 2.2343000000000002, 2.2343000000000002, 2.2343000000000002, 2.2315, 2.2299000000000002, 2.2292000000000001, 2.2284000000000002, 2.2284000000000002, 2.2284000000000002, 2.226, 2.2248999999999999, 2.2248999999999999, 2.2197, 2.2141999999999999, 2.1810999999999998, 2.2019000000000002, 2.2018, 2.1798000000000002, 2.1617999999999999, 2.1686999999999999, 2.1229, 2.1793999999999998, 2.1968999999999999, 2.0724, 2.1240999999999999, 2.0476999999999999, 1.9924999999999999, 2.1248999999999998, 1.9595, 1.8976, 2.0682999999999998, 2.0952999999999999, 1.8531, 1.7270000000000001, 1.8232999999999999, 1.7466999999999999, 1.6252, 1.9085000000000001, 1.9091, 1.8231999999999999, 1.4535, 1.5747, 1.8986000000000001, 1.5801000000000001, 1.8813, 1.7758, 1.6184000000000001, 1.663, 0.76000000000000001, 1.2744, 1.3343, 1.2326999999999999, 0.87429999999999997, 1.1134999999999999, 1.5408999999999999, 2.2648999999999999, 2.2637999999999998, 2.2593000000000001, 2.2574000000000001, 2.2564000000000002, 2.2551999999999999, 2.2526999999999999, 2.2492000000000001, 2.2462, 2.2462, 2.2442000000000002, 2.2442000000000002, 2.2442000000000002, 2.2442000000000002, 2.2395, 2.2395, 2.2391999999999999, 2.2391000000000001, 2.2368000000000001, 2.2368000000000001, 2.2336999999999998, 2.2321, 2.2309000000000001, 2.2303000000000002, 2.2267000000000001, 2.2265999999999999, 2.2263000000000002, 2.2263000000000002, 2.2263000000000002, 2.2242000000000002, 2.214, 2.2050000000000001, 2.2202999999999999, 2.2120000000000002, 2.1920000000000002, 2.2202999999999999, 2.1775000000000002, 2.1503000000000001, 2.1802999999999999, 2.1324999999999998, 2.0800999999999998, 2.1473, 2.0701000000000001, 2.1326000000000001, 2.1911999999999998, 2.0754000000000001, 2.0270999999999999, 2.1179000000000001, 1.8909, 2.1113, 1.9832000000000001, 2.0583, 2.0640999999999998, 2.0017, 2.1053000000000002, 1.8571, 1.7450000000000001, 1.9219999999999999, 1.7145999999999999, 1.8619000000000001, 1.7257, 1.4994000000000001, 1.2484999999999999, 1.2586999999999999, 1.681, 1.7865, 1.3115000000000001, 1.4885999999999999, 1.8778999999999999, 1.2162999999999999, 0.98019999999999996, 1.4874000000000001, 0.4667, 0.92049999999999998, 0.68669999999999998, 1.2529999999999999, 2.2698999999999998, 2.266, 2.2648000000000001, 2.2627999999999999, 2.262, 2.2593999999999999, 2.2584, 2.2566000000000002, 2.2507999999999999, 2.2490999999999999, 2.2471000000000001, 2.2452999999999999, 2.2452000000000001, 2.2406000000000001, 2.2406000000000001, 2.2378999999999998, 2.2378999999999998, 2.2378999999999998, 2.2357, 2.2347999999999999, 2.2313999999999998, 2.2313999999999998, 2.2313999999999998, 2.2296, 2.2273999999999998, 2.2273999999999998, 2.2235999999999998, 2.2229000000000001, 2.2229000000000001, 2.2176999999999998, 2.2174, 2.2168999999999999, 2.2103000000000002, 2.2046000000000001, 2.2161, 2.1696, 2.1577999999999999, 2.2078000000000002, 2.1574, 2.1198999999999999, 2.1636000000000002, 2.1949000000000001, 2.1202999999999999, 2.1423999999999999, 2.1541999999999999, 2.1634000000000002, 2.0485000000000002, 2.1137000000000001, 1.9751000000000001, 2.0304000000000002, 1.9978, 2.0299, 2.0992999999999999, 1.8874, 1.726, 1.6884999999999999, 1.8868, 1.2574000000000001, 1.5282, 1.8506, 1.51, 1.2390000000000001, 1.4060999999999999, 1.8419000000000001, 1.5370999999999999, 1.4275, 1.3403, 1.2356, 1.2821, 0.80910000000000004, 1.0975999999999999, 1.3828, 1.6001000000000001, 1.0295000000000001, 0.73129999999999995, 2.2797000000000001, 2.2787999999999999, 2.2746, 2.2742, 2.2679, 2.2671999999999999, 2.2625000000000002, 2.2614000000000001, 2.2602000000000002, 2.2587999999999999, 2.2587999999999999, 2.2542, 2.2542, 2.2542, 2.2526000000000002, 2.2490000000000001, 2.2481, 2.2461000000000002, 2.2458999999999998, 2.2456, 2.2443, 2.2437999999999998, 2.2429000000000001, 2.2397999999999998, 2.2368999999999999, 2.2364000000000002, 2.2364000000000002, 2.2364000000000002, 2.2363, 2.2334000000000001, 2.2250999999999999, 2.2330000000000001, 2.2288999999999999, 2.2029999999999998, 2.2103999999999999, 2.2223999999999999, 2.2141999999999999, 2.1776, 2.1383000000000001, 2.1215999999999999, 2.2008000000000001, 2.1640999999999999, 2.1442000000000001, 2.1999, 2.0200999999999998, 2.153, 2.1476000000000002, 2.1421000000000001, 2.0699999999999998, 2.1869999999999998, 2.1191, 2.0209999999999999, 2.0615999999999999, 2.1259000000000001, 1.917, 2.0236000000000001, 1.8864000000000001, 2.0280999999999998, 2.0918999999999999, 2.0375000000000001, 1.9241999999999999, 1.5797000000000001, 1.8025, 1.7868999999999999, 1.7646999999999999, 1.992, 1.7509999999999999, 1.5367, 1.6379999999999999, 1.6389, 1.1971000000000001, 0.66930000000000001, 1.1718999999999999, 1.5952, 0.91139999999999999, 1.3150999999999999, 0.62819999999999998, 2.2852000000000001, 2.2841999999999998, 2.2839, 2.2812000000000001, 2.2803, 2.2803, 2.2776999999999998, 2.2755000000000001, 2.2717000000000001, 2.2694000000000001, 2.2673999999999999, 2.2673999999999999, 2.2662, 2.2654000000000001, 2.2623000000000002, 2.262, 2.2606999999999999, 2.2601, 2.2578999999999998, 2.2572000000000001, 2.2538, 2.2530000000000001, 2.2530000000000001, 2.2524999999999999, 2.2505000000000002, 2.2488000000000001, 2.2477999999999998, 2.2477999999999998, 2.2458999999999998, 2.2446999999999999, 2.2122999999999999, 2.2296, 2.2381000000000002, 2.2136999999999998, 2.2147000000000001, 2.2204999999999999, 2.1945000000000001, 2.1291000000000002, 2.1112000000000002, 2.1922000000000001, 2.1297999999999999, 2.1956000000000002, 2.1246999999999998, 2.0754000000000001, 2.0815000000000001, 1.917, 1.9903, 1.8947000000000001, 1.9348000000000001, 1.7522, 2.0297999999999998, 1.7965, 1.6875, 1.9758, 1.4839, 1.2794000000000001, 1.6105, 1.7889999999999999, 1.7224999999999999, 1.7171000000000001, 1.5327, 1.8607, 1.6587000000000001, 1.3015000000000001, 1.6097999999999999, 1.0628, 0.95050000000000001, 0.8609, 0.80379999999999996, 1.5087999999999999, 1.0659000000000001, 0.062399999999999997, 0.98970000000000002, 2.3273000000000001, 2.3208000000000002, 2.3191000000000002, 2.3191000000000002, 2.3128000000000002, 2.3113000000000001, 2.3068, 2.3060999999999998, 2.3060999999999998, 2.3031999999999999, 2.3031000000000001, 2.2989999999999999, 2.2976999999999999, 2.2961999999999998, 2.2961999999999998, 2.2921999999999998, 2.2911000000000001, 2.2890000000000001, 2.2890000000000001, 2.2890000000000001, 2.2867999999999999, 2.2867999999999999, 2.2865000000000002, 2.2854000000000001, 2.2854000000000001, 2.2839999999999998, 2.2814999999999999, 2.2814999999999999, 2.2814999999999999, 2.2814999999999999, 2.2776000000000001, 2.2652999999999999, 2.2784, 2.2706, 2.2635999999999998, 2.2688999999999999, 2.2471999999999999, 2.1697000000000002, 2.2732000000000001, 2.1968999999999999, 2.1850000000000001, 2.0844, 2.1583000000000001, 2.1280999999999999, 1.9950000000000001, 2.1836000000000002, 2.1698, 2.0880999999999998, 2.1004, 2.0154999999999998, 1.3828, 2.0476999999999999, 2.0571999999999999, 2.0242, 0.84589999999999999, 1.6718999999999999, 1.8746, 1.2896000000000001, 1.3726, 1.3877999999999999, 1.8507, 1.9750000000000001, 1.2, 1.2294, 1.0781000000000001, 1.3927, 1.3436999999999999, 1.3428, 1.6779999999999999, 0.62460000000000004, 1.7532000000000001, 0.81899999999999995, 0.87870000000000004, 1.7744, 1.2235, 2.3279999999999998, 2.3248000000000002, 2.3222999999999998, 2.3220999999999998, 2.3214999999999999, 2.3214999999999999, 2.3212999999999999, 2.3210999999999999, 2.3210999999999999, 2.3210999999999999, 2.3210999999999999, 2.3195000000000001, 2.3172999999999999, 2.3083, 2.3083, 2.3081999999999998, 2.3075000000000001, 2.3035999999999999, 2.3035999999999999, 2.3008999999999999, 2.2934000000000001, 2.2934000000000001, 2.2930000000000001, 2.2913999999999999, 2.2890999999999999, 2.2890999999999999, 2.2877000000000001, 2.2867000000000002, 2.2867000000000002, 2.286, 2.258, 2.2722000000000002, 2.2383999999999999, 2.2665999999999999, 2.1991000000000001, 2.1924999999999999, 2.2393000000000001, 2.2166999999999999, 2.1696, 2.1855000000000002, 2.1151, 2.1699000000000002, 2.0586000000000002, 1.6817, 1.7619, 0.9244, 1.7313000000000001, 1.5267999999999999, 1.5628, 1.8806, 1.798, 1.8241000000000001, 1.7622, 1.7082999999999999, 1.4512, 1.3024, 1.9399, 1.4269000000000001, 1.101, 0.54430000000000001, 1.0882000000000001, 1.4124000000000001, 0.43359999999999999, 2.3412999999999999, 2.3369, 2.3313999999999999, 2.3308, 2.3250999999999999, 2.3222, 2.3212999999999999, 2.3163, 2.3144999999999998, 2.3144999999999998, 2.3104, 2.3079999999999998, 2.3054000000000001, 2.3054000000000001, 2.3054000000000001, 2.3054000000000001, 2.3012000000000001, 2.2993000000000001, 2.2993000000000001, 2.2976999999999999, 2.2955999999999999, 2.2955999999999999, 2.2955999999999999, 2.2942999999999998, 2.2909000000000002, 2.2866, 2.2866, 2.2866, 2.2810999999999999, 2.2810999999999999, 2.2797000000000001, 2.2736000000000001, 2.1720000000000002, 2.1987999999999999, 2.2315999999999998, 2.2187999999999999, 2.0788000000000002, 2.2332999999999998, 2.1480000000000001, 2.0379999999999998, 2.2090000000000001, 1.6335999999999999, 2.1819999999999999, 2.133, 2.0114000000000001, 1.9157999999999999, 2.0716999999999999, 2.1269999999999998, 1.9896, 1.8805000000000001, 1.8755999999999999, 1.9175, 1.5283, 1.8295999999999999, 1.5059, 1.7192000000000001, 1.2060999999999999, 1.4965999999999999, 1.3561000000000001, 1.6335999999999999, 1.6777, 1.6322000000000001, 0.84889999999999999, 1.3021, 1.7021999999999999, 1.5148999999999999, 0.87509999999999999, 1.5634999999999999, 0.86629999999999996], \"Freq\": [10537.0, 3207.0, 1865.0, 1428.0, 1146.0, 1310.0, 846.0, 1057.0, 739.0, 668.0, 1193.0, 739.0, 876.0, 613.0, 527.0, 1207.0, 639.0, 1304.0, 472.0, 697.0, 899.0, 532.0, 721.0, 615.0, 954.0, 981.0, 821.0, 544.0, 636.0, 603.0, 105.10893304558836, 48.344432750941181, 43.614057726387252, 36.045457687100964, 34.153307677279386, 29.422932652725457, 27.530782642903883, 176.06455841389732, 26.584707637993098, 48.344432750941181, 455.15668486257931, 45.506207736208822, 20.90825760852838, 19.962182603617592, 18.070032593796022, 18.070032593796022, 17.123957588885233, 17.123957588885233, 17.123957588885233, 89.971732967015768, 16.177882583974448, 32.261157667457816, 31.315082662547027, 14.285732574152874, 29.422932652725457, 72.942382878621615, 13.339657569242087, 13.339657569242087, 12.3935825643313, 12.3935825643313, 35.099382682190168, 12.3935825643313, 90.917807971926564, 23.746482623260739, 32.261157667457816, 32.261157667457816, 32.261157667457816, 84.29528293755105, 38.883682701833322, 144.8440832518414, 307.56898409649665, 162.81950834514632, 55.913032790227476, 1001.9880377010137, 67.265932849156897, 223.36830865943665, 45.506207736208822, 349.19628431257127, 281.07888395899465, 128.76080816835801, 79.564907912997128, 75.780607893353974, 122.13828313398251, 238.50550873800921, 84.29528293755105, 155.25090830586004, 467.45565992641951, 159.03520832550316, 177.01063341880811, 216.74578362506114, 362.44133438132229, 107.00108305540992, 247.96625878711714, 125.92258315362567, 144.8440832518414, 722.89591125233187, 229.99083369381216, 237.55943373309842, 138.22155821746588, 189.30960848264834, 210.12325859068562, 177.95670842371891, 277.29458393935147, 208.23110858086409, 168.49595837461104, 421.097984685791, 177.95670842371891, 150.52053328130611, 273.35024436568585, 55.510832567795696, 109.97068551726821, 41.179292317934497, 40.223856301277081, 30.669496134702957, 29.714060118045541, 28.758624101388129, 86.084785100832903, 75.57498891760136, 19.204263934814001, 19.204263934814001, 18.248827918156586, 18.248827918156586, 17.293391901499174, 17.293391901499174, 36.402112234647433, 33.535804184675193, 15.38251986818435, 15.38251986818435, 15.38251986818435, 15.38251986818435, 15.38251986818435, 14.427083851526936, 14.427083851526936, 29.714060118045541, 61.243448667740168, 28.758624101388129, 107.10437746729599, 28.758624101388129, 135.76745796701837, 58.377140617767935, 68.886936800999464, 50.733652484508632, 25.892316051415893, 138.63376601699059, 367.93841001476972, 40.223856301277081, 93.7282732340922, 39.268420284619673, 126.21309780044425, 236.0882397160467, 338.31989349838989, 72.708680867629113, 180.67295074991679, 110.92612153392564, 227.48931556613002, 133.85658593370354, 703.29645186152175, 219.84582743287069, 60.288012651082759, 74.619552900943944, 106.14894145063856, 169.20771855002783, 81.307605017545839, 119.52504568384235, 144.36638211693509, 109.97068551726821, 248.50890793259313, 169.20771855002783, 178.76207871660193, 216.02408336624106, 99.460889334036679, 281.94916851560254, 117.61417365052753, 323.98835324852877, 126.21309780044425, 199.78167108306505, 181.62838676657418, 145.3218181335925, 120.48048170049977, 126.21309780044425, 149.14356220022214, 113.79242958389787, 53.103913937584075, 41.744787961630259, 37.011818804982845, 67.302821407526338, 32.278849648335424, 68.249415238855818, 27.545880491687999, 25.652692829029029, 24.706098997699545, 23.759505166370062, 46.477757118277687, 165.74857986579272, 40.798194130300779, 19.026536009722637, 19.026536009722637, 18.079942178393154, 18.079942178393154, 18.079942178393154, 17.13334834706367, 17.13334834706367, 17.13334834706367, 16.186754515734183, 33.225443479664904, 84.341510371457062, 15.240160684404701, 15.240160684404701, 15.240160684404701, 62.569852250878917, 14.293566853075214, 14.293566853075214, 56.890289262902016, 38.905006467641812, 186.57364415504136, 54.997101600243042, 54.997101600243042, 111.79273148001209, 117.47229446798902, 93.807448684751904, 229.17036656486817, 59.73007075689047, 40.798194130300779, 344.65481398706532, 131.67120193793127, 413.75616367411766, 270.82049514336552, 77.71535355215066, 280.28643345666035, 432.68804030070737, 107.05976232336468, 82.448322708798102, 400.50385003550485, 502.7359838190892, 282.17962111931934, 373.9992227582793, 618.22043124128629, 165.74857986579272, 143.03032791388509, 184.6804564923824, 571.83733350614159, 343.70822015573583, 133.56438960059026, 179.94748733573499, 104.21998082937623, 117.47229446798902, 137.35076492590821, 130.72460810660181, 214.02486526359641, 143.97692174521458, 134.51098343191973, 139.24395258856717, 147.7632970705325, 127.88482661261334, 118.4188882993185, 78.44559406512434, 35.448618024556794, 29.715687885814457, 27.804711172900344, 26.849222816443287, 25.893734459986231, 23.982757747072117, 45.95898994558442, 20.160804321243891, 20.160804321243891, 19.205315964786834, 19.205315964786834, 19.205315964786834, 19.205315964786834, 17.294339251872721, 17.294339251872721, 55.51387351015498, 36.404106381013854, 16.338850895415668, 16.338850895415668, 15.383362538958611, 336.42745030852956, 324.00610167458785, 14.427874182501553, 28.760199529357401, 28.760199529357401, 13.472385826044494, 13.472385826044494, 13.472385826044494, 42.137036519756194, 135.7748954525477, 240.87861466282394, 25.893734459986231, 45.95898994558442, 65.068757074725539, 25.893734459986231, 97.555361194265458, 160.61759272043116, 66.024245431182607, 146.28526737357532, 322.09512496167372, 93.733407768437232, 215.0804290384834, 78.44559406512434, 36.404106381013854, 136.73038380900479, 190.23773177059994, 70.801687213467872, 406.17810032989473, 68.890710500553766, 171.12796464145879, 96.599872837808405, 87.044989273237832, 123.35354681860598, 64.113268718268486, 176.86089478020114, 274.32070713882092, 124.30903517506303, 236.10117288053866, 135.7748954525477, 199.7926153351705, 268.58777700007857, 427.19884417194993, 350.7597756553854, 149.15173244294652, 125.2645235315201, 259.03289343550802, 197.88163862225636, 102.33280297655075, 152.01819751231767, 147.24075573003239, 120.4870817492348, 171.12796464145879, 143.41880230420418, 149.15173244294652, 128.13098860089127, 95.898496659110037, 37.458853340371654, 35.542799461068753, 32.668718642114413, 31.710691702462963, 28.836610883508616, 27.878583943857166, 55.661365193749184, 22.130422305948471, 21.172395366297021, 177.33078652948319, 19.256341486994128, 62.367553771309318, 17.340287607691227, 17.340287607691227, 16.382260668039777, 16.382260668039777, 16.382260668039777, 50.871230495491936, 15.42423372838833, 14.466206788736878, 14.466206788736878, 14.466206788736878, 29.794637823160063, 13.50817984908543, 13.50817984908543, 26.920557004205715, 12.550152909433981, 12.550152909433981, 11.592125969782533, 63.325580710960772, 49.913203555840497, 32.668718642114413, 42.248988038628895, 24.046476185251372, 180.20486734843755, 176.37275958983173, 32.668718642114413, 106.43679299527598, 210.8617294172839, 77.695984805732493, 37.458853340371654, 129.42943954691074, 90.150335021201343, 58.535446012703531, 48.955176616189043, 150.50603221924263, 73.863877047126721, 238.64451066717592, 139.9677358830767, 120.80719709004771, 98.772577478064377, 63.325580710960772, 181.16289428808901, 392.88684795105922, 395.76092877001361, 152.42208609854552, 1143.9799686377951, 384.26460549419619, 137.09365506412234, 271.21742661532517, 401.50909040792232, 264.51123803776505, 107.39481993492741, 174.45670571052887, 186.91105592599769, 210.8617294172839, 210.8617294172839, 197.44935226216361, 275.04953437393101, 172.54065183122594, 139.00970894342524, 119.84917015039626, 118.89114321074481, 122.7232509693506, 60.17627198439606, 56.361611319775065, 43.963964159756863, 43.010298993601623, 32.519982165893907, 31.56631699973866, 26.797991168962426, 25.844326002807183, 24.890660836651936, 23.936995670496689, 23.936995670496689, 21.076000172030948, 21.076000172030948, 21.076000172030948, 43.010298993601623, 39.195638328980628, 18.215004673565208, 54.454280987464578, 309.08288035091545, 17.261339507409964, 128.84016394757381, 90.693557301363938, 16.307674341254717, 15.354009175099469, 46.824959658222603, 14.400344008944222, 14.400344008944222, 14.400344008944222, 29.65898666742817, 43.963964159756863, 65.89826298132752, 28.705321501272923, 41.102968661291129, 481.69627542501507, 130.74749427988431, 49.685955156688351, 54.454280987464578, 123.11817295064232, 243.27998388620338, 328.15618367402033, 64.944597815172287, 108.81319545831361, 133.60848977835002, 57.315276485930312, 466.43763276653107, 100.23020896291641, 95.461883132140173, 90.693557301363938, 149.82079760298922, 58.268941652085559, 88.786226969053445, 157.45011893223122, 120.25717745217658, 77.342244975190496, 196.55039074459631, 113.58152128908986, 193.68939524613057, 102.13753929522689, 81.15690563981147, 94.508217965984926, 124.07183811679757, 257.58496137853211, 145.05247177221298, 145.05247177221298, 150.77446276914446, 97.369213464450667, 144.09880660605774, 185.10640875073332, 151.72812793529971, 139.3304807752815, 189.87473458150956, 281.42659053241329, 166.03310542762841, 121.21084261833182, 141.23781110759199, 120.25717745217658, 120.25717745217658, 63.007069527121523, 183.11131703721705, 57.287819645688415, 102.08861038358117, 45.849319882822179, 45.849319882822179, 40.130070001389058, 36.31723674710031, 65.866694467838087, 28.691570238522818, 26.785153611378444, 26.785153611378444, 25.831945297806257, 53.474986391399668, 22.972320357089696, 73.492360976415569, 22.019112043517513, 312.74764768303442, 88.74369399357056, 20.112695416373136, 38.223653374244684, 18.206278789228765, 18.206278789228765, 38.223653374244684, 17.253070475656578, 241.25702416512041, 16.299862162084391, 16.299862162084391, 139.26373461289646, 15.346653848512204, 134.4976930450355, 51.568569764255294, 28.691570238522818, 63.007069527121523, 53.474986391399668, 45.849319882822179, 77.30519423070433, 229.81852440225418, 253.64873224155886, 58.241027959260599, 103.04181869715336, 51.568569764255294, 94.462943875003688, 140.21694292646862, 121.15277665502491, 349.92277191234973, 174.53244221506736, 287.01102321658539, 150.70223437576269, 238.39739922440384, 92.556527247859307, 169.76640064720641, 227.9121077751098, 102.08861038358117, 308.93481442874565, 472.88664436316174, 222.19285789367669, 150.70223437576269, 165.95356739291768, 165.95356739291768, 220.28644126653231, 124.01240159574147, 166.90677570648987, 266.04044031799725, 168.81319233363422, 277.47894008086354, 309.88802274231784, 309.88802274231784, 270.8064818858582, 167.85998402006206, 169.76640064720641, 199.3158583679442, 153.56185931647926, 146.05454964771465, 68.836799350405798, 60.361680415335329, 60.361680415335329, 41.52808278184537, 38.703043136821876, 67.895119468731309, 31.169604083425888, 31.169604083425888, 59.420000533660833, 59.420000533660833, 24.5778449117044, 23.636165030029904, 22.694485148355405, 22.694485148355405, 43.411442545194369, 19.86944550333191, 18.927765621657414, 18.927765621657414, 18.927765621657414, 17.986085739982915, 17.986085739982915, 37.761363255147373, 56.594960888637338, 36.819683373472877, 35.878003491798374, 16.10272597663392, 16.10272597663392, 16.10272597663392, 16.10272597663392, 48.119841953566855, 147.93790941106366, 32.111283965100384, 57.536640770311834, 75.42855852212729, 55.653281006962843, 82.961997575523284, 452.10051119192656, 29.286244320076893, 122.51255260585221, 152.64630881943614, 576.40225557296037, 158.29638810948313, 130.04599165924816, 308.02348929572833, 64.128399942033312, 68.836799350405798, 95.203836037291751, 82.961997575523284, 119.6875129608287, 1240.2865721534813, 98.028875682315245, 91.437116510593768, 97.087195800640757, 2381.6025887429732, 254.34773604028194, 137.57943071264418, 459.63395024532258, 365.46596207787275, 349.45740408940628, 127.22095201422469, 98.970555563989748, 264.70621473870142, 232.68909876176849, 279.77309284549341, 172.42158633460059, 176.18830586129857, 163.94646739953009, 121.5708727241777, 237.39749817014098, 111.21239402575821, 151.70462893776164, 143.22951000269117, 101.79559520901324, 107.44567449906023, 121.67248793043656, 82.729693198602831, 66.582680748818134, 65.632856487066078, 62.783383701809967, 62.783383701809967, 61.833559440057925, 60.883735178305876, 60.883735178305876, 60.883735178305876, 60.883735178305876, 115.97354235992431, 47.586195513777298, 31.439183063992587, 31.439183063992587, 101.72617843364368, 30.489358802240545, 26.690061755232378, 26.690061755232378, 77.980571889842636, 20.041291922968085, 20.041291922968085, 40.937425681513005, 19.091467661216043, 18.141643399464002, 18.141643399464002, 37.138128634504838, 17.19181913771196, 17.19181913771196, 149.21739152124579, 188.1601862530795, 41.887249943265047, 204.30719870286421, 39.037777158008922, 198.60825313235193, 167.26405249453455, 65.632856487066078, 97.926881386635515, 178.66194363555908, 87.478814507363055, 108.37494826590797, 70.381977795826288, 101.72617843364368, 550.04322998060752, 306.88821897208476, 2571.2692589889525, 226.15315672316117, 377.17521434173585, 262.24647866973879, 133.07037907146105, 139.71914890372534, 131.17073054795699, 131.17073054795699, 139.71914890372534, 182.46124068256725, 210.95596853512848, 89.378463030867138, 127.37143350094883, 153.966512830006, 201.45772591760806, 147.31774299774168, 106.47529974240389, 102.67600269539572, 118.4240061111426, 43.449234888985202, 71.451860285212661, 69.645239291907671, 86.808138728305138, 51.579029358857689, 50.675718862205194, 20.866472472672726, 19.963161976020228, 19.963161976020228, 18.156540982715232, 17.253230486062733, 16.349919989410235, 16.349919989410235, 16.349919989410235, 16.349919989410235, 31.706198432502717, 14.543298996105236, 14.543298996105236, 29.899577439197721, 13.639988499452734, 13.639988499452734, 13.639988499452734, 117.52069561449011, 40.739303399027705, 11.833367506147736, 11.833367506147736, 11.833367506147736, 10.930057009495236, 10.930057009495236, 46.1591663789427, 20.866472472672726, 1551.0744538020058, 570.9825649340446, 134.68359505088759, 76.871723265127656, 560.14283897421456, 28.092956445892721, 73.258481278517664, 174.42925690359755, 35.319440419112709, 5114.6343630961146, 44.352545385637704, 64.225376311992662, 139.20014753415009, 243.0808546491875, 83.194896741695146, 55.192271345467688, 104.87434866135513, 162.68622044711506, 151.84649448728507, 106.68096965466012, 309.92583140147241, 103.97103816470263, 225.91795521278999, 129.26373207097262, 277.40665352198249, 168.10608342703006, 206.94843478308752, 126.55380058101511, 116.61738511783761, 113.00414313122762, 211.46498726634999, 131.07035306427761, 99.454485681440133, 106.68096965466012, 134.68359505088759, 101.26110667474514, 99.454485681440133], \"Total\": [10537.0, 3207.0, 1865.0, 1428.0, 1146.0, 1310.0, 846.0, 1057.0, 739.0, 668.0, 1193.0, 739.0, 876.0, 613.0, 527.0, 1207.0, 639.0, 1304.0, 472.0, 697.0, 899.0, 532.0, 721.0, 615.0, 954.0, 981.0, 821.0, 544.0, 636.0, 603.0, 105.96065637197854, 49.196156077331381, 44.465781052777452, 36.897181013491164, 35.005031003669586, 30.274655979115639, 28.382505969294066, 181.70387785535033, 27.43643096438328, 50.149821243486628, 472.24014972004517, 47.315958002250468, 21.759980934918563, 20.813905930007774, 18.921755920186204, 18.921755920186204, 17.975680915275415, 17.975680915275415, 17.975680915275415, 94.603931955086864, 17.02960591036463, 34.066089307420199, 33.113399820266714, 15.137455900543062, 31.230091995773051, 77.547043108318007, 14.191380895632275, 14.191380895632275, 13.245305890721488, 13.245305890721488, 37.858436340890862, 13.245305890721488, 99.399757892663999, 25.548030211402963, 35.019754473575446, 35.023753027162847, 35.023753027162847, 94.621780542781337, 42.575187522211976, 171.37850571197265, 392.94686754598979, 199.87961137999898, 63.389209404293062, 1428.439543898384, 77.672068681920862, 288.21106829306689, 50.961050215215487, 484.3304983941897, 393.88684732845843, 164.96371645087208, 95.669791666874545, 90.928890953863743, 157.66350731663306, 353.87278058180209, 105.6777662358176, 220.09456771744459, 846.34305118502778, 239.13287393405957, 294.31514737404405, 409.27016857620055, 899.33380231438343, 158.42313508361104, 540.17570823365577, 203.08003337346537, 250.65790120215942, 3207.9335425373943, 544.3242120613113, 592.46480237777769, 241.97487132374584, 471.92484311526471, 582.3958696360977, 443.74162799155152, 1304.9710346185921, 701.62832363072744, 419.92681631607081, 10537.957368791647, 615.45029475500337, 388.15572599660317, 276.11708547020424, 56.361619793011236, 111.72478323913623, 42.030079543150038, 41.074643526492622, 31.520283359918476, 30.564847343261061, 29.609411326603649, 88.742193319353419, 78.232397136121875, 20.055051160029521, 20.055051160029521, 19.099615143372105, 19.099615143372105, 18.144179126714693, 18.144179126714693, 38.21092639951442, 35.340256576045981, 16.233307093399873, 16.233307093399873, 16.233307093399873, 16.233307093399873, 16.233307093399873, 15.277871076742461, 15.277871076742461, 31.468157839913562, 64.943708678211834, 30.51272182325615, 113.677155689443, 30.563076492758896, 146.08107054701651, 63.012227862626617, 75.417287014191899, 55.294550130936457, 27.684783158305912, 156.52324220613679, 429.06311274966225, 43.78457501645012, 106.37427477559478, 42.829138999792711, 146.9079666740295, 286.150107519112, 424.2527075403101, 84.044759542138692, 228.35536035749999, 134.58096305869697, 298.94596058452652, 168.02675587469881, 1146.763661913951, 312.18488029091128, 69.738195084411799, 89.678389199972301, 136.25356453636724, 239.30003656712378, 101.29608378704081, 164.55830727337772, 216.72205281048508, 152.62142206837999, 509.81705111451504, 293.93311145899492, 325.87634005057259, 439.95060300365463, 137.28384746756313, 709.42072187199858, 180.53482626019519, 1057.1199624140838, 212.78053681937101, 604.32734059334223, 492.69164271144348, 363.33103896669536, 244.56185643557487, 343.87447059943628, 1304.9710346185921, 204.978966392415, 53.955585381332405, 42.596459405378589, 37.863490248731175, 69.057803347927148, 33.130521092083754, 70.054751848759381, 28.397551935436308, 26.504364272777337, 25.557770441447854, 24.61117661011837, 48.284864578683433, 172.31950119097411, 42.603073887621292, 19.878207453470946, 19.878207453470946, 18.931613622141462, 18.931613622141462, 18.931613622141462, 17.985019790811979, 17.985019790811979, 17.985019790811979, 17.038425959482492, 35.030780089568481, 88.980220020273634, 16.091832128153019, 16.091832128153019, 16.091832128153019, 66.222002429411276, 15.145238296823534, 15.145238296823534, 60.591433491906471, 41.667549944704973, 206.54865700577233, 59.629248705672282, 59.633073063634519, 123.91936412741772, 132.58054541355997, 105.14225151642987, 268.9030560329619, 66.234174006051504, 44.456665498608892, 425.34799465154265, 154.31334878948124, 523.42257729668245, 362.04622972528358, 91.005028153390853, 387.2380139121438, 636.01731348511726, 132.66506960319214, 99.446893323785147, 615.45029475500337, 876.3967054498446, 446.74558501483637, 639.26632954582749, 1193.1912062192605, 240.98536341420817, 207.83173578526819, 292.43316048705356, 1310.4978981673116, 697.76413206215238, 196.11863480124984, 363.33103896669536, 155.69980459392275, 195.03704511925312, 266.91644477648606, 242.95636042545911, 981.32484973160842, 394.65780074598933, 347.27976667666167, 397.95528805644534, 604.32734059334223, 411.7389014534873, 248.65798593583906, 80.246200318111946, 36.299400015792365, 30.566469877050011, 28.655493164135898, 27.700004807678841, 26.744516451221784, 24.833539738307671, 47.75584694173078, 21.011586312479444, 21.011586312479444, 20.056097956022388, 20.056097956022388, 20.056097956022388, 20.056097956022388, 18.145121243108274, 18.145121243108274, 58.264304024894635, 38.212915311900872, 17.189632886651221, 17.189632886651221, 16.234144530194168, 355.61706396256727, 342.87747473468892, 15.278656173737113, 30.564189834165141, 30.566417537250366, 14.323167817280055, 14.323167817280055, 14.323167817280055, 44.892439281972699, 146.13323255162422, 261.60907207658062, 27.694340712973826, 49.56621719187703, 71.595989095425821, 27.694340712973826, 108.90107188695362, 184.24023484834461, 73.500146588887162, 170.81503781769948, 396.33952807424595, 107.84852696944223, 267.31419110694981, 91.595856677616823, 40.088072397350466, 169.05211628336346, 246.83391947760754, 83.894307666471903, 603.94339474836318, 82.172524400311843, 232.01021549331682, 121.49228683738119, 108.84367057497163, 164.16933671622556, 76.932861642018622, 271.99562348623857, 471.92484311526471, 179.16858141002078, 418.71547783667472, 207.82027691907075, 350.41935826422156, 590.73279106785901, 1207.5018780383637, 981.32484973160842, 273.56313370353143, 206.73782259640441, 687.46708849560662, 439.95060300365463, 154.14810190317147, 443.74162799155152, 544.24625708039036, 268.19878176173978, 1057.1199624140838, 562.7558824929406, 739.38334751096568, 360.54020845324527, 97.695099796936958, 38.309381473287786, 36.393327593984885, 33.519246775030545, 32.561219835379092, 29.68713901642473, 28.72911207677328, 57.467329343322724, 22.980950438864586, 22.022923499213135, 184.83008449466357, 20.106869619910242, 65.126778574254701, 18.190815740607341, 18.190815740607341, 17.232788800955891, 17.232788800955891, 17.232788800955891, 53.627071246617163, 16.274761861304448, 15.316734921653, 15.316734921653, 15.316734921653, 31.600601972733593, 14.358707982001551, 14.358707982001551, 28.724293450694017, 13.400681042350103, 13.400681042350103, 12.442654102698654, 67.993449844135753, 53.616588525832896, 35.325867768335542, 45.945912147776177, 25.852440334824902, 202.94788705457665, 200.98733437225383, 35.412434437689512, 121.34057560094925, 249.57601080337935, 88.029850176365969, 41.13442111831128, 153.13720443232711, 104.3288101964831, 66.948896896945556, 55.481068606032757, 191.32427840981779, 87.967473687342462, 326.47336209841717, 181.17609431131336, 161.55972388394883, 127.92116715800519, 76.510902524963214, 270.54779290583639, 689.53931144857177, 721.09632460260957, 227.77369437201983, 3207.9335425373943, 821.92218108389716, 212.41145762630921, 590.73279106785901, 1146.763661913951, 639.26632954582749, 167.85305821781259, 369.82056379755301, 442.15314602080264, 544.24625708039036, 604.32734059334223, 540.17570823365577, 1207.5018780383637, 567.64810772047281, 343.87447059943628, 238.55176222444788, 418.71547783667472, 582.3958696360977, 61.027236294661805, 57.21257563004081, 44.814928470022608, 43.861263303867368, 33.370946476159652, 32.417281310004405, 27.648955479228164, 26.69529031307292, 25.741625146917674, 24.787959980762427, 24.787959980762427, 21.926964482296686, 21.926964482296686, 21.926964482296686, 44.816751660324428, 40.988282520920869, 19.065968983830945, 57.111866291035319, 324.22272097575114, 18.112303817675702, 135.37390166384046, 95.343818658637858, 17.158638651520455, 16.204973485365208, 49.563678855073633, 15.251308319209963, 15.251308319209963, 15.251308319209963, 31.41326147434641, 46.698288233371606, 70.581335050199058, 30.502360816449446, 43.856015159343414, 527.43897638319629, 142.11385217907809, 53.36195911197759, 58.961770619017308, 138.28299314011338, 284.19337924109266, 389.81627747555166, 71.270141548351972, 123.87275852978931, 155.16098258838915, 62.956375494453304, 613.29024714129275, 115.38595594475863, 110.48227121441828, 105.54325941369437, 187.39727729856037, 64.83221179603801, 105.72876758550173, 206.82889702338386, 151.68376916906811, 91.475913464405181, 286.4902446928636, 148.81442606403954, 291.08498351638121, 133.21475415506441, 99.307080251350769, 122.11264689784969, 179.5402355641842, 526.06854743830468, 237.08098153485597, 240.79689596055684, 255.9213838784801, 131.66111877512122, 247.96330651279817, 394.65780074598933, 292.33570125306983, 268.19878176173978, 568.52324928668077, 1428.439543898384, 509.81705111451504, 243.74017124857042, 562.7558824929406, 319.98333216518972, 636.01731348511726, 63.858079522645575, 185.76894802604608, 58.138829641212467, 103.88621421043472, 46.700329878346231, 46.700329878346231, 40.98107999691311, 37.168246742624362, 67.663779468272935, 29.542580234046863, 27.636163606902489, 27.636163606902489, 26.682955293330302, 55.281432403581135, 23.823330352613741, 76.235520981761198, 22.870122039041558, 325.02681348353747, 92.432929003826985, 20.96370541189718, 39.97797386642123, 19.05728878475281, 19.05728878475281, 40.030099386426151, 18.104080471180623, 253.57865756572005, 17.150872157608436, 17.150872157608436, 146.81062183380413, 16.197663844036249, 146.63514455409219, 55.253409651275412, 30.484260115721362, 68.593991200983908, 58.158104145529514, 49.574410697300578, 85.790838106976864, 272.28406416032459, 305.93501442412696, 64.783542669179312, 121.99873983320401, 57.169195634245227, 112.41640233696987, 175.29219166432651, 150.53784002276174, 512.55386614548934, 237.57508959055545, 429.88770716701254, 216.83788228884993, 411.7389014534873, 121.10460896323499, 280.49255255833287, 419.92681631607081, 140.99154483469721, 697.76413206215238, 1310.4978981673116, 442.15314602080264, 250.88149677597204, 295.25419552445931, 296.87169965570183, 473.86422354653229, 192.15551486031472, 316.52885781011724, 721.09632460260957, 336.18675312860603, 954.90912203407163, 1193.1912062192605, 1304.9710346185921, 1207.5018780383637, 369.82056379755301, 582.3958696360977, 1865.211682095086, 568.52324928668077, 146.90671248642846, 69.688962189119621, 61.213843254049152, 61.213843254049152, 42.380245620559194, 39.555205975535699, 69.705309247096579, 32.021766922139705, 32.021766922139705, 61.218757203704136, 61.22537168594684, 25.430007750418213, 24.488327868743717, 23.546647987069218, 23.546647987069218, 45.221632323559639, 20.721608342045723, 19.779928460371227, 19.779928460371227, 19.779928460371227, 18.838248578696728, 18.838248578696728, 39.563350355613238, 59.355768057580761, 38.618440043516181, 37.683831496667445, 16.954888815347733, 16.954888815347733, 16.954888815347733, 16.954888815347733, 50.865192454939645, 158.31502207683792, 33.916655117386391, 61.248428549742215, 80.851990287102552, 59.343668860409025, 90.398118510228088, 532.32112279115222, 31.093895515247763, 140.38240889026483, 177.00893032278969, 739.15766330362953, 188.51924821937138, 159.63215690011481, 431.92916015456893, 74.467533831730961, 81.047569338654739, 121.63524632637893, 104.6919683482332, 164.43303888621463, 3207.9335425373943, 130.40172983761178, 120.48846666606232, 132.22178551673977, 10537.957368791647, 492.69164271144348, 217.61245061600786, 1304.9710346185921, 954.90912203407163, 899.33380231438343, 206.08331440011628, 141.58850548460669, 821.92218108389716, 701.62832363072744, 981.32484973160842, 441.5534939238895, 473.86422354653229, 441.33867734257171, 234.04732030452564, 1310.4978981673116, 198.6087619087134, 689.53931144857177, 613.29024714129275, 177.98085537743307, 325.87634005057259, 122.52383633114262, 83.58104159930889, 67.434029149524193, 66.484204887772137, 63.634732102516033, 63.634732102516033, 62.684907840763991, 61.735083579011942, 61.735083579011942, 61.735083579011942, 61.735083579011942, 117.78032677728778, 48.437543914483363, 32.290531464698653, 32.290531464698653, 104.48394346149412, 31.340707202946607, 27.54141015593844, 27.54141015593844, 80.688895953356436, 20.892640323674147, 20.892640323674147, 42.692084578871565, 19.942816061922105, 18.992991800170063, 18.992991800170063, 38.935552040121692, 18.043167538418022, 18.043167538418022, 156.70275321260414, 203.21126422639347, 44.599935780275054, 225.03657321108045, 41.8001022716291, 227.51258159878822, 192.88137292762201, 72.222212192903271, 110.22600358245754, 210.80476024469152, 101.58312506023543, 135.02488787343057, 83.01473203803684, 134.11002032677879, 1057.1199624140838, 544.3242120613113, 10537.957368791647, 413.61792806136316, 846.34305118502778, 567.64810772047281, 209.60772786503, 239.0380614705976, 218.6310210253892, 232.60309919036922, 261.46916792574984, 441.5534939238895, 592.46480237777769, 132.67858190507647, 315.84067656839733, 528.84152692539703, 1207.5018780383637, 512.55386614548934, 267.87669107959573, 687.46708849560662, 120.22659971968811, 44.305234666201216, 73.263296079086089, 71.4566750857811, 89.570555132665532, 53.376709017748205, 52.487206995878267, 21.722472249888742, 20.819161753236244, 20.819161753236244, 19.012540759931248, 18.10923026327875, 17.205919766626252, 17.205919766626252, 17.205919766626252, 17.205919766626252, 33.508273214629519, 15.399298773321252, 15.399298773321252, 31.709242382568984, 14.495988276668751, 14.495988276668751, 14.495988276668751, 125.05963655459873, 43.49733302423062, 12.689367283363753, 12.689367283363753, 12.689367283363753, 11.786056786711253, 11.786056786711253, 49.840205801182208, 22.668547254799527, 1865.211682095086, 668.51233206820029, 152.58753816439236, 88.219163580679464, 739.38334751096568, 31.773995868132232, 90.240875513300807, 239.84142587104935, 40.931780742624213, 10537.957368791647, 52.807322551993956, 80.303815158116393, 196.56778481606094, 377.66329637000774, 110.60684352233058, 69.425108113082487, 151.34990946632405, 261.85806571136618, 245.60599101785346, 165.47923213948724, 709.42072187199858, 176.0890413483331, 528.84152692539703, 244.46873850520478, 876.3967054498446, 397.20604083405783, 562.7558824929406, 260.72848008949029, 229.89319657567393, 233.14574502733129, 954.90912203407163, 376.17289693016778, 191.32275749868933, 247.50051915842016, 592.46480237777769, 223.78645115743791, 441.33867734257171], \"logprob\": [30.0, 29.0, 28.0, 27.0, 26.0, 25.0, 24.0, 23.0, 22.0, 21.0, 20.0, 19.0, 18.0, 17.0, 16.0, 15.0, 14.0, 13.0, 12.0, 11.0, 10.0, 9.0, 8.0, 7.0, 6.0, 5.0, 4.0, 3.0, 2.0, 1.0, -5.7808999999999999, -6.5575999999999999, -6.6604999999999999, -6.8510999999999997, -6.9050000000000002, -7.0541, -7.1205999999999996, -5.2651000000000003, -7.1555999999999997, -6.5575999999999999, -4.3152999999999997, -6.6181000000000001, -7.3958000000000004, -7.4420999999999999, -7.5416999999999996, -7.5416999999999996, -7.5953999999999997, -7.5953999999999997, -7.5953999999999997, -5.9363999999999999, -7.6523000000000003, -6.9619999999999997, -6.9917999999999996, -7.7766000000000002, -7.0541, -6.1462000000000003, -7.8452000000000002, -7.8452000000000002, -7.9187000000000003, -7.9187000000000003, -6.8776999999999999, -7.9187000000000003, -5.9260000000000002, -7.2685000000000004, -6.9619999999999997, -6.9619999999999997, -6.9619999999999997, -6.0015999999999998, -6.7752999999999997, -5.4602000000000004, -4.7072000000000003, -5.3433000000000002, -6.4120999999999997, -3.5261999999999998, -6.2272999999999996, -5.0270999999999999, -6.6181000000000001, -4.5803000000000003, -4.7972999999999999, -5.5780000000000003, -6.0593000000000004, -6.1081000000000003, -5.6307999999999998, -4.9615, -6.0015999999999998, -5.3909000000000002, -4.2885999999999997, -5.3667999999999996, -5.2596999999999996, -5.0571999999999999, -4.5430000000000001, -5.7630999999999997, -4.9226000000000001, -5.6002000000000001, -5.4602000000000004, -3.8525999999999998, -4.9978999999999996, -4.9654999999999996, -5.5069999999999997, -5.1924999999999999, -5.0881999999999996, -5.2544000000000004, -4.8108000000000004, -5.0972999999999997, -5.3090000000000002, -4.3929999999999998, -5.2544000000000004, -5.4218000000000002, -4.8173000000000004, -6.4114000000000004, -5.7278000000000002, -6.7100999999999997, -6.7336, -7.0046999999999997, -7.0364000000000004, -7.0690999999999997, -5.9726999999999997, -6.1029, -7.4729000000000001, -7.4729000000000001, -7.5239000000000003, -7.5239000000000003, -7.5777000000000001, -7.5777000000000001, -6.8334000000000001, -6.9154, -7.6947999999999999, -7.6947999999999999, -7.6947999999999999, -7.6947999999999999, -7.6947999999999999, -7.7588999999999997, -7.7588999999999997, -7.0364000000000004, -6.3132000000000001, -7.0690999999999997, -5.7542, -7.0690999999999997, -5.5171000000000001, -6.3611000000000004, -6.1955, -6.5014000000000003, -7.1741000000000001, -5.4962, -4.5201000000000002, -6.7336, -5.8875999999999999, -6.7576000000000001, -5.5899999999999999, -4.9638, -4.6040000000000001, -6.1416000000000004, -5.2313000000000001, -5.7191999999999998, -5.0008999999999997, -5.5312000000000001, -3.8721999999999999, -5.0350999999999999, -6.3289, -6.1155999999999997, -5.7632000000000003, -5.2968999999999999, -6.0297999999999998, -5.6444999999999999, -5.4557000000000002, -5.7278000000000002, -4.9124999999999996, -5.2968999999999999, -5.242, -5.0526, -5.8282999999999996, -4.7862999999999998, -5.6605999999999996, -4.6473000000000004, -5.5899999999999999, -5.1307999999999998, -5.2260999999999997, -5.4490999999999996, -5.6364999999999998, -5.5899999999999999, -5.4230999999999998, -5.6936, -6.4538000000000002, -6.6943999999999999, -6.8148, -6.2168000000000001, -6.9516, -6.2027999999999999, -7.1101999999999999, -7.1814, -7.2190000000000003, -7.258, -6.5869999999999997, -5.3155000000000001, -6.7173999999999996, -7.4802, -7.4802, -7.5312000000000001, -7.5312000000000001, -7.5312000000000001, -7.585, -7.585, -7.585, -7.6417999999999999, -6.9226999999999999, -5.9911000000000003, -7.7020999999999997, -7.7020999999999997, -7.7020999999999997, -6.2896999999999998, -7.7662000000000004, -7.7662000000000004, -6.3849, -6.7648999999999999, -5.1971999999999996, -6.4187000000000003, -6.4187000000000003, -5.7093999999999996, -5.6597999999999997, -5.8848000000000003, -4.9915000000000003, -6.3361999999999998, -6.7173999999999996, -4.5834999999999999, -5.5457000000000001, -4.4006999999999996, -4.8246000000000002, -6.0730000000000004, -4.7901999999999996, -4.3559999999999999, -5.7526000000000002, -6.0137999999999998, -4.4333, -4.2058999999999997, -4.7835000000000001, -4.5018000000000002, -3.9992000000000001, -5.3155000000000001, -5.4630000000000001, -5.2073999999999998, -4.0772000000000004, -4.5861999999999998, -5.5313999999999997, -5.2332999999999998, -5.7794999999999996, -5.6597999999999997, -5.5034999999999998, -5.5529000000000002, -5.0598999999999998, -5.4564000000000004, -5.5244, -5.4897999999999998, -5.4303999999999997, -5.5749000000000004, -5.6517999999999997, -6.0587999999999997, -6.8531000000000004, -7.0296000000000003, -7.0960000000000001, -7.1310000000000002, -7.1672000000000002, -7.2439, -6.5934999999999997, -7.4175000000000004, -7.4175000000000004, -7.4660000000000002, -7.4660000000000002, -7.4660000000000002, -7.4660000000000002, -7.5709, -7.5709, -6.4046000000000003, -6.8266, -7.6276999999999999, -7.6276999999999999, -7.6879, -4.6028000000000002, -4.6405000000000003, -7.7521000000000004, -7.0621999999999998, -7.0621999999999998, -7.8205999999999998, -7.8205999999999998, -7.8205999999999998, -6.6802999999999999, -5.5102000000000002, -4.9368999999999996, -7.1672000000000002, -6.5934999999999997, -6.2458, -7.1672000000000002, -5.8407999999999998, -5.3422000000000001, -6.2312000000000003, -5.4356999999999998, -4.6463999999999999, -5.8807999999999998, -5.0502000000000002, -6.0587999999999997, -6.8266, -5.5031999999999996, -5.173, -6.1612999999999998, -4.4143999999999997, -6.1886999999999999, -5.2788000000000004, -5.8506999999999998, -5.9547999999999996, -5.6062000000000003, -6.2606000000000002, -5.2458999999999998, -4.8068999999999997, -5.5984999999999996, -4.9569999999999999, -5.5102000000000002, -5.1239999999999997, -4.8281000000000001, -4.3639999999999999, -4.5610999999999997, -5.4162999999999997, -5.5907999999999998, -4.8643000000000001, -5.1336000000000004, -5.7930000000000001, -5.3971999999999998, -5.4291999999999998, -5.6296999999999997, -5.2788000000000004, -5.4554999999999998, -5.4162999999999997, -5.5682, -5.8570000000000002, -6.7969999999999997, -6.8495999999999997, -6.9339000000000004, -6.9635999999999996, -7.0586000000000002, -7.0923999999999996, -6.4009999999999998, -7.3232999999999997, -7.3676000000000004, -5.2423000000000002, -7.4625000000000004, -6.2872000000000003, -7.5673000000000004, -7.5673000000000004, -7.6241000000000003, -7.6241000000000003, -7.6241000000000003, -6.4909999999999997, -7.6844000000000001, -7.7484999999999999, -7.7484999999999999, -7.7484999999999999, -7.0259999999999998, -7.8170000000000002, -7.8170000000000002, -7.1273999999999997, -7.8906000000000001, -7.8906000000000001, -7.9699999999999998, -6.2720000000000002, -6.5099999999999998, -6.9339000000000004, -6.6767000000000003, -7.2403000000000004, -5.2262000000000004, -5.2477, -6.9339000000000004, -5.7526999999999999, -5.0690999999999997, -6.0674999999999999, -6.7969999999999997, -5.5571999999999999, -5.9188000000000001, -6.3506999999999998, -6.5293999999999999, -5.4062999999999999, -6.1181000000000001, -4.9452999999999996, -5.4789000000000003, -5.6261000000000001, -5.8274999999999997, -6.2720000000000002, -5.2209000000000003, -4.4467999999999996, -4.4394999999999998, -5.3936000000000002, -3.3780000000000001, -4.4690000000000003, -5.4996, -4.8174000000000001, -4.4250999999999996, -4.8423999999999996, -5.7438000000000002, -5.2586000000000004, -5.1897000000000002, -5.0690999999999997, -5.0690999999999997, -5.1348000000000003, -4.8033000000000001, -5.2697000000000003, -5.4856999999999996, -5.6341000000000001, -5.6421000000000001, -5.6104000000000003, -6.3177000000000003, -6.3832000000000004, -6.6315999999999997, -6.6536, -6.9332000000000003, -6.9629000000000003, -7.1266999999999996, -7.1628999999999996, -7.2004999999999999, -7.2396000000000003, -7.2396000000000003, -7.3669000000000002, -7.3669000000000002, -7.3669000000000002, -6.6536, -6.7464000000000004, -7.5128000000000004, -6.4177, -4.6814, -7.5664999999999996, -5.5564, -5.9074999999999998, -7.6234000000000002, -7.6836000000000002, -6.5686, -7.7477999999999998, -7.7477999999999998, -7.7477999999999998, -7.0251999999999999, -6.6315999999999997, -6.2268999999999997, -7.0579000000000001, -6.6989000000000001, -4.2377000000000002, -5.5416999999999996, -6.5092999999999996, -6.4177, -5.6018999999999997, -4.9207999999999998, -4.6215000000000002, -6.2415000000000003, -5.7253999999999996, -5.5201000000000002, -6.3663999999999996, -4.2698999999999998, -5.8075000000000001, -5.8563000000000001, -5.9074999999999998, -5.4055999999999997, -6.3498999999999999, -5.9287999999999998, -5.3559000000000001, -5.6254, -6.0667999999999997, -5.1341000000000001, -5.6825000000000001, -5.1487999999999996, -5.7887000000000004, -6.0186000000000002, -5.8662999999999998, -5.5941999999999998, -4.8636999999999997, -5.4379, -5.4379, -5.3992000000000004, -5.8365, -5.4444999999999997, -5.1940999999999997, -5.3929, -5.4782000000000002, -5.1687000000000003, -4.7751000000000001, -5.3028000000000004, -5.6174999999999997, -5.4645999999999999, -5.6254, -5.6254, -6.2668999999999997, -5.2000000000000002, -6.3620000000000001, -5.7843, -6.5848000000000004, -6.5848000000000004, -6.718, -6.8178000000000001, -6.2225000000000001, -7.0534999999999997, -7.1223000000000001, -7.1223000000000001, -7.1585000000000001, -6.4309000000000003, -7.2758000000000003, -6.1128999999999998, -7.3182, -4.6646999999999998, -5.9244000000000003, -7.4088000000000003, -6.7667000000000002, -7.5084, -7.5084, -6.7667000000000002, -7.5621, -4.9242999999999997, -7.6189999999999998, -7.6189999999999998, -5.4737999999999998, -7.6791999999999998, -5.5086000000000004, -6.4672000000000001, -7.0534999999999997, -6.2668999999999997, -6.4309000000000003, -6.5848000000000004, -6.0624000000000002, -4.9728000000000003, -4.8742000000000001, -6.3455000000000004, -5.7750000000000004, -6.4672000000000001, -5.8619000000000003, -5.4668999999999999, -5.6131000000000002, -4.5523999999999996, -5.2480000000000002, -4.7506000000000004, -5.3948, -4.9362000000000004, -5.8822999999999999, -5.2756999999999996, -4.9812000000000003, -5.7843, -4.6769999999999996, -4.2512999999999996, -5.0065999999999997, -5.3948, -5.2984, -5.2984, -5.0152000000000001, -5.5896999999999997, -5.2927, -4.8265000000000002, -5.2812999999999999, -4.7843999999999998, -4.6738999999999997, -4.6738999999999997, -4.8087, -5.2869999999999999, -5.2756999999999996, -5.1151999999999997, -5.3760000000000003, -5.3917000000000002, -6.1440000000000001, -6.2754000000000003, -6.2754000000000003, -6.6493000000000002, -6.7198000000000002, -6.1577000000000002, -6.9363000000000001, -6.9363000000000001, -6.2911000000000001, -6.2911000000000001, -7.1738999999999997, -7.2129000000000003, -7.2535999999999996, -7.2535999999999996, -6.6050000000000004, -7.3864999999999998, -7.4351000000000003, -7.4351000000000003, -7.4351000000000003, -7.4861000000000004, -7.4861000000000004, -6.7443999999999997, -6.3398000000000003, -6.7697000000000003, -6.7956000000000003, -7.5967000000000002, -7.5967000000000002, -7.5967000000000002, -7.5967000000000002, -6.5019999999999998, -5.3788999999999998, -6.9065000000000003, -6.3232999999999997, -6.0525000000000002, -6.3566000000000003, -5.9573, -4.2618, -6.9985999999999997, -5.5674999999999999, -5.3475999999999999, -4.0189000000000004, -5.3112000000000004, -5.5077999999999996, -4.6455000000000002, -6.2148000000000003, -6.1440000000000001, -5.8197000000000001, -5.9573, -5.5907999999999998, -3.2526000000000002, -5.7904999999999998, -5.8601000000000001, -5.8000999999999996, -2.6002000000000001, -4.8369999999999997, -5.4515000000000002, -4.2453000000000003, -4.4744999999999999, -4.5193000000000003, -5.5297999999999998, -5.7808999999999999, -4.7971000000000004, -4.9260000000000002, -4.7416999999999998, -5.2257999999999996, -5.2042000000000002, -5.2762000000000002, -5.5751999999999997, -4.9059999999999997, -5.6642999999999999, -5.3537999999999997, -5.4112999999999998, -5.7526999999999999, -5.6986999999999997, -5.5724999999999998, -5.9581999999999997, -6.1753, -6.1897000000000002, -6.2340999999999998, -6.2340999999999998, -6.2492999999999999, -6.2648000000000001, -6.2648000000000001, -6.2648000000000001, -6.2648000000000001, -5.6204000000000001, -6.5111999999999997, -6.9257, -6.9257, -5.7515000000000001, -6.9564000000000004, -7.0895000000000001, -7.0895000000000001, -6.0172999999999996, -7.3760000000000003, -7.3760000000000003, -6.6616999999999997, -7.4245000000000001, -7.4756, -7.4756, -6.7591000000000001, -7.5293999999999999, -7.5293999999999999, -5.3684000000000003, -5.1364999999999998, -6.6387999999999998, -5.0541999999999998, -6.7092999999999998, -5.0824999999999996, -5.2542, -6.1897000000000002, -5.7896000000000001, -5.1882999999999999, -5.9024000000000001, -5.6882000000000001, -6.1197999999999997, -5.7515000000000001, -4.0637999999999996, -4.6473000000000004, -2.5215999999999998, -4.9526000000000003, -4.4410999999999996, -4.8045, -5.4828999999999999, -5.4341999999999997, -5.4973000000000001, -5.4973000000000001, -5.4341999999999997, -5.1672000000000002, -5.0221, -5.8808999999999996, -5.5266999999999999, -5.3371000000000004, -5.0682, -5.3811999999999998, -5.7058999999999997, -5.7422000000000004, -5.5781000000000001, -6.5807000000000002, -6.0833000000000004, -6.1089000000000002, -5.8886000000000003, -6.4092000000000002, -6.4268999999999998, -7.3141999999999996, -7.3583999999999996, -7.3583999999999996, -7.4532999999999996, -7.5042999999999997, -7.5580999999999996, -7.5580999999999996, -7.5580999999999996, -7.5580999999999996, -6.8958000000000004, -7.6752000000000002, -7.6752000000000002, -6.9545000000000003, -7.7393000000000001, -7.7393000000000001, -7.7393000000000001, -5.5857000000000001, -6.6451000000000002, -7.8814000000000002, -7.8814000000000002, -7.8814000000000002, -7.9607999999999999, -7.9607999999999999, -6.5202, -7.3141999999999996, -3.0055999999999998, -4.0049999999999999, -5.4493999999999998, -6.0102000000000002, -4.0240999999999998, -7.0167999999999999, -6.0583, -5.1908000000000003, -6.7878999999999996, -1.8125, -6.5602, -6.1898999999999997, -5.4164000000000003, -4.8589000000000002, -5.9310999999999998, -6.3414999999999999, -5.6996000000000002, -5.2605000000000004, -5.3295000000000003, -5.6825000000000001, -4.6159999999999997, -5.7081999999999997, -4.9321999999999999, -5.4904999999999999, -4.7267999999999999, -5.2276999999999996, -5.0198999999999998, -5.5117000000000003, -5.5933999999999999, -5.6249000000000002, -4.9983000000000004, -5.4766000000000004, -5.7526000000000002, -5.6825000000000001, -5.4493999999999998, -5.7346000000000004, -5.7526000000000002]}};\n",
       "\n",
       "function LDAvis_load_lib(url, callback){\n",
       "  var s = document.createElement('script');\n",
       "  s.src = url;\n",
       "  s.async = true;\n",
       "  s.onreadystatechange = s.onload = callback;\n",
       "  s.onerror = function(){console.warn(\"failed to load library \" + url);};\n",
       "  document.getElementsByTagName(\"head\")[0].appendChild(s);\n",
       "}\n",
       "\n",
       "if(typeof(LDAvis) !== \"undefined\"){\n",
       "   // already loaded: just create the visualization\n",
       "   !function(LDAvis){\n",
       "       new LDAvis(\"#\" + \"ldavis_el867646681453608957464981\", ldavis_el867646681453608957464981_data);\n",
       "   }(LDAvis);\n",
       "}else if(typeof define === \"function\" && define.amd){\n",
       "   // require.js is available: use it to load d3/LDAvis\n",
       "   require.config({paths: {d3: \"https://cdnjs.cloudflare.com/ajax/libs/d3/3.5.5/d3.min\"}});\n",
       "   require([\"d3\"], function(d3){\n",
       "      window.d3 = d3;\n",
       "      LDAvis_load_lib(\"https://cdn.rawgit.com/bmabey/pyLDAvis/files/ldavis.v1.0.0.js\", function(){\n",
       "        new LDAvis(\"#\" + \"ldavis_el867646681453608957464981\", ldavis_el867646681453608957464981_data);\n",
       "      });\n",
       "    });\n",
       "}else{\n",
       "    // require.js not available: dynamically load d3 & LDAvis\n",
       "    LDAvis_load_lib(\"https://cdnjs.cloudflare.com/ajax/libs/d3/3.5.5/d3.min.js\", function(){\n",
       "         LDAvis_load_lib(\"https://cdn.rawgit.com/bmabey/pyLDAvis/files/ldavis.v1.0.0.js\", function(){\n",
       "                 new LDAvis(\"#\" + \"ldavis_el867646681453608957464981\", ldavis_el867646681453608957464981_data);\n",
       "            })\n",
       "         });\n",
       "}\n",
       "</script>"
      ],
      "text/plain": [
       "PreparedData(topic_coordinates=            Freq  cluster  topics         x         y\n",
       "topic                                                \n",
       "7      10.301559        1       1 -0.053100 -0.059355\n",
       "8      10.220572        1       2  0.102222 -0.203793\n",
       "6      10.200135        1       3  0.125975  0.169569\n",
       "4      10.151488        1       4  0.125260 -0.142843\n",
       "1      10.141950        1       5  0.098558  0.045142\n",
       "5      10.088564        1       6  0.117547 -0.016080\n",
       "9      10.039334        1       7  0.058921  0.205158\n",
       "3       9.699754        1       8 -0.165815  0.026786\n",
       "0       9.681090        1       9 -0.180075 -0.033098\n",
       "2       9.475555        1      10 -0.229492  0.008514, topic_info=      Category          Freq      Term         Total  loglift  logprob\n",
       "term                                                                  \n",
       "7193   Default  10537.000000         \"  10537.000000  30.0000  30.0000\n",
       "3650   Default   3207.000000    holmes   3207.000000  29.0000  29.0000\n",
       "14816  Default   1865.000000        \"i   1865.000000  28.0000  28.0000\n",
       "1230   Default   1428.000000      room   1428.000000  27.0000  27.0000\n",
       "12617  Default   1146.000000      back   1146.000000  26.0000  26.0000\n",
       "6944   Default   1310.000000      time   1310.000000  25.0000  25.0000\n",
       "10170  Default    846.000000      left    846.000000  24.0000  24.0000\n",
       "5611   Default   1057.000000     night   1057.000000  23.0000  23.0000\n",
       "9780   Default    739.000000    matter    739.000000  22.0000  22.0000\n",
       "16698  Default    668.000000       \"it    668.000000  21.0000  21.0000\n",
       "12029  Default   1193.000000     house   1193.000000  20.0000  20.0000\n",
       "11116  Default    739.000000   morning    739.000000  19.0000  19.0000\n",
       "11985  Default    876.000000      good    876.000000  18.0000  18.0000\n",
       "14762  Default    613.000000      \"you    613.000000  17.0000  17.0000\n",
       "14310  Default    527.000000    london    527.000000  16.0000  16.0000\n",
       "4093   Default   1207.000000      face   1207.000000  15.0000  15.0000\n",
       "3528   Default    639.000000     young    639.000000  14.0000  14.0000\n",
       "18371  Default   1304.000000    watson   1304.000000  13.0000  13.0000\n",
       "1634   Default    472.000000      open    472.000000  12.0000  12.0000\n",
       "6142   Default    697.000000    window    697.000000  11.0000  11.0000\n",
       "2706   Default    899.000000     found    899.000000  10.0000  10.0000\n",
       "3919   Default    532.000000  sherlock    532.000000   9.0000   9.0000\n",
       "6297   Default    721.000000    friend    721.000000   8.0000   8.0000\n",
       "720    Default    615.000000      side    615.000000   7.0000   7.0000\n",
       "16002  Default    954.000000      case    954.000000   6.0000   6.0000\n",
       "5516   Default    981.000000      hand    981.000000   5.0000   5.0000\n",
       "10939  Default    821.000000      eyes    821.000000   4.0000   4.0000\n",
       "6740   Default    544.000000      lady    544.000000   3.0000   3.0000\n",
       "3634   Default    636.000000     great    636.000000   2.0000   2.0000\n",
       "3543   Default    603.000000    street    603.000000   1.0000   1.0000\n",
       "...        ...           ...       ...           ...      ...      ...\n",
       "4461   Topic10    174.429257      poor    239.841426   2.0380  -5.1908\n",
       "6356   Topic10     35.319440     offer     40.931781   2.2090  -6.7879\n",
       "7193   Topic10   5114.634363         \"  10537.957369   1.6336  -1.8125\n",
       "3647   Topic10     44.352545     makes     52.807323   2.1820  -6.5602\n",
       "12004  Topic10     64.225376    easily     80.303815   2.1330  -6.1899\n",
       "11191  Topic10    139.200148   present    196.567785   2.0114  -5.4164\n",
       "16496  Topic10    243.080855      wife    377.663296   1.9158  -4.8589\n",
       "4478   Topic10     83.194897     \"what    110.606844   2.0717  -5.9311\n",
       "8189   Topic10     55.192271   unusual     69.425108   2.1270  -6.3415\n",
       "13542  Topic10    104.874349    taking    151.349909   1.9896  -5.6996\n",
       "14228  Topic10    162.686220     story    261.858066   1.8805  -5.2605\n",
       "6464   Topic10    151.846494   husband    245.605991   1.8756  -5.3295\n",
       "7414   Topic10    106.680970     horse    165.479232   1.9175  -5.6825\n",
       "6049   Topic10    309.925831     heard    709.420722   1.5283  -4.6160\n",
       "18362  Topic10    103.971038     means    176.089041   1.8296  -5.7082\n",
       "7113   Topic10    225.917955       put    528.841527   1.5059  -4.9322\n",
       "4103   Topic10    129.263732      fact    244.468739   1.7192  -5.4905\n",
       "11985  Topic10    277.406654      good    876.396705   1.2061  -4.7268\n",
       "12386  Topic10    168.106083     point    397.206041   1.4966  -5.2277\n",
       "801    Topic10    206.948435      life    562.755882   1.3561  -5.0199\n",
       "15100  Topic10    126.553801      hear    260.728480   1.6336  -5.5117\n",
       "8374   Topic10    116.617385     voice    229.893197   1.6777  -5.5934\n",
       "165    Topic10    113.004143     spoke    233.145745   1.6322  -5.6249\n",
       "16002  Topic10    211.464987      case    954.909122   0.8489  -4.9983\n",
       "18448  Topic10    131.070353     cried    376.172897   1.3021  -5.4766\n",
       "16370  Topic10     99.454486  remarked    191.322757   1.7022  -5.7526\n",
       "14745  Topic10    106.680970      \"and    247.500519   1.5149  -5.6825\n",
       "11542  Topic10    134.683595     woman    592.464802   0.8751  -5.4494\n",
       "9469   Topic10    101.261107      call    223.786451   1.5635  -5.7346\n",
       "3676   Topic10     99.454486     doubt    441.338677   0.8663  -5.7526\n",
       "\n",
       "[763 rows x 6 columns], token_table=       Topic      Freq    Term\n",
       "term                          \n",
       "7193       1  0.039951       \"\n",
       "7193       4  0.001139       \"\n",
       "7193       5  0.002562       \"\n",
       "7193       6  0.001044       \"\n",
       "7193       8  0.226040       \"\n",
       "7193       9  0.243975       \"\n",
       "7193      10  0.485388       \"\n",
       "14745      1  0.173737    \"and\n",
       "14745      3  0.036364    \"and\n",
       "14745      4  0.335353    \"and\n",
       "14745      5  0.020202    \"and\n",
       "14745      7  0.004040    \"and\n",
       "14745     10  0.432322    \"and\n",
       "14018      2  0.008490     \"as\n",
       "14018      9  0.984884     \"as\n",
       "6469       5  0.022113   \"come\n",
       "6469       8  0.950872   \"come\n",
       "59         8  0.094417     \"do\n",
       "59        10  0.881224     \"do\n",
       "1917       1  0.014779    \"for\n",
       "1917       7  0.975411    \"for\n",
       "7012       6  0.004395     \"he\n",
       "7012       9  0.874677     \"he\n",
       "7012      10  0.118675     \"he\n",
       "14816      5  0.006434      \"i\n",
       "14816      6  0.036993      \"i\n",
       "14816      7  0.106690      \"i\n",
       "14816      8  0.018228      \"i\n",
       "14816     10  0.831541      \"i\n",
       "16698      1  0.112189     \"it\n",
       "...      ...       ...     ...\n",
       "4518       4  0.362721   world\n",
       "4518       6  0.023916   world\n",
       "4518       7  0.601878   world\n",
       "4518       8  0.003986   world\n",
       "4858       1  0.083804    worn\n",
       "4858       4  0.907872    worn\n",
       "17837      1  0.939351   wrist\n",
       "17837      7  0.029355   wrist\n",
       "9822       1  0.939540  wrists\n",
       "1608       3  0.008318   wrong\n",
       "1608      10  0.981480   wrong\n",
       "8564       7  0.022329   wrote\n",
       "8564      10  0.971301   wrote\n",
       "7682       1  0.043727   yards\n",
       "7682       4  0.054659   yards\n",
       "7682       5  0.010932   yards\n",
       "7682       6  0.841752   yards\n",
       "7682       7  0.032796   yards\n",
       "7682      10  0.010932   yards\n",
       "6199       2  0.664446    year\n",
       "6199       4  0.041528    year\n",
       "6199       6  0.272238    year\n",
       "6199       7  0.004614    year\n",
       "6199       8  0.013843    year\n",
       "4398       5  0.422930   years\n",
       "4398       7  0.502088   years\n",
       "4398       9  0.072373   years\n",
       "16168      4  0.964203  yonder\n",
       "3528       3  0.585046   young\n",
       "3528       5  0.414538   young\n",
       "\n",
       "[1922 rows x 3 columns], R=30, lambda_step=0.01, plot_opts={'xlab': 'PC1', 'ylab': 'PC2'}, topic_order=[8, 9, 7, 5, 2, 6, 10, 4, 1, 3])"
      ]
     },
     "execution_count": 30,
     "metadata": {},
     "output_type": "execute_result"
    }
   ],
   "source": [
    "import pyLDAvis\n",
    "import pyLDAvis.graphlab\n",
    "pyLDAvis.enable_notebook()\n",
    "pyLDAvis.graphlab.prepare(topic_model, docs)"
   ]
  },
  {
   "cell_type": "markdown",
   "metadata": {
    "collapsed": true
   },
   "source": [
    "From the above visualization, we can observe that the algorithm returned pretty interesting results. For example, one identified topic is related to Watson, locations (room, street, house, etc.), and time (days, hours, etc.). While, another topic is related to Holmes, men, and murder. For me these are pretty interesting results. I recommend the reader to try investigate the results by themselves. Moreover, I think that running the topic model algorithm on other text corpus can help to better understand this algorithms advantages."
   ]
  },
  {
   "cell_type": "markdown",
   "metadata": {},
   "source": [
    "## <a id=\"word2vec\"></a> 5. Finding Similar Paragraphs using Word2Vec "
   ]
  },
  {
   "cell_type": "markdown",
   "metadata": {},
   "source": [
    "<pre>\n",
    "\"I have notes of several similar cases, though none, as I remarked before, which were quite as prompt. My whole examination served to \n",
    "turn my conjecture into a certainty. Circumstantial evidence is occasionally very convincing, as when you find a trout in the milk, to \n",
    "quote Thoreau's example.\"\n",
    "                                                                                                 -The Adventure of the Noble Bachelor\n",
    "</pre>"
   ]
  },
  {
   "cell_type": "markdown",
   "metadata": {},
   "source": [
    "These days, no NLP related post can be complete without including the words \"deep learning.\" Therefore, in this section I will demonstrate how to use Word2Vec deep learning inspired algorithm to search for paragraphs that have similar text or writing style. \n",
    "\n",
    "First, let's build a Word2Vec model using Sherlock's stories. We will construct the Word2Vec model using the Gensim package and a similar method to the one presented in [Word2vec Tutorial](http://rare-technologies.com/word2vec-tutorial/) and in my previous [post](https://turi.com/learn/gallery/notebooks/deep_text_learning.html)."
   ]
  },
  {
   "cell_type": "code",
   "execution_count": 31,
   "metadata": {
    "collapsed": false
   },
   "outputs": [
    {
     "name": "stderr",
     "output_type": "stream",
     "text": [
      "/Users/kivan/anaconda3/envs/gl-env/lib/python2.7/site-packages/numpy/lib/utils.py:99: DeprecationWarning: `scipy.sparse.sparsetools` is deprecated!\n",
      "scipy.sparse.sparsetools is a private module for scipy.sparse, and should not be used.\n",
      "  warnings.warn(depdoc, DeprecationWarning)\n"
     ]
    }
   ],
   "source": [
    "import graphlab as gl\n",
    "import urllib2\n",
    "import gensim\n",
    "import nltk\n",
    "import re\n",
    "\n",
    "txt = urllib2.urlopen(\"https://sherlock-holm.es/stories/plain-text/cnus.txt\").read()\n",
    "\n",
    "re_words_split = re.compile(\"(\\w+)\")\n",
    "tokenizer = nltk.data.load('tokenizers/punkt/english.pickle')\n",
    "def txt2words(s):\n",
    "    s = re.sub(\"[^a-zA-Z]\", \" \", s).lower()\n",
    "    return re_words_split.findall(s)\n",
    "\n",
    "class MySentences(object):\n",
    "        def __init__(self, txt):\n",
    "            self._txt = txt.decode(\"utf8\") \n",
    "            \n",
    "        def __iter__(self):\n",
    "            \"\"\"\n",
    "            Split the English text into sentences and then to words using NLTK\n",
    "            :param txt: input text.    \n",
    "            :param remove_none_english_chars: if True then remove none English chars from text\n",
    "            :return: list of words in which each list consists of single sentence's words from the original input text.\n",
    "            :rtype: str\n",
    "            \"\"\"                \n",
    "            # split text into sentences using NLTK package\n",
    "            for s in tokenizer.tokenize(self._txt):                                    \n",
    "                yield txt2words(s)\n",
    "\n",
    "sentences = MySentences(txt)\n",
    "model = gensim.models.Word2Vec(sentences, size=100, window=5, min_count=3, workers=4)"
   ]
  },
  {
   "cell_type": "markdown",
   "metadata": {},
   "source": [
    "We now have a trained Word2Vec model, let's see if it gives reasonable results:"
   ]
  },
  {
   "cell_type": "code",
   "execution_count": 32,
   "metadata": {
    "collapsed": false
   },
   "outputs": [
    {
     "name": "stdout",
     "output_type": "stream",
     "text": [
      "[(u'god', 0.8860630989074707), (u'sir', 0.8785800933837891), (u'oh', 0.8687369227409363), (u'gentlemen', 0.867754340171814), (u'dear', 0.8599305152893066), (u'thank', 0.8538198471069336), (u'ah', 0.8511229753494263), (u'bless', 0.8248069286346436), (u'now', 0.8241606950759888), (u'huxtable', 0.823706865310669)]\n",
      "[(u'lestrade', 0.8392311334609985), (u'mcmurdo', 0.8215646743774414), (u'melas', 0.8034956455230713), (u'rucastle', 0.7939315438270569), (u'douglas', 0.7839115858078003), (u'roundhay', 0.7615047693252563), (u'windibank', 0.7546789050102234), (u'culverton', 0.7530037760734558), (u'inspector', 0.7511536478996277), (u'gregson', 0.743597149848938)]\n"
     ]
    }
   ],
   "source": [
    "print model.most_similar(\"watson\")\n",
    "print model.most_similar(\"holmes\")"
   ]
  },
  {
   "cell_type": "markdown",
   "metadata": {},
   "source": [
    "We got that the most similar word to Watson is Mortimer and the most similar word to Holmes is Lestrade. These results sound logical enough. Let us calculate the average vector of each paragraph."
   ]
  },
  {
   "cell_type": "code",
   "execution_count": 33,
   "metadata": {
    "collapsed": false
   },
   "outputs": [],
   "source": [
    "import graphlab as gl\n",
    "import re\n",
    "import numpy as np\n",
    "\n",
    "# NOTE: Update BASE_DIR to your own directory path\n",
    "BASE_DIR = r\"~/repos/statistics-indonesia-python/text_analysis/data\" \n",
    "sf =  gl.load_sframe(\"%s/books.sframe\" % BASE_DIR)\n",
    "sf_paragraphs = sf.flat_map(['title', 'text'], lambda t: [[t['title'],p.strip()] for p in t['text'].split(\"\\n\\n\")])\n",
    "sf_paragraphs = sf_paragraphs.rename({'text': 'paragraph'})\n",
    "sf_paragraphs['paragraph_words_number'] = sf_paragraphs['paragraph'].apply(lambda p: len(re_words_split.findall(p)) )\n",
    "sf_paragraphs = sf_paragraphs[sf_paragraphs['paragraph_words_number'] >=25]\n",
    "\n",
    "def txt2avg_vector(txt, w2v_model):\n",
    "    words = [w for w in txt2words(txt.lower()) if w in w2v_model]\n",
    "    v = np.mean([w2v_model[w] for w in words],axis=0)    \n",
    "    return v\n",
    "\n",
    "sf_paragraphs['mean_vector'] = sf_paragraphs['paragraph'].apply(lambda p: txt2avg_vector(p, model))"
   ]
  },
  {
   "cell_type": "markdown",
   "metadata": {},
   "source": [
    "Now we have the mean vector value of each paragraph. Let's utilize [GraphLab Create nearest neighbors toolkit](https://turi.com/products/create/docs/graphlab.toolkits.nearest_neighbors.html) to identify paragraphs that have similar text or  writing style. We will acheive that by calaculating the nearest neighbor to each the mean vector of each paragraph. "
   ]
  },
  {
   "cell_type": "code",
   "execution_count": 34,
   "metadata": {
    "collapsed": false,
    "scrolled": true
   },
   "outputs": [
    {
     "data": {
      "text/html": [
       "<pre>Starting ball tree nearest neighbors model training.</pre>"
      ],
      "text/plain": [
       "Starting ball tree nearest neighbors model training."
      ]
     },
     "metadata": {},
     "output_type": "display_data"
    },
    {
     "data": {
      "text/html": [
       "<pre>+------------+--------------+</pre>"
      ],
      "text/plain": [
       "+------------+--------------+"
      ]
     },
     "metadata": {},
     "output_type": "display_data"
    },
    {
     "data": {
      "text/html": [
       "<pre>| Tree level | Elapsed Time |</pre>"
      ],
      "text/plain": [
       "| Tree level | Elapsed Time |"
      ]
     },
     "metadata": {},
     "output_type": "display_data"
    },
    {
     "data": {
      "text/html": [
       "<pre>+------------+--------------+</pre>"
      ],
      "text/plain": [
       "+------------+--------------+"
      ]
     },
     "metadata": {},
     "output_type": "display_data"
    },
    {
     "data": {
      "text/html": [
       "<pre>| 0          | 136.984ms    |</pre>"
      ],
      "text/plain": [
       "| 0          | 136.984ms    |"
      ]
     },
     "metadata": {},
     "output_type": "display_data"
    },
    {
     "data": {
      "text/html": [
       "<pre>| 1          | 260.696ms    |</pre>"
      ],
      "text/plain": [
       "| 1          | 260.696ms    |"
      ]
     },
     "metadata": {},
     "output_type": "display_data"
    },
    {
     "data": {
      "text/html": [
       "<pre>| 2          | 385.028ms    |</pre>"
      ],
      "text/plain": [
       "| 2          | 385.028ms    |"
      ]
     },
     "metadata": {},
     "output_type": "display_data"
    },
    {
     "data": {
      "text/html": [
       "<pre>| 3          | 510.475ms    |</pre>"
      ],
      "text/plain": [
       "| 3          | 510.475ms    |"
      ]
     },
     "metadata": {},
     "output_type": "display_data"
    },
    {
     "data": {
      "text/html": [
       "<pre>| 4          | 572.879ms    |</pre>"
      ],
      "text/plain": [
       "| 4          | 572.879ms    |"
      ]
     },
     "metadata": {},
     "output_type": "display_data"
    },
    {
     "data": {
      "text/html": [
       "<pre>+------------+--------------+</pre>"
      ],
      "text/plain": [
       "+------------+--------------+"
      ]
     },
     "metadata": {},
     "output_type": "display_data"
    },
    {
     "data": {
      "text/html": [
       "<pre>+--------------+-------------+--------------+</pre>"
      ],
      "text/plain": [
       "+--------------+-------------+--------------+"
      ]
     },
     "metadata": {},
     "output_type": "display_data"
    },
    {
     "data": {
      "text/html": [
       "<pre>| Query points | % Complete. | Elapsed Time |</pre>"
      ],
      "text/plain": [
       "| Query points | % Complete. | Elapsed Time |"
      ]
     },
     "metadata": {},
     "output_type": "display_data"
    },
    {
     "data": {
      "text/html": [
       "<pre>+--------------+-------------+--------------+</pre>"
      ],
      "text/plain": [
       "+--------------+-------------+--------------+"
      ]
     },
     "metadata": {},
     "output_type": "display_data"
    },
    {
     "data": {
      "text/html": [
       "<pre>| 1            | 0           | 52.353ms     |</pre>"
      ],
      "text/plain": [
       "| 1            | 0           | 52.353ms     |"
      ]
     },
     "metadata": {},
     "output_type": "display_data"
    },
    {
     "data": {
      "text/html": [
       "<pre>| 53           | 0.25        | 1.11s        |</pre>"
      ],
      "text/plain": [
       "| 53           | 0.25        | 1.11s        |"
      ]
     },
     "metadata": {},
     "output_type": "display_data"
    },
    {
     "data": {
      "text/html": [
       "<pre>| 109          | 0.75        | 2.06s        |</pre>"
      ],
      "text/plain": [
       "| 109          | 0.75        | 2.06s        |"
      ]
     },
     "metadata": {},
     "output_type": "display_data"
    },
    {
     "data": {
      "text/html": [
       "<pre>| 166          | 1.25        | 3.11s        |</pre>"
      ],
      "text/plain": [
       "| 166          | 1.25        | 3.11s        |"
      ]
     },
     "metadata": {},
     "output_type": "display_data"
    },
    {
     "data": {
      "text/html": [
       "<pre>| 225          | 1.75        | 4.13s        |</pre>"
      ],
      "text/plain": [
       "| 225          | 1.75        | 4.13s        |"
      ]
     },
     "metadata": {},
     "output_type": "display_data"
    },
    {
     "data": {
      "text/html": [
       "<pre>| 285          | 2.25        | 5.12s        |</pre>"
      ],
      "text/plain": [
       "| 285          | 2.25        | 5.12s        |"
      ]
     },
     "metadata": {},
     "output_type": "display_data"
    },
    {
     "data": {
      "text/html": [
       "<pre>| 345          | 2.75        | 6.09s        |</pre>"
      ],
      "text/plain": [
       "| 345          | 2.75        | 6.09s        |"
      ]
     },
     "metadata": {},
     "output_type": "display_data"
    },
    {
     "data": {
      "text/html": [
       "<pre>| 400          | 3.25        | 7.09s        |</pre>"
      ],
      "text/plain": [
       "| 400          | 3.25        | 7.09s        |"
      ]
     },
     "metadata": {},
     "output_type": "display_data"
    },
    {
     "data": {
      "text/html": [
       "<pre>| 461          | 3.75        | 8.11s        |</pre>"
      ],
      "text/plain": [
       "| 461          | 3.75        | 8.11s        |"
      ]
     },
     "metadata": {},
     "output_type": "display_data"
    },
    {
     "data": {
      "text/html": [
       "<pre>| 523          | 4.25        | 9.09s        |</pre>"
      ],
      "text/plain": [
       "| 523          | 4.25        | 9.09s        |"
      ]
     },
     "metadata": {},
     "output_type": "display_data"
    },
    {
     "data": {
      "text/html": [
       "<pre>| 575          | 4.75        | 10.18s       |</pre>"
      ],
      "text/plain": [
       "| 575          | 4.75        | 10.18s       |"
      ]
     },
     "metadata": {},
     "output_type": "display_data"
    },
    {
     "data": {
      "text/html": [
       "<pre>| 615          | 5.25        | 11.11s       |</pre>"
      ],
      "text/plain": [
       "| 615          | 5.25        | 11.11s       |"
      ]
     },
     "metadata": {},
     "output_type": "display_data"
    },
    {
     "data": {
      "text/html": [
       "<pre>| 666          | 5.5         | 12.11s       |</pre>"
      ],
      "text/plain": [
       "| 666          | 5.5         | 12.11s       |"
      ]
     },
     "metadata": {},
     "output_type": "display_data"
    },
    {
     "data": {
      "text/html": [
       "<pre>| 725          | 6           | 13.11s       |</pre>"
      ],
      "text/plain": [
       "| 725          | 6           | 13.11s       |"
      ]
     },
     "metadata": {},
     "output_type": "display_data"
    },
    {
     "data": {
      "text/html": [
       "<pre>| 780          | 6.5         | 14.18s       |</pre>"
      ],
      "text/plain": [
       "| 780          | 6.5         | 14.18s       |"
      ]
     },
     "metadata": {},
     "output_type": "display_data"
    },
    {
     "data": {
      "text/html": [
       "<pre>| 833          | 7           | 15.12s       |</pre>"
      ],
      "text/plain": [
       "| 833          | 7           | 15.12s       |"
      ]
     },
     "metadata": {},
     "output_type": "display_data"
    },
    {
     "data": {
      "text/html": [
       "<pre>| 905          | 7.75        | 16.13s       |</pre>"
      ],
      "text/plain": [
       "| 905          | 7.75        | 16.13s       |"
      ]
     },
     "metadata": {},
     "output_type": "display_data"
    },
    {
     "data": {
      "text/html": [
       "<pre>| 968          | 8.25        | 17.16s       |</pre>"
      ],
      "text/plain": [
       "| 968          | 8.25        | 17.16s       |"
      ]
     },
     "metadata": {},
     "output_type": "display_data"
    },
    {
     "data": {
      "text/html": [
       "<pre>| 1023         | 8.75        | 18.16s       |</pre>"
      ],
      "text/plain": [
       "| 1023         | 8.75        | 18.16s       |"
      ]
     },
     "metadata": {},
     "output_type": "display_data"
    },
    {
     "data": {
      "text/html": [
       "<pre>| 1082         | 9.25        | 19.15s       |</pre>"
      ],
      "text/plain": [
       "| 1082         | 9.25        | 19.15s       |"
      ]
     },
     "metadata": {},
     "output_type": "display_data"
    },
    {
     "data": {
      "text/html": [
       "<pre>| 1140         | 9.75        | 20.16s       |</pre>"
      ],
      "text/plain": [
       "| 1140         | 9.75        | 20.16s       |"
      ]
     },
     "metadata": {},
     "output_type": "display_data"
    },
    {
     "data": {
      "text/html": [
       "<pre>| 1197         | 10.25       | 21.16s       |</pre>"
      ],
      "text/plain": [
       "| 1197         | 10.25       | 21.16s       |"
      ]
     },
     "metadata": {},
     "output_type": "display_data"
    },
    {
     "data": {
      "text/html": [
       "<pre>| 1250         | 10.5        | 22.16s       |</pre>"
      ],
      "text/plain": [
       "| 1250         | 10.5        | 22.16s       |"
      ]
     },
     "metadata": {},
     "output_type": "display_data"
    },
    {
     "data": {
      "text/html": [
       "<pre>| 1302         | 11          | 23.17s       |</pre>"
      ],
      "text/plain": [
       "| 1302         | 11          | 23.17s       |"
      ]
     },
     "metadata": {},
     "output_type": "display_data"
    },
    {
     "data": {
      "text/html": [
       "<pre>| 1357         | 11.5        | 24.16s       |</pre>"
      ],
      "text/plain": [
       "| 1357         | 11.5        | 24.16s       |"
      ]
     },
     "metadata": {},
     "output_type": "display_data"
    },
    {
     "data": {
      "text/html": [
       "<pre>| 1413         | 12          | 25.19s       |</pre>"
      ],
      "text/plain": [
       "| 1413         | 12          | 25.19s       |"
      ]
     },
     "metadata": {},
     "output_type": "display_data"
    },
    {
     "data": {
      "text/html": [
       "<pre>| 1466         | 12.5        | 26.18s       |</pre>"
      ],
      "text/plain": [
       "| 1466         | 12.5        | 26.18s       |"
      ]
     },
     "metadata": {},
     "output_type": "display_data"
    },
    {
     "data": {
      "text/html": [
       "<pre>| 1525         | 13          | 27.19s       |</pre>"
      ],
      "text/plain": [
       "| 1525         | 13          | 27.19s       |"
      ]
     },
     "metadata": {},
     "output_type": "display_data"
    },
    {
     "data": {
      "text/html": [
       "<pre>| 1585         | 13.5        | 28.18s       |</pre>"
      ],
      "text/plain": [
       "| 1585         | 13.5        | 28.18s       |"
      ]
     },
     "metadata": {},
     "output_type": "display_data"
    },
    {
     "data": {
      "text/html": [
       "<pre>| 1645         | 14          | 29.19s       |</pre>"
      ],
      "text/plain": [
       "| 1645         | 14          | 29.19s       |"
      ]
     },
     "metadata": {},
     "output_type": "display_data"
    },
    {
     "data": {
      "text/html": [
       "<pre>| 1707         | 14.5        | 30.19s       |</pre>"
      ],
      "text/plain": [
       "| 1707         | 14.5        | 30.19s       |"
      ]
     },
     "metadata": {},
     "output_type": "display_data"
    },
    {
     "data": {
      "text/html": [
       "<pre>| 1768         | 15          | 31.22s       |</pre>"
      ],
      "text/plain": [
       "| 1768         | 15          | 31.22s       |"
      ]
     },
     "metadata": {},
     "output_type": "display_data"
    },
    {
     "data": {
      "text/html": [
       "<pre>| 1824         | 15.5        | 32.25s       |</pre>"
      ],
      "text/plain": [
       "| 1824         | 15.5        | 32.25s       |"
      ]
     },
     "metadata": {},
     "output_type": "display_data"
    },
    {
     "data": {
      "text/html": [
       "<pre>| 1872         | 16          | 33.22s       |</pre>"
      ],
      "text/plain": [
       "| 1872         | 16          | 33.22s       |"
      ]
     },
     "metadata": {},
     "output_type": "display_data"
    },
    {
     "data": {
      "text/html": [
       "<pre>| 1911         | 16.25       | 34.21s       |</pre>"
      ],
      "text/plain": [
       "| 1911         | 16.25       | 34.21s       |"
      ]
     },
     "metadata": {},
     "output_type": "display_data"
    },
    {
     "data": {
      "text/html": [
       "<pre>| 1968         | 16.75       | 35.22s       |</pre>"
      ],
      "text/plain": [
       "| 1968         | 16.75       | 35.22s       |"
      ]
     },
     "metadata": {},
     "output_type": "display_data"
    },
    {
     "data": {
      "text/html": [
       "<pre>| 2027         | 17.25       | 36.23s       |</pre>"
      ],
      "text/plain": [
       "| 2027         | 17.25       | 36.23s       |"
      ]
     },
     "metadata": {},
     "output_type": "display_data"
    },
    {
     "data": {
      "text/html": [
       "<pre>| 2085         | 17.75       | 37.24s       |</pre>"
      ],
      "text/plain": [
       "| 2085         | 17.75       | 37.24s       |"
      ]
     },
     "metadata": {},
     "output_type": "display_data"
    },
    {
     "data": {
      "text/html": [
       "<pre>| 2143         | 18.25       | 38.24s       |</pre>"
      ],
      "text/plain": [
       "| 2143         | 18.25       | 38.24s       |"
      ]
     },
     "metadata": {},
     "output_type": "display_data"
    },
    {
     "data": {
      "text/html": [
       "<pre>| 2191         | 18.75       | 39.23s       |</pre>"
      ],
      "text/plain": [
       "| 2191         | 18.75       | 39.23s       |"
      ]
     },
     "metadata": {},
     "output_type": "display_data"
    },
    {
     "data": {
      "text/html": [
       "<pre>| 2244         | 19.25       | 40.25s       |</pre>"
      ],
      "text/plain": [
       "| 2244         | 19.25       | 40.25s       |"
      ]
     },
     "metadata": {},
     "output_type": "display_data"
    },
    {
     "data": {
      "text/html": [
       "<pre>| 2298         | 19.5        | 41.25s       |</pre>"
      ],
      "text/plain": [
       "| 2298         | 19.5        | 41.25s       |"
      ]
     },
     "metadata": {},
     "output_type": "display_data"
    },
    {
     "data": {
      "text/html": [
       "<pre>| 2344         | 20          | 42.26s       |</pre>"
      ],
      "text/plain": [
       "| 2344         | 20          | 42.26s       |"
      ]
     },
     "metadata": {},
     "output_type": "display_data"
    },
    {
     "data": {
      "text/html": [
       "<pre>| 2398         | 20.5        | 43.27s       |</pre>"
      ],
      "text/plain": [
       "| 2398         | 20.5        | 43.27s       |"
      ]
     },
     "metadata": {},
     "output_type": "display_data"
    },
    {
     "data": {
      "text/html": [
       "<pre>| 2446         | 20.75       | 44.28s       |</pre>"
      ],
      "text/plain": [
       "| 2446         | 20.75       | 44.28s       |"
      ]
     },
     "metadata": {},
     "output_type": "display_data"
    },
    {
     "data": {
      "text/html": [
       "<pre>| 2502         | 21.25       | 45.25s       |</pre>"
      ],
      "text/plain": [
       "| 2502         | 21.25       | 45.25s       |"
      ]
     },
     "metadata": {},
     "output_type": "display_data"
    },
    {
     "data": {
      "text/html": [
       "<pre>| 2561         | 21.75       | 46.26s       |</pre>"
      ],
      "text/plain": [
       "| 2561         | 21.75       | 46.26s       |"
      ]
     },
     "metadata": {},
     "output_type": "display_data"
    },
    {
     "data": {
      "text/html": [
       "<pre>| 2613         | 22.25       | 47.27s       |</pre>"
      ],
      "text/plain": [
       "| 2613         | 22.25       | 47.27s       |"
      ]
     },
     "metadata": {},
     "output_type": "display_data"
    },
    {
     "data": {
      "text/html": [
       "<pre>| 2663         | 22.75       | 48.37s       |</pre>"
      ],
      "text/plain": [
       "| 2663         | 22.75       | 48.37s       |"
      ]
     },
     "metadata": {},
     "output_type": "display_data"
    },
    {
     "data": {
      "text/html": [
       "<pre>| 2715         | 23.25       | 49.28s       |</pre>"
      ],
      "text/plain": [
       "| 2715         | 23.25       | 49.28s       |"
      ]
     },
     "metadata": {},
     "output_type": "display_data"
    },
    {
     "data": {
      "text/html": [
       "<pre>| 2775         | 23.75       | 50.28s       |</pre>"
      ],
      "text/plain": [
       "| 2775         | 23.75       | 50.28s       |"
      ]
     },
     "metadata": {},
     "output_type": "display_data"
    },
    {
     "data": {
      "text/html": [
       "<pre>| 2823         | 24          | 51.29s       |</pre>"
      ],
      "text/plain": [
       "| 2823         | 24          | 51.29s       |"
      ]
     },
     "metadata": {},
     "output_type": "display_data"
    },
    {
     "data": {
      "text/html": [
       "<pre>| 2876         | 24.5        | 52.29s       |</pre>"
      ],
      "text/plain": [
       "| 2876         | 24.5        | 52.29s       |"
      ]
     },
     "metadata": {},
     "output_type": "display_data"
    },
    {
     "data": {
      "text/html": [
       "<pre>| 2929         | 25          | 53.39s       |</pre>"
      ],
      "text/plain": [
       "| 2929         | 25          | 53.39s       |"
      ]
     },
     "metadata": {},
     "output_type": "display_data"
    },
    {
     "data": {
      "text/html": [
       "<pre>| 2992         | 25.5        | 54.41s       |</pre>"
      ],
      "text/plain": [
       "| 2992         | 25.5        | 54.41s       |"
      ]
     },
     "metadata": {},
     "output_type": "display_data"
    },
    {
     "data": {
      "text/html": [
       "<pre>| 3028         | 25.75       | 55.30s       |</pre>"
      ],
      "text/plain": [
       "| 3028         | 25.75       | 55.30s       |"
      ]
     },
     "metadata": {},
     "output_type": "display_data"
    },
    {
     "data": {
      "text/html": [
       "<pre>| 3076         | 26.25       | 56.31s       |</pre>"
      ],
      "text/plain": [
       "| 3076         | 26.25       | 56.31s       |"
      ]
     },
     "metadata": {},
     "output_type": "display_data"
    },
    {
     "data": {
      "text/html": [
       "<pre>| 3127         | 26.75       | 57.32s       |</pre>"
      ],
      "text/plain": [
       "| 3127         | 26.75       | 57.32s       |"
      ]
     },
     "metadata": {},
     "output_type": "display_data"
    },
    {
     "data": {
      "text/html": [
       "<pre>| 3168         | 27          | 58.33s       |</pre>"
      ],
      "text/plain": [
       "| 3168         | 27          | 58.33s       |"
      ]
     },
     "metadata": {},
     "output_type": "display_data"
    },
    {
     "data": {
      "text/html": [
       "<pre>| 3215         | 27.5        | 59.32s       |</pre>"
      ],
      "text/plain": [
       "| 3215         | 27.5        | 59.32s       |"
      ]
     },
     "metadata": {},
     "output_type": "display_data"
    },
    {
     "data": {
      "text/html": [
       "<pre>| 3269         | 28          | 1m 0s        |</pre>"
      ],
      "text/plain": [
       "| 3269         | 28          | 1m 0s        |"
      ]
     },
     "metadata": {},
     "output_type": "display_data"
    },
    {
     "data": {
      "text/html": [
       "<pre>| 3305         | 28.25       | 1m 1s        |</pre>"
      ],
      "text/plain": [
       "| 3305         | 28.25       | 1m 1s        |"
      ]
     },
     "metadata": {},
     "output_type": "display_data"
    },
    {
     "data": {
      "text/html": [
       "<pre>| 3353         | 28.75       | 1m 2s        |</pre>"
      ],
      "text/plain": [
       "| 3353         | 28.75       | 1m 2s        |"
      ]
     },
     "metadata": {},
     "output_type": "display_data"
    },
    {
     "data": {
      "text/html": [
       "<pre>| 3393         | 29          | 1m 3s        |</pre>"
      ],
      "text/plain": [
       "| 3393         | 29          | 1m 3s        |"
      ]
     },
     "metadata": {},
     "output_type": "display_data"
    },
    {
     "data": {
      "text/html": [
       "<pre>| 3458         | 29.5        | 1m 4s        |</pre>"
      ],
      "text/plain": [
       "| 3458         | 29.5        | 1m 4s        |"
      ]
     },
     "metadata": {},
     "output_type": "display_data"
    },
    {
     "data": {
      "text/html": [
       "<pre>| 3511         | 30          | 1m 5s        |</pre>"
      ],
      "text/plain": [
       "| 3511         | 30          | 1m 5s        |"
      ]
     },
     "metadata": {},
     "output_type": "display_data"
    },
    {
     "data": {
      "text/html": [
       "<pre>| 3552         | 30.25       | 1m 6s        |</pre>"
      ],
      "text/plain": [
       "| 3552         | 30.25       | 1m 6s        |"
      ]
     },
     "metadata": {},
     "output_type": "display_data"
    },
    {
     "data": {
      "text/html": [
       "<pre>| 3601         | 30.75       | 1m 7s        |</pre>"
      ],
      "text/plain": [
       "| 3601         | 30.75       | 1m 7s        |"
      ]
     },
     "metadata": {},
     "output_type": "display_data"
    },
    {
     "data": {
      "text/html": [
       "<pre>| 3646         | 31.25       | 1m 8s        |</pre>"
      ],
      "text/plain": [
       "| 3646         | 31.25       | 1m 8s        |"
      ]
     },
     "metadata": {},
     "output_type": "display_data"
    },
    {
     "data": {
      "text/html": [
       "<pre>| 3701         | 31.5        | 1m 9s        |</pre>"
      ],
      "text/plain": [
       "| 3701         | 31.5        | 1m 9s        |"
      ]
     },
     "metadata": {},
     "output_type": "display_data"
    },
    {
     "data": {
      "text/html": [
       "<pre>| 3750         | 32          | 1m 10s       |</pre>"
      ],
      "text/plain": [
       "| 3750         | 32          | 1m 10s       |"
      ]
     },
     "metadata": {},
     "output_type": "display_data"
    },
    {
     "data": {
      "text/html": [
       "<pre>| 3802         | 32.5        | 1m 11s       |</pre>"
      ],
      "text/plain": [
       "| 3802         | 32.5        | 1m 11s       |"
      ]
     },
     "metadata": {},
     "output_type": "display_data"
    },
    {
     "data": {
      "text/html": [
       "<pre>| 3843         | 32.75       | 1m 12s       |</pre>"
      ],
      "text/plain": [
       "| 3843         | 32.75       | 1m 12s       |"
      ]
     },
     "metadata": {},
     "output_type": "display_data"
    },
    {
     "data": {
      "text/html": [
       "<pre>| 3892         | 33.25       | 1m 13s       |</pre>"
      ],
      "text/plain": [
       "| 3892         | 33.25       | 1m 13s       |"
      ]
     },
     "metadata": {},
     "output_type": "display_data"
    },
    {
     "data": {
      "text/html": [
       "<pre>| 3949         | 33.75       | 1m 14s       |</pre>"
      ],
      "text/plain": [
       "| 3949         | 33.75       | 1m 14s       |"
      ]
     },
     "metadata": {},
     "output_type": "display_data"
    },
    {
     "data": {
      "text/html": [
       "<pre>| 3993         | 34.25       | 1m 15s       |</pre>"
      ],
      "text/plain": [
       "| 3993         | 34.25       | 1m 15s       |"
      ]
     },
     "metadata": {},
     "output_type": "display_data"
    },
    {
     "data": {
      "text/html": [
       "<pre>| 4036         | 34.5        | 1m 16s       |</pre>"
      ],
      "text/plain": [
       "| 4036         | 34.5        | 1m 16s       |"
      ]
     },
     "metadata": {},
     "output_type": "display_data"
    },
    {
     "data": {
      "text/html": [
       "<pre>| 4084         | 35          | 1m 17s       |</pre>"
      ],
      "text/plain": [
       "| 4084         | 35          | 1m 17s       |"
      ]
     },
     "metadata": {},
     "output_type": "display_data"
    },
    {
     "data": {
      "text/html": [
       "<pre>| 4139         | 35.5        | 1m 18s       |</pre>"
      ],
      "text/plain": [
       "| 4139         | 35.5        | 1m 18s       |"
      ]
     },
     "metadata": {},
     "output_type": "display_data"
    },
    {
     "data": {
      "text/html": [
       "<pre>| 4193         | 35.75       | 1m 19s       |</pre>"
      ],
      "text/plain": [
       "| 4193         | 35.75       | 1m 19s       |"
      ]
     },
     "metadata": {},
     "output_type": "display_data"
    },
    {
     "data": {
      "text/html": [
       "<pre>| 4247         | 36.25       | 1m 20s       |</pre>"
      ],
      "text/plain": [
       "| 4247         | 36.25       | 1m 20s       |"
      ]
     },
     "metadata": {},
     "output_type": "display_data"
    },
    {
     "data": {
      "text/html": [
       "<pre>| 4287         | 36.75       | 1m 21s       |</pre>"
      ],
      "text/plain": [
       "| 4287         | 36.75       | 1m 21s       |"
      ]
     },
     "metadata": {},
     "output_type": "display_data"
    },
    {
     "data": {
      "text/html": [
       "<pre>| 4332         | 37          | 1m 22s       |</pre>"
      ],
      "text/plain": [
       "| 4332         | 37          | 1m 22s       |"
      ]
     },
     "metadata": {},
     "output_type": "display_data"
    },
    {
     "data": {
      "text/html": [
       "<pre>| 4385         | 37.5        | 1m 23s       |</pre>"
      ],
      "text/plain": [
       "| 4385         | 37.5        | 1m 23s       |"
      ]
     },
     "metadata": {},
     "output_type": "display_data"
    },
    {
     "data": {
      "text/html": [
       "<pre>| 4445         | 38          | 1m 24s       |</pre>"
      ],
      "text/plain": [
       "| 4445         | 38          | 1m 24s       |"
      ]
     },
     "metadata": {},
     "output_type": "display_data"
    },
    {
     "data": {
      "text/html": [
       "<pre>| 4497         | 38.5        | 1m 25s       |</pre>"
      ],
      "text/plain": [
       "| 4497         | 38.5        | 1m 25s       |"
      ]
     },
     "metadata": {},
     "output_type": "display_data"
    },
    {
     "data": {
      "text/html": [
       "<pre>| 4558         | 39          | 1m 26s       |</pre>"
      ],
      "text/plain": [
       "| 4558         | 39          | 1m 26s       |"
      ]
     },
     "metadata": {},
     "output_type": "display_data"
    },
    {
     "data": {
      "text/html": [
       "<pre>| 4608         | 39.5        | 1m 27s       |</pre>"
      ],
      "text/plain": [
       "| 4608         | 39.5        | 1m 27s       |"
      ]
     },
     "metadata": {},
     "output_type": "display_data"
    },
    {
     "data": {
      "text/html": [
       "<pre>| 4662         | 39.75       | 1m 28s       |</pre>"
      ],
      "text/plain": [
       "| 4662         | 39.75       | 1m 28s       |"
      ]
     },
     "metadata": {},
     "output_type": "display_data"
    },
    {
     "data": {
      "text/html": [
       "<pre>| 4722         | 40.5        | 1m 29s       |</pre>"
      ],
      "text/plain": [
       "| 4722         | 40.5        | 1m 29s       |"
      ]
     },
     "metadata": {},
     "output_type": "display_data"
    },
    {
     "data": {
      "text/html": [
       "<pre>| 4781         | 41          | 1m 30s       |</pre>"
      ],
      "text/plain": [
       "| 4781         | 41          | 1m 30s       |"
      ]
     },
     "metadata": {},
     "output_type": "display_data"
    },
    {
     "data": {
      "text/html": [
       "<pre>| 4831         | 41.25       | 1m 31s       |</pre>"
      ],
      "text/plain": [
       "| 4831         | 41.25       | 1m 31s       |"
      ]
     },
     "metadata": {},
     "output_type": "display_data"
    },
    {
     "data": {
      "text/html": [
       "<pre>| 4878         | 41.75       | 1m 32s       |</pre>"
      ],
      "text/plain": [
       "| 4878         | 41.75       | 1m 32s       |"
      ]
     },
     "metadata": {},
     "output_type": "display_data"
    },
    {
     "data": {
      "text/html": [
       "<pre>| 4922         | 42          | 1m 33s       |</pre>"
      ],
      "text/plain": [
       "| 4922         | 42          | 1m 33s       |"
      ]
     },
     "metadata": {},
     "output_type": "display_data"
    },
    {
     "data": {
      "text/html": [
       "<pre>| 4971         | 42.5        | 1m 34s       |</pre>"
      ],
      "text/plain": [
       "| 4971         | 42.5        | 1m 34s       |"
      ]
     },
     "metadata": {},
     "output_type": "display_data"
    },
    {
     "data": {
      "text/html": [
       "<pre>| 5026         | 43          | 1m 35s       |</pre>"
      ],
      "text/plain": [
       "| 5026         | 43          | 1m 35s       |"
      ]
     },
     "metadata": {},
     "output_type": "display_data"
    },
    {
     "data": {
      "text/html": [
       "<pre>| 5080         | 43.5        | 1m 36s       |</pre>"
      ],
      "text/plain": [
       "| 5080         | 43.5        | 1m 36s       |"
      ]
     },
     "metadata": {},
     "output_type": "display_data"
    },
    {
     "data": {
      "text/html": [
       "<pre>| 5129         | 43.75       | 1m 37s       |</pre>"
      ],
      "text/plain": [
       "| 5129         | 43.75       | 1m 37s       |"
      ]
     },
     "metadata": {},
     "output_type": "display_data"
    },
    {
     "data": {
      "text/html": [
       "<pre>| 5176         | 44.25       | 1m 38s       |</pre>"
      ],
      "text/plain": [
       "| 5176         | 44.25       | 1m 38s       |"
      ]
     },
     "metadata": {},
     "output_type": "display_data"
    },
    {
     "data": {
      "text/html": [
       "<pre>| 5225         | 44.75       | 1m 39s       |</pre>"
      ],
      "text/plain": [
       "| 5225         | 44.75       | 1m 39s       |"
      ]
     },
     "metadata": {},
     "output_type": "display_data"
    },
    {
     "data": {
      "text/html": [
       "<pre>| 5276         | 45.25       | 1m 40s       |</pre>"
      ],
      "text/plain": [
       "| 5276         | 45.25       | 1m 40s       |"
      ]
     },
     "metadata": {},
     "output_type": "display_data"
    },
    {
     "data": {
      "text/html": [
       "<pre>| 5327         | 45.5        | 1m 41s       |</pre>"
      ],
      "text/plain": [
       "| 5327         | 45.5        | 1m 41s       |"
      ]
     },
     "metadata": {},
     "output_type": "display_data"
    },
    {
     "data": {
      "text/html": [
       "<pre>| 5371         | 46          | 1m 42s       |</pre>"
      ],
      "text/plain": [
       "| 5371         | 46          | 1m 42s       |"
      ]
     },
     "metadata": {},
     "output_type": "display_data"
    },
    {
     "data": {
      "text/html": [
       "<pre>| 5417         | 46.25       | 1m 43s       |</pre>"
      ],
      "text/plain": [
       "| 5417         | 46.25       | 1m 43s       |"
      ]
     },
     "metadata": {},
     "output_type": "display_data"
    },
    {
     "data": {
      "text/html": [
       "<pre>| 5455         | 46.75       | 1m 44s       |</pre>"
      ],
      "text/plain": [
       "| 5455         | 46.75       | 1m 44s       |"
      ]
     },
     "metadata": {},
     "output_type": "display_data"
    },
    {
     "data": {
      "text/html": [
       "<pre>| 5504         | 47          | 1m 45s       |</pre>"
      ],
      "text/plain": [
       "| 5504         | 47          | 1m 45s       |"
      ]
     },
     "metadata": {},
     "output_type": "display_data"
    },
    {
     "data": {
      "text/html": [
       "<pre>| 5554         | 47.5        | 1m 46s       |</pre>"
      ],
      "text/plain": [
       "| 5554         | 47.5        | 1m 46s       |"
      ]
     },
     "metadata": {},
     "output_type": "display_data"
    },
    {
     "data": {
      "text/html": [
       "<pre>| 5604         | 48          | 1m 47s       |</pre>"
      ],
      "text/plain": [
       "| 5604         | 48          | 1m 47s       |"
      ]
     },
     "metadata": {},
     "output_type": "display_data"
    },
    {
     "data": {
      "text/html": [
       "<pre>| 5655         | 48.5        | 1m 48s       |</pre>"
      ],
      "text/plain": [
       "| 5655         | 48.5        | 1m 48s       |"
      ]
     },
     "metadata": {},
     "output_type": "display_data"
    },
    {
     "data": {
      "text/html": [
       "<pre>| 5712         | 49          | 1m 49s       |</pre>"
      ],
      "text/plain": [
       "| 5712         | 49          | 1m 49s       |"
      ]
     },
     "metadata": {},
     "output_type": "display_data"
    },
    {
     "data": {
      "text/html": [
       "<pre>| 5761         | 49.25       | 1m 50s       |</pre>"
      ],
      "text/plain": [
       "| 5761         | 49.25       | 1m 50s       |"
      ]
     },
     "metadata": {},
     "output_type": "display_data"
    },
    {
     "data": {
      "text/html": [
       "<pre>| 5820         | 49.75       | 1m 51s       |</pre>"
      ],
      "text/plain": [
       "| 5820         | 49.75       | 1m 51s       |"
      ]
     },
     "metadata": {},
     "output_type": "display_data"
    },
    {
     "data": {
      "text/html": [
       "<pre>| 5874         | 50.25       | 1m 52s       |</pre>"
      ],
      "text/plain": [
       "| 5874         | 50.25       | 1m 52s       |"
      ]
     },
     "metadata": {},
     "output_type": "display_data"
    },
    {
     "data": {
      "text/html": [
       "<pre>| 5929         | 50.75       | 1m 53s       |</pre>"
      ],
      "text/plain": [
       "| 5929         | 50.75       | 1m 53s       |"
      ]
     },
     "metadata": {},
     "output_type": "display_data"
    },
    {
     "data": {
      "text/html": [
       "<pre>| 5977         | 51.25       | 1m 54s       |</pre>"
      ],
      "text/plain": [
       "| 5977         | 51.25       | 1m 54s       |"
      ]
     },
     "metadata": {},
     "output_type": "display_data"
    },
    {
     "data": {
      "text/html": [
       "<pre>| 6033         | 51.75       | 1m 55s       |</pre>"
      ],
      "text/plain": [
       "| 6033         | 51.75       | 1m 55s       |"
      ]
     },
     "metadata": {},
     "output_type": "display_data"
    },
    {
     "data": {
      "text/html": [
       "<pre>| 6083         | 52          | 1m 56s       |</pre>"
      ],
      "text/plain": [
       "| 6083         | 52          | 1m 56s       |"
      ]
     },
     "metadata": {},
     "output_type": "display_data"
    },
    {
     "data": {
      "text/html": [
       "<pre>| 6142         | 52.5        | 1m 57s       |</pre>"
      ],
      "text/plain": [
       "| 6142         | 52.5        | 1m 57s       |"
      ]
     },
     "metadata": {},
     "output_type": "display_data"
    },
    {
     "data": {
      "text/html": [
       "<pre>| 6192         | 53          | 1m 58s       |</pre>"
      ],
      "text/plain": [
       "| 6192         | 53          | 1m 58s       |"
      ]
     },
     "metadata": {},
     "output_type": "display_data"
    },
    {
     "data": {
      "text/html": [
       "<pre>| 6244         | 53.5        | 1m 59s       |</pre>"
      ],
      "text/plain": [
       "| 6244         | 53.5        | 1m 59s       |"
      ]
     },
     "metadata": {},
     "output_type": "display_data"
    },
    {
     "data": {
      "text/html": [
       "<pre>| 6295         | 54          | 2m 0s        |</pre>"
      ],
      "text/plain": [
       "| 6295         | 54          | 2m 0s        |"
      ]
     },
     "metadata": {},
     "output_type": "display_data"
    },
    {
     "data": {
      "text/html": [
       "<pre>| 6348         | 54.25       | 2m 1s        |</pre>"
      ],
      "text/plain": [
       "| 6348         | 54.25       | 2m 1s        |"
      ]
     },
     "metadata": {},
     "output_type": "display_data"
    },
    {
     "data": {
      "text/html": [
       "<pre>| 6399         | 54.75       | 2m 2s        |</pre>"
      ],
      "text/plain": [
       "| 6399         | 54.75       | 2m 2s        |"
      ]
     },
     "metadata": {},
     "output_type": "display_data"
    },
    {
     "data": {
      "text/html": [
       "<pre>| 6458         | 55.25       | 2m 3s        |</pre>"
      ],
      "text/plain": [
       "| 6458         | 55.25       | 2m 3s        |"
      ]
     },
     "metadata": {},
     "output_type": "display_data"
    },
    {
     "data": {
      "text/html": [
       "<pre>| 6522         | 55.75       | 2m 4s        |</pre>"
      ],
      "text/plain": [
       "| 6522         | 55.75       | 2m 4s        |"
      ]
     },
     "metadata": {},
     "output_type": "display_data"
    },
    {
     "data": {
      "text/html": [
       "<pre>| 6580         | 56.25       | 2m 5s        |</pre>"
      ],
      "text/plain": [
       "| 6580         | 56.25       | 2m 5s        |"
      ]
     },
     "metadata": {},
     "output_type": "display_data"
    },
    {
     "data": {
      "text/html": [
       "<pre>| 6646         | 57          | 2m 6s        |</pre>"
      ],
      "text/plain": [
       "| 6646         | 57          | 2m 6s        |"
      ]
     },
     "metadata": {},
     "output_type": "display_data"
    },
    {
     "data": {
      "text/html": [
       "<pre>| 6703         | 57.5        | 2m 7s        |</pre>"
      ],
      "text/plain": [
       "| 6703         | 57.5        | 2m 7s        |"
      ]
     },
     "metadata": {},
     "output_type": "display_data"
    },
    {
     "data": {
      "text/html": [
       "<pre>| 6761         | 57.75       | 2m 8s        |</pre>"
      ],
      "text/plain": [
       "| 6761         | 57.75       | 2m 8s        |"
      ]
     },
     "metadata": {},
     "output_type": "display_data"
    },
    {
     "data": {
      "text/html": [
       "<pre>| 6814         | 58.25       | 2m 9s        |</pre>"
      ],
      "text/plain": [
       "| 6814         | 58.25       | 2m 9s        |"
      ]
     },
     "metadata": {},
     "output_type": "display_data"
    },
    {
     "data": {
      "text/html": [
       "<pre>| 6871         | 58.75       | 2m 10s       |</pre>"
      ],
      "text/plain": [
       "| 6871         | 58.75       | 2m 10s       |"
      ]
     },
     "metadata": {},
     "output_type": "display_data"
    },
    {
     "data": {
      "text/html": [
       "<pre>| 6925         | 59.25       | 2m 11s       |</pre>"
      ],
      "text/plain": [
       "| 6925         | 59.25       | 2m 11s       |"
      ]
     },
     "metadata": {},
     "output_type": "display_data"
    },
    {
     "data": {
      "text/html": [
       "<pre>| 6980         | 59.75       | 2m 12s       |</pre>"
      ],
      "text/plain": [
       "| 6980         | 59.75       | 2m 12s       |"
      ]
     },
     "metadata": {},
     "output_type": "display_data"
    },
    {
     "data": {
      "text/html": [
       "<pre>| 7033         | 60.25       | 2m 13s       |</pre>"
      ],
      "text/plain": [
       "| 7033         | 60.25       | 2m 13s       |"
      ]
     },
     "metadata": {},
     "output_type": "display_data"
    },
    {
     "data": {
      "text/html": [
       "<pre>| 7085         | 60.75       | 2m 14s       |</pre>"
      ],
      "text/plain": [
       "| 7085         | 60.75       | 2m 14s       |"
      ]
     },
     "metadata": {},
     "output_type": "display_data"
    },
    {
     "data": {
      "text/html": [
       "<pre>| 7140         | 61.25       | 2m 15s       |</pre>"
      ],
      "text/plain": [
       "| 7140         | 61.25       | 2m 15s       |"
      ]
     },
     "metadata": {},
     "output_type": "display_data"
    },
    {
     "data": {
      "text/html": [
       "<pre>| 7188         | 61.5        | 2m 16s       |</pre>"
      ],
      "text/plain": [
       "| 7188         | 61.5        | 2m 16s       |"
      ]
     },
     "metadata": {},
     "output_type": "display_data"
    },
    {
     "data": {
      "text/html": [
       "<pre>| 7240         | 62          | 2m 17s       |</pre>"
      ],
      "text/plain": [
       "| 7240         | 62          | 2m 17s       |"
      ]
     },
     "metadata": {},
     "output_type": "display_data"
    },
    {
     "data": {
      "text/html": [
       "<pre>| 7297         | 62.5        | 2m 18s       |</pre>"
      ],
      "text/plain": [
       "| 7297         | 62.5        | 2m 18s       |"
      ]
     },
     "metadata": {},
     "output_type": "display_data"
    },
    {
     "data": {
      "text/html": [
       "<pre>| 7352         | 63          | 2m 19s       |</pre>"
      ],
      "text/plain": [
       "| 7352         | 63          | 2m 19s       |"
      ]
     },
     "metadata": {},
     "output_type": "display_data"
    },
    {
     "data": {
      "text/html": [
       "<pre>| 7411         | 63.5        | 2m 20s       |</pre>"
      ],
      "text/plain": [
       "| 7411         | 63.5        | 2m 20s       |"
      ]
     },
     "metadata": {},
     "output_type": "display_data"
    },
    {
     "data": {
      "text/html": [
       "<pre>| 7455         | 63.75       | 2m 21s       |</pre>"
      ],
      "text/plain": [
       "| 7455         | 63.75       | 2m 21s       |"
      ]
     },
     "metadata": {},
     "output_type": "display_data"
    },
    {
     "data": {
      "text/html": [
       "<pre>| 7502         | 64.25       | 2m 22s       |</pre>"
      ],
      "text/plain": [
       "| 7502         | 64.25       | 2m 22s       |"
      ]
     },
     "metadata": {},
     "output_type": "display_data"
    },
    {
     "data": {
      "text/html": [
       "<pre>| 7565         | 64.75       | 2m 23s       |</pre>"
      ],
      "text/plain": [
       "| 7565         | 64.75       | 2m 23s       |"
      ]
     },
     "metadata": {},
     "output_type": "display_data"
    },
    {
     "data": {
      "text/html": [
       "<pre>| 7616         | 65.25       | 2m 24s       |</pre>"
      ],
      "text/plain": [
       "| 7616         | 65.25       | 2m 24s       |"
      ]
     },
     "metadata": {},
     "output_type": "display_data"
    },
    {
     "data": {
      "text/html": [
       "<pre>| 7667         | 65.75       | 2m 25s       |</pre>"
      ],
      "text/plain": [
       "| 7667         | 65.75       | 2m 25s       |"
      ]
     },
     "metadata": {},
     "output_type": "display_data"
    },
    {
     "data": {
      "text/html": [
       "<pre>| 7713         | 66          | 2m 26s       |</pre>"
      ],
      "text/plain": [
       "| 7713         | 66          | 2m 26s       |"
      ]
     },
     "metadata": {},
     "output_type": "display_data"
    },
    {
     "data": {
      "text/html": [
       "<pre>| 7753         | 66.5        | 2m 27s       |</pre>"
      ],
      "text/plain": [
       "| 7753         | 66.5        | 2m 27s       |"
      ]
     },
     "metadata": {},
     "output_type": "display_data"
    },
    {
     "data": {
      "text/html": [
       "<pre>| 7809         | 66.75       | 2m 28s       |</pre>"
      ],
      "text/plain": [
       "| 7809         | 66.75       | 2m 28s       |"
      ]
     },
     "metadata": {},
     "output_type": "display_data"
    },
    {
     "data": {
      "text/html": [
       "<pre>| 7865         | 67.25       | 2m 29s       |</pre>"
      ],
      "text/plain": [
       "| 7865         | 67.25       | 2m 29s       |"
      ]
     },
     "metadata": {},
     "output_type": "display_data"
    },
    {
     "data": {
      "text/html": [
       "<pre>| 7920         | 67.75       | 2m 30s       |</pre>"
      ],
      "text/plain": [
       "| 7920         | 67.75       | 2m 30s       |"
      ]
     },
     "metadata": {},
     "output_type": "display_data"
    },
    {
     "data": {
      "text/html": [
       "<pre>| 7977         | 68.25       | 2m 31s       |</pre>"
      ],
      "text/plain": [
       "| 7977         | 68.25       | 2m 31s       |"
      ]
     },
     "metadata": {},
     "output_type": "display_data"
    },
    {
     "data": {
      "text/html": [
       "<pre>| 8035         | 68.75       | 2m 32s       |</pre>"
      ],
      "text/plain": [
       "| 8035         | 68.75       | 2m 32s       |"
      ]
     },
     "metadata": {},
     "output_type": "display_data"
    },
    {
     "data": {
      "text/html": [
       "<pre>| 8088         | 69.25       | 2m 33s       |</pre>"
      ],
      "text/plain": [
       "| 8088         | 69.25       | 2m 33s       |"
      ]
     },
     "metadata": {},
     "output_type": "display_data"
    },
    {
     "data": {
      "text/html": [
       "<pre>| 8137         | 69.75       | 2m 34s       |</pre>"
      ],
      "text/plain": [
       "| 8137         | 69.75       | 2m 34s       |"
      ]
     },
     "metadata": {},
     "output_type": "display_data"
    },
    {
     "data": {
      "text/html": [
       "<pre>| 8194         | 70.25       | 2m 35s       |</pre>"
      ],
      "text/plain": [
       "| 8194         | 70.25       | 2m 35s       |"
      ]
     },
     "metadata": {},
     "output_type": "display_data"
    },
    {
     "data": {
      "text/html": [
       "<pre>| 8251         | 70.75       | 2m 36s       |</pre>"
      ],
      "text/plain": [
       "| 8251         | 70.75       | 2m 36s       |"
      ]
     },
     "metadata": {},
     "output_type": "display_data"
    },
    {
     "data": {
      "text/html": [
       "<pre>| 8311         | 71.25       | 2m 37s       |</pre>"
      ],
      "text/plain": [
       "| 8311         | 71.25       | 2m 37s       |"
      ]
     },
     "metadata": {},
     "output_type": "display_data"
    },
    {
     "data": {
      "text/html": [
       "<pre>| 8365         | 71.75       | 2m 38s       |</pre>"
      ],
      "text/plain": [
       "| 8365         | 71.75       | 2m 38s       |"
      ]
     },
     "metadata": {},
     "output_type": "display_data"
    },
    {
     "data": {
      "text/html": [
       "<pre>| 8422         | 72          | 2m 39s       |</pre>"
      ],
      "text/plain": [
       "| 8422         | 72          | 2m 39s       |"
      ]
     },
     "metadata": {},
     "output_type": "display_data"
    },
    {
     "data": {
      "text/html": [
       "<pre>| 8482         | 72.75       | 2m 40s       |</pre>"
      ],
      "text/plain": [
       "| 8482         | 72.75       | 2m 40s       |"
      ]
     },
     "metadata": {},
     "output_type": "display_data"
    },
    {
     "data": {
      "text/html": [
       "<pre>| 8530         | 73          | 2m 41s       |</pre>"
      ],
      "text/plain": [
       "| 8530         | 73          | 2m 41s       |"
      ]
     },
     "metadata": {},
     "output_type": "display_data"
    },
    {
     "data": {
      "text/html": [
       "<pre>| 8590         | 73.5        | 2m 42s       |</pre>"
      ],
      "text/plain": [
       "| 8590         | 73.5        | 2m 42s       |"
      ]
     },
     "metadata": {},
     "output_type": "display_data"
    },
    {
     "data": {
      "text/html": [
       "<pre>| 8648         | 74          | 2m 43s       |</pre>"
      ],
      "text/plain": [
       "| 8648         | 74          | 2m 43s       |"
      ]
     },
     "metadata": {},
     "output_type": "display_data"
    },
    {
     "data": {
      "text/html": [
       "<pre>| 8697         | 74.5        | 2m 44s       |</pre>"
      ],
      "text/plain": [
       "| 8697         | 74.5        | 2m 44s       |"
      ]
     },
     "metadata": {},
     "output_type": "display_data"
    },
    {
     "data": {
      "text/html": [
       "<pre>| 8739         | 74.75       | 2m 45s       |</pre>"
      ],
      "text/plain": [
       "| 8739         | 74.75       | 2m 45s       |"
      ]
     },
     "metadata": {},
     "output_type": "display_data"
    },
    {
     "data": {
      "text/html": [
       "<pre>| 8795         | 75.25       | 2m 46s       |</pre>"
      ],
      "text/plain": [
       "| 8795         | 75.25       | 2m 46s       |"
      ]
     },
     "metadata": {},
     "output_type": "display_data"
    },
    {
     "data": {
      "text/html": [
       "<pre>| 8838         | 75.75       | 2m 47s       |</pre>"
      ],
      "text/plain": [
       "| 8838         | 75.75       | 2m 47s       |"
      ]
     },
     "metadata": {},
     "output_type": "display_data"
    },
    {
     "data": {
      "text/html": [
       "<pre>| 8896         | 76.25       | 2m 48s       |</pre>"
      ],
      "text/plain": [
       "| 8896         | 76.25       | 2m 48s       |"
      ]
     },
     "metadata": {},
     "output_type": "display_data"
    },
    {
     "data": {
      "text/html": [
       "<pre>| 8948         | 76.75       | 2m 49s       |</pre>"
      ],
      "text/plain": [
       "| 8948         | 76.75       | 2m 49s       |"
      ]
     },
     "metadata": {},
     "output_type": "display_data"
    },
    {
     "data": {
      "text/html": [
       "<pre>| 9010         | 77.25       | 2m 50s       |</pre>"
      ],
      "text/plain": [
       "| 9010         | 77.25       | 2m 50s       |"
      ]
     },
     "metadata": {},
     "output_type": "display_data"
    },
    {
     "data": {
      "text/html": [
       "<pre>| 9056         | 77.5        | 2m 51s       |</pre>"
      ],
      "text/plain": [
       "| 9056         | 77.5        | 2m 51s       |"
      ]
     },
     "metadata": {},
     "output_type": "display_data"
    },
    {
     "data": {
      "text/html": [
       "<pre>| 9111         | 78          | 2m 52s       |</pre>"
      ],
      "text/plain": [
       "| 9111         | 78          | 2m 52s       |"
      ]
     },
     "metadata": {},
     "output_type": "display_data"
    },
    {
     "data": {
      "text/html": [
       "<pre>| 9159         | 78.5        | 2m 53s       |</pre>"
      ],
      "text/plain": [
       "| 9159         | 78.5        | 2m 53s       |"
      ]
     },
     "metadata": {},
     "output_type": "display_data"
    },
    {
     "data": {
      "text/html": [
       "<pre>| 9211         | 79          | 2m 54s       |</pre>"
      ],
      "text/plain": [
       "| 9211         | 79          | 2m 54s       |"
      ]
     },
     "metadata": {},
     "output_type": "display_data"
    },
    {
     "data": {
      "text/html": [
       "<pre>| 9267         | 79.25       | 2m 55s       |</pre>"
      ],
      "text/plain": [
       "| 9267         | 79.25       | 2m 55s       |"
      ]
     },
     "metadata": {},
     "output_type": "display_data"
    },
    {
     "data": {
      "text/html": [
       "<pre>| 9313         | 79.75       | 2m 56s       |</pre>"
      ],
      "text/plain": [
       "| 9313         | 79.75       | 2m 56s       |"
      ]
     },
     "metadata": {},
     "output_type": "display_data"
    },
    {
     "data": {
      "text/html": [
       "<pre>| 9360         | 80.25       | 2m 57s       |</pre>"
      ],
      "text/plain": [
       "| 9360         | 80.25       | 2m 57s       |"
      ]
     },
     "metadata": {},
     "output_type": "display_data"
    },
    {
     "data": {
      "text/html": [
       "<pre>| 9410         | 80.5        | 2m 58s       |</pre>"
      ],
      "text/plain": [
       "| 9410         | 80.5        | 2m 58s       |"
      ]
     },
     "metadata": {},
     "output_type": "display_data"
    },
    {
     "data": {
      "text/html": [
       "<pre>| 9452         | 81          | 2m 59s       |</pre>"
      ],
      "text/plain": [
       "| 9452         | 81          | 2m 59s       |"
      ]
     },
     "metadata": {},
     "output_type": "display_data"
    },
    {
     "data": {
      "text/html": [
       "<pre>| 9497         | 81.25       | 3m 0s        |</pre>"
      ],
      "text/plain": [
       "| 9497         | 81.25       | 3m 0s        |"
      ]
     },
     "metadata": {},
     "output_type": "display_data"
    },
    {
     "data": {
      "text/html": [
       "<pre>| 9552         | 81.75       | 3m 1s        |</pre>"
      ],
      "text/plain": [
       "| 9552         | 81.75       | 3m 1s        |"
      ]
     },
     "metadata": {},
     "output_type": "display_data"
    },
    {
     "data": {
      "text/html": [
       "<pre>| 9613         | 82.25       | 3m 2s        |</pre>"
      ],
      "text/plain": [
       "| 9613         | 82.25       | 3m 2s        |"
      ]
     },
     "metadata": {},
     "output_type": "display_data"
    },
    {
     "data": {
      "text/html": [
       "<pre>| 9674         | 82.75       | 3m 3s        |</pre>"
      ],
      "text/plain": [
       "| 9674         | 82.75       | 3m 3s        |"
      ]
     },
     "metadata": {},
     "output_type": "display_data"
    },
    {
     "data": {
      "text/html": [
       "<pre>| 9732         | 83.25       | 3m 4s        |</pre>"
      ],
      "text/plain": [
       "| 9732         | 83.25       | 3m 4s        |"
      ]
     },
     "metadata": {},
     "output_type": "display_data"
    },
    {
     "data": {
      "text/html": [
       "<pre>| 9784         | 83.75       | 3m 5s        |</pre>"
      ],
      "text/plain": [
       "| 9784         | 83.75       | 3m 5s        |"
      ]
     },
     "metadata": {},
     "output_type": "display_data"
    },
    {
     "data": {
      "text/html": [
       "<pre>| 9835         | 84.25       | 3m 6s        |</pre>"
      ],
      "text/plain": [
       "| 9835         | 84.25       | 3m 6s        |"
      ]
     },
     "metadata": {},
     "output_type": "display_data"
    },
    {
     "data": {
      "text/html": [
       "<pre>| 9889         | 84.75       | 3m 7s        |</pre>"
      ],
      "text/plain": [
       "| 9889         | 84.75       | 3m 7s        |"
      ]
     },
     "metadata": {},
     "output_type": "display_data"
    },
    {
     "data": {
      "text/html": [
       "<pre>| 9941         | 85.25       | 3m 8s        |</pre>"
      ],
      "text/plain": [
       "| 9941         | 85.25       | 3m 8s        |"
      ]
     },
     "metadata": {},
     "output_type": "display_data"
    },
    {
     "data": {
      "text/html": [
       "<pre>| 9988         | 85.5        | 3m 9s        |</pre>"
      ],
      "text/plain": [
       "| 9988         | 85.5        | 3m 9s        |"
      ]
     },
     "metadata": {},
     "output_type": "display_data"
    },
    {
     "data": {
      "text/html": [
       "<pre>| 10037        | 86          | 3m 10s       |</pre>"
      ],
      "text/plain": [
       "| 10037        | 86          | 3m 10s       |"
      ]
     },
     "metadata": {},
     "output_type": "display_data"
    },
    {
     "data": {
      "text/html": [
       "<pre>| 10091        | 86.5        | 3m 11s       |</pre>"
      ],
      "text/plain": [
       "| 10091        | 86.5        | 3m 11s       |"
      ]
     },
     "metadata": {},
     "output_type": "display_data"
    },
    {
     "data": {
      "text/html": [
       "<pre>| 10138        | 86.75       | 3m 12s       |</pre>"
      ],
      "text/plain": [
       "| 10138        | 86.75       | 3m 12s       |"
      ]
     },
     "metadata": {},
     "output_type": "display_data"
    },
    {
     "data": {
      "text/html": [
       "<pre>| 10192        | 87.25       | 3m 13s       |</pre>"
      ],
      "text/plain": [
       "| 10192        | 87.25       | 3m 13s       |"
      ]
     },
     "metadata": {},
     "output_type": "display_data"
    },
    {
     "data": {
      "text/html": [
       "<pre>| 10241        | 87.75       | 3m 14s       |</pre>"
      ],
      "text/plain": [
       "| 10241        | 87.75       | 3m 14s       |"
      ]
     },
     "metadata": {},
     "output_type": "display_data"
    },
    {
     "data": {
      "text/html": [
       "<pre>| 10294        | 88.25       | 3m 15s       |</pre>"
      ],
      "text/plain": [
       "| 10294        | 88.25       | 3m 15s       |"
      ]
     },
     "metadata": {},
     "output_type": "display_data"
    },
    {
     "data": {
      "text/html": [
       "<pre>| 10347        | 88.75       | 3m 16s       |</pre>"
      ],
      "text/plain": [
       "| 10347        | 88.75       | 3m 16s       |"
      ]
     },
     "metadata": {},
     "output_type": "display_data"
    },
    {
     "data": {
      "text/html": [
       "<pre>| 10404        | 89.25       | 3m 17s       |</pre>"
      ],
      "text/plain": [
       "| 10404        | 89.25       | 3m 17s       |"
      ]
     },
     "metadata": {},
     "output_type": "display_data"
    },
    {
     "data": {
      "text/html": [
       "<pre>| 10453        | 89.5        | 3m 18s       |</pre>"
      ],
      "text/plain": [
       "| 10453        | 89.5        | 3m 18s       |"
      ]
     },
     "metadata": {},
     "output_type": "display_data"
    },
    {
     "data": {
      "text/html": [
       "<pre>| 10502        | 90          | 3m 19s       |</pre>"
      ],
      "text/plain": [
       "| 10502        | 90          | 3m 19s       |"
      ]
     },
     "metadata": {},
     "output_type": "display_data"
    },
    {
     "data": {
      "text/html": [
       "<pre>| 10554        | 90.5        | 3m 20s       |</pre>"
      ],
      "text/plain": [
       "| 10554        | 90.5        | 3m 20s       |"
      ]
     },
     "metadata": {},
     "output_type": "display_data"
    },
    {
     "data": {
      "text/html": [
       "<pre>| 10601        | 90.75       | 3m 21s       |</pre>"
      ],
      "text/plain": [
       "| 10601        | 90.75       | 3m 21s       |"
      ]
     },
     "metadata": {},
     "output_type": "display_data"
    },
    {
     "data": {
      "text/html": [
       "<pre>| 10647        | 91.25       | 3m 22s       |</pre>"
      ],
      "text/plain": [
       "| 10647        | 91.25       | 3m 22s       |"
      ]
     },
     "metadata": {},
     "output_type": "display_data"
    },
    {
     "data": {
      "text/html": [
       "<pre>| 10691        | 91.5        | 3m 24s       |</pre>"
      ],
      "text/plain": [
       "| 10691        | 91.5        | 3m 24s       |"
      ]
     },
     "metadata": {},
     "output_type": "display_data"
    },
    {
     "data": {
      "text/html": [
       "<pre>| 10726        | 92          | 3m 25s       |</pre>"
      ],
      "text/plain": [
       "| 10726        | 92          | 3m 25s       |"
      ]
     },
     "metadata": {},
     "output_type": "display_data"
    },
    {
     "data": {
      "text/html": [
       "<pre>| 10767        | 92.25       | 3m 26s       |</pre>"
      ],
      "text/plain": [
       "| 10767        | 92.25       | 3m 26s       |"
      ]
     },
     "metadata": {},
     "output_type": "display_data"
    },
    {
     "data": {
      "text/html": [
       "<pre>| 10810        | 92.5        | 3m 27s       |</pre>"
      ],
      "text/plain": [
       "| 10810        | 92.5        | 3m 27s       |"
      ]
     },
     "metadata": {},
     "output_type": "display_data"
    },
    {
     "data": {
      "text/html": [
       "<pre>| 10852        | 93          | 3m 28s       |</pre>"
      ],
      "text/plain": [
       "| 10852        | 93          | 3m 28s       |"
      ]
     },
     "metadata": {},
     "output_type": "display_data"
    },
    {
     "data": {
      "text/html": [
       "<pre>| 10900        | 93.5        | 3m 29s       |</pre>"
      ],
      "text/plain": [
       "| 10900        | 93.5        | 3m 29s       |"
      ]
     },
     "metadata": {},
     "output_type": "display_data"
    },
    {
     "data": {
      "text/html": [
       "<pre>| 10946        | 93.75       | 3m 30s       |</pre>"
      ],
      "text/plain": [
       "| 10946        | 93.75       | 3m 30s       |"
      ]
     },
     "metadata": {},
     "output_type": "display_data"
    },
    {
     "data": {
      "text/html": [
       "<pre>| 10989        | 94.25       | 3m 31s       |</pre>"
      ],
      "text/plain": [
       "| 10989        | 94.25       | 3m 31s       |"
      ]
     },
     "metadata": {},
     "output_type": "display_data"
    },
    {
     "data": {
      "text/html": [
       "<pre>| 11032        | 94.5        | 3m 32s       |</pre>"
      ],
      "text/plain": [
       "| 11032        | 94.5        | 3m 32s       |"
      ]
     },
     "metadata": {},
     "output_type": "display_data"
    },
    {
     "data": {
      "text/html": [
       "<pre>| 11071        | 94.75       | 3m 33s       |</pre>"
      ],
      "text/plain": [
       "| 11071        | 94.75       | 3m 33s       |"
      ]
     },
     "metadata": {},
     "output_type": "display_data"
    },
    {
     "data": {
      "text/html": [
       "<pre>| 11113        | 95.25       | 3m 34s       |</pre>"
      ],
      "text/plain": [
       "| 11113        | 95.25       | 3m 34s       |"
      ]
     },
     "metadata": {},
     "output_type": "display_data"
    },
    {
     "data": {
      "text/html": [
       "<pre>| 11152        | 95.5        | 3m 35s       |</pre>"
      ],
      "text/plain": [
       "| 11152        | 95.5        | 3m 35s       |"
      ]
     },
     "metadata": {},
     "output_type": "display_data"
    },
    {
     "data": {
      "text/html": [
       "<pre>| 11200        | 96          | 3m 36s       |</pre>"
      ],
      "text/plain": [
       "| 11200        | 96          | 3m 36s       |"
      ]
     },
     "metadata": {},
     "output_type": "display_data"
    },
    {
     "data": {
      "text/html": [
       "<pre>| 11228        | 96.25       | 3m 37s       |</pre>"
      ],
      "text/plain": [
       "| 11228        | 96.25       | 3m 37s       |"
      ]
     },
     "metadata": {},
     "output_type": "display_data"
    },
    {
     "data": {
      "text/html": [
       "<pre>| 11257        | 96.5        | 3m 38s       |</pre>"
      ],
      "text/plain": [
       "| 11257        | 96.5        | 3m 38s       |"
      ]
     },
     "metadata": {},
     "output_type": "display_data"
    },
    {
     "data": {
      "text/html": [
       "<pre>| 11284        | 96.75       | 3m 39s       |</pre>"
      ],
      "text/plain": [
       "| 11284        | 96.75       | 3m 39s       |"
      ]
     },
     "metadata": {},
     "output_type": "display_data"
    },
    {
     "data": {
      "text/html": [
       "<pre>| 11310        | 97          | 3m 40s       |</pre>"
      ],
      "text/plain": [
       "| 11310        | 97          | 3m 40s       |"
      ]
     },
     "metadata": {},
     "output_type": "display_data"
    },
    {
     "data": {
      "text/html": [
       "<pre>| 11342        | 97.25       | 3m 41s       |</pre>"
      ],
      "text/plain": [
       "| 11342        | 97.25       | 3m 41s       |"
      ]
     },
     "metadata": {},
     "output_type": "display_data"
    },
    {
     "data": {
      "text/html": [
       "<pre>| 11367        | 97.5        | 3m 42s       |</pre>"
      ],
      "text/plain": [
       "| 11367        | 97.5        | 3m 42s       |"
      ]
     },
     "metadata": {},
     "output_type": "display_data"
    },
    {
     "data": {
      "text/html": [
       "<pre>| 11396        | 97.75       | 3m 43s       |</pre>"
      ],
      "text/plain": [
       "| 11396        | 97.75       | 3m 43s       |"
      ]
     },
     "metadata": {},
     "output_type": "display_data"
    },
    {
     "data": {
      "text/html": [
       "<pre>| 11427        | 98          | 3m 44s       |</pre>"
      ],
      "text/plain": [
       "| 11427        | 98          | 3m 44s       |"
      ]
     },
     "metadata": {},
     "output_type": "display_data"
    },
    {
     "data": {
      "text/html": [
       "<pre>| 11456        | 98.25       | 3m 45s       |</pre>"
      ],
      "text/plain": [
       "| 11456        | 98.25       | 3m 45s       |"
      ]
     },
     "metadata": {},
     "output_type": "display_data"
    },
    {
     "data": {
      "text/html": [
       "<pre>| 11484        | 98.5        | 3m 46s       |</pre>"
      ],
      "text/plain": [
       "| 11484        | 98.5        | 3m 46s       |"
      ]
     },
     "metadata": {},
     "output_type": "display_data"
    },
    {
     "data": {
      "text/html": [
       "<pre>| 11510        | 98.5        | 3m 47s       |</pre>"
      ],
      "text/plain": [
       "| 11510        | 98.5        | 3m 47s       |"
      ]
     },
     "metadata": {},
     "output_type": "display_data"
    },
    {
     "data": {
      "text/html": [
       "<pre>| 11536        | 98.75       | 3m 48s       |</pre>"
      ],
      "text/plain": [
       "| 11536        | 98.75       | 3m 48s       |"
      ]
     },
     "metadata": {},
     "output_type": "display_data"
    },
    {
     "data": {
      "text/html": [
       "<pre>| 11552        | 99          | 3m 49s       |</pre>"
      ],
      "text/plain": [
       "| 11552        | 99          | 3m 49s       |"
      ]
     },
     "metadata": {},
     "output_type": "display_data"
    },
    {
     "data": {
      "text/html": [
       "<pre>| 11569        | 99          | 3m 50s       |</pre>"
      ],
      "text/plain": [
       "| 11569        | 99          | 3m 50s       |"
      ]
     },
     "metadata": {},
     "output_type": "display_data"
    },
    {
     "data": {
      "text/html": [
       "<pre>| 11584        | 99.25       | 3m 51s       |</pre>"
      ],
      "text/plain": [
       "| 11584        | 99.25       | 3m 51s       |"
      ]
     },
     "metadata": {},
     "output_type": "display_data"
    },
    {
     "data": {
      "text/html": [
       "<pre>| 11599        | 99.5        | 3m 52s       |</pre>"
      ],
      "text/plain": [
       "| 11599        | 99.5        | 3m 52s       |"
      ]
     },
     "metadata": {},
     "output_type": "display_data"
    },
    {
     "data": {
      "text/html": [
       "<pre>| 11619        | 99.5        | 3m 53s       |</pre>"
      ],
      "text/plain": [
       "| 11619        | 99.5        | 3m 53s       |"
      ]
     },
     "metadata": {},
     "output_type": "display_data"
    },
    {
     "data": {
      "text/html": [
       "<pre>| 11633        | 99.75       | 3m 54s       |</pre>"
      ],
      "text/plain": [
       "| 11633        | 99.75       | 3m 54s       |"
      ]
     },
     "metadata": {},
     "output_type": "display_data"
    },
    {
     "data": {
      "text/html": [
       "<pre>| 11649        | 99.75       | 3m 55s       |</pre>"
      ],
      "text/plain": [
       "| 11649        | 99.75       | 3m 55s       |"
      ]
     },
     "metadata": {},
     "output_type": "display_data"
    },
    {
     "data": {
      "text/html": [
       "<pre>| Done         |             | 3m 55s       |</pre>"
      ],
      "text/plain": [
       "| Done         |             | 3m 55s       |"
      ]
     },
     "metadata": {},
     "output_type": "display_data"
    },
    {
     "data": {
      "text/html": [
       "<pre>+--------------+-------------+--------------+</pre>"
      ],
      "text/plain": [
       "+--------------+-------------+--------------+"
      ]
     },
     "metadata": {},
     "output_type": "display_data"
    },
    {
     "data": {
      "text/html": [
       "<div style=\"max-height:1000px;max-width:1500px;overflow:auto;\"><table frame=\"box\" rules=\"cols\">\n",
       "    <tr>\n",
       "        <th style=\"padding-left: 1em; padding-right: 1em; text-align: center\">query_label</th>\n",
       "        <th style=\"padding-left: 1em; padding-right: 1em; text-align: center\">reference_label</th>\n",
       "        <th style=\"padding-left: 1em; padding-right: 1em; text-align: center\">distance</th>\n",
       "        <th style=\"padding-left: 1em; padding-right: 1em; text-align: center\">rank</th>\n",
       "    </tr>\n",
       "    <tr>\n",
       "        <td style=\"padding-left: 1em; padding-right: 1em; text-align: center; vertical-align: top\">0</td>\n",
       "        <td style=\"padding-left: 1em; padding-right: 1em; text-align: center; vertical-align: top\">0</td>\n",
       "        <td style=\"padding-left: 1em; padding-right: 1em; text-align: center; vertical-align: top\">0.0</td>\n",
       "        <td style=\"padding-left: 1em; padding-right: 1em; text-align: center; vertical-align: top\">1</td>\n",
       "    </tr>\n",
       "    <tr>\n",
       "        <td style=\"padding-left: 1em; padding-right: 1em; text-align: center; vertical-align: top\">0</td>\n",
       "        <td style=\"padding-left: 1em; padding-right: 1em; text-align: center; vertical-align: top\">3326</td>\n",
       "        <td style=\"padding-left: 1em; padding-right: 1em; text-align: center; vertical-align: top\">0.363474670975</td>\n",
       "        <td style=\"padding-left: 1em; padding-right: 1em; text-align: center; vertical-align: top\">2</td>\n",
       "    </tr>\n",
       "    <tr>\n",
       "        <td style=\"padding-left: 1em; padding-right: 1em; text-align: center; vertical-align: top\">1</td>\n",
       "        <td style=\"padding-left: 1em; padding-right: 1em; text-align: center; vertical-align: top\">1</td>\n",
       "        <td style=\"padding-left: 1em; padding-right: 1em; text-align: center; vertical-align: top\">0.0</td>\n",
       "        <td style=\"padding-left: 1em; padding-right: 1em; text-align: center; vertical-align: top\">1</td>\n",
       "    </tr>\n",
       "    <tr>\n",
       "        <td style=\"padding-left: 1em; padding-right: 1em; text-align: center; vertical-align: top\">1</td>\n",
       "        <td style=\"padding-left: 1em; padding-right: 1em; text-align: center; vertical-align: top\">6453</td>\n",
       "        <td style=\"padding-left: 1em; padding-right: 1em; text-align: center; vertical-align: top\">0.0</td>\n",
       "        <td style=\"padding-left: 1em; padding-right: 1em; text-align: center; vertical-align: top\">2</td>\n",
       "    </tr>\n",
       "    <tr>\n",
       "        <td style=\"padding-left: 1em; padding-right: 1em; text-align: center; vertical-align: top\">2</td>\n",
       "        <td style=\"padding-left: 1em; padding-right: 1em; text-align: center; vertical-align: top\">2</td>\n",
       "        <td style=\"padding-left: 1em; padding-right: 1em; text-align: center; vertical-align: top\">0.0</td>\n",
       "        <td style=\"padding-left: 1em; padding-right: 1em; text-align: center; vertical-align: top\">1</td>\n",
       "    </tr>\n",
       "    <tr>\n",
       "        <td style=\"padding-left: 1em; padding-right: 1em; text-align: center; vertical-align: top\">2</td>\n",
       "        <td style=\"padding-left: 1em; padding-right: 1em; text-align: center; vertical-align: top\">6454</td>\n",
       "        <td style=\"padding-left: 1em; padding-right: 1em; text-align: center; vertical-align: top\">0.0</td>\n",
       "        <td style=\"padding-left: 1em; padding-right: 1em; text-align: center; vertical-align: top\">2</td>\n",
       "    </tr>\n",
       "    <tr>\n",
       "        <td style=\"padding-left: 1em; padding-right: 1em; text-align: center; vertical-align: top\">3</td>\n",
       "        <td style=\"padding-left: 1em; padding-right: 1em; text-align: center; vertical-align: top\">3</td>\n",
       "        <td style=\"padding-left: 1em; padding-right: 1em; text-align: center; vertical-align: top\">0.0</td>\n",
       "        <td style=\"padding-left: 1em; padding-right: 1em; text-align: center; vertical-align: top\">1</td>\n",
       "    </tr>\n",
       "    <tr>\n",
       "        <td style=\"padding-left: 1em; padding-right: 1em; text-align: center; vertical-align: top\">3</td>\n",
       "        <td style=\"padding-left: 1em; padding-right: 1em; text-align: center; vertical-align: top\">6455</td>\n",
       "        <td style=\"padding-left: 1em; padding-right: 1em; text-align: center; vertical-align: top\">0.0</td>\n",
       "        <td style=\"padding-left: 1em; padding-right: 1em; text-align: center; vertical-align: top\">2</td>\n",
       "    </tr>\n",
       "    <tr>\n",
       "        <td style=\"padding-left: 1em; padding-right: 1em; text-align: center; vertical-align: top\">4</td>\n",
       "        <td style=\"padding-left: 1em; padding-right: 1em; text-align: center; vertical-align: top\">6456</td>\n",
       "        <td style=\"padding-left: 1em; padding-right: 1em; text-align: center; vertical-align: top\">0.0</td>\n",
       "        <td style=\"padding-left: 1em; padding-right: 1em; text-align: center; vertical-align: top\">1</td>\n",
       "    </tr>\n",
       "    <tr>\n",
       "        <td style=\"padding-left: 1em; padding-right: 1em; text-align: center; vertical-align: top\">4</td>\n",
       "        <td style=\"padding-left: 1em; padding-right: 1em; text-align: center; vertical-align: top\">4</td>\n",
       "        <td style=\"padding-left: 1em; padding-right: 1em; text-align: center; vertical-align: top\">0.0</td>\n",
       "        <td style=\"padding-left: 1em; padding-right: 1em; text-align: center; vertical-align: top\">2</td>\n",
       "    </tr>\n",
       "</table>\n",
       "[10 rows x 4 columns]<br/>\n",
       "</div>"
      ],
      "text/plain": [
       "Columns:\n",
       "\tquery_label\tint\n",
       "\treference_label\tint\n",
       "\tdistance\tfloat\n",
       "\trank\tint\n",
       "\n",
       "Rows: 10\n",
       "\n",
       "Data:\n",
       "+-------------+-----------------+----------------+------+\n",
       "| query_label | reference_label |    distance    | rank |\n",
       "+-------------+-----------------+----------------+------+\n",
       "|      0      |        0        |      0.0       |  1   |\n",
       "|      0      |       3326      | 0.363474670975 |  2   |\n",
       "|      1      |        1        |      0.0       |  1   |\n",
       "|      1      |       6453      |      0.0       |  2   |\n",
       "|      2      |        2        |      0.0       |  1   |\n",
       "|      2      |       6454      |      0.0       |  2   |\n",
       "|      3      |        3        |      0.0       |  1   |\n",
       "|      3      |       6455      |      0.0       |  2   |\n",
       "|      4      |       6456      |      0.0       |  1   |\n",
       "|      4      |        4        |      0.0       |  2   |\n",
       "+-------------+-----------------+----------------+------+\n",
       "[10 rows x 4 columns]"
      ]
     },
     "execution_count": 34,
     "metadata": {},
     "output_type": "execute_result"
    }
   ],
   "source": [
    "#construncting nearest neighbors model\n",
    "nn_model = gl.nearest_neighbors.create(sf_paragraphs, features=['mean_vector'])\n",
    "\n",
    "#calaculating the two nearest neighbors of each paragraph from all the paragraphs \n",
    "r = nn_model.query(sf_paragraphs, k=2)\n",
    "r.head(10)"
   ]
  },
  {
   "cell_type": "markdown",
   "metadata": {},
   "source": [
    "Of course the nearest neighbors to each paragraph is the paragraph itself. Therefore, let us filter out paragraph that are with a distance of zero from each other. Additionally, let's look only on two near paragraphs that have small distance from each other (distance < 0.08)"
   ]
  },
  {
   "cell_type": "code",
   "execution_count": 35,
   "metadata": {
    "collapsed": false
   },
   "outputs": [
    {
     "data": {
      "text/html": [
       "<div style=\"max-height:1000px;max-width:1500px;overflow:auto;\"><table frame=\"box\" rules=\"cols\">\n",
       "    <tr>\n",
       "        <th style=\"padding-left: 1em; padding-right: 1em; text-align: center\">query_label</th>\n",
       "        <th style=\"padding-left: 1em; padding-right: 1em; text-align: center\">reference_label</th>\n",
       "        <th style=\"padding-left: 1em; padding-right: 1em; text-align: center\">distance</th>\n",
       "        <th style=\"padding-left: 1em; padding-right: 1em; text-align: center\">rank</th>\n",
       "    </tr>\n",
       "    <tr>\n",
       "        <td style=\"padding-left: 1em; padding-right: 1em; text-align: center; vertical-align: top\">9146</td>\n",
       "        <td style=\"padding-left: 1em; padding-right: 1em; text-align: center; vertical-align: top\">9562</td>\n",
       "        <td style=\"padding-left: 1em; padding-right: 1em; text-align: center; vertical-align: top\">0.0718832931315</td>\n",
       "        <td style=\"padding-left: 1em; padding-right: 1em; text-align: center; vertical-align: top\">2</td>\n",
       "    </tr>\n",
       "    <tr>\n",
       "        <td style=\"padding-left: 1em; padding-right: 1em; text-align: center; vertical-align: top\">9562</td>\n",
       "        <td style=\"padding-left: 1em; padding-right: 1em; text-align: center; vertical-align: top\">9146</td>\n",
       "        <td style=\"padding-left: 1em; padding-right: 1em; text-align: center; vertical-align: top\">0.0718832931315</td>\n",
       "        <td style=\"padding-left: 1em; padding-right: 1em; text-align: center; vertical-align: top\">2</td>\n",
       "    </tr>\n",
       "</table>\n",
       "[? rows x 4 columns]<br/>Note: Only the head of the SFrame is printed. This SFrame is lazily evaluated.<br/>You can use sf.materialize() to force materialization.\n",
       "</div>"
      ],
      "text/plain": [
       "Columns:\n",
       "\tquery_label\tint\n",
       "\treference_label\tint\n",
       "\tdistance\tfloat\n",
       "\trank\tint\n",
       "\n",
       "Rows: Unknown\n",
       "\n",
       "Data:\n",
       "+-------------+-----------------+-----------------+------+\n",
       "| query_label | reference_label |     distance    | rank |\n",
       "+-------------+-----------------+-----------------+------+\n",
       "|     9146    |       9562      | 0.0718832931315 |  2   |\n",
       "|     9562    |       9146      | 0.0718832931315 |  2   |\n",
       "+-------------+-----------------+-----------------+------+\n",
       "[? rows x 4 columns]\n",
       "Note: Only the head of the SFrame is printed. This SFrame is lazily evaluated.\n",
       "You can use sf.materialize() to force materialization."
      ]
     },
     "execution_count": 35,
     "metadata": {},
     "output_type": "execute_result"
    }
   ],
   "source": [
    "#filter out paragraphs that are exactly exactly the same\n",
    "r = r[r['distance'] != 0]\n",
    "\n",
    "#filter out paragraphs that are with distance >= 0.1\n",
    "r = r[r['distance'] < 0.08]\n",
    "r"
   ]
  },
  {
   "cell_type": "markdown",
   "metadata": {},
   "source": [
    "Now, let's use join to match between each query_label and reference_label values and their actual paragraphs."
   ]
  },
  {
   "cell_type": "code",
   "execution_count": 36,
   "metadata": {
    "collapsed": false
   },
   "outputs": [],
   "source": [
    "sf_paragraphs = sf_paragraphs.add_row_number('query_label')\n",
    "sf_paragraphs = sf_paragraphs.add_row_number('reference_label')\n",
    "sf_similar = r.join(sf_paragraphs, on=\"query_label\").join(sf_paragraphs, on=\"reference_label\")"
   ]
  },
  {
   "cell_type": "code",
   "execution_count": 37,
   "metadata": {
    "collapsed": false
   },
   "outputs": [
    {
     "data": {
      "text/html": [
       "<div style=\"max-height:1000px;max-width:1500px;overflow:auto;\"><table frame=\"box\" rules=\"cols\">\n",
       "    <tr>\n",
       "        <th style=\"padding-left: 1em; padding-right: 1em; text-align: center\">paragraph</th>\n",
       "        <th style=\"padding-left: 1em; padding-right: 1em; text-align: center\">title</th>\n",
       "        <th style=\"padding-left: 1em; padding-right: 1em; text-align: center\">title.1</th>\n",
       "        <th style=\"padding-left: 1em; padding-right: 1em; text-align: center\">paragraph.1</th>\n",
       "    </tr>\n",
       "    <tr>\n",
       "        <td style=\"padding-left: 1em; padding-right: 1em; text-align: center; vertical-align: top\">Pictures for \"The<br>Adventure of the Golden ...</td>\n",
       "        <td style=\"padding-left: 1em; padding-right: 1em; text-align: center; vertical-align: top\">The Golden Pince-Nez</td>\n",
       "        <td style=\"padding-left: 1em; padding-right: 1em; text-align: center; vertical-align: top\">The Priory School</td>\n",
       "        <td style=\"padding-left: 1em; padding-right: 1em; text-align: center; vertical-align: top\">Pictures for \"The<br>Adventure of the Priory ...</td>\n",
       "    </tr>\n",
       "    <tr>\n",
       "        <td style=\"padding-left: 1em; padding-right: 1em; text-align: center; vertical-align: top\">Pictures for \"The<br>Adventure of the Priory ...</td>\n",
       "        <td style=\"padding-left: 1em; padding-right: 1em; text-align: center; vertical-align: top\">The Priory School</td>\n",
       "        <td style=\"padding-left: 1em; padding-right: 1em; text-align: center; vertical-align: top\">The Golden Pince-Nez</td>\n",
       "        <td style=\"padding-left: 1em; padding-right: 1em; text-align: center; vertical-align: top\">Pictures for \"The<br>Adventure of the Golden ...</td>\n",
       "    </tr>\n",
       "</table>\n",
       "<table frame=\"box\" rules=\"cols\">\n",
       "    <tr>\n",
       "        <th style=\"padding-left: 1em; padding-right: 1em; text-align: center\">distance</th>\n",
       "    </tr>\n",
       "    <tr>\n",
       "        <td style=\"padding-left: 1em; padding-right: 1em; text-align: center; vertical-align: top\">0.0718832931315</td>\n",
       "    </tr>\n",
       "    <tr>\n",
       "        <td style=\"padding-left: 1em; padding-right: 1em; text-align: center; vertical-align: top\">0.0718832931315</td>\n",
       "    </tr>\n",
       "</table>\n",
       "[2 rows x 5 columns]<br/>\n",
       "</div>"
      ],
      "text/plain": [
       "Columns:\n",
       "\tparagraph\tstr\n",
       "\ttitle\tstr\n",
       "\ttitle.1\tstr\n",
       "\tparagraph.1\tstr\n",
       "\tdistance\tfloat\n",
       "\n",
       "Rows: 2\n",
       "\n",
       "Data:\n",
       "+-------------------------------+----------------------+----------------------+\n",
       "|           paragraph           |        title         |       title.1        |\n",
       "+-------------------------------+----------------------+----------------------+\n",
       "| Pictures for \"The Adventur... | The Golden Pince-Nez |  The Priory School   |\n",
       "| Pictures for \"The Adventur... |  The Priory School   | The Golden Pince-Nez |\n",
       "+-------------------------------+----------------------+----------------------+\n",
       "+-------------------------------+-----------------+\n",
       "|          paragraph.1          |     distance    |\n",
       "+-------------------------------+-----------------+\n",
       "| Pictures for \"The Adventur... | 0.0718832931315 |\n",
       "| Pictures for \"The Adventur... | 0.0718832931315 |\n",
       "+-------------------------------+-----------------+\n",
       "[2 rows x 5 columns]"
      ]
     },
     "execution_count": 37,
     "metadata": {},
     "output_type": "execute_result"
    }
   ],
   "source": [
    "sf_similar[['paragraph','title', 'title.1', 'paragraph.1', 'distance']]"
   ]
  },
  {
   "cell_type": "markdown",
   "metadata": {},
   "source": [
    "Let's look at some of the similar paragraphs."
   ]
  },
  {
   "cell_type": "code",
   "execution_count": 38,
   "metadata": {
    "collapsed": false
   },
   "outputs": [
    {
     "name": "stdout",
     "output_type": "stream",
     "text": [
      "Pictures for \"The Adventure of the Priory School\" were taken from a\n",
      "     1915 edition of \"The Return of Sherlock Holmes\" by Smith, Elder & Co.\n",
      "     of London.\n",
      "----------------------------------------------------------------------------------------------------\n",
      "Pictures for \"The Adventure of the Golden Pince-Nez\" were taken from\n",
      "     a 1915 edition of \"The Return of Sherlock Holmes\" by Smith, Elder &\n",
      "     Co. of London.\n"
     ]
    }
   ],
   "source": [
    "print sf_similar[1]['paragraph']\n",
    "print \"-\"*100\n",
    "print sf_similar[1]['paragraph.1']"
   ]
  },
  {
   "cell_type": "markdown",
   "metadata": {},
   "source": [
    "Although that in the paragraphs match the text is completely different, it still has the several similar motifs. In the first paragraph dog is leading his master. \n",
    "While in the second paragraph the boots are replacing the dog part. In both paragraphs the author use somewhat similar motifs \"dreadful sight to see that huge black creature\" \n",
    "and \"saw something that made me feel sickish.\" I personally find these results quite interesting."
   ]
  },
  {
   "cell_type": "markdown",
   "metadata": {},
   "source": [
    "## <a id=\"go\"></a> 6. Where to Go From Here"
   ]
  },
  {
   "cell_type": "markdown",
   "metadata": {},
   "source": [
    "<pre>\n",
    "\"Thank you,\" said Holmes, \"I only wished to ask you how you would go from here to the Strand.\"\n",
    "                                                                              -The Red-Headed League\n",
    "</pre>"
   ]
  },
  {
   "cell_type": "markdown",
   "metadata": {},
   "source": [
    "In this notebook, we presented a short and practical tutorial for NLP, which covered several common NLP topics, such as NER, Topic Model, and Word2Vec. If you want to continue to explore this dataset yourself, there are a lot more that can be done. You can rerun this code using different texts (Harry Potter, Lord of the Rings, and etc.). In addition, you can try to modify the above code to create social networks between persons and locations, or to use [GloVe]( http://nlp.stanford.edu/projects/glove/) instead of Word2Vec. Furthermore, you can also try to run other graph theory algorithms, such as community detection algorithms, on the constructed social networks to uncover additional interesting insights. We hope that the methods and code presented in this notebook can assist you to solve other text analysis tasks."
   ]
  },
  {
   "cell_type": "markdown",
   "metadata": {},
   "source": [
    "## <a id=\"reading\"></a> 7. Further Reading"
   ]
  },
  {
   "cell_type": "markdown",
   "metadata": {},
   "source": [
    "Further reading material:\n",
    "- [Analysis of communities in a mythological social network, Miranda et al.](http://arxiv.org/abs/1306.2537)\n",
    "- [A survey of named entity recognition and classification, David Nadeau and Satoshi Sekine](http://nlp.cs.nyu.edu/sekine/papers/li07.pdf)\n",
    "- [Probabilistic topic models, David M. Blei](https://www.cs.princeton.edu/~blei/papers/Blei2012.pdf)\n",
    "- [LDAvis: A method for visualizing and interpreting topic models](http://stat-graphics.org/movies/ldavis.html)\n",
    "- [Practical deep text learning blog post](https://turi.com/learn/gallery/notebooks/deep_text_learning.html)\n",
    "- [Deep learning with word2vec and gensim](http://rare-technologies.com/deep-learning-with-word2vec-and-gensim/)"
   ]
  }
 ],
 "metadata": {
  "anaconda-cloud": {},
  "kernelspec": {
   "display_name": "Python [conda env:gl-env]",
   "language": "python",
   "name": "conda-env-gl-env-py"
  },
  "language_info": {
   "codemirror_mode": {
    "name": "ipython",
    "version": 2
   },
   "file_extension": ".py",
   "mimetype": "text/x-python",
   "name": "python",
   "nbconvert_exporter": "python",
   "pygments_lexer": "ipython2",
   "version": "2.7.12"
  }
 },
 "nbformat": 4,
 "nbformat_minor": 0
}
