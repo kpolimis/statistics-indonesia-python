{
 "cells": [
  {
   "cell_type": "markdown",
   "metadata": {},
   "source": [
    "# Using twitter to assess political strategy and position"
   ]
  },
  {
   "cell_type": "markdown",
   "metadata": {},
   "source": [
    "from http://static.smarttypes.org/static/notebooks/twitter_politics.html"
   ]
  },
  {
   "cell_type": "markdown",
   "metadata": {},
   "source": [
    "In this notebook we'll explore the networks of both \n",
    "sides of US political aisle: [TheDemocrats](https://twitter.com/TheDemocrats) \n",
    "and the [GOP](https://twitter.com/GOP).\n",
    "\n",
    "We'll identify like minded political and social interest communities, and use these \n",
    "communities to measure social space.\n",
    "\n",
    "### What can this data really tell us?\n",
    "\n",
    "Our socio political world is messy and complicated, \n",
    "online social networks like twitter (and the internet in general) \n",
    "give us a peek into this nuanced chaotic world.\n",
    "\n",
    "> Think of Twitter as a network of human sensors. -- Rick Lawrence, IBM, Machine Learning & Decision Analytics\n",
    "\n",
    "This notebook depends on:\n",
    "\n",
    " - [GraphLab create](http://dato.com/products/create/index.html)\n",
    " - [The map equation](http://arxiv.org/abs/0906.1405)\n",
    " - [Relaxmap](http://uwescience.github.io/RelaxMap/)\n",
    " - [GraphReduce](https://github.com/timmytw/graphreduce)\n",
    "\n",
    "This will get you everything you need:\n",
    "\n",
    "```\n",
    " $ git clone https://github.com/timmytw/graphreduce.git\n",
    "\n",
    " $ cd graphreduce/; pip install -r requirements.txt\n",
    "```"
   ]
  },
  {
   "cell_type": "code",
   "execution_count": 1,
   "metadata": {
    "collapsed": false
   },
   "outputs": [],
   "source": [
    "import os, math, inspect\n",
    "from IPython.core.display import HTML\n",
    "from operator import mul\n",
    "import graphlab as gl\n",
    "from graphreduce.graph_wrapper import GraphWrapper"
   ]
  },
  {
   "cell_type": "markdown",
   "metadata": {},
   "source": [
    "## Downloading and compressing our network\n",
    "\n",
    "First we'll download the preassembled 2 degree ego networks of the DNC and RNC,\n",
    "then we'll mine it for compression patterns (communities).\n",
    "\n",
    "This will be the most time consuming part of our exercise, it takes roughly 5.5 mins \n",
    "on my magnetic drive / 8gb ram / i7 laptop."
   ]
  },
  {
   "cell_type": "code",
   "execution_count": 7,
   "metadata": {
    "collapsed": false
   },
   "outputs": [],
   "source": [
    "this_dir = os.path.dirname(os.path.abspath(inspect.getfile(inspect.currentframe())))\n",
    "cache_dir = this_dir+'/.twitter_politics/'\n",
    "if os.path.exists(cache_dir+'parent'):\n",
    "    gw = GraphWrapper.from_previous_reduction(cache_dir)\n",
    "else:\n",
    "    v_path = 'http://static.smarttypes.org/static/graphreduce/test_data/TheDemocrats_GOP.vertex.csv.gz'\n",
    "    e_path = 'http://static.smarttypes.org/static/graphreduce/test_data/TheDemocrats_GOP.edge.csv.gz'\n",
    "    gw, mdls = GraphWrapper.reduce(v_path, e_path)\n",
    "    if not os.path.exists(cache_dir):\n",
    "        os.makedirs(cache_dir)\n",
    "    gw.save(cache_dir)\n"
   ]
  },
  {
   "cell_type": "markdown",
   "metadata": {},
   "source": [
    "## Network community detection\n",
    "\n",
    "The topic of community detection is broad and deep.\n",
    "The method here, \n",
    "[the map equation](http://arxiv.org/abs/0906.1405),\n",
    "uses information theory to quantify the compression of a random walk on our network.\n",
    "[Relaxmap](http://uwescience.github.io/RelaxMap/) \n",
    "is a parallel implementation of the map equation objective.\n",
    "\n",
    "The method also tags communities, giving us a quick idea of \n",
    "the collective interests of a community.\n",
    "\n",
    "Let's take a look at the most popular communities, order by pagerank:"
   ]
  },
  {
   "cell_type": "code",
   "execution_count": 3,
   "metadata": {
    "collapsed": false
   },
   "outputs": [
    {
     "name": "stdout",
     "output_type": "stream",
     "text": [
      "\n",
      "Popular communities:\n",
      " -  1.0 9192 ['editor', 'cnn', 'politics', 'correspondent', 'political']\n",
      " -  0.95 2616 ['actor', 'official', 'twitter', 'actress', 'writer']\n",
      " -  0.79 6403 ['conservative', 'tcot', 'christian', 'liberty', 'libertarian']\n",
      " -  0.78 982 ['founder', 'tech', 'ceo', 'marketing', 'technology']\n",
      " -  0.77 723 ['endorsement', 'official', 'archived', 'twitter', 'military']\n",
      " -  0.67 1244 ['football', 'sports', 'espn', 'official', 'twitter']\n",
      " -  0.59 198 ['world', 'global', 'nations', 'international', 'poverty']\n",
      " -  0.56 1347 ['uniteblue', 'liberal', 'progressive', 'obama', 'p2']\n",
      " -  0.55 155 ['nasa', 'space', 'science', 'astronaut', 'earth']\n",
      " -  0.52 218 ['food', 'chef', 'restaurant', 'cook', 'recipes']\n"
     ]
    }
   ],
   "source": [
    "min_members = 25\n",
    "communities = gw.g.get_vertices()\n",
    "communities = communities[communities['member_count'] >= min_members]\n",
    "communities['pr'] = communities['pr'] / communities['pr'].max()\n",
    "print '\\nPopular communities:'\n",
    "for x in communities.sort('pr', ascending=False)[:10]:\n",
    "    print ' - ', str(x['pr'])[:4], x['member_count'], x['top_labels']"
   ]
  },
  {
   "cell_type": "markdown",
   "metadata": {},
   "source": [
    "##Communities close to the respective parties\n",
    "\n",
    "Let's look at communities close to the respective parties. \n",
    "How do the related communities fit with our mental model?"
   ]
  },
  {
   "cell_type": "code",
   "execution_count": 4,
   "metadata": {
    "collapsed": false
   },
   "outputs": [
    {
     "name": "stdout",
     "output_type": "stream",
     "text": [
      "\n",
      "DNC communities:\n",
      " -  3.29 299 ['organizing', 'action', 'volunteers', 'maintained', 'ofa']\n",
      " -  3.29 324 ['democrats', 'college', 'collegedems', 'university', 'democratic']\n",
      " -  3.29 9192 ['editor', 'cnn', 'politics', 'correspondent', 'political']\n",
      " -  0.25 378 ['massachusetts', 'ma', 'boston', 'mapoli', 'state']\n",
      " -  0.25 312 ['pa', 'pennsylvania', 'pittsburgh', 'county', 'philadelphia']\n",
      " -  0.19 1347 ['uniteblue', 'liberal', 'progressive', 'obama', 'p2']\n",
      " -  0.19 676 ['texas', 'dallas', 'austin', 'state', 'tx']\n",
      " -  0.17 405 ['seattle', 'washington', 'wa', 'state', 'king']\n",
      " -  0.16 131 ['maryland', 'baltimore', 'treasurer', 'authority', 'md']\n",
      " -  0.15 537 ['michigan', 'detroit', 'state', 'migop', 'mi']\n",
      "\n",
      "RNC communities:\n",
      " -  3.29 6403 ['conservative', 'tcot', 'christian', 'liberty', 'libertarian']\n",
      " -  2.46 9192 ['editor', 'cnn', 'politics', 'correspondent', 'political']\n",
      " -  2.40 532 ['district', 'congressional', 'congressman', 'representing', 'proudly']\n",
      " -  0.11 394 ['virginia', 'va', 'richmond', 'district', 'delegates']\n",
      " -  0.10 534 ['florida', 'tampa', 'jacksonville', 'political', 'miami']\n",
      " -  0.10 346 ['iowa', 'moines', 'des', 'ia', 'iowan']\n",
      " -  0.06 237 ['minnesota', 'mn', 'minneapolis', 'startribune', 'paul']\n",
      " -  0.06 291 ['nh', 'hampshire', 'state', 'manchester', 'granite']\n",
      " -  0.05 124 ['sc', 'carolina', 'south', 'postandcourier', 'columbia']\n",
      " -  0.05 211 ['georgia', 'atlanta', 'ga', 'ajc', 'state']\n"
     ]
    }
   ],
   "source": [
    "def reciprocal_interest(scores):\n",
    "    def _score(row):\n",
    "        return row['user_interest'] * row['community_interest']\n",
    "    return scores.apply(_score)\n",
    "\n",
    "user_community_scores = gw.child.user_community_scores(reciprocal_interest, min_members)\n",
    "\n",
    "def users_top_communities(user_id, scores):\n",
    "    user_scores = scores[scores['user_id'] == user_id]\n",
    "    user_scores = user_scores.join(communities, {'community_id':'__id'})\n",
    "    user_scores.remove_column('community_id.1')\n",
    "    return user_scores.sort('score', ascending=False)\n",
    "\n",
    "print '\\nDNC communities:'\n",
    "dem_id = '14377605'\n",
    "dem_communities = users_top_communities(dem_id, user_community_scores)\n",
    "for x in dem_communities[:10]:\n",
    "    print ' - ', str(x['score'])[:4], x['member_count'], x['top_labels']\n",
    "print ''\n",
    "\n",
    "print 'RNC communities:'\n",
    "rep_id = '11134252'\n",
    "rep_communities = users_top_communities(rep_id, user_community_scores)\n",
    "for x in rep_communities[:10]:\n",
    "    print ' - ', str(x['score'])[:4], x['member_count'], x['top_labels']"
   ]
  },
  {
   "cell_type": "markdown",
   "metadata": {},
   "source": [
    "## What can we glean from this?\n",
    "\n",
    "The 'score' here is the product of user_interest and community_interest.\n",
    "Twitter is a directed network, our objective function rewards relationships \n",
    "where an account follows many people in a community and many people in the \n",
    "community follow the account, a reciprocal_interest function.\n",
    "\n",
    "What can we glean from this? I'm not really sure. But there are a few things worth mentioning.\n",
    "\n",
    "The DNC is aligned heavily with volunteers, colleges, and the news media.\n",
    "And then supportive and swing states. I was surprised to see texas, \n",
    "[Can Democrats Turn Texas and Arizona Blue by 2016?](http://fivethirtyeight.blogs.nytimes.com/2013/03/01/can-democrats-turn-texas-and-arizona-blue-by-2016/)\n",
    "\n",
    "The RNC is aligned primarily with the conservative community, the media, \n",
    "and congressional representation, \n",
    "then a mix of it's own support and swing states.\n",
    "\n",
    "We'll use the communities closest to each party as features (landmarks) \n",
    "to measure similarity.\n",
    "Let's look at accounts inline with the respective parties:"
   ]
  },
  {
   "cell_type": "code",
   "execution_count": 5,
   "metadata": {
    "collapsed": false
   },
   "outputs": [
    {
     "name": "stdout",
     "output_type": "stream",
     "text": [
      "\n",
      "Accounts similar to the DNC:\n",
      " -  -5.0 TheDemocrats - This is the official Twitter account of the Democratic Party. Follow our tw\n",
      " -  -3.8 BarackObama - This account is run by Organizing for Action staff. Tweets from the Preside\n",
      " -  -3.8 jeremybird - Founding Partner w @270Strategies; Senior Advisor w @BGTX; Former National \n",
      " -  -3.8 OFA_HQ - \n",
      " -  -3.7 Messina2012 - 2012 Obama Campaign Manager, former White House Deputy Chief of Staff. Prou\n",
      " -  -3.6 dscc - Democratic Senatorial Campaign Committee | Committed to Electing a Democrat\n",
      " -  -3.5 CollegeDems - College Democrats of America | The official youth branch of the Democratic \n",
      " -  -3.4 Mitch_Stewart - Partner at 270 Strategies, Former Battleground States Director for Obama fo\n",
      " -  -3.4 MarlonDMarshall - Kansas Jayhawk for life, grassroots organizer, sports fan, proud St. Louis \n",
      " -  -3.3 woodhouseb - President, Americans United for Change and American Bridge, former DNC  Com\n",
      "\n",
      "Accounts similar to the RNC:\n",
      " -  -3.8 GOP - Updates from the Republican National Committee.\n",
      " -  -3.6 DailyCaller - Politics, entertainment, slideshows. You're welcome.\n",
      " -  -3.3 PRyan - Husband; Proud father of 3; Wisconsinite; Go Pack Go!\n",
      " -  -3.3 SenRandPaul - I fight for the Constitution, individual liberty and the freedoms that make\n",
      " -  -3.2 megynkelly - Happily married to Doug, crazy in love with my children Yates, Yardley, and\n",
      " -  -3.2 Senate_GOPs - News and updates from Republican senators and their staff.\n",
      " -  -3.2 SpeakerBoehner - Official Twitter account for U.S. House Speaker John Boehner (R-OH)\n",
      " -  -3.1 Heritage - A think tank devoted to the principles of free enterprise, limited governme\n",
      " -  -3.0 johnboehner - I represent Ohio's 8th Congressional District and serve as Speaker of the H\n",
      " -  -2.9 MittRomney - Former Governor of Massachusetts\n",
      "\n"
     ]
    }
   ],
   "source": [
    "def users_top_users(user_id, scores, feature_ids):\n",
    "    assert scores['score'].min() >= 0\n",
    "    scores = scores.groupby('user_id', \n",
    "        {'score':gl.aggregate.CONCAT('community_id', 'score')},\n",
    "        {'num_features':gl.aggregate.COUNT('community_id')})\n",
    "    scores = scores[scores['num_features'] > len(feature_ids) * .20]\n",
    "    user_score = scores[scores['user_id'] == user_id][0]\n",
    "    def distance(row):\n",
    "        total_distance = 0\n",
    "        for x in feature_ids:\n",
    "            score1 = user_score['score'].get(x)\n",
    "            score2 = row['score'].get(x)\n",
    "            if score1 and score2:\n",
    "                dis = abs(score1 - score2)\n",
    "            elif score1 or score2:\n",
    "                dis = (score1 or score2) * 2\n",
    "            else:\n",
    "                dis = 0\n",
    "            total_distance+=dis\n",
    "        return total_distance\n",
    "    scores['distance'] = scores.apply(distance)\n",
    "    scores = scores.join(gw.verticy_descriptions, {'user_id':'__id'})\n",
    "    scores['distance'] = (scores['distance'] - scores['distance'].mean()) \\\n",
    "        / (scores['distance'].std())\n",
    "    return scores.sort('distance')\n",
    "\n",
    "feature_ids = list(rep_communities['community_id'][:5])\n",
    "feature_ids += list(dem_communities['community_id'][:5])\n",
    "feature_ids = list(set(feature_ids))\n",
    "\n",
    "print '\\nAccounts similar to the DNC:'\n",
    "dem_users = users_top_users(dem_id, user_community_scores, feature_ids)\n",
    "for x in dem_users[:10]:\n",
    "    print ' - ', str(x['distance'])[:4], x['screen_name'], '-', x['description'][:75]\n",
    "print ''\n",
    "\n",
    "print 'Accounts similar to the RNC:'\n",
    "rep_users = users_top_users(rep_id, user_community_scores, feature_ids)\n",
    "for x in rep_users[:10]:\n",
    "    print ' - ', str(x['distance'])[:4], x['screen_name'], '-', x['description'][:75]\n",
    "print ''"
   ]
  },
  {
   "cell_type": "markdown",
   "metadata": {},
   "source": [
    "## Accounts of interest to both sides\n",
    "\n",
    "Now lets look for accounts of interest to both the DNC and RNC, so called swing accounts:"
   ]
  },
  {
   "cell_type": "code",
   "execution_count": 6,
   "metadata": {
    "collapsed": false
   },
   "outputs": [
    {
     "name": "stdout",
     "output_type": "stream",
     "text": [
      "\n",
      "Of interest to the DNC and RNC:\n",
      "\n",
      " -  postpolitics - The latest political news and analysis from The Washington Post.\n",
      " -  DavidMDrucker - @dcexaminer Senior Congressional Correspondent covering Capitol Hill, campaigns & national political\n",
      " -  GStephanopoulos - @GMA Anchor, @ThisWeekABC Anchor and Chief Anchor of @ABC\n",
      " -  Mediaite - THE site for news, info and smart opinions about print, online and broadcast media.  -  http://t.co/\n",
      " -  TomBevanRCP - Executive Editor of RealClearPolitics.\n",
      " -  kararowland - Capitol Hill producer w/ Fox News; UVA and LSE alum. Anglophile. Also fond of cute animals, craft be\n",
      " -  katiezez - @washingtonpost White House correspondent. @nytimes Boston bureau, @AP New Jersey, @UMKnightWallace \n",
      " -  lydiadepillis - Labor and such at the @washingtonpost. E-mail: lydia.depillis@washpost.com Stuff: http://t.co/GoZozU\n",
      " -  kwelkernbc - @NBCNews White House Correspondent. Links and retweets aren't endorsements. Opinions are my own.\n",
      " -  RepTimRyan - Congressman Tim Ryan, proudly serving Ohio's 13th District in the United States Congress\n"
     ]
    }
   ],
   "source": [
    "def users_in_between(distances):\n",
    "    n_dimensions = len(distances)\n",
    "    _distances = distances[0]\n",
    "    for x in distances[1:]:\n",
    "        _distances = _distances.append(x)\n",
    "    distances = _distances\n",
    "    distances = distances.groupby('user_id', {'distances':gl.aggregate.CONCAT('distance')})\n",
    "    def between(row):\n",
    "        if len(row['distances']) != n_dimensions:\n",
    "            return None\n",
    "        x = gl.SArray(row['distances'])\n",
    "        if x.std() > .15:\n",
    "            return None\n",
    "        return x.mean() + x.std()\n",
    "    distances['distance'] = distances.apply(between)\n",
    "    distances = distances.dropna().join(gw.verticy_descriptions, {'user_id':'__id'})\n",
    "    return distances.sort('distance')\n",
    "\n",
    "print \"\\nOf interest to the DNC and RNC:\\n\"\n",
    "equidistant_users = users_in_between([dem_users, rep_users])\n",
    "for x in equidistant_users[:10]:\n",
    "    print ' - ', x['screen_name'], '-', x['description'][:100]"
   ]
  },
  {
   "cell_type": "markdown",
   "metadata": {},
   "source": [
    "## Supervised learning\n",
    "\n",
    "The focus of this notebook has been unsupervised learning, \n",
    "in a future notebook we'll look at using labeled data and network compression \n",
    "patterns to predict vertex actions."
   ]
  }
 ],
 "metadata": {
  "anaconda-cloud": {},
  "kernelspec": {
   "display_name": "Python [conda env:gl-env]",
   "language": "python",
   "name": "conda-env-gl-env-py"
  },
  "language_info": {
   "codemirror_mode": {
    "name": "ipython",
    "version": 2
   },
   "file_extension": ".py",
   "mimetype": "text/x-python",
   "name": "python",
   "nbconvert_exporter": "python",
   "pygments_lexer": "ipython2",
   "version": "2.7.12"
  }
 },
 "nbformat": 4,
 "nbformat_minor": 0
}
