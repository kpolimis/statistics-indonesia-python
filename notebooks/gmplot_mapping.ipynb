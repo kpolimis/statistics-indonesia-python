{
 "cells": [
  {
   "cell_type": "code",
   "execution_count": 1,
   "metadata": {
    "collapsed": true
   },
   "outputs": [],
   "source": [
    "import gmplot"
   ]
  },
  {
   "cell_type": "code",
   "execution_count": 2,
   "metadata": {
    "collapsed": false
   },
   "outputs": [],
   "source": [
    "gmap = gmplot.GoogleMapPlotter(37.428, -122.145, 16)\n",
    "\n",
    "#gmap.plot(latitudes, longitudes, 'cornflowerblue', edge_width=10)\n",
    "#gmap.scatter(more_lats, more_lngs, '#3B0B39', size=40, marker=False)\n",
    "#gmap.scatter(marker_lats, marker_lngs, 'k', marker=True)\n",
    "#gmap.heatmap(heat_lats, heat_lngs)\n",
    "\n",
    "gmap.draw(\"../figures/mymap.html\")"
   ]
  },
  {
   "cell_type": "code",
   "execution_count": 3,
   "metadata": {
    "collapsed": false
   },
   "outputs": [],
   "source": [
    "sf_map = gmplot.GoogleMapPlotter.from_geocode(\"San Francisco\")\n",
    "sf_map.draw(\"../figures/sfmap.html\")"
   ]
  },
  {
   "cell_type": "code",
   "execution_count": 4,
   "metadata": {
    "collapsed": false
   },
   "outputs": [
    {
     "data": {
      "text/html": [
       "<iframe src = '../figures/sfmap.html', width=700, height=350></iframe>"
      ],
      "text/plain": [
       "<IPython.core.display.HTML object>"
      ]
     },
     "metadata": {},
     "output_type": "display_data"
    }
   ],
   "source": [
    "%%HTML \n",
    "<iframe src = '../figures/sfmap.html', width=700, height=350></iframe>"
   ]
  },
  {
   "cell_type": "code",
   "execution_count": null,
   "metadata": {
    "collapsed": true
   },
   "outputs": [],
   "source": []
  }
 ],
 "metadata": {
  "kernelspec": {
   "display_name": "Python [Root]",
   "language": "python",
   "name": "Python [Root]"
  },
  "language_info": {
   "codemirror_mode": {
    "name": "ipython",
    "version": 3
   },
   "file_extension": ".py",
   "mimetype": "text/x-python",
   "name": "python",
   "nbconvert_exporter": "python",
   "pygments_lexer": "ipython3",
   "version": "3.5.2"
  }
 },
 "nbformat": 4,
 "nbformat_minor": 0
}
