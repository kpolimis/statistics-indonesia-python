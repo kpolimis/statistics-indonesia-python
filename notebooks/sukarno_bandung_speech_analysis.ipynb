{
 "cells": [
  {
   "cell_type": "code",
   "execution_count": 1,
   "metadata": {
    "collapsed": false
   },
   "outputs": [
    {
     "name": "stderr",
     "output_type": "stream",
     "text": [
      "[INFO] graphlab.cython.cy_server: GraphLab Create v2.1 started. Logging: /tmp/graphlab_server_1474432052.log\n"
     ]
    },
    {
     "name": "stdout",
     "output_type": "stream",
     "text": [
      "This non-commercial license of GraphLab Create for academic use is assigned to kpolimis@u.washington.edu and will expire on July 29, 2017.\n"
     ]
    }
   ],
   "source": [
    "import os\n",
    "import re\n",
    "import urllib2\n",
    "import pandas as pd\n",
    "import graphlab as gl\n",
    "from utils import get_Sukarno_Bandung_speech, convert_pdf_to_txt"
   ]
  },
  {
   "cell_type": "code",
   "execution_count": 2,
   "metadata": {
    "collapsed": true
   },
   "outputs": [],
   "source": [
    "os.chdir('../data/')"
   ]
  },
  {
   "cell_type": "markdown",
   "metadata": {},
   "source": [
    "## Get President Sukarno's Bandung speech\n",
    "* 18th April 1955  \n",
    "  Bandung, Indonesia"
   ]
  },
  {
   "cell_type": "code",
   "execution_count": 3,
   "metadata": {
    "collapsed": false
   },
   "outputs": [
    {
     "name": "stdout",
     "output_type": "stream",
     "text": [
      "('sukarno_bandung_speech.pdf', 'already exists')\n"
     ]
    }
   ],
   "source": [
    "get_Sukarno_Bandung_speech()"
   ]
  },
  {
   "cell_type": "markdown",
   "metadata": {},
   "source": [
    "* Convert the .pdf of speech to text"
   ]
  },
  {
   "cell_type": "code",
   "execution_count": 4,
   "metadata": {
    "collapsed": false
   },
   "outputs": [],
   "source": [
    "sukarno_bandung_speech = convert_pdf_to_txt('sukarno_bandung_speech.pdf')"
   ]
  },
  {
   "cell_type": "markdown",
   "metadata": {},
   "source": [
    "* subset the speech to remove citation material in document heading"
   ]
  },
  {
   "cell_type": "code",
   "execution_count": 5,
   "metadata": {
    "collapsed": false
   },
   "outputs": [
    {
     "data": {
      "text/plain": [
       "'Your Excellencies,Ladies and Gentlemen, Sisters and Brothers.It is my great honour and privilege on this historic day to bid you welcome to Indonesia. On behalf of the people and government of Indonesia - your hosts - I beg your understanding and forbearance if some circumstances in our country do not meet your expectation. We have, I assure you, done our best to make your stay amongst us memorable for both our guests and your hosts. We hope that the warmth of our welcome will compensate for whatever material shortcomings there may be.As I survey this hall and the distinguished guests gathered here, my heart is filled with emotion. This is the first intercontinental conference of coloured peoples in the history of mankind! I am proud that my country is your host. I am happy that you were able to accept the invitations'"
      ]
     },
     "execution_count": 5,
     "metadata": {},
     "output_type": "execute_result"
    }
   ],
   "source": [
    "sukarno_bandung_speech = sukarno_bandung_speech[1167:len(sukarno_bandung_speech)]\n",
    "sukarno_bandung_speech[0:829]"
   ]
  },
  {
   "cell_type": "markdown",
   "metadata": {},
   "source": [
    "* Convert the text to a pandas dataframe \n",
    "* easy to transform pandas dataframe to graphlab sframe\n",
    "* for more info on text analysis with turi sframes see this [documentation](https://turi.com/learn/userguide/text/intro.html)"
   ]
  },
  {
   "cell_type": "code",
   "execution_count": 6,
   "metadata": {
    "collapsed": false
   },
   "outputs": [],
   "source": [
    "speech_data = {'speech': sukarno_bandung_speech}\n",
    "index= [1]\n",
    "speech_df = pd.DataFrame(data = speech_data, index = index)"
   ]
  },
  {
   "cell_type": "code",
   "execution_count": 7,
   "metadata": {
    "collapsed": true
   },
   "outputs": [],
   "source": [
    "BASE_DIR = \"~/repos/statistics-indonesia-python/text_analysis/data\" "
   ]
  },
  {
   "cell_type": "markdown",
   "metadata": {},
   "source": [
    "## Bag-of-words"
   ]
  },
  {
   "cell_type": "markdown",
   "metadata": {},
   "source": [
    "* each document is represented by a map where the words are keys and the values are the number of occurrences.\n",
    "* use pandas data frame to create graphlab sframe\n",
    "* save sframe \n",
    "* transform sframe to bag-of-words (bow) model"
   ]
  },
  {
   "cell_type": "code",
   "execution_count": 8,
   "metadata": {
    "collapsed": false
   },
   "outputs": [],
   "source": [
    "sf = gl.SFrame(data=speech_df)\n",
    "sf.save(\"%s/sukarno_bandung.sframe\" % BASE_DIR)"
   ]
  },
  {
   "cell_type": "code",
   "execution_count": 9,
   "metadata": {
    "collapsed": false
   },
   "outputs": [
    {
     "data": {
      "text/plain": [
       "dtype: dict\n",
       "Rows: 1\n",
       "[{'united,': 2, 'dynamic': 1, 'protest': 1, 'sleep': 1, 'asian': 10, 'assembled': 2, 'whose': 3, 'skill?': 1, 'common.': 1, 'superficially': 1, 'neighbours': 1, 'under': 4, 'pride': 1, 'applied': 1, 'rescue': 1, 'oceans': 2, 'bhinneka': 1, 'colonialism?': 1, 'colonialism\"': 1, 'affairs.': 1, 'affairs,': 1, 'asia,': 1, 'today.': 2, 'today,': 1, 'colonialism.': 2, 'vast': 1, 'pooled': 1, 'dangerously.in': 1, 'skills': 1, 'problems,': 3, 'ocean,': 1, 'unifying': 1, 'force': 2, 'leaders': 5, 'me,': 1, 'second': 1, \"others'\": 1, 'others,': 1, 'others.': 1, 'even': 10, 'peace.if': 1, 'deliberate': 1, 'decisions': 1, 'asia': 21, 'characters,': 1, 'toll': 1, 'new': 12, 'seeks': 2, 'told': 1, 'beliefs,': 3, 'men': 4, 'here': 11, 'met': 1, 'china': 1, 'represented': 2, 'Çri': 1, 'worse,': 1, 'be.as': 1, 'military': 1, 'settled': 2, 'divide': 1, 'feelings': 1, 'brought': 1, 'war,': 1, 'moral': 3, 'guests': 2, 'sympathise': 1, 'spoke': 1, 'would': 6, 'nation.so,': 1, 'seventy': 1, 'statesmanship': 1, 'call': 1, 'strike': 1, 'used,': 1, 'until': 1, 'breathe': 1, 'successful': 3, 'brings': 1, 'skill,': 1, 'success!yes,': 1, 'warm': 1, 'hold': 1, 'circumstances': 1, 'locked': 1, 'society,': 1, 'rights': 3, 'imperialism': 1, 'my': 10, 'monarchism,': 1, 'give': 10, 'preserving': 1, 'india': 1, 'end': 3, 'knows': 1, 'turn': 1, 'life-line,': 1, 'travel': 1, 'how': 6, 'harmony,': 1, 'colonies,': 1, 'answer': 2, 'wisdom.i': 1, \"desmoulin's\": 1, 'minority': 1, 'away.': 1, 'weapons\"': 1, 'sikhism,': 1, 'president': 1, 'splendid': 1, 'appreciate': 1, 'ultimate': 1, 'every': 5, 'birthplaces': 2, 'tribulations': 2, 'bombers.what': 1, 'over': 4, 'encounter': 1, '\"life-line': 1, 'concepts,': 1, 'before': 4, 'injustice': 1, 'lifeline': 1, 'speaking,': 1, 'colonialism,': 1, 'eventually': 1, 'troops.instead': 1, 'history,': 1, 'history.': 2, 'effects': 1, 'they': 15, 'indulge': 1, 'one': 13, 'units,': 1, 'secured.': 1, 'several': 1, 'indivisible.': 1, 'backgrounds': 1, 'religions,': 1, 'expectation.': 1, 'victory': 1, 'each': 14, 'went': 1, 'side': 2, 'mean': 3, 'observance': 1, 'god': 4, 'particles': 1, 'detestation': 2, 'independence': 10, 'threatened': 1, 'given': 3, 'free': 4, 'principle,': 1, 'struggle': 6, 'enormous': 1, 'mankind,': 1, 'tolerant': 2, 'creeds.': 1, 'oppose': 3, \"today's\": 1, 'already': 2, 'too.': 1, 'primary': 1, 'fears,': 1, 'another': 1, 'power.': 1, 'lest,': 1, 'nation.': 1, 'aconference': 1, 'too': 1, 'mankind!': 1, 'bitter': 2, 'easy.': 1, 'wisdom': 1, 'showed': 1, 'gibraltar,': 1, 'nations': 15, 'project': 1, 'matter': 2, 'to,': 1, 'spears.': 1, 'modern': 1, 'mind': 2, 'ultimatum,': 1, 'seen': 4, 'participants,': 1, 'seek': 2, 'affairs': 3, 'strength': 6, 'do,': 1, 'world.no': 1, '-': 29, 'asians?': 1, 'do?': 2, 'forces': 4, 'hardest.': 1, 'indo-aryan': 1, 'content,': 1, 'thing,': 1, 'shall': 3, 'letter': 1, 'morality': 2, 'mobilised': 1, 'knows.': 1, 'door,': 1, 'principle': 5, 'terms,': 1, 'strong,': 1, 'came': 2, 'saying': 1, 'meetings': 1, 'ending': 1, 'religions': 4, 'cannot,': 2, 'solutions': 2, 'earth': 1, 'consciousness': 1, 'spite': 2, 'guidance': 1, \"indonesia's\": 1, 'do': 10, 'asians': 1, 'etc.': 1, 'religion.': 1, 'listened.': 2, 'religion,': 1, 'distant.religion': 1, 'countries': 11, 'public': 1, 'reawakening': 1, 'bad': 1, 'release': 1, 'them,': 1, 'ethical': 2, 'brothers,': 6, 'swept': 2, 'depends': 1, 'full': 3, 'result': 3, 'discussions': 1, 'best': 1, 'subject': 1, 'cooperation': 1, '?the': 1, 'misguided': 1, 'ethics.': 1, 'preserve': 1, 'we': 71, 'never': 2, 'nature': 1, 'however': 2, 'drew': 1, 'conflagration': 1, 'defiance': 1, '\"conventional': 1, 'motto': 2, 'distant.': 1, 'faced': 1, 'protect': 1, 'country': 5, 'countries,': 1, 'against': 6, 'propagate.': 1, 'confronted': 1, 'asked': 1, 'nay,': 1, 'diversity,': 1, 'skill': 3, 'dreams!we': 1, 'connection': 1, 'diversity\"': 1, 'speak': 4, 'conference': 22, 'debased,': 1, 'basis': 1, 'appears.': 1, 'appears,': 1, 'been': 21, 'grenades,': 1, 'recognised': 1, 'interest': 1, 'privilege': 1, 'warmth': 1, 'duties': 2, 'life': 5, 'born!our': 1, 'ruthlessness.': 1, 'confidence.': 1, 'deliberations': 1, 'evermore.yes,': 1, 'east': 2, 'doorstep,': 1, 'air': 1, 'voice': 3, 'japan.': 1, 'leaves': 1, 'seven': 1, 'is': 85, 'it': 55, 'straits': 1, 'in': 95, 'march': 1, 'dead\".': 1, 'if': 6, 'independence,': 5, 'deliberations,': 1, 'things': 4, 'make': 5, 'colonies': 1, 'passed,': 1, 'independent': 2, 'evil': 2, 'hand': 1, 'marched': 1, 'faiths': 2, 'thoughts': 2, 'degradation,': 1, 'greatest': 1, 'dominating': 1, 'the': 297, '\"colonialism': 1, '\"sturm': 1, 'just': 2, 'true': 2, 'human': 4, 'yet': 8, 'previous': 1, 'had': 5, 'passive': 1, 'spread': 2, 'perverted.': 1, 'has': 25, 'humanity': 1, 'gave': 1, 'ago,': 2, 'ago.': 1, 'fact,': 1, 'survival': 1, 'possible': 3, 'cultural': 2, 'god,': 2, 'causes,': 2, 'states,': 1, 'country.': 1, 'country,': 1, 'steps': 1, 'people': 5, 'born': 1, 'insistence': 1, 'dear': 1, 'meaning.': 1, 'pancha': 1, 'denies': 1, 'gasps': 1, 'for': 43, '/': 6, 'everything': 1, 'denied': 1, 'subordination': 1, 'asia-africa': 1, 'losing': 1, 'memorable': 1, 'conclusion.': 1, 'ensure': 2, 'considerations': 1, 'raised': 1, 'presence': 1, 'intellectual': 3, 'lies': 1, 'doctrine': 1, 'central-sumatrans,': 1, 'support': 2, 'sovereign': 2, 'fight': 2, 'jainism,': 1, 'fought': 1, 'way': 3, 'was': 20, 'war': 5, 'happy': 1, 'form': 3, 'racialism.': 1, 'so,': 1, 'ah,': 1, 'failure': 1, 'consideration.': 1, 'hall,': 1, 'invincible': 1, 'economic': 4, 'faiths.': 1, 'faiths,': 1, 'examples': 1, 'originating': 1, 'solong': 1, 'proved': 1, 'classic': 2, 'evidence': 2, 'excellencies,ladies': 1, 'meeting\".': 1, 'physical': 2, 'afternoon-tea': 1, 'no': 17, 'minds,': 1, 'generally': 1, 'republic': 1, 'interference,': 1, 'brothers': 1, 'welcome': 4, 'stick.': 1, 'understands,': 1, 'younger': 1, 'longer': 2, 'motives.how': 1, 'together': 5, 'time': 1, 'chain': 1, 'diplomacy': 1, 'skin': 1, 'battle': 3, 'soothed': 1, 'certainly': 1, '1949': 1, 'depend': 1, 'christianity,': 1, 'finally': 1, 'bombs,': 2, 'marks': 1, 'must': 7, 'advantage': 1, 'worthwhile,': 1, 'responsibility,': 1, 'individuality,': 1, 'mobilise': 2, 'word': 1, 'presented': 1, 'mark,': 1, 'determination,': 1, 'sila.': 1, 'spiritual': 2, 'regret': 1, 'obsolete': 1, 'favour': 1, 'enhanced.that,': 1, 'international': 1, 'beleaguered,': 1, 'filled': 2, 'drink,': 1, 'supporting': 1, 'capitalism,': 1, 'honour': 3, 'understanding': 7, 'water': 1, 'twentieth': 1, 'groups': 1, 'along': 1, 'appears': 1, 'change': 1, 'thirty': 1, 'reborn,': 1, 'marhaenism,': 1, 'bomb,': 1, 'usually': 1, '1,400,000,000': 1, 'unregarded,': 1, 'troops': 1, 'sake': 1, 'abroad': 1, 'territories': 1, 'live': 3, \"asia's\": 1, 'chasms': 1, 'club': 1, 'gentlemen,': 1, 'moral,': 1, 'behalf': 2, 'and,': 2, 'hope': 7, 'stature': 2, 'making': 1, 'imitation': 1, 'heart': 1, 'december': 1, 'malayans,': 1, 'allowed': 2, 'hydrogen': 1, 'africa;': 1, 'etches': 1, 'secured': 1, \"journey's\": 1, 'innumerable': 1, 'future,': 1, 'africa,': 3, 'future.': 1, 'reluctantly,': 1, 'über': 1, 'professing': 1, 'may': 12, 'matter.but': 1, 'eighty': 2, 'mankind': 5, 'such': 6, 'man': 11, 'different.': 3, 'different,': 1, 'whenever': 1, 'maybe': 1, 'futures': 1, 'darkened': 1, 'so': 14, 'african': 6, 'controlling.': 1, 'exclusive': 1, 'no.': 1, 'indeed': 2, 'midnight': 2, 'no!': 1, 'years': 7, 'stability': 1, 'argued': 1, 'still': 4, 'clash,': 1, 'thank': 1, 'torn': 1, 'dead.': 1, 'dead,': 1, 'won,': 1, 'main': 1, 'battlefield.': 1, 'horror.not': 1, 'newly-recovered': 1, 'nation': 3, 'records': 1, 'corroded': 1, 'half': 3, 'not': 44, 'now': 3, 'hall': 4, 'nor': 5, 'madurese,': 1, 'realise': 2, 'revere': 1, 'motherland': 1, 'paramount,': 1, 'morality.perhaps': 1, 'uninhibited': 1, 'therefore,': 1, 'year': 1, 'small.': 1, 'physical,': 1, 'living': 1, 'shown': 1, 'yes,': 4, 'profit': 1, 'increase': 1, 'dead.so,': 1, 'multiformity': 1, 'million': 1, 'quite': 1, 'unfriendly': 1, 'evermore,': 1, 'inevitable': 1, 'evermore.': 1, 'care': 1, 'colonialism.and': 1, 'dangerof': 1, 'british': 1, 'thing': 2, 'place': 3, 'massive': 1, 'invitation': 1, 'unborn': 2, 'think': 5, 'first': 6, 'besieged': 1, 'but,': 1, 'long': 9, '\"live': 4, 'message': 2, 'discharged': 1, 'disinterested': 5, 'little': 8, 'seas': 1, 'speaking': 1, 'much!': 1, 'eyes': 1, 'that': 83, 'spoke,': 1, 'behoves': 1, 'released': 1, 'freedomis': 1, 'them.indeed,': 1, 'than': 10, 'population': 1, 'exacted': 1, 'future': 2, 'were': 20, 'and': 202, 'sad': 1, \"humanity's\": 1, 'say': 6, 'distorted': 1, 'any': 4, 'general': 1, 'terrific': 1, 'take': 4, 'responsibility': 1, 'sure': 1, 'probed': 1, 'price': 1, 'knew': 1, 'statement:': 1, 'rehearsal': 1, 'mediterranean,': 1, 'picture': 2, 'strength,': 1, 'proud': 2, 'axe': 1, 'not,': 1, 'dispersed': 1, 'cooperation.': 1, 'fifty': 1, 'discovered': 1, 'weapons': 1, 'countryside,': 1, 'behind': 1, 'liberation': 2, 'only': 9, 'going': 1, 'life-blood': 1, 'get': 1, 'cannon': 1, 'truly': 1, 'unimportant': 1, 'cannot': 6, 'central-javanese,': 1, 'prime': 4, 'miles': 2, 'where': 1, 'physically': 1, 'eighteenth': 1, 'threats.': 1, 'job.': 1, 'concern': 2, 'unfree.': 2, 'unfree,': 1, 'ways': 2, 'representatives': 3, 'colours': 1, '3': 1, 'between': 1, 'mission,': 1, 'across': 1, 'sea,': 1, 'come': 3, 'ago.however': 1, 'many': 15, 'easy\".i': 1, 'comes': 1, 'duty': 1, 'among': 2, 'period': 1, 'dress,': 1, 'peoples,': 1, 'peoples.': 2, 'then?': 2, 'thousand': 1, 'formed': 1, 'moreover,': 1, 'spirit': 1, 'those': 5, 'sound': 1, 'myself': 1, 'life?': 1, 'ideals,': 1, 'danger.': 1, 'approachof': 1, 'life.': 1, 'toradjas,': 1, 'people\".perhaps': 1, 'then': 7, 'engaged': 1, 'condition.yes,': 1, 'different': 4, 'revolutions': 1, 'develop': 1, 'pay': 1, 'seeking': 1, 'same': 4, 'followers': 2, 'liberalism': 1, 'extended': 2, 'drives': 1, 'driven': 2, 'conference,': 3, 'conference.': 1, 'mortgaged': 1, 'stunted': 1, 'lit,': 1, 'without': 5, 'very': 4, 'convened': 1, 'bodies': 1, 'manifold': 1, 'being': 4, 'when': 8, 'guided': 4, 'actions': 1, 'fruitful,': 1, 'potentiality': 1, 'speed': 1, 'death': 2, 'either,': 1, 'bloc': 1, '4': 1, 'role': 1, 'possible;': 1, 'omnipotence': 1, 'peace?not': 1, 'delhi': 1, 'world.failure': 1, 'action.': 1, 'world': 17, 'dare': 1, 'confine': 1, 'collective': 1, 'nationalawakening': 1, 'lightning': 1, 'benefit': 1, 'always': 2, 'fulfil': 1, 'opened,': 1, 'burdens': 1, 'wrote:a': 1, 'religions.': 1, 'envoys': 1, 'toleranceand': 1, 'racial': 1, 'destroy.': 1, 'peace,': 2, 'peace.': 6, 'theirs,': 1, 'slight.': 1, 'inject': 1, 'think,': 1, 'scientific': 2, 'power': 3, 'passer\"': 1, 'five,': 1, 'colombo,': 1, 'on': 24, 'of': 269, 'violence': 1, 'discussed': 1, 'free.': 1, 'free,': 3, 'or': 10, 'road': 1, 'continent.': 1, 'your': 12, 'dawned': 1, 'there': 15, 'desert': 1, 'you,': 3, 'continents': 5, 'tranquility': 1, 'amongst': 1, 'dynamism.': 1, 'hurricanes': 1, 'land,': 1, 'practically': 1, 'sadness': 1, 'morality?': 1, 'bataks,': 1, 'burdens.sisters': 1, 'majority.and': 1, 'stock.': 1, 'am': 7, 'deep': 1, 'fellow': 1, 'as': 14, 'at': 9, 'occupied,': 1, 'again': 5, 'intercontinental': 1, 'neighbouring': 1, '5': 1, 'you': 12, 'everywhere,': 1, 'poor': 1, 'blessing': 2, 'rifles,': 1, 'sacrifices.': 1, 'much': 3, 'important': 2, 'itself,': 1, 'itself.': 2, 'building': 1, 'colonialism': 8, 'solidarity.indeed,': 1, 'bounty.': 1, 'all': 30, 'grind.': 1, 'welfare': 1, 'settlement': 1, 'religious': 2, 'children': 2, 'content': 3, 'zoroasthrianism,': 1, 'to': 103, 'arabs,': 1, 'far': 5, 'horror': 1, 'coloured': 1, 'blockade': 1, 'sun,': 1, 'broken!': 1, 'large': 2, 'these': 9, 'peopleswho': 1, 'sought.': 1, 'small': 3, 'longfellow': 1, 'past': 2, 'answer,': 1, 'peoplescould': 1, 'ourselves,': 1, 'what': 14, 'sun': 1, 'anniversary': 1, 'him.': 1, 'learned': 6, 'common.relatively': 1, 'falsify': 1, 'contrast': 1, 'power-politics': 1, 'christian': 1, 'loose': 1, 'when,': 1, 'situation': 2, 'life,': 2, 'islam,': 1, 'ahead': 1, 'experience': 2, 'emotion.': 1, 'disruption,': 1, 'social': 1, 'action': 1, 'suddenly': 1, 'responded?i': 1, 'africa': 13, 'backed': 1, '\"have': 1, 'contains': 1, 'wield': 1, 'two': 2, 'compensate': 1, '6': 1, 'more': 12, 'globe.': 1, 'controlling': 1, 'particular': 1, 'known': 1, 'recall': 3, 'abroad:': 1, 'forbearance': 1, 'history': 5, 'lives': 1, 'suggestions': 1, 'accept': 1, 'days': 2, 'states': 2, 'hand-in-hand': 1, 'attain': 1, 'firmly': 1, '!': 1, 'upbuilding': 1, 'rather': 1, 'anti-colonial': 2, 'comfort': 3, 'eat,': 1, 'civilisation': 1, 'ideologies.': 1, 'state.': 1, 'ethics': 1, 'responsibility.': 1, 'bloom': 1, 'a': 70, 'shortcomings': 1, 'bogor': 1, 'influence.': 1, 'departure': 1, 'negligible': 1, 'skilful': 1, 'privileges': 1, 'held': 2, 'through': 4, 'committed': 1, 'existence': 1, 'suffer': 1, 'its': 20, 'roots': 1, 'islam': 1, 'pray': 3, 'already.': 1, 'course,': 1, 'discussion,ways': 1, 'occasion.': 1, 'reached.': 1, 'it,': 3, 'good': 1, 'little.': 1, 'spiritual,': 1, 'food': 1, 'it?': 1, 'walls': 1, 'imperil': 1, 'great.': 1, 'guises.': 1, 'imprisoned': 1, 'system.': 1, 'fully': 1, 'truths': 1, 'burdens,': 1, 'did': 1, 'found': 2, 'heavy': 3, 'harm': 1, 'england': 1, 'hard': 1, 'house.': 1, 'idea': 1, 'united.as': 1, 'really': 1, 'since': 2, 'acting': 1, 'safety': 3, '7': 1, 'only,but': 1, 'humiliation.': 1, 'socialism,': 1, '!god': 1, 'reason': 1, 'communism,': 1, 'beginning': 1, 'thrown': 1, 'american': 1, 'threat': 2, 'black.': 1, 'sacrifice': 1, 'sundanese,': 1, 'feel': 2, 'done': 1, 'changing': 2, 'imperialism\".': 1, 'remember,': 2, 'jet': 1, '180': 1, 'roots.': 1, 'hundred': 3, 'other.': 1, 'immediate': 2, 'appreciation': 2, 'part': 10, 'impersonal': 1, 'aims': 2, 'dogs': 1, 'determined': 1, 'wastage': 1, 'declare': 1, 'exert': 1, 'experience,': 1, 'awoken': 1, 'tanks,': 1, 'lie': 1, 'also': 4, 'labour': 1, 'finding': 1, 'play': 1, 'towards': 1, 'most': 2, 'instance,': 1, 'indo-china.i': 1, 'variants.': 1, 'revolution,': 1, 'clear': 3, 'spreading.': 1, 'forerunner': 1, 'them.in': 1, 'realised': 1, 'particularly': 1, 'demanded,': 1, 'tunggal': 1, 'nations,': 3, 'nations.': 1, 'unhappy': 1, '8': 7, 'large,': 1, 'centuries.': 1, 'his': 8, 'asien'\"': 1, 'capital': 1, 'famous': 1, 'courage': 3, 'certain,': 1, 'during': 1, 'necessity.today': 1, 'cry': 1, 'freedom.': 1, 'freedom,': 1, 'sacrifices': 1, 'common': 9, 'activity': 1, 'distant': 2, 'earth.i': 1, 'achieved': 2, 'individual': 2, 'are': 49, 'sea': 2, 'outward': 1, 'smallest': 1, 'years.': 1, \"other's\": 1, 'recently': 2, 'chamber,': 1, 'attention': 1, 'achieve.': 1, 'ika': 1, 'succeed': 1, 'politics.': 1, 'thatbattle?': 1, 'both': 2, 'last': 2, 'lightly,': 1, 'secrets': 1, 'foreign': 4, 'theocracy,': 1, 'proclamation': 1, 'poverty': 3, 'sons:': 1, 'scored.': 1, 'whole': 1, 'varietyof': 1, 'live\"': 3, 'knew.': 1, 'point': 1, 'sweet': 1, 'community': 1, '21/09/2015': 6, 'political': 7, 'whom': 1, 'territory': 1, 'meeting': 3, 'nations!bismillah': 1, 'erected.': 1, 'lived': 1, 'flints': 1, 'success!': 2, 'else': 1, 'whatever': 4, 'understand': 3, 'representative': 1, 'playthings': 1, 'plants': 1, 'look': 2, 'blockaded,': 1, 'loot': 1, 'century': 1, 'itself': 1, 'serried': 1, 'asia-africa.': 1, 'away,': 1, 'came,': 1, 'peoples': 20, 'conflict': 2, 'development': 1, 'faire,': 1, 'here,': 2, 'mankind.': 1, 'moment': 3, 'purpose': 2, 'necessity': 1, 'brussels': 1, 'lash.': 1, 'changed,': 1, 'task': 2, 'people,': 2, 'brothers.it': 1, 'analysis': 1, '\"unity': 1, 'indonesia,': 3, 'indonesia.': 1, 'indo-china.look,': 1, 'lives?': 1, 'questions': 2, 'lives,': 1, 'matter?': 1, 'unto': 1, 'profitable': 1, 'thoughtlessly,': 1, 'source': 1, 'parents': 1, 'questioned': 1, 'longer.': 1, 'indonesian': 1, 'victims': 1, 'big': 1, 'bid': 2, 'we!': 1, 'matters': 2, 'distance.': 1, 'distance,': 1, 'world.yes,': 2, 'knock': 1, 'together.sisters': 1, 'pillar': 1, 'bamboo': 1, 'often': 2, 'cannon,': 1, 'some': 9, 'back': 1, '\"laissez': 1, 'urgent': 1, 'added': 1, '\"we': 1, 'curious': 1, 'ourselves': 1, 'irresistible': 1, 'religion': 4, 'bloc.': 1, 'be': 38, 'run': 1, 'continuing': 1, 'independence.indeed,': 1, 'obscured': 1, 'by': 33, 'faith': 1, 'yawn': 1, 'imperialism,': 1, 'democracy,': 1, 'voices,': 1, 'hinduism,': 1, 'into': 5, 'within': 3, 'laissez': 1, 'peoples.however,': 1, 'realisation': 1, 'question': 1, 'amidst': 1, 'heritage': 1, 'forward': 1, 'desires.all': 1, 'reassurance': 1, 'hopes': 1, 'line': 1, 'themselves': 1, 'darkness,': 1, 'alive.we': 1, 'whoare': 1, 'goodwill': 1, 'up': 3, 'us': 24, 'today': 11, 'similar': 1, 'called': 4, 'conditions,': 1, 'diplomacy,': 1, 'cost.today,': 1, 'problem.': 1, 'consulted': 1, 'warning': 1, 'peace': 5, 'spokesmen': 1, 'themselves.': 1, 'nay': 1, 'problems': 1, 'prepared': 1, 'meaning': 2, 'sides': 1, 'ago': 5, 'reasoned': 1, 'fear.': 3, 'fear,': 2, 'fresh': 2, 'independent.': 1, 'once': 4, 'code': 2, 'issued': 1, 'eradicated': 1, 'alien': 2, 'go': 2, 'considerations.you': 1, 'seemed': 1, 'wehave': 1, 'more,': 2, 'artery': 1, 'more.': 1, 'help.': 1, 'this': 34, 'us,': 4, 'canal,': 1, 'other,': 4, 'desire?': 1, 'confer.i': 1, 'acid': 1, 'frontiers.': 1, 'that,': 3, 'that.': 1, 'giving': 1, \"man's\": 2, 'indian': 1, 'independence.': 2, 'large.': 1, 'can': 23, 'body': 1, 'desires': 1, 'gathered': 6, 'jointly': 1, 'unfree.and,': 1, 'let': 15, 'others': 5, 'consideration': 1, 'globe.it': 1, 'great': 12, 'technical': 2, 'survey': 3, 'opinion': 1, 'doesits': 1, 'danger': 2, '\"underdeveloped\"': 1, 'tools': 1, 'cloud': 1, 'standing': 1, 'from': 16, 'remains': 1, 'ministers': 4, 'few': 2, 'doubt': 1, 'bonds': 4, 'forefathers': 1, 'historically': 1, 'hard.': 1, 'impress': 2, 'carrying': 1, 'gladly': 1, '\"to': 1, 'high': 1, '1945,': 1, 'us.': 5, 'ride': 1, 'confer.already': 1, 'island': 1, 'meet': 3, 'rehabilitation': 1, 'control': 4, 'seem.as': 1, 'process': 1, 'rode': 1, 'escaped': 1, 'something': 2, 'united': 5, 'destroying': 1, 'africans': 1, 'achenese,': 1, 'regions': 1, 'responsibilities': 3, 'way,in': 1, 'hosts.': 1, 'stock': 1, 'act': 4, 'tortured,': 1, 'moslims,': 1, 'ethnic': 1, 'ties': 1, 'solidarity': 2, 'gone,': 1, 'light': 5, 'struggle.': 2, 'struggle,': 1, 'divided': 2, 'course.what': 1, 'six': 1, 'existence.': 1, 'mentioned': 1, 'contaminated': 1, 'civa-buddhists,': 1, 'voiceless': 1, 'exiled,': 1, 'restrain': 1, 'world.': 6, 'world,': 4, 'delhi,': 1, 'prosper': 1, 'd'être\",': 1, 'greater': 3, 'practice': 1, 'runs': 1, 'flew': 1, 'invitations': 1, 'stabilise': 1, 'day': 2, 'masters': 1, 'truth': 1, 'shaking': 1, 'experienced': 1, 'doing': 3, 'society': 1, 'terrifically': 1, 'decided,': 1, 'our': 66, 'special': 2, 'out': 4, 'radiance.but': 1, 'colonialism.nor': 1, 'shintoism,': 1, 'men.': 1, 'wholly': 1, '\"league': 1, 'motifs': 1, 'cause': 1, 'time!': 1, 'red': 1, \"one's\": 1, 'delegates': 3, 'completely': 3, 'likelihood': 1, 'things,': 2, 'could': 3, 'diminished': 1, 'keep': 1, 'foolishly,': 1, 'south': 1, 'complete.': 1, 'succeeds': 2, 'echo': 3, 'activity.': 1, 'have,': 1, 'be,': 1, 'bears': 1, 'unknown': 1, 'conventional,': 1, 'relations': 1, 'identity;': 1, 'their': 24, 'final': 1, 'paved': 1, 'interests': 2, 'gathering,': 1, 'hardwon': 1, 'majority,': 1, 'manifestation': 1, 'remember': 3, 'isolation': 1, 'beg': 3, 'threatened.issues': 1, 'distinguished': 2, 'safeguarded': 1, 'wherever,': 1, 'buddhism,': 1, 'poisons': 1, 'have': 47, 'need': 2, 'confucianism,': 1, 'indomitable,': 1, 'able': 1, 'asian-african': 7, 'which': 39, 'unless': 5, 'other.if': 1, 'who': 4, 'basis.': 1, 'why': 2, 'so-called': 1, 'statesmen,': 2, 'concern,': 1, 'concern.': 1, 'face': 1, 'looked': 1, 'april,': 1, 'occasion': 1, 'fact': 3, 'chances': 1, 'one,': 2, 'purely': 1, 'planning': 1, 'well-being': 3, 'fear': 7, 'darkest': 1, 'true,': 1, 'based': 1, 'sparks': 1, 'with': 16, 'should': 2, 'unsuccessful,': 1, 'won': 2, 'attained': 2, 'thousands': 2, 'balinese,': 1, 'natural!': 1, 'means': 2, 'patterns.': 2, 'unchained': 1, 'bear': 3, 'ones': 1, 'words': 2, 'christians,': 1, 'suez': 1, 'areas': 1, 'itself.if': 1, 'approach': 1, 'houses.': 1, 'control,': 2, 'generations': 2, 'deceived': 1, 'exists': 1, 'national': 5, 'end.': 1, 'rather,': 1, 'state': 2, '\"raison': 1, 'progress': 1, 'generations.': 2, 'opening': 1, 'importance': 1, 'unity.': 1, 'ideas,': 2, 'precious': 1, 'spirit.i': 1, 'freely': 1, 'invited': 1, 'assure': 1, 'grain': 1, 'precedent!': 1, 'glorious': 1, 'diplomats': 1, 'walk': 1, 'together,': 3, 'done,': 1, 'choice,': 1, 'immense': 2, 'poet': 1, 'diversity': 4, 'neighbour': 1, 'an': 12, 'present': 1, 'welcoming': 1, 'decades': 1, 'will': 25, 'fault': 1, 'almost': 4, 'countries.': 2, 'earth.the': 1, 'perhaps': 4, 'began': 1, 'buddhist': 1, 'intellectually.it': 1, 'these.': 1, 'unity': 4, 'parts': 7, 'outbreak': 1, 'material': 4, 'confrontedwith': 1, 'unconventional': 1, 'upon': 6, 'effect': 1, 'sisters': 5, 'frequently': 1, 'scourges': 1, 'lanka,': 1, '1954': 1, 'i': 39, 'host.but': 1, 'colour': 1, 'indonesia': 5, 'well': 1, 'fighting': 3, 'command': 1, 'combinations.but': 1, 'enemy,': 1, 'less': 1, 'only-': 1, '1954.': 1, 'paul': 1, 'liberty.': 1, 'consume': 1, 'solidarity,': 1, 'independence.but': 1, 'host.': 1, 'discuss': 1, 'onwards': 1, 'skins,': 1, 'developments': 1, 'practise': 1, 'resolved': 1, 'government': 2, 'historic': 2, 'five': 6, 'know': 5, 'burden': 1, 'press': 2, 'better.this': 1, 'mental,': 1, 'issues,': 1, 'necessary': 2, 'like': 1, 'success': 2, 'we,': 2, 'hosts': 1, 'become': 1, 'circumstances.let': 1, 'because': 4, 'neighbours.': 1, 'ideals': 2, 'enlightened,': 1, 'past,': 1, 'avoid': 1, 'does': 2, 'sponsoring': 2, 'brotherhood.': 1, 'easily.': 1, 'about': 4, 'actual': 1, 'extension': 1, 'freedom': 1, 'mine.': 1, 'diabolical': 1, 'happen.': 1, 'outstripped': 1, 'happen,': 1, 'own': 16, 'recognise': 1, 'interdependence': 1, 'live\",': 1, 'problems.for': 1, 'biggest': 1, 'humanity.and': 1, 'but': 17, 'plague': 1, 'highest': 4, 'he': 8, 'made': 7, 'places': 2, 'wish': 1, 'variations': 1, 'pumped': 1, 'demonstrate': 1, '-how': 1, 'continents.': 3, 'contribute': 1, 'undying,': 1, 'diplomat': 1, 'variety': 2, 'other': 18, 'again.': 1, 'again,': 1, 'stay': 1, 'inspiration': 1, 'enormouschanges.': 1, 'bulwark': 1, 'ranks': 1, 'determination': 1, 'friendly,': 1, 'confess': 1}]"
      ]
     },
     "execution_count": 9,
     "metadata": {},
     "output_type": "execute_result"
    }
   ],
   "source": [
    "bow = gl.text_analytics.count_words(sf['speech'])\n",
    "sf['bow'] = bow\n",
    "bow"
   ]
  },
  {
   "cell_type": "markdown",
   "metadata": {},
   "source": [
    "## TF-IDF"
   ]
  },
  {
   "cell_type": "markdown",
   "metadata": {},
   "source": [
    "* Another useful representation for text data is called TF-IDF (term frequency - inverse document frequency).\n",
    "* This is a modification of the bag-of-words format where the counts are transformed into scores: \n",
    "    * words that are common across the document corpus are given low scores,  \n",
    "    rare words occurring often in a document are given high scores"
   ]
  },
  {
   "cell_type": "markdown",
   "metadata": {},
   "source": [
    "* TF-IDF(word,document)=N(word,document)∗log(1/∑dN(word,d)))\n",
    "    * where N(w, d) is the number of times word w occurs in document d"
   ]
  },
  {
   "cell_type": "code",
   "execution_count": 10,
   "metadata": {
    "collapsed": false
   },
   "outputs": [
    {
     "data": {
      "text/plain": [
       "dtype: dict\n",
       "Rows: 1\n",
       "[{'united,': 0.0, 'dynamic': 0.0, 'protest': 0.0, 'sleep': 0.0, 'asian': 0.0, 'assembled': 0.0, 'whose': 0.0, 'skill?': 0.0, 'common.': 0.0, 'superficially': 0.0, 'neighbours': 0.0, 'under': 0.0, 'pride': 0.0, 'applied': 0.0, 'rescue': 0.0, 'oceans': 0.0, 'bhinneka': 0.0, 'colonialism?': 0.0, 'colonialism\"': 0.0, 'affairs.': 0.0, 'affairs,': 0.0, 'asia,': 0.0, 'today.': 0.0, 'today,': 0.0, 'colonialism.': 0.0, 'vast': 0.0, 'pooled': 0.0, 'dangerously.in': 0.0, 'skills': 0.0, 'problems,': 0.0, 'ocean,': 0.0, 'unifying': 0.0, 'force': 0.0, 'leaders': 0.0, 'me,': 0.0, 'second': 0.0, \"others'\": 0.0, 'others,': 0.0, 'others.': 0.0, 'even': 0.0, 'peace.if': 0.0, 'deliberate': 0.0, 'decisions': 0.0, 'asia': 0.0, 'characters,': 0.0, 'toll': 0.0, 'new': 0.0, 'seeks': 0.0, 'told': 0.0, 'beliefs,': 0.0, 'men': 0.0, 'here': 0.0, 'met': 0.0, 'china': 0.0, 'represented': 0.0, 'Çri': 0.0, 'worse,': 0.0, 'be.as': 0.0, 'military': 0.0, 'settled': 0.0, 'divide': 0.0, 'feelings': 0.0, 'brought': 0.0, 'war,': 0.0, 'moral': 0.0, 'guests': 0.0, 'sympathise': 0.0, 'spoke': 0.0, 'would': 0.0, 'nation.so,': 0.0, 'seventy': 0.0, 'statesmanship': 0.0, 'call': 0.0, 'strike': 0.0, 'used,': 0.0, 'until': 0.0, 'breathe': 0.0, 'successful': 0.0, 'brings': 0.0, 'skill,': 0.0, 'success!yes,': 0.0, 'warm': 0.0, 'hold': 0.0, 'circumstances': 0.0, 'locked': 0.0, 'society,': 0.0, 'rights': 0.0, 'imperialism': 0.0, 'my': 0.0, 'monarchism,': 0.0, 'give': 0.0, 'preserving': 0.0, 'india': 0.0, 'end': 0.0, 'knows': 0.0, 'turn': 0.0, 'life-line,': 0.0, 'travel': 0.0, 'how': 0.0, 'harmony,': 0.0, 'colonies,': 0.0, 'answer': 0.0, 'wisdom.i': 0.0, \"desmoulin's\": 0.0, 'minority': 0.0, 'away.': 0.0, 'weapons\"': 0.0, 'sikhism,': 0.0, 'president': 0.0, 'splendid': 0.0, 'appreciate': 0.0, 'ultimate': 0.0, 'every': 0.0, 'birthplaces': 0.0, 'tribulations': 0.0, 'bombers.what': 0.0, 'over': 0.0, 'encounter': 0.0, '\"life-line': 0.0, 'concepts,': 0.0, 'before': 0.0, 'injustice': 0.0, 'lifeline': 0.0, 'speaking,': 0.0, 'colonialism,': 0.0, 'eventually': 0.0, 'troops.instead': 0.0, 'history,': 0.0, 'history.': 0.0, 'effects': 0.0, 'they': 0.0, 'indulge': 0.0, 'one': 0.0, 'units,': 0.0, 'secured.': 0.0, 'several': 0.0, 'indivisible.': 0.0, 'backgrounds': 0.0, 'religions,': 0.0, 'expectation.': 0.0, 'victory': 0.0, 'each': 0.0, 'went': 0.0, 'side': 0.0, 'mean': 0.0, 'observance': 0.0, 'god': 0.0, 'particles': 0.0, 'detestation': 0.0, 'independence': 0.0, 'threatened': 0.0, 'given': 0.0, 'free': 0.0, 'principle,': 0.0, 'struggle': 0.0, 'enormous': 0.0, 'mankind,': 0.0, 'tolerant': 0.0, 'creeds.': 0.0, 'oppose': 0.0, \"today's\": 0.0, 'already': 0.0, 'too.': 0.0, 'primary': 0.0, 'fears,': 0.0, 'another': 0.0, 'power.': 0.0, 'lest,': 0.0, 'nation.': 0.0, 'aconference': 0.0, 'too': 0.0, 'mankind!': 0.0, 'bitter': 0.0, 'easy.': 0.0, 'wisdom': 0.0, 'showed': 0.0, 'gibraltar,': 0.0, 'nations': 0.0, 'project': 0.0, 'matter': 0.0, 'to,': 0.0, 'spears.': 0.0, 'modern': 0.0, 'mind': 0.0, 'ultimatum,': 0.0, 'seen': 0.0, 'participants,': 0.0, 'seek': 0.0, 'affairs': 0.0, 'strength': 0.0, 'do,': 0.0, 'world.no': 0.0, '-': 0.0, 'asians?': 0.0, 'do?': 0.0, 'forces': 0.0, 'hardest.': 0.0, 'indo-aryan': 0.0, 'content,': 0.0, 'thing,': 0.0, 'shall': 0.0, 'letter': 0.0, 'morality': 0.0, 'mobilised': 0.0, 'knows.': 0.0, 'door,': 0.0, 'principle': 0.0, 'terms,': 0.0, 'strong,': 0.0, 'came': 0.0, 'saying': 0.0, 'meetings': 0.0, 'ending': 0.0, 'religions': 0.0, 'cannot,': 0.0, 'solutions': 0.0, 'earth': 0.0, 'consciousness': 0.0, 'spite': 0.0, 'guidance': 0.0, \"indonesia's\": 0.0, 'do': 0.0, 'asians': 0.0, 'etc.': 0.0, 'religion.': 0.0, 'listened.': 0.0, 'religion,': 0.0, 'distant.religion': 0.0, 'countries': 0.0, 'public': 0.0, 'reawakening': 0.0, 'bad': 0.0, 'release': 0.0, 'them,': 0.0, 'ethical': 0.0, 'brothers,': 0.0, 'swept': 0.0, 'depends': 0.0, 'full': 0.0, 'result': 0.0, 'discussions': 0.0, 'best': 0.0, 'subject': 0.0, 'cooperation': 0.0, '?the': 0.0, 'misguided': 0.0, 'ethics.': 0.0, 'preserve': 0.0, 'we': 0.0, 'never': 0.0, 'nature': 0.0, 'however': 0.0, 'drew': 0.0, 'conflagration': 0.0, 'defiance': 0.0, '\"conventional': 0.0, 'motto': 0.0, 'distant.': 0.0, 'faced': 0.0, 'protect': 0.0, 'country': 0.0, 'countries,': 0.0, 'against': 0.0, 'propagate.': 0.0, 'confronted': 0.0, 'asked': 0.0, 'nay,': 0.0, 'diversity,': 0.0, 'skill': 0.0, 'dreams!we': 0.0, 'connection': 0.0, 'diversity\"': 0.0, 'speak': 0.0, 'conference': 0.0, 'debased,': 0.0, 'basis': 0.0, 'appears.': 0.0, 'appears,': 0.0, 'been': 0.0, 'grenades,': 0.0, 'recognised': 0.0, 'interest': 0.0, 'privilege': 0.0, 'warmth': 0.0, 'duties': 0.0, 'life': 0.0, 'born!our': 0.0, 'ruthlessness.': 0.0, 'confidence.': 0.0, 'deliberations': 0.0, 'evermore.yes,': 0.0, 'east': 0.0, 'doorstep,': 0.0, 'air': 0.0, 'voice': 0.0, 'japan.': 0.0, 'leaves': 0.0, 'seven': 0.0, 'is': 0.0, 'it': 0.0, 'straits': 0.0, 'in': 0.0, 'march': 0.0, 'dead\".': 0.0, 'if': 0.0, 'independence,': 0.0, 'deliberations,': 0.0, 'things': 0.0, 'make': 0.0, 'colonies': 0.0, 'passed,': 0.0, 'independent': 0.0, 'evil': 0.0, 'hand': 0.0, 'marched': 0.0, 'faiths': 0.0, 'thoughts': 0.0, 'degradation,': 0.0, 'greatest': 0.0, 'dominating': 0.0, 'the': 0.0, '\"colonialism': 0.0, '\"sturm': 0.0, 'just': 0.0, 'true': 0.0, 'human': 0.0, 'yet': 0.0, 'previous': 0.0, 'had': 0.0, 'passive': 0.0, 'spread': 0.0, 'perverted.': 0.0, 'has': 0.0, 'humanity': 0.0, 'gave': 0.0, 'ago,': 0.0, 'ago.': 0.0, 'fact,': 0.0, 'survival': 0.0, 'possible': 0.0, 'cultural': 0.0, 'god,': 0.0, 'causes,': 0.0, 'states,': 0.0, 'country.': 0.0, 'country,': 0.0, 'steps': 0.0, 'people': 0.0, 'born': 0.0, 'insistence': 0.0, 'dear': 0.0, 'meaning.': 0.0, 'pancha': 0.0, 'denies': 0.0, 'gasps': 0.0, 'for': 0.0, '/': 0.0, 'everything': 0.0, 'denied': 0.0, 'subordination': 0.0, 'asia-africa': 0.0, 'losing': 0.0, 'memorable': 0.0, 'conclusion.': 0.0, 'ensure': 0.0, 'considerations': 0.0, 'raised': 0.0, 'presence': 0.0, 'intellectual': 0.0, 'lies': 0.0, 'doctrine': 0.0, 'central-sumatrans,': 0.0, 'support': 0.0, 'sovereign': 0.0, 'fight': 0.0, 'jainism,': 0.0, 'fought': 0.0, 'way': 0.0, 'was': 0.0, 'war': 0.0, 'happy': 0.0, 'form': 0.0, 'racialism.': 0.0, 'so,': 0.0, 'ah,': 0.0, 'failure': 0.0, 'consideration.': 0.0, 'hall,': 0.0, 'invincible': 0.0, 'economic': 0.0, 'faiths.': 0.0, 'faiths,': 0.0, 'examples': 0.0, 'originating': 0.0, 'solong': 0.0, 'proved': 0.0, 'classic': 0.0, 'evidence': 0.0, 'excellencies,ladies': 0.0, 'meeting\".': 0.0, 'physical': 0.0, 'afternoon-tea': 0.0, 'no': 0.0, 'minds,': 0.0, 'generally': 0.0, 'republic': 0.0, 'interference,': 0.0, 'brothers': 0.0, 'welcome': 0.0, 'stick.': 0.0, 'understands,': 0.0, 'younger': 0.0, 'longer': 0.0, 'motives.how': 0.0, 'together': 0.0, 'time': 0.0, 'chain': 0.0, 'diplomacy': 0.0, 'skin': 0.0, 'battle': 0.0, 'soothed': 0.0, 'certainly': 0.0, '1949': 0.0, 'depend': 0.0, 'christianity,': 0.0, 'finally': 0.0, 'bombs,': 0.0, 'marks': 0.0, 'must': 0.0, 'advantage': 0.0, 'worthwhile,': 0.0, 'responsibility,': 0.0, 'individuality,': 0.0, 'mobilise': 0.0, 'word': 0.0, 'presented': 0.0, 'mark,': 0.0, 'determination,': 0.0, 'sila.': 0.0, 'spiritual': 0.0, 'regret': 0.0, 'obsolete': 0.0, 'favour': 0.0, 'enhanced.that,': 0.0, 'international': 0.0, 'beleaguered,': 0.0, 'filled': 0.0, 'drink,': 0.0, 'supporting': 0.0, 'capitalism,': 0.0, 'honour': 0.0, 'understanding': 0.0, 'water': 0.0, 'twentieth': 0.0, 'groups': 0.0, 'along': 0.0, 'appears': 0.0, 'change': 0.0, 'thirty': 0.0, 'reborn,': 0.0, 'marhaenism,': 0.0, 'bomb,': 0.0, 'usually': 0.0, '1,400,000,000': 0.0, 'unregarded,': 0.0, 'troops': 0.0, 'sake': 0.0, 'abroad': 0.0, 'territories': 0.0, 'live': 0.0, \"asia's\": 0.0, 'chasms': 0.0, 'club': 0.0, 'gentlemen,': 0.0, 'moral,': 0.0, 'behalf': 0.0, 'and,': 0.0, 'hope': 0.0, 'stature': 0.0, 'making': 0.0, 'imitation': 0.0, 'heart': 0.0, 'december': 0.0, 'malayans,': 0.0, 'allowed': 0.0, 'hydrogen': 0.0, 'africa;': 0.0, 'etches': 0.0, 'secured': 0.0, \"journey's\": 0.0, 'innumerable': 0.0, 'future,': 0.0, 'africa,': 0.0, 'future.': 0.0, 'reluctantly,': 0.0, 'über': 0.0, 'professing': 0.0, 'may': 0.0, 'matter.but': 0.0, 'eighty': 0.0, 'mankind': 0.0, 'such': 0.0, 'man': 0.0, 'different.': 0.0, 'different,': 0.0, 'whenever': 0.0, 'maybe': 0.0, 'futures': 0.0, 'darkened': 0.0, 'so': 0.0, 'african': 0.0, 'controlling.': 0.0, 'exclusive': 0.0, 'no.': 0.0, 'indeed': 0.0, 'midnight': 0.0, 'no!': 0.0, 'years': 0.0, 'stability': 0.0, 'argued': 0.0, 'still': 0.0, 'clash,': 0.0, 'thank': 0.0, 'torn': 0.0, 'dead.': 0.0, 'dead,': 0.0, 'won,': 0.0, 'main': 0.0, 'battlefield.': 0.0, 'horror.not': 0.0, 'newly-recovered': 0.0, 'nation': 0.0, 'records': 0.0, 'corroded': 0.0, 'half': 0.0, 'not': 0.0, 'now': 0.0, 'hall': 0.0, 'nor': 0.0, 'madurese,': 0.0, 'realise': 0.0, 'revere': 0.0, 'motherland': 0.0, 'paramount,': 0.0, 'morality.perhaps': 0.0, 'uninhibited': 0.0, 'therefore,': 0.0, 'year': 0.0, 'small.': 0.0, 'physical,': 0.0, 'living': 0.0, 'shown': 0.0, 'yes,': 0.0, 'profit': 0.0, 'increase': 0.0, 'dead.so,': 0.0, 'multiformity': 0.0, 'million': 0.0, 'quite': 0.0, 'unfriendly': 0.0, 'evermore,': 0.0, 'inevitable': 0.0, 'evermore.': 0.0, 'care': 0.0, 'colonialism.and': 0.0, 'dangerof': 0.0, 'british': 0.0, 'thing': 0.0, 'place': 0.0, 'massive': 0.0, 'invitation': 0.0, 'unborn': 0.0, 'think': 0.0, 'first': 0.0, 'besieged': 0.0, 'but,': 0.0, 'long': 0.0, '\"live': 0.0, 'message': 0.0, 'discharged': 0.0, 'disinterested': 0.0, 'little': 0.0, 'seas': 0.0, 'speaking': 0.0, 'much!': 0.0, 'eyes': 0.0, 'that': 0.0, 'spoke,': 0.0, 'behoves': 0.0, 'released': 0.0, 'freedomis': 0.0, 'them.indeed,': 0.0, 'than': 0.0, 'population': 0.0, 'exacted': 0.0, 'future': 0.0, 'were': 0.0, 'and': 0.0, 'sad': 0.0, \"humanity's\": 0.0, 'say': 0.0, 'distorted': 0.0, 'any': 0.0, 'general': 0.0, 'terrific': 0.0, 'take': 0.0, 'responsibility': 0.0, 'sure': 0.0, 'probed': 0.0, 'price': 0.0, 'knew': 0.0, 'statement:': 0.0, 'rehearsal': 0.0, 'mediterranean,': 0.0, 'picture': 0.0, 'strength,': 0.0, 'proud': 0.0, 'axe': 0.0, 'not,': 0.0, 'dispersed': 0.0, 'cooperation.': 0.0, 'fifty': 0.0, 'discovered': 0.0, 'weapons': 0.0, 'countryside,': 0.0, 'behind': 0.0, 'liberation': 0.0, 'only': 0.0, 'going': 0.0, 'life-blood': 0.0, 'get': 0.0, 'cannon': 0.0, 'truly': 0.0, 'unimportant': 0.0, 'cannot': 0.0, 'central-javanese,': 0.0, 'prime': 0.0, 'miles': 0.0, 'where': 0.0, 'physically': 0.0, 'eighteenth': 0.0, 'threats.': 0.0, 'job.': 0.0, 'concern': 0.0, 'unfree.': 0.0, 'unfree,': 0.0, 'ways': 0.0, 'representatives': 0.0, 'colours': 0.0, '3': 0.0, 'between': 0.0, 'mission,': 0.0, 'across': 0.0, 'sea,': 0.0, 'come': 0.0, 'ago.however': 0.0, 'many': 0.0, 'easy\".i': 0.0, 'comes': 0.0, 'duty': 0.0, 'among': 0.0, 'period': 0.0, 'dress,': 0.0, 'peoples,': 0.0, 'peoples.': 0.0, 'then?': 0.0, 'thousand': 0.0, 'formed': 0.0, 'moreover,': 0.0, 'spirit': 0.0, 'those': 0.0, 'sound': 0.0, 'myself': 0.0, 'life?': 0.0, 'ideals,': 0.0, 'danger.': 0.0, 'approachof': 0.0, 'life.': 0.0, 'toradjas,': 0.0, 'people\".perhaps': 0.0, 'then': 0.0, 'engaged': 0.0, 'condition.yes,': 0.0, 'different': 0.0, 'revolutions': 0.0, 'develop': 0.0, 'pay': 0.0, 'seeking': 0.0, 'same': 0.0, 'followers': 0.0, 'liberalism': 0.0, 'extended': 0.0, 'drives': 0.0, 'driven': 0.0, 'conference,': 0.0, 'conference.': 0.0, 'mortgaged': 0.0, 'stunted': 0.0, 'lit,': 0.0, 'without': 0.0, 'very': 0.0, 'convened': 0.0, 'bodies': 0.0, 'manifold': 0.0, 'being': 0.0, 'when': 0.0, 'guided': 0.0, 'actions': 0.0, 'fruitful,': 0.0, 'potentiality': 0.0, 'speed': 0.0, 'death': 0.0, 'either,': 0.0, 'bloc': 0.0, '4': 0.0, 'role': 0.0, 'possible;': 0.0, 'omnipotence': 0.0, 'peace?not': 0.0, 'delhi': 0.0, 'world.failure': 0.0, 'action.': 0.0, 'world': 0.0, 'dare': 0.0, 'confine': 0.0, 'collective': 0.0, 'nationalawakening': 0.0, 'lightning': 0.0, 'benefit': 0.0, 'always': 0.0, 'fulfil': 0.0, 'opened,': 0.0, 'burdens': 0.0, 'wrote:a': 0.0, 'religions.': 0.0, 'envoys': 0.0, 'toleranceand': 0.0, 'racial': 0.0, 'destroy.': 0.0, 'peace,': 0.0, 'peace.': 0.0, 'theirs,': 0.0, 'slight.': 0.0, 'inject': 0.0, 'think,': 0.0, 'scientific': 0.0, 'power': 0.0, 'passer\"': 0.0, 'five,': 0.0, 'colombo,': 0.0, 'on': 0.0, 'of': 0.0, 'violence': 0.0, 'discussed': 0.0, 'free.': 0.0, 'free,': 0.0, 'or': 0.0, 'road': 0.0, 'continent.': 0.0, 'your': 0.0, 'dawned': 0.0, 'there': 0.0, 'desert': 0.0, 'you,': 0.0, 'continents': 0.0, 'tranquility': 0.0, 'amongst': 0.0, 'dynamism.': 0.0, 'hurricanes': 0.0, 'land,': 0.0, 'practically': 0.0, 'sadness': 0.0, 'morality?': 0.0, 'bataks,': 0.0, 'burdens.sisters': 0.0, 'majority.and': 0.0, 'stock.': 0.0, 'am': 0.0, 'deep': 0.0, 'fellow': 0.0, 'as': 0.0, 'at': 0.0, 'occupied,': 0.0, 'again': 0.0, 'intercontinental': 0.0, 'neighbouring': 0.0, '5': 0.0, 'you': 0.0, 'everywhere,': 0.0, 'poor': 0.0, 'blessing': 0.0, 'rifles,': 0.0, 'sacrifices.': 0.0, 'much': 0.0, 'important': 0.0, 'itself,': 0.0, 'itself.': 0.0, 'building': 0.0, 'colonialism': 0.0, 'solidarity.indeed,': 0.0, 'bounty.': 0.0, 'all': 0.0, 'grind.': 0.0, 'welfare': 0.0, 'settlement': 0.0, 'religious': 0.0, 'children': 0.0, 'content': 0.0, 'zoroasthrianism,': 0.0, 'to': 0.0, 'arabs,': 0.0, 'far': 0.0, 'horror': 0.0, 'coloured': 0.0, 'blockade': 0.0, 'sun,': 0.0, 'broken!': 0.0, 'large': 0.0, 'these': 0.0, 'peopleswho': 0.0, 'sought.': 0.0, 'small': 0.0, 'longfellow': 0.0, 'past': 0.0, 'answer,': 0.0, 'peoplescould': 0.0, 'ourselves,': 0.0, 'what': 0.0, 'sun': 0.0, 'anniversary': 0.0, 'him.': 0.0, 'learned': 0.0, 'common.relatively': 0.0, 'falsify': 0.0, 'contrast': 0.0, 'power-politics': 0.0, 'christian': 0.0, 'loose': 0.0, 'when,': 0.0, 'situation': 0.0, 'life,': 0.0, 'islam,': 0.0, 'ahead': 0.0, 'experience': 0.0, 'emotion.': 0.0, 'disruption,': 0.0, 'social': 0.0, 'action': 0.0, 'suddenly': 0.0, 'responded?i': 0.0, 'africa': 0.0, 'backed': 0.0, '\"have': 0.0, 'contains': 0.0, 'wield': 0.0, 'two': 0.0, 'compensate': 0.0, '6': 0.0, 'more': 0.0, 'globe.': 0.0, 'controlling': 0.0, 'particular': 0.0, 'known': 0.0, 'recall': 0.0, 'abroad:': 0.0, 'forbearance': 0.0, 'history': 0.0, 'lives': 0.0, 'suggestions': 0.0, 'accept': 0.0, 'days': 0.0, 'states': 0.0, 'hand-in-hand': 0.0, 'attain': 0.0, 'firmly': 0.0, '!': 0.0, 'upbuilding': 0.0, 'rather': 0.0, 'anti-colonial': 0.0, 'comfort': 0.0, 'eat,': 0.0, 'civilisation': 0.0, 'ideologies.': 0.0, 'state.': 0.0, 'ethics': 0.0, 'responsibility.': 0.0, 'bloom': 0.0, 'a': 0.0, 'shortcomings': 0.0, 'bogor': 0.0, 'influence.': 0.0, 'departure': 0.0, 'negligible': 0.0, 'skilful': 0.0, 'privileges': 0.0, 'held': 0.0, 'through': 0.0, 'committed': 0.0, 'existence': 0.0, 'suffer': 0.0, 'its': 0.0, 'roots': 0.0, 'islam': 0.0, 'pray': 0.0, 'already.': 0.0, 'course,': 0.0, 'discussion,ways': 0.0, 'occasion.': 0.0, 'reached.': 0.0, 'it,': 0.0, 'good': 0.0, 'little.': 0.0, 'spiritual,': 0.0, 'food': 0.0, 'it?': 0.0, 'walls': 0.0, 'imperil': 0.0, 'great.': 0.0, 'guises.': 0.0, 'imprisoned': 0.0, 'system.': 0.0, 'fully': 0.0, 'truths': 0.0, 'burdens,': 0.0, 'did': 0.0, 'found': 0.0, 'heavy': 0.0, 'harm': 0.0, 'england': 0.0, 'hard': 0.0, 'house.': 0.0, 'idea': 0.0, 'united.as': 0.0, 'really': 0.0, 'since': 0.0, 'acting': 0.0, 'safety': 0.0, '7': 0.0, 'only,but': 0.0, 'humiliation.': 0.0, 'socialism,': 0.0, '!god': 0.0, 'reason': 0.0, 'communism,': 0.0, 'beginning': 0.0, 'thrown': 0.0, 'american': 0.0, 'threat': 0.0, 'black.': 0.0, 'sacrifice': 0.0, 'sundanese,': 0.0, 'feel': 0.0, 'done': 0.0, 'changing': 0.0, 'imperialism\".': 0.0, 'remember,': 0.0, 'jet': 0.0, '180': 0.0, 'roots.': 0.0, 'hundred': 0.0, 'other.': 0.0, 'immediate': 0.0, 'appreciation': 0.0, 'part': 0.0, 'impersonal': 0.0, 'aims': 0.0, 'dogs': 0.0, 'determined': 0.0, 'wastage': 0.0, 'declare': 0.0, 'exert': 0.0, 'experience,': 0.0, 'awoken': 0.0, 'tanks,': 0.0, 'lie': 0.0, 'also': 0.0, 'labour': 0.0, 'finding': 0.0, 'play': 0.0, 'towards': 0.0, 'most': 0.0, 'instance,': 0.0, 'indo-china.i': 0.0, 'variants.': 0.0, 'revolution,': 0.0, 'clear': 0.0, 'spreading.': 0.0, 'forerunner': 0.0, 'them.in': 0.0, 'realised': 0.0, 'particularly': 0.0, 'demanded,': 0.0, 'tunggal': 0.0, 'nations,': 0.0, 'nations.': 0.0, 'unhappy': 0.0, '8': 0.0, 'large,': 0.0, 'centuries.': 0.0, 'his': 0.0, 'asien'\"': 0.0, 'capital': 0.0, 'famous': 0.0, 'courage': 0.0, 'certain,': 0.0, 'during': 0.0, 'necessity.today': 0.0, 'cry': 0.0, 'freedom.': 0.0, 'freedom,': 0.0, 'sacrifices': 0.0, 'common': 0.0, 'activity': 0.0, 'distant': 0.0, 'earth.i': 0.0, 'achieved': 0.0, 'individual': 0.0, 'are': 0.0, 'sea': 0.0, 'outward': 0.0, 'smallest': 0.0, 'years.': 0.0, \"other's\": 0.0, 'recently': 0.0, 'chamber,': 0.0, 'attention': 0.0, 'achieve.': 0.0, 'ika': 0.0, 'succeed': 0.0, 'politics.': 0.0, 'thatbattle?': 0.0, 'both': 0.0, 'last': 0.0, 'lightly,': 0.0, 'secrets': 0.0, 'foreign': 0.0, 'theocracy,': 0.0, 'proclamation': 0.0, 'poverty': 0.0, 'sons:': 0.0, 'scored.': 0.0, 'whole': 0.0, 'varietyof': 0.0, 'live\"': 0.0, 'knew.': 0.0, 'point': 0.0, 'sweet': 0.0, 'community': 0.0, '21/09/2015': 0.0, 'political': 0.0, 'whom': 0.0, 'territory': 0.0, 'meeting': 0.0, 'nations!bismillah': 0.0, 'erected.': 0.0, 'lived': 0.0, 'flints': 0.0, 'success!': 0.0, 'else': 0.0, 'whatever': 0.0, 'understand': 0.0, 'representative': 0.0, 'playthings': 0.0, 'plants': 0.0, 'look': 0.0, 'blockaded,': 0.0, 'loot': 0.0, 'century': 0.0, 'itself': 0.0, 'serried': 0.0, 'asia-africa.': 0.0, 'away,': 0.0, 'came,': 0.0, 'peoples': 0.0, 'conflict': 0.0, 'development': 0.0, 'faire,': 0.0, 'here,': 0.0, 'mankind.': 0.0, 'moment': 0.0, 'purpose': 0.0, 'necessity': 0.0, 'brussels': 0.0, 'lash.': 0.0, 'changed,': 0.0, 'task': 0.0, 'people,': 0.0, 'brothers.it': 0.0, 'analysis': 0.0, '\"unity': 0.0, 'indonesia,': 0.0, 'indonesia.': 0.0, 'indo-china.look,': 0.0, 'lives?': 0.0, 'questions': 0.0, 'lives,': 0.0, 'matter?': 0.0, 'unto': 0.0, 'profitable': 0.0, 'thoughtlessly,': 0.0, 'source': 0.0, 'parents': 0.0, 'questioned': 0.0, 'longer.': 0.0, 'indonesian': 0.0, 'victims': 0.0, 'big': 0.0, 'bid': 0.0, 'we!': 0.0, 'matters': 0.0, 'distance.': 0.0, 'distance,': 0.0, 'world.yes,': 0.0, 'knock': 0.0, 'together.sisters': 0.0, 'pillar': 0.0, 'bamboo': 0.0, 'often': 0.0, 'cannon,': 0.0, 'some': 0.0, 'back': 0.0, '\"laissez': 0.0, 'urgent': 0.0, 'added': 0.0, '\"we': 0.0, 'curious': 0.0, 'ourselves': 0.0, 'irresistible': 0.0, 'religion': 0.0, 'bloc.': 0.0, 'be': 0.0, 'run': 0.0, 'continuing': 0.0, 'independence.indeed,': 0.0, 'obscured': 0.0, 'by': 0.0, 'faith': 0.0, 'yawn': 0.0, 'imperialism,': 0.0, 'democracy,': 0.0, 'voices,': 0.0, 'hinduism,': 0.0, 'into': 0.0, 'within': 0.0, 'laissez': 0.0, 'peoples.however,': 0.0, 'realisation': 0.0, 'question': 0.0, 'amidst': 0.0, 'heritage': 0.0, 'forward': 0.0, 'desires.all': 0.0, 'reassurance': 0.0, 'hopes': 0.0, 'line': 0.0, 'themselves': 0.0, 'darkness,': 0.0, 'alive.we': 0.0, 'whoare': 0.0, 'goodwill': 0.0, 'up': 0.0, 'us': 0.0, 'today': 0.0, 'similar': 0.0, 'called': 0.0, 'conditions,': 0.0, 'diplomacy,': 0.0, 'cost.today,': 0.0, 'problem.': 0.0, 'consulted': 0.0, 'warning': 0.0, 'peace': 0.0, 'spokesmen': 0.0, 'themselves.': 0.0, 'nay': 0.0, 'problems': 0.0, 'prepared': 0.0, 'meaning': 0.0, 'sides': 0.0, 'ago': 0.0, 'reasoned': 0.0, 'fear.': 0.0, 'fear,': 0.0, 'fresh': 0.0, 'independent.': 0.0, 'once': 0.0, 'code': 0.0, 'issued': 0.0, 'eradicated': 0.0, 'alien': 0.0, 'go': 0.0, 'considerations.you': 0.0, 'seemed': 0.0, 'wehave': 0.0, 'more,': 0.0, 'artery': 0.0, 'more.': 0.0, 'help.': 0.0, 'this': 0.0, 'us,': 0.0, 'canal,': 0.0, 'other,': 0.0, 'desire?': 0.0, 'confer.i': 0.0, 'acid': 0.0, 'frontiers.': 0.0, 'that,': 0.0, 'that.': 0.0, 'giving': 0.0, \"man's\": 0.0, 'indian': 0.0, 'independence.': 0.0, 'large.': 0.0, 'can': 0.0, 'body': 0.0, 'desires': 0.0, 'gathered': 0.0, 'jointly': 0.0, 'unfree.and,': 0.0, 'let': 0.0, 'others': 0.0, 'consideration': 0.0, 'globe.it': 0.0, 'great': 0.0, 'technical': 0.0, 'survey': 0.0, 'opinion': 0.0, 'doesits': 0.0, 'danger': 0.0, '\"underdeveloped\"': 0.0, 'tools': 0.0, 'cloud': 0.0, 'standing': 0.0, 'from': 0.0, 'remains': 0.0, 'ministers': 0.0, 'few': 0.0, 'doubt': 0.0, 'bonds': 0.0, 'forefathers': 0.0, 'historically': 0.0, 'hard.': 0.0, 'impress': 0.0, 'carrying': 0.0, 'gladly': 0.0, '\"to': 0.0, 'high': 0.0, '1945,': 0.0, 'us.': 0.0, 'ride': 0.0, 'confer.already': 0.0, 'island': 0.0, 'meet': 0.0, 'rehabilitation': 0.0, 'control': 0.0, 'seem.as': 0.0, 'process': 0.0, 'rode': 0.0, 'escaped': 0.0, 'something': 0.0, 'united': 0.0, 'destroying': 0.0, 'africans': 0.0, 'achenese,': 0.0, 'regions': 0.0, 'responsibilities': 0.0, 'way,in': 0.0, 'hosts.': 0.0, 'stock': 0.0, 'act': 0.0, 'tortured,': 0.0, 'moslims,': 0.0, 'ethnic': 0.0, 'ties': 0.0, 'solidarity': 0.0, 'gone,': 0.0, 'light': 0.0, 'struggle.': 0.0, 'struggle,': 0.0, 'divided': 0.0, 'course.what': 0.0, 'six': 0.0, 'existence.': 0.0, 'mentioned': 0.0, 'contaminated': 0.0, 'civa-buddhists,': 0.0, 'voiceless': 0.0, 'exiled,': 0.0, 'restrain': 0.0, 'world.': 0.0, 'world,': 0.0, 'delhi,': 0.0, 'prosper': 0.0, 'd'être\",': 0.0, 'greater': 0.0, 'practice': 0.0, 'runs': 0.0, 'flew': 0.0, 'invitations': 0.0, 'stabilise': 0.0, 'day': 0.0, 'masters': 0.0, 'truth': 0.0, 'shaking': 0.0, 'experienced': 0.0, 'doing': 0.0, 'society': 0.0, 'terrifically': 0.0, 'decided,': 0.0, 'our': 0.0, 'special': 0.0, 'out': 0.0, 'radiance.but': 0.0, 'colonialism.nor': 0.0, 'shintoism,': 0.0, 'men.': 0.0, 'wholly': 0.0, '\"league': 0.0, 'motifs': 0.0, 'cause': 0.0, 'time!': 0.0, 'red': 0.0, \"one's\": 0.0, 'delegates': 0.0, 'completely': 0.0, 'likelihood': 0.0, 'things,': 0.0, 'could': 0.0, 'diminished': 0.0, 'keep': 0.0, 'foolishly,': 0.0, 'south': 0.0, 'complete.': 0.0, 'succeeds': 0.0, 'echo': 0.0, 'activity.': 0.0, 'have,': 0.0, 'be,': 0.0, 'bears': 0.0, 'unknown': 0.0, 'conventional,': 0.0, 'relations': 0.0, 'identity;': 0.0, 'their': 0.0, 'final': 0.0, 'paved': 0.0, 'interests': 0.0, 'gathering,': 0.0, 'hardwon': 0.0, 'majority,': 0.0, 'manifestation': 0.0, 'remember': 0.0, 'isolation': 0.0, 'beg': 0.0, 'threatened.issues': 0.0, 'distinguished': 0.0, 'safeguarded': 0.0, 'wherever,': 0.0, 'buddhism,': 0.0, 'poisons': 0.0, 'have': 0.0, 'need': 0.0, 'confucianism,': 0.0, 'indomitable,': 0.0, 'able': 0.0, 'asian-african': 0.0, 'which': 0.0, 'unless': 0.0, 'other.if': 0.0, 'who': 0.0, 'basis.': 0.0, 'why': 0.0, 'so-called': 0.0, 'statesmen,': 0.0, 'concern,': 0.0, 'concern.': 0.0, 'face': 0.0, 'looked': 0.0, 'april,': 0.0, 'occasion': 0.0, 'fact': 0.0, 'chances': 0.0, 'one,': 0.0, 'purely': 0.0, 'planning': 0.0, 'well-being': 0.0, 'fear': 0.0, 'darkest': 0.0, 'true,': 0.0, 'based': 0.0, 'sparks': 0.0, 'with': 0.0, 'should': 0.0, 'unsuccessful,': 0.0, 'won': 0.0, 'attained': 0.0, 'thousands': 0.0, 'balinese,': 0.0, 'natural!': 0.0, 'means': 0.0, 'patterns.': 0.0, 'unchained': 0.0, 'bear': 0.0, 'ones': 0.0, 'words': 0.0, 'christians,': 0.0, 'suez': 0.0, 'areas': 0.0, 'itself.if': 0.0, 'approach': 0.0, 'houses.': 0.0, 'control,': 0.0, 'generations': 0.0, 'deceived': 0.0, 'exists': 0.0, 'national': 0.0, 'end.': 0.0, 'rather,': 0.0, 'state': 0.0, '\"raison': 0.0, 'progress': 0.0, 'generations.': 0.0, 'opening': 0.0, 'importance': 0.0, 'unity.': 0.0, 'ideas,': 0.0, 'precious': 0.0, 'spirit.i': 0.0, 'freely': 0.0, 'invited': 0.0, 'assure': 0.0, 'grain': 0.0, 'precedent!': 0.0, 'glorious': 0.0, 'diplomats': 0.0, 'walk': 0.0, 'together,': 0.0, 'done,': 0.0, 'choice,': 0.0, 'immense': 0.0, 'poet': 0.0, 'diversity': 0.0, 'neighbour': 0.0, 'an': 0.0, 'present': 0.0, 'welcoming': 0.0, 'decades': 0.0, 'will': 0.0, 'fault': 0.0, 'almost': 0.0, 'countries.': 0.0, 'earth.the': 0.0, 'perhaps': 0.0, 'began': 0.0, 'buddhist': 0.0, 'intellectually.it': 0.0, 'these.': 0.0, 'unity': 0.0, 'parts': 0.0, 'outbreak': 0.0, 'material': 0.0, 'confrontedwith': 0.0, 'unconventional': 0.0, 'upon': 0.0, 'effect': 0.0, 'sisters': 0.0, 'frequently': 0.0, 'scourges': 0.0, 'lanka,': 0.0, '1954': 0.0, 'i': 0.0, 'host.but': 0.0, 'colour': 0.0, 'indonesia': 0.0, 'well': 0.0, 'fighting': 0.0, 'command': 0.0, 'combinations.but': 0.0, 'enemy,': 0.0, 'less': 0.0, 'only-': 0.0, '1954.': 0.0, 'paul': 0.0, 'liberty.': 0.0, 'consume': 0.0, 'solidarity,': 0.0, 'independence.but': 0.0, 'host.': 0.0, 'discuss': 0.0, 'onwards': 0.0, 'skins,': 0.0, 'developments': 0.0, 'practise': 0.0, 'resolved': 0.0, 'government': 0.0, 'historic': 0.0, 'five': 0.0, 'know': 0.0, 'burden': 0.0, 'press': 0.0, 'better.this': 0.0, 'mental,': 0.0, 'issues,': 0.0, 'necessary': 0.0, 'like': 0.0, 'success': 0.0, 'we,': 0.0, 'hosts': 0.0, 'become': 0.0, 'circumstances.let': 0.0, 'because': 0.0, 'neighbours.': 0.0, 'ideals': 0.0, 'enlightened,': 0.0, 'past,': 0.0, 'avoid': 0.0, 'does': 0.0, 'sponsoring': 0.0, 'brotherhood.': 0.0, 'easily.': 0.0, 'about': 0.0, 'actual': 0.0, 'extension': 0.0, 'freedom': 0.0, 'mine.': 0.0, 'diabolical': 0.0, 'happen.': 0.0, 'outstripped': 0.0, 'happen,': 0.0, 'own': 0.0, 'recognise': 0.0, 'interdependence': 0.0, 'live\",': 0.0, 'problems.for': 0.0, 'biggest': 0.0, 'humanity.and': 0.0, 'but': 0.0, 'plague': 0.0, 'highest': 0.0, 'he': 0.0, 'made': 0.0, 'places': 0.0, 'wish': 0.0, 'variations': 0.0, 'pumped': 0.0, 'demonstrate': 0.0, '-how': 0.0, 'continents.': 0.0, 'contribute': 0.0, 'undying,': 0.0, 'diplomat': 0.0, 'variety': 0.0, 'other': 0.0, 'again.': 0.0, 'again,': 0.0, 'stay': 0.0, 'inspiration': 0.0, 'enormouschanges.': 0.0, 'bulwark': 0.0, 'ranks': 0.0, 'determination': 0.0, 'friendly,': 0.0, 'confess': 0.0}]"
      ]
     },
     "execution_count": 10,
     "metadata": {},
     "output_type": "execute_result"
    }
   ],
   "source": [
    "sf['tfidf'] = gl.text_analytics.tf_idf(sf['bow'])\n",
    "sf['tfidf']"
   ]
  },
  {
   "cell_type": "markdown",
   "metadata": {},
   "source": [
    "## Text cleaning"
   ]
  },
  {
   "cell_type": "markdown",
   "metadata": {},
   "source": [
    "* remove all words do not occur at least twice in each document using"
   ]
  },
  {
   "cell_type": "code",
   "execution_count": 11,
   "metadata": {
    "collapsed": false
   },
   "outputs": [],
   "source": [
    "docs = sf['bow'].dict_trim_by_values(2)"
   ]
  },
  {
   "cell_type": "markdown",
   "metadata": {},
   "source": [
    "* GraphLab Create also contains a helper function called stopwords that returns a list of common words.\n",
    "We can use SArray.docs.dict_trim_by_keys to remove these words from the documents as a preprocessing step.\n",
    "NB: Currently only English words are available."
   ]
  },
  {
   "cell_type": "code",
   "execution_count": 12,
   "metadata": {
    "collapsed": true
   },
   "outputs": [],
   "source": [
    "docs = docs.dict_trim_by_keys(gl.text_analytics.stopwords(), exclude=True)"
   ]
  },
  {
   "cell_type": "code",
   "execution_count": 13,
   "metadata": {
    "collapsed": false
   },
   "outputs": [
    {
     "data": {
      "text/plain": [
       "{'\"live': 4,\n",
       " '-': 29,\n",
       " '/': 6,\n",
       " '21/09/2015': 6,\n",
       " '8': 7,\n",
       " 'achieved': 2,\n",
       " 'act': 4,\n",
       " 'affairs': 3,\n",
       " 'africa': 13,\n",
       " 'africa,': 3,\n",
       " 'african': 6,\n",
       " 'ago': 5,\n",
       " 'ago,': 2,\n",
       " 'aims': 2,\n",
       " 'alien': 2,\n",
       " 'allowed': 2,\n",
       " 'and,': 2,\n",
       " 'answer': 2,\n",
       " 'anti-colonial': 2,\n",
       " 'appreciation': 2,\n",
       " 'asia': 21,\n",
       " 'asian': 10,\n",
       " 'asian-african': 7,\n",
       " 'assembled': 2,\n",
       " 'attained': 2,\n",
       " 'battle': 3,\n",
       " 'bear': 3,\n",
       " 'beg': 3,\n",
       " 'behalf': 2,\n",
       " 'beliefs,': 3,\n",
       " 'bid': 2,\n",
       " 'birthplaces': 2,\n",
       " 'bitter': 2,\n",
       " 'blessing': 2,\n",
       " 'bombs,': 2,\n",
       " 'bonds': 4,\n",
       " 'brothers,': 6,\n",
       " 'called': 4,\n",
       " 'cannot,': 2,\n",
       " 'causes,': 2,\n",
       " 'changing': 2,\n",
       " 'children': 2,\n",
       " 'classic': 2,\n",
       " 'clear': 3,\n",
       " 'code': 2,\n",
       " 'colonialism': 8,\n",
       " 'colonialism.': 2,\n",
       " 'comfort': 3,\n",
       " 'common': 9,\n",
       " 'completely': 3,\n",
       " 'concern': 2,\n",
       " 'conference': 22,\n",
       " 'conference,': 3,\n",
       " 'conflict': 2,\n",
       " 'content': 3,\n",
       " 'continents': 5,\n",
       " 'continents.': 3,\n",
       " 'control': 4,\n",
       " 'control,': 2,\n",
       " 'countries': 11,\n",
       " 'countries.': 2,\n",
       " 'country': 5,\n",
       " 'courage': 3,\n",
       " 'cultural': 2,\n",
       " 'danger': 2,\n",
       " 'day': 2,\n",
       " 'days': 2,\n",
       " 'death': 2,\n",
       " 'delegates': 3,\n",
       " 'detestation': 2,\n",
       " 'different.': 3,\n",
       " 'disinterested': 5,\n",
       " 'distant': 2,\n",
       " 'distinguished': 2,\n",
       " 'diversity': 4,\n",
       " 'divided': 2,\n",
       " 'do?': 2,\n",
       " 'driven': 2,\n",
       " 'duties': 2,\n",
       " 'east': 2,\n",
       " 'echo': 3,\n",
       " 'economic': 4,\n",
       " 'eighty': 2,\n",
       " 'end': 3,\n",
       " 'ensure': 2,\n",
       " 'ethical': 2,\n",
       " 'evidence': 2,\n",
       " 'evil': 2,\n",
       " 'experience': 2,\n",
       " 'extended': 2,\n",
       " 'fact': 3,\n",
       " 'faiths': 2,\n",
       " 'fear': 7,\n",
       " 'fear,': 2,\n",
       " 'fear.': 3,\n",
       " 'feel': 2,\n",
       " 'fight': 2,\n",
       " 'fighting': 3,\n",
       " 'filled': 2,\n",
       " 'followers': 2,\n",
       " 'force': 2,\n",
       " 'forces': 4,\n",
       " 'foreign': 4,\n",
       " 'form': 3,\n",
       " 'found': 2,\n",
       " 'free': 4,\n",
       " 'free,': 3,\n",
       " 'fresh': 2,\n",
       " 'full': 3,\n",
       " 'future': 2,\n",
       " 'gathered': 6,\n",
       " 'generations': 2,\n",
       " 'generations.': 2,\n",
       " 'give': 10,\n",
       " 'god': 4,\n",
       " 'god,': 2,\n",
       " 'government': 2,\n",
       " 'great': 12,\n",
       " 'greater': 3,\n",
       " 'guests': 2,\n",
       " 'guided': 4,\n",
       " 'half': 3,\n",
       " 'hall': 4,\n",
       " 'heavy': 3,\n",
       " 'held': 2,\n",
       " 'here,': 2,\n",
       " 'highest': 4,\n",
       " 'historic': 2,\n",
       " 'history': 5,\n",
       " 'history.': 2,\n",
       " 'honour': 3,\n",
       " 'hope': 7,\n",
       " 'human': 4,\n",
       " 'hundred': 3,\n",
       " 'ideals': 2,\n",
       " 'ideas,': 2,\n",
       " 'immense': 2,\n",
       " 'important': 2,\n",
       " 'impress': 2,\n",
       " 'independence': 10,\n",
       " 'independence,': 5,\n",
       " 'independence.': 2,\n",
       " 'independent': 2,\n",
       " 'individual': 2,\n",
       " 'indonesia': 5,\n",
       " 'indonesia,': 3,\n",
       " 'intellectual': 3,\n",
       " 'interests': 2,\n",
       " 'it,': 3,\n",
       " 'itself.': 2,\n",
       " 'large': 2,\n",
       " 'leaders': 5,\n",
       " 'learned': 6,\n",
       " 'liberation': 2,\n",
       " 'life': 5,\n",
       " 'life,': 2,\n",
       " 'light': 5,\n",
       " 'listened.': 2,\n",
       " 'live': 3,\n",
       " 'live\"': 3,\n",
       " 'long': 9,\n",
       " 'longer': 2,\n",
       " 'made': 7,\n",
       " 'make': 5,\n",
       " 'man': 11,\n",
       " \"man's\": 2,\n",
       " 'mankind': 5,\n",
       " 'material': 4,\n",
       " 'matter': 2,\n",
       " 'matters': 2,\n",
       " 'meaning': 2,\n",
       " 'means': 2,\n",
       " 'meet': 3,\n",
       " 'meeting': 3,\n",
       " 'men': 4,\n",
       " 'message': 2,\n",
       " 'midnight': 2,\n",
       " 'miles': 2,\n",
       " 'mind': 2,\n",
       " 'ministers': 4,\n",
       " 'mobilise': 2,\n",
       " 'moment': 3,\n",
       " 'moral': 3,\n",
       " 'morality': 2,\n",
       " 'more,': 2,\n",
       " 'motto': 2,\n",
       " 'nation': 3,\n",
       " 'national': 5,\n",
       " 'nations': 15,\n",
       " 'nations,': 3,\n",
       " 'oceans': 2,\n",
       " 'one,': 2,\n",
       " 'oppose': 3,\n",
       " 'other,': 4,\n",
       " 'part': 10,\n",
       " 'parts': 7,\n",
       " 'past': 2,\n",
       " 'patterns.': 2,\n",
       " 'peace': 5,\n",
       " 'peace,': 2,\n",
       " 'peace.': 6,\n",
       " 'people': 5,\n",
       " 'people,': 2,\n",
       " 'peoples': 20,\n",
       " 'peoples.': 2,\n",
       " 'physical': 2,\n",
       " 'picture': 2,\n",
       " 'place': 3,\n",
       " 'places': 2,\n",
       " 'political': 7,\n",
       " 'poverty': 3,\n",
       " 'power': 3,\n",
       " 'pray': 3,\n",
       " 'press': 2,\n",
       " 'prime': 4,\n",
       " 'principle': 5,\n",
       " 'problems,': 3,\n",
       " 'proud': 2,\n",
       " 'purpose': 2,\n",
       " 'questions': 2,\n",
       " 'realise': 2,\n",
       " 'recall': 3,\n",
       " 'recently': 2,\n",
       " 'religion': 4,\n",
       " 'religions': 4,\n",
       " 'religious': 2,\n",
       " 'remember': 3,\n",
       " 'remember,': 2,\n",
       " 'representatives': 3,\n",
       " 'represented': 2,\n",
       " 'responsibilities': 3,\n",
       " 'result': 3,\n",
       " 'rights': 3,\n",
       " 'safety': 3,\n",
       " 'scientific': 2,\n",
       " 'sea': 2,\n",
       " 'seek': 2,\n",
       " 'seeks': 2,\n",
       " 'settled': 2,\n",
       " 'side': 2,\n",
       " 'sisters': 5,\n",
       " 'situation': 2,\n",
       " 'skill': 3,\n",
       " 'small': 3,\n",
       " 'solidarity': 2,\n",
       " 'solutions': 2,\n",
       " 'sovereign': 2,\n",
       " 'speak': 4,\n",
       " 'special': 2,\n",
       " 'spiritual': 2,\n",
       " 'spite': 2,\n",
       " 'sponsoring': 2,\n",
       " 'spread': 2,\n",
       " 'state': 2,\n",
       " 'states': 2,\n",
       " 'statesmen,': 2,\n",
       " 'stature': 2,\n",
       " 'strength': 6,\n",
       " 'struggle': 6,\n",
       " 'struggle.': 2,\n",
       " 'succeeds': 2,\n",
       " 'success': 2,\n",
       " 'success!': 2,\n",
       " 'successful': 3,\n",
       " 'support': 2,\n",
       " 'survey': 3,\n",
       " 'swept': 2,\n",
       " 'task': 2,\n",
       " 'technical': 2,\n",
       " 'that,': 3,\n",
       " 'then?': 2,\n",
       " 'thing': 2,\n",
       " 'things': 4,\n",
       " 'things,': 2,\n",
       " 'thoughts': 2,\n",
       " 'thousands': 2,\n",
       " 'threat': 2,\n",
       " 'today': 11,\n",
       " 'today.': 2,\n",
       " 'together,': 3,\n",
       " 'tolerant': 2,\n",
       " 'tribulations': 2,\n",
       " 'true': 2,\n",
       " 'unborn': 2,\n",
       " 'understand': 3,\n",
       " 'understanding': 7,\n",
       " 'unfree.': 2,\n",
       " 'united': 5,\n",
       " 'united,': 2,\n",
       " 'unity': 4,\n",
       " 'us,': 4,\n",
       " 'us.': 5,\n",
       " 'variety': 2,\n",
       " 'voice': 3,\n",
       " 'war': 5,\n",
       " 'ways': 2,\n",
       " 'we,': 2,\n",
       " 'well-being': 3,\n",
       " 'won': 2,\n",
       " 'words': 2,\n",
       " 'world': 17,\n",
       " 'world,': 4,\n",
       " 'world.': 6,\n",
       " 'world.yes,': 2,\n",
       " 'years': 7,\n",
       " 'yes,': 4,\n",
       " 'you,': 3}"
      ]
     },
     "execution_count": 13,
     "metadata": {},
     "output_type": "execute_result"
    }
   ],
   "source": [
    "docs[0]"
   ]
  },
  {
   "cell_type": "markdown",
   "metadata": {},
   "source": [
    "* the tokenizer transforms each row into an ordered list of strings that represents the a simpler version of the Penn-Tree-Bank-style (PTB-style) tokenization of that row's document. \n",
    "* The representation of a document provided by PTB-style of tokenization is essential for sequence-tagging, parsing, bag-of-words treatment, and any text analytics task that requires word-level granularity. For a description of this style of tokenization, see [tokenization example](https://www.cis.upenn.edu/~treebank/tokenization.html.)"
   ]
  },
  {
   "cell_type": "code",
   "execution_count": 14,
   "metadata": {
    "collapsed": false
   },
   "outputs": [
    {
     "data": {
      "text/html": [
       "<div style=\"max-height:1000px;max-width:1500px;overflow:auto;\"><table frame=\"box\" rules=\"cols\">\n",
       "    <tr>\n",
       "        <th style=\"padding-left: 1em; padding-right: 1em; text-align: center\">tokens</th>\n",
       "    </tr>\n",
       "    <tr>\n",
       "        <td style=\"padding-left: 1em; padding-right: 1em; text-align: center; vertical-align: top\">[Your,<br>Excellencies,Ladies,  ...</td>\n",
       "    </tr>\n",
       "</table>\n",
       "[1 rows x 1 columns]<br/>\n",
       "</div>"
      ],
      "text/plain": [
       "Columns:\n",
       "\ttokens\tlist\n",
       "\n",
       "Rows: 1\n",
       "\n",
       "Data:\n",
       "+-------------------------------+\n",
       "|             tokens            |\n",
       "+-------------------------------+\n",
       "| [Your, Excellencies,Ladies... |\n",
       "+-------------------------------+\n",
       "[1 rows x 1 columns]"
      ]
     },
     "execution_count": 14,
     "metadata": {},
     "output_type": "execute_result"
    }
   ],
   "source": [
    "tokenized_speech = gl.SFrame()\n",
    "tokenized_speech['tokens'] = gl.text_analytics.tokenize(sf['speech'])\n",
    "tokenized_speech"
   ]
  },
  {
   "cell_type": "markdown",
   "metadata": {},
   "source": [
    "## Part of Speech Extraction"
   ]
  },
  {
   "cell_type": "markdown",
   "metadata": {},
   "source": [
    "* Highlight unique nouns in your text, identify adjectives with the high sentiment scores, or pull out nouns to generate candidate entities. \n",
    "The extract_parts_of_speech method parses the text in each element and extracts the words that are a given part of speech. \n",
    "For instance, to find all instances of adjectives:"
   ]
  },
  {
   "cell_type": "code",
   "execution_count": 15,
   "metadata": {
    "collapsed": false
   },
   "outputs": [
    {
     "data": {
      "text/html": [
       "<div style=\"max-height:1000px;max-width:1500px;overflow:auto;\"><table frame=\"box\" rules=\"cols\">\n",
       "    <tr>\n",
       "        <th style=\"padding-left: 1em; padding-right: 1em; text-align: center\">adjectives</th>\n",
       "    </tr>\n",
       "    <tr>\n",
       "        <td style=\"padding-left: 1em; padding-right: 1em; text-align: center; vertical-align: top\">{'ADJ': {'exclusive': 1,<br>'all': 7, 'manifold': 1, ...</td>\n",
       "    </tr>\n",
       "</table>\n",
       "[1 rows x 1 columns]<br/>\n",
       "</div>"
      ],
      "text/plain": [
       "Columns:\n",
       "\tadjectives\tdict\n",
       "\n",
       "Rows: 1\n",
       "\n",
       "Data:\n",
       "+-------------------------------+\n",
       "|           adjectives          |\n",
       "+-------------------------------+\n",
       "| {'ADJ': {'exclusive': 1, '... |\n",
       "+-------------------------------+\n",
       "[1 rows x 1 columns]"
      ]
     },
     "execution_count": 15,
     "metadata": {},
     "output_type": "execute_result"
    }
   ],
   "source": [
    "parts_of_speech = gl.SFrame()\n",
    "parts_of_speech['adjectives'] = gl.text_analytics.extract_parts_of_speech(sf['speech'],\n",
    "                                                  chosen_pos=[gl.text_analytics.PartOfSpeech.ADJ])\n",
    "parts_of_speech"
   ]
  },
  {
   "cell_type": "markdown",
   "metadata": {},
   "source": [
    "## Sentence Splitting"
   ]
  },
  {
   "cell_type": "markdown",
   "metadata": {},
   "source": [
    "* The sentence splitter splits by sentence and outputs a list of sentences. \n",
    "This aids in anlysis at the sentence level.\n",
    "For example, you may want a sentiment score for each sentence in a document.\n",
    "The following command accomplishes this for you:"
   ]
  },
  {
   "cell_type": "code",
   "execution_count": 16,
   "metadata": {
    "collapsed": false
   },
   "outputs": [
    {
     "data": {
      "text/html": [
       "<div style=\"max-height:1000px;max-width:1500px;overflow:auto;\"><table frame=\"box\" rules=\"cols\">\n",
       "    <tr>\n",
       "        <th style=\"padding-left: 1em; padding-right: 1em; text-align: center\">sent</th>\n",
       "    </tr>\n",
       "    <tr>\n",
       "        <td style=\"padding-left: 1em; padding-right: 1em; text-align: center; vertical-align: top\">[Your Excellencies,Ladies<br>and Gentlemen, Sisters ...</td>\n",
       "    </tr>\n",
       "</table>\n",
       "[1 rows x 1 columns]<br/>\n",
       "</div>"
      ],
      "text/plain": [
       "Columns:\n",
       "\tsent\tlist\n",
       "\n",
       "Rows: 1\n",
       "\n",
       "Data:\n",
       "+-------------------------------+\n",
       "|              sent             |\n",
       "+-------------------------------+\n",
       "| [Your Excellencies,Ladies ... |\n",
       "+-------------------------------+\n",
       "[1 rows x 1 columns]"
      ]
     },
     "execution_count": 16,
     "metadata": {},
     "output_type": "execute_result"
    }
   ],
   "source": [
    "sentences = gl.SFrame()\n",
    "sentences['sent'] = gl.text_analytics.split_by_sentence(sf['speech'])\n",
    "sentences"
   ]
  },
  {
   "cell_type": "markdown",
   "metadata": {},
   "source": [
    "## Create a topic model"
   ]
  },
  {
   "cell_type": "code",
   "execution_count": 17,
   "metadata": {
    "collapsed": false
   },
   "outputs": [],
   "source": [
    "docs = gl.text_analytics.count_words(sf['speech'])\n",
    "docs = docs.dict_trim_by_keys(gl.text_analytics.stopwords(), exclude=True)"
   ]
  },
  {
   "cell_type": "markdown",
   "metadata": {},
   "source": [
    "* Learn topic model"
   ]
  },
  {
   "cell_type": "code",
   "execution_count": 18,
   "metadata": {
    "collapsed": false
   },
   "outputs": [
    {
     "data": {
      "text/html": [
       "<pre>Learning a topic model</pre>"
      ],
      "text/plain": [
       "Learning a topic model"
      ]
     },
     "metadata": {},
     "output_type": "display_data"
    },
    {
     "data": {
      "text/html": [
       "<pre>       Number of documents         1</pre>"
      ],
      "text/plain": [
       "       Number of documents         1"
      ]
     },
     "metadata": {},
     "output_type": "display_data"
    },
    {
     "data": {
      "text/html": [
       "<pre>           Vocabulary size      1353</pre>"
      ],
      "text/plain": [
       "           Vocabulary size      1353"
      ]
     },
     "metadata": {},
     "output_type": "display_data"
    },
    {
     "data": {
      "text/html": [
       "<pre>   Running collapsed Gibbs sampling</pre>"
      ],
      "text/plain": [
       "   Running collapsed Gibbs sampling"
      ]
     },
     "metadata": {},
     "output_type": "display_data"
    },
    {
     "data": {
      "text/html": [
       "<pre>+-----------+---------------+----------------+-----------------+</pre>"
      ],
      "text/plain": [
       "+-----------+---------------+----------------+-----------------+"
      ]
     },
     "metadata": {},
     "output_type": "display_data"
    },
    {
     "data": {
      "text/html": [
       "<pre>| Iteration | Elapsed Time  | Tokens/Second  | Est. Perplexity |</pre>"
      ],
      "text/plain": [
       "| Iteration | Elapsed Time  | Tokens/Second  | Est. Perplexity |"
      ]
     },
     "metadata": {},
     "output_type": "display_data"
    },
    {
     "data": {
      "text/html": [
       "<pre>+-----------+---------------+----------------+-----------------+</pre>"
      ],
      "text/plain": [
       "+-----------+---------------+----------------+-----------------+"
      ]
     },
     "metadata": {},
     "output_type": "display_data"
    },
    {
     "data": {
      "text/html": [
       "<pre>| 10        | 11.499ms      | 1.39198e+06    | 0               |</pre>"
      ],
      "text/plain": [
       "| 10        | 11.499ms      | 1.39198e+06    | 0               |"
      ]
     },
     "metadata": {},
     "output_type": "display_data"
    },
    {
     "data": {
      "text/html": [
       "<pre>+-----------+---------------+----------------+-----------------+</pre>"
      ],
      "text/plain": [
       "+-----------+---------------+----------------+-----------------+"
      ]
     },
     "metadata": {},
     "output_type": "display_data"
    }
   ],
   "source": [
    "model = gl.topic_model.create(docs)"
   ]
  },
  {
   "cell_type": "code",
   "execution_count": 19,
   "metadata": {
    "collapsed": false
   },
   "outputs": [
    {
     "name": "stdout",
     "output_type": "stream",
     "text": [
      "+-------+---------------+-----------------+\n",
      "| topic |      word     |      score      |\n",
      "+-------+---------------+-----------------+\n",
      "|   0   |   conference  | 0.0566231104279 |\n",
      "|   0   |    nations    | 0.0386881885729 |\n",
      "|   0   |      man      | 0.0284396617986 |\n",
      "|   0   |     asian     |  0.025877530105 |\n",
      "|   0   |   21/09/2015  | 0.0156290033308 |\n",
      "|   1   |     world     | 0.0461787739671 |\n",
      "|   1   |   countries   | 0.0299756953821 |\n",
      "|   1   |      long     | 0.0245746691871 |\n",
      "|   1   |     parts     | 0.0191736429922 |\n",
      "|   1   | asian-african | 0.0191736429922 |\n",
      "+-------+---------------+-----------------+\n",
      "[50 rows x 3 columns]\n",
      "Note: Only the head of the SFrame is printed.\n",
      "You can use print_rows(num_rows=m, num_columns=n) to print more rows and columns.\n"
     ]
    }
   ],
   "source": [
    "print model.get_topics()"
   ]
  },
  {
   "cell_type": "code",
   "execution_count": 20,
   "metadata": {
    "collapsed": false
   },
   "outputs": [
    {
     "name": "stdout",
     "output_type": "stream",
     "text": [
      "+-------------------------------+\n",
      "|             words             |\n",
      "+-------------------------------+\n",
      "| [conference, nations, man,... |\n",
      "| [world, countries, long, p... |\n",
      "| [-, today, colonialism, ma... |\n",
      "| [8, strength, history, con... |\n",
      "| [fear, years, hope, learne... |\n",
      "| [asia, peoples, part, bear... |\n",
      "| [great, us., other,, highe... |\n",
      "| [africa, give, independenc... |\n",
      "| [political, ago, sisters, ... |\n",
      "| [common, world., disintere... |\n",
      "+-------------------------------+\n",
      "[10 rows x 1 columns]\n",
      "\n"
     ]
    }
   ],
   "source": [
    "print model.get_topics(output_type='topic_words')"
   ]
  },
  {
   "cell_type": "code",
   "execution_count": 21,
   "metadata": {
    "collapsed": false
   },
   "outputs": [
    {
     "data": {
      "text/plain": [
       "Class                          : TopicModel\n",
       "\n",
       "Schema\n",
       "------\n",
       "Vocabulary Size                : 1353\n",
       "\n",
       "Settings\n",
       "--------\n",
       "Number of Topics               : 10\n",
       "alpha                          : 5.0\n",
       "beta                           : 0.1\n",
       "Iterations                     : 10\n",
       "Training time                  : 1.0117\n",
       "Verbose                        : False\n",
       "\n",
       "Accessible fields             : \n",
       "m['topics']                   : An SFrame containing the topics.\n",
       "m['vocabulary']               : An SArray containing the words in the vocabulary.\n",
       "Useful methods                : \n",
       "m.get_topics()                : Get the most probable words per topic.\n",
       "m.predict(new_docs)           : Make predictions for new documents."
      ]
     },
     "execution_count": 21,
     "metadata": {},
     "output_type": "execute_result"
    }
   ],
   "source": [
    "model"
   ]
  },
  {
   "cell_type": "markdown",
   "metadata": {},
   "source": [
    "* To predict the topic of a given document, one can get an SArray of integers containing the most probable topic ids:\n"
   ]
  },
  {
   "cell_type": "code",
   "execution_count": 22,
   "metadata": {
    "collapsed": true
   },
   "outputs": [],
   "source": [
    "pred = model.predict(docs)"
   ]
  },
  {
   "cell_type": "markdown",
   "metadata": {},
   "source": [
    "* Combining the above method with standard SFrame capabilities, one can use predict to find documents related to a particular topic\n"
   ]
  },
  {
   "cell_type": "code",
   "execution_count": 23,
   "metadata": {
    "collapsed": true
   },
   "outputs": [],
   "source": [
    "docs_in_topic_0 = docs[model.predict(docs) == 0]"
   ]
  },
  {
   "cell_type": "code",
   "execution_count": 24,
   "metadata": {
    "collapsed": false
   },
   "outputs": [
    {
     "data": {
      "text/plain": [
       "dtype: array\n",
       "Rows: 1\n",
       "[array('d', [0.11395881006864989, 0.11853546910755149, 0.11121281464530892, 0.0874141876430206, 0.1080091533180778, 0.10205949656750572, 0.07871853546910755, 0.08421052631578947, 0.0988558352402746, 0.09702517162471395])]"
      ]
     },
     "execution_count": 24,
     "metadata": {},
     "output_type": "execute_result"
    }
   ],
   "source": [
    "pred = model.predict(docs, output_type='probability')\n",
    "pred"
   ]
  },
  {
   "cell_type": "code",
   "execution_count": 25,
   "metadata": {
    "collapsed": false
   },
   "outputs": [
    {
     "data": {
      "text/plain": [
       "dtype: str\n",
       "Rows: 1353\n",
       "['!', 'speed', 'nations!bismillah', 'opened,', 'declare', 'million', 'president', 'africans', 'asians', 'majority.and', \"humanity's\", 'degradation,', 'liberation', 'solong', 'diminished', 'blessing', 'remember', 'future.', 'circumstances.let', 'flints', 'strike', 'deliberations', 'hard.', 'easy.', '\"to', 'sons:', 'attain', 'safeguarded', 'evidence', 'afternoon-tea', 'abroad:', 'lie', 'falsify', 'achieve.', 'worthwhile,', 'happen,', 'problems', \"other's\", 'understand', 'making', 'other.if', \"others'\", 'profit', 'roots.', 'experience,', 'neighbours.', 'confidence.', 'warm', 'unfriendly', 'born', 'looked', 'world.failure', 'presence', 'likelihood', 'pillar', 'welfare', 'effect', 'harmony,', 'way,in', 'hold', 'discussion,ways', 'friendly,', 'brings', 'diversity\"', 'nation.so,', 'motto', 'god,', 'toradjas,', 'bhinneka', 'madurese,', 'bataks,', 'achenese,', 'units,', 'ethnic', 'moreover,', 'christians,', 'wehave', 'acting', 'lives,', 'large', 'hardwon', 'bulwark', 'source', 'them,', 'fulfil', 'steps', 'purpose', 'debased,', 'central-sumatrans,', 'done,', 'goodwill', 'duty', 'doesits', 'together.sisters', 'everywhere,', 'consideration', 'toleranceand', 'message', 'desires', 'truths', ... ]"
      ]
     },
     "execution_count": 25,
     "metadata": {},
     "output_type": "execute_result"
    }
   ],
   "source": [
    "model['vocabulary']"
   ]
  },
  {
   "cell_type": "code",
   "execution_count": 26,
   "metadata": {
    "collapsed": false
   },
   "outputs": [
    {
     "data": {
      "text/html": [
       "<div style=\"max-height:1000px;max-width:1500px;overflow:auto;\"><table frame=\"box\" rules=\"cols\">\n",
       "    <tr>\n",
       "        <th style=\"padding-left: 1em; padding-right: 1em; text-align: center\">topic_probabilities</th>\n",
       "        <th style=\"padding-left: 1em; padding-right: 1em; text-align: center\">vocabulary</th>\n",
       "    </tr>\n",
       "    <tr>\n",
       "        <td style=\"padding-left: 1em; padding-right: 1em; text-align: center; vertical-align: top\">[0.00281834486293,<br>0.000270051309749, ...</td>\n",
       "        <td style=\"padding-left: 1em; padding-right: 1em; text-align: center; vertical-align: top\">!</td>\n",
       "    </tr>\n",
       "    <tr>\n",
       "        <td style=\"padding-left: 1em; padding-right: 1em; text-align: center; vertical-align: top\">[0.000256213169357,<br>0.000270051309749, ...</td>\n",
       "        <td style=\"padding-left: 1em; padding-right: 1em; text-align: center; vertical-align: top\">speed</td>\n",
       "    </tr>\n",
       "    <tr>\n",
       "        <td style=\"padding-left: 1em; padding-right: 1em; text-align: center; vertical-align: top\">[0.000256213169357,<br>0.000270051309749, ...</td>\n",
       "        <td style=\"padding-left: 1em; padding-right: 1em; text-align: center; vertical-align: top\">nations!bismillah</td>\n",
       "    </tr>\n",
       "    <tr>\n",
       "        <td style=\"padding-left: 1em; padding-right: 1em; text-align: center; vertical-align: top\">[0.000256213169357,<br>0.000270051309749, ...</td>\n",
       "        <td style=\"padding-left: 1em; padding-right: 1em; text-align: center; vertical-align: top\">opened,</td>\n",
       "    </tr>\n",
       "    <tr>\n",
       "        <td style=\"padding-left: 1em; padding-right: 1em; text-align: center; vertical-align: top\">[0.000256213169357,<br>0.000270051309749, ...</td>\n",
       "        <td style=\"padding-left: 1em; padding-right: 1em; text-align: center; vertical-align: top\">declare</td>\n",
       "    </tr>\n",
       "    <tr>\n",
       "        <td style=\"padding-left: 1em; padding-right: 1em; text-align: center; vertical-align: top\">[0.00281834486293,<br>0.000270051309749, ...</td>\n",
       "        <td style=\"padding-left: 1em; padding-right: 1em; text-align: center; vertical-align: top\">million</td>\n",
       "    </tr>\n",
       "    <tr>\n",
       "        <td style=\"padding-left: 1em; padding-right: 1em; text-align: center; vertical-align: top\">[0.000256213169357,<br>0.000270051309749, ...</td>\n",
       "        <td style=\"padding-left: 1em; padding-right: 1em; text-align: center; vertical-align: top\">president</td>\n",
       "    </tr>\n",
       "    <tr>\n",
       "        <td style=\"padding-left: 1em; padding-right: 1em; text-align: center; vertical-align: top\">[0.000256213169357,<br>0.000270051309749, ...</td>\n",
       "        <td style=\"padding-left: 1em; padding-right: 1em; text-align: center; vertical-align: top\">africans</td>\n",
       "    </tr>\n",
       "    <tr>\n",
       "        <td style=\"padding-left: 1em; padding-right: 1em; text-align: center; vertical-align: top\">[0.000256213169357,<br>0.000270051309749, ...</td>\n",
       "        <td style=\"padding-left: 1em; padding-right: 1em; text-align: center; vertical-align: top\">asians</td>\n",
       "    </tr>\n",
       "    <tr>\n",
       "        <td style=\"padding-left: 1em; padding-right: 1em; text-align: center; vertical-align: top\">[0.000256213169357,<br>0.000270051309749, ...</td>\n",
       "        <td style=\"padding-left: 1em; padding-right: 1em; text-align: center; vertical-align: top\">majority.and</td>\n",
       "    </tr>\n",
       "</table>\n",
       "[1353 rows x 2 columns]<br/>Note: Only the head of the SFrame is printed.<br/>You can use print_rows(num_rows=m, num_columns=n) to print more rows and columns.\n",
       "</div>"
      ],
      "text/plain": [
       "Columns:\n",
       "\ttopic_probabilities\tarray\n",
       "\tvocabulary\tstr\n",
       "\n",
       "Rows: 1353\n",
       "\n",
       "Data:\n",
       "+-------------------------------+-------------------+\n",
       "|      topic_probabilities      |     vocabulary    |\n",
       "+-------------------------------+-------------------+\n",
       "| [0.00281834486293, 0.00027... |         !         |\n",
       "| [0.000256213169357, 0.0002... |       speed       |\n",
       "| [0.000256213169357, 0.0002... | nations!bismillah |\n",
       "| [0.000256213169357, 0.0002... |      opened,      |\n",
       "| [0.000256213169357, 0.0002... |      declare      |\n",
       "| [0.00281834486293, 0.00027... |      million      |\n",
       "| [0.000256213169357, 0.0002... |     president     |\n",
       "| [0.000256213169357, 0.0002... |      africans     |\n",
       "| [0.000256213169357, 0.0002... |       asians      |\n",
       "| [0.000256213169357, 0.0002... |    majority.and   |\n",
       "+-------------------------------+-------------------+\n",
       "[1353 rows x 2 columns]\n",
       "Note: Only the head of the SFrame is printed.\n",
       "You can use print_rows(num_rows=m, num_columns=n) to print more rows and columns."
      ]
     },
     "execution_count": 26,
     "metadata": {},
     "output_type": "execute_result"
    }
   ],
   "source": [
    "model['topics']"
   ]
  },
  {
   "cell_type": "markdown",
   "metadata": {},
   "source": [
    "* save and load models"
   ]
  },
  {
   "cell_type": "code",
   "execution_count": 27,
   "metadata": {
    "collapsed": true
   },
   "outputs": [],
   "source": [
    "os.chdir(\"../text_analysis/data/\")"
   ]
  },
  {
   "cell_type": "code",
   "execution_count": 28,
   "metadata": {
    "collapsed": false
   },
   "outputs": [],
   "source": [
    "model.save('sukarno_bandung_model')\n",
    "sukarno_model = gl.load_model('sukarno_bandung_model')"
   ]
  },
  {
   "cell_type": "code",
   "execution_count": null,
   "metadata": {
    "collapsed": true
   },
   "outputs": [],
   "source": []
  }
 ],
 "metadata": {
  "anaconda-cloud": {},
  "kernelspec": {
   "display_name": "Python [gl-env]",
   "language": "python",
   "name": "Python [gl-env]"
  },
  "language_info": {
   "codemirror_mode": {
    "name": "ipython",
    "version": 2
   },
   "file_extension": ".py",
   "mimetype": "text/x-python",
   "name": "python",
   "nbconvert_exporter": "python",
   "pygments_lexer": "ipython2",
   "version": "2.7.12"
  }
 },
 "nbformat": 4,
 "nbformat_minor": 0
}
