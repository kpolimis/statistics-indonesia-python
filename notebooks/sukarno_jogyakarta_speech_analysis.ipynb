{
 "cells": [
  {
   "cell_type": "code",
   "execution_count": 1,
   "metadata": {
    "collapsed": false
   },
   "outputs": [
    {
     "name": "stderr",
     "output_type": "stream",
     "text": [
      "[INFO] graphlab.cython.cy_server: GraphLab Create v2.1 started. Logging: /tmp/graphlab_server_1470679441.log\n"
     ]
    },
    {
     "name": "stdout",
     "output_type": "stream",
     "text": [
      "This non-commercial license of GraphLab Create for academic use is assigned to kpolimis@u.washington.edu and will expire on July 29, 2017.\n"
     ]
    }
   ],
   "source": [
    "import os\n",
    "import re\n",
    "import pdfkit\n",
    "import urllib2\n",
    "import pandas as pd\n",
    "import graphlab as gl\n",
    "import requests\n",
    "from bs4 import BeautifulSoup\n",
    "from bs4 import UnicodeDammit\n",
    "from bps_utils import get_Sukarno_Bandung_speech, convert_pdf_to_txt"
   ]
  },
  {
   "cell_type": "code",
   "execution_count": 2,
   "metadata": {
    "collapsed": true
   },
   "outputs": [],
   "source": [
    "os.chdir('../data/')"
   ]
  },
  {
   "cell_type": "markdown",
   "metadata": {},
   "source": [
    "## Get President Sukarno's Jogjakarta Speech\n",
    "* [19th December 1961](http://papuaweb.org/goi/pidato/1961-12-jogyakarta.html)  \n",
    "  Jogjakarta, Indonesia"
   ]
  },
  {
   "cell_type": "markdown",
   "metadata": {},
   "source": [
    "* Chris Albon tutorial on [beautiful soup](http://chrisalbon.com/python/beautiful_soup_html_basics.html)"
   ]
  },
  {
   "cell_type": "code",
   "execution_count": 3,
   "metadata": {
    "collapsed": false
   },
   "outputs": [],
   "source": [
    "sukarno_jogyakarta_url = 'http://papuaweb.org/goi/pidato/1961-12-jogyakarta.html'\n",
    "sukarno_jogyakarta_url_requests = requests.get(sukarno_jogyakarta_url)\n",
    "sukarno_jogyakarta_url_html_content = sukarno_jogyakarta_url_requests.text\n",
    "sukarno_jogyakarta_url_soup = BeautifulSoup(sukarno_jogyakarta_url_html_content, 'lxml')\n",
    "sukarno_jogyakarta_speech_text = sukarno_jogyakarta_url_soup.get_text().encode('utf8').replace('\\n\\n','')\n",
    "sukarno_jogyakarta_speech_unicode = UnicodeDammit(sukarno_jogyakarta_speech_text, [\"ascii\"])\n",
    "sukarno_jogyakarta_speech = sukarno_jogyakarta_speech_unicode.unicode_markup.encode('ascii', 'ignore').decode('ascii')\n",
    "sukarno_jogyakarta_speech = sukarno_jogyakarta_speech.replace(\"\\n\",\"\").replace(\"\\r\", \"\")"
   ]
  },
  {
   "cell_type": "markdown",
   "metadata": {},
   "source": [
    "* subset the speech to remove citation material in document heading and ending"
   ]
  },
  {
   "cell_type": "code",
   "execution_count": 4,
   "metadata": {
    "collapsed": false
   },
   "outputs": [
    {
     "data": {
      "text/plain": [
       "u'As was said by the Sultan just now, today, it is exactly 15 yearssince the day on which the city of '"
      ]
     },
     "execution_count": 4,
     "metadata": {},
     "output_type": "execute_result"
    }
   ],
   "source": [
    "sukarno_jogyakarta_speech = sukarno_jogyakarta_speech[693:len(sukarno_jogyakarta_speech)-353]\n",
    "sukarno_jogyakarta_speech[0:100]"
   ]
  },
  {
   "cell_type": "markdown",
   "metadata": {},
   "source": [
    "* save the speech to a text file "
   ]
  },
  {
   "cell_type": "code",
   "execution_count": 5,
   "metadata": {
    "collapsed": true
   },
   "outputs": [],
   "source": [
    "f = open('sukarno_jogyakarta_speech.txt', 'w')\n",
    "f.write(sukarno_jogyakarta_speech.encode('utf8'))\n",
    "f.close()"
   ]
  },
  {
   "cell_type": "code",
   "execution_count": 6,
   "metadata": {
    "collapsed": false
   },
   "outputs": [],
   "source": [
    "#need wkhtmltox to work\n",
    "#pdfkit.from_url('http://papuaweb.org/goi/pidato/1961-12-jogyakarta.html', 'sukarno_jogjakarta_speech.pdf')"
   ]
  },
  {
   "cell_type": "markdown",
   "metadata": {},
   "source": [
    "* Convert the text to a pandas dataframe \n",
    "* easy to transform pandas dataframe to graphlab sframe\n",
    "* for more info on text analysis with turi sframes see this [documentation](https://turi.com/learn/userguide/text/intro.html)"
   ]
  },
  {
   "cell_type": "code",
   "execution_count": 7,
   "metadata": {
    "collapsed": false
   },
   "outputs": [],
   "source": [
    "speech_data = {'speech': sukarno_jogyakarta_speech}\n",
    "index= [1]\n",
    "speech_df = pd.DataFrame(data = speech_data, index = index)"
   ]
  },
  {
   "cell_type": "code",
   "execution_count": 8,
   "metadata": {
    "collapsed": true
   },
   "outputs": [],
   "source": [
    "BASE_DIR = \"~/repos/statistics-indonesia-python/text_analysis/data\" "
   ]
  },
  {
   "cell_type": "markdown",
   "metadata": {},
   "source": [
    "## Bag-of-words"
   ]
  },
  {
   "cell_type": "markdown",
   "metadata": {},
   "source": [
    "* each document is represented by a map where the words are keys and the values are the number of occurrences.\n",
    "* use pandas data frame to create graphlab sframe\n",
    "* save sframe \n",
    "* transform sframe to bag-of-words (bow) model"
   ]
  },
  {
   "cell_type": "code",
   "execution_count": 9,
   "metadata": {
    "collapsed": false
   },
   "outputs": [],
   "source": [
    "sf = gl.SFrame(data=speech_df)\n",
    "sf.save(\"%s/sukarno_jogyakarta.sframe\" % BASE_DIR)"
   ]
  },
  {
   "cell_type": "code",
   "execution_count": 10,
   "metadata": {
    "collapsed": false
   },
   "outputs": [
    {
     "data": {
      "text/plain": [
       "dtype: dict\n",
       "Rows: 1\n",
       "[{'wasplayed': 1, 'ofall': 1, 'unfurl': 6, 'shallgive': 1, 'up,': 4, 'colonisation,': 1, 'colonisation.': 1, \"mook's\": 1, 'under': 11, 'theindonesian': 5, 'now,that': 1, 'every': 1, 'asia,': 1, 'today,': 2, 'strangleholdof': 1, 'merauke,': 1, 'completed.of': 1, 'therepresentatives': 1, 'politicalparties,': 1, 'enjoy': 1, 'resolution.in': 1, 'leaders': 3, 'miseries,although': 1, 'me,': 1, 'me.': 1, 'whichthose': 1, 'second': 3, 'pledgesince': 1, 'others.': 1, 'air': 1, 'even': 6, 'colonialism': 1, 'religious': 1, 'dr.': 3, 'new': 4, 'officially': 1, 'admiral': 1, 'told': 2, 'sukarno': 4, '\"at': 1, 'here': 5, 'hundreds': 5, 'met': 1, 'active': 1, 'police.': 1, 'dressthemselves': 1, 'military': 9, 'settled': 1, 'deceived,': 2, 'ofour': 1, 'brought': 1, 'total': 2, 'would': 8, 'army': 1, 'old.yes,': 1, 'republic.these': 1, 'receivedmy': 1, 'call': 2, 'therefore': 1, '?even': 1, 'right,': 1, 'until': 2, 'hereby': 2, 'hold': 2, 'must': 2, 'me': 5, 'pursue': 2, 'yearsago': 1, 'sukarno,who': 1, 'worm': 1, 'my': 10, 'underthe': 1, 'involve': 1, 'want': 5, 'youth;': 1, 'end': 1, 'far': 1, 'youth,': 1, 'mataram.': 1, 'after': 1, 'realrepresentatives': 1, 'demanding': 1, 'thankyou': 1, 'wrong': 1, 'president': 1, 'time.today': 1, 'guerilla': 3, 'attempt': 1, 'event,then': 1, 'enter': 2, 'order': 6, 'executed': 1, 'decolonisationmeans': 1, 'jogjakarta': 3, 'rostrum,': 1, 'over': 11, 'tri-command:1.': 1, 'mightiness': 1, 'indonesianpeople': 1, 'before': 4, 'sovereigntyby': 1, 'fix': 1, 'jasmine.': 1, 'strove,': 1, 'nice-soundingspeeches': 1, 'imperialistsdo': 1, 'then': 5, 'them': 6, 'bypresident': 1, 'carefully,': 1, 'they': 35, 'one': 5, 'netherlands': 1, 'fitting?': 1, 'arrested': 1, 'wasfrom': 1, 'went': 5, 'side': 1, 'fierceopposition': 1, '1945exploding': 1, 'no!some': 1, '\"national': 1, 'thisis': 1, 'is,': 3, 'imperialists': 2, 'independence': 6, 'beenreturned': 2, 'firmlyestablished': 1, 'us[13]march': 1, 'free': 1, 'formation': 1, 'struggle': 11, 'asia,from': 1, 'so-called\"papua': 1, 'tricks.': 1, 'done?oh,': 1, 'oppose': 1, 'imperialists,they': 1, 'already': 5, 'irian!': 2, 'allrepresentatives': 1, 'too.': 1, 'irian.': 5, 'too,': 2, 'irian,': 11, 'years,although': 1, 'another': 1, 'socialiststates,': 2, 'force': 2, 'a\"state': 1, 'irian;': 1, 'nation,': 2, 'nation.': 1, 'too': 3, 'took': 2, 'positively': 2, 'dutch.in': 1, 'republic.you': 1, 'nations': 8, 'to.': 1, 'historical': 1, 'people.': 3, 'thesocialist': 2, 'subandrio,': 2, 'that?\"': 1, 'mind': 1, 'talking': 1, 'seen': 1, 'strength': 2, 'do,': 1, 'haveinstructed': 1, 'did[10]it': 1, '-': 17, 'do?': 3, 'forces': 5, 'fine-sounding': 1, 'theun,': 1, 'shall': 1, 'amove': 1, \"indonesia'snative\": 1, 'see,': 1, 'ed.)help': 1, 'nottwo,': 1, 'mobilised': 1, 'force,': 1, 'partition': 1, \"that'sonly\": 1, 'arenow': 1, 'arenot': 2, 'came': 2, 'colonisation.and': 1, 'indonesiawas': 1, 'ofone': 1, 'attempts': 1, 'proposed': 1, 'make.2.': 1, \"indonesia's\": 4, 'do': 8, 'confrontthem': 1, 'endorse': 3, 'stop': 1, '\"flag': 1, 'indonesia!': 1, 'forcesof': 2, 'lies,': 1, 'territoy': 1, '\"papua': 4, 'covering': 1, 'ever': 3, 'peopleof': 1, 'agung': 1, 'stooges': 1, 'men,': 3, 'them.': 1, 'secretary': 2, 'republic.are': 1, 'result': 5, 'term.': 1, 'best': 1, 'said': 19, '\"self-determination\":': 1, 'because,': 1, 'theears,': 1, 'un,': 8, 'un.': 2, 'we': 70, 'weare': 1, 'nation.may': 1, \"nation's\": 1, 'states.i': 1, 'received': 1, 'country': 1, 'ill': 1, 'countries,': 2, 'against': 7, 'triedto': 1, 'appeared': 1, 'conference': 2, 'unfurled': 1, 'trickery': 2, 'union': 1, 'talks[7]lasting': 1, 'been': 12, 'much': 1, 'decolonisation': 1, 'life': 1, 'attacked': 1, 'too.yes,': 1, 'speeches': 1, 'national[3]defence': 1, 'mohammad': 1, 'east': 4, 'indonesia.friends,': 1, 'sultanagung': 1, 'tried,': 3, 'carryout': 1, 'ask:': 1, 'beaccepted': 1, 'anchor': 1, 'arisen,arisen': 1, 'said:': 3, 'said;': 1, 'it': 34, 'defeated': 2, 'implemented,': 1, 'in': 119, 'said,': 4, 'said.': 1, 'if': 6, 'notsuccessful.': 1, 'perform': 1, 'make': 2, 'entireindonesian': 1, 'anthem\".what': 1, 'july,': 1, 'several': 1, 'vienna,': 1, 'independent': 1, 'peaks': 1, 'weresplit': 1, 'i,': 1, 'paris,': 1, 'rome': 2, 'greatest': 1, 'thing,': 1, 'hearts': 3, 'the': 371, 'westirian': 3, 'just': 13, 'fighters': 2, 'thanks': 3, 'human': 1, 'yes': 1, 'yet': 5, 'previous': 1, 'leaders,': 1, \"yamin's\": 1, 'luns,': 1, 'luns.': 1, 'command.[15]we,': 1, '27th': 4, 'had': 14, \"luns'\": 1, 'trampled': 1, 'has': 7, 'fact.': 1, 'fact,': 4, 'wasdiponegoro': 1, 'possible': 3, 'desire': 1, 'defeatit!': 1, 'states,': 4, 'states.': 5, 'french': 1, 'night': 1, 'states?': 1, 'dutch.friends,': 1, 'deal': 3, 'people': 38, 'irianthey': 1, 'know,': 5, 'deeper,': 3, 'wetried,': 1, 'for': 26, 'armed': 10, 'honoured': 7, 'recognisedthe': 1, 'hasannudin.i': 1, 'graduates': 2, 'havehad': 1, 'confrontation': 3, 'graduated': 1, 'atpresent': 1, 'here.the': 1, 'here.how': 1, 'o': 2, 'pleaded,': 1, 'efforts': 3, 'navy,': 1, 'finishedand': 1, 'worldthan': 1, 'cauldron': 1, 'thankful': 1, 'right': 1, 'existed': 2, 'fields.': 1, 'support': 1, 'flying': 10, 'fight': 1, 'prepared,': 1, 'why,': 5, 'way': 1, 'indonesia.those': 1, 'theydid': 1, 'what?': 1, 'java,': 1, 'so,': 2, 'lie,': 1, 'hear': 1, 'true': 2, 'thismotion': 1, 'manoeuvres.': 1, 'whyi': 1, 'dutchpromised': 1, 'prayed': 1, 'proud': 1, 'gerwani': 1, 'onhis': 1, 'die.': 1, 'trip': 1, 'no': 1, '17thaugust': 1, 'when': 8, 'reality': 1, 'setting': 3, 'intothe': 1, 'republicof': 1, 'almighty,': 1, \"let's\": 1, 'intent': 1, 'ours.': 1, 'toas': 1, '\"stateof': 1, 'workers,': 1, 'indonesiastand,': 1, 'ottawa': 1, 'wedo?': 1, 'time': 8, 'weshall': 1, 'arrested.': 1, '21st': 3, '92': 1, '1945': 3, 'proposal.': 1, 'sovereignty': 2, 'wagedwas': 1, '\"tour': 1, 'attractive.': 1, 'heremust': 1, 'imperialists.i': 1, 'world.and': 2, 'did': 3, 'die': 1, 'proposals': 1, 'prepareyourselves': 1, 'round': 7, 'revolution': 2, 'says': 1, 'be': 24, 'sign': 1, 'monginsidi': 1, 'utter': 1, 'educate': 1, 'stands': 2, 'wriggle': 1, 'international': 4, 'proclaiming': 1, 'flag\",': 1, 'say:': 3, 'irian': 27, 'saying.i': 1, 'groups': 1, 'alone': 2, 'say,': 1, 'change': 2, 'indonesiaturns': 1, 'here:': 2, 'shift': 1, 'wherever': 1, 'trial': 1, 'thebeginning': 1, 'ofindonesia,': 1, 'here,': 2, 'sumatra,': 1, 'all-out': 1, 'love': 2, 'merely': 6, 'putinto': 1, 'pieterszoon': 1, 'andi': 1, 'liberation': 1, 'give': 7, 'today': 2, 'introducing': 1, 'commissioner': 1, 'three,': 1, 'selfdetermination': 1, 'and,': 1, 'tokyo': 1, 'mightyforce,': 1, 'irian!i': 1, 'wrong,': 1, 'can': 4, 'following': 1, 'heart': 1, 'downfall': 1, 'december': 4, \"didn't\": 1, 'heard': 1, 'stroke': 1, 'continuingin': 2, 'dropped': 1, 'council': 3, 'rays': 1, 'theauthority': 1, 'till': 1, 'sovereignty,': 1, 'africa,': 1, 'undertook': 1, 'tohim': 1, 'may': 2, 'merelycontinuing': 1, 'fortune,': 1, 'mankind': 1, 'succeeded': 1, 'so': 11, 'thesentiments': 1, 'no,': 3, 'no.': 3, 'indeed': 2, 'no!': 3, 'years': 5, 'policy,': 1, 'policy.': 2, 'still': 3, 'himto': 1, 'standalone.come': 1, 'police': 1, 'thank': 3, 'how': 2, 'torn': 1, 'representativesof': 1, 'policy': 6, 'wholeinternational': 1, 'wasthe': 1, 'decades': 1, 'illat': 1, 'motion,': 1, 'nation': 8, 'year,': 1, 'compelled': 1, '1950': 1, 'not': 49, 'regionsthroughout': 1, 'killed': 1, 'execute': 2, 'establishing': 1, 'politically,': 1, 'academy,standing': 1, '1948,no.': 1, 'indi,': 1, 'ofdecolonisation': 1, 'thanin': 1, 'arecarrying': 1, 'positiveand': 1, '\"indonesia': 1, 'jogjakarta,': 1, 'ultimately': 1, 'jogjakarta.': 1, 'jogjakartaregion': 1, 'briefly,': 1, 'nowthey': 1, 'struggle.last': 1, 'washington,': 1, 'emerged': 1, 'dutch': 31, 'correct': 1, 'onlyby': 1, 'earlier': 1, 'million': 2, 'fire.': 1, 'crazier': 1, 'deception': 1, 'you?\"': 1, 'thechiefs': 1, 'colonialism.and': 1, 'turn': 2, 'place': 1, 'view': 1, 'think': 3, 'first': 9, 'sukarno,': 1, 'sukarno.': 1, 'thatstate,': 1, 'but,': 1, 'authority.but,': 1, 'coming!general': 1, 'carry': 1, 'sounds': 1, 'city': 2, 'given': 2, 'caught': 1, 'imam': 2, 'white': 9, 'national': 8, 'on,': 7, 'that': 78, 'representing': 1, 'than': 3, ':': 3, '15': 1, '16': 2, 'was': 29, 'diplomatic': 1, 'theend': 2, 'protected': 1, 'launching': 1, 'were': 10, 'extinguish': 1, 'outcome': 3, 'morewest': 1, 'stateof': 1, 'and': 74, 'turned': 1, 'argument': 2, 'say': 5, 'rained': 3, 'any': 8, 'irian.[14]no!': 1, 'take': 1, 'destroy': 1, 'all': 25, 'knew': 1, 'knee': 1, 'hanjokrokusumo,': 1, 'alone;': 1, 'later': 1, 'alone!': 1, 'netherlandsplaced': 1, \"that's\": 1, 'alone.': 1, 'command?': 2, 'proclamation': 1, 'try,': 1, 'only': 17, 'going': 3, 'papua.': 1, 'get': 2, 'tobring': 1, 'cannot': 3, 'colonisation\".our': 1, 'is': 65, 'commandto': 1, 'bypartitioning': 1, 'friends,': 10, 'friends.': 1, 'defeatthe': 1, 'where': 2, 'beings.': 1, 'indonesianflag': 1, 'thearmy': 1, 'alreadygiven': 1, 'members,meaning': 1, 'come,': 1, 'representatives': 3, 'behind': 1, 'between': 2, 'ofmy': 1, 'theright': 1, 'august': 4, 'moscow,': 1, 'come': 8, 'doing?': 1, 'mine!and': 1, 'bebothered': 1, 'saidrepeatedly,': 1, 'moon,': 1, 'itdown': 1, 'region': 2, 'fighters,': 1, 'according': 1, 'outthe': 1, 'expression': 1, 'comes': 1, 'duty': 3, 'yearssince': 1, 'period': 1, 'land.3.': 1, 'authority.but': 1, 'firmly.': 1, 'abrogated,': 1, 'west': 49, '\"unconditional\".': 1, 'almighty': 3, 'in[5]the': 1, 'peoples,': 1, 'everyword': 1, 'wants': 1, 'direction': 1, 'imperialism.friends,': 1, 'minister': 1, 'spirit': 14, 'those': 6, 'these': 4, 'ready,': 1, 'fighters.': 1, 'indanesia': 1, 'eventually': 1, 'indonesianpeople.the': 1, 'it,': 1, 'commander': 3, 'sudden': 1, 'wentdeeper,': 2, 'commanded': 1, \"didn'twant\": 1, 'reminded': 1, 'same': 1, 'gentlemen': 1, 'batavia.': 1, 'movement,': 1, 'been:': 1, 'vis-a-vis': 2, 'havesaid': 1, 'lunsproposal.friends,': 1, 'the.territory': 1, 'papua\"!': 2, 'indonesia.as': 1, 'arose': 1, 'conference,': 3, '1948,': 1, 'papua\",': 5, 'papua\".': 1, '21stjuly,': 1, 'indonesia,the': 1, 'endto,': 1, 'without': 1, 'revolution,': 2, 'officers,': 1, 'actions': 2, 'death': 1, 'and,when': 1, 'republic': 28, 'struck': 2, 'heavier': 1, 'kingdom': 1, 'read': 1, 'action.': 1, 'youliberate': 1, 'generalmobilisation': 1, 'world': 2, \"action'\": 1, 'imperialismis': 1, 'always': 6, 'tooka': 1, 'warfare.': 1, 'verbal': 1, 'doll': 1, 'respect': 1, 'london,': 1, 'peace,': 1, 'independence,we': 2, 'confirm': 3, 'colonial': 1, 'exact,the': 1, 'power': 1, 'tjik': 1, 'on': 19, 'staff,': 1, 'oh': 2, \"sukarno's\": 1, 'of': 215, 'stand': 3, 'free,': 2, '\"self-determination\".and': 1, 'out,': 5, 'or': 3, 'thesepeople': 1, 'whole,': 1, 'godwilling,': 1, 'occasionshas': 1, 'evengreater': 1, 'your': 1, 'hanjokrokusumo': 1, 'there': 14, 'r.t.c.,': 1, 'madder': 1, 'thehonoured': 1, 'oftiandradimuka': 1, 'you,': 5, 'state,that': 1, 'them.the': 1, 'land,': 2, 'djakarta': 1, 'land.': 1, 'thepeople': 2, 'agree': 1, 'gone': 1, 'certain': 1, 'am': 18, 'an': 8, 'as': 28, 'words,': 2, 'at': 24, 'calledthe': 1, 'uponcontinuing': 1, 'again': 1, 'beencolonising': 1, 'economically.': 1, 'roses': 1, 'economically,': 1, 'you': 19, 'oh,': 4, 'move,': 2, 'decolonisation!': 1, 'is:': 1, 'students': 1, 'decolonisation.': 1, 'nederlands': 1, 'included': 1, 'building': 1, 'invest': 2, 'sounded': 1, 'calla': 1, 'god': 3, 'finally,': 1, 'resolution': 1, 'miltary': 1, 'called\"the': 1, 'mouthpieceof': 1, 'colonising.': 1, '1949,': 4, 'day,': 1, 'including': 2, 'to': 109, 'authority.and': 1, 'decision.': 1, 'ofthe': 2, 'very': 2, 'responsibility,': 1, '17th': 5, 'clearly.': 1, 'cornelis': 1, 'toexecute': 1, 'further': 1, 'lying,': 1, 'what': 22, 'defence': 2, 'him:': 1, 'represent.friends:as': 1, 'dutch,': 2, 'dutch.': 2, 'afriendly': 1, 'full': 3, 'thedutch,': 1, 'nations?the': 1, 'resolvedthat': 1, 'strong': 1, 'themselvesready': 1, 'than2,000': 1, 'thedutch': 3, 'attitude.': 1, 'and[4]white': 1, 'lied': 2, 'action': 7, 'sukarnodies.': 1, 'followed': 1, 'suddenly': 1, 'africa': 1, 'ask': 6, 'netherlands.': 1, 'establish': 1, 'two': 1, 'taken': 4, 'more': 7, 'self-determination.this': 1, 'flag': 11, 'controlling': 1, 'known': 2, 'guardour': 1, 'town': 1, 'statesince': 1, 'presidentof': 1, 'ourselvesagain.i': 1, 'ourfighters': 1, 'me!': 1, 'therepublic': 2, 'vanmook,': 1, 'accept': 1, 'archipelago': 2, 'indies.': 1, 'huge': 1, 'canfence': 1, 'talks,': 2, 'tried': 5, \"dutchdon't\": 1, 'fancy,': 1, 'state.': 1, 'state,': 6, 'pleaded': 1, 'proclaimed': 1, 'a': 58, 'short': 2, '[sic]': 1, 'act.': 2, 'listen!my': 1, 'playing': 1, 'fly.friends:as': 1, \"congress.let's\": 1, 'army,': 1, 'help': 2, \"don't\": 2, 'heartfelt': 1, 'soon': 1, 'beinternationalised.': 1, 'embassy': 1, 'through': 3, 'militarily,': 1, 'its': 1, 'militaryacademy': 1, '1961.it': 1, 'already.': 1, 'course,': 1, 'flag.and': 1, 'it.': 1, 'thenetherlands': 1, 'movement.i': 1, 'good': 1, 'whosaid:': 1, 'representatives.': 1, 'representatives,': 1, 'association': 2, 'youknow': 1, 'all.': 1, 'all,': 2, 'bless': 1, 'also,': 1, 'referred': 2, 'anthem\",': 1, 'andthat': 1, 'resolute': 1, 'momentwe': 1, 'namely,': 1, 'since': 3, 'anthem\".': 2, 'responsible,': 1, 'reason': 1, 'thespirit': 1, 'imagine': 1, 'backed': 1, 'asi': 1, 'colonised': 1, 'beginning': 1, 'in1596,': 1, 'demands;': 1, 'people.and': 1, 'ofindonesia': 4, 'waged': 1, 'isnot': 2, 'wickedness.': 1, 'conference.': 1, 'subandrio': 4, 'together': 1, 'passed': 1, 'bowed': 1, 'first,': 3, 'bringingwest': 1, 'cemetery.': 1, 'part': 3, 'grew': 2, 'theyfly': 1, 'instruction': 2, 'youth': 3, 'states': 5, 'people.you': 1, 'irian.later.': 1, 'well': 1, 'tricks,dishonesty.and': 1, 'organisations': 1, 'wasno': 1, 'now,defeat': 1, 'accompaniedme': 1, 'lie': 1, 'again.i': 1, 'itfrom': 1, 'officers': 3, 'also': 4, 'build': 1, 'understand,': 1, 'order,': 1, 'towards': 1, 'thisbefore': 1, 'most': 2, 'republic.friends,': 1, 'nothing': 1, 'extremely': 1, 'territoryunder': 2, 'clear': 1, 'dissolved': 1, 'internationalised.': 1, 'liberate': 4, 'night.': 1, 'session': 1, 'nations,': 1, 'nations.': 3, 'bondjol.': 1, 'independencefrom': 1, 'fencingwith': 1, 'islands.that': 1, 'imperialists,': 1, 'us.it': 1, 'onwards.': 1, 'diplomats,': 1, 'his': 2, 'express': 2, 'tongues.i': 1, 'him': 2, 'common': 3, 'way.this': 1, 'set': 5, '1947.': 1, 'see': 4, 'are': 33, 'me,for': 1, 'won': 1, 'years,': 4, 'here13': 1, 'up,strengthening': 1, 'self-determinationpolicy': 1, 'compliment': 1, 'attention': 2, 'yourduties': 1, 'semaki': 1, 'betweensabang': 1, 'indonesiais': 1, 'opposition': 1, 'ever.what': 1, 'last': 2, 'sultan': 3, 'finished.': 1, 'counteroffensives.': 1, 'union,': 1, 'foreign': 2, 'became': 1, 'context': 1, 'whole': 8, 'point': 1, 'sweet': 1, 'uniforms': 1, 'simply': 1, '1950.': 1, '1950,': 1, 'ofteuku': 1, 'there,': 5, 'there.': 1, 'create': 1, 'political': 2, 'nowrespected': 1, 'territory': 12, 'meeting': 2, '\"state': 5, 'politically.they': 1, 'anindependent': 1, 'success.': 1, 'fire': 5, 'beforehand': 1, 'else': 2, 'representative': 1, 'utmost': 1, 'look': 1, 'althoughfor': 1, 'socialist': 9, 'while': 1, 'smart': 2, 'real': 1, 'unitary': 2, 'imperialist': 2, 'imperialism': 1, 'ready': 3, 'seekhaki': 1, 'torecognise': 1, 'flag!': 1, 'clear,': 1, 'flag.': 3, 'government': 2, 'attitude[9]even': 1, 'tothe': 1, 'virtually': 1, 'here.': 1, 'mook.': 1, 'ofindonesia.': 3, 'mankind.': 1, 'moment': 3, 'returnedto': 1, 'people,': 6, 'ditiro.': 1, 'fuss.': 1, 'starved': 1, 'people:': 1, '1948.and': 1, 'indonesia,': 9, 'ambassador': 1, 'indonesia.': 11, 'union.and': 1, 'indonesia?': 1, 'indonesia:': 1, 'groups.': 1, 'speeches,and': 1, 'onenational': 1, 'speedily': 1, 'papua\"!what': 1, 'weretricked,': 1, 'honouredred': 1, '...': 1, 'indonesian': 21, 'march': 2, 'vindicate': 2, 'dishonest,': 1, 'speculating,oh': 1, 'peasants,': 1, 'confront': 5, 'onward!and,': 1, 'some': 5, 'understood': 1, 'experienced': 1, 'mighty': 2, 'women,': 1, 'magelang.': 1, 'magelang,': 1, 'though': 1, 'uponus': 1, 'women.in': 1, 'therefore,dr.': 1, 'imperialism.let': 1, 'nationsmembers': 1, 'continuing': 9, 'houtman': 1, 'by': 24, 'therepublic,': 2, 'letus': 1, 'imperialism,': 2, 'imperialism.': 1, 'papua': 2, 'into': 9, 'within': 3, 'nonsense': 1, 'appropriate': 1, 'militarily': 1, 'striven': 1, 'question': 4, 'long': 1, 'occupy': 1, 'forces.': 1, 'forces,': 1, 'repeatedly': 1, 'partitioning': 1, 'up': 14, 'us': 15, '27thdecember': 1, 'un': 5, 'diponegoro': 1, \"fire's\": 1, 'called': 6, 'side.': 1, 'suropati.': 1, 'nationalist': 1, 'internationalisation,': 1, 'strangle-hold': 2, 'second,': 1, 'diplomacy,': 2, 'confrontation.confrontation': 1, 'side?': 1, 'themselves.': 2, 'suffer,': 1, 'nice': 1, 'the[8]un,': 1, 'prepared': 1, 'helping': 1, 'ago': 2, 'aboutdecolonisation,': 1, 'land': 1, 'humiliated': 1, 'djelantik.': 1, 'having': 1, 'once': 5, 'outcolonisation.': 1, 'resistance': 1, 'overthere': 1, 'ambassadors,': 1, 'go': 1, 'do?what': 1, 'graves': 1, 'young': 4, 'justdiplomats,': 1, 'pleasing': 1, 'friendly': 1, 'result?': 1, 'cemeteries': 1, 'putting': 3, 'accuse': 1, 'more,': 2, 'more.': 1, 'colonising.and,': 1, 'entire': 7, 'irianinto': 1, '1945,': 1, 'bantenbay.': 1, 'desire,': 1, 'that,': 1, 'giving': 1, 'anthem': 1, '19th': 4, 'independence.': 2, 'pleading': 1, 'independence,': 3, 'ktut': 1, 'crazier.': 1, 'peopledo': 1, 'let': 5, 'hasbeen': 1, 'great': 3, 'theircountry': 1, \"coen's\": 1, 'us:': 1, 'formerly': 1, 'defeat': 7, 'makes': 1, 'composed': 1, 'claim': 1, 'forhundreds': 1, 'onlycontinuing': 1, 'standing': 1, 'use': 1, 'from': 22, 'talks,not': 1, 'ministers': 1, 'mobilisation': 3, 'themselves': 2, 'inthe': 3, 'there.they': 1, 'ofconfrontation': 1, 'merauke': 1, 'started': 1, 'sectors,i': 1, 'carrying': 5, 'president,': 1, 'therepublic.our': 1, 'women': 1, 'isindonesia': 1, 'redand': 1, 'this': 36, 'us.': 3, '1945.': 1, 'us,': 3, 'anywhere': 1, 'dissolve': 1, 'hundredsof': 1, 'movementspread': 1, 'hadagreed': 1, 'notsucceeded': 1, 'high': 1, 'something': 1, 'theindonesia-dutch': 1, 'native': 4, 'united': 14, 'sit': 1, 'perfumeof': 1, 'establishment': 2, 'de': 2, 'imperialism.as': 1, 'act': 1, 'bothered': 2, 'chiefs': 1, 'urges': 1, 'sabang': 2, 'myinstructions.and': 1, 'struggle.': 1, 'struggle,': 2, 'move': 2, 'strongnation.': 1, \"won't\": 1, 'bymachine-gun': 1, 'nowadays,': 1, 'subversive': 1, 'foreignminister': 1, 'firmlyestablished,': 1, 'willing': 1, 'spiritentirely,': 1, 'world,': 2, 'happened,': 1, 'greater': 3, 'chaotic,': 1, 'look,': 2, 'strove,to': 1, 'emphasised': 1, 'front': 1, 'day': 1, 'kilometres': 1, 'negotiate.': 1, 'negotiate,': 1, 'accompanied': 1, '(the': 1, 'atrap.internationalisation': 1, 'cairo,': 1, 'thirteen': 1, 'ambassadors': 2, 'out': 9, 'respects': 1, 'confrontation.': 1, 'defend': 2, 'officersof': 1, 'mere': 1, 'time,': 3, 'indonesia,'irrevocable\"': 1, 'red': 10, 'completely': 2, 'york': 2, 'djokountung': 1, 'formof': 1, 'ourthanks': 1, 'indonesia?i': 1, 'could': 2, 'times': 3, 'comeswithin': 1, 'main\",': 1, 'dutchimperialism.': 1, 'speaking.': 1, 'puppet': 5, 'short,': 2, 'uniting': 1, 'their': 6, 'attack': 1, 'ownstate.': 1, 'theorder': 1, 'exactly': 1, 'bythe': 1, 'july': 2, 'wiser.': 1, 'loved': 1, 'proud.': 1, 'warfare': 2, '1947,': 3, 'said:\"here': 1, 'have': 29, 'clearly': 1, 'viewed': 1, 'skillful': 1, 'able': 1, 'chief': 2, 'battles': 1, 'which': 11, 'pursues': 2, 'centre': 1, 'who': 16, 'revolution.and': 1, 'why': 2, 'so-called': 2, 'andtoday,': 1, 'underwenta': 1, 'face': 2, 'talk': 3, 'repeatedly,': 1, 'fact': 8, 'text': 2, 'mean?': 1, 'one,': 2, 'one.': 1, 'bring': 8, 'luck,': 1, 'gift,we': 1, 'staff': 1, 'based': 1, 'decoionisation,': 1, 'with': 16, 'should': 6, 'jan': 1, 'he': 9, 'thousands': 1, 'hope': 1, 'pangerandiponegoro.': 1, 'meant': 1, 'means': 3, 'ministers,': 2, 'wereno': 1, 'bear': 1, '\"yes,': 1, 'theterritory': 1, 'words': 1, 'inthis': 1, 'self-determination.but': 1, 'deceived': 1, 'conform': 1, 'existence,': 1, 'exerted': 1, 'weretherefore': 1, 'end,': 1, 'middle,': 1, 'state': 16, 'command,': 2, 'command.': 1, 'imperialism.friends:yes,': 1, 'asunder': 1, 'beenin': 1, 'admit': 1, 'frustrate,': 1, 'whoalways': 1, 'colonisation': 1, 'thehague': 1, 'andwhite': 1, 'before.at': 1, 'table': 8, 'august,': 1, 'nations.as': 1, 'indonesian;sovereignty.': 1, 'conferencethat': 1, 'amthe': 1, 'dutchsaid:': 1, 'proposal': 3, 'ifanyone': 1, 'self-determination.': 1, 'self-determination,': 1, 'both': 1, '27thdecember,': 1, 'ours': 1, 'general': 2, 'present': 2, 'it.and': 1, 'militaryacademy,': 1, 'world.': 1, 'will': 9, 'forces.and': 1, 'onlyone': 2, 'bringthe': 1, 'inmexico-city,': 1, 'establishinga': 1, 'almost': 1, 'rome.': 1, 'helped': 2, 'dutchhave': 1, 'union.': 1, 'welater': 1, 'began': 2, 'member': 1, \"pa'dimara\": 1, 'unity': 1, 'succeed.indeed,': 1, 'of:': 1, 'oneof': 1, 'practice': 1, 'upon': 5, 'upindependence,': 1, 'yes,they': 1, 'december1948.but,': 1, 'firerained': 1, 'i': 64, 'indonesia': 19, 'part,': 1, 'diplomacy,would': 1, 'command': 13, 'lovesindependence.': 1, 'strong.and': 1, 'republic?': 1, 'heavily': 1, 'claiming': 1, 'republic,': 1, 'republic.': 3, 'jogjakarta,i': 1, 'now': 9, 'large-scale': 1, 'discuss': 1, 'arrest': 1, 'attractive': 1, 'practise': 1, 'match': 1, 'came,': 1, 'know': 8, 'moment,': 2, 'like': 1, 'inviting': 1, 'we,': 3, 'allyou': 1, 'become': 4, 'actions,': 1, \"hero's\": 2, 'because': 2, 'treadon': 1, 'authority': 9, 'tempered': 1, 'repre-[12]sentatives': 1, 'proper': 1, 'recognition': 1, '\"what': 1, 'before.': 2, 'and[6]merauke.': 1, 'results.': 1, 'chains': 1, '?': 2, 'now,': 13, 'complete.the': 1, 'isyour': 1, 'theregion': 1, 'frontof': 1, 'although': 4, 'tempering': 1, 'turned,set': 1, 'about': 4, 'carried': 2, 'december,': 3, 'recognized': 1, 'nationthat': 1, 'liberating': 1, 'ties,': 1, 'luns': 4, 'own': 2, 'willrespect': 1, 'struggleand': 1, 'guard': 1, 'promise': 1, 'times.': 1, 'raya\".and': 1, 'van': 2, 'friends': 2, 'spread': 4, 'recognised': 2, 'introducingthere': 1, 'but': 24, 'neutral': 1, 'anation': 1, 'they,': 1, 'made': 6, 'chained': 1, 'reasonagreed': 1, 'this,': 1, 'this.': 4, 'victorieswere': 1, 'supreme': 2, 'begun': 2, 'recognize': 1, 'nowadorn': 1, 'year': 2, 'arms.': 1, 'our': 32, 'thepasundan': 1, 'indonesia.and,': 1, '46': 1, 'fencing': 1, 'offensive': 1, 'other': 3, 'moment,the': 1, 'indeed.': 1, 'indeed,': 2, 'iscalled': 1, 'inestablishing': 1, 'yes,': 9, 'flag\".[11]we': 1, 'thisrepublic': 1, 'indonesia-dutch': 3, 'helpedus,': 1, 'confrontation,': 1, 'reason.': 1}]"
      ]
     },
     "execution_count": 10,
     "metadata": {},
     "output_type": "execute_result"
    }
   ],
   "source": [
    "bow = gl.text_analytics.count_words(sf['speech'])\n",
    "sf['bow'] = bow\n",
    "bow"
   ]
  },
  {
   "cell_type": "markdown",
   "metadata": {},
   "source": [
    "## TF-IDF"
   ]
  },
  {
   "cell_type": "markdown",
   "metadata": {},
   "source": [
    "* Another useful representation for text data is called TF-IDF (term frequency - inverse document frequency).\n",
    "* This is a modification of the bag-of-words format where the counts are transformed into scores: \n",
    "    * words that are common across the document corpus are given low scores,  \n",
    "    rare words occurring often in a document are given high scores"
   ]
  },
  {
   "cell_type": "markdown",
   "metadata": {},
   "source": [
    "* TF-IDF(word,document)=N(word,document)∗log(1/∑dN(word,d)))\n",
    "    * where N(w, d) is the number of times word w occurs in document d"
   ]
  },
  {
   "cell_type": "code",
   "execution_count": 11,
   "metadata": {
    "collapsed": false
   },
   "outputs": [
    {
     "data": {
      "text/plain": [
       "dtype: dict\n",
       "Rows: 1\n",
       "[{'wasplayed': 0.0, 'ofall': 0.0, 'unfurl': 0.0, 'shallgive': 0.0, 'up,': 0.0, 'colonisation,': 0.0, 'colonisation.': 0.0, \"mook's\": 0.0, 'under': 0.0, 'theindonesian': 0.0, 'now,that': 0.0, 'every': 0.0, 'asia,': 0.0, 'today,': 0.0, 'strangleholdof': 0.0, 'merauke,': 0.0, 'completed.of': 0.0, 'therepresentatives': 0.0, 'politicalparties,': 0.0, 'enjoy': 0.0, 'resolution.in': 0.0, 'leaders': 0.0, 'miseries,although': 0.0, 'me,': 0.0, 'me.': 0.0, 'whichthose': 0.0, 'second': 0.0, 'pledgesince': 0.0, 'others.': 0.0, 'air': 0.0, 'even': 0.0, 'colonialism': 0.0, 'religious': 0.0, 'dr.': 0.0, 'new': 0.0, 'officially': 0.0, 'admiral': 0.0, 'told': 0.0, 'sukarno': 0.0, '\"at': 0.0, 'here': 0.0, 'hundreds': 0.0, 'met': 0.0, 'active': 0.0, 'police.': 0.0, 'dressthemselves': 0.0, 'military': 0.0, 'settled': 0.0, 'deceived,': 0.0, 'ofour': 0.0, 'brought': 0.0, 'total': 0.0, 'would': 0.0, 'army': 0.0, 'old.yes,': 0.0, 'republic.these': 0.0, 'receivedmy': 0.0, 'call': 0.0, 'therefore': 0.0, '?even': 0.0, 'right,': 0.0, 'until': 0.0, 'hereby': 0.0, 'hold': 0.0, 'must': 0.0, 'me': 0.0, 'pursue': 0.0, 'yearsago': 0.0, 'sukarno,who': 0.0, 'worm': 0.0, 'my': 0.0, 'underthe': 0.0, 'involve': 0.0, 'want': 0.0, 'youth;': 0.0, 'end': 0.0, 'far': 0.0, 'youth,': 0.0, 'mataram.': 0.0, 'after': 0.0, 'realrepresentatives': 0.0, 'demanding': 0.0, 'thankyou': 0.0, 'wrong': 0.0, 'president': 0.0, 'time.today': 0.0, 'guerilla': 0.0, 'attempt': 0.0, 'event,then': 0.0, 'enter': 0.0, 'order': 0.0, 'executed': 0.0, 'decolonisationmeans': 0.0, 'jogjakarta': 0.0, 'rostrum,': 0.0, 'over': 0.0, 'tri-command:1.': 0.0, 'mightiness': 0.0, 'indonesianpeople': 0.0, 'before': 0.0, 'sovereigntyby': 0.0, 'fix': 0.0, 'jasmine.': 0.0, 'strove,': 0.0, 'nice-soundingspeeches': 0.0, 'imperialistsdo': 0.0, 'then': 0.0, 'them': 0.0, 'bypresident': 0.0, 'carefully,': 0.0, 'they': 0.0, 'one': 0.0, 'netherlands': 0.0, 'fitting?': 0.0, 'arrested': 0.0, 'wasfrom': 0.0, 'went': 0.0, 'side': 0.0, 'fierceopposition': 0.0, '1945exploding': 0.0, 'no!some': 0.0, '\"national': 0.0, 'thisis': 0.0, 'is,': 0.0, 'imperialists': 0.0, 'independence': 0.0, 'beenreturned': 0.0, 'firmlyestablished': 0.0, 'us[13]march': 0.0, 'free': 0.0, 'formation': 0.0, 'struggle': 0.0, 'asia,from': 0.0, 'so-called\"papua': 0.0, 'tricks.': 0.0, 'done?oh,': 0.0, 'oppose': 0.0, 'imperialists,they': 0.0, 'already': 0.0, 'irian!': 0.0, 'allrepresentatives': 0.0, 'too.': 0.0, 'irian.': 0.0, 'too,': 0.0, 'irian,': 0.0, 'years,although': 0.0, 'another': 0.0, 'socialiststates,': 0.0, 'force': 0.0, 'a\"state': 0.0, 'irian;': 0.0, 'nation,': 0.0, 'nation.': 0.0, 'too': 0.0, 'took': 0.0, 'positively': 0.0, 'dutch.in': 0.0, 'republic.you': 0.0, 'nations': 0.0, 'to.': 0.0, 'historical': 0.0, 'people.': 0.0, 'thesocialist': 0.0, 'subandrio,': 0.0, 'that?\"': 0.0, 'mind': 0.0, 'talking': 0.0, 'seen': 0.0, 'strength': 0.0, 'do,': 0.0, 'haveinstructed': 0.0, 'did[10]it': 0.0, '-': 0.0, 'do?': 0.0, 'forces': 0.0, 'fine-sounding': 0.0, 'theun,': 0.0, 'shall': 0.0, 'amove': 0.0, \"indonesia'snative\": 0.0, 'see,': 0.0, 'ed.)help': 0.0, 'nottwo,': 0.0, 'mobilised': 0.0, 'force,': 0.0, 'partition': 0.0, \"that'sonly\": 0.0, 'arenow': 0.0, 'arenot': 0.0, 'came': 0.0, 'colonisation.and': 0.0, 'indonesiawas': 0.0, 'ofone': 0.0, 'attempts': 0.0, 'proposed': 0.0, 'make.2.': 0.0, \"indonesia's\": 0.0, 'do': 0.0, 'confrontthem': 0.0, 'endorse': 0.0, 'stop': 0.0, '\"flag': 0.0, 'indonesia!': 0.0, 'forcesof': 0.0, 'lies,': 0.0, 'territoy': 0.0, '\"papua': 0.0, 'covering': 0.0, 'ever': 0.0, 'peopleof': 0.0, 'agung': 0.0, 'stooges': 0.0, 'men,': 0.0, 'them.': 0.0, 'secretary': 0.0, 'republic.are': 0.0, 'result': 0.0, 'term.': 0.0, 'best': 0.0, 'said': 0.0, '\"self-determination\":': 0.0, 'because,': 0.0, 'theears,': 0.0, 'un,': 0.0, 'un.': 0.0, 'we': 0.0, 'weare': 0.0, 'nation.may': 0.0, \"nation's\": 0.0, 'states.i': 0.0, 'received': 0.0, 'country': 0.0, 'ill': 0.0, 'countries,': 0.0, 'against': 0.0, 'triedto': 0.0, 'appeared': 0.0, 'conference': 0.0, 'unfurled': 0.0, 'trickery': 0.0, 'union': 0.0, 'talks[7]lasting': 0.0, 'been': 0.0, 'much': 0.0, 'decolonisation': 0.0, 'life': 0.0, 'attacked': 0.0, 'too.yes,': 0.0, 'speeches': 0.0, 'national[3]defence': 0.0, 'mohammad': 0.0, 'east': 0.0, 'indonesia.friends,': 0.0, 'sultanagung': 0.0, 'tried,': 0.0, 'carryout': 0.0, 'ask:': 0.0, 'beaccepted': 0.0, 'anchor': 0.0, 'arisen,arisen': 0.0, 'said:': 0.0, 'said;': 0.0, 'it': 0.0, 'defeated': 0.0, 'implemented,': 0.0, 'in': 0.0, 'said,': 0.0, 'said.': 0.0, 'if': 0.0, 'notsuccessful.': 0.0, 'perform': 0.0, 'make': 0.0, 'entireindonesian': 0.0, 'anthem\".what': 0.0, 'july,': 0.0, 'several': 0.0, 'vienna,': 0.0, 'independent': 0.0, 'peaks': 0.0, 'weresplit': 0.0, 'i,': 0.0, 'paris,': 0.0, 'rome': 0.0, 'greatest': 0.0, 'thing,': 0.0, 'hearts': 0.0, 'the': 0.0, 'westirian': 0.0, 'just': 0.0, 'fighters': 0.0, 'thanks': 0.0, 'human': 0.0, 'yes': 0.0, 'yet': 0.0, 'previous': 0.0, 'leaders,': 0.0, \"yamin's\": 0.0, 'luns,': 0.0, 'luns.': 0.0, 'command.[15]we,': 0.0, '27th': 0.0, 'had': 0.0, \"luns'\": 0.0, 'trampled': 0.0, 'has': 0.0, 'fact.': 0.0, 'fact,': 0.0, 'wasdiponegoro': 0.0, 'possible': 0.0, 'desire': 0.0, 'defeatit!': 0.0, 'states,': 0.0, 'states.': 0.0, 'french': 0.0, 'night': 0.0, 'states?': 0.0, 'dutch.friends,': 0.0, 'deal': 0.0, 'people': 0.0, 'irianthey': 0.0, 'know,': 0.0, 'deeper,': 0.0, 'wetried,': 0.0, 'for': 0.0, 'armed': 0.0, 'honoured': 0.0, 'recognisedthe': 0.0, 'hasannudin.i': 0.0, 'graduates': 0.0, 'havehad': 0.0, 'confrontation': 0.0, 'graduated': 0.0, 'atpresent': 0.0, 'here.the': 0.0, 'here.how': 0.0, 'o': 0.0, 'pleaded,': 0.0, 'efforts': 0.0, 'navy,': 0.0, 'finishedand': 0.0, 'worldthan': 0.0, 'cauldron': 0.0, 'thankful': 0.0, 'right': 0.0, 'existed': 0.0, 'fields.': 0.0, 'support': 0.0, 'flying': 0.0, 'fight': 0.0, 'prepared,': 0.0, 'why,': 0.0, 'way': 0.0, 'indonesia.those': 0.0, 'theydid': 0.0, 'what?': 0.0, 'java,': 0.0, 'so,': 0.0, 'lie,': 0.0, 'hear': 0.0, 'true': 0.0, 'thismotion': 0.0, 'manoeuvres.': 0.0, 'whyi': 0.0, 'dutchpromised': 0.0, 'prayed': 0.0, 'proud': 0.0, 'gerwani': 0.0, 'onhis': 0.0, 'die.': 0.0, 'trip': 0.0, 'no': 0.0, '17thaugust': 0.0, 'when': 0.0, 'reality': 0.0, 'setting': 0.0, 'intothe': 0.0, 'republicof': 0.0, 'almighty,': 0.0, \"let's\": 0.0, 'intent': 0.0, 'ours.': 0.0, 'toas': 0.0, '\"stateof': 0.0, 'workers,': 0.0, 'indonesiastand,': 0.0, 'ottawa': 0.0, 'wedo?': 0.0, 'time': 0.0, 'weshall': 0.0, 'arrested.': 0.0, '21st': 0.0, '92': 0.0, '1945': 0.0, 'proposal.': 0.0, 'sovereignty': 0.0, 'wagedwas': 0.0, '\"tour': 0.0, 'attractive.': 0.0, 'heremust': 0.0, 'imperialists.i': 0.0, 'world.and': 0.0, 'did': 0.0, 'die': 0.0, 'proposals': 0.0, 'prepareyourselves': 0.0, 'round': 0.0, 'revolution': 0.0, 'says': 0.0, 'be': 0.0, 'sign': 0.0, 'monginsidi': 0.0, 'utter': 0.0, 'educate': 0.0, 'stands': 0.0, 'wriggle': 0.0, 'international': 0.0, 'proclaiming': 0.0, 'flag\",': 0.0, 'say:': 0.0, 'irian': 0.0, 'saying.i': 0.0, 'groups': 0.0, 'alone': 0.0, 'say,': 0.0, 'change': 0.0, 'indonesiaturns': 0.0, 'here:': 0.0, 'shift': 0.0, 'wherever': 0.0, 'trial': 0.0, 'thebeginning': 0.0, 'ofindonesia,': 0.0, 'here,': 0.0, 'sumatra,': 0.0, 'all-out': 0.0, 'love': 0.0, 'merely': 0.0, 'putinto': 0.0, 'pieterszoon': 0.0, 'andi': 0.0, 'liberation': 0.0, 'give': 0.0, 'today': 0.0, 'introducing': 0.0, 'commissioner': 0.0, 'three,': 0.0, 'selfdetermination': 0.0, 'and,': 0.0, 'tokyo': 0.0, 'mightyforce,': 0.0, 'irian!i': 0.0, 'wrong,': 0.0, 'can': 0.0, 'following': 0.0, 'heart': 0.0, 'downfall': 0.0, 'december': 0.0, \"didn't\": 0.0, 'heard': 0.0, 'stroke': 0.0, 'continuingin': 0.0, 'dropped': 0.0, 'council': 0.0, 'rays': 0.0, 'theauthority': 0.0, 'till': 0.0, 'sovereignty,': 0.0, 'africa,': 0.0, 'undertook': 0.0, 'tohim': 0.0, 'may': 0.0, 'merelycontinuing': 0.0, 'fortune,': 0.0, 'mankind': 0.0, 'succeeded': 0.0, 'so': 0.0, 'thesentiments': 0.0, 'no,': 0.0, 'no.': 0.0, 'indeed': 0.0, 'no!': 0.0, 'years': 0.0, 'policy,': 0.0, 'policy.': 0.0, 'still': 0.0, 'himto': 0.0, 'standalone.come': 0.0, 'police': 0.0, 'thank': 0.0, 'how': 0.0, 'torn': 0.0, 'representativesof': 0.0, 'policy': 0.0, 'wholeinternational': 0.0, 'wasthe': 0.0, 'decades': 0.0, 'illat': 0.0, 'motion,': 0.0, 'nation': 0.0, 'year,': 0.0, 'compelled': 0.0, '1950': 0.0, 'not': 0.0, 'regionsthroughout': 0.0, 'killed': 0.0, 'execute': 0.0, 'establishing': 0.0, 'politically,': 0.0, 'academy,standing': 0.0, '1948,no.': 0.0, 'indi,': 0.0, 'ofdecolonisation': 0.0, 'thanin': 0.0, 'arecarrying': 0.0, 'positiveand': 0.0, '\"indonesia': 0.0, 'jogjakarta,': 0.0, 'ultimately': 0.0, 'jogjakarta.': 0.0, 'jogjakartaregion': 0.0, 'briefly,': 0.0, 'nowthey': 0.0, 'struggle.last': 0.0, 'washington,': 0.0, 'emerged': 0.0, 'dutch': 0.0, 'correct': 0.0, 'onlyby': 0.0, 'earlier': 0.0, 'million': 0.0, 'fire.': 0.0, 'crazier': 0.0, 'deception': 0.0, 'you?\"': 0.0, 'thechiefs': 0.0, 'colonialism.and': 0.0, 'turn': 0.0, 'place': 0.0, 'view': 0.0, 'think': 0.0, 'first': 0.0, 'sukarno,': 0.0, 'sukarno.': 0.0, 'thatstate,': 0.0, 'but,': 0.0, 'authority.but,': 0.0, 'coming!general': 0.0, 'carry': 0.0, 'sounds': 0.0, 'city': 0.0, 'given': 0.0, 'caught': 0.0, 'imam': 0.0, 'white': 0.0, 'national': 0.0, 'on,': 0.0, 'that': 0.0, 'representing': 0.0, 'than': 0.0, ':': 0.0, '15': 0.0, '16': 0.0, 'was': 0.0, 'diplomatic': 0.0, 'theend': 0.0, 'protected': 0.0, 'launching': 0.0, 'were': 0.0, 'extinguish': 0.0, 'outcome': 0.0, 'morewest': 0.0, 'stateof': 0.0, 'and': 0.0, 'turned': 0.0, 'argument': 0.0, 'say': 0.0, 'rained': 0.0, 'any': 0.0, 'irian.[14]no!': 0.0, 'take': 0.0, 'destroy': 0.0, 'all': 0.0, 'knew': 0.0, 'knee': 0.0, 'hanjokrokusumo,': 0.0, 'alone;': 0.0, 'later': 0.0, 'alone!': 0.0, 'netherlandsplaced': 0.0, \"that's\": 0.0, 'alone.': 0.0, 'command?': 0.0, 'proclamation': 0.0, 'try,': 0.0, 'only': 0.0, 'going': 0.0, 'papua.': 0.0, 'get': 0.0, 'tobring': 0.0, 'cannot': 0.0, 'colonisation\".our': 0.0, 'is': 0.0, 'commandto': 0.0, 'bypartitioning': 0.0, 'friends,': 0.0, 'friends.': 0.0, 'defeatthe': 0.0, 'where': 0.0, 'beings.': 0.0, 'indonesianflag': 0.0, 'thearmy': 0.0, 'alreadygiven': 0.0, 'members,meaning': 0.0, 'come,': 0.0, 'representatives': 0.0, 'behind': 0.0, 'between': 0.0, 'ofmy': 0.0, 'theright': 0.0, 'august': 0.0, 'moscow,': 0.0, 'come': 0.0, 'doing?': 0.0, 'mine!and': 0.0, 'bebothered': 0.0, 'saidrepeatedly,': 0.0, 'moon,': 0.0, 'itdown': 0.0, 'region': 0.0, 'fighters,': 0.0, 'according': 0.0, 'outthe': 0.0, 'expression': 0.0, 'comes': 0.0, 'duty': 0.0, 'yearssince': 0.0, 'period': 0.0, 'land.3.': 0.0, 'authority.but': 0.0, 'firmly.': 0.0, 'abrogated,': 0.0, 'west': 0.0, '\"unconditional\".': 0.0, 'almighty': 0.0, 'in[5]the': 0.0, 'peoples,': 0.0, 'everyword': 0.0, 'wants': 0.0, 'direction': 0.0, 'imperialism.friends,': 0.0, 'minister': 0.0, 'spirit': 0.0, 'those': 0.0, 'these': 0.0, 'ready,': 0.0, 'fighters.': 0.0, 'indanesia': 0.0, 'eventually': 0.0, 'indonesianpeople.the': 0.0, 'it,': 0.0, 'commander': 0.0, 'sudden': 0.0, 'wentdeeper,': 0.0, 'commanded': 0.0, \"didn'twant\": 0.0, 'reminded': 0.0, 'same': 0.0, 'gentlemen': 0.0, 'batavia.': 0.0, 'movement,': 0.0, 'been:': 0.0, 'vis-a-vis': 0.0, 'havesaid': 0.0, 'lunsproposal.friends,': 0.0, 'the.territory': 0.0, 'papua\"!': 0.0, 'indonesia.as': 0.0, 'arose': 0.0, 'conference,': 0.0, '1948,': 0.0, 'papua\",': 0.0, 'papua\".': 0.0, '21stjuly,': 0.0, 'indonesia,the': 0.0, 'endto,': 0.0, 'without': 0.0, 'revolution,': 0.0, 'officers,': 0.0, 'actions': 0.0, 'death': 0.0, 'and,when': 0.0, 'republic': 0.0, 'struck': 0.0, 'heavier': 0.0, 'kingdom': 0.0, 'read': 0.0, 'action.': 0.0, 'youliberate': 0.0, 'generalmobilisation': 0.0, 'world': 0.0, \"action'\": 0.0, 'imperialismis': 0.0, 'always': 0.0, 'tooka': 0.0, 'warfare.': 0.0, 'verbal': 0.0, 'doll': 0.0, 'respect': 0.0, 'london,': 0.0, 'peace,': 0.0, 'independence,we': 0.0, 'confirm': 0.0, 'colonial': 0.0, 'exact,the': 0.0, 'power': 0.0, 'tjik': 0.0, 'on': 0.0, 'staff,': 0.0, 'oh': 0.0, \"sukarno's\": 0.0, 'of': 0.0, 'stand': 0.0, 'free,': 0.0, '\"self-determination\".and': 0.0, 'out,': 0.0, 'or': 0.0, 'thesepeople': 0.0, 'whole,': 0.0, 'godwilling,': 0.0, 'occasionshas': 0.0, 'evengreater': 0.0, 'your': 0.0, 'hanjokrokusumo': 0.0, 'there': 0.0, 'r.t.c.,': 0.0, 'madder': 0.0, 'thehonoured': 0.0, 'oftiandradimuka': 0.0, 'you,': 0.0, 'state,that': 0.0, 'them.the': 0.0, 'land,': 0.0, 'djakarta': 0.0, 'land.': 0.0, 'thepeople': 0.0, 'agree': 0.0, 'gone': 0.0, 'certain': 0.0, 'am': 0.0, 'an': 0.0, 'as': 0.0, 'words,': 0.0, 'at': 0.0, 'calledthe': 0.0, 'uponcontinuing': 0.0, 'again': 0.0, 'beencolonising': 0.0, 'economically.': 0.0, 'roses': 0.0, 'economically,': 0.0, 'you': 0.0, 'oh,': 0.0, 'move,': 0.0, 'decolonisation!': 0.0, 'is:': 0.0, 'students': 0.0, 'decolonisation.': 0.0, 'nederlands': 0.0, 'included': 0.0, 'building': 0.0, 'invest': 0.0, 'sounded': 0.0, 'calla': 0.0, 'god': 0.0, 'finally,': 0.0, 'resolution': 0.0, 'miltary': 0.0, 'called\"the': 0.0, 'mouthpieceof': 0.0, 'colonising.': 0.0, '1949,': 0.0, 'day,': 0.0, 'including': 0.0, 'to': 0.0, 'authority.and': 0.0, 'decision.': 0.0, 'ofthe': 0.0, 'very': 0.0, 'responsibility,': 0.0, '17th': 0.0, 'clearly.': 0.0, 'cornelis': 0.0, 'toexecute': 0.0, 'further': 0.0, 'lying,': 0.0, 'what': 0.0, 'defence': 0.0, 'him:': 0.0, 'represent.friends:as': 0.0, 'dutch,': 0.0, 'dutch.': 0.0, 'afriendly': 0.0, 'full': 0.0, 'thedutch,': 0.0, 'nations?the': 0.0, 'resolvedthat': 0.0, 'strong': 0.0, 'themselvesready': 0.0, 'than2,000': 0.0, 'thedutch': 0.0, 'attitude.': 0.0, 'and[4]white': 0.0, 'lied': 0.0, 'action': 0.0, 'sukarnodies.': 0.0, 'followed': 0.0, 'suddenly': 0.0, 'africa': 0.0, 'ask': 0.0, 'netherlands.': 0.0, 'establish': 0.0, 'two': 0.0, 'taken': 0.0, 'more': 0.0, 'self-determination.this': 0.0, 'flag': 0.0, 'controlling': 0.0, 'known': 0.0, 'guardour': 0.0, 'town': 0.0, 'statesince': 0.0, 'presidentof': 0.0, 'ourselvesagain.i': 0.0, 'ourfighters': 0.0, 'me!': 0.0, 'therepublic': 0.0, 'vanmook,': 0.0, 'accept': 0.0, 'archipelago': 0.0, 'indies.': 0.0, 'huge': 0.0, 'canfence': 0.0, 'talks,': 0.0, 'tried': 0.0, \"dutchdon't\": 0.0, 'fancy,': 0.0, 'state.': 0.0, 'state,': 0.0, 'pleaded': 0.0, 'proclaimed': 0.0, 'a': 0.0, 'short': 0.0, '[sic]': 0.0, 'act.': 0.0, 'listen!my': 0.0, 'playing': 0.0, 'fly.friends:as': 0.0, \"congress.let's\": 0.0, 'army,': 0.0, 'help': 0.0, \"don't\": 0.0, 'heartfelt': 0.0, 'soon': 0.0, 'beinternationalised.': 0.0, 'embassy': 0.0, 'through': 0.0, 'militarily,': 0.0, 'its': 0.0, 'militaryacademy': 0.0, '1961.it': 0.0, 'already.': 0.0, 'course,': 0.0, 'flag.and': 0.0, 'it.': 0.0, 'thenetherlands': 0.0, 'movement.i': 0.0, 'good': 0.0, 'whosaid:': 0.0, 'representatives.': 0.0, 'representatives,': 0.0, 'association': 0.0, 'youknow': 0.0, 'all.': 0.0, 'all,': 0.0, 'bless': 0.0, 'also,': 0.0, 'referred': 0.0, 'anthem\",': 0.0, 'andthat': 0.0, 'resolute': 0.0, 'momentwe': 0.0, 'namely,': 0.0, 'since': 0.0, 'anthem\".': 0.0, 'responsible,': 0.0, 'reason': 0.0, 'thespirit': 0.0, 'imagine': 0.0, 'backed': 0.0, 'asi': 0.0, 'colonised': 0.0, 'beginning': 0.0, 'in1596,': 0.0, 'demands;': 0.0, 'people.and': 0.0, 'ofindonesia': 0.0, 'waged': 0.0, 'isnot': 0.0, 'wickedness.': 0.0, 'conference.': 0.0, 'subandrio': 0.0, 'together': 0.0, 'passed': 0.0, 'bowed': 0.0, 'first,': 0.0, 'bringingwest': 0.0, 'cemetery.': 0.0, 'part': 0.0, 'grew': 0.0, 'theyfly': 0.0, 'instruction': 0.0, 'youth': 0.0, 'states': 0.0, 'people.you': 0.0, 'irian.later.': 0.0, 'well': 0.0, 'tricks,dishonesty.and': 0.0, 'organisations': 0.0, 'wasno': 0.0, 'now,defeat': 0.0, 'accompaniedme': 0.0, 'lie': 0.0, 'again.i': 0.0, 'itfrom': 0.0, 'officers': 0.0, 'also': 0.0, 'build': 0.0, 'understand,': 0.0, 'order,': 0.0, 'towards': 0.0, 'thisbefore': 0.0, 'most': 0.0, 'republic.friends,': 0.0, 'nothing': 0.0, 'extremely': 0.0, 'territoryunder': 0.0, 'clear': 0.0, 'dissolved': 0.0, 'internationalised.': 0.0, 'liberate': 0.0, 'night.': 0.0, 'session': 0.0, 'nations,': 0.0, 'nations.': 0.0, 'bondjol.': 0.0, 'independencefrom': 0.0, 'fencingwith': 0.0, 'islands.that': 0.0, 'imperialists,': 0.0, 'us.it': 0.0, 'onwards.': 0.0, 'diplomats,': 0.0, 'his': 0.0, 'express': 0.0, 'tongues.i': 0.0, 'him': 0.0, 'common': 0.0, 'way.this': 0.0, 'set': 0.0, '1947.': 0.0, 'see': 0.0, 'are': 0.0, 'me,for': 0.0, 'won': 0.0, 'years,': 0.0, 'here13': 0.0, 'up,strengthening': 0.0, 'self-determinationpolicy': 0.0, 'compliment': 0.0, 'attention': 0.0, 'yourduties': 0.0, 'semaki': 0.0, 'betweensabang': 0.0, 'indonesiais': 0.0, 'opposition': 0.0, 'ever.what': 0.0, 'last': 0.0, 'sultan': 0.0, 'finished.': 0.0, 'counteroffensives.': 0.0, 'union,': 0.0, 'foreign': 0.0, 'became': 0.0, 'context': 0.0, 'whole': 0.0, 'point': 0.0, 'sweet': 0.0, 'uniforms': 0.0, 'simply': 0.0, '1950.': 0.0, '1950,': 0.0, 'ofteuku': 0.0, 'there,': 0.0, 'there.': 0.0, 'create': 0.0, 'political': 0.0, 'nowrespected': 0.0, 'territory': 0.0, 'meeting': 0.0, '\"state': 0.0, 'politically.they': 0.0, 'anindependent': 0.0, 'success.': 0.0, 'fire': 0.0, 'beforehand': 0.0, 'else': 0.0, 'representative': 0.0, 'utmost': 0.0, 'look': 0.0, 'althoughfor': 0.0, 'socialist': 0.0, 'while': 0.0, 'smart': 0.0, 'real': 0.0, 'unitary': 0.0, 'imperialist': 0.0, 'imperialism': 0.0, 'ready': 0.0, 'seekhaki': 0.0, 'torecognise': 0.0, 'flag!': 0.0, 'clear,': 0.0, 'flag.': 0.0, 'government': 0.0, 'attitude[9]even': 0.0, 'tothe': 0.0, 'virtually': 0.0, 'here.': 0.0, 'mook.': 0.0, 'ofindonesia.': 0.0, 'mankind.': 0.0, 'moment': 0.0, 'returnedto': 0.0, 'people,': 0.0, 'ditiro.': 0.0, 'fuss.': 0.0, 'starved': 0.0, 'people:': 0.0, '1948.and': 0.0, 'indonesia,': 0.0, 'ambassador': 0.0, 'indonesia.': 0.0, 'union.and': 0.0, 'indonesia?': 0.0, 'indonesia:': 0.0, 'groups.': 0.0, 'speeches,and': 0.0, 'onenational': 0.0, 'speedily': 0.0, 'papua\"!what': 0.0, 'weretricked,': 0.0, 'honouredred': 0.0, '...': 0.0, 'indonesian': 0.0, 'march': 0.0, 'vindicate': 0.0, 'dishonest,': 0.0, 'speculating,oh': 0.0, 'peasants,': 0.0, 'confront': 0.0, 'onward!and,': 0.0, 'some': 0.0, 'understood': 0.0, 'experienced': 0.0, 'mighty': 0.0, 'women,': 0.0, 'magelang.': 0.0, 'magelang,': 0.0, 'though': 0.0, 'uponus': 0.0, 'women.in': 0.0, 'therefore,dr.': 0.0, 'imperialism.let': 0.0, 'nationsmembers': 0.0, 'continuing': 0.0, 'houtman': 0.0, 'by': 0.0, 'therepublic,': 0.0, 'letus': 0.0, 'imperialism,': 0.0, 'imperialism.': 0.0, 'papua': 0.0, 'into': 0.0, 'within': 0.0, 'nonsense': 0.0, 'appropriate': 0.0, 'militarily': 0.0, 'striven': 0.0, 'question': 0.0, 'long': 0.0, 'occupy': 0.0, 'forces.': 0.0, 'forces,': 0.0, 'repeatedly': 0.0, 'partitioning': 0.0, 'up': 0.0, 'us': 0.0, '27thdecember': 0.0, 'un': 0.0, 'diponegoro': 0.0, \"fire's\": 0.0, 'called': 0.0, 'side.': 0.0, 'suropati.': 0.0, 'nationalist': 0.0, 'internationalisation,': 0.0, 'strangle-hold': 0.0, 'second,': 0.0, 'diplomacy,': 0.0, 'confrontation.confrontation': 0.0, 'side?': 0.0, 'themselves.': 0.0, 'suffer,': 0.0, 'nice': 0.0, 'the[8]un,': 0.0, 'prepared': 0.0, 'helping': 0.0, 'ago': 0.0, 'aboutdecolonisation,': 0.0, 'land': 0.0, 'humiliated': 0.0, 'djelantik.': 0.0, 'having': 0.0, 'once': 0.0, 'outcolonisation.': 0.0, 'resistance': 0.0, 'overthere': 0.0, 'ambassadors,': 0.0, 'go': 0.0, 'do?what': 0.0, 'graves': 0.0, 'young': 0.0, 'justdiplomats,': 0.0, 'pleasing': 0.0, 'friendly': 0.0, 'result?': 0.0, 'cemeteries': 0.0, 'putting': 0.0, 'accuse': 0.0, 'more,': 0.0, 'more.': 0.0, 'colonising.and,': 0.0, 'entire': 0.0, 'irianinto': 0.0, '1945,': 0.0, 'bantenbay.': 0.0, 'desire,': 0.0, 'that,': 0.0, 'giving': 0.0, 'anthem': 0.0, '19th': 0.0, 'independence.': 0.0, 'pleading': 0.0, 'independence,': 0.0, 'ktut': 0.0, 'crazier.': 0.0, 'peopledo': 0.0, 'let': 0.0, 'hasbeen': 0.0, 'great': 0.0, 'theircountry': 0.0, \"coen's\": 0.0, 'us:': 0.0, 'formerly': 0.0, 'defeat': 0.0, 'makes': 0.0, 'composed': 0.0, 'claim': 0.0, 'forhundreds': 0.0, 'onlycontinuing': 0.0, 'standing': 0.0, 'use': 0.0, 'from': 0.0, 'talks,not': 0.0, 'ministers': 0.0, 'mobilisation': 0.0, 'themselves': 0.0, 'inthe': 0.0, 'there.they': 0.0, 'ofconfrontation': 0.0, 'merauke': 0.0, 'started': 0.0, 'sectors,i': 0.0, 'carrying': 0.0, 'president,': 0.0, 'therepublic.our': 0.0, 'women': 0.0, 'isindonesia': 0.0, 'redand': 0.0, 'this': 0.0, 'us.': 0.0, '1945.': 0.0, 'us,': 0.0, 'anywhere': 0.0, 'dissolve': 0.0, 'hundredsof': 0.0, 'movementspread': 0.0, 'hadagreed': 0.0, 'notsucceeded': 0.0, 'high': 0.0, 'something': 0.0, 'theindonesia-dutch': 0.0, 'native': 0.0, 'united': 0.0, 'sit': 0.0, 'perfumeof': 0.0, 'establishment': 0.0, 'de': 0.0, 'imperialism.as': 0.0, 'act': 0.0, 'bothered': 0.0, 'chiefs': 0.0, 'urges': 0.0, 'sabang': 0.0, 'myinstructions.and': 0.0, 'struggle.': 0.0, 'struggle,': 0.0, 'move': 0.0, 'strongnation.': 0.0, \"won't\": 0.0, 'bymachine-gun': 0.0, 'nowadays,': 0.0, 'subversive': 0.0, 'foreignminister': 0.0, 'firmlyestablished,': 0.0, 'willing': 0.0, 'spiritentirely,': 0.0, 'world,': 0.0, 'happened,': 0.0, 'greater': 0.0, 'chaotic,': 0.0, 'look,': 0.0, 'strove,to': 0.0, 'emphasised': 0.0, 'front': 0.0, 'day': 0.0, 'kilometres': 0.0, 'negotiate.': 0.0, 'negotiate,': 0.0, 'accompanied': 0.0, '(the': 0.0, 'atrap.internationalisation': 0.0, 'cairo,': 0.0, 'thirteen': 0.0, 'ambassadors': 0.0, 'out': 0.0, 'respects': 0.0, 'confrontation.': 0.0, 'defend': 0.0, 'officersof': 0.0, 'mere': 0.0, 'time,': 0.0, 'indonesia,'irrevocable\"': 0.0, 'red': 0.0, 'completely': 0.0, 'york': 0.0, 'djokountung': 0.0, 'formof': 0.0, 'ourthanks': 0.0, 'indonesia?i': 0.0, 'could': 0.0, 'times': 0.0, 'comeswithin': 0.0, 'main\",': 0.0, 'dutchimperialism.': 0.0, 'speaking.': 0.0, 'puppet': 0.0, 'short,': 0.0, 'uniting': 0.0, 'their': 0.0, 'attack': 0.0, 'ownstate.': 0.0, 'theorder': 0.0, 'exactly': 0.0, 'bythe': 0.0, 'july': 0.0, 'wiser.': 0.0, 'loved': 0.0, 'proud.': 0.0, 'warfare': 0.0, '1947,': 0.0, 'said:\"here': 0.0, 'have': 0.0, 'clearly': 0.0, 'viewed': 0.0, 'skillful': 0.0, 'able': 0.0, 'chief': 0.0, 'battles': 0.0, 'which': 0.0, 'pursues': 0.0, 'centre': 0.0, 'who': 0.0, 'revolution.and': 0.0, 'why': 0.0, 'so-called': 0.0, 'andtoday,': 0.0, 'underwenta': 0.0, 'face': 0.0, 'talk': 0.0, 'repeatedly,': 0.0, 'fact': 0.0, 'text': 0.0, 'mean?': 0.0, 'one,': 0.0, 'one.': 0.0, 'bring': 0.0, 'luck,': 0.0, 'gift,we': 0.0, 'staff': 0.0, 'based': 0.0, 'decoionisation,': 0.0, 'with': 0.0, 'should': 0.0, 'jan': 0.0, 'he': 0.0, 'thousands': 0.0, 'hope': 0.0, 'pangerandiponegoro.': 0.0, 'meant': 0.0, 'means': 0.0, 'ministers,': 0.0, 'wereno': 0.0, 'bear': 0.0, '\"yes,': 0.0, 'theterritory': 0.0, 'words': 0.0, 'inthis': 0.0, 'self-determination.but': 0.0, 'deceived': 0.0, 'conform': 0.0, 'existence,': 0.0, 'exerted': 0.0, 'weretherefore': 0.0, 'end,': 0.0, 'middle,': 0.0, 'state': 0.0, 'command,': 0.0, 'command.': 0.0, 'imperialism.friends:yes,': 0.0, 'asunder': 0.0, 'beenin': 0.0, 'admit': 0.0, 'frustrate,': 0.0, 'whoalways': 0.0, 'colonisation': 0.0, 'thehague': 0.0, 'andwhite': 0.0, 'before.at': 0.0, 'table': 0.0, 'august,': 0.0, 'nations.as': 0.0, 'indonesian;sovereignty.': 0.0, 'conferencethat': 0.0, 'amthe': 0.0, 'dutchsaid:': 0.0, 'proposal': 0.0, 'ifanyone': 0.0, 'self-determination.': 0.0, 'self-determination,': 0.0, 'both': 0.0, '27thdecember,': 0.0, 'ours': 0.0, 'general': 0.0, 'present': 0.0, 'it.and': 0.0, 'militaryacademy,': 0.0, 'world.': 0.0, 'will': 0.0, 'forces.and': 0.0, 'onlyone': 0.0, 'bringthe': 0.0, 'inmexico-city,': 0.0, 'establishinga': 0.0, 'almost': 0.0, 'rome.': 0.0, 'helped': 0.0, 'dutchhave': 0.0, 'union.': 0.0, 'welater': 0.0, 'began': 0.0, 'member': 0.0, \"pa'dimara\": 0.0, 'unity': 0.0, 'succeed.indeed,': 0.0, 'of:': 0.0, 'oneof': 0.0, 'practice': 0.0, 'upon': 0.0, 'upindependence,': 0.0, 'yes,they': 0.0, 'december1948.but,': 0.0, 'firerained': 0.0, 'i': 0.0, 'indonesia': 0.0, 'part,': 0.0, 'diplomacy,would': 0.0, 'command': 0.0, 'lovesindependence.': 0.0, 'strong.and': 0.0, 'republic?': 0.0, 'heavily': 0.0, 'claiming': 0.0, 'republic,': 0.0, 'republic.': 0.0, 'jogjakarta,i': 0.0, 'now': 0.0, 'large-scale': 0.0, 'discuss': 0.0, 'arrest': 0.0, 'attractive': 0.0, 'practise': 0.0, 'match': 0.0, 'came,': 0.0, 'know': 0.0, 'moment,': 0.0, 'like': 0.0, 'inviting': 0.0, 'we,': 0.0, 'allyou': 0.0, 'become': 0.0, 'actions,': 0.0, \"hero's\": 0.0, 'because': 0.0, 'treadon': 0.0, 'authority': 0.0, 'tempered': 0.0, 'repre-[12]sentatives': 0.0, 'proper': 0.0, 'recognition': 0.0, '\"what': 0.0, 'before.': 0.0, 'and[6]merauke.': 0.0, 'results.': 0.0, 'chains': 0.0, '?': 0.0, 'now,': 0.0, 'complete.the': 0.0, 'isyour': 0.0, 'theregion': 0.0, 'frontof': 0.0, 'although': 0.0, 'tempering': 0.0, 'turned,set': 0.0, 'about': 0.0, 'carried': 0.0, 'december,': 0.0, 'recognized': 0.0, 'nationthat': 0.0, 'liberating': 0.0, 'ties,': 0.0, 'luns': 0.0, 'own': 0.0, 'willrespect': 0.0, 'struggleand': 0.0, 'guard': 0.0, 'promise': 0.0, 'times.': 0.0, 'raya\".and': 0.0, 'van': 0.0, 'friends': 0.0, 'spread': 0.0, 'recognised': 0.0, 'introducingthere': 0.0, 'but': 0.0, 'neutral': 0.0, 'anation': 0.0, 'they,': 0.0, 'made': 0.0, 'chained': 0.0, 'reasonagreed': 0.0, 'this,': 0.0, 'this.': 0.0, 'victorieswere': 0.0, 'supreme': 0.0, 'begun': 0.0, 'recognize': 0.0, 'nowadorn': 0.0, 'year': 0.0, 'arms.': 0.0, 'our': 0.0, 'thepasundan': 0.0, 'indonesia.and,': 0.0, '46': 0.0, 'fencing': 0.0, 'offensive': 0.0, 'other': 0.0, 'moment,the': 0.0, 'indeed.': 0.0, 'indeed,': 0.0, 'iscalled': 0.0, 'inestablishing': 0.0, 'yes,': 0.0, 'flag\".[11]we': 0.0, 'thisrepublic': 0.0, 'indonesia-dutch': 0.0, 'helpedus,': 0.0, 'confrontation,': 0.0, 'reason.': 0.0}]"
      ]
     },
     "execution_count": 11,
     "metadata": {},
     "output_type": "execute_result"
    }
   ],
   "source": [
    "sf['tfidf'] = gl.text_analytics.tf_idf(sf['bow'])\n",
    "sf['tfidf']"
   ]
  },
  {
   "cell_type": "markdown",
   "metadata": {},
   "source": [
    "## Text cleaning"
   ]
  },
  {
   "cell_type": "markdown",
   "metadata": {},
   "source": [
    "* remove all words do not occur at least twice in each document using"
   ]
  },
  {
   "cell_type": "code",
   "execution_count": 12,
   "metadata": {
    "collapsed": false
   },
   "outputs": [],
   "source": [
    "docs = sf['bow'].dict_trim_by_values(2)"
   ]
  },
  {
   "cell_type": "markdown",
   "metadata": {},
   "source": [
    "* GraphLab Create also contains a helper function called stopwords that returns a list of common words.\n",
    "We can use SArray.docs.dict_trim_by_keys to remove these words from the documents as a preprocessing step.\n",
    "NB: Currently only English words are available."
   ]
  },
  {
   "cell_type": "code",
   "execution_count": 13,
   "metadata": {
    "collapsed": true
   },
   "outputs": [],
   "source": [
    "docs = docs.dict_trim_by_keys(gl.text_analytics.stopwords(), exclude=True)"
   ]
  },
  {
   "cell_type": "code",
   "execution_count": 14,
   "metadata": {
    "collapsed": false
   },
   "outputs": [
    {
     "data": {
      "text/plain": [
       "{'\"papua': 4,\n",
       " '\"state': 5,\n",
       " '-': 17,\n",
       " '16': 2,\n",
       " '17th': 5,\n",
       " '1945': 3,\n",
       " '1947,': 3,\n",
       " '1949,': 4,\n",
       " '19th': 4,\n",
       " '21st': 3,\n",
       " '27th': 4,\n",
       " ':': 3,\n",
       " '?': 2,\n",
       " 'act.': 2,\n",
       " 'action': 7,\n",
       " 'actions': 2,\n",
       " 'ago': 2,\n",
       " 'all,': 2,\n",
       " 'almighty': 3,\n",
       " 'ambassadors': 2,\n",
       " 'anthem\".': 2,\n",
       " 'archipelago': 2,\n",
       " 'arenot': 2,\n",
       " 'argument': 2,\n",
       " 'armed': 10,\n",
       " 'association': 2,\n",
       " 'attention': 2,\n",
       " 'august': 4,\n",
       " 'authority': 9,\n",
       " 'beenreturned': 2,\n",
       " 'before.': 2,\n",
       " 'began': 2,\n",
       " 'begun': 2,\n",
       " 'bothered': 2,\n",
       " 'bring': 8,\n",
       " 'call': 2,\n",
       " 'called': 6,\n",
       " 'carried': 2,\n",
       " 'carrying': 5,\n",
       " 'change': 2,\n",
       " 'chief': 2,\n",
       " 'city': 2,\n",
       " 'command': 13,\n",
       " 'command,': 2,\n",
       " 'command?': 2,\n",
       " 'commander': 3,\n",
       " 'common': 3,\n",
       " 'completely': 2,\n",
       " 'conference': 2,\n",
       " 'conference,': 3,\n",
       " 'confirm': 3,\n",
       " 'confront': 5,\n",
       " 'confrontation': 3,\n",
       " 'continuing': 9,\n",
       " 'continuingin': 2,\n",
       " 'council': 3,\n",
       " 'countries,': 2,\n",
       " 'de': 2,\n",
       " 'deal': 3,\n",
       " 'deceived,': 2,\n",
       " 'december': 4,\n",
       " 'december,': 3,\n",
       " 'deeper,': 3,\n",
       " 'defeat': 7,\n",
       " 'defeated': 2,\n",
       " 'defence': 2,\n",
       " 'defend': 2,\n",
       " 'diplomacy,': 2,\n",
       " 'do?': 3,\n",
       " \"don't\": 2,\n",
       " 'dr.': 3,\n",
       " 'dutch': 31,\n",
       " 'dutch,': 2,\n",
       " 'dutch.': 2,\n",
       " 'duty': 3,\n",
       " 'east': 4,\n",
       " 'efforts': 3,\n",
       " 'endorse': 3,\n",
       " 'enter': 2,\n",
       " 'entire': 7,\n",
       " 'establishment': 2,\n",
       " 'execute': 2,\n",
       " 'existed': 2,\n",
       " 'express': 2,\n",
       " 'face': 2,\n",
       " 'fact': 8,\n",
       " 'fact,': 4,\n",
       " 'fighters': 2,\n",
       " 'fire': 5,\n",
       " 'first,': 3,\n",
       " 'flag': 11,\n",
       " 'flag.': 3,\n",
       " 'flying': 10,\n",
       " 'force': 2,\n",
       " 'forces': 5,\n",
       " 'forcesof': 2,\n",
       " 'foreign': 2,\n",
       " 'free,': 2,\n",
       " 'friends': 2,\n",
       " 'friends,': 10,\n",
       " 'full': 3,\n",
       " 'general': 2,\n",
       " 'give': 7,\n",
       " 'god': 3,\n",
       " 'government': 2,\n",
       " 'graduates': 2,\n",
       " 'great': 3,\n",
       " 'greater': 3,\n",
       " 'grew': 2,\n",
       " 'guerilla': 3,\n",
       " 'hearts': 3,\n",
       " 'helped': 2,\n",
       " 'here,': 2,\n",
       " 'here:': 2,\n",
       " \"hero's\": 2,\n",
       " 'hold': 2,\n",
       " 'honoured': 7,\n",
       " 'hundreds': 5,\n",
       " 'imam': 2,\n",
       " 'imperialism,': 2,\n",
       " 'imperialist': 2,\n",
       " 'imperialists': 2,\n",
       " 'including': 2,\n",
       " 'indeed,': 2,\n",
       " 'independence': 6,\n",
       " 'independence,': 3,\n",
       " 'independence,we': 2,\n",
       " 'independence.': 2,\n",
       " 'indonesia': 19,\n",
       " \"indonesia's\": 4,\n",
       " 'indonesia,': 9,\n",
       " 'indonesia-dutch': 3,\n",
       " 'indonesia.': 11,\n",
       " 'indonesian': 21,\n",
       " 'instruction': 2,\n",
       " 'international': 4,\n",
       " 'inthe': 3,\n",
       " 'invest': 2,\n",
       " 'irian': 27,\n",
       " 'irian!': 2,\n",
       " 'irian,': 11,\n",
       " 'irian.': 5,\n",
       " 'is,': 3,\n",
       " 'isnot': 2,\n",
       " 'jogjakarta': 3,\n",
       " 'july': 2,\n",
       " 'know,': 5,\n",
       " 'land,': 2,\n",
       " 'leaders': 3,\n",
       " 'liberate': 4,\n",
       " 'lied': 2,\n",
       " 'look,': 2,\n",
       " 'love': 2,\n",
       " 'luns': 4,\n",
       " 'made': 6,\n",
       " 'make': 2,\n",
       " 'march': 2,\n",
       " 'means': 3,\n",
       " 'meeting': 2,\n",
       " 'men,': 3,\n",
       " 'mighty': 2,\n",
       " 'military': 9,\n",
       " 'million': 2,\n",
       " 'ministers,': 2,\n",
       " 'mobilisation': 3,\n",
       " 'moment': 3,\n",
       " 'moment,': 2,\n",
       " 'more,': 2,\n",
       " 'move': 2,\n",
       " 'move,': 2,\n",
       " 'nation': 8,\n",
       " 'nation,': 2,\n",
       " 'national': 8,\n",
       " 'nations': 8,\n",
       " 'nations.': 3,\n",
       " 'native': 4,\n",
       " 'no!': 3,\n",
       " 'no,': 3,\n",
       " 'no.': 3,\n",
       " 'now,': 13,\n",
       " 'officers': 3,\n",
       " 'ofindonesia': 4,\n",
       " 'ofindonesia.': 3,\n",
       " 'ofthe': 2,\n",
       " 'oh,': 4,\n",
       " 'on,': 7,\n",
       " 'one,': 2,\n",
       " 'onlyone': 2,\n",
       " 'order': 6,\n",
       " 'out,': 5,\n",
       " 'outcome': 3,\n",
       " 'papua': 2,\n",
       " 'papua\"!': 2,\n",
       " 'papua\",': 5,\n",
       " 'part': 3,\n",
       " 'people': 38,\n",
       " 'people,': 6,\n",
       " 'people.': 3,\n",
       " 'policy': 6,\n",
       " 'policy.': 2,\n",
       " 'political': 2,\n",
       " 'positively': 2,\n",
       " 'present': 2,\n",
       " 'proposal': 3,\n",
       " 'puppet': 5,\n",
       " 'pursue': 2,\n",
       " 'pursues': 2,\n",
       " 'putting': 3,\n",
       " 'question': 4,\n",
       " 'rained': 3,\n",
       " 'ready': 3,\n",
       " 'recognised': 2,\n",
       " 'red': 10,\n",
       " 'referred': 2,\n",
       " 'region': 2,\n",
       " 'representatives': 3,\n",
       " 'republic': 28,\n",
       " 'republic.': 3,\n",
       " 'result': 5,\n",
       " 'revolution': 2,\n",
       " 'revolution,': 2,\n",
       " 'rome': 2,\n",
       " 'round': 7,\n",
       " 'sabang': 2,\n",
       " 'said,': 4,\n",
       " 'said:': 3,\n",
       " 'say:': 3,\n",
       " 'secretary': 2,\n",
       " 'set': 5,\n",
       " 'setting': 3,\n",
       " 'short': 2,\n",
       " 'short,': 2,\n",
       " 'smart': 2,\n",
       " 'so,': 2,\n",
       " 'so-called': 2,\n",
       " 'socialist': 9,\n",
       " 'socialiststates,': 2,\n",
       " 'sovereignty': 2,\n",
       " 'spirit': 14,\n",
       " 'spread': 4,\n",
       " 'stand': 3,\n",
       " 'stands': 2,\n",
       " 'state': 16,\n",
       " 'state,': 6,\n",
       " 'states': 5,\n",
       " 'states,': 4,\n",
       " 'states.': 5,\n",
       " 'strangle-hold': 2,\n",
       " 'strength': 2,\n",
       " 'struck': 2,\n",
       " 'struggle': 11,\n",
       " 'struggle,': 2,\n",
       " 'subandrio': 4,\n",
       " 'subandrio,': 2,\n",
       " 'sukarno': 4,\n",
       " 'sultan': 3,\n",
       " 'supreme': 2,\n",
       " 'table': 8,\n",
       " 'talk': 3,\n",
       " 'talks,': 2,\n",
       " 'territory': 12,\n",
       " 'territoryunder': 2,\n",
       " 'text': 2,\n",
       " 'thedutch': 3,\n",
       " 'theend': 2,\n",
       " 'theindonesian': 5,\n",
       " 'themselves.': 2,\n",
       " 'thepeople': 2,\n",
       " 'there,': 5,\n",
       " 'therepublic': 2,\n",
       " 'therepublic,': 2,\n",
       " 'thesocialist': 2,\n",
       " 'this.': 4,\n",
       " 'time': 8,\n",
       " 'time,': 3,\n",
       " 'times': 3,\n",
       " 'today': 2,\n",
       " 'today,': 2,\n",
       " 'told': 2,\n",
       " 'too,': 2,\n",
       " 'total': 2,\n",
       " 'trickery': 2,\n",
       " 'tried,': 3,\n",
       " 'true': 2,\n",
       " 'turn': 2,\n",
       " 'un,': 8,\n",
       " 'un.': 2,\n",
       " 'unfurl': 6,\n",
       " 'unitary': 2,\n",
       " 'united': 14,\n",
       " 'up,': 4,\n",
       " 'us,': 3,\n",
       " 'us.': 3,\n",
       " 'van': 2,\n",
       " 'vindicate': 2,\n",
       " 'vis-a-vis': 2,\n",
       " 'warfare': 2,\n",
       " 'we,': 3,\n",
       " 'wentdeeper,': 2,\n",
       " 'west': 49,\n",
       " 'westirian': 3,\n",
       " 'white': 9,\n",
       " 'why,': 5,\n",
       " 'words,': 2,\n",
       " 'world': 2,\n",
       " 'world,': 2,\n",
       " 'world.and': 2,\n",
       " 'year': 2,\n",
       " 'years': 5,\n",
       " 'years,': 4,\n",
       " 'yes,': 9,\n",
       " 'york': 2,\n",
       " 'you,': 5,\n",
       " 'young': 4,\n",
       " 'youth': 3}"
      ]
     },
     "execution_count": 14,
     "metadata": {},
     "output_type": "execute_result"
    }
   ],
   "source": [
    "docs[0]"
   ]
  },
  {
   "cell_type": "markdown",
   "metadata": {},
   "source": [
    "* the tokenizer transforms each row into an ordered list of strings that represents the a simpler version of the Penn-Tree-Bank-style (PTB-style) tokenization of that row's document. \n",
    "* The representation of a document provided by PTB-style of tokenization is essential for sequence-tagging, parsing, bag-of-words treatment, and any text analytics task that requires word-level granularity. For a description of this style of tokenization, see [tokenization example](https://www.cis.upenn.edu/~treebank/tokenization.html.)"
   ]
  },
  {
   "cell_type": "code",
   "execution_count": 15,
   "metadata": {
    "collapsed": false
   },
   "outputs": [
    {
     "data": {
      "text/html": [
       "<div style=\"max-height:1000px;max-width:1500px;overflow:auto;\"><table frame=\"box\" rules=\"cols\">\n",
       "    <tr>\n",
       "        <th style=\"padding-left: 1em; padding-right: 1em; text-align: center\">tokens</th>\n",
       "    </tr>\n",
       "    <tr>\n",
       "        <td style=\"padding-left: 1em; padding-right: 1em; text-align: center; vertical-align: top\">[As, was, said, by, the,<br>Sultan, just, now,, ...</td>\n",
       "    </tr>\n",
       "</table>\n",
       "[1 rows x 1 columns]<br/>\n",
       "</div>"
      ],
      "text/plain": [
       "Columns:\n",
       "\ttokens\tlist\n",
       "\n",
       "Rows: 1\n",
       "\n",
       "Data:\n",
       "+-------------------------------+\n",
       "|             tokens            |\n",
       "+-------------------------------+\n",
       "| [As, was, said, by, the, S... |\n",
       "+-------------------------------+\n",
       "[1 rows x 1 columns]"
      ]
     },
     "execution_count": 15,
     "metadata": {},
     "output_type": "execute_result"
    }
   ],
   "source": [
    "tokenized_speech = gl.SFrame()\n",
    "tokenized_speech['tokens'] = gl.text_analytics.tokenize(sf['speech'])\n",
    "tokenized_speech"
   ]
  },
  {
   "cell_type": "markdown",
   "metadata": {},
   "source": [
    "## Part of Speech Extraction"
   ]
  },
  {
   "cell_type": "markdown",
   "metadata": {},
   "source": [
    "* Highlight unique nouns in your text, identify adjectives with the high sentiment scores, or pull out nouns to generate candidate entities. \n",
    "The extract_parts_of_speech method parses the text in each element and extracts the words that are a given part of speech. \n",
    "For instance, to find all instances of adjectives:"
   ]
  },
  {
   "cell_type": "code",
   "execution_count": 16,
   "metadata": {
    "collapsed": false
   },
   "outputs": [
    {
     "data": {
      "text/html": [
       "<div style=\"max-height:1000px;max-width:1500px;overflow:auto;\"><table frame=\"box\" rules=\"cols\">\n",
       "    <tr>\n",
       "        <th style=\"padding-left: 1em; padding-right: 1em; text-align: center\">adjectives</th>\n",
       "    </tr>\n",
       "    <tr>\n",
       "        <td style=\"padding-left: 1em; padding-right: 1em; text-align: center; vertical-align: top\">{'ADJ': {'all': 4,<br>'true': 2, 'done?Oh': 1, ...</td>\n",
       "    </tr>\n",
       "</table>\n",
       "[1 rows x 1 columns]<br/>\n",
       "</div>"
      ],
      "text/plain": [
       "Columns:\n",
       "\tadjectives\tdict\n",
       "\n",
       "Rows: 1\n",
       "\n",
       "Data:\n",
       "+-------------------------------+\n",
       "|           adjectives          |\n",
       "+-------------------------------+\n",
       "| {'ADJ': {'all': 4, 'true':... |\n",
       "+-------------------------------+\n",
       "[1 rows x 1 columns]"
      ]
     },
     "execution_count": 16,
     "metadata": {},
     "output_type": "execute_result"
    }
   ],
   "source": [
    "parts_of_speech = gl.SFrame()\n",
    "parts_of_speech['adjectives'] = gl.text_analytics.extract_parts_of_speech(sf['speech'],\n",
    "                                                  chosen_pos=[gl.text_analytics.PartOfSpeech.ADJ])\n",
    "parts_of_speech"
   ]
  },
  {
   "cell_type": "markdown",
   "metadata": {},
   "source": [
    "## Sentence Splitting"
   ]
  },
  {
   "cell_type": "markdown",
   "metadata": {},
   "source": [
    "* The sentence splitter splits by sentence and outputs a list of sentences. \n",
    "This aids in anlysis at the sentence level.\n",
    "For example, you may want a sentiment score for each sentence in a document.\n",
    "The following command accomplishes this for you:"
   ]
  },
  {
   "cell_type": "code",
   "execution_count": 17,
   "metadata": {
    "collapsed": false
   },
   "outputs": [
    {
     "data": {
      "text/html": [
       "<div style=\"max-height:1000px;max-width:1500px;overflow:auto;\"><table frame=\"box\" rules=\"cols\">\n",
       "    <tr>\n",
       "        <th style=\"padding-left: 1em; padding-right: 1em; text-align: center\">sent</th>\n",
       "    </tr>\n",
       "    <tr>\n",
       "        <td style=\"padding-left: 1em; padding-right: 1em; text-align: center; vertical-align: top\">[As was said by the<br>Sultan just now, today, ...</td>\n",
       "    </tr>\n",
       "</table>\n",
       "[1 rows x 1 columns]<br/>\n",
       "</div>"
      ],
      "text/plain": [
       "Columns:\n",
       "\tsent\tlist\n",
       "\n",
       "Rows: 1\n",
       "\n",
       "Data:\n",
       "+-------------------------------+\n",
       "|              sent             |\n",
       "+-------------------------------+\n",
       "| [As was said by the Sultan... |\n",
       "+-------------------------------+\n",
       "[1 rows x 1 columns]"
      ]
     },
     "execution_count": 17,
     "metadata": {},
     "output_type": "execute_result"
    }
   ],
   "source": [
    "sentences = gl.SFrame()\n",
    "sentences['sent'] = gl.text_analytics.split_by_sentence(sf['speech'])\n",
    "sentences"
   ]
  },
  {
   "cell_type": "markdown",
   "metadata": {},
   "source": [
    "## Create a topic model"
   ]
  },
  {
   "cell_type": "code",
   "execution_count": 18,
   "metadata": {
    "collapsed": false
   },
   "outputs": [],
   "source": [
    "docs = gl.text_analytics.count_words(sf['speech'])\n",
    "docs = docs.dict_trim_by_keys(gl.text_analytics.stopwords(), exclude=True)"
   ]
  },
  {
   "cell_type": "markdown",
   "metadata": {},
   "source": [
    "* Learn topic model"
   ]
  },
  {
   "cell_type": "code",
   "execution_count": 19,
   "metadata": {
    "collapsed": false
   },
   "outputs": [
    {
     "data": {
      "text/html": [
       "<pre>Learning a topic model</pre>"
      ],
      "text/plain": [
       "Learning a topic model"
      ]
     },
     "metadata": {},
     "output_type": "display_data"
    },
    {
     "data": {
      "text/html": [
       "<pre>       Number of documents         1</pre>"
      ],
      "text/plain": [
       "       Number of documents         1"
      ]
     },
     "metadata": {},
     "output_type": "display_data"
    },
    {
     "data": {
      "text/html": [
       "<pre>           Vocabulary size      1309</pre>"
      ],
      "text/plain": [
       "           Vocabulary size      1309"
      ]
     },
     "metadata": {},
     "output_type": "display_data"
    },
    {
     "data": {
      "text/html": [
       "<pre>   Running collapsed Gibbs sampling</pre>"
      ],
      "text/plain": [
       "   Running collapsed Gibbs sampling"
      ]
     },
     "metadata": {},
     "output_type": "display_data"
    },
    {
     "data": {
      "text/html": [
       "<pre>+-----------+---------------+----------------+-----------------+</pre>"
      ],
      "text/plain": [
       "+-----------+---------------+----------------+-----------------+"
      ]
     },
     "metadata": {},
     "output_type": "display_data"
    },
    {
     "data": {
      "text/html": [
       "<pre>| Iteration | Elapsed Time  | Tokens/Second  | Est. Perplexity |</pre>"
      ],
      "text/plain": [
       "| Iteration | Elapsed Time  | Tokens/Second  | Est. Perplexity |"
      ]
     },
     "metadata": {},
     "output_type": "display_data"
    },
    {
     "data": {
      "text/html": [
       "<pre>+-----------+---------------+----------------+-----------------+</pre>"
      ],
      "text/plain": [
       "+-----------+---------------+----------------+-----------------+"
      ]
     },
     "metadata": {},
     "output_type": "display_data"
    },
    {
     "data": {
      "text/html": [
       "<pre>| 10        | 10.657ms      | 1636250        | 0               |</pre>"
      ],
      "text/plain": [
       "| 10        | 10.657ms      | 1636250        | 0               |"
      ]
     },
     "metadata": {},
     "output_type": "display_data"
    },
    {
     "data": {
      "text/html": [
       "<pre>+-----------+---------------+----------------+-----------------+</pre>"
      ],
      "text/plain": [
       "+-----------+---------------+----------------+-----------------+"
      ]
     },
     "metadata": {},
     "output_type": "display_data"
    }
   ],
   "source": [
    "model = gl.topic_model.create(docs)"
   ]
  },
  {
   "cell_type": "code",
   "execution_count": 20,
   "metadata": {
    "collapsed": false
   },
   "outputs": [
    {
     "name": "stdout",
     "output_type": "stream",
     "text": [
      "+-------+------------+-----------------+\n",
      "| topic |    word    |      score      |\n",
      "+-------+------------+-----------------+\n",
      "|   0   |   irian    | 0.0590542601874 |\n",
      "|   0   |    red     | 0.0220091523208 |\n",
      "|   0   | indonesia, | 0.0198300283286 |\n",
      "|   0   |   white    | 0.0198300283286 |\n",
      "|   0   |  nations   | 0.0176509043365 |\n",
      "|   1   |   state    | 0.0557286258221 |\n",
      "|   1   |   nation   | 0.0280373831776 |\n",
      "|   1   |   years    | 0.0176531671859 |\n",
      "|   1   |   puppet   | 0.0176531671859 |\n",
      "|   1   |  papua\",   | 0.0176531671859 |\n",
      "+-------+------------+-----------------+\n",
      "[50 rows x 3 columns]\n",
      "Note: Only the head of the SFrame is printed.\n",
      "You can use print_rows(num_rows=m, num_columns=n) to print more rows and columns.\n"
     ]
    }
   ],
   "source": [
    "print model.get_topics()"
   ]
  },
  {
   "cell_type": "code",
   "execution_count": 21,
   "metadata": {
    "collapsed": false
   },
   "outputs": [
    {
     "name": "stdout",
     "output_type": "stream",
     "text": [
      "+-------------------------------+\n",
      "|             words             |\n",
      "+-------------------------------+\n",
      "| [irian, red, indonesia,, w... |\n",
      "| [state, nation, puppet, ye... |\n",
      "| [dutch, -, united, now,, a... |\n",
      "| [indonesia, friends,, nati... |\n",
      "| [spirit, indonesia., armed... |\n",
      "| [irian,, flying, military,... |\n",
      "| [people, flag, struggle, e... |\n",
      "| [west, round, people,, set... |\n",
      "| [indonesian, command, yes,... |\n",
      "| [republic, territory, cont... |\n",
      "+-------------------------------+\n",
      "[10 rows x 1 columns]\n",
      "\n"
     ]
    }
   ],
   "source": [
    "print model.get_topics(output_type='topic_words')"
   ]
  },
  {
   "cell_type": "code",
   "execution_count": 22,
   "metadata": {
    "collapsed": false
   },
   "outputs": [
    {
     "data": {
      "text/plain": [
       "Class                          : TopicModel\n",
       "\n",
       "Schema\n",
       "------\n",
       "Vocabulary Size                : 1309\n",
       "\n",
       "Settings\n",
       "--------\n",
       "Number of Topics               : 10\n",
       "alpha                          : 5.0\n",
       "beta                           : 0.1\n",
       "Iterations                     : 10\n",
       "Training time                  : 1.0142\n",
       "Verbose                        : False\n",
       "\n",
       "Accessible fields             : \n",
       "m['topics']                   : An SFrame containing the topics.\n",
       "m['vocabulary']               : An SArray containing the words in the vocabulary.\n",
       "Useful methods                : \n",
       "m.get_topics()                : Get the most probable words per topic.\n",
       "m.predict(new_docs)           : Make predictions for new documents."
      ]
     },
     "execution_count": 22,
     "metadata": {},
     "output_type": "execute_result"
    }
   ],
   "source": [
    "model"
   ]
  },
  {
   "cell_type": "markdown",
   "metadata": {},
   "source": [
    "* To predict the topic of a given document, one can get an SArray of integers containing the most probable topic ids:\n"
   ]
  },
  {
   "cell_type": "code",
   "execution_count": 23,
   "metadata": {
    "collapsed": true
   },
   "outputs": [],
   "source": [
    "pred = model.predict(docs)"
   ]
  },
  {
   "cell_type": "markdown",
   "metadata": {},
   "source": [
    "* Combining the above method with standard SFrame capabilities, one can use predict to find documents related to a particular topic\n"
   ]
  },
  {
   "cell_type": "code",
   "execution_count": 24,
   "metadata": {
    "collapsed": true
   },
   "outputs": [],
   "source": [
    "docs_in_topic_0 = docs[model.predict(docs) == 0]"
   ]
  },
  {
   "cell_type": "code",
   "execution_count": 25,
   "metadata": {
    "collapsed": false
   },
   "outputs": [
    {
     "data": {
      "text/plain": [
       "dtype: array\n",
       "Rows: 1\n",
       "[array('d', [0.13122362869198312, 0.07130801687763713, 0.14261603375527426, 0.10253164556962026, 0.07974683544303797, 0.08270042194092828, 0.09873417721518987, 0.10717299578059072, 0.09451476793248945, 0.08945147679324894])]"
      ]
     },
     "execution_count": 25,
     "metadata": {},
     "output_type": "execute_result"
    }
   ],
   "source": [
    "pred = model.predict(docs, output_type='probability')\n",
    "pred"
   ]
  },
  {
   "cell_type": "code",
   "execution_count": 26,
   "metadata": {
    "collapsed": false
   },
   "outputs": [
    {
     "data": {
      "text/plain": [
       "dtype: str\n",
       "Rows: 1309\n",
       "['nation.may', 'land.3.', 'make.2.', 'toexecute', 'land', 'colonialism', 'uponcontinuing', 'haveinstructed', 'context', 'command.[15]we,', 'read', 'indonesianpeople.the', 'executed', 'sign', 'imperialists.i', 'carry', 'letus', 'now,defeat', 'peace,', 'cemeteries', 'continuingin', \"hero's\", 'lie', 'bymachine-gun', 'killed', 'monginsidi', 'bringthe', 'tjik', 'bondjol.', 'thespirit', 'power', \"coen's\", 'jan', 'hanjokrokusumo,', 'djelantik.', 'agung', 'i,', 'fight', 'hearts', 'continuing', 'indonesia?i', 'isyour', 'liberation', 'forcesof', 'commandto', \"sukarno's\", 'support', 'desire', 'expression', 'supreme', 'giving', 'groups', 'ourfighters', 'workers,', 'groups.', 'ofall', 'me.', 'mouthpieceof', 'theauthority', 'urges', 'briefly,', 'die.', 'speculating,oh', 'prayed', 'sukarnodies.', \"let's\", 'ill', 'and,when', 'already.', 'wereno', 'sukarno.', \"that'sonly\", 'no!some', 'djokountung', 'speaking.', 'onward!and,', 'helping', 'africa,', 'saidrepeatedly,', 'but,', 'indonesia!', 'oneof', 'thehonoured', 'standalone.come', 'repeatedly,', 'onwards.', 'friends.', 'them.', 'commander', 'afriendly', 'oppose', 'underthe', 'outthe', 'republic.these', 'theterritory', 'demanding', 'thesepeople', 'hope', 'carryout', 'trip', ... ]"
      ]
     },
     "execution_count": 26,
     "metadata": {},
     "output_type": "execute_result"
    }
   ],
   "source": [
    "model['vocabulary']"
   ]
  },
  {
   "cell_type": "code",
   "execution_count": 27,
   "metadata": {
    "collapsed": false
   },
   "outputs": [
    {
     "data": {
      "text/html": [
       "<div style=\"max-height:1000px;max-width:1500px;overflow:auto;\"><table frame=\"box\" rules=\"cols\">\n",
       "    <tr>\n",
       "        <th style=\"padding-left: 1em; padding-right: 1em; text-align: center\">topic_probabilities</th>\n",
       "        <th style=\"padding-left: 1em; padding-right: 1em; text-align: center\">vocabulary</th>\n",
       "    </tr>\n",
       "    <tr>\n",
       "        <td style=\"padding-left: 1em; padding-right: 1em; text-align: center; vertical-align: top\">[0.000217912399216,<br>0.000346140533056, ...</td>\n",
       "        <td style=\"padding-left: 1em; padding-right: 1em; text-align: center; vertical-align: top\">nation.may</td>\n",
       "    </tr>\n",
       "    <tr>\n",
       "        <td style=\"padding-left: 1em; padding-right: 1em; text-align: center; vertical-align: top\">[0.000217912399216,<br>0.00380754586362, ...</td>\n",
       "        <td style=\"padding-left: 1em; padding-right: 1em; text-align: center; vertical-align: top\">land.3.</td>\n",
       "    </tr>\n",
       "    <tr>\n",
       "        <td style=\"padding-left: 1em; padding-right: 1em; text-align: center; vertical-align: top\">[0.000217912399216,<br>0.000346140533056, ...</td>\n",
       "        <td style=\"padding-left: 1em; padding-right: 1em; text-align: center; vertical-align: top\">make.2.</td>\n",
       "    </tr>\n",
       "    <tr>\n",
       "        <td style=\"padding-left: 1em; padding-right: 1em; text-align: center; vertical-align: top\">[0.000217912399216,<br>0.000346140533056, ...</td>\n",
       "        <td style=\"padding-left: 1em; padding-right: 1em; text-align: center; vertical-align: top\">toexecute</td>\n",
       "    </tr>\n",
       "    <tr>\n",
       "        <td style=\"padding-left: 1em; padding-right: 1em; text-align: center; vertical-align: top\">[0.000217912399216,<br>0.000346140533056, ...</td>\n",
       "        <td style=\"padding-left: 1em; padding-right: 1em; text-align: center; vertical-align: top\">land</td>\n",
       "    </tr>\n",
       "    <tr>\n",
       "        <td style=\"padding-left: 1em; padding-right: 1em; text-align: center; vertical-align: top\">[0.00239703639137,<br>0.000346140533056, ...</td>\n",
       "        <td style=\"padding-left: 1em; padding-right: 1em; text-align: center; vertical-align: top\">colonialism</td>\n",
       "    </tr>\n",
       "    <tr>\n",
       "        <td style=\"padding-left: 1em; padding-right: 1em; text-align: center; vertical-align: top\">[0.000217912399216,<br>0.000346140533056, ...</td>\n",
       "        <td style=\"padding-left: 1em; padding-right: 1em; text-align: center; vertical-align: top\">uponcontinuing</td>\n",
       "    </tr>\n",
       "    <tr>\n",
       "        <td style=\"padding-left: 1em; padding-right: 1em; text-align: center; vertical-align: top\">[0.000217912399216,<br>0.000346140533056, ...</td>\n",
       "        <td style=\"padding-left: 1em; padding-right: 1em; text-align: center; vertical-align: top\">haveinstructed</td>\n",
       "    </tr>\n",
       "    <tr>\n",
       "        <td style=\"padding-left: 1em; padding-right: 1em; text-align: center; vertical-align: top\">[0.00239703639137,<br>0.000346140533056, ...</td>\n",
       "        <td style=\"padding-left: 1em; padding-right: 1em; text-align: center; vertical-align: top\">context</td>\n",
       "    </tr>\n",
       "    <tr>\n",
       "        <td style=\"padding-left: 1em; padding-right: 1em; text-align: center; vertical-align: top\">[0.00239703639137,<br>0.000346140533056, ...</td>\n",
       "        <td style=\"padding-left: 1em; padding-right: 1em; text-align: center; vertical-align: top\">command.[15]we,</td>\n",
       "    </tr>\n",
       "</table>\n",
       "[1309 rows x 2 columns]<br/>Note: Only the head of the SFrame is printed.<br/>You can use print_rows(num_rows=m, num_columns=n) to print more rows and columns.\n",
       "</div>"
      ],
      "text/plain": [
       "Columns:\n",
       "\ttopic_probabilities\tarray\n",
       "\tvocabulary\tstr\n",
       "\n",
       "Rows: 1309\n",
       "\n",
       "Data:\n",
       "+-------------------------------+-----------------+\n",
       "|      topic_probabilities      |    vocabulary   |\n",
       "+-------------------------------+-----------------+\n",
       "| [0.000217912399216, 0.0003... |    nation.may   |\n",
       "| [0.000217912399216, 0.0038... |     land.3.     |\n",
       "| [0.000217912399216, 0.0003... |     make.2.     |\n",
       "| [0.000217912399216, 0.0003... |    toexecute    |\n",
       "| [0.000217912399216, 0.0003... |       land      |\n",
       "| [0.00239703639137, 0.00034... |   colonialism   |\n",
       "| [0.000217912399216, 0.0003... |  uponcontinuing |\n",
       "| [0.000217912399216, 0.0003... |  haveinstructed |\n",
       "| [0.00239703639137, 0.00034... |     context     |\n",
       "| [0.00239703639137, 0.00034... | command.[15]we, |\n",
       "+-------------------------------+-----------------+\n",
       "[1309 rows x 2 columns]\n",
       "Note: Only the head of the SFrame is printed.\n",
       "You can use print_rows(num_rows=m, num_columns=n) to print more rows and columns."
      ]
     },
     "execution_count": 27,
     "metadata": {},
     "output_type": "execute_result"
    }
   ],
   "source": [
    "model['topics']"
   ]
  },
  {
   "cell_type": "markdown",
   "metadata": {},
   "source": [
    "* save and load models"
   ]
  },
  {
   "cell_type": "code",
   "execution_count": 28,
   "metadata": {
    "collapsed": true
   },
   "outputs": [],
   "source": [
    "os.chdir(\"../text_analysis/data/\")"
   ]
  },
  {
   "cell_type": "code",
   "execution_count": 29,
   "metadata": {
    "collapsed": false
   },
   "outputs": [],
   "source": [
    "model.save('sukarno_jogyakarta_model')\n",
    "sukarno_model = gl.load_model('sukarno_jogyakarta_model')"
   ]
  },
  {
   "cell_type": "code",
   "execution_count": null,
   "metadata": {
    "collapsed": true
   },
   "outputs": [],
   "source": []
  }
 ],
 "metadata": {
  "anaconda-cloud": {},
  "kernelspec": {
   "display_name": "Python [gl-env]",
   "language": "python",
   "name": "Python [gl-env]"
  },
  "language_info": {
   "codemirror_mode": {
    "name": "ipython",
    "version": 2
   },
   "file_extension": ".py",
   "mimetype": "text/x-python",
   "name": "python",
   "nbconvert_exporter": "python",
   "pygments_lexer": "ipython2",
   "version": "2.7.12"
  }
 },
 "nbformat": 4,
 "nbformat_minor": 0
}
