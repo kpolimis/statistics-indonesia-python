{
 "cells": [
  {
   "cell_type": "code",
   "execution_count": 1,
   "metadata": {
    "collapsed": true
   },
   "outputs": [],
   "source": [
    "import os\n",
    "import pandas as pd \n",
    "import matplotlib.pyplot as plt \n",
    "from csv_from_excel import csv_from_excel\n",
    "%matplotlib inline"
   ]
  },
  {
   "cell_type": "code",
   "execution_count": 2,
   "metadata": {
    "collapsed": false
   },
   "outputs": [],
   "source": [
    "#%cat csv_from_excel.py"
   ]
  },
  {
   "cell_type": "code",
   "execution_count": 3,
   "metadata": {
    "collapsed": true
   },
   "outputs": [],
   "source": [
    "os.chdir(\"../data/\")"
   ]
  },
  {
   "cell_type": "code",
   "execution_count": 4,
   "metadata": {
    "collapsed": false
   },
   "outputs": [],
   "source": [
    "#csv_from_excel(\"bps-file.xlsx\")"
   ]
  },
  {
   "cell_type": "code",
   "execution_count": 5,
   "metadata": {
    "collapsed": false
   },
   "outputs": [],
   "source": [
    "indonesia_df = pd.read_csv(\"bps-file.csv\", index_col= 0)"
   ]
  },
  {
   "cell_type": "code",
   "execution_count": 6,
   "metadata": {
    "collapsed": false
   },
   "outputs": [
    {
     "data": {
      "text/html": [
       "<div>\n",
       "<table border=\"1\" class=\"dataframe\">\n",
       "  <thead>\n",
       "    <tr style=\"text-align: right;\">\n",
       "      <th></th>\n",
       "      <th>Unnamed: 1</th>\n",
       "      <th>Unnamed: 2</th>\n",
       "      <th>Unnamed: 3</th>\n",
       "    </tr>\n",
       "  </thead>\n",
       "  <tbody>\n",
       "    <tr>\n",
       "      <th>Propinsi</th>\n",
       "      <td>Jum2013</td>\n",
       "      <td>Jum2014</td>\n",
       "      <td>Jum2015</td>\n",
       "    </tr>\n",
       "    <tr>\n",
       "      <th>ACEH</th>\n",
       "      <td>855.71</td>\n",
       "      <td>837.42</td>\n",
       "      <td>859.41</td>\n",
       "    </tr>\n",
       "    <tr>\n",
       "      <th>SUMATERA UTARA</th>\n",
       "      <td>1390.80</td>\n",
       "      <td>1360.60</td>\n",
       "      <td>1508.14</td>\n",
       "    </tr>\n",
       "    <tr>\n",
       "      <th>SUMATERA BARAT</th>\n",
       "      <td>380.63</td>\n",
       "      <td>354.74</td>\n",
       "      <td>349.53</td>\n",
       "    </tr>\n",
       "    <tr>\n",
       "      <th>RIAU</th>\n",
       "      <td>522.53</td>\n",
       "      <td>498.28</td>\n",
       "      <td>562.92</td>\n",
       "    </tr>\n",
       "  </tbody>\n",
       "</table>\n",
       "</div>"
      ],
      "text/plain": [
       "               Unnamed: 1 Unnamed: 2 Unnamed: 3\n",
       "Propinsi          Jum2013    Jum2014    Jum2015\n",
       "ACEH               855.71     837.42     859.41\n",
       "SUMATERA UTARA    1390.80    1360.60    1508.14\n",
       "SUMATERA BARAT     380.63     354.74     349.53\n",
       "RIAU               522.53     498.28     562.92"
      ]
     },
     "execution_count": 6,
     "metadata": {},
     "output_type": "execute_result"
    }
   ],
   "source": [
    "indonesia_df.head()"
   ]
  },
  {
   "cell_type": "code",
   "execution_count": 7,
   "metadata": {
    "collapsed": false
   },
   "outputs": [
    {
     "data": {
      "text/plain": [
       "Index(['Unnamed: 1', 'Unnamed: 2', 'Unnamed: 3'], dtype='object')"
      ]
     },
     "execution_count": 7,
     "metadata": {},
     "output_type": "execute_result"
    }
   ],
   "source": [
    "indonesia_df.columns"
   ]
  },
  {
   "cell_type": "code",
   "execution_count": 8,
   "metadata": {
    "collapsed": false
   },
   "outputs": [
    {
     "data": {
      "text/plain": [
       "Unnamed: 1    Jum2013\n",
       "Unnamed: 2    Jum2014\n",
       "Unnamed: 3    Jum2015\n",
       "Name: Propinsi, dtype: object"
      ]
     },
     "execution_count": 8,
     "metadata": {},
     "output_type": "execute_result"
    }
   ],
   "source": [
    "indonesia_df.iloc[0]"
   ]
  },
  {
   "cell_type": "code",
   "execution_count": 9,
   "metadata": {
    "collapsed": false
   },
   "outputs": [
    {
     "data": {
      "text/plain": [
       "Index(['Jum2013', 'Jum2014', 'Jum2015'], dtype='object', name='Propinsi')"
      ]
     },
     "execution_count": 9,
     "metadata": {},
     "output_type": "execute_result"
    }
   ],
   "source": [
    "indonesia_df.columns = indonesia_df.iloc[0]\n",
    "indonesia_df.columns"
   ]
  },
  {
   "cell_type": "code",
   "execution_count": 10,
   "metadata": {
    "collapsed": false
   },
   "outputs": [
    {
     "data": {
      "text/html": [
       "<div>\n",
       "<table border=\"1\" class=\"dataframe\">\n",
       "  <thead>\n",
       "    <tr style=\"text-align: right;\">\n",
       "      <th>Propinsi</th>\n",
       "      <th>Jum2013</th>\n",
       "      <th>Jum2014</th>\n",
       "      <th>Jum2015</th>\n",
       "    </tr>\n",
       "  </thead>\n",
       "  <tbody>\n",
       "    <tr>\n",
       "      <th>Propinsi</th>\n",
       "      <td>Jum2013</td>\n",
       "      <td>Jum2014</td>\n",
       "      <td>Jum2015</td>\n",
       "    </tr>\n",
       "    <tr>\n",
       "      <th>ACEH</th>\n",
       "      <td>855.71</td>\n",
       "      <td>837.42</td>\n",
       "      <td>859.41</td>\n",
       "    </tr>\n",
       "    <tr>\n",
       "      <th>SUMATERA UTARA</th>\n",
       "      <td>1390.80</td>\n",
       "      <td>1360.60</td>\n",
       "      <td>1508.14</td>\n",
       "    </tr>\n",
       "    <tr>\n",
       "      <th>SUMATERA BARAT</th>\n",
       "      <td>380.63</td>\n",
       "      <td>354.74</td>\n",
       "      <td>349.53</td>\n",
       "    </tr>\n",
       "    <tr>\n",
       "      <th>RIAU</th>\n",
       "      <td>522.53</td>\n",
       "      <td>498.28</td>\n",
       "      <td>562.92</td>\n",
       "    </tr>\n",
       "  </tbody>\n",
       "</table>\n",
       "</div>"
      ],
      "text/plain": [
       "Propinsi        Jum2013  Jum2014  Jum2015\n",
       "Propinsi        Jum2013  Jum2014  Jum2015\n",
       "ACEH             855.71   837.42   859.41\n",
       "SUMATERA UTARA  1390.80  1360.60  1508.14\n",
       "SUMATERA BARAT   380.63   354.74   349.53\n",
       "RIAU             522.53   498.28   562.92"
      ]
     },
     "execution_count": 10,
     "metadata": {},
     "output_type": "execute_result"
    }
   ],
   "source": [
    "indonesia_df.head()"
   ]
  },
  {
   "cell_type": "code",
   "execution_count": 11,
   "metadata": {
    "collapsed": false
   },
   "outputs": [
    {
     "data": {
      "text/html": [
       "<div>\n",
       "<table border=\"1\" class=\"dataframe\">\n",
       "  <thead>\n",
       "    <tr style=\"text-align: right;\">\n",
       "      <th>Propinsi</th>\n",
       "      <th>Jum2013</th>\n",
       "      <th>Jum2014</th>\n",
       "      <th>Jum2015</th>\n",
       "    </tr>\n",
       "  </thead>\n",
       "  <tbody>\n",
       "    <tr>\n",
       "      <th>ACEH</th>\n",
       "      <td>855.71</td>\n",
       "      <td>837.42</td>\n",
       "      <td>859.41</td>\n",
       "    </tr>\n",
       "    <tr>\n",
       "      <th>SUMATERA UTARA</th>\n",
       "      <td>1390.80</td>\n",
       "      <td>1360.60</td>\n",
       "      <td>1508.14</td>\n",
       "    </tr>\n",
       "    <tr>\n",
       "      <th>SUMATERA BARAT</th>\n",
       "      <td>380.63</td>\n",
       "      <td>354.74</td>\n",
       "      <td>349.53</td>\n",
       "    </tr>\n",
       "    <tr>\n",
       "      <th>RIAU</th>\n",
       "      <td>522.53</td>\n",
       "      <td>498.28</td>\n",
       "      <td>562.92</td>\n",
       "    </tr>\n",
       "    <tr>\n",
       "      <th>JAMBI</th>\n",
       "      <td>281.57</td>\n",
       "      <td>281.75</td>\n",
       "      <td>311.56</td>\n",
       "    </tr>\n",
       "  </tbody>\n",
       "</table>\n",
       "</div>"
      ],
      "text/plain": [
       "Propinsi        Jum2013  Jum2014  Jum2015\n",
       "ACEH             855.71   837.42   859.41\n",
       "SUMATERA UTARA  1390.80  1360.60  1508.14\n",
       "SUMATERA BARAT   380.63   354.74   349.53\n",
       "RIAU             522.53   498.28   562.92\n",
       "JAMBI            281.57   281.75   311.56"
      ]
     },
     "execution_count": 11,
     "metadata": {},
     "output_type": "execute_result"
    }
   ],
   "source": [
    "indonesia_df = indonesia_df.drop(\"Propinsi\")\n",
    "indonesia_df.head()"
   ]
  },
  {
   "cell_type": "code",
   "execution_count": 12,
   "metadata": {
    "collapsed": false
   },
   "outputs": [
    {
     "data": {
      "text/plain": [
       "'ACEH'"
      ]
     },
     "execution_count": 12,
     "metadata": {},
     "output_type": "execute_result"
    }
   ],
   "source": [
    "indonesia_df.index[0]"
   ]
  },
  {
   "cell_type": "code",
   "execution_count": 13,
   "metadata": {
    "collapsed": false
   },
   "outputs": [
    {
     "data": {
      "text/plain": [
       "(array([  0.,   5.,  10.,  15.,  20.,  25.,  30.,  35.]),\n",
       " <a list of 8 Text xticklabel objects>)"
      ]
     },
     "execution_count": 13,
     "metadata": {},
     "output_type": "execute_result"
    },
    {
     "data": {
      "image/png": "[encoded data removed]",
      "text/plain": [
       "<matplotlib.figure.Figure at 0x1180f8ac8>"
      ]
     },
     "metadata": {},
     "output_type": "display_data"
    }
   ],
   "source": [
    "years = []\n",
    "\n",
    "for col in indonesia_df.columns:\n",
    "    # year is given by last 4 chars in col\n",
    "    year = col[-4:]\n",
    "    years.append(year)\n",
    "\n",
    "indonesia_max = indonesia_df.T.max().tolist()\n",
    "plt.plot(range(0, len(indonesia_df), 1), indonesia_max, 'p')\n",
    "#plt.legend(loc=\"upper right\")\n",
    "plt.xlabel(\"Propinsi\")\n",
    "plt.ylabel(\"Max GDP per Region ($)\")\n",
    "plt.xticks()\n",
    "#asia_df.idxmin()"
   ]
  },
  {
   "cell_type": "code",
   "execution_count": 14,
   "metadata": {
    "collapsed": false
   },
   "outputs": [
    {
     "data": {
      "text/plain": [
       "['2013', '2014', '2015']"
      ]
     },
     "execution_count": 14,
     "metadata": {},
     "output_type": "execute_result"
    }
   ],
   "source": [
    "years"
   ]
  },
  {
   "cell_type": "code",
   "execution_count": 15,
   "metadata": {
    "collapsed": false
   },
   "outputs": [
    {
     "data": {
      "image/png": "[encoded data removed]",
      "text/plain": [
       "<matplotlib.figure.Figure at 0x1180f85c0>"
      ]
     },
     "metadata": {},
     "output_type": "display_data"
    }
   ],
   "source": [
    "plt.plot(kind = 'scatter', x= range(0, len(indonesia_df), 1), y = indonesia_df.T.max().tolist())\n",
    "plt.show()"
   ]
  },
  {
   "cell_type": "code",
   "execution_count": 16,
   "metadata": {
    "collapsed": false
   },
   "outputs": [],
   "source": [
    "#indonesia_df.plot.scatter(x= range(0, len(indonesia_df), 1), y = indonesia_df.T.max().tolist())"
   ]
  },
  {
   "cell_type": "code",
   "execution_count": 17,
   "metadata": {
    "collapsed": false
   },
   "outputs": [],
   "source": [
    "# find indonesian life expectancy data to complete this plot\n",
    "#indonesia_df.plot(kind='scatter', x = 'gdpPercap_2007', y='lifeExp_2007',\n",
    "#            s = europe_df['pop_2007']/1e6)\n",
    "#for label, x, y in zip(europe_df.index,europe_df['gdpPercap_2007'], europe_df['lifeExp_2007']):\n",
    "#    plt.annotate(\n",
    "#        label, \n",
    "#        xy = (x, y), xytext = (-20, 20),\n",
    "#        textcoords = 'offset points', ha = 'right', va = 'bottom',\n",
    "#        bbox = dict(boxstyle = 'round,pad=0.5', fc = 'yellow', alpha = 0.5),\n",
    "#        arrowprops = dict(arrowstyle = '->', connectionstyle = 'arc3,rad=0')\n",
    "#    )\n",
    "#plt.show()"
   ]
  }
 ],
 "metadata": {
  "anaconda-cloud": {},
  "kernelspec": {
   "display_name": "Python [Root]",
   "language": "python",
   "name": "Python [Root]"
  },
  "language_info": {
   "codemirror_mode": {
    "name": "ipython",
    "version": 3
   },
   "file_extension": ".py",
   "mimetype": "text/x-python",
   "name": "python",
   "nbconvert_exporter": "python",
   "pygments_lexer": "ipython3",
   "version": "3.5.2"
  }
 },
 "nbformat": 4,
 "nbformat_minor": 0
}
