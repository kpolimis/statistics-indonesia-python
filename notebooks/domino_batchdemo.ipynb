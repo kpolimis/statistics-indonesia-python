{
 "cells": [
  {
   "cell_type": "code",
   "execution_count": 1,
   "metadata": {
    "collapsed": false,
    "slideshow": {
     "slide_type": "slide"
    }
   },
   "outputs": [],
   "source": [
    "import pandas as pd\n",
    "import folium\n",
    "from matplotlib.colors import Normalize, rgb2hex\n",
    "import matplotlib.cm as cm"
   ]
  },
  {
   "cell_type": "code",
   "execution_count": 2,
   "metadata": {
    "collapsed": false,
    "slideshow": {
     "slide_type": "slide"
    }
   },
   "outputs": [],
   "source": [
    "data = pd.read_csv('http://earthquake.usgs.gov/earthquakes/feed/v1.0/summary/all_day.csv')\n",
    "norm = Normalize(data['mag'].min(), data['mag'].max())\n",
    "\n",
    "map = folium.Map(location=[48, -102], zoom_start=3)\n",
    "for eq in data.iterrows():\n",
    "    color = rgb2hex(cm.OrRd(norm(float(eq[1]['mag']))))\n",
    "    folium.CircleMarker([eq[1]['latitude'], eq[1]['longitude']], \n",
    "                    popup=eq[1]['place'], \n",
    "                    radius=20000*float(eq[1]['mag']),\n",
    "                    color=color,\n",
    "                    fill_color=color).add_to(map)\n",
    "map.save('../figures/earthquake.html')\n",
    "# need to replace CDN with https URLs\n",
    "with open('../figures/earthquake.html', 'r') as f:\n",
    "    contents = f.read()\n",
    "    contents = contents.replace(\"http://cdn.leafletjs.com/leaflet-0.5/\", \"//cdnjs.cloudflare.com/ajax/libs/leaflet/0.7.7/\")\n",
    "    with open('../figures/earthquake2.html', 'w') as f:\n",
    "        f.writelines(contents)"
   ]
  },
  {
   "cell_type": "code",
   "execution_count": 3,
   "metadata": {
    "collapsed": false
   },
   "outputs": [
    {
     "data": {
      "text/html": [
       "#<iframe width=\"100%\" height=\"350\" src=\"https://app.dominodatalab.com/r00sj3/jupyter/raw/latest/results/earthquake2.html?inline=true\"></iframe>\n",
       "<iframe width=\"100%\" height=\"350\" src=\"../figures/earthquake2.html?inline=true\"></iframe>"
      ],
      "text/plain": [
       "<IPython.core.display.HTML object>"
      ]
     },
     "metadata": {},
     "output_type": "display_data"
    }
   ],
   "source": [
    "%%HTML\n",
    "#<iframe width=\"100%\" height=\"350\" src=\"https://app.dominodatalab.com/r00sj3/jupyter/raw/latest/results/earthquake2.html?inline=true\"></iframe>\n",
    "<iframe width=\"100%\" height=\"350\" src=\"../figures/earthquake2.html?inline=true\"></iframe>"
   ]
  },
  {
   "cell_type": "code",
   "execution_count": null,
   "metadata": {
    "collapsed": true
   },
   "outputs": [],
   "source": []
  }
 ],
 "metadata": {
  "kernelspec": {
   "display_name": "Python [Root]",
   "language": "python",
   "name": "Python [Root]"
  },
  "language_info": {
   "codemirror_mode": {
    "name": "ipython",
    "version": 3
   },
   "file_extension": ".py",
   "mimetype": "text/x-python",
   "name": "python",
   "nbconvert_exporter": "python",
   "pygments_lexer": "ipython3",
   "version": "3.5.2"
  }
 },
 "nbformat": 4,
 "nbformat_minor": 0
}
