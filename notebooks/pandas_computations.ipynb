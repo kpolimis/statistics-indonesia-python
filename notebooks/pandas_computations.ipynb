{
 "cells": [
  {
   "cell_type": "code",
   "execution_count": 1,
   "metadata": {
    "collapsed": false
   },
   "outputs": [],
   "source": [
    "import os\n",
    "import pandas as pd \n",
    "import matplotlib.pyplot as plt\n",
    "import utils"
   ]
  },
  {
   "cell_type": "markdown",
   "metadata": {},
   "source": [
    "* download countrywide indonesia education data"
   ]
  },
  {
   "cell_type": "code",
   "execution_count": 2,
   "metadata": {
    "collapsed": false
   },
   "outputs": [],
   "source": [
    "os.chdir(\"../data\")"
   ]
  },
  {
   "cell_type": "code",
   "execution_count": 3,
   "metadata": {
    "collapsed": false
   },
   "outputs": [
    {
     "name": "stdout",
     "output_type": "stream",
     "text": [
      "('indonesia_education-country.csv', 'already exists')\n"
     ]
    }
   ],
   "source": [
    "utils.get_education_data()"
   ]
  },
  {
   "cell_type": "markdown",
   "metadata": {},
   "source": [
    "* pre-processing data"
   ]
  },
  {
   "cell_type": "code",
   "execution_count": 4,
   "metadata": {
    "collapsed": true
   },
   "outputs": [],
   "source": [
    "education_columns = [\"province\", \"province_name\", \"city_code\", \"city_name\",\n",
    "                     \"education_level\", \"male\", \"female\", \"latitude\", \"longitude\"]"
   ]
  },
  {
   "cell_type": "code",
   "execution_count": 5,
   "metadata": {
    "collapsed": true
   },
   "outputs": [],
   "source": [
    "# alternative way to import file without pre-setting column names\n",
    "#indonesia_education = pd.read_csv(\"../data/indonesia_education-country.csv\")\n",
    "#indonesia_education.columns = education_columns"
   ]
  },
  {
   "cell_type": "code",
   "execution_count": 6,
   "metadata": {
    "collapsed": false
   },
   "outputs": [],
   "source": [
    "indonesia_education = pd.read_csv(\"indonesia_education-country.csv\", names = education_columns, \n",
    "                                 header = 0, index_col = 0)"
   ]
  },
  {
   "cell_type": "code",
   "execution_count": 7,
   "metadata": {
    "collapsed": true
   },
   "outputs": [],
   "source": [
    "english_education_levels = {'Tidak/Belum Tamat SD':'less than elementary',\n",
    "                            'Tamat SD':'elementary',\n",
    "                            'Tamat SLTP': 'junior high school',\n",
    "                            'Tamat SLTA': 'high school',\n",
    "                            'Tamat PT': 'university'\n",
    "                           }"
   ]
  },
  {
   "cell_type": "code",
   "execution_count": 8,
   "metadata": {
    "collapsed": false
   },
   "outputs": [
    {
     "data": {
      "text/plain": [
       "array(['less than elementary', 'elementary', 'junior high school',\n",
       "       'high school', 'university'], dtype=object)"
      ]
     },
     "execution_count": 8,
     "metadata": {},
     "output_type": "execute_result"
    }
   ],
   "source": [
    "indonesia_education[\"education_level\"].replace(english_education_levels, inplace=True)\n",
    "indonesia_education[\"education_level\"].unique()"
   ]
  },
  {
   "cell_type": "code",
   "execution_count": 9,
   "metadata": {
    "collapsed": false
   },
   "outputs": [
    {
     "data": {
      "text/html": [
       "<div>\n",
       "<table border=\"1\" class=\"dataframe\">\n",
       "  <thead>\n",
       "    <tr style=\"text-align: right;\">\n",
       "      <th></th>\n",
       "      <th>province_name</th>\n",
       "      <th>city_code</th>\n",
       "      <th>city_name</th>\n",
       "      <th>education_level</th>\n",
       "      <th>male</th>\n",
       "      <th>female</th>\n",
       "      <th>latitude</th>\n",
       "      <th>longitude</th>\n",
       "    </tr>\n",
       "    <tr>\n",
       "      <th>province</th>\n",
       "      <th></th>\n",
       "      <th></th>\n",
       "      <th></th>\n",
       "      <th></th>\n",
       "      <th></th>\n",
       "      <th></th>\n",
       "      <th></th>\n",
       "      <th></th>\n",
       "    </tr>\n",
       "  </thead>\n",
       "  <tbody>\n",
       "    <tr>\n",
       "      <th>11</th>\n",
       "      <td>Prov. Nanggroe Aceh Darussalam</td>\n",
       "      <td>1101</td>\n",
       "      <td>Kab. Simeulue</td>\n",
       "      <td>less than elementary</td>\n",
       "      <td>1209</td>\n",
       "      <td>1971</td>\n",
       "      <td>2.62818</td>\n",
       "      <td>96.0898</td>\n",
       "    </tr>\n",
       "    <tr>\n",
       "      <th>11</th>\n",
       "      <td>Prov. Nanggroe Aceh Darussalam</td>\n",
       "      <td>1101</td>\n",
       "      <td>Kab. Simeulue</td>\n",
       "      <td>elementary</td>\n",
       "      <td>9545</td>\n",
       "      <td>10545</td>\n",
       "      <td>2.62818</td>\n",
       "      <td>96.0898</td>\n",
       "    </tr>\n",
       "    <tr>\n",
       "      <th>11</th>\n",
       "      <td>Prov. Nanggroe Aceh Darussalam</td>\n",
       "      <td>1101</td>\n",
       "      <td>Kab. Simeulue</td>\n",
       "      <td>junior high school</td>\n",
       "      <td>6733</td>\n",
       "      <td>6100</td>\n",
       "      <td>2.62818</td>\n",
       "      <td>96.0898</td>\n",
       "    </tr>\n",
       "    <tr>\n",
       "      <th>11</th>\n",
       "      <td>Prov. Nanggroe Aceh Darussalam</td>\n",
       "      <td>1101</td>\n",
       "      <td>Kab. Simeulue</td>\n",
       "      <td>high school</td>\n",
       "      <td>6945</td>\n",
       "      <td>4448</td>\n",
       "      <td>2.62818</td>\n",
       "      <td>96.0898</td>\n",
       "    </tr>\n",
       "    <tr>\n",
       "      <th>11</th>\n",
       "      <td>Prov. Nanggroe Aceh Darussalam</td>\n",
       "      <td>1101</td>\n",
       "      <td>Kab. Simeulue</td>\n",
       "      <td>university</td>\n",
       "      <td>2043</td>\n",
       "      <td>1777</td>\n",
       "      <td>2.62818</td>\n",
       "      <td>96.0898</td>\n",
       "    </tr>\n",
       "  </tbody>\n",
       "</table>\n",
       "</div>"
      ],
      "text/plain": [
       "                           province_name  city_code      city_name  \\\n",
       "province                                                             \n",
       "11        Prov. Nanggroe Aceh Darussalam       1101  Kab. Simeulue   \n",
       "11        Prov. Nanggroe Aceh Darussalam       1101  Kab. Simeulue   \n",
       "11        Prov. Nanggroe Aceh Darussalam       1101  Kab. Simeulue   \n",
       "11        Prov. Nanggroe Aceh Darussalam       1101  Kab. Simeulue   \n",
       "11        Prov. Nanggroe Aceh Darussalam       1101  Kab. Simeulue   \n",
       "\n",
       "               education_level  male  female  latitude  longitude  \n",
       "province                                                           \n",
       "11        less than elementary  1209    1971   2.62818    96.0898  \n",
       "11                  elementary  9545   10545   2.62818    96.0898  \n",
       "11          junior high school  6733    6100   2.62818    96.0898  \n",
       "11                 high school  6945    4448   2.62818    96.0898  \n",
       "11                  university  2043    1777   2.62818    96.0898  "
      ]
     },
     "execution_count": 9,
     "metadata": {},
     "output_type": "execute_result"
    }
   ],
   "source": [
    "indonesia_education.head()"
   ]
  },
  {
   "cell_type": "markdown",
   "metadata": {},
   "source": [
    "## Compare education levels by various demographic groups"
   ]
  },
  {
   "cell_type": "markdown",
   "metadata": {},
   "source": [
    "goals:\n",
    "1. combine counts of male and female \n",
    "2. group combinded counts by education level\n",
    "3. group combined counts by province name and education level\n",
    "4. group combined counts by city name and education level"
   ]
  },
  {
   "cell_type": "markdown",
   "metadata": {},
   "source": [
    "* make a new variable (\"total\") that is a sum of males and females in a education category (by row)\n",
    "    1. find the unique values of education \n",
    "    2. create dataframes that subset by level of education "
   ]
  },
  {
   "cell_type": "code",
   "execution_count": 10,
   "metadata": {
    "collapsed": false
   },
   "outputs": [
    {
     "data": {
      "text/plain": [
       "array(['less than elementary', 'elementary', 'junior high school',\n",
       "       'high school', 'university'], dtype=object)"
      ]
     },
     "execution_count": 10,
     "metadata": {},
     "output_type": "execute_result"
    }
   ],
   "source": [
    "indonesia_education[\"education_level\"].unique()"
   ]
  },
  {
   "cell_type": "code",
   "execution_count": 11,
   "metadata": {
    "collapsed": true
   },
   "outputs": [],
   "source": [
    "indonesia_education[\"total\"] = indonesia_education[\"male\"]+indonesia_education[\"female\"]"
   ]
  },
  {
   "cell_type": "code",
   "execution_count": 12,
   "metadata": {
    "collapsed": false,
    "scrolled": true
   },
   "outputs": [
    {
     "data": {
      "text/html": [
       "<div>\n",
       "<table border=\"1\" class=\"dataframe\">\n",
       "  <thead>\n",
       "    <tr style=\"text-align: right;\">\n",
       "      <th></th>\n",
       "      <th>province_name</th>\n",
       "      <th>city_code</th>\n",
       "      <th>city_name</th>\n",
       "      <th>education_level</th>\n",
       "      <th>male</th>\n",
       "      <th>female</th>\n",
       "      <th>latitude</th>\n",
       "      <th>longitude</th>\n",
       "      <th>total</th>\n",
       "    </tr>\n",
       "    <tr>\n",
       "      <th>province</th>\n",
       "      <th></th>\n",
       "      <th></th>\n",
       "      <th></th>\n",
       "      <th></th>\n",
       "      <th></th>\n",
       "      <th></th>\n",
       "      <th></th>\n",
       "      <th></th>\n",
       "      <th></th>\n",
       "    </tr>\n",
       "  </thead>\n",
       "  <tbody>\n",
       "    <tr>\n",
       "      <th>11</th>\n",
       "      <td>Prov. Nanggroe Aceh Darussalam</td>\n",
       "      <td>1101</td>\n",
       "      <td>Kab. Simeulue</td>\n",
       "      <td>less than elementary</td>\n",
       "      <td>1209</td>\n",
       "      <td>1971</td>\n",
       "      <td>2.62818</td>\n",
       "      <td>96.0898</td>\n",
       "      <td>3180</td>\n",
       "    </tr>\n",
       "    <tr>\n",
       "      <th>11</th>\n",
       "      <td>Prov. Nanggroe Aceh Darussalam</td>\n",
       "      <td>1101</td>\n",
       "      <td>Kab. Simeulue</td>\n",
       "      <td>elementary</td>\n",
       "      <td>9545</td>\n",
       "      <td>10545</td>\n",
       "      <td>2.62818</td>\n",
       "      <td>96.0898</td>\n",
       "      <td>20090</td>\n",
       "    </tr>\n",
       "    <tr>\n",
       "      <th>11</th>\n",
       "      <td>Prov. Nanggroe Aceh Darussalam</td>\n",
       "      <td>1101</td>\n",
       "      <td>Kab. Simeulue</td>\n",
       "      <td>junior high school</td>\n",
       "      <td>6733</td>\n",
       "      <td>6100</td>\n",
       "      <td>2.62818</td>\n",
       "      <td>96.0898</td>\n",
       "      <td>12833</td>\n",
       "    </tr>\n",
       "    <tr>\n",
       "      <th>11</th>\n",
       "      <td>Prov. Nanggroe Aceh Darussalam</td>\n",
       "      <td>1101</td>\n",
       "      <td>Kab. Simeulue</td>\n",
       "      <td>high school</td>\n",
       "      <td>6945</td>\n",
       "      <td>4448</td>\n",
       "      <td>2.62818</td>\n",
       "      <td>96.0898</td>\n",
       "      <td>11393</td>\n",
       "    </tr>\n",
       "    <tr>\n",
       "      <th>11</th>\n",
       "      <td>Prov. Nanggroe Aceh Darussalam</td>\n",
       "      <td>1101</td>\n",
       "      <td>Kab. Simeulue</td>\n",
       "      <td>university</td>\n",
       "      <td>2043</td>\n",
       "      <td>1777</td>\n",
       "      <td>2.62818</td>\n",
       "      <td>96.0898</td>\n",
       "      <td>3820</td>\n",
       "    </tr>\n",
       "  </tbody>\n",
       "</table>\n",
       "</div>"
      ],
      "text/plain": [
       "                           province_name  city_code      city_name  \\\n",
       "province                                                             \n",
       "11        Prov. Nanggroe Aceh Darussalam       1101  Kab. Simeulue   \n",
       "11        Prov. Nanggroe Aceh Darussalam       1101  Kab. Simeulue   \n",
       "11        Prov. Nanggroe Aceh Darussalam       1101  Kab. Simeulue   \n",
       "11        Prov. Nanggroe Aceh Darussalam       1101  Kab. Simeulue   \n",
       "11        Prov. Nanggroe Aceh Darussalam       1101  Kab. Simeulue   \n",
       "\n",
       "               education_level  male  female  latitude  longitude  total  \n",
       "province                                                                  \n",
       "11        less than elementary  1209    1971   2.62818    96.0898   3180  \n",
       "11                  elementary  9545   10545   2.62818    96.0898  20090  \n",
       "11          junior high school  6733    6100   2.62818    96.0898  12833  \n",
       "11                 high school  6945    4448   2.62818    96.0898  11393  \n",
       "11                  university  2043    1777   2.62818    96.0898   3820  "
      ]
     },
     "execution_count": 12,
     "metadata": {},
     "output_type": "execute_result"
    }
   ],
   "source": [
    "indonesia_education.head()"
   ]
  },
  {
   "cell_type": "markdown",
   "metadata": {},
   "source": [
    "* we can use pandas group by to aggregate sums"
   ]
  },
  {
   "cell_type": "code",
   "execution_count": 13,
   "metadata": {
    "collapsed": false
   },
   "outputs": [],
   "source": [
    "education_groups = indonesia_education.groupby([\"education_level\"])[\"total\"].sum()\n",
    "#education_groups = indonesia_education.groupby(indonesia_education[\"education_level\"])[\"total\"].sum()"
   ]
  },
  {
   "cell_type": "code",
   "execution_count": 14,
   "metadata": {
    "collapsed": false
   },
   "outputs": [
    {
     "data": {
      "text/plain": [
       "education_level\n",
       "elementary              56113017\n",
       "high school             40310023\n",
       "junior high school      35006186\n",
       "less than elementary    12107698\n",
       "university              11194347\n",
       "Name: total, dtype: int64"
      ]
     },
     "execution_count": 14,
     "metadata": {},
     "output_type": "execute_result"
    }
   ],
   "source": [
    "education_groups"
   ]
  },
  {
   "cell_type": "markdown",
   "metadata": {},
   "source": [
    "* or we can use .loc to subset the dataframe to only include the value of education we are concerned with"
   ]
  },
  {
   "cell_type": "code",
   "execution_count": 15,
   "metadata": {
    "collapsed": false
   },
   "outputs": [],
   "source": [
    "less_than_elementary_df = indonesia_education.loc[indonesia_education[\"education_level\"]==\"less than elementary\"]\n",
    "elementary_df = indonesia_education.loc[indonesia_education[\"education_level\"]==\"elementary\"]\n",
    "junior_high_df = indonesia_education.loc[indonesia_education[\"education_level\"]==\"junior high school\"]\n",
    "high_school_df = indonesia_education.loc[indonesia_education[\"education_level\"]==\"high school\"]\n",
    "university_df = indonesia_education.loc[indonesia_education[\"education_level\"]==\"university\"]"
   ]
  },
  {
   "cell_type": "code",
   "execution_count": 16,
   "metadata": {
    "collapsed": false
   },
   "outputs": [
    {
     "data": {
      "text/html": [
       "<div>\n",
       "<table border=\"1\" class=\"dataframe\">\n",
       "  <thead>\n",
       "    <tr style=\"text-align: right;\">\n",
       "      <th></th>\n",
       "      <th>province_name</th>\n",
       "      <th>city_code</th>\n",
       "      <th>city_name</th>\n",
       "      <th>education_level</th>\n",
       "      <th>male</th>\n",
       "      <th>female</th>\n",
       "      <th>latitude</th>\n",
       "      <th>longitude</th>\n",
       "      <th>total</th>\n",
       "    </tr>\n",
       "    <tr>\n",
       "      <th>province</th>\n",
       "      <th></th>\n",
       "      <th></th>\n",
       "      <th></th>\n",
       "      <th></th>\n",
       "      <th></th>\n",
       "      <th></th>\n",
       "      <th></th>\n",
       "      <th></th>\n",
       "      <th></th>\n",
       "    </tr>\n",
       "  </thead>\n",
       "  <tbody>\n",
       "    <tr>\n",
       "      <th>11</th>\n",
       "      <td>Prov. Nanggroe Aceh Darussalam</td>\n",
       "      <td>1101</td>\n",
       "      <td>Kab. Simeulue</td>\n",
       "      <td>less than elementary</td>\n",
       "      <td>1209</td>\n",
       "      <td>1971</td>\n",
       "      <td>2.62818</td>\n",
       "      <td>96.0898</td>\n",
       "      <td>3180</td>\n",
       "    </tr>\n",
       "    <tr>\n",
       "      <th>11</th>\n",
       "      <td>Prov. Nanggroe Aceh Darussalam</td>\n",
       "      <td>1102</td>\n",
       "      <td>Kab. Aceh Singkil</td>\n",
       "      <td>less than elementary</td>\n",
       "      <td>3407</td>\n",
       "      <td>4251</td>\n",
       "      <td>2.43900</td>\n",
       "      <td>97.9244</td>\n",
       "      <td>7658</td>\n",
       "    </tr>\n",
       "    <tr>\n",
       "      <th>11</th>\n",
       "      <td>Prov. Nanggroe Aceh Darussalam</td>\n",
       "      <td>1103</td>\n",
       "      <td>Kab. Aceh Selatan</td>\n",
       "      <td>less than elementary</td>\n",
       "      <td>4722</td>\n",
       "      <td>5974</td>\n",
       "      <td>3.25638</td>\n",
       "      <td>97.2130</td>\n",
       "      <td>10696</td>\n",
       "    </tr>\n",
       "    <tr>\n",
       "      <th>11</th>\n",
       "      <td>Prov. Nanggroe Aceh Darussalam</td>\n",
       "      <td>1104</td>\n",
       "      <td>Kab. Aceh Tenggara</td>\n",
       "      <td>less than elementary</td>\n",
       "      <td>1925</td>\n",
       "      <td>3215</td>\n",
       "      <td>3.59968</td>\n",
       "      <td>97.6619</td>\n",
       "      <td>5140</td>\n",
       "    </tr>\n",
       "    <tr>\n",
       "      <th>11</th>\n",
       "      <td>Prov. Nanggroe Aceh Darussalam</td>\n",
       "      <td>1105</td>\n",
       "      <td>Kab. Aceh Timur</td>\n",
       "      <td>less than elementary</td>\n",
       "      <td>5746</td>\n",
       "      <td>7243</td>\n",
       "      <td>4.56983</td>\n",
       "      <td>97.7723</td>\n",
       "      <td>12989</td>\n",
       "    </tr>\n",
       "  </tbody>\n",
       "</table>\n",
       "</div>"
      ],
      "text/plain": [
       "                           province_name  city_code           city_name  \\\n",
       "province                                                                  \n",
       "11        Prov. Nanggroe Aceh Darussalam       1101       Kab. Simeulue   \n",
       "11        Prov. Nanggroe Aceh Darussalam       1102   Kab. Aceh Singkil   \n",
       "11        Prov. Nanggroe Aceh Darussalam       1103   Kab. Aceh Selatan   \n",
       "11        Prov. Nanggroe Aceh Darussalam       1104  Kab. Aceh Tenggara   \n",
       "11        Prov. Nanggroe Aceh Darussalam       1105     Kab. Aceh Timur   \n",
       "\n",
       "               education_level  male  female  latitude  longitude  total  \n",
       "province                                                                  \n",
       "11        less than elementary  1209    1971   2.62818    96.0898   3180  \n",
       "11        less than elementary  3407    4251   2.43900    97.9244   7658  \n",
       "11        less than elementary  4722    5974   3.25638    97.2130  10696  \n",
       "11        less than elementary  1925    3215   3.59968    97.6619   5140  \n",
       "11        less than elementary  5746    7243   4.56983    97.7723  12989  "
      ]
     },
     "execution_count": 16,
     "metadata": {},
     "output_type": "execute_result"
    }
   ],
   "source": [
    "less_than_elementary_df.head()"
   ]
  },
  {
   "cell_type": "code",
   "execution_count": 17,
   "metadata": {
    "collapsed": false
   },
   "outputs": [
    {
     "name": "stdout",
     "output_type": "stream",
     "text": [
      "the total population with less than elementary education 12107698\n",
      "the total population with elementary education 56113017\n",
      "the total population with junior high school education 35006186\n",
      "the total population with high school education 40310023\n",
      "the total population with university education 11194347\n"
     ]
    }
   ],
   "source": [
    "print(\"the total population with less than elementary education %d\" % less_than_elementary_df[\"total\"].sum())\n",
    "print(\"the total population with elementary education %d\" % elementary_df[\"total\"].sum())\n",
    "print(\"the total population with junior high school education %d\" % junior_high_df[\"total\"].sum())\n",
    "print(\"the total population with high school education %d\" % high_school_df[\"total\"].sum())\n",
    "print(\"the total population with university education %d\" % university_df[\"total\"].sum())"
   ]
  },
  {
   "cell_type": "code",
   "execution_count": 18,
   "metadata": {
    "collapsed": false
   },
   "outputs": [
    {
     "name": "stdout",
     "output_type": "stream",
     "text": [
      "the total men with less than elementary education 5525608\n",
      "the total men with elementary education 27430862\n",
      "the total men with junior high school education 18017048\n",
      "the total men with high school education 22275190\n",
      "the total men with university education 5735592\n"
     ]
    }
   ],
   "source": [
    "print(\"the total men with less than elementary education %d\" % less_than_elementary_df[\"male\"].sum())\n",
    "print(\"the total men with elementary education %d\" % elementary_df[\"male\"].sum())\n",
    "print(\"the total men with junior high school education %d\" % junior_high_df[\"male\"].sum())\n",
    "print(\"the total men with high school education %d\" % high_school_df[\"male\"].sum())\n",
    "print(\"the total men with university education %d\" % university_df[\"male\"].sum())"
   ]
  },
  {
   "cell_type": "code",
   "execution_count": 19,
   "metadata": {
    "collapsed": false
   },
   "outputs": [
    {
     "name": "stdout",
     "output_type": "stream",
     "text": [
      "the total women with less than elementary education 6582090\n",
      "the total women with elementary education 28682155\n",
      "the total women with junior high school education 16989138\n",
      "the total women with high school education 18034833\n",
      "the total women with university education 5458755\n"
     ]
    }
   ],
   "source": [
    "print(\"the total women with less than elementary education %d\" % less_than_elementary_df[\"female\"].sum())\n",
    "print(\"the total women with elementary education %d\" % elementary_df[\"female\"].sum())\n",
    "print(\"the total women with junior high school education %d\" % junior_high_df[\"female\"].sum())\n",
    "print(\"the total women with high school education %d\" % high_school_df[\"female\"].sum())\n",
    "print(\"the total women with university education %d\" % university_df[\"female\"].sum())"
   ]
  },
  {
   "cell_type": "markdown",
   "metadata": {},
   "source": [
    "* Chris Albon's [guide](http://chrisalbon.com/python/pandas_apply_operations_to_groups.html) for apply operations with Pandas groups"
   ]
  },
  {
   "cell_type": "code",
   "execution_count": 20,
   "metadata": {
    "collapsed": false
   },
   "outputs": [],
   "source": [
    "indonesia_education_city = indonesia_education.groupby([\"city_name\",\n",
    "                                                     \"education_level\"])[\"total\"].sum()\n",
    "#indonesia_education_city = indonesia_education.groupby([indonesia_education.city_name,\n",
    "#                                                     indonesia_education.education_level])[\"total\"].sum()"
   ]
  },
  {
   "cell_type": "code",
   "execution_count": 21,
   "metadata": {
    "collapsed": false
   },
   "outputs": [
    {
     "data": {
      "text/plain": [
       "city_name             education_level     \n",
       "Kab. Aceh Barat       elementary              35798\n",
       "                      high school             33821\n",
       "                      junior high school      27952\n",
       "                      less than elementary     6399\n",
       "                      university               9984\n",
       "Kab. Aceh Barat Daya  elementary              29120\n",
       "                      high school             17604\n",
       "                      junior high school      19079\n",
       "                      less than elementary     8463\n",
       "                      university               6653\n",
       "Name: total, dtype: int64"
      ]
     },
     "execution_count": 21,
     "metadata": {},
     "output_type": "execute_result"
    }
   ],
   "source": [
    "indonesia_education_city.head(10)"
   ]
  },
  {
   "cell_type": "code",
   "execution_count": 22,
   "metadata": {
    "collapsed": false
   },
   "outputs": [
    {
     "data": {
      "text/plain": [
       "education_level\n",
       "elementary               84459\n",
       "high school             161860\n",
       "junior high school       69893\n",
       "less than elementary     13167\n",
       "university               47451\n",
       "Name: total, dtype: int64"
      ]
     },
     "execution_count": 22,
     "metadata": {},
     "output_type": "execute_result"
    }
   ],
   "source": [
    "indonesia_education_city[\"Kab. Badung\"]"
   ]
  },
  {
   "cell_type": "code",
   "execution_count": 23,
   "metadata": {
    "collapsed": false
   },
   "outputs": [],
   "source": [
    "indonesia_education_city.to_csv(\"../data/indonesia_education-city.csv\")"
   ]
  },
  {
   "cell_type": "code",
   "execution_count": 24,
   "metadata": {
    "collapsed": false
   },
   "outputs": [
    {
     "data": {
      "text/html": [
       "<div>\n",
       "<table border=\"1\" class=\"dataframe\">\n",
       "  <thead>\n",
       "    <tr style=\"text-align: right;\">\n",
       "      <th></th>\n",
       "      <th>city</th>\n",
       "      <th>education_level</th>\n",
       "      <th>population</th>\n",
       "    </tr>\n",
       "  </thead>\n",
       "  <tbody>\n",
       "    <tr>\n",
       "      <th>0</th>\n",
       "      <td>Kab. Aceh Barat</td>\n",
       "      <td>high school</td>\n",
       "      <td>33821</td>\n",
       "    </tr>\n",
       "    <tr>\n",
       "      <th>1</th>\n",
       "      <td>Kab. Aceh Barat</td>\n",
       "      <td>junior high school</td>\n",
       "      <td>27952</td>\n",
       "    </tr>\n",
       "    <tr>\n",
       "      <th>2</th>\n",
       "      <td>Kab. Aceh Barat</td>\n",
       "      <td>less than elementary</td>\n",
       "      <td>6399</td>\n",
       "    </tr>\n",
       "    <tr>\n",
       "      <th>3</th>\n",
       "      <td>Kab. Aceh Barat</td>\n",
       "      <td>university</td>\n",
       "      <td>9984</td>\n",
       "    </tr>\n",
       "    <tr>\n",
       "      <th>4</th>\n",
       "      <td>Kab. Aceh Barat Daya</td>\n",
       "      <td>elementary</td>\n",
       "      <td>29120</td>\n",
       "    </tr>\n",
       "  </tbody>\n",
       "</table>\n",
       "</div>"
      ],
      "text/plain": [
       "                   city       education_level  population\n",
       "0       Kab. Aceh Barat           high school       33821\n",
       "1       Kab. Aceh Barat    junior high school       27952\n",
       "2       Kab. Aceh Barat  less than elementary        6399\n",
       "3       Kab. Aceh Barat            university        9984\n",
       "4  Kab. Aceh Barat Daya            elementary       29120"
      ]
     },
     "execution_count": 24,
     "metadata": {},
     "output_type": "execute_result"
    }
   ],
   "source": [
    "indonesia_education_city = pd.read_csv(\"../data/indonesia_education-city.csv\",\n",
    "                             names = [\"city\", \"education_level\", \"population\"],header = 0)\n",
    "indonesia_education_city.head()"
   ]
  },
  {
   "cell_type": "code",
   "execution_count": 25,
   "metadata": {
    "collapsed": false
   },
   "outputs": [
    {
     "data": {
      "text/plain": [
       "Index([u'province_name', u'city_code', u'city_name', u'education_level',\n",
       "       u'male', u'female', u'latitude', u'longitude', u'total'],\n",
       "      dtype='object')"
      ]
     },
     "execution_count": 25,
     "metadata": {},
     "output_type": "execute_result"
    }
   ],
   "source": [
    "indonesia_education.columns"
   ]
  },
  {
   "cell_type": "code",
   "execution_count": 26,
   "metadata": {
    "collapsed": false
   },
   "outputs": [],
   "source": [
    "indonesia_education_city = indonesia_education.groupby([\"province_name\", \"city_name\",\n",
    "                                                        \"education_level\"])[\"male\",\"female\",\"total\"].sum()\n",
    "indonesia_education_province = indonesia_education.groupby([\"province_name\",\n",
    "                                                            \"education_level\"])[\"male\",\"female\",\"total\"].sum()\n"
   ]
  },
  {
   "cell_type": "code",
   "execution_count": 27,
   "metadata": {
    "collapsed": false
   },
   "outputs": [
    {
     "data": {
      "text/html": [
       "<div>\n",
       "<table border=\"1\" class=\"dataframe\">\n",
       "  <thead>\n",
       "    <tr style=\"text-align: right;\">\n",
       "      <th></th>\n",
       "      <th></th>\n",
       "      <th></th>\n",
       "      <th>male</th>\n",
       "      <th>female</th>\n",
       "      <th>total</th>\n",
       "    </tr>\n",
       "    <tr>\n",
       "      <th>province_name</th>\n",
       "      <th>city_name</th>\n",
       "      <th>education_level</th>\n",
       "      <th></th>\n",
       "      <th></th>\n",
       "      <th></th>\n",
       "    </tr>\n",
       "  </thead>\n",
       "  <tbody>\n",
       "    <tr>\n",
       "      <th rowspan=\"10\" valign=\"top\">Prov. Bali</th>\n",
       "      <th rowspan=\"5\" valign=\"top\">Kab. Badung</th>\n",
       "      <th>elementary</th>\n",
       "      <td>38735</td>\n",
       "      <td>45724</td>\n",
       "      <td>84459</td>\n",
       "    </tr>\n",
       "    <tr>\n",
       "      <th>high school</th>\n",
       "      <td>90397</td>\n",
       "      <td>71463</td>\n",
       "      <td>161860</td>\n",
       "    </tr>\n",
       "    <tr>\n",
       "      <th>junior high school</th>\n",
       "      <td>35058</td>\n",
       "      <td>34835</td>\n",
       "      <td>69893</td>\n",
       "    </tr>\n",
       "    <tr>\n",
       "      <th>less than elementary</th>\n",
       "      <td>5361</td>\n",
       "      <td>7806</td>\n",
       "      <td>13167</td>\n",
       "    </tr>\n",
       "    <tr>\n",
       "      <th>university</th>\n",
       "      <td>26903</td>\n",
       "      <td>20548</td>\n",
       "      <td>47451</td>\n",
       "    </tr>\n",
       "    <tr>\n",
       "      <th rowspan=\"5\" valign=\"top\">Kab. Bangli</th>\n",
       "      <th>elementary</th>\n",
       "      <td>30909</td>\n",
       "      <td>30490</td>\n",
       "      <td>61399</td>\n",
       "    </tr>\n",
       "    <tr>\n",
       "      <th>high school</th>\n",
       "      <td>15215</td>\n",
       "      <td>9481</td>\n",
       "      <td>24696</td>\n",
       "    </tr>\n",
       "    <tr>\n",
       "      <th>junior high school</th>\n",
       "      <td>13141</td>\n",
       "      <td>11015</td>\n",
       "      <td>24156</td>\n",
       "    </tr>\n",
       "    <tr>\n",
       "      <th>less than elementary</th>\n",
       "      <td>4641</td>\n",
       "      <td>5166</td>\n",
       "      <td>9807</td>\n",
       "    </tr>\n",
       "    <tr>\n",
       "      <th>university</th>\n",
       "      <td>4249</td>\n",
       "      <td>2645</td>\n",
       "      <td>6894</td>\n",
       "    </tr>\n",
       "  </tbody>\n",
       "</table>\n",
       "</div>"
      ],
      "text/plain": [
       "                                                 male  female   total\n",
       "province_name city_name   education_level                            \n",
       "Prov. Bali    Kab. Badung elementary            38735   45724   84459\n",
       "                          high school           90397   71463  161860\n",
       "                          junior high school    35058   34835   69893\n",
       "                          less than elementary   5361    7806   13167\n",
       "                          university            26903   20548   47451\n",
       "              Kab. Bangli elementary            30909   30490   61399\n",
       "                          high school           15215    9481   24696\n",
       "                          junior high school    13141   11015   24156\n",
       "                          less than elementary   4641    5166    9807\n",
       "                          university             4249    2645    6894"
      ]
     },
     "execution_count": 27,
     "metadata": {},
     "output_type": "execute_result"
    }
   ],
   "source": [
    "indonesia_education_city.head(10)"
   ]
  },
  {
   "cell_type": "code",
   "execution_count": 28,
   "metadata": {
    "collapsed": false
   },
   "outputs": [
    {
     "data": {
      "text/plain": [
       "education_level\n",
       "elementary              38735\n",
       "high school             90397\n",
       "junior high school      35058\n",
       "less than elementary     5361\n",
       "university              26903\n",
       "Name: male, dtype: int64"
      ]
     },
     "execution_count": 28,
     "metadata": {},
     "output_type": "execute_result"
    }
   ],
   "source": [
    "indonesia_education_city[\"male\"][\"Prov. Bali\"][\"Kab. Badung\"]"
   ]
  },
  {
   "cell_type": "code",
   "execution_count": 29,
   "metadata": {
    "collapsed": false
   },
   "outputs": [
    {
     "data": {
      "text/html": [
       "<div>\n",
       "<table border=\"1\" class=\"dataframe\">\n",
       "  <thead>\n",
       "    <tr style=\"text-align: right;\">\n",
       "      <th></th>\n",
       "      <th></th>\n",
       "      <th>male</th>\n",
       "      <th>female</th>\n",
       "      <th>total</th>\n",
       "    </tr>\n",
       "    <tr>\n",
       "      <th>province_name</th>\n",
       "      <th>education_level</th>\n",
       "      <th></th>\n",
       "      <th></th>\n",
       "      <th></th>\n",
       "    </tr>\n",
       "  </thead>\n",
       "  <tbody>\n",
       "    <tr>\n",
       "      <th rowspan=\"5\" valign=\"top\">Prov. Bali</th>\n",
       "      <th>elementary</th>\n",
       "      <td>376185</td>\n",
       "      <td>426710</td>\n",
       "      <td>802895</td>\n",
       "    </tr>\n",
       "    <tr>\n",
       "      <th>high school</th>\n",
       "      <td>481544</td>\n",
       "      <td>362027</td>\n",
       "      <td>843571</td>\n",
       "    </tr>\n",
       "    <tr>\n",
       "      <th>junior high school</th>\n",
       "      <td>256494</td>\n",
       "      <td>237036</td>\n",
       "      <td>493530</td>\n",
       "    </tr>\n",
       "    <tr>\n",
       "      <th>less than elementary</th>\n",
       "      <td>64880</td>\n",
       "      <td>81399</td>\n",
       "      <td>146279</td>\n",
       "    </tr>\n",
       "    <tr>\n",
       "      <th>university</th>\n",
       "      <td>148974</td>\n",
       "      <td>110100</td>\n",
       "      <td>259074</td>\n",
       "    </tr>\n",
       "    <tr>\n",
       "      <th rowspan=\"5\" valign=\"top\">Prov. Banten</th>\n",
       "      <th>elementary</th>\n",
       "      <td>1181632</td>\n",
       "      <td>1240746</td>\n",
       "      <td>2422378</td>\n",
       "    </tr>\n",
       "    <tr>\n",
       "      <th>high school</th>\n",
       "      <td>1163237</td>\n",
       "      <td>892995</td>\n",
       "      <td>2056232</td>\n",
       "    </tr>\n",
       "    <tr>\n",
       "      <th>junior high school</th>\n",
       "      <td>838419</td>\n",
       "      <td>787927</td>\n",
       "      <td>1626346</td>\n",
       "    </tr>\n",
       "    <tr>\n",
       "      <th>less than elementary</th>\n",
       "      <td>175505</td>\n",
       "      <td>220456</td>\n",
       "      <td>395961</td>\n",
       "    </tr>\n",
       "    <tr>\n",
       "      <th>university</th>\n",
       "      <td>297987</td>\n",
       "      <td>256903</td>\n",
       "      <td>554890</td>\n",
       "    </tr>\n",
       "  </tbody>\n",
       "</table>\n",
       "</div>"
      ],
      "text/plain": [
       "                                       male   female    total\n",
       "province_name education_level                                \n",
       "Prov. Bali    elementary             376185   426710   802895\n",
       "              high school            481544   362027   843571\n",
       "              junior high school     256494   237036   493530\n",
       "              less than elementary    64880    81399   146279\n",
       "              university             148974   110100   259074\n",
       "Prov. Banten  elementary            1181632  1240746  2422378\n",
       "              high school           1163237   892995  2056232\n",
       "              junior high school     838419   787927  1626346\n",
       "              less than elementary   175505   220456   395961\n",
       "              university             297987   256903   554890"
      ]
     },
     "execution_count": 29,
     "metadata": {},
     "output_type": "execute_result"
    }
   ],
   "source": [
    "indonesia_education_province.head(10)"
   ]
  },
  {
   "cell_type": "code",
   "execution_count": 30,
   "metadata": {
    "collapsed": false
   },
   "outputs": [
    {
     "data": {
      "text/plain": [
       "education_level\n",
       "elementary              376185\n",
       "high school             481544\n",
       "junior high school      256494\n",
       "less than elementary     64880\n",
       "university              148974\n",
       "Name: male, dtype: int64"
      ]
     },
     "execution_count": 30,
     "metadata": {},
     "output_type": "execute_result"
    }
   ],
   "source": [
    "indonesia_education_province[\"male\"]['Prov. Bali']"
   ]
  },
  {
   "cell_type": "markdown",
   "metadata": {},
   "source": [
    "## Map results"
   ]
  },
  {
   "cell_type": "markdown",
   "metadata": {},
   "source": [
    "* import map from:"
   ]
  },
  {
   "cell_type": "code",
   "execution_count": 31,
   "metadata": {
    "collapsed": false
   },
   "outputs": [
    {
     "name": "stdout",
     "output_type": "stream",
     "text": [
      "last updated: Sun, 20 Aug 2017 18:28\n"
     ]
    }
   ],
   "source": [
    "import time\n",
    "print(\"last updated: {}\".format(time.strftime(\"%a, %d %b %Y %H:%M\", time.localtime())))"
   ]
  }
 ],
 "metadata": {
  "anaconda-cloud": {},
  "kernelspec": {
   "display_name": "Python [conda env:gl-env]",
   "language": "python",
   "name": "conda-env-gl-env-py"
  },
  "language_info": {
   "codemirror_mode": {
    "name": "ipython",
    "version": 2
   },
   "file_extension": ".py",
   "mimetype": "text/x-python",
   "name": "python",
   "nbconvert_exporter": "python",
   "pygments_lexer": "ipython2",
   "version": "2.7.12"
  }
 },
 "nbformat": 4,
 "nbformat_minor": 0
}
