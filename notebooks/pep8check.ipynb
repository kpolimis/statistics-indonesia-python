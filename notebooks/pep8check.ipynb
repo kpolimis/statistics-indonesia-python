{
 "cells": [
  {
   "cell_type": "code",
   "execution_count": 1,
   "metadata": {
    "collapsed": false
   },
   "outputs": [],
   "source": [
    "import time\n",
    "import pep8"
   ]
  },
  {
   "cell_type": "code",
   "execution_count": 2,
   "metadata": {
    "collapsed": false
   },
   "outputs": [
    {
     "name": "stdout",
     "output_type": "stream",
     "text": [
      "utils.py:91:38: E713 test for membership should be 'not in'\r\n",
      "        words = [w for w in words if not w in stops]\r\n",
      "                                     ^\r\n",
      "    Negative comparison should be done using \"not in\" and \"is not\".\r\n",
      "\r\n",
      "    Okay: if x not in y:\\n    pass\r\n",
      "    Okay: assert (X in Y or X is Z)\r\n",
      "    Okay: if not (X in Y):\\n    pass\r\n",
      "    Okay: zz = x is not y\r\n",
      "    E713: Z = not X in Y\r\n",
      "    E713: if not X.B in Y:\\n    pass\r\n",
      "    E714: if not X is Y:\\n    pass\r\n",
      "    E714: Z = not X.B is Y\r\n",
      "utils.py:190:80: E501 line too long (125 > 79 characters)\r\n",
      "    1. http://stackoverflow.com/questions/26494211/extracting-text-from-a-pdf-file-using-pdfminer-in-python/26495057#26495057\r\n",
      "                                                                               ^\r\n",
      "    Limit all lines to a maximum of 79 characters.\r\n",
      "\r\n",
      "    There are still many devices around that are limited to 80 character\r\n",
      "    lines; plus, limiting windows to 80 characters makes it possible to have\r\n",
      "    several windows side-by-side.  The default wrapping on such devices looks\r\n",
      "    ugly.  Therefore, please limit all lines to a maximum of 79 characters.\r\n",
      "    For flowing long blocks of text (docstrings or comments), limiting the\r\n",
      "    length to 72 characters is recommended.\r\n",
      "\r\n",
      "    Reports error E501.\r\n",
      "utils.py:192:80: E501 line too long (85 > 79 characters)\r\n",
      "    2. https://stackoverflow.com/questions/5725278/how-do-i-use-pdfminer-as-a-library\r\n",
      "                                                                               ^\r\n",
      "    Limit all lines to a maximum of 79 characters.\r\n",
      "\r\n",
      "    There are still many devices around that are limited to 80 character\r\n",
      "    lines; plus, limiting windows to 80 characters makes it possible to have\r\n",
      "    several windows side-by-side.  The default wrapping on such devices looks\r\n",
      "    ugly.  Therefore, please limit all lines to a maximum of 79 characters.\r\n",
      "    For flowing long blocks of text (docstrings or comments), limiting the\r\n",
      "    length to 72 characters is recommended.\r\n",
      "\r\n",
      "    Reports error E501.\r\n",
      "utils.py:194:80: E501 line too long (108 > 79 characters)\r\n",
      "    3. https://stackoverflow.com/questions/26494211/extracting-text-from-a-pdf-file-using-pdfminer-in-python\r\n",
      "                                                                               ^\r\n",
      "    Limit all lines to a maximum of 79 characters.\r\n",
      "\r\n",
      "    There are still many devices around that are limited to 80 character\r\n",
      "    lines; plus, limiting windows to 80 characters makes it possible to have\r\n",
      "    several windows side-by-side.  The default wrapping on such devices looks\r\n",
      "    ugly.  Therefore, please limit all lines to a maximum of 79 characters.\r\n",
      "    For flowing long blocks of text (docstrings or comments), limiting the\r\n",
      "    length to 72 characters is recommended.\r\n",
      "\r\n",
      "    Reports error E501.\r\n"
     ]
    }
   ],
   "source": [
    "#!pep8 --first ../functions/utils.py\n",
    "!pep8 --show-source --show-pep8 utils.py"
   ]
  },
  {
   "cell_type": "code",
   "execution_count": 3,
   "metadata": {
    "collapsed": true
   },
   "outputs": [],
   "source": [
    "!pep8 --show-source --show-pep8 csv_from_excel.py"
   ]
  },
  {
   "cell_type": "code",
   "execution_count": 4,
   "metadata": {
    "collapsed": false
   },
   "outputs": [
    {
     "name": "stdout",
     "output_type": "stream",
     "text": [
      "twitter_politics.py:1:1: E902 IOError: [Errno 2] No such file or directory: 'twitter_politics.py'\n",
      "\n",
      "^\n",
      "    Read the source code.\n"
     ]
    }
   ],
   "source": [
    "!pep8 --show-source --show-pep8 twitter_politics.py"
   ]
  },
  {
   "cell_type": "code",
   "execution_count": 5,
   "metadata": {
    "collapsed": false
   },
   "outputs": [
    {
     "name": "stdout",
     "output_type": "stream",
     "text": [
      "last updated: Sun, 20 Aug 2017 18:27\n"
     ]
    }
   ],
   "source": [
    "import time\n",
    "print(\"last updated: {}\".format(time.strftime(\"%a, %d %b %Y %H:%M\", time.localtime())))"
   ]
  }
 ],
 "metadata": {
  "anaconda-cloud": {},
  "kernelspec": {
   "display_name": "Python [default]",
   "language": "python",
   "name": "python2"
  },
  "language_info": {
   "codemirror_mode": {
    "name": "ipython",
    "version": 2
   },
   "file_extension": ".py",
   "mimetype": "text/x-python",
   "name": "python",
   "nbconvert_exporter": "python",
   "pygments_lexer": "ipython2",
   "version": "2.7.12"
  }
 },
 "nbformat": 4,
 "nbformat_minor": 1
}
