{
 "cells": [
  {
   "cell_type": "code",
   "execution_count": 1,
   "metadata": {
    "collapsed": false
   },
   "outputs": [
    {
     "name": "stderr",
     "output_type": "stream",
     "text": [
      "[INFO] graphlab.cython.cy_server: GraphLab Create v2.1 started. Logging: /tmp/graphlab_server_1503275429.log\n"
     ]
    },
    {
     "name": "stdout",
     "output_type": "stream",
     "text": [
      "This non-commercial license of GraphLab Create for academic use is assigned to kivan.polimis@gmail.com and will expire on August 20, 2018.\n"
     ]
    }
   ],
   "source": [
    "import os\n",
    "import re\n",
    "import spacy\n",
    "import urllib2\n",
    "import requests\n",
    "import pandas as pd\n",
    "import graphlab as gl\n",
    "from bs4 import BeautifulSoup\n",
    "from utils import get_Sukarno_Bandung_speech, convert_pdf_to_txt"
   ]
  },
  {
   "cell_type": "code",
   "execution_count": 2,
   "metadata": {
    "collapsed": true
   },
   "outputs": [],
   "source": [
    "os.chdir('../data/')"
   ]
  },
  {
   "cell_type": "markdown",
   "metadata": {},
   "source": [
    "## Get President Sukarno's speeches\n",
    "* Bandung Conference  \n",
    "  18th April 1955  \n",
    "  Bandung, Indonesia\n",
    "  \n",
    "  \n",
    "* International Meeting  \n",
    "  19th December 1961    \n",
    "  Jogjakarta, Indonesia\n",
    "  "
   ]
  },
  {
   "cell_type": "markdown",
   "metadata": {},
   "source": [
    "### Bandung speech"
   ]
  },
  {
   "cell_type": "code",
   "execution_count": 3,
   "metadata": {
    "collapsed": false
   },
   "outputs": [
    {
     "name": "stdout",
     "output_type": "stream",
     "text": [
      "('sukarno_bandung_speech.pdf', 'already exists')\n"
     ]
    }
   ],
   "source": [
    "get_Sukarno_Bandung_speech()"
   ]
  },
  {
   "cell_type": "markdown",
   "metadata": {},
   "source": [
    "* Convert the .pdf of speech to text"
   ]
  },
  {
   "cell_type": "code",
   "execution_count": 4,
   "metadata": {
    "collapsed": false
   },
   "outputs": [],
   "source": [
    "sukarno_bandung_speech = convert_pdf_to_txt('sukarno_bandung_speech.pdf')"
   ]
  },
  {
   "cell_type": "markdown",
   "metadata": {},
   "source": [
    "* subset the speech to remove citation material in document heading"
   ]
  },
  {
   "cell_type": "code",
   "execution_count": 5,
   "metadata": {
    "collapsed": false
   },
   "outputs": [
    {
     "data": {
      "text/plain": [
       "'Your Excellencies,Ladies and Gentlemen, Sisters and Brothers.It is my great honour and privilege on this historic day to bid you welcome to Indonesia. On behalf of the people and government of Indonesia - your hosts - I beg your understanding and forbearance if some circumstances in our country do not meet your expectation. We have, I assure you, done our best to make your stay amongst us memorable for both our guests and your hosts. We hope that the warmth of our welcome will compensate for whatever material shortcomings there may be.As I survey this hall and the distinguished guests gathered here, my heart is filled with emotion. This is the first intercontinental conference of coloured peoples in the history of mankind! I am proud that my country is your host. I am happy that you were able to accept the invitations'"
      ]
     },
     "execution_count": 5,
     "metadata": {},
     "output_type": "execute_result"
    }
   ],
   "source": [
    "sukarno_bandung_speech = sukarno_bandung_speech[1167:len(sukarno_bandung_speech)]\n",
    "sukarno_bandung_speech[0:829]"
   ]
  },
  {
   "cell_type": "markdown",
   "metadata": {},
   "source": [
    "### Jogyakarta speech "
   ]
  },
  {
   "cell_type": "code",
   "execution_count": 6,
   "metadata": {
    "collapsed": false
   },
   "outputs": [],
   "source": [
    "url = 'http://papuaweb.org/goi/pidato/1961-12-jogyakarta.html'\n",
    "r = requests.get(url)\n",
    "html_content = r.text\n",
    "soup = BeautifulSoup(html_content, 'lxml')\n",
    "sukarno_jogyakarta_speech = soup.get_text().replace('\\n\\n','')\n",
    "sukarno_jogyakarta_speech = sukarno_jogyakarta_speech.replace('\\r\\n', \" \")"
   ]
  },
  {
   "cell_type": "markdown",
   "metadata": {},
   "source": [
    "* subset the speech to remove citation material in document heading and ending"
   ]
  },
  {
   "cell_type": "code",
   "execution_count": 7,
   "metadata": {
    "collapsed": true
   },
   "outputs": [],
   "source": [
    "sukarno_jogyakarta_speech = sukarno_jogyakarta_speech[708:len(sukarno_jogyakarta_speech)-66]"
   ]
  },
  {
   "cell_type": "markdown",
   "metadata": {},
   "source": [
    "* Convert the text to a pandas dataframe \n",
    "* easy to transform pandas dataframe to graphlab sframe\n",
    "* for more info on text analysis with turi sframes see this [documentation](https://turi.com/learn/userguide/text/intro.html)"
   ]
  },
  {
   "cell_type": "code",
   "execution_count": 8,
   "metadata": {
    "collapsed": false
   },
   "outputs": [],
   "source": [
    "speech_data = {'speech': [sukarno_bandung_speech, sukarno_jogyakarta_speech]}\n",
    "index= [0,1]\n",
    "speech_df = pd.DataFrame(data = speech_data, index = index)"
   ]
  },
  {
   "cell_type": "code",
   "execution_count": 9,
   "metadata": {
    "collapsed": false
   },
   "outputs": [
    {
     "data": {
      "text/html": [
       "<div>\n",
       "<table border=\"1\" class=\"dataframe\">\n",
       "  <thead>\n",
       "    <tr style=\"text-align: right;\">\n",
       "      <th></th>\n",
       "      <th>speech</th>\n",
       "    </tr>\n",
       "  </thead>\n",
       "  <tbody>\n",
       "    <tr>\n",
       "      <th>0</th>\n",
       "      <td>Your Excellencies,Ladies and Gentlemen, Sister...</td>\n",
       "    </tr>\n",
       "    <tr>\n",
       "      <th>1</th>\n",
       "      <td>Friends  As was said by the Sultan just now, t...</td>\n",
       "    </tr>\n",
       "  </tbody>\n",
       "</table>\n",
       "</div>"
      ],
      "text/plain": [
       "                                              speech\n",
       "0  Your Excellencies,Ladies and Gentlemen, Sister...\n",
       "1  Friends  As was said by the Sultan just now, t..."
      ]
     },
     "execution_count": 9,
     "metadata": {},
     "output_type": "execute_result"
    }
   ],
   "source": [
    "speech_df"
   ]
  },
  {
   "cell_type": "code",
   "execution_count": 10,
   "metadata": {
    "collapsed": true
   },
   "outputs": [],
   "source": [
    "BASE_DIR = \"~/repos/statistics-indonesia-python/text_analysis/data\" "
   ]
  },
  {
   "cell_type": "markdown",
   "metadata": {},
   "source": [
    "## Bag-of-words"
   ]
  },
  {
   "cell_type": "markdown",
   "metadata": {},
   "source": [
    "* each document is represented by a map where the words are keys and the values are the number of occurrences.\n",
    "* use pandas data frame to create graphlab sframe\n",
    "* save sframe \n",
    "* transform sframe to bag-of-words (bow) model"
   ]
  },
  {
   "cell_type": "code",
   "execution_count": 11,
   "metadata": {
    "collapsed": false
   },
   "outputs": [],
   "source": [
    "sf = gl.SFrame(data=speech_df)\n",
    "sf.save(\"%s/sukarno.sframe\" % BASE_DIR)"
   ]
  },
  {
   "cell_type": "code",
   "execution_count": 12,
   "metadata": {
    "collapsed": false
   },
   "outputs": [
    {
     "data": {
      "text/plain": [
       "dtype: dict\n",
       "Rows: 2\n",
       "[{'united,': 2, 'dynamic': 1, 'protest': 1, 'sleep': 1, 'asian': 10, 'assembled': 2, 'whose': 3, 'skill?': 1, 'common.': 1, 'superficially': 1, 'neighbours': 1, 'under': 4, 'pride': 1, 'applied': 1, 'rescue': 1, 'oceans': 2, 'bhinneka': 1, 'colonialism?': 1, 'colonialism\"': 1, 'affairs.': 1, 'affairs,': 1, 'asia,': 1, 'today.': 2, 'today,': 1, 'colonialism.': 2, 'vast': 1, 'pooled': 1, 'dangerously.in': 1, 'skills': 1, 'problems,': 3, 'ocean,': 1, 'unifying': 1, 'force': 2, 'leaders': 5, 'me,': 1, 'second': 1, \"others'\": 1, 'others,': 1, 'others.': 1, 'even': 10, 'peace.if': 1, 'deliberate': 1, 'decisions': 1, 'asia': 21, 'characters,': 1, 'toll': 1, 'new': 12, 'seeks': 2, 'told': 1, 'beliefs,': 3, 'men': 4, 'here': 11, 'met': 1, 'china': 1, 'represented': 2, 'Çri': 1, 'worse,': 1, 'be.as': 1, 'military': 1, 'settled': 2, 'divide': 1, 'feelings': 1, 'brought': 1, 'war,': 1, 'moral': 3, 'guests': 2, 'sympathise': 1, 'spoke': 1, 'would': 6, 'nation.so,': 1, 'seventy': 1, 'statesmanship': 1, 'call': 1, 'strike': 1, 'used,': 1, 'until': 1, 'breathe': 1, 'successful': 3, 'brings': 1, 'skill,': 1, 'success!yes,': 1, 'warm': 1, 'hold': 1, 'circumstances': 1, 'locked': 1, 'society,': 1, 'rights': 3, 'imperialism': 1, 'my': 10, 'monarchism,': 1, 'give': 10, 'preserving': 1, 'india': 1, 'end': 3, 'knows': 1, 'turn': 1, 'life-line,': 1, 'travel': 1, 'how': 6, 'harmony,': 1, 'colonies,': 1, 'answer': 2, 'wisdom.i': 1, \"desmoulin's\": 1, 'minority': 1, 'away.': 1, 'weapons\"': 1, 'sikhism,': 1, 'president': 1, 'splendid': 1, 'appreciate': 1, 'ultimate': 1, 'every': 5, 'birthplaces': 2, 'tribulations': 2, 'bombers.what': 1, 'over': 4, 'encounter': 1, '\"life-line': 1, 'concepts,': 1, 'before': 4, 'injustice': 1, 'lifeline': 1, 'speaking,': 1, 'colonialism,': 1, 'eventually': 1, 'troops.instead': 1, 'history,': 1, 'history.': 2, 'effects': 1, 'they': 15, 'indulge': 1, 'one': 13, 'units,': 1, 'secured.': 1, 'several': 1, 'indivisible.': 1, 'backgrounds': 1, 'religions,': 1, 'expectation.': 1, 'victory': 1, 'each': 14, 'went': 1, 'side': 2, 'mean': 3, 'observance': 1, 'god': 4, 'particles': 1, 'detestation': 2, 'independence': 10, 'threatened': 1, 'given': 3, 'free': 4, 'principle,': 1, 'struggle': 6, 'enormous': 1, 'mankind,': 1, 'tolerant': 2, 'creeds.': 1, 'oppose': 3, \"today's\": 1, 'already': 2, 'too.': 1, 'primary': 1, 'fears,': 1, 'another': 1, 'power.': 1, 'lest,': 1, 'nation.': 1, 'aconference': 1, 'too': 1, 'mankind!': 1, 'bitter': 2, 'easy.': 1, 'wisdom': 1, 'showed': 1, 'gibraltar,': 1, 'nations': 15, 'project': 1, 'matter': 2, 'to,': 1, 'spears.': 1, 'modern': 1, 'mind': 2, 'ultimatum,': 1, 'seen': 4, 'participants,': 1, 'seek': 2, 'affairs': 3, 'strength': 6, 'do,': 1, 'world.no': 1, '-': 29, 'asians?': 1, 'do?': 2, 'forces': 4, 'hardest.': 1, 'indo-aryan': 1, 'content,': 1, 'thing,': 1, 'shall': 3, 'letter': 1, 'morality': 2, 'mobilised': 1, 'knows.': 1, 'door,': 1, 'principle': 5, 'terms,': 1, 'strong,': 1, 'came': 2, 'saying': 1, 'meetings': 1, 'ending': 1, 'religions': 4, 'cannot,': 2, 'solutions': 2, 'earth': 1, 'consciousness': 1, 'spite': 2, 'guidance': 1, \"indonesia's\": 1, 'do': 10, 'asians': 1, 'etc.': 1, 'religion.': 1, 'listened.': 2, 'religion,': 1, 'distant.religion': 1, 'countries': 11, 'public': 1, 'reawakening': 1, 'bad': 1, 'release': 1, 'them,': 1, 'ethical': 2, 'brothers,': 6, 'swept': 2, 'depends': 1, 'full': 3, 'result': 3, 'discussions': 1, 'best': 1, 'subject': 1, 'cooperation': 1, '?the': 1, 'misguided': 1, 'ethics.': 1, 'preserve': 1, 'we': 71, 'never': 2, 'nature': 1, 'however': 2, 'drew': 1, 'conflagration': 1, 'defiance': 1, '\"conventional': 1, 'motto': 2, 'distant.': 1, 'faced': 1, 'protect': 1, 'country': 5, 'countries,': 1, 'against': 6, 'propagate.': 1, 'confronted': 1, 'asked': 1, 'nay,': 1, 'diversity,': 1, 'skill': 3, 'dreams!we': 1, 'connection': 1, 'diversity\"': 1, 'speak': 4, 'conference': 22, 'debased,': 1, 'basis': 1, 'appears.': 1, 'appears,': 1, 'been': 21, 'grenades,': 1, 'recognised': 1, 'interest': 1, 'privilege': 1, 'warmth': 1, 'duties': 2, 'life': 5, 'born!our': 1, 'ruthlessness.': 1, 'confidence.': 1, 'deliberations': 1, 'evermore.yes,': 1, 'east': 2, 'doorstep,': 1, 'air': 1, 'voice': 3, 'japan.': 1, 'leaves': 1, 'seven': 1, 'is': 85, 'it': 55, 'straits': 1, 'in': 95, 'march': 1, 'dead\".': 1, 'if': 6, 'independence,': 5, 'deliberations,': 1, 'things': 4, 'make': 5, 'colonies': 1, 'passed,': 1, 'independent': 2, 'evil': 2, 'hand': 1, 'marched': 1, 'faiths': 2, 'thoughts': 2, 'degradation,': 1, 'greatest': 1, 'dominating': 1, 'the': 297, '\"colonialism': 1, '\"sturm': 1, 'just': 2, 'true': 2, 'human': 4, 'yet': 8, 'previous': 1, 'had': 5, 'passive': 1, 'spread': 2, 'perverted.': 1, 'has': 25, 'humanity': 1, 'gave': 1, 'ago,': 2, 'ago.': 1, 'fact,': 1, 'survival': 1, 'possible': 3, 'cultural': 2, 'god,': 2, 'causes,': 2, 'states,': 1, 'country.': 1, 'country,': 1, 'steps': 1, 'people': 5, 'born': 1, 'insistence': 1, 'dear': 1, 'meaning.': 1, 'pancha': 1, 'denies': 1, 'gasps': 1, 'for': 43, '/': 6, 'everything': 1, 'denied': 1, 'subordination': 1, 'asia-africa': 1, 'losing': 1, 'memorable': 1, 'conclusion.': 1, 'ensure': 2, 'considerations': 1, 'raised': 1, 'presence': 1, 'intellectual': 3, 'lies': 1, 'doctrine': 1, 'central-sumatrans,': 1, 'support': 2, 'sovereign': 2, 'fight': 2, 'jainism,': 1, 'fought': 1, 'way': 3, 'was': 20, 'war': 5, 'happy': 1, 'form': 3, 'racialism.': 1, 'so,': 1, 'ah,': 1, 'failure': 1, 'consideration.': 1, 'hall,': 1, 'invincible': 1, 'economic': 4, 'faiths.': 1, 'faiths,': 1, 'examples': 1, 'originating': 1, 'solong': 1, 'proved': 1, 'classic': 2, 'evidence': 2, 'excellencies,ladies': 1, 'meeting\".': 1, 'physical': 2, 'afternoon-tea': 1, 'no': 17, 'minds,': 1, 'generally': 1, 'republic': 1, 'interference,': 1, 'brothers': 1, 'welcome': 4, 'stick.': 1, 'understands,': 1, 'younger': 1, 'longer': 2, 'motives.how': 1, 'together': 5, 'time': 1, 'chain': 1, 'diplomacy': 1, 'skin': 1, 'battle': 3, 'soothed': 1, 'certainly': 1, '1949': 1, 'depend': 1, 'christianity,': 1, 'finally': 1, 'bombs,': 2, 'marks': 1, 'must': 7, 'advantage': 1, 'worthwhile,': 1, 'responsibility,': 1, 'individuality,': 1, 'mobilise': 2, 'word': 1, 'presented': 1, 'mark,': 1, 'determination,': 1, 'sila.': 1, 'spiritual': 2, 'regret': 1, 'obsolete': 1, 'favour': 1, 'enhanced.that,': 1, 'international': 1, 'beleaguered,': 1, 'filled': 2, 'drink,': 1, 'supporting': 1, 'capitalism,': 1, 'honour': 3, 'understanding': 7, 'water': 1, 'twentieth': 1, 'groups': 1, 'along': 1, 'appears': 1, 'change': 1, 'thirty': 1, 'reborn,': 1, 'marhaenism,': 1, 'bomb,': 1, 'usually': 1, '1,400,000,000': 1, 'unregarded,': 1, 'troops': 1, 'sake': 1, 'abroad': 1, 'territories': 1, 'live': 3, \"asia's\": 1, 'chasms': 1, 'club': 1, 'gentlemen,': 1, 'moral,': 1, 'behalf': 2, 'and,': 2, 'hope': 7, 'stature': 2, 'making': 1, 'imitation': 1, 'heart': 1, 'december': 1, 'malayans,': 1, 'allowed': 2, 'hydrogen': 1, 'africa;': 1, 'etches': 1, 'secured': 1, \"journey's\": 1, 'innumerable': 1, 'future,': 1, 'africa,': 3, 'future.': 1, 'reluctantly,': 1, 'über': 1, 'professing': 1, 'may': 12, 'matter.but': 1, 'eighty': 2, 'mankind': 5, 'such': 6, 'man': 11, 'different.': 3, 'different,': 1, 'whenever': 1, 'maybe': 1, 'futures': 1, 'darkened': 1, 'so': 14, 'african': 6, 'controlling.': 1, 'exclusive': 1, 'no.': 1, 'indeed': 2, 'midnight': 2, 'no!': 1, 'years': 7, 'stability': 1, 'argued': 1, 'still': 4, 'clash,': 1, 'thank': 1, 'torn': 1, 'dead.': 1, 'dead,': 1, 'won,': 1, 'main': 1, 'battlefield.': 1, 'horror.not': 1, 'newly-recovered': 1, 'nation': 3, 'records': 1, 'corroded': 1, 'half': 3, 'not': 44, 'now': 3, 'hall': 4, 'nor': 5, 'madurese,': 1, 'realise': 2, 'revere': 1, 'motherland': 1, 'paramount,': 1, 'morality.perhaps': 1, 'uninhibited': 1, 'therefore,': 1, 'year': 1, 'small.': 1, 'physical,': 1, 'living': 1, 'shown': 1, 'yes,': 4, 'profit': 1, 'increase': 1, 'dead.so,': 1, 'multiformity': 1, 'million': 1, 'quite': 1, 'unfriendly': 1, 'evermore,': 1, 'inevitable': 1, 'evermore.': 1, 'care': 1, 'colonialism.and': 1, 'dangerof': 1, 'british': 1, 'thing': 2, 'place': 3, 'massive': 1, 'invitation': 1, 'unborn': 2, 'think': 5, 'first': 6, 'besieged': 1, 'but,': 1, 'long': 9, '\"live': 4, 'message': 2, 'discharged': 1, 'disinterested': 5, 'little': 8, 'seas': 1, 'speaking': 1, 'much!': 1, 'eyes': 1, 'that': 83, 'spoke,': 1, 'behoves': 1, 'released': 1, 'freedomis': 1, 'them.indeed,': 1, 'than': 10, 'population': 1, 'exacted': 1, 'future': 2, 'were': 20, 'and': 202, 'sad': 1, \"humanity's\": 1, 'say': 6, 'distorted': 1, 'any': 4, 'general': 1, 'terrific': 1, 'take': 4, 'responsibility': 1, 'sure': 1, 'probed': 1, 'price': 1, 'knew': 1, 'statement:': 1, 'rehearsal': 1, 'mediterranean,': 1, 'picture': 2, 'strength,': 1, 'proud': 2, 'axe': 1, 'not,': 1, 'dispersed': 1, 'cooperation.': 1, 'fifty': 1, 'discovered': 1, 'weapons': 1, 'countryside,': 1, 'behind': 1, 'liberation': 2, 'only': 9, 'going': 1, 'life-blood': 1, 'get': 1, 'cannon': 1, 'truly': 1, 'unimportant': 1, 'cannot': 6, 'central-javanese,': 1, 'prime': 4, 'miles': 2, 'where': 1, 'physically': 1, 'eighteenth': 1, 'threats.': 1, 'job.': 1, 'concern': 2, 'unfree.': 2, 'unfree,': 1, 'ways': 2, 'representatives': 3, 'colours': 1, '3': 1, 'between': 1, 'mission,': 1, 'across': 1, 'sea,': 1, 'come': 3, 'ago.however': 1, 'many': 15, 'easy\".i': 1, 'comes': 1, 'duty': 1, 'among': 2, 'period': 1, 'dress,': 1, 'peoples,': 1, 'peoples.': 2, 'then?': 2, 'thousand': 1, 'formed': 1, 'moreover,': 1, 'spirit': 1, 'those': 5, 'sound': 1, 'myself': 1, 'life?': 1, 'ideals,': 1, 'danger.': 1, 'approachof': 1, 'life.': 1, 'toradjas,': 1, 'people\".perhaps': 1, 'then': 7, 'engaged': 1, 'condition.yes,': 1, 'different': 4, 'revolutions': 1, 'develop': 1, 'pay': 1, 'seeking': 1, 'same': 4, 'followers': 2, 'liberalism': 1, 'extended': 2, 'drives': 1, 'driven': 2, 'conference,': 3, 'conference.': 1, 'mortgaged': 1, 'stunted': 1, 'lit,': 1, 'without': 5, 'very': 4, 'convened': 1, 'bodies': 1, 'manifold': 1, 'being': 4, 'when': 8, 'guided': 4, 'actions': 1, 'fruitful,': 1, 'potentiality': 1, 'speed': 1, 'death': 2, 'either,': 1, 'bloc': 1, '4': 1, 'role': 1, 'possible;': 1, 'omnipotence': 1, 'peace?not': 1, 'delhi': 1, 'world.failure': 1, 'action.': 1, 'world': 17, 'dare': 1, 'confine': 1, 'collective': 1, 'nationalawakening': 1, 'lightning': 1, 'benefit': 1, 'always': 2, 'fulfil': 1, 'opened,': 1, 'burdens': 1, 'wrote:a': 1, 'religions.': 1, 'envoys': 1, 'toleranceand': 1, 'racial': 1, 'destroy.': 1, 'peace,': 2, 'peace.': 6, 'theirs,': 1, 'slight.': 1, 'inject': 1, 'think,': 1, 'scientific': 2, 'power': 3, 'passer\"': 1, 'five,': 1, 'colombo,': 1, 'on': 24, 'of': 269, 'violence': 1, 'discussed': 1, 'free.': 1, 'free,': 3, 'or': 10, 'road': 1, 'continent.': 1, 'your': 12, 'dawned': 1, 'there': 15, 'desert': 1, 'you,': 3, 'continents': 5, 'tranquility': 1, 'amongst': 1, 'dynamism.': 1, 'hurricanes': 1, 'land,': 1, 'practically': 1, 'sadness': 1, 'morality?': 1, 'bataks,': 1, 'burdens.sisters': 1, 'majority.and': 1, 'stock.': 1, 'am': 7, 'deep': 1, 'fellow': 1, 'as': 14, 'at': 9, 'occupied,': 1, 'again': 5, 'intercontinental': 1, 'neighbouring': 1, '5': 1, 'you': 12, 'everywhere,': 1, 'poor': 1, 'blessing': 2, 'rifles,': 1, 'sacrifices.': 1, 'much': 3, 'important': 2, 'itself,': 1, 'itself.': 2, 'building': 1, 'colonialism': 8, 'solidarity.indeed,': 1, 'bounty.': 1, 'all': 30, 'grind.': 1, 'welfare': 1, 'settlement': 1, 'religious': 2, 'children': 2, 'content': 3, 'zoroasthrianism,': 1, 'to': 103, 'arabs,': 1, 'far': 5, 'horror': 1, 'coloured': 1, 'blockade': 1, 'sun,': 1, 'broken!': 1, 'large': 2, 'these': 9, 'peopleswho': 1, 'sought.': 1, 'small': 3, 'longfellow': 1, 'past': 2, 'answer,': 1, 'peoplescould': 1, 'ourselves,': 1, 'what': 14, 'sun': 1, 'anniversary': 1, 'him.': 1, 'learned': 6, 'common.relatively': 1, 'falsify': 1, 'contrast': 1, 'power-politics': 1, 'christian': 1, 'loose': 1, 'when,': 1, 'situation': 2, 'life,': 2, 'islam,': 1, 'ahead': 1, 'experience': 2, 'emotion.': 1, 'disruption,': 1, 'social': 1, 'action': 1, 'suddenly': 1, 'responded?i': 1, 'africa': 13, 'backed': 1, '\"have': 1, 'contains': 1, 'wield': 1, 'two': 2, 'compensate': 1, '6': 1, 'more': 12, 'globe.': 1, 'controlling': 1, 'particular': 1, 'known': 1, 'recall': 3, 'abroad:': 1, 'forbearance': 1, 'history': 5, 'lives': 1, 'suggestions': 1, 'accept': 1, 'days': 2, 'states': 2, 'hand-in-hand': 1, 'attain': 1, 'firmly': 1, '!': 1, 'upbuilding': 1, 'rather': 1, 'anti-colonial': 2, 'comfort': 3, 'eat,': 1, 'civilisation': 1, 'ideologies.': 1, 'state.': 1, 'ethics': 1, 'responsibility.': 1, 'bloom': 1, 'a': 70, 'shortcomings': 1, 'bogor': 1, 'influence.': 1, 'departure': 1, 'negligible': 1, 'skilful': 1, 'privileges': 1, 'held': 2, 'through': 4, 'committed': 1, 'existence': 1, 'suffer': 1, 'its': 20, 'roots': 1, 'islam': 1, 'pray': 3, 'already.': 1, 'course,': 1, 'discussion,ways': 1, 'occasion.': 1, 'reached.': 1, 'it,': 3, 'good': 1, 'little.': 1, 'spiritual,': 1, 'food': 1, 'it?': 1, 'walls': 1, 'imperil': 1, 'great.': 1, 'guises.': 1, 'imprisoned': 1, 'system.': 1, 'fully': 1, 'truths': 1, 'burdens,': 1, 'did': 1, 'found': 2, 'heavy': 3, 'harm': 1, 'england': 1, 'hard': 1, 'house.': 1, 'idea': 1, 'united.as': 1, 'really': 1, 'since': 2, 'acting': 1, 'safety': 3, '7': 1, 'only,but': 1, 'humiliation.': 1, 'socialism,': 1, '!god': 1, 'reason': 1, 'communism,': 1, 'beginning': 1, 'thrown': 1, 'american': 1, 'threat': 2, 'black.': 1, 'sacrifice': 1, 'sundanese,': 1, 'feel': 2, 'done': 1, 'changing': 2, 'imperialism\".': 1, 'remember,': 2, 'jet': 1, '180': 1, 'roots.': 1, 'hundred': 3, 'other.': 1, 'immediate': 2, 'appreciation': 2, 'part': 10, 'impersonal': 1, 'aims': 2, 'dogs': 1, 'determined': 1, 'wastage': 1, 'declare': 1, 'exert': 1, 'experience,': 1, 'awoken': 1, 'tanks,': 1, 'lie': 1, 'also': 4, 'labour': 1, 'finding': 1, 'play': 1, 'towards': 1, 'most': 2, 'instance,': 1, 'indo-china.i': 1, 'variants.': 1, 'revolution,': 1, 'clear': 3, 'spreading.': 1, 'forerunner': 1, 'them.in': 1, 'realised': 1, 'particularly': 1, 'demanded,': 1, 'tunggal': 1, 'nations,': 3, 'nations.': 1, 'unhappy': 1, '8': 7, 'large,': 1, 'centuries.': 1, 'his': 8, 'asien'\"': 1, 'capital': 1, 'famous': 1, 'courage': 3, 'certain,': 1, 'during': 1, 'necessity.today': 1, 'cry': 1, 'freedom.': 1, 'freedom,': 1, 'sacrifices': 1, 'common': 9, 'activity': 1, 'distant': 2, 'earth.i': 1, 'achieved': 2, 'individual': 2, 'are': 49, 'sea': 2, 'outward': 1, 'smallest': 1, 'years.': 1, \"other's\": 1, 'recently': 2, 'chamber,': 1, 'attention': 1, 'achieve.': 1, 'ika': 1, 'succeed': 1, 'politics.': 1, 'thatbattle?': 1, 'both': 2, 'last': 2, 'lightly,': 1, 'secrets': 1, 'foreign': 4, 'theocracy,': 1, 'proclamation': 1, 'poverty': 3, 'sons:': 1, 'scored.': 1, 'whole': 1, 'varietyof': 1, 'live\"': 3, 'knew.': 1, 'point': 1, 'sweet': 1, 'community': 1, '21/09/2015': 6, 'political': 7, 'whom': 1, 'territory': 1, 'meeting': 3, 'nations!bismillah': 1, 'erected.': 1, 'lived': 1, 'flints': 1, 'success!': 2, 'else': 1, 'whatever': 4, 'understand': 3, 'representative': 1, 'playthings': 1, 'plants': 1, 'look': 2, 'blockaded,': 1, 'loot': 1, 'century': 1, 'itself': 1, 'serried': 1, 'asia-africa.': 1, 'away,': 1, 'came,': 1, 'peoples': 20, 'conflict': 2, 'development': 1, 'faire,': 1, 'here,': 2, 'mankind.': 1, 'moment': 3, 'purpose': 2, 'necessity': 1, 'brussels': 1, 'lash.': 1, 'changed,': 1, 'task': 2, 'people,': 2, 'brothers.it': 1, 'analysis': 1, '\"unity': 1, 'indonesia,': 3, 'indonesia.': 1, 'indo-china.look,': 1, 'lives?': 1, 'questions': 2, 'lives,': 1, 'matter?': 1, 'unto': 1, 'profitable': 1, 'thoughtlessly,': 1, 'source': 1, 'parents': 1, 'questioned': 1, 'longer.': 1, 'indonesian': 1, 'victims': 1, 'big': 1, 'bid': 2, 'we!': 1, 'matters': 2, 'distance.': 1, 'distance,': 1, 'world.yes,': 2, 'knock': 1, 'together.sisters': 1, 'pillar': 1, 'bamboo': 1, 'often': 2, 'cannon,': 1, 'some': 9, 'back': 1, '\"laissez': 1, 'urgent': 1, 'added': 1, '\"we': 1, 'curious': 1, 'ourselves': 1, 'irresistible': 1, 'religion': 4, 'bloc.': 1, 'be': 38, 'run': 1, 'continuing': 1, 'independence.indeed,': 1, 'obscured': 1, 'by': 33, 'faith': 1, 'yawn': 1, 'imperialism,': 1, 'democracy,': 1, 'voices,': 1, 'hinduism,': 1, 'into': 5, 'within': 3, 'laissez': 1, 'peoples.however,': 1, 'realisation': 1, 'question': 1, 'amidst': 1, 'heritage': 1, 'forward': 1, 'desires.all': 1, 'reassurance': 1, 'hopes': 1, 'line': 1, 'themselves': 1, 'darkness,': 1, 'alive.we': 1, 'whoare': 1, 'goodwill': 1, 'up': 3, 'us': 24, 'today': 11, 'similar': 1, 'called': 4, 'conditions,': 1, 'diplomacy,': 1, 'cost.today,': 1, 'problem.': 1, 'consulted': 1, 'warning': 1, 'peace': 5, 'spokesmen': 1, 'themselves.': 1, 'nay': 1, 'problems': 1, 'prepared': 1, 'meaning': 2, 'sides': 1, 'ago': 5, 'reasoned': 1, 'fear.': 3, 'fear,': 2, 'fresh': 2, 'independent.': 1, 'once': 4, 'code': 2, 'issued': 1, 'eradicated': 1, 'alien': 2, 'go': 2, 'considerations.you': 1, 'seemed': 1, 'wehave': 1, 'more,': 2, 'artery': 1, 'more.': 1, 'help.': 1, 'this': 34, 'us,': 4, 'canal,': 1, 'other,': 4, 'desire?': 1, 'confer.i': 1, 'acid': 1, 'frontiers.': 1, 'that,': 3, 'that.': 1, 'giving': 1, \"man's\": 2, 'indian': 1, 'independence.': 2, 'large.': 1, 'can': 23, 'body': 1, 'desires': 1, 'gathered': 6, 'jointly': 1, 'unfree.and,': 1, 'let': 15, 'others': 5, 'consideration': 1, 'globe.it': 1, 'great': 12, 'technical': 2, 'survey': 3, 'opinion': 1, 'doesits': 1, 'danger': 2, '\"underdeveloped\"': 1, 'tools': 1, 'cloud': 1, 'standing': 1, 'from': 16, 'remains': 1, 'ministers': 4, 'few': 2, 'doubt': 1, 'bonds': 4, 'forefathers': 1, 'historically': 1, 'hard.': 1, 'impress': 2, 'carrying': 1, 'gladly': 1, '\"to': 1, 'high': 1, '1945,': 1, 'us.': 5, 'ride': 1, 'confer.already': 1, 'island': 1, 'meet': 3, 'rehabilitation': 1, 'control': 4, 'seem.as': 1, 'process': 1, 'rode': 1, 'escaped': 1, 'something': 2, 'united': 5, 'destroying': 1, 'africans': 1, 'achenese,': 1, 'regions': 1, 'responsibilities': 3, 'way,in': 1, 'hosts.': 1, 'stock': 1, 'act': 4, 'tortured,': 1, 'moslims,': 1, 'ethnic': 1, 'ties': 1, 'solidarity': 2, 'gone,': 1, 'light': 5, 'struggle.': 2, 'struggle,': 1, 'divided': 2, 'course.what': 1, 'six': 1, 'existence.': 1, 'mentioned': 1, 'contaminated': 1, 'civa-buddhists,': 1, 'voiceless': 1, 'exiled,': 1, 'restrain': 1, 'world.': 6, 'world,': 4, 'delhi,': 1, 'prosper': 1, 'd'être\",': 1, 'greater': 3, 'practice': 1, 'runs': 1, 'flew': 1, 'invitations': 1, 'stabilise': 1, 'day': 2, 'masters': 1, 'truth': 1, 'shaking': 1, 'experienced': 1, 'doing': 3, 'society': 1, 'terrifically': 1, 'decided,': 1, 'our': 66, 'special': 2, 'out': 4, 'radiance.but': 1, 'colonialism.nor': 1, 'shintoism,': 1, 'men.': 1, 'wholly': 1, '\"league': 1, 'motifs': 1, 'cause': 1, 'time!': 1, 'red': 1, \"one's\": 1, 'delegates': 3, 'completely': 3, 'likelihood': 1, 'things,': 2, 'could': 3, 'diminished': 1, 'keep': 1, 'foolishly,': 1, 'south': 1, 'complete.': 1, 'succeeds': 2, 'echo': 3, 'activity.': 1, 'have,': 1, 'be,': 1, 'bears': 1, 'unknown': 1, 'conventional,': 1, 'relations': 1, 'identity;': 1, 'their': 24, 'final': 1, 'paved': 1, 'interests': 2, 'gathering,': 1, 'hardwon': 1, 'majority,': 1, 'manifestation': 1, 'remember': 3, 'isolation': 1, 'beg': 3, 'threatened.issues': 1, 'distinguished': 2, 'safeguarded': 1, 'wherever,': 1, 'buddhism,': 1, 'poisons': 1, 'have': 47, 'need': 2, 'confucianism,': 1, 'indomitable,': 1, 'able': 1, 'asian-african': 7, 'which': 39, 'unless': 5, 'other.if': 1, 'who': 4, 'basis.': 1, 'why': 2, 'so-called': 1, 'statesmen,': 2, 'concern,': 1, 'concern.': 1, 'face': 1, 'looked': 1, 'april,': 1, 'occasion': 1, 'fact': 3, 'chances': 1, 'one,': 2, 'purely': 1, 'planning': 1, 'well-being': 3, 'fear': 7, 'darkest': 1, 'true,': 1, 'based': 1, 'sparks': 1, 'with': 16, 'should': 2, 'unsuccessful,': 1, 'won': 2, 'attained': 2, 'thousands': 2, 'balinese,': 1, 'natural!': 1, 'means': 2, 'patterns.': 2, 'unchained': 1, 'bear': 3, 'ones': 1, 'words': 2, 'christians,': 1, 'suez': 1, 'areas': 1, 'itself.if': 1, 'approach': 1, 'houses.': 1, 'control,': 2, 'generations': 2, 'deceived': 1, 'exists': 1, 'national': 5, 'end.': 1, 'rather,': 1, 'state': 2, '\"raison': 1, 'progress': 1, 'generations.': 2, 'opening': 1, 'importance': 1, 'unity.': 1, 'ideas,': 2, 'precious': 1, 'spirit.i': 1, 'freely': 1, 'invited': 1, 'assure': 1, 'grain': 1, 'precedent!': 1, 'glorious': 1, 'diplomats': 1, 'walk': 1, 'together,': 3, 'done,': 1, 'choice,': 1, 'immense': 2, 'poet': 1, 'diversity': 4, 'neighbour': 1, 'an': 12, 'present': 1, 'welcoming': 1, 'decades': 1, 'will': 25, 'fault': 1, 'almost': 4, 'countries.': 2, 'earth.the': 1, 'perhaps': 4, 'began': 1, 'buddhist': 1, 'intellectually.it': 1, 'these.': 1, 'unity': 4, 'parts': 7, 'outbreak': 1, 'material': 4, 'confrontedwith': 1, 'unconventional': 1, 'upon': 6, 'effect': 1, 'sisters': 5, 'frequently': 1, 'scourges': 1, 'lanka,': 1, '1954': 1, 'i': 39, 'host.but': 1, 'colour': 1, 'indonesia': 5, 'well': 1, 'fighting': 3, 'command': 1, 'combinations.but': 1, 'enemy,': 1, 'less': 1, 'only-': 1, '1954.': 1, 'paul': 1, 'liberty.': 1, 'consume': 1, 'solidarity,': 1, 'independence.but': 1, 'host.': 1, 'discuss': 1, 'onwards': 1, 'skins,': 1, 'developments': 1, 'practise': 1, 'resolved': 1, 'government': 2, 'historic': 2, 'five': 6, 'know': 5, 'burden': 1, 'press': 2, 'better.this': 1, 'mental,': 1, 'issues,': 1, 'necessary': 2, 'like': 1, 'success': 2, 'we,': 2, 'hosts': 1, 'become': 1, 'circumstances.let': 1, 'because': 4, 'neighbours.': 1, 'ideals': 2, 'enlightened,': 1, 'past,': 1, 'avoid': 1, 'does': 2, 'sponsoring': 2, 'brotherhood.': 1, 'easily.': 1, 'about': 4, 'actual': 1, 'extension': 1, 'freedom': 1, 'mine.': 1, 'diabolical': 1, 'happen.': 1, 'outstripped': 1, 'happen,': 1, 'own': 16, 'recognise': 1, 'interdependence': 1, 'live\",': 1, 'problems.for': 1, 'biggest': 1, 'humanity.and': 1, 'but': 17, 'plague': 1, 'highest': 4, 'he': 8, 'made': 7, 'places': 2, 'wish': 1, 'variations': 1, 'pumped': 1, 'demonstrate': 1, '-how': 1, 'continents.': 3, 'contribute': 1, 'undying,': 1, 'diplomat': 1, 'variety': 2, 'other': 18, 'again.': 1, 'again,': 1, 'stay': 1, 'inspiration': 1, 'enormouschanges.': 1, 'bulwark': 1, 'ranks': 1, 'determination': 1, 'friendly,': 1, 'confess': 1}, {'all': 28, 'ever.': 1, 'arrested.': 1, 'people': 44, 'resistance': 1, 'unfurl': 6, 'colonising.': 2, 'fields.': 1, 'ambassadors,': 1, 'go': 1, 'religious': 1, 'tricks,': 1, '21st': 4, '92': 1, 'graves': 1, 'imperialism.': 6, '[11]': 1, 'colonisation,': 1, 'including': 2, '1945': 4, 'proposal.': 2, \"mook's\": 1, 'colonisation\".': 1, 'those': 8, 'unfurled': 1, 'under': 14, 'jogjakarta,': 3, 'sovereignty': 3, 'pleasing': 1, 'friendly': 2, 'carried': 2, 'decision.': 1, 'repre-': 1, 'returned': 3, 'and,': 5, 'far': 1, 'came,': 1, 'dutch': 39, '\"tour': 1, 'responsibility,': 1, 'me': 6, 'cemeteries': 1, 'putting': 3, 'accuse': 1, 'asia,': 2, 'attractive.': 1, 'yourselves': 1, 'more.': 1, 'today,': 3, 'islands.': 1, 'decoio': 1, 'established,': 1, 'merauke.': 1, 'entire': 8, 'merauke,': 1, 'successful.': 1, '17th': 6, '[9]': 1, 'called': 9, 'did': 5, 'die': 1, 'proposals': 1, 'make': 2, 'bay.': 1, 'these': 6, 'archipelago': 2, 'hague': 1, 'independence': 6, 'arrested': 1, 'chief': 3, 'tried,': 4, 'enjoy': 1, 'flag.': 4, 'revolution': 2, 'me!': 1, 'leaders': 3, 'fence': 1, 'be': 27, 'me,': 2, 'me.': 1, 'sign': 1, 'talks': 1, 'second': 3, 'monginsidi': 1, 'further': 1, 'others.': 1, 'air': 1, 'machine-gun': 1, 'struggle': 12, 'that,': 1, 'colonialism': 1, 'what': 26, 'defence': 3, 'him:': 1, 'stands': 2, 'representative': 1, 'giving': 1, 'anthem': 1, 'exactly': 1, 'both': 1, 'means': 4, 'wriggle': 1, '19th': 4, 'anywhere': 1, 'independence.': 4, 'pleading': 1, 'dr.': 4, 'new': 4, 'order': 7, 'officially': 1, 'admiral': 1, 'dutch.': 4, 'movement': 1, 'proclaiming': 1, 'full': 3, 'not': 57, 'free,': 2, 'flag\".': 1, 'flag\",': 1, 'even': 9, 'sukarno': 6, 'say:': 3, 'ktut': 1, 'hundreds': 7, 'crazier.': 1, 'met': 1, 'let': 7, 'groups': 1, 'alone': 2, 'based': 1, 'police.': 1, 'change': 2, 'here:': 2, 'great': 4, 'union.': 2, \"coen's\": 1, 'attitude.': 1, 'until': 2, 'wherever': 1, 'completely': 2, 'through': 3, 'anchor': 1, 'trial': 1, 'lied': 2, '3.': 1, 'say,': 1, 'defeat': 10, 'real': 2, 'military': 11, 'stand,': 1, 'sumatra,': 1, 'settled': 1, 'all-out': 1, 'crazier': 1, 'deceived,': 2, '1945,': 1, 'love': 2, 'ago': 3, 'heart': 1, 'suddenly': 1, 'merely': 7, 'africa': 1, 'young': 4, 'brought': 1, 'backed': 1, 'parties,': 1, 'netherlands.': 1, 'colonisation.': 3, 'establish': 1, '1961.': 2, 'standing': 2, 'use': 1, 'you?\"': 1, 'from': 26, '[15]': 1, 'try,': 1, 'always': 7, 'positive': 1, 'give': 8, 'ministers': 1, 'decades': 1, 'mobilisation': 4, '[4]': 1, 'going': 3, 'call': 3, 'therefore': 2, 'centre': 1, 'then': 6, 'taken': 4, 'themselves': 4, 'liberating': 1, 'forces': 8, 'is': 74, 'today': 3, 'more': 8, 'up,': 5, 'introducing': 2, 'commissioner': 1, 'merauke': 1, 'on': 21, 'started': 1, 'hereby': 2, 'imperialist': 2, 'academy,': 2, 'it': 39, 'three,': 1, 'carrying': 6, 'controlling': 1, 'rome.': 1, 'president,': 1, 'east': 4, 'known': 2, 'hold': 2, 'women': 1, 'fly': 1, 'high': 1, \"indonesia's\": 5, 'word': 1, 'round': 7, 'tokyo': 1, 'pursue': 2, 'us.': 4, '1945.': 1, 'us,': 4, 'this': 43, 'worm': 1, 'wrong,': 1, 'other': 3, 'imperialism,': 2, 'imperialism': 2, 'can': 5, 'following': 1, 'my': 15, 'dissolve': 1, 'most': 2, 'claim': 1, 'council': 3, 'downfall': 1, 'december': 7, \"didn't\": 2, 'accept': 1, 'involve': 1, 'heard': 1, 'stroke': 1, 'dutch,': 3, 'something': 1, 'want': 6, 'instructions.': 1, 'times': 3, 'dress': 1, 'action': 7, 'fire.': 1, 'firmly': 2, 'huge': 1, 'youth;': 1, 'rays': 1, 'end': 4, 'sit': 1, 'there.': 2, 'regions': 1, 'very': 2, 'jasmine.': 1, 'sentiments': 1, 'africa,': 1, 'place': 1, 'native': 5, 'establishment': 2, 'talks,': 3, 'undertook': 1, 'mataram.': 1, 'de': 2, 'tried': 6, 'confrontation,': 1, 'may': 3, 'stop': 1, 'pasundan': 1, 'after': 1, 'listen!': 1, 'demanding': 1, 'bothered': 3, 'colonialism.': 1, 'wrong': 1, 'united': 14, 'ambassador': 1, 'mankind': 1, 'sabang': 3, 'president': 4, 'pleaded': 1, 'organisations': 1, 'proclaimed': 1, 'a': 67, 'guerilla': 3, 'attempt': 1, 'succeeded': 2, 'occasions': 1, 'strong.': 1, 'counter': 1, '1596,': 1, 'mightiness': 1, 'or': 3, 'struggle.': 2, '[sic]': 1, 'time.': 1, 'sukarno,': 2, 'act.': 2, 'enter': 2, 'every': 2, 'course,': 1, 'again.': 2, 'playing': 1, 'talk': 3, \"that's\": 2, 'army,': 1, 'the.': 1, 'no.': 4, 'executed': 1, 'help': 3, \"don't\": 3, 'jogjakarta': 4, 'indeed': 2, 'heartfelt': 1, 'move': 3, 'soon': 1, 'years': 7, 'policy,': 1, 'attitude': 1, 'policy.': 2, \"won't\": 1, 'beings.': 1, 'existence,': 1, 'ears,': 1, 'nowadays,': 1, 'nisation,': 1, 'still': 3, 'its': 1, 'before': 5, 'subversive': 1, 'member': 1, 'police': 1, 'thank': 5, 'till': 1, 'ottawa': 1, 'already.': 1, 'torn': 1, 'members,': 1, 'strove,': 2, 'him': 4, 'willing': 1, 'sovereignty,': 1, 'policy': 7, 'ours': 1, '2.': 1, 'world.': 3, 'ready,': 1, 'world,': 2, 'youth,': 1, 'happened,': 1, 'eventually': 1, 'them': 7, 'irian,': 11, 'greater': 4, 'diplomats,': 2, 'motion,': 1, 'look,': 2, 'practice': 1, 'it!': 1, 'year,': 1, 'of:': 1, 'compelled': 1, '1950': 1, 'they': 43, 'representatives.': 1, 'representatives,': 1, 'one': 10, 'killed': 1, 'association': 2, 'kilometres': 1, 'execute': 3, 'netherlands': 3, 'miltary': 1, 'fitting?': 1, 'all.': 1, 'negotiate,': 1, 'all,': 2, 'with': 17, 'appropriate': 1, 'establishing': 3, 'bless': 1, 'good': 1, 'victories': 1, 'also,': 1, 'turns': 1, 'accompanied': 2, 'went': 7, 'side': 1, 'experienced': 1, 'lasting': 1, 'ed.)': 1, 'movement,': 1, '(the': 2, 'independent': 2, 'resolute': 1, 'fact,': 4, 'cairo,': 1, 'short,': 2, 'therefore,': 1, 'thirteen': 1, 'ourselves': 1, 'namely,': 1, 'ambassadors': 2, '\"indonesia': 1, 'perfume': 1, 'now': 13, 'out': 12, 'is:': 1, 'ultimately': 1, 'jogjakarta.': 1, 'won': 1, 'hasannudin.': 1, 'finished.': 1, 'defend': 2, 'briefly,': 1, 'day': 1, 'mere': 1, 'time,': 3, 'day,': 1, 'exploding': 1, 'lying,': 1, 'washington,': 1, 'emerged': 1, 'is,': 3, 'imperialists': 3, 'correct': 1, 'red': 12, 'common': 3, 'responsible,': 1, 'us:': 1, 'fancy,': 1, 'self-determination': 1, 'city': 2, 'million': 2, 'given': 3, 'free': 1, 'fortune,': 1, 'bringing': 1, 'reason': 2, 'fuss.': 1, 'formation': 1, 'york': 2, 'members': 1, 'imagine': 1, 'put': 1, 'deception': 1, 'state,': 8, 'beginning': 2, 'chiefs': 2, 'it.': 2, 'speculating,': 1, 'could': 2, 'ask': 6, 'tricks.': 1, '[12]': 1, 'motion': 1, 'turn': 2, 'demands;': 1, 'oppose': 1, 'main\",': 1, '[3]': 1, 'deceived': 1, 'think': 3, 'arose': 1, 'complete.': 1, 'historical': 1, '\"at': 1, 'speaking.': 1, 'irian!': 3, 'sukarno.': 1, 'too.': 2, 'irian.': 8, 'too,': 2, '2,000': 1, 'waged': 2, 'but,': 3, 'puppet': 5, 'colonial': 1, 'another': 1, '1948.': 2, 'carry': 2, 'wickedness.': 1, 'sounds': 1, 'irian;': 1, 'partition': 1, 'pledge': 1, 'r.t.c.,': 1, 'two,': 1, '1948,': 2, 'occupy': 1, 'subandrio': 4, 'caught': 1, 'nation.': 3, 'anyone': 1, 'their': 7, 'attack': 1, 'too': 3, 'passed': 1, 'time': 8, 'white': 11, 'exerted': 1, 'bowed': 1, 'first,': 3, 'sentatives': 1, 'that': 87, 'land,': 2, 'academy': 1, 'cemetery.': 1, 'took': 3, 'indies.': 1, 'short': 2, 'succeed.': 1, 'representing': 1, 'than': 6, 'positively': 2, 'loved': 1, 'proud.': 1, 'grew': 2, '15': 1, 'warfare': 2, '16': 2, '19': 1, 'instruction': 2, 'diplomatic': 1, '1947,': 3, 'august,': 1, 'youth': 3, 'authority.': 3, 'states': 5, 'protected': 1, 'to.': 1, 'to,': 1, 'were': 15, 'extinguish': 1, 'outcome': 3, 'people.': 6, '1.': 1, 'and': 103, 'uniforms': 1, 'subandrio,': 2, 'that?\"': 1, 'well': 1, 'turned': 1, 'argument': 2, 'talking': 1, 'say': 5, 'rained': 4, 'coming!': 1, 'have': 33, 'desire,': 1, 'seen': 1, 'whole,': 1, 'any': 8, 'viewed': 1, 'mook.': 1, 'mook,': 1, 'on,': 7, 'do,': 1, 'once': 5, 'skillful': 1, 'emphasised': 1, 'self': 1, 'able': 1, 'struggle,': 2, 'battles': 1, 'finally,': 1, 'also': 4, 'rome': 2, 'do?': 5, 'which': 12, 'diponegoro.': 1, 'willing,': 1, 'destroy': 1, 'understand,': 1, 'pursues': 2, 'nation,': 2, 'militarily,': 1, 'secretary': 2, 'order,': 1, 'towards': 1, 'starved': 1, 'virtually': 1, 'make.': 1, 'who': 19, 'educate': 1, 'houtman': 1, 'alone;': 1, 'but': 26, 'nothing': 1, 'knee': 1, 'see,': 1, 'extremely': 1, 'hanjokrokusumo,': 1, 'so-called': 3, 'mobilised': 1, 'dishonesty.': 1, 'force,': 2, 'clear': 1, 'later': 2, '[7]': 1, 'face': 2, 'alone!': 1, 'dissolved': 1, 'part': 3, 'revolution.': 1, ':': 3, 'internationalised.': 2, 'repeatedly,': 2, 'revolution/': 1, 'saying.': 1, 'anthem\".': 3, 'night.': 1, 'alone.': 2, 'no,': 3, 'madder': 1, 'confront': 6, 'text': 2, 'agreed': 2, 'mean?': 1, 'one,': 2, 'o£': 2, 'one.': 1, 'nations?': 1, 'bring': 10, 'attempts': 1, 'session': 1, 'middle,': 1, 'luck,': 1, 'utter': 1, 'implemented,': 1, 'july': 2, 'nations.': 4, 'staff': 1, 'bondjol.': 1, 'just': 14, 'state.': 2, 'proclamation': 1, 'offensive': 1, 'second,': 1, 'state': 18, 'should': 6, 'jan': 1, 'imperialists,': 2, 'only': 22, 'imperialists.': 1, 'exact,': 1, 'wiser.': 1, 'papua.': 1, 'now,': 15, 'onwards.': 1, 'they,': 1, 'thousands': 1, 'union,': 1, 'hope': 1, 'first': 9, 'meant': 1, 'do': 10, 'over': 12, 'his': 3, 'miseries,': 1, 'get': 2, 'there': 16, 'ministers,': 2, 'independence,': 6, 'right,': 1, '\"flag': 1, 'bear': 1, 'no!': 5, \"yamin's\": 1, 'cannot': 3, 'words': 1, 'international': 5, 'territoy': 1, 'nederlands': 1, '\"papua': 5, 'friends:': 3, 'mexico-city,': 1, 'result?': 1, 'republic,': 3, 'covering': 1, 'ever': 3, 'god': 4, 'agung': 2, 'stooges': 1, 'men,': 3, ''irrevocable\"': 1, 'embassy': 1, 'un.': 2, 'though': 1, 'friends.': 1, 'them.': 2, 'told': 2, 'where': 2, 'liberation': 2, 'liberate': 5, 'view': 1, 'large-scale': 1, 'conform': 1, 'set': 6, 'indonesia:': 1, 'national': 10, 'dies.': 1, 'up': 15, '1947.': 1, 'see': 5, 'result': 5, 'term.': 1, 'know,': 5, 'nations': 9, 'end,': 1, 'best': 1, 'august': 5, '[13]': 1, 'come,': 1, 'said': 21, '\"self-determination\":': 1, 'because,': 1, 'representatives': 7, 'command?': 2, 'yet': 5, 'behind': 1, '\"self-determination\".': 1, 'years,': 5, 'fly.': 1, 'between': 3, '\"yes,': 1, 'tricked,': 1, '1949,': 4, 'un,': 10, 'command,': 2, 'compliment': 1, 'command.': 3, 'we': 80, 'loves': 1, 'right': 2, 'attention': 2, 'moscow,': 1, 'semaki': 1, 'arisen,': 1, 'strong': 2, 'opposition': 2, \"nation's\": 1, 'come': 9, 'doing?': 1, '[8]': 1, 'received': 2, 'last': 3, 'asunder': 1, 'sultan': 4, 'indonesian;': 1, 'country': 2, 'ill': 2, 'fighters,': 1, 'countries,': 2, 'according': 1, 'nations,': 1, 'foreign': 3, 'admit': 1, 'became': 1, 'frustrate,': 1, 'way.': 1, 'context': 1, 'old.': 1, 'expression': 1, 'fix': 1, 'comes': 2, 'duty': 3, 'gone': 1, 'colonisation': 1, 'sweet': 1, 'done?': 1, 'period': 1, 'trampled': 1, 'active': 1, 'nice-sounding': 1, 'strengthening': 1, 'simply': 1, 'indië,': 1, '1950.': 1, 'table': 8, '1950,': 1, 'throughout': 1, 'appeared': 1, 'nationalist': 1, 'there,': 5, 'firmly.': 1, 'abrogated,': 1, 'tread': 1, 'why': 3, 'offensives.': 1, 'union': 1, 'west': 55, 'create': 1, 'mouthpiece': 1, 'political': 3, '\"unconditional\".': 1, 'been': 17, 'almighty': 3, 'much': 1, 'peoples,': 1, 'certain': 1, 'speedily': 1, 'djakarta': 1, 'territory': 16, 'meeting': 2, 'duties': 1, '\"state': 7, 'imam': 2, 'self-determination.': 3, 'direction': 1, 'self-determination,': 1, 'success.': 1, 'colonised': 1, 'attacked': 1, 'fire': 6, 'beforehand': 1, 'has': 9, '-': 17, 'speeches': 2, 'else': 2, 'moment': 4, 'finished': 1, 'endorse': 3, 'determination': 1, 'reason.': 1, 'gift,': 1, 'spirit': 16, 'present': 3, 'mohammad': 1, 'practise': 1, 'utmost': 1, 'look': 1, 'clearly.': 1, 'represent.': 1, 'socialist': 13, 'ask:': 1, 'will': 10, 'moon,': 1, 'while': 1, 'smart': 2, 'shall': 3, 'fighters.': 1, 'region': 4, 'promised': 1, 'kingdom': 1, 'force': 2, 'unitary': 2, 'express': 2, 'played': 1, 'almost': 1, 'said:': 6, 'said;': 1, 'it,': 1, 'defeated': 2, 'commander': 5, 'helped': 3, 'completed.': 1, 'sudden': 1, 'against': 7, 'in': 135, 'ready': 4, 'commanded': 1, 'nation': 10, 'internationalisation': 1, 'said,': 4, 'said.': 1, 'if': 7, 'people,': 6, 'teuku': 1, 'hanjokrokusumo': 1, 'since': 6, 'flag!': 1, 'clear,': 1, 'perform': 1, 'anthem\",': 1, 'began': 2, '[6]': 1, 'reminded': 1, 'same': 1, 'clearly': 1, 'gentlemen': 1, \"pa'dimara\": 1, 'unity': 1, 'july,': 2, 'split': 1, 'established': 1, 'chaotic,': 1, 'trap.': 1, 'several': 1, 'djoko': 1, 'here.': 3, 'vienna,': 1, 'been:': 1, 'movement.': 1, 'vis-a-vis': 2, 'peaks': 1, 'lie': 1, 'here,': 2, 'upon': 7, 'mankind.': 1, 'papua\"!': 3, 'respected': 1, 'strength': 2, 'i,': 1, 'banten': 1, 'fierce': 1, 'conference,': 3, 'conference.': 1, 'papua\",': 5, 'papua\".': 1, 'event,': 1, 'tri-command:': 1, 'so': 11, 'i': 79, 'whole': 9, 'ditiro.': 1, 'indonesia': 29, 'part,': 1, 'paris,': 1, 'know': 9, 'wants': 1, 'stranglehold': 1, 'without': 1, 'command': 15, 'greatest': 1, 'thing,': 1, 'hearts': 3, 'the': 441, 'revolution,': 2, 'batavia.': 1, 'people:': 1, 'carefully,': 1, 'indonesia,': 12, 'composed': 1, 'republic?': 1, 'mind': 1, 'proposed': 1, 'heavily': 1, 'claiming': 1, 'officers,': 1, 'indonesia!': 1, 'actions': 2, 'officers': 4, 'front': 2, 'fighters': 3, 'indonesia?': 2, 'fact': 8, 'thanks': 4, 'human': 1, 'world': 3, 'followed': 1, 'yes': 1, 'instructed': 1, '[5]': 1, 'to': 120, 'previous': 1, 'cornelis': 1, 'leaders,': 1, 'death': 1, 'luns,': 1, 'luns.': 1, '27th': 6, 'point': 1, 'had': 16, 'economically,': 1, \"luns'\": 1, 'discuss': 1, 'republic.': 8, 'arrest': 1, 'spread': 5, 'pangeran': 1, 'attractive': 1, 'republic': 33, 'struck': 2, 'heavier': 1, 'lies,': 1, '\"here': 1, 'match': 1, 'take': 1, 'resolved': 1, '...': 1, 'indonesian': 31, 'march': 3, 'fact.': 1, 'vindicate': 2, 'government': 2, 'read': 1, 'dishonest,': 1, 'possible': 3, 'action.': 1, 'makes': 1, 'moment,': 3, 'groups.': 1, \"action'\": 1, 'accepted': 1, 'french': 1, 'desire': 1, 'like': 1, 'inviting': 1, 'peasants,': 1, 'states,': 6, 'already': 6, 'states.': 6, 'we,': 4, 'irian': 32, 'colonising': 1, '[10]': 1, 'become': 4, 'states?': 1, 'recognize': 1, 'actions,': 1, \"hero's\": 2, 'because': 2, 'deal': 3, 'doll': 1, 'underwent': 1, 'some': 6, 'authority': 10, 'tempered': 1, 'understood': 1, 'fine-sounding': 1, 'mighty': 3, 'respect': 2, 'proper': 1, 'indeed.': 1, 'london,': 1, 'recognition': 1, 'raya\".': 1, 'peace,': 1, 'politically,': 1, 'before.': 3, 'total': 2, 'women,': 1, 'magelang.': 1, 'women.': 1, 'magelang,': 1, 'armed': 11, 'untung': 1, 'politically.': 1, 'students': 1, 'speeches,': 1, 'tongues.': 1, 'honoured': 9, 'results.': 1, 'respects': 1, 'chains': 1, 'leader': 1, '?': 3, 'indonesia.': 18, 'conference': 3, 'says': 1, 'khaki': 1, 'power': 1, 'dropped': 1, 'night': 1, 'continuing': 14, 'congress.': 1, 'graduates': 2, 'how': 3, 'pieterszoon': 1, 'tjik': 1, 'although': 7, 'graduated': 1, 'tempering': 1, 'by': 30, 'earlier': 1, 'trickery': 2, 'helping': 1, 'about': 5, 'staff,': 1, 'would': 9, 'december,': 4, 'oh': 3, \"sukarno's\": 1, 'of': 256, 'am': 19, 'army': 2, 'recognized': 1, 'must': 3, 'papua': 2, 'sovereignty.': 1, 'pleaded,': 1, 'stand': 4, 'act': 1, 'uniting': 1, 'urges': 1, 'efforts': 3, 'referred': 2, 'out,': 5, 'navy,': 1, 'ties,': 1, 'mine!': 1, 'luns': 5, 'warfare.': 1, 'own': 3, 'formerly': 1, 'negotiate.': 1, 'into': 12, 'within': 4, 'confrontation': 5, 'nonsense': 1, 'cauldron': 1, 'two': 1, 'down': 1, 'thankful': 1, 'guard': 2, 'text-ed.)': 1, 'promise': 1, 'times.': 1, 'your': 3, 'militarily': 1, 'friends,': 15, 'later.': 1, 'existed': 2, 'striven': 1, 'van': 3, 'verbal': 1, 'prepare': 1, 'more,': 2, 'friends': 3, 'support': 1, 'flying': 10, 'question': 4, 'long': 1, 'fight': 1, 'prepared,': 1, 'president/': 1, 'why,': 5, 'recognised': 3, 'way': 1, 'forces.': 2, 'forces,': 1, 'was': 36, 'launching': 1, 'turned,': 1, 'indonesia-dutch': 4, 'you,': 5, 'an': 9, 'form': 1, 'what?': 1, 'java,': 1, 'decolonisation': 3, 'so,': 2, 'lie,': 1, 'here': 7, 'neutral': 1, 'land': 1, 'hear': 1, 'repeatedly': 1, 'true': 2, 'proposal': 3, 'land.': 2, 'he': 9, 'partitioning': 2, 'made': 6, '[14]': 1, 'chained': 1, 'this,': 1, 'signed': 1, 'this.': 4, 'placed': 1, 'manoeuvres.': 1, 'un': 5, 'diponegoro': 2, \"fire's\": 1, 'agree': 1, 'adorn': 1, 'side.': 1, 'prayed': 1, 'supreme': 4, 'proud': 1, 'suropati.': 1, 'begun': 2, 'gerwani': 1, 'internationalisation,': 1, 'strangle-hold': 2, 'year': 2, 'diplomacy,': 3, 'life': 1, 'general': 4, 'arms.': 1, 'side?': 1, 'as': 35, 'words,': 2, 'die.': 1, 'at': 27, 'our': 38, 'tiandradimuka': 1, 'trip': 1, 'are': 39, 'again': 1, 'us': 18, 'no': 3, '46': 1, 'fencing': 2, 'resolution.': 1, 'when': 9, 'reality': 1, 'economically.': 1, 'roses': 1, 'build': 1, 'setting': 3, 'indanesia': 1, 'themselves.': 2, 'you': 26, 'suffer,': 1, 'nice': 1, 'oh,': 5, 'move,': 2, 'decolonisation!': 1, 'indeed,': 3, 'sectors,': 1, 'decolonisation,': 1, 'knew': 1, 'decolonisation.': 1, 'rostrum,': 1, 'deeper,': 5, 'almighty,': 1, 'prepared': 1, \"let's\": 2, 'town': 1, 'meaning': 1, 'yes,': 13, 'intent': 1, 'recognise': 1, 'included': 1, '\"what': 1, 'shift': 1, 'ours.': 1, '13': 1, 'building': 1, 'onward!': 1, 'workers,': 1, 'for': 30, 'invest': 2, 'confirm': 3, 'humiliated': 1, 'flag': 12, 'together': 1, 'having': 1, 'confrontation.': 2, 'entirely,': 1, 'arisen': 1, 'came': 2, '\"national': 1, 'djelantik.': 1, '\"the': 1, 'resolution': 1, 'sounded': 1, 'minister': 2}]"
      ]
     },
     "execution_count": 12,
     "metadata": {},
     "output_type": "execute_result"
    }
   ],
   "source": [
    "bow = gl.text_analytics.count_words(sf['speech'])\n",
    "sf['bow'] = bow\n",
    "bow"
   ]
  },
  {
   "cell_type": "markdown",
   "metadata": {},
   "source": [
    "## TF-IDF"
   ]
  },
  {
   "cell_type": "markdown",
   "metadata": {},
   "source": [
    "* Another useful representation for text data is called TF-IDF (term frequency - inverse document frequency).\n",
    "* This is a modification of the bag-of-words format where the counts are transformed into scores: \n",
    "    * words that are common across the document corpus are given low scores,  \n",
    "    rare words occurring often in a document are given high scores"
   ]
  },
  {
   "cell_type": "markdown",
   "metadata": {},
   "source": [
    "* TF-IDF(word,document)=N(word,document)∗log(1/∑dN(word,d)))\n",
    "    * where N(w, d) is the number of times word w occurs in document d"
   ]
  },
  {
   "cell_type": "code",
   "execution_count": 13,
   "metadata": {
    "collapsed": false
   },
   "outputs": [
    {
     "data": {
      "text/plain": [
       "dtype: dict\n",
       "Rows: 2\n",
       "[{'united,': 1.3862943611198906, 'dynamic': 0.6931471805599453, 'protest': 0.6931471805599453, 'sleep': 0.6931471805599453, 'asian': 6.931471805599453, 'assembled': 1.3862943611198906, 'whose': 2.0794415416798357, 'skill?': 0.6931471805599453, 'common.': 0.6931471805599453, 'superficially': 0.6931471805599453, 'neighbours': 0.6931471805599453, 'under': 0.0, 'pride': 0.6931471805599453, 'applied': 0.6931471805599453, 'rescue': 0.6931471805599453, 'oceans': 1.3862943611198906, 'bhinneka': 0.6931471805599453, 'colonialism?': 0.6931471805599453, 'colonialism\"': 0.6931471805599453, 'affairs.': 0.6931471805599453, 'affairs,': 0.6931471805599453, 'asia,': 0.0, 'today.': 1.3862943611198906, 'today,': 0.0, 'colonialism.': 0.0, 'vast': 0.6931471805599453, 'pooled': 0.6931471805599453, 'dangerously.in': 0.6931471805599453, 'skills': 0.6931471805599453, 'problems,': 2.0794415416798357, 'ocean,': 0.6931471805599453, 'unifying': 0.6931471805599453, 'force': 0.0, 'leaders': 0.0, 'me,': 0.0, 'second': 0.0, \"others'\": 0.6931471805599453, 'others,': 0.6931471805599453, 'others.': 0.0, 'even': 0.0, 'peace.if': 0.6931471805599453, 'deliberate': 0.6931471805599453, 'decisions': 0.6931471805599453, 'asia': 14.556090791758852, 'characters,': 0.6931471805599453, 'toll': 0.6931471805599453, 'new': 0.0, 'seeks': 1.3862943611198906, 'told': 0.0, 'beliefs,': 2.0794415416798357, 'men': 2.772588722239781, 'here': 0.0, 'met': 0.0, 'china': 0.6931471805599453, 'represented': 1.3862943611198906, 'Çri': 0.6931471805599453, 'worse,': 0.6931471805599453, 'be.as': 0.6931471805599453, 'military': 0.0, 'settled': 0.0, 'divide': 0.6931471805599453, 'feelings': 0.6931471805599453, 'brought': 0.0, 'war,': 0.6931471805599453, 'moral': 2.0794415416798357, 'guests': 1.3862943611198906, 'sympathise': 0.6931471805599453, 'spoke': 0.6931471805599453, 'would': 0.0, 'nation.so,': 0.6931471805599453, 'seventy': 0.6931471805599453, 'statesmanship': 0.6931471805599453, 'call': 0.0, 'strike': 0.6931471805599453, 'used,': 0.6931471805599453, 'until': 0.0, 'breathe': 0.6931471805599453, 'successful': 2.0794415416798357, 'brings': 0.6931471805599453, 'skill,': 0.6931471805599453, 'success!yes,': 0.6931471805599453, 'warm': 0.6931471805599453, 'hold': 0.0, 'circumstances': 0.6931471805599453, 'locked': 0.6931471805599453, 'society,': 0.6931471805599453, 'rights': 2.0794415416798357, 'imperialism': 0.0, 'my': 0.0, 'monarchism,': 0.6931471805599453, 'give': 0.0, 'preserving': 0.6931471805599453, 'india': 0.6931471805599453, 'end': 0.0, 'knows': 0.6931471805599453, 'turn': 0.0, 'life-line,': 0.6931471805599453, 'travel': 0.6931471805599453, 'how': 0.0, 'harmony,': 0.6931471805599453, 'colonies,': 0.6931471805599453, 'answer': 1.3862943611198906, 'wisdom.i': 0.6931471805599453, \"desmoulin's\": 0.6931471805599453, 'minority': 0.6931471805599453, 'away.': 0.6931471805599453, 'weapons\"': 0.6931471805599453, 'sikhism,': 0.6931471805599453, 'president': 0.0, 'splendid': 0.6931471805599453, 'appreciate': 0.6931471805599453, 'ultimate': 0.6931471805599453, 'every': 0.0, 'birthplaces': 1.3862943611198906, 'tribulations': 1.3862943611198906, 'bombers.what': 0.6931471805599453, 'over': 0.0, 'encounter': 0.6931471805599453, '\"life-line': 0.6931471805599453, 'concepts,': 0.6931471805599453, 'before': 0.0, 'injustice': 0.6931471805599453, 'lifeline': 0.6931471805599453, 'speaking,': 0.6931471805599453, 'colonialism,': 0.6931471805599453, 'eventually': 0.0, 'troops.instead': 0.6931471805599453, 'history,': 0.6931471805599453, 'history.': 1.3862943611198906, 'effects': 0.6931471805599453, 'they': 0.0, 'indulge': 0.6931471805599453, 'one': 0.0, 'units,': 0.6931471805599453, 'secured.': 0.6931471805599453, 'several': 0.0, 'indivisible.': 0.6931471805599453, 'backgrounds': 0.6931471805599453, 'religions,': 0.6931471805599453, 'expectation.': 0.6931471805599453, 'victory': 0.6931471805599453, 'each': 9.704060527839234, 'went': 0.0, 'side': 0.0, 'mean': 2.0794415416798357, 'observance': 0.6931471805599453, 'god': 0.0, 'particles': 0.6931471805599453, 'detestation': 1.3862943611198906, 'independence': 0.0, 'threatened': 0.6931471805599453, 'given': 0.0, 'free': 0.0, 'principle,': 0.6931471805599453, 'struggle': 0.0, 'enormous': 0.6931471805599453, 'mankind,': 0.6931471805599453, 'tolerant': 1.3862943611198906, 'creeds.': 0.6931471805599453, 'oppose': 0.0, \"today's\": 0.6931471805599453, 'already': 0.0, 'too.': 0.0, 'primary': 0.6931471805599453, 'fears,': 0.6931471805599453, 'another': 0.0, 'power.': 0.6931471805599453, 'lest,': 0.6931471805599453, 'nation.': 0.0, 'aconference': 0.6931471805599453, 'too': 0.0, 'mankind!': 0.6931471805599453, 'bitter': 1.3862943611198906, 'easy.': 0.6931471805599453, 'wisdom': 0.6931471805599453, 'showed': 0.6931471805599453, 'gibraltar,': 0.6931471805599453, 'nations': 0.0, 'project': 0.6931471805599453, 'matter': 1.3862943611198906, 'to,': 0.0, 'spears.': 0.6931471805599453, 'modern': 0.6931471805599453, 'mind': 0.0, 'ultimatum,': 0.6931471805599453, 'seen': 0.0, 'participants,': 0.6931471805599453, 'seek': 1.3862943611198906, 'affairs': 2.0794415416798357, 'strength': 0.0, 'do,': 0.0, 'world.no': 0.6931471805599453, '-': 0.0, 'asians?': 0.6931471805599453, 'do?': 0.0, 'forces': 0.0, 'hardest.': 0.6931471805599453, 'indo-aryan': 0.6931471805599453, 'content,': 0.6931471805599453, 'thing,': 0.0, 'shall': 0.0, 'letter': 0.6931471805599453, 'morality': 1.3862943611198906, 'mobilised': 0.0, 'knows.': 0.6931471805599453, 'door,': 0.6931471805599453, 'principle': 3.4657359027997265, 'terms,': 0.6931471805599453, 'strong,': 0.6931471805599453, 'came': 0.0, 'saying': 0.6931471805599453, 'meetings': 0.6931471805599453, 'ending': 0.6931471805599453, 'religions': 2.772588722239781, 'cannot,': 1.3862943611198906, 'solutions': 1.3862943611198906, 'earth': 0.6931471805599453, 'consciousness': 0.6931471805599453, 'spite': 1.3862943611198906, 'guidance': 0.6931471805599453, \"indonesia's\": 0.0, 'do': 0.0, 'asians': 0.6931471805599453, 'etc.': 0.6931471805599453, 'religion.': 0.6931471805599453, 'listened.': 1.3862943611198906, 'religion,': 0.6931471805599453, 'distant.religion': 0.6931471805599453, 'countries': 7.6246189861593985, 'public': 0.6931471805599453, 'reawakening': 0.6931471805599453, 'bad': 0.6931471805599453, 'release': 0.6931471805599453, 'them,': 0.6931471805599453, 'ethical': 1.3862943611198906, 'brothers,': 4.1588830833596715, 'swept': 1.3862943611198906, 'depends': 0.6931471805599453, 'full': 0.0, 'result': 0.0, 'discussions': 0.6931471805599453, 'best': 0.0, 'subject': 0.6931471805599453, 'cooperation': 0.6931471805599453, '?the': 0.6931471805599453, 'misguided': 0.6931471805599453, 'ethics.': 0.6931471805599453, 'preserve': 0.6931471805599453, 'we': 0.0, 'never': 1.3862943611198906, 'nature': 0.6931471805599453, 'however': 1.3862943611198906, 'drew': 0.6931471805599453, 'conflagration': 0.6931471805599453, 'defiance': 0.6931471805599453, '\"conventional': 0.6931471805599453, 'motto': 1.3862943611198906, 'distant.': 0.6931471805599453, 'faced': 0.6931471805599453, 'protect': 0.6931471805599453, 'country': 0.0, 'countries,': 0.0, 'against': 0.0, 'propagate.': 0.6931471805599453, 'confronted': 0.6931471805599453, 'asked': 0.6931471805599453, 'nay,': 0.6931471805599453, 'diversity,': 0.6931471805599453, 'skill': 2.0794415416798357, 'dreams!we': 0.6931471805599453, 'connection': 0.6931471805599453, 'diversity\"': 0.6931471805599453, 'speak': 2.772588722239781, 'conference': 0.0, 'debased,': 0.6931471805599453, 'basis': 0.6931471805599453, 'appears.': 0.6931471805599453, 'appears,': 0.6931471805599453, 'been': 0.0, 'grenades,': 0.6931471805599453, 'recognised': 0.0, 'interest': 0.6931471805599453, 'privilege': 0.6931471805599453, 'warmth': 0.6931471805599453, 'duties': 0.0, 'life': 0.0, 'born!our': 0.6931471805599453, 'ruthlessness.': 0.6931471805599453, 'confidence.': 0.6931471805599453, 'deliberations': 0.6931471805599453, 'evermore.yes,': 0.6931471805599453, 'east': 0.0, 'doorstep,': 0.6931471805599453, 'air': 0.0, 'voice': 2.0794415416798357, 'japan.': 0.6931471805599453, 'leaves': 0.6931471805599453, 'seven': 0.6931471805599453, 'is': 0.0, 'it': 0.0, 'straits': 0.6931471805599453, 'in': 0.0, 'march': 0.0, 'dead\".': 0.6931471805599453, 'if': 0.0, 'independence,': 0.0, 'deliberations,': 0.6931471805599453, 'things': 2.772588722239781, 'make': 0.0, 'colonies': 0.6931471805599453, 'passed,': 0.6931471805599453, 'independent': 0.0, 'evil': 1.3862943611198906, 'hand': 0.6931471805599453, 'marched': 0.6931471805599453, 'faiths': 1.3862943611198906, 'thoughts': 1.3862943611198906, 'degradation,': 0.6931471805599453, 'greatest': 0.0, 'dominating': 0.6931471805599453, 'the': 0.0, '\"colonialism': 0.6931471805599453, '\"sturm': 0.6931471805599453, 'just': 0.0, 'true': 0.0, 'human': 0.0, 'yet': 0.0, 'previous': 0.0, 'had': 0.0, 'passive': 0.6931471805599453, 'spread': 0.0, 'perverted.': 0.6931471805599453, 'has': 0.0, 'humanity': 0.6931471805599453, 'gave': 0.6931471805599453, 'ago,': 1.3862943611198906, 'ago.': 0.6931471805599453, 'fact,': 0.0, 'survival': 0.6931471805599453, 'possible': 0.0, 'cultural': 1.3862943611198906, 'god,': 1.3862943611198906, 'causes,': 1.3862943611198906, 'states,': 0.0, 'country.': 0.6931471805599453, 'country,': 0.6931471805599453, 'steps': 0.6931471805599453, 'people': 0.0, 'born': 0.6931471805599453, 'insistence': 0.6931471805599453, 'dear': 0.6931471805599453, 'meaning.': 0.6931471805599453, 'pancha': 0.6931471805599453, 'denies': 0.6931471805599453, 'gasps': 0.6931471805599453, 'for': 0.0, '/': 4.1588830833596715, 'everything': 0.6931471805599453, 'denied': 0.6931471805599453, 'subordination': 0.6931471805599453, 'asia-africa': 0.6931471805599453, 'losing': 0.6931471805599453, 'memorable': 0.6931471805599453, 'conclusion.': 0.6931471805599453, 'ensure': 1.3862943611198906, 'considerations': 0.6931471805599453, 'raised': 0.6931471805599453, 'presence': 0.6931471805599453, 'intellectual': 2.0794415416798357, 'lies': 0.6931471805599453, 'doctrine': 0.6931471805599453, 'central-sumatrans,': 0.6931471805599453, 'support': 0.0, 'sovereign': 1.3862943611198906, 'fight': 0.0, 'jainism,': 0.6931471805599453, 'fought': 0.6931471805599453, 'way': 0.0, 'was': 0.0, 'war': 3.4657359027997265, 'happy': 0.6931471805599453, 'form': 0.0, 'racialism.': 0.6931471805599453, 'so,': 0.0, 'ah,': 0.6931471805599453, 'failure': 0.6931471805599453, 'consideration.': 0.6931471805599453, 'hall,': 0.6931471805599453, 'invincible': 0.6931471805599453, 'economic': 2.772588722239781, 'faiths.': 0.6931471805599453, 'faiths,': 0.6931471805599453, 'examples': 0.6931471805599453, 'originating': 0.6931471805599453, 'solong': 0.6931471805599453, 'proved': 0.6931471805599453, 'classic': 1.3862943611198906, 'evidence': 1.3862943611198906, 'excellencies,ladies': 0.6931471805599453, 'meeting\".': 0.6931471805599453, 'physical': 1.3862943611198906, 'afternoon-tea': 0.6931471805599453, 'no': 0.0, 'minds,': 0.6931471805599453, 'generally': 0.6931471805599453, 'republic': 0.0, 'interference,': 0.6931471805599453, 'brothers': 0.6931471805599453, 'welcome': 2.772588722239781, 'stick.': 0.6931471805599453, 'understands,': 0.6931471805599453, 'younger': 0.6931471805599453, 'longer': 1.3862943611198906, 'motives.how': 0.6931471805599453, 'together': 0.0, 'time': 0.0, 'chain': 0.6931471805599453, 'diplomacy': 0.6931471805599453, 'skin': 0.6931471805599453, 'battle': 2.0794415416798357, 'soothed': 0.6931471805599453, 'certainly': 0.6931471805599453, '1949': 0.6931471805599453, 'depend': 0.6931471805599453, 'christianity,': 0.6931471805599453, 'finally': 0.6931471805599453, 'bombs,': 1.3862943611198906, 'marks': 0.6931471805599453, 'must': 0.0, 'advantage': 0.6931471805599453, 'worthwhile,': 0.6931471805599453, 'responsibility,': 0.0, 'individuality,': 0.6931471805599453, 'mobilise': 1.3862943611198906, 'word': 0.0, 'presented': 0.6931471805599453, 'mark,': 0.6931471805599453, 'determination,': 0.6931471805599453, 'sila.': 0.6931471805599453, 'spiritual': 1.3862943611198906, 'regret': 0.6931471805599453, 'obsolete': 0.6931471805599453, 'favour': 0.6931471805599453, 'enhanced.that,': 0.6931471805599453, 'international': 0.0, 'beleaguered,': 0.6931471805599453, 'filled': 1.3862943611198906, 'drink,': 0.6931471805599453, 'supporting': 0.6931471805599453, 'capitalism,': 0.6931471805599453, 'honour': 2.0794415416798357, 'understanding': 4.852030263919617, 'water': 0.6931471805599453, 'twentieth': 0.6931471805599453, 'groups': 0.0, 'along': 0.6931471805599453, 'appears': 0.6931471805599453, 'change': 0.0, 'thirty': 0.6931471805599453, 'reborn,': 0.6931471805599453, 'marhaenism,': 0.6931471805599453, 'bomb,': 0.6931471805599453, 'usually': 0.6931471805599453, '1,400,000,000': 0.6931471805599453, 'unregarded,': 0.6931471805599453, 'troops': 0.6931471805599453, 'sake': 0.6931471805599453, 'abroad': 0.6931471805599453, 'territories': 0.6931471805599453, 'live': 2.0794415416798357, \"asia's\": 0.6931471805599453, 'chasms': 0.6931471805599453, 'club': 0.6931471805599453, 'gentlemen,': 0.6931471805599453, 'moral,': 0.6931471805599453, 'behalf': 1.3862943611198906, 'and,': 0.0, 'hope': 0.0, 'stature': 1.3862943611198906, 'making': 0.6931471805599453, 'imitation': 0.6931471805599453, 'heart': 0.0, 'december': 0.0, 'malayans,': 0.6931471805599453, 'allowed': 1.3862943611198906, 'hydrogen': 0.6931471805599453, 'africa;': 0.6931471805599453, 'etches': 0.6931471805599453, 'secured': 0.6931471805599453, \"journey's\": 0.6931471805599453, 'innumerable': 0.6931471805599453, 'future,': 0.6931471805599453, 'africa,': 0.0, 'future.': 0.6931471805599453, 'reluctantly,': 0.6931471805599453, 'über': 0.6931471805599453, 'professing': 0.6931471805599453, 'may': 0.0, 'matter.but': 0.6931471805599453, 'eighty': 1.3862943611198906, 'mankind': 0.0, 'such': 4.1588830833596715, 'man': 7.6246189861593985, 'different.': 2.0794415416798357, 'different,': 0.6931471805599453, 'whenever': 0.6931471805599453, 'maybe': 0.6931471805599453, 'futures': 0.6931471805599453, 'darkened': 0.6931471805599453, 'so': 0.0, 'african': 4.1588830833596715, 'controlling.': 0.6931471805599453, 'exclusive': 0.6931471805599453, 'no.': 0.0, 'indeed': 0.0, 'midnight': 1.3862943611198906, 'no!': 0.0, 'years': 0.0, 'stability': 0.6931471805599453, 'argued': 0.6931471805599453, 'still': 0.0, 'clash,': 0.6931471805599453, 'thank': 0.0, 'torn': 0.0, 'dead.': 0.6931471805599453, 'dead,': 0.6931471805599453, 'won,': 0.6931471805599453, 'main': 0.6931471805599453, 'battlefield.': 0.6931471805599453, 'horror.not': 0.6931471805599453, 'newly-recovered': 0.6931471805599453, 'nation': 0.0, 'records': 0.6931471805599453, 'corroded': 0.6931471805599453, 'half': 2.0794415416798357, 'not': 0.0, 'now': 0.0, 'hall': 2.772588722239781, 'nor': 3.4657359027997265, 'madurese,': 0.6931471805599453, 'realise': 1.3862943611198906, 'revere': 0.6931471805599453, 'motherland': 0.6931471805599453, 'paramount,': 0.6931471805599453, 'morality.perhaps': 0.6931471805599453, 'uninhibited': 0.6931471805599453, 'therefore,': 0.0, 'year': 0.0, 'small.': 0.6931471805599453, 'physical,': 0.6931471805599453, 'living': 0.6931471805599453, 'shown': 0.6931471805599453, 'yes,': 0.0, 'profit': 0.6931471805599453, 'increase': 0.6931471805599453, 'dead.so,': 0.6931471805599453, 'multiformity': 0.6931471805599453, 'million': 0.0, 'quite': 0.6931471805599453, 'unfriendly': 0.6931471805599453, 'evermore,': 0.6931471805599453, 'inevitable': 0.6931471805599453, 'evermore.': 0.6931471805599453, 'care': 0.6931471805599453, 'colonialism.and': 0.6931471805599453, 'dangerof': 0.6931471805599453, 'british': 0.6931471805599453, 'thing': 1.3862943611198906, 'place': 0.0, 'massive': 0.6931471805599453, 'invitation': 0.6931471805599453, 'unborn': 1.3862943611198906, 'think': 0.0, 'first': 0.0, 'besieged': 0.6931471805599453, 'but,': 0.0, 'long': 0.0, '\"live': 2.772588722239781, 'message': 1.3862943611198906, 'discharged': 0.6931471805599453, 'disinterested': 3.4657359027997265, 'little': 5.545177444479562, 'seas': 0.6931471805599453, 'speaking': 0.6931471805599453, 'much!': 0.6931471805599453, 'eyes': 0.6931471805599453, 'that': 0.0, 'spoke,': 0.6931471805599453, 'behoves': 0.6931471805599453, 'released': 0.6931471805599453, 'freedomis': 0.6931471805599453, 'them.indeed,': 0.6931471805599453, 'than': 0.0, 'population': 0.6931471805599453, 'exacted': 0.6931471805599453, 'future': 1.3862943611198906, 'were': 0.0, 'and': 0.0, 'sad': 0.6931471805599453, \"humanity's\": 0.6931471805599453, 'say': 0.0, 'distorted': 0.6931471805599453, 'any': 0.0, 'general': 0.0, 'terrific': 0.6931471805599453, 'take': 0.0, 'responsibility': 0.6931471805599453, 'sure': 0.6931471805599453, 'probed': 0.6931471805599453, 'price': 0.6931471805599453, 'knew': 0.0, 'statement:': 0.6931471805599453, 'rehearsal': 0.6931471805599453, 'mediterranean,': 0.6931471805599453, 'picture': 1.3862943611198906, 'strength,': 0.6931471805599453, 'proud': 0.0, 'axe': 0.6931471805599453, 'not,': 0.6931471805599453, 'dispersed': 0.6931471805599453, 'cooperation.': 0.6931471805599453, 'fifty': 0.6931471805599453, 'discovered': 0.6931471805599453, 'weapons': 0.6931471805599453, 'countryside,': 0.6931471805599453, 'behind': 0.0, 'liberation': 0.0, 'only': 0.0, 'going': 0.0, 'life-blood': 0.6931471805599453, 'get': 0.0, 'cannon': 0.6931471805599453, 'truly': 0.6931471805599453, 'unimportant': 0.6931471805599453, 'cannot': 0.0, 'central-javanese,': 0.6931471805599453, 'prime': 2.772588722239781, 'miles': 1.3862943611198906, 'where': 0.0, 'physically': 0.6931471805599453, 'eighteenth': 0.6931471805599453, 'threats.': 0.6931471805599453, 'job.': 0.6931471805599453, 'concern': 1.3862943611198906, 'unfree.': 1.3862943611198906, 'unfree,': 0.6931471805599453, 'ways': 1.3862943611198906, 'representatives': 0.0, 'colours': 0.6931471805599453, '3': 0.6931471805599453, 'between': 0.0, 'mission,': 0.6931471805599453, 'across': 0.6931471805599453, 'sea,': 0.6931471805599453, 'come': 0.0, 'ago.however': 0.6931471805599453, 'many': 10.39720770839918, 'easy\".i': 0.6931471805599453, 'comes': 0.0, 'duty': 0.0, 'among': 1.3862943611198906, 'period': 0.0, 'dress,': 0.6931471805599453, 'peoples,': 0.0, 'peoples.': 1.3862943611198906, 'then?': 1.3862943611198906, 'thousand': 0.6931471805599453, 'formed': 0.6931471805599453, 'moreover,': 0.6931471805599453, 'spirit': 0.0, 'those': 0.0, 'sound': 0.6931471805599453, 'myself': 0.6931471805599453, 'life?': 0.6931471805599453, 'ideals,': 0.6931471805599453, 'danger.': 0.6931471805599453, 'approachof': 0.6931471805599453, 'life.': 0.6931471805599453, 'toradjas,': 0.6931471805599453, 'people\".perhaps': 0.6931471805599453, 'then': 0.0, 'engaged': 0.6931471805599453, 'condition.yes,': 0.6931471805599453, 'different': 2.772588722239781, 'revolutions': 0.6931471805599453, 'develop': 0.6931471805599453, 'pay': 0.6931471805599453, 'seeking': 0.6931471805599453, 'same': 0.0, 'followers': 1.3862943611198906, 'liberalism': 0.6931471805599453, 'extended': 1.3862943611198906, 'drives': 0.6931471805599453, 'driven': 1.3862943611198906, 'conference,': 0.0, 'conference.': 0.0, 'mortgaged': 0.6931471805599453, 'stunted': 0.6931471805599453, 'lit,': 0.6931471805599453, 'without': 0.0, 'very': 0.0, 'convened': 0.6931471805599453, 'bodies': 0.6931471805599453, 'manifold': 0.6931471805599453, 'being': 2.772588722239781, 'when': 0.0, 'guided': 2.772588722239781, 'actions': 0.0, 'fruitful,': 0.6931471805599453, 'potentiality': 0.6931471805599453, 'speed': 0.6931471805599453, 'death': 0.0, 'either,': 0.6931471805599453, 'bloc': 0.6931471805599453, '4': 0.6931471805599453, 'role': 0.6931471805599453, 'possible;': 0.6931471805599453, 'omnipotence': 0.6931471805599453, 'peace?not': 0.6931471805599453, 'delhi': 0.6931471805599453, 'world.failure': 0.6931471805599453, 'action.': 0.0, 'world': 0.0, 'dare': 0.6931471805599453, 'confine': 0.6931471805599453, 'collective': 0.6931471805599453, 'nationalawakening': 0.6931471805599453, 'lightning': 0.6931471805599453, 'benefit': 0.6931471805599453, 'always': 0.0, 'fulfil': 0.6931471805599453, 'opened,': 0.6931471805599453, 'burdens': 0.6931471805599453, 'wrote:a': 0.6931471805599453, 'religions.': 0.6931471805599453, 'envoys': 0.6931471805599453, 'toleranceand': 0.6931471805599453, 'racial': 0.6931471805599453, 'destroy.': 0.6931471805599453, 'peace,': 0.0, 'peace.': 4.1588830833596715, 'theirs,': 0.6931471805599453, 'slight.': 0.6931471805599453, 'inject': 0.6931471805599453, 'think,': 0.6931471805599453, 'scientific': 1.3862943611198906, 'power': 0.0, 'passer\"': 0.6931471805599453, 'five,': 0.6931471805599453, 'colombo,': 0.6931471805599453, 'on': 0.0, 'of': 0.0, 'violence': 0.6931471805599453, 'discussed': 0.6931471805599453, 'free.': 0.6931471805599453, 'free,': 0.0, 'or': 0.0, 'road': 0.6931471805599453, 'continent.': 0.6931471805599453, 'your': 0.0, 'dawned': 0.6931471805599453, 'there': 0.0, 'desert': 0.6931471805599453, 'you,': 0.0, 'continents': 3.4657359027997265, 'tranquility': 0.6931471805599453, 'amongst': 0.6931471805599453, 'dynamism.': 0.6931471805599453, 'hurricanes': 0.6931471805599453, 'land,': 0.0, 'practically': 0.6931471805599453, 'sadness': 0.6931471805599453, 'morality?': 0.6931471805599453, 'bataks,': 0.6931471805599453, 'burdens.sisters': 0.6931471805599453, 'majority.and': 0.6931471805599453, 'stock.': 0.6931471805599453, 'am': 0.0, 'deep': 0.6931471805599453, 'fellow': 0.6931471805599453, 'as': 0.0, 'at': 0.0, 'occupied,': 0.6931471805599453, 'again': 0.0, 'intercontinental': 0.6931471805599453, 'neighbouring': 0.6931471805599453, '5': 0.6931471805599453, 'you': 0.0, 'everywhere,': 0.6931471805599453, 'poor': 0.6931471805599453, 'blessing': 1.3862943611198906, 'rifles,': 0.6931471805599453, 'sacrifices.': 0.6931471805599453, 'much': 0.0, 'important': 1.3862943611198906, 'itself,': 0.6931471805599453, 'itself.': 1.3862943611198906, 'building': 0.0, 'colonialism': 0.0, 'solidarity.indeed,': 0.6931471805599453, 'bounty.': 0.6931471805599453, 'all': 0.0, 'grind.': 0.6931471805599453, 'welfare': 0.6931471805599453, 'settlement': 0.6931471805599453, 'religious': 0.0, 'children': 1.3862943611198906, 'content': 2.0794415416798357, 'zoroasthrianism,': 0.6931471805599453, 'to': 0.0, 'arabs,': 0.6931471805599453, 'far': 0.0, 'horror': 0.6931471805599453, 'coloured': 0.6931471805599453, 'blockade': 0.6931471805599453, 'sun,': 0.6931471805599453, 'broken!': 0.6931471805599453, 'large': 1.3862943611198906, 'these': 0.0, 'peopleswho': 0.6931471805599453, 'sought.': 0.6931471805599453, 'small': 2.0794415416798357, 'longfellow': 0.6931471805599453, 'past': 1.3862943611198906, 'answer,': 0.6931471805599453, 'peoplescould': 0.6931471805599453, 'ourselves,': 0.6931471805599453, 'what': 0.0, 'sun': 0.6931471805599453, 'anniversary': 0.6931471805599453, 'him.': 0.6931471805599453, 'learned': 4.1588830833596715, 'common.relatively': 0.6931471805599453, 'falsify': 0.6931471805599453, 'contrast': 0.6931471805599453, 'power-politics': 0.6931471805599453, 'christian': 0.6931471805599453, 'loose': 0.6931471805599453, 'when,': 0.6931471805599453, 'situation': 1.3862943611198906, 'life,': 1.3862943611198906, 'islam,': 0.6931471805599453, 'ahead': 0.6931471805599453, 'experience': 1.3862943611198906, 'emotion.': 0.6931471805599453, 'disruption,': 0.6931471805599453, 'social': 0.6931471805599453, 'action': 0.0, 'suddenly': 0.0, 'responded?i': 0.6931471805599453, 'africa': 0.0, 'backed': 0.0, '\"have': 0.6931471805599453, 'contains': 0.6931471805599453, 'wield': 0.6931471805599453, 'two': 0.0, 'compensate': 0.6931471805599453, '6': 0.6931471805599453, 'more': 0.0, 'globe.': 0.6931471805599453, 'controlling': 0.0, 'particular': 0.6931471805599453, 'known': 0.0, 'recall': 2.0794415416798357, 'abroad:': 0.6931471805599453, 'forbearance': 0.6931471805599453, 'history': 3.4657359027997265, 'lives': 0.6931471805599453, 'suggestions': 0.6931471805599453, 'accept': 0.0, 'days': 1.3862943611198906, 'states': 0.0, 'hand-in-hand': 0.6931471805599453, 'attain': 0.6931471805599453, 'firmly': 0.0, '!': 0.6931471805599453, 'upbuilding': 0.6931471805599453, 'rather': 0.6931471805599453, 'anti-colonial': 1.3862943611198906, 'comfort': 2.0794415416798357, 'eat,': 0.6931471805599453, 'civilisation': 0.6931471805599453, 'ideologies.': 0.6931471805599453, 'state.': 0.0, 'ethics': 0.6931471805599453, 'responsibility.': 0.6931471805599453, 'bloom': 0.6931471805599453, 'a': 0.0, 'shortcomings': 0.6931471805599453, 'bogor': 0.6931471805599453, 'influence.': 0.6931471805599453, 'departure': 0.6931471805599453, 'negligible': 0.6931471805599453, 'skilful': 0.6931471805599453, 'privileges': 0.6931471805599453, 'held': 1.3862943611198906, 'through': 0.0, 'committed': 0.6931471805599453, 'existence': 0.6931471805599453, 'suffer': 0.6931471805599453, 'its': 0.0, 'roots': 0.6931471805599453, 'islam': 0.6931471805599453, 'pray': 2.0794415416798357, 'already.': 0.0, 'course,': 0.0, 'discussion,ways': 0.6931471805599453, 'occasion.': 0.6931471805599453, 'reached.': 0.6931471805599453, 'it,': 0.0, 'good': 0.0, 'little.': 0.6931471805599453, 'spiritual,': 0.6931471805599453, 'food': 0.6931471805599453, 'it?': 0.6931471805599453, 'walls': 0.6931471805599453, 'imperil': 0.6931471805599453, 'great.': 0.6931471805599453, 'guises.': 0.6931471805599453, 'imprisoned': 0.6931471805599453, 'system.': 0.6931471805599453, 'fully': 0.6931471805599453, 'truths': 0.6931471805599453, 'burdens,': 0.6931471805599453, 'did': 0.0, 'found': 1.3862943611198906, 'heavy': 2.0794415416798357, 'harm': 0.6931471805599453, 'england': 0.6931471805599453, 'hard': 0.6931471805599453, 'house.': 0.6931471805599453, 'idea': 0.6931471805599453, 'united.as': 0.6931471805599453, 'really': 0.6931471805599453, 'since': 0.0, 'acting': 0.6931471805599453, 'safety': 2.0794415416798357, '7': 0.6931471805599453, 'only,but': 0.6931471805599453, 'humiliation.': 0.6931471805599453, 'socialism,': 0.6931471805599453, '!god': 0.6931471805599453, 'reason': 0.0, 'communism,': 0.6931471805599453, 'beginning': 0.0, 'thrown': 0.6931471805599453, 'american': 0.6931471805599453, 'threat': 1.3862943611198906, 'black.': 0.6931471805599453, 'sacrifice': 0.6931471805599453, 'sundanese,': 0.6931471805599453, 'feel': 1.3862943611198906, 'done': 0.6931471805599453, 'changing': 1.3862943611198906, 'imperialism\".': 0.6931471805599453, 'remember,': 1.3862943611198906, 'jet': 0.6931471805599453, '180': 0.6931471805599453, 'roots.': 0.6931471805599453, 'hundred': 2.0794415416798357, 'other.': 0.6931471805599453, 'immediate': 1.3862943611198906, 'appreciation': 1.3862943611198906, 'part': 0.0, 'impersonal': 0.6931471805599453, 'aims': 1.3862943611198906, 'dogs': 0.6931471805599453, 'determined': 0.6931471805599453, 'wastage': 0.6931471805599453, 'declare': 0.6931471805599453, 'exert': 0.6931471805599453, 'experience,': 0.6931471805599453, 'awoken': 0.6931471805599453, 'tanks,': 0.6931471805599453, 'lie': 0.0, 'also': 0.0, 'labour': 0.6931471805599453, 'finding': 0.6931471805599453, 'play': 0.6931471805599453, 'towards': 0.0, 'most': 0.0, 'instance,': 0.6931471805599453, 'indo-china.i': 0.6931471805599453, 'variants.': 0.6931471805599453, 'revolution,': 0.0, 'clear': 0.0, 'spreading.': 0.6931471805599453, 'forerunner': 0.6931471805599453, 'them.in': 0.6931471805599453, 'realised': 0.6931471805599453, 'particularly': 0.6931471805599453, 'demanded,': 0.6931471805599453, 'tunggal': 0.6931471805599453, 'nations,': 0.0, 'nations.': 0.0, 'unhappy': 0.6931471805599453, '8': 4.852030263919617, 'large,': 0.6931471805599453, 'centuries.': 0.6931471805599453, 'his': 0.0, 'asien'\"': 0.6931471805599453, 'capital': 0.6931471805599453, 'famous': 0.6931471805599453, 'courage': 2.0794415416798357, 'certain,': 0.6931471805599453, 'during': 0.6931471805599453, 'necessity.today': 0.6931471805599453, 'cry': 0.6931471805599453, 'freedom.': 0.6931471805599453, 'freedom,': 0.6931471805599453, 'sacrifices': 0.6931471805599453, 'common': 0.0, 'activity': 0.6931471805599453, 'distant': 1.3862943611198906, 'earth.i': 0.6931471805599453, 'achieved': 1.3862943611198906, 'individual': 1.3862943611198906, 'are': 0.0, 'sea': 1.3862943611198906, 'outward': 0.6931471805599453, 'smallest': 0.6931471805599453, 'years.': 0.6931471805599453, \"other's\": 0.6931471805599453, 'recently': 1.3862943611198906, 'chamber,': 0.6931471805599453, 'attention': 0.0, 'achieve.': 0.6931471805599453, 'ika': 0.6931471805599453, 'succeed': 0.6931471805599453, 'politics.': 0.6931471805599453, 'thatbattle?': 0.6931471805599453, 'both': 0.0, 'last': 0.0, 'lightly,': 0.6931471805599453, 'secrets': 0.6931471805599453, 'foreign': 0.0, 'theocracy,': 0.6931471805599453, 'proclamation': 0.0, 'poverty': 2.0794415416798357, 'sons:': 0.6931471805599453, 'scored.': 0.6931471805599453, 'whole': 0.0, 'varietyof': 0.6931471805599453, 'live\"': 2.0794415416798357, 'knew.': 0.6931471805599453, 'point': 0.0, 'sweet': 0.0, 'community': 0.6931471805599453, '21/09/2015': 4.1588830833596715, 'political': 0.0, 'whom': 0.6931471805599453, 'territory': 0.0, 'meeting': 0.0, 'nations!bismillah': 0.6931471805599453, 'erected.': 0.6931471805599453, 'lived': 0.6931471805599453, 'flints': 0.6931471805599453, 'success!': 1.3862943611198906, 'else': 0.0, 'whatever': 2.772588722239781, 'understand': 2.0794415416798357, 'representative': 0.0, 'playthings': 0.6931471805599453, 'plants': 0.6931471805599453, 'look': 0.0, 'blockaded,': 0.6931471805599453, 'loot': 0.6931471805599453, 'century': 0.6931471805599453, 'itself': 0.6931471805599453, 'serried': 0.6931471805599453, 'asia-africa.': 0.6931471805599453, 'away,': 0.6931471805599453, 'came,': 0.0, 'peoples': 13.862943611198906, 'conflict': 1.3862943611198906, 'development': 0.6931471805599453, 'faire,': 0.6931471805599453, 'here,': 0.0, 'mankind.': 0.0, 'moment': 0.0, 'purpose': 1.3862943611198906, 'necessity': 0.6931471805599453, 'brussels': 0.6931471805599453, 'lash.': 0.6931471805599453, 'changed,': 0.6931471805599453, 'task': 1.3862943611198906, 'people,': 0.0, 'brothers.it': 0.6931471805599453, 'analysis': 0.6931471805599453, '\"unity': 0.6931471805599453, 'indonesia,': 0.0, 'indonesia.': 0.0, 'indo-china.look,': 0.6931471805599453, 'lives?': 0.6931471805599453, 'questions': 1.3862943611198906, 'lives,': 0.6931471805599453, 'matter?': 0.6931471805599453, 'unto': 0.6931471805599453, 'profitable': 0.6931471805599453, 'thoughtlessly,': 0.6931471805599453, 'source': 0.6931471805599453, 'parents': 0.6931471805599453, 'questioned': 0.6931471805599453, 'longer.': 0.6931471805599453, 'indonesian': 0.0, 'victims': 0.6931471805599453, 'big': 0.6931471805599453, 'bid': 1.3862943611198906, 'we!': 0.6931471805599453, 'matters': 1.3862943611198906, 'distance.': 0.6931471805599453, 'distance,': 0.6931471805599453, 'world.yes,': 1.3862943611198906, 'knock': 0.6931471805599453, 'together.sisters': 0.6931471805599453, 'pillar': 0.6931471805599453, 'bamboo': 0.6931471805599453, 'often': 1.3862943611198906, 'cannon,': 0.6931471805599453, 'some': 0.0, 'back': 0.6931471805599453, '\"laissez': 0.6931471805599453, 'urgent': 0.6931471805599453, 'added': 0.6931471805599453, '\"we': 0.6931471805599453, 'curious': 0.6931471805599453, 'ourselves': 0.0, 'irresistible': 0.6931471805599453, 'religion': 2.772588722239781, 'bloc.': 0.6931471805599453, 'be': 0.0, 'run': 0.6931471805599453, 'continuing': 0.0, 'independence.indeed,': 0.6931471805599453, 'obscured': 0.6931471805599453, 'by': 0.0, 'faith': 0.6931471805599453, 'yawn': 0.6931471805599453, 'imperialism,': 0.0, 'democracy,': 0.6931471805599453, 'voices,': 0.6931471805599453, 'hinduism,': 0.6931471805599453, 'into': 0.0, 'within': 0.0, 'laissez': 0.6931471805599453, 'peoples.however,': 0.6931471805599453, 'realisation': 0.6931471805599453, 'question': 0.0, 'amidst': 0.6931471805599453, 'heritage': 0.6931471805599453, 'forward': 0.6931471805599453, 'desires.all': 0.6931471805599453, 'reassurance': 0.6931471805599453, 'hopes': 0.6931471805599453, 'line': 0.6931471805599453, 'themselves': 0.0, 'darkness,': 0.6931471805599453, 'alive.we': 0.6931471805599453, 'whoare': 0.6931471805599453, 'goodwill': 0.6931471805599453, 'up': 0.0, 'us': 0.0, 'today': 0.0, 'similar': 0.6931471805599453, 'called': 0.0, 'conditions,': 0.6931471805599453, 'diplomacy,': 0.0, 'cost.today,': 0.6931471805599453, 'problem.': 0.6931471805599453, 'consulted': 0.6931471805599453, 'warning': 0.6931471805599453, 'peace': 3.4657359027997265, 'spokesmen': 0.6931471805599453, 'themselves.': 0.0, 'nay': 0.6931471805599453, 'problems': 0.6931471805599453, 'prepared': 0.0, 'meaning': 0.0, 'sides': 0.6931471805599453, 'ago': 0.0, 'reasoned': 0.6931471805599453, 'fear.': 2.0794415416798357, 'fear,': 1.3862943611198906, 'fresh': 1.3862943611198906, 'independent.': 0.6931471805599453, 'once': 0.0, 'code': 1.3862943611198906, 'issued': 0.6931471805599453, 'eradicated': 0.6931471805599453, 'alien': 1.3862943611198906, 'go': 0.0, 'considerations.you': 0.6931471805599453, 'seemed': 0.6931471805599453, 'wehave': 0.6931471805599453, 'more,': 0.0, 'artery': 0.6931471805599453, 'more.': 0.0, 'help.': 0.6931471805599453, 'this': 0.0, 'us,': 0.0, 'canal,': 0.6931471805599453, 'other,': 2.772588722239781, 'desire?': 0.6931471805599453, 'confer.i': 0.6931471805599453, 'acid': 0.6931471805599453, 'frontiers.': 0.6931471805599453, 'that,': 0.0, 'that.': 0.6931471805599453, 'giving': 0.0, \"man's\": 1.3862943611198906, 'indian': 0.6931471805599453, 'independence.': 0.0, 'large.': 0.6931471805599453, 'can': 0.0, 'body': 0.6931471805599453, 'desires': 0.6931471805599453, 'gathered': 4.1588830833596715, 'jointly': 0.6931471805599453, 'unfree.and,': 0.6931471805599453, 'let': 0.0, 'others': 3.4657359027997265, 'consideration': 0.6931471805599453, 'globe.it': 0.6931471805599453, 'great': 0.0, 'technical': 1.3862943611198906, 'survey': 2.0794415416798357, 'opinion': 0.6931471805599453, 'doesits': 0.6931471805599453, 'danger': 1.3862943611198906, '\"underdeveloped\"': 0.6931471805599453, 'tools': 0.6931471805599453, 'cloud': 0.6931471805599453, 'standing': 0.0, 'from': 0.0, 'remains': 0.6931471805599453, 'ministers': 0.0, 'few': 1.3862943611198906, 'doubt': 0.6931471805599453, 'bonds': 2.772588722239781, 'forefathers': 0.6931471805599453, 'historically': 0.6931471805599453, 'hard.': 0.6931471805599453, 'impress': 1.3862943611198906, 'carrying': 0.0, 'gladly': 0.6931471805599453, '\"to': 0.6931471805599453, 'high': 0.0, '1945,': 0.0, 'us.': 0.0, 'ride': 0.6931471805599453, 'confer.already': 0.6931471805599453, 'island': 0.6931471805599453, 'meet': 2.0794415416798357, 'rehabilitation': 0.6931471805599453, 'control': 2.772588722239781, 'seem.as': 0.6931471805599453, 'process': 0.6931471805599453, 'rode': 0.6931471805599453, 'escaped': 0.6931471805599453, 'something': 0.0, 'united': 0.0, 'destroying': 0.6931471805599453, 'africans': 0.6931471805599453, 'achenese,': 0.6931471805599453, 'regions': 0.0, 'responsibilities': 2.0794415416798357, 'way,in': 0.6931471805599453, 'hosts.': 0.6931471805599453, 'stock': 0.6931471805599453, 'act': 0.0, 'tortured,': 0.6931471805599453, 'moslims,': 0.6931471805599453, 'ethnic': 0.6931471805599453, 'ties': 0.6931471805599453, 'solidarity': 1.3862943611198906, 'gone,': 0.6931471805599453, 'light': 3.4657359027997265, 'struggle.': 0.0, 'struggle,': 0.0, 'divided': 1.3862943611198906, 'course.what': 0.6931471805599453, 'six': 0.6931471805599453, 'existence.': 0.6931471805599453, 'mentioned': 0.6931471805599453, 'contaminated': 0.6931471805599453, 'civa-buddhists,': 0.6931471805599453, 'voiceless': 0.6931471805599453, 'exiled,': 0.6931471805599453, 'restrain': 0.6931471805599453, 'world.': 0.0, 'world,': 0.0, 'delhi,': 0.6931471805599453, 'prosper': 0.6931471805599453, 'd'être\",': 0.6931471805599453, 'greater': 0.0, 'practice': 0.0, 'runs': 0.6931471805599453, 'flew': 0.6931471805599453, 'invitations': 0.6931471805599453, 'stabilise': 0.6931471805599453, 'day': 0.0, 'masters': 0.6931471805599453, 'truth': 0.6931471805599453, 'shaking': 0.6931471805599453, 'experienced': 0.0, 'doing': 2.0794415416798357, 'society': 0.6931471805599453, 'terrifically': 0.6931471805599453, 'decided,': 0.6931471805599453, 'our': 0.0, 'special': 1.3862943611198906, 'out': 0.0, 'radiance.but': 0.6931471805599453, 'colonialism.nor': 0.6931471805599453, 'shintoism,': 0.6931471805599453, 'men.': 0.6931471805599453, 'wholly': 0.6931471805599453, '\"league': 0.6931471805599453, 'motifs': 0.6931471805599453, 'cause': 0.6931471805599453, 'time!': 0.6931471805599453, 'red': 0.0, \"one's\": 0.6931471805599453, 'delegates': 2.0794415416798357, 'completely': 0.0, 'likelihood': 0.6931471805599453, 'things,': 1.3862943611198906, 'could': 0.0, 'diminished': 0.6931471805599453, 'keep': 0.6931471805599453, 'foolishly,': 0.6931471805599453, 'south': 0.6931471805599453, 'complete.': 0.0, 'succeeds': 1.3862943611198906, 'echo': 2.0794415416798357, 'activity.': 0.6931471805599453, 'have,': 0.6931471805599453, 'be,': 0.6931471805599453, 'bears': 0.6931471805599453, 'unknown': 0.6931471805599453, 'conventional,': 0.6931471805599453, 'relations': 0.6931471805599453, 'identity;': 0.6931471805599453, 'their': 0.0, 'final': 0.6931471805599453, 'paved': 0.6931471805599453, 'interests': 1.3862943611198906, 'gathering,': 0.6931471805599453, 'hardwon': 0.6931471805599453, 'majority,': 0.6931471805599453, 'manifestation': 0.6931471805599453, 'remember': 2.0794415416798357, 'isolation': 0.6931471805599453, 'beg': 2.0794415416798357, 'threatened.issues': 0.6931471805599453, 'distinguished': 1.3862943611198906, 'safeguarded': 0.6931471805599453, 'wherever,': 0.6931471805599453, 'buddhism,': 0.6931471805599453, 'poisons': 0.6931471805599453, 'have': 0.0, 'need': 1.3862943611198906, 'confucianism,': 0.6931471805599453, 'indomitable,': 0.6931471805599453, 'able': 0.0, 'asian-african': 4.852030263919617, 'which': 0.0, 'unless': 3.4657359027997265, 'other.if': 0.6931471805599453, 'who': 0.0, 'basis.': 0.6931471805599453, 'why': 0.0, 'so-called': 0.0, 'statesmen,': 1.3862943611198906, 'concern,': 0.6931471805599453, 'concern.': 0.6931471805599453, 'face': 0.0, 'looked': 0.6931471805599453, 'april,': 0.6931471805599453, 'occasion': 0.6931471805599453, 'fact': 0.0, 'chances': 0.6931471805599453, 'one,': 0.0, 'purely': 0.6931471805599453, 'planning': 0.6931471805599453, 'well-being': 2.0794415416798357, 'fear': 4.852030263919617, 'darkest': 0.6931471805599453, 'true,': 0.6931471805599453, 'based': 0.0, 'sparks': 0.6931471805599453, 'with': 0.0, 'should': 0.0, 'unsuccessful,': 0.6931471805599453, 'won': 0.0, 'attained': 1.3862943611198906, 'thousands': 0.0, 'balinese,': 0.6931471805599453, 'natural!': 0.6931471805599453, 'means': 0.0, 'patterns.': 1.3862943611198906, 'unchained': 0.6931471805599453, 'bear': 0.0, 'ones': 0.6931471805599453, 'words': 0.0, 'christians,': 0.6931471805599453, 'suez': 0.6931471805599453, 'areas': 0.6931471805599453, 'itself.if': 0.6931471805599453, 'approach': 0.6931471805599453, 'houses.': 0.6931471805599453, 'control,': 1.3862943611198906, 'generations': 1.3862943611198906, 'deceived': 0.0, 'exists': 0.6931471805599453, 'national': 0.0, 'end.': 0.6931471805599453, 'rather,': 0.6931471805599453, 'state': 0.0, '\"raison': 0.6931471805599453, 'progress': 0.6931471805599453, 'generations.': 1.3862943611198906, 'opening': 0.6931471805599453, 'importance': 0.6931471805599453, 'unity.': 0.6931471805599453, 'ideas,': 1.3862943611198906, 'precious': 0.6931471805599453, 'spirit.i': 0.6931471805599453, 'freely': 0.6931471805599453, 'invited': 0.6931471805599453, 'assure': 0.6931471805599453, 'grain': 0.6931471805599453, 'precedent!': 0.6931471805599453, 'glorious': 0.6931471805599453, 'diplomats': 0.6931471805599453, 'walk': 0.6931471805599453, 'together,': 2.0794415416798357, 'done,': 0.6931471805599453, 'choice,': 0.6931471805599453, 'immense': 1.3862943611198906, 'poet': 0.6931471805599453, 'diversity': 2.772588722239781, 'neighbour': 0.6931471805599453, 'an': 0.0, 'present': 0.0, 'welcoming': 0.6931471805599453, 'decades': 0.0, 'will': 0.0, 'fault': 0.6931471805599453, 'almost': 0.0, 'countries.': 1.3862943611198906, 'earth.the': 0.6931471805599453, 'perhaps': 2.772588722239781, 'began': 0.0, 'buddhist': 0.6931471805599453, 'intellectually.it': 0.6931471805599453, 'these.': 0.6931471805599453, 'unity': 0.0, 'parts': 4.852030263919617, 'outbreak': 0.6931471805599453, 'material': 2.772588722239781, 'confrontedwith': 0.6931471805599453, 'unconventional': 0.6931471805599453, 'upon': 0.0, 'effect': 0.6931471805599453, 'sisters': 3.4657359027997265, 'frequently': 0.6931471805599453, 'scourges': 0.6931471805599453, 'lanka,': 0.6931471805599453, '1954': 0.6931471805599453, 'i': 0.0, 'host.but': 0.6931471805599453, 'colour': 0.6931471805599453, 'indonesia': 0.0, 'well': 0.0, 'fighting': 2.0794415416798357, 'command': 0.0, 'combinations.but': 0.6931471805599453, 'enemy,': 0.6931471805599453, 'less': 0.6931471805599453, 'only-': 0.6931471805599453, '1954.': 0.6931471805599453, 'paul': 0.6931471805599453, 'liberty.': 0.6931471805599453, 'consume': 0.6931471805599453, 'solidarity,': 0.6931471805599453, 'independence.but': 0.6931471805599453, 'host.': 0.6931471805599453, 'discuss': 0.0, 'onwards': 0.6931471805599453, 'skins,': 0.6931471805599453, 'developments': 0.6931471805599453, 'practise': 0.0, 'resolved': 0.0, 'government': 0.0, 'historic': 1.3862943611198906, 'five': 4.1588830833596715, 'know': 0.0, 'burden': 0.6931471805599453, 'press': 1.3862943611198906, 'better.this': 0.6931471805599453, 'mental,': 0.6931471805599453, 'issues,': 0.6931471805599453, 'necessary': 1.3862943611198906, 'like': 0.0, 'success': 1.3862943611198906, 'we,': 0.0, 'hosts': 0.6931471805599453, 'become': 0.0, 'circumstances.let': 0.6931471805599453, 'because': 0.0, 'neighbours.': 0.6931471805599453, 'ideals': 1.3862943611198906, 'enlightened,': 0.6931471805599453, 'past,': 0.6931471805599453, 'avoid': 0.6931471805599453, 'does': 1.3862943611198906, 'sponsoring': 1.3862943611198906, 'brotherhood.': 0.6931471805599453, 'easily.': 0.6931471805599453, 'about': 0.0, 'actual': 0.6931471805599453, 'extension': 0.6931471805599453, 'freedom': 0.6931471805599453, 'mine.': 0.6931471805599453, 'diabolical': 0.6931471805599453, 'happen.': 0.6931471805599453, 'outstripped': 0.6931471805599453, 'happen,': 0.6931471805599453, 'own': 0.0, 'recognise': 0.0, 'interdependence': 0.6931471805599453, 'live\",': 0.6931471805599453, 'problems.for': 0.6931471805599453, 'biggest': 0.6931471805599453, 'humanity.and': 0.6931471805599453, 'but': 0.0, 'plague': 0.6931471805599453, 'highest': 2.772588722239781, 'he': 0.0, 'made': 0.0, 'places': 1.3862943611198906, 'wish': 0.6931471805599453, 'variations': 0.6931471805599453, 'pumped': 0.6931471805599453, 'demonstrate': 0.6931471805599453, '-how': 0.6931471805599453, 'continents.': 2.0794415416798357, 'contribute': 0.6931471805599453, 'undying,': 0.6931471805599453, 'diplomat': 0.6931471805599453, 'variety': 1.3862943611198906, 'other': 0.0, 'again.': 0.0, 'again,': 0.6931471805599453, 'stay': 0.6931471805599453, 'inspiration': 0.6931471805599453, 'enormouschanges.': 0.6931471805599453, 'bulwark': 0.6931471805599453, 'ranks': 0.6931471805599453, 'determination': 0.0, 'friendly,': 0.6931471805599453, 'confess': 0.6931471805599453}, {'all': 0.0, 'ever.': 0.6931471805599453, 'arrested.': 0.6931471805599453, 'people': 0.0, 'resistance': 0.6931471805599453, 'unfurl': 4.1588830833596715, 'colonising.': 1.3862943611198906, 'fields.': 0.6931471805599453, 'ambassadors,': 0.6931471805599453, 'go': 0.0, 'religious': 0.0, 'tricks,': 0.6931471805599453, '21st': 2.772588722239781, '92': 0.6931471805599453, 'graves': 0.6931471805599453, 'imperialism.': 4.1588830833596715, '[11]': 0.6931471805599453, 'colonisation,': 0.6931471805599453, 'including': 1.3862943611198906, '1945': 2.772588722239781, 'proposal.': 1.3862943611198906, \"mook's\": 0.6931471805599453, 'colonisation\".': 0.6931471805599453, 'those': 0.0, 'unfurled': 0.6931471805599453, 'under': 0.0, 'jogjakarta,': 2.0794415416798357, 'sovereignty': 2.0794415416798357, 'pleasing': 0.6931471805599453, 'friendly': 1.3862943611198906, 'carried': 1.3862943611198906, 'decision.': 0.6931471805599453, 'repre-': 0.6931471805599453, 'returned': 2.0794415416798357, 'and,': 0.0, 'far': 0.0, 'came,': 0.0, 'dutch': 27.032740041837865, '\"tour': 0.6931471805599453, 'responsibility,': 0.0, 'me': 4.1588830833596715, 'cemeteries': 0.6931471805599453, 'putting': 2.0794415416798357, 'accuse': 0.6931471805599453, 'asia,': 0.0, 'attractive.': 0.6931471805599453, 'yourselves': 0.6931471805599453, 'more.': 0.0, 'today,': 0.0, 'islands.': 0.6931471805599453, 'decoio': 0.6931471805599453, 'established,': 0.6931471805599453, 'merauke.': 0.6931471805599453, 'entire': 5.545177444479562, 'merauke,': 0.6931471805599453, 'successful.': 0.6931471805599453, '17th': 4.1588830833596715, '[9]': 0.6931471805599453, 'called': 0.0, 'did': 0.0, 'die': 0.6931471805599453, 'proposals': 0.6931471805599453, 'make': 0.0, 'bay.': 0.6931471805599453, 'these': 0.0, 'archipelago': 1.3862943611198906, 'hague': 0.6931471805599453, 'independence': 0.0, 'arrested': 0.6931471805599453, 'chief': 2.0794415416798357, 'tried,': 2.772588722239781, 'enjoy': 0.6931471805599453, 'flag.': 2.772588722239781, 'revolution': 1.3862943611198906, 'me!': 0.6931471805599453, 'leaders': 0.0, 'fence': 0.6931471805599453, 'be': 0.0, 'me,': 0.0, 'me.': 0.6931471805599453, 'sign': 0.6931471805599453, 'talks': 0.6931471805599453, 'second': 0.0, 'monginsidi': 0.6931471805599453, 'further': 0.6931471805599453, 'others.': 0.0, 'air': 0.0, 'machine-gun': 0.6931471805599453, 'struggle': 0.0, 'that,': 0.0, 'colonialism': 0.0, 'what': 0.0, 'defence': 2.0794415416798357, 'him:': 0.6931471805599453, 'stands': 1.3862943611198906, 'representative': 0.0, 'giving': 0.0, 'anthem': 0.6931471805599453, 'exactly': 0.6931471805599453, 'both': 0.0, 'means': 0.0, 'wriggle': 0.6931471805599453, '19th': 2.772588722239781, 'anywhere': 0.6931471805599453, 'independence.': 0.0, 'pleading': 0.6931471805599453, 'dr.': 2.772588722239781, 'new': 0.0, 'order': 4.852030263919617, 'officially': 0.6931471805599453, 'admiral': 0.6931471805599453, 'dutch.': 2.772588722239781, 'movement': 0.6931471805599453, 'proclaiming': 0.6931471805599453, 'full': 0.0, 'not': 0.0, 'free,': 0.0, 'flag\".': 0.6931471805599453, 'flag\",': 0.6931471805599453, 'even': 0.0, 'sukarno': 4.1588830833596715, 'say:': 2.0794415416798357, 'ktut': 0.6931471805599453, 'hundreds': 4.852030263919617, 'crazier.': 0.6931471805599453, 'met': 0.0, 'let': 0.0, 'groups': 0.0, 'alone': 1.3862943611198906, 'based': 0.0, 'police.': 0.6931471805599453, 'change': 0.0, 'here:': 1.3862943611198906, 'great': 0.0, 'union.': 1.3862943611198906, \"coen's\": 0.6931471805599453, 'attitude.': 0.6931471805599453, 'until': 0.0, 'wherever': 0.6931471805599453, 'completely': 0.0, 'through': 0.0, 'anchor': 0.6931471805599453, 'trial': 0.6931471805599453, 'lied': 1.3862943611198906, '3.': 0.6931471805599453, 'say,': 0.6931471805599453, 'defeat': 6.931471805599453, 'real': 1.3862943611198906, 'military': 0.0, 'stand,': 0.6931471805599453, 'sumatra,': 0.6931471805599453, 'settled': 0.0, 'all-out': 0.6931471805599453, 'crazier': 0.6931471805599453, 'deceived,': 1.3862943611198906, '1945,': 0.0, 'love': 1.3862943611198906, 'ago': 0.0, 'heart': 0.0, 'suddenly': 0.0, 'merely': 4.852030263919617, 'africa': 0.0, 'young': 2.772588722239781, 'brought': 0.0, 'backed': 0.0, 'parties,': 0.6931471805599453, 'netherlands.': 0.6931471805599453, 'colonisation.': 2.0794415416798357, 'establish': 0.6931471805599453, '1961.': 1.3862943611198906, 'standing': 0.0, 'use': 0.6931471805599453, 'you?\"': 0.6931471805599453, 'from': 0.0, '[15]': 0.6931471805599453, 'try,': 0.6931471805599453, 'always': 0.0, 'positive': 0.6931471805599453, 'give': 0.0, 'ministers': 0.0, 'decades': 0.0, 'mobilisation': 2.772588722239781, '[4]': 0.6931471805599453, 'going': 0.0, 'call': 0.0, 'therefore': 1.3862943611198906, 'centre': 0.6931471805599453, 'then': 0.0, 'taken': 2.772588722239781, 'themselves': 0.0, 'liberating': 0.6931471805599453, 'forces': 0.0, 'is': 0.0, 'today': 0.0, 'more': 0.0, 'up,': 3.4657359027997265, 'introducing': 1.3862943611198906, 'commissioner': 0.6931471805599453, 'merauke': 0.6931471805599453, 'on': 0.0, 'started': 0.6931471805599453, 'hereby': 1.3862943611198906, 'imperialist': 1.3862943611198906, 'academy,': 1.3862943611198906, 'it': 0.0, 'three,': 0.6931471805599453, 'carrying': 0.0, 'controlling': 0.0, 'rome.': 0.6931471805599453, 'president,': 0.6931471805599453, 'east': 0.0, 'known': 0.0, 'hold': 0.0, 'women': 0.6931471805599453, 'fly': 0.6931471805599453, 'high': 0.0, \"indonesia's\": 0.0, 'word': 0.0, 'round': 4.852030263919617, 'tokyo': 0.6931471805599453, 'pursue': 1.3862943611198906, 'us.': 0.0, '1945.': 0.6931471805599453, 'us,': 0.0, 'this': 0.0, 'worm': 0.6931471805599453, 'wrong,': 0.6931471805599453, 'other': 0.0, 'imperialism,': 0.0, 'imperialism': 0.0, 'can': 0.0, 'following': 0.6931471805599453, 'my': 0.0, 'dissolve': 0.6931471805599453, 'most': 0.0, 'claim': 0.6931471805599453, 'council': 2.0794415416798357, 'downfall': 0.6931471805599453, 'december': 0.0, \"didn't\": 1.3862943611198906, 'accept': 0.0, 'involve': 0.6931471805599453, 'heard': 0.6931471805599453, 'stroke': 0.6931471805599453, 'dutch,': 2.0794415416798357, 'something': 0.0, 'want': 4.1588830833596715, 'instructions.': 0.6931471805599453, 'times': 2.0794415416798357, 'dress': 0.6931471805599453, 'action': 0.0, 'fire.': 0.6931471805599453, 'firmly': 0.0, 'huge': 0.6931471805599453, 'youth;': 0.6931471805599453, 'rays': 0.6931471805599453, 'end': 0.0, 'sit': 0.6931471805599453, 'there.': 1.3862943611198906, 'regions': 0.0, 'very': 0.0, 'jasmine.': 0.6931471805599453, 'sentiments': 0.6931471805599453, 'africa,': 0.0, 'place': 0.0, 'native': 3.4657359027997265, 'establishment': 1.3862943611198906, 'talks,': 2.0794415416798357, 'undertook': 0.6931471805599453, 'mataram.': 0.6931471805599453, 'de': 1.3862943611198906, 'tried': 4.1588830833596715, 'confrontation,': 0.6931471805599453, 'may': 0.0, 'stop': 0.6931471805599453, 'pasundan': 0.6931471805599453, 'after': 0.6931471805599453, 'listen!': 0.6931471805599453, 'demanding': 0.6931471805599453, 'bothered': 2.0794415416798357, 'colonialism.': 0.0, 'wrong': 0.6931471805599453, 'united': 0.0, 'ambassador': 0.6931471805599453, 'mankind': 0.0, 'sabang': 2.0794415416798357, 'president': 0.0, 'pleaded': 0.6931471805599453, 'organisations': 0.6931471805599453, 'proclaimed': 0.6931471805599453, 'a': 0.0, 'guerilla': 2.0794415416798357, 'attempt': 0.6931471805599453, 'succeeded': 1.3862943611198906, 'occasions': 0.6931471805599453, 'strong.': 0.6931471805599453, 'counter': 0.6931471805599453, '1596,': 0.6931471805599453, 'mightiness': 0.6931471805599453, 'or': 0.0, 'struggle.': 0.0, '[sic]': 0.6931471805599453, 'time.': 0.6931471805599453, 'sukarno,': 1.3862943611198906, 'act.': 1.3862943611198906, 'enter': 1.3862943611198906, 'every': 0.0, 'course,': 0.0, 'again.': 0.0, 'playing': 0.6931471805599453, 'talk': 2.0794415416798357, \"that's\": 1.3862943611198906, 'army,': 0.6931471805599453, 'the.': 0.6931471805599453, 'no.': 0.0, 'executed': 0.6931471805599453, 'help': 2.0794415416798357, \"don't\": 2.0794415416798357, 'jogjakarta': 2.772588722239781, 'indeed': 0.0, 'heartfelt': 0.6931471805599453, 'move': 2.0794415416798357, 'soon': 0.6931471805599453, 'years': 0.0, 'policy,': 0.6931471805599453, 'attitude': 0.6931471805599453, 'policy.': 1.3862943611198906, \"won't\": 0.6931471805599453, 'beings.': 0.6931471805599453, 'existence,': 0.6931471805599453, 'ears,': 0.6931471805599453, 'nowadays,': 0.6931471805599453, 'nisation,': 0.6931471805599453, 'still': 0.0, 'its': 0.0, 'before': 0.0, 'subversive': 0.6931471805599453, 'member': 0.6931471805599453, 'police': 0.6931471805599453, 'thank': 0.0, 'till': 0.6931471805599453, 'ottawa': 0.6931471805599453, 'already.': 0.0, 'torn': 0.0, 'members,': 0.6931471805599453, 'strove,': 1.3862943611198906, 'him': 2.772588722239781, 'willing': 0.6931471805599453, 'sovereignty,': 0.6931471805599453, 'policy': 4.852030263919617, 'ours': 0.6931471805599453, '2.': 0.6931471805599453, 'world.': 0.0, 'ready,': 0.6931471805599453, 'world,': 0.0, 'youth,': 0.6931471805599453, 'happened,': 0.6931471805599453, 'eventually': 0.0, 'them': 4.852030263919617, 'irian,': 7.6246189861593985, 'greater': 0.0, 'diplomats,': 1.3862943611198906, 'motion,': 0.6931471805599453, 'look,': 1.3862943611198906, 'practice': 0.0, 'it!': 0.6931471805599453, 'year,': 0.6931471805599453, 'of:': 0.6931471805599453, 'compelled': 0.6931471805599453, '1950': 0.6931471805599453, 'they': 0.0, 'representatives.': 0.6931471805599453, 'representatives,': 0.6931471805599453, 'one': 0.0, 'killed': 0.6931471805599453, 'association': 1.3862943611198906, 'kilometres': 0.6931471805599453, 'execute': 2.0794415416798357, 'netherlands': 2.0794415416798357, 'miltary': 0.6931471805599453, 'fitting?': 0.6931471805599453, 'all.': 0.6931471805599453, 'negotiate,': 0.6931471805599453, 'all,': 1.3862943611198906, 'with': 0.0, 'appropriate': 0.6931471805599453, 'establishing': 2.0794415416798357, 'bless': 0.6931471805599453, 'good': 0.0, 'victories': 0.6931471805599453, 'also,': 0.6931471805599453, 'turns': 0.6931471805599453, 'accompanied': 1.3862943611198906, 'went': 0.0, 'side': 0.0, 'experienced': 0.0, 'lasting': 0.6931471805599453, 'ed.)': 0.6931471805599453, 'movement,': 0.6931471805599453, '(the': 1.3862943611198906, 'independent': 0.0, 'resolute': 0.6931471805599453, 'fact,': 0.0, 'cairo,': 0.6931471805599453, 'short,': 1.3862943611198906, 'therefore,': 0.0, 'thirteen': 0.6931471805599453, 'ourselves': 0.0, 'namely,': 0.6931471805599453, 'ambassadors': 1.3862943611198906, '\"indonesia': 0.6931471805599453, 'perfume': 0.6931471805599453, 'now': 0.0, 'out': 0.0, 'is:': 0.6931471805599453, 'ultimately': 0.6931471805599453, 'jogjakarta.': 0.6931471805599453, 'won': 0.0, 'hasannudin.': 0.6931471805599453, 'finished.': 0.6931471805599453, 'defend': 1.3862943611198906, 'briefly,': 0.6931471805599453, 'day': 0.0, 'mere': 0.6931471805599453, 'time,': 2.0794415416798357, 'day,': 0.6931471805599453, 'exploding': 0.6931471805599453, 'lying,': 0.6931471805599453, 'washington,': 0.6931471805599453, 'emerged': 0.6931471805599453, 'is,': 2.0794415416798357, 'imperialists': 2.0794415416798357, 'correct': 0.6931471805599453, 'red': 0.0, 'common': 0.0, 'responsible,': 0.6931471805599453, 'us:': 0.6931471805599453, 'fancy,': 0.6931471805599453, 'self-determination': 0.6931471805599453, 'city': 1.3862943611198906, 'million': 0.0, 'given': 0.0, 'free': 0.0, 'fortune,': 0.6931471805599453, 'bringing': 0.6931471805599453, 'reason': 0.0, 'fuss.': 0.6931471805599453, 'formation': 0.6931471805599453, 'york': 1.3862943611198906, 'members': 0.6931471805599453, 'imagine': 0.6931471805599453, 'put': 0.6931471805599453, 'deception': 0.6931471805599453, 'state,': 5.545177444479562, 'beginning': 0.0, 'chiefs': 1.3862943611198906, 'it.': 1.3862943611198906, 'speculating,': 0.6931471805599453, 'could': 0.0, 'ask': 4.1588830833596715, 'tricks.': 0.6931471805599453, '[12]': 0.6931471805599453, 'motion': 0.6931471805599453, 'turn': 0.0, 'demands;': 0.6931471805599453, 'oppose': 0.0, 'main\",': 0.6931471805599453, '[3]': 0.6931471805599453, 'deceived': 0.0, 'think': 0.0, 'arose': 0.6931471805599453, 'complete.': 0.0, 'historical': 0.6931471805599453, '\"at': 0.6931471805599453, 'speaking.': 0.6931471805599453, 'irian!': 2.0794415416798357, 'sukarno.': 0.6931471805599453, 'too.': 0.0, 'irian.': 5.545177444479562, 'too,': 1.3862943611198906, '2,000': 0.6931471805599453, 'waged': 1.3862943611198906, 'but,': 0.0, 'puppet': 3.4657359027997265, 'colonial': 0.6931471805599453, 'another': 0.0, '1948.': 1.3862943611198906, 'carry': 1.3862943611198906, 'wickedness.': 0.6931471805599453, 'sounds': 0.6931471805599453, 'irian;': 0.6931471805599453, 'partition': 0.6931471805599453, 'pledge': 0.6931471805599453, 'r.t.c.,': 0.6931471805599453, 'two,': 0.6931471805599453, '1948,': 1.3862943611198906, 'occupy': 0.6931471805599453, 'subandrio': 2.772588722239781, 'caught': 0.6931471805599453, 'nation.': 0.0, 'anyone': 0.6931471805599453, 'their': 0.0, 'attack': 0.6931471805599453, 'too': 0.0, 'passed': 0.6931471805599453, 'time': 0.0, 'white': 7.6246189861593985, 'exerted': 0.6931471805599453, 'bowed': 0.6931471805599453, 'first,': 2.0794415416798357, 'sentatives': 0.6931471805599453, 'that': 0.0, 'land,': 0.0, 'academy': 0.6931471805599453, 'cemetery.': 0.6931471805599453, 'took': 2.0794415416798357, 'indies.': 0.6931471805599453, 'short': 1.3862943611198906, 'succeed.': 0.6931471805599453, 'representing': 0.6931471805599453, 'than': 0.0, 'positively': 1.3862943611198906, 'loved': 0.6931471805599453, 'proud.': 0.6931471805599453, 'grew': 1.3862943611198906, '15': 0.6931471805599453, 'warfare': 1.3862943611198906, '16': 1.3862943611198906, '19': 0.6931471805599453, 'instruction': 1.3862943611198906, 'diplomatic': 0.6931471805599453, '1947,': 2.0794415416798357, 'august,': 0.6931471805599453, 'youth': 2.0794415416798357, 'authority.': 2.0794415416798357, 'states': 0.0, 'protected': 0.6931471805599453, 'to.': 0.6931471805599453, 'to,': 0.0, 'were': 0.0, 'extinguish': 0.6931471805599453, 'outcome': 2.0794415416798357, 'people.': 4.1588830833596715, '1.': 0.6931471805599453, 'and': 0.0, 'uniforms': 0.6931471805599453, 'subandrio,': 1.3862943611198906, 'that?\"': 0.6931471805599453, 'well': 0.0, 'turned': 0.6931471805599453, 'argument': 1.3862943611198906, 'talking': 0.6931471805599453, 'say': 0.0, 'rained': 2.772588722239781, 'coming!': 0.6931471805599453, 'have': 0.0, 'desire,': 0.6931471805599453, 'seen': 0.0, 'whole,': 0.6931471805599453, 'any': 0.0, 'viewed': 0.6931471805599453, 'mook.': 0.6931471805599453, 'mook,': 0.6931471805599453, 'on,': 4.852030263919617, 'do,': 0.0, 'once': 0.0, 'skillful': 0.6931471805599453, 'emphasised': 0.6931471805599453, 'self': 0.6931471805599453, 'able': 0.0, 'struggle,': 0.0, 'battles': 0.6931471805599453, 'finally,': 0.6931471805599453, 'also': 0.0, 'rome': 1.3862943611198906, 'do?': 0.0, 'which': 0.0, 'diponegoro.': 0.6931471805599453, 'willing,': 0.6931471805599453, 'destroy': 0.6931471805599453, 'understand,': 0.6931471805599453, 'pursues': 1.3862943611198906, 'nation,': 1.3862943611198906, 'militarily,': 0.6931471805599453, 'secretary': 1.3862943611198906, 'order,': 0.6931471805599453, 'towards': 0.0, 'starved': 0.6931471805599453, 'virtually': 0.6931471805599453, 'make.': 0.6931471805599453, 'who': 0.0, 'educate': 0.6931471805599453, 'houtman': 0.6931471805599453, 'alone;': 0.6931471805599453, 'but': 0.0, 'nothing': 0.6931471805599453, 'knee': 0.6931471805599453, 'see,': 0.6931471805599453, 'extremely': 0.6931471805599453, 'hanjokrokusumo,': 0.6931471805599453, 'so-called': 0.0, 'mobilised': 0.0, 'dishonesty.': 0.6931471805599453, 'force,': 1.3862943611198906, 'clear': 0.0, 'later': 1.3862943611198906, '[7]': 0.6931471805599453, 'face': 0.0, 'alone!': 0.6931471805599453, 'dissolved': 0.6931471805599453, 'part': 0.0, 'revolution.': 0.6931471805599453, ':': 2.0794415416798357, 'internationalised.': 1.3862943611198906, 'repeatedly,': 1.3862943611198906, 'revolution/': 0.6931471805599453, 'saying.': 0.6931471805599453, 'anthem\".': 2.0794415416798357, 'night.': 0.6931471805599453, 'alone.': 1.3862943611198906, 'no,': 2.0794415416798357, 'madder': 0.6931471805599453, 'confront': 4.1588830833596715, 'text': 1.3862943611198906, 'agreed': 1.3862943611198906, 'mean?': 0.6931471805599453, 'one,': 0.0, 'o£': 1.3862943611198906, 'one.': 0.6931471805599453, 'nations?': 0.6931471805599453, 'bring': 6.931471805599453, 'attempts': 0.6931471805599453, 'session': 0.6931471805599453, 'middle,': 0.6931471805599453, 'luck,': 0.6931471805599453, 'utter': 0.6931471805599453, 'implemented,': 0.6931471805599453, 'july': 1.3862943611198906, 'nations.': 0.0, 'staff': 0.6931471805599453, 'bondjol.': 0.6931471805599453, 'just': 0.0, 'state.': 0.0, 'proclamation': 0.0, 'offensive': 0.6931471805599453, 'second,': 0.6931471805599453, 'state': 0.0, 'should': 0.0, 'jan': 0.6931471805599453, 'imperialists,': 1.3862943611198906, 'only': 0.0, 'imperialists.': 0.6931471805599453, 'exact,': 0.6931471805599453, 'wiser.': 0.6931471805599453, 'papua.': 0.6931471805599453, 'now,': 10.39720770839918, 'onwards.': 0.6931471805599453, 'they,': 0.6931471805599453, 'thousands': 0.0, 'union,': 0.6931471805599453, 'hope': 0.0, 'first': 0.0, 'meant': 0.6931471805599453, 'do': 0.0, 'over': 0.0, 'his': 0.0, 'miseries,': 0.6931471805599453, 'get': 0.0, 'there': 0.0, 'ministers,': 1.3862943611198906, 'independence,': 0.0, 'right,': 0.6931471805599453, '\"flag': 0.6931471805599453, 'bear': 0.0, 'no!': 0.0, \"yamin's\": 0.6931471805599453, 'cannot': 0.0, 'words': 0.0, 'international': 0.0, 'territoy': 0.6931471805599453, 'nederlands': 0.6931471805599453, '\"papua': 3.4657359027997265, 'friends:': 2.0794415416798357, 'mexico-city,': 0.6931471805599453, 'result?': 0.6931471805599453, 'republic,': 2.0794415416798357, 'covering': 0.6931471805599453, 'ever': 2.0794415416798357, 'god': 0.0, 'agung': 1.3862943611198906, 'stooges': 0.6931471805599453, 'men,': 2.0794415416798357, ''irrevocable\"': 0.6931471805599453, 'embassy': 0.6931471805599453, 'un.': 1.3862943611198906, 'though': 0.6931471805599453, 'friends.': 0.6931471805599453, 'them.': 1.3862943611198906, 'told': 0.0, 'where': 0.0, 'liberation': 0.0, 'liberate': 3.4657359027997265, 'view': 0.6931471805599453, 'large-scale': 0.6931471805599453, 'conform': 0.6931471805599453, 'set': 4.1588830833596715, 'indonesia:': 0.6931471805599453, 'national': 0.0, 'dies.': 0.6931471805599453, 'up': 0.0, '1947.': 0.6931471805599453, 'see': 3.4657359027997265, 'result': 0.0, 'term.': 0.6931471805599453, 'know,': 3.4657359027997265, 'nations': 0.0, 'end,': 0.6931471805599453, 'best': 0.0, 'august': 3.4657359027997265, '[13]': 0.6931471805599453, 'come,': 0.6931471805599453, 'said': 14.556090791758852, '\"self-determination\":': 0.6931471805599453, 'because,': 0.6931471805599453, 'representatives': 0.0, 'command?': 1.3862943611198906, 'yet': 0.0, 'behind': 0.0, '\"self-determination\".': 0.6931471805599453, 'years,': 3.4657359027997265, 'fly.': 0.6931471805599453, 'between': 0.0, '\"yes,': 0.6931471805599453, 'tricked,': 0.6931471805599453, '1949,': 2.772588722239781, 'un,': 6.931471805599453, 'command,': 1.3862943611198906, 'compliment': 0.6931471805599453, 'command.': 2.0794415416798357, 'we': 0.0, 'loves': 0.6931471805599453, 'right': 1.3862943611198906, 'attention': 0.0, 'moscow,': 0.6931471805599453, 'semaki': 0.6931471805599453, 'arisen,': 0.6931471805599453, 'strong': 1.3862943611198906, 'opposition': 1.3862943611198906, \"nation's\": 0.6931471805599453, 'come': 0.0, 'doing?': 0.6931471805599453, '[8]': 0.6931471805599453, 'received': 1.3862943611198906, 'last': 0.0, 'asunder': 0.6931471805599453, 'sultan': 2.772588722239781, 'indonesian;': 0.6931471805599453, 'country': 0.0, 'ill': 1.3862943611198906, 'fighters,': 0.6931471805599453, 'countries,': 0.0, 'according': 0.6931471805599453, 'nations,': 0.0, 'foreign': 0.0, 'admit': 0.6931471805599453, 'became': 0.6931471805599453, 'frustrate,': 0.6931471805599453, 'way.': 0.6931471805599453, 'context': 0.6931471805599453, 'old.': 0.6931471805599453, 'expression': 0.6931471805599453, 'fix': 0.6931471805599453, 'comes': 0.0, 'duty': 0.0, 'gone': 0.6931471805599453, 'colonisation': 0.6931471805599453, 'sweet': 0.0, 'done?': 0.6931471805599453, 'period': 0.0, 'trampled': 0.6931471805599453, 'active': 0.6931471805599453, 'nice-sounding': 0.6931471805599453, 'strengthening': 0.6931471805599453, 'simply': 0.6931471805599453, 'indië,': 0.6931471805599453, '1950.': 0.6931471805599453, 'table': 5.545177444479562, '1950,': 0.6931471805599453, 'throughout': 0.6931471805599453, 'appeared': 0.6931471805599453, 'nationalist': 0.6931471805599453, 'there,': 3.4657359027997265, 'firmly.': 0.6931471805599453, 'abrogated,': 0.6931471805599453, 'tread': 0.6931471805599453, 'why': 0.0, 'offensives.': 0.6931471805599453, 'union': 0.6931471805599453, 'west': 38.12309493079699, 'create': 0.6931471805599453, 'mouthpiece': 0.6931471805599453, 'political': 0.0, '\"unconditional\".': 0.6931471805599453, 'been': 0.0, 'almighty': 2.0794415416798357, 'much': 0.0, 'peoples,': 0.0, 'certain': 0.6931471805599453, 'speedily': 0.6931471805599453, 'djakarta': 0.6931471805599453, 'territory': 0.0, 'meeting': 0.0, 'duties': 0.0, '\"state': 4.852030263919617, 'imam': 1.3862943611198906, 'self-determination.': 2.0794415416798357, 'direction': 0.6931471805599453, 'self-determination,': 0.6931471805599453, 'success.': 0.6931471805599453, 'colonised': 0.6931471805599453, 'attacked': 0.6931471805599453, 'fire': 4.1588830833596715, 'beforehand': 0.6931471805599453, 'has': 0.0, '-': 0.0, 'speeches': 1.3862943611198906, 'else': 0.0, 'moment': 0.0, 'finished': 0.6931471805599453, 'endorse': 2.0794415416798357, 'determination': 0.0, 'reason.': 0.6931471805599453, 'gift,': 0.6931471805599453, 'spirit': 0.0, 'present': 0.0, 'mohammad': 0.6931471805599453, 'practise': 0.0, 'utmost': 0.6931471805599453, 'look': 0.0, 'clearly.': 0.6931471805599453, 'represent.': 0.6931471805599453, 'socialist': 9.010913347279288, 'ask:': 0.6931471805599453, 'will': 0.0, 'moon,': 0.6931471805599453, 'while': 0.6931471805599453, 'smart': 1.3862943611198906, 'shall': 0.0, 'fighters.': 0.6931471805599453, 'region': 2.772588722239781, 'promised': 0.6931471805599453, 'kingdom': 0.6931471805599453, 'force': 0.0, 'unitary': 1.3862943611198906, 'express': 1.3862943611198906, 'played': 0.6931471805599453, 'almost': 0.0, 'said:': 4.1588830833596715, 'said;': 0.6931471805599453, 'it,': 0.0, 'defeated': 1.3862943611198906, 'commander': 3.4657359027997265, 'helped': 2.0794415416798357, 'completed.': 0.6931471805599453, 'sudden': 0.6931471805599453, 'against': 0.0, 'in': 0.0, 'ready': 2.772588722239781, 'commanded': 0.6931471805599453, 'nation': 0.0, 'internationalisation': 0.6931471805599453, 'said,': 2.772588722239781, 'said.': 0.6931471805599453, 'if': 0.0, 'people,': 0.0, 'teuku': 0.6931471805599453, 'hanjokrokusumo': 0.6931471805599453, 'since': 0.0, 'flag!': 0.6931471805599453, 'clear,': 0.6931471805599453, 'perform': 0.6931471805599453, 'anthem\",': 0.6931471805599453, 'began': 0.0, '[6]': 0.6931471805599453, 'reminded': 0.6931471805599453, 'same': 0.0, 'clearly': 0.6931471805599453, 'gentlemen': 0.6931471805599453, \"pa'dimara\": 0.6931471805599453, 'unity': 0.0, 'july,': 1.3862943611198906, 'split': 0.6931471805599453, 'established': 0.6931471805599453, 'chaotic,': 0.6931471805599453, 'trap.': 0.6931471805599453, 'several': 0.0, 'djoko': 0.6931471805599453, 'here.': 2.0794415416798357, 'vienna,': 0.6931471805599453, 'been:': 0.6931471805599453, 'movement.': 0.6931471805599453, 'vis-a-vis': 1.3862943611198906, 'peaks': 0.6931471805599453, 'lie': 0.0, 'here,': 0.0, 'upon': 0.0, 'mankind.': 0.0, 'papua\"!': 2.0794415416798357, 'respected': 0.6931471805599453, 'strength': 0.0, 'i,': 0.6931471805599453, 'banten': 0.6931471805599453, 'fierce': 0.6931471805599453, 'conference,': 0.0, 'conference.': 0.0, 'papua\",': 3.4657359027997265, 'papua\".': 0.6931471805599453, 'event,': 0.6931471805599453, 'tri-command:': 0.6931471805599453, 'so': 0.0, 'i': 0.0, 'whole': 0.0, 'ditiro.': 0.6931471805599453, 'indonesia': 0.0, 'part,': 0.6931471805599453, 'paris,': 0.6931471805599453, 'know': 0.0, 'wants': 0.6931471805599453, 'stranglehold': 0.6931471805599453, 'without': 0.0, 'command': 0.0, 'greatest': 0.0, 'thing,': 0.0, 'hearts': 2.0794415416798357, 'the': 0.0, 'revolution,': 0.0, 'batavia.': 0.6931471805599453, 'people:': 0.6931471805599453, 'carefully,': 0.6931471805599453, 'indonesia,': 0.0, 'composed': 0.6931471805599453, 'republic?': 0.6931471805599453, 'mind': 0.0, 'proposed': 0.6931471805599453, 'heavily': 0.6931471805599453, 'claiming': 0.6931471805599453, 'officers,': 0.6931471805599453, 'indonesia!': 0.6931471805599453, 'actions': 0.0, 'officers': 2.772588722239781, 'front': 1.3862943611198906, 'fighters': 2.0794415416798357, 'indonesia?': 1.3862943611198906, 'fact': 0.0, 'thanks': 2.772588722239781, 'human': 0.0, 'world': 0.0, 'followed': 0.6931471805599453, 'yes': 0.6931471805599453, 'instructed': 0.6931471805599453, '[5]': 0.6931471805599453, 'to': 0.0, 'previous': 0.0, 'cornelis': 0.6931471805599453, 'leaders,': 0.6931471805599453, 'death': 0.0, 'luns,': 0.6931471805599453, 'luns.': 0.6931471805599453, '27th': 4.1588830833596715, 'point': 0.0, 'had': 0.0, 'economically,': 0.6931471805599453, \"luns'\": 0.6931471805599453, 'discuss': 0.0, 'republic.': 5.545177444479562, 'arrest': 0.6931471805599453, 'spread': 0.0, 'pangeran': 0.6931471805599453, 'attractive': 0.6931471805599453, 'republic': 0.0, 'struck': 1.3862943611198906, 'heavier': 0.6931471805599453, 'lies,': 0.6931471805599453, '\"here': 0.6931471805599453, 'match': 0.6931471805599453, 'take': 0.0, 'resolved': 0.0, '...': 0.6931471805599453, 'indonesian': 0.0, 'march': 0.0, 'fact.': 0.6931471805599453, 'vindicate': 1.3862943611198906, 'government': 0.0, 'read': 0.6931471805599453, 'dishonest,': 0.6931471805599453, 'possible': 0.0, 'action.': 0.0, 'makes': 0.6931471805599453, 'moment,': 2.0794415416798357, 'groups.': 0.6931471805599453, \"action'\": 0.6931471805599453, 'accepted': 0.6931471805599453, 'french': 0.6931471805599453, 'desire': 0.6931471805599453, 'like': 0.0, 'inviting': 0.6931471805599453, 'peasants,': 0.6931471805599453, 'states,': 0.0, 'already': 0.0, 'states.': 4.1588830833596715, 'we,': 0.0, 'irian': 22.18070977791825, 'colonising': 0.6931471805599453, '[10]': 0.6931471805599453, 'become': 0.0, 'states?': 0.6931471805599453, 'recognize': 0.6931471805599453, 'actions,': 0.6931471805599453, \"hero's\": 1.3862943611198906, 'because': 0.0, 'deal': 2.0794415416798357, 'doll': 0.6931471805599453, 'underwent': 0.6931471805599453, 'some': 0.0, 'authority': 6.931471805599453, 'tempered': 0.6931471805599453, 'understood': 0.6931471805599453, 'fine-sounding': 0.6931471805599453, 'mighty': 2.0794415416798357, 'respect': 1.3862943611198906, 'proper': 0.6931471805599453, 'indeed.': 0.6931471805599453, 'london,': 0.6931471805599453, 'recognition': 0.6931471805599453, 'raya\".': 0.6931471805599453, 'peace,': 0.0, 'politically,': 0.6931471805599453, 'before.': 2.0794415416798357, 'total': 1.3862943611198906, 'women,': 0.6931471805599453, 'magelang.': 0.6931471805599453, 'women.': 0.6931471805599453, 'magelang,': 0.6931471805599453, 'armed': 7.6246189861593985, 'untung': 0.6931471805599453, 'politically.': 0.6931471805599453, 'students': 0.6931471805599453, 'speeches,': 0.6931471805599453, 'tongues.': 0.6931471805599453, 'honoured': 6.238324625039508, 'results.': 0.6931471805599453, 'respects': 0.6931471805599453, 'chains': 0.6931471805599453, 'leader': 0.6931471805599453, '?': 2.0794415416798357, 'indonesia.': 0.0, 'conference': 0.0, 'says': 0.6931471805599453, 'khaki': 0.6931471805599453, 'power': 0.0, 'dropped': 0.6931471805599453, 'night': 0.6931471805599453, 'continuing': 0.0, 'congress.': 0.6931471805599453, 'graduates': 1.3862943611198906, 'how': 0.0, 'pieterszoon': 0.6931471805599453, 'tjik': 0.6931471805599453, 'although': 4.852030263919617, 'graduated': 0.6931471805599453, 'tempering': 0.6931471805599453, 'by': 0.0, 'earlier': 0.6931471805599453, 'trickery': 1.3862943611198906, 'helping': 0.6931471805599453, 'about': 0.0, 'staff,': 0.6931471805599453, 'would': 0.0, 'december,': 2.772588722239781, 'oh': 2.0794415416798357, \"sukarno's\": 0.6931471805599453, 'of': 0.0, 'am': 0.0, 'army': 1.3862943611198906, 'recognized': 0.6931471805599453, 'must': 0.0, 'papua': 1.3862943611198906, 'sovereignty.': 0.6931471805599453, 'pleaded,': 0.6931471805599453, 'stand': 2.772588722239781, 'act': 0.0, 'uniting': 0.6931471805599453, 'urges': 0.6931471805599453, 'efforts': 2.0794415416798357, 'referred': 1.3862943611198906, 'out,': 3.4657359027997265, 'navy,': 0.6931471805599453, 'ties,': 0.6931471805599453, 'mine!': 0.6931471805599453, 'luns': 3.4657359027997265, 'warfare.': 0.6931471805599453, 'own': 0.0, 'formerly': 0.6931471805599453, 'negotiate.': 0.6931471805599453, 'into': 0.0, 'within': 0.0, 'confrontation': 3.4657359027997265, 'nonsense': 0.6931471805599453, 'cauldron': 0.6931471805599453, 'two': 0.0, 'down': 0.6931471805599453, 'thankful': 0.6931471805599453, 'guard': 1.3862943611198906, 'text-ed.)': 0.6931471805599453, 'promise': 0.6931471805599453, 'times.': 0.6931471805599453, 'your': 0.0, 'militarily': 0.6931471805599453, 'friends,': 10.39720770839918, 'later.': 0.6931471805599453, 'existed': 1.3862943611198906, 'striven': 0.6931471805599453, 'van': 2.0794415416798357, 'verbal': 0.6931471805599453, 'prepare': 0.6931471805599453, 'more,': 0.0, 'friends': 2.0794415416798357, 'support': 0.0, 'flying': 6.931471805599453, 'question': 0.0, 'long': 0.0, 'fight': 0.0, 'prepared,': 0.6931471805599453, 'president/': 0.6931471805599453, 'why,': 3.4657359027997265, 'recognised': 0.0, 'way': 0.0, 'forces.': 1.3862943611198906, 'forces,': 0.6931471805599453, 'was': 0.0, 'launching': 0.6931471805599453, 'turned,': 0.6931471805599453, 'indonesia-dutch': 2.772588722239781, 'you,': 0.0, 'an': 0.0, 'form': 0.0, 'what?': 0.6931471805599453, 'java,': 0.6931471805599453, 'decolonisation': 2.0794415416798357, 'so,': 0.0, 'lie,': 0.6931471805599453, 'here': 0.0, 'neutral': 0.6931471805599453, 'land': 0.6931471805599453, 'hear': 0.6931471805599453, 'repeatedly': 0.6931471805599453, 'true': 0.0, 'proposal': 2.0794415416798357, 'land.': 1.3862943611198906, 'he': 0.0, 'partitioning': 1.3862943611198906, 'made': 0.0, '[14]': 0.6931471805599453, 'chained': 0.6931471805599453, 'this,': 0.6931471805599453, 'signed': 0.6931471805599453, 'this.': 2.772588722239781, 'placed': 0.6931471805599453, 'manoeuvres.': 0.6931471805599453, 'un': 3.4657359027997265, 'diponegoro': 1.3862943611198906, \"fire's\": 0.6931471805599453, 'agree': 0.6931471805599453, 'adorn': 0.6931471805599453, 'side.': 0.6931471805599453, 'prayed': 0.6931471805599453, 'supreme': 2.772588722239781, 'proud': 0.0, 'suropati.': 0.6931471805599453, 'begun': 1.3862943611198906, 'gerwani': 0.6931471805599453, 'internationalisation,': 0.6931471805599453, 'strangle-hold': 1.3862943611198906, 'year': 0.0, 'diplomacy,': 0.0, 'life': 0.0, 'general': 0.0, 'arms.': 0.6931471805599453, 'side?': 0.6931471805599453, 'as': 0.0, 'words,': 1.3862943611198906, 'die.': 0.6931471805599453, 'at': 0.0, 'our': 0.0, 'tiandradimuka': 0.6931471805599453, 'trip': 0.6931471805599453, 'are': 0.0, 'again': 0.0, 'us': 0.0, 'no': 0.0, '46': 0.6931471805599453, 'fencing': 1.3862943611198906, 'resolution.': 0.6931471805599453, 'when': 0.0, 'reality': 0.6931471805599453, 'economically.': 0.6931471805599453, 'roses': 0.6931471805599453, 'build': 0.6931471805599453, 'setting': 2.0794415416798357, 'indanesia': 0.6931471805599453, 'themselves.': 0.0, 'you': 0.0, 'suffer,': 0.6931471805599453, 'nice': 0.6931471805599453, 'oh,': 3.4657359027997265, 'move,': 1.3862943611198906, 'decolonisation!': 0.6931471805599453, 'indeed,': 2.0794415416798357, 'sectors,': 0.6931471805599453, 'decolonisation,': 0.6931471805599453, 'knew': 0.0, 'decolonisation.': 0.6931471805599453, 'rostrum,': 0.6931471805599453, 'deeper,': 3.4657359027997265, 'almighty,': 0.6931471805599453, 'prepared': 0.0, \"let's\": 1.3862943611198906, 'town': 0.6931471805599453, 'meaning': 0.0, 'yes,': 0.0, 'intent': 0.6931471805599453, 'recognise': 0.0, 'included': 0.6931471805599453, '\"what': 0.6931471805599453, 'shift': 0.6931471805599453, 'ours.': 0.6931471805599453, '13': 0.6931471805599453, 'building': 0.0, 'onward!': 0.6931471805599453, 'workers,': 0.6931471805599453, 'for': 0.0, 'invest': 1.3862943611198906, 'confirm': 2.0794415416798357, 'humiliated': 0.6931471805599453, 'flag': 8.317766166719343, 'together': 0.0, 'having': 0.6931471805599453, 'confrontation.': 1.3862943611198906, 'entirely,': 0.6931471805599453, 'arisen': 0.6931471805599453, 'came': 0.0, '\"national': 0.6931471805599453, 'djelantik.': 0.6931471805599453, '\"the': 0.6931471805599453, 'resolution': 0.6931471805599453, 'sounded': 0.6931471805599453, 'minister': 1.3862943611198906}]"
      ]
     },
     "execution_count": 13,
     "metadata": {},
     "output_type": "execute_result"
    }
   ],
   "source": [
    "sf['tfidf'] = gl.text_analytics.tf_idf(sf['bow'])\n",
    "sf['tfidf']"
   ]
  },
  {
   "cell_type": "markdown",
   "metadata": {},
   "source": [
    "## Text cleaning"
   ]
  },
  {
   "cell_type": "markdown",
   "metadata": {},
   "source": [
    "* remove all words do not occur at least twice in each document using"
   ]
  },
  {
   "cell_type": "code",
   "execution_count": 14,
   "metadata": {
    "collapsed": false
   },
   "outputs": [],
   "source": [
    "docs = sf['bow'].dict_trim_by_values(2)"
   ]
  },
  {
   "cell_type": "markdown",
   "metadata": {},
   "source": [
    "* GraphLab Create also contains a helper function called stopwords that returns a list of common words.\n",
    "We can use SArray.docs.dict_trim_by_keys to remove these words from the documents as a preprocessing step.\n",
    "NB: Currently only English words are available."
   ]
  },
  {
   "cell_type": "code",
   "execution_count": 15,
   "metadata": {
    "collapsed": true
   },
   "outputs": [],
   "source": [
    "docs = docs.dict_trim_by_keys(gl.text_analytics.stopwords(), exclude=True)"
   ]
  },
  {
   "cell_type": "code",
   "execution_count": 16,
   "metadata": {
    "collapsed": false
   },
   "outputs": [
    {
     "data": {
      "text/plain": [
       "{'\"live': 4,\n",
       " '-': 29,\n",
       " '/': 6,\n",
       " '21/09/2015': 6,\n",
       " '8': 7,\n",
       " 'achieved': 2,\n",
       " 'act': 4,\n",
       " 'affairs': 3,\n",
       " 'africa': 13,\n",
       " 'africa,': 3,\n",
       " 'african': 6,\n",
       " 'ago': 5,\n",
       " 'ago,': 2,\n",
       " 'aims': 2,\n",
       " 'alien': 2,\n",
       " 'allowed': 2,\n",
       " 'and,': 2,\n",
       " 'answer': 2,\n",
       " 'anti-colonial': 2,\n",
       " 'appreciation': 2,\n",
       " 'asia': 21,\n",
       " 'asian': 10,\n",
       " 'asian-african': 7,\n",
       " 'assembled': 2,\n",
       " 'attained': 2,\n",
       " 'battle': 3,\n",
       " 'bear': 3,\n",
       " 'beg': 3,\n",
       " 'behalf': 2,\n",
       " 'beliefs,': 3,\n",
       " 'bid': 2,\n",
       " 'birthplaces': 2,\n",
       " 'bitter': 2,\n",
       " 'blessing': 2,\n",
       " 'bombs,': 2,\n",
       " 'bonds': 4,\n",
       " 'brothers,': 6,\n",
       " 'called': 4,\n",
       " 'cannot,': 2,\n",
       " 'causes,': 2,\n",
       " 'changing': 2,\n",
       " 'children': 2,\n",
       " 'classic': 2,\n",
       " 'clear': 3,\n",
       " 'code': 2,\n",
       " 'colonialism': 8,\n",
       " 'colonialism.': 2,\n",
       " 'comfort': 3,\n",
       " 'common': 9,\n",
       " 'completely': 3,\n",
       " 'concern': 2,\n",
       " 'conference': 22,\n",
       " 'conference,': 3,\n",
       " 'conflict': 2,\n",
       " 'content': 3,\n",
       " 'continents': 5,\n",
       " 'continents.': 3,\n",
       " 'control': 4,\n",
       " 'control,': 2,\n",
       " 'countries': 11,\n",
       " 'countries.': 2,\n",
       " 'country': 5,\n",
       " 'courage': 3,\n",
       " 'cultural': 2,\n",
       " 'danger': 2,\n",
       " 'day': 2,\n",
       " 'days': 2,\n",
       " 'death': 2,\n",
       " 'delegates': 3,\n",
       " 'detestation': 2,\n",
       " 'different.': 3,\n",
       " 'disinterested': 5,\n",
       " 'distant': 2,\n",
       " 'distinguished': 2,\n",
       " 'diversity': 4,\n",
       " 'divided': 2,\n",
       " 'do?': 2,\n",
       " 'driven': 2,\n",
       " 'duties': 2,\n",
       " 'east': 2,\n",
       " 'echo': 3,\n",
       " 'economic': 4,\n",
       " 'eighty': 2,\n",
       " 'end': 3,\n",
       " 'ensure': 2,\n",
       " 'ethical': 2,\n",
       " 'evidence': 2,\n",
       " 'evil': 2,\n",
       " 'experience': 2,\n",
       " 'extended': 2,\n",
       " 'fact': 3,\n",
       " 'faiths': 2,\n",
       " 'fear': 7,\n",
       " 'fear,': 2,\n",
       " 'fear.': 3,\n",
       " 'feel': 2,\n",
       " 'fight': 2,\n",
       " 'fighting': 3,\n",
       " 'filled': 2,\n",
       " 'followers': 2,\n",
       " 'force': 2,\n",
       " 'forces': 4,\n",
       " 'foreign': 4,\n",
       " 'form': 3,\n",
       " 'found': 2,\n",
       " 'free': 4,\n",
       " 'free,': 3,\n",
       " 'fresh': 2,\n",
       " 'full': 3,\n",
       " 'future': 2,\n",
       " 'gathered': 6,\n",
       " 'generations': 2,\n",
       " 'generations.': 2,\n",
       " 'give': 10,\n",
       " 'god': 4,\n",
       " 'god,': 2,\n",
       " 'government': 2,\n",
       " 'great': 12,\n",
       " 'greater': 3,\n",
       " 'guests': 2,\n",
       " 'guided': 4,\n",
       " 'half': 3,\n",
       " 'hall': 4,\n",
       " 'heavy': 3,\n",
       " 'held': 2,\n",
       " 'here,': 2,\n",
       " 'highest': 4,\n",
       " 'historic': 2,\n",
       " 'history': 5,\n",
       " 'history.': 2,\n",
       " 'honour': 3,\n",
       " 'hope': 7,\n",
       " 'human': 4,\n",
       " 'hundred': 3,\n",
       " 'ideals': 2,\n",
       " 'ideas,': 2,\n",
       " 'immense': 2,\n",
       " 'important': 2,\n",
       " 'impress': 2,\n",
       " 'independence': 10,\n",
       " 'independence,': 5,\n",
       " 'independence.': 2,\n",
       " 'independent': 2,\n",
       " 'individual': 2,\n",
       " 'indonesia': 5,\n",
       " 'indonesia,': 3,\n",
       " 'intellectual': 3,\n",
       " 'interests': 2,\n",
       " 'it,': 3,\n",
       " 'itself.': 2,\n",
       " 'large': 2,\n",
       " 'leaders': 5,\n",
       " 'learned': 6,\n",
       " 'liberation': 2,\n",
       " 'life': 5,\n",
       " 'life,': 2,\n",
       " 'light': 5,\n",
       " 'listened.': 2,\n",
       " 'live': 3,\n",
       " 'live\"': 3,\n",
       " 'long': 9,\n",
       " 'longer': 2,\n",
       " 'made': 7,\n",
       " 'make': 5,\n",
       " 'man': 11,\n",
       " \"man's\": 2,\n",
       " 'mankind': 5,\n",
       " 'material': 4,\n",
       " 'matter': 2,\n",
       " 'matters': 2,\n",
       " 'meaning': 2,\n",
       " 'means': 2,\n",
       " 'meet': 3,\n",
       " 'meeting': 3,\n",
       " 'men': 4,\n",
       " 'message': 2,\n",
       " 'midnight': 2,\n",
       " 'miles': 2,\n",
       " 'mind': 2,\n",
       " 'ministers': 4,\n",
       " 'mobilise': 2,\n",
       " 'moment': 3,\n",
       " 'moral': 3,\n",
       " 'morality': 2,\n",
       " 'more,': 2,\n",
       " 'motto': 2,\n",
       " 'nation': 3,\n",
       " 'national': 5,\n",
       " 'nations': 15,\n",
       " 'nations,': 3,\n",
       " 'oceans': 2,\n",
       " 'one,': 2,\n",
       " 'oppose': 3,\n",
       " 'other,': 4,\n",
       " 'part': 10,\n",
       " 'parts': 7,\n",
       " 'past': 2,\n",
       " 'patterns.': 2,\n",
       " 'peace': 5,\n",
       " 'peace,': 2,\n",
       " 'peace.': 6,\n",
       " 'people': 5,\n",
       " 'people,': 2,\n",
       " 'peoples': 20,\n",
       " 'peoples.': 2,\n",
       " 'physical': 2,\n",
       " 'picture': 2,\n",
       " 'place': 3,\n",
       " 'places': 2,\n",
       " 'political': 7,\n",
       " 'poverty': 3,\n",
       " 'power': 3,\n",
       " 'pray': 3,\n",
       " 'press': 2,\n",
       " 'prime': 4,\n",
       " 'principle': 5,\n",
       " 'problems,': 3,\n",
       " 'proud': 2,\n",
       " 'purpose': 2,\n",
       " 'questions': 2,\n",
       " 'realise': 2,\n",
       " 'recall': 3,\n",
       " 'recently': 2,\n",
       " 'religion': 4,\n",
       " 'religions': 4,\n",
       " 'religious': 2,\n",
       " 'remember': 3,\n",
       " 'remember,': 2,\n",
       " 'representatives': 3,\n",
       " 'represented': 2,\n",
       " 'responsibilities': 3,\n",
       " 'result': 3,\n",
       " 'rights': 3,\n",
       " 'safety': 3,\n",
       " 'scientific': 2,\n",
       " 'sea': 2,\n",
       " 'seek': 2,\n",
       " 'seeks': 2,\n",
       " 'settled': 2,\n",
       " 'side': 2,\n",
       " 'sisters': 5,\n",
       " 'situation': 2,\n",
       " 'skill': 3,\n",
       " 'small': 3,\n",
       " 'solidarity': 2,\n",
       " 'solutions': 2,\n",
       " 'sovereign': 2,\n",
       " 'speak': 4,\n",
       " 'special': 2,\n",
       " 'spiritual': 2,\n",
       " 'spite': 2,\n",
       " 'sponsoring': 2,\n",
       " 'spread': 2,\n",
       " 'state': 2,\n",
       " 'states': 2,\n",
       " 'statesmen,': 2,\n",
       " 'stature': 2,\n",
       " 'strength': 6,\n",
       " 'struggle': 6,\n",
       " 'struggle.': 2,\n",
       " 'succeeds': 2,\n",
       " 'success': 2,\n",
       " 'success!': 2,\n",
       " 'successful': 3,\n",
       " 'support': 2,\n",
       " 'survey': 3,\n",
       " 'swept': 2,\n",
       " 'task': 2,\n",
       " 'technical': 2,\n",
       " 'that,': 3,\n",
       " 'then?': 2,\n",
       " 'thing': 2,\n",
       " 'things': 4,\n",
       " 'things,': 2,\n",
       " 'thoughts': 2,\n",
       " 'thousands': 2,\n",
       " 'threat': 2,\n",
       " 'today': 11,\n",
       " 'today.': 2,\n",
       " 'together,': 3,\n",
       " 'tolerant': 2,\n",
       " 'tribulations': 2,\n",
       " 'true': 2,\n",
       " 'unborn': 2,\n",
       " 'understand': 3,\n",
       " 'understanding': 7,\n",
       " 'unfree.': 2,\n",
       " 'united': 5,\n",
       " 'united,': 2,\n",
       " 'unity': 4,\n",
       " 'us,': 4,\n",
       " 'us.': 5,\n",
       " 'variety': 2,\n",
       " 'voice': 3,\n",
       " 'war': 5,\n",
       " 'ways': 2,\n",
       " 'we,': 2,\n",
       " 'well-being': 3,\n",
       " 'won': 2,\n",
       " 'words': 2,\n",
       " 'world': 17,\n",
       " 'world,': 4,\n",
       " 'world.': 6,\n",
       " 'world.yes,': 2,\n",
       " 'years': 7,\n",
       " 'yes,': 4,\n",
       " 'you,': 3}"
      ]
     },
     "execution_count": 16,
     "metadata": {},
     "output_type": "execute_result"
    }
   ],
   "source": [
    "docs[0]"
   ]
  },
  {
   "cell_type": "markdown",
   "metadata": {},
   "source": [
    "* the tokenizer transforms each row into an ordered list of strings that represents the a simpler version of the Penn-Tree-Bank-style (PTB-style) tokenization of that row's document. \n",
    "* The representation of a document provided by PTB-style of tokenization is essential for sequence-tagging, parsing, bag-of-words treatment, and any text analytics task that requires word-level granularity. For a description of this style of tokenization, see [tokenization example](https://www.cis.upenn.edu/~treebank/tokenization.html.)"
   ]
  },
  {
   "cell_type": "code",
   "execution_count": 17,
   "metadata": {
    "collapsed": false
   },
   "outputs": [
    {
     "data": {
      "text/html": [
       "<div style=\"max-height:1000px;max-width:1500px;overflow:auto;\"><table frame=\"box\" rules=\"cols\">\n",
       "    <tr>\n",
       "        <th style=\"padding-left: 1em; padding-right: 1em; text-align: center\">tokens</th>\n",
       "    </tr>\n",
       "    <tr>\n",
       "        <td style=\"padding-left: 1em; padding-right: 1em; text-align: center; vertical-align: top\">[Your,<br>Excellencies,Ladies,  ...</td>\n",
       "    </tr>\n",
       "    <tr>\n",
       "        <td style=\"padding-left: 1em; padding-right: 1em; text-align: center; vertical-align: top\">[Friends, As, was, said,<br>by, the, Sultan, just, ...</td>\n",
       "    </tr>\n",
       "</table>\n",
       "[2 rows x 1 columns]<br/>\n",
       "</div>"
      ],
      "text/plain": [
       "Columns:\n",
       "\ttokens\tlist\n",
       "\n",
       "Rows: 2\n",
       "\n",
       "Data:\n",
       "+-------------------------------+\n",
       "|             tokens            |\n",
       "+-------------------------------+\n",
       "| [Your, Excellencies,Ladies... |\n",
       "| [Friends, As, was, said, b... |\n",
       "+-------------------------------+\n",
       "[2 rows x 1 columns]"
      ]
     },
     "execution_count": 17,
     "metadata": {},
     "output_type": "execute_result"
    }
   ],
   "source": [
    "tokenized_speech = gl.SFrame()\n",
    "tokenized_speech['tokens'] = gl.text_analytics.tokenize(sf['speech'])\n",
    "tokenized_speech"
   ]
  },
  {
   "cell_type": "markdown",
   "metadata": {},
   "source": [
    "## Part of Speech Extraction"
   ]
  },
  {
   "cell_type": "markdown",
   "metadata": {},
   "source": [
    "* Highlight unique nouns in your text, identify adjectives with the high sentiment scores, or pull out nouns to generate candidate entities. \n",
    "The extract_parts_of_speech method parses the text in each element and extracts the words that are a given part of speech. \n",
    "For instance, to find all instances of adjectives:"
   ]
  },
  {
   "cell_type": "code",
   "execution_count": 18,
   "metadata": {
    "collapsed": false
   },
   "outputs": [
    {
     "name": "stderr",
     "output_type": "stream",
     "text": [
      "[WARNING] graphlab.toolkits.feature_engineering._internal_utils: spaCy version is greater than 0.100.7. This version has not been tested and may not work\n"
     ]
    },
    {
     "data": {
      "text/html": [
       "<div style=\"max-height:1000px;max-width:1500px;overflow:auto;\"><table frame=\"box\" rules=\"cols\">\n",
       "    <tr>\n",
       "        <th style=\"padding-left: 1em; padding-right: 1em; text-align: center\">adjectives</th>\n",
       "    </tr>\n",
       "    <tr>\n",
       "        <td style=\"padding-left: 1em; padding-right: 1em; text-align: center; vertical-align: top\">{'ADJ': {'exclusive': 1,<br>'all': 7, 'manifold': 1, ...</td>\n",
       "    </tr>\n",
       "    <tr>\n",
       "        <td style=\"padding-left: 1em; padding-right: 1em; text-align: center; vertical-align: top\">{'ADJ': {'all': 6,<br>'heartfelt': 1, 'human': ...</td>\n",
       "    </tr>\n",
       "</table>\n",
       "[2 rows x 1 columns]<br/>\n",
       "</div>"
      ],
      "text/plain": [
       "Columns:\n",
       "\tadjectives\tdict\n",
       "\n",
       "Rows: 2\n",
       "\n",
       "Data:\n",
       "+-------------------------------+\n",
       "|           adjectives          |\n",
       "+-------------------------------+\n",
       "| {'ADJ': {'exclusive': 1, '... |\n",
       "| {'ADJ': {'all': 6, 'heartf... |\n",
       "+-------------------------------+\n",
       "[2 rows x 1 columns]"
      ]
     },
     "execution_count": 18,
     "metadata": {},
     "output_type": "execute_result"
    }
   ],
   "source": [
    "spacy.load('en')\n",
    "parts_of_speech = gl.SFrame()\n",
    "parts_of_speech['adjectives'] = gl.text_analytics.extract_parts_of_speech(sf['speech'],\n",
    "                                                  chosen_pos=[gl.text_analytics.PartOfSpeech.ADJ])\n",
    "parts_of_speech"
   ]
  },
  {
   "cell_type": "markdown",
   "metadata": {},
   "source": [
    "## Sentence Splitting"
   ]
  },
  {
   "cell_type": "markdown",
   "metadata": {},
   "source": [
    "* The sentence splitter splits by sentence and outputs a list of sentences. \n",
    "This aids in anlysis at the sentence level.\n",
    "For example, you may want a sentiment score for each sentence in a document.\n",
    "The following command accomplishes this for you:"
   ]
  },
  {
   "cell_type": "code",
   "execution_count": 19,
   "metadata": {
    "collapsed": false
   },
   "outputs": [
    {
     "data": {
      "text/html": [
       "<div style=\"max-height:1000px;max-width:1500px;overflow:auto;\"><table frame=\"box\" rules=\"cols\">\n",
       "    <tr>\n",
       "        <th style=\"padding-left: 1em; padding-right: 1em; text-align: center\">sent</th>\n",
       "    </tr>\n",
       "    <tr>\n",
       "        <td style=\"padding-left: 1em; padding-right: 1em; text-align: center; vertical-align: top\">[Your Excellencies,Ladies<br>and Gentlemen, Sisters ...</td>\n",
       "    </tr>\n",
       "    <tr>\n",
       "        <td style=\"padding-left: 1em; padding-right: 1em; text-align: center; vertical-align: top\">[Friends  As was said by<br>the Sultan just now, ...</td>\n",
       "    </tr>\n",
       "</table>\n",
       "[2 rows x 1 columns]<br/>\n",
       "</div>"
      ],
      "text/plain": [
       "Columns:\n",
       "\tsent\tlist\n",
       "\n",
       "Rows: 2\n",
       "\n",
       "Data:\n",
       "+-------------------------------+\n",
       "|              sent             |\n",
       "+-------------------------------+\n",
       "| [Your Excellencies,Ladies ... |\n",
       "| [Friends  As was said by t... |\n",
       "+-------------------------------+\n",
       "[2 rows x 1 columns]"
      ]
     },
     "execution_count": 19,
     "metadata": {},
     "output_type": "execute_result"
    }
   ],
   "source": [
    "sentences = gl.SFrame()\n",
    "sentences['sent'] = gl.text_analytics.split_by_sentence(sf['speech'])\n",
    "sentences"
   ]
  },
  {
   "cell_type": "markdown",
   "metadata": {},
   "source": [
    "## Create a topic model"
   ]
  },
  {
   "cell_type": "code",
   "execution_count": 20,
   "metadata": {
    "collapsed": false
   },
   "outputs": [],
   "source": [
    "docs = gl.text_analytics.count_words(sf['speech'])\n",
    "docs = docs.dict_trim_by_keys(gl.text_analytics.stopwords(), exclude=True)"
   ]
  },
  {
   "cell_type": "markdown",
   "metadata": {},
   "source": [
    "* Learn topic model"
   ]
  },
  {
   "cell_type": "code",
   "execution_count": 21,
   "metadata": {
    "collapsed": false
   },
   "outputs": [
    {
     "data": {
      "text/html": [
       "<pre>Learning a topic model</pre>"
      ],
      "text/plain": [
       "Learning a topic model"
      ]
     },
     "metadata": {},
     "output_type": "display_data"
    },
    {
     "data": {
      "text/html": [
       "<pre>       Number of documents         2</pre>"
      ],
      "text/plain": [
       "       Number of documents         2"
      ]
     },
     "metadata": {},
     "output_type": "display_data"
    },
    {
     "data": {
      "text/html": [
       "<pre>           Vocabulary size      2187</pre>"
      ],
      "text/plain": [
       "           Vocabulary size      2187"
      ]
     },
     "metadata": {},
     "output_type": "display_data"
    },
    {
     "data": {
      "text/html": [
       "<pre>   Running collapsed Gibbs sampling</pre>"
      ],
      "text/plain": [
       "   Running collapsed Gibbs sampling"
      ]
     },
     "metadata": {},
     "output_type": "display_data"
    },
    {
     "data": {
      "text/html": [
       "<pre>+-----------+---------------+----------------+-----------------+</pre>"
      ],
      "text/plain": [
       "+-----------+---------------+----------------+-----------------+"
      ]
     },
     "metadata": {},
     "output_type": "display_data"
    },
    {
     "data": {
      "text/html": [
       "<pre>| Iteration | Elapsed Time  | Tokens/Second  | Est. Perplexity |</pre>"
      ],
      "text/plain": [
       "| Iteration | Elapsed Time  | Tokens/Second  | Est. Perplexity |"
      ]
     },
     "metadata": {},
     "output_type": "display_data"
    },
    {
     "data": {
      "text/html": [
       "<pre>+-----------+---------------+----------------+-----------------+</pre>"
      ],
      "text/plain": [
       "+-----------+---------------+----------------+-----------------+"
      ]
     },
     "metadata": {},
     "output_type": "display_data"
    },
    {
     "data": {
      "text/html": [
       "<pre>| 10        | 16.591ms      | 1.9034e+06     | 0               |</pre>"
      ],
      "text/plain": [
       "| 10        | 16.591ms      | 1.9034e+06     | 0               |"
      ]
     },
     "metadata": {},
     "output_type": "display_data"
    },
    {
     "data": {
      "text/html": [
       "<pre>+-----------+---------------+----------------+-----------------+</pre>"
      ],
      "text/plain": [
       "+-----------+---------------+----------------+-----------------+"
      ]
     },
     "metadata": {},
     "output_type": "display_data"
    }
   ],
   "source": [
    "model = gl.topic_model.create(docs)"
   ]
  },
  {
   "cell_type": "code",
   "execution_count": 22,
   "metadata": {
    "collapsed": false
   },
   "outputs": [
    {
     "name": "stdout",
     "output_type": "stream",
     "text": [
      "+-------+---------------+-----------------+\n",
      "| topic |      word     |      score      |\n",
      "+-------+---------------+-----------------+\n",
      "|   0   |   conference  | 0.0409662151134 |\n",
      "|   0   |      now,     |  0.024645013873 |\n",
      "|   0   |     africa    |  0.023012893749 |\n",
      "|   0   |     defeat    | 0.0164844132528 |\n",
      "|   0   |  colonialism  | 0.0148522931288 |\n",
      "|   1   |    nations    | 0.0267872982083 |\n",
      "|   1   |     called    | 0.0161433386553 |\n",
      "|   1   |     result    | 0.0143693453965 |\n",
      "|   1   | asian-african | 0.0125953521377 |\n",
      "|   1   |    strength   | 0.0108213588788 |\n",
      "+-------+---------------+-----------------+\n",
      "[50 rows x 3 columns]\n",
      "Note: Only the head of the SFrame is printed.\n",
      "You can use print_rows(num_rows=m, num_columns=n) to print more rows and columns.\n"
     ]
    }
   ],
   "source": [
    "print model.get_topics()"
   ]
  },
  {
   "cell_type": "code",
   "execution_count": 23,
   "metadata": {
    "collapsed": false
   },
   "outputs": [
    {
     "name": "stdout",
     "output_type": "stream",
     "text": [
      "+-------------------------------+\n",
      "|             words             |\n",
      "+-------------------------------+\n",
      "| [conference, now,, africa,... |\n",
      "| [nations, called, result, ... |\n",
      "| [struggle, spirit, indepen... |\n",
      "| [territory, irian,, author... |\n",
      "| [people, indonesian, give,... |\n",
      "| [asia, state, friends,, to... |\n",
      "| [irian, white, countries, ... |\n",
      "| [united, years, great, pol... |\n",
      "| [dutch, world, peoples, pa... |\n",
      "| [west, -, republic, indone... |\n",
      "+-------------------------------+\n",
      "[10 rows x 1 columns]\n",
      "\n"
     ]
    }
   ],
   "source": [
    "print model.get_topics(output_type='topic_words')"
   ]
  },
  {
   "cell_type": "code",
   "execution_count": 24,
   "metadata": {
    "collapsed": false
   },
   "outputs": [
    {
     "data": {
      "text/plain": [
       "Class                          : TopicModel\n",
       "\n",
       "Schema\n",
       "------\n",
       "Vocabulary Size                : 2187\n",
       "\n",
       "Settings\n",
       "--------\n",
       "Number of Topics               : 10\n",
       "alpha                          : 5.0\n",
       "beta                           : 0.1\n",
       "Iterations                     : 10\n",
       "Training time                  : 1.0177\n",
       "Verbose                        : False\n",
       "\n",
       "Accessible fields             : \n",
       "m['topics']                   : An SFrame containing the topics.\n",
       "m['vocabulary']               : An SArray containing the words in the vocabulary.\n",
       "Useful methods                : \n",
       "m.get_topics()                : Get the most probable words per topic.\n",
       "m.predict(new_docs)           : Make predictions for new documents."
      ]
     },
     "execution_count": 24,
     "metadata": {},
     "output_type": "execute_result"
    }
   ],
   "source": [
    "model"
   ]
  },
  {
   "cell_type": "markdown",
   "metadata": {},
   "source": [
    "* To predict the topic of a given document, one can get an SArray of integers containing the most probable topic ids:\n"
   ]
  },
  {
   "cell_type": "code",
   "execution_count": 25,
   "metadata": {
    "collapsed": true
   },
   "outputs": [],
   "source": [
    "pred = model.predict(docs)"
   ]
  },
  {
   "cell_type": "markdown",
   "metadata": {},
   "source": [
    "* Combining the above method with standard SFrame capabilities, one can use predict to find documents related to a particular topic\n"
   ]
  },
  {
   "cell_type": "code",
   "execution_count": 26,
   "metadata": {
    "collapsed": true
   },
   "outputs": [],
   "source": [
    "docs_in_topic_0 = docs[model.predict(docs) == 0]"
   ]
  },
  {
   "cell_type": "code",
   "execution_count": 27,
   "metadata": {
    "collapsed": false
   },
   "outputs": [
    {
     "data": {
      "text/plain": [
       "dtype: array\n",
       "Rows: 2\n",
       "[array('d', [0.11121281464530892, 0.12723112128146452, 0.09565217391304348, 0.0471395881006865, 0.06453089244851258, 0.14096109839816934, 0.0782608695652174, 0.10709382151029748, 0.16704805491990846, 0.06086956521739131]), array('d', [0.06737443854634545, 0.03879134340547162, 0.09963250306247448, 0.1175990200081666, 0.18538178848509596, 0.06941608819926501, 0.07145773785218457, 0.0865659452837893, 0.08370763576970192, 0.1800734993875051])]"
      ]
     },
     "execution_count": 27,
     "metadata": {},
     "output_type": "execute_result"
    }
   ],
   "source": [
    "pred = model.predict(docs, output_type='probability')\n",
    "pred"
   ]
  },
  {
   "cell_type": "code",
   "execution_count": 28,
   "metadata": {
    "collapsed": false
   },
   "outputs": [
    {
     "data": {
      "text/plain": [
       "dtype: str\n",
       "Rows: 2187\n",
       "['!', 'speed', 'nations!bismillah', 'opened,', 'declare', 'million', 'president', 'africans', 'asians', 'majority.and', \"humanity's\", 'degradation,', 'liberation', 'solong', 'diminished', 'blessing', 'remember', 'future.', 'circumstances.let', 'flints', 'strike', 'deliberations', 'hard.', 'easy.', '\"to', 'sons:', 'attain', 'safeguarded', 'evidence', 'afternoon-tea', 'abroad:', 'lie', 'falsify', 'achieve.', 'worthwhile,', 'happen,', 'problems', \"other's\", 'understand', 'making', 'other.if', \"others'\", 'profit', 'roots.', 'experience,', 'neighbours.', 'confidence.', 'warm', 'unfriendly', 'born', 'looked', 'world.failure', 'presence', 'likelihood', 'pillar', 'welfare', 'effect', 'harmony,', 'way,in', 'hold', 'discussion,ways', 'friendly,', 'brings', 'diversity\"', 'nation.so,', 'motto', 'god,', 'toradjas,', 'bhinneka', 'madurese,', 'bataks,', 'achenese,', 'units,', 'ethnic', 'moreover,', 'christians,', 'wehave', 'acting', 'lives,', 'large', 'hardwon', 'bulwark', 'source', 'them,', 'fulfil', 'steps', 'purpose', 'debased,', 'central-sumatrans,', 'done,', 'goodwill', 'duty', 'doesits', 'together.sisters', 'everywhere,', 'consideration', 'toleranceand', 'message', 'desires', 'truths', ... ]"
      ]
     },
     "execution_count": 28,
     "metadata": {},
     "output_type": "execute_result"
    }
   ],
   "source": [
    "model['vocabulary']"
   ]
  },
  {
   "cell_type": "code",
   "execution_count": 29,
   "metadata": {
    "collapsed": false
   },
   "outputs": [
    {
     "data": {
      "text/html": [
       "<div style=\"max-height:1000px;max-width:1500px;overflow:auto;\"><table frame=\"box\" rules=\"cols\">\n",
       "    <tr>\n",
       "        <th style=\"padding-left: 1em; padding-right: 1em; text-align: center\">topic_probabilities</th>\n",
       "        <th style=\"padding-left: 1em; padding-right: 1em; text-align: center\">vocabulary</th>\n",
       "    </tr>\n",
       "    <tr>\n",
       "        <td style=\"padding-left: 1em; padding-right: 1em; text-align: center; vertical-align: top\">[0.000163212012404,<br>0.00195139258471, ...</td>\n",
       "        <td style=\"padding-left: 1em; padding-right: 1em; text-align: center; vertical-align: top\">!</td>\n",
       "    </tr>\n",
       "    <tr>\n",
       "        <td style=\"padding-left: 1em; padding-right: 1em; text-align: center; vertical-align: top\">[0.000163212012404,<br>0.000177399325883, ...</td>\n",
       "        <td style=\"padding-left: 1em; padding-right: 1em; text-align: center; vertical-align: top\">speed</td>\n",
       "    </tr>\n",
       "    <tr>\n",
       "        <td style=\"padding-left: 1em; padding-right: 1em; text-align: center; vertical-align: top\">[0.000163212012404,<br>0.000177399325883, ...</td>\n",
       "        <td style=\"padding-left: 1em; padding-right: 1em; text-align: center; vertical-align: top\">nations!bismillah</td>\n",
       "    </tr>\n",
       "    <tr>\n",
       "        <td style=\"padding-left: 1em; padding-right: 1em; text-align: center; vertical-align: top\">[0.00179533213645,<br>0.000177399325883, ...</td>\n",
       "        <td style=\"padding-left: 1em; padding-right: 1em; text-align: center; vertical-align: top\">opened,</td>\n",
       "    </tr>\n",
       "    <tr>\n",
       "        <td style=\"padding-left: 1em; padding-right: 1em; text-align: center; vertical-align: top\">[0.00179533213645,<br>0.000177399325883, ...</td>\n",
       "        <td style=\"padding-left: 1em; padding-right: 1em; text-align: center; vertical-align: top\">declare</td>\n",
       "    </tr>\n",
       "    <tr>\n",
       "        <td style=\"padding-left: 1em; padding-right: 1em; text-align: center; vertical-align: top\">[0.000163212012404,<br>0.000177399325883, ...</td>\n",
       "        <td style=\"padding-left: 1em; padding-right: 1em; text-align: center; vertical-align: top\">million</td>\n",
       "    </tr>\n",
       "    <tr>\n",
       "        <td style=\"padding-left: 1em; padding-right: 1em; text-align: center; vertical-align: top\">[0.000163212012404,<br>0.000177399325883, ...</td>\n",
       "        <td style=\"padding-left: 1em; padding-right: 1em; text-align: center; vertical-align: top\">president</td>\n",
       "    </tr>\n",
       "    <tr>\n",
       "        <td style=\"padding-left: 1em; padding-right: 1em; text-align: center; vertical-align: top\">[0.00179533213645,<br>0.000177399325883, ...</td>\n",
       "        <td style=\"padding-left: 1em; padding-right: 1em; text-align: center; vertical-align: top\">africans</td>\n",
       "    </tr>\n",
       "    <tr>\n",
       "        <td style=\"padding-left: 1em; padding-right: 1em; text-align: center; vertical-align: top\">[0.000163212012404,<br>0.000177399325883, ...</td>\n",
       "        <td style=\"padding-left: 1em; padding-right: 1em; text-align: center; vertical-align: top\">asians</td>\n",
       "    </tr>\n",
       "    <tr>\n",
       "        <td style=\"padding-left: 1em; padding-right: 1em; text-align: center; vertical-align: top\">[0.00179533213645,<br>0.000177399325883, ...</td>\n",
       "        <td style=\"padding-left: 1em; padding-right: 1em; text-align: center; vertical-align: top\">majority.and</td>\n",
       "    </tr>\n",
       "</table>\n",
       "[2187 rows x 2 columns]<br/>Note: Only the head of the SFrame is printed.<br/>You can use print_rows(num_rows=m, num_columns=n) to print more rows and columns.\n",
       "</div>"
      ],
      "text/plain": [
       "Columns:\n",
       "\ttopic_probabilities\tarray\n",
       "\tvocabulary\tstr\n",
       "\n",
       "Rows: 2187\n",
       "\n",
       "Data:\n",
       "+-------------------------------+-------------------+\n",
       "|      topic_probabilities      |     vocabulary    |\n",
       "+-------------------------------+-------------------+\n",
       "| [0.000163212012404, 0.0019... |         !         |\n",
       "| [0.000163212012404, 0.0001... |       speed       |\n",
       "| [0.000163212012404, 0.0001... | nations!bismillah |\n",
       "| [0.00179533213645, 0.00017... |      opened,      |\n",
       "| [0.00179533213645, 0.00017... |      declare      |\n",
       "| [0.000163212012404, 0.0001... |      million      |\n",
       "| [0.000163212012404, 0.0001... |     president     |\n",
       "| [0.00179533213645, 0.00017... |      africans     |\n",
       "| [0.000163212012404, 0.0001... |       asians      |\n",
       "| [0.00179533213645, 0.00017... |    majority.and   |\n",
       "+-------------------------------+-------------------+\n",
       "[2187 rows x 2 columns]\n",
       "Note: Only the head of the SFrame is printed.\n",
       "You can use print_rows(num_rows=m, num_columns=n) to print more rows and columns."
      ]
     },
     "execution_count": 29,
     "metadata": {},
     "output_type": "execute_result"
    }
   ],
   "source": [
    "model['topics']"
   ]
  },
  {
   "cell_type": "markdown",
   "metadata": {},
   "source": [
    "* save and load models"
   ]
  },
  {
   "cell_type": "code",
   "execution_count": 30,
   "metadata": {
    "collapsed": true
   },
   "outputs": [],
   "source": [
    "os.chdir(\"../text_analysis/data/\")"
   ]
  },
  {
   "cell_type": "code",
   "execution_count": 31,
   "metadata": {
    "collapsed": false
   },
   "outputs": [],
   "source": [
    "model.save('sukarno_model')\n",
    "sukarno_model = gl.load_model('sukarno_model')"
   ]
  }
 ],
 "metadata": {
  "anaconda-cloud": {},
  "kernelspec": {
   "display_name": "Python [conda env:gl-env]",
   "language": "python",
   "name": "conda-env-gl-env-py"
  },
  "language_info": {
   "codemirror_mode": {
    "name": "ipython",
    "version": 2
   },
   "file_extension": ".py",
   "mimetype": "text/x-python",
   "name": "python",
   "nbconvert_exporter": "python",
   "pygments_lexer": "ipython2",
   "version": "2.7.12"
  }
 },
 "nbformat": 4,
 "nbformat_minor": 0
}
