{
 "cells": [
  {
   "cell_type": "code",
   "execution_count": 1,
   "metadata": {
    "collapsed": false
   },
   "outputs": [
    {
     "name": "stderr",
     "output_type": "stream",
     "text": [
      "[INFO] graphlab.cython.cy_server: GraphLab Create v2.1 started. Logging: /tmp/graphlab_server_1471495354.log\n"
     ]
    },
    {
     "name": "stdout",
     "output_type": "stream",
     "text": [
      "This non-commercial license of GraphLab Create for academic use is assigned to kpolimis@u.washington.edu and will expire on July 29, 2017.\n"
     ]
    }
   ],
   "source": [
    "import os\n",
    "import re\n",
    "import pdfkit\n",
    "import urllib2\n",
    "import pandas as pd\n",
    "import graphlab as gl\n",
    "import requests\n",
    "from bs4 import BeautifulSoup\n",
    "from bs4 import UnicodeDammit\n",
    "from utils import get_Sukarno_Bandung_speech, convert_pdf_to_txt"
   ]
  },
  {
   "cell_type": "code",
   "execution_count": 2,
   "metadata": {
    "collapsed": true
   },
   "outputs": [],
   "source": [
    "os.chdir('../data/')"
   ]
  },
  {
   "cell_type": "markdown",
   "metadata": {},
   "source": [
    "## Get President Suharto's Resignation Speech\n",
    "* [21 May 21 1998](http://partners.nytimes.com/library/world/asia/052198indonesia-suharto-text.html)  \n",
    "  Merdeka Palace\n",
    "  Jakarta, Indonesia\n",
    "  "
   ]
  },
  {
   "cell_type": "markdown",
   "metadata": {},
   "source": [
    "* Chris Albon tutorial on [beautiful soup](http://chrisalbon.com/python/beautiful_soup_html_basics.html)"
   ]
  },
  {
   "cell_type": "code",
   "execution_count": 3,
   "metadata": {
    "collapsed": false
   },
   "outputs": [],
   "source": [
    "suharto_resignation_url = 'http://partners.nytimes.com/library/world/asia/052198indonesia-suharto-text.html'\n",
    "suharto_resignation_url_requests = requests.get(suharto_resignation_url)\n",
    "suharto_resignation_url_html_content = suharto_resignation_url_requests.text\n",
    "suharto_resignation_url_soup = BeautifulSoup(suharto_resignation_url_html_content, 'lxml')\n",
    "suharto_resignation_speech_text = suharto_resignation_url_soup.get_text().encode('utf8').replace('\\n\\n','')\n",
    "suharto_resignation_speech_unicode = UnicodeDammit(suharto_resignation_speech_text, [\"ascii\"])\n",
    "suharto_resignation_speech = suharto_resignation_speech_unicode.unicode_markup.encode('ascii', 'ignore').decode('ascii')\n",
    "suharto_resignation_speech = suharto_resignation_speech.replace(\"\\n\",\"\").replace(\"\\r\", \"\")"
   ]
  },
  {
   "cell_type": "markdown",
   "metadata": {},
   "source": [
    "* subset the speech to remove citation material in document heading and ending"
   ]
  },
  {
   "cell_type": "code",
   "execution_count": 4,
   "metadata": {
    "collapsed": false
   },
   "outputs": [
    {
     "data": {
      "text/plain": [
       "u'In the name of God the All-Mighty,   Fellow members of the nation and the motherland,   Assalamualai'"
      ]
     },
     "execution_count": 4,
     "metadata": {},
     "output_type": "execute_result"
    }
   ],
   "source": [
    "suharto_resignation_speech = suharto_resignation_speech[247:len(suharto_resignation_speech)-400]\n",
    "suharto_resignation_speech[0:100]"
   ]
  },
  {
   "cell_type": "markdown",
   "metadata": {},
   "source": [
    "* save the speech to a text file "
   ]
  },
  {
   "cell_type": "code",
   "execution_count": 5,
   "metadata": {
    "collapsed": true
   },
   "outputs": [],
   "source": [
    "f = open('suharto_resignation_speech.txt', 'w')\n",
    "f.write(suharto_resignation_speech.encode('utf8'))\n",
    "f.close()"
   ]
  },
  {
   "cell_type": "code",
   "execution_count": 6,
   "metadata": {
    "collapsed": false
   },
   "outputs": [],
   "source": [
    "#need wkhtmltox to work\n",
    "#pdfkit.from_url('http://papuaweb.org/goi/pidato/1961-12-jogyakarta.html', 'sukarno_jogjakarta_speech.pdf')"
   ]
  },
  {
   "cell_type": "markdown",
   "metadata": {},
   "source": [
    "* Convert the text to a pandas dataframe \n",
    "* easy to transform pandas dataframe to graphlab sframe\n",
    "* for more info on text analysis with turi sframes see this [documentation](https://turi.com/learn/userguide/text/intro.html)"
   ]
  },
  {
   "cell_type": "code",
   "execution_count": 7,
   "metadata": {
    "collapsed": false
   },
   "outputs": [],
   "source": [
    "speech_data = {'speech': suharto_resignation_speech}\n",
    "index= [1]\n",
    "speech_df = pd.DataFrame(data = speech_data, index = index)"
   ]
  },
  {
   "cell_type": "code",
   "execution_count": 8,
   "metadata": {
    "collapsed": true
   },
   "outputs": [],
   "source": [
    "BASE_DIR = \"~/repos/statistics-indonesia-python/text_analysis/data\" "
   ]
  },
  {
   "cell_type": "markdown",
   "metadata": {},
   "source": [
    "## Bag-of-words"
   ]
  },
  {
   "cell_type": "markdown",
   "metadata": {},
   "source": [
    "* each document is represented by a map where the words are keys and the values are the number of occurrences.\n",
    "* use pandas data frame to create graphlab sframe\n",
    "* save sframe \n",
    "* transform sframe to bag-of-words (bow) model"
   ]
  },
  {
   "cell_type": "code",
   "execution_count": 9,
   "metadata": {
    "collapsed": false
   },
   "outputs": [],
   "source": [
    "sf = gl.SFrame(data=speech_df)\n",
    "sf.save(\"%s/suharto_resignation.sframe\" % BASE_DIR)"
   ]
  },
  {
   "cell_type": "code",
   "execution_count": 10,
   "metadata": {
    "collapsed": false
   },
   "outputs": [
    {
     "data": {
      "text/plain": [
       "dtype: dict\n",
       "Rows: 1\n",
       "[{'indonesia,': 3, 'development,': 2, 'all': 1, 'development.': 1, 'vacuum': 1, 'representatives': 2, 'not': 1, 'mistakes': 1, 'thanks': 1, 'stepping': 1, 'carefully': 1, '21,': 1, 'before': 1, 'but,': 1, 'based': 1, 'also': 1, 'with': 4, 'possible,': 1, 'day,': 1, 'should': 1, 'to': 12, 'maintaining': 1, '8': 2, 'earnestly': 1, 'has': 1, 'into': 1, 'committee': 2, 'continuity': 1, 'pancasila': 1, 'it,': 1, 'his': 1, 'views': 1, 'read': 1, 'express': 2, 'professor,': 1, 'cannot': 1, 'meeting.': 1, 'front': 1, 'during': 2, 'now': 1, 'day': 1, 'presidential': 1, '1998-2003.': 1, 'name': 1, 'ceased': 1, 'materialized': 1, 'this': 4, 'indonesian': 1, 'situation,': 1, 'wish': 1, 'b.j.': 1, 'prevent': 1, 'declared': 1, 'because': 2, 'prompted': 1, 'people': 2, 'national': 2, 'constitution.': 1, 'therefore,': 1, 'decided': 1, 'are': 2, 'our': 2, 'term,': 1, 'constitution,': 1, 'best': 1, 'leaders': 2, 'shown': 1, 'necessary.': 1, 'constitution': 1, 'for': 8, 'reform': 2, 'aspirations': 2, 'god': 1, 'assistance': 1, 'remain': 1, 'consultative': 1, 'state': 2, 'above': 1, 'conditions': 1, 'be': 4, 'outgoing': 1, 'who': 2, 'led': 1, 'seventh': 3, 'governing': 2, 'understanding': 1, 'thanks.': 1, 'implementing': 2, 'leadership': 3, 'reforms': 3, 'members': 1, \"people's\": 4, 'consideration': 1, 'post': 1, 'remainder': 1, 'by': 1, 'change': 1, 'faced': 1, 'on': 2, 'about': 1, 'conviction': 1, 'of': 41, 'taking': 2, 'mpr,': 1, 'conveyed': 1, 'warrachmatullahi': 1, 'opinion': 1, 'implement': 1, 'changes': 1, '(parliament)': 1, 'conclude': 1, 'doctor,': 1, 'too,': 1, 'council,': 1, 'one': 1, 'down': 1, 'all-mighty,': 1, 'times,': 1, 'article': 2, '1945': 3, 'engineer': 1, 'considering': 1, 'from': 1, 'would': 1, 'sake': 1, 'support': 1, 'there': 2, 'ministers': 1, 'been': 1, 'response': 1, 'nation,': 1, 'victorious': 1, 'peaceful': 1, 'orderly,': 1, 'was': 2, 'duties': 1, 'assembly,': 1, 'life': 1, 'you,': 1, 'fellow': 1, 'form': 2, 'that': 6, 'assalamualaikum': 1, 'forming': 1, 'cabinet': 2, 'manner,': 1, 'representative': 1, 'committee.': 1, 'line': 2, 'statement,': 1, 'holder': 1, 'adequate': 1, 'especially': 1, 'me': 2, 'factions': 1, 'motherland,': 1, 'these': 4, 'shortcomings.': 1, 'will': 1, 'while': 1, 'deem': 1, '(moslem': 1, 'following': 1, 'oath': 2, 'declare': 1, 'and': 16, 'supreme': 1, 'have': 4, 'do': 1, 'is': 2, 'am': 1, 'it': 1, 'deep': 1, 'an': 1, 'as': 2, 'good': 1, 'wabarakatu,': 1, 'manner': 2, 'council': 2, 'in': 15, 'need': 1, 'my': 3, 'nation': 4, 'seek': 1, 'any': 1, 'if': 1, 'traditional': 1, 'implemented': 1, 'court': 1, 'no': 2, '1998.': 1, 'reality': 1, 'very': 1, 'unity': 1, 'republic': 4, 'take': 1, 'forgiveness': 1, 'composition': 2, 'difficult': 1, 'development': 4, 'may': 2, 'after': 1, 'state.': 1, 'state,': 1, 'committee,': 1, 'said': 1, 'plan': 2, 'thursday,': 1, 'date': 1, 'president': 4, 'greeting)': 1, 'opportunity': 1, 'habibie': 1, 'recent': 1, 'a': 4, 'longer': 1, 'sectors': 1, 'vice': 2, 'i': 12, 'mandate': 1, 'indonesia': 2, 'constitutional': 1, 'cohesion': 1, 'impossibility': 1, 'allow': 1, 'time': 1, 'the': 65, 'cabinet.': 1}]"
      ]
     },
     "execution_count": 10,
     "metadata": {},
     "output_type": "execute_result"
    }
   ],
   "source": [
    "bow = gl.text_analytics.count_words(sf['speech'])\n",
    "sf['bow'] = bow\n",
    "bow"
   ]
  },
  {
   "cell_type": "markdown",
   "metadata": {},
   "source": [
    "## TF-IDF"
   ]
  },
  {
   "cell_type": "markdown",
   "metadata": {},
   "source": [
    "* Another useful representation for text data is called TF-IDF (term frequency - inverse document frequency).\n",
    "* This is a modification of the bag-of-words format where the counts are transformed into scores: \n",
    "    * words that are common across the document corpus are given low scores,  \n",
    "    rare words occurring often in a document are given high scores"
   ]
  },
  {
   "cell_type": "markdown",
   "metadata": {},
   "source": [
    "* TF-IDF(word,document)=N(word,document)∗log(1/∑dN(word,d)))\n",
    "    * where N(w, d) is the number of times word w occurs in document d"
   ]
  },
  {
   "cell_type": "code",
   "execution_count": 11,
   "metadata": {
    "collapsed": false
   },
   "outputs": [
    {
     "data": {
      "text/plain": [
       "dtype: dict\n",
       "Rows: 1\n",
       "[{'indonesia,': 0.0, 'development,': 0.0, 'all': 0.0, 'development.': 0.0, 'vacuum': 0.0, 'representatives': 0.0, 'not': 0.0, 'mistakes': 0.0, 'thanks': 0.0, 'stepping': 0.0, 'carefully': 0.0, '21,': 0.0, 'before': 0.0, 'but,': 0.0, 'based': 0.0, 'also': 0.0, 'with': 0.0, 'possible,': 0.0, 'day,': 0.0, 'should': 0.0, 'to': 0.0, 'maintaining': 0.0, '8': 0.0, 'earnestly': 0.0, 'has': 0.0, 'into': 0.0, 'committee': 0.0, 'continuity': 0.0, 'pancasila': 0.0, 'it,': 0.0, 'his': 0.0, 'views': 0.0, 'read': 0.0, 'express': 0.0, 'professor,': 0.0, 'cannot': 0.0, 'meeting.': 0.0, 'front': 0.0, 'during': 0.0, 'now': 0.0, 'day': 0.0, 'presidential': 0.0, '1998-2003.': 0.0, 'name': 0.0, 'ceased': 0.0, 'materialized': 0.0, 'this': 0.0, 'indonesian': 0.0, 'situation,': 0.0, 'wish': 0.0, 'b.j.': 0.0, 'prevent': 0.0, 'declared': 0.0, 'because': 0.0, 'prompted': 0.0, 'people': 0.0, 'national': 0.0, 'constitution.': 0.0, 'therefore,': 0.0, 'decided': 0.0, 'are': 0.0, 'our': 0.0, 'term,': 0.0, 'constitution,': 0.0, 'best': 0.0, 'leaders': 0.0, 'shown': 0.0, 'necessary.': 0.0, 'constitution': 0.0, 'for': 0.0, 'reform': 0.0, 'aspirations': 0.0, 'god': 0.0, 'assistance': 0.0, 'remain': 0.0, 'consultative': 0.0, 'state': 0.0, 'above': 0.0, 'conditions': 0.0, 'be': 0.0, 'outgoing': 0.0, 'who': 0.0, 'led': 0.0, 'seventh': 0.0, 'governing': 0.0, 'understanding': 0.0, 'thanks.': 0.0, 'implementing': 0.0, 'leadership': 0.0, 'reforms': 0.0, 'members': 0.0, \"people's\": 0.0, 'consideration': 0.0, 'post': 0.0, 'remainder': 0.0, 'by': 0.0, 'change': 0.0, 'faced': 0.0, 'on': 0.0, 'about': 0.0, 'conviction': 0.0, 'of': 0.0, 'taking': 0.0, 'mpr,': 0.0, 'conveyed': 0.0, 'warrachmatullahi': 0.0, 'opinion': 0.0, 'implement': 0.0, 'changes': 0.0, '(parliament)': 0.0, 'conclude': 0.0, 'doctor,': 0.0, 'too,': 0.0, 'council,': 0.0, 'one': 0.0, 'down': 0.0, 'all-mighty,': 0.0, 'times,': 0.0, 'article': 0.0, '1945': 0.0, 'engineer': 0.0, 'considering': 0.0, 'from': 0.0, 'would': 0.0, 'sake': 0.0, 'support': 0.0, 'there': 0.0, 'ministers': 0.0, 'been': 0.0, 'response': 0.0, 'nation,': 0.0, 'victorious': 0.0, 'peaceful': 0.0, 'orderly,': 0.0, 'was': 0.0, 'duties': 0.0, 'assembly,': 0.0, 'life': 0.0, 'you,': 0.0, 'fellow': 0.0, 'form': 0.0, 'that': 0.0, 'assalamualaikum': 0.0, 'forming': 0.0, 'cabinet': 0.0, 'manner,': 0.0, 'representative': 0.0, 'committee.': 0.0, 'line': 0.0, 'statement,': 0.0, 'holder': 0.0, 'adequate': 0.0, 'especially': 0.0, 'me': 0.0, 'factions': 0.0, 'motherland,': 0.0, 'these': 0.0, 'shortcomings.': 0.0, 'will': 0.0, 'while': 0.0, 'deem': 0.0, '(moslem': 0.0, 'following': 0.0, 'oath': 0.0, 'declare': 0.0, 'and': 0.0, 'supreme': 0.0, 'have': 0.0, 'do': 0.0, 'is': 0.0, 'am': 0.0, 'it': 0.0, 'deep': 0.0, 'an': 0.0, 'as': 0.0, 'good': 0.0, 'wabarakatu,': 0.0, 'manner': 0.0, 'council': 0.0, 'in': 0.0, 'need': 0.0, 'my': 0.0, 'nation': 0.0, 'seek': 0.0, 'any': 0.0, 'if': 0.0, 'traditional': 0.0, 'implemented': 0.0, 'court': 0.0, 'no': 0.0, '1998.': 0.0, 'reality': 0.0, 'very': 0.0, 'unity': 0.0, 'republic': 0.0, 'take': 0.0, 'forgiveness': 0.0, 'composition': 0.0, 'difficult': 0.0, 'development': 0.0, 'may': 0.0, 'after': 0.0, 'state.': 0.0, 'state,': 0.0, 'committee,': 0.0, 'said': 0.0, 'plan': 0.0, 'thursday,': 0.0, 'date': 0.0, 'president': 0.0, 'greeting)': 0.0, 'opportunity': 0.0, 'habibie': 0.0, 'recent': 0.0, 'a': 0.0, 'longer': 0.0, 'sectors': 0.0, 'vice': 0.0, 'i': 0.0, 'mandate': 0.0, 'indonesia': 0.0, 'constitutional': 0.0, 'cohesion': 0.0, 'impossibility': 0.0, 'allow': 0.0, 'time': 0.0, 'the': 0.0, 'cabinet.': 0.0}]"
      ]
     },
     "execution_count": 11,
     "metadata": {},
     "output_type": "execute_result"
    }
   ],
   "source": [
    "sf['tfidf'] = gl.text_analytics.tf_idf(sf['bow'])\n",
    "sf['tfidf']"
   ]
  },
  {
   "cell_type": "markdown",
   "metadata": {},
   "source": [
    "## Text cleaning"
   ]
  },
  {
   "cell_type": "markdown",
   "metadata": {},
   "source": [
    "* remove all words do not occur at least twice in each document using"
   ]
  },
  {
   "cell_type": "code",
   "execution_count": 12,
   "metadata": {
    "collapsed": false
   },
   "outputs": [],
   "source": [
    "docs = sf['bow'].dict_trim_by_values(2)"
   ]
  },
  {
   "cell_type": "markdown",
   "metadata": {},
   "source": [
    "* GraphLab Create also contains a helper function called stopwords that returns a list of common words.\n",
    "We can use SArray.docs.dict_trim_by_keys to remove these words from the documents as a preprocessing step.\n",
    "NB: Currently only English words are available."
   ]
  },
  {
   "cell_type": "code",
   "execution_count": 13,
   "metadata": {
    "collapsed": true
   },
   "outputs": [],
   "source": [
    "docs = docs.dict_trim_by_keys(gl.text_analytics.stopwords(), exclude=True)"
   ]
  },
  {
   "cell_type": "code",
   "execution_count": 14,
   "metadata": {
    "collapsed": false
   },
   "outputs": [
    {
     "data": {
      "text/plain": [
       "{'1945': 3,\n",
       " '8': 2,\n",
       " 'article': 2,\n",
       " 'aspirations': 2,\n",
       " 'cabinet': 2,\n",
       " 'committee': 2,\n",
       " 'composition': 2,\n",
       " 'council': 2,\n",
       " 'development': 4,\n",
       " 'development,': 2,\n",
       " 'express': 2,\n",
       " 'form': 2,\n",
       " 'governing': 2,\n",
       " 'implementing': 2,\n",
       " 'indonesia': 2,\n",
       " 'indonesia,': 3,\n",
       " 'leaders': 2,\n",
       " 'leadership': 3,\n",
       " 'line': 2,\n",
       " 'manner': 2,\n",
       " 'nation': 4,\n",
       " 'national': 2,\n",
       " 'oath': 2,\n",
       " 'people': 2,\n",
       " \"people's\": 4,\n",
       " 'plan': 2,\n",
       " 'president': 4,\n",
       " 'reform': 2,\n",
       " 'reforms': 3,\n",
       " 'representatives': 2,\n",
       " 'republic': 4,\n",
       " 'seventh': 3,\n",
       " 'state': 2,\n",
       " 'taking': 2,\n",
       " 'vice': 2}"
      ]
     },
     "execution_count": 14,
     "metadata": {},
     "output_type": "execute_result"
    }
   ],
   "source": [
    "docs[0]"
   ]
  },
  {
   "cell_type": "markdown",
   "metadata": {},
   "source": [
    "* the tokenizer transforms each row into an ordered list of strings that represents the a simpler version of the Penn-Tree-Bank-style (PTB-style) tokenization of that row's document. \n",
    "* The representation of a document provided by PTB-style of tokenization is essential for sequence-tagging, parsing, bag-of-words treatment, and any text analytics task that requires word-level granularity. For a description of this style of tokenization, see [tokenization example](https://www.cis.upenn.edu/~treebank/tokenization.html.)"
   ]
  },
  {
   "cell_type": "code",
   "execution_count": 15,
   "metadata": {
    "collapsed": false
   },
   "outputs": [
    {
     "data": {
      "text/html": [
       "<div style=\"max-height:1000px;max-width:1500px;overflow:auto;\"><table frame=\"box\" rules=\"cols\">\n",
       "    <tr>\n",
       "        <th style=\"padding-left: 1em; padding-right: 1em; text-align: center\">tokens</th>\n",
       "    </tr>\n",
       "    <tr>\n",
       "        <td style=\"padding-left: 1em; padding-right: 1em; text-align: center; vertical-align: top\">[In, the, name, of, God,<br>the, All-Mighty,, Fel ...</td>\n",
       "    </tr>\n",
       "</table>\n",
       "[1 rows x 1 columns]<br/>\n",
       "</div>"
      ],
      "text/plain": [
       "Columns:\n",
       "\ttokens\tlist\n",
       "\n",
       "Rows: 1\n",
       "\n",
       "Data:\n",
       "+-------------------------------+\n",
       "|             tokens            |\n",
       "+-------------------------------+\n",
       "| [In, the, name, of, God, t... |\n",
       "+-------------------------------+\n",
       "[1 rows x 1 columns]"
      ]
     },
     "execution_count": 15,
     "metadata": {},
     "output_type": "execute_result"
    }
   ],
   "source": [
    "tokenized_speech = gl.SFrame()\n",
    "tokenized_speech['tokens'] = gl.text_analytics.tokenize(sf['speech'])\n",
    "tokenized_speech"
   ]
  },
  {
   "cell_type": "markdown",
   "metadata": {},
   "source": [
    "## Part of Speech Extraction"
   ]
  },
  {
   "cell_type": "markdown",
   "metadata": {},
   "source": [
    "* Highlight unique nouns in your text, identify adjectives with the high sentiment scores, or pull out nouns to generate candidate entities. \n",
    "The extract_parts_of_speech method parses the text in each element and extracts the words that are a given part of speech. \n",
    "For instance, to find all instances of adjectives:"
   ]
  },
  {
   "cell_type": "code",
   "execution_count": 16,
   "metadata": {
    "collapsed": false
   },
   "outputs": [
    {
     "data": {
      "text/html": [
       "<div style=\"max-height:1000px;max-width:1500px;overflow:auto;\"><table frame=\"box\" rules=\"cols\">\n",
       "    <tr>\n",
       "        <th style=\"padding-left: 1em; padding-right: 1em; text-align: center\">adjectives</th>\n",
       "    </tr>\n",
       "    <tr>\n",
       "        <td style=\"padding-left: 1em; padding-right: 1em; text-align: center; vertical-align: top\">{'ADJ': {'national': 2,<br>'deep': 1, 'good': 1, ...</td>\n",
       "    </tr>\n",
       "</table>\n",
       "[1 rows x 1 columns]<br/>\n",
       "</div>"
      ],
      "text/plain": [
       "Columns:\n",
       "\tadjectives\tdict\n",
       "\n",
       "Rows: 1\n",
       "\n",
       "Data:\n",
       "+-------------------------------+\n",
       "|           adjectives          |\n",
       "+-------------------------------+\n",
       "| {'ADJ': {'national': 2, 'd... |\n",
       "+-------------------------------+\n",
       "[1 rows x 1 columns]"
      ]
     },
     "execution_count": 16,
     "metadata": {},
     "output_type": "execute_result"
    }
   ],
   "source": [
    "parts_of_speech = gl.SFrame()\n",
    "parts_of_speech['adjectives'] = gl.text_analytics.extract_parts_of_speech(sf['speech'],\n",
    "                                                  chosen_pos=[gl.text_analytics.PartOfSpeech.ADJ])\n",
    "parts_of_speech"
   ]
  },
  {
   "cell_type": "markdown",
   "metadata": {},
   "source": [
    "## Sentence Splitting"
   ]
  },
  {
   "cell_type": "markdown",
   "metadata": {},
   "source": [
    "* The sentence splitter splits by sentence and outputs a list of sentences. \n",
    "This aids in anlysis at the sentence level.\n",
    "For example, you may want a sentiment score for each sentence in a document.\n",
    "The following command accomplishes this for you:"
   ]
  },
  {
   "cell_type": "code",
   "execution_count": 17,
   "metadata": {
    "collapsed": false
   },
   "outputs": [
    {
     "data": {
      "text/html": [
       "<div style=\"max-height:1000px;max-width:1500px;overflow:auto;\"><table frame=\"box\" rules=\"cols\">\n",
       "    <tr>\n",
       "        <th style=\"padding-left: 1em; padding-right: 1em; text-align: center\">sent</th>\n",
       "    </tr>\n",
       "    <tr>\n",
       "        <td style=\"padding-left: 1em; padding-right: 1em; text-align: center; vertical-align: top\">[In the name of God the<br>All-Mighty,   Fellow ...</td>\n",
       "    </tr>\n",
       "</table>\n",
       "[1 rows x 1 columns]<br/>\n",
       "</div>"
      ],
      "text/plain": [
       "Columns:\n",
       "\tsent\tlist\n",
       "\n",
       "Rows: 1\n",
       "\n",
       "Data:\n",
       "+-------------------------------+\n",
       "|              sent             |\n",
       "+-------------------------------+\n",
       "| [In the name of God the Al... |\n",
       "+-------------------------------+\n",
       "[1 rows x 1 columns]"
      ]
     },
     "execution_count": 17,
     "metadata": {},
     "output_type": "execute_result"
    }
   ],
   "source": [
    "sentences = gl.SFrame()\n",
    "sentences['sent'] = gl.text_analytics.split_by_sentence(sf['speech'])\n",
    "sentences"
   ]
  },
  {
   "cell_type": "markdown",
   "metadata": {},
   "source": [
    "## Create a topic model"
   ]
  },
  {
   "cell_type": "code",
   "execution_count": 18,
   "metadata": {
    "collapsed": false
   },
   "outputs": [],
   "source": [
    "docs = gl.text_analytics.count_words(sf['speech'])\n",
    "docs = docs.dict_trim_by_keys(gl.text_analytics.stopwords(), exclude=True)"
   ]
  },
  {
   "cell_type": "markdown",
   "metadata": {},
   "source": [
    "* Learn topic model"
   ]
  },
  {
   "cell_type": "code",
   "execution_count": 19,
   "metadata": {
    "collapsed": false
   },
   "outputs": [
    {
     "data": {
      "text/html": [
       "<pre>Learning a topic model</pre>"
      ],
      "text/plain": [
       "Learning a topic model"
      ]
     },
     "metadata": {},
     "output_type": "display_data"
    },
    {
     "data": {
      "text/html": [
       "<pre>       Number of documents         1</pre>"
      ],
      "text/plain": [
       "       Number of documents         1"
      ]
     },
     "metadata": {},
     "output_type": "display_data"
    },
    {
     "data": {
      "text/html": [
       "<pre>           Vocabulary size       160</pre>"
      ],
      "text/plain": [
       "           Vocabulary size       160"
      ]
     },
     "metadata": {},
     "output_type": "display_data"
    },
    {
     "data": {
      "text/html": [
       "<pre>   Running collapsed Gibbs sampling</pre>"
      ],
      "text/plain": [
       "   Running collapsed Gibbs sampling"
      ]
     },
     "metadata": {},
     "output_type": "display_data"
    },
    {
     "data": {
      "text/html": [
       "<pre>+-----------+---------------+----------------+-----------------+</pre>"
      ],
      "text/plain": [
       "+-----------+---------------+----------------+-----------------+"
      ]
     },
     "metadata": {},
     "output_type": "display_data"
    },
    {
     "data": {
      "text/html": [
       "<pre>| Iteration | Elapsed Time  | Tokens/Second  | Est. Perplexity |</pre>"
      ],
      "text/plain": [
       "| Iteration | Elapsed Time  | Tokens/Second  | Est. Perplexity |"
      ]
     },
     "metadata": {},
     "output_type": "display_data"
    },
    {
     "data": {
      "text/html": [
       "<pre>+-----------+---------------+----------------+-----------------+</pre>"
      ],
      "text/plain": [
       "+-----------+---------------+----------------+-----------------+"
      ]
     },
     "metadata": {},
     "output_type": "display_data"
    },
    {
     "data": {
      "text/html": [
       "<pre>| 10        | 8.855ms       | 297398         | 0               |</pre>"
      ],
      "text/plain": [
       "| 10        | 8.855ms       | 297398         | 0               |"
      ]
     },
     "metadata": {},
     "output_type": "display_data"
    },
    {
     "data": {
      "text/html": [
       "<pre>+-----------+---------------+----------------+-----------------+</pre>"
      ],
      "text/plain": [
       "+-----------+---------------+----------------+-----------------+"
      ]
     },
     "metadata": {},
     "output_type": "display_data"
    }
   ],
   "source": [
    "model = gl.topic_model.create(docs)"
   ]
  },
  {
   "cell_type": "code",
   "execution_count": 20,
   "metadata": {
    "collapsed": false
   },
   "outputs": [
    {
     "name": "stdout",
     "output_type": "stream",
     "text": [
      "+-------+------------+-----------------+\n",
      "| topic |    word    |      score      |\n",
      "+-------+------------+-----------------+\n",
      "|   0   |    line    | 0.0677419354839 |\n",
      "|   0   |  conveyed  | 0.0354838709677 |\n",
      "|   0   |  council,  | 0.0354838709677 |\n",
      "|   0   |   state.   | 0.0354838709677 |\n",
      "|   0   |   state,   | 0.0354838709677 |\n",
      "|   1   | leadership | 0.0939393939394 |\n",
      "|   1   |  national  | 0.0636363636364 |\n",
      "|   1   |    vice    | 0.0636363636364 |\n",
      "|   1   |  declare   | 0.0333333333333 |\n",
      "|   1   |  adequate  | 0.0333333333333 |\n",
      "+-------+------------+-----------------+\n",
      "[50 rows x 3 columns]\n",
      "Note: Only the head of the SFrame is printed.\n",
      "You can use print_rows(num_rows=m, num_columns=n) to print more rows and columns.\n"
     ]
    }
   ],
   "source": [
    "print model.get_topics()"
   ]
  },
  {
   "cell_type": "code",
   "execution_count": 21,
   "metadata": {
    "collapsed": false
   },
   "outputs": [
    {
     "name": "stdout",
     "output_type": "stream",
     "text": [
      "+-------------------------------+\n",
      "|             words             |\n",
      "+-------------------------------+\n",
      "| [line, conveyed, state., s... |\n",
      "| [leadership, national, vic... |\n",
      "| [people's, reforms, tradit... |\n",
      "| [president, nation, aspira... |\n",
      "| [development, republic, 19... |\n",
      "| [governing, prevent, assis... |\n",
      "| [seventh, 8, state, leader... |\n",
      "| [oath, article, cabinet, (... |\n",
      "| [indonesia,, form, indones... |\n",
      "| [composition, god, post, d... |\n",
      "+-------------------------------+\n",
      "[10 rows x 1 columns]\n",
      "\n"
     ]
    }
   ],
   "source": [
    "print model.get_topics(output_type='topic_words')"
   ]
  },
  {
   "cell_type": "code",
   "execution_count": 22,
   "metadata": {
    "collapsed": false
   },
   "outputs": [
    {
     "data": {
      "text/plain": [
       "Class                          : TopicModel\n",
       "\n",
       "Schema\n",
       "------\n",
       "Vocabulary Size                : 160\n",
       "\n",
       "Settings\n",
       "--------\n",
       "Number of Topics               : 10\n",
       "alpha                          : 5.0\n",
       "beta                           : 0.1\n",
       "Iterations                     : 10\n",
       "Training time                  : 1.0089\n",
       "Verbose                        : False\n",
       "\n",
       "Accessible fields             : \n",
       "m['topics']                   : An SFrame containing the topics.\n",
       "m['vocabulary']               : An SArray containing the words in the vocabulary.\n",
       "Useful methods                : \n",
       "m.get_topics()                : Get the most probable words per topic.\n",
       "m.predict(new_docs)           : Make predictions for new documents."
      ]
     },
     "execution_count": 22,
     "metadata": {},
     "output_type": "execute_result"
    }
   ],
   "source": [
    "model"
   ]
  },
  {
   "cell_type": "markdown",
   "metadata": {},
   "source": [
    "* To predict the topic of a given document, one can get an SArray of integers containing the most probable topic ids:\n"
   ]
  },
  {
   "cell_type": "code",
   "execution_count": 23,
   "metadata": {
    "collapsed": true
   },
   "outputs": [],
   "source": [
    "pred = model.predict(docs)"
   ]
  },
  {
   "cell_type": "markdown",
   "metadata": {},
   "source": [
    "* Combining the above method with standard SFrame capabilities, one can use predict to find documents related to a particular topic\n"
   ]
  },
  {
   "cell_type": "code",
   "execution_count": 24,
   "metadata": {
    "collapsed": true
   },
   "outputs": [],
   "source": [
    "docs_in_topic_0 = docs[model.predict(docs) == 0]"
   ]
  },
  {
   "cell_type": "code",
   "execution_count": 25,
   "metadata": {
    "collapsed": false
   },
   "outputs": [
    {
     "data": {
      "text/plain": [
       "dtype: array\n",
       "Rows: 1\n",
       "[array('d', [0.1076923076923077, 0.10384615384615385, 0.08461538461538462, 0.1346153846153846, 0.16923076923076924, 0.07307692307692308, 0.08846153846153847, 0.08461538461538462, 0.07692307692307693, 0.07692307692307693])]"
      ]
     },
     "execution_count": 25,
     "metadata": {},
     "output_type": "execute_result"
    }
   ],
   "source": [
    "pred = model.predict(docs, output_type='probability')\n",
    "pred"
   ]
  },
  {
   "cell_type": "code",
   "execution_count": 26,
   "metadata": {
    "collapsed": false
   },
   "outputs": [
    {
     "data": {
      "text/plain": [
       "dtype: str\n",
       "Rows: 160\n",
       "['court', 'prevent', 'council,', 'front', 'conditions', 'thanks.', 'ministers', 'outgoing', 'too,', 'pancasila', 'remain', 'shortcomings.', 'plan', 'national', 'forgiveness', 'led', 'support', 'representative', 'mpr,', 'holder', 'term,', 'recent', 'consideration', 'engineer', '1998-2003.', 'doctor,', 'professor,', 'assembly,', 'consultative', 'you,', 'indonesian', 'remainder', '1998.', '21,', 'opinion', 'presidential', 'statement,', 'republic', 'thursday,', 'day', 'read', 'time', 'indonesia', 'president', 'ceased', 'it,', \"people's\", 'views', 'earnestly', 'continuity', 'constitution', 'line', 'state', 'constitution,', 'indonesia,', 'taking', 'duties', 'good', 'implement', 'cabinet.', 'cabinet', 'difficult', 'meeting.', 'leadership', 'representatives', 'prompted', 'longer', 'manner,', 'reality', 'life', 'necessary.', 'habibie', 'vacuum', 'aspirations', 'council', 'forming', 'faced', 'implementing', 'stepping', 'materialized', 'impossibility', 'shown', 'supreme', 'greeting)', 'orderly,', 'people', 'date', 'peaceful', '8', 'manner', 'but,', 'express', 'possible,', 'cohesion', 'seek', 'decided', 'nation,', 'change', 'conviction', 'declared', ... ]"
      ]
     },
     "execution_count": 26,
     "metadata": {},
     "output_type": "execute_result"
    }
   ],
   "source": [
    "model['vocabulary']"
   ]
  },
  {
   "cell_type": "code",
   "execution_count": 27,
   "metadata": {
    "collapsed": false
   },
   "outputs": [
    {
     "data": {
      "text/html": [
       "<div style=\"max-height:1000px;max-width:1500px;overflow:auto;\"><table frame=\"box\" rules=\"cols\">\n",
       "    <tr>\n",
       "        <th style=\"padding-left: 1em; padding-right: 1em; text-align: center\">topic_probabilities</th>\n",
       "        <th style=\"padding-left: 1em; padding-right: 1em; text-align: center\">vocabulary</th>\n",
       "    </tr>\n",
       "    <tr>\n",
       "        <td style=\"padding-left: 1em; padding-right: 1em; text-align: center; vertical-align: top\">[0.00322580645161,<br>0.0030303030303, ...</td>\n",
       "        <td style=\"padding-left: 1em; padding-right: 1em; text-align: center; vertical-align: top\">court</td>\n",
       "    </tr>\n",
       "    <tr>\n",
       "        <td style=\"padding-left: 1em; padding-right: 1em; text-align: center; vertical-align: top\">[0.00322580645161,<br>0.0030303030303, ...</td>\n",
       "        <td style=\"padding-left: 1em; padding-right: 1em; text-align: center; vertical-align: top\">prevent</td>\n",
       "    </tr>\n",
       "    <tr>\n",
       "        <td style=\"padding-left: 1em; padding-right: 1em; text-align: center; vertical-align: top\">[0.0354838709677,<br>0.0030303030303, ...</td>\n",
       "        <td style=\"padding-left: 1em; padding-right: 1em; text-align: center; vertical-align: top\">council,</td>\n",
       "    </tr>\n",
       "    <tr>\n",
       "        <td style=\"padding-left: 1em; padding-right: 1em; text-align: center; vertical-align: top\">[0.00322580645161,<br>0.0030303030303, ...</td>\n",
       "        <td style=\"padding-left: 1em; padding-right: 1em; text-align: center; vertical-align: top\">front</td>\n",
       "    </tr>\n",
       "    <tr>\n",
       "        <td style=\"padding-left: 1em; padding-right: 1em; text-align: center; vertical-align: top\">[0.00322580645161,<br>0.0030303030303, ...</td>\n",
       "        <td style=\"padding-left: 1em; padding-right: 1em; text-align: center; vertical-align: top\">conditions</td>\n",
       "    </tr>\n",
       "    <tr>\n",
       "        <td style=\"padding-left: 1em; padding-right: 1em; text-align: center; vertical-align: top\">[0.00322580645161,<br>0.0030303030303, ...</td>\n",
       "        <td style=\"padding-left: 1em; padding-right: 1em; text-align: center; vertical-align: top\">thanks.</td>\n",
       "    </tr>\n",
       "    <tr>\n",
       "        <td style=\"padding-left: 1em; padding-right: 1em; text-align: center; vertical-align: top\">[0.0354838709677,<br>0.0030303030303, ...</td>\n",
       "        <td style=\"padding-left: 1em; padding-right: 1em; text-align: center; vertical-align: top\">ministers</td>\n",
       "    </tr>\n",
       "    <tr>\n",
       "        <td style=\"padding-left: 1em; padding-right: 1em; text-align: center; vertical-align: top\">[0.00322580645161,<br>0.0030303030303, ...</td>\n",
       "        <td style=\"padding-left: 1em; padding-right: 1em; text-align: center; vertical-align: top\">outgoing</td>\n",
       "    </tr>\n",
       "    <tr>\n",
       "        <td style=\"padding-left: 1em; padding-right: 1em; text-align: center; vertical-align: top\">[0.00322580645161,<br>0.0333333333333, ...</td>\n",
       "        <td style=\"padding-left: 1em; padding-right: 1em; text-align: center; vertical-align: top\">too,</td>\n",
       "    </tr>\n",
       "    <tr>\n",
       "        <td style=\"padding-left: 1em; padding-right: 1em; text-align: center; vertical-align: top\">[0.00322580645161,<br>0.0030303030303, ...</td>\n",
       "        <td style=\"padding-left: 1em; padding-right: 1em; text-align: center; vertical-align: top\">pancasila</td>\n",
       "    </tr>\n",
       "</table>\n",
       "[160 rows x 2 columns]<br/>Note: Only the head of the SFrame is printed.<br/>You can use print_rows(num_rows=m, num_columns=n) to print more rows and columns.\n",
       "</div>"
      ],
      "text/plain": [
       "Columns:\n",
       "\ttopic_probabilities\tarray\n",
       "\tvocabulary\tstr\n",
       "\n",
       "Rows: 160\n",
       "\n",
       "Data:\n",
       "+-------------------------------+------------+\n",
       "|      topic_probabilities      | vocabulary |\n",
       "+-------------------------------+------------+\n",
       "| [0.00322580645161, 0.00303... |   court    |\n",
       "| [0.00322580645161, 0.00303... |  prevent   |\n",
       "| [0.0354838709677, 0.003030... |  council,  |\n",
       "| [0.00322580645161, 0.00303... |   front    |\n",
       "| [0.00322580645161, 0.00303... | conditions |\n",
       "| [0.00322580645161, 0.00303... |  thanks.   |\n",
       "| [0.0354838709677, 0.003030... | ministers  |\n",
       "| [0.00322580645161, 0.00303... |  outgoing  |\n",
       "| [0.00322580645161, 0.03333... |    too,    |\n",
       "| [0.00322580645161, 0.00303... | pancasila  |\n",
       "+-------------------------------+------------+\n",
       "[160 rows x 2 columns]\n",
       "Note: Only the head of the SFrame is printed.\n",
       "You can use print_rows(num_rows=m, num_columns=n) to print more rows and columns."
      ]
     },
     "execution_count": 27,
     "metadata": {},
     "output_type": "execute_result"
    }
   ],
   "source": [
    "model['topics']"
   ]
  },
  {
   "cell_type": "markdown",
   "metadata": {},
   "source": [
    "* save and load models"
   ]
  },
  {
   "cell_type": "code",
   "execution_count": 28,
   "metadata": {
    "collapsed": true
   },
   "outputs": [],
   "source": [
    "os.chdir(\"../text_analysis/data/\")"
   ]
  },
  {
   "cell_type": "code",
   "execution_count": 29,
   "metadata": {
    "collapsed": false
   },
   "outputs": [],
   "source": [
    "model.save('suharto_resignation_model')\n",
    "sukarno_model = gl.load_model('suharto_resignation_model')"
   ]
  },
  {
   "cell_type": "code",
   "execution_count": null,
   "metadata": {
    "collapsed": true
   },
   "outputs": [],
   "source": []
  }
 ],
 "metadata": {
  "anaconda-cloud": {},
  "kernelspec": {
   "display_name": "Python [gl-env]",
   "language": "python",
   "name": "Python [gl-env]"
  },
  "language_info": {
   "codemirror_mode": {
    "name": "ipython",
    "version": 2
   },
   "file_extension": ".py",
   "mimetype": "text/x-python",
   "name": "python",
   "nbconvert_exporter": "python",
   "pygments_lexer": "ipython2",
   "version": "2.7.12"
  }
 },
 "nbformat": 4,
 "nbformat_minor": 0
}
