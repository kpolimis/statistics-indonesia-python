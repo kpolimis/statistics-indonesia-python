{
 "cells": [
  {
   "cell_type": "code",
   "execution_count": 1,
   "metadata": {
    "collapsed": false
   },
   "outputs": [
    {
     "name": "stderr",
     "output_type": "stream",
     "text": [
      "[INFO] graphlab.cython.cy_server: GraphLab Create v2.1 started. Logging: /tmp/graphlab_server_1470423137.log\n"
     ]
    },
    {
     "name": "stdout",
     "output_type": "stream",
     "text": [
      "This non-commercial license of GraphLab Create for academic use is assigned to kpolimis@u.washington.edu and will expire on July 29, 2017.\n"
     ]
    }
   ],
   "source": [
    "import os\n",
    "import re\n",
    "import urllib2\n",
    "import pandas as pd\n",
    "import graphlab as gl\n",
    "import requests\n",
    "from bs4 import BeautifulSoup\n",
    "from bs4 import UnicodeDammit\n",
    "from bps_utils import get_Sukarno_Bandung_speech, convert_pdf_to_txt"
   ]
  },
  {
   "cell_type": "code",
   "execution_count": 2,
   "metadata": {
    "collapsed": true
   },
   "outputs": [],
   "source": [
    "os.chdir('../data/')"
   ]
  },
  {
   "cell_type": "markdown",
   "metadata": {},
   "source": [
    "# Compare  Indonesian political speeches"
   ]
  },
  {
   "cell_type": "markdown",
   "metadata": {},
   "source": [
    "## Get President Sukarno's speeches\n",
    "* Bandung Conference  \n",
    "  18th April 1955  \n",
    "  Bandung, Indonesia\n",
    "  \n",
    "  \n",
    "* International Meeting  \n",
    "  19th December 1961    \n",
    "  Jogjakarta, Indonesia\n",
    "  "
   ]
  },
  {
   "cell_type": "markdown",
   "metadata": {},
   "source": [
    "### Bandung speech"
   ]
  },
  {
   "cell_type": "code",
   "execution_count": 3,
   "metadata": {
    "collapsed": false
   },
   "outputs": [
    {
     "name": "stdout",
     "output_type": "stream",
     "text": [
      "('sukarno_bandung_speech.pdf', 'already exists')\n"
     ]
    }
   ],
   "source": [
    "get_Sukarno_Bandung_speech()"
   ]
  },
  {
   "cell_type": "markdown",
   "metadata": {},
   "source": [
    "* Convert the .pdf of speech to text"
   ]
  },
  {
   "cell_type": "code",
   "execution_count": 4,
   "metadata": {
    "collapsed": false
   },
   "outputs": [],
   "source": [
    "sukarno_bandung_speech = convert_pdf_to_txt('sukarno_bandung_speech.pdf')"
   ]
  },
  {
   "cell_type": "markdown",
   "metadata": {},
   "source": [
    "* subset the speech to remove citation material in document heading"
   ]
  },
  {
   "cell_type": "code",
   "execution_count": 5,
   "metadata": {
    "collapsed": false
   },
   "outputs": [
    {
     "data": {
      "text/plain": [
       "'Your Excellencies,Ladies and Gentlemen, Sisters and Brothers.It is my great honour and privilege on this historic day to bid you welcome to Indonesia. On behalf of the people and government of Indonesia - your hosts - I beg your understanding and forbearance if some circumstances in our country do not meet your expectation. We have, I assure you, done our best to make your stay amongst us memorable for both our guests and your hosts. We hope that the warmth of our welcome will compensate for whatever material shortcomings there may be.As I survey this hall and the distinguished guests gathered here, my heart is filled with emotion. This is the first intercontinental conference of coloured peoples in the history of mankind! I am proud that my country is your host. I am happy that you were able to accept the invitations'"
      ]
     },
     "execution_count": 5,
     "metadata": {},
     "output_type": "execute_result"
    }
   ],
   "source": [
    "sukarno_bandung_speech = sukarno_bandung_speech[1167:len(sukarno_bandung_speech)]\n",
    "sukarno_bandung_speech[0:829]"
   ]
  },
  {
   "cell_type": "markdown",
   "metadata": {},
   "source": [
    "### Jogykarta speech "
   ]
  },
  {
   "cell_type": "code",
   "execution_count": 6,
   "metadata": {
    "collapsed": false
   },
   "outputs": [],
   "source": [
    "sukarno_jogyakarta_url = 'http://papuaweb.org/goi/pidato/1961-12-jogyakarta.html'\n",
    "sukarno_jogyakarta_url_requests = requests.get(sukarno_jogyakarta_url)\n",
    "sukarno_jogyakarta_url_html_content = sukarno_jogyakarta_url_requests.text\n",
    "sukarno_jogyakarta_url_soup = BeautifulSoup(sukarno_jogyakarta_url_html_content, 'lxml')\n",
    "sukarno_jogyakarta_speech_text = sukarno_jogyakarta_url_soup.get_text().encode('utf8').replace('\\n\\n','')\n",
    "sukarno_jogyakarta_speech_unicode = UnicodeDammit(sukarno_jogyakarta_speech_text, [\"ascii\"])\n",
    "sukarno_jogyakarta_speech = sukarno_jogyakarta_speech_unicode.unicode_markup.encode('ascii', 'ignore').decode('ascii')\n",
    "sukarno_jogyakarta_speech = sukarno_jogyakarta_speech.replace(\"\\n\",\"\").replace(\"\\r\", \"\")\n"
   ]
  },
  {
   "cell_type": "markdown",
   "metadata": {},
   "source": [
    "* subset the speech to remove citation material in document heading and ending"
   ]
  },
  {
   "cell_type": "code",
   "execution_count": 7,
   "metadata": {
    "collapsed": false
   },
   "outputs": [
    {
     "data": {
      "text/plain": [
       "u'As was said by the Sultan just now, today, it is exactly 15 yearssince the day on which the city of '"
      ]
     },
     "execution_count": 7,
     "metadata": {},
     "output_type": "execute_result"
    }
   ],
   "source": [
    "sukarno_jogyakarta_speech = sukarno_jogyakarta_speech[693:len(sukarno_jogyakarta_speech)-58]\n",
    "sukarno_jogyakarta_speech[0:100]"
   ]
  },
  {
   "cell_type": "markdown",
   "metadata": {},
   "source": [
    "## President Jokowi speeches"
   ]
  },
  {
   "cell_type": "markdown",
   "metadata": {},
   "source": [
    "* Inauguration  \n",
    "  20th October 20  \n",
    "  Jakarta, Indonesia"
   ]
  },
  {
   "cell_type": "code",
   "execution_count": 8,
   "metadata": {
    "collapsed": false
   },
   "outputs": [],
   "source": [
    "jokowi_inauguration_url = 'http://kbriseoul.kr/kbriseoul/index.php/en/2013-01-13-22-22-09/embassy-news/308-jokowi-inauguration-speech.io'\n",
    "jokowi_inauguration_request = requests.get(jokowi_inauguration_url)\n",
    "jokowi_inauguration_html_content = jokowi_inauguration_request.content\n",
    "jokowi_inauguration_url_soup = BeautifulSoup(jokowi_inauguration_html_content, 'lxml')\n",
    "jokowi_inauguration_speech_text = jokowi_inauguration_url_soup.get_text().encode('utf8').replace('\\n\\n','')\n",
    "jokowi_inauguration_speech_unicode = UnicodeDammit(jokowi_inauguration_speech_text, [\"ascii\"])\n",
    "jokowi_inauguration_speech = jokowi_inauguration_speech_unicode.unicode_markup.encode('ascii', 'ignore').decode('ascii')\n",
    "jokowi_inauguration_speech = jokowi_inauguration_speech.replace(\"\\n\",\"\")\n"
   ]
  },
  {
   "cell_type": "markdown",
   "metadata": {},
   "source": [
    "* subset the speech to remove citation material in document heading and ending"
   ]
  },
  {
   "cell_type": "code",
   "execution_count": 9,
   "metadata": {
    "collapsed": false
   },
   "outputs": [
    {
     "data": {
      "text/plain": [
       "u'Assalamualaikum Warahmatullahi Wabarakatuh,Peace be upon us.Om Swastiastu, Namo Buddhaya  Honorable '"
      ]
     },
     "execution_count": 9,
     "metadata": {},
     "output_type": "execute_result"
    }
   ],
   "source": [
    "jokowi_inauguration_speech = jokowi_inauguration_speech[1312:len(jokowi_inauguration_speech)-30]\n",
    "jokowi_inauguration_speech[0:100]"
   ]
  },
  {
   "cell_type": "markdown",
   "metadata": {},
   "source": [
    "* Convert the text to a pandas dataframe \n",
    "* easy to transform pandas dataframe to graphlab sframe\n",
    "* for more info on text analysis with turi sframes see this [documentation](https://turi.com/learn/userguide/text/intro.html)"
   ]
  },
  {
   "cell_type": "code",
   "execution_count": 10,
   "metadata": {
    "collapsed": false
   },
   "outputs": [],
   "source": [
    "speech_data = {'speech': [sukarno_bandung_speech, sukarno_jogyakarta_speech, jokowi_inauguration_speech]}\n",
    "index= [0,1,2]\n",
    "speech_df = pd.DataFrame(data = speech_data, index = index)"
   ]
  },
  {
   "cell_type": "code",
   "execution_count": 11,
   "metadata": {
    "collapsed": false
   },
   "outputs": [
    {
     "data": {
      "text/html": [
       "<div>\n",
       "<table border=\"1\" class=\"dataframe\">\n",
       "  <thead>\n",
       "    <tr style=\"text-align: right;\">\n",
       "      <th></th>\n",
       "      <th>speech</th>\n",
       "    </tr>\n",
       "  </thead>\n",
       "  <tbody>\n",
       "    <tr>\n",
       "      <th>0</th>\n",
       "      <td>Your Excellencies,Ladies and Gentlemen, Sister...</td>\n",
       "    </tr>\n",
       "    <tr>\n",
       "      <th>1</th>\n",
       "      <td>As was said by the Sultan just now, today, it ...</td>\n",
       "    </tr>\n",
       "    <tr>\n",
       "      <th>2</th>\n",
       "      <td>Assalamualaikum Warahmatullahi Wabarakatuh,Pea...</td>\n",
       "    </tr>\n",
       "  </tbody>\n",
       "</table>\n",
       "</div>"
      ],
      "text/plain": [
       "                                              speech\n",
       "0  Your Excellencies,Ladies and Gentlemen, Sister...\n",
       "1  As was said by the Sultan just now, today, it ...\n",
       "2  Assalamualaikum Warahmatullahi Wabarakatuh,Pea..."
      ]
     },
     "execution_count": 11,
     "metadata": {},
     "output_type": "execute_result"
    }
   ],
   "source": [
    "speech_df"
   ]
  },
  {
   "cell_type": "code",
   "execution_count": 12,
   "metadata": {
    "collapsed": true
   },
   "outputs": [],
   "source": [
    "BASE_DIR = \"~/repos/statistics-indonesia-python/text_analysis/data\" "
   ]
  },
  {
   "cell_type": "markdown",
   "metadata": {},
   "source": [
    "## Bag-of-words"
   ]
  },
  {
   "cell_type": "markdown",
   "metadata": {},
   "source": [
    "* each document is represented by a map where the words are keys and the values are the number of occurrences.\n",
    "* use pandas data frame to create graphlab sframe\n",
    "* save sframe \n",
    "* transform sframe to bag-of-words (bow) model"
   ]
  },
  {
   "cell_type": "code",
   "execution_count": 13,
   "metadata": {
    "collapsed": false
   },
   "outputs": [],
   "source": [
    "sf = gl.SFrame(data=speech_df)\n",
    "sf.save(\"%s/indonesian_speeches.sframe\" % BASE_DIR)"
   ]
  },
  {
   "cell_type": "code",
   "execution_count": 14,
   "metadata": {
    "collapsed": false
   },
   "outputs": [
    {
     "data": {
      "text/plain": [
       "dtype: dict\n",
       "Rows: 3\n",
       "[{'united,': 2, 'dynamic': 1, 'protest': 1, 'sleep': 1, 'asian': 10, 'assembled': 2, 'whose': 3, 'skill?': 1, 'common.': 1, 'superficially': 1, 'neighbours': 1, 'under': 4, 'pride': 1, 'applied': 1, 'rescue': 1, 'oceans': 2, 'bhinneka': 1, 'colonialism?': 1, 'colonialism\"': 1, 'affairs.': 1, 'affairs,': 1, 'asia,': 1, 'today.': 2, 'today,': 1, 'colonialism.': 2, 'vast': 1, 'pooled': 1, 'dangerously.in': 1, 'skills': 1, 'problems,': 3, 'ocean,': 1, 'unifying': 1, 'force': 2, 'leaders': 5, 'me,': 1, 'second': 1, \"others'\": 1, 'others,': 1, 'others.': 1, 'even': 10, 'peace.if': 1, 'deliberate': 1, 'decisions': 1, 'asia': 21, 'characters,': 1, 'toll': 1, 'new': 12, 'seeks': 2, 'told': 1, 'beliefs,': 3, 'men': 4, 'here': 11, 'met': 1, 'china': 1, 'represented': 2, 'Çri': 1, 'worse,': 1, 'be.as': 1, 'military': 1, 'settled': 2, 'divide': 1, 'feelings': 1, 'brought': 1, 'war,': 1, 'moral': 3, 'guests': 2, 'sympathise': 1, 'spoke': 1, 'would': 6, 'nation.so,': 1, 'seventy': 1, 'statesmanship': 1, 'call': 1, 'strike': 1, 'used,': 1, 'until': 1, 'breathe': 1, 'successful': 3, 'brings': 1, 'skill,': 1, 'success!yes,': 1, 'warm': 1, 'hold': 1, 'circumstances': 1, 'locked': 1, 'society,': 1, 'rights': 3, 'imperialism': 1, 'my': 10, 'monarchism,': 1, 'give': 10, 'preserving': 1, 'india': 1, 'end': 3, 'knows': 1, 'turn': 1, 'life-line,': 1, 'travel': 1, 'how': 6, 'harmony,': 1, 'colonies,': 1, 'answer': 2, 'wisdom.i': 1, \"desmoulin's\": 1, 'minority': 1, 'away.': 1, 'weapons\"': 1, 'sikhism,': 1, 'president': 1, 'splendid': 1, 'appreciate': 1, 'ultimate': 1, 'every': 5, 'birthplaces': 2, 'tribulations': 2, 'bombers.what': 1, 'over': 4, 'encounter': 1, '\"life-line': 1, 'concepts,': 1, 'before': 4, 'injustice': 1, 'lifeline': 1, 'speaking,': 1, 'colonialism,': 1, 'eventually': 1, 'troops.instead': 1, 'history,': 1, 'history.': 2, 'effects': 1, 'they': 15, 'indulge': 1, 'one': 13, 'units,': 1, 'secured.': 1, 'several': 1, 'indivisible.': 1, 'backgrounds': 1, 'religions,': 1, 'expectation.': 1, 'victory': 1, 'each': 14, 'went': 1, 'side': 2, 'mean': 3, 'observance': 1, 'god': 4, 'particles': 1, 'detestation': 2, 'independence': 10, 'threatened': 1, 'given': 3, 'free': 4, 'principle,': 1, 'struggle': 6, 'enormous': 1, 'mankind,': 1, 'tolerant': 2, 'creeds.': 1, 'oppose': 3, \"today's\": 1, 'already': 2, 'too.': 1, 'primary': 1, 'fears,': 1, 'another': 1, 'power.': 1, 'lest,': 1, 'nation.': 1, 'aconference': 1, 'too': 1, 'mankind!': 1, 'bitter': 2, 'easy.': 1, 'wisdom': 1, 'showed': 1, 'gibraltar,': 1, 'nations': 15, 'project': 1, 'matter': 2, 'to,': 1, 'spears.': 1, 'modern': 1, 'mind': 2, 'ultimatum,': 1, 'seen': 4, 'participants,': 1, 'seek': 2, 'affairs': 3, 'strength': 6, 'do,': 1, 'world.no': 1, '-': 29, 'asians?': 1, 'do?': 2, 'forces': 4, 'hardest.': 1, 'indo-aryan': 1, 'content,': 1, 'thing,': 1, 'shall': 3, 'letter': 1, 'morality': 2, 'mobilised': 1, 'knows.': 1, 'door,': 1, 'principle': 5, 'terms,': 1, 'strong,': 1, 'came': 2, 'saying': 1, 'meetings': 1, 'ending': 1, 'religions': 4, 'cannot,': 2, 'solutions': 2, 'earth': 1, 'consciousness': 1, 'spite': 2, 'guidance': 1, \"indonesia's\": 1, 'do': 10, 'asians': 1, 'etc.': 1, 'religion.': 1, 'listened.': 2, 'religion,': 1, 'distant.religion': 1, 'countries': 11, 'public': 1, 'reawakening': 1, 'bad': 1, 'release': 1, 'them,': 1, 'ethical': 2, 'brothers,': 6, 'swept': 2, 'depends': 1, 'full': 3, 'result': 3, 'discussions': 1, 'best': 1, 'subject': 1, 'cooperation': 1, '?the': 1, 'misguided': 1, 'ethics.': 1, 'preserve': 1, 'we': 71, 'never': 2, 'nature': 1, 'however': 2, 'drew': 1, 'conflagration': 1, 'defiance': 1, '\"conventional': 1, 'motto': 2, 'distant.': 1, 'faced': 1, 'protect': 1, 'country': 5, 'countries,': 1, 'against': 6, 'propagate.': 1, 'confronted': 1, 'asked': 1, 'nay,': 1, 'diversity,': 1, 'skill': 3, 'dreams!we': 1, 'connection': 1, 'diversity\"': 1, 'speak': 4, 'conference': 22, 'debased,': 1, 'basis': 1, 'appears.': 1, 'appears,': 1, 'been': 21, 'grenades,': 1, 'recognised': 1, 'interest': 1, 'privilege': 1, 'warmth': 1, 'duties': 2, 'life': 5, 'born!our': 1, 'ruthlessness.': 1, 'confidence.': 1, 'deliberations': 1, 'evermore.yes,': 1, 'east': 2, 'doorstep,': 1, 'air': 1, 'voice': 3, 'japan.': 1, 'leaves': 1, 'seven': 1, 'is': 85, 'it': 55, 'straits': 1, 'in': 95, 'march': 1, 'dead\".': 1, 'if': 6, 'independence,': 5, 'deliberations,': 1, 'things': 4, 'make': 5, 'colonies': 1, 'passed,': 1, 'independent': 2, 'evil': 2, 'hand': 1, 'marched': 1, 'faiths': 2, 'thoughts': 2, 'degradation,': 1, 'greatest': 1, 'dominating': 1, 'the': 297, '\"colonialism': 1, '\"sturm': 1, 'just': 2, 'true': 2, 'human': 4, 'yet': 8, 'previous': 1, 'had': 5, 'passive': 1, 'spread': 2, 'perverted.': 1, 'has': 25, 'humanity': 1, 'gave': 1, 'ago,': 2, 'ago.': 1, 'fact,': 1, 'survival': 1, 'possible': 3, 'cultural': 2, 'god,': 2, 'causes,': 2, 'states,': 1, 'country.': 1, 'country,': 1, 'steps': 1, 'people': 5, 'born': 1, 'insistence': 1, 'dear': 1, 'meaning.': 1, 'pancha': 1, 'denies': 1, 'gasps': 1, 'for': 43, '/': 6, 'everything': 1, 'denied': 1, 'subordination': 1, 'asia-africa': 1, 'losing': 1, 'memorable': 1, 'conclusion.': 1, 'ensure': 2, 'considerations': 1, 'raised': 1, 'presence': 1, 'intellectual': 3, 'lies': 1, 'doctrine': 1, 'central-sumatrans,': 1, 'support': 2, 'sovereign': 2, 'fight': 2, 'jainism,': 1, 'fought': 1, 'way': 3, 'was': 20, 'war': 5, 'happy': 1, 'form': 3, 'racialism.': 1, 'so,': 1, 'ah,': 1, 'failure': 1, 'consideration.': 1, 'hall,': 1, 'invincible': 1, 'economic': 4, 'faiths.': 1, 'faiths,': 1, 'examples': 1, 'originating': 1, 'solong': 1, 'proved': 1, 'classic': 2, 'evidence': 2, 'excellencies,ladies': 1, 'meeting\".': 1, 'physical': 2, 'afternoon-tea': 1, 'no': 17, 'minds,': 1, 'generally': 1, 'republic': 1, 'interference,': 1, 'brothers': 1, 'welcome': 4, 'stick.': 1, 'understands,': 1, 'younger': 1, 'longer': 2, 'motives.how': 1, 'together': 5, 'time': 1, 'chain': 1, 'diplomacy': 1, 'skin': 1, 'battle': 3, 'soothed': 1, 'certainly': 1, '1949': 1, 'depend': 1, 'christianity,': 1, 'finally': 1, 'bombs,': 2, 'marks': 1, 'must': 7, 'advantage': 1, 'worthwhile,': 1, 'responsibility,': 1, 'individuality,': 1, 'mobilise': 2, 'word': 1, 'presented': 1, 'mark,': 1, 'determination,': 1, 'sila.': 1, 'spiritual': 2, 'regret': 1, 'obsolete': 1, 'favour': 1, 'enhanced.that,': 1, 'international': 1, 'beleaguered,': 1, 'filled': 2, 'drink,': 1, 'supporting': 1, 'capitalism,': 1, 'honour': 3, 'understanding': 7, 'water': 1, 'twentieth': 1, 'groups': 1, 'along': 1, 'appears': 1, 'change': 1, 'thirty': 1, 'reborn,': 1, 'marhaenism,': 1, 'bomb,': 1, 'usually': 1, '1,400,000,000': 1, 'unregarded,': 1, 'troops': 1, 'sake': 1, 'abroad': 1, 'territories': 1, 'live': 3, \"asia's\": 1, 'chasms': 1, 'club': 1, 'gentlemen,': 1, 'moral,': 1, 'behalf': 2, 'and,': 2, 'hope': 7, 'stature': 2, 'making': 1, 'imitation': 1, 'heart': 1, 'december': 1, 'malayans,': 1, 'allowed': 2, 'hydrogen': 1, 'africa;': 1, 'etches': 1, 'secured': 1, \"journey's\": 1, 'innumerable': 1, 'future,': 1, 'africa,': 3, 'future.': 1, 'reluctantly,': 1, 'über': 1, 'professing': 1, 'may': 12, 'matter.but': 1, 'eighty': 2, 'mankind': 5, 'such': 6, 'man': 11, 'different.': 3, 'different,': 1, 'whenever': 1, 'maybe': 1, 'futures': 1, 'darkened': 1, 'so': 14, 'african': 6, 'controlling.': 1, 'exclusive': 1, 'no.': 1, 'indeed': 2, 'midnight': 2, 'no!': 1, 'years': 7, 'stability': 1, 'argued': 1, 'still': 4, 'clash,': 1, 'thank': 1, 'torn': 1, 'dead.': 1, 'dead,': 1, 'won,': 1, 'main': 1, 'battlefield.': 1, 'horror.not': 1, 'newly-recovered': 1, 'nation': 3, 'records': 1, 'corroded': 1, 'half': 3, 'not': 44, 'now': 3, 'hall': 4, 'nor': 5, 'madurese,': 1, 'realise': 2, 'revere': 1, 'motherland': 1, 'paramount,': 1, 'morality.perhaps': 1, 'uninhibited': 1, 'therefore,': 1, 'year': 1, 'small.': 1, 'physical,': 1, 'living': 1, 'shown': 1, 'yes,': 4, 'profit': 1, 'increase': 1, 'dead.so,': 1, 'multiformity': 1, 'million': 1, 'quite': 1, 'unfriendly': 1, 'evermore,': 1, 'inevitable': 1, 'evermore.': 1, 'care': 1, 'colonialism.and': 1, 'dangerof': 1, 'british': 1, 'thing': 2, 'place': 3, 'massive': 1, 'invitation': 1, 'unborn': 2, 'think': 5, 'first': 6, 'besieged': 1, 'but,': 1, 'long': 9, '\"live': 4, 'message': 2, 'discharged': 1, 'disinterested': 5, 'little': 8, 'seas': 1, 'speaking': 1, 'much!': 1, 'eyes': 1, 'that': 83, 'spoke,': 1, 'behoves': 1, 'released': 1, 'freedomis': 1, 'them.indeed,': 1, 'than': 10, 'population': 1, 'exacted': 1, 'future': 2, 'were': 20, 'and': 202, 'sad': 1, \"humanity's\": 1, 'say': 6, 'distorted': 1, 'any': 4, 'general': 1, 'terrific': 1, 'take': 4, 'responsibility': 1, 'sure': 1, 'probed': 1, 'price': 1, 'knew': 1, 'statement:': 1, 'rehearsal': 1, 'mediterranean,': 1, 'picture': 2, 'strength,': 1, 'proud': 2, 'axe': 1, 'not,': 1, 'dispersed': 1, 'cooperation.': 1, 'fifty': 1, 'discovered': 1, 'weapons': 1, 'countryside,': 1, 'behind': 1, 'liberation': 2, 'only': 9, 'going': 1, 'life-blood': 1, 'get': 1, 'cannon': 1, 'truly': 1, 'unimportant': 1, 'cannot': 6, 'central-javanese,': 1, 'prime': 4, 'miles': 2, 'where': 1, 'physically': 1, 'eighteenth': 1, 'threats.': 1, 'job.': 1, 'concern': 2, 'unfree.': 2, 'unfree,': 1, 'ways': 2, 'representatives': 3, 'colours': 1, '3': 1, 'between': 1, 'mission,': 1, 'across': 1, 'sea,': 1, 'come': 3, 'ago.however': 1, 'many': 15, 'easy\".i': 1, 'comes': 1, 'duty': 1, 'among': 2, 'period': 1, 'dress,': 1, 'peoples,': 1, 'peoples.': 2, 'then?': 2, 'thousand': 1, 'formed': 1, 'moreover,': 1, 'spirit': 1, 'those': 5, 'sound': 1, 'myself': 1, 'life?': 1, 'ideals,': 1, 'danger.': 1, 'approachof': 1, 'life.': 1, 'toradjas,': 1, 'people\".perhaps': 1, 'then': 7, 'engaged': 1, 'condition.yes,': 1, 'different': 4, 'revolutions': 1, 'develop': 1, 'pay': 1, 'seeking': 1, 'same': 4, 'followers': 2, 'liberalism': 1, 'extended': 2, 'drives': 1, 'driven': 2, 'conference,': 3, 'conference.': 1, 'mortgaged': 1, 'stunted': 1, 'lit,': 1, 'without': 5, 'very': 4, 'convened': 1, 'bodies': 1, 'manifold': 1, 'being': 4, 'when': 8, 'guided': 4, 'actions': 1, 'fruitful,': 1, 'potentiality': 1, 'speed': 1, 'death': 2, 'either,': 1, 'bloc': 1, '4': 1, 'role': 1, 'possible;': 1, 'omnipotence': 1, 'peace?not': 1, 'delhi': 1, 'world.failure': 1, 'action.': 1, 'world': 17, 'dare': 1, 'confine': 1, 'collective': 1, 'nationalawakening': 1, 'lightning': 1, 'benefit': 1, 'always': 2, 'fulfil': 1, 'opened,': 1, 'burdens': 1, 'wrote:a': 1, 'religions.': 1, 'envoys': 1, 'toleranceand': 1, 'racial': 1, 'destroy.': 1, 'peace,': 2, 'peace.': 6, 'theirs,': 1, 'slight.': 1, 'inject': 1, 'think,': 1, 'scientific': 2, 'power': 3, 'passer\"': 1, 'five,': 1, 'colombo,': 1, 'on': 24, 'of': 269, 'violence': 1, 'discussed': 1, 'free.': 1, 'free,': 3, 'or': 10, 'road': 1, 'continent.': 1, 'your': 12, 'dawned': 1, 'there': 15, 'desert': 1, 'you,': 3, 'continents': 5, 'tranquility': 1, 'amongst': 1, 'dynamism.': 1, 'hurricanes': 1, 'land,': 1, 'practically': 1, 'sadness': 1, 'morality?': 1, 'bataks,': 1, 'burdens.sisters': 1, 'majority.and': 1, 'stock.': 1, 'am': 7, 'deep': 1, 'fellow': 1, 'as': 14, 'at': 9, 'occupied,': 1, 'again': 5, 'intercontinental': 1, 'neighbouring': 1, '5': 1, 'you': 12, 'everywhere,': 1, 'poor': 1, 'blessing': 2, 'rifles,': 1, 'sacrifices.': 1, 'much': 3, 'important': 2, 'itself,': 1, 'itself.': 2, 'building': 1, 'colonialism': 8, 'solidarity.indeed,': 1, 'bounty.': 1, 'all': 30, 'grind.': 1, 'welfare': 1, 'settlement': 1, 'religious': 2, 'children': 2, 'content': 3, 'zoroasthrianism,': 1, 'to': 103, 'arabs,': 1, 'far': 5, 'horror': 1, 'coloured': 1, 'blockade': 1, 'sun,': 1, 'broken!': 1, 'large': 2, 'these': 9, 'peopleswho': 1, 'sought.': 1, 'small': 3, 'longfellow': 1, 'past': 2, 'answer,': 1, 'peoplescould': 1, 'ourselves,': 1, 'what': 14, 'sun': 1, 'anniversary': 1, 'him.': 1, 'learned': 6, 'common.relatively': 1, 'falsify': 1, 'contrast': 1, 'power-politics': 1, 'christian': 1, 'loose': 1, 'when,': 1, 'situation': 2, 'life,': 2, 'islam,': 1, 'ahead': 1, 'experience': 2, 'emotion.': 1, 'disruption,': 1, 'social': 1, 'action': 1, 'suddenly': 1, 'responded?i': 1, 'africa': 13, 'backed': 1, '\"have': 1, 'contains': 1, 'wield': 1, 'two': 2, 'compensate': 1, '6': 1, 'more': 12, 'globe.': 1, 'controlling': 1, 'particular': 1, 'known': 1, 'recall': 3, 'abroad:': 1, 'forbearance': 1, 'history': 5, 'lives': 1, 'suggestions': 1, 'accept': 1, 'days': 2, 'states': 2, 'hand-in-hand': 1, 'attain': 1, 'firmly': 1, '!': 1, 'upbuilding': 1, 'rather': 1, 'anti-colonial': 2, 'comfort': 3, 'eat,': 1, 'civilisation': 1, 'ideologies.': 1, 'state.': 1, 'ethics': 1, 'responsibility.': 1, 'bloom': 1, 'a': 70, 'shortcomings': 1, 'bogor': 1, 'influence.': 1, 'departure': 1, 'negligible': 1, 'skilful': 1, 'privileges': 1, 'held': 2, 'through': 4, 'committed': 1, 'existence': 1, 'suffer': 1, 'its': 20, 'roots': 1, 'islam': 1, 'pray': 3, 'already.': 1, 'course,': 1, 'discussion,ways': 1, 'occasion.': 1, 'reached.': 1, 'it,': 3, 'good': 1, 'little.': 1, 'spiritual,': 1, 'food': 1, 'it?': 1, 'walls': 1, 'imperil': 1, 'great.': 1, 'guises.': 1, 'imprisoned': 1, 'system.': 1, 'fully': 1, 'truths': 1, 'burdens,': 1, 'did': 1, 'found': 2, 'heavy': 3, 'harm': 1, 'england': 1, 'hard': 1, 'house.': 1, 'idea': 1, 'united.as': 1, 'really': 1, 'since': 2, 'acting': 1, 'safety': 3, '7': 1, 'only,but': 1, 'humiliation.': 1, 'socialism,': 1, '!god': 1, 'reason': 1, 'communism,': 1, 'beginning': 1, 'thrown': 1, 'american': 1, 'threat': 2, 'black.': 1, 'sacrifice': 1, 'sundanese,': 1, 'feel': 2, 'done': 1, 'changing': 2, 'imperialism\".': 1, 'remember,': 2, 'jet': 1, '180': 1, 'roots.': 1, 'hundred': 3, 'other.': 1, 'immediate': 2, 'appreciation': 2, 'part': 10, 'impersonal': 1, 'aims': 2, 'dogs': 1, 'determined': 1, 'wastage': 1, 'declare': 1, 'exert': 1, 'experience,': 1, 'awoken': 1, 'tanks,': 1, 'lie': 1, 'also': 4, 'labour': 1, 'finding': 1, 'play': 1, 'towards': 1, 'most': 2, 'instance,': 1, 'indo-china.i': 1, 'variants.': 1, 'revolution,': 1, 'clear': 3, 'spreading.': 1, 'forerunner': 1, 'them.in': 1, 'realised': 1, 'particularly': 1, 'demanded,': 1, 'tunggal': 1, 'nations,': 3, 'nations.': 1, 'unhappy': 1, '8': 7, 'large,': 1, 'centuries.': 1, 'his': 8, 'asien'\"': 1, 'capital': 1, 'famous': 1, 'courage': 3, 'certain,': 1, 'during': 1, 'necessity.today': 1, 'cry': 1, 'freedom.': 1, 'freedom,': 1, 'sacrifices': 1, 'common': 9, 'activity': 1, 'distant': 2, 'earth.i': 1, 'achieved': 2, 'individual': 2, 'are': 49, 'sea': 2, 'outward': 1, 'smallest': 1, 'years.': 1, \"other's\": 1, 'recently': 2, 'chamber,': 1, 'attention': 1, 'achieve.': 1, 'ika': 1, 'succeed': 1, 'politics.': 1, 'thatbattle?': 1, 'both': 2, 'last': 2, 'lightly,': 1, 'secrets': 1, 'foreign': 4, 'theocracy,': 1, 'proclamation': 1, 'poverty': 3, 'sons:': 1, 'scored.': 1, 'whole': 1, 'varietyof': 1, 'live\"': 3, 'knew.': 1, 'point': 1, 'sweet': 1, 'community': 1, '21/09/2015': 6, 'political': 7, 'whom': 1, 'territory': 1, 'meeting': 3, 'nations!bismillah': 1, 'erected.': 1, 'lived': 1, 'flints': 1, 'success!': 2, 'else': 1, 'whatever': 4, 'understand': 3, 'representative': 1, 'playthings': 1, 'plants': 1, 'look': 2, 'blockaded,': 1, 'loot': 1, 'century': 1, 'itself': 1, 'serried': 1, 'asia-africa.': 1, 'away,': 1, 'came,': 1, 'peoples': 20, 'conflict': 2, 'development': 1, 'faire,': 1, 'here,': 2, 'mankind.': 1, 'moment': 3, 'purpose': 2, 'necessity': 1, 'brussels': 1, 'lash.': 1, 'changed,': 1, 'task': 2, 'people,': 2, 'brothers.it': 1, 'analysis': 1, '\"unity': 1, 'indonesia,': 3, 'indonesia.': 1, 'indo-china.look,': 1, 'lives?': 1, 'questions': 2, 'lives,': 1, 'matter?': 1, 'unto': 1, 'profitable': 1, 'thoughtlessly,': 1, 'source': 1, 'parents': 1, 'questioned': 1, 'longer.': 1, 'indonesian': 1, 'victims': 1, 'big': 1, 'bid': 2, 'we!': 1, 'matters': 2, 'distance.': 1, 'distance,': 1, 'world.yes,': 2, 'knock': 1, 'together.sisters': 1, 'pillar': 1, 'bamboo': 1, 'often': 2, 'cannon,': 1, 'some': 9, 'back': 1, '\"laissez': 1, 'urgent': 1, 'added': 1, '\"we': 1, 'curious': 1, 'ourselves': 1, 'irresistible': 1, 'religion': 4, 'bloc.': 1, 'be': 38, 'run': 1, 'continuing': 1, 'independence.indeed,': 1, 'obscured': 1, 'by': 33, 'faith': 1, 'yawn': 1, 'imperialism,': 1, 'democracy,': 1, 'voices,': 1, 'hinduism,': 1, 'into': 5, 'within': 3, 'laissez': 1, 'peoples.however,': 1, 'realisation': 1, 'question': 1, 'amidst': 1, 'heritage': 1, 'forward': 1, 'desires.all': 1, 'reassurance': 1, 'hopes': 1, 'line': 1, 'themselves': 1, 'darkness,': 1, 'alive.we': 1, 'whoare': 1, 'goodwill': 1, 'up': 3, 'us': 24, 'today': 11, 'similar': 1, 'called': 4, 'conditions,': 1, 'diplomacy,': 1, 'cost.today,': 1, 'problem.': 1, 'consulted': 1, 'warning': 1, 'peace': 5, 'spokesmen': 1, 'themselves.': 1, 'nay': 1, 'problems': 1, 'prepared': 1, 'meaning': 2, 'sides': 1, 'ago': 5, 'reasoned': 1, 'fear.': 3, 'fear,': 2, 'fresh': 2, 'independent.': 1, 'once': 4, 'code': 2, 'issued': 1, 'eradicated': 1, 'alien': 2, 'go': 2, 'considerations.you': 1, 'seemed': 1, 'wehave': 1, 'more,': 2, 'artery': 1, 'more.': 1, 'help.': 1, 'this': 34, 'us,': 4, 'canal,': 1, 'other,': 4, 'desire?': 1, 'confer.i': 1, 'acid': 1, 'frontiers.': 1, 'that,': 3, 'that.': 1, 'giving': 1, \"man's\": 2, 'indian': 1, 'independence.': 2, 'large.': 1, 'can': 23, 'body': 1, 'desires': 1, 'gathered': 6, 'jointly': 1, 'unfree.and,': 1, 'let': 15, 'others': 5, 'consideration': 1, 'globe.it': 1, 'great': 12, 'technical': 2, 'survey': 3, 'opinion': 1, 'doesits': 1, 'danger': 2, '\"underdeveloped\"': 1, 'tools': 1, 'cloud': 1, 'standing': 1, 'from': 16, 'remains': 1, 'ministers': 4, 'few': 2, 'doubt': 1, 'bonds': 4, 'forefathers': 1, 'historically': 1, 'hard.': 1, 'impress': 2, 'carrying': 1, 'gladly': 1, '\"to': 1, 'high': 1, '1945,': 1, 'us.': 5, 'ride': 1, 'confer.already': 1, 'island': 1, 'meet': 3, 'rehabilitation': 1, 'control': 4, 'seem.as': 1, 'process': 1, 'rode': 1, 'escaped': 1, 'something': 2, 'united': 5, 'destroying': 1, 'africans': 1, 'achenese,': 1, 'regions': 1, 'responsibilities': 3, 'way,in': 1, 'hosts.': 1, 'stock': 1, 'act': 4, 'tortured,': 1, 'moslims,': 1, 'ethnic': 1, 'ties': 1, 'solidarity': 2, 'gone,': 1, 'light': 5, 'struggle.': 2, 'struggle,': 1, 'divided': 2, 'course.what': 1, 'six': 1, 'existence.': 1, 'mentioned': 1, 'contaminated': 1, 'civa-buddhists,': 1, 'voiceless': 1, 'exiled,': 1, 'restrain': 1, 'world.': 6, 'world,': 4, 'delhi,': 1, 'prosper': 1, 'd'être\",': 1, 'greater': 3, 'practice': 1, 'runs': 1, 'flew': 1, 'invitations': 1, 'stabilise': 1, 'day': 2, 'masters': 1, 'truth': 1, 'shaking': 1, 'experienced': 1, 'doing': 3, 'society': 1, 'terrifically': 1, 'decided,': 1, 'our': 66, 'special': 2, 'out': 4, 'radiance.but': 1, 'colonialism.nor': 1, 'shintoism,': 1, 'men.': 1, 'wholly': 1, '\"league': 1, 'motifs': 1, 'cause': 1, 'time!': 1, 'red': 1, \"one's\": 1, 'delegates': 3, 'completely': 3, 'likelihood': 1, 'things,': 2, 'could': 3, 'diminished': 1, 'keep': 1, 'foolishly,': 1, 'south': 1, 'complete.': 1, 'succeeds': 2, 'echo': 3, 'activity.': 1, 'have,': 1, 'be,': 1, 'bears': 1, 'unknown': 1, 'conventional,': 1, 'relations': 1, 'identity;': 1, 'their': 24, 'final': 1, 'paved': 1, 'interests': 2, 'gathering,': 1, 'hardwon': 1, 'majority,': 1, 'manifestation': 1, 'remember': 3, 'isolation': 1, 'beg': 3, 'threatened.issues': 1, 'distinguished': 2, 'safeguarded': 1, 'wherever,': 1, 'buddhism,': 1, 'poisons': 1, 'have': 47, 'need': 2, 'confucianism,': 1, 'indomitable,': 1, 'able': 1, 'asian-african': 7, 'which': 39, 'unless': 5, 'other.if': 1, 'who': 4, 'basis.': 1, 'why': 2, 'so-called': 1, 'statesmen,': 2, 'concern,': 1, 'concern.': 1, 'face': 1, 'looked': 1, 'april,': 1, 'occasion': 1, 'fact': 3, 'chances': 1, 'one,': 2, 'purely': 1, 'planning': 1, 'well-being': 3, 'fear': 7, 'darkest': 1, 'true,': 1, 'based': 1, 'sparks': 1, 'with': 16, 'should': 2, 'unsuccessful,': 1, 'won': 2, 'attained': 2, 'thousands': 2, 'balinese,': 1, 'natural!': 1, 'means': 2, 'patterns.': 2, 'unchained': 1, 'bear': 3, 'ones': 1, 'words': 2, 'christians,': 1, 'suez': 1, 'areas': 1, 'itself.if': 1, 'approach': 1, 'houses.': 1, 'control,': 2, 'generations': 2, 'deceived': 1, 'exists': 1, 'national': 5, 'end.': 1, 'rather,': 1, 'state': 2, '\"raison': 1, 'progress': 1, 'generations.': 2, 'opening': 1, 'importance': 1, 'unity.': 1, 'ideas,': 2, 'precious': 1, 'spirit.i': 1, 'freely': 1, 'invited': 1, 'assure': 1, 'grain': 1, 'precedent!': 1, 'glorious': 1, 'diplomats': 1, 'walk': 1, 'together,': 3, 'done,': 1, 'choice,': 1, 'immense': 2, 'poet': 1, 'diversity': 4, 'neighbour': 1, 'an': 12, 'present': 1, 'welcoming': 1, 'decades': 1, 'will': 25, 'fault': 1, 'almost': 4, 'countries.': 2, 'earth.the': 1, 'perhaps': 4, 'began': 1, 'buddhist': 1, 'intellectually.it': 1, 'these.': 1, 'unity': 4, 'parts': 7, 'outbreak': 1, 'material': 4, 'confrontedwith': 1, 'unconventional': 1, 'upon': 6, 'effect': 1, 'sisters': 5, 'frequently': 1, 'scourges': 1, 'lanka,': 1, '1954': 1, 'i': 39, 'host.but': 1, 'colour': 1, 'indonesia': 5, 'well': 1, 'fighting': 3, 'command': 1, 'combinations.but': 1, 'enemy,': 1, 'less': 1, 'only-': 1, '1954.': 1, 'paul': 1, 'liberty.': 1, 'consume': 1, 'solidarity,': 1, 'independence.but': 1, 'host.': 1, 'discuss': 1, 'onwards': 1, 'skins,': 1, 'developments': 1, 'practise': 1, 'resolved': 1, 'government': 2, 'historic': 2, 'five': 6, 'know': 5, 'burden': 1, 'press': 2, 'better.this': 1, 'mental,': 1, 'issues,': 1, 'necessary': 2, 'like': 1, 'success': 2, 'we,': 2, 'hosts': 1, 'become': 1, 'circumstances.let': 1, 'because': 4, 'neighbours.': 1, 'ideals': 2, 'enlightened,': 1, 'past,': 1, 'avoid': 1, 'does': 2, 'sponsoring': 2, 'brotherhood.': 1, 'easily.': 1, 'about': 4, 'actual': 1, 'extension': 1, 'freedom': 1, 'mine.': 1, 'diabolical': 1, 'happen.': 1, 'outstripped': 1, 'happen,': 1, 'own': 16, 'recognise': 1, 'interdependence': 1, 'live\",': 1, 'problems.for': 1, 'biggest': 1, 'humanity.and': 1, 'but': 17, 'plague': 1, 'highest': 4, 'he': 8, 'made': 7, 'places': 2, 'wish': 1, 'variations': 1, 'pumped': 1, 'demonstrate': 1, '-how': 1, 'continents.': 3, 'contribute': 1, 'undying,': 1, 'diplomat': 1, 'variety': 2, 'other': 18, 'again.': 1, 'again,': 1, 'stay': 1, 'inspiration': 1, 'enormouschanges.': 1, 'bulwark': 1, 'ranks': 1, 'determination': 1, 'friendly,': 1, 'confess': 1}, {'wasplayed': 1, 'ofall': 1, 'unfurl': 6, 'shallgive': 1, 'up,': 4, 'colonisation,': 1, 'colonisation.': 1, \"mook's\": 1, 'under': 11, 'theindonesian': 5, 'now,that': 1, 'every': 1, 'asia,': 1, 'today,': 2, 'strangleholdof': 1, 'merauke,': 1, 'completed.of': 1, 'therepresentatives': 1, 'politicalparties,': 1, 'enjoy': 1, 'resolution.in': 1, 'leaders': 3, 'miseries,although': 1, 'me,': 1, 'me.': 1, 'whichthose': 1, 'second': 3, 'pledgesince': 1, 'others.': 1, 'air': 1, 'even': 6, 'colonialism': 1, 'religious': 1, 'dr.': 3, 'new': 4, 'officially': 1, 'admiral': 1, 'told': 2, 'sukarno': 4, '\"at': 1, 'here': 5, 'hundreds': 5, 'met': 1, 'active': 1, 'police.': 1, 'dressthemselves': 1, 'military': 9, 'settled': 1, 'deceived,': 2, 'ofour': 1, 'brought': 1, 'total': 2, 'would': 8, 'army': 1, 'old.yes,': 1, 'republic.these': 1, 'receivedmy': 1, 'call': 2, 'therefore': 1, '?even': 1, 'right,': 1, 'until': 2, 'hereby': 2, 'hold': 2, 'must': 2, 'me': 5, 'pursue': 2, 'yearsago': 1, 'sukarno,who': 1, 'worm': 1, 'my': 11, 'revolution/commander': 1, 'underthe': 1, 'involve': 1, 'want': 5, 'youth;': 1, 'end': 1, 'far': 1, 'youth,': 1, 'mataram.': 1, 'after': 1, 'realrepresentatives': 1, 'demanding': 1, 'thankyou': 1, 'wrong': 1, 'president': 2, 'time.today': 1, 'guerilla': 3, 'attempt': 1, 'event,then': 1, 'enter': 2, 'order': 6, 'executed': 1, 'decolonisationmeans': 1, 'jogjakarta': 3, 'rostrum,': 1, 'over': 11, 'tri-command:1.': 1, 'mightiness': 1, 'indonesianpeople': 1, 'before': 4, 'sovereigntyby': 1, 'fix': 1, 'jasmine.': 1, 'strove,': 1, 'nice-soundingspeeches': 1, 'imperialistsdo': 1, 'then': 5, 'them': 6, 'bypresident': 1, 'carefully,': 1, 'they': 35, 'one': 5, 'netherlands': 1, 'fitting?': 1, 'arrested': 1, 'wasfrom': 1, 'went': 5, 'side': 1, 'fierceopposition': 1, '1945exploding': 1, 'no!some': 1, 'irian.(the': 1, '\"national': 1, 'thisis': 1, 'is,': 3, 'imperialists': 2, 'independence': 5, 'beenreturned': 2, 'firmlyestablished': 1, 'us[13]march': 1, 'free': 1, 'formation': 1, 'struggle': 11, 'asia,from': 1, 'so-called\"papua': 1, 'tricks.': 1, 'done?oh,': 1, 'oppose': 1, 'imperialists,they': 1, 'already': 5, 'irian!': 2, 'allrepresentatives': 1, 'too.': 1, 'irian.': 5, 'too,': 2, 'irian,': 11, 'years,although': 1, 'another': 1, 'socialiststates,': 2, 'force': 2, 'a\"state': 1, 'irian;': 1, 'nation,': 2, 'nation.': 1, 'too': 3, 'took': 2, 'positively': 2, 'dutch.in': 1, 'republic.you': 1, 'nations': 8, 'to.': 1, 'historical': 1, 'people.': 3, 'thesocialist': 2, 'subandrio,': 2, 'that?\"': 1, 'mind': 1, 'talking': 1, 'seen': 1, 'strength': 2, 'do,': 1, 'haveinstructed': 1, 'did[10]it': 1, '-': 17, 'do?': 3, 'forces': 5, 'fine-sounding': 1, 'theun,': 1, 'shall': 1, 'amove': 1, \"indonesia'snative\": 1, 'see,': 1, 'ed.)help': 1, 'nottwo,': 1, 'mobilised': 1, 'force,': 1, 'partition': 1, \"that'sonly\": 1, 'arenow': 1, 'arenot': 2, 'came': 2, 'colonisation.and': 1, 'indonesiawas': 1, 'ofone': 1, 'attempts': 1, 'proposed': 1, 'make.2.': 1, \"indonesia's\": 4, 'do': 8, 'confrontthem': 1, 'endorse': 3, 'stop': 1, '\"flag': 1, 'indonesia!': 1, 'forcesof': 3, 'lies,': 1, 'territoy': 1, '\"papua': 4, 'covering': 1, 'ever': 3, 'peopleof': 1, 'agung': 1, 'stooges': 1, 'men,': 3, 'them.': 1, 'secretary': 2, 'republic.are': 1, 'result': 5, 'term.': 1, 'best': 1, 'said': 19, '\"self-determination\":': 1, 'because,': 1, 'theears,': 1, 'un,': 8, 'un.': 2, 'we': 70, 'weare': 1, 'nation.may': 1, \"nation's\": 1, 'states.i': 1, 'received': 1, 'country': 1, 'ill': 1, 'countries,': 2, 'against': 7, 'triedto': 1, 'appeared': 1, 'conference': 2, 'unfurled': 1, 'trickery': 2, 'union': 1, 'talks[7]lasting': 1, 'been': 12, 'much': 1, 'decolonisation': 1, 'life': 1, 'attacked': 1, 'too.yes,': 1, 'speeches': 1, 'national[3]defence': 1, 'mohammad': 1, 'east': 4, 'indonesia.friends,': 1, 'sultanagung': 1, 'tried,': 3, 'carryout': 1, 'ask:': 1, 'beaccepted': 1, 'anchor': 1, 'arisen,arisen': 1, 'said:': 3, 'said;': 1, 'it': 34, 'defeated': 2, 'implemented,': 1, 'in': 120, 'said,': 4, 'said.': 1, 'if': 6, 'notsuccessful.': 1, 'perform': 1, 'make': 2, 'entireindonesian': 1, 'anthem\".what': 1, 'july,': 1, 'several': 1, 'vienna,': 1, 'independent': 1, 'peaks': 1, 'weresplit': 1, 'i,': 1, 'paris,': 1, 'rome': 2, 'greatest': 1, 'thing,': 1, 'hearts': 3, 'the': 376, 'westirian': 3, 'just': 13, 'fighters': 2, 'thanks': 3, 'human': 1, 'yes': 1, 'yet': 5, 'previous': 1, 'leaders,': 1, \"yamin's\": 1, 'luns,': 1, 'luns.': 1, 'command.[15]we,': 1, '27th': 4, 'had': 14, \"luns'\": 1, 'trampled': 1, 'has': 7, 'fact.': 1, 'fact,': 4, 'wasdiponegoro': 1, 'possible': 3, 'desire': 1, 'defeatit!': 1, 'states,': 4, 'states.': 5, 'french': 1, 'night': 1, 'states?': 1, 'dutch.friends,': 1, 'deal': 3, 'people': 38, 'irianthey': 1, 'know,': 5, 'deeper,': 3, 'wetried,': 1, 'for': 26, 'armed': 11, 'honoured': 7, 'recognisedthe': 1, 'hasannudin.i': 1, 'graduates': 2, 'havehad': 1, 'confrontation': 3, 'graduated': 1, 'atpresent': 1, 'here.the': 1, 'here.how': 1, 'o': 2, 'pleaded,': 1, 'efforts': 3, 'navy,': 1, 'finishedand': 1, 'worldthan': 1, 'cauldron': 1, 'thankful': 1, 'right': 1, 'existed': 2, 'fields.': 1, 'support': 1, 'flying': 10, 'fight': 1, 'prepared,': 1, 'why,': 5, 'way': 1, 'indonesia.those': 1, 'theydid': 1, 'what?': 1, 'java,': 1, 'so,': 2, 'lie,': 1, 'hear': 1, 'true': 2, 'thismotion': 1, 'manoeuvres.': 1, 'whyi': 1, 'dutchpromised': 1, 'prayed': 1, 'proud': 1, 'gerwani': 1, 'onhis': 1, 'die.': 1, 'trip': 1, 'no': 1, '17thaugust': 1, 'when': 8, 'reality': 1, 'setting': 3, 'intothe': 1, 'republicof': 1, 'almighty,': 1, \"let's\": 1, 'intent': 1, 'ours.': 1, 'toas': 1, '\"stateof': 1, 'workers,': 1, 'indonesiastand,': 1, 'ottawa': 1, 'wedo?': 1, 'time': 8, 'weshall': 1, 'forthe': 1, 'arrested.': 1, '21st': 3, '92': 1, '1945': 3, 'proposal.': 1, '1961.president/': 1, 'sovereignty': 2, 'wagedwas': 1, '\"tour': 1, 'attractive.': 1, 'heremust': 1, 'imperialists.i': 1, 'world.and': 2, 'did': 3, 'die': 1, 'proposals': 1, 'prepareyourselves': 1, 'round': 7, 'revolution': 2, 'says': 1, 'be': 24, 'sign': 1, 'monginsidi': 1, 'utter': 1, 'educate': 1, 'stands': 2, 'wriggle': 1, 'international': 4, 'proclaiming': 1, 'flag\",': 1, 'say:': 3, 'irian': 27, 'saying.i': 1, 'groups': 1, 'alone': 2, 'say,': 1, 'change': 2, 'indonesiaturns': 1, 'here:': 2, 'shift': 1, 'wherever': 1, 'trial': 1, 'thebeginning': 1, 'ofindonesia,': 1, 'here,': 2, 'sumatra,': 1, 'all-out': 1, 'love': 2, 'merely': 6, 'putinto': 1, 'pieterszoon': 1, 'andi': 1, 'liberation': 2, 'give': 7, 'today': 2, 'introducing': 1, 'commissioner': 1, 'three,': 1, 'selfdetermination': 1, 'and,': 1, 'tokyo': 1, 'mightyforce,': 1, 'irian!i': 1, 'wrong,': 1, 'can': 4, 'following': 1, 'heart': 1, 'downfall': 1, 'december': 5, \"didn't\": 1, 'heard': 1, 'stroke': 1, 'continuingin': 2, 'dropped': 1, 'council': 3, 'rays': 1, 'theauthority': 1, 'till': 1, 'sovereignty,': 1, 'africa,': 1, 'undertook': 1, 'tohim': 1, 'may': 2, 'merelycontinuing': 1, 'fortune,': 1, 'mankind': 1, 'succeeded': 1, 'so': 11, 'thesentiments': 1, 'no,': 3, 'no.': 3, 'indeed': 2, 'no!': 3, 'years': 5, 'policy,': 1, 'policy.': 2, 'still': 3, 'himto': 1, 'standalone.come': 1, 'police': 1, 'thank': 4, 'how': 2, 'torn': 1, 'representativesof': 1, 'policy': 6, 'wholeinternational': 1, 'wasthe': 1, 'decades': 1, 'illat': 1, 'motion,': 1, 'nation': 8, 'year,': 1, 'compelled': 1, '1950': 1, 'not': 49, 'regionsthroughout': 1, 'killed': 1, 'execute': 2, 'establishing': 1, 'politically,': 1, 'academy,standing': 1, '1948,no.': 1, 'indi,': 1, 'ofdecolonisation': 1, 'thanin': 1, 'arecarrying': 1, 'positiveand': 1, '\"indonesia': 1, 'jogjakarta,': 1, 'ultimately': 1, 'jogjakarta.': 1, 'jogjakartaregion': 1, 'briefly,': 1, 'nowthey': 1, 'struggle.last': 1, 'washington,': 1, 'emerged': 1, 'dutch': 31, 'correct': 1, 'onlyby': 1, 'earlier': 1, 'million': 2, 'fire.': 1, 'crazier': 1, 'deception': 1, 'you?\"': 1, 'thechiefs': 1, 'colonialism.and': 1, 'turn': 2, 'place': 1, 'view': 1, 'think': 3, 'first': 9, 'sukarno,': 1, 'sukarno.': 1, 'thatstate,': 1, 'but,': 1, 'authority.but,': 1, 'coming!general': 1, 'carry': 1, 'sounds': 1, 'city': 2, 'given': 2, 'caught': 1, 'imam': 2, 'white': 9, 'national': 8, 'on,': 7, 'that': 78, 'representing': 1, 'than': 3, ':': 3, '15': 1, '16': 2, '19': 1, 'was': 29, 'diplomatic': 1, 'theend': 2, 'protected': 1, 'launching': 1, 'were': 10, 'extinguish': 1, 'outcome': 3, 'morewest': 1, 'stateof': 1, 'and': 74, 'turned': 1, 'argument': 2, 'say': 5, 'rained': 3, 'any': 8, 'irian.[14]no!': 1, 'take': 1, 'destroy': 1, 'all': 25, 'knew': 1, 'knee': 1, 'hanjokrokusumo,': 1, 'alone;': 1, 'later': 1, 'alone!': 1, 'netherlandsplaced': 1, \"that's\": 1, 'alone.': 1, 'command?': 2, 'proclamation': 1, 'try,': 1, 'only': 17, 'going': 3, 'papua.': 1, 'get': 2, 'tobring': 1, 'cannot': 3, 'colonisation\".our': 1, 'is': 66, 'commandto': 1, 'bypartitioning': 1, 'friends,': 10, 'friends.': 1, 'defeatthe': 1, 'where': 2, 'beings.': 1, 'indonesianflag': 1, 'thearmy': 1, 'alreadygiven': 1, 'members,meaning': 1, 'come,': 1, 'representatives': 3, 'behind': 1, 'between': 2, 'ofmy': 1, 'theright': 1, 'august': 4, 'moscow,': 1, 'come': 8, 'doing?': 1, 'mine!and': 1, 'bebothered': 1, 'saidrepeatedly,': 1, 'moon,': 1, 'itdown': 1, 'region': 2, 'fighters,': 1, 'according': 1, 'outthe': 1, 'expression': 1, 'comes': 1, 'duty': 3, 'yearssince': 1, 'period': 1, 'land.3.': 1, 'authority.but': 1, 'firmly.': 1, 'abrogated,': 1, 'west': 50, '\"unconditional\".': 1, 'almighty': 3, 'in[5]the': 1, 'peoples,': 1, 'everyword': 1, 'wants': 1, 'direction': 1, 'imperialism.friends,': 1, 'minister': 1, 'spirit': 14, 'those': 6, 'these': 4, 'ready,': 1, 'fighters.': 1, 'indanesia': 1, 'eventually': 1, 'indonesianpeople.the': 1, 'it,': 1, 'commander': 4, 'sudden': 1, 'wentdeeper,': 2, 'commanded': 1, \"didn'twant\": 1, 'reminded': 1, 'same': 1, 'gentlemen': 1, 'batavia.': 1, 'movement,': 1, 'been:': 1, 'vis-a-vis': 2, 'havesaid': 1, 'lunsproposal.friends,': 1, 'the.territory': 1, 'papua\"!': 2, 'indonesia.as': 1, 'arose': 1, 'conference,': 3, '1948,': 1, 'papua\",': 5, 'papua\".': 1, '21stjuly,': 1, 'indonesia,the': 1, 'endto,': 1, 'without': 1, 'revolution,': 2, 'officers,': 1, 'actions': 2, 'death': 1, 'and,when': 1, 'republic': 29, 'struck': 2, 'heavier': 1, 'kingdom': 1, 'read': 1, 'action.': 1, 'youliberate': 1, 'generalmobilisation': 1, 'world': 2, \"action'\": 1, 'imperialismis': 1, 'always': 6, 'tooka': 1, 'warfare.': 1, 'verbal': 1, 'doll': 1, 'respect': 1, 'london,': 1, 'peace,': 1, 'independence,we': 2, 'confirm': 3, 'colonial': 1, 'exact,the': 1, 'power': 1, 'tjik': 1, 'on': 19, 'staff,': 1, 'oh': 2, \"sukarno's\": 1, 'of': 220, 'stand': 3, 'free,': 2, '\"self-determination\".and': 1, 'out,': 5, 'or': 3, 'thesepeople': 1, 'whole,': 1, 'godwilling,': 1, 'occasionshas': 1, 'evengreater': 1, 'your': 1, 'hanjokrokusumo': 1, 'there': 14, 'r.t.c.,': 1, 'madder': 1, 'thehonoured': 1, 'oftiandradimuka': 1, 'you.': 1, 'you,': 5, 'state,that': 1, 'them.the': 1, 'land,': 2, 'djakarta': 1, 'land.': 1, 'thepeople': 2, 'agree': 1, 'gone': 1, 'certain': 1, 'am': 18, 'an': 8, 'as': 28, 'words,': 2, 'at': 24, 'calledthe': 1, 'uponcontinuing': 1, 'again': 1, 'beencolonising': 1, 'economically.': 1, 'roses': 1, 'economically,': 1, 'you': 19, 'oh,': 4, 'move,': 2, 'decolonisation!': 1, 'is:': 1, 'students': 1, 'decolonisation.': 1, 'nederlands': 1, 'included': 1, 'building': 1, 'invest': 2, 'sounded': 1, 'calla': 1, 'god': 3, 'finally,': 1, 'resolution': 1, 'miltary': 1, 'called\"the': 1, 'mouthpieceof': 1, 'colonising.': 1, '1949,': 4, 'day,': 1, 'including': 2, 'to': 109, 'authority.and': 1, 'decision.': 1, 'ofthe': 2, 'very': 2, 'responsibility,': 1, '17th': 5, 'clearly.': 1, 'cornelis': 1, 'toexecute': 1, 'further': 1, 'lying,': 1, 'what': 22, 'defence': 2, 'him:': 1, 'represent.friends:as': 1, 'dutch,': 2, 'dutch.': 2, 'afriendly': 1, 'full': 3, 'thedutch,': 1, 'nations?the': 1, 'resolvedthat': 1, 'strong': 1, 'themselvesready': 1, 'than2,000': 1, 'thedutch': 3, 'attitude.': 1, 'and[4]white': 1, 'lied': 2, 'action': 7, 'sukarnodies.': 1, 'followed': 1, 'suddenly': 1, 'africa': 1, 'ask': 6, 'netherlands.': 1, 'establish': 1, 'two': 1, 'taken': 4, 'more': 7, 'self-determination.this': 1, 'flag': 11, 'controlling': 1, 'known': 2, 'guardour': 1, 'town': 1, 'statesince': 1, 'presidentof': 1, 'ourselvesagain.i': 1, 'ourfighters': 1, 'me!': 1, 'therepublic': 2, 'vanmook,': 1, 'accept': 1, 'archipelago': 2, 'indies.': 1, 'huge': 1, 'canfence': 1, 'talks,': 2, 'tried': 5, \"dutchdon't\": 1, 'fancy,': 1, 'state.': 1, 'state,': 6, 'pleaded': 1, 'proclaimed': 1, 'a': 58, 'short': 2, '[sic]': 1, 'act.': 2, 'listen!my': 1, 'playing': 1, 'fly.friends:as': 1, \"congress.let's\": 1, 'army,': 1, 'help': 2, \"don't\": 2, 'heartfelt': 1, 'soon': 1, 'beinternationalised.': 1, 'embassy': 1, 'through': 3, 'militarily,': 1, 'its': 1, 'militaryacademy': 1, '1961.it': 1, 'already.': 1, 'course,': 1, 'flag.and': 1, 'it.': 1, 'thenetherlands': 1, 'movement.i': 1, 'good': 1, 'whosaid:': 1, 'representatives.': 1, 'representatives,': 1, 'association': 2, 'youknow': 1, 'all.': 1, 'all,': 2, 'bless': 1, 'also,': 1, 'referred': 2, 'anthem\",': 1, 'andthat': 1, 'resolute': 1, 'momentwe': 1, 'namely,': 1, 'text-ed.)that': 1, 'since': 3, 'anthem\".': 2, 'responsible,': 1, 'reason': 1, 'thespirit': 1, 'imagine': 1, 'backed': 1, 'asi': 1, 'colonised': 1, 'beginning': 1, 'in1596,': 1, 'demands;': 1, 'people.and': 1, 'ofindonesia': 4, 'waged': 1, 'isnot': 2, 'wickedness.': 1, 'conference.': 1, 'subandrio': 4, 'together': 1, 'passed': 1, 'bowed': 1, 'first,': 3, 'bringingwest': 1, 'cemetery.': 1, 'part': 3, 'grew': 2, 'theyfly': 1, 'instruction': 2, 'youth': 3, 'states': 5, 'people.you': 1, 'irian.later.': 1, 'well': 1, 'tricks,dishonesty.and': 1, 'organisations': 1, 'wasno': 1, 'now,defeat': 1, 'accompaniedme': 1, 'lie': 1, 'again.i': 1, 'itfrom': 1, 'officers': 3, 'also': 4, 'build': 1, 'understand,': 1, 'order,': 1, 'towards': 1, 'thisbefore': 1, 'most': 2, 'republic.friends,': 1, 'nothing': 1, 'extremely': 1, 'territoryunder': 2, 'clear': 1, 'dissolved': 1, 'internationalised.': 1, 'liberate': 4, 'night.': 1, 'session': 1, 'nations,': 1, 'nations.': 3, 'bondjol.': 1, 'independencefrom': 1, 'fencingwith': 1, 'islands.that': 1, 'imperialists,': 1, 'us.it': 1, 'onwards.': 1, 'diplomats,': 1, 'his': 2, 'express': 2, 'tongues.i': 1, 'him': 2, 'common': 3, 'way.this': 1, 'set': 5, '1947.': 1, 'see': 4, 'are': 33, 'me,for': 1, 'won': 1, 'years,': 4, 'here13': 1, 'up,strengthening': 1, 'self-determinationpolicy': 1, 'compliment': 1, 'attention': 2, 'yourduties': 1, 'semaki': 1, 'betweensabang': 1, 'indonesiais': 1, 'opposition': 1, 'ever.what': 1, 'last': 2, 'sultan': 3, 'finished.': 1, 'counteroffensives.': 1, 'union,': 1, 'foreign': 2, 'became': 1, 'context': 1, 'whole': 8, 'point': 1, 'sweet': 1, 'uniforms': 1, 'simply': 1, '1950.': 1, '1950,': 1, 'ofteuku': 1, 'there,': 5, 'there.': 1, 'create': 1, 'political': 2, 'nowrespected': 1, 'territory': 12, 'meeting': 2, '\"state': 5, 'politically.they': 1, 'anindependent': 1, 'success.': 1, 'fire': 5, 'beforehand': 1, 'else': 2, 'representative': 1, 'utmost': 1, 'look': 1, 'althoughfor': 1, 'socialist': 9, 'while': 1, 'smart': 2, 'real': 1, 'unitary': 2, 'imperialist': 2, 'imperialism': 1, 'ready': 3, 'seekhaki': 1, 'torecognise': 1, 'flag!': 1, 'clear,': 1, 'flag.': 3, 'government': 2, 'attitude[9]even': 1, 'tothe': 1, 'virtually': 1, 'here.': 1, 'mook.': 1, 'ofindonesia.': 3, 'mankind.': 1, 'moment': 3, 'returnedto': 1, 'people,': 6, 'ditiro.': 1, 'fuss.': 1, 'starved': 1, 'people:': 1, '1948.and': 1, 'indonesia,': 9, 'ambassador': 1, 'indonesia.': 11, 'union.and': 1, 'indonesia?': 1, 'indonesia:': 1, 'groups.': 1, 'speeches,and': 1, 'onenational': 1, 'speedily': 1, 'papua\"!what': 1, 'weretricked,': 1, 'honouredred': 1, '...': 1, 'indonesian': 22, 'march': 2, 'vindicate': 2, 'dishonest,': 1, 'speculating,oh': 1, 'peasants,': 1, 'confront': 5, 'onward!and,': 1, 'some': 5, 'understood': 1, 'experienced': 1, 'mighty': 2, 'women,': 1, 'magelang.': 1, 'magelang,': 1, 'though': 1, 'uponus': 1, 'women.in': 1, 'therefore,dr.': 1, 'imperialism.let': 1, 'nationsmembers': 1, 'continuing': 9, 'houtman': 1, 'by': 24, 'therepublic,': 2, 'letus': 1, 'imperialism,': 2, 'imperialism.': 1, 'papua': 2, 'into': 9, 'within': 3, 'nonsense': 1, 'appropriate': 1, 'militarily': 1, 'striven': 1, 'question': 4, 'long': 1, 'occupy': 1, 'forces.': 1, 'forces,': 1, 'repeatedly': 1, 'partitioning': 1, 'up': 14, 'us': 15, '27thdecember': 1, 'un': 5, 'diponegoro': 1, \"fire's\": 1, 'called': 6, 'side.': 1, 'suropati.': 1, 'nationalist': 1, 'internationalisation,': 1, 'strangle-hold': 2, 'second,': 1, 'diplomacy,': 2, 'confrontation.confrontation': 1, 'side?': 1, 'themselves.': 2, 'suffer,': 1, 'nice': 1, 'the[8]un,': 1, 'prepared': 1, 'helping': 1, 'ago': 2, 'aboutdecolonisation,': 1, 'land': 1, 'humiliated': 1, 'djelantik.': 1, 'having': 1, 'once': 5, 'outcolonisation.': 1, 'resistance': 1, 'overthere': 1, 'ambassadors,': 1, 'go': 1, 'do?what': 1, 'graves': 1, 'young': 4, 'justdiplomats,': 1, 'pleasing': 1, 'friendly': 1, 'result?': 1, 'cemeteries': 1, 'putting': 3, 'accuse': 1, 'more,': 2, 'more.': 1, 'colonising.and,': 1, 'entire': 7, 'irianinto': 1, '1945,': 1, 'bantenbay.': 1, 'desire,': 1, 'that,': 1, 'giving': 1, 'anthem': 1, '19th': 4, 'independence.': 2, 'pleading': 1, 'independence,': 3, 'ktut': 1, 'crazier.': 1, 'peopledo': 1, 'let': 5, 'hasbeen': 1, 'great': 3, 'theircountry': 1, \"coen's\": 1, 'us:': 1, 'formerly': 1, 'defeat': 7, 'makes': 1, 'composed': 1, 'claim': 1, 'forhundreds': 1, 'onlycontinuing': 1, 'standing': 1, 'use': 1, 'from': 22, 'talks,not': 1, 'ministers': 1, 'mobilisation': 3, 'themselves': 2, 'inthe': 3, 'there.they': 1, 'ofconfrontation': 1, 'merauke': 1, 'started': 1, 'sectors,i': 1, 'carrying': 5, 'president,': 1, 'therepublic.our': 1, 'women': 1, 'isindonesia': 1, 'redand': 1, 'this': 36, 'us.': 3, '1945.': 1, 'us,': 3, 'anywhere': 1, 'dissolve': 1, 'hundredsof': 1, 'movementspread': 1, 'hadagreed': 1, 'notsucceeded': 1, 'high': 1, 'something': 1, 'theindonesia-dutch': 1, 'native': 4, 'united': 14, 'sit': 1, 'perfumeof': 1, 'establishment': 2, 'de': 2, 'imperialism.as': 1, 'act': 1, 'bothered': 2, 'chiefs': 1, 'urges': 1, 'sabang': 2, 'myinstructions.and': 1, 'struggle.': 1, 'struggle,': 2, 'move': 2, 'strongnation.': 1, \"won't\": 1, 'bymachine-gun': 1, 'nowadays,': 1, 'subversive': 1, 'foreignminister': 1, 'firmlyestablished,': 1, 'willing': 1, 'spiritentirely,': 1, 'world,': 2, 'happened,': 1, 'greater': 3, 'chaotic,': 1, 'look,': 2, 'strove,to': 1, 'emphasised': 1, 'front': 1, 'day': 1, 'kilometres': 1, 'negotiate.': 1, 'negotiate,': 1, 'accompanied': 1, '(the': 1, 'atrap.internationalisation': 1, 'cairo,': 1, 'thirteen': 1, 'ambassadors': 2, 'out': 9, 'respects': 1, 'confrontation.': 1, 'defend': 2, 'officersof': 1, 'mere': 1, 'time,': 3, 'indonesia,'irrevocable\"': 1, 'red': 10, 'completely': 2, 'york': 2, 'djokountung': 1, 'formof': 1, 'ourthanks': 1, 'indonesia?i': 1, 'could': 2, 'times': 3, 'comeswithin': 1, 'main\",': 1, 'dutchimperialism.': 1, 'speaking.': 1, 'puppet': 5, 'short,': 2, 'uniting': 1, 'their': 6, 'attack': 1, 'ownstate.': 1, 'theorder': 1, 'exactly': 1, 'bythe': 1, 'july': 2, 'wiser.': 1, 'loved': 1, 'proud.': 1, 'warfare': 2, '1947,': 3, 'said:\"here': 1, 'have': 29, 'clearly': 1, 'viewed': 1, 'skillful': 1, 'able': 1, 'chief': 3, 'battles': 1, 'which': 11, 'pursues': 2, 'centre': 1, 'who': 16, 'revolution.and': 1, 'why': 2, 'so-called': 2, 'andtoday,': 1, 'underwenta': 1, 'face': 2, 'talk': 3, 'repeatedly,': 1, 'fact': 8, 'text': 2, 'mean?': 1, 'one,': 2, 'one.': 1, 'bring': 8, 'luck,': 1, 'gift,we': 1, 'staff': 1, 'based': 1, 'decoionisation,': 1, 'with': 16, 'should': 6, 'jan': 1, 'he': 9, 'thousands': 1, 'hope': 1, 'pangerandiponegoro.': 1, 'meant': 1, 'means': 3, 'ministers,': 2, 'wereno': 1, 'bear': 1, '\"yes,': 1, 'theterritory': 1, 'words': 1, 'inthis': 1, 'self-determination.but': 1, 'deceived': 1, 'conform': 1, 'existence,': 1, 'exerted': 1, 'weretherefore': 1, 'end,': 1, 'middle,': 1, 'state': 16, 'command,': 2, 'command.': 2, 'imperialism.friends:yes,': 1, 'asunder': 1, 'beenin': 1, 'admit': 1, 'frustrate,': 1, 'whoalways': 1, 'colonisation': 1, 'thehague': 1, 'andwhite': 1, 'before.at': 1, 'table': 8, 'august,': 1, 'nations.as': 1, 'indonesian;sovereignty.': 1, 'conferencethat': 1, 'amthe': 1, 'dutchsaid:': 1, 'proposal': 3, 'ifanyone': 1, 'self-determination.': 1, 'self-determination,': 1, 'both': 1, '27thdecember,': 1, 'ours': 1, 'general': 2, 'present': 2, 'it.and': 1, 'militaryacademy,': 1, 'world.': 1, 'will': 9, 'forces.and': 1, 'onlyone': 2, 'bringthe': 1, 'inmexico-city,': 1, 'establishinga': 1, 'almost': 1, 'rome.': 1, 'helped': 2, 'dutchhave': 1, 'union.': 1, 'welater': 1, 'began': 2, 'member': 1, \"pa'dimara\": 1, 'unity': 1, 'succeed.indeed,': 1, 'of:': 1, 'oneof': 1, 'practice': 1, 'upon': 5, 'upindependence,': 1, 'yes,they': 1, 'december1948.but,': 1, 'firerained': 1, 'i': 64, 'indonesia': 19, 'part,': 1, 'diplomacy,would': 1, 'command': 14, 'lovesindependence.': 1, 'strong.and': 1, 'republic?': 1, 'heavily': 1, 'claiming': 1, 'republic,': 1, 'republic.': 3, 'jogjakarta,i': 1, 'now': 9, 'large-scale': 1, 'discuss': 1, 'arrest': 1, 'attractive': 1, 'practise': 1, 'match': 1, 'came,': 1, 'know': 8, 'moment,': 2, 'like': 1, 'inviting': 1, 'we,': 3, 'allyou': 1, 'become': 4, 'actions,': 1, \"hero's\": 2, 'because': 2, 'treadon': 1, 'indonesiasukarnogreat': 1, 'authority': 9, 'tempered': 1, 'repre-[12]sentatives': 1, 'proper': 1, 'recognition': 1, '\"what': 1, 'before.': 2, 'and[6]merauke.': 1, 'results.': 1, 'chains': 1, 'leader': 1, '?': 2, 'now,': 13, 'complete.the': 1, 'isyour': 1, 'theregion': 1, 'frontof': 1, 'although': 4, 'tempering': 1, 'turned,set': 1, 'about': 4, 'carried': 2, 'december,': 3, 'recognized': 1, 'nationthat': 1, 'independence.jogjakarta,': 1, 'liberating': 1, 'ties,': 1, 'luns': 4, 'own': 2, 'willrespect': 1, 'struggleand': 1, 'guard': 1, 'promise': 1, 'times.': 1, 'raya\".and': 1, 'van': 2, 'friends': 2, 'spread': 4, 'recognised': 2, 'introducingthere': 1, 'but': 24, 'neutral': 1, 'anation': 1, 'they,': 1, 'made': 6, 'chained': 1, 'reasonagreed': 1, 'this,': 1, 'signed': 1, 'this.': 4, 'victorieswere': 1, 'supreme': 4, 'begun': 2, 'recognize': 1, 'nowadorn': 1, 'year': 2, 'arms.': 1, 'our': 32, 'thepasundan': 1, 'indonesia.and,': 1, '46': 1, 'fencing': 1, 'offensive': 1, 'other': 3, 'moment,the': 1, 'indeed.': 1, 'indeed,': 2, 'iscalled': 1, 'inestablishing': 1, 'yes,': 9, 'flag\".[11]we': 1, 'thisrepublic': 1, 'indonesia-dutch': 3, 'helpedus,': 1, 'confrontation,': 1, 'reason.': 1}, {'all': 7, 'global': 1, 'ocean,': 1, 'captain': 1, 'devoted': 1, 'citizens,the': 1, 'to': 41, 'under': 3, 'sovereignty': 1, 'friendly': 2, 'citizens,on': 1, 'oceans': 1, 'lead,': 2, 'every': 1, 'asia,': 1, 'governments': 2, 'entire': 1, 'excellency': 5, 'shoulder-to-shoulder': 1, 'try': 1, 'recall': 1, 'spiritual': 1, 'brave': 1, 'me,': 1, 'seas,': 1, 'past': 1, 'hawkers,': 1, 'what': 1, 'assistance': 2, 'expressed': 1, 'fishermen,': 1, 'dr.': 5, 'public': 1, 'supporting': 1, 'led': 1, 'never': 1, \"nation's\": 1, 'active': 1, 'great': 2, 'life,': 1, 'buddhaya': 1, 'trials,': 1, 'usom': 1, 'social': 2, 'haz,': 1, 'sutrisno,': 1, 'tasks': 1, 'myself,': 1, 'constitution.i': 1, 'armed': 1, 'from': 2, 'would': 4, 'next': 1, 'call': 3, 'therefore': 1, 'achieving': 1, 'hard,': 2, 'on': 6, 'assalamualaikum': 1, 'gentlemen,': 1, 'carrying': 1, 'president,': 2, 'behalf': 4, 'must': 1, 'this': 4, 'yudhoyono': 1, 'work': 11, '9th': 1, 'following': 1, 'my': 2, 'heart': 1, 'give': 1, 'stressing': 1, 'states': 2, 'teachers,': 1, 'want': 2, 'respective': 1, '!!!': 1, 'bung': 1, 'segregation.': 1, 'sworn': 1, 'speech,': 1, 'dignified': 1, 'economy': 1, 'assistance.': 1, 'assistance,': 1, 'may': 1, 'state.': 1, 'maritime': 1, 'waves': 1, 'president': 9, 'derives': 1, 'civilization.': 3, 'a': 18, '6th': 2, 'so': 1, 'allow': 1, 'democratic': 1, 'order': 3, 'hand.': 1, 'move': 1, 'years': 1, 'policy,': 1, 'unite': 1, 'its': 3, 'thank': 1, 'habibie,': 1, 'willing': 1, 'world,': 1, 'culture.i': 1, 'largest': 2, 'wabarakatuhgod': 1, 'nation': 5, 'mandate': 1, 'not': 1, 'now': 1, 'realize': 1, 'possess': 1, 'always': 2, 'sailor': 1, 'namo': 1, 'bless': 1, 'consultative': 1, 'lasting': 2, 'everyone': 1, 'populated': 1, 'hard': 3, 'countrymen': 1, 'our': 11, 'special': 2, 'out': 3, '3rd': 2, 'god': 1, 'honorable': 1, 'police,': 1, 'members': 1, 'advance': 1, '(mpr),your': 1, 'could': 1, 'moment': 1, 'businessmen': 1, 'entrusted': 1, 'respect,': 1, 'first': 1, 'soekarnoputri,': 1, 'feel': 1, 'powerful': 1, 'number': 1, 'echo': 1, 'muhammad': 1, 'done': 1, 'carry': 1, 'impossible': 1, 'interest,': 1, 'given': 1, 'power,': 1, '5th': 1, 'their': 1, 'nation.': 3, 'hamzah': 1, 'that': 11, 'citizens,': 1, 'appreciation': 2, 'believe': 1, 'convinced': 1, 'guests,fellow': 1, 'nations': 1, 'people,': 1, 'future': 1, 'historical': 3, 'oath': 1, 'and': 38, 'service.': 1, 'needs': 1, 'swastiastu,': 1, 'have': 5, 'invite': 1, 'trapped': 1, 'able': 3, 'jalesveva': 1, 'also': 3, 'mr.': 2, 'chairman': 1, 'which': 4, 'circles': 1, 'towards': 1, 'boediono,': 1, 'shall': 1, 'who': 2, 'karno': 1, 'most': 2, 'shantinammo': 1, 'prosperity,': 1, 'sturdy': 1, 'stronger': 1, 'face': 1, 'professional': 1, 'jusuf': 1, 'nobility': 1, 'yudhoyono,': 1, 'disunity': 1, 'south-east': 1, 'based': 2, 'implementation': 2, 'storms': 1, 'achieve': 1, 'characterization': 1, 'do': 1, 'his': 1, 'express': 1, 'bear': 1, 'truly': 1, 'nation.the': 1, 'bambang': 2, 'drivers,': 1, 'freedom,': 2, 'common': 1, 'kalla': 1, 'traders,': 1, 'national': 1, 'reiterate': 1, 'officials': 1, 'are': 3, 'sea': 1, '11th': 1, 'sail': 2, 'meatballs': 1, 'hard.the': 1, 'state': 3, 'we': 14, 'venture': 1, 'powers.': 1, 'unity,': 1, 'politics,': 1, 'sea,': 1, 'motto': 1, 'come': 1, 'protect': 1, 'justice.in': 1, 'country': 3, 'foreign': 1, 'assure': 1, 'whole': 1, 'among': 1, 'conclude': 1, 'throughout': 1, 'gratitude': 1, 'been': 2, 'susilo': 2, 'peaceful': 1, 'firm': 1, 'general': 1, 'prosperous': 1, 'an': 2, 'prof.': 5, 'spirit': 2, 'present': 1, 'utmost': 1, 'opportunity,': 1, 'will': 13, 'shanti': 2, 'is': 11, 'strait': 1, 'it': 3, 'straits': 1, 'in': 13, 'if': 2, 'develop': 2, 'solely': 1, 'government': 5, 'same': 1, 'unity': 2, 'peoples': 1, 'prerequisite': 1, 'status': 1, 'independent': 3, 'farmers,': 1, 'gentlemen,we': 1, 'upon': 3, 'guests,': 1, 'predecessors': 1, 'task': 1, 'i': 11, 'indonesia': 4, 'well': 2, 'ocean': 1, 'dares': 1, 'the': 63, 'justice.my': 1, 'indonesia,': 9, 'indonesia.': 1, 'just': 1, 'oceans,': 1, 'countries,distinguished': 1, 'efforts.': 1, 'boediono': 1, 'constitution.': 1, 'aspect.': 1, 'work,': 2, 'work.': 1, 'jayamahe,': 1, 'peninsulas': 1, 'board': 1, 'homeland': 1, 'citizen': 1, 'republic': 9, 'has': 1, 'momentum': 1, 'build': 2, 'indonesian': 1, 'academicians,': 1, 'big': 5, 'historic': 1, 'world': 2, 'work.ladies': 1, 'indonesias': 2, 'dignity': 1, 'like': 4, 'collective': 1, 'country,': 4, 'bhudayamerdeka': 1, 'continue': 1, 'either': 1, 'archipelagic': 1, 'become': 3, 'people': 3, 'absolutely': 1, 'indonesia,your': 2, 'envoys': 2, 'years.distinguished': 1, 'convey': 1, 'unless': 1, 'meaning,': 1, 'neglecting': 1, 'ourselves': 1, 'lead': 1, 'creative': 1, 'regain': 2, 'be': 9, 'assembly': 1, 'bj': 1, 'tidal': 2, 'us.om': 1, 'by': 4, 'faith': 1, 'waves.as': 1, 'of': 35, 'citizens': 1, 'madame': 1, 'blessings': 1, 'stand': 1, 'or': 1, 'muslims': 1, 'ladies': 1, 'own': 2, 'wassalamualaikum': 1, 'presence': 1, 'commitment': 1, 'intellectual': 1, 'your': 2, 'long': 1, 'forces,': 1, 'was': 1, 'head': 2, 'addition,': 1, 'but': 1, 'highest': 1, 'with': 6, 'functions.': 1, 'wabarakatuh,peace': 1, 'vice': 6, 'us': 4, 'bearing': 1, 'contribute': 3, 'am': 1, 'deep': 1, 'fellow': 3, 'as': 13, 'ship': 1, 'mutual': 4, 'peace': 2, 'warahmatullahi': 2, '5': 2, 'inglorious': 1, 'you': 2, 'self-reliance': 1, 'again.': 1, 'countries.i': 1, 'esteem.': 1, 'important': 1, 'for': 8, 'sail.': 1, 'megawati': 1, 'laborers,': 1, 'together': 1, 'institutions': 2, 'time': 3, 'peninsula.now': 1}]"
      ]
     },
     "execution_count": 14,
     "metadata": {},
     "output_type": "execute_result"
    }
   ],
   "source": [
    "bow = gl.text_analytics.count_words(sf['speech'])\n",
    "sf['bow'] = bow\n",
    "bow"
   ]
  },
  {
   "cell_type": "markdown",
   "metadata": {},
   "source": [
    "## TF-IDF"
   ]
  },
  {
   "cell_type": "markdown",
   "metadata": {},
   "source": [
    "* Another useful representation for text data is called TF-IDF (term frequency - inverse document frequency).\n",
    "* This is a modification of the bag-of-words format where the counts are transformed into scores: \n",
    "    * words that are common across the document corpus are given low scores,  \n",
    "    rare words occurring often in a document are given high scores"
   ]
  },
  {
   "cell_type": "markdown",
   "metadata": {},
   "source": [
    "* TF-IDF(word,document)=N(word,document)∗log(1/∑dN(word,d)))\n",
    "    * where N(w, d) is the number of times word w occurs in document d"
   ]
  },
  {
   "cell_type": "code",
   "execution_count": 15,
   "metadata": {
    "collapsed": false
   },
   "outputs": [
    {
     "data": {
      "text/plain": [
       "dtype: dict\n",
       "Rows: 3\n",
       "[{'united,': 2.1972245773362196, 'dynamic': 1.0986122886681098, 'protest': 1.0986122886681098, 'sleep': 1.0986122886681098, 'asian': 10.986122886681098, 'assembled': 2.1972245773362196, 'whose': 3.295836866004329, 'skill?': 1.0986122886681098, 'common.': 1.0986122886681098, 'superficially': 1.0986122886681098, 'neighbours': 1.0986122886681098, 'under': 0.0, 'pride': 1.0986122886681098, 'applied': 1.0986122886681098, 'rescue': 1.0986122886681098, 'oceans': 0.8109302162163288, 'bhinneka': 1.0986122886681098, 'colonialism?': 1.0986122886681098, 'colonialism\"': 1.0986122886681098, 'affairs.': 1.0986122886681098, 'affairs,': 1.0986122886681098, 'asia,': 0.0, 'today.': 2.1972245773362196, 'today,': 0.4054651081081644, 'colonialism.': 2.1972245773362196, 'vast': 1.0986122886681098, 'pooled': 1.0986122886681098, 'dangerously.in': 1.0986122886681098, 'skills': 1.0986122886681098, 'problems,': 3.295836866004329, 'ocean,': 0.4054651081081644, 'unifying': 1.0986122886681098, 'force': 0.8109302162163288, 'leaders': 2.027325540540822, 'me,': 0.0, 'second': 0.4054651081081644, \"others'\": 1.0986122886681098, 'others,': 1.0986122886681098, 'others.': 0.4054651081081644, 'even': 4.054651081081644, 'peace.if': 1.0986122886681098, 'deliberate': 1.0986122886681098, 'decisions': 1.0986122886681098, 'asia': 23.070858062030304, 'characters,': 1.0986122886681098, 'toll': 1.0986122886681098, 'new': 4.865581297297973, 'seeks': 2.1972245773362196, 'told': 0.4054651081081644, 'beliefs,': 3.295836866004329, 'men': 4.394449154672439, 'here': 4.460116189189808, 'met': 0.4054651081081644, 'china': 1.0986122886681098, 'represented': 2.1972245773362196, 'Çri': 1.0986122886681098, 'worse,': 1.0986122886681098, 'be.as': 1.0986122886681098, 'military': 0.4054651081081644, 'settled': 0.8109302162163288, 'divide': 1.0986122886681098, 'feelings': 1.0986122886681098, 'brought': 0.4054651081081644, 'war,': 1.0986122886681098, 'moral': 3.295836866004329, 'guests': 2.1972245773362196, 'sympathise': 1.0986122886681098, 'spoke': 1.0986122886681098, 'would': 0.0, 'nation.so,': 1.0986122886681098, 'seventy': 1.0986122886681098, 'statesmanship': 1.0986122886681098, 'call': 0.0, 'strike': 1.0986122886681098, 'used,': 1.0986122886681098, 'until': 0.4054651081081644, 'breathe': 1.0986122886681098, 'successful': 3.295836866004329, 'brings': 1.0986122886681098, 'skill,': 1.0986122886681098, 'success!yes,': 1.0986122886681098, 'warm': 1.0986122886681098, 'hold': 0.4054651081081644, 'circumstances': 1.0986122886681098, 'locked': 1.0986122886681098, 'society,': 1.0986122886681098, 'rights': 3.295836866004329, 'imperialism': 0.4054651081081644, 'my': 0.0, 'monarchism,': 1.0986122886681098, 'give': 0.0, 'preserving': 1.0986122886681098, 'india': 1.0986122886681098, 'end': 1.2163953243244932, 'knows': 1.0986122886681098, 'turn': 0.4054651081081644, 'life-line,': 1.0986122886681098, 'travel': 1.0986122886681098, 'how': 2.4327906486489863, 'harmony,': 1.0986122886681098, 'colonies,': 1.0986122886681098, 'answer': 2.1972245773362196, 'wisdom.i': 1.0986122886681098, \"desmoulin's\": 1.0986122886681098, 'minority': 1.0986122886681098, 'away.': 1.0986122886681098, 'weapons\"': 1.0986122886681098, 'sikhism,': 1.0986122886681098, 'president': 0.0, 'splendid': 1.0986122886681098, 'appreciate': 1.0986122886681098, 'ultimate': 1.0986122886681098, 'every': 0.0, 'birthplaces': 2.1972245773362196, 'tribulations': 2.1972245773362196, 'bombers.what': 1.0986122886681098, 'over': 1.6218604324326575, 'encounter': 1.0986122886681098, '\"life-line': 1.0986122886681098, 'concepts,': 1.0986122886681098, 'before': 1.6218604324326575, 'injustice': 1.0986122886681098, 'lifeline': 1.0986122886681098, 'speaking,': 1.0986122886681098, 'colonialism,': 1.0986122886681098, 'eventually': 0.4054651081081644, 'troops.instead': 1.0986122886681098, 'history,': 1.0986122886681098, 'history.': 2.1972245773362196, 'effects': 1.0986122886681098, 'they': 6.0819766216224656, 'indulge': 1.0986122886681098, 'one': 5.271046405406137, 'units,': 1.0986122886681098, 'secured.': 1.0986122886681098, 'several': 0.4054651081081644, 'indivisible.': 1.0986122886681098, 'backgrounds': 1.0986122886681098, 'religions,': 1.0986122886681098, 'expectation.': 1.0986122886681098, 'victory': 1.0986122886681098, 'each': 15.380572041353537, 'went': 0.4054651081081644, 'side': 0.8109302162163288, 'mean': 3.295836866004329, 'observance': 1.0986122886681098, 'god': 0.0, 'particles': 1.0986122886681098, 'detestation': 2.1972245773362196, 'independence': 4.054651081081644, 'threatened': 1.0986122886681098, 'given': 0.0, 'free': 1.6218604324326575, 'principle,': 1.0986122886681098, 'struggle': 2.4327906486489863, 'enormous': 1.0986122886681098, 'mankind,': 1.0986122886681098, 'tolerant': 2.1972245773362196, 'creeds.': 1.0986122886681098, 'oppose': 1.2163953243244932, \"today's\": 1.0986122886681098, 'already': 0.8109302162163288, 'too.': 0.4054651081081644, 'primary': 1.0986122886681098, 'fears,': 1.0986122886681098, 'another': 0.4054651081081644, 'power.': 1.0986122886681098, 'lest,': 1.0986122886681098, 'nation.': 0.0, 'aconference': 1.0986122886681098, 'too': 0.4054651081081644, 'mankind!': 1.0986122886681098, 'bitter': 2.1972245773362196, 'easy.': 1.0986122886681098, 'wisdom': 1.0986122886681098, 'showed': 1.0986122886681098, 'gibraltar,': 1.0986122886681098, 'nations': 0.0, 'project': 1.0986122886681098, 'matter': 2.1972245773362196, 'to,': 1.0986122886681098, 'spears.': 1.0986122886681098, 'modern': 1.0986122886681098, 'mind': 0.8109302162163288, 'ultimatum,': 1.0986122886681098, 'seen': 1.6218604324326575, 'participants,': 1.0986122886681098, 'seek': 2.1972245773362196, 'affairs': 3.295836866004329, 'strength': 2.4327906486489863, 'do,': 0.4054651081081644, 'world.no': 1.0986122886681098, '-': 11.758488135136767, 'asians?': 1.0986122886681098, 'do?': 0.8109302162163288, 'forces': 1.6218604324326575, 'hardest.': 1.0986122886681098, 'indo-aryan': 1.0986122886681098, 'content,': 1.0986122886681098, 'thing,': 0.4054651081081644, 'shall': 0.0, 'letter': 1.0986122886681098, 'morality': 2.1972245773362196, 'mobilised': 0.4054651081081644, 'knows.': 1.0986122886681098, 'door,': 1.0986122886681098, 'principle': 5.493061443340549, 'terms,': 1.0986122886681098, 'strong,': 1.0986122886681098, 'came': 0.8109302162163288, 'saying': 1.0986122886681098, 'meetings': 1.0986122886681098, 'ending': 1.0986122886681098, 'religions': 4.394449154672439, 'cannot,': 2.1972245773362196, 'solutions': 2.1972245773362196, 'earth': 1.0986122886681098, 'consciousness': 1.0986122886681098, 'spite': 2.1972245773362196, 'guidance': 1.0986122886681098, \"indonesia's\": 0.4054651081081644, 'do': 0.0, 'asians': 1.0986122886681098, 'etc.': 1.0986122886681098, 'religion.': 1.0986122886681098, 'listened.': 2.1972245773362196, 'religion,': 1.0986122886681098, 'distant.religion': 1.0986122886681098, 'countries': 12.084735175349207, 'public': 0.4054651081081644, 'reawakening': 1.0986122886681098, 'bad': 1.0986122886681098, 'release': 1.0986122886681098, 'them,': 1.0986122886681098, 'ethical': 2.1972245773362196, 'brothers,': 6.591673732008658, 'swept': 2.1972245773362196, 'depends': 1.0986122886681098, 'full': 1.2163953243244932, 'result': 1.2163953243244932, 'discussions': 1.0986122886681098, 'best': 0.4054651081081644, 'subject': 1.0986122886681098, 'cooperation': 1.0986122886681098, '?the': 1.0986122886681098, 'misguided': 1.0986122886681098, 'ethics.': 1.0986122886681098, 'preserve': 1.0986122886681098, 'we': 0.0, 'never': 0.8109302162163288, 'nature': 1.0986122886681098, 'however': 2.1972245773362196, 'drew': 1.0986122886681098, 'conflagration': 1.0986122886681098, 'defiance': 1.0986122886681098, '\"conventional': 1.0986122886681098, 'motto': 0.8109302162163288, 'distant.': 1.0986122886681098, 'faced': 1.0986122886681098, 'protect': 0.4054651081081644, 'country': 0.0, 'countries,': 0.4054651081081644, 'against': 2.4327906486489863, 'propagate.': 1.0986122886681098, 'confronted': 1.0986122886681098, 'asked': 1.0986122886681098, 'nay,': 1.0986122886681098, 'diversity,': 1.0986122886681098, 'skill': 3.295836866004329, 'dreams!we': 1.0986122886681098, 'connection': 1.0986122886681098, 'diversity\"': 1.0986122886681098, 'speak': 4.394449154672439, 'conference': 8.920232378379616, 'debased,': 1.0986122886681098, 'basis': 1.0986122886681098, 'appears.': 1.0986122886681098, 'appears,': 1.0986122886681098, 'been': 0.0, 'grenades,': 1.0986122886681098, 'recognised': 0.4054651081081644, 'interest': 1.0986122886681098, 'privilege': 1.0986122886681098, 'warmth': 1.0986122886681098, 'duties': 2.1972245773362196, 'life': 2.027325540540822, 'born!our': 1.0986122886681098, 'ruthlessness.': 1.0986122886681098, 'confidence.': 1.0986122886681098, 'deliberations': 1.0986122886681098, 'evermore.yes,': 1.0986122886681098, 'east': 0.8109302162163288, 'doorstep,': 1.0986122886681098, 'air': 0.4054651081081644, 'voice': 3.295836866004329, 'japan.': 1.0986122886681098, 'leaves': 1.0986122886681098, 'seven': 1.0986122886681098, 'is': 0.0, 'it': 0.0, 'straits': 0.4054651081081644, 'in': 0.0, 'march': 0.4054651081081644, 'dead\".': 1.0986122886681098, 'if': 0.0, 'independence,': 2.027325540540822, 'deliberations,': 1.0986122886681098, 'things': 4.394449154672439, 'make': 2.027325540540822, 'colonies': 1.0986122886681098, 'passed,': 1.0986122886681098, 'independent': 0.0, 'evil': 2.1972245773362196, 'hand': 1.0986122886681098, 'marched': 1.0986122886681098, 'faiths': 2.1972245773362196, 'thoughts': 2.1972245773362196, 'degradation,': 1.0986122886681098, 'greatest': 0.4054651081081644, 'dominating': 1.0986122886681098, 'the': 0.0, '\"colonialism': 1.0986122886681098, '\"sturm': 1.0986122886681098, 'just': 0.0, 'true': 0.8109302162163288, 'human': 1.6218604324326575, 'yet': 3.243720864865315, 'previous': 0.4054651081081644, 'had': 2.027325540540822, 'passive': 1.0986122886681098, 'spread': 0.8109302162163288, 'perverted.': 1.0986122886681098, 'has': 0.0, 'humanity': 1.0986122886681098, 'gave': 1.0986122886681098, 'ago,': 2.1972245773362196, 'ago.': 1.0986122886681098, 'fact,': 0.4054651081081644, 'survival': 1.0986122886681098, 'possible': 1.2163953243244932, 'cultural': 2.1972245773362196, 'god,': 2.1972245773362196, 'causes,': 2.1972245773362196, 'states,': 0.4054651081081644, 'country.': 1.0986122886681098, 'country,': 0.4054651081081644, 'steps': 1.0986122886681098, 'people': 0.0, 'born': 1.0986122886681098, 'insistence': 1.0986122886681098, 'dear': 1.0986122886681098, 'meaning.': 1.0986122886681098, 'pancha': 1.0986122886681098, 'denies': 1.0986122886681098, 'gasps': 1.0986122886681098, 'for': 0.0, '/': 6.591673732008658, 'everything': 1.0986122886681098, 'denied': 1.0986122886681098, 'subordination': 1.0986122886681098, 'asia-africa': 1.0986122886681098, 'losing': 1.0986122886681098, 'memorable': 1.0986122886681098, 'conclusion.': 1.0986122886681098, 'ensure': 2.1972245773362196, 'considerations': 1.0986122886681098, 'raised': 1.0986122886681098, 'presence': 0.4054651081081644, 'intellectual': 1.2163953243244932, 'lies': 1.0986122886681098, 'doctrine': 1.0986122886681098, 'central-sumatrans,': 1.0986122886681098, 'support': 0.8109302162163288, 'sovereign': 2.1972245773362196, 'fight': 0.8109302162163288, 'jainism,': 1.0986122886681098, 'fought': 1.0986122886681098, 'way': 1.2163953243244932, 'was': 0.0, 'war': 5.493061443340549, 'happy': 1.0986122886681098, 'form': 3.295836866004329, 'racialism.': 1.0986122886681098, 'so,': 0.4054651081081644, 'ah,': 1.0986122886681098, 'failure': 1.0986122886681098, 'consideration.': 1.0986122886681098, 'hall,': 1.0986122886681098, 'invincible': 1.0986122886681098, 'economic': 4.394449154672439, 'faiths.': 1.0986122886681098, 'faiths,': 1.0986122886681098, 'examples': 1.0986122886681098, 'originating': 1.0986122886681098, 'solong': 1.0986122886681098, 'proved': 1.0986122886681098, 'classic': 2.1972245773362196, 'evidence': 2.1972245773362196, 'excellencies,ladies': 1.0986122886681098, 'meeting\".': 1.0986122886681098, 'physical': 2.1972245773362196, 'afternoon-tea': 1.0986122886681098, 'no': 6.892906837838795, 'minds,': 1.0986122886681098, 'generally': 1.0986122886681098, 'republic': 0.0, 'interference,': 1.0986122886681098, 'brothers': 1.0986122886681098, 'welcome': 4.394449154672439, 'stick.': 1.0986122886681098, 'understands,': 1.0986122886681098, 'younger': 1.0986122886681098, 'longer': 2.1972245773362196, 'motives.how': 1.0986122886681098, 'together': 0.0, 'time': 0.0, 'chain': 1.0986122886681098, 'diplomacy': 1.0986122886681098, 'skin': 1.0986122886681098, 'battle': 3.295836866004329, 'soothed': 1.0986122886681098, 'certainly': 1.0986122886681098, '1949': 1.0986122886681098, 'depend': 1.0986122886681098, 'christianity,': 1.0986122886681098, 'finally': 1.0986122886681098, 'bombs,': 2.1972245773362196, 'marks': 1.0986122886681098, 'must': 0.0, 'advantage': 1.0986122886681098, 'worthwhile,': 1.0986122886681098, 'responsibility,': 0.4054651081081644, 'individuality,': 1.0986122886681098, 'mobilise': 2.1972245773362196, 'word': 1.0986122886681098, 'presented': 1.0986122886681098, 'mark,': 1.0986122886681098, 'determination,': 1.0986122886681098, 'sila.': 1.0986122886681098, 'spiritual': 0.8109302162163288, 'regret': 1.0986122886681098, 'obsolete': 1.0986122886681098, 'favour': 1.0986122886681098, 'enhanced.that,': 1.0986122886681098, 'international': 0.4054651081081644, 'beleaguered,': 1.0986122886681098, 'filled': 2.1972245773362196, 'drink,': 1.0986122886681098, 'supporting': 0.4054651081081644, 'capitalism,': 1.0986122886681098, 'honour': 3.295836866004329, 'understanding': 7.690286020676768, 'water': 1.0986122886681098, 'twentieth': 1.0986122886681098, 'groups': 0.4054651081081644, 'along': 1.0986122886681098, 'appears': 1.0986122886681098, 'change': 0.4054651081081644, 'thirty': 1.0986122886681098, 'reborn,': 1.0986122886681098, 'marhaenism,': 1.0986122886681098, 'bomb,': 1.0986122886681098, 'usually': 1.0986122886681098, '1,400,000,000': 1.0986122886681098, 'unregarded,': 1.0986122886681098, 'troops': 1.0986122886681098, 'sake': 1.0986122886681098, 'abroad': 1.0986122886681098, 'territories': 1.0986122886681098, 'live': 3.295836866004329, \"asia's\": 1.0986122886681098, 'chasms': 1.0986122886681098, 'club': 1.0986122886681098, 'gentlemen,': 0.4054651081081644, 'moral,': 1.0986122886681098, 'behalf': 0.8109302162163288, 'and,': 0.8109302162163288, 'hope': 2.8382557567571505, 'stature': 2.1972245773362196, 'making': 1.0986122886681098, 'imitation': 1.0986122886681098, 'heart': 0.0, 'december': 0.4054651081081644, 'malayans,': 1.0986122886681098, 'allowed': 2.1972245773362196, 'hydrogen': 1.0986122886681098, 'africa;': 1.0986122886681098, 'etches': 1.0986122886681098, 'secured': 1.0986122886681098, \"journey's\": 1.0986122886681098, 'innumerable': 1.0986122886681098, 'future,': 1.0986122886681098, 'africa,': 1.2163953243244932, 'future.': 1.0986122886681098, 'reluctantly,': 1.0986122886681098, 'über': 1.0986122886681098, 'professing': 1.0986122886681098, 'may': 0.0, 'matter.but': 1.0986122886681098, 'eighty': 2.1972245773362196, 'mankind': 2.027325540540822, 'such': 6.591673732008658, 'man': 12.084735175349207, 'different.': 3.295836866004329, 'different,': 1.0986122886681098, 'whenever': 1.0986122886681098, 'maybe': 1.0986122886681098, 'futures': 1.0986122886681098, 'darkened': 1.0986122886681098, 'so': 0.0, 'african': 6.591673732008658, 'controlling.': 1.0986122886681098, 'exclusive': 1.0986122886681098, 'no.': 0.4054651081081644, 'indeed': 0.8109302162163288, 'midnight': 2.1972245773362196, 'no!': 0.4054651081081644, 'years': 0.0, 'stability': 1.0986122886681098, 'argued': 1.0986122886681098, 'still': 1.6218604324326575, 'clash,': 1.0986122886681098, 'thank': 0.0, 'torn': 0.4054651081081644, 'dead.': 1.0986122886681098, 'dead,': 1.0986122886681098, 'won,': 1.0986122886681098, 'main': 1.0986122886681098, 'battlefield.': 1.0986122886681098, 'horror.not': 1.0986122886681098, 'newly-recovered': 1.0986122886681098, 'nation': 0.0, 'records': 1.0986122886681098, 'corroded': 1.0986122886681098, 'half': 3.295836866004329, 'not': 0.0, 'now': 0.0, 'hall': 4.394449154672439, 'nor': 5.493061443340549, 'madurese,': 1.0986122886681098, 'realise': 2.1972245773362196, 'revere': 1.0986122886681098, 'motherland': 1.0986122886681098, 'paramount,': 1.0986122886681098, 'morality.perhaps': 1.0986122886681098, 'uninhibited': 1.0986122886681098, 'therefore,': 1.0986122886681098, 'year': 0.4054651081081644, 'small.': 1.0986122886681098, 'physical,': 1.0986122886681098, 'living': 1.0986122886681098, 'shown': 1.0986122886681098, 'yes,': 1.6218604324326575, 'profit': 1.0986122886681098, 'increase': 1.0986122886681098, 'dead.so,': 1.0986122886681098, 'multiformity': 1.0986122886681098, 'million': 0.4054651081081644, 'quite': 1.0986122886681098, 'unfriendly': 1.0986122886681098, 'evermore,': 1.0986122886681098, 'inevitable': 1.0986122886681098, 'evermore.': 1.0986122886681098, 'care': 1.0986122886681098, 'colonialism.and': 0.4054651081081644, 'dangerof': 1.0986122886681098, 'british': 1.0986122886681098, 'thing': 2.1972245773362196, 'place': 1.2163953243244932, 'massive': 1.0986122886681098, 'invitation': 1.0986122886681098, 'unborn': 2.1972245773362196, 'think': 2.027325540540822, 'first': 0.0, 'besieged': 1.0986122886681098, 'but,': 0.4054651081081644, 'long': 0.0, '\"live': 4.394449154672439, 'message': 2.1972245773362196, 'discharged': 1.0986122886681098, 'disinterested': 5.493061443340549, 'little': 8.788898309344878, 'seas': 1.0986122886681098, 'speaking': 1.0986122886681098, 'much!': 1.0986122886681098, 'eyes': 1.0986122886681098, 'that': 0.0, 'spoke,': 1.0986122886681098, 'behoves': 1.0986122886681098, 'released': 1.0986122886681098, 'freedomis': 1.0986122886681098, 'them.indeed,': 1.0986122886681098, 'than': 4.054651081081644, 'population': 1.0986122886681098, 'exacted': 1.0986122886681098, 'future': 0.8109302162163288, 'were': 8.109302162163289, 'and': 0.0, 'sad': 1.0986122886681098, \"humanity's\": 1.0986122886681098, 'say': 2.4327906486489863, 'distorted': 1.0986122886681098, 'any': 1.6218604324326575, 'general': 0.0, 'terrific': 1.0986122886681098, 'take': 1.6218604324326575, 'responsibility': 1.0986122886681098, 'sure': 1.0986122886681098, 'probed': 1.0986122886681098, 'price': 1.0986122886681098, 'knew': 0.4054651081081644, 'statement:': 1.0986122886681098, 'rehearsal': 1.0986122886681098, 'mediterranean,': 1.0986122886681098, 'picture': 2.1972245773362196, 'strength,': 1.0986122886681098, 'proud': 0.8109302162163288, 'axe': 1.0986122886681098, 'not,': 1.0986122886681098, 'dispersed': 1.0986122886681098, 'cooperation.': 1.0986122886681098, 'fifty': 1.0986122886681098, 'discovered': 1.0986122886681098, 'weapons': 1.0986122886681098, 'countryside,': 1.0986122886681098, 'behind': 0.4054651081081644, 'liberation': 0.8109302162163288, 'only': 3.6491859729734797, 'going': 0.4054651081081644, 'life-blood': 1.0986122886681098, 'get': 0.4054651081081644, 'cannon': 1.0986122886681098, 'truly': 0.4054651081081644, 'unimportant': 1.0986122886681098, 'cannot': 2.4327906486489863, 'central-javanese,': 1.0986122886681098, 'prime': 4.394449154672439, 'miles': 2.1972245773362196, 'where': 0.4054651081081644, 'physically': 1.0986122886681098, 'eighteenth': 1.0986122886681098, 'threats.': 1.0986122886681098, 'job.': 1.0986122886681098, 'concern': 2.1972245773362196, 'unfree.': 2.1972245773362196, 'unfree,': 1.0986122886681098, 'ways': 2.1972245773362196, 'representatives': 1.2163953243244932, 'colours': 1.0986122886681098, '3': 1.0986122886681098, 'between': 0.4054651081081644, 'mission,': 1.0986122886681098, 'across': 1.0986122886681098, 'sea,': 0.4054651081081644, 'come': 0.0, 'ago.however': 1.0986122886681098, 'many': 16.479184330021646, 'easy\".i': 1.0986122886681098, 'comes': 0.4054651081081644, 'duty': 0.4054651081081644, 'among': 0.8109302162163288, 'period': 0.4054651081081644, 'dress,': 1.0986122886681098, 'peoples,': 0.4054651081081644, 'peoples.': 2.1972245773362196, 'then?': 2.1972245773362196, 'thousand': 1.0986122886681098, 'formed': 1.0986122886681098, 'moreover,': 1.0986122886681098, 'spirit': 0.0, 'those': 2.027325540540822, 'sound': 1.0986122886681098, 'myself': 1.0986122886681098, 'life?': 1.0986122886681098, 'ideals,': 1.0986122886681098, 'danger.': 1.0986122886681098, 'approachof': 1.0986122886681098, 'life.': 1.0986122886681098, 'toradjas,': 1.0986122886681098, 'people\".perhaps': 1.0986122886681098, 'then': 2.8382557567571505, 'engaged': 1.0986122886681098, 'condition.yes,': 1.0986122886681098, 'different': 4.394449154672439, 'revolutions': 1.0986122886681098, 'develop': 0.4054651081081644, 'pay': 1.0986122886681098, 'seeking': 1.0986122886681098, 'same': 0.0, 'followers': 2.1972245773362196, 'liberalism': 1.0986122886681098, 'extended': 2.1972245773362196, 'drives': 1.0986122886681098, 'driven': 2.1972245773362196, 'conference,': 1.2163953243244932, 'conference.': 0.4054651081081644, 'mortgaged': 1.0986122886681098, 'stunted': 1.0986122886681098, 'lit,': 1.0986122886681098, 'without': 2.027325540540822, 'very': 1.6218604324326575, 'convened': 1.0986122886681098, 'bodies': 1.0986122886681098, 'manifold': 1.0986122886681098, 'being': 4.394449154672439, 'when': 3.243720864865315, 'guided': 4.394449154672439, 'actions': 0.4054651081081644, 'fruitful,': 1.0986122886681098, 'potentiality': 1.0986122886681098, 'speed': 1.0986122886681098, 'death': 0.8109302162163288, 'either,': 1.0986122886681098, 'bloc': 1.0986122886681098, '4': 1.0986122886681098, 'role': 1.0986122886681098, 'possible;': 1.0986122886681098, 'omnipotence': 1.0986122886681098, 'peace?not': 1.0986122886681098, 'delhi': 1.0986122886681098, 'world.failure': 1.0986122886681098, 'action.': 0.4054651081081644, 'world': 0.0, 'dare': 1.0986122886681098, 'confine': 1.0986122886681098, 'collective': 0.4054651081081644, 'nationalawakening': 1.0986122886681098, 'lightning': 1.0986122886681098, 'benefit': 1.0986122886681098, 'always': 0.0, 'fulfil': 1.0986122886681098, 'opened,': 1.0986122886681098, 'burdens': 1.0986122886681098, 'wrote:a': 1.0986122886681098, 'religions.': 1.0986122886681098, 'envoys': 0.4054651081081644, 'toleranceand': 1.0986122886681098, 'racial': 1.0986122886681098, 'destroy.': 1.0986122886681098, 'peace,': 0.8109302162163288, 'peace.': 6.591673732008658, 'theirs,': 1.0986122886681098, 'slight.': 1.0986122886681098, 'inject': 1.0986122886681098, 'think,': 1.0986122886681098, 'scientific': 2.1972245773362196, 'power': 1.2163953243244932, 'passer\"': 1.0986122886681098, 'five,': 1.0986122886681098, 'colombo,': 1.0986122886681098, 'on': 0.0, 'of': 0.0, 'violence': 1.0986122886681098, 'discussed': 1.0986122886681098, 'free.': 1.0986122886681098, 'free,': 1.2163953243244932, 'or': 0.0, 'road': 1.0986122886681098, 'continent.': 1.0986122886681098, 'your': 0.0, 'dawned': 1.0986122886681098, 'there': 6.0819766216224656, 'desert': 1.0986122886681098, 'you,': 1.2163953243244932, 'continents': 5.493061443340549, 'tranquility': 1.0986122886681098, 'amongst': 1.0986122886681098, 'dynamism.': 1.0986122886681098, 'hurricanes': 1.0986122886681098, 'land,': 0.4054651081081644, 'practically': 1.0986122886681098, 'sadness': 1.0986122886681098, 'morality?': 1.0986122886681098, 'bataks,': 1.0986122886681098, 'burdens.sisters': 1.0986122886681098, 'majority.and': 1.0986122886681098, 'stock.': 1.0986122886681098, 'am': 0.0, 'deep': 0.4054651081081644, 'fellow': 0.4054651081081644, 'as': 0.0, 'at': 3.6491859729734797, 'occupied,': 1.0986122886681098, 'again': 2.027325540540822, 'intercontinental': 1.0986122886681098, 'neighbouring': 1.0986122886681098, '5': 0.4054651081081644, 'you': 0.0, 'everywhere,': 1.0986122886681098, 'poor': 1.0986122886681098, 'blessing': 2.1972245773362196, 'rifles,': 1.0986122886681098, 'sacrifices.': 1.0986122886681098, 'much': 1.2163953243244932, 'important': 0.8109302162163288, 'itself,': 1.0986122886681098, 'itself.': 2.1972245773362196, 'building': 0.4054651081081644, 'colonialism': 3.243720864865315, 'solidarity.indeed,': 1.0986122886681098, 'bounty.': 1.0986122886681098, 'all': 0.0, 'grind.': 1.0986122886681098, 'welfare': 1.0986122886681098, 'settlement': 1.0986122886681098, 'religious': 0.8109302162163288, 'children': 2.1972245773362196, 'content': 3.295836866004329, 'zoroasthrianism,': 1.0986122886681098, 'to': 0.0, 'arabs,': 1.0986122886681098, 'far': 2.027325540540822, 'horror': 1.0986122886681098, 'coloured': 1.0986122886681098, 'blockade': 1.0986122886681098, 'sun,': 1.0986122886681098, 'broken!': 1.0986122886681098, 'large': 2.1972245773362196, 'these': 3.6491859729734797, 'peopleswho': 1.0986122886681098, 'sought.': 1.0986122886681098, 'small': 3.295836866004329, 'longfellow': 1.0986122886681098, 'past': 0.8109302162163288, 'answer,': 1.0986122886681098, 'peoplescould': 1.0986122886681098, 'ourselves,': 1.0986122886681098, 'what': 0.0, 'sun': 1.0986122886681098, 'anniversary': 1.0986122886681098, 'him.': 1.0986122886681098, 'learned': 6.591673732008658, 'common.relatively': 1.0986122886681098, 'falsify': 1.0986122886681098, 'contrast': 1.0986122886681098, 'power-politics': 1.0986122886681098, 'christian': 1.0986122886681098, 'loose': 1.0986122886681098, 'when,': 1.0986122886681098, 'situation': 2.1972245773362196, 'life,': 0.8109302162163288, 'islam,': 1.0986122886681098, 'ahead': 1.0986122886681098, 'experience': 2.1972245773362196, 'emotion.': 1.0986122886681098, 'disruption,': 1.0986122886681098, 'social': 0.4054651081081644, 'action': 0.4054651081081644, 'suddenly': 0.4054651081081644, 'responded?i': 1.0986122886681098, 'africa': 5.271046405406137, 'backed': 0.4054651081081644, '\"have': 1.0986122886681098, 'contains': 1.0986122886681098, 'wield': 1.0986122886681098, 'two': 0.8109302162163288, 'compensate': 1.0986122886681098, '6': 1.0986122886681098, 'more': 4.865581297297973, 'globe.': 1.0986122886681098, 'controlling': 0.4054651081081644, 'particular': 1.0986122886681098, 'known': 0.4054651081081644, 'recall': 1.2163953243244932, 'abroad:': 1.0986122886681098, 'forbearance': 1.0986122886681098, 'history': 5.493061443340549, 'lives': 1.0986122886681098, 'suggestions': 1.0986122886681098, 'accept': 0.4054651081081644, 'days': 2.1972245773362196, 'states': 0.0, 'hand-in-hand': 1.0986122886681098, 'attain': 1.0986122886681098, 'firmly': 1.0986122886681098, '!': 1.0986122886681098, 'upbuilding': 1.0986122886681098, 'rather': 1.0986122886681098, 'anti-colonial': 2.1972245773362196, 'comfort': 3.295836866004329, 'eat,': 1.0986122886681098, 'civilisation': 1.0986122886681098, 'ideologies.': 1.0986122886681098, 'state.': 0.0, 'ethics': 1.0986122886681098, 'responsibility.': 1.0986122886681098, 'bloom': 1.0986122886681098, 'a': 0.0, 'shortcomings': 1.0986122886681098, 'bogor': 1.0986122886681098, 'influence.': 1.0986122886681098, 'departure': 1.0986122886681098, 'negligible': 1.0986122886681098, 'skilful': 1.0986122886681098, 'privileges': 1.0986122886681098, 'held': 2.1972245773362196, 'through': 1.6218604324326575, 'committed': 1.0986122886681098, 'existence': 1.0986122886681098, 'suffer': 1.0986122886681098, 'its': 0.0, 'roots': 1.0986122886681098, 'islam': 1.0986122886681098, 'pray': 3.295836866004329, 'already.': 0.4054651081081644, 'course,': 0.4054651081081644, 'discussion,ways': 1.0986122886681098, 'occasion.': 1.0986122886681098, 'reached.': 1.0986122886681098, 'it,': 1.2163953243244932, 'good': 0.4054651081081644, 'little.': 1.0986122886681098, 'spiritual,': 1.0986122886681098, 'food': 1.0986122886681098, 'it?': 1.0986122886681098, 'walls': 1.0986122886681098, 'imperil': 1.0986122886681098, 'great.': 1.0986122886681098, 'guises.': 1.0986122886681098, 'imprisoned': 1.0986122886681098, 'system.': 1.0986122886681098, 'fully': 1.0986122886681098, 'truths': 1.0986122886681098, 'burdens,': 1.0986122886681098, 'did': 0.4054651081081644, 'found': 2.1972245773362196, 'heavy': 3.295836866004329, 'harm': 1.0986122886681098, 'england': 1.0986122886681098, 'hard': 0.4054651081081644, 'house.': 1.0986122886681098, 'idea': 1.0986122886681098, 'united.as': 1.0986122886681098, 'really': 1.0986122886681098, 'since': 0.8109302162163288, 'acting': 1.0986122886681098, 'safety': 3.295836866004329, '7': 1.0986122886681098, 'only,but': 1.0986122886681098, 'humiliation.': 1.0986122886681098, 'socialism,': 1.0986122886681098, '!god': 1.0986122886681098, 'reason': 0.4054651081081644, 'communism,': 1.0986122886681098, 'beginning': 0.4054651081081644, 'thrown': 1.0986122886681098, 'american': 1.0986122886681098, 'threat': 2.1972245773362196, 'black.': 1.0986122886681098, 'sacrifice': 1.0986122886681098, 'sundanese,': 1.0986122886681098, 'feel': 0.8109302162163288, 'done': 0.4054651081081644, 'changing': 2.1972245773362196, 'imperialism\".': 1.0986122886681098, 'remember,': 2.1972245773362196, 'jet': 1.0986122886681098, '180': 1.0986122886681098, 'roots.': 1.0986122886681098, 'hundred': 3.295836866004329, 'other.': 1.0986122886681098, 'immediate': 2.1972245773362196, 'appreciation': 0.8109302162163288, 'part': 4.054651081081644, 'impersonal': 1.0986122886681098, 'aims': 2.1972245773362196, 'dogs': 1.0986122886681098, 'determined': 1.0986122886681098, 'wastage': 1.0986122886681098, 'declare': 1.0986122886681098, 'exert': 1.0986122886681098, 'experience,': 1.0986122886681098, 'awoken': 1.0986122886681098, 'tanks,': 1.0986122886681098, 'lie': 0.4054651081081644, 'also': 0.0, 'labour': 1.0986122886681098, 'finding': 1.0986122886681098, 'play': 1.0986122886681098, 'towards': 0.0, 'most': 0.0, 'instance,': 1.0986122886681098, 'indo-china.i': 1.0986122886681098, 'variants.': 1.0986122886681098, 'revolution,': 0.4054651081081644, 'clear': 1.2163953243244932, 'spreading.': 1.0986122886681098, 'forerunner': 1.0986122886681098, 'them.in': 1.0986122886681098, 'realised': 1.0986122886681098, 'particularly': 1.0986122886681098, 'demanded,': 1.0986122886681098, 'tunggal': 1.0986122886681098, 'nations,': 1.2163953243244932, 'nations.': 0.4054651081081644, 'unhappy': 1.0986122886681098, '8': 7.690286020676768, 'large,': 1.0986122886681098, 'centuries.': 1.0986122886681098, 'his': 0.0, 'asien'\"': 1.0986122886681098, 'capital': 1.0986122886681098, 'famous': 1.0986122886681098, 'courage': 3.295836866004329, 'certain,': 1.0986122886681098, 'during': 1.0986122886681098, 'necessity.today': 1.0986122886681098, 'cry': 1.0986122886681098, 'freedom.': 1.0986122886681098, 'freedom,': 0.4054651081081644, 'sacrifices': 1.0986122886681098, 'common': 0.0, 'activity': 1.0986122886681098, 'distant': 2.1972245773362196, 'earth.i': 1.0986122886681098, 'achieved': 2.1972245773362196, 'individual': 2.1972245773362196, 'are': 0.0, 'sea': 0.8109302162163288, 'outward': 1.0986122886681098, 'smallest': 1.0986122886681098, 'years.': 1.0986122886681098, \"other's\": 1.0986122886681098, 'recently': 2.1972245773362196, 'chamber,': 1.0986122886681098, 'attention': 0.4054651081081644, 'achieve.': 1.0986122886681098, 'ika': 1.0986122886681098, 'succeed': 1.0986122886681098, 'politics.': 1.0986122886681098, 'thatbattle?': 1.0986122886681098, 'both': 0.8109302162163288, 'last': 0.8109302162163288, 'lightly,': 1.0986122886681098, 'secrets': 1.0986122886681098, 'foreign': 0.0, 'theocracy,': 1.0986122886681098, 'proclamation': 0.4054651081081644, 'poverty': 3.295836866004329, 'sons:': 1.0986122886681098, 'scored.': 1.0986122886681098, 'whole': 0.0, 'varietyof': 1.0986122886681098, 'live\"': 3.295836866004329, 'knew.': 1.0986122886681098, 'point': 0.4054651081081644, 'sweet': 0.4054651081081644, 'community': 1.0986122886681098, '21/09/2015': 6.591673732008658, 'political': 2.8382557567571505, 'whom': 1.0986122886681098, 'territory': 0.4054651081081644, 'meeting': 1.2163953243244932, 'nations!bismillah': 1.0986122886681098, 'erected.': 1.0986122886681098, 'lived': 1.0986122886681098, 'flints': 1.0986122886681098, 'success!': 2.1972245773362196, 'else': 0.4054651081081644, 'whatever': 4.394449154672439, 'understand': 3.295836866004329, 'representative': 0.4054651081081644, 'playthings': 1.0986122886681098, 'plants': 1.0986122886681098, 'look': 0.8109302162163288, 'blockaded,': 1.0986122886681098, 'loot': 1.0986122886681098, 'century': 1.0986122886681098, 'itself': 1.0986122886681098, 'serried': 1.0986122886681098, 'asia-africa.': 1.0986122886681098, 'away,': 1.0986122886681098, 'came,': 0.4054651081081644, 'peoples': 8.109302162163289, 'conflict': 2.1972245773362196, 'development': 1.0986122886681098, 'faire,': 1.0986122886681098, 'here,': 0.8109302162163288, 'mankind.': 0.4054651081081644, 'moment': 0.0, 'purpose': 2.1972245773362196, 'necessity': 1.0986122886681098, 'brussels': 1.0986122886681098, 'lash.': 1.0986122886681098, 'changed,': 1.0986122886681098, 'task': 0.8109302162163288, 'people,': 0.0, 'brothers.it': 1.0986122886681098, 'analysis': 1.0986122886681098, '\"unity': 1.0986122886681098, 'indonesia,': 0.0, 'indonesia.': 0.0, 'indo-china.look,': 1.0986122886681098, 'lives?': 1.0986122886681098, 'questions': 2.1972245773362196, 'lives,': 1.0986122886681098, 'matter?': 1.0986122886681098, 'unto': 1.0986122886681098, 'profitable': 1.0986122886681098, 'thoughtlessly,': 1.0986122886681098, 'source': 1.0986122886681098, 'parents': 1.0986122886681098, 'questioned': 1.0986122886681098, 'longer.': 1.0986122886681098, 'indonesian': 0.0, 'victims': 1.0986122886681098, 'big': 0.4054651081081644, 'bid': 2.1972245773362196, 'we!': 1.0986122886681098, 'matters': 2.1972245773362196, 'distance.': 1.0986122886681098, 'distance,': 1.0986122886681098, 'world.yes,': 2.1972245773362196, 'knock': 1.0986122886681098, 'together.sisters': 1.0986122886681098, 'pillar': 1.0986122886681098, 'bamboo': 1.0986122886681098, 'often': 2.1972245773362196, 'cannon,': 1.0986122886681098, 'some': 3.6491859729734797, 'back': 1.0986122886681098, '\"laissez': 1.0986122886681098, 'urgent': 1.0986122886681098, 'added': 1.0986122886681098, '\"we': 1.0986122886681098, 'curious': 1.0986122886681098, 'ourselves': 0.4054651081081644, 'irresistible': 1.0986122886681098, 'religion': 4.394449154672439, 'bloc.': 1.0986122886681098, 'be': 0.0, 'run': 1.0986122886681098, 'continuing': 0.4054651081081644, 'independence.indeed,': 1.0986122886681098, 'obscured': 1.0986122886681098, 'by': 0.0, 'faith': 0.4054651081081644, 'yawn': 1.0986122886681098, 'imperialism,': 0.4054651081081644, 'democracy,': 1.0986122886681098, 'voices,': 1.0986122886681098, 'hinduism,': 1.0986122886681098, 'into': 2.027325540540822, 'within': 1.2163953243244932, 'laissez': 1.0986122886681098, 'peoples.however,': 1.0986122886681098, 'realisation': 1.0986122886681098, 'question': 0.4054651081081644, 'amidst': 1.0986122886681098, 'heritage': 1.0986122886681098, 'forward': 1.0986122886681098, 'desires.all': 1.0986122886681098, 'reassurance': 1.0986122886681098, 'hopes': 1.0986122886681098, 'line': 1.0986122886681098, 'themselves': 0.4054651081081644, 'darkness,': 1.0986122886681098, 'alive.we': 1.0986122886681098, 'whoare': 1.0986122886681098, 'goodwill': 1.0986122886681098, 'up': 1.2163953243244932, 'us': 0.0, 'today': 4.460116189189808, 'similar': 1.0986122886681098, 'called': 1.6218604324326575, 'conditions,': 1.0986122886681098, 'diplomacy,': 0.4054651081081644, 'cost.today,': 1.0986122886681098, 'problem.': 1.0986122886681098, 'consulted': 1.0986122886681098, 'warning': 1.0986122886681098, 'peace': 2.027325540540822, 'spokesmen': 1.0986122886681098, 'themselves.': 0.4054651081081644, 'nay': 1.0986122886681098, 'problems': 1.0986122886681098, 'prepared': 0.4054651081081644, 'meaning': 2.1972245773362196, 'sides': 1.0986122886681098, 'ago': 2.027325540540822, 'reasoned': 1.0986122886681098, 'fear.': 3.295836866004329, 'fear,': 2.1972245773362196, 'fresh': 2.1972245773362196, 'independent.': 1.0986122886681098, 'once': 1.6218604324326575, 'code': 2.1972245773362196, 'issued': 1.0986122886681098, 'eradicated': 1.0986122886681098, 'alien': 2.1972245773362196, 'go': 0.8109302162163288, 'considerations.you': 1.0986122886681098, 'seemed': 1.0986122886681098, 'wehave': 1.0986122886681098, 'more,': 0.8109302162163288, 'artery': 1.0986122886681098, 'more.': 0.4054651081081644, 'help.': 1.0986122886681098, 'this': 0.0, 'us,': 1.6218604324326575, 'canal,': 1.0986122886681098, 'other,': 4.394449154672439, 'desire?': 1.0986122886681098, 'confer.i': 1.0986122886681098, 'acid': 1.0986122886681098, 'frontiers.': 1.0986122886681098, 'that,': 1.2163953243244932, 'that.': 1.0986122886681098, 'giving': 0.4054651081081644, \"man's\": 2.1972245773362196, 'indian': 1.0986122886681098, 'independence.': 0.8109302162163288, 'large.': 1.0986122886681098, 'can': 9.325697486487782, 'body': 1.0986122886681098, 'desires': 1.0986122886681098, 'gathered': 6.591673732008658, 'jointly': 1.0986122886681098, 'unfree.and,': 1.0986122886681098, 'let': 6.0819766216224656, 'others': 5.493061443340549, 'consideration': 1.0986122886681098, 'globe.it': 1.0986122886681098, 'great': 0.0, 'technical': 2.1972245773362196, 'survey': 3.295836866004329, 'opinion': 1.0986122886681098, 'doesits': 1.0986122886681098, 'danger': 2.1972245773362196, '\"underdeveloped\"': 1.0986122886681098, 'tools': 1.0986122886681098, 'cloud': 1.0986122886681098, 'standing': 0.4054651081081644, 'from': 0.0, 'remains': 1.0986122886681098, 'ministers': 1.6218604324326575, 'few': 2.1972245773362196, 'doubt': 1.0986122886681098, 'bonds': 4.394449154672439, 'forefathers': 1.0986122886681098, 'historically': 1.0986122886681098, 'hard.': 1.0986122886681098, 'impress': 2.1972245773362196, 'carrying': 0.0, 'gladly': 1.0986122886681098, '\"to': 1.0986122886681098, 'high': 0.4054651081081644, '1945,': 0.4054651081081644, 'us.': 2.027325540540822, 'ride': 1.0986122886681098, 'confer.already': 1.0986122886681098, 'island': 1.0986122886681098, 'meet': 3.295836866004329, 'rehabilitation': 1.0986122886681098, 'control': 4.394449154672439, 'seem.as': 1.0986122886681098, 'process': 1.0986122886681098, 'rode': 1.0986122886681098, 'escaped': 1.0986122886681098, 'something': 0.8109302162163288, 'united': 2.027325540540822, 'destroying': 1.0986122886681098, 'africans': 1.0986122886681098, 'achenese,': 1.0986122886681098, 'regions': 1.0986122886681098, 'responsibilities': 3.295836866004329, 'way,in': 1.0986122886681098, 'hosts.': 1.0986122886681098, 'stock': 1.0986122886681098, 'act': 1.6218604324326575, 'tortured,': 1.0986122886681098, 'moslims,': 1.0986122886681098, 'ethnic': 1.0986122886681098, 'ties': 1.0986122886681098, 'solidarity': 2.1972245773362196, 'gone,': 1.0986122886681098, 'light': 5.493061443340549, 'struggle.': 0.8109302162163288, 'struggle,': 0.4054651081081644, 'divided': 2.1972245773362196, 'course.what': 1.0986122886681098, 'six': 1.0986122886681098, 'existence.': 1.0986122886681098, 'mentioned': 1.0986122886681098, 'contaminated': 1.0986122886681098, 'civa-buddhists,': 1.0986122886681098, 'voiceless': 1.0986122886681098, 'exiled,': 1.0986122886681098, 'restrain': 1.0986122886681098, 'world.': 2.4327906486489863, 'world,': 0.0, 'delhi,': 1.0986122886681098, 'prosper': 1.0986122886681098, 'd'être\",': 1.0986122886681098, 'greater': 1.2163953243244932, 'practice': 0.4054651081081644, 'runs': 1.0986122886681098, 'flew': 1.0986122886681098, 'invitations': 1.0986122886681098, 'stabilise': 1.0986122886681098, 'day': 0.8109302162163288, 'masters': 1.0986122886681098, 'truth': 1.0986122886681098, 'shaking': 1.0986122886681098, 'experienced': 0.4054651081081644, 'doing': 3.295836866004329, 'society': 1.0986122886681098, 'terrifically': 1.0986122886681098, 'decided,': 1.0986122886681098, 'our': 0.0, 'special': 0.8109302162163288, 'out': 0.0, 'radiance.but': 1.0986122886681098, 'colonialism.nor': 1.0986122886681098, 'shintoism,': 1.0986122886681098, 'men.': 1.0986122886681098, 'wholly': 1.0986122886681098, '\"league': 1.0986122886681098, 'motifs': 1.0986122886681098, 'cause': 1.0986122886681098, 'time!': 1.0986122886681098, 'red': 0.4054651081081644, \"one's\": 1.0986122886681098, 'delegates': 3.295836866004329, 'completely': 1.2163953243244932, 'likelihood': 1.0986122886681098, 'things,': 2.1972245773362196, 'could': 0.0, 'diminished': 1.0986122886681098, 'keep': 1.0986122886681098, 'foolishly,': 1.0986122886681098, 'south': 1.0986122886681098, 'complete.': 1.0986122886681098, 'succeeds': 2.1972245773362196, 'echo': 1.2163953243244932, 'activity.': 1.0986122886681098, 'have,': 1.0986122886681098, 'be,': 1.0986122886681098, 'bears': 1.0986122886681098, 'unknown': 1.0986122886681098, 'conventional,': 1.0986122886681098, 'relations': 1.0986122886681098, 'identity;': 1.0986122886681098, 'their': 0.0, 'final': 1.0986122886681098, 'paved': 1.0986122886681098, 'interests': 2.1972245773362196, 'gathering,': 1.0986122886681098, 'hardwon': 1.0986122886681098, 'majority,': 1.0986122886681098, 'manifestation': 1.0986122886681098, 'remember': 3.295836866004329, 'isolation': 1.0986122886681098, 'beg': 3.295836866004329, 'threatened.issues': 1.0986122886681098, 'distinguished': 2.1972245773362196, 'safeguarded': 1.0986122886681098, 'wherever,': 1.0986122886681098, 'buddhism,': 1.0986122886681098, 'poisons': 1.0986122886681098, 'have': 0.0, 'need': 2.1972245773362196, 'confucianism,': 1.0986122886681098, 'indomitable,': 1.0986122886681098, 'able': 0.0, 'asian-african': 7.690286020676768, 'which': 0.0, 'unless': 2.027325540540822, 'other.if': 1.0986122886681098, 'who': 0.0, 'basis.': 1.0986122886681098, 'why': 0.8109302162163288, 'so-called': 0.4054651081081644, 'statesmen,': 2.1972245773362196, 'concern,': 1.0986122886681098, 'concern.': 1.0986122886681098, 'face': 0.0, 'looked': 1.0986122886681098, 'april,': 1.0986122886681098, 'occasion': 1.0986122886681098, 'fact': 1.2163953243244932, 'chances': 1.0986122886681098, 'one,': 0.8109302162163288, 'purely': 1.0986122886681098, 'planning': 1.0986122886681098, 'well-being': 3.295836866004329, 'fear': 7.690286020676768, 'darkest': 1.0986122886681098, 'true,': 1.0986122886681098, 'based': 0.0, 'sparks': 1.0986122886681098, 'with': 0.0, 'should': 0.8109302162163288, 'unsuccessful,': 1.0986122886681098, 'won': 0.8109302162163288, 'attained': 2.1972245773362196, 'thousands': 0.8109302162163288, 'balinese,': 1.0986122886681098, 'natural!': 1.0986122886681098, 'means': 0.8109302162163288, 'patterns.': 2.1972245773362196, 'unchained': 1.0986122886681098, 'bear': 0.0, 'ones': 1.0986122886681098, 'words': 0.8109302162163288, 'christians,': 1.0986122886681098, 'suez': 1.0986122886681098, 'areas': 1.0986122886681098, 'itself.if': 1.0986122886681098, 'approach': 1.0986122886681098, 'houses.': 1.0986122886681098, 'control,': 2.1972245773362196, 'generations': 2.1972245773362196, 'deceived': 0.4054651081081644, 'exists': 1.0986122886681098, 'national': 0.0, 'end.': 1.0986122886681098, 'rather,': 1.0986122886681098, 'state': 0.0, '\"raison': 1.0986122886681098, 'progress': 1.0986122886681098, 'generations.': 2.1972245773362196, 'opening': 1.0986122886681098, 'importance': 1.0986122886681098, 'unity.': 1.0986122886681098, 'ideas,': 2.1972245773362196, 'precious': 1.0986122886681098, 'spirit.i': 1.0986122886681098, 'freely': 1.0986122886681098, 'invited': 1.0986122886681098, 'assure': 0.4054651081081644, 'grain': 1.0986122886681098, 'precedent!': 1.0986122886681098, 'glorious': 1.0986122886681098, 'diplomats': 1.0986122886681098, 'walk': 1.0986122886681098, 'together,': 3.295836866004329, 'done,': 1.0986122886681098, 'choice,': 1.0986122886681098, 'immense': 2.1972245773362196, 'poet': 1.0986122886681098, 'diversity': 4.394449154672439, 'neighbour': 1.0986122886681098, 'an': 0.0, 'present': 0.0, 'welcoming': 1.0986122886681098, 'decades': 0.4054651081081644, 'will': 0.0, 'fault': 1.0986122886681098, 'almost': 1.6218604324326575, 'countries.': 2.1972245773362196, 'earth.the': 1.0986122886681098, 'perhaps': 4.394449154672439, 'began': 0.4054651081081644, 'buddhist': 1.0986122886681098, 'intellectually.it': 1.0986122886681098, 'these.': 1.0986122886681098, 'unity': 0.0, 'parts': 7.690286020676768, 'outbreak': 1.0986122886681098, 'material': 4.394449154672439, 'confrontedwith': 1.0986122886681098, 'unconventional': 1.0986122886681098, 'upon': 0.0, 'effect': 1.0986122886681098, 'sisters': 5.493061443340549, 'frequently': 1.0986122886681098, 'scourges': 1.0986122886681098, 'lanka,': 1.0986122886681098, '1954': 1.0986122886681098, 'i': 0.0, 'host.but': 1.0986122886681098, 'colour': 1.0986122886681098, 'indonesia': 0.0, 'well': 0.0, 'fighting': 3.295836866004329, 'command': 0.4054651081081644, 'combinations.but': 1.0986122886681098, 'enemy,': 1.0986122886681098, 'less': 1.0986122886681098, 'only-': 1.0986122886681098, '1954.': 1.0986122886681098, 'paul': 1.0986122886681098, 'liberty.': 1.0986122886681098, 'consume': 1.0986122886681098, 'solidarity,': 1.0986122886681098, 'independence.but': 1.0986122886681098, 'host.': 1.0986122886681098, 'discuss': 0.4054651081081644, 'onwards': 1.0986122886681098, 'skins,': 1.0986122886681098, 'developments': 1.0986122886681098, 'practise': 0.4054651081081644, 'resolved': 1.0986122886681098, 'government': 0.0, 'historic': 0.8109302162163288, 'five': 6.591673732008658, 'know': 2.027325540540822, 'burden': 1.0986122886681098, 'press': 2.1972245773362196, 'better.this': 1.0986122886681098, 'mental,': 1.0986122886681098, 'issues,': 1.0986122886681098, 'necessary': 2.1972245773362196, 'like': 0.0, 'success': 2.1972245773362196, 'we,': 0.8109302162163288, 'hosts': 1.0986122886681098, 'become': 0.0, 'circumstances.let': 1.0986122886681098, 'because': 1.6218604324326575, 'neighbours.': 1.0986122886681098, 'ideals': 2.1972245773362196, 'enlightened,': 1.0986122886681098, 'past,': 1.0986122886681098, 'avoid': 1.0986122886681098, 'does': 2.1972245773362196, 'sponsoring': 2.1972245773362196, 'brotherhood.': 1.0986122886681098, 'easily.': 1.0986122886681098, 'about': 1.6218604324326575, 'actual': 1.0986122886681098, 'extension': 1.0986122886681098, 'freedom': 1.0986122886681098, 'mine.': 1.0986122886681098, 'diabolical': 1.0986122886681098, 'happen.': 1.0986122886681098, 'outstripped': 1.0986122886681098, 'happen,': 1.0986122886681098, 'own': 0.0, 'recognise': 1.0986122886681098, 'interdependence': 1.0986122886681098, 'live\",': 1.0986122886681098, 'problems.for': 1.0986122886681098, 'biggest': 1.0986122886681098, 'humanity.and': 1.0986122886681098, 'but': 0.0, 'plague': 1.0986122886681098, 'highest': 1.6218604324326575, 'he': 3.243720864865315, 'made': 2.8382557567571505, 'places': 2.1972245773362196, 'wish': 1.0986122886681098, 'variations': 1.0986122886681098, 'pumped': 1.0986122886681098, 'demonstrate': 1.0986122886681098, '-how': 1.0986122886681098, 'continents.': 3.295836866004329, 'contribute': 0.4054651081081644, 'undying,': 1.0986122886681098, 'diplomat': 1.0986122886681098, 'variety': 2.1972245773362196, 'other': 7.298371945946959, 'again.': 0.4054651081081644, 'again,': 1.0986122886681098, 'stay': 1.0986122886681098, 'inspiration': 1.0986122886681098, 'enormouschanges.': 1.0986122886681098, 'bulwark': 1.0986122886681098, 'ranks': 1.0986122886681098, 'determination': 1.0986122886681098, 'friendly,': 1.0986122886681098, 'confess': 1.0986122886681098}, {'wasplayed': 1.0986122886681098, 'ofall': 1.0986122886681098, 'unfurl': 6.591673732008658, 'shallgive': 1.0986122886681098, 'up,': 4.394449154672439, 'colonisation,': 1.0986122886681098, 'colonisation.': 1.0986122886681098, \"mook's\": 1.0986122886681098, 'under': 0.0, 'theindonesian': 5.493061443340549, 'now,that': 1.0986122886681098, 'every': 0.0, 'asia,': 0.0, 'today,': 0.8109302162163288, 'strangleholdof': 1.0986122886681098, 'merauke,': 1.0986122886681098, 'completed.of': 1.0986122886681098, 'therepresentatives': 1.0986122886681098, 'politicalparties,': 1.0986122886681098, 'enjoy': 1.0986122886681098, 'resolution.in': 1.0986122886681098, 'leaders': 1.2163953243244932, 'miseries,although': 1.0986122886681098, 'me,': 0.0, 'me.': 1.0986122886681098, 'whichthose': 1.0986122886681098, 'second': 1.2163953243244932, 'pledgesince': 1.0986122886681098, 'others.': 0.4054651081081644, 'air': 0.4054651081081644, 'even': 2.4327906486489863, 'colonialism': 0.4054651081081644, 'religious': 0.4054651081081644, 'dr.': 1.2163953243244932, 'new': 1.6218604324326575, 'officially': 1.0986122886681098, 'admiral': 1.0986122886681098, 'told': 0.8109302162163288, 'sukarno': 4.394449154672439, '\"at': 1.0986122886681098, 'here': 2.027325540540822, 'hundreds': 5.493061443340549, 'met': 0.4054651081081644, 'active': 0.4054651081081644, 'police.': 1.0986122886681098, 'dressthemselves': 1.0986122886681098, 'military': 3.6491859729734797, 'settled': 0.4054651081081644, 'deceived,': 2.1972245773362196, 'ofour': 1.0986122886681098, 'brought': 0.4054651081081644, 'total': 2.1972245773362196, 'would': 0.0, 'army': 1.0986122886681098, 'old.yes,': 1.0986122886681098, 'republic.these': 1.0986122886681098, 'receivedmy': 1.0986122886681098, 'call': 0.0, 'therefore': 0.4054651081081644, '?even': 1.0986122886681098, 'right,': 1.0986122886681098, 'until': 0.8109302162163288, 'hereby': 2.1972245773362196, 'hold': 0.8109302162163288, 'must': 0.0, 'me': 5.493061443340549, 'pursue': 2.1972245773362196, 'yearsago': 1.0986122886681098, 'sukarno,who': 1.0986122886681098, 'worm': 1.0986122886681098, 'my': 0.0, 'revolution/commander': 1.0986122886681098, 'underthe': 1.0986122886681098, 'involve': 1.0986122886681098, 'want': 2.027325540540822, 'youth;': 1.0986122886681098, 'end': 0.4054651081081644, 'far': 0.4054651081081644, 'youth,': 1.0986122886681098, 'mataram.': 1.0986122886681098, 'after': 1.0986122886681098, 'realrepresentatives': 1.0986122886681098, 'demanding': 1.0986122886681098, 'thankyou': 1.0986122886681098, 'wrong': 1.0986122886681098, 'president': 0.0, 'time.today': 1.0986122886681098, 'guerilla': 3.295836866004329, 'attempt': 1.0986122886681098, 'event,then': 1.0986122886681098, 'enter': 2.1972245773362196, 'order': 2.4327906486489863, 'executed': 1.0986122886681098, 'decolonisationmeans': 1.0986122886681098, 'jogjakarta': 3.295836866004329, 'rostrum,': 1.0986122886681098, 'over': 4.460116189189808, 'tri-command:1.': 1.0986122886681098, 'mightiness': 1.0986122886681098, 'indonesianpeople': 1.0986122886681098, 'before': 1.6218604324326575, 'sovereigntyby': 1.0986122886681098, 'fix': 1.0986122886681098, 'jasmine.': 1.0986122886681098, 'strove,': 1.0986122886681098, 'nice-soundingspeeches': 1.0986122886681098, 'imperialistsdo': 1.0986122886681098, 'then': 2.027325540540822, 'them': 6.591673732008658, 'bypresident': 1.0986122886681098, 'carefully,': 1.0986122886681098, 'they': 14.191278783785753, 'one': 2.027325540540822, 'netherlands': 1.0986122886681098, 'fitting?': 1.0986122886681098, 'arrested': 1.0986122886681098, 'wasfrom': 1.0986122886681098, 'went': 2.027325540540822, 'side': 0.4054651081081644, 'fierceopposition': 1.0986122886681098, '1945exploding': 1.0986122886681098, 'no!some': 1.0986122886681098, 'irian.(the': 1.0986122886681098, '\"national': 1.0986122886681098, 'thisis': 1.0986122886681098, 'is,': 3.295836866004329, 'imperialists': 2.1972245773362196, 'independence': 2.027325540540822, 'beenreturned': 2.1972245773362196, 'firmlyestablished': 1.0986122886681098, 'us[13]march': 1.0986122886681098, 'free': 0.4054651081081644, 'formation': 1.0986122886681098, 'struggle': 4.460116189189808, 'asia,from': 1.0986122886681098, 'so-called\"papua': 1.0986122886681098, 'tricks.': 1.0986122886681098, 'done?oh,': 1.0986122886681098, 'oppose': 0.4054651081081644, 'imperialists,they': 1.0986122886681098, 'already': 2.027325540540822, 'irian!': 2.1972245773362196, 'allrepresentatives': 1.0986122886681098, 'too.': 0.4054651081081644, 'irian.': 5.493061443340549, 'too,': 2.1972245773362196, 'irian,': 12.084735175349207, 'years,although': 1.0986122886681098, 'another': 0.4054651081081644, 'socialiststates,': 2.1972245773362196, 'force': 0.8109302162163288, 'a\"state': 1.0986122886681098, 'irian;': 1.0986122886681098, 'nation,': 2.1972245773362196, 'nation.': 0.0, 'too': 1.2163953243244932, 'took': 2.1972245773362196, 'positively': 2.1972245773362196, 'dutch.in': 1.0986122886681098, 'republic.you': 1.0986122886681098, 'nations': 0.0, 'to.': 1.0986122886681098, 'historical': 0.4054651081081644, 'people.': 3.295836866004329, 'thesocialist': 2.1972245773362196, 'subandrio,': 2.1972245773362196, 'that?\"': 1.0986122886681098, 'mind': 0.4054651081081644, 'talking': 1.0986122886681098, 'seen': 0.4054651081081644, 'strength': 0.8109302162163288, 'do,': 0.4054651081081644, 'haveinstructed': 1.0986122886681098, 'did[10]it': 1.0986122886681098, '-': 6.892906837838795, 'do?': 1.2163953243244932, 'forces': 2.027325540540822, 'fine-sounding': 1.0986122886681098, 'theun,': 1.0986122886681098, 'shall': 0.0, 'amove': 1.0986122886681098, \"indonesia'snative\": 1.0986122886681098, 'see,': 1.0986122886681098, 'ed.)help': 1.0986122886681098, 'nottwo,': 1.0986122886681098, 'mobilised': 0.4054651081081644, 'force,': 1.0986122886681098, 'partition': 1.0986122886681098, \"that'sonly\": 1.0986122886681098, 'arenow': 1.0986122886681098, 'arenot': 2.1972245773362196, 'came': 0.8109302162163288, 'colonisation.and': 1.0986122886681098, 'indonesiawas': 1.0986122886681098, 'ofone': 1.0986122886681098, 'attempts': 1.0986122886681098, 'proposed': 1.0986122886681098, 'make.2.': 1.0986122886681098, \"indonesia's\": 1.6218604324326575, 'do': 0.0, 'confrontthem': 1.0986122886681098, 'endorse': 3.295836866004329, 'stop': 1.0986122886681098, '\"flag': 1.0986122886681098, 'indonesia!': 1.0986122886681098, 'forcesof': 3.295836866004329, 'lies,': 1.0986122886681098, 'territoy': 1.0986122886681098, '\"papua': 4.394449154672439, 'covering': 1.0986122886681098, 'ever': 3.295836866004329, 'peopleof': 1.0986122886681098, 'agung': 1.0986122886681098, 'stooges': 1.0986122886681098, 'men,': 3.295836866004329, 'them.': 1.0986122886681098, 'secretary': 2.1972245773362196, 'republic.are': 1.0986122886681098, 'result': 2.027325540540822, 'term.': 1.0986122886681098, 'best': 0.4054651081081644, 'said': 20.873633484694086, '\"self-determination\":': 1.0986122886681098, 'because,': 1.0986122886681098, 'theears,': 1.0986122886681098, 'un,': 8.788898309344878, 'un.': 2.1972245773362196, 'we': 0.0, 'weare': 1.0986122886681098, 'nation.may': 1.0986122886681098, \"nation's\": 0.4054651081081644, 'states.i': 1.0986122886681098, 'received': 1.0986122886681098, 'country': 0.0, 'ill': 1.0986122886681098, 'countries,': 0.8109302162163288, 'against': 2.8382557567571505, 'triedto': 1.0986122886681098, 'appeared': 1.0986122886681098, 'conference': 0.8109302162163288, 'unfurled': 1.0986122886681098, 'trickery': 2.1972245773362196, 'union': 1.0986122886681098, 'talks[7]lasting': 1.0986122886681098, 'been': 0.0, 'much': 0.4054651081081644, 'decolonisation': 1.0986122886681098, 'life': 0.4054651081081644, 'attacked': 1.0986122886681098, 'too.yes,': 1.0986122886681098, 'speeches': 1.0986122886681098, 'national[3]defence': 1.0986122886681098, 'mohammad': 1.0986122886681098, 'east': 1.6218604324326575, 'indonesia.friends,': 1.0986122886681098, 'sultanagung': 1.0986122886681098, 'tried,': 3.295836866004329, 'carryout': 1.0986122886681098, 'ask:': 1.0986122886681098, 'beaccepted': 1.0986122886681098, 'anchor': 1.0986122886681098, 'arisen,arisen': 1.0986122886681098, 'said:': 3.295836866004329, 'said;': 1.0986122886681098, 'it': 0.0, 'defeated': 2.1972245773362196, 'implemented,': 1.0986122886681098, 'in': 0.0, 'said,': 4.394449154672439, 'said.': 1.0986122886681098, 'if': 0.0, 'notsuccessful.': 1.0986122886681098, 'perform': 1.0986122886681098, 'make': 0.8109302162163288, 'entireindonesian': 1.0986122886681098, 'anthem\".what': 1.0986122886681098, 'july,': 1.0986122886681098, 'several': 0.4054651081081644, 'vienna,': 1.0986122886681098, 'independent': 0.0, 'peaks': 1.0986122886681098, 'weresplit': 1.0986122886681098, 'i,': 1.0986122886681098, 'paris,': 1.0986122886681098, 'rome': 2.1972245773362196, 'greatest': 0.4054651081081644, 'thing,': 0.4054651081081644, 'hearts': 3.295836866004329, 'the': 0.0, 'westirian': 3.295836866004329, 'just': 0.0, 'fighters': 2.1972245773362196, 'thanks': 3.295836866004329, 'human': 0.4054651081081644, 'yes': 1.0986122886681098, 'yet': 2.027325540540822, 'previous': 0.4054651081081644, 'leaders,': 1.0986122886681098, \"yamin's\": 1.0986122886681098, 'luns,': 1.0986122886681098, 'luns.': 1.0986122886681098, 'command.[15]we,': 1.0986122886681098, '27th': 4.394449154672439, 'had': 5.676511513514301, \"luns'\": 1.0986122886681098, 'trampled': 1.0986122886681098, 'has': 0.0, 'fact.': 1.0986122886681098, 'fact,': 1.6218604324326575, 'wasdiponegoro': 1.0986122886681098, 'possible': 1.2163953243244932, 'desire': 1.0986122886681098, 'defeatit!': 1.0986122886681098, 'states,': 1.6218604324326575, 'states.': 5.493061443340549, 'french': 1.0986122886681098, 'night': 1.0986122886681098, 'states?': 1.0986122886681098, 'dutch.friends,': 1.0986122886681098, 'deal': 3.295836866004329, 'people': 0.0, 'irianthey': 1.0986122886681098, 'know,': 5.493061443340549, 'deeper,': 3.295836866004329, 'wetried,': 1.0986122886681098, 'for': 0.0, 'armed': 4.460116189189808, 'honoured': 7.690286020676768, 'recognisedthe': 1.0986122886681098, 'hasannudin.i': 1.0986122886681098, 'graduates': 2.1972245773362196, 'havehad': 1.0986122886681098, 'confrontation': 3.295836866004329, 'graduated': 1.0986122886681098, 'atpresent': 1.0986122886681098, 'here.the': 1.0986122886681098, 'here.how': 1.0986122886681098, 'o': 2.1972245773362196, 'pleaded,': 1.0986122886681098, 'efforts': 3.295836866004329, 'navy,': 1.0986122886681098, 'finishedand': 1.0986122886681098, 'worldthan': 1.0986122886681098, 'cauldron': 1.0986122886681098, 'thankful': 1.0986122886681098, 'right': 1.0986122886681098, 'existed': 2.1972245773362196, 'fields.': 1.0986122886681098, 'support': 0.4054651081081644, 'flying': 10.986122886681098, 'fight': 0.4054651081081644, 'prepared,': 1.0986122886681098, 'why,': 5.493061443340549, 'way': 0.4054651081081644, 'indonesia.those': 1.0986122886681098, 'theydid': 1.0986122886681098, 'what?': 1.0986122886681098, 'java,': 1.0986122886681098, 'so,': 0.8109302162163288, 'lie,': 1.0986122886681098, 'hear': 1.0986122886681098, 'true': 0.8109302162163288, 'thismotion': 1.0986122886681098, 'manoeuvres.': 1.0986122886681098, 'whyi': 1.0986122886681098, 'dutchpromised': 1.0986122886681098, 'prayed': 1.0986122886681098, 'proud': 0.4054651081081644, 'gerwani': 1.0986122886681098, 'onhis': 1.0986122886681098, 'die.': 1.0986122886681098, 'trip': 1.0986122886681098, 'no': 0.4054651081081644, '17thaugust': 1.0986122886681098, 'when': 3.243720864865315, 'reality': 1.0986122886681098, 'setting': 3.295836866004329, 'intothe': 1.0986122886681098, 'republicof': 1.0986122886681098, 'almighty,': 1.0986122886681098, \"let's\": 1.0986122886681098, 'intent': 1.0986122886681098, 'ours.': 1.0986122886681098, 'toas': 1.0986122886681098, '\"stateof': 1.0986122886681098, 'workers,': 1.0986122886681098, 'indonesiastand,': 1.0986122886681098, 'ottawa': 1.0986122886681098, 'wedo?': 1.0986122886681098, 'time': 0.0, 'weshall': 1.0986122886681098, 'forthe': 1.0986122886681098, 'arrested.': 1.0986122886681098, '21st': 3.295836866004329, '92': 1.0986122886681098, '1945': 3.295836866004329, 'proposal.': 1.0986122886681098, '1961.president/': 1.0986122886681098, 'sovereignty': 0.8109302162163288, 'wagedwas': 1.0986122886681098, '\"tour': 1.0986122886681098, 'attractive.': 1.0986122886681098, 'heremust': 1.0986122886681098, 'imperialists.i': 1.0986122886681098, 'world.and': 2.1972245773362196, 'did': 1.2163953243244932, 'die': 1.0986122886681098, 'proposals': 1.0986122886681098, 'prepareyourselves': 1.0986122886681098, 'round': 7.690286020676768, 'revolution': 2.1972245773362196, 'says': 1.0986122886681098, 'be': 0.0, 'sign': 1.0986122886681098, 'monginsidi': 1.0986122886681098, 'utter': 1.0986122886681098, 'educate': 1.0986122886681098, 'stands': 2.1972245773362196, 'wriggle': 1.0986122886681098, 'international': 1.6218604324326575, 'proclaiming': 1.0986122886681098, 'flag\",': 1.0986122886681098, 'say:': 3.295836866004329, 'irian': 29.662531794038966, 'saying.i': 1.0986122886681098, 'groups': 0.4054651081081644, 'alone': 2.1972245773362196, 'say,': 1.0986122886681098, 'change': 0.8109302162163288, 'indonesiaturns': 1.0986122886681098, 'here:': 2.1972245773362196, 'shift': 1.0986122886681098, 'wherever': 1.0986122886681098, 'trial': 1.0986122886681098, 'thebeginning': 1.0986122886681098, 'ofindonesia,': 1.0986122886681098, 'here,': 0.8109302162163288, 'sumatra,': 1.0986122886681098, 'all-out': 1.0986122886681098, 'love': 2.1972245773362196, 'merely': 6.591673732008658, 'putinto': 1.0986122886681098, 'pieterszoon': 1.0986122886681098, 'andi': 1.0986122886681098, 'liberation': 0.8109302162163288, 'give': 0.0, 'today': 0.8109302162163288, 'introducing': 1.0986122886681098, 'commissioner': 1.0986122886681098, 'three,': 1.0986122886681098, 'selfdetermination': 1.0986122886681098, 'and,': 0.4054651081081644, 'tokyo': 1.0986122886681098, 'mightyforce,': 1.0986122886681098, 'irian!i': 1.0986122886681098, 'wrong,': 1.0986122886681098, 'can': 1.6218604324326575, 'following': 0.4054651081081644, 'heart': 0.0, 'downfall': 1.0986122886681098, 'december': 2.027325540540822, \"didn't\": 1.0986122886681098, 'heard': 1.0986122886681098, 'stroke': 1.0986122886681098, 'continuingin': 2.1972245773362196, 'dropped': 1.0986122886681098, 'council': 3.295836866004329, 'rays': 1.0986122886681098, 'theauthority': 1.0986122886681098, 'till': 1.0986122886681098, 'sovereignty,': 1.0986122886681098, 'africa,': 0.4054651081081644, 'undertook': 1.0986122886681098, 'tohim': 1.0986122886681098, 'may': 0.0, 'merelycontinuing': 1.0986122886681098, 'fortune,': 1.0986122886681098, 'mankind': 0.4054651081081644, 'succeeded': 1.0986122886681098, 'so': 0.0, 'thesentiments': 1.0986122886681098, 'no,': 3.295836866004329, 'no.': 1.2163953243244932, 'indeed': 0.8109302162163288, 'no!': 1.2163953243244932, 'years': 0.0, 'policy,': 0.4054651081081644, 'policy.': 2.1972245773362196, 'still': 1.2163953243244932, 'himto': 1.0986122886681098, 'standalone.come': 1.0986122886681098, 'police': 1.0986122886681098, 'thank': 0.0, 'how': 0.8109302162163288, 'torn': 0.4054651081081644, 'representativesof': 1.0986122886681098, 'policy': 6.591673732008658, 'wholeinternational': 1.0986122886681098, 'wasthe': 1.0986122886681098, 'decades': 0.4054651081081644, 'illat': 1.0986122886681098, 'motion,': 1.0986122886681098, 'nation': 0.0, 'year,': 1.0986122886681098, 'compelled': 1.0986122886681098, '1950': 1.0986122886681098, 'not': 0.0, 'regionsthroughout': 1.0986122886681098, 'killed': 1.0986122886681098, 'execute': 2.1972245773362196, 'establishing': 1.0986122886681098, 'politically,': 1.0986122886681098, 'academy,standing': 1.0986122886681098, '1948,no.': 1.0986122886681098, 'indi,': 1.0986122886681098, 'ofdecolonisation': 1.0986122886681098, 'thanin': 1.0986122886681098, 'arecarrying': 1.0986122886681098, 'positiveand': 1.0986122886681098, '\"indonesia': 1.0986122886681098, 'jogjakarta,': 1.0986122886681098, 'ultimately': 1.0986122886681098, 'jogjakarta.': 1.0986122886681098, 'jogjakartaregion': 1.0986122886681098, 'briefly,': 1.0986122886681098, 'nowthey': 1.0986122886681098, 'struggle.last': 1.0986122886681098, 'washington,': 1.0986122886681098, 'emerged': 1.0986122886681098, 'dutch': 34.056980948711406, 'correct': 1.0986122886681098, 'onlyby': 1.0986122886681098, 'earlier': 1.0986122886681098, 'million': 0.8109302162163288, 'fire.': 1.0986122886681098, 'crazier': 1.0986122886681098, 'deception': 1.0986122886681098, 'you?\"': 1.0986122886681098, 'thechiefs': 1.0986122886681098, 'colonialism.and': 0.4054651081081644, 'turn': 0.8109302162163288, 'place': 0.4054651081081644, 'view': 1.0986122886681098, 'think': 1.2163953243244932, 'first': 0.0, 'sukarno,': 1.0986122886681098, 'sukarno.': 1.0986122886681098, 'thatstate,': 1.0986122886681098, 'but,': 0.4054651081081644, 'authority.but,': 1.0986122886681098, 'coming!general': 1.0986122886681098, 'carry': 0.4054651081081644, 'sounds': 1.0986122886681098, 'city': 2.1972245773362196, 'given': 0.0, 'caught': 1.0986122886681098, 'imam': 2.1972245773362196, 'white': 9.887510598012987, 'national': 0.0, 'on,': 7.690286020676768, 'that': 0.0, 'representing': 1.0986122886681098, 'than': 1.2163953243244932, ':': 3.295836866004329, '15': 1.0986122886681098, '16': 2.1972245773362196, '19': 1.0986122886681098, 'was': 0.0, 'diplomatic': 1.0986122886681098, 'theend': 2.1972245773362196, 'protected': 1.0986122886681098, 'launching': 1.0986122886681098, 'were': 4.054651081081644, 'extinguish': 1.0986122886681098, 'outcome': 3.295836866004329, 'morewest': 1.0986122886681098, 'stateof': 1.0986122886681098, 'and': 0.0, 'turned': 1.0986122886681098, 'argument': 2.1972245773362196, 'say': 2.027325540540822, 'rained': 3.295836866004329, 'any': 3.243720864865315, 'irian.[14]no!': 1.0986122886681098, 'take': 0.4054651081081644, 'destroy': 1.0986122886681098, 'all': 0.0, 'knew': 0.4054651081081644, 'knee': 1.0986122886681098, 'hanjokrokusumo,': 1.0986122886681098, 'alone;': 1.0986122886681098, 'later': 1.0986122886681098, 'alone!': 1.0986122886681098, 'netherlandsplaced': 1.0986122886681098, \"that's\": 1.0986122886681098, 'alone.': 1.0986122886681098, 'command?': 2.1972245773362196, 'proclamation': 0.4054651081081644, 'try,': 1.0986122886681098, 'only': 6.892906837838795, 'going': 1.2163953243244932, 'papua.': 1.0986122886681098, 'get': 0.8109302162163288, 'tobring': 1.0986122886681098, 'cannot': 1.2163953243244932, 'colonisation\".our': 1.0986122886681098, 'is': 0.0, 'commandto': 1.0986122886681098, 'bypartitioning': 1.0986122886681098, 'friends,': 10.986122886681098, 'friends.': 1.0986122886681098, 'defeatthe': 1.0986122886681098, 'where': 0.8109302162163288, 'beings.': 1.0986122886681098, 'indonesianflag': 1.0986122886681098, 'thearmy': 1.0986122886681098, 'alreadygiven': 1.0986122886681098, 'members,meaning': 1.0986122886681098, 'come,': 1.0986122886681098, 'representatives': 1.2163953243244932, 'behind': 0.4054651081081644, 'between': 0.8109302162163288, 'ofmy': 1.0986122886681098, 'theright': 1.0986122886681098, 'august': 4.394449154672439, 'moscow,': 1.0986122886681098, 'come': 0.0, 'doing?': 1.0986122886681098, 'mine!and': 1.0986122886681098, 'bebothered': 1.0986122886681098, 'saidrepeatedly,': 1.0986122886681098, 'moon,': 1.0986122886681098, 'itdown': 1.0986122886681098, 'region': 2.1972245773362196, 'fighters,': 1.0986122886681098, 'according': 1.0986122886681098, 'outthe': 1.0986122886681098, 'expression': 1.0986122886681098, 'comes': 0.4054651081081644, 'duty': 1.2163953243244932, 'yearssince': 1.0986122886681098, 'period': 0.4054651081081644, 'land.3.': 1.0986122886681098, 'authority.but': 1.0986122886681098, 'firmly.': 1.0986122886681098, 'abrogated,': 1.0986122886681098, 'west': 54.93061443340549, '\"unconditional\".': 1.0986122886681098, 'almighty': 3.295836866004329, 'in[5]the': 1.0986122886681098, 'peoples,': 0.4054651081081644, 'everyword': 1.0986122886681098, 'wants': 1.0986122886681098, 'direction': 1.0986122886681098, 'imperialism.friends,': 1.0986122886681098, 'minister': 1.0986122886681098, 'spirit': 0.0, 'those': 2.4327906486489863, 'these': 1.6218604324326575, 'ready,': 1.0986122886681098, 'fighters.': 1.0986122886681098, 'indanesia': 1.0986122886681098, 'eventually': 0.4054651081081644, 'indonesianpeople.the': 1.0986122886681098, 'it,': 0.4054651081081644, 'commander': 4.394449154672439, 'sudden': 1.0986122886681098, 'wentdeeper,': 2.1972245773362196, 'commanded': 1.0986122886681098, \"didn'twant\": 1.0986122886681098, 'reminded': 1.0986122886681098, 'same': 0.0, 'gentlemen': 1.0986122886681098, 'batavia.': 1.0986122886681098, 'movement,': 1.0986122886681098, 'been:': 1.0986122886681098, 'vis-a-vis': 2.1972245773362196, 'havesaid': 1.0986122886681098, 'lunsproposal.friends,': 1.0986122886681098, 'the.territory': 1.0986122886681098, 'papua\"!': 2.1972245773362196, 'indonesia.as': 1.0986122886681098, 'arose': 1.0986122886681098, 'conference,': 1.2163953243244932, '1948,': 1.0986122886681098, 'papua\",': 5.493061443340549, 'papua\".': 1.0986122886681098, '21stjuly,': 1.0986122886681098, 'indonesia,the': 1.0986122886681098, 'endto,': 1.0986122886681098, 'without': 0.4054651081081644, 'revolution,': 0.8109302162163288, 'officers,': 1.0986122886681098, 'actions': 0.8109302162163288, 'death': 0.4054651081081644, 'and,when': 1.0986122886681098, 'republic': 0.0, 'struck': 2.1972245773362196, 'heavier': 1.0986122886681098, 'kingdom': 1.0986122886681098, 'read': 1.0986122886681098, 'action.': 0.4054651081081644, 'youliberate': 1.0986122886681098, 'generalmobilisation': 1.0986122886681098, 'world': 0.0, \"action'\": 1.0986122886681098, 'imperialismis': 1.0986122886681098, 'always': 0.0, 'tooka': 1.0986122886681098, 'warfare.': 1.0986122886681098, 'verbal': 1.0986122886681098, 'doll': 1.0986122886681098, 'respect': 1.0986122886681098, 'london,': 1.0986122886681098, 'peace,': 0.4054651081081644, 'independence,we': 2.1972245773362196, 'confirm': 3.295836866004329, 'colonial': 1.0986122886681098, 'exact,the': 1.0986122886681098, 'power': 0.4054651081081644, 'tjik': 1.0986122886681098, 'on': 0.0, 'staff,': 1.0986122886681098, 'oh': 2.1972245773362196, \"sukarno's\": 1.0986122886681098, 'of': 0.0, 'stand': 1.2163953243244932, 'free,': 0.8109302162163288, '\"self-determination\".and': 1.0986122886681098, 'out,': 5.493061443340549, 'or': 0.0, 'thesepeople': 1.0986122886681098, 'whole,': 1.0986122886681098, 'godwilling,': 1.0986122886681098, 'occasionshas': 1.0986122886681098, 'evengreater': 1.0986122886681098, 'your': 0.0, 'hanjokrokusumo': 1.0986122886681098, 'there': 5.676511513514301, 'r.t.c.,': 1.0986122886681098, 'madder': 1.0986122886681098, 'thehonoured': 1.0986122886681098, 'oftiandradimuka': 1.0986122886681098, 'you.': 1.0986122886681098, 'you,': 2.027325540540822, 'state,that': 1.0986122886681098, 'them.the': 1.0986122886681098, 'land,': 0.8109302162163288, 'djakarta': 1.0986122886681098, 'land.': 1.0986122886681098, 'thepeople': 2.1972245773362196, 'agree': 1.0986122886681098, 'gone': 1.0986122886681098, 'certain': 1.0986122886681098, 'am': 0.0, 'an': 0.0, 'as': 0.0, 'words,': 2.1972245773362196, 'at': 9.731162594595945, 'calledthe': 1.0986122886681098, 'uponcontinuing': 1.0986122886681098, 'again': 0.4054651081081644, 'beencolonising': 1.0986122886681098, 'economically.': 1.0986122886681098, 'roses': 1.0986122886681098, 'economically,': 1.0986122886681098, 'you': 0.0, 'oh,': 4.394449154672439, 'move,': 2.1972245773362196, 'decolonisation!': 1.0986122886681098, 'is:': 1.0986122886681098, 'students': 1.0986122886681098, 'decolonisation.': 1.0986122886681098, 'nederlands': 1.0986122886681098, 'included': 1.0986122886681098, 'building': 0.4054651081081644, 'invest': 2.1972245773362196, 'sounded': 1.0986122886681098, 'calla': 1.0986122886681098, 'god': 0.0, 'finally,': 1.0986122886681098, 'resolution': 1.0986122886681098, 'miltary': 1.0986122886681098, 'called\"the': 1.0986122886681098, 'mouthpieceof': 1.0986122886681098, 'colonising.': 1.0986122886681098, '1949,': 4.394449154672439, 'day,': 1.0986122886681098, 'including': 2.1972245773362196, 'to': 0.0, 'authority.and': 1.0986122886681098, 'decision.': 1.0986122886681098, 'ofthe': 2.1972245773362196, 'very': 0.8109302162163288, 'responsibility,': 0.4054651081081644, '17th': 5.493061443340549, 'clearly.': 1.0986122886681098, 'cornelis': 1.0986122886681098, 'toexecute': 1.0986122886681098, 'further': 1.0986122886681098, 'lying,': 1.0986122886681098, 'what': 0.0, 'defence': 2.1972245773362196, 'him:': 1.0986122886681098, 'represent.friends:as': 1.0986122886681098, 'dutch,': 2.1972245773362196, 'dutch.': 2.1972245773362196, 'afriendly': 1.0986122886681098, 'full': 1.2163953243244932, 'thedutch,': 1.0986122886681098, 'nations?the': 1.0986122886681098, 'resolvedthat': 1.0986122886681098, 'strong': 1.0986122886681098, 'themselvesready': 1.0986122886681098, 'than2,000': 1.0986122886681098, 'thedutch': 3.295836866004329, 'attitude.': 1.0986122886681098, 'and[4]white': 1.0986122886681098, 'lied': 2.1972245773362196, 'action': 2.8382557567571505, 'sukarnodies.': 1.0986122886681098, 'followed': 1.0986122886681098, 'suddenly': 0.4054651081081644, 'africa': 0.4054651081081644, 'ask': 6.591673732008658, 'netherlands.': 1.0986122886681098, 'establish': 1.0986122886681098, 'two': 0.4054651081081644, 'taken': 4.394449154672439, 'more': 2.8382557567571505, 'self-determination.this': 1.0986122886681098, 'flag': 12.084735175349207, 'controlling': 0.4054651081081644, 'known': 0.8109302162163288, 'guardour': 1.0986122886681098, 'town': 1.0986122886681098, 'statesince': 1.0986122886681098, 'presidentof': 1.0986122886681098, 'ourselvesagain.i': 1.0986122886681098, 'ourfighters': 1.0986122886681098, 'me!': 1.0986122886681098, 'therepublic': 2.1972245773362196, 'vanmook,': 1.0986122886681098, 'accept': 0.4054651081081644, 'archipelago': 2.1972245773362196, 'indies.': 1.0986122886681098, 'huge': 1.0986122886681098, 'canfence': 1.0986122886681098, 'talks,': 2.1972245773362196, 'tried': 5.493061443340549, \"dutchdon't\": 1.0986122886681098, 'fancy,': 1.0986122886681098, 'state.': 0.0, 'state,': 6.591673732008658, 'pleaded': 1.0986122886681098, 'proclaimed': 1.0986122886681098, 'a': 0.0, 'short': 2.1972245773362196, '[sic]': 1.0986122886681098, 'act.': 2.1972245773362196, 'listen!my': 1.0986122886681098, 'playing': 1.0986122886681098, 'fly.friends:as': 1.0986122886681098, \"congress.let's\": 1.0986122886681098, 'army,': 1.0986122886681098, 'help': 2.1972245773362196, \"don't\": 2.1972245773362196, 'heartfelt': 1.0986122886681098, 'soon': 1.0986122886681098, 'beinternationalised.': 1.0986122886681098, 'embassy': 1.0986122886681098, 'through': 1.2163953243244932, 'militarily,': 1.0986122886681098, 'its': 0.0, 'militaryacademy': 1.0986122886681098, '1961.it': 1.0986122886681098, 'already.': 0.4054651081081644, 'course,': 0.4054651081081644, 'flag.and': 1.0986122886681098, 'it.': 1.0986122886681098, 'thenetherlands': 1.0986122886681098, 'movement.i': 1.0986122886681098, 'good': 0.4054651081081644, 'whosaid:': 1.0986122886681098, 'representatives.': 1.0986122886681098, 'representatives,': 1.0986122886681098, 'association': 2.1972245773362196, 'youknow': 1.0986122886681098, 'all.': 1.0986122886681098, 'all,': 2.1972245773362196, 'bless': 0.4054651081081644, 'also,': 1.0986122886681098, 'referred': 2.1972245773362196, 'anthem\",': 1.0986122886681098, 'andthat': 1.0986122886681098, 'resolute': 1.0986122886681098, 'momentwe': 1.0986122886681098, 'namely,': 1.0986122886681098, 'text-ed.)that': 1.0986122886681098, 'since': 1.2163953243244932, 'anthem\".': 2.1972245773362196, 'responsible,': 1.0986122886681098, 'reason': 0.4054651081081644, 'thespirit': 1.0986122886681098, 'imagine': 1.0986122886681098, 'backed': 0.4054651081081644, 'asi': 1.0986122886681098, 'colonised': 1.0986122886681098, 'beginning': 0.4054651081081644, 'in1596,': 1.0986122886681098, 'demands;': 1.0986122886681098, 'people.and': 1.0986122886681098, 'ofindonesia': 4.394449154672439, 'waged': 1.0986122886681098, 'isnot': 2.1972245773362196, 'wickedness.': 1.0986122886681098, 'conference.': 0.4054651081081644, 'subandrio': 4.394449154672439, 'together': 0.0, 'passed': 1.0986122886681098, 'bowed': 1.0986122886681098, 'first,': 3.295836866004329, 'bringingwest': 1.0986122886681098, 'cemetery.': 1.0986122886681098, 'part': 1.2163953243244932, 'grew': 2.1972245773362196, 'theyfly': 1.0986122886681098, 'instruction': 2.1972245773362196, 'youth': 3.295836866004329, 'states': 0.0, 'people.you': 1.0986122886681098, 'irian.later.': 1.0986122886681098, 'well': 0.0, 'tricks,dishonesty.and': 1.0986122886681098, 'organisations': 1.0986122886681098, 'wasno': 1.0986122886681098, 'now,defeat': 1.0986122886681098, 'accompaniedme': 1.0986122886681098, 'lie': 0.4054651081081644, 'again.i': 1.0986122886681098, 'itfrom': 1.0986122886681098, 'officers': 3.295836866004329, 'also': 0.0, 'build': 0.4054651081081644, 'understand,': 1.0986122886681098, 'order,': 1.0986122886681098, 'towards': 0.0, 'thisbefore': 1.0986122886681098, 'most': 0.0, 'republic.friends,': 1.0986122886681098, 'nothing': 1.0986122886681098, 'extremely': 1.0986122886681098, 'territoryunder': 2.1972245773362196, 'clear': 0.4054651081081644, 'dissolved': 1.0986122886681098, 'internationalised.': 1.0986122886681098, 'liberate': 4.394449154672439, 'night.': 1.0986122886681098, 'session': 1.0986122886681098, 'nations,': 0.4054651081081644, 'nations.': 1.2163953243244932, 'bondjol.': 1.0986122886681098, 'independencefrom': 1.0986122886681098, 'fencingwith': 1.0986122886681098, 'islands.that': 1.0986122886681098, 'imperialists,': 1.0986122886681098, 'us.it': 1.0986122886681098, 'onwards.': 1.0986122886681098, 'diplomats,': 1.0986122886681098, 'his': 0.0, 'express': 0.8109302162163288, 'tongues.i': 1.0986122886681098, 'him': 2.1972245773362196, 'common': 0.0, 'way.this': 1.0986122886681098, 'set': 5.493061443340549, '1947.': 1.0986122886681098, 'see': 4.394449154672439, 'are': 0.0, 'me,for': 1.0986122886681098, 'won': 0.4054651081081644, 'years,': 4.394449154672439, 'here13': 1.0986122886681098, 'up,strengthening': 1.0986122886681098, 'self-determinationpolicy': 1.0986122886681098, 'compliment': 1.0986122886681098, 'attention': 0.8109302162163288, 'yourduties': 1.0986122886681098, 'semaki': 1.0986122886681098, 'betweensabang': 1.0986122886681098, 'indonesiais': 1.0986122886681098, 'opposition': 1.0986122886681098, 'ever.what': 1.0986122886681098, 'last': 0.8109302162163288, 'sultan': 3.295836866004329, 'finished.': 1.0986122886681098, 'counteroffensives.': 1.0986122886681098, 'union,': 1.0986122886681098, 'foreign': 0.0, 'became': 1.0986122886681098, 'context': 1.0986122886681098, 'whole': 0.0, 'point': 0.4054651081081644, 'sweet': 0.4054651081081644, 'uniforms': 1.0986122886681098, 'simply': 1.0986122886681098, '1950.': 1.0986122886681098, '1950,': 1.0986122886681098, 'ofteuku': 1.0986122886681098, 'there,': 5.493061443340549, 'there.': 1.0986122886681098, 'create': 1.0986122886681098, 'political': 0.8109302162163288, 'nowrespected': 1.0986122886681098, 'territory': 4.865581297297973, 'meeting': 0.8109302162163288, '\"state': 5.493061443340549, 'politically.they': 1.0986122886681098, 'anindependent': 1.0986122886681098, 'success.': 1.0986122886681098, 'fire': 5.493061443340549, 'beforehand': 1.0986122886681098, 'else': 0.8109302162163288, 'representative': 0.4054651081081644, 'utmost': 0.4054651081081644, 'look': 0.4054651081081644, 'althoughfor': 1.0986122886681098, 'socialist': 9.887510598012987, 'while': 1.0986122886681098, 'smart': 2.1972245773362196, 'real': 1.0986122886681098, 'unitary': 2.1972245773362196, 'imperialist': 2.1972245773362196, 'imperialism': 0.4054651081081644, 'ready': 3.295836866004329, 'seekhaki': 1.0986122886681098, 'torecognise': 1.0986122886681098, 'flag!': 1.0986122886681098, 'clear,': 1.0986122886681098, 'flag.': 3.295836866004329, 'government': 0.0, 'attitude[9]even': 1.0986122886681098, 'tothe': 1.0986122886681098, 'virtually': 1.0986122886681098, 'here.': 1.0986122886681098, 'mook.': 1.0986122886681098, 'ofindonesia.': 3.295836866004329, 'mankind.': 0.4054651081081644, 'moment': 0.0, 'returnedto': 1.0986122886681098, 'people,': 0.0, 'ditiro.': 1.0986122886681098, 'fuss.': 1.0986122886681098, 'starved': 1.0986122886681098, 'people:': 1.0986122886681098, '1948.and': 1.0986122886681098, 'indonesia,': 0.0, 'ambassador': 1.0986122886681098, 'indonesia.': 0.0, 'union.and': 1.0986122886681098, 'indonesia?': 1.0986122886681098, 'indonesia:': 1.0986122886681098, 'groups.': 1.0986122886681098, 'speeches,and': 1.0986122886681098, 'onenational': 1.0986122886681098, 'speedily': 1.0986122886681098, 'papua\"!what': 1.0986122886681098, 'weretricked,': 1.0986122886681098, 'honouredred': 1.0986122886681098, '...': 1.0986122886681098, 'indonesian': 0.0, 'march': 0.8109302162163288, 'vindicate': 2.1972245773362196, 'dishonest,': 1.0986122886681098, 'speculating,oh': 1.0986122886681098, 'peasants,': 1.0986122886681098, 'confront': 5.493061443340549, 'onward!and,': 1.0986122886681098, 'some': 2.027325540540822, 'understood': 1.0986122886681098, 'experienced': 0.4054651081081644, 'mighty': 2.1972245773362196, 'women,': 1.0986122886681098, 'magelang.': 1.0986122886681098, 'magelang,': 1.0986122886681098, 'though': 1.0986122886681098, 'uponus': 1.0986122886681098, 'women.in': 1.0986122886681098, 'therefore,dr.': 1.0986122886681098, 'imperialism.let': 1.0986122886681098, 'nationsmembers': 1.0986122886681098, 'continuing': 3.6491859729734797, 'houtman': 1.0986122886681098, 'by': 0.0, 'therepublic,': 2.1972245773362196, 'letus': 1.0986122886681098, 'imperialism,': 0.8109302162163288, 'imperialism.': 1.0986122886681098, 'papua': 2.1972245773362196, 'into': 3.6491859729734797, 'within': 1.2163953243244932, 'nonsense': 1.0986122886681098, 'appropriate': 1.0986122886681098, 'militarily': 1.0986122886681098, 'striven': 1.0986122886681098, 'question': 1.6218604324326575, 'long': 0.0, 'occupy': 1.0986122886681098, 'forces.': 1.0986122886681098, 'forces,': 0.4054651081081644, 'repeatedly': 1.0986122886681098, 'partitioning': 1.0986122886681098, 'up': 5.676511513514301, 'us': 0.0, '27thdecember': 1.0986122886681098, 'un': 5.493061443340549, 'diponegoro': 1.0986122886681098, \"fire's\": 1.0986122886681098, 'called': 2.4327906486489863, 'side.': 1.0986122886681098, 'suropati.': 1.0986122886681098, 'nationalist': 1.0986122886681098, 'internationalisation,': 1.0986122886681098, 'strangle-hold': 2.1972245773362196, 'second,': 1.0986122886681098, 'diplomacy,': 0.8109302162163288, 'confrontation.confrontation': 1.0986122886681098, 'side?': 1.0986122886681098, 'themselves.': 0.8109302162163288, 'suffer,': 1.0986122886681098, 'nice': 1.0986122886681098, 'the[8]un,': 1.0986122886681098, 'prepared': 0.4054651081081644, 'helping': 1.0986122886681098, 'ago': 0.8109302162163288, 'aboutdecolonisation,': 1.0986122886681098, 'land': 1.0986122886681098, 'humiliated': 1.0986122886681098, 'djelantik.': 1.0986122886681098, 'having': 1.0986122886681098, 'once': 2.027325540540822, 'outcolonisation.': 1.0986122886681098, 'resistance': 1.0986122886681098, 'overthere': 1.0986122886681098, 'ambassadors,': 1.0986122886681098, 'go': 0.4054651081081644, 'do?what': 1.0986122886681098, 'graves': 1.0986122886681098, 'young': 4.394449154672439, 'justdiplomats,': 1.0986122886681098, 'pleasing': 1.0986122886681098, 'friendly': 0.4054651081081644, 'result?': 1.0986122886681098, 'cemeteries': 1.0986122886681098, 'putting': 3.295836866004329, 'accuse': 1.0986122886681098, 'more,': 0.8109302162163288, 'more.': 0.4054651081081644, 'colonising.and,': 1.0986122886681098, 'entire': 2.8382557567571505, 'irianinto': 1.0986122886681098, '1945,': 0.4054651081081644, 'bantenbay.': 1.0986122886681098, 'desire,': 1.0986122886681098, 'that,': 0.4054651081081644, 'giving': 0.4054651081081644, 'anthem': 1.0986122886681098, '19th': 4.394449154672439, 'independence.': 0.8109302162163288, 'pleading': 1.0986122886681098, 'independence,': 1.2163953243244932, 'ktut': 1.0986122886681098, 'crazier.': 1.0986122886681098, 'peopledo': 1.0986122886681098, 'let': 2.027325540540822, 'hasbeen': 1.0986122886681098, 'great': 0.0, 'theircountry': 1.0986122886681098, \"coen's\": 1.0986122886681098, 'us:': 1.0986122886681098, 'formerly': 1.0986122886681098, 'defeat': 7.690286020676768, 'makes': 1.0986122886681098, 'composed': 1.0986122886681098, 'claim': 1.0986122886681098, 'forhundreds': 1.0986122886681098, 'onlycontinuing': 1.0986122886681098, 'standing': 0.4054651081081644, 'use': 1.0986122886681098, 'from': 0.0, 'talks,not': 1.0986122886681098, 'ministers': 0.4054651081081644, 'mobilisation': 3.295836866004329, 'themselves': 0.8109302162163288, 'inthe': 3.295836866004329, 'there.they': 1.0986122886681098, 'ofconfrontation': 1.0986122886681098, 'merauke': 1.0986122886681098, 'started': 1.0986122886681098, 'sectors,i': 1.0986122886681098, 'carrying': 0.0, 'president,': 0.4054651081081644, 'therepublic.our': 1.0986122886681098, 'women': 1.0986122886681098, 'isindonesia': 1.0986122886681098, 'redand': 1.0986122886681098, 'this': 0.0, 'us.': 1.2163953243244932, '1945.': 1.0986122886681098, 'us,': 1.2163953243244932, 'anywhere': 1.0986122886681098, 'dissolve': 1.0986122886681098, 'hundredsof': 1.0986122886681098, 'movementspread': 1.0986122886681098, 'hadagreed': 1.0986122886681098, 'notsucceeded': 1.0986122886681098, 'high': 0.4054651081081644, 'something': 0.4054651081081644, 'theindonesia-dutch': 1.0986122886681098, 'native': 4.394449154672439, 'united': 5.676511513514301, 'sit': 1.0986122886681098, 'perfumeof': 1.0986122886681098, 'establishment': 2.1972245773362196, 'de': 2.1972245773362196, 'imperialism.as': 1.0986122886681098, 'act': 0.4054651081081644, 'bothered': 2.1972245773362196, 'chiefs': 1.0986122886681098, 'urges': 1.0986122886681098, 'sabang': 2.1972245773362196, 'myinstructions.and': 1.0986122886681098, 'struggle.': 0.4054651081081644, 'struggle,': 0.8109302162163288, 'move': 0.8109302162163288, 'strongnation.': 1.0986122886681098, \"won't\": 1.0986122886681098, 'bymachine-gun': 1.0986122886681098, 'nowadays,': 1.0986122886681098, 'subversive': 1.0986122886681098, 'foreignminister': 1.0986122886681098, 'firmlyestablished,': 1.0986122886681098, 'willing': 0.4054651081081644, 'spiritentirely,': 1.0986122886681098, 'world,': 0.0, 'happened,': 1.0986122886681098, 'greater': 1.2163953243244932, 'chaotic,': 1.0986122886681098, 'look,': 2.1972245773362196, 'strove,to': 1.0986122886681098, 'emphasised': 1.0986122886681098, 'front': 1.0986122886681098, 'day': 0.4054651081081644, 'kilometres': 1.0986122886681098, 'negotiate.': 1.0986122886681098, 'negotiate,': 1.0986122886681098, 'accompanied': 1.0986122886681098, '(the': 1.0986122886681098, 'atrap.internationalisation': 1.0986122886681098, 'cairo,': 1.0986122886681098, 'thirteen': 1.0986122886681098, 'ambassadors': 2.1972245773362196, 'out': 0.0, 'respects': 1.0986122886681098, 'confrontation.': 1.0986122886681098, 'defend': 2.1972245773362196, 'officersof': 1.0986122886681098, 'mere': 1.0986122886681098, 'time,': 3.295836866004329, 'indonesia,'irrevocable\"': 1.0986122886681098, 'red': 4.054651081081644, 'completely': 0.8109302162163288, 'york': 2.1972245773362196, 'djokountung': 1.0986122886681098, 'formof': 1.0986122886681098, 'ourthanks': 1.0986122886681098, 'indonesia?i': 1.0986122886681098, 'could': 0.0, 'times': 3.295836866004329, 'comeswithin': 1.0986122886681098, 'main\",': 1.0986122886681098, 'dutchimperialism.': 1.0986122886681098, 'speaking.': 1.0986122886681098, 'puppet': 5.493061443340549, 'short,': 2.1972245773362196, 'uniting': 1.0986122886681098, 'their': 0.0, 'attack': 1.0986122886681098, 'ownstate.': 1.0986122886681098, 'theorder': 1.0986122886681098, 'exactly': 1.0986122886681098, 'bythe': 1.0986122886681098, 'july': 2.1972245773362196, 'wiser.': 1.0986122886681098, 'loved': 1.0986122886681098, 'proud.': 1.0986122886681098, 'warfare': 2.1972245773362196, '1947,': 3.295836866004329, 'said:\"here': 1.0986122886681098, 'have': 0.0, 'clearly': 1.0986122886681098, 'viewed': 1.0986122886681098, 'skillful': 1.0986122886681098, 'able': 0.0, 'chief': 3.295836866004329, 'battles': 1.0986122886681098, 'which': 0.0, 'pursues': 2.1972245773362196, 'centre': 1.0986122886681098, 'who': 0.0, 'revolution.and': 1.0986122886681098, 'why': 0.8109302162163288, 'so-called': 0.8109302162163288, 'andtoday,': 1.0986122886681098, 'underwenta': 1.0986122886681098, 'face': 0.0, 'talk': 3.295836866004329, 'repeatedly,': 1.0986122886681098, 'fact': 3.243720864865315, 'text': 2.1972245773362196, 'mean?': 1.0986122886681098, 'one,': 0.8109302162163288, 'one.': 1.0986122886681098, 'bring': 8.788898309344878, 'luck,': 1.0986122886681098, 'gift,we': 1.0986122886681098, 'staff': 1.0986122886681098, 'based': 0.0, 'decoionisation,': 1.0986122886681098, 'with': 0.0, 'should': 2.4327906486489863, 'jan': 1.0986122886681098, 'he': 3.6491859729734797, 'thousands': 0.4054651081081644, 'hope': 0.4054651081081644, 'pangerandiponegoro.': 1.0986122886681098, 'meant': 1.0986122886681098, 'means': 1.2163953243244932, 'ministers,': 2.1972245773362196, 'wereno': 1.0986122886681098, 'bear': 0.0, '\"yes,': 1.0986122886681098, 'theterritory': 1.0986122886681098, 'words': 0.4054651081081644, 'inthis': 1.0986122886681098, 'self-determination.but': 1.0986122886681098, 'deceived': 0.4054651081081644, 'conform': 1.0986122886681098, 'existence,': 1.0986122886681098, 'exerted': 1.0986122886681098, 'weretherefore': 1.0986122886681098, 'end,': 1.0986122886681098, 'middle,': 1.0986122886681098, 'state': 0.0, 'command,': 2.1972245773362196, 'command.': 2.1972245773362196, 'imperialism.friends:yes,': 1.0986122886681098, 'asunder': 1.0986122886681098, 'beenin': 1.0986122886681098, 'admit': 1.0986122886681098, 'frustrate,': 1.0986122886681098, 'whoalways': 1.0986122886681098, 'colonisation': 1.0986122886681098, 'thehague': 1.0986122886681098, 'andwhite': 1.0986122886681098, 'before.at': 1.0986122886681098, 'table': 8.788898309344878, 'august,': 1.0986122886681098, 'nations.as': 1.0986122886681098, 'indonesian;sovereignty.': 1.0986122886681098, 'conferencethat': 1.0986122886681098, 'amthe': 1.0986122886681098, 'dutchsaid:': 1.0986122886681098, 'proposal': 3.295836866004329, 'ifanyone': 1.0986122886681098, 'self-determination.': 1.0986122886681098, 'self-determination,': 1.0986122886681098, 'both': 0.4054651081081644, '27thdecember,': 1.0986122886681098, 'ours': 1.0986122886681098, 'general': 0.0, 'present': 0.0, 'it.and': 1.0986122886681098, 'militaryacademy,': 1.0986122886681098, 'world.': 0.4054651081081644, 'will': 0.0, 'forces.and': 1.0986122886681098, 'onlyone': 2.1972245773362196, 'bringthe': 1.0986122886681098, 'inmexico-city,': 1.0986122886681098, 'establishinga': 1.0986122886681098, 'almost': 0.4054651081081644, 'rome.': 1.0986122886681098, 'helped': 2.1972245773362196, 'dutchhave': 1.0986122886681098, 'union.': 1.0986122886681098, 'welater': 1.0986122886681098, 'began': 0.8109302162163288, 'member': 1.0986122886681098, \"pa'dimara\": 1.0986122886681098, 'unity': 0.0, 'succeed.indeed,': 1.0986122886681098, 'of:': 1.0986122886681098, 'oneof': 1.0986122886681098, 'practice': 0.4054651081081644, 'upon': 0.0, 'upindependence,': 1.0986122886681098, 'yes,they': 1.0986122886681098, 'december1948.but,': 1.0986122886681098, 'firerained': 1.0986122886681098, 'i': 0.0, 'indonesia': 0.0, 'part,': 1.0986122886681098, 'diplomacy,would': 1.0986122886681098, 'command': 5.676511513514301, 'lovesindependence.': 1.0986122886681098, 'strong.and': 1.0986122886681098, 'republic?': 1.0986122886681098, 'heavily': 1.0986122886681098, 'claiming': 1.0986122886681098, 'republic,': 1.0986122886681098, 'republic.': 3.295836866004329, 'jogjakarta,i': 1.0986122886681098, 'now': 0.0, 'large-scale': 1.0986122886681098, 'discuss': 0.4054651081081644, 'arrest': 1.0986122886681098, 'attractive': 1.0986122886681098, 'practise': 0.4054651081081644, 'match': 1.0986122886681098, 'came,': 0.4054651081081644, 'know': 3.243720864865315, 'moment,': 2.1972245773362196, 'like': 0.0, 'inviting': 1.0986122886681098, 'we,': 1.2163953243244932, 'allyou': 1.0986122886681098, 'become': 0.0, 'actions,': 1.0986122886681098, \"hero's\": 2.1972245773362196, 'because': 0.8109302162163288, 'treadon': 1.0986122886681098, 'indonesiasukarnogreat': 1.0986122886681098, 'authority': 9.887510598012987, 'tempered': 1.0986122886681098, 'repre-[12]sentatives': 1.0986122886681098, 'proper': 1.0986122886681098, 'recognition': 1.0986122886681098, '\"what': 1.0986122886681098, 'before.': 2.1972245773362196, 'and[6]merauke.': 1.0986122886681098, 'results.': 1.0986122886681098, 'chains': 1.0986122886681098, 'leader': 1.0986122886681098, '?': 2.1972245773362196, 'now,': 14.281959752685427, 'complete.the': 1.0986122886681098, 'isyour': 1.0986122886681098, 'theregion': 1.0986122886681098, 'frontof': 1.0986122886681098, 'although': 4.394449154672439, 'tempering': 1.0986122886681098, 'turned,set': 1.0986122886681098, 'about': 1.6218604324326575, 'carried': 2.1972245773362196, 'december,': 3.295836866004329, 'recognized': 1.0986122886681098, 'nationthat': 1.0986122886681098, 'independence.jogjakarta,': 1.0986122886681098, 'liberating': 1.0986122886681098, 'ties,': 1.0986122886681098, 'luns': 4.394449154672439, 'own': 0.0, 'willrespect': 1.0986122886681098, 'struggleand': 1.0986122886681098, 'guard': 1.0986122886681098, 'promise': 1.0986122886681098, 'times.': 1.0986122886681098, 'raya\".and': 1.0986122886681098, 'van': 2.1972245773362196, 'friends': 2.1972245773362196, 'spread': 1.6218604324326575, 'recognised': 0.8109302162163288, 'introducingthere': 1.0986122886681098, 'but': 0.0, 'neutral': 1.0986122886681098, 'anation': 1.0986122886681098, 'they,': 1.0986122886681098, 'made': 2.4327906486489863, 'chained': 1.0986122886681098, 'reasonagreed': 1.0986122886681098, 'this,': 1.0986122886681098, 'signed': 1.0986122886681098, 'this.': 4.394449154672439, 'victorieswere': 1.0986122886681098, 'supreme': 4.394449154672439, 'begun': 2.1972245773362196, 'recognize': 1.0986122886681098, 'nowadorn': 1.0986122886681098, 'year': 0.8109302162163288, 'arms.': 1.0986122886681098, 'our': 0.0, 'thepasundan': 1.0986122886681098, 'indonesia.and,': 1.0986122886681098, '46': 1.0986122886681098, 'fencing': 1.0986122886681098, 'offensive': 1.0986122886681098, 'other': 1.2163953243244932, 'moment,the': 1.0986122886681098, 'indeed.': 1.0986122886681098, 'indeed,': 2.1972245773362196, 'iscalled': 1.0986122886681098, 'inestablishing': 1.0986122886681098, 'yes,': 3.6491859729734797, 'flag\".[11]we': 1.0986122886681098, 'thisrepublic': 1.0986122886681098, 'indonesia-dutch': 3.295836866004329, 'helpedus,': 1.0986122886681098, 'confrontation,': 1.0986122886681098, 'reason.': 1.0986122886681098}, {'all': 0.0, 'global': 1.0986122886681098, 'ocean,': 0.4054651081081644, 'captain': 1.0986122886681098, 'devoted': 1.0986122886681098, 'citizens,the': 1.0986122886681098, 'to': 0.0, 'under': 0.0, 'sovereignty': 0.4054651081081644, 'friendly': 0.8109302162163288, 'citizens,on': 1.0986122886681098, 'oceans': 0.4054651081081644, 'lead,': 2.1972245773362196, 'every': 0.0, 'asia,': 0.0, 'governments': 2.1972245773362196, 'entire': 0.4054651081081644, 'excellency': 5.493061443340549, 'shoulder-to-shoulder': 1.0986122886681098, 'try': 1.0986122886681098, 'recall': 0.4054651081081644, 'spiritual': 0.4054651081081644, 'brave': 1.0986122886681098, 'me,': 0.0, 'seas,': 1.0986122886681098, 'past': 0.4054651081081644, 'hawkers,': 1.0986122886681098, 'what': 0.0, 'assistance': 2.1972245773362196, 'expressed': 1.0986122886681098, 'fishermen,': 1.0986122886681098, 'dr.': 2.027325540540822, 'public': 0.4054651081081644, 'supporting': 0.4054651081081644, 'led': 1.0986122886681098, 'never': 0.4054651081081644, \"nation's\": 0.4054651081081644, 'active': 0.4054651081081644, 'great': 0.0, 'life,': 0.4054651081081644, 'buddhaya': 1.0986122886681098, 'trials,': 1.0986122886681098, 'usom': 1.0986122886681098, 'social': 0.8109302162163288, 'haz,': 1.0986122886681098, 'sutrisno,': 1.0986122886681098, 'tasks': 1.0986122886681098, 'myself,': 1.0986122886681098, 'constitution.i': 1.0986122886681098, 'armed': 0.4054651081081644, 'from': 0.0, 'would': 0.0, 'next': 1.0986122886681098, 'call': 0.0, 'therefore': 0.4054651081081644, 'achieving': 1.0986122886681098, 'hard,': 2.1972245773362196, 'on': 0.0, 'assalamualaikum': 1.0986122886681098, 'gentlemen,': 0.4054651081081644, 'carrying': 0.0, 'president,': 0.8109302162163288, 'behalf': 1.6218604324326575, 'must': 0.0, 'this': 0.0, 'yudhoyono': 1.0986122886681098, 'work': 12.084735175349207, '9th': 1.0986122886681098, 'following': 0.4054651081081644, 'my': 0.0, 'heart': 0.0, 'give': 0.0, 'stressing': 1.0986122886681098, 'states': 0.0, 'teachers,': 1.0986122886681098, 'want': 0.8109302162163288, 'respective': 1.0986122886681098, '!!!': 1.0986122886681098, 'bung': 1.0986122886681098, 'segregation.': 1.0986122886681098, 'sworn': 1.0986122886681098, 'speech,': 1.0986122886681098, 'dignified': 1.0986122886681098, 'economy': 1.0986122886681098, 'assistance.': 1.0986122886681098, 'assistance,': 1.0986122886681098, 'may': 0.0, 'state.': 0.0, 'maritime': 1.0986122886681098, 'waves': 1.0986122886681098, 'president': 0.0, 'derives': 1.0986122886681098, 'civilization.': 3.295836866004329, 'a': 0.0, '6th': 2.1972245773362196, 'so': 0.0, 'allow': 1.0986122886681098, 'democratic': 1.0986122886681098, 'order': 1.2163953243244932, 'hand.': 1.0986122886681098, 'move': 0.4054651081081644, 'years': 0.0, 'policy,': 0.4054651081081644, 'unite': 1.0986122886681098, 'its': 0.0, 'thank': 0.0, 'habibie,': 1.0986122886681098, 'willing': 0.4054651081081644, 'world,': 0.0, 'culture.i': 1.0986122886681098, 'largest': 2.1972245773362196, 'wabarakatuhgod': 1.0986122886681098, 'nation': 0.0, 'mandate': 1.0986122886681098, 'not': 0.0, 'now': 0.0, 'realize': 1.0986122886681098, 'possess': 1.0986122886681098, 'always': 0.0, 'sailor': 1.0986122886681098, 'namo': 1.0986122886681098, 'bless': 0.4054651081081644, 'consultative': 1.0986122886681098, 'lasting': 2.1972245773362196, 'everyone': 1.0986122886681098, 'populated': 1.0986122886681098, 'hard': 1.2163953243244932, 'countrymen': 1.0986122886681098, 'our': 0.0, 'special': 0.8109302162163288, 'out': 0.0, '3rd': 2.1972245773362196, 'god': 0.0, 'honorable': 1.0986122886681098, 'police,': 1.0986122886681098, 'members': 1.0986122886681098, 'advance': 1.0986122886681098, '(mpr),your': 1.0986122886681098, 'could': 0.0, 'moment': 0.0, 'businessmen': 1.0986122886681098, 'entrusted': 1.0986122886681098, 'respect,': 1.0986122886681098, 'first': 0.0, 'soekarnoputri,': 1.0986122886681098, 'feel': 0.4054651081081644, 'powerful': 1.0986122886681098, 'number': 1.0986122886681098, 'echo': 0.4054651081081644, 'muhammad': 1.0986122886681098, 'done': 0.4054651081081644, 'carry': 0.4054651081081644, 'impossible': 1.0986122886681098, 'interest,': 1.0986122886681098, 'given': 0.0, 'power,': 1.0986122886681098, '5th': 1.0986122886681098, 'their': 0.0, 'nation.': 0.0, 'hamzah': 1.0986122886681098, 'that': 0.0, 'citizens,': 1.0986122886681098, 'appreciation': 0.8109302162163288, 'believe': 1.0986122886681098, 'convinced': 1.0986122886681098, 'guests,fellow': 1.0986122886681098, 'nations': 0.0, 'people,': 0.0, 'future': 0.4054651081081644, 'historical': 1.2163953243244932, 'oath': 1.0986122886681098, 'and': 0.0, 'service.': 1.0986122886681098, 'needs': 1.0986122886681098, 'swastiastu,': 1.0986122886681098, 'have': 0.0, 'invite': 1.0986122886681098, 'trapped': 1.0986122886681098, 'able': 0.0, 'jalesveva': 1.0986122886681098, 'also': 0.0, 'mr.': 2.1972245773362196, 'chairman': 1.0986122886681098, 'which': 0.0, 'circles': 1.0986122886681098, 'towards': 0.0, 'boediono,': 1.0986122886681098, 'shall': 0.0, 'who': 0.0, 'karno': 1.0986122886681098, 'most': 0.0, 'shantinammo': 1.0986122886681098, 'prosperity,': 1.0986122886681098, 'sturdy': 1.0986122886681098, 'stronger': 1.0986122886681098, 'face': 0.0, 'professional': 1.0986122886681098, 'jusuf': 1.0986122886681098, 'nobility': 1.0986122886681098, 'yudhoyono,': 1.0986122886681098, 'disunity': 1.0986122886681098, 'south-east': 1.0986122886681098, 'based': 0.0, 'implementation': 2.1972245773362196, 'storms': 1.0986122886681098, 'achieve': 1.0986122886681098, 'characterization': 1.0986122886681098, 'do': 0.0, 'his': 0.0, 'express': 0.4054651081081644, 'bear': 0.0, 'truly': 0.4054651081081644, 'nation.the': 1.0986122886681098, 'bambang': 2.1972245773362196, 'drivers,': 1.0986122886681098, 'freedom,': 0.8109302162163288, 'common': 0.0, 'kalla': 1.0986122886681098, 'traders,': 1.0986122886681098, 'national': 0.0, 'reiterate': 1.0986122886681098, 'officials': 1.0986122886681098, 'are': 0.0, 'sea': 0.4054651081081644, '11th': 1.0986122886681098, 'sail': 2.1972245773362196, 'meatballs': 1.0986122886681098, 'hard.the': 1.0986122886681098, 'state': 0.0, 'we': 0.0, 'venture': 1.0986122886681098, 'powers.': 1.0986122886681098, 'unity,': 1.0986122886681098, 'politics,': 1.0986122886681098, 'sea,': 0.4054651081081644, 'motto': 0.4054651081081644, 'come': 0.0, 'protect': 0.4054651081081644, 'justice.in': 1.0986122886681098, 'country': 0.0, 'foreign': 0.0, 'assure': 0.4054651081081644, 'whole': 0.0, 'among': 0.4054651081081644, 'conclude': 1.0986122886681098, 'throughout': 1.0986122886681098, 'gratitude': 1.0986122886681098, 'been': 0.0, 'susilo': 2.1972245773362196, 'peaceful': 1.0986122886681098, 'firm': 1.0986122886681098, 'general': 0.0, 'prosperous': 1.0986122886681098, 'an': 0.0, 'prof.': 5.493061443340549, 'spirit': 0.0, 'present': 0.0, 'utmost': 0.4054651081081644, 'opportunity,': 1.0986122886681098, 'will': 0.0, 'shanti': 2.1972245773362196, 'is': 0.0, 'strait': 1.0986122886681098, 'it': 0.0, 'straits': 0.4054651081081644, 'in': 0.0, 'if': 0.0, 'develop': 0.8109302162163288, 'solely': 1.0986122886681098, 'government': 0.0, 'same': 0.0, 'unity': 0.0, 'peoples': 0.4054651081081644, 'prerequisite': 1.0986122886681098, 'status': 1.0986122886681098, 'independent': 0.0, 'farmers,': 1.0986122886681098, 'gentlemen,we': 1.0986122886681098, 'upon': 0.0, 'guests,': 1.0986122886681098, 'predecessors': 1.0986122886681098, 'task': 0.4054651081081644, 'i': 0.0, 'indonesia': 0.0, 'well': 0.0, 'ocean': 1.0986122886681098, 'dares': 1.0986122886681098, 'the': 0.0, 'justice.my': 1.0986122886681098, 'indonesia,': 0.0, 'indonesia.': 0.0, 'just': 0.0, 'oceans,': 1.0986122886681098, 'countries,distinguished': 1.0986122886681098, 'efforts.': 1.0986122886681098, 'boediono': 1.0986122886681098, 'constitution.': 1.0986122886681098, 'aspect.': 1.0986122886681098, 'work,': 2.1972245773362196, 'work.': 1.0986122886681098, 'jayamahe,': 1.0986122886681098, 'peninsulas': 1.0986122886681098, 'board': 1.0986122886681098, 'homeland': 1.0986122886681098, 'citizen': 1.0986122886681098, 'republic': 0.0, 'has': 0.0, 'momentum': 1.0986122886681098, 'build': 0.8109302162163288, 'indonesian': 0.0, 'academicians,': 1.0986122886681098, 'big': 2.027325540540822, 'historic': 0.4054651081081644, 'world': 0.0, 'work.ladies': 1.0986122886681098, 'indonesias': 2.1972245773362196, 'dignity': 1.0986122886681098, 'like': 0.0, 'collective': 0.4054651081081644, 'country,': 1.6218604324326575, 'bhudayamerdeka': 1.0986122886681098, 'continue': 1.0986122886681098, 'either': 1.0986122886681098, 'archipelagic': 1.0986122886681098, 'become': 0.0, 'people': 0.0, 'absolutely': 1.0986122886681098, 'indonesia,your': 2.1972245773362196, 'envoys': 0.8109302162163288, 'years.distinguished': 1.0986122886681098, 'convey': 1.0986122886681098, 'unless': 0.4054651081081644, 'meaning,': 1.0986122886681098, 'neglecting': 1.0986122886681098, 'ourselves': 0.4054651081081644, 'lead': 1.0986122886681098, 'creative': 1.0986122886681098, 'regain': 2.1972245773362196, 'be': 0.0, 'assembly': 1.0986122886681098, 'bj': 1.0986122886681098, 'tidal': 2.1972245773362196, 'us.om': 1.0986122886681098, 'by': 0.0, 'faith': 0.4054651081081644, 'waves.as': 1.0986122886681098, 'of': 0.0, 'citizens': 1.0986122886681098, 'madame': 1.0986122886681098, 'blessings': 1.0986122886681098, 'stand': 0.4054651081081644, 'or': 0.0, 'muslims': 1.0986122886681098, 'ladies': 1.0986122886681098, 'own': 0.0, 'wassalamualaikum': 1.0986122886681098, 'presence': 0.4054651081081644, 'commitment': 1.0986122886681098, 'intellectual': 0.4054651081081644, 'your': 0.0, 'long': 0.0, 'forces,': 0.4054651081081644, 'was': 0.0, 'head': 2.1972245773362196, 'addition,': 1.0986122886681098, 'but': 0.0, 'highest': 0.4054651081081644, 'with': 0.0, 'functions.': 1.0986122886681098, 'wabarakatuh,peace': 1.0986122886681098, 'vice': 6.591673732008658, 'us': 0.0, 'bearing': 1.0986122886681098, 'contribute': 1.2163953243244932, 'am': 0.0, 'deep': 0.4054651081081644, 'fellow': 1.2163953243244932, 'as': 0.0, 'ship': 1.0986122886681098, 'mutual': 4.394449154672439, 'peace': 0.8109302162163288, 'warahmatullahi': 2.1972245773362196, '5': 0.8109302162163288, 'inglorious': 1.0986122886681098, 'you': 0.0, 'self-reliance': 1.0986122886681098, 'again.': 0.4054651081081644, 'countries.i': 1.0986122886681098, 'esteem.': 1.0986122886681098, 'important': 0.4054651081081644, 'for': 0.0, 'sail.': 1.0986122886681098, 'megawati': 1.0986122886681098, 'laborers,': 1.0986122886681098, 'together': 0.0, 'institutions': 2.1972245773362196, 'time': 0.0, 'peninsula.now': 1.0986122886681098}]"
      ]
     },
     "execution_count": 15,
     "metadata": {},
     "output_type": "execute_result"
    }
   ],
   "source": [
    "sf['tfidf'] = gl.text_analytics.tf_idf(sf['bow'])\n",
    "sf['tfidf']"
   ]
  },
  {
   "cell_type": "markdown",
   "metadata": {},
   "source": [
    "## Text cleaning"
   ]
  },
  {
   "cell_type": "markdown",
   "metadata": {},
   "source": [
    "* remove all words do not occur at least twice in each document using"
   ]
  },
  {
   "cell_type": "code",
   "execution_count": 16,
   "metadata": {
    "collapsed": false
   },
   "outputs": [],
   "source": [
    "docs = sf['bow'].dict_trim_by_values(2)"
   ]
  },
  {
   "cell_type": "markdown",
   "metadata": {},
   "source": [
    "* GraphLab Create also contains a helper function called stopwords that returns a list of common words.\n",
    "We can use SArray.docs.dict_trim_by_keys to remove these words from the documents as a preprocessing step.\n",
    "NB: Currently only English words are available."
   ]
  },
  {
   "cell_type": "code",
   "execution_count": 17,
   "metadata": {
    "collapsed": true
   },
   "outputs": [],
   "source": [
    "docs = docs.dict_trim_by_keys(gl.text_analytics.stopwords(), exclude=True)"
   ]
  },
  {
   "cell_type": "code",
   "execution_count": 18,
   "metadata": {
    "collapsed": false
   },
   "outputs": [
    {
     "data": {
      "text/plain": [
       "{'\"live': 4,\n",
       " '-': 29,\n",
       " '/': 6,\n",
       " '21/09/2015': 6,\n",
       " '8': 7,\n",
       " 'achieved': 2,\n",
       " 'act': 4,\n",
       " 'affairs': 3,\n",
       " 'africa': 13,\n",
       " 'africa,': 3,\n",
       " 'african': 6,\n",
       " 'ago': 5,\n",
       " 'ago,': 2,\n",
       " 'aims': 2,\n",
       " 'alien': 2,\n",
       " 'allowed': 2,\n",
       " 'and,': 2,\n",
       " 'answer': 2,\n",
       " 'anti-colonial': 2,\n",
       " 'appreciation': 2,\n",
       " 'asia': 21,\n",
       " 'asian': 10,\n",
       " 'asian-african': 7,\n",
       " 'assembled': 2,\n",
       " 'attained': 2,\n",
       " 'battle': 3,\n",
       " 'bear': 3,\n",
       " 'beg': 3,\n",
       " 'behalf': 2,\n",
       " 'beliefs,': 3,\n",
       " 'bid': 2,\n",
       " 'birthplaces': 2,\n",
       " 'bitter': 2,\n",
       " 'blessing': 2,\n",
       " 'bombs,': 2,\n",
       " 'bonds': 4,\n",
       " 'brothers,': 6,\n",
       " 'called': 4,\n",
       " 'cannot,': 2,\n",
       " 'causes,': 2,\n",
       " 'changing': 2,\n",
       " 'children': 2,\n",
       " 'classic': 2,\n",
       " 'clear': 3,\n",
       " 'code': 2,\n",
       " 'colonialism': 8,\n",
       " 'colonialism.': 2,\n",
       " 'comfort': 3,\n",
       " 'common': 9,\n",
       " 'completely': 3,\n",
       " 'concern': 2,\n",
       " 'conference': 22,\n",
       " 'conference,': 3,\n",
       " 'conflict': 2,\n",
       " 'content': 3,\n",
       " 'continents': 5,\n",
       " 'continents.': 3,\n",
       " 'control': 4,\n",
       " 'control,': 2,\n",
       " 'countries': 11,\n",
       " 'countries.': 2,\n",
       " 'country': 5,\n",
       " 'courage': 3,\n",
       " 'cultural': 2,\n",
       " 'danger': 2,\n",
       " 'day': 2,\n",
       " 'days': 2,\n",
       " 'death': 2,\n",
       " 'delegates': 3,\n",
       " 'detestation': 2,\n",
       " 'different.': 3,\n",
       " 'disinterested': 5,\n",
       " 'distant': 2,\n",
       " 'distinguished': 2,\n",
       " 'diversity': 4,\n",
       " 'divided': 2,\n",
       " 'do?': 2,\n",
       " 'driven': 2,\n",
       " 'duties': 2,\n",
       " 'east': 2,\n",
       " 'echo': 3,\n",
       " 'economic': 4,\n",
       " 'eighty': 2,\n",
       " 'end': 3,\n",
       " 'ensure': 2,\n",
       " 'ethical': 2,\n",
       " 'evidence': 2,\n",
       " 'evil': 2,\n",
       " 'experience': 2,\n",
       " 'extended': 2,\n",
       " 'fact': 3,\n",
       " 'faiths': 2,\n",
       " 'fear': 7,\n",
       " 'fear,': 2,\n",
       " 'fear.': 3,\n",
       " 'feel': 2,\n",
       " 'fight': 2,\n",
       " 'fighting': 3,\n",
       " 'filled': 2,\n",
       " 'followers': 2,\n",
       " 'force': 2,\n",
       " 'forces': 4,\n",
       " 'foreign': 4,\n",
       " 'form': 3,\n",
       " 'found': 2,\n",
       " 'free': 4,\n",
       " 'free,': 3,\n",
       " 'fresh': 2,\n",
       " 'full': 3,\n",
       " 'future': 2,\n",
       " 'gathered': 6,\n",
       " 'generations': 2,\n",
       " 'generations.': 2,\n",
       " 'give': 10,\n",
       " 'god': 4,\n",
       " 'god,': 2,\n",
       " 'government': 2,\n",
       " 'great': 12,\n",
       " 'greater': 3,\n",
       " 'guests': 2,\n",
       " 'guided': 4,\n",
       " 'half': 3,\n",
       " 'hall': 4,\n",
       " 'heavy': 3,\n",
       " 'held': 2,\n",
       " 'here,': 2,\n",
       " 'highest': 4,\n",
       " 'historic': 2,\n",
       " 'history': 5,\n",
       " 'history.': 2,\n",
       " 'honour': 3,\n",
       " 'hope': 7,\n",
       " 'human': 4,\n",
       " 'hundred': 3,\n",
       " 'ideals': 2,\n",
       " 'ideas,': 2,\n",
       " 'immense': 2,\n",
       " 'important': 2,\n",
       " 'impress': 2,\n",
       " 'independence': 10,\n",
       " 'independence,': 5,\n",
       " 'independence.': 2,\n",
       " 'independent': 2,\n",
       " 'individual': 2,\n",
       " 'indonesia': 5,\n",
       " 'indonesia,': 3,\n",
       " 'intellectual': 3,\n",
       " 'interests': 2,\n",
       " 'it,': 3,\n",
       " 'itself.': 2,\n",
       " 'large': 2,\n",
       " 'leaders': 5,\n",
       " 'learned': 6,\n",
       " 'liberation': 2,\n",
       " 'life': 5,\n",
       " 'life,': 2,\n",
       " 'light': 5,\n",
       " 'listened.': 2,\n",
       " 'live': 3,\n",
       " 'live\"': 3,\n",
       " 'long': 9,\n",
       " 'longer': 2,\n",
       " 'made': 7,\n",
       " 'make': 5,\n",
       " 'man': 11,\n",
       " \"man's\": 2,\n",
       " 'mankind': 5,\n",
       " 'material': 4,\n",
       " 'matter': 2,\n",
       " 'matters': 2,\n",
       " 'meaning': 2,\n",
       " 'means': 2,\n",
       " 'meet': 3,\n",
       " 'meeting': 3,\n",
       " 'men': 4,\n",
       " 'message': 2,\n",
       " 'midnight': 2,\n",
       " 'miles': 2,\n",
       " 'mind': 2,\n",
       " 'ministers': 4,\n",
       " 'mobilise': 2,\n",
       " 'moment': 3,\n",
       " 'moral': 3,\n",
       " 'morality': 2,\n",
       " 'more,': 2,\n",
       " 'motto': 2,\n",
       " 'nation': 3,\n",
       " 'national': 5,\n",
       " 'nations': 15,\n",
       " 'nations,': 3,\n",
       " 'oceans': 2,\n",
       " 'one,': 2,\n",
       " 'oppose': 3,\n",
       " 'other,': 4,\n",
       " 'part': 10,\n",
       " 'parts': 7,\n",
       " 'past': 2,\n",
       " 'patterns.': 2,\n",
       " 'peace': 5,\n",
       " 'peace,': 2,\n",
       " 'peace.': 6,\n",
       " 'people': 5,\n",
       " 'people,': 2,\n",
       " 'peoples': 20,\n",
       " 'peoples.': 2,\n",
       " 'physical': 2,\n",
       " 'picture': 2,\n",
       " 'place': 3,\n",
       " 'places': 2,\n",
       " 'political': 7,\n",
       " 'poverty': 3,\n",
       " 'power': 3,\n",
       " 'pray': 3,\n",
       " 'press': 2,\n",
       " 'prime': 4,\n",
       " 'principle': 5,\n",
       " 'problems,': 3,\n",
       " 'proud': 2,\n",
       " 'purpose': 2,\n",
       " 'questions': 2,\n",
       " 'realise': 2,\n",
       " 'recall': 3,\n",
       " 'recently': 2,\n",
       " 'religion': 4,\n",
       " 'religions': 4,\n",
       " 'religious': 2,\n",
       " 'remember': 3,\n",
       " 'remember,': 2,\n",
       " 'representatives': 3,\n",
       " 'represented': 2,\n",
       " 'responsibilities': 3,\n",
       " 'result': 3,\n",
       " 'rights': 3,\n",
       " 'safety': 3,\n",
       " 'scientific': 2,\n",
       " 'sea': 2,\n",
       " 'seek': 2,\n",
       " 'seeks': 2,\n",
       " 'settled': 2,\n",
       " 'side': 2,\n",
       " 'sisters': 5,\n",
       " 'situation': 2,\n",
       " 'skill': 3,\n",
       " 'small': 3,\n",
       " 'solidarity': 2,\n",
       " 'solutions': 2,\n",
       " 'sovereign': 2,\n",
       " 'speak': 4,\n",
       " 'special': 2,\n",
       " 'spiritual': 2,\n",
       " 'spite': 2,\n",
       " 'sponsoring': 2,\n",
       " 'spread': 2,\n",
       " 'state': 2,\n",
       " 'states': 2,\n",
       " 'statesmen,': 2,\n",
       " 'stature': 2,\n",
       " 'strength': 6,\n",
       " 'struggle': 6,\n",
       " 'struggle.': 2,\n",
       " 'succeeds': 2,\n",
       " 'success': 2,\n",
       " 'success!': 2,\n",
       " 'successful': 3,\n",
       " 'support': 2,\n",
       " 'survey': 3,\n",
       " 'swept': 2,\n",
       " 'task': 2,\n",
       " 'technical': 2,\n",
       " 'that,': 3,\n",
       " 'then?': 2,\n",
       " 'thing': 2,\n",
       " 'things': 4,\n",
       " 'things,': 2,\n",
       " 'thoughts': 2,\n",
       " 'thousands': 2,\n",
       " 'threat': 2,\n",
       " 'today': 11,\n",
       " 'today.': 2,\n",
       " 'together,': 3,\n",
       " 'tolerant': 2,\n",
       " 'tribulations': 2,\n",
       " 'true': 2,\n",
       " 'unborn': 2,\n",
       " 'understand': 3,\n",
       " 'understanding': 7,\n",
       " 'unfree.': 2,\n",
       " 'united': 5,\n",
       " 'united,': 2,\n",
       " 'unity': 4,\n",
       " 'us,': 4,\n",
       " 'us.': 5,\n",
       " 'variety': 2,\n",
       " 'voice': 3,\n",
       " 'war': 5,\n",
       " 'ways': 2,\n",
       " 'we,': 2,\n",
       " 'well-being': 3,\n",
       " 'won': 2,\n",
       " 'words': 2,\n",
       " 'world': 17,\n",
       " 'world,': 4,\n",
       " 'world.': 6,\n",
       " 'world.yes,': 2,\n",
       " 'years': 7,\n",
       " 'yes,': 4,\n",
       " 'you,': 3}"
      ]
     },
     "execution_count": 18,
     "metadata": {},
     "output_type": "execute_result"
    }
   ],
   "source": [
    "docs[0]"
   ]
  },
  {
   "cell_type": "markdown",
   "metadata": {},
   "source": [
    "* the tokenizer transforms each row into an ordered list of strings that represents the a simpler version of the Penn-Tree-Bank-style (PTB-style) tokenization of that row's document. \n",
    "* The representation of a document provided by PTB-style of tokenization is essential for sequence-tagging, parsing, bag-of-words treatment, and any text analytics task that requires word-level granularity. For a description of this style of tokenization, see [tokenization example](https://www.cis.upenn.edu/~treebank/tokenization.html.)"
   ]
  },
  {
   "cell_type": "code",
   "execution_count": 19,
   "metadata": {
    "collapsed": false
   },
   "outputs": [
    {
     "data": {
      "text/html": [
       "<div style=\"max-height:1000px;max-width:1500px;overflow:auto;\"><table frame=\"box\" rules=\"cols\">\n",
       "    <tr>\n",
       "        <th style=\"padding-left: 1em; padding-right: 1em; text-align: center\">tokens</th>\n",
       "    </tr>\n",
       "    <tr>\n",
       "        <td style=\"padding-left: 1em; padding-right: 1em; text-align: center; vertical-align: top\">[Your,<br>Excellencies,Ladies,  ...</td>\n",
       "    </tr>\n",
       "    <tr>\n",
       "        <td style=\"padding-left: 1em; padding-right: 1em; text-align: center; vertical-align: top\">[As, was, said, by, the,<br>Sultan, just, now,, ...</td>\n",
       "    </tr>\n",
       "    <tr>\n",
       "        <td style=\"padding-left: 1em; padding-right: 1em; text-align: center; vertical-align: top\">[Assalamualaikum,<br>Warahmatullahi, ...</td>\n",
       "    </tr>\n",
       "</table>\n",
       "[3 rows x 1 columns]<br/>\n",
       "</div>"
      ],
      "text/plain": [
       "Columns:\n",
       "\ttokens\tlist\n",
       "\n",
       "Rows: 3\n",
       "\n",
       "Data:\n",
       "+-------------------------------+\n",
       "|             tokens            |\n",
       "+-------------------------------+\n",
       "| [Your, Excellencies,Ladies... |\n",
       "| [As, was, said, by, the, S... |\n",
       "| [Assalamualaikum, Warahmat... |\n",
       "+-------------------------------+\n",
       "[3 rows x 1 columns]"
      ]
     },
     "execution_count": 19,
     "metadata": {},
     "output_type": "execute_result"
    }
   ],
   "source": [
    "tokenized_speech = gl.SFrame()\n",
    "tokenized_speech['tokens'] = gl.text_analytics.tokenize(sf['speech'])\n",
    "tokenized_speech"
   ]
  },
  {
   "cell_type": "markdown",
   "metadata": {},
   "source": [
    "## Part of Speech Extraction"
   ]
  },
  {
   "cell_type": "markdown",
   "metadata": {},
   "source": [
    "* Highlight unique nouns in your text, identify adjectives with the high sentiment scores, or pull out nouns to generate candidate entities. \n",
    "The extract_parts_of_speech method parses the text in each element and extracts the words that are a given part of speech. \n",
    "For instance, to find all instances of adjectives:"
   ]
  },
  {
   "cell_type": "code",
   "execution_count": 20,
   "metadata": {
    "collapsed": false
   },
   "outputs": [
    {
     "data": {
      "text/html": [
       "<div style=\"max-height:1000px;max-width:1500px;overflow:auto;\"><table frame=\"box\" rules=\"cols\">\n",
       "    <tr>\n",
       "        <th style=\"padding-left: 1em; padding-right: 1em; text-align: center\">adjectives</th>\n",
       "    </tr>\n",
       "    <tr>\n",
       "        <td style=\"padding-left: 1em; padding-right: 1em; text-align: center; vertical-align: top\">{'ADJ': {'exclusive': 1,<br>'all': 7, 'manifold': 1, ...</td>\n",
       "    </tr>\n",
       "    <tr>\n",
       "        <td style=\"padding-left: 1em; padding-right: 1em; text-align: center; vertical-align: top\">{'ADJ': {'all': 4,<br>'true': 2, 'done?Oh': 1, ...</td>\n",
       "    </tr>\n",
       "    <tr>\n",
       "        <td style=\"padding-left: 1em; padding-right: 1em; text-align: center; vertical-align: top\">{'ADJ': {'spiritual': 1,<br>'own': 2, ...</td>\n",
       "    </tr>\n",
       "</table>\n",
       "[3 rows x 1 columns]<br/>\n",
       "</div>"
      ],
      "text/plain": [
       "Columns:\n",
       "\tadjectives\tdict\n",
       "\n",
       "Rows: 3\n",
       "\n",
       "Data:\n",
       "+-------------------------------+\n",
       "|           adjectives          |\n",
       "+-------------------------------+\n",
       "| {'ADJ': {'exclusive': 1, '... |\n",
       "| {'ADJ': {'all': 4, 'true':... |\n",
       "| {'ADJ': {'spiritual': 1, '... |\n",
       "+-------------------------------+\n",
       "[3 rows x 1 columns]"
      ]
     },
     "execution_count": 20,
     "metadata": {},
     "output_type": "execute_result"
    }
   ],
   "source": [
    "parts_of_speech = gl.SFrame()\n",
    "parts_of_speech['adjectives'] = gl.text_analytics.extract_parts_of_speech(sf['speech'],\n",
    "                                                  chosen_pos=[gl.text_analytics.PartOfSpeech.ADJ])\n",
    "parts_of_speech"
   ]
  },
  {
   "cell_type": "markdown",
   "metadata": {},
   "source": [
    "## Sentence Splitting"
   ]
  },
  {
   "cell_type": "markdown",
   "metadata": {},
   "source": [
    "* The sentence splitter splits by sentence and outputs a list of sentences. \n",
    "This aids in anlysis at the sentence level.\n",
    "For example, you may want a sentiment score for each sentence in a document.\n",
    "The following command accomplishes this for you:"
   ]
  },
  {
   "cell_type": "code",
   "execution_count": 21,
   "metadata": {
    "collapsed": false
   },
   "outputs": [
    {
     "data": {
      "text/html": [
       "<div style=\"max-height:1000px;max-width:1500px;overflow:auto;\"><table frame=\"box\" rules=\"cols\">\n",
       "    <tr>\n",
       "        <th style=\"padding-left: 1em; padding-right: 1em; text-align: center\">sent</th>\n",
       "    </tr>\n",
       "    <tr>\n",
       "        <td style=\"padding-left: 1em; padding-right: 1em; text-align: center; vertical-align: top\">[Your Excellencies,Ladies<br>and Gentlemen, Sisters ...</td>\n",
       "    </tr>\n",
       "    <tr>\n",
       "        <td style=\"padding-left: 1em; padding-right: 1em; text-align: center; vertical-align: top\">[As was said by the<br>Sultan just now, today, ...</td>\n",
       "    </tr>\n",
       "    <tr>\n",
       "        <td style=\"padding-left: 1em; padding-right: 1em; text-align: center; vertical-align: top\">[Assalamualaikum<br>Warahmatullahi ...</td>\n",
       "    </tr>\n",
       "</table>\n",
       "[3 rows x 1 columns]<br/>\n",
       "</div>"
      ],
      "text/plain": [
       "Columns:\n",
       "\tsent\tlist\n",
       "\n",
       "Rows: 3\n",
       "\n",
       "Data:\n",
       "+-------------------------------+\n",
       "|              sent             |\n",
       "+-------------------------------+\n",
       "| [Your Excellencies,Ladies ... |\n",
       "| [As was said by the Sultan... |\n",
       "| [Assalamualaikum Warahmatu... |\n",
       "+-------------------------------+\n",
       "[3 rows x 1 columns]"
      ]
     },
     "execution_count": 21,
     "metadata": {},
     "output_type": "execute_result"
    }
   ],
   "source": [
    "sentences = gl.SFrame()\n",
    "sentences['sent'] = gl.text_analytics.split_by_sentence(sf['speech'])\n",
    "sentences"
   ]
  },
  {
   "cell_type": "markdown",
   "metadata": {},
   "source": [
    "## Create a topic model"
   ]
  },
  {
   "cell_type": "code",
   "execution_count": 22,
   "metadata": {
    "collapsed": false
   },
   "outputs": [],
   "source": [
    "docs = gl.text_analytics.count_words(sf['speech'])\n",
    "docs = docs.dict_trim_by_keys(gl.text_analytics.stopwords(), exclude=True)"
   ]
  },
  {
   "cell_type": "markdown",
   "metadata": {},
   "source": [
    "* Learn topic model"
   ]
  },
  {
   "cell_type": "code",
   "execution_count": 23,
   "metadata": {
    "collapsed": false
   },
   "outputs": [
    {
     "data": {
      "text/html": [
       "<pre>Learning a topic model</pre>"
      ],
      "text/plain": [
       "Learning a topic model"
      ]
     },
     "metadata": {},
     "output_type": "display_data"
    },
    {
     "data": {
      "text/html": [
       "<pre>       Number of documents         3</pre>"
      ],
      "text/plain": [
       "       Number of documents         3"
      ]
     },
     "metadata": {},
     "output_type": "display_data"
    },
    {
     "data": {
      "text/html": [
       "<pre>           Vocabulary size      2674</pre>"
      ],
      "text/plain": [
       "           Vocabulary size      2674"
      ]
     },
     "metadata": {},
     "output_type": "display_data"
    },
    {
     "data": {
      "text/html": [
       "<pre>   Running collapsed Gibbs sampling</pre>"
      ],
      "text/plain": [
       "   Running collapsed Gibbs sampling"
      ]
     },
     "metadata": {},
     "output_type": "display_data"
    },
    {
     "data": {
      "text/html": [
       "<pre>+-----------+---------------+----------------+-----------------+</pre>"
      ],
      "text/plain": [
       "+-----------+---------------+----------------+-----------------+"
      ]
     },
     "metadata": {},
     "output_type": "display_data"
    },
    {
     "data": {
      "text/html": [
       "<pre>| Iteration | Elapsed Time  | Tokens/Second  | Est. Perplexity |</pre>"
      ],
      "text/plain": [
       "| Iteration | Elapsed Time  | Tokens/Second  | Est. Perplexity |"
      ]
     },
     "metadata": {},
     "output_type": "display_data"
    },
    {
     "data": {
      "text/html": [
       "<pre>+-----------+---------------+----------------+-----------------+</pre>"
      ],
      "text/plain": [
       "+-----------+---------------+----------------+-----------------+"
      ]
     },
     "metadata": {},
     "output_type": "display_data"
    },
    {
     "data": {
      "text/html": [
       "<pre>| 10        | 16.878ms      | 1.93446e+06    | 0               |</pre>"
      ],
      "text/plain": [
       "| 10        | 16.878ms      | 1.93446e+06    | 0               |"
      ]
     },
     "metadata": {},
     "output_type": "display_data"
    },
    {
     "data": {
      "text/html": [
       "<pre>+-----------+---------------+----------------+-----------------+</pre>"
      ],
      "text/plain": [
       "+-----------+---------------+----------------+-----------------+"
      ]
     },
     "metadata": {},
     "output_type": "display_data"
    }
   ],
   "source": [
    "model = gl.topic_model.create(docs)"
   ]
  },
  {
   "cell_type": "code",
   "execution_count": 24,
   "metadata": {
    "collapsed": false
   },
   "outputs": [
    {
     "name": "stdout",
     "output_type": "stream",
     "text": [
      "+-------+-----------+-----------------+\n",
      "| topic |    word   |      score      |\n",
      "+-------+-----------+-----------------+\n",
      "|   0   |  struggle | 0.0256988277728 |\n",
      "|   0   |    made   | 0.0196874060715 |\n",
      "|   0   |   asian   | 0.0151788397956 |\n",
      "|   0   |     8     | 0.0106702735197 |\n",
      "|   0   |  foreign  | 0.0106702735197 |\n",
      "|   1   |  republic | 0.0495191057967 |\n",
      "|   1   |  command  |  0.018325968287 |\n",
      "|   1   |   armed   | 0.0157265401612 |\n",
      "|   1   | president | 0.0157265401612 |\n",
      "|   1   |   nation  | 0.0144268260983 |\n",
      "+-------+-----------+-----------------+\n",
      "[50 rows x 3 columns]\n",
      "Note: Only the head of the SFrame is printed.\n",
      "You can use print_rows(num_rows=m, num_columns=n) to print more rows and columns.\n"
     ]
    }
   ],
   "source": [
    "print model.get_topics()"
   ]
  },
  {
   "cell_type": "code",
   "execution_count": 25,
   "metadata": {
    "collapsed": false
   },
   "outputs": [
    {
     "name": "stdout",
     "output_type": "stream",
     "text": [
      "+-------------------------------+\n",
      "|             words             |\n",
      "+-------------------------------+\n",
      "| [struggle, made, asian, 8,... |\n",
      "| [republic, command, presid... |\n",
      "| [-, indonesia,, peoples, a... |\n",
      "| [independence, hope, parts... |\n",
      "| [people, dutch, nations, i... |\n",
      "| [spirit, national, common,... |\n",
      "| [conference, world, africa... |\n",
      "| [west, irian, indonesian, ... |\n",
      "| [great, flag, colonialism,... |\n",
      "| [united, yes,, red, contin... |\n",
      "+-------------------------------+\n",
      "[10 rows x 1 columns]\n",
      "\n"
     ]
    }
   ],
   "source": [
    "print model.get_topics(output_type='topic_words')"
   ]
  },
  {
   "cell_type": "code",
   "execution_count": 26,
   "metadata": {
    "collapsed": false
   },
   "outputs": [
    {
     "data": {
      "text/plain": [
       "Class                          : TopicModel\n",
       "\n",
       "Schema\n",
       "------\n",
       "Vocabulary Size                : 2674\n",
       "\n",
       "Settings\n",
       "--------\n",
       "Number of Topics               : 10\n",
       "alpha                          : 5.0\n",
       "beta                           : 0.1\n",
       "Iterations                     : 10\n",
       "Training time                  : 1.0203\n",
       "Verbose                        : False\n",
       "\n",
       "Accessible fields             : \n",
       "m['topics']                   : An SFrame containing the topics.\n",
       "m['vocabulary']               : An SArray containing the words in the vocabulary.\n",
       "Useful methods                : \n",
       "m.get_topics()                : Get the most probable words per topic.\n",
       "m.predict(new_docs)           : Make predictions for new documents."
      ]
     },
     "execution_count": 26,
     "metadata": {},
     "output_type": "execute_result"
    }
   ],
   "source": [
    "model"
   ]
  },
  {
   "cell_type": "markdown",
   "metadata": {},
   "source": [
    "* To predict the topic of a given document, one can get an SArray of integers containing the most probable topic ids:\n"
   ]
  },
  {
   "cell_type": "code",
   "execution_count": 27,
   "metadata": {
    "collapsed": true
   },
   "outputs": [],
   "source": [
    "pred = model.predict(docs)"
   ]
  },
  {
   "cell_type": "markdown",
   "metadata": {},
   "source": [
    "* Combining the above method with standard SFrame capabilities, one can use predict to find documents related to a particular topic\n"
   ]
  },
  {
   "cell_type": "code",
   "execution_count": 28,
   "metadata": {
    "collapsed": true
   },
   "outputs": [],
   "source": [
    "docs_in_topic_0 = docs[model.predict(docs) == 0]"
   ]
  },
  {
   "cell_type": "code",
   "execution_count": 29,
   "metadata": {
    "collapsed": false
   },
   "outputs": [
    {
     "data": {
      "text/plain": [
       "dtype: array\n",
       "Rows: 3\n",
       "[array('d', [0.12631578947368421, 0.05308924485125858, 0.13135011441647598, 0.140045766590389, 0.08787185354691075, 0.08466819221967964, 0.15606407322654461, 0.0517162471395881, 0.12631578947368421, 0.042562929061784896]), array('d', [0.04678362573099415, 0.13032581453634084, 0.08897243107769423, 0.04218880534670008, 0.13909774436090225, 0.05889724310776942, 0.0948203842940685, 0.18671679197994986, 0.05639097744360902, 0.1558061821219716]), array('d', [0.05421686746987952, 0.20481927710843373, 0.09437751004016064, 0.03413654618473896, 0.1144578313253012, 0.21285140562248997, 0.07228915662650602, 0.11244979919678715, 0.07429718875502007, 0.02610441767068273])]"
      ]
     },
     "execution_count": 29,
     "metadata": {},
     "output_type": "execute_result"
    }
   ],
   "source": [
    "pred = model.predict(docs, output_type='probability')\n",
    "pred"
   ]
  },
  {
   "cell_type": "code",
   "execution_count": 30,
   "metadata": {
    "collapsed": false
   },
   "outputs": [
    {
     "data": {
      "text/plain": [
       "dtype: str\n",
       "Rows: 2674\n",
       "['!', 'speed', 'nations!bismillah', 'opened,', 'declare', 'million', 'president', 'africans', 'asians', 'majority.and', \"humanity's\", 'degradation,', 'liberation', 'solong', 'diminished', 'blessing', 'remember', 'future.', 'circumstances.let', 'flints', 'strike', 'deliberations', 'hard.', 'easy.', '\"to', 'sons:', 'attain', 'safeguarded', 'evidence', 'afternoon-tea', 'abroad:', 'lie', 'falsify', 'achieve.', 'worthwhile,', 'happen,', 'problems', \"other's\", 'understand', 'making', 'other.if', \"others'\", 'profit', 'roots.', 'experience,', 'neighbours.', 'confidence.', 'warm', 'unfriendly', 'born', 'looked', 'world.failure', 'presence', 'likelihood', 'pillar', 'welfare', 'effect', 'harmony,', 'way,in', 'hold', 'discussion,ways', 'friendly,', 'brings', 'diversity\"', 'nation.so,', 'motto', 'god,', 'toradjas,', 'bhinneka', 'madurese,', 'bataks,', 'achenese,', 'units,', 'ethnic', 'moreover,', 'christians,', 'wehave', 'acting', 'lives,', 'large', 'hardwon', 'bulwark', 'source', 'them,', 'fulfil', 'steps', 'purpose', 'debased,', 'central-sumatrans,', 'done,', 'goodwill', 'duty', 'doesits', 'together.sisters', 'everywhere,', 'consideration', 'toleranceand', 'message', 'desires', 'truths', ... ]"
      ]
     },
     "execution_count": 30,
     "metadata": {},
     "output_type": "execute_result"
    }
   ],
   "source": [
    "model['vocabulary']"
   ]
  },
  {
   "cell_type": "code",
   "execution_count": 31,
   "metadata": {
    "collapsed": false
   },
   "outputs": [
    {
     "data": {
      "text/html": [
       "<div style=\"max-height:1000px;max-width:1500px;overflow:auto;\"><table frame=\"box\" rules=\"cols\">\n",
       "    <tr>\n",
       "        <th style=\"padding-left: 1em; padding-right: 1em; text-align: center\">topic_probabilities</th>\n",
       "        <th style=\"padding-left: 1em; padding-right: 1em; text-align: center\">vocabulary</th>\n",
       "    </tr>\n",
       "    <tr>\n",
       "        <td style=\"padding-left: 1em; padding-right: 1em; text-align: center; vertical-align: top\">[0.000150285542531,<br>0.0014296854692, ...</td>\n",
       "        <td style=\"padding-left: 1em; padding-right: 1em; text-align: center; vertical-align: top\">!</td>\n",
       "    </tr>\n",
       "    <tr>\n",
       "        <td style=\"padding-left: 1em; padding-right: 1em; text-align: center; vertical-align: top\">[0.000150285542531,<br>0.000129971406291, ...</td>\n",
       "        <td style=\"padding-left: 1em; padding-right: 1em; text-align: center; vertical-align: top\">speed</td>\n",
       "    </tr>\n",
       "    <tr>\n",
       "        <td style=\"padding-left: 1em; padding-right: 1em; text-align: center; vertical-align: top\">[0.00165314096784,<br>0.000129971406291, ...</td>\n",
       "        <td style=\"padding-left: 1em; padding-right: 1em; text-align: center; vertical-align: top\">nations!bismillah</td>\n",
       "    </tr>\n",
       "    <tr>\n",
       "        <td style=\"padding-left: 1em; padding-right: 1em; text-align: center; vertical-align: top\">[0.000150285542531,<br>0.000129971406291, ...</td>\n",
       "        <td style=\"padding-left: 1em; padding-right: 1em; text-align: center; vertical-align: top\">opened,</td>\n",
       "    </tr>\n",
       "    <tr>\n",
       "        <td style=\"padding-left: 1em; padding-right: 1em; text-align: center; vertical-align: top\">[0.000150285542531,<br>0.000129971406291, ...</td>\n",
       "        <td style=\"padding-left: 1em; padding-right: 1em; text-align: center; vertical-align: top\">declare</td>\n",
       "    </tr>\n",
       "    <tr>\n",
       "        <td style=\"padding-left: 1em; padding-right: 1em; text-align: center; vertical-align: top\">[0.000150285542531,<br>0.000129971406291, ...</td>\n",
       "        <td style=\"padding-left: 1em; padding-right: 1em; text-align: center; vertical-align: top\">million</td>\n",
       "    </tr>\n",
       "    <tr>\n",
       "        <td style=\"padding-left: 1em; padding-right: 1em; text-align: center; vertical-align: top\">[0.000150285542531,<br>0.0157265401612, ...</td>\n",
       "        <td style=\"padding-left: 1em; padding-right: 1em; text-align: center; vertical-align: top\">president</td>\n",
       "    </tr>\n",
       "    <tr>\n",
       "        <td style=\"padding-left: 1em; padding-right: 1em; text-align: center; vertical-align: top\">[0.000150285542531,<br>0.000129971406291, ...</td>\n",
       "        <td style=\"padding-left: 1em; padding-right: 1em; text-align: center; vertical-align: top\">africans</td>\n",
       "    </tr>\n",
       "    <tr>\n",
       "        <td style=\"padding-left: 1em; padding-right: 1em; text-align: center; vertical-align: top\">[0.000150285542531,<br>0.000129971406291, ...</td>\n",
       "        <td style=\"padding-left: 1em; padding-right: 1em; text-align: center; vertical-align: top\">asians</td>\n",
       "    </tr>\n",
       "    <tr>\n",
       "        <td style=\"padding-left: 1em; padding-right: 1em; text-align: center; vertical-align: top\">[0.000150285542531,<br>0.000129971406291, ...</td>\n",
       "        <td style=\"padding-left: 1em; padding-right: 1em; text-align: center; vertical-align: top\">majority.and</td>\n",
       "    </tr>\n",
       "</table>\n",
       "[2674 rows x 2 columns]<br/>Note: Only the head of the SFrame is printed.<br/>You can use print_rows(num_rows=m, num_columns=n) to print more rows and columns.\n",
       "</div>"
      ],
      "text/plain": [
       "Columns:\n",
       "\ttopic_probabilities\tarray\n",
       "\tvocabulary\tstr\n",
       "\n",
       "Rows: 2674\n",
       "\n",
       "Data:\n",
       "+-------------------------------+-------------------+\n",
       "|      topic_probabilities      |     vocabulary    |\n",
       "+-------------------------------+-------------------+\n",
       "| [0.000150285542531, 0.0014... |         !         |\n",
       "| [0.000150285542531, 0.0001... |       speed       |\n",
       "| [0.00165314096784, 0.00012... | nations!bismillah |\n",
       "| [0.000150285542531, 0.0001... |      opened,      |\n",
       "| [0.000150285542531, 0.0001... |      declare      |\n",
       "| [0.000150285542531, 0.0001... |      million      |\n",
       "| [0.000150285542531, 0.0157... |     president     |\n",
       "| [0.000150285542531, 0.0001... |      africans     |\n",
       "| [0.000150285542531, 0.0001... |       asians      |\n",
       "| [0.000150285542531, 0.0001... |    majority.and   |\n",
       "+-------------------------------+-------------------+\n",
       "[2674 rows x 2 columns]\n",
       "Note: Only the head of the SFrame is printed.\n",
       "You can use print_rows(num_rows=m, num_columns=n) to print more rows and columns."
      ]
     },
     "execution_count": 31,
     "metadata": {},
     "output_type": "execute_result"
    }
   ],
   "source": [
    "model['topics']"
   ]
  },
  {
   "cell_type": "markdown",
   "metadata": {},
   "source": [
    "* save and load models"
   ]
  },
  {
   "cell_type": "code",
   "execution_count": 32,
   "metadata": {
    "collapsed": true
   },
   "outputs": [],
   "source": [
    "os.chdir(\"../text_analysis/data/\")"
   ]
  },
  {
   "cell_type": "code",
   "execution_count": 33,
   "metadata": {
    "collapsed": false
   },
   "outputs": [],
   "source": [
    "model.save('indonesian_speeches_model')\n",
    "sukarno_model = gl.load_model('indonesian_speeches_model')"
   ]
  },
  {
   "cell_type": "code",
   "execution_count": null,
   "metadata": {
    "collapsed": true
   },
   "outputs": [],
   "source": []
  }
 ],
 "metadata": {
  "anaconda-cloud": {},
  "kernelspec": {
   "display_name": "Python [gl-env]",
   "language": "python",
   "name": "Python [gl-env]"
  },
  "language_info": {
   "codemirror_mode": {
    "name": "ipython",
    "version": 2
   },
   "file_extension": ".py",
   "mimetype": "text/x-python",
   "name": "python",
   "nbconvert_exporter": "python",
   "pygments_lexer": "ipython2",
   "version": "2.7.12"
  }
 },
 "nbformat": 4,
 "nbformat_minor": 0
}
